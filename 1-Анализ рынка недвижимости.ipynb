{
 "cells": [
  {
   "cell_type": "markdown",
   "metadata": {},
   "source": [
    "# Исследование объявлений о продаже квартир\n",
    "\n",
    "В распоряжении данные сервиса Яндекс Недвижимость — архив объявлений о продаже квартир в Санкт-Петербурге и соседних населённых пунктах за несколько лет. Необходимо определять рыночную стоимость объектов недвижимости. Для этого необходимо провести исследовательский анализ данных и установите параметры, влияющие на цену объектов. Это позволит построить автоматизированную систему: она отследит аномалии и мошенническую деятельность. \n",
    "\n",
    "По каждой квартире на продажу доступны два вида данных. Первые вписаны пользователем, вторые — получены автоматически на основе картографических данных. Например, расстояние до центра, аэропорта и других объектов — эти данные автоматически получены из геосервисов. Количество парков и водоёмов также заполняется без участия пользователя."
   ]
  },
  {
   "cell_type": "markdown",
   "metadata": {},
   "source": [
    "### Изучение общей информации"
   ]
  },
  {
   "cell_type": "code",
   "execution_count": 1,
   "metadata": {
    "scrolled": false
   },
   "outputs": [],
   "source": [
    "import pandas as pd\n",
    "import matplotlib.pyplot as plt\n"
   ]
  },
  {
   "cell_type": "code",
   "execution_count": 2,
   "metadata": {},
   "outputs": [],
   "source": [
    "#Загрузка данных из файла в датафрейм.\n",
    "data = pd.read_csv('https://code.s3.yandex.net/datasets/real_estate_data.csv', sep='\\t')"
   ]
  },
  {
   "cell_type": "code",
   "execution_count": 3,
   "metadata": {},
   "outputs": [
    {
     "data": {
      "text/html": [
       "<div>\n",
       "<style scoped>\n",
       "    .dataframe tbody tr th:only-of-type {\n",
       "        vertical-align: middle;\n",
       "    }\n",
       "\n",
       "    .dataframe tbody tr th {\n",
       "        vertical-align: top;\n",
       "    }\n",
       "\n",
       "    .dataframe thead th {\n",
       "        text-align: right;\n",
       "    }\n",
       "</style>\n",
       "<table border=\"1\" class=\"dataframe\">\n",
       "  <thead>\n",
       "    <tr style=\"text-align: right;\">\n",
       "      <th></th>\n",
       "      <th>total_images</th>\n",
       "      <th>last_price</th>\n",
       "      <th>total_area</th>\n",
       "      <th>first_day_exposition</th>\n",
       "      <th>rooms</th>\n",
       "      <th>ceiling_height</th>\n",
       "      <th>floors_total</th>\n",
       "      <th>living_area</th>\n",
       "      <th>floor</th>\n",
       "      <th>is_apartment</th>\n",
       "      <th>...</th>\n",
       "      <th>kitchen_area</th>\n",
       "      <th>balcony</th>\n",
       "      <th>locality_name</th>\n",
       "      <th>airports_nearest</th>\n",
       "      <th>cityCenters_nearest</th>\n",
       "      <th>parks_around3000</th>\n",
       "      <th>parks_nearest</th>\n",
       "      <th>ponds_around3000</th>\n",
       "      <th>ponds_nearest</th>\n",
       "      <th>days_exposition</th>\n",
       "    </tr>\n",
       "  </thead>\n",
       "  <tbody>\n",
       "    <tr>\n",
       "      <th>0</th>\n",
       "      <td>20</td>\n",
       "      <td>13000000.0</td>\n",
       "      <td>108.0</td>\n",
       "      <td>2019-03-07T00:00:00</td>\n",
       "      <td>3</td>\n",
       "      <td>2.70</td>\n",
       "      <td>16.0</td>\n",
       "      <td>51.0</td>\n",
       "      <td>8</td>\n",
       "      <td>NaN</td>\n",
       "      <td>...</td>\n",
       "      <td>25.0</td>\n",
       "      <td>NaN</td>\n",
       "      <td>Санкт-Петербург</td>\n",
       "      <td>18863.0</td>\n",
       "      <td>16028.0</td>\n",
       "      <td>1.0</td>\n",
       "      <td>482.0</td>\n",
       "      <td>2.0</td>\n",
       "      <td>755.0</td>\n",
       "      <td>NaN</td>\n",
       "    </tr>\n",
       "    <tr>\n",
       "      <th>1</th>\n",
       "      <td>7</td>\n",
       "      <td>3350000.0</td>\n",
       "      <td>40.4</td>\n",
       "      <td>2018-12-04T00:00:00</td>\n",
       "      <td>1</td>\n",
       "      <td>NaN</td>\n",
       "      <td>11.0</td>\n",
       "      <td>18.6</td>\n",
       "      <td>1</td>\n",
       "      <td>NaN</td>\n",
       "      <td>...</td>\n",
       "      <td>11.0</td>\n",
       "      <td>2.0</td>\n",
       "      <td>посёлок Шушары</td>\n",
       "      <td>12817.0</td>\n",
       "      <td>18603.0</td>\n",
       "      <td>0.0</td>\n",
       "      <td>NaN</td>\n",
       "      <td>0.0</td>\n",
       "      <td>NaN</td>\n",
       "      <td>81.0</td>\n",
       "    </tr>\n",
       "    <tr>\n",
       "      <th>2</th>\n",
       "      <td>10</td>\n",
       "      <td>5196000.0</td>\n",
       "      <td>56.0</td>\n",
       "      <td>2015-08-20T00:00:00</td>\n",
       "      <td>2</td>\n",
       "      <td>NaN</td>\n",
       "      <td>5.0</td>\n",
       "      <td>34.3</td>\n",
       "      <td>4</td>\n",
       "      <td>NaN</td>\n",
       "      <td>...</td>\n",
       "      <td>8.3</td>\n",
       "      <td>0.0</td>\n",
       "      <td>Санкт-Петербург</td>\n",
       "      <td>21741.0</td>\n",
       "      <td>13933.0</td>\n",
       "      <td>1.0</td>\n",
       "      <td>90.0</td>\n",
       "      <td>2.0</td>\n",
       "      <td>574.0</td>\n",
       "      <td>558.0</td>\n",
       "    </tr>\n",
       "    <tr>\n",
       "      <th>3</th>\n",
       "      <td>0</td>\n",
       "      <td>64900000.0</td>\n",
       "      <td>159.0</td>\n",
       "      <td>2015-07-24T00:00:00</td>\n",
       "      <td>3</td>\n",
       "      <td>NaN</td>\n",
       "      <td>14.0</td>\n",
       "      <td>NaN</td>\n",
       "      <td>9</td>\n",
       "      <td>NaN</td>\n",
       "      <td>...</td>\n",
       "      <td>NaN</td>\n",
       "      <td>0.0</td>\n",
       "      <td>Санкт-Петербург</td>\n",
       "      <td>28098.0</td>\n",
       "      <td>6800.0</td>\n",
       "      <td>2.0</td>\n",
       "      <td>84.0</td>\n",
       "      <td>3.0</td>\n",
       "      <td>234.0</td>\n",
       "      <td>424.0</td>\n",
       "    </tr>\n",
       "    <tr>\n",
       "      <th>4</th>\n",
       "      <td>2</td>\n",
       "      <td>10000000.0</td>\n",
       "      <td>100.0</td>\n",
       "      <td>2018-06-19T00:00:00</td>\n",
       "      <td>2</td>\n",
       "      <td>3.03</td>\n",
       "      <td>14.0</td>\n",
       "      <td>32.0</td>\n",
       "      <td>13</td>\n",
       "      <td>NaN</td>\n",
       "      <td>...</td>\n",
       "      <td>41.0</td>\n",
       "      <td>NaN</td>\n",
       "      <td>Санкт-Петербург</td>\n",
       "      <td>31856.0</td>\n",
       "      <td>8098.0</td>\n",
       "      <td>2.0</td>\n",
       "      <td>112.0</td>\n",
       "      <td>1.0</td>\n",
       "      <td>48.0</td>\n",
       "      <td>121.0</td>\n",
       "    </tr>\n",
       "  </tbody>\n",
       "</table>\n",
       "<p>5 rows × 22 columns</p>\n",
       "</div>"
      ],
      "text/plain": [
       "   total_images  last_price  total_area first_day_exposition  rooms  \\\n",
       "0            20  13000000.0       108.0  2019-03-07T00:00:00      3   \n",
       "1             7   3350000.0        40.4  2018-12-04T00:00:00      1   \n",
       "2            10   5196000.0        56.0  2015-08-20T00:00:00      2   \n",
       "3             0  64900000.0       159.0  2015-07-24T00:00:00      3   \n",
       "4             2  10000000.0       100.0  2018-06-19T00:00:00      2   \n",
       "\n",
       "   ceiling_height  floors_total  living_area  floor is_apartment  ...  \\\n",
       "0            2.70          16.0         51.0      8          NaN  ...   \n",
       "1             NaN          11.0         18.6      1          NaN  ...   \n",
       "2             NaN           5.0         34.3      4          NaN  ...   \n",
       "3             NaN          14.0          NaN      9          NaN  ...   \n",
       "4            3.03          14.0         32.0     13          NaN  ...   \n",
       "\n",
       "   kitchen_area  balcony    locality_name  airports_nearest  \\\n",
       "0          25.0      NaN  Санкт-Петербург           18863.0   \n",
       "1          11.0      2.0   посёлок Шушары           12817.0   \n",
       "2           8.3      0.0  Санкт-Петербург           21741.0   \n",
       "3           NaN      0.0  Санкт-Петербург           28098.0   \n",
       "4          41.0      NaN  Санкт-Петербург           31856.0   \n",
       "\n",
       "  cityCenters_nearest  parks_around3000  parks_nearest  ponds_around3000  \\\n",
       "0             16028.0               1.0          482.0               2.0   \n",
       "1             18603.0               0.0            NaN               0.0   \n",
       "2             13933.0               1.0           90.0               2.0   \n",
       "3              6800.0               2.0           84.0               3.0   \n",
       "4              8098.0               2.0          112.0               1.0   \n",
       "\n",
       "   ponds_nearest  days_exposition  \n",
       "0          755.0              NaN  \n",
       "1            NaN             81.0  \n",
       "2          574.0            558.0  \n",
       "3          234.0            424.0  \n",
       "4           48.0            121.0  \n",
       "\n",
       "[5 rows x 22 columns]"
      ]
     },
     "execution_count": 3,
     "metadata": {},
     "output_type": "execute_result"
    }
   ],
   "source": [
    "#Просмотр общей информации\n",
    "data.head()"
   ]
  },
  {
   "cell_type": "code",
   "execution_count": 4,
   "metadata": {},
   "outputs": [
    {
     "name": "stdout",
     "output_type": "stream",
     "text": [
      "<class 'pandas.core.frame.DataFrame'>\n",
      "RangeIndex: 23699 entries, 0 to 23698\n",
      "Data columns (total 22 columns):\n",
      " #   Column                Non-Null Count  Dtype  \n",
      "---  ------                --------------  -----  \n",
      " 0   total_images          23699 non-null  int64  \n",
      " 1   last_price            23699 non-null  float64\n",
      " 2   total_area            23699 non-null  float64\n",
      " 3   first_day_exposition  23699 non-null  object \n",
      " 4   rooms                 23699 non-null  int64  \n",
      " 5   ceiling_height        14504 non-null  float64\n",
      " 6   floors_total          23613 non-null  float64\n",
      " 7   living_area           21796 non-null  float64\n",
      " 8   floor                 23699 non-null  int64  \n",
      " 9   is_apartment          2775 non-null   object \n",
      " 10  studio                23699 non-null  bool   \n",
      " 11  open_plan             23699 non-null  bool   \n",
      " 12  kitchen_area          21421 non-null  float64\n",
      " 13  balcony               12180 non-null  float64\n",
      " 14  locality_name         23650 non-null  object \n",
      " 15  airports_nearest      18157 non-null  float64\n",
      " 16  cityCenters_nearest   18180 non-null  float64\n",
      " 17  parks_around3000      18181 non-null  float64\n",
      " 18  parks_nearest         8079 non-null   float64\n",
      " 19  ponds_around3000      18181 non-null  float64\n",
      " 20  ponds_nearest         9110 non-null   float64\n",
      " 21  days_exposition       20518 non-null  float64\n",
      "dtypes: bool(2), float64(14), int64(3), object(3)\n",
      "memory usage: 3.7+ MB\n"
     ]
    }
   ],
   "source": [
    "data.info()"
   ]
  },
  {
   "cell_type": "code",
   "execution_count": 5,
   "metadata": {},
   "outputs": [
    {
     "data": {
      "image/png": "[encoded data removed]",
      "text/plain": [
       "<Figure size 1500x2000 with 20 Axes>"
      ]
     },
     "metadata": {},
     "output_type": "display_data"
    }
   ],
   "source": [
    "#Построение общий гистограмма для всех числовых столбцов таблицы\n",
    "data.hist(figsize=(15, 20))\n",
    "plt.show()"
   ]
  },
  {
   "cell_type": "code",
   "execution_count": 6,
   "metadata": {},
   "outputs": [
    {
     "data": {
      "text/plain": [
       "0"
      ]
     },
     "execution_count": 6,
     "metadata": {},
     "output_type": "execute_result"
    }
   ],
   "source": [
    "#Определение дубликатов\n",
    "data.duplicated().sum()"
   ]
  },
  {
   "cell_type": "markdown",
   "metadata": {},
   "source": [
    "Больше всего пропусков в данных 'is_apartment', 'parks_nearest', 'ponds_nearest', 'balcony'. К аномальным значениям можно отнести высокое значение в стобце \"высота потолков\". Высокое значение пропусков в столбце \"балконы\". К аномальным значениям можно отнести высокую площадь некоторых объектов. Явных дубликатов не обнаружено. Столбец \"first_day_exposition\" необходимо привести к типу данных datetime, стобец 'floors_total' необходимо привести к int."
   ]
  },
  {
   "cell_type": "markdown",
   "metadata": {},
   "source": [
    "### Предобработка данных"
   ]
  },
  {
   "cell_type": "code",
   "execution_count": 7,
   "metadata": {},
   "outputs": [
    {
     "name": "stdout",
     "output_type": "stream",
     "text": [
      "<class 'pandas.core.frame.DataFrame'>\n",
      "RangeIndex: 23699 entries, 0 to 23698\n",
      "Data columns (total 22 columns):\n",
      " #   Column                Non-Null Count  Dtype  \n",
      "---  ------                --------------  -----  \n",
      " 0   total_images          23699 non-null  int64  \n",
      " 1   last_price            23699 non-null  float64\n",
      " 2   total_area            23699 non-null  float64\n",
      " 3   first_day_exposition  23699 non-null  object \n",
      " 4   rooms                 23699 non-null  int64  \n",
      " 5   ceiling_height        14504 non-null  float64\n",
      " 6   floors_total          23613 non-null  float64\n",
      " 7   living_area           21796 non-null  float64\n",
      " 8   floor                 23699 non-null  int64  \n",
      " 9   is_apartment          2775 non-null   object \n",
      " 10  studio                23699 non-null  bool   \n",
      " 11  open_plan             23699 non-null  bool   \n",
      " 12  kitchen_area          21421 non-null  float64\n",
      " 13  balcony               23699 non-null  float64\n",
      " 14  locality_name         23650 non-null  object \n",
      " 15  airports_nearest      18157 non-null  float64\n",
      " 16  cityCenters_nearest   18180 non-null  float64\n",
      " 17  parks_around3000      18181 non-null  float64\n",
      " 18  parks_nearest         8079 non-null   float64\n",
      " 19  ponds_around3000      18181 non-null  float64\n",
      " 20  ponds_nearest         9110 non-null   float64\n",
      " 21  days_exposition       20518 non-null  float64\n",
      "dtypes: bool(2), float64(14), int64(3), object(3)\n",
      "memory usage: 3.7+ MB\n"
     ]
    }
   ],
   "source": [
    "#Замена пропусков в данных\n",
    "data['balcony'] = data['balcony'].fillna(0)\n",
    "data.info()"
   ]
  },
  {
   "cell_type": "markdown",
   "metadata": {},
   "source": [
    "Пропуски в столбце 'balcony' говорят об отсутствие балкона"
   ]
  },
  {
   "cell_type": "code",
   "execution_count": 8,
   "metadata": {},
   "outputs": [],
   "source": [
    "#Изменение типа данных \n",
    "data['first_day_exposition'] = pd.to_datetime(data['first_day_exposition'], format='%Y-%m-%dT%H:%M:%S')\n",
    "data['locality_name'] = data['locality_name'].fillna('Unknown')"
   ]
  },
  {
   "cell_type": "markdown",
   "metadata": {},
   "source": [
    "Так как данные неизвестных городов нужны для последующего исследования, необходимо заполнить пропуски в столбце \"locality_name\"\n",
    "Столбец с датой необходимо привести к типу datetime"
   ]
  },
  {
   "cell_type": "code",
   "execution_count": 9,
   "metadata": {},
   "outputs": [],
   "source": [
    "#Приведение названий к общему типу населенного пункта\n",
    "data[\"locality_name\"] = data[\"locality_name\"].str.replace(\"посёлок\",\"поселок\").sort_values()\n",
    "data[\"locality_name\"] = data[\"locality_name\"].str.replace(\"поселок городского типа|городской поселок|коттеджный поселок|деревня|поселок\", \"\", regex=True)\n",
    "data[\"locality_name\"] = data[\"locality_name\"].str.replace(\" \", \"\", regex=True)  "
   ]
  },
  {
   "cell_type": "markdown",
   "metadata": {},
   "source": [
    "Названия одного и того же населённого пункта необходимо привести к одному значению"
   ]
  },
  {
   "cell_type": "code",
   "execution_count": 10,
   "metadata": {},
   "outputs": [
    {
     "data": {
      "text/plain": [
       "array([ 2.7 ,   nan,  3.03,  2.5 ,  2.67,  2.56,  3.05,  2.75,  2.6 ,\n",
       "        2.9 ,  2.8 ,  2.55,  3.  ,  2.65,  3.2 ,  2.61,  3.25,  3.45,\n",
       "        2.77,  2.85,  2.64,  2.57,  4.15,  3.5 ,  3.3 ,  2.71,  4.  ,\n",
       "        2.47,  2.73,  2.84,  3.1 ,  2.34,  3.4 ,  3.06,  2.72,  2.54,\n",
       "        2.51,  2.78,  2.76,  2.58,  3.7 ,  2.52,  5.2 ,  2.87,  2.66,\n",
       "        2.59,  2.  ,  2.45,  3.6 ,  2.92,  3.11,  3.13,  3.8 ,  3.15,\n",
       "        3.55,  3.16,  3.62,  3.12,  2.53,  2.74,  2.96,  2.46,  5.3 ,\n",
       "        5.  ,  2.79,  2.95,  4.06,  2.94,  3.82,  3.54,  3.53,  2.83,\n",
       "        4.7 ,  2.4 ,  3.38,  3.01,  5.6 ,  3.65,  3.9 ,  3.18,  3.35,\n",
       "        2.3 ,  3.57,  2.48,  2.62,  2.82,  3.98,  2.63,  3.83,  3.52,\n",
       "        3.95,  3.75,  2.88,  3.67,  3.87,  3.66,  3.85,  3.86,  4.19,\n",
       "        3.24,  4.8 ,  4.5 ,  4.2 ,  3.36,  3.08,  3.68,  3.07,  3.37,\n",
       "        3.09,  8.  ,  3.26,  3.34,  2.81,  3.44,  2.97,  3.14,  4.37,\n",
       "        2.68,  3.22,  3.27,  4.1 ,  2.93,  3.46,  3.47,  3.33,  3.63,\n",
       "        3.32,  1.2 ,  8.3 ,  2.98,  2.86,  3.17,  4.4 ,  3.28,  3.04,\n",
       "        4.45,  5.5 ,  3.84,  3.23,  3.02,  3.21,  3.43,  3.78,  4.3 ,\n",
       "        3.39,  2.69,  3.31,  4.65,  3.56,  2.2 ,  3.51,  3.93,  3.42,\n",
       "        2.99,  3.49, 14.  ,  4.14,  2.91,  3.88,  1.75,  4.25,  3.29,\n",
       "        2.25,  3.76,  3.69,  6.  ,  2.26,  2.89,  3.58,  5.8 ,  2.49,\n",
       "        4.9 ,  3.48, 10.3 ,  1.  , 10.  ,  3.59])"
      ]
     },
     "execution_count": 10,
     "metadata": {},
     "output_type": "execute_result"
    }
   ],
   "source": [
    "data['ceiling_height'] = data['ceiling_height'].mask(data['ceiling_height'] >= 20, data['ceiling_height']/10 )\n",
    "data['ceiling_height'].unique()"
   ]
  },
  {
   "cell_type": "markdown",
   "metadata": {},
   "source": [
    "Высота потолков в некоторых квартирах выше 20м, что не соответсвует действительности,\n"
   ]
  },
  {
   "cell_type": "code",
   "execution_count": 11,
   "metadata": {},
   "outputs": [],
   "source": [
    "#Замена значений и удаление строк с пропусками в столбце'floors_total'\n",
    "data['floors_total'] = data['floors_total'].fillna(0) \n",
    "data = data.loc[data['floors_total'] > 0]\n",
    "data['floors_total'] = data['floors_total'].astype('int') "
   ]
  },
  {
   "cell_type": "markdown",
   "metadata": {},
   "source": [
    "стобец 'floors_total' необходимо приввести к целочисленному типу данных, так как количество этажей это целое число. Так как для некоторых объявлений существуют пропуски в столбце 'floors_total' и состовляют 0,3% от общего числа, для последующего исследования необходимо исключить данные строки, чтобы исключить искажение в данных "
   ]
  },
  {
   "cell_type": "code",
   "execution_count": 12,
   "metadata": {},
   "outputs": [
    {
     "data": {
      "text/html": [
       "<div>\n",
       "<style scoped>\n",
       "    .dataframe tbody tr th:only-of-type {\n",
       "        vertical-align: middle;\n",
       "    }\n",
       "\n",
       "    .dataframe tbody tr th {\n",
       "        vertical-align: top;\n",
       "    }\n",
       "\n",
       "    .dataframe thead th {\n",
       "        text-align: right;\n",
       "    }\n",
       "</style>\n",
       "<table border=\"1\" class=\"dataframe\">\n",
       "  <thead>\n",
       "    <tr style=\"text-align: right;\">\n",
       "      <th></th>\n",
       "      <th>days_exposition</th>\n",
       "    </tr>\n",
       "    <tr>\n",
       "      <th>year_publication</th>\n",
       "      <th></th>\n",
       "    </tr>\n",
       "  </thead>\n",
       "  <tbody>\n",
       "    <tr>\n",
       "      <th>2014</th>\n",
       "      <td>119</td>\n",
       "    </tr>\n",
       "    <tr>\n",
       "      <th>2015</th>\n",
       "      <td>1114</td>\n",
       "    </tr>\n",
       "    <tr>\n",
       "      <th>2016</th>\n",
       "      <td>2696</td>\n",
       "    </tr>\n",
       "    <tr>\n",
       "      <th>2017</th>\n",
       "      <td>7895</td>\n",
       "    </tr>\n",
       "    <tr>\n",
       "      <th>2018</th>\n",
       "      <td>7534</td>\n",
       "    </tr>\n",
       "    <tr>\n",
       "      <th>2019</th>\n",
       "      <td>1083</td>\n",
       "    </tr>\n",
       "  </tbody>\n",
       "</table>\n",
       "</div>"
      ],
      "text/plain": [
       "                  days_exposition\n",
       "year_publication                 \n",
       "2014                          119\n",
       "2015                         1114\n",
       "2016                         2696\n",
       "2017                         7895\n",
       "2018                         7534\n",
       "2019                         1083"
      ]
     },
     "execution_count": 12,
     "metadata": {},
     "output_type": "execute_result"
    },
    {
     "data": {
      "image/png": "[encoded data removed]",
      "text/plain": [
       "<Figure size 300x300 with 1 Axes>"
      ]
     },
     "metadata": {},
     "output_type": "display_data"
    }
   ],
   "source": [
    "data['year_publication'] = data['first_day_exposition'].dt.year\n",
    "plt.figure(figsize=(3, 3))\n",
    "data[data['days_exposition'].isna()]['year_publication'].value_counts().plot()\n",
    "\n",
    "#Количество значений без пропусков\n",
    "data.pivot_table(index='year_publication', values='days_exposition', aggfunc='count')"
   ]
  },
  {
   "cell_type": "markdown",
   "metadata": {},
   "source": [
    "Количество пропусков с каждым годом увеличивается. Количество пропусков в 2019 г. больше, чем значений за этот год, что может означать , что квартиры ещё на продаже."
   ]
  },
  {
   "cell_type": "markdown",
   "metadata": {},
   "source": [
    "### Добавление новых признаков"
   ]
  },
  {
   "cell_type": "code",
   "execution_count": 13,
   "metadata": {},
   "outputs": [],
   "source": [
    "#Добавление столбца цена одного квадратного метра\n",
    "data['price_one_m2'] = data['last_price']/data['total_area']  "
   ]
  },
  {
   "cell_type": "code",
   "execution_count": 14,
   "metadata": {},
   "outputs": [
    {
     "data": {
      "text/plain": [
       "array([3, 1, 4, 0, 2, 6, 5], dtype=int64)"
      ]
     },
     "execution_count": 14,
     "metadata": {},
     "output_type": "execute_result"
    }
   ],
   "source": [
    "#Добавление столбца день недели публикации \n",
    "data['weekday'] = data['first_day_exposition'].dt.weekday\n",
    "data['weekday'].unique()"
   ]
  },
  {
   "cell_type": "code",
   "execution_count": 15,
   "metadata": {},
   "outputs": [],
   "source": [
    "#Добавление столбца месяц публикации \n",
    "data['month_publication'] = data['first_day_exposition'].dt.month"
   ]
  },
  {
   "cell_type": "code",
   "execution_count": 16,
   "metadata": {},
   "outputs": [],
   "source": [
    "#Добавление столбца год публикации \n",
    "data['year_publication'] = data['year_publication']"
   ]
  },
  {
   "cell_type": "code",
   "execution_count": 17,
   "metadata": {},
   "outputs": [],
   "source": [
    "#функция для определения этажа\n",
    "def define_floor(floors):\n",
    "    floor = floors['floor']\n",
    "    floors_total = floors['floors_total']\n",
    "    if floor == 1:\n",
    "        return 'первый'\n",
    "    if floors_total == floor:\n",
    "        return 'последний'\n",
    "    return 'другой'"
   ]
  },
  {
   "cell_type": "code",
   "execution_count": 18,
   "metadata": {},
   "outputs": [
    {
     "data": {
      "text/plain": [
       "0        другой\n",
       "1        первый\n",
       "2        другой\n",
       "3        другой\n",
       "4        другой\n",
       "          ...  \n",
       "23694    другой\n",
       "23695    другой\n",
       "23696    первый\n",
       "23697    другой\n",
       "23698    первый\n",
       "Name: type_floor, Length: 23613, dtype: object"
      ]
     },
     "execution_count": 18,
     "metadata": {},
     "output_type": "execute_result"
    }
   ],
   "source": [
    "#Добавление столбца тп этажа\n",
    "data['type_floor'] = data.apply(define_floor, axis=1)\n",
    "data['type_floor']"
   ]
  },
  {
   "cell_type": "code",
   "execution_count": 19,
   "metadata": {},
   "outputs": [
    {
     "data": {
      "text/plain": [
       "0        16.028\n",
       "1        18.603\n",
       "2        13.933\n",
       "3         6.800\n",
       "4         8.098\n",
       "          ...  \n",
       "23694     4.232\n",
       "23695       NaN\n",
       "23696       NaN\n",
       "23697    10.364\n",
       "23698       NaN\n",
       "Name: cityCenters_nearest_km, Length: 23613, dtype: float64"
      ]
     },
     "execution_count": 19,
     "metadata": {},
     "output_type": "execute_result"
    }
   ],
   "source": [
    "#Добавление расстояние до города в километрах\n",
    "data['cityCenters_nearest_km'] = data['cityCenters_nearest']/1000\n",
    "data['cityCenters_nearest_km']"
   ]
  },
  {
   "cell_type": "markdown",
   "metadata": {},
   "source": [
    "### Исследовательский анализ данных"
   ]
  },
  {
   "cell_type": "code",
   "execution_count": 20,
   "metadata": {},
   "outputs": [
    {
     "data": {
      "image/png": "[encoded data removed]",
      "text/plain": [
       "<Figure size 2000x2000 with 16 Axes>"
      ]
     },
     "metadata": {},
     "output_type": "display_data"
    }
   ],
   "source": [
    "columns = ['total_area', 'living_area', 'kitchen_area', 'last_price', \n",
    "           'rooms', 'ceiling_height', 'floor',  \n",
    "           'floors_total', 'cityCenters_nearest', \n",
    "           'airports_nearest', 'parks_nearest', 'weekday', 'month_publication', 'type_floor']\n",
    "\n",
    "#ВЫделяю аномальные значения по полученным столбчатым диаграмам\n",
    "\n",
    "abnormal_values = [200,120,40,60000000,10,5,30,30,40000,60000,1500]\n",
    "calculate_abnormal_values = {}\n",
    "for i in range(0, len(abnormal_values)):\n",
    "    calculate_abnormal_values[columns[i]] = abnormal_values[i]\n",
    "data[columns].hist(bins=100, figsize=(20,20))  \n",
    "\n",
    "plt.show()"
   ]
  },
  {
   "cell_type": "code",
   "execution_count": 21,
   "metadata": {},
   "outputs": [
    {
     "data": {
      "text/plain": [
       "<Axes: >"
      ]
     },
     "execution_count": 21,
     "metadata": {},
     "output_type": "execute_result"
    },
    {
     "data": {
      "image/png": "[encoded data removed]",
      "text/plain": [
       "<Figure size 640x480 with 1 Axes>"
      ]
     },
     "metadata": {},
     "output_type": "display_data"
    }
   ],
   "source": [
    "data['total_area'].hist(bins=100, range=(200,data['total_area'].max()))"
   ]
  },
  {
   "cell_type": "code",
   "execution_count": 22,
   "metadata": {},
   "outputs": [
    {
     "data": {
      "text/plain": [
       "1.3"
      ]
     },
     "execution_count": 22,
     "metadata": {},
     "output_type": "execute_result"
    },
    {
     "data": {
      "image/png": "[encoded data removed]",
      "text/plain": [
       "<Figure size 640x480 with 1 Axes>"
      ]
     },
     "metadata": {},
     "output_type": "display_data"
    }
   ],
   "source": [
    "data['kitchen_area'].hist(bins=100, range=(0,10))\n",
    "data['kitchen_area'].min()"
   ]
  },
  {
   "cell_type": "code",
   "execution_count": 23,
   "metadata": {},
   "outputs": [
    {
     "data": {
      "text/plain": [
       "1.3"
      ]
     },
     "execution_count": 23,
     "metadata": {},
     "output_type": "execute_result"
    },
    {
     "data": {
      "image/png": "[encoded data removed]",
      "text/plain": [
       "<Figure size 640x480 with 1 Axes>"
      ]
     },
     "metadata": {},
     "output_type": "display_data"
    }
   ],
   "source": [
    "data['kitchen_area'].hist(bins=100, range=(30,data['kitchen_area'].max()))\n",
    "data['kitchen_area'].min()"
   ]
  },
  {
   "cell_type": "code",
   "execution_count": 24,
   "metadata": {},
   "outputs": [
    {
     "data": {
      "text/plain": [
       "<Axes: >"
      ]
     },
     "execution_count": 24,
     "metadata": {},
     "output_type": "execute_result"
    },
    {
     "data": {
      "image/png": "[encoded data removed]",
      "text/plain": [
       "<Figure size 640x480 with 1 Axes>"
      ]
     },
     "metadata": {},
     "output_type": "display_data"
    }
   ],
   "source": [
    "data['last_price'].hist(bins=100, range=(1e8,data['last_price'].max()))"
   ]
  },
  {
   "cell_type": "code",
   "execution_count": 25,
   "metadata": {},
   "outputs": [
    {
     "data": {
      "text/plain": [
       "<Axes: >"
      ]
     },
     "execution_count": 25,
     "metadata": {},
     "output_type": "execute_result"
    },
    {
     "data": {
      "image/png": "[encoded data removed]",
      "text/plain": [
       "<Figure size 640x480 with 1 Axes>"
      ]
     },
     "metadata": {},
     "output_type": "display_data"
    }
   ],
   "source": [
    "data['rooms'].hist(bins=100, range=(5,data['rooms'].max()))"
   ]
  },
  {
   "cell_type": "code",
   "execution_count": 26,
   "metadata": {},
   "outputs": [
    {
     "data": {
      "text/plain": [
       "<Axes: >"
      ]
     },
     "execution_count": 26,
     "metadata": {},
     "output_type": "execute_result"
    },
    {
     "data": {
      "image/png": "[encoded data removed]",
      "text/plain": [
       "<Figure size 640x480 with 1 Axes>"
      ]
     },
     "metadata": {},
     "output_type": "display_data"
    }
   ],
   "source": [
    "data['living_area'].hist(bins=100, range=(100,data['living_area'].max()))\n"
   ]
  },
  {
   "cell_type": "code",
   "execution_count": 27,
   "metadata": {},
   "outputs": [
    {
     "data": {
      "text/plain": [
       "'total_area'"
      ]
     },
     "metadata": {},
     "output_type": "display_data"
    },
    {
     "data": {
      "text/plain": [
       "0.9570999025960276"
      ]
     },
     "metadata": {},
     "output_type": "display_data"
    },
    {
     "data": {
      "text/plain": [
       "'living_area'"
      ]
     },
     "metadata": {},
     "output_type": "display_data"
    },
    {
     "data": {
      "text/plain": [
       "0.9934231706756197"
      ]
     },
     "metadata": {},
     "output_type": "display_data"
    },
    {
     "data": {
      "text/plain": [
       "'kitchen_area'"
      ]
     },
     "metadata": {},
     "output_type": "display_data"
    },
    {
     "data": {
      "text/plain": [
       "0.6126648582920213"
      ]
     },
     "metadata": {},
     "output_type": "display_data"
    },
    {
     "data": {
      "text/plain": [
       "'last_price'"
      ]
     },
     "metadata": {},
     "output_type": "display_data"
    },
    {
     "data": {
      "text/plain": [
       "0.4277304874433575"
      ]
     },
     "metadata": {},
     "output_type": "display_data"
    },
    {
     "data": {
      "text/plain": [
       "'rooms'"
      ]
     },
     "metadata": {},
     "output_type": "display_data"
    },
    {
     "data": {
      "text/plain": [
       "0.03416029719458559"
      ]
     },
     "metadata": {},
     "output_type": "display_data"
    },
    {
     "data": {
      "text/plain": [
       "'ceiling_height'"
      ]
     },
     "metadata": {},
     "output_type": "display_data"
    },
    {
     "data": {
      "text/plain": [
       "0.09658502932045533"
      ]
     },
     "metadata": {},
     "output_type": "display_data"
    },
    {
     "data": {
      "text/plain": [
       "'floor'"
      ]
     },
     "metadata": {},
     "output_type": "display_data"
    },
    {
     "data": {
      "text/plain": [
       "0.012704865963664082"
      ]
     },
     "metadata": {},
     "output_type": "display_data"
    },
    {
     "data": {
      "text/plain": [
       "'floors_total'"
      ]
     },
     "metadata": {},
     "output_type": "display_data"
    },
    {
     "data": {
      "text/plain": [
       "0.13551857027908357"
      ]
     },
     "metadata": {},
     "output_type": "display_data"
    },
    {
     "data": {
      "text/plain": [
       "'cityCenters_nearest'"
      ]
     },
     "metadata": {},
     "output_type": "display_data"
    },
    {
     "data": {
      "text/plain": [
       "1.657092355280601"
      ]
     },
     "metadata": {},
     "output_type": "display_data"
    },
    {
     "data": {
      "text/plain": [
       "'airports_nearest'"
      ]
     },
     "metadata": {},
     "output_type": "display_data"
    },
    {
     "data": {
      "text/plain": [
       "0.9568584070796461"
      ]
     },
     "metadata": {},
     "output_type": "display_data"
    },
    {
     "data": {
      "text/plain": [
       "'parks_nearest'"
      ]
     },
     "metadata": {},
     "output_type": "display_data"
    },
    {
     "data": {
      "text/plain": [
       "2.1379738968303292"
      ]
     },
     "metadata": {},
     "output_type": "display_data"
    }
   ],
   "source": [
    "#высчитваю количество объектов превышающих значение нормального распределения\n",
    "for i,k in calculate_abnormal_values.items():\n",
    "    display(i, data.loc[data[i] > k][i].count()/data.loc[data[i] > 0][i].count()*100)"
   ]
  },
  {
   "cell_type": "code",
   "execution_count": 28,
   "metadata": {},
   "outputs": [
    {
     "data": {
      "text/plain": [
       "'Среднее значение: total_area 60.340678439842456'"
      ]
     },
     "metadata": {},
     "output_type": "display_data"
    },
    {
     "data": {
      "text/plain": [
       "'Медианное значение: total_area 52.0'"
      ]
     },
     "metadata": {},
     "output_type": "display_data"
    },
    {
     "data": {
      "text/plain": [
       "'Среднее значение: living_area 34.46278119449938'"
      ]
     },
     "metadata": {},
     "output_type": "display_data"
    },
    {
     "data": {
      "text/plain": [
       "'Медианное значение: living_area 30.0'"
      ]
     },
     "metadata": {},
     "output_type": "display_data"
    },
    {
     "data": {
      "text/plain": [
       "'Среднее значение: kitchen_area 10.564127771022354'"
      ]
     },
     "metadata": {},
     "output_type": "display_data"
    },
    {
     "data": {
      "text/plain": [
       "'Медианное значение: kitchen_area 9.1'"
      ]
     },
     "metadata": {},
     "output_type": "display_data"
    },
    {
     "data": {
      "text/plain": [
       "'Среднее значение: last_price 6540555.460890188'"
      ]
     },
     "metadata": {},
     "output_type": "display_data"
    },
    {
     "data": {
      "text/plain": [
       "'Медианное значение: last_price 4650000.0'"
      ]
     },
     "metadata": {},
     "output_type": "display_data"
    },
    {
     "data": {
      "text/plain": [
       "'Среднее значение: rooms 2.071147249396519'"
      ]
     },
     "metadata": {},
     "output_type": "display_data"
    },
    {
     "data": {
      "text/plain": [
       "'Медианное значение: rooms 2.0'"
      ]
     },
     "metadata": {},
     "output_type": "display_data"
    },
    {
     "data": {
      "text/plain": [
       "'Среднее значение: ceiling_height 2.729577785443256'"
      ]
     },
     "metadata": {},
     "output_type": "display_data"
    },
    {
     "data": {
      "text/plain": [
       "'Медианное значение: ceiling_height 2.65'"
      ]
     },
     "metadata": {},
     "output_type": "display_data"
    },
    {
     "data": {
      "text/plain": [
       "'Среднее значение: floor 5.877313344344217'"
      ]
     },
     "metadata": {},
     "output_type": "display_data"
    },
    {
     "data": {
      "text/plain": [
       "'Медианное значение: floor 4.0'"
      ]
     },
     "metadata": {},
     "output_type": "display_data"
    },
    {
     "data": {
      "text/plain": [
       "'Среднее значение: floors_total 10.67382374115953'"
      ]
     },
     "metadata": {},
     "output_type": "display_data"
    },
    {
     "data": {
      "text/plain": [
       "'Медианное значение: floors_total 9.0'"
      ]
     },
     "metadata": {},
     "output_type": "display_data"
    },
    {
     "data": {
      "text/plain": [
       "'Среднее значение: cityCenters_nearest 14185.084014582413'"
      ]
     },
     "metadata": {},
     "output_type": "display_data"
    },
    {
     "data": {
      "text/plain": [
       "'Медианное значение: cityCenters_nearest 13093.0'"
      ]
     },
     "metadata": {},
     "output_type": "display_data"
    },
    {
     "data": {
      "text/plain": [
       "'Среднее значение: airports_nearest 28788.008185387975'"
      ]
     },
     "metadata": {},
     "output_type": "display_data"
    },
    {
     "data": {
      "text/plain": [
       "'Медианное значение: airports_nearest 26726.0'"
      ]
     },
     "metadata": {},
     "output_type": "display_data"
    },
    {
     "data": {
      "text/plain": [
       "'Среднее значение: parks_nearest 490.5546302050963'"
      ]
     },
     "metadata": {},
     "output_type": "display_data"
    },
    {
     "data": {
      "text/plain": [
       "'Медианное значение: parks_nearest 455.0'"
      ]
     },
     "metadata": {},
     "output_type": "display_data"
    }
   ],
   "source": [
    "for i in calculate_abnormal_values:\n",
    "    display(f\"Среднее значение: {i} {data[i].mean()}\")\n",
    "    display(f\"Медианное значение: {i} {data[i].median()}\")\n"
   ]
  },
  {
   "cell_type": "code",
   "execution_count": 29,
   "metadata": {},
   "outputs": [
    {
     "data": {
      "text/plain": [
       "'Среднее значение:'"
      ]
     },
     "metadata": {},
     "output_type": "display_data"
    },
    {
     "data": {
      "text/plain": [
       "7871.0"
      ]
     },
     "metadata": {},
     "output_type": "display_data"
    },
    {
     "data": {
      "text/plain": [
       "'Медианное значение:'"
      ]
     },
     "metadata": {},
     "output_type": "display_data"
    },
    {
     "data": {
      "text/plain": [
       "3336.0"
      ]
     },
     "metadata": {},
     "output_type": "display_data"
    },
    {
     "data": {
      "text/html": [
       "<div>\n",
       "<style scoped>\n",
       "    .dataframe tbody tr th:only-of-type {\n",
       "        vertical-align: middle;\n",
       "    }\n",
       "\n",
       "    .dataframe tbody tr th {\n",
       "        vertical-align: top;\n",
       "    }\n",
       "\n",
       "    .dataframe thead th {\n",
       "        text-align: right;\n",
       "    }\n",
       "</style>\n",
       "<table border=\"1\" class=\"dataframe\">\n",
       "  <thead>\n",
       "    <tr style=\"text-align: right;\">\n",
       "      <th></th>\n",
       "      <th>total_images</th>\n",
       "      <th>last_price</th>\n",
       "      <th>total_area</th>\n",
       "      <th>first_day_exposition</th>\n",
       "      <th>rooms</th>\n",
       "      <th>ceiling_height</th>\n",
       "      <th>floors_total</th>\n",
       "      <th>living_area</th>\n",
       "      <th>floor</th>\n",
       "      <th>is_apartment</th>\n",
       "      <th>...</th>\n",
       "      <th>parks_nearest</th>\n",
       "      <th>ponds_around3000</th>\n",
       "      <th>ponds_nearest</th>\n",
       "      <th>days_exposition</th>\n",
       "      <th>year_publication</th>\n",
       "      <th>price_one_m2</th>\n",
       "      <th>weekday</th>\n",
       "      <th>month_publication</th>\n",
       "      <th>type_floor</th>\n",
       "      <th>cityCenters_nearest_km</th>\n",
       "    </tr>\n",
       "  </thead>\n",
       "  <tbody>\n",
       "    <tr>\n",
       "      <th>0</th>\n",
       "      <td>20</td>\n",
       "      <td>13000000.0</td>\n",
       "      <td>108.00</td>\n",
       "      <td>2019-03-07</td>\n",
       "      <td>3</td>\n",
       "      <td>2.70</td>\n",
       "      <td>16</td>\n",
       "      <td>51.0</td>\n",
       "      <td>8</td>\n",
       "      <td>NaN</td>\n",
       "      <td>...</td>\n",
       "      <td>482.0</td>\n",
       "      <td>2.0</td>\n",
       "      <td>755.0</td>\n",
       "      <td>NaN</td>\n",
       "      <td>2019</td>\n",
       "      <td>120370.370370</td>\n",
       "      <td>3</td>\n",
       "      <td>3</td>\n",
       "      <td>другой</td>\n",
       "      <td>16.028</td>\n",
       "    </tr>\n",
       "    <tr>\n",
       "      <th>1</th>\n",
       "      <td>7</td>\n",
       "      <td>3350000.0</td>\n",
       "      <td>40.40</td>\n",
       "      <td>2018-12-04</td>\n",
       "      <td>1</td>\n",
       "      <td>NaN</td>\n",
       "      <td>11</td>\n",
       "      <td>18.6</td>\n",
       "      <td>1</td>\n",
       "      <td>NaN</td>\n",
       "      <td>...</td>\n",
       "      <td>NaN</td>\n",
       "      <td>0.0</td>\n",
       "      <td>NaN</td>\n",
       "      <td>81.0</td>\n",
       "      <td>2018</td>\n",
       "      <td>82920.792079</td>\n",
       "      <td>1</td>\n",
       "      <td>12</td>\n",
       "      <td>первый</td>\n",
       "      <td>18.603</td>\n",
       "    </tr>\n",
       "    <tr>\n",
       "      <th>2</th>\n",
       "      <td>10</td>\n",
       "      <td>5196000.0</td>\n",
       "      <td>56.00</td>\n",
       "      <td>2015-08-20</td>\n",
       "      <td>2</td>\n",
       "      <td>NaN</td>\n",
       "      <td>5</td>\n",
       "      <td>34.3</td>\n",
       "      <td>4</td>\n",
       "      <td>NaN</td>\n",
       "      <td>...</td>\n",
       "      <td>90.0</td>\n",
       "      <td>2.0</td>\n",
       "      <td>574.0</td>\n",
       "      <td>558.0</td>\n",
       "      <td>2015</td>\n",
       "      <td>92785.714286</td>\n",
       "      <td>3</td>\n",
       "      <td>8</td>\n",
       "      <td>другой</td>\n",
       "      <td>13.933</td>\n",
       "    </tr>\n",
       "    <tr>\n",
       "      <th>3</th>\n",
       "      <td>0</td>\n",
       "      <td>64900000.0</td>\n",
       "      <td>159.00</td>\n",
       "      <td>2015-07-24</td>\n",
       "      <td>3</td>\n",
       "      <td>NaN</td>\n",
       "      <td>14</td>\n",
       "      <td>NaN</td>\n",
       "      <td>9</td>\n",
       "      <td>NaN</td>\n",
       "      <td>...</td>\n",
       "      <td>84.0</td>\n",
       "      <td>3.0</td>\n",
       "      <td>234.0</td>\n",
       "      <td>424.0</td>\n",
       "      <td>2015</td>\n",
       "      <td>408176.100629</td>\n",
       "      <td>4</td>\n",
       "      <td>7</td>\n",
       "      <td>другой</td>\n",
       "      <td>6.800</td>\n",
       "    </tr>\n",
       "    <tr>\n",
       "      <th>4</th>\n",
       "      <td>2</td>\n",
       "      <td>10000000.0</td>\n",
       "      <td>100.00</td>\n",
       "      <td>2018-06-19</td>\n",
       "      <td>2</td>\n",
       "      <td>3.03</td>\n",
       "      <td>14</td>\n",
       "      <td>32.0</td>\n",
       "      <td>13</td>\n",
       "      <td>NaN</td>\n",
       "      <td>...</td>\n",
       "      <td>112.0</td>\n",
       "      <td>1.0</td>\n",
       "      <td>48.0</td>\n",
       "      <td>121.0</td>\n",
       "      <td>2018</td>\n",
       "      <td>100000.000000</td>\n",
       "      <td>1</td>\n",
       "      <td>6</td>\n",
       "      <td>другой</td>\n",
       "      <td>8.098</td>\n",
       "    </tr>\n",
       "    <tr>\n",
       "      <th>...</th>\n",
       "      <td>...</td>\n",
       "      <td>...</td>\n",
       "      <td>...</td>\n",
       "      <td>...</td>\n",
       "      <td>...</td>\n",
       "      <td>...</td>\n",
       "      <td>...</td>\n",
       "      <td>...</td>\n",
       "      <td>...</td>\n",
       "      <td>...</td>\n",
       "      <td>...</td>\n",
       "      <td>...</td>\n",
       "      <td>...</td>\n",
       "      <td>...</td>\n",
       "      <td>...</td>\n",
       "      <td>...</td>\n",
       "      <td>...</td>\n",
       "      <td>...</td>\n",
       "      <td>...</td>\n",
       "      <td>...</td>\n",
       "      <td>...</td>\n",
       "    </tr>\n",
       "    <tr>\n",
       "      <th>23694</th>\n",
       "      <td>9</td>\n",
       "      <td>9700000.0</td>\n",
       "      <td>133.81</td>\n",
       "      <td>2017-03-21</td>\n",
       "      <td>3</td>\n",
       "      <td>3.70</td>\n",
       "      <td>5</td>\n",
       "      <td>73.3</td>\n",
       "      <td>3</td>\n",
       "      <td>NaN</td>\n",
       "      <td>...</td>\n",
       "      <td>796.0</td>\n",
       "      <td>3.0</td>\n",
       "      <td>381.0</td>\n",
       "      <td>NaN</td>\n",
       "      <td>2017</td>\n",
       "      <td>72490.845228</td>\n",
       "      <td>1</td>\n",
       "      <td>3</td>\n",
       "      <td>другой</td>\n",
       "      <td>4.232</td>\n",
       "    </tr>\n",
       "    <tr>\n",
       "      <th>23695</th>\n",
       "      <td>14</td>\n",
       "      <td>3100000.0</td>\n",
       "      <td>59.00</td>\n",
       "      <td>2018-01-15</td>\n",
       "      <td>3</td>\n",
       "      <td>NaN</td>\n",
       "      <td>5</td>\n",
       "      <td>38.0</td>\n",
       "      <td>4</td>\n",
       "      <td>NaN</td>\n",
       "      <td>...</td>\n",
       "      <td>NaN</td>\n",
       "      <td>NaN</td>\n",
       "      <td>NaN</td>\n",
       "      <td>45.0</td>\n",
       "      <td>2018</td>\n",
       "      <td>52542.372881</td>\n",
       "      <td>0</td>\n",
       "      <td>1</td>\n",
       "      <td>другой</td>\n",
       "      <td>NaN</td>\n",
       "    </tr>\n",
       "    <tr>\n",
       "      <th>23696</th>\n",
       "      <td>18</td>\n",
       "      <td>2500000.0</td>\n",
       "      <td>56.70</td>\n",
       "      <td>2018-02-11</td>\n",
       "      <td>2</td>\n",
       "      <td>NaN</td>\n",
       "      <td>3</td>\n",
       "      <td>29.7</td>\n",
       "      <td>1</td>\n",
       "      <td>NaN</td>\n",
       "      <td>...</td>\n",
       "      <td>NaN</td>\n",
       "      <td>NaN</td>\n",
       "      <td>NaN</td>\n",
       "      <td>NaN</td>\n",
       "      <td>2018</td>\n",
       "      <td>44091.710758</td>\n",
       "      <td>6</td>\n",
       "      <td>2</td>\n",
       "      <td>первый</td>\n",
       "      <td>NaN</td>\n",
       "    </tr>\n",
       "    <tr>\n",
       "      <th>23697</th>\n",
       "      <td>13</td>\n",
       "      <td>11475000.0</td>\n",
       "      <td>76.75</td>\n",
       "      <td>2017-03-28</td>\n",
       "      <td>2</td>\n",
       "      <td>3.00</td>\n",
       "      <td>17</td>\n",
       "      <td>NaN</td>\n",
       "      <td>12</td>\n",
       "      <td>NaN</td>\n",
       "      <td>...</td>\n",
       "      <td>173.0</td>\n",
       "      <td>3.0</td>\n",
       "      <td>196.0</td>\n",
       "      <td>602.0</td>\n",
       "      <td>2017</td>\n",
       "      <td>149511.400651</td>\n",
       "      <td>1</td>\n",
       "      <td>3</td>\n",
       "      <td>другой</td>\n",
       "      <td>10.364</td>\n",
       "    </tr>\n",
       "    <tr>\n",
       "      <th>23698</th>\n",
       "      <td>4</td>\n",
       "      <td>1350000.0</td>\n",
       "      <td>32.30</td>\n",
       "      <td>2017-07-21</td>\n",
       "      <td>1</td>\n",
       "      <td>2.50</td>\n",
       "      <td>5</td>\n",
       "      <td>12.3</td>\n",
       "      <td>1</td>\n",
       "      <td>NaN</td>\n",
       "      <td>...</td>\n",
       "      <td>NaN</td>\n",
       "      <td>NaN</td>\n",
       "      <td>NaN</td>\n",
       "      <td>NaN</td>\n",
       "      <td>2017</td>\n",
       "      <td>41795.665635</td>\n",
       "      <td>4</td>\n",
       "      <td>7</td>\n",
       "      <td>первый</td>\n",
       "      <td>NaN</td>\n",
       "    </tr>\n",
       "  </tbody>\n",
       "</table>\n",
       "<p>23613 rows × 28 columns</p>\n",
       "</div>"
      ],
      "text/plain": [
       "       total_images  last_price  total_area first_day_exposition  rooms  \\\n",
       "0                20  13000000.0      108.00           2019-03-07      3   \n",
       "1                 7   3350000.0       40.40           2018-12-04      1   \n",
       "2                10   5196000.0       56.00           2015-08-20      2   \n",
       "3                 0  64900000.0      159.00           2015-07-24      3   \n",
       "4                 2  10000000.0      100.00           2018-06-19      2   \n",
       "...             ...         ...         ...                  ...    ...   \n",
       "23694             9   9700000.0      133.81           2017-03-21      3   \n",
       "23695            14   3100000.0       59.00           2018-01-15      3   \n",
       "23696            18   2500000.0       56.70           2018-02-11      2   \n",
       "23697            13  11475000.0       76.75           2017-03-28      2   \n",
       "23698             4   1350000.0       32.30           2017-07-21      1   \n",
       "\n",
       "       ceiling_height  floors_total  living_area  floor is_apartment  ...  \\\n",
       "0                2.70            16         51.0      8          NaN  ...   \n",
       "1                 NaN            11         18.6      1          NaN  ...   \n",
       "2                 NaN             5         34.3      4          NaN  ...   \n",
       "3                 NaN            14          NaN      9          NaN  ...   \n",
       "4                3.03            14         32.0     13          NaN  ...   \n",
       "...               ...           ...          ...    ...          ...  ...   \n",
       "23694            3.70             5         73.3      3          NaN  ...   \n",
       "23695             NaN             5         38.0      4          NaN  ...   \n",
       "23696             NaN             3         29.7      1          NaN  ...   \n",
       "23697            3.00            17          NaN     12          NaN  ...   \n",
       "23698            2.50             5         12.3      1          NaN  ...   \n",
       "\n",
       "       parks_nearest  ponds_around3000  ponds_nearest  days_exposition  \\\n",
       "0              482.0               2.0          755.0              NaN   \n",
       "1                NaN               0.0            NaN             81.0   \n",
       "2               90.0               2.0          574.0            558.0   \n",
       "3               84.0               3.0          234.0            424.0   \n",
       "4              112.0               1.0           48.0            121.0   \n",
       "...              ...               ...            ...              ...   \n",
       "23694          796.0               3.0          381.0              NaN   \n",
       "23695            NaN               NaN            NaN             45.0   \n",
       "23696            NaN               NaN            NaN              NaN   \n",
       "23697          173.0               3.0          196.0            602.0   \n",
       "23698            NaN               NaN            NaN              NaN   \n",
       "\n",
       "      year_publication   price_one_m2  weekday  month_publication  type_floor  \\\n",
       "0                 2019  120370.370370        3                  3      другой   \n",
       "1                 2018   82920.792079        1                 12      первый   \n",
       "2                 2015   92785.714286        3                  8      другой   \n",
       "3                 2015  408176.100629        4                  7      другой   \n",
       "4                 2018  100000.000000        1                  6      другой   \n",
       "...                ...            ...      ...                ...         ...   \n",
       "23694             2017   72490.845228        1                  3      другой   \n",
       "23695             2018   52542.372881        0                  1      другой   \n",
       "23696             2018   44091.710758        6                  2      первый   \n",
       "23697             2017  149511.400651        1                  3      другой   \n",
       "23698             2017   41795.665635        4                  7      первый   \n",
       "\n",
       "       cityCenters_nearest_km  \n",
       "0                      16.028  \n",
       "1                      18.603  \n",
       "2                      13.933  \n",
       "3                       6.800  \n",
       "4                       8.098  \n",
       "...                       ...  \n",
       "23694                   4.232  \n",
       "23695                     NaN  \n",
       "23696                     NaN  \n",
       "23697                  10.364  \n",
       "23698                     NaN  \n",
       "\n",
       "[23613 rows x 28 columns]"
      ]
     },
     "execution_count": 29,
     "metadata": {},
     "output_type": "execute_result"
    },
    {
     "data": {
      "image/png": "[encoded data removed]",
      "text/plain": [
       "<Figure size 640x480 with 1 Axes>"
      ]
     },
     "metadata": {},
     "output_type": "display_data"
    }
   ],
   "source": [
    "data['type_floor'].hist()\n",
    "display('Среднее значение:', data.groupby('type_floor')['type_floor'].count().mean())\n",
    "display('Медианное значение:', data.groupby('type_floor')['type_floor'].count().median())\n",
    "data.groupby('type_floor')['type_floor'].count()/(len(data['type_floor'])/100)\n",
    "data"
   ]
  },
  {
   "cell_type": "markdown",
   "metadata": {},
   "source": [
    "Полная Площадь объектов в основном находится от 12м2 до 200м2, выбивающимися из общего списка значений, можно называть объекты имеющие площадь от 400 до 900м2. Количество объектов с площадью от 200м2 составяет менн 1% от общего количества объявлений\n",
    "\n",
    "Жилая площадь объектов в основном находится от 12м2 до 150м2, выбивающимися из общего списка значений, можно называть объекты имеющие площадь от 200 до 400м2. Количество объектов с жилой площадью от 120м2 составяет менее 1% от общего количества объявлений. С увеличение числа площади в данном диапазоне, количество объёктов уменьшается.\n",
    "\n",
    "Кухонная площадь объектов в основном находится от 5м2 до 30м2, выбивающимися из общего списка значений, можно называть объекты имеющие площадь от 5 до 100м2. С увеличение числа площади в данном диапазоне, количество объёктов уменьшается.\n",
    "\n",
    "Большинство объеrтов имеет цену менее 0.6e8.\n",
    "\n",
    "Основная масса объектов имеет до 10 комнат. Количество объектов имеюшие более 10 комнат составляет 0.03%.\n",
    "\n",
    "Количество объектов с высотой потолков выше 5 0.09%.\n",
    "\n",
    "Количество квартир находящихся выше 30 этаже составляет 0,012%\n",
    "\n",
    "Количество объектов на расстояние выше 40км от цетнра города составялет 1,65%\n",
    "\n",
    "Количество объектов на расстояние выше 60км от аэропорта составялет 1,65%\n",
    "\n",
    "Количество объектов на расстояние выше 1,5км от парка составялет 2,13%\n",
    "\n",
    "Чаще всего продают квартиры находящиеся между первым и последним этажом. Количество таких объялений составляет 73%, количество объявлений с первым и последним этажом составляют 12% и 14% соответственно."
   ]
  },
  {
   "cell_type": "code",
   "execution_count": 30,
   "metadata": {},
   "outputs": [
    {
     "data": {
      "text/plain": [
       "<Axes: >"
      ]
     },
     "execution_count": 30,
     "metadata": {},
     "output_type": "execute_result"
    },
    {
     "data": {
      "image/png": "[encoded data removed]",
      "text/plain": [
       "<Figure size 640x480 with 1 Axes>"
      ]
     },
     "metadata": {},
     "output_type": "display_data"
    }
   ],
   "source": [
    "data.loc[data['days_exposition'] > 1]['days_exposition'].hist()"
   ]
  },
  {
   "cell_type": "code",
   "execution_count": 31,
   "metadata": {},
   "outputs": [
    {
     "data": {
      "text/plain": [
       "180.88483929357665"
      ]
     },
     "metadata": {},
     "output_type": "display_data"
    },
    {
     "data": {
      "text/plain": [
       "95.0"
      ]
     },
     "metadata": {},
     "output_type": "display_data"
    },
    {
     "data": {
      "text/plain": [
       "count    20441.000000\n",
       "mean       180.884839\n",
       "std        219.685543\n",
       "min          1.000000\n",
       "25%         45.000000\n",
       "50%         95.000000\n",
       "75%        232.000000\n",
       "max       1580.000000\n",
       "Name: days_exposition, dtype: float64"
      ]
     },
     "execution_count": 31,
     "metadata": {},
     "output_type": "execute_result"
    },
    {
     "data": {
      "image/png": "[encoded data removed]",
      "text/plain": [
       "<Figure size 640x480 with 1 Axes>"
      ]
     },
     "metadata": {},
     "output_type": "display_data"
    }
   ],
   "source": [
    "#Расчёт среднего и медианного значения\n",
    "data['days_exposition'].hist()\n",
    "display(data['days_exposition'].mean())\n",
    "display(data['days_exposition'].median())\n",
    "data['days_exposition'].hist(range=(0,170))\n",
    "#display('Быстрая продажа занимает до:', int(data['days_exposition'].min()+(data['days_exposition'].max()-data['days_exposition'].min())*0.25))\n",
    "#display('Долгая продажа занимает от:', int(data['days_exposition'].max()-(data['days_exposition'].max()-data['days_exposition'].min())*0.2))\n",
    "data['days_exposition'].describe()"
   ]
  },
  {
   "cell_type": "markdown",
   "metadata": {},
   "source": [
    "В среднем продажа квартиры занимает 180 дней. Быстрой продажей можно считать ту, которая произошла до 45 дней, долгая считается от 232"
   ]
  },
  {
   "cell_type": "code",
   "execution_count": 32,
   "metadata": {},
   "outputs": [
    {
     "data": {
      "text/plain": [
       "'коэффициент корреляции Пирсона:'"
      ]
     },
     "metadata": {},
     "output_type": "display_data"
    },
    {
     "data": {
      "text/plain": [
       "0.6535810085611218"
      ]
     },
     "metadata": {},
     "output_type": "display_data"
    }
   ],
   "source": [
    "#Зависимость цены от общей площади\n",
    "dependence_total_area = data.pivot_table(index='total_area', values='last_price', aggfunc='mean')\n",
    "display('коэффициент корреляции Пирсона:', data['total_area'].corr(data['last_price']))\n"
   ]
  },
  {
   "cell_type": "markdown",
   "metadata": {},
   "source": [
    "С увеличением общей площади цена возрастает. Коэффициент корреляции Пирсона положительный, что говорит о росте цен с увеличением площади"
   ]
  },
  {
   "cell_type": "code",
   "execution_count": 33,
   "metadata": {},
   "outputs": [
    {
     "data": {
      "text/plain": [
       "'коэффициент корреляции Пирсона:'"
      ]
     },
     "metadata": {},
     "output_type": "display_data"
    },
    {
     "data": {
      "text/plain": [
       "0.5663955721081744"
      ]
     },
     "metadata": {},
     "output_type": "display_data"
    },
    {
     "data": {
      "image/png": "[encoded data removed]",
      "text/plain": [
       "<Figure size 300x300 with 1 Axes>"
      ]
     },
     "metadata": {},
     "output_type": "display_data"
    },
    {
     "data": {
      "image/png": "[encoded data removed]",
      "text/plain": [
       "<Figure size 300x300 with 1 Axes>"
      ]
     },
     "metadata": {},
     "output_type": "display_data"
    }
   ],
   "source": [
    "\n",
    "#Зависимость цены от жилой площади\n",
    "dependence_living_area = data.pivot_table(index='living_area', values='last_price', aggfunc='mean')\n",
    "dependence_living_area.plot(figsize=(3,3), legend=False)\n",
    "\n",
    "#Более узкий диапозон\n",
    "dependence_living_area.plot(xlim=(0,200), ylim=(0,100000000), ylabel='last_price', figsize=(3,3), legend=False)\n",
    "display('коэффициент корреляции Пирсона:', data['living_area'].corr(data['last_price']))"
   ]
  },
  {
   "cell_type": "markdown",
   "metadata": {},
   "source": [
    "С увеличением жилой площади цена возрастает. Основное количество объектов имеют жилую площадь (0, 200м2), в данном диапозоне так же наблюдается рост цены. Коэффициент корреляции Пирсона положительный, что говорит о росте цен с увеличением площади"
   ]
  },
  {
   "cell_type": "code",
   "execution_count": 34,
   "metadata": {},
   "outputs": [
    {
     "data": {
      "text/plain": [
       "'коэффициент корреляции Пирсона:'"
      ]
     },
     "metadata": {},
     "output_type": "display_data"
    },
    {
     "data": {
      "text/plain": [
       "0.5200184586898166"
      ]
     },
     "metadata": {},
     "output_type": "display_data"
    },
    {
     "data": {
      "image/png": "[encoded data removed]",
      "text/plain": [
       "<Figure size 300x300 with 1 Axes>"
      ]
     },
     "metadata": {},
     "output_type": "display_data"
    },
    {
     "data": {
      "image/png": "[encoded data removed]",
      "text/plain": [
       "<Figure size 300x300 with 1 Axes>"
      ]
     },
     "metadata": {},
     "output_type": "display_data"
    }
   ],
   "source": [
    "#Зависимость цены от кухонной площади\n",
    "dependence_kitchen_area = data.pivot_table(index='kitchen_area', values='last_price', aggfunc='mean')\n",
    "dependence_kitchen_area.plot(ylabel='last_price', figsize=(3,3), legend=False)\n",
    "#Более узкий диапозон\n",
    "dependence_kitchen_area.plot(xlim=(0,60),ylim=(0,100000000), ylabel='last_price', figsize=(3,3), legend=False)\n",
    "display('коэффициент корреляции Пирсона:', data['kitchen_area'].corr(data['last_price']))"
   ]
  },
  {
   "cell_type": "markdown",
   "metadata": {},
   "source": [
    " С увеличением кухонной площади цена возрастает.  Коэффициент корреляции Пирсона положительный, что говорит о росте цен с увеличением площади"
   ]
  },
  {
   "cell_type": "code",
   "execution_count": 35,
   "metadata": {},
   "outputs": [
    {
     "data": {
      "image/png": "[encoded data removed]",
      "text/plain": [
       "<Figure size 300x300 with 1 Axes>"
      ]
     },
     "metadata": {},
     "output_type": "display_data"
    }
   ],
   "source": [
    "#Зависимость цены от этажа\n",
    "dependence_type_floor = data.pivot_table(index='type_floor', values='last_price', aggfunc='mean')\n",
    "index = dependence_type_floor.reset_index()['type_floor']\n",
    "values = dependence_type_floor.reset_index()['last_price']\n",
    "plt.figure(figsize=(3,3))\n",
    "plt.bar(index, values)\n",
    "plt.show()\n"
   ]
  },
  {
   "cell_type": "markdown",
   "metadata": {},
   "source": [
    "Самые дорогие объекты находятся на последжнем этаже, самые низкие цены квартиры, находящиеся на первом этаже"
   ]
  },
  {
   "cell_type": "code",
   "execution_count": 36,
   "metadata": {},
   "outputs": [
    {
     "data": {
      "image/png": "[encoded data removed]",
      "text/plain": [
       "<Figure size 300x300 with 1 Axes>"
      ]
     },
     "metadata": {},
     "output_type": "display_data"
    },
    {
     "data": {
      "text/plain": [
       "weekday\n",
       "0   -0.004309\n",
       "1   -0.024013\n",
       "2    0.012900\n",
       "3    0.023877\n",
       "4   -0.027502\n",
       "5    0.066145\n",
       "6   -0.047098\n",
       "Name: last_price, dtype: float64"
      ]
     },
     "execution_count": 36,
     "metadata": {},
     "output_type": "execute_result"
    }
   ],
   "source": [
    "#Зависимость цены от дня публикации\n",
    "dependence_days = data.pivot_table(index='weekday', values='last_price', aggfunc='mean')\n",
    "index = dependence_days.reset_index()['weekday']\n",
    "values = dependence_days.reset_index()['last_price']\n",
    "plt.figure(figsize=(3,3))\n",
    "plt.bar(index, values)\n",
    "plt.ylabel('last_prace')\n",
    "plt.show()\n",
    "(dependence_days['last_price'] - dependence_days['last_price'].mean())/dependence_days['last_price'].mean()"
   ]
  },
  {
   "cell_type": "markdown",
   "metadata": {},
   "source": [
    "Значения цены от среднего значения по дня недели составляет менее 1%, что говорит об отсутствии зависомсти конечной цены от дня  недели"
   ]
  },
  {
   "cell_type": "code",
   "execution_count": 37,
   "metadata": {},
   "outputs": [
    {
     "data": {
      "image/png": "[encoded data removed]",
      "text/plain": [
       "<Figure size 300x300 with 1 Axes>"
      ]
     },
     "metadata": {},
     "output_type": "display_data"
    },
    {
     "data": {
      "text/plain": [
       "month_publication\n",
       "1     0.016786\n",
       "2    -0.013337\n",
       "3    -0.030377\n",
       "4     0.027835\n",
       "5     0.006319\n",
       "6    -0.036525\n",
       "7     0.014211\n",
       "8    -0.032375\n",
       "9     0.042715\n",
       "10   -0.048630\n",
       "11   -0.016231\n",
       "12    0.069610\n",
       "Name: last_price, dtype: float64"
      ]
     },
     "execution_count": 37,
     "metadata": {},
     "output_type": "execute_result"
    }
   ],
   "source": [
    "#Зависимость цены от месяца публикации\n",
    "\n",
    "dependence_month = data.pivot_table(index='month_publication', values='last_price', aggfunc='mean')\n",
    "index = dependence_month.reset_index()['month_publication']\n",
    "values = dependence_month.reset_index()['last_price']\n",
    "plt.figure(figsize=(3,3))\n",
    "plt.bar(index, values)\n",
    "plt.ylabel('last_prace')\n",
    "plt.show()\n",
    "(dependence_month['last_price'] - dependence_month['last_price'].mean())/dependence_month['last_price'].mean()"
   ]
  },
  {
   "cell_type": "markdown",
   "metadata": {},
   "source": [
    "Значения цены от среднего значения по месяцам составляет менее 1%, что говорит об отсутствии зависомсти конечной цена от месяца публикации"
   ]
  },
  {
   "cell_type": "code",
   "execution_count": 38,
   "metadata": {},
   "outputs": [
    {
     "data": {
      "image/png": "[encoded data removed]",
      "text/plain": [
       "<Figure size 300x300 with 1 Axes>"
      ]
     },
     "metadata": {},
     "output_type": "display_data"
    },
    {
     "data": {
      "text/plain": [
       "12.222222222222221"
      ]
     },
     "metadata": {},
     "output_type": "display_data"
    }
   ],
   "source": [
    "#Зависимость цены от года публикации\n",
    "dependence_years = data.pivot_table(index='year_publication', values='last_price', aggfunc='median')\n",
    "index = dependence_years.reset_index()['year_publication']\n",
    "values = dependence_years.reset_index()['last_price']\n",
    "plt.figure(figsize=(3,3))\n",
    "plt.bar(index, values)\n",
    "plt.ylabel('last_prace')\n",
    "plt.show()\n",
    "display((dependence_years['last_price'][2019]-dependence_years['last_price'][2017])/dependence_years['last_price'][2017]*100)\n"
   ]
  },
  {
   "cell_type": "markdown",
   "metadata": {},
   "source": [
    "Из графика видно, что средняя цена на квартиры падает с 2014-2017, в 2019 наблюдается рост по сравнению с 2017, который составляет 12,2%\n",
    "\n",
    "Коэффициент корреляции Пирсона отрицательный, что говорит о спаде цен по годам."
   ]
  },
  {
   "cell_type": "code",
   "execution_count": 39,
   "metadata": {},
   "outputs": [
    {
     "data": {
      "text/html": [
       "<div>\n",
       "<style scoped>\n",
       "    .dataframe tbody tr th:only-of-type {\n",
       "        vertical-align: middle;\n",
       "    }\n",
       "\n",
       "    .dataframe tbody tr th {\n",
       "        vertical-align: top;\n",
       "    }\n",
       "\n",
       "    .dataframe thead th {\n",
       "        text-align: right;\n",
       "    }\n",
       "</style>\n",
       "<table border=\"1\" class=\"dataframe\">\n",
       "  <thead>\n",
       "    <tr style=\"text-align: right;\">\n",
       "      <th></th>\n",
       "      <th>price_one_m2</th>\n",
       "    </tr>\n",
       "    <tr>\n",
       "      <th>locality_name</th>\n",
       "      <th></th>\n",
       "    </tr>\n",
       "  </thead>\n",
       "  <tbody>\n",
       "    <tr>\n",
       "      <th>Выборг</th>\n",
       "      <td>58141.909153</td>\n",
       "    </tr>\n",
       "    <tr>\n",
       "      <th>Всеволожск</th>\n",
       "      <td>68654.473986</td>\n",
       "    </tr>\n",
       "    <tr>\n",
       "      <th>Гатчина</th>\n",
       "      <td>68746.146763</td>\n",
       "    </tr>\n",
       "    <tr>\n",
       "      <th>Колпино</th>\n",
       "      <td>75424.579098</td>\n",
       "    </tr>\n",
       "    <tr>\n",
       "      <th>Шушары</th>\n",
       "      <td>78551.344545</td>\n",
       "    </tr>\n",
       "    <tr>\n",
       "      <th>Мурино</th>\n",
       "      <td>86041.116064</td>\n",
       "    </tr>\n",
       "    <tr>\n",
       "      <th>Парголово</th>\n",
       "      <td>90175.913458</td>\n",
       "    </tr>\n",
       "    <tr>\n",
       "      <th>Кудрово</th>\n",
       "      <td>95260.846171</td>\n",
       "    </tr>\n",
       "    <tr>\n",
       "      <th>Пушкин</th>\n",
       "      <td>103125.819291</td>\n",
       "    </tr>\n",
       "    <tr>\n",
       "      <th>Санкт-Петербург</th>\n",
       "      <td>114868.877341</td>\n",
       "    </tr>\n",
       "  </tbody>\n",
       "</table>\n",
       "</div>"
      ],
      "text/plain": [
       "                  price_one_m2\n",
       "locality_name                 \n",
       "Выборг            58141.909153\n",
       "Всеволожск        68654.473986\n",
       "Гатчина           68746.146763\n",
       "Колпино           75424.579098\n",
       "Шушары            78551.344545\n",
       "Мурино            86041.116064\n",
       "Парголово         90175.913458\n",
       "Кудрово           95260.846171\n",
       "Пушкин           103125.819291\n",
       "Санкт-Петербург  114868.877341"
      ]
     },
     "execution_count": 39,
     "metadata": {},
     "output_type": "execute_result"
    }
   ],
   "source": [
    "#средняя цена одного квадратного метра в 10 населённых пунктах с наибольшим числом объявлений. \n",
    "top_city_publication = data['locality_name'].value_counts().head(10)\n",
    "top_data = data.query('locality_name in @top_city_publication.index')\n",
    "top_data.pivot_table(index='locality_name', values='price_one_m2', aggfunc='mean').sort_values(by='price_one_m2')\n",
    "\n"
   ]
  },
  {
   "cell_type": "markdown",
   "metadata": {},
   "source": [
    "Населённые пункты с самой высокой и низкой стоимостью квадратного метра:\n",
    "\n",
    "Самая высокая цена за квадратный метр в г.Санкт-Петербург.\n",
    "\n",
    "Самая низкая цена в г.Выборг"
   ]
  },
  {
   "cell_type": "code",
   "execution_count": 40,
   "metadata": {},
   "outputs": [
    {
     "data": {
      "text/html": [
       "<div>\n",
       "<style scoped>\n",
       "    .dataframe tbody tr th:only-of-type {\n",
       "        vertical-align: middle;\n",
       "    }\n",
       "\n",
       "    .dataframe tbody tr th {\n",
       "        vertical-align: top;\n",
       "    }\n",
       "\n",
       "    .dataframe thead th {\n",
       "        text-align: right;\n",
       "    }\n",
       "</style>\n",
       "<table border=\"1\" class=\"dataframe\">\n",
       "  <thead>\n",
       "    <tr style=\"text-align: right;\">\n",
       "      <th></th>\n",
       "      <th>last_price</th>\n",
       "    </tr>\n",
       "    <tr>\n",
       "      <th>cityCenters_nearest_km</th>\n",
       "      <th></th>\n",
       "    </tr>\n",
       "  </thead>\n",
       "  <tbody>\n",
       "    <tr>\n",
       "      <th>0.181</th>\n",
       "      <td>31099000.0</td>\n",
       "    </tr>\n",
       "    <tr>\n",
       "      <th>0.208</th>\n",
       "      <td>5800000.0</td>\n",
       "    </tr>\n",
       "    <tr>\n",
       "      <th>0.215</th>\n",
       "      <td>10990000.0</td>\n",
       "    </tr>\n",
       "    <tr>\n",
       "      <th>0.287</th>\n",
       "      <td>9590000.0</td>\n",
       "    </tr>\n",
       "    <tr>\n",
       "      <th>0.291</th>\n",
       "      <td>11500000.0</td>\n",
       "    </tr>\n",
       "    <tr>\n",
       "      <th>...</th>\n",
       "      <td>...</td>\n",
       "    </tr>\n",
       "    <tr>\n",
       "      <th>28.644</th>\n",
       "      <td>4775000.0</td>\n",
       "    </tr>\n",
       "    <tr>\n",
       "      <th>28.806</th>\n",
       "      <td>4370000.0</td>\n",
       "    </tr>\n",
       "    <tr>\n",
       "      <th>29.263</th>\n",
       "      <td>4850000.0</td>\n",
       "    </tr>\n",
       "    <tr>\n",
       "      <th>29.343</th>\n",
       "      <td>4200000.0</td>\n",
       "    </tr>\n",
       "    <tr>\n",
       "      <th>29.493</th>\n",
       "      <td>2450000.0</td>\n",
       "    </tr>\n",
       "  </tbody>\n",
       "</table>\n",
       "<p>6296 rows × 1 columns</p>\n",
       "</div>"
      ],
      "text/plain": [
       "                        last_price\n",
       "cityCenters_nearest_km            \n",
       "0.181                   31099000.0\n",
       "0.208                    5800000.0\n",
       "0.215                   10990000.0\n",
       "0.287                    9590000.0\n",
       "0.291                   11500000.0\n",
       "...                            ...\n",
       "28.644                   4775000.0\n",
       "28.806                   4370000.0\n",
       "29.263                   4850000.0\n",
       "29.343                   4200000.0\n",
       "29.493                   2450000.0\n",
       "\n",
       "[6296 rows x 1 columns]"
      ]
     },
     "execution_count": 40,
     "metadata": {},
     "output_type": "execute_result"
    },
    {
     "data": {
      "image/png": "[encoded data removed]",
      "text/plain": [
       "<Figure size 300x300 with 1 Axes>"
      ]
     },
     "metadata": {},
     "output_type": "display_data"
    }
   ],
   "source": [
    "#data['price_km'] = data['last_price']/data['cityCenters_nearest_km']\n",
    "dependence_hearest = data.loc[data['locality_name'] == 'Санкт-Петербург'].pivot_table(index='cityCenters_nearest_km', values='last_price')\n",
    "dependence_hearest.plot(ylabel='last_price', figsize=(3,3))\n",
    "dependence_hearest"
   ]
  },
  {
   "cell_type": "markdown",
   "metadata": {},
   "source": [
    "При удаление от центра города цена уменьшается"
   ]
  },
  {
   "cell_type": "markdown",
   "metadata": {},
   "source": [
    "### Общий вывод"
   ]
  },
  {
   "cell_type": "markdown",
   "metadata": {},
   "source": [
    "По данному исследованию можно сделать следующие выводы:\n",
    "1. С увеличением общей площади цена возрастает\n",
    "2. С увеличением жилой площади цена возрастает\n",
    "3. С увеличением кухонной площади цена возрастает\n",
    "4. Самые дорогие объекты находятся на последжнем этаже, самые низкие цены квартиры, находящиеся на первом этаже\n",
    "5. Цена падает по годам\n",
    "6. Цена независит от месяцы и дня публикации\n",
    "7. Чаще всего публикуют объявление в субботу \n",
    "8. С 2014-2018 год наблюдается спад цен на объекты\n",
    "9. При удаление от центра города цена уменьшается"
   ]
  },
  {
   "cell_type": "code",
   "execution_count": null,
   "metadata": {},
   "outputs": [],
   "source": []
  }
 ],
 "metadata": {
  "ExecuteTimeLog": [
   {
    "duration": 1115,
    "start_time": "2022-11-14T18:07:52.995Z"
   },
   {
    "duration": 100,
    "start_time": "2022-11-14T18:08:23.232Z"
   },
   {
    "duration": 97,
    "start_time": "2022-11-14T18:14:18.148Z"
   },
   {
    "duration": 110,
    "start_time": "2022-11-14T18:15:00.182Z"
   },
   {
    "duration": 127,
    "start_time": "2022-11-14T18:16:08.049Z"
   },
   {
    "duration": 110,
    "start_time": "2022-11-14T18:16:50.506Z"
   },
   {
    "duration": 2453,
    "start_time": "2022-11-14T18:17:06.241Z"
   },
   {
    "duration": 2407,
    "start_time": "2022-11-14T18:18:34.994Z"
   },
   {
    "duration": 98,
    "start_time": "2022-11-14T18:26:48.574Z"
   },
   {
    "duration": 101,
    "start_time": "2022-11-14T18:26:49.718Z"
   },
   {
    "duration": 23,
    "start_time": "2022-11-14T18:26:55.477Z"
   },
   {
    "duration": 16,
    "start_time": "2022-11-14T18:26:59.854Z"
   },
   {
    "duration": 2259,
    "start_time": "2022-11-14T18:27:08.093Z"
   },
   {
    "duration": 2109,
    "start_time": "2022-11-14T18:28:45.977Z"
   },
   {
    "duration": 31,
    "start_time": "2022-11-14T18:40:59.194Z"
   },
   {
    "duration": 181,
    "start_time": "2022-11-14T18:41:26.162Z"
   },
   {
    "duration": 6,
    "start_time": "2022-11-14T18:49:39.635Z"
   },
   {
    "duration": 7,
    "start_time": "2022-11-14T18:52:51.714Z"
   },
   {
    "duration": 6,
    "start_time": "2022-11-14T18:53:14.410Z"
   },
   {
    "duration": 7,
    "start_time": "2022-11-14T18:53:22.690Z"
   },
   {
    "duration": 6,
    "start_time": "2022-11-14T18:54:14.141Z"
   },
   {
    "duration": 7,
    "start_time": "2022-11-14T18:54:23.524Z"
   },
   {
    "duration": 5,
    "start_time": "2022-11-14T18:54:28.884Z"
   },
   {
    "duration": 5,
    "start_time": "2022-11-14T18:54:36.148Z"
   },
   {
    "duration": 10,
    "start_time": "2022-11-14T19:03:56.111Z"
   },
   {
    "duration": 132,
    "start_time": "2022-11-14T19:04:09.888Z"
   },
   {
    "duration": 10,
    "start_time": "2022-11-14T19:04:23.760Z"
   },
   {
    "duration": 23,
    "start_time": "2022-11-14T19:05:42.747Z"
   },
   {
    "duration": 11,
    "start_time": "2022-11-14T19:05:55.051Z"
   },
   {
    "duration": 15,
    "start_time": "2022-11-14T19:05:58.556Z"
   },
   {
    "duration": 5,
    "start_time": "2022-11-14T19:07:43.871Z"
   },
   {
    "duration": 10,
    "start_time": "2022-11-14T19:07:47.511Z"
   },
   {
    "duration": 6,
    "start_time": "2022-11-14T19:08:06.576Z"
   },
   {
    "duration": 11,
    "start_time": "2022-11-14T19:09:23.426Z"
   },
   {
    "duration": 8,
    "start_time": "2022-11-14T19:12:29.808Z"
   },
   {
    "duration": 9,
    "start_time": "2022-11-14T19:17:23.643Z"
   },
   {
    "duration": 7,
    "start_time": "2022-11-14T19:18:29.685Z"
   },
   {
    "duration": 19,
    "start_time": "2022-11-14T19:18:40.765Z"
   },
   {
    "duration": 116,
    "start_time": "2022-11-14T19:21:55.998Z"
   },
   {
    "duration": 92,
    "start_time": "2022-11-14T19:22:27.917Z"
   },
   {
    "duration": 26,
    "start_time": "2022-11-14T19:22:34.277Z"
   },
   {
    "duration": 19,
    "start_time": "2022-11-14T19:22:52.701Z"
   },
   {
    "duration": 13,
    "start_time": "2022-11-14T19:24:11.736Z"
   },
   {
    "duration": 17,
    "start_time": "2022-11-14T19:24:20.512Z"
   },
   {
    "duration": 676,
    "start_time": "2022-11-14T19:41:30.851Z"
   },
   {
    "duration": 15,
    "start_time": "2022-11-14T19:42:08.303Z"
   },
   {
    "duration": 42,
    "start_time": "2022-11-14T19:42:15.931Z"
   },
   {
    "duration": 25,
    "start_time": "2022-11-14T19:42:33.602Z"
   },
   {
    "duration": 31,
    "start_time": "2022-11-14T19:42:58.101Z"
   },
   {
    "duration": 49,
    "start_time": "2022-11-14T19:43:52.767Z"
   },
   {
    "duration": 21,
    "start_time": "2022-11-14T19:44:18.416Z"
   },
   {
    "duration": 85,
    "start_time": "2022-11-14T19:44:47.885Z"
   },
   {
    "duration": 20,
    "start_time": "2022-11-14T19:44:52.752Z"
   },
   {
    "duration": 26,
    "start_time": "2022-11-14T19:44:58.998Z"
   },
   {
    "duration": 14,
    "start_time": "2022-11-14T19:45:47.675Z"
   },
   {
    "duration": 27,
    "start_time": "2022-11-14T19:45:54.442Z"
   },
   {
    "duration": 29,
    "start_time": "2022-11-14T19:46:16.596Z"
   },
   {
    "duration": 18,
    "start_time": "2022-11-14T19:46:58.893Z"
   },
   {
    "duration": 18,
    "start_time": "2022-11-14T19:49:09.674Z"
   },
   {
    "duration": 183,
    "start_time": "2022-11-14T19:49:22.761Z"
   },
   {
    "duration": 32,
    "start_time": "2022-11-14T19:52:34.081Z"
   },
   {
    "duration": 27,
    "start_time": "2022-11-14T19:54:07.003Z"
   },
   {
    "duration": 23,
    "start_time": "2022-11-14T19:54:13.059Z"
   },
   {
    "duration": 25,
    "start_time": "2022-11-14T19:54:27.062Z"
   },
   {
    "duration": 23,
    "start_time": "2022-11-14T19:54:41.725Z"
   },
   {
    "duration": 17,
    "start_time": "2022-11-14T19:54:52.877Z"
   },
   {
    "duration": 19,
    "start_time": "2022-11-14T19:54:56.797Z"
   },
   {
    "duration": 16,
    "start_time": "2022-11-14T19:55:01.205Z"
   },
   {
    "duration": 19,
    "start_time": "2022-11-14T19:55:20.662Z"
   },
   {
    "duration": 19,
    "start_time": "2022-11-14T19:55:50.461Z"
   },
   {
    "duration": 27,
    "start_time": "2022-11-14T19:56:01.647Z"
   },
   {
    "duration": 23,
    "start_time": "2022-11-14T19:56:35.320Z"
   },
   {
    "duration": 9,
    "start_time": "2022-11-14T19:59:18.854Z"
   },
   {
    "duration": 7,
    "start_time": "2022-11-14T19:59:29.286Z"
   },
   {
    "duration": 7,
    "start_time": "2022-11-14T20:03:52.862Z"
   },
   {
    "duration": 34,
    "start_time": "2022-11-14T20:09:20.818Z"
   },
   {
    "duration": 35,
    "start_time": "2022-11-14T20:09:52.267Z"
   },
   {
    "duration": 17,
    "start_time": "2022-11-14T20:10:52.591Z"
   },
   {
    "duration": 18,
    "start_time": "2022-11-14T20:11:04.390Z"
   },
   {
    "duration": 30,
    "start_time": "2022-11-14T20:11:21.438Z"
   },
   {
    "duration": 30,
    "start_time": "2022-11-14T20:11:44.414Z"
   },
   {
    "duration": 32,
    "start_time": "2022-11-14T20:11:49.614Z"
   },
   {
    "duration": 31,
    "start_time": "2022-11-14T20:12:07.151Z"
   },
   {
    "duration": 34,
    "start_time": "2022-11-14T20:12:29.800Z"
   },
   {
    "duration": 84,
    "start_time": "2022-11-14T20:12:40.457Z"
   },
   {
    "duration": 31,
    "start_time": "2022-11-14T20:12:49.601Z"
   },
   {
    "duration": 44,
    "start_time": "2022-11-14T20:13:25.866Z"
   },
   {
    "duration": 32,
    "start_time": "2022-11-14T20:13:34.362Z"
   },
   {
    "duration": 45,
    "start_time": "2022-11-14T20:13:41.771Z"
   },
   {
    "duration": 44,
    "start_time": "2022-11-14T20:13:59.579Z"
   },
   {
    "duration": 11,
    "start_time": "2022-11-14T20:14:10.243Z"
   },
   {
    "duration": 55,
    "start_time": "2022-11-14T20:14:24.396Z"
   },
   {
    "duration": 47,
    "start_time": "2022-11-14T20:15:04.861Z"
   },
   {
    "duration": 40,
    "start_time": "2022-11-14T20:17:23.170Z"
   },
   {
    "duration": 41,
    "start_time": "2022-11-15T13:57:04.866Z"
   },
   {
    "duration": 542,
    "start_time": "2022-11-15T13:57:13.328Z"
   },
   {
    "duration": 16,
    "start_time": "2022-11-15T13:57:13.872Z"
   },
   {
    "duration": 15,
    "start_time": "2022-11-15T13:57:14.177Z"
   },
   {
    "duration": 2333,
    "start_time": "2022-11-15T13:57:14.912Z"
   },
   {
    "duration": 15,
    "start_time": "2022-11-15T13:57:17.247Z"
   },
   {
    "duration": 20,
    "start_time": "2022-11-15T13:57:19.976Z"
   },
   {
    "duration": 53,
    "start_time": "2022-11-15T13:57:26.713Z"
   },
   {
    "duration": 22,
    "start_time": "2022-11-15T13:57:56.192Z"
   },
   {
    "duration": 34,
    "start_time": "2022-11-15T13:58:14.169Z"
   },
   {
    "duration": 22,
    "start_time": "2022-11-15T13:58:39.128Z"
   },
   {
    "duration": 32,
    "start_time": "2022-11-15T13:58:40.248Z"
   },
   {
    "duration": 63,
    "start_time": "2022-11-15T14:00:21.264Z"
   },
   {
    "duration": 7,
    "start_time": "2022-11-15T14:00:25.575Z"
   },
   {
    "duration": 41,
    "start_time": "2022-11-15T14:09:06.471Z"
   },
   {
    "duration": 19,
    "start_time": "2022-11-15T14:09:52.878Z"
   },
   {
    "duration": 7,
    "start_time": "2022-11-15T14:10:13.336Z"
   },
   {
    "duration": 6,
    "start_time": "2022-11-15T14:10:51.191Z"
   },
   {
    "duration": 7,
    "start_time": "2022-11-15T14:11:01.655Z"
   },
   {
    "duration": 8,
    "start_time": "2022-11-15T14:12:29.712Z"
   },
   {
    "duration": 11,
    "start_time": "2022-11-15T14:16:14.976Z"
   },
   {
    "duration": 9,
    "start_time": "2022-11-15T14:16:22.287Z"
   },
   {
    "duration": 42,
    "start_time": "2022-11-15T14:16:44.631Z"
   },
   {
    "duration": 4,
    "start_time": "2022-11-15T14:18:30.230Z"
   },
   {
    "duration": 6,
    "start_time": "2022-11-15T14:18:36.095Z"
   },
   {
    "duration": 6,
    "start_time": "2022-11-15T14:18:43.191Z"
   },
   {
    "duration": 5,
    "start_time": "2022-11-15T14:19:00.303Z"
   },
   {
    "duration": 5,
    "start_time": "2022-11-15T14:19:12.128Z"
   },
   {
    "duration": 4,
    "start_time": "2022-11-15T14:19:20.399Z"
   },
   {
    "duration": 5,
    "start_time": "2022-11-15T14:19:20.879Z"
   },
   {
    "duration": 21,
    "start_time": "2022-11-15T14:19:29.311Z"
   },
   {
    "duration": 34,
    "start_time": "2022-11-15T14:19:29.879Z"
   },
   {
    "duration": 5,
    "start_time": "2022-11-15T14:19:32.239Z"
   },
   {
    "duration": 81,
    "start_time": "2022-11-15T14:19:44.158Z"
   },
   {
    "duration": 20,
    "start_time": "2022-11-15T14:19:44.567Z"
   },
   {
    "duration": 13,
    "start_time": "2022-11-15T14:19:45.024Z"
   },
   {
    "duration": 1794,
    "start_time": "2022-11-15T14:19:45.551Z"
   },
   {
    "duration": 13,
    "start_time": "2022-11-15T14:19:47.346Z"
   },
   {
    "duration": 18,
    "start_time": "2022-11-15T14:19:47.703Z"
   },
   {
    "duration": 33,
    "start_time": "2022-11-15T14:19:48.535Z"
   },
   {
    "duration": 6,
    "start_time": "2022-11-15T14:19:49.199Z"
   },
   {
    "duration": 8,
    "start_time": "2022-11-15T14:19:50.255Z"
   },
   {
    "duration": 6,
    "start_time": "2022-11-15T14:19:59.216Z"
   },
   {
    "duration": 14,
    "start_time": "2022-11-15T14:21:37.911Z"
   },
   {
    "duration": 2770,
    "start_time": "2022-11-15T14:23:30.879Z"
   },
   {
    "duration": 70,
    "start_time": "2022-11-15T14:24:01.280Z"
   },
   {
    "duration": 1180,
    "start_time": "2022-11-15T14:34:12.551Z"
   },
   {
    "duration": 1367,
    "start_time": "2022-11-15T14:34:52.279Z"
   },
   {
    "duration": 2659,
    "start_time": "2022-11-15T14:35:08.607Z"
   },
   {
    "duration": 1436,
    "start_time": "2022-11-15T14:35:18.104Z"
   },
   {
    "duration": 1189,
    "start_time": "2022-11-15T14:35:52.712Z"
   },
   {
    "duration": 1599,
    "start_time": "2022-11-15T14:36:01.679Z"
   },
   {
    "duration": 12,
    "start_time": "2022-11-15T14:36:20.118Z"
   },
   {
    "duration": 18,
    "start_time": "2022-11-15T14:36:26.272Z"
   },
   {
    "duration": 17,
    "start_time": "2022-11-15T14:37:10.474Z"
   },
   {
    "duration": 18,
    "start_time": "2022-11-15T14:37:16.439Z"
   },
   {
    "duration": 1200,
    "start_time": "2022-11-15T14:37:30.519Z"
   },
   {
    "duration": 20,
    "start_time": "2022-11-15T14:37:41.926Z"
   },
   {
    "duration": 19,
    "start_time": "2022-11-15T14:37:49.991Z"
   },
   {
    "duration": 10,
    "start_time": "2022-11-15T14:38:30.624Z"
   },
   {
    "duration": 16,
    "start_time": "2022-11-15T14:38:35.359Z"
   },
   {
    "duration": 21,
    "start_time": "2022-11-15T14:42:17.799Z"
   },
   {
    "duration": 7,
    "start_time": "2022-11-15T14:42:26.590Z"
   },
   {
    "duration": 15,
    "start_time": "2022-11-15T14:48:36.095Z"
   },
   {
    "duration": 7,
    "start_time": "2022-11-15T14:48:49.582Z"
   },
   {
    "duration": 856,
    "start_time": "2022-11-15T14:48:53.735Z"
   },
   {
    "duration": 8,
    "start_time": "2022-11-15T14:49:42.719Z"
   },
   {
    "duration": 9,
    "start_time": "2022-11-15T14:49:58.766Z"
   },
   {
    "duration": 1264,
    "start_time": "2022-11-15T14:50:32.926Z"
   },
   {
    "duration": 970,
    "start_time": "2022-11-15T14:50:36.535Z"
   },
   {
    "duration": 1060,
    "start_time": "2022-11-15T14:50:57.278Z"
   },
   {
    "duration": 0,
    "start_time": "2022-11-15T14:50:58.340Z"
   },
   {
    "duration": 830,
    "start_time": "2022-11-15T14:50:58.519Z"
   },
   {
    "duration": 813,
    "start_time": "2022-11-15T14:51:04.090Z"
   },
   {
    "duration": 846,
    "start_time": "2022-11-15T14:51:08.910Z"
   },
   {
    "duration": 10,
    "start_time": "2022-11-15T14:51:12.901Z"
   },
   {
    "duration": 211,
    "start_time": "2022-11-15T14:51:14.536Z"
   },
   {
    "duration": 836,
    "start_time": "2022-11-15T14:51:19.093Z"
   },
   {
    "duration": 93,
    "start_time": "2022-11-15T14:51:24.598Z"
   },
   {
    "duration": 15,
    "start_time": "2022-11-15T14:51:25.301Z"
   },
   {
    "duration": 25,
    "start_time": "2022-11-15T14:51:25.925Z"
   },
   {
    "duration": 2153,
    "start_time": "2022-11-15T14:51:26.982Z"
   },
   {
    "duration": 17,
    "start_time": "2022-11-15T14:51:30.278Z"
   },
   {
    "duration": 21,
    "start_time": "2022-11-15T14:51:32.158Z"
   },
   {
    "duration": 39,
    "start_time": "2022-11-15T14:51:33.360Z"
   },
   {
    "duration": 7,
    "start_time": "2022-11-15T14:51:34.829Z"
   },
   {
    "duration": 14,
    "start_time": "2022-11-15T14:51:35.750Z"
   },
   {
    "duration": 5,
    "start_time": "2022-11-15T14:53:32.358Z"
   },
   {
    "duration": 8,
    "start_time": "2022-11-15T14:53:47.246Z"
   },
   {
    "duration": 8,
    "start_time": "2022-11-15T14:53:57.390Z"
   },
   {
    "duration": 9,
    "start_time": "2022-11-15T14:54:20.749Z"
   },
   {
    "duration": 9,
    "start_time": "2022-11-15T14:54:39.893Z"
   },
   {
    "duration": 9,
    "start_time": "2022-11-15T14:54:44.413Z"
   },
   {
    "duration": 9,
    "start_time": "2022-11-15T14:56:24.045Z"
   },
   {
    "duration": 9,
    "start_time": "2022-11-15T14:56:27.669Z"
   },
   {
    "duration": 9,
    "start_time": "2022-11-15T14:56:33.623Z"
   },
   {
    "duration": 34,
    "start_time": "2022-11-15T14:56:37.389Z"
   },
   {
    "duration": 7,
    "start_time": "2022-11-15T14:56:38.061Z"
   },
   {
    "duration": 84,
    "start_time": "2022-11-15T14:56:51.565Z"
   },
   {
    "duration": 16,
    "start_time": "2022-11-15T14:56:51.989Z"
   },
   {
    "duration": 15,
    "start_time": "2022-11-15T14:56:52.469Z"
   },
   {
    "duration": 1825,
    "start_time": "2022-11-15T14:56:52.967Z"
   },
   {
    "duration": 14,
    "start_time": "2022-11-15T14:56:54.794Z"
   },
   {
    "duration": 19,
    "start_time": "2022-11-15T14:56:55.181Z"
   },
   {
    "duration": 42,
    "start_time": "2022-11-15T14:56:56.029Z"
   },
   {
    "duration": 7,
    "start_time": "2022-11-15T14:56:57.678Z"
   },
   {
    "duration": 9,
    "start_time": "2022-11-15T14:56:59.045Z"
   },
   {
    "duration": 8,
    "start_time": "2022-11-15T14:57:27.022Z"
   },
   {
    "duration": 45,
    "start_time": "2022-11-15T14:57:30.334Z"
   },
   {
    "duration": 5,
    "start_time": "2022-11-15T14:57:31.790Z"
   },
   {
    "duration": 78,
    "start_time": "2022-11-15T14:57:36.957Z"
   },
   {
    "duration": 13,
    "start_time": "2022-11-15T14:57:37.341Z"
   },
   {
    "duration": 14,
    "start_time": "2022-11-15T14:57:37.758Z"
   },
   {
    "duration": 1876,
    "start_time": "2022-11-15T14:57:38.270Z"
   },
   {
    "duration": 14,
    "start_time": "2022-11-15T14:57:40.148Z"
   },
   {
    "duration": 20,
    "start_time": "2022-11-15T14:57:40.616Z"
   },
   {
    "duration": 41,
    "start_time": "2022-11-15T14:57:41.813Z"
   },
   {
    "duration": 6,
    "start_time": "2022-11-15T14:57:42.397Z"
   },
   {
    "duration": 8,
    "start_time": "2022-11-15T14:57:43.678Z"
   },
   {
    "duration": 5,
    "start_time": "2022-11-15T15:01:34.078Z"
   },
   {
    "duration": 8,
    "start_time": "2022-11-15T15:01:46.917Z"
   },
   {
    "duration": 4,
    "start_time": "2022-11-15T15:01:49.861Z"
   },
   {
    "duration": 6,
    "start_time": "2022-11-15T15:02:01.941Z"
   },
   {
    "duration": 9,
    "start_time": "2022-11-15T15:02:14.238Z"
   },
   {
    "duration": 7,
    "start_time": "2022-11-15T15:02:18.734Z"
   },
   {
    "duration": 4,
    "start_time": "2022-11-15T15:02:20.333Z"
   },
   {
    "duration": 14,
    "start_time": "2022-11-15T15:03:01.086Z"
   },
   {
    "duration": 101,
    "start_time": "2022-11-15T15:03:07.789Z"
   },
   {
    "duration": 6,
    "start_time": "2022-11-15T15:03:15.405Z"
   },
   {
    "duration": 138,
    "start_time": "2022-11-15T15:03:48.502Z"
   },
   {
    "duration": 5,
    "start_time": "2022-11-15T15:04:18.309Z"
   },
   {
    "duration": 5,
    "start_time": "2022-11-15T15:04:23.878Z"
   },
   {
    "duration": 5,
    "start_time": "2022-11-15T15:04:32.094Z"
   },
   {
    "duration": 9,
    "start_time": "2022-11-15T15:04:52.021Z"
   },
   {
    "duration": 8,
    "start_time": "2022-11-15T15:04:59.277Z"
   },
   {
    "duration": 9,
    "start_time": "2022-11-15T15:05:07.189Z"
   },
   {
    "duration": 10,
    "start_time": "2022-11-15T15:05:14.973Z"
   },
   {
    "duration": 6,
    "start_time": "2022-11-15T15:05:22.589Z"
   },
   {
    "duration": 5,
    "start_time": "2022-11-15T15:05:35.294Z"
   },
   {
    "duration": 157,
    "start_time": "2022-11-15T15:05:49.742Z"
   },
   {
    "duration": 190,
    "start_time": "2022-11-15T15:05:56.821Z"
   },
   {
    "duration": 150,
    "start_time": "2022-11-15T15:06:02.486Z"
   },
   {
    "duration": 4,
    "start_time": "2022-11-15T15:06:22.166Z"
   },
   {
    "duration": 1188,
    "start_time": "2022-11-15T15:06:34.709Z"
   },
   {
    "duration": 5,
    "start_time": "2022-11-15T15:06:39.429Z"
   },
   {
    "duration": 22,
    "start_time": "2022-11-15T15:08:19.133Z"
   },
   {
    "duration": 83,
    "start_time": "2022-11-15T15:08:29.974Z"
   },
   {
    "duration": 14,
    "start_time": "2022-11-15T15:08:30.405Z"
   },
   {
    "duration": 14,
    "start_time": "2022-11-15T15:08:30.853Z"
   },
   {
    "duration": 2028,
    "start_time": "2022-11-15T15:08:31.421Z"
   },
   {
    "duration": 15,
    "start_time": "2022-11-15T15:08:33.451Z"
   },
   {
    "duration": 120,
    "start_time": "2022-11-15T15:11:27.509Z"
   },
   {
    "duration": 241,
    "start_time": "2022-11-15T15:12:13.741Z"
   },
   {
    "duration": 233,
    "start_time": "2022-11-15T15:12:47.877Z"
   },
   {
    "duration": 188,
    "start_time": "2022-11-15T15:13:10.462Z"
   },
   {
    "duration": 137,
    "start_time": "2022-11-15T15:13:24.038Z"
   },
   {
    "duration": 180,
    "start_time": "2022-11-15T15:13:33.733Z"
   },
   {
    "duration": 152,
    "start_time": "2022-11-15T15:13:50.541Z"
   },
   {
    "duration": 172,
    "start_time": "2022-11-15T15:14:04.758Z"
   },
   {
    "duration": 352,
    "start_time": "2022-11-15T15:14:20.053Z"
   },
   {
    "duration": 5,
    "start_time": "2022-11-15T15:16:24.924Z"
   },
   {
    "duration": 5,
    "start_time": "2022-11-15T15:16:33.637Z"
   },
   {
    "duration": 5,
    "start_time": "2022-11-15T15:30:39.748Z"
   },
   {
    "duration": 11,
    "start_time": "2022-11-15T15:30:49.468Z"
   },
   {
    "duration": 10,
    "start_time": "2022-11-15T15:31:15.892Z"
   },
   {
    "duration": 8,
    "start_time": "2022-11-15T15:31:19.540Z"
   },
   {
    "duration": 1294,
    "start_time": "2022-11-15T15:32:25.204Z"
   },
   {
    "duration": 8,
    "start_time": "2022-11-15T15:32:41.748Z"
   },
   {
    "duration": 4,
    "start_time": "2022-11-15T15:33:13.259Z"
   },
   {
    "duration": 3,
    "start_time": "2022-11-15T15:33:17.444Z"
   },
   {
    "duration": 6,
    "start_time": "2022-11-15T15:37:12.940Z"
   },
   {
    "duration": 7,
    "start_time": "2022-11-15T15:37:15.755Z"
   },
   {
    "duration": 9,
    "start_time": "2022-11-15T15:37:23.289Z"
   },
   {
    "duration": 3,
    "start_time": "2022-11-15T16:05:47.803Z"
   },
   {
    "duration": 4,
    "start_time": "2022-11-15T16:05:54.267Z"
   },
   {
    "duration": 7,
    "start_time": "2022-11-15T16:06:02.834Z"
   },
   {
    "duration": 11,
    "start_time": "2022-11-15T16:13:16.410Z"
   },
   {
    "duration": 14,
    "start_time": "2022-11-15T16:14:16.114Z"
   },
   {
    "duration": 16,
    "start_time": "2022-11-15T16:14:24.129Z"
   },
   {
    "duration": 79,
    "start_time": "2022-11-15T16:15:53.831Z"
   },
   {
    "duration": 12,
    "start_time": "2022-11-15T16:16:02.610Z"
   },
   {
    "duration": 13,
    "start_time": "2022-11-15T16:16:14.690Z"
   },
   {
    "duration": 14,
    "start_time": "2022-11-15T16:16:24.545Z"
   },
   {
    "duration": 12,
    "start_time": "2022-11-15T16:16:29.497Z"
   },
   {
    "duration": 12,
    "start_time": "2022-11-15T16:16:56.225Z"
   },
   {
    "duration": 12,
    "start_time": "2022-11-15T16:17:20.378Z"
   },
   {
    "duration": 25,
    "start_time": "2022-11-15T16:17:30.114Z"
   },
   {
    "duration": 78,
    "start_time": "2022-11-15T16:18:04.186Z"
   },
   {
    "duration": 13,
    "start_time": "2022-11-15T16:18:04.613Z"
   },
   {
    "duration": 13,
    "start_time": "2022-11-15T16:18:05.074Z"
   },
   {
    "duration": 1747,
    "start_time": "2022-11-15T16:18:05.602Z"
   },
   {
    "duration": 13,
    "start_time": "2022-11-15T16:18:07.351Z"
   },
   {
    "duration": 15,
    "start_time": "2022-11-15T16:18:08.698Z"
   },
   {
    "duration": 45,
    "start_time": "2022-11-15T16:18:09.881Z"
   },
   {
    "duration": 20,
    "start_time": "2022-11-15T16:18:17.946Z"
   },
   {
    "duration": 24,
    "start_time": "2022-11-15T16:18:24.985Z"
   },
   {
    "duration": 38,
    "start_time": "2022-11-15T16:18:25.722Z"
   },
   {
    "duration": 8,
    "start_time": "2022-11-15T16:18:28.841Z"
   },
   {
    "duration": 13,
    "start_time": "2022-11-15T16:18:30.219Z"
   },
   {
    "duration": 4,
    "start_time": "2022-11-15T16:18:34.842Z"
   },
   {
    "duration": 40,
    "start_time": "2022-11-15T16:18:35.586Z"
   },
   {
    "duration": 19,
    "start_time": "2022-11-15T16:19:20.506Z"
   },
   {
    "duration": 46,
    "start_time": "2022-11-15T16:19:28.682Z"
   },
   {
    "duration": 40,
    "start_time": "2022-11-15T16:20:37.898Z"
   },
   {
    "duration": 15,
    "start_time": "2022-11-15T16:20:52.082Z"
   },
   {
    "duration": 18,
    "start_time": "2022-11-15T16:22:59.841Z"
   },
   {
    "duration": 72,
    "start_time": "2022-11-15T16:23:06.037Z"
   },
   {
    "duration": 14,
    "start_time": "2022-11-15T16:23:08.226Z"
   },
   {
    "duration": 13,
    "start_time": "2022-11-15T16:23:24.713Z"
   },
   {
    "duration": 11,
    "start_time": "2022-11-15T16:27:39.666Z"
   },
   {
    "duration": 12,
    "start_time": "2022-11-15T16:27:43.409Z"
   },
   {
    "duration": 13,
    "start_time": "2022-11-15T16:27:52.954Z"
   },
   {
    "duration": 14,
    "start_time": "2022-11-15T16:28:57.921Z"
   },
   {
    "duration": 11,
    "start_time": "2022-11-15T16:29:12.393Z"
   },
   {
    "duration": 14,
    "start_time": "2022-11-15T16:29:42.041Z"
   },
   {
    "duration": 12,
    "start_time": "2022-11-15T16:29:49.409Z"
   },
   {
    "duration": 12,
    "start_time": "2022-11-15T16:30:00.018Z"
   },
   {
    "duration": 42,
    "start_time": "2022-11-15T16:30:28.225Z"
   },
   {
    "duration": 21,
    "start_time": "2022-11-15T16:31:45.344Z"
   },
   {
    "duration": 74,
    "start_time": "2022-11-15T16:31:54.154Z"
   },
   {
    "duration": 39,
    "start_time": "2022-11-15T16:31:57.585Z"
   },
   {
    "duration": 20,
    "start_time": "2022-11-15T16:32:41.274Z"
   },
   {
    "duration": 16,
    "start_time": "2022-11-15T16:36:06.218Z"
   },
   {
    "duration": 15,
    "start_time": "2022-11-15T16:36:22.265Z"
   },
   {
    "duration": 15,
    "start_time": "2022-11-15T16:36:29.449Z"
   },
   {
    "duration": 16,
    "start_time": "2022-11-15T16:36:37.001Z"
   },
   {
    "duration": 14,
    "start_time": "2022-11-15T16:36:47.729Z"
   },
   {
    "duration": 16,
    "start_time": "2022-11-15T16:37:17.586Z"
   },
   {
    "duration": 16,
    "start_time": "2022-11-15T16:37:22.522Z"
   },
   {
    "duration": 14,
    "start_time": "2022-11-15T16:37:35.009Z"
   },
   {
    "duration": 14,
    "start_time": "2022-11-15T16:38:20.105Z"
   },
   {
    "duration": 14,
    "start_time": "2022-11-15T16:38:34.098Z"
   },
   {
    "duration": 14,
    "start_time": "2022-11-15T16:38:44.881Z"
   },
   {
    "duration": 12,
    "start_time": "2022-11-15T16:38:56.258Z"
   },
   {
    "duration": 13,
    "start_time": "2022-11-15T16:39:00.354Z"
   },
   {
    "duration": 7,
    "start_time": "2022-11-15T16:42:52.994Z"
   },
   {
    "duration": 138,
    "start_time": "2022-11-15T16:43:03.514Z"
   },
   {
    "duration": 127,
    "start_time": "2022-11-15T16:43:33.881Z"
   },
   {
    "duration": 122,
    "start_time": "2022-11-15T16:43:48.315Z"
   },
   {
    "duration": 115,
    "start_time": "2022-11-15T16:43:55.490Z"
   },
   {
    "duration": 131,
    "start_time": "2022-11-15T16:44:05.371Z"
   },
   {
    "duration": 114,
    "start_time": "2022-11-15T16:44:43.034Z"
   },
   {
    "duration": 1158,
    "start_time": "2022-11-15T16:45:11.010Z"
   },
   {
    "duration": 149,
    "start_time": "2022-11-15T16:45:21.498Z"
   },
   {
    "duration": 147,
    "start_time": "2022-11-15T16:45:55.401Z"
   },
   {
    "duration": 128,
    "start_time": "2022-11-15T16:46:04.617Z"
   },
   {
    "duration": 131,
    "start_time": "2022-11-15T16:46:44.937Z"
   },
   {
    "duration": 130,
    "start_time": "2022-11-15T16:46:52.786Z"
   },
   {
    "duration": 124,
    "start_time": "2022-11-15T16:47:20.266Z"
   },
   {
    "duration": 368,
    "start_time": "2022-11-15T16:47:40.777Z"
   },
   {
    "duration": 148,
    "start_time": "2022-11-15T16:48:00.747Z"
   },
   {
    "duration": 132,
    "start_time": "2022-11-15T16:50:12.522Z"
   },
   {
    "duration": 165,
    "start_time": "2022-11-15T16:51:08.481Z"
   },
   {
    "duration": 1275,
    "start_time": "2022-11-15T16:53:01.896Z"
   },
   {
    "duration": 142,
    "start_time": "2022-11-15T16:53:06.922Z"
   },
   {
    "duration": 132,
    "start_time": "2022-11-15T16:53:30.489Z"
   },
   {
    "duration": 147,
    "start_time": "2022-11-15T16:53:45.402Z"
   },
   {
    "duration": 129,
    "start_time": "2022-11-15T16:54:06.545Z"
   },
   {
    "duration": 135,
    "start_time": "2022-11-15T16:54:17.985Z"
   },
   {
    "duration": 110,
    "start_time": "2022-11-15T16:54:25.401Z"
   },
   {
    "duration": 7,
    "start_time": "2022-11-15T16:54:57.201Z"
   },
   {
    "duration": 35,
    "start_time": "2022-11-15T16:55:44.153Z"
   },
   {
    "duration": 535,
    "start_time": "2022-11-16T09:25:46.382Z"
   },
   {
    "duration": 17,
    "start_time": "2022-11-16T09:25:46.918Z"
   },
   {
    "duration": 14,
    "start_time": "2022-11-16T09:25:47.205Z"
   },
   {
    "duration": 2165,
    "start_time": "2022-11-16T09:25:47.732Z"
   },
   {
    "duration": 16,
    "start_time": "2022-11-16T09:25:49.899Z"
   },
   {
    "duration": 20,
    "start_time": "2022-11-16T09:25:51.036Z"
   },
   {
    "duration": 9,
    "start_time": "2022-11-16T09:27:54.494Z"
   },
   {
    "duration": 36,
    "start_time": "2022-11-16T09:30:52.708Z"
   },
   {
    "duration": 67,
    "start_time": "2022-11-16T09:32:37.250Z"
   },
   {
    "duration": 9,
    "start_time": "2022-11-16T09:32:48.948Z"
   },
   {
    "duration": 75,
    "start_time": "2022-11-16T09:33:01.300Z"
   },
   {
    "duration": 47,
    "start_time": "2022-11-16T09:33:07.084Z"
   },
   {
    "duration": 87,
    "start_time": "2022-11-16T09:33:14.307Z"
   },
   {
    "duration": 14,
    "start_time": "2022-11-16T09:33:14.771Z"
   },
   {
    "duration": 13,
    "start_time": "2022-11-16T09:33:15.172Z"
   },
   {
    "duration": 1859,
    "start_time": "2022-11-16T09:33:15.572Z"
   },
   {
    "duration": 15,
    "start_time": "2022-11-16T09:33:17.432Z"
   },
   {
    "duration": 20,
    "start_time": "2022-11-16T09:33:17.635Z"
   },
   {
    "duration": 56,
    "start_time": "2022-11-16T09:33:29.699Z"
   },
   {
    "duration": 22,
    "start_time": "2022-11-16T09:33:33.196Z"
   },
   {
    "duration": 91,
    "start_time": "2022-11-16T09:33:37.932Z"
   },
   {
    "duration": 14,
    "start_time": "2022-11-16T09:33:38.284Z"
   },
   {
    "duration": 14,
    "start_time": "2022-11-16T09:33:38.643Z"
   },
   {
    "duration": 1832,
    "start_time": "2022-11-16T09:33:39.068Z"
   },
   {
    "duration": 18,
    "start_time": "2022-11-16T09:33:40.902Z"
   },
   {
    "duration": 19,
    "start_time": "2022-11-16T09:33:41.316Z"
   },
   {
    "duration": 57,
    "start_time": "2022-11-16T09:33:44.108Z"
   },
   {
    "duration": 61,
    "start_time": "2022-11-16T09:34:32.789Z"
   },
   {
    "duration": 40,
    "start_time": "2022-11-16T09:34:34.068Z"
   },
   {
    "duration": 75,
    "start_time": "2022-11-16T09:34:41.700Z"
   },
   {
    "duration": 16,
    "start_time": "2022-11-16T09:34:42.116Z"
   },
   {
    "duration": 13,
    "start_time": "2022-11-16T09:34:42.588Z"
   },
   {
    "duration": 1844,
    "start_time": "2022-11-16T09:34:43.100Z"
   },
   {
    "duration": 14,
    "start_time": "2022-11-16T09:34:44.946Z"
   },
   {
    "duration": 42,
    "start_time": "2022-11-16T09:34:46.773Z"
   },
   {
    "duration": 34,
    "start_time": "2022-11-16T09:35:05.132Z"
   },
   {
    "duration": 73,
    "start_time": "2022-11-16T09:35:11.019Z"
   },
   {
    "duration": 14,
    "start_time": "2022-11-16T09:35:11.300Z"
   },
   {
    "duration": 14,
    "start_time": "2022-11-16T09:35:11.604Z"
   },
   {
    "duration": 1695,
    "start_time": "2022-11-16T09:35:11.907Z"
   },
   {
    "duration": 19,
    "start_time": "2022-11-16T09:35:13.603Z"
   },
   {
    "duration": 32,
    "start_time": "2022-11-16T09:35:13.683Z"
   },
   {
    "duration": 7,
    "start_time": "2022-11-16T09:36:16.229Z"
   },
   {
    "duration": 16,
    "start_time": "2022-11-16T09:40:18.043Z"
   },
   {
    "duration": 73,
    "start_time": "2022-11-16T09:40:22.259Z"
   },
   {
    "duration": 19,
    "start_time": "2022-11-16T09:40:22.811Z"
   },
   {
    "duration": 10,
    "start_time": "2022-11-16T09:44:18.403Z"
   },
   {
    "duration": 74,
    "start_time": "2022-11-16T09:44:28.299Z"
   },
   {
    "duration": 15,
    "start_time": "2022-11-16T09:44:28.611Z"
   },
   {
    "duration": 13,
    "start_time": "2022-11-16T09:44:28.963Z"
   },
   {
    "duration": 1927,
    "start_time": "2022-11-16T09:44:29.323Z"
   },
   {
    "duration": 15,
    "start_time": "2022-11-16T09:44:31.252Z"
   },
   {
    "duration": 44,
    "start_time": "2022-11-16T09:44:31.269Z"
   },
   {
    "duration": 37,
    "start_time": "2022-11-16T09:44:31.506Z"
   },
   {
    "duration": 7,
    "start_time": "2022-11-16T09:44:32.315Z"
   },
   {
    "duration": 27,
    "start_time": "2022-11-16T09:44:34.547Z"
   },
   {
    "duration": 7,
    "start_time": "2022-11-16T09:45:37.537Z"
   },
   {
    "duration": 79,
    "start_time": "2022-11-16T09:51:31.674Z"
   },
   {
    "duration": 16,
    "start_time": "2022-11-16T09:51:32.057Z"
   },
   {
    "duration": 15,
    "start_time": "2022-11-16T09:51:32.394Z"
   },
   {
    "duration": 1969,
    "start_time": "2022-11-16T09:51:32.762Z"
   },
   {
    "duration": 17,
    "start_time": "2022-11-16T09:51:34.734Z"
   },
   {
    "duration": 33,
    "start_time": "2022-11-16T09:51:35.003Z"
   },
   {
    "duration": 34,
    "start_time": "2022-11-16T09:51:36.250Z"
   },
   {
    "duration": 9,
    "start_time": "2022-11-16T09:51:37.378Z"
   },
   {
    "duration": 1217,
    "start_time": "2022-11-16T09:51:40.026Z"
   },
   {
    "duration": 0,
    "start_time": "2022-11-16T09:51:41.245Z"
   },
   {
    "duration": 7,
    "start_time": "2022-11-16T09:52:11.474Z"
   },
   {
    "duration": 7,
    "start_time": "2022-11-16T09:52:19.482Z"
   },
   {
    "duration": 20,
    "start_time": "2022-11-16T09:57:14.539Z"
   },
   {
    "duration": 8,
    "start_time": "2022-11-16T09:59:17.569Z"
   },
   {
    "duration": 5,
    "start_time": "2022-11-16T09:59:27.450Z"
   },
   {
    "duration": 9,
    "start_time": "2022-11-16T09:59:57.562Z"
   },
   {
    "duration": 5,
    "start_time": "2022-11-16T10:00:14.778Z"
   },
   {
    "duration": 6,
    "start_time": "2022-11-16T10:10:40.265Z"
   },
   {
    "duration": 4,
    "start_time": "2022-11-16T10:15:15.513Z"
   },
   {
    "duration": 4,
    "start_time": "2022-11-16T10:15:21.097Z"
   },
   {
    "duration": 5,
    "start_time": "2022-11-16T10:15:34.777Z"
   },
   {
    "duration": 16,
    "start_time": "2022-11-16T10:18:53.400Z"
   },
   {
    "duration": 13,
    "start_time": "2022-11-16T10:19:05.233Z"
   },
   {
    "duration": 76,
    "start_time": "2022-11-16T10:19:13.497Z"
   },
   {
    "duration": 16,
    "start_time": "2022-11-16T10:19:13.664Z"
   },
   {
    "duration": 13,
    "start_time": "2022-11-16T10:19:13.856Z"
   },
   {
    "duration": 1720,
    "start_time": "2022-11-16T10:19:14.026Z"
   },
   {
    "duration": 14,
    "start_time": "2022-11-16T10:19:15.748Z"
   },
   {
    "duration": 31,
    "start_time": "2022-11-16T10:19:15.764Z"
   },
   {
    "duration": 34,
    "start_time": "2022-11-16T10:19:15.852Z"
   },
   {
    "duration": 10,
    "start_time": "2022-11-16T10:19:16.560Z"
   },
   {
    "duration": 14,
    "start_time": "2022-11-16T10:19:17.928Z"
   },
   {
    "duration": 13,
    "start_time": "2022-11-16T10:19:24.017Z"
   },
   {
    "duration": 77,
    "start_time": "2022-11-16T10:20:05.825Z"
   },
   {
    "duration": 16,
    "start_time": "2022-11-16T10:20:06.100Z"
   },
   {
    "duration": 14,
    "start_time": "2022-11-16T10:20:06.305Z"
   },
   {
    "duration": 1945,
    "start_time": "2022-11-16T10:20:06.473Z"
   },
   {
    "duration": 14,
    "start_time": "2022-11-16T10:20:08.420Z"
   },
   {
    "duration": 35,
    "start_time": "2022-11-16T10:20:08.436Z"
   },
   {
    "duration": 34,
    "start_time": "2022-11-16T10:20:09.064Z"
   },
   {
    "duration": 18,
    "start_time": "2022-11-16T10:21:52.064Z"
   },
   {
    "duration": 7,
    "start_time": "2022-11-16T10:24:00.600Z"
   },
   {
    "duration": 8,
    "start_time": "2022-11-16T10:24:01.128Z"
   },
   {
    "duration": 5,
    "start_time": "2022-11-16T10:24:02.096Z"
   },
   {
    "duration": 6,
    "start_time": "2022-11-16T10:24:02.928Z"
   },
   {
    "duration": 10,
    "start_time": "2022-11-16T10:29:36.649Z"
   },
   {
    "duration": 4,
    "start_time": "2022-11-16T10:29:40.176Z"
   },
   {
    "duration": 276,
    "start_time": "2022-11-16T10:29:41.272Z"
   },
   {
    "duration": 272,
    "start_time": "2022-11-16T10:29:50.424Z"
   },
   {
    "duration": 77,
    "start_time": "2022-11-16T10:30:37.888Z"
   },
   {
    "duration": 15,
    "start_time": "2022-11-16T10:30:38.120Z"
   },
   {
    "duration": 14,
    "start_time": "2022-11-16T10:30:38.312Z"
   },
   {
    "duration": 1731,
    "start_time": "2022-11-16T10:30:38.479Z"
   },
   {
    "duration": 17,
    "start_time": "2022-11-16T10:30:40.212Z"
   },
   {
    "duration": 40,
    "start_time": "2022-11-16T10:30:40.232Z"
   },
   {
    "duration": 65,
    "start_time": "2022-11-16T10:30:40.274Z"
   },
   {
    "duration": 9,
    "start_time": "2022-11-16T10:30:40.343Z"
   },
   {
    "duration": 19,
    "start_time": "2022-11-16T10:30:40.735Z"
   },
   {
    "duration": 7,
    "start_time": "2022-11-16T10:30:42.544Z"
   },
   {
    "duration": 8,
    "start_time": "2022-11-16T10:30:42.968Z"
   },
   {
    "duration": 7,
    "start_time": "2022-11-16T10:30:43.383Z"
   },
   {
    "duration": 6,
    "start_time": "2022-11-16T10:30:43.865Z"
   },
   {
    "duration": 3,
    "start_time": "2022-11-16T10:30:44.216Z"
   },
   {
    "duration": 510,
    "start_time": "2022-11-16T10:30:44.702Z"
   },
   {
    "duration": 294,
    "start_time": "2022-11-16T10:31:20.264Z"
   },
   {
    "duration": 7,
    "start_time": "2022-11-16T10:44:35.912Z"
   },
   {
    "duration": 5,
    "start_time": "2022-11-16T10:46:43.543Z"
   },
   {
    "duration": 121,
    "start_time": "2022-11-16T10:46:55.104Z"
   },
   {
    "duration": 70,
    "start_time": "2022-11-16T10:47:33.797Z"
   },
   {
    "duration": 71,
    "start_time": "2022-11-16T10:47:44.919Z"
   },
   {
    "duration": 113,
    "start_time": "2022-11-16T10:47:53.394Z"
   },
   {
    "duration": 118,
    "start_time": "2022-11-16T10:47:58.103Z"
   },
   {
    "duration": 140,
    "start_time": "2022-11-16T10:48:01.080Z"
   },
   {
    "duration": 259,
    "start_time": "2022-11-16T10:49:02.208Z"
   },
   {
    "duration": 3,
    "start_time": "2022-11-16T10:50:01.299Z"
   },
   {
    "duration": 6,
    "start_time": "2022-11-16T10:50:07.248Z"
   },
   {
    "duration": 6,
    "start_time": "2022-11-16T10:58:20.904Z"
   },
   {
    "duration": 6,
    "start_time": "2022-11-16T10:59:39.990Z"
   },
   {
    "duration": 13,
    "start_time": "2022-11-16T11:01:31.320Z"
   },
   {
    "duration": 6,
    "start_time": "2022-11-16T11:01:52.109Z"
   },
   {
    "duration": 6,
    "start_time": "2022-11-16T11:01:56.112Z"
   },
   {
    "duration": 81,
    "start_time": "2022-11-16T11:02:01.729Z"
   },
   {
    "duration": 15,
    "start_time": "2022-11-16T11:02:01.912Z"
   },
   {
    "duration": 14,
    "start_time": "2022-11-16T11:02:02.114Z"
   },
   {
    "duration": 1731,
    "start_time": "2022-11-16T11:02:02.312Z"
   },
   {
    "duration": 14,
    "start_time": "2022-11-16T11:02:04.044Z"
   },
   {
    "duration": 30,
    "start_time": "2022-11-16T11:02:04.059Z"
   },
   {
    "duration": 34,
    "start_time": "2022-11-16T11:02:04.110Z"
   },
   {
    "duration": 8,
    "start_time": "2022-11-16T11:02:04.927Z"
   },
   {
    "duration": 7,
    "start_time": "2022-11-16T11:02:05.720Z"
   },
   {
    "duration": 5,
    "start_time": "2022-11-16T11:02:06.810Z"
   },
   {
    "duration": 7,
    "start_time": "2022-11-16T11:02:21.997Z"
   },
   {
    "duration": 7,
    "start_time": "2022-11-16T11:02:29.352Z"
   },
   {
    "duration": 1406,
    "start_time": "2022-11-16T11:12:49.080Z"
   },
   {
    "duration": 74,
    "start_time": "2022-11-16T11:13:58.072Z"
   },
   {
    "duration": 16,
    "start_time": "2022-11-16T11:13:58.312Z"
   },
   {
    "duration": 14,
    "start_time": "2022-11-16T11:13:58.544Z"
   },
   {
    "duration": 2064,
    "start_time": "2022-11-16T11:13:58.745Z"
   },
   {
    "duration": 15,
    "start_time": "2022-11-16T11:14:00.811Z"
   },
   {
    "duration": 31,
    "start_time": "2022-11-16T11:14:00.827Z"
   },
   {
    "duration": 54,
    "start_time": "2022-11-16T11:14:00.859Z"
   },
   {
    "duration": 7,
    "start_time": "2022-11-16T11:14:00.915Z"
   },
   {
    "duration": 16,
    "start_time": "2022-11-16T11:14:00.923Z"
   },
   {
    "duration": 7,
    "start_time": "2022-11-16T11:14:01.319Z"
   },
   {
    "duration": 7,
    "start_time": "2022-11-16T11:14:02.816Z"
   },
   {
    "duration": 8,
    "start_time": "2022-11-16T11:14:03.248Z"
   },
   {
    "duration": 6,
    "start_time": "2022-11-16T11:14:03.695Z"
   },
   {
    "duration": 6,
    "start_time": "2022-11-16T11:14:04.080Z"
   },
   {
    "duration": 3,
    "start_time": "2022-11-16T11:14:04.479Z"
   },
   {
    "duration": 274,
    "start_time": "2022-11-16T11:14:04.904Z"
   },
   {
    "duration": 7,
    "start_time": "2022-11-16T11:14:05.432Z"
   },
   {
    "duration": 293,
    "start_time": "2022-11-16T11:14:07.664Z"
   },
   {
    "duration": 279,
    "start_time": "2022-11-16T11:14:56.008Z"
   },
   {
    "duration": 983,
    "start_time": "2022-11-16T11:17:44.402Z"
   },
   {
    "duration": 351,
    "start_time": "2022-11-16T11:17:56.809Z"
   },
   {
    "duration": 908,
    "start_time": "2022-11-16T11:18:03.689Z"
   },
   {
    "duration": 1275,
    "start_time": "2022-11-16T11:18:53.936Z"
   },
   {
    "duration": 108,
    "start_time": "2022-11-16T11:19:45.041Z"
   },
   {
    "duration": 132,
    "start_time": "2022-11-16T11:20:09.392Z"
   },
   {
    "duration": 279,
    "start_time": "2022-11-16T11:20:14.938Z"
   },
   {
    "duration": 286,
    "start_time": "2022-11-16T11:20:27.392Z"
   },
   {
    "duration": 332,
    "start_time": "2022-11-16T11:20:38.225Z"
   },
   {
    "duration": 300,
    "start_time": "2022-11-16T11:20:54.545Z"
   },
   {
    "duration": 155,
    "start_time": "2022-11-16T11:26:26.920Z"
   },
   {
    "duration": 123,
    "start_time": "2022-11-16T11:26:58.943Z"
   },
   {
    "duration": 111,
    "start_time": "2022-11-16T11:27:10.089Z"
   },
   {
    "duration": 81,
    "start_time": "2022-11-16T11:27:26.290Z"
   },
   {
    "duration": 15,
    "start_time": "2022-11-16T11:27:26.591Z"
   },
   {
    "duration": 14,
    "start_time": "2022-11-16T11:27:26.775Z"
   },
   {
    "duration": 1744,
    "start_time": "2022-11-16T11:27:26.943Z"
   },
   {
    "duration": 15,
    "start_time": "2022-11-16T11:27:28.689Z"
   },
   {
    "duration": 30,
    "start_time": "2022-11-16T11:27:28.713Z"
   },
   {
    "duration": 32,
    "start_time": "2022-11-16T11:27:28.745Z"
   },
   {
    "duration": 7,
    "start_time": "2022-11-16T11:27:28.779Z"
   },
   {
    "duration": 28,
    "start_time": "2022-11-16T11:27:28.787Z"
   },
   {
    "duration": 7,
    "start_time": "2022-11-16T11:27:29.047Z"
   },
   {
    "duration": 8,
    "start_time": "2022-11-16T11:27:29.855Z"
   },
   {
    "duration": 8,
    "start_time": "2022-11-16T11:27:30.056Z"
   },
   {
    "duration": 5,
    "start_time": "2022-11-16T11:27:30.504Z"
   },
   {
    "duration": 5,
    "start_time": "2022-11-16T11:27:30.760Z"
   },
   {
    "duration": 3,
    "start_time": "2022-11-16T11:27:31.063Z"
   },
   {
    "duration": 258,
    "start_time": "2022-11-16T11:27:31.391Z"
   },
   {
    "duration": 7,
    "start_time": "2022-11-16T11:27:31.703Z"
   },
   {
    "duration": 111,
    "start_time": "2022-11-16T11:27:32.710Z"
   },
   {
    "duration": 264,
    "start_time": "2022-11-16T11:29:29.127Z"
   },
   {
    "duration": 919,
    "start_time": "2022-11-16T11:31:41.189Z"
   },
   {
    "duration": 14,
    "start_time": "2022-11-16T11:32:02.781Z"
   },
   {
    "duration": 5,
    "start_time": "2022-11-16T11:32:10.660Z"
   },
   {
    "duration": 6,
    "start_time": "2022-11-16T11:32:19.988Z"
   },
   {
    "duration": 136,
    "start_time": "2022-11-16T11:32:58.782Z"
   },
   {
    "duration": 122,
    "start_time": "2022-11-16T11:33:14.151Z"
   },
   {
    "duration": 117,
    "start_time": "2022-11-16T11:33:20.576Z"
   },
   {
    "duration": 157,
    "start_time": "2022-11-16T11:33:30.855Z"
   },
   {
    "duration": 2180,
    "start_time": "2022-11-16T11:34:26.838Z"
   },
   {
    "duration": 41,
    "start_time": "2022-11-16T11:34:40.670Z"
   },
   {
    "duration": 38,
    "start_time": "2022-11-16T11:34:53.701Z"
   },
   {
    "duration": 1643,
    "start_time": "2022-11-16T11:35:28.603Z"
   },
   {
    "duration": 143,
    "start_time": "2022-11-16T11:35:43.119Z"
   },
   {
    "duration": 1044,
    "start_time": "2022-11-16T17:01:24.618Z"
   },
   {
    "duration": 20,
    "start_time": "2022-11-16T17:01:25.664Z"
   },
   {
    "duration": 20,
    "start_time": "2022-11-16T17:01:25.686Z"
   },
   {
    "duration": 2162,
    "start_time": "2022-11-16T17:01:25.708Z"
   },
   {
    "duration": 16,
    "start_time": "2022-11-16T17:01:27.872Z"
   },
   {
    "duration": 39,
    "start_time": "2022-11-16T17:01:27.890Z"
   },
   {
    "duration": 56,
    "start_time": "2022-11-16T17:01:27.931Z"
   },
   {
    "duration": 10,
    "start_time": "2022-11-16T17:01:32.965Z"
   },
   {
    "duration": 11,
    "start_time": "2022-11-16T17:01:33.304Z"
   },
   {
    "duration": 8,
    "start_time": "2022-11-16T17:01:33.664Z"
   },
   {
    "duration": 6,
    "start_time": "2022-11-16T17:01:35.424Z"
   },
   {
    "duration": 8,
    "start_time": "2022-11-16T17:01:35.833Z"
   },
   {
    "duration": 5,
    "start_time": "2022-11-16T17:01:36.216Z"
   },
   {
    "duration": 5,
    "start_time": "2022-11-16T17:01:36.616Z"
   },
   {
    "duration": 3,
    "start_time": "2022-11-16T17:01:37.000Z"
   },
   {
    "duration": 300,
    "start_time": "2022-11-16T17:01:37.397Z"
   },
   {
    "duration": 7,
    "start_time": "2022-11-16T17:01:37.794Z"
   },
   {
    "duration": 404,
    "start_time": "2022-11-16T17:01:39.640Z"
   },
   {
    "duration": 79,
    "start_time": "2022-11-16T17:01:55.617Z"
   },
   {
    "duration": 1139,
    "start_time": "2022-11-16T17:02:01.490Z"
   },
   {
    "duration": 3343,
    "start_time": "2022-11-16T17:02:34.602Z"
   },
   {
    "duration": 3644,
    "start_time": "2022-11-16T17:04:46.903Z"
   },
   {
    "duration": 134,
    "start_time": "2022-11-16T17:05:14.737Z"
   },
   {
    "duration": 2755,
    "start_time": "2022-11-16T17:05:29.065Z"
   },
   {
    "duration": 138,
    "start_time": "2022-11-16T17:07:37.299Z"
   },
   {
    "duration": 6,
    "start_time": "2022-11-16T17:08:02.290Z"
   },
   {
    "duration": 220,
    "start_time": "2022-11-16T17:08:09.510Z"
   },
   {
    "duration": 802,
    "start_time": "2022-11-16T17:08:27.301Z"
   },
   {
    "duration": 2783,
    "start_time": "2022-11-16T17:09:04.708Z"
   },
   {
    "duration": 841,
    "start_time": "2022-11-16T17:10:12.003Z"
   },
   {
    "duration": 161,
    "start_time": "2022-11-16T17:10:44.388Z"
   },
   {
    "duration": 161,
    "start_time": "2022-11-16T17:10:59.972Z"
   },
   {
    "duration": 168,
    "start_time": "2022-11-16T17:11:09.109Z"
   },
   {
    "duration": 154,
    "start_time": "2022-11-16T17:11:18.981Z"
   },
   {
    "duration": 198,
    "start_time": "2022-11-16T17:11:37.775Z"
   },
   {
    "duration": 6,
    "start_time": "2022-11-16T17:12:04.040Z"
   },
   {
    "duration": 6,
    "start_time": "2022-11-16T17:12:42.369Z"
   },
   {
    "duration": 99,
    "start_time": "2022-11-16T17:12:47.065Z"
   },
   {
    "duration": 17,
    "start_time": "2022-11-16T17:12:47.267Z"
   },
   {
    "duration": 15,
    "start_time": "2022-11-16T17:12:47.472Z"
   },
   {
    "duration": 2614,
    "start_time": "2022-11-16T17:12:47.667Z"
   },
   {
    "duration": 16,
    "start_time": "2022-11-16T17:12:50.283Z"
   },
   {
    "duration": 62,
    "start_time": "2022-11-16T17:12:50.301Z"
   },
   {
    "duration": 42,
    "start_time": "2022-11-16T17:12:50.368Z"
   },
   {
    "duration": 19,
    "start_time": "2022-11-16T17:12:50.412Z"
   },
   {
    "duration": 30,
    "start_time": "2022-11-16T17:12:50.433Z"
   },
   {
    "duration": 20,
    "start_time": "2022-11-16T17:12:50.465Z"
   },
   {
    "duration": 8,
    "start_time": "2022-11-16T17:12:51.207Z"
   },
   {
    "duration": 9,
    "start_time": "2022-11-16T17:12:51.499Z"
   },
   {
    "duration": 8,
    "start_time": "2022-11-16T17:12:51.760Z"
   },
   {
    "duration": 6,
    "start_time": "2022-11-16T17:12:52.033Z"
   },
   {
    "duration": 4,
    "start_time": "2022-11-16T17:12:52.320Z"
   },
   {
    "duration": 294,
    "start_time": "2022-11-16T17:12:52.605Z"
   },
   {
    "duration": 7,
    "start_time": "2022-11-16T17:12:52.901Z"
   },
   {
    "duration": 2272,
    "start_time": "2022-11-16T17:12:54.267Z"
   },
   {
    "duration": 143,
    "start_time": "2022-11-16T17:12:56.542Z"
   },
   {
    "duration": 161,
    "start_time": "2022-11-16T17:12:56.687Z"
   },
   {
    "duration": 190,
    "start_time": "2022-11-16T17:13:01.297Z"
   },
   {
    "duration": 551,
    "start_time": "2022-11-16T17:14:47.836Z"
   },
   {
    "duration": 268,
    "start_time": "2022-11-16T17:16:00.914Z"
   },
   {
    "duration": 188,
    "start_time": "2022-11-16T17:16:10.839Z"
   },
   {
    "duration": 189,
    "start_time": "2022-11-16T17:21:06.884Z"
   },
   {
    "duration": 196,
    "start_time": "2022-11-16T17:30:42.004Z"
   },
   {
    "duration": 145,
    "start_time": "2022-11-16T17:31:11.781Z"
   },
   {
    "duration": 141,
    "start_time": "2022-11-16T17:31:46.349Z"
   },
   {
    "duration": 13,
    "start_time": "2022-11-16T17:41:59.824Z"
   },
   {
    "duration": 18,
    "start_time": "2022-11-16T17:42:07.373Z"
   },
   {
    "duration": 172,
    "start_time": "2022-11-16T17:43:40.594Z"
   },
   {
    "duration": 95,
    "start_time": "2022-11-16T17:45:22.475Z"
   },
   {
    "duration": 103,
    "start_time": "2022-11-16T17:45:29.561Z"
   },
   {
    "duration": 133,
    "start_time": "2022-11-16T17:45:34.622Z"
   },
   {
    "duration": 83,
    "start_time": "2022-11-16T17:45:37.438Z"
   },
   {
    "duration": 111,
    "start_time": "2022-11-16T17:45:44.415Z"
   },
   {
    "duration": 17,
    "start_time": "2022-11-16T17:48:02.603Z"
   },
   {
    "duration": 16,
    "start_time": "2022-11-16T17:48:24.820Z"
   },
   {
    "duration": 23,
    "start_time": "2022-11-16T17:48:34.677Z"
   },
   {
    "duration": 129,
    "start_time": "2022-11-16T17:49:26.852Z"
   },
   {
    "duration": 199,
    "start_time": "2022-11-16T17:49:48.070Z"
   },
   {
    "duration": 205,
    "start_time": "2022-11-16T17:49:53.016Z"
   },
   {
    "duration": 125,
    "start_time": "2022-11-16T17:50:16.584Z"
   },
   {
    "duration": 146,
    "start_time": "2022-11-16T17:51:32.192Z"
   },
   {
    "duration": 136,
    "start_time": "2022-11-16T17:52:50.930Z"
   },
   {
    "duration": 145,
    "start_time": "2022-11-16T17:53:55.925Z"
   },
   {
    "duration": 129,
    "start_time": "2022-11-16T18:02:21.304Z"
   },
   {
    "duration": 126,
    "start_time": "2022-11-16T18:02:37.009Z"
   },
   {
    "duration": 15,
    "start_time": "2022-11-16T18:03:13.625Z"
   },
   {
    "duration": 142,
    "start_time": "2022-11-16T18:03:28.089Z"
   },
   {
    "duration": 15,
    "start_time": "2022-11-16T18:06:27.661Z"
   },
   {
    "duration": 16,
    "start_time": "2022-11-16T18:06:33.918Z"
   },
   {
    "duration": 278,
    "start_time": "2022-11-16T18:07:30.689Z"
   },
   {
    "duration": 107,
    "start_time": "2022-11-16T18:07:44.601Z"
   },
   {
    "duration": 81,
    "start_time": "2022-11-16T18:09:28.875Z"
   },
   {
    "duration": 147,
    "start_time": "2022-11-16T18:09:40.178Z"
   },
   {
    "duration": 28,
    "start_time": "2022-11-16T18:10:53.469Z"
   },
   {
    "duration": 204,
    "start_time": "2022-11-16T18:11:29.495Z"
   },
   {
    "duration": 158,
    "start_time": "2022-11-16T18:11:39.999Z"
   },
   {
    "duration": 141,
    "start_time": "2022-11-16T18:11:45.207Z"
   },
   {
    "duration": 17,
    "start_time": "2022-11-16T18:11:59.304Z"
   },
   {
    "duration": 72,
    "start_time": "2022-11-16T18:12:06.016Z"
   },
   {
    "duration": 174,
    "start_time": "2022-11-16T18:12:09.672Z"
   },
   {
    "duration": 154,
    "start_time": "2022-11-16T18:12:22.345Z"
   },
   {
    "duration": 277,
    "start_time": "2022-11-16T18:12:26.361Z"
   },
   {
    "duration": 294,
    "start_time": "2022-11-16T18:12:57.977Z"
   },
   {
    "duration": 314,
    "start_time": "2022-11-16T18:13:14.018Z"
   },
   {
    "duration": 293,
    "start_time": "2022-11-16T18:13:51.461Z"
   },
   {
    "duration": 168,
    "start_time": "2022-11-16T18:15:28.574Z"
   },
   {
    "duration": 319,
    "start_time": "2022-11-16T18:15:31.350Z"
   },
   {
    "duration": 332,
    "start_time": "2022-11-16T18:15:38.439Z"
   },
   {
    "duration": 178,
    "start_time": "2022-11-16T18:19:56.327Z"
   },
   {
    "duration": 16,
    "start_time": "2022-11-16T18:20:12.743Z"
   },
   {
    "duration": 150,
    "start_time": "2022-11-16T18:20:25.943Z"
   },
   {
    "duration": 1141,
    "start_time": "2022-11-16T18:23:02.459Z"
   },
   {
    "duration": 20,
    "start_time": "2022-11-16T18:23:20.173Z"
   },
   {
    "duration": 183,
    "start_time": "2022-11-16T18:23:25.245Z"
   },
   {
    "duration": 109,
    "start_time": "2022-11-16T18:23:50.989Z"
   },
   {
    "duration": 115,
    "start_time": "2022-11-16T18:28:27.892Z"
   },
   {
    "duration": 293,
    "start_time": "2022-11-16T18:29:03.332Z"
   },
   {
    "duration": 152,
    "start_time": "2022-11-16T18:29:03.867Z"
   },
   {
    "duration": 117,
    "start_time": "2022-11-16T18:29:04.675Z"
   },
   {
    "duration": 121,
    "start_time": "2022-11-16T18:29:05.331Z"
   },
   {
    "duration": 116,
    "start_time": "2022-11-16T18:29:06.572Z"
   },
   {
    "duration": 1115,
    "start_time": "2022-11-16T18:30:43.895Z"
   },
   {
    "duration": 172,
    "start_time": "2022-11-16T18:30:45.648Z"
   },
   {
    "duration": 1185,
    "start_time": "2022-11-16T18:30:46.657Z"
   },
   {
    "duration": 158,
    "start_time": "2022-11-16T18:31:20.650Z"
   },
   {
    "duration": 140,
    "start_time": "2022-11-16T18:31:21.688Z"
   },
   {
    "duration": 154,
    "start_time": "2022-11-16T18:31:22.589Z"
   },
   {
    "duration": 275,
    "start_time": "2022-11-16T18:33:41.736Z"
   },
   {
    "duration": 306,
    "start_time": "2022-11-16T18:33:45.080Z"
   },
   {
    "duration": 17,
    "start_time": "2022-11-16T18:34:10.017Z"
   },
   {
    "duration": 318,
    "start_time": "2022-11-16T18:34:19.145Z"
   },
   {
    "duration": 152,
    "start_time": "2022-11-16T18:34:48.034Z"
   },
   {
    "duration": 147,
    "start_time": "2022-11-16T18:35:31.996Z"
   },
   {
    "duration": 122,
    "start_time": "2022-11-16T18:35:51.509Z"
   },
   {
    "duration": 152,
    "start_time": "2022-11-16T18:35:59.189Z"
   },
   {
    "duration": 21,
    "start_time": "2022-11-16T18:36:14.561Z"
   },
   {
    "duration": 154,
    "start_time": "2022-11-16T18:37:43.488Z"
   },
   {
    "duration": 161,
    "start_time": "2022-11-16T18:37:48.958Z"
   },
   {
    "duration": 141,
    "start_time": "2022-11-16T18:38:05.026Z"
   },
   {
    "duration": 146,
    "start_time": "2022-11-16T18:38:10.938Z"
   },
   {
    "duration": 135,
    "start_time": "2022-11-16T18:38:12.626Z"
   },
   {
    "duration": 143,
    "start_time": "2022-11-16T18:38:23.818Z"
   },
   {
    "duration": 101,
    "start_time": "2022-11-16T18:38:32.250Z"
   },
   {
    "duration": 20,
    "start_time": "2022-11-16T18:38:32.643Z"
   },
   {
    "duration": 17,
    "start_time": "2022-11-16T18:38:33.083Z"
   },
   {
    "duration": 2649,
    "start_time": "2022-11-16T18:38:33.474Z"
   },
   {
    "duration": 36,
    "start_time": "2022-11-16T18:38:36.126Z"
   },
   {
    "duration": 63,
    "start_time": "2022-11-16T18:38:36.165Z"
   },
   {
    "duration": 67,
    "start_time": "2022-11-16T18:38:36.231Z"
   },
   {
    "duration": 11,
    "start_time": "2022-11-16T18:38:36.457Z"
   },
   {
    "duration": 8,
    "start_time": "2022-11-16T18:38:37.185Z"
   },
   {
    "duration": 8,
    "start_time": "2022-11-16T18:38:37.891Z"
   },
   {
    "duration": 9,
    "start_time": "2022-11-16T18:38:39.330Z"
   },
   {
    "duration": 11,
    "start_time": "2022-11-16T18:38:39.722Z"
   },
   {
    "duration": 6,
    "start_time": "2022-11-16T18:38:40.100Z"
   },
   {
    "duration": 7,
    "start_time": "2022-11-16T18:38:40.450Z"
   },
   {
    "duration": 5,
    "start_time": "2022-11-16T18:38:40.794Z"
   },
   {
    "duration": 353,
    "start_time": "2022-11-16T18:38:41.146Z"
   },
   {
    "duration": 9,
    "start_time": "2022-11-16T18:38:41.502Z"
   },
   {
    "duration": 2403,
    "start_time": "2022-11-16T18:38:42.531Z"
   },
   {
    "duration": 186,
    "start_time": "2022-11-16T18:38:44.937Z"
   },
   {
    "duration": 186,
    "start_time": "2022-11-16T18:38:45.125Z"
   },
   {
    "duration": 353,
    "start_time": "2022-11-16T18:38:45.313Z"
   },
   {
    "duration": 185,
    "start_time": "2022-11-16T18:38:45.668Z"
   },
   {
    "duration": 359,
    "start_time": "2022-11-16T18:38:45.855Z"
   },
   {
    "duration": 325,
    "start_time": "2022-11-16T18:38:46.217Z"
   },
   {
    "duration": 122,
    "start_time": "2022-11-16T18:38:46.544Z"
   },
   {
    "duration": 161,
    "start_time": "2022-11-16T18:38:46.668Z"
   },
   {
    "duration": 160,
    "start_time": "2022-11-16T18:38:46.832Z"
   },
   {
    "duration": 137,
    "start_time": "2022-11-16T18:38:47.147Z"
   },
   {
    "duration": 9,
    "start_time": "2022-11-16T18:42:15.491Z"
   },
   {
    "duration": 11,
    "start_time": "2022-11-16T18:42:22.675Z"
   },
   {
    "duration": 11,
    "start_time": "2022-11-16T18:46:28.252Z"
   },
   {
    "duration": 10,
    "start_time": "2022-11-16T18:46:38.212Z"
   },
   {
    "duration": 9,
    "start_time": "2022-11-16T18:49:15.146Z"
   },
   {
    "duration": 9,
    "start_time": "2022-11-16T18:49:24.282Z"
   },
   {
    "duration": 14,
    "start_time": "2022-11-16T18:50:05.692Z"
   },
   {
    "duration": 16,
    "start_time": "2022-11-16T18:50:09.131Z"
   },
   {
    "duration": 16,
    "start_time": "2022-11-16T18:50:15.691Z"
   },
   {
    "duration": 35,
    "start_time": "2022-11-16T18:53:23.169Z"
   },
   {
    "duration": 53,
    "start_time": "2022-11-16T18:53:38.179Z"
   },
   {
    "duration": 15,
    "start_time": "2022-11-16T18:54:01.794Z"
   },
   {
    "duration": 98,
    "start_time": "2022-11-16T18:57:22.668Z"
   },
   {
    "duration": 18,
    "start_time": "2022-11-16T18:57:23.018Z"
   },
   {
    "duration": 16,
    "start_time": "2022-11-16T18:57:23.354Z"
   },
   {
    "duration": 2655,
    "start_time": "2022-11-16T18:57:23.673Z"
   },
   {
    "duration": 32,
    "start_time": "2022-11-16T18:57:26.330Z"
   },
   {
    "duration": 42,
    "start_time": "2022-11-16T18:57:26.364Z"
   },
   {
    "duration": 63,
    "start_time": "2022-11-16T18:57:26.409Z"
   },
   {
    "duration": 10,
    "start_time": "2022-11-16T18:57:26.474Z"
   },
   {
    "duration": 9,
    "start_time": "2022-11-16T18:57:26.633Z"
   },
   {
    "duration": 9,
    "start_time": "2022-11-16T18:57:27.264Z"
   },
   {
    "duration": 8,
    "start_time": "2022-11-16T18:57:28.553Z"
   },
   {
    "duration": 8,
    "start_time": "2022-11-16T18:57:28.849Z"
   },
   {
    "duration": 6,
    "start_time": "2022-11-16T18:57:29.212Z"
   },
   {
    "duration": 6,
    "start_time": "2022-11-16T18:57:29.513Z"
   },
   {
    "duration": 3,
    "start_time": "2022-11-16T18:57:29.827Z"
   },
   {
    "duration": 340,
    "start_time": "2022-11-16T18:57:30.162Z"
   },
   {
    "duration": 11,
    "start_time": "2022-11-16T18:57:30.521Z"
   },
   {
    "duration": 2276,
    "start_time": "2022-11-16T18:57:31.595Z"
   },
   {
    "duration": 146,
    "start_time": "2022-11-16T18:57:33.874Z"
   },
   {
    "duration": 167,
    "start_time": "2022-11-16T18:57:34.022Z"
   },
   {
    "duration": 236,
    "start_time": "2022-11-16T18:57:34.191Z"
   },
   {
    "duration": 155,
    "start_time": "2022-11-16T18:57:34.429Z"
   },
   {
    "duration": 338,
    "start_time": "2022-11-16T18:57:34.587Z"
   },
   {
    "duration": 314,
    "start_time": "2022-11-16T18:57:34.927Z"
   },
   {
    "duration": 111,
    "start_time": "2022-11-16T18:57:35.250Z"
   },
   {
    "duration": 155,
    "start_time": "2022-11-16T18:57:35.363Z"
   },
   {
    "duration": 153,
    "start_time": "2022-11-16T18:57:35.545Z"
   },
   {
    "duration": 148,
    "start_time": "2022-11-16T18:57:36.026Z"
   },
   {
    "duration": 21,
    "start_time": "2022-11-16T18:57:36.594Z"
   },
   {
    "duration": 27,
    "start_time": "2022-11-16T18:57:45.947Z"
   },
   {
    "duration": 27,
    "start_time": "2022-11-16T18:58:02.065Z"
   },
   {
    "duration": 27,
    "start_time": "2022-11-16T18:58:10.980Z"
   },
   {
    "duration": 32,
    "start_time": "2022-11-16T18:58:15.387Z"
   },
   {
    "duration": 1194,
    "start_time": "2022-11-16T19:10:49.664Z"
   },
   {
    "duration": 1320,
    "start_time": "2022-11-16T19:10:56.729Z"
   },
   {
    "duration": 846,
    "start_time": "2022-11-16T19:11:10.538Z"
   },
   {
    "duration": 1097,
    "start_time": "2022-11-16T19:11:35.613Z"
   },
   {
    "duration": 51,
    "start_time": "2022-11-16T19:12:11.331Z"
   },
   {
    "duration": 10,
    "start_time": "2022-11-16T19:12:36.829Z"
   },
   {
    "duration": 1038,
    "start_time": "2022-11-16T19:12:45.024Z"
   },
   {
    "duration": 44,
    "start_time": "2022-11-16T19:12:58.612Z"
   },
   {
    "duration": 187,
    "start_time": "2022-11-16T19:26:33.817Z"
   },
   {
    "duration": 76,
    "start_time": "2022-11-16T19:27:09.907Z"
   },
   {
    "duration": 185,
    "start_time": "2022-11-16T19:34:40.624Z"
   },
   {
    "duration": 193,
    "start_time": "2022-11-16T19:34:47.906Z"
   },
   {
    "duration": 91,
    "start_time": "2022-11-16T19:38:10.567Z"
   },
   {
    "duration": 142,
    "start_time": "2022-11-16T19:38:52.198Z"
   },
   {
    "duration": 102,
    "start_time": "2022-11-16T19:39:52.601Z"
   },
   {
    "duration": 18,
    "start_time": "2022-11-16T19:39:53.010Z"
   },
   {
    "duration": 16,
    "start_time": "2022-11-16T19:39:53.370Z"
   },
   {
    "duration": 1972,
    "start_time": "2022-11-16T19:39:53.706Z"
   },
   {
    "duration": 18,
    "start_time": "2022-11-16T19:39:55.680Z"
   },
   {
    "duration": 59,
    "start_time": "2022-11-16T19:39:55.700Z"
   },
   {
    "duration": 40,
    "start_time": "2022-11-16T19:39:55.809Z"
   },
   {
    "duration": 12,
    "start_time": "2022-11-16T19:39:56.284Z"
   },
   {
    "duration": 12,
    "start_time": "2022-11-16T19:39:56.721Z"
   },
   {
    "duration": 9,
    "start_time": "2022-11-16T19:39:57.177Z"
   },
   {
    "duration": 9,
    "start_time": "2022-11-16T19:39:58.098Z"
   },
   {
    "duration": 8,
    "start_time": "2022-11-16T19:39:58.305Z"
   },
   {
    "duration": 7,
    "start_time": "2022-11-16T19:39:58.521Z"
   },
   {
    "duration": 6,
    "start_time": "2022-11-16T19:39:58.753Z"
   },
   {
    "duration": 4,
    "start_time": "2022-11-16T19:39:58.969Z"
   },
   {
    "duration": 946,
    "start_time": "2022-11-16T19:39:59.198Z"
   },
   {
    "duration": 12,
    "start_time": "2022-11-16T19:40:00.146Z"
   },
   {
    "duration": 2356,
    "start_time": "2022-11-16T19:40:00.160Z"
   },
   {
    "duration": 148,
    "start_time": "2022-11-16T19:40:02.518Z"
   },
   {
    "duration": 191,
    "start_time": "2022-11-16T19:40:02.668Z"
   },
   {
    "duration": 233,
    "start_time": "2022-11-16T19:40:02.861Z"
   },
   {
    "duration": 158,
    "start_time": "2022-11-16T19:40:03.096Z"
   },
   {
    "duration": 341,
    "start_time": "2022-11-16T19:40:03.257Z"
   },
   {
    "duration": 316,
    "start_time": "2022-11-16T19:40:03.600Z"
   },
   {
    "duration": 123,
    "start_time": "2022-11-16T19:40:03.918Z"
   },
   {
    "duration": 158,
    "start_time": "2022-11-16T19:40:04.043Z"
   },
   {
    "duration": 178,
    "start_time": "2022-11-16T19:40:04.204Z"
   },
   {
    "duration": 149,
    "start_time": "2022-11-16T19:40:04.384Z"
   },
   {
    "duration": 32,
    "start_time": "2022-11-16T19:40:04.535Z"
   },
   {
    "duration": 176,
    "start_time": "2022-11-16T19:40:04.600Z"
   },
   {
    "duration": 48,
    "start_time": "2022-11-17T06:43:27.621Z"
   },
   {
    "duration": 1147,
    "start_time": "2022-11-17T06:43:33.105Z"
   },
   {
    "duration": 32,
    "start_time": "2022-11-17T06:43:34.254Z"
   },
   {
    "duration": 15,
    "start_time": "2022-11-17T06:43:40.512Z"
   },
   {
    "duration": 1924,
    "start_time": "2022-11-17T06:43:42.905Z"
   },
   {
    "duration": 93,
    "start_time": "2022-11-17T06:47:21.201Z"
   },
   {
    "duration": 30,
    "start_time": "2022-11-17T06:47:21.559Z"
   },
   {
    "duration": 14,
    "start_time": "2022-11-17T06:47:22.329Z"
   },
   {
    "duration": 1864,
    "start_time": "2022-11-17T06:47:22.777Z"
   },
   {
    "duration": 15,
    "start_time": "2022-11-17T06:47:24.643Z"
   },
   {
    "duration": 39,
    "start_time": "2022-11-17T06:47:27.672Z"
   },
   {
    "duration": 39,
    "start_time": "2022-11-17T06:47:29.209Z"
   },
   {
    "duration": 10,
    "start_time": "2022-11-17T06:47:30.544Z"
   },
   {
    "duration": 8,
    "start_time": "2022-11-17T06:47:31.993Z"
   },
   {
    "duration": 8,
    "start_time": "2022-11-17T06:47:33.520Z"
   },
   {
    "duration": 39,
    "start_time": "2022-11-17T06:48:06.897Z"
   },
   {
    "duration": 20,
    "start_time": "2022-11-17T06:48:11.976Z"
   },
   {
    "duration": 14,
    "start_time": "2022-11-17T06:48:22.881Z"
   },
   {
    "duration": 93,
    "start_time": "2022-11-17T06:48:38.761Z"
   },
   {
    "duration": 29,
    "start_time": "2022-11-17T06:48:39.010Z"
   },
   {
    "duration": 13,
    "start_time": "2022-11-17T06:48:39.440Z"
   },
   {
    "duration": 1897,
    "start_time": "2022-11-17T06:48:39.673Z"
   },
   {
    "duration": 15,
    "start_time": "2022-11-17T06:48:41.572Z"
   },
   {
    "duration": 36,
    "start_time": "2022-11-17T06:48:41.657Z"
   },
   {
    "duration": 38,
    "start_time": "2022-11-17T06:48:43.617Z"
   },
   {
    "duration": 9,
    "start_time": "2022-11-17T06:48:45.088Z"
   },
   {
    "duration": 8,
    "start_time": "2022-11-17T06:48:46.216Z"
   },
   {
    "duration": 14,
    "start_time": "2022-11-17T06:48:47.544Z"
   },
   {
    "duration": 41,
    "start_time": "2022-11-17T06:48:58.720Z"
   },
   {
    "duration": 127,
    "start_time": "2022-11-17T06:49:42.097Z"
   },
   {
    "duration": 17,
    "start_time": "2022-11-17T06:51:56.137Z"
   },
   {
    "duration": 16,
    "start_time": "2022-11-17T06:52:04.762Z"
   },
   {
    "duration": 9,
    "start_time": "2022-11-17T06:53:02.154Z"
   },
   {
    "duration": 14,
    "start_time": "2022-11-17T06:53:39.809Z"
   },
   {
    "duration": 126,
    "start_time": "2022-11-17T06:53:46.504Z"
   },
   {
    "duration": 5,
    "start_time": "2022-11-17T06:54:26.193Z"
   },
   {
    "duration": 11,
    "start_time": "2022-11-17T06:56:06.185Z"
   },
   {
    "duration": 10,
    "start_time": "2022-11-17T06:58:28.281Z"
   },
   {
    "duration": 142,
    "start_time": "2022-11-17T06:58:54.848Z"
   },
   {
    "duration": 128,
    "start_time": "2022-11-17T06:59:35.600Z"
   },
   {
    "duration": 1180,
    "start_time": "2022-11-18T18:11:24.115Z"
   },
   {
    "duration": 35,
    "start_time": "2022-11-18T18:11:25.458Z"
   },
   {
    "duration": 90,
    "start_time": "2022-11-18T18:14:01.064Z"
   },
   {
    "duration": 31,
    "start_time": "2022-11-18T18:14:01.400Z"
   },
   {
    "duration": 148,
    "start_time": "2022-11-18T18:24:26.085Z"
   },
   {
    "duration": 25,
    "start_time": "2022-11-18T18:26:47.078Z"
   },
   {
    "duration": 22,
    "start_time": "2022-11-18T18:26:58.639Z"
   },
   {
    "duration": 22,
    "start_time": "2022-11-18T18:27:03.583Z"
   },
   {
    "duration": 23,
    "start_time": "2022-11-18T18:27:34.176Z"
   },
   {
    "duration": 75,
    "start_time": "2022-11-18T18:28:52.771Z"
   },
   {
    "duration": 12,
    "start_time": "2022-11-18T18:28:57.371Z"
   },
   {
    "duration": 12,
    "start_time": "2022-11-18T18:29:00.892Z"
   },
   {
    "duration": 13,
    "start_time": "2022-11-18T18:29:03.918Z"
   },
   {
    "duration": 12,
    "start_time": "2022-11-18T18:29:09.852Z"
   },
   {
    "duration": 89,
    "start_time": "2022-11-18T18:29:22.356Z"
   },
   {
    "duration": 31,
    "start_time": "2022-11-18T18:29:22.667Z"
   },
   {
    "duration": 15,
    "start_time": "2022-11-18T18:29:23.628Z"
   },
   {
    "duration": 2088,
    "start_time": "2022-11-18T18:29:24.004Z"
   },
   {
    "duration": 25,
    "start_time": "2022-11-18T18:29:26.094Z"
   },
   {
    "duration": 15,
    "start_time": "2022-11-18T18:29:26.121Z"
   },
   {
    "duration": 35,
    "start_time": "2022-11-18T18:29:28.492Z"
   },
   {
    "duration": 40,
    "start_time": "2022-11-18T18:29:35.036Z"
   },
   {
    "duration": 10,
    "start_time": "2022-11-18T18:29:36.220Z"
   },
   {
    "duration": 8,
    "start_time": "2022-11-18T18:29:38.404Z"
   },
   {
    "duration": 134,
    "start_time": "2022-11-18T18:29:39.869Z"
   },
   {
    "duration": 132,
    "start_time": "2022-11-18T18:29:46.220Z"
   },
   {
    "duration": 137,
    "start_time": "2022-11-18T18:29:54.261Z"
   },
   {
    "duration": 141,
    "start_time": "2022-11-18T18:30:17.814Z"
   },
   {
    "duration": 143,
    "start_time": "2022-11-18T18:30:39.287Z"
   },
   {
    "duration": 133,
    "start_time": "2022-11-18T18:30:43.775Z"
   },
   {
    "duration": 221,
    "start_time": "2022-11-18T18:31:07.008Z"
   },
   {
    "duration": 136,
    "start_time": "2022-11-18T18:31:19.280Z"
   },
   {
    "duration": 16,
    "start_time": "2022-11-18T18:37:31.011Z"
   },
   {
    "duration": 57,
    "start_time": "2022-11-18T18:40:34.514Z"
   },
   {
    "duration": 51,
    "start_time": "2022-11-18T18:41:06.611Z"
   },
   {
    "duration": 44,
    "start_time": "2022-11-18T18:41:27.236Z"
   },
   {
    "duration": 41,
    "start_time": "2022-11-18T18:45:25.332Z"
   },
   {
    "duration": 43,
    "start_time": "2022-11-18T18:46:53.919Z"
   },
   {
    "duration": 42,
    "start_time": "2022-11-18T18:47:38.592Z"
   },
   {
    "duration": 103,
    "start_time": "2022-11-18T18:47:46.928Z"
   },
   {
    "duration": 35,
    "start_time": "2022-11-18T18:47:47.681Z"
   },
   {
    "duration": 15,
    "start_time": "2022-11-18T18:47:49.392Z"
   },
   {
    "duration": 1925,
    "start_time": "2022-11-18T18:47:50.057Z"
   },
   {
    "duration": 32,
    "start_time": "2022-11-18T18:47:51.985Z"
   },
   {
    "duration": 15,
    "start_time": "2022-11-18T18:48:03.042Z"
   },
   {
    "duration": 38,
    "start_time": "2022-11-18T18:48:05.555Z"
   },
   {
    "duration": 43,
    "start_time": "2022-11-18T18:48:08.977Z"
   },
   {
    "duration": 95,
    "start_time": "2022-11-18T18:49:09.363Z"
   },
   {
    "duration": 32,
    "start_time": "2022-11-18T18:49:09.540Z"
   },
   {
    "duration": 17,
    "start_time": "2022-11-18T18:49:10.075Z"
   },
   {
    "duration": 2143,
    "start_time": "2022-11-18T18:49:10.252Z"
   },
   {
    "duration": 36,
    "start_time": "2022-11-18T18:49:12.398Z"
   },
   {
    "duration": 24,
    "start_time": "2022-11-18T18:49:12.436Z"
   },
   {
    "duration": 45,
    "start_time": "2022-11-18T18:49:14.163Z"
   },
   {
    "duration": 63,
    "start_time": "2022-11-18T18:49:16.842Z"
   },
   {
    "duration": 139,
    "start_time": "2022-11-18T18:49:31.460Z"
   },
   {
    "duration": 38,
    "start_time": "2022-11-18T18:49:31.628Z"
   },
   {
    "duration": 20,
    "start_time": "2022-11-18T18:49:32.188Z"
   },
   {
    "duration": 2112,
    "start_time": "2022-11-18T18:49:32.396Z"
   },
   {
    "duration": 22,
    "start_time": "2022-11-18T18:49:34.512Z"
   },
   {
    "duration": 17,
    "start_time": "2022-11-18T18:49:34.536Z"
   },
   {
    "duration": 49,
    "start_time": "2022-11-18T18:49:36.532Z"
   },
   {
    "duration": 68,
    "start_time": "2022-11-18T18:49:57.685Z"
   },
   {
    "duration": 89,
    "start_time": "2022-11-18T18:50:12.429Z"
   },
   {
    "duration": 32,
    "start_time": "2022-11-18T18:50:12.598Z"
   },
   {
    "duration": 14,
    "start_time": "2022-11-18T18:50:13.133Z"
   },
   {
    "duration": 2234,
    "start_time": "2022-11-18T18:50:13.325Z"
   },
   {
    "duration": 22,
    "start_time": "2022-11-18T18:50:15.561Z"
   },
   {
    "duration": 30,
    "start_time": "2022-11-18T18:50:15.585Z"
   },
   {
    "duration": 35,
    "start_time": "2022-11-18T18:50:16.093Z"
   },
   {
    "duration": 56,
    "start_time": "2022-11-18T18:50:18.590Z"
   },
   {
    "duration": 87,
    "start_time": "2022-11-18T18:52:08.449Z"
   },
   {
    "duration": 36,
    "start_time": "2022-11-18T18:52:08.602Z"
   },
   {
    "duration": 16,
    "start_time": "2022-11-18T18:52:09.073Z"
   },
   {
    "duration": 2147,
    "start_time": "2022-11-18T18:52:09.225Z"
   },
   {
    "duration": 21,
    "start_time": "2022-11-18T18:52:11.375Z"
   },
   {
    "duration": 16,
    "start_time": "2022-11-18T18:52:11.412Z"
   },
   {
    "duration": 38,
    "start_time": "2022-11-18T18:52:11.431Z"
   },
   {
    "duration": 80,
    "start_time": "2022-11-18T18:52:16.553Z"
   },
   {
    "duration": 68,
    "start_time": "2022-11-18T18:53:03.837Z"
   },
   {
    "duration": 42,
    "start_time": "2022-11-18T18:53:36.085Z"
   },
   {
    "duration": 50,
    "start_time": "2022-11-18T18:55:32.681Z"
   },
   {
    "duration": 44,
    "start_time": "2022-11-18T19:02:26.575Z"
   },
   {
    "duration": 1176,
    "start_time": "2022-11-18T19:02:30.943Z"
   },
   {
    "duration": 93,
    "start_time": "2022-11-18T19:02:41.055Z"
   },
   {
    "duration": 32,
    "start_time": "2022-11-18T19:02:41.204Z"
   },
   {
    "duration": 16,
    "start_time": "2022-11-18T19:02:41.943Z"
   },
   {
    "duration": 1905,
    "start_time": "2022-11-18T19:02:41.961Z"
   },
   {
    "duration": 20,
    "start_time": "2022-11-18T19:02:43.868Z"
   },
   {
    "duration": 27,
    "start_time": "2022-11-18T19:02:43.890Z"
   },
   {
    "duration": 31,
    "start_time": "2022-11-18T19:02:43.919Z"
   },
   {
    "duration": 74,
    "start_time": "2022-11-18T19:02:45.103Z"
   },
   {
    "duration": 10,
    "start_time": "2022-11-18T19:02:46.487Z"
   },
   {
    "duration": 8,
    "start_time": "2022-11-18T19:02:47.694Z"
   },
   {
    "duration": 133,
    "start_time": "2022-11-18T19:02:50.679Z"
   },
   {
    "duration": 6,
    "start_time": "2022-11-18T19:02:53.439Z"
   },
   {
    "duration": 9,
    "start_time": "2022-11-18T19:02:53.936Z"
   },
   {
    "duration": 5,
    "start_time": "2022-11-18T19:02:55.144Z"
   },
   {
    "duration": 4,
    "start_time": "2022-11-18T19:02:55.495Z"
   },
   {
    "duration": 3,
    "start_time": "2022-11-18T19:02:56.247Z"
   },
   {
    "duration": 279,
    "start_time": "2022-11-18T19:02:56.823Z"
   },
   {
    "duration": 8,
    "start_time": "2022-11-18T19:02:57.367Z"
   },
   {
    "duration": 2409,
    "start_time": "2022-11-18T19:03:07.128Z"
   },
   {
    "duration": 154,
    "start_time": "2022-11-18T19:03:12.592Z"
   },
   {
    "duration": 47,
    "start_time": "2022-11-18T19:03:56.642Z"
   },
   {
    "duration": 150,
    "start_time": "2022-11-18T19:04:04.066Z"
   },
   {
    "duration": 145,
    "start_time": "2022-11-18T19:04:28.339Z"
   },
   {
    "duration": 129,
    "start_time": "2022-11-18T19:05:59.566Z"
   },
   {
    "duration": 128,
    "start_time": "2022-11-18T19:08:12.651Z"
   },
   {
    "duration": 120,
    "start_time": "2022-11-18T19:08:24.395Z"
   },
   {
    "duration": 133,
    "start_time": "2022-11-18T19:08:33.892Z"
   },
   {
    "duration": 129,
    "start_time": "2022-11-18T19:08:50.131Z"
   },
   {
    "duration": 178,
    "start_time": "2022-11-18T19:08:56.348Z"
   },
   {
    "duration": 124,
    "start_time": "2022-11-18T19:09:18.763Z"
   },
   {
    "duration": 126,
    "start_time": "2022-11-18T19:10:10.950Z"
   },
   {
    "duration": 53,
    "start_time": "2022-11-18T19:10:21.182Z"
   },
   {
    "duration": 129,
    "start_time": "2022-11-18T19:10:25.975Z"
   },
   {
    "duration": 86,
    "start_time": "2022-11-18T19:10:53.911Z"
   },
   {
    "duration": 31,
    "start_time": "2022-11-18T19:10:54.246Z"
   },
   {
    "duration": 16,
    "start_time": "2022-11-18T19:10:55.199Z"
   },
   {
    "duration": 2154,
    "start_time": "2022-11-18T19:10:55.615Z"
   },
   {
    "duration": 23,
    "start_time": "2022-11-18T19:10:57.771Z"
   },
   {
    "duration": 16,
    "start_time": "2022-11-18T19:10:57.830Z"
   },
   {
    "duration": 35,
    "start_time": "2022-11-18T19:11:03.808Z"
   },
   {
    "duration": 68,
    "start_time": "2022-11-18T19:11:05.864Z"
   },
   {
    "duration": 10,
    "start_time": "2022-11-18T19:11:07.151Z"
   },
   {
    "duration": 9,
    "start_time": "2022-11-18T19:11:08.039Z"
   },
   {
    "duration": 139,
    "start_time": "2022-11-18T19:11:08.727Z"
   },
   {
    "duration": 7,
    "start_time": "2022-11-18T19:11:10.943Z"
   },
   {
    "duration": 8,
    "start_time": "2022-11-18T19:11:11.360Z"
   },
   {
    "duration": 6,
    "start_time": "2022-11-18T19:11:11.880Z"
   },
   {
    "duration": 4,
    "start_time": "2022-11-18T19:11:12.295Z"
   },
   {
    "duration": 4,
    "start_time": "2022-11-18T19:11:12.968Z"
   },
   {
    "duration": 276,
    "start_time": "2022-11-18T19:11:13.963Z"
   },
   {
    "duration": 7,
    "start_time": "2022-11-18T19:11:14.848Z"
   },
   {
    "duration": 2443,
    "start_time": "2022-11-18T19:11:23.449Z"
   },
   {
    "duration": 140,
    "start_time": "2022-11-18T19:11:25.894Z"
   },
   {
    "duration": 148,
    "start_time": "2022-11-18T19:11:34.048Z"
   },
   {
    "duration": 143,
    "start_time": "2022-11-18T19:20:13.370Z"
   },
   {
    "duration": 86,
    "start_time": "2022-11-18T19:20:20.762Z"
   },
   {
    "duration": 33,
    "start_time": "2022-11-18T19:20:20.920Z"
   },
   {
    "duration": 15,
    "start_time": "2022-11-18T19:20:21.410Z"
   },
   {
    "duration": 1939,
    "start_time": "2022-11-18T19:20:21.585Z"
   },
   {
    "duration": 21,
    "start_time": "2022-11-18T19:20:23.525Z"
   },
   {
    "duration": 15,
    "start_time": "2022-11-18T19:20:23.548Z"
   },
   {
    "duration": 64,
    "start_time": "2022-11-18T19:20:23.565Z"
   },
   {
    "duration": 81,
    "start_time": "2022-11-18T19:20:24.626Z"
   },
   {
    "duration": 10,
    "start_time": "2022-11-18T19:20:25.466Z"
   },
   {
    "duration": 8,
    "start_time": "2022-11-18T19:20:26.242Z"
   },
   {
    "duration": 130,
    "start_time": "2022-11-18T19:20:26.762Z"
   },
   {
    "duration": 7,
    "start_time": "2022-11-18T19:20:27.745Z"
   },
   {
    "duration": 7,
    "start_time": "2022-11-18T19:20:27.946Z"
   },
   {
    "duration": 6,
    "start_time": "2022-11-18T19:20:28.802Z"
   },
   {
    "duration": 3,
    "start_time": "2022-11-18T19:20:29.370Z"
   },
   {
    "duration": 3,
    "start_time": "2022-11-18T19:20:29.962Z"
   },
   {
    "duration": 303,
    "start_time": "2022-11-18T19:20:30.155Z"
   },
   {
    "duration": 7,
    "start_time": "2022-11-18T19:20:30.460Z"
   },
   {
    "duration": 2465,
    "start_time": "2022-11-18T19:20:30.938Z"
   },
   {
    "duration": 145,
    "start_time": "2022-11-18T19:20:33.405Z"
   },
   {
    "duration": 143,
    "start_time": "2022-11-18T19:20:33.739Z"
   },
   {
    "duration": 173,
    "start_time": "2022-11-18T19:20:34.139Z"
   },
   {
    "duration": 146,
    "start_time": "2022-11-18T19:20:39.371Z"
   },
   {
    "duration": 187,
    "start_time": "2022-11-18T19:21:14.893Z"
   },
   {
    "duration": 153,
    "start_time": "2022-11-18T19:21:32.532Z"
   },
   {
    "duration": 152,
    "start_time": "2022-11-18T19:21:54.655Z"
   },
   {
    "duration": 149,
    "start_time": "2022-11-18T19:22:10.247Z"
   },
   {
    "duration": 66,
    "start_time": "2022-11-18T19:23:26.112Z"
   },
   {
    "duration": 63,
    "start_time": "2022-11-18T19:23:45.490Z"
   },
   {
    "duration": 48,
    "start_time": "2022-11-18T19:23:50.945Z"
   },
   {
    "duration": 148,
    "start_time": "2022-11-18T19:23:56.808Z"
   },
   {
    "duration": 186,
    "start_time": "2022-11-18T19:24:16.380Z"
   },
   {
    "duration": 796,
    "start_time": "2022-11-18T19:24:21.908Z"
   },
   {
    "duration": 164,
    "start_time": "2022-11-18T19:24:33.972Z"
   },
   {
    "duration": 140,
    "start_time": "2022-11-18T19:24:42.851Z"
   },
   {
    "duration": 136,
    "start_time": "2022-11-18T19:24:50.940Z"
   },
   {
    "duration": 137,
    "start_time": "2022-11-18T19:24:58.500Z"
   },
   {
    "duration": 140,
    "start_time": "2022-11-18T19:25:03.740Z"
   },
   {
    "duration": 152,
    "start_time": "2022-11-18T19:26:13.710Z"
   },
   {
    "duration": 145,
    "start_time": "2022-11-18T19:26:23.550Z"
   },
   {
    "duration": 98,
    "start_time": "2022-11-18T19:26:54.207Z"
   },
   {
    "duration": 32,
    "start_time": "2022-11-18T19:26:54.373Z"
   },
   {
    "duration": 17,
    "start_time": "2022-11-18T19:26:54.871Z"
   },
   {
    "duration": 2140,
    "start_time": "2022-11-18T19:26:55.023Z"
   },
   {
    "duration": 32,
    "start_time": "2022-11-18T19:26:59.335Z"
   },
   {
    "duration": 17,
    "start_time": "2022-11-18T19:26:59.959Z"
   },
   {
    "duration": 37,
    "start_time": "2022-11-18T19:27:00.783Z"
   },
   {
    "duration": 75,
    "start_time": "2022-11-18T19:27:01.855Z"
   },
   {
    "duration": 8,
    "start_time": "2022-11-18T19:27:02.575Z"
   },
   {
    "duration": 8,
    "start_time": "2022-11-18T19:27:03.119Z"
   },
   {
    "duration": 142,
    "start_time": "2022-11-18T19:27:03.679Z"
   },
   {
    "duration": 7,
    "start_time": "2022-11-18T19:27:04.776Z"
   },
   {
    "duration": 9,
    "start_time": "2022-11-18T19:27:04.975Z"
   },
   {
    "duration": 6,
    "start_time": "2022-11-18T19:27:05.160Z"
   },
   {
    "duration": 3,
    "start_time": "2022-11-18T19:27:05.344Z"
   },
   {
    "duration": 4,
    "start_time": "2022-11-18T19:27:05.751Z"
   },
   {
    "duration": 733,
    "start_time": "2022-11-18T19:27:05.952Z"
   },
   {
    "duration": 6,
    "start_time": "2022-11-18T19:27:06.687Z"
   },
   {
    "duration": 2221,
    "start_time": "2022-11-18T19:27:06.735Z"
   },
   {
    "duration": 168,
    "start_time": "2022-11-18T19:27:08.958Z"
   },
   {
    "duration": 165,
    "start_time": "2022-11-18T19:27:09.128Z"
   },
   {
    "duration": 191,
    "start_time": "2022-11-18T19:27:09.296Z"
   },
   {
    "duration": 143,
    "start_time": "2022-11-18T19:27:11.880Z"
   },
   {
    "duration": 153,
    "start_time": "2022-11-18T19:27:18.176Z"
   },
   {
    "duration": 417,
    "start_time": "2022-11-18T19:30:56.568Z"
   },
   {
    "duration": 426,
    "start_time": "2022-11-18T19:31:49.245Z"
   },
   {
    "duration": 408,
    "start_time": "2022-11-18T19:31:58.337Z"
   },
   {
    "duration": 394,
    "start_time": "2022-11-18T19:32:22.387Z"
   },
   {
    "duration": 412,
    "start_time": "2022-11-18T19:32:27.339Z"
   },
   {
    "duration": 328,
    "start_time": "2022-11-18T19:32:58.067Z"
   },
   {
    "duration": 140,
    "start_time": "2022-11-18T19:33:11.620Z"
   },
   {
    "duration": 319,
    "start_time": "2022-11-18T19:33:14.212Z"
   },
   {
    "duration": 276,
    "start_time": "2022-11-18T19:33:15.548Z"
   },
   {
    "duration": 105,
    "start_time": "2022-11-18T19:33:17.662Z"
   },
   {
    "duration": 131,
    "start_time": "2022-11-18T19:33:18.475Z"
   },
   {
    "duration": 131,
    "start_time": "2022-11-18T19:33:19.427Z"
   },
   {
    "duration": 137,
    "start_time": "2022-11-18T19:33:20.099Z"
   },
   {
    "duration": 244,
    "start_time": "2022-11-18T19:33:32.564Z"
   },
   {
    "duration": 942,
    "start_time": "2022-11-18T19:34:42.487Z"
   },
   {
    "duration": 1180,
    "start_time": "2022-11-18T19:35:19.000Z"
   },
   {
    "duration": 312,
    "start_time": "2022-11-18T19:35:28.409Z"
   },
   {
    "duration": 318,
    "start_time": "2022-11-18T19:37:51.462Z"
   },
   {
    "duration": 809,
    "start_time": "2022-11-18T19:40:14.491Z"
   },
   {
    "duration": 137,
    "start_time": "2022-11-18T19:41:23.261Z"
   },
   {
    "duration": 313,
    "start_time": "2022-11-18T19:41:24.412Z"
   },
   {
    "duration": 433,
    "start_time": "2022-11-18T19:43:00.232Z"
   },
   {
    "duration": 509,
    "start_time": "2022-11-18T19:43:50.170Z"
   },
   {
    "duration": 475,
    "start_time": "2022-11-18T19:44:05.569Z"
   },
   {
    "duration": 316,
    "start_time": "2022-11-18T19:45:39.317Z"
   },
   {
    "duration": 177,
    "start_time": "2022-11-18T19:47:18.944Z"
   },
   {
    "duration": 172,
    "start_time": "2022-11-18T19:48:01.889Z"
   },
   {
    "duration": 165,
    "start_time": "2022-11-18T19:48:13.827Z"
   },
   {
    "duration": 159,
    "start_time": "2022-11-18T19:48:27.664Z"
   },
   {
    "duration": 172,
    "start_time": "2022-11-18T19:49:04.261Z"
   },
   {
    "duration": 103,
    "start_time": "2022-11-18T19:50:47.366Z"
   },
   {
    "duration": 165,
    "start_time": "2022-11-18T19:50:52.726Z"
   },
   {
    "duration": 172,
    "start_time": "2022-11-18T19:51:23.321Z"
   },
   {
    "duration": 163,
    "start_time": "2022-11-18T19:51:31.472Z"
   },
   {
    "duration": 214,
    "start_time": "2022-11-18T19:51:49.201Z"
   },
   {
    "duration": 188,
    "start_time": "2022-11-18T19:52:18.970Z"
   },
   {
    "duration": 178,
    "start_time": "2022-11-18T19:53:25.980Z"
   },
   {
    "duration": 167,
    "start_time": "2022-11-18T19:53:40.589Z"
   },
   {
    "duration": 171,
    "start_time": "2022-11-18T19:53:57.397Z"
   },
   {
    "duration": 87,
    "start_time": "2022-11-18T19:54:24.973Z"
   },
   {
    "duration": 32,
    "start_time": "2022-11-18T19:54:25.141Z"
   },
   {
    "duration": 14,
    "start_time": "2022-11-18T19:54:25.662Z"
   },
   {
    "duration": 1944,
    "start_time": "2022-11-18T19:54:25.845Z"
   },
   {
    "duration": 30,
    "start_time": "2022-11-18T19:54:27.791Z"
   },
   {
    "duration": 15,
    "start_time": "2022-11-18T19:54:27.823Z"
   },
   {
    "duration": 34,
    "start_time": "2022-11-18T19:54:27.909Z"
   },
   {
    "duration": 71,
    "start_time": "2022-11-18T19:54:29.037Z"
   },
   {
    "duration": 13,
    "start_time": "2022-11-18T19:54:29.763Z"
   },
   {
    "duration": 9,
    "start_time": "2022-11-18T19:54:30.309Z"
   },
   {
    "duration": 135,
    "start_time": "2022-11-18T19:54:30.870Z"
   },
   {
    "duration": 7,
    "start_time": "2022-11-18T19:54:31.845Z"
   },
   {
    "duration": 8,
    "start_time": "2022-11-18T19:54:32.053Z"
   },
   {
    "duration": 5,
    "start_time": "2022-11-18T19:54:32.245Z"
   },
   {
    "duration": 3,
    "start_time": "2022-11-18T19:54:32.445Z"
   },
   {
    "duration": 4,
    "start_time": "2022-11-18T19:54:32.815Z"
   },
   {
    "duration": 287,
    "start_time": "2022-11-18T19:54:33.006Z"
   },
   {
    "duration": 8,
    "start_time": "2022-11-18T19:54:33.295Z"
   },
   {
    "duration": 2738,
    "start_time": "2022-11-18T19:54:33.789Z"
   },
   {
    "duration": 176,
    "start_time": "2022-11-18T19:54:36.530Z"
   },
   {
    "duration": 150,
    "start_time": "2022-11-18T19:54:36.708Z"
   },
   {
    "duration": 194,
    "start_time": "2022-11-18T19:54:36.860Z"
   },
   {
    "duration": 141,
    "start_time": "2022-11-18T19:54:37.055Z"
   },
   {
    "duration": 491,
    "start_time": "2022-11-18T19:54:37.198Z"
   },
   {
    "duration": 436,
    "start_time": "2022-11-18T19:54:37.691Z"
   },
   {
    "duration": 118,
    "start_time": "2022-11-18T19:54:38.128Z"
   },
   {
    "duration": 131,
    "start_time": "2022-11-18T19:54:38.248Z"
   },
   {
    "duration": 141,
    "start_time": "2022-11-18T19:54:38.381Z"
   },
   {
    "duration": 326,
    "start_time": "2022-11-18T19:54:38.523Z"
   },
   {
    "duration": 33,
    "start_time": "2022-11-18T19:54:39.326Z"
   },
   {
    "duration": 153,
    "start_time": "2022-11-18T19:54:41.246Z"
   },
   {
    "duration": 80,
    "start_time": "2022-11-21T07:00:27.643Z"
   },
   {
    "duration": 1058,
    "start_time": "2022-11-21T07:03:04.749Z"
   },
   {
    "duration": 39,
    "start_time": "2022-11-21T07:03:05.811Z"
   },
   {
    "duration": 17,
    "start_time": "2022-11-21T07:03:05.852Z"
   },
   {
    "duration": 2239,
    "start_time": "2022-11-21T07:03:05.871Z"
   },
   {
    "duration": 30,
    "start_time": "2022-11-21T07:03:08.112Z"
   },
   {
    "duration": 18,
    "start_time": "2022-11-21T07:03:08.144Z"
   },
   {
    "duration": 45,
    "start_time": "2022-11-21T07:03:08.164Z"
   },
   {
    "duration": 81,
    "start_time": "2022-11-21T07:03:09.571Z"
   },
   {
    "duration": 11,
    "start_time": "2022-11-21T07:03:10.746Z"
   },
   {
    "duration": 8,
    "start_time": "2022-11-21T07:03:11.611Z"
   },
   {
    "duration": 140,
    "start_time": "2022-11-21T07:03:12.226Z"
   },
   {
    "duration": 7,
    "start_time": "2022-11-21T07:03:18.472Z"
   },
   {
    "duration": 9,
    "start_time": "2022-11-21T07:03:20.731Z"
   },
   {
    "duration": 6,
    "start_time": "2022-11-21T07:03:21.747Z"
   },
   {
    "duration": 3,
    "start_time": "2022-11-21T07:03:22.204Z"
   },
   {
    "duration": 4,
    "start_time": "2022-11-21T07:03:23.074Z"
   },
   {
    "duration": 296,
    "start_time": "2022-11-21T07:03:23.316Z"
   },
   {
    "duration": 9,
    "start_time": "2022-11-21T07:03:23.779Z"
   },
   {
    "duration": 2420,
    "start_time": "2022-11-21T07:03:24.811Z"
   },
   {
    "duration": 290,
    "start_time": "2022-11-21T07:03:27.233Z"
   },
   {
    "duration": 73,
    "start_time": "2022-11-21T07:03:27.525Z"
   },
   {
    "duration": 182,
    "start_time": "2022-11-21T07:04:41.545Z"
   },
   {
    "duration": 187,
    "start_time": "2022-11-21T07:04:50.235Z"
   },
   {
    "duration": 180,
    "start_time": "2022-11-21T07:04:54.475Z"
   },
   {
    "duration": 4,
    "start_time": "2022-11-21T07:05:02.099Z"
   },
   {
    "duration": 158,
    "start_time": "2022-11-21T07:05:16.452Z"
   },
   {
    "duration": 182,
    "start_time": "2022-11-21T07:05:22.419Z"
   },
   {
    "duration": 156,
    "start_time": "2022-11-21T07:07:41.699Z"
   },
   {
    "duration": 193,
    "start_time": "2022-11-21T07:07:41.877Z"
   },
   {
    "duration": 175,
    "start_time": "2022-11-21T07:07:42.772Z"
   },
   {
    "duration": 517,
    "start_time": "2022-11-21T07:07:43.124Z"
   },
   {
    "duration": 535,
    "start_time": "2022-11-21T07:07:43.643Z"
   },
   {
    "duration": 138,
    "start_time": "2022-11-21T07:07:44.181Z"
   },
   {
    "duration": 157,
    "start_time": "2022-11-21T07:07:44.321Z"
   },
   {
    "duration": 146,
    "start_time": "2022-11-21T07:07:44.668Z"
   },
   {
    "duration": 362,
    "start_time": "2022-11-21T07:07:44.900Z"
   },
   {
    "duration": 314,
    "start_time": "2022-11-21T07:08:00.774Z"
   },
   {
    "duration": 984,
    "start_time": "2022-11-21T14:33:27.344Z"
   },
   {
    "duration": 33,
    "start_time": "2022-11-21T14:33:28.331Z"
   },
   {
    "duration": 14,
    "start_time": "2022-11-21T14:33:28.366Z"
   },
   {
    "duration": 1980,
    "start_time": "2022-11-21T14:33:28.382Z"
   },
   {
    "duration": 24,
    "start_time": "2022-11-21T14:33:30.364Z"
   },
   {
    "duration": 15,
    "start_time": "2022-11-21T14:33:30.389Z"
   },
   {
    "duration": 41,
    "start_time": "2022-11-21T14:33:30.406Z"
   },
   {
    "duration": 79,
    "start_time": "2022-11-21T14:33:31.635Z"
   },
   {
    "duration": 12,
    "start_time": "2022-11-21T14:33:32.652Z"
   },
   {
    "duration": 9,
    "start_time": "2022-11-21T14:33:33.292Z"
   },
   {
    "duration": 132,
    "start_time": "2022-11-21T14:33:33.908Z"
   },
   {
    "duration": 8,
    "start_time": "2022-11-21T14:33:35.236Z"
   },
   {
    "duration": 7,
    "start_time": "2022-11-21T14:33:35.469Z"
   },
   {
    "duration": 7,
    "start_time": "2022-11-21T14:33:35.692Z"
   },
   {
    "duration": 3,
    "start_time": "2022-11-21T14:33:35.917Z"
   },
   {
    "duration": 4,
    "start_time": "2022-11-21T14:33:36.564Z"
   },
   {
    "duration": 271,
    "start_time": "2022-11-21T14:33:37.046Z"
   },
   {
    "duration": 7,
    "start_time": "2022-11-21T14:33:37.436Z"
   },
   {
    "duration": 2133,
    "start_time": "2022-11-21T14:33:38.558Z"
   },
   {
    "duration": 310,
    "start_time": "2022-11-21T14:33:43.749Z"
   },
   {
    "duration": 156,
    "start_time": "2022-11-21T14:33:47.524Z"
   },
   {
    "duration": 166,
    "start_time": "2022-11-21T14:33:48.141Z"
   },
   {
    "duration": 126,
    "start_time": "2022-11-21T14:33:59.445Z"
   },
   {
    "duration": 530,
    "start_time": "2022-11-21T14:35:23.392Z"
   },
   {
    "duration": 74,
    "start_time": "2022-11-21T14:36:45.370Z"
   },
   {
    "duration": 552,
    "start_time": "2022-11-21T14:36:52.643Z"
   },
   {
    "duration": 473,
    "start_time": "2022-11-21T14:36:59.076Z"
   },
   {
    "duration": 78,
    "start_time": "2022-11-21T14:37:05.603Z"
   },
   {
    "duration": 137,
    "start_time": "2022-11-21T14:37:24.500Z"
   },
   {
    "duration": 475,
    "start_time": "2022-11-21T14:37:30.596Z"
   },
   {
    "duration": 494,
    "start_time": "2022-11-21T14:38:01.373Z"
   },
   {
    "duration": 581,
    "start_time": "2022-11-21T14:38:28.319Z"
   },
   {
    "duration": 275,
    "start_time": "2022-11-21T14:38:54.879Z"
   },
   {
    "duration": 132,
    "start_time": "2022-11-21T14:39:59.506Z"
   },
   {
    "duration": 83,
    "start_time": "2022-11-21T14:43:11.344Z"
   },
   {
    "duration": 152,
    "start_time": "2022-11-21T14:43:22.095Z"
   },
   {
    "duration": 141,
    "start_time": "2022-11-21T14:45:41.751Z"
   },
   {
    "duration": 140,
    "start_time": "2022-11-21T14:45:55.102Z"
   },
   {
    "duration": 127,
    "start_time": "2022-11-21T14:46:16.710Z"
   },
   {
    "duration": 1086,
    "start_time": "2022-11-22T11:28:56.786Z"
   },
   {
    "duration": 35,
    "start_time": "2022-11-22T11:28:57.874Z"
   },
   {
    "duration": 17,
    "start_time": "2022-11-22T11:28:57.910Z"
   },
   {
    "duration": 1981,
    "start_time": "2022-11-22T11:28:57.936Z"
   },
   {
    "duration": 24,
    "start_time": "2022-11-22T11:28:59.919Z"
   },
   {
    "duration": 14,
    "start_time": "2022-11-22T11:28:59.951Z"
   },
   {
    "duration": 35,
    "start_time": "2022-11-22T11:29:00.845Z"
   },
   {
    "duration": 70,
    "start_time": "2022-11-22T11:29:03.197Z"
   },
   {
    "duration": 12,
    "start_time": "2022-11-22T11:29:05.597Z"
   },
   {
    "duration": 8,
    "start_time": "2022-11-22T11:29:07.014Z"
   },
   {
    "duration": 133,
    "start_time": "2022-11-22T11:29:08.249Z"
   },
   {
    "duration": 7,
    "start_time": "2022-11-22T11:29:19.877Z"
   },
   {
    "duration": 7,
    "start_time": "2022-11-22T11:29:20.718Z"
   },
   {
    "duration": 6,
    "start_time": "2022-11-22T11:29:30.918Z"
   },
   {
    "duration": 3,
    "start_time": "2022-11-22T11:29:31.406Z"
   },
   {
    "duration": 3,
    "start_time": "2022-11-22T11:29:32.150Z"
   },
   {
    "duration": 278,
    "start_time": "2022-11-22T11:29:32.694Z"
   },
   {
    "duration": 7,
    "start_time": "2022-11-22T11:29:33.886Z"
   },
   {
    "duration": 2207,
    "start_time": "2022-11-22T11:29:35.389Z"
   },
   {
    "duration": 292,
    "start_time": "2022-11-22T11:30:05.918Z"
   },
   {
    "duration": 142,
    "start_time": "2022-11-22T11:30:07.838Z"
   },
   {
    "duration": 162,
    "start_time": "2022-11-22T11:30:09.408Z"
   },
   {
    "duration": 200,
    "start_time": "2022-11-22T11:30:36.414Z"
   },
   {
    "duration": 89,
    "start_time": "2022-11-22T11:45:27.894Z"
   },
   {
    "duration": 29,
    "start_time": "2022-11-22T11:45:28.055Z"
   },
   {
    "duration": 14,
    "start_time": "2022-11-22T11:45:28.541Z"
   },
   {
    "duration": 1987,
    "start_time": "2022-11-22T11:45:28.709Z"
   },
   {
    "duration": 20,
    "start_time": "2022-11-22T11:45:30.698Z"
   },
   {
    "duration": 72,
    "start_time": "2022-11-22T11:45:30.720Z"
   },
   {
    "duration": 38,
    "start_time": "2022-11-22T11:45:30.892Z"
   },
   {
    "duration": 73,
    "start_time": "2022-11-22T11:45:32.053Z"
   },
   {
    "duration": 9,
    "start_time": "2022-11-22T11:45:33.020Z"
   },
   {
    "duration": 8,
    "start_time": "2022-11-22T11:45:33.637Z"
   },
   {
    "duration": 122,
    "start_time": "2022-11-22T11:45:34.237Z"
   },
   {
    "duration": 7,
    "start_time": "2022-11-22T11:46:02.733Z"
   },
   {
    "duration": 8,
    "start_time": "2022-11-22T11:46:17.838Z"
   },
   {
    "duration": 6,
    "start_time": "2022-11-22T11:46:18.149Z"
   },
   {
    "duration": 3,
    "start_time": "2022-11-22T11:46:18.509Z"
   },
   {
    "duration": 3,
    "start_time": "2022-11-22T11:46:18.949Z"
   },
   {
    "duration": 276,
    "start_time": "2022-11-22T11:46:19.164Z"
   },
   {
    "duration": 8,
    "start_time": "2022-11-22T11:46:19.524Z"
   },
   {
    "duration": 2255,
    "start_time": "2022-11-22T11:46:58.589Z"
   },
   {
    "duration": 3541,
    "start_time": "2022-11-22T11:47:13.613Z"
   },
   {
    "duration": 336,
    "start_time": "2022-11-22T11:49:06.173Z"
   },
   {
    "duration": 282,
    "start_time": "2022-11-22T11:49:15.029Z"
   },
   {
    "duration": 245,
    "start_time": "2022-11-22T11:49:20.109Z"
   },
   {
    "duration": 296,
    "start_time": "2022-11-22T11:49:52.590Z"
   },
   {
    "duration": 223,
    "start_time": "2022-11-22T11:50:00.726Z"
   },
   {
    "duration": 224,
    "start_time": "2022-11-22T11:50:57.213Z"
   },
   {
    "duration": 238,
    "start_time": "2022-11-22T11:51:05.966Z"
   },
   {
    "duration": 235,
    "start_time": "2022-11-22T11:51:52.693Z"
   },
   {
    "duration": 238,
    "start_time": "2022-11-22T11:52:29.869Z"
   },
   {
    "duration": 480,
    "start_time": "2022-11-22T11:52:38.781Z"
   },
   {
    "duration": 221,
    "start_time": "2022-11-22T11:52:43.253Z"
   },
   {
    "duration": 131,
    "start_time": "2022-11-22T11:52:48.733Z"
   },
   {
    "duration": 370,
    "start_time": "2022-11-22T11:52:56.430Z"
   },
   {
    "duration": 355,
    "start_time": "2022-11-22T11:54:07.677Z"
   },
   {
    "duration": 334,
    "start_time": "2022-11-22T11:54:15.141Z"
   },
   {
    "duration": 324,
    "start_time": "2022-11-22T11:55:41.437Z"
   },
   {
    "duration": 233,
    "start_time": "2022-11-22T11:56:29.885Z"
   },
   {
    "duration": 229,
    "start_time": "2022-11-22T11:56:39.165Z"
   },
   {
    "duration": 501,
    "start_time": "2022-11-22T12:01:23.837Z"
   },
   {
    "duration": 224,
    "start_time": "2022-11-22T12:01:41.277Z"
   },
   {
    "duration": 222,
    "start_time": "2022-11-22T12:02:23.020Z"
   },
   {
    "duration": 238,
    "start_time": "2022-11-22T12:03:08.613Z"
   },
   {
    "duration": 233,
    "start_time": "2022-11-22T12:03:32.710Z"
   },
   {
    "duration": 219,
    "start_time": "2022-11-22T12:03:46.061Z"
   },
   {
    "duration": 232,
    "start_time": "2022-11-22T12:04:45.637Z"
   },
   {
    "duration": 46,
    "start_time": "2022-11-22T12:05:15.076Z"
   },
   {
    "duration": 338,
    "start_time": "2022-11-22T12:05:21.909Z"
   },
   {
    "duration": 339,
    "start_time": "2022-11-22T12:05:31.324Z"
   },
   {
    "duration": 228,
    "start_time": "2022-11-22T12:05:40.276Z"
   },
   {
    "duration": 245,
    "start_time": "2022-11-22T12:05:47.822Z"
   },
   {
    "duration": 270,
    "start_time": "2022-11-22T12:08:12.534Z"
   },
   {
    "duration": 556,
    "start_time": "2022-11-22T12:08:34.405Z"
   },
   {
    "duration": 227,
    "start_time": "2022-11-22T12:08:49.382Z"
   },
   {
    "duration": 162,
    "start_time": "2022-11-22T12:12:50.645Z"
   },
   {
    "duration": 212,
    "start_time": "2022-11-22T12:13:27.393Z"
   },
   {
    "duration": 264,
    "start_time": "2022-11-22T12:13:36.565Z"
   },
   {
    "duration": 169,
    "start_time": "2022-11-22T12:14:04.550Z"
   },
   {
    "duration": 233,
    "start_time": "2022-11-22T12:14:08.061Z"
   },
   {
    "duration": 239,
    "start_time": "2022-11-22T12:14:16.757Z"
   },
   {
    "duration": 208,
    "start_time": "2022-11-22T12:14:20.557Z"
   },
   {
    "duration": 227,
    "start_time": "2022-11-22T12:14:37.101Z"
   },
   {
    "duration": 240,
    "start_time": "2022-11-22T12:14:43.412Z"
   },
   {
    "duration": 182,
    "start_time": "2022-11-22T12:16:13.508Z"
   },
   {
    "duration": 219,
    "start_time": "2022-11-22T12:16:31.453Z"
   },
   {
    "duration": 242,
    "start_time": "2022-11-22T12:17:40.837Z"
   },
   {
    "duration": 240,
    "start_time": "2022-11-22T12:18:57.214Z"
   },
   {
    "duration": 236,
    "start_time": "2022-11-22T12:29:42.661Z"
   },
   {
    "duration": 250,
    "start_time": "2022-11-22T12:29:52.660Z"
   },
   {
    "duration": 643,
    "start_time": "2022-11-22T12:30:18.195Z"
   },
   {
    "duration": 255,
    "start_time": "2022-11-22T12:30:28.205Z"
   },
   {
    "duration": 290,
    "start_time": "2022-11-22T12:31:06.724Z"
   },
   {
    "duration": 305,
    "start_time": "2022-11-22T12:31:20.026Z"
   },
   {
    "duration": 264,
    "start_time": "2022-11-22T12:31:33.093Z"
   },
   {
    "duration": 3753,
    "start_time": "2022-11-22T12:42:38.830Z"
   },
   {
    "duration": 4,
    "start_time": "2022-11-22T12:43:59.724Z"
   },
   {
    "duration": 2960,
    "start_time": "2022-11-22T12:45:08.043Z"
   },
   {
    "duration": 5,
    "start_time": "2022-11-22T12:45:11.005Z"
   },
   {
    "duration": 88,
    "start_time": "2022-11-22T12:45:17.660Z"
   },
   {
    "duration": 28,
    "start_time": "2022-11-22T12:45:17.819Z"
   },
   {
    "duration": 14,
    "start_time": "2022-11-22T12:45:18.316Z"
   },
   {
    "duration": 2457,
    "start_time": "2022-11-22T12:45:18.491Z"
   },
   {
    "duration": 21,
    "start_time": "2022-11-22T12:45:20.950Z"
   },
   {
    "duration": 15,
    "start_time": "2022-11-22T12:45:20.973Z"
   },
   {
    "duration": 44,
    "start_time": "2022-11-22T12:45:21.138Z"
   },
   {
    "duration": 79,
    "start_time": "2022-11-22T12:45:21.779Z"
   },
   {
    "duration": 8,
    "start_time": "2022-11-22T12:45:22.771Z"
   },
   {
    "duration": 8,
    "start_time": "2022-11-22T12:45:23.387Z"
   },
   {
    "duration": 129,
    "start_time": "2022-11-22T12:45:23.979Z"
   },
   {
    "duration": 7,
    "start_time": "2022-11-22T12:45:25.779Z"
   },
   {
    "duration": 8,
    "start_time": "2022-11-22T12:45:26.243Z"
   },
   {
    "duration": 6,
    "start_time": "2022-11-22T12:45:26.644Z"
   },
   {
    "duration": 4,
    "start_time": "2022-11-22T12:45:26.995Z"
   },
   {
    "duration": 3,
    "start_time": "2022-11-22T12:45:27.451Z"
   },
   {
    "duration": 278,
    "start_time": "2022-11-22T12:45:27.675Z"
   },
   {
    "duration": 6,
    "start_time": "2022-11-22T12:45:27.955Z"
   },
   {
    "duration": 2863,
    "start_time": "2022-11-22T12:45:28.741Z"
   },
   {
    "duration": 4,
    "start_time": "2022-11-22T12:45:31.606Z"
   },
   {
    "duration": 756,
    "start_time": "2022-11-22T12:45:31.612Z"
   },
   {
    "duration": 229,
    "start_time": "2022-11-22T12:45:34.659Z"
   },
   {
    "duration": 243,
    "start_time": "2022-11-22T12:45:35.964Z"
   },
   {
    "duration": 1219,
    "start_time": "2022-11-22T12:47:20.710Z"
   },
   {
    "duration": 296,
    "start_time": "2022-11-22T12:47:41.044Z"
   },
   {
    "duration": 342,
    "start_time": "2022-11-22T12:47:55.469Z"
   },
   {
    "duration": 346,
    "start_time": "2022-11-22T12:48:36.044Z"
   },
   {
    "duration": 3121,
    "start_time": "2022-11-22T12:49:06.196Z"
   },
   {
    "duration": 87,
    "start_time": "2022-11-22T12:49:10.909Z"
   },
   {
    "duration": 29,
    "start_time": "2022-11-22T12:49:11.078Z"
   },
   {
    "duration": 17,
    "start_time": "2022-11-22T12:49:11.571Z"
   },
   {
    "duration": 2571,
    "start_time": "2022-11-22T12:49:11.740Z"
   },
   {
    "duration": 33,
    "start_time": "2022-11-22T12:49:14.313Z"
   },
   {
    "duration": 15,
    "start_time": "2022-11-22T12:49:14.349Z"
   },
   {
    "duration": 61,
    "start_time": "2022-11-22T12:49:14.366Z"
   },
   {
    "duration": 73,
    "start_time": "2022-11-22T12:49:15.059Z"
   },
   {
    "duration": 10,
    "start_time": "2022-11-22T12:49:16.011Z"
   },
   {
    "duration": 8,
    "start_time": "2022-11-22T12:49:16.595Z"
   },
   {
    "duration": 127,
    "start_time": "2022-11-22T12:49:17.180Z"
   },
   {
    "duration": 7,
    "start_time": "2022-11-22T12:49:18.771Z"
   },
   {
    "duration": 8,
    "start_time": "2022-11-22T12:49:18.972Z"
   },
   {
    "duration": 6,
    "start_time": "2022-11-22T12:49:19.179Z"
   },
   {
    "duration": 4,
    "start_time": "2022-11-22T12:49:19.379Z"
   },
   {
    "duration": 3,
    "start_time": "2022-11-22T12:49:19.795Z"
   },
   {
    "duration": 296,
    "start_time": "2022-11-22T12:49:20.012Z"
   },
   {
    "duration": 7,
    "start_time": "2022-11-22T12:49:20.643Z"
   },
   {
    "duration": 3043,
    "start_time": "2022-11-22T12:49:20.987Z"
   },
   {
    "duration": 241,
    "start_time": "2022-11-22T12:49:24.036Z"
   },
   {
    "duration": 290,
    "start_time": "2022-11-22T12:49:24.279Z"
   },
   {
    "duration": 235,
    "start_time": "2022-11-22T12:49:24.571Z"
   },
   {
    "duration": 258,
    "start_time": "2022-11-22T12:49:24.808Z"
   },
   {
    "duration": 243,
    "start_time": "2022-11-22T12:49:25.068Z"
   },
   {
    "duration": 306,
    "start_time": "2022-11-22T12:49:25.411Z"
   },
   {
    "duration": 88,
    "start_time": "2022-11-22T12:50:49.379Z"
   },
   {
    "duration": 30,
    "start_time": "2022-11-22T12:50:49.564Z"
   },
   {
    "duration": 14,
    "start_time": "2022-11-22T12:50:50.083Z"
   },
   {
    "duration": 2596,
    "start_time": "2022-11-22T12:50:50.251Z"
   },
   {
    "duration": 20,
    "start_time": "2022-11-22T12:50:52.849Z"
   },
   {
    "duration": 13,
    "start_time": "2022-11-22T12:50:52.870Z"
   },
   {
    "duration": 55,
    "start_time": "2022-11-22T12:50:52.885Z"
   },
   {
    "duration": 69,
    "start_time": "2022-11-22T12:50:53.539Z"
   },
   {
    "duration": 7,
    "start_time": "2022-11-22T12:50:54.519Z"
   },
   {
    "duration": 8,
    "start_time": "2022-11-22T12:50:55.099Z"
   },
   {
    "duration": 122,
    "start_time": "2022-11-22T12:50:55.635Z"
   },
   {
    "duration": 6,
    "start_time": "2022-11-22T12:50:56.851Z"
   },
   {
    "duration": 9,
    "start_time": "2022-11-22T12:50:57.067Z"
   },
   {
    "duration": 5,
    "start_time": "2022-11-22T12:50:57.267Z"
   },
   {
    "duration": 3,
    "start_time": "2022-11-22T12:50:57.467Z"
   },
   {
    "duration": 4,
    "start_time": "2022-11-22T12:50:57.883Z"
   },
   {
    "duration": 282,
    "start_time": "2022-11-22T12:50:58.092Z"
   },
   {
    "duration": 6,
    "start_time": "2022-11-22T12:50:58.376Z"
   },
   {
    "duration": 3043,
    "start_time": "2022-11-22T12:50:59.660Z"
   },
   {
    "duration": 261,
    "start_time": "2022-11-22T12:51:02.705Z"
   },
   {
    "duration": 251,
    "start_time": "2022-11-22T12:51:02.967Z"
   },
   {
    "duration": 245,
    "start_time": "2022-11-22T12:51:03.220Z"
   },
   {
    "duration": 254,
    "start_time": "2022-11-22T12:51:03.467Z"
   },
   {
    "duration": 246,
    "start_time": "2022-11-22T12:51:03.723Z"
   },
   {
    "duration": 333,
    "start_time": "2022-11-22T12:51:03.971Z"
   },
   {
    "duration": 339,
    "start_time": "2022-11-22T12:51:56.716Z"
   },
   {
    "duration": 84,
    "start_time": "2022-11-22T12:53:56.613Z"
   },
   {
    "duration": 389,
    "start_time": "2022-11-22T12:54:03.284Z"
   },
   {
    "duration": 359,
    "start_time": "2022-11-22T12:54:32.436Z"
   },
   {
    "duration": 319,
    "start_time": "2022-11-22T12:58:01.645Z"
   },
   {
    "duration": 4268,
    "start_time": "2022-11-22T13:00:44.284Z"
   },
   {
    "duration": 262,
    "start_time": "2022-11-22T13:00:48.555Z"
   },
   {
    "duration": 277,
    "start_time": "2022-11-22T13:00:48.820Z"
   },
   {
    "duration": 284,
    "start_time": "2022-11-22T13:00:49.099Z"
   },
   {
    "duration": 281,
    "start_time": "2022-11-22T13:00:49.385Z"
   },
   {
    "duration": 272,
    "start_time": "2022-11-22T13:00:49.670Z"
   },
   {
    "duration": 383,
    "start_time": "2022-11-22T13:00:49.944Z"
   },
   {
    "duration": 353,
    "start_time": "2022-11-22T13:06:49.548Z"
   },
   {
    "duration": 361,
    "start_time": "2022-11-22T13:06:56.420Z"
   },
   {
    "duration": 2,
    "start_time": "2022-11-22T13:07:06.795Z"
   },
   {
    "duration": 326,
    "start_time": "2022-11-22T13:07:13.524Z"
   },
   {
    "duration": 62,
    "start_time": "2022-11-22T13:07:24.380Z"
   },
   {
    "duration": 247,
    "start_time": "2022-11-22T13:07:34.010Z"
   },
   {
    "duration": 55,
    "start_time": "2022-11-22T13:07:37.196Z"
   },
   {
    "duration": 48,
    "start_time": "2022-11-22T13:08:15.548Z"
   },
   {
    "duration": 30,
    "start_time": "2022-11-22T13:08:22.547Z"
   },
   {
    "duration": 104,
    "start_time": "2022-11-22T13:09:51.341Z"
   },
   {
    "duration": 103,
    "start_time": "2022-11-22T13:10:13.940Z"
   },
   {
    "duration": 90,
    "start_time": "2022-11-22T13:10:23.859Z"
   },
   {
    "duration": 6,
    "start_time": "2022-11-22T13:11:15.745Z"
   },
   {
    "duration": 12,
    "start_time": "2022-11-22T13:11:22.236Z"
   },
   {
    "duration": 89,
    "start_time": "2022-11-22T13:11:45.459Z"
   },
   {
    "duration": 51,
    "start_time": "2022-11-22T13:13:16.588Z"
   },
   {
    "duration": 44,
    "start_time": "2022-11-22T13:13:43.419Z"
   },
   {
    "duration": 36,
    "start_time": "2022-11-22T13:13:56.451Z"
   },
   {
    "duration": 119,
    "start_time": "2022-11-22T13:14:10.011Z"
   },
   {
    "duration": 41,
    "start_time": "2022-11-22T13:14:32.764Z"
   },
   {
    "duration": 34,
    "start_time": "2022-11-22T13:14:43.899Z"
   },
   {
    "duration": 133,
    "start_time": "2022-11-22T13:16:53.724Z"
   },
   {
    "duration": 121,
    "start_time": "2022-11-22T13:18:37.299Z"
   },
   {
    "duration": 130,
    "start_time": "2022-11-22T13:19:36.975Z"
   },
   {
    "duration": 131,
    "start_time": "2022-11-22T13:19:39.314Z"
   },
   {
    "duration": 146,
    "start_time": "2022-11-22T13:21:19.023Z"
   },
   {
    "duration": 41,
    "start_time": "2022-11-22T13:22:42.027Z"
   },
   {
    "duration": 1071,
    "start_time": "2022-11-22T13:24:10.794Z"
   },
   {
    "duration": 47,
    "start_time": "2022-11-22T13:24:22.171Z"
   },
   {
    "duration": 44,
    "start_time": "2022-11-22T13:24:24.843Z"
   },
   {
    "duration": 49,
    "start_time": "2022-11-22T13:24:31.122Z"
   },
   {
    "duration": 944,
    "start_time": "2022-11-22T13:25:04.594Z"
   },
   {
    "duration": 916,
    "start_time": "2022-11-22T13:25:14.558Z"
   },
   {
    "duration": 137,
    "start_time": "2022-11-22T13:25:34.533Z"
   },
   {
    "duration": 120,
    "start_time": "2022-11-22T13:25:43.787Z"
   },
   {
    "duration": 135,
    "start_time": "2022-11-22T13:26:15.514Z"
   },
   {
    "duration": 139,
    "start_time": "2022-11-22T13:26:23.043Z"
   },
   {
    "duration": 131,
    "start_time": "2022-11-22T13:27:45.915Z"
   },
   {
    "duration": 124,
    "start_time": "2022-11-22T13:28:31.216Z"
   },
   {
    "duration": 142,
    "start_time": "2022-11-22T13:29:37.754Z"
   },
   {
    "duration": 128,
    "start_time": "2022-11-22T13:32:40.723Z"
   },
   {
    "duration": 167,
    "start_time": "2022-11-22T13:36:26.443Z"
   },
   {
    "duration": 90,
    "start_time": "2022-11-22T13:43:30.559Z"
   },
   {
    "duration": 30,
    "start_time": "2022-11-22T13:43:30.872Z"
   },
   {
    "duration": 15,
    "start_time": "2022-11-22T13:43:31.481Z"
   },
   {
    "duration": 1984,
    "start_time": "2022-11-22T13:43:31.674Z"
   },
   {
    "duration": 23,
    "start_time": "2022-11-22T13:43:33.660Z"
   },
   {
    "duration": 17,
    "start_time": "2022-11-22T13:43:33.685Z"
   },
   {
    "duration": 39,
    "start_time": "2022-11-22T13:43:34.361Z"
   },
   {
    "duration": 77,
    "start_time": "2022-11-22T13:43:37.413Z"
   },
   {
    "duration": 10,
    "start_time": "2022-11-22T13:43:40.097Z"
   },
   {
    "duration": 8,
    "start_time": "2022-11-22T13:43:41.592Z"
   },
   {
    "duration": 121,
    "start_time": "2022-11-22T13:43:42.794Z"
   },
   {
    "duration": 131,
    "start_time": "2022-11-22T13:50:07.482Z"
   },
   {
    "duration": 122,
    "start_time": "2022-11-22T13:50:15.579Z"
   },
   {
    "duration": 148,
    "start_time": "2022-11-22T13:52:30.858Z"
   },
   {
    "duration": 140,
    "start_time": "2022-11-22T13:52:46.205Z"
   },
   {
    "duration": 139,
    "start_time": "2022-11-22T13:52:55.409Z"
   },
   {
    "duration": 166,
    "start_time": "2022-11-22T13:53:02.434Z"
   },
   {
    "duration": 138,
    "start_time": "2022-11-22T13:53:15.699Z"
   },
   {
    "duration": 146,
    "start_time": "2022-11-22T13:53:23.233Z"
   },
   {
    "duration": 131,
    "start_time": "2022-11-22T14:01:13.082Z"
   },
   {
    "duration": 139,
    "start_time": "2022-11-22T14:01:28.386Z"
   },
   {
    "duration": 144,
    "start_time": "2022-11-22T14:01:34.312Z"
   },
   {
    "duration": 18,
    "start_time": "2022-11-22T14:03:15.625Z"
   },
   {
    "duration": 5,
    "start_time": "2022-11-22T14:03:22.376Z"
   },
   {
    "duration": 128,
    "start_time": "2022-11-22T14:03:29.840Z"
   },
   {
    "duration": 123,
    "start_time": "2022-11-22T14:04:01.858Z"
   },
   {
    "duration": 7,
    "start_time": "2022-11-22T14:04:03.864Z"
   },
   {
    "duration": 9,
    "start_time": "2022-11-22T14:04:04.024Z"
   },
   {
    "duration": 6,
    "start_time": "2022-11-22T14:04:04.192Z"
   },
   {
    "duration": 4,
    "start_time": "2022-11-22T14:04:04.368Z"
   },
   {
    "duration": 4,
    "start_time": "2022-11-22T14:04:04.721Z"
   },
   {
    "duration": 309,
    "start_time": "2022-11-22T14:04:05.936Z"
   },
   {
    "duration": 16,
    "start_time": "2022-11-22T14:04:06.280Z"
   },
   {
    "duration": 4109,
    "start_time": "2022-11-22T14:04:06.848Z"
   },
   {
    "duration": 261,
    "start_time": "2022-11-22T14:04:10.959Z"
   },
   {
    "duration": 252,
    "start_time": "2022-11-22T14:04:11.222Z"
   },
   {
    "duration": 242,
    "start_time": "2022-11-22T14:04:11.477Z"
   },
   {
    "duration": 267,
    "start_time": "2022-11-22T14:04:11.721Z"
   },
   {
    "duration": 272,
    "start_time": "2022-11-22T14:04:11.990Z"
   },
   {
    "duration": 314,
    "start_time": "2022-11-22T14:04:12.265Z"
   },
   {
    "duration": 108,
    "start_time": "2022-11-22T14:04:12.581Z"
   },
   {
    "duration": 78,
    "start_time": "2022-11-22T14:04:12.690Z"
   },
   {
    "duration": 184,
    "start_time": "2022-11-22T14:04:13.601Z"
   },
   {
    "duration": 192,
    "start_time": "2022-11-22T14:04:17.984Z"
   },
   {
    "duration": 162,
    "start_time": "2022-11-22T14:04:18.192Z"
   },
   {
    "duration": 141,
    "start_time": "2022-11-22T14:04:22.218Z"
   },
   {
    "duration": 468,
    "start_time": "2022-11-22T14:04:22.648Z"
   },
   {
    "duration": 267,
    "start_time": "2022-11-22T14:04:23.118Z"
   },
   {
    "duration": 109,
    "start_time": "2022-11-22T14:04:23.536Z"
   },
   {
    "duration": 120,
    "start_time": "2022-11-22T14:04:23.960Z"
   },
   {
    "duration": 123,
    "start_time": "2022-11-22T14:04:24.400Z"
   },
   {
    "duration": 119,
    "start_time": "2022-11-22T14:04:24.840Z"
   },
   {
    "duration": 23,
    "start_time": "2022-11-22T14:04:26.935Z"
   },
   {
    "duration": 167,
    "start_time": "2022-11-22T14:04:27.856Z"
   }
  ],
  "kernelspec": {
   "display_name": "Python 3 (ipykernel)",
   "language": "python",
   "name": "python3"
  },
  "language_info": {
   "codemirror_mode": {
    "name": "ipython",
    "version": 3
   },
   "file_extension": ".py",
   "mimetype": "text/x-python",
   "name": "python",
   "nbconvert_exporter": "python",
   "pygments_lexer": "ipython3",
   "version": "3.10.9"
  },
  "toc": {
   "base_numbering": 1,
   "nav_menu": {},
   "number_sections": true,
   "sideBar": true,
   "skip_h1_title": true,
   "title_cell": "Table of Contents",
   "title_sidebar": "Contents",
   "toc_cell": false,
   "toc_position": {},
   "toc_section_display": true,
   "toc_window_display": false
  }
 },
 "nbformat": 4,
 "nbformat_minor": 2
}
