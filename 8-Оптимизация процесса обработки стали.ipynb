{
 "cells": [
  {
   "cell_type": "markdown",
   "id": "8e7b3cb3",
   "metadata": {},
   "source": [
    "# Оптимизация процесса обработки стали"
   ]
  },
  {
   "cell_type": "markdown",
   "id": "627703c5",
   "metadata": {},
   "source": [
    "# Описание проекта \n",
    "\n",
    "Заказчиком почлены данные по процессу обработки стали для разных партий. Для оптимизации производства и уменьшении потребления электроэнергии необходимо построить модель, которая будет предсказывть температуру стали после обработки.\n",
    "\n",
    "Процесс обработки состоит из нагрева, добавления сыпучих материалов, легирования. Данный процесс может повторять несколько раз до достижения требуемой температуры. \n",
    "\n",
    "\n",
    "## Описание этапа обработки\n",
    "\n",
    "Сталь обрабатывают в металлическом ковше вместимостью около 100 тонн. Чтобы ковш выдерживал высокие температуры, изнутри его облицовывают огнеупорным кирпичом. Расплавленную сталь заливают в ковш и подогревают до нужной температуры графитовыми электродами. Они установлены в крышке ковша. \n",
    "\n",
    "Из сплава выводится сера (десульфурация), добавлением примесей корректируется химический состав и отбираются пробы. Сталь легируют — изменяют её состав — подавая куски сплава из бункера для сыпучих материалов или проволоку через специальный трайб-аппарат (англ. tribe, «масса»).\n",
    "\n",
    "Перед тем как первый раз ввести легирующие добавки, измеряют температуру стали и производят её химический анализ. Потом температуру на несколько минут повышают, добавляют легирующие материалы и продувают сплав инертным газом. Затем его перемешивают и снова проводят измерения. Такой цикл повторяется до достижения целевого химического состава и оптимальной температуры плавки.\n",
    "\n",
    "Тогда расплавленная сталь отправляется на доводку металла или поступает в машину непрерывной разливки. Оттуда готовый продукт выходит в виде заготовок-слябов (англ. *slab*, «плита»)."
   ]
  },
  {
   "cell_type": "code",
   "execution_count": 3,
   "id": "48cf07ad",
   "metadata": {},
   "outputs": [],
   "source": [
    "import numpy as np\n",
    "import pandas as pd\n",
    "import seaborn as sns\n",
    "\n",
    "import matplotlib.pyplot as plt\n",
    "\n",
    "import optuna\n",
    "\n",
    "from sklearn.ensemble import RandomForestRegressor\n",
    "from sklearn.linear_model import LinearRegression\n",
    "from sklearn.model_selection import train_test_split, cross_validate, cross_val_score\n",
    "from sklearn.metrics import mean_absolute_error\n",
    "from sklearn.preprocessing import StandardScaler\n",
    "\n",
    "from catboost import CatBoostRegressor"
   ]
  },
  {
   "cell_type": "markdown",
   "id": "acaa97f8",
   "metadata": {},
   "source": [
    "# 1.Исследовательский анализ данных"
   ]
  },
  {
   "cell_type": "markdown",
   "id": "df001578",
   "metadata": {},
   "source": [
    "## 1.1 Данные об электродах"
   ]
  },
  {
   "cell_type": "code",
   "execution_count": 4,
   "id": "8b094d62",
   "metadata": {},
   "outputs": [],
   "source": [
    "data_arc = pd.read_csv('https://code.s3.yandex.net/datasets/data_arc_new.csv')\n",
    "data_bulk = pd.read_csv('https://code.s3.yandex.net/datasets/data_bulk_new.csv')\n",
    "data_bulk_time = pd.read_csv('https://code.s3.yandex.net/datasets/data_bulk_time_new.csv')\n",
    "data_gas = pd.read_csv('https://code.s3.yandex.net/datasets/data_gas_new.csv')\n",
    "data_temp = pd.read_csv('https://code.s3.yandex.net/datasets/data_temp_new.csv')\n",
    "data_wire = pd.read_csv('https://code.s3.yandex.net/datasets/data_wire_new.csv')\n",
    "data_wire_time = pd.read_csv('https://code.s3.yandex.net/datasets/data_wire_time_new.csv')"
   ]
  },
  {
   "cell_type": "code",
   "execution_count": 5,
   "id": "12493da6",
   "metadata": {},
   "outputs": [
    {
     "data": {
      "text/html": [
       "<div>\n",
       "<style scoped>\n",
       "    .dataframe tbody tr th:only-of-type {\n",
       "        vertical-align: middle;\n",
       "    }\n",
       "\n",
       "    .dataframe tbody tr th {\n",
       "        vertical-align: top;\n",
       "    }\n",
       "\n",
       "    .dataframe thead th {\n",
       "        text-align: right;\n",
       "    }\n",
       "</style>\n",
       "<table border=\"1\" class=\"dataframe\">\n",
       "  <thead>\n",
       "    <tr style=\"text-align: right;\">\n",
       "      <th></th>\n",
       "      <th>key</th>\n",
       "      <th>Начало нагрева дугой</th>\n",
       "      <th>Конец нагрева дугой</th>\n",
       "      <th>Активная мощность</th>\n",
       "      <th>Реактивная мощность</th>\n",
       "    </tr>\n",
       "  </thead>\n",
       "  <tbody>\n",
       "    <tr>\n",
       "      <th>0</th>\n",
       "      <td>1</td>\n",
       "      <td>2019-05-03 11:02:14</td>\n",
       "      <td>2019-05-03 11:06:02</td>\n",
       "      <td>0.305130</td>\n",
       "      <td>0.211253</td>\n",
       "    </tr>\n",
       "    <tr>\n",
       "      <th>1</th>\n",
       "      <td>1</td>\n",
       "      <td>2019-05-03 11:07:28</td>\n",
       "      <td>2019-05-03 11:10:33</td>\n",
       "      <td>0.765658</td>\n",
       "      <td>0.477438</td>\n",
       "    </tr>\n",
       "    <tr>\n",
       "      <th>2</th>\n",
       "      <td>1</td>\n",
       "      <td>2019-05-03 11:11:44</td>\n",
       "      <td>2019-05-03 11:14:36</td>\n",
       "      <td>0.580313</td>\n",
       "      <td>0.430460</td>\n",
       "    </tr>\n",
       "    <tr>\n",
       "      <th>3</th>\n",
       "      <td>1</td>\n",
       "      <td>2019-05-03 11:18:14</td>\n",
       "      <td>2019-05-03 11:24:19</td>\n",
       "      <td>0.518496</td>\n",
       "      <td>0.379979</td>\n",
       "    </tr>\n",
       "    <tr>\n",
       "      <th>4</th>\n",
       "      <td>1</td>\n",
       "      <td>2019-05-03 11:26:09</td>\n",
       "      <td>2019-05-03 11:28:37</td>\n",
       "      <td>0.867133</td>\n",
       "      <td>0.643691</td>\n",
       "    </tr>\n",
       "  </tbody>\n",
       "</table>\n",
       "</div>"
      ],
      "text/plain": [
       "   key Начало нагрева дугой  Конец нагрева дугой  Активная мощность  \\\n",
       "0    1  2019-05-03 11:02:14  2019-05-03 11:06:02           0.305130   \n",
       "1    1  2019-05-03 11:07:28  2019-05-03 11:10:33           0.765658   \n",
       "2    1  2019-05-03 11:11:44  2019-05-03 11:14:36           0.580313   \n",
       "3    1  2019-05-03 11:18:14  2019-05-03 11:24:19           0.518496   \n",
       "4    1  2019-05-03 11:26:09  2019-05-03 11:28:37           0.867133   \n",
       "\n",
       "   Реактивная мощность  \n",
       "0             0.211253  \n",
       "1             0.477438  \n",
       "2             0.430460  \n",
       "3             0.379979  \n",
       "4             0.643691  "
      ]
     },
     "execution_count": 5,
     "metadata": {},
     "output_type": "execute_result"
    }
   ],
   "source": [
    "data_arc.head()"
   ]
  },
  {
   "cell_type": "code",
   "execution_count": 6,
   "id": "451eb3f0",
   "metadata": {},
   "outputs": [
    {
     "name": "stdout",
     "output_type": "stream",
     "text": [
      "4.628500311138768\n"
     ]
    },
    {
     "data": {
      "image/png": "[encoded data removed]",
      "text/plain": [
       "<Figure size 360x216 with 1 Axes>"
      ]
     },
     "metadata": {
      "needs_background": "light"
     },
     "output_type": "display_data"
    }
   ],
   "source": [
    "plt.figure()\n",
    "ax = data_arc['key'].value_counts().hist(figsize=(5,3))\n",
    "ax.set_title('Распределение итераций нагрева')\n",
    "ax.set_ylabel('Количество')\n",
    "ax.set_xlabel('Количество итераций нагрева')\n",
    "print(data_arc['key'].value_counts().mean())"
   ]
  },
  {
   "cell_type": "code",
   "execution_count": 7,
   "id": "b79d57d3",
   "metadata": {},
   "outputs": [
    {
     "name": "stdout",
     "output_type": "stream",
     "text": [
      "<class 'pandas.core.frame.DataFrame'>\n",
      "RangeIndex: 14876 entries, 0 to 14875\n",
      "Data columns (total 5 columns):\n",
      " #   Column                Non-Null Count  Dtype  \n",
      "---  ------                --------------  -----  \n",
      " 0   key                   14876 non-null  int64  \n",
      " 1   Начало нагрева дугой  14876 non-null  object \n",
      " 2   Конец нагрева дугой   14876 non-null  object \n",
      " 3   Активная мощность     14876 non-null  float64\n",
      " 4   Реактивная мощность   14876 non-null  float64\n",
      "dtypes: float64(2), int64(1), object(2)\n",
      "memory usage: 581.2+ KB\n"
     ]
    }
   ],
   "source": [
    "data_arc.info()"
   ]
  },
  {
   "cell_type": "code",
   "execution_count": 8,
   "id": "0581d104",
   "metadata": {},
   "outputs": [
    {
     "data": {
      "text/html": [
       "<div>\n",
       "<style scoped>\n",
       "    .dataframe tbody tr th:only-of-type {\n",
       "        vertical-align: middle;\n",
       "    }\n",
       "\n",
       "    .dataframe tbody tr th {\n",
       "        vertical-align: top;\n",
       "    }\n",
       "\n",
       "    .dataframe thead th {\n",
       "        text-align: right;\n",
       "    }\n",
       "</style>\n",
       "<table border=\"1\" class=\"dataframe\">\n",
       "  <thead>\n",
       "    <tr style=\"text-align: right;\">\n",
       "      <th></th>\n",
       "      <th>key</th>\n",
       "      <th>Активная мощность</th>\n",
       "      <th>Реактивная мощность</th>\n",
       "    </tr>\n",
       "  </thead>\n",
       "  <tbody>\n",
       "    <tr>\n",
       "      <th>count</th>\n",
       "      <td>14876.000000</td>\n",
       "      <td>14876.000000</td>\n",
       "      <td>14876.000000</td>\n",
       "    </tr>\n",
       "    <tr>\n",
       "      <th>mean</th>\n",
       "      <td>1615.220422</td>\n",
       "      <td>0.662752</td>\n",
       "      <td>0.438986</td>\n",
       "    </tr>\n",
       "    <tr>\n",
       "      <th>std</th>\n",
       "      <td>934.571502</td>\n",
       "      <td>0.258885</td>\n",
       "      <td>5.873485</td>\n",
       "    </tr>\n",
       "    <tr>\n",
       "      <th>min</th>\n",
       "      <td>1.000000</td>\n",
       "      <td>0.223120</td>\n",
       "      <td>-715.479924</td>\n",
       "    </tr>\n",
       "    <tr>\n",
       "      <th>25%</th>\n",
       "      <td>806.000000</td>\n",
       "      <td>0.467115</td>\n",
       "      <td>0.337175</td>\n",
       "    </tr>\n",
       "    <tr>\n",
       "      <th>50%</th>\n",
       "      <td>1617.000000</td>\n",
       "      <td>0.599587</td>\n",
       "      <td>0.441639</td>\n",
       "    </tr>\n",
       "    <tr>\n",
       "      <th>75%</th>\n",
       "      <td>2429.000000</td>\n",
       "      <td>0.830070</td>\n",
       "      <td>0.608201</td>\n",
       "    </tr>\n",
       "    <tr>\n",
       "      <th>max</th>\n",
       "      <td>3241.000000</td>\n",
       "      <td>1.463773</td>\n",
       "      <td>1.270284</td>\n",
       "    </tr>\n",
       "  </tbody>\n",
       "</table>\n",
       "</div>"
      ],
      "text/plain": [
       "                key  Активная мощность  Реактивная мощность\n",
       "count  14876.000000       14876.000000         14876.000000\n",
       "mean    1615.220422           0.662752             0.438986\n",
       "std      934.571502           0.258885             5.873485\n",
       "min        1.000000           0.223120          -715.479924\n",
       "25%      806.000000           0.467115             0.337175\n",
       "50%     1617.000000           0.599587             0.441639\n",
       "75%     2429.000000           0.830070             0.608201\n",
       "max     3241.000000           1.463773             1.270284"
      ]
     },
     "execution_count": 8,
     "metadata": {},
     "output_type": "execute_result"
    }
   ],
   "source": [
    "data_arc.describe()"
   ]
  },
  {
   "cell_type": "code",
   "execution_count": 9,
   "id": "38c0a6f2",
   "metadata": {},
   "outputs": [
    {
     "data": {
      "text/plain": [
       "Text(0.5, 0, 'Активная мощность')"
      ]
     },
     "execution_count": 9,
     "metadata": {},
     "output_type": "execute_result"
    },
    {
     "data": {
      "image/png": "[encoded data removed]",
      "text/plain": [
       "<Figure size 360x216 with 1 Axes>"
      ]
     },
     "metadata": {
      "needs_background": "light"
     },
     "output_type": "display_data"
    }
   ],
   "source": [
    "plt.figure()\n",
    "ax = data_arc['Активная мощность'].hist(figsize=(5,3))\n",
    "ax.set_title('Распределение активных мощностей')\n",
    "ax.set_ylabel('Количество')\n",
    "ax.set_xlabel('Активная мощность')"
   ]
  },
  {
   "cell_type": "code",
   "execution_count": 10,
   "id": "c2b1f552",
   "metadata": {},
   "outputs": [
    {
     "data": {
      "text/plain": [
       "Text(0.5, 0, 'Реактивная мощность')"
      ]
     },
     "execution_count": 10,
     "metadata": {},
     "output_type": "execute_result"
    },
    {
     "data": {
      "image/png": "[encoded data removed]",
      "text/plain": [
       "<Figure size 360x216 with 1 Axes>"
      ]
     },
     "metadata": {
      "needs_background": "light"
     },
     "output_type": "display_data"
    }
   ],
   "source": [
    "plt.figure()\n",
    "ax = data_arc['Реактивная мощность'].hist(figsize=(5,3))\n",
    "ax.set_title('Распределение активных мощностей')\n",
    "ax.set_ylabel('Количество')\n",
    "ax.set_xlabel('Реактивная мощность')"
   ]
  },
  {
   "cell_type": "code",
   "execution_count": 11,
   "id": "fe5283f9",
   "metadata": {},
   "outputs": [
    {
     "data": {
      "text/plain": [
       "9780    -715.479924\n",
       "709        0.153777\n",
       "3290       0.153921\n",
       "11794      0.155221\n",
       "6130       0.156525\n",
       "Name: Реактивная мощность, dtype: float64"
      ]
     },
     "execution_count": 11,
     "metadata": {},
     "output_type": "execute_result"
    }
   ],
   "source": [
    "data_arc['Реактивная мощность'].sort_values().head()"
   ]
  },
  {
   "cell_type": "code",
   "execution_count": 12,
   "id": "b8385dfd",
   "metadata": {},
   "outputs": [
    {
     "data": {
      "text/plain": [
       "Text(0, 0.5, 'Реактивная мощность')"
      ]
     },
     "execution_count": 12,
     "metadata": {},
     "output_type": "execute_result"
    },
    {
     "data": {
      "image/png": "[encoded data removed]",
      "text/plain": [
       "<Figure size 432x288 with 1 Axes>"
      ]
     },
     "metadata": {
      "needs_background": "light"
     },
     "output_type": "display_data"
    }
   ],
   "source": [
    "plt.scatter(data_arc.drop(9780)['Активная мощность'], data_arc.drop(9780)['Реактивная мощность'] )\n",
    "plt.title('Зависимость реавктивной мощности от активной')\n",
    "plt.xlabel('Активная мощность')\n",
    "plt.ylabel('Реактивная мощность')"
   ]
  },
  {
   "cell_type": "markdown",
   "id": "f9e8d0e7",
   "metadata": {},
   "source": [
    "<b>Вывод:</b>\n",
    "  - В столбце 'Реактивная мощность' присутствует аномальное значение. Так же замечена линейная связь между Активной и реактивной мощностью. По уравнению прямой можно найти значение реактивной мощности по значению активной мощности\n",
    "  - Среднее количество итераций 5"
   ]
  },
  {
   "cell_type": "markdown",
   "id": "376d9678",
   "metadata": {},
   "source": [
    "## 1.2 Данные о подаче сыпучих материалов"
   ]
  },
  {
   "cell_type": "code",
   "execution_count": 13,
   "id": "190b8f78",
   "metadata": {},
   "outputs": [
    {
     "data": {
      "text/html": [
       "<div>\n",
       "<style scoped>\n",
       "    .dataframe tbody tr th:only-of-type {\n",
       "        vertical-align: middle;\n",
       "    }\n",
       "\n",
       "    .dataframe tbody tr th {\n",
       "        vertical-align: top;\n",
       "    }\n",
       "\n",
       "    .dataframe thead th {\n",
       "        text-align: right;\n",
       "    }\n",
       "</style>\n",
       "<table border=\"1\" class=\"dataframe\">\n",
       "  <thead>\n",
       "    <tr style=\"text-align: right;\">\n",
       "      <th></th>\n",
       "      <th>key</th>\n",
       "      <th>Bulk 1</th>\n",
       "      <th>Bulk 2</th>\n",
       "      <th>Bulk 3</th>\n",
       "      <th>Bulk 4</th>\n",
       "      <th>Bulk 5</th>\n",
       "      <th>Bulk 6</th>\n",
       "      <th>Bulk 7</th>\n",
       "      <th>Bulk 8</th>\n",
       "      <th>Bulk 9</th>\n",
       "      <th>Bulk 10</th>\n",
       "      <th>Bulk 11</th>\n",
       "      <th>Bulk 12</th>\n",
       "      <th>Bulk 13</th>\n",
       "      <th>Bulk 14</th>\n",
       "      <th>Bulk 15</th>\n",
       "    </tr>\n",
       "  </thead>\n",
       "  <tbody>\n",
       "    <tr>\n",
       "      <th>0</th>\n",
       "      <td>1</td>\n",
       "      <td>NaN</td>\n",
       "      <td>NaN</td>\n",
       "      <td>NaN</td>\n",
       "      <td>43.0</td>\n",
       "      <td>NaN</td>\n",
       "      <td>NaN</td>\n",
       "      <td>NaN</td>\n",
       "      <td>NaN</td>\n",
       "      <td>NaN</td>\n",
       "      <td>NaN</td>\n",
       "      <td>NaN</td>\n",
       "      <td>206.0</td>\n",
       "      <td>NaN</td>\n",
       "      <td>150.0</td>\n",
       "      <td>154.0</td>\n",
       "    </tr>\n",
       "    <tr>\n",
       "      <th>1</th>\n",
       "      <td>2</td>\n",
       "      <td>NaN</td>\n",
       "      <td>NaN</td>\n",
       "      <td>NaN</td>\n",
       "      <td>73.0</td>\n",
       "      <td>NaN</td>\n",
       "      <td>NaN</td>\n",
       "      <td>NaN</td>\n",
       "      <td>NaN</td>\n",
       "      <td>NaN</td>\n",
       "      <td>NaN</td>\n",
       "      <td>NaN</td>\n",
       "      <td>206.0</td>\n",
       "      <td>NaN</td>\n",
       "      <td>149.0</td>\n",
       "      <td>154.0</td>\n",
       "    </tr>\n",
       "    <tr>\n",
       "      <th>2</th>\n",
       "      <td>3</td>\n",
       "      <td>NaN</td>\n",
       "      <td>NaN</td>\n",
       "      <td>NaN</td>\n",
       "      <td>34.0</td>\n",
       "      <td>NaN</td>\n",
       "      <td>NaN</td>\n",
       "      <td>NaN</td>\n",
       "      <td>NaN</td>\n",
       "      <td>NaN</td>\n",
       "      <td>NaN</td>\n",
       "      <td>NaN</td>\n",
       "      <td>205.0</td>\n",
       "      <td>NaN</td>\n",
       "      <td>152.0</td>\n",
       "      <td>153.0</td>\n",
       "    </tr>\n",
       "    <tr>\n",
       "      <th>3</th>\n",
       "      <td>4</td>\n",
       "      <td>NaN</td>\n",
       "      <td>NaN</td>\n",
       "      <td>NaN</td>\n",
       "      <td>81.0</td>\n",
       "      <td>NaN</td>\n",
       "      <td>NaN</td>\n",
       "      <td>NaN</td>\n",
       "      <td>NaN</td>\n",
       "      <td>NaN</td>\n",
       "      <td>NaN</td>\n",
       "      <td>NaN</td>\n",
       "      <td>207.0</td>\n",
       "      <td>NaN</td>\n",
       "      <td>153.0</td>\n",
       "      <td>154.0</td>\n",
       "    </tr>\n",
       "    <tr>\n",
       "      <th>4</th>\n",
       "      <td>5</td>\n",
       "      <td>NaN</td>\n",
       "      <td>NaN</td>\n",
       "      <td>NaN</td>\n",
       "      <td>78.0</td>\n",
       "      <td>NaN</td>\n",
       "      <td>NaN</td>\n",
       "      <td>NaN</td>\n",
       "      <td>NaN</td>\n",
       "      <td>NaN</td>\n",
       "      <td>NaN</td>\n",
       "      <td>NaN</td>\n",
       "      <td>203.0</td>\n",
       "      <td>NaN</td>\n",
       "      <td>151.0</td>\n",
       "      <td>152.0</td>\n",
       "    </tr>\n",
       "  </tbody>\n",
       "</table>\n",
       "</div>"
      ],
      "text/plain": [
       "   key  Bulk 1  Bulk 2  Bulk 3  Bulk 4  Bulk 5  Bulk 6  Bulk 7  Bulk 8  \\\n",
       "0    1     NaN     NaN     NaN    43.0     NaN     NaN     NaN     NaN   \n",
       "1    2     NaN     NaN     NaN    73.0     NaN     NaN     NaN     NaN   \n",
       "2    3     NaN     NaN     NaN    34.0     NaN     NaN     NaN     NaN   \n",
       "3    4     NaN     NaN     NaN    81.0     NaN     NaN     NaN     NaN   \n",
       "4    5     NaN     NaN     NaN    78.0     NaN     NaN     NaN     NaN   \n",
       "\n",
       "   Bulk 9  Bulk 10  Bulk 11  Bulk 12  Bulk 13  Bulk 14  Bulk 15  \n",
       "0     NaN      NaN      NaN    206.0      NaN    150.0    154.0  \n",
       "1     NaN      NaN      NaN    206.0      NaN    149.0    154.0  \n",
       "2     NaN      NaN      NaN    205.0      NaN    152.0    153.0  \n",
       "3     NaN      NaN      NaN    207.0      NaN    153.0    154.0  \n",
       "4     NaN      NaN      NaN    203.0      NaN    151.0    152.0  "
      ]
     },
     "execution_count": 13,
     "metadata": {},
     "output_type": "execute_result"
    }
   ],
   "source": [
    "data_bulk.head() "
   ]
  },
  {
   "cell_type": "code",
   "execution_count": 14,
   "id": "b35689d9",
   "metadata": {},
   "outputs": [
    {
     "data": {
      "text/html": [
       "<div>\n",
       "<style scoped>\n",
       "    .dataframe tbody tr th:only-of-type {\n",
       "        vertical-align: middle;\n",
       "    }\n",
       "\n",
       "    .dataframe tbody tr th {\n",
       "        vertical-align: top;\n",
       "    }\n",
       "\n",
       "    .dataframe thead th {\n",
       "        text-align: right;\n",
       "    }\n",
       "</style>\n",
       "<table border=\"1\" class=\"dataframe\">\n",
       "  <thead>\n",
       "    <tr style=\"text-align: right;\">\n",
       "      <th></th>\n",
       "      <th>key</th>\n",
       "      <th>Bulk 1</th>\n",
       "      <th>Bulk 2</th>\n",
       "      <th>Bulk 3</th>\n",
       "      <th>Bulk 4</th>\n",
       "      <th>Bulk 5</th>\n",
       "      <th>Bulk 6</th>\n",
       "      <th>Bulk 7</th>\n",
       "      <th>Bulk 8</th>\n",
       "      <th>Bulk 9</th>\n",
       "      <th>Bulk 10</th>\n",
       "      <th>Bulk 11</th>\n",
       "      <th>Bulk 12</th>\n",
       "      <th>Bulk 13</th>\n",
       "      <th>Bulk 14</th>\n",
       "      <th>Bulk 15</th>\n",
       "    </tr>\n",
       "  </thead>\n",
       "  <tbody>\n",
       "    <tr>\n",
       "      <th>0</th>\n",
       "      <td>1</td>\n",
       "      <td>NaN</td>\n",
       "      <td>NaN</td>\n",
       "      <td>NaN</td>\n",
       "      <td>2019-05-03 11:28:48</td>\n",
       "      <td>NaN</td>\n",
       "      <td>NaN</td>\n",
       "      <td>NaN</td>\n",
       "      <td>NaN</td>\n",
       "      <td>NaN</td>\n",
       "      <td>NaN</td>\n",
       "      <td>NaN</td>\n",
       "      <td>2019-05-03 11:24:31</td>\n",
       "      <td>NaN</td>\n",
       "      <td>2019-05-03 11:14:50</td>\n",
       "      <td>2019-05-03 11:10:43</td>\n",
       "    </tr>\n",
       "    <tr>\n",
       "      <th>1</th>\n",
       "      <td>2</td>\n",
       "      <td>NaN</td>\n",
       "      <td>NaN</td>\n",
       "      <td>NaN</td>\n",
       "      <td>2019-05-03 11:36:50</td>\n",
       "      <td>NaN</td>\n",
       "      <td>NaN</td>\n",
       "      <td>NaN</td>\n",
       "      <td>NaN</td>\n",
       "      <td>NaN</td>\n",
       "      <td>NaN</td>\n",
       "      <td>NaN</td>\n",
       "      <td>2019-05-03 11:53:30</td>\n",
       "      <td>NaN</td>\n",
       "      <td>2019-05-03 11:48:37</td>\n",
       "      <td>2019-05-03 11:44:39</td>\n",
       "    </tr>\n",
       "    <tr>\n",
       "      <th>2</th>\n",
       "      <td>3</td>\n",
       "      <td>NaN</td>\n",
       "      <td>NaN</td>\n",
       "      <td>NaN</td>\n",
       "      <td>2019-05-03 12:32:39</td>\n",
       "      <td>NaN</td>\n",
       "      <td>NaN</td>\n",
       "      <td>NaN</td>\n",
       "      <td>NaN</td>\n",
       "      <td>NaN</td>\n",
       "      <td>NaN</td>\n",
       "      <td>NaN</td>\n",
       "      <td>2019-05-03 12:27:13</td>\n",
       "      <td>NaN</td>\n",
       "      <td>2019-05-03 12:21:01</td>\n",
       "      <td>2019-05-03 12:16:16</td>\n",
       "    </tr>\n",
       "    <tr>\n",
       "      <th>3</th>\n",
       "      <td>4</td>\n",
       "      <td>NaN</td>\n",
       "      <td>NaN</td>\n",
       "      <td>NaN</td>\n",
       "      <td>2019-05-03 12:43:22</td>\n",
       "      <td>NaN</td>\n",
       "      <td>NaN</td>\n",
       "      <td>NaN</td>\n",
       "      <td>NaN</td>\n",
       "      <td>NaN</td>\n",
       "      <td>NaN</td>\n",
       "      <td>NaN</td>\n",
       "      <td>2019-05-03 12:58:00</td>\n",
       "      <td>NaN</td>\n",
       "      <td>2019-05-03 12:51:11</td>\n",
       "      <td>2019-05-03 12:46:36</td>\n",
       "    </tr>\n",
       "    <tr>\n",
       "      <th>4</th>\n",
       "      <td>5</td>\n",
       "      <td>NaN</td>\n",
       "      <td>NaN</td>\n",
       "      <td>NaN</td>\n",
       "      <td>2019-05-03 13:30:47</td>\n",
       "      <td>NaN</td>\n",
       "      <td>NaN</td>\n",
       "      <td>NaN</td>\n",
       "      <td>NaN</td>\n",
       "      <td>NaN</td>\n",
       "      <td>NaN</td>\n",
       "      <td>NaN</td>\n",
       "      <td>2019-05-03 13:30:47</td>\n",
       "      <td>NaN</td>\n",
       "      <td>2019-05-03 13:34:12</td>\n",
       "      <td>2019-05-03 13:30:47</td>\n",
       "    </tr>\n",
       "  </tbody>\n",
       "</table>\n",
       "</div>"
      ],
      "text/plain": [
       "   key Bulk 1 Bulk 2 Bulk 3               Bulk 4 Bulk 5 Bulk 6 Bulk 7 Bulk 8  \\\n",
       "0    1    NaN    NaN    NaN  2019-05-03 11:28:48    NaN    NaN    NaN    NaN   \n",
       "1    2    NaN    NaN    NaN  2019-05-03 11:36:50    NaN    NaN    NaN    NaN   \n",
       "2    3    NaN    NaN    NaN  2019-05-03 12:32:39    NaN    NaN    NaN    NaN   \n",
       "3    4    NaN    NaN    NaN  2019-05-03 12:43:22    NaN    NaN    NaN    NaN   \n",
       "4    5    NaN    NaN    NaN  2019-05-03 13:30:47    NaN    NaN    NaN    NaN   \n",
       "\n",
       "  Bulk 9 Bulk 10 Bulk 11              Bulk 12 Bulk 13              Bulk 14  \\\n",
       "0    NaN     NaN     NaN  2019-05-03 11:24:31     NaN  2019-05-03 11:14:50   \n",
       "1    NaN     NaN     NaN  2019-05-03 11:53:30     NaN  2019-05-03 11:48:37   \n",
       "2    NaN     NaN     NaN  2019-05-03 12:27:13     NaN  2019-05-03 12:21:01   \n",
       "3    NaN     NaN     NaN  2019-05-03 12:58:00     NaN  2019-05-03 12:51:11   \n",
       "4    NaN     NaN     NaN  2019-05-03 13:30:47     NaN  2019-05-03 13:34:12   \n",
       "\n",
       "               Bulk 15  \n",
       "0  2019-05-03 11:10:43  \n",
       "1  2019-05-03 11:44:39  \n",
       "2  2019-05-03 12:16:16  \n",
       "3  2019-05-03 12:46:36  \n",
       "4  2019-05-03 13:30:47  "
      ]
     },
     "execution_count": 14,
     "metadata": {},
     "output_type": "execute_result"
    }
   ],
   "source": [
    "data_bulk_time.head()"
   ]
  },
  {
   "cell_type": "code",
   "execution_count": 15,
   "id": "7693e7f3",
   "metadata": {},
   "outputs": [
    {
     "name": "stdout",
     "output_type": "stream",
     "text": [
      "<class 'pandas.core.frame.DataFrame'>\n",
      "RangeIndex: 3129 entries, 0 to 3128\n",
      "Data columns (total 16 columns):\n",
      " #   Column   Non-Null Count  Dtype  \n",
      "---  ------   --------------  -----  \n",
      " 0   key      3129 non-null   int64  \n",
      " 1   Bulk 1   252 non-null    float64\n",
      " 2   Bulk 2   22 non-null     float64\n",
      " 3   Bulk 3   1298 non-null   float64\n",
      " 4   Bulk 4   1014 non-null   float64\n",
      " 5   Bulk 5   77 non-null     float64\n",
      " 6   Bulk 6   576 non-null    float64\n",
      " 7   Bulk 7   25 non-null     float64\n",
      " 8   Bulk 8   1 non-null      float64\n",
      " 9   Bulk 9   19 non-null     float64\n",
      " 10  Bulk 10  176 non-null    float64\n",
      " 11  Bulk 11  177 non-null    float64\n",
      " 12  Bulk 12  2450 non-null   float64\n",
      " 13  Bulk 13  18 non-null     float64\n",
      " 14  Bulk 14  2806 non-null   float64\n",
      " 15  Bulk 15  2248 non-null   float64\n",
      "dtypes: float64(15), int64(1)\n",
      "memory usage: 391.2 KB\n"
     ]
    }
   ],
   "source": [
    "data_bulk.info() "
   ]
  },
  {
   "cell_type": "code",
   "execution_count": 16,
   "id": "8872f789",
   "metadata": {},
   "outputs": [
    {
     "name": "stdout",
     "output_type": "stream",
     "text": [
      "<class 'pandas.core.frame.DataFrame'>\n",
      "RangeIndex: 3129 entries, 0 to 3128\n",
      "Data columns (total 16 columns):\n",
      " #   Column   Non-Null Count  Dtype \n",
      "---  ------   --------------  ----- \n",
      " 0   key      3129 non-null   int64 \n",
      " 1   Bulk 1   252 non-null    object\n",
      " 2   Bulk 2   22 non-null     object\n",
      " 3   Bulk 3   1298 non-null   object\n",
      " 4   Bulk 4   1014 non-null   object\n",
      " 5   Bulk 5   77 non-null     object\n",
      " 6   Bulk 6   576 non-null    object\n",
      " 7   Bulk 7   25 non-null     object\n",
      " 8   Bulk 8   1 non-null      object\n",
      " 9   Bulk 9   19 non-null     object\n",
      " 10  Bulk 10  176 non-null    object\n",
      " 11  Bulk 11  177 non-null    object\n",
      " 12  Bulk 12  2450 non-null   object\n",
      " 13  Bulk 13  18 non-null     object\n",
      " 14  Bulk 14  2806 non-null   object\n",
      " 15  Bulk 15  2248 non-null   object\n",
      "dtypes: int64(1), object(15)\n",
      "memory usage: 391.2+ KB\n"
     ]
    }
   ],
   "source": [
    "data_bulk_time.info() "
   ]
  },
  {
   "cell_type": "code",
   "execution_count": 17,
   "id": "9a6e9513",
   "metadata": {},
   "outputs": [
    {
     "data": {
      "text/plain": [
       "Text(0.5, 0, 'Тип сыпучего материала')"
      ]
     },
     "execution_count": 17,
     "metadata": {},
     "output_type": "execute_result"
    },
    {
     "data": {
      "image/png": "[encoded data removed]",
      "text/plain": [
       "<Figure size 432x288 with 1 Axes>"
      ]
     },
     "metadata": {
      "needs_background": "light"
     },
     "output_type": "display_data"
    }
   ],
   "source": [
    "plt.figure()\n",
    "ax = data_bulk.notna().drop('key', axis=1).mean().sort_values(ascending=False).plot(kind='bar')\n",
    "ax.set_title('использование сыпучих материалов')\n",
    "ax.set_ylabel('Доля использования в партиях')\n",
    "ax.set_xlabel('Тип сыпучего материала')"
   ]
  },
  {
   "cell_type": "code",
   "execution_count": 18,
   "id": "cb45647d",
   "metadata": {},
   "outputs": [
    {
     "data": {
      "text/plain": [
       "key        True\n",
       "Bulk 1     True\n",
       "Bulk 2     True\n",
       "Bulk 3     True\n",
       "Bulk 4     True\n",
       "Bulk 5     True\n",
       "Bulk 6     True\n",
       "Bulk 7     True\n",
       "Bulk 8     True\n",
       "Bulk 9     True\n",
       "Bulk 10    True\n",
       "Bulk 11    True\n",
       "Bulk 12    True\n",
       "Bulk 13    True\n",
       "Bulk 14    True\n",
       "Bulk 15    True\n",
       "dtype: bool"
      ]
     },
     "execution_count": 18,
     "metadata": {},
     "output_type": "execute_result"
    }
   ],
   "source": [
    "data_bulk.notna().mean() == data_bulk_time.notna().mean()"
   ]
  },
  {
   "cell_type": "markdown",
   "id": "3b0fba6d",
   "metadata": {},
   "source": [
    "<b>Вывод:</b>\n",
    "- Структура таблиц одинаковая(нет несоответсвий пропущенных значений между первой и второй таблицей) . \n",
    "- Признаки Bulk 11,10,5,7,2,9,13,8 используются в менее 8% партий, данные признаки можно исключить из данных.Данные признаки окажут отрицательное влияние на предсказание модели\n",
    "- Необходимо изменить тип данных на datetime"
   ]
  },
  {
   "cell_type": "markdown",
   "id": "42273279",
   "metadata": {},
   "source": [
    "## 1.3 Данные о проволочных материалах"
   ]
  },
  {
   "cell_type": "code",
   "execution_count": 19,
   "id": "4ed22746",
   "metadata": {},
   "outputs": [
    {
     "data": {
      "text/html": [
       "<div>\n",
       "<style scoped>\n",
       "    .dataframe tbody tr th:only-of-type {\n",
       "        vertical-align: middle;\n",
       "    }\n",
       "\n",
       "    .dataframe tbody tr th {\n",
       "        vertical-align: top;\n",
       "    }\n",
       "\n",
       "    .dataframe thead th {\n",
       "        text-align: right;\n",
       "    }\n",
       "</style>\n",
       "<table border=\"1\" class=\"dataframe\">\n",
       "  <thead>\n",
       "    <tr style=\"text-align: right;\">\n",
       "      <th></th>\n",
       "      <th>key</th>\n",
       "      <th>Wire 1</th>\n",
       "      <th>Wire 2</th>\n",
       "      <th>Wire 3</th>\n",
       "      <th>Wire 4</th>\n",
       "      <th>Wire 5</th>\n",
       "      <th>Wire 6</th>\n",
       "      <th>Wire 7</th>\n",
       "      <th>Wire 8</th>\n",
       "      <th>Wire 9</th>\n",
       "    </tr>\n",
       "  </thead>\n",
       "  <tbody>\n",
       "    <tr>\n",
       "      <th>0</th>\n",
       "      <td>1</td>\n",
       "      <td>60.059998</td>\n",
       "      <td>NaN</td>\n",
       "      <td>NaN</td>\n",
       "      <td>NaN</td>\n",
       "      <td>NaN</td>\n",
       "      <td>NaN</td>\n",
       "      <td>NaN</td>\n",
       "      <td>NaN</td>\n",
       "      <td>NaN</td>\n",
       "    </tr>\n",
       "    <tr>\n",
       "      <th>1</th>\n",
       "      <td>2</td>\n",
       "      <td>96.052315</td>\n",
       "      <td>NaN</td>\n",
       "      <td>NaN</td>\n",
       "      <td>NaN</td>\n",
       "      <td>NaN</td>\n",
       "      <td>NaN</td>\n",
       "      <td>NaN</td>\n",
       "      <td>NaN</td>\n",
       "      <td>NaN</td>\n",
       "    </tr>\n",
       "    <tr>\n",
       "      <th>2</th>\n",
       "      <td>3</td>\n",
       "      <td>91.160157</td>\n",
       "      <td>NaN</td>\n",
       "      <td>NaN</td>\n",
       "      <td>NaN</td>\n",
       "      <td>NaN</td>\n",
       "      <td>NaN</td>\n",
       "      <td>NaN</td>\n",
       "      <td>NaN</td>\n",
       "      <td>NaN</td>\n",
       "    </tr>\n",
       "    <tr>\n",
       "      <th>3</th>\n",
       "      <td>4</td>\n",
       "      <td>89.063515</td>\n",
       "      <td>NaN</td>\n",
       "      <td>NaN</td>\n",
       "      <td>NaN</td>\n",
       "      <td>NaN</td>\n",
       "      <td>NaN</td>\n",
       "      <td>NaN</td>\n",
       "      <td>NaN</td>\n",
       "      <td>NaN</td>\n",
       "    </tr>\n",
       "    <tr>\n",
       "      <th>4</th>\n",
       "      <td>5</td>\n",
       "      <td>89.238236</td>\n",
       "      <td>9.11456</td>\n",
       "      <td>NaN</td>\n",
       "      <td>NaN</td>\n",
       "      <td>NaN</td>\n",
       "      <td>NaN</td>\n",
       "      <td>NaN</td>\n",
       "      <td>NaN</td>\n",
       "      <td>NaN</td>\n",
       "    </tr>\n",
       "  </tbody>\n",
       "</table>\n",
       "</div>"
      ],
      "text/plain": [
       "   key     Wire 1   Wire 2  Wire 3  Wire 4  Wire 5  Wire 6  Wire 7  Wire 8  \\\n",
       "0    1  60.059998      NaN     NaN     NaN     NaN     NaN     NaN     NaN   \n",
       "1    2  96.052315      NaN     NaN     NaN     NaN     NaN     NaN     NaN   \n",
       "2    3  91.160157      NaN     NaN     NaN     NaN     NaN     NaN     NaN   \n",
       "3    4  89.063515      NaN     NaN     NaN     NaN     NaN     NaN     NaN   \n",
       "4    5  89.238236  9.11456     NaN     NaN     NaN     NaN     NaN     NaN   \n",
       "\n",
       "   Wire 9  \n",
       "0     NaN  \n",
       "1     NaN  \n",
       "2     NaN  \n",
       "3     NaN  \n",
       "4     NaN  "
      ]
     },
     "execution_count": 19,
     "metadata": {},
     "output_type": "execute_result"
    }
   ],
   "source": [
    "data_wire.head()"
   ]
  },
  {
   "cell_type": "code",
   "execution_count": 20,
   "id": "7ca8908a",
   "metadata": {},
   "outputs": [
    {
     "data": {
      "text/html": [
       "<div>\n",
       "<style scoped>\n",
       "    .dataframe tbody tr th:only-of-type {\n",
       "        vertical-align: middle;\n",
       "    }\n",
       "\n",
       "    .dataframe tbody tr th {\n",
       "        vertical-align: top;\n",
       "    }\n",
       "\n",
       "    .dataframe thead th {\n",
       "        text-align: right;\n",
       "    }\n",
       "</style>\n",
       "<table border=\"1\" class=\"dataframe\">\n",
       "  <thead>\n",
       "    <tr style=\"text-align: right;\">\n",
       "      <th></th>\n",
       "      <th>key</th>\n",
       "      <th>Wire 1</th>\n",
       "      <th>Wire 2</th>\n",
       "      <th>Wire 3</th>\n",
       "      <th>Wire 4</th>\n",
       "      <th>Wire 5</th>\n",
       "      <th>Wire 6</th>\n",
       "      <th>Wire 7</th>\n",
       "      <th>Wire 8</th>\n",
       "      <th>Wire 9</th>\n",
       "    </tr>\n",
       "  </thead>\n",
       "  <tbody>\n",
       "    <tr>\n",
       "      <th>0</th>\n",
       "      <td>1</td>\n",
       "      <td>2019-05-03 11:06:19</td>\n",
       "      <td>NaN</td>\n",
       "      <td>NaN</td>\n",
       "      <td>NaN</td>\n",
       "      <td>NaN</td>\n",
       "      <td>NaN</td>\n",
       "      <td>NaN</td>\n",
       "      <td>NaN</td>\n",
       "      <td>NaN</td>\n",
       "    </tr>\n",
       "    <tr>\n",
       "      <th>1</th>\n",
       "      <td>2</td>\n",
       "      <td>2019-05-03 11:36:50</td>\n",
       "      <td>NaN</td>\n",
       "      <td>NaN</td>\n",
       "      <td>NaN</td>\n",
       "      <td>NaN</td>\n",
       "      <td>NaN</td>\n",
       "      <td>NaN</td>\n",
       "      <td>NaN</td>\n",
       "      <td>NaN</td>\n",
       "    </tr>\n",
       "    <tr>\n",
       "      <th>2</th>\n",
       "      <td>3</td>\n",
       "      <td>2019-05-03 12:11:46</td>\n",
       "      <td>NaN</td>\n",
       "      <td>NaN</td>\n",
       "      <td>NaN</td>\n",
       "      <td>NaN</td>\n",
       "      <td>NaN</td>\n",
       "      <td>NaN</td>\n",
       "      <td>NaN</td>\n",
       "      <td>NaN</td>\n",
       "    </tr>\n",
       "    <tr>\n",
       "      <th>3</th>\n",
       "      <td>4</td>\n",
       "      <td>2019-05-03 12:43:22</td>\n",
       "      <td>NaN</td>\n",
       "      <td>NaN</td>\n",
       "      <td>NaN</td>\n",
       "      <td>NaN</td>\n",
       "      <td>NaN</td>\n",
       "      <td>NaN</td>\n",
       "      <td>NaN</td>\n",
       "      <td>NaN</td>\n",
       "    </tr>\n",
       "    <tr>\n",
       "      <th>4</th>\n",
       "      <td>5</td>\n",
       "      <td>2019-05-03 13:20:44</td>\n",
       "      <td>2019-05-03 13:15:34</td>\n",
       "      <td>NaN</td>\n",
       "      <td>NaN</td>\n",
       "      <td>NaN</td>\n",
       "      <td>NaN</td>\n",
       "      <td>NaN</td>\n",
       "      <td>NaN</td>\n",
       "      <td>NaN</td>\n",
       "    </tr>\n",
       "  </tbody>\n",
       "</table>\n",
       "</div>"
      ],
      "text/plain": [
       "   key               Wire 1               Wire 2 Wire 3 Wire 4 Wire 5 Wire 6  \\\n",
       "0    1  2019-05-03 11:06:19                  NaN    NaN    NaN    NaN    NaN   \n",
       "1    2  2019-05-03 11:36:50                  NaN    NaN    NaN    NaN    NaN   \n",
       "2    3  2019-05-03 12:11:46                  NaN    NaN    NaN    NaN    NaN   \n",
       "3    4  2019-05-03 12:43:22                  NaN    NaN    NaN    NaN    NaN   \n",
       "4    5  2019-05-03 13:20:44  2019-05-03 13:15:34    NaN    NaN    NaN    NaN   \n",
       "\n",
       "  Wire 7 Wire 8 Wire 9  \n",
       "0    NaN    NaN    NaN  \n",
       "1    NaN    NaN    NaN  \n",
       "2    NaN    NaN    NaN  \n",
       "3    NaN    NaN    NaN  \n",
       "4    NaN    NaN    NaN  "
      ]
     },
     "execution_count": 20,
     "metadata": {},
     "output_type": "execute_result"
    }
   ],
   "source": [
    "data_wire_time.head()"
   ]
  },
  {
   "cell_type": "code",
   "execution_count": 21,
   "id": "2683d146",
   "metadata": {},
   "outputs": [
    {
     "name": "stdout",
     "output_type": "stream",
     "text": [
      "<class 'pandas.core.frame.DataFrame'>\n",
      "RangeIndex: 3081 entries, 0 to 3080\n",
      "Data columns (total 10 columns):\n",
      " #   Column  Non-Null Count  Dtype  \n",
      "---  ------  --------------  -----  \n",
      " 0   key     3081 non-null   int64  \n",
      " 1   Wire 1  3055 non-null   float64\n",
      " 2   Wire 2  1079 non-null   float64\n",
      " 3   Wire 3  63 non-null     float64\n",
      " 4   Wire 4  14 non-null     float64\n",
      " 5   Wire 5  1 non-null      float64\n",
      " 6   Wire 6  73 non-null     float64\n",
      " 7   Wire 7  11 non-null     float64\n",
      " 8   Wire 8  19 non-null     float64\n",
      " 9   Wire 9  29 non-null     float64\n",
      "dtypes: float64(9), int64(1)\n",
      "memory usage: 240.8 KB\n"
     ]
    }
   ],
   "source": [
    "data_wire.info()"
   ]
  },
  {
   "cell_type": "code",
   "execution_count": 22,
   "id": "1ca18ecf",
   "metadata": {},
   "outputs": [
    {
     "name": "stdout",
     "output_type": "stream",
     "text": [
      "<class 'pandas.core.frame.DataFrame'>\n",
      "RangeIndex: 3081 entries, 0 to 3080\n",
      "Data columns (total 10 columns):\n",
      " #   Column  Non-Null Count  Dtype \n",
      "---  ------  --------------  ----- \n",
      " 0   key     3081 non-null   int64 \n",
      " 1   Wire 1  3055 non-null   object\n",
      " 2   Wire 2  1079 non-null   object\n",
      " 3   Wire 3  63 non-null     object\n",
      " 4   Wire 4  14 non-null     object\n",
      " 5   Wire 5  1 non-null      object\n",
      " 6   Wire 6  73 non-null     object\n",
      " 7   Wire 7  11 non-null     object\n",
      " 8   Wire 8  19 non-null     object\n",
      " 9   Wire 9  29 non-null     object\n",
      "dtypes: int64(1), object(9)\n",
      "memory usage: 240.8+ KB\n"
     ]
    }
   ],
   "source": [
    "data_wire_time.info()"
   ]
  },
  {
   "cell_type": "code",
   "execution_count": 23,
   "id": "e9f68a4c",
   "metadata": {},
   "outputs": [
    {
     "data": {
      "text/plain": [
       "Text(0.5, 0, 'Тип проволочного материала')"
      ]
     },
     "execution_count": 23,
     "metadata": {},
     "output_type": "execute_result"
    },
    {
     "data": {
      "image/png": "[encoded data removed]",
      "text/plain": [
       "<Figure size 432x288 with 1 Axes>"
      ]
     },
     "metadata": {
      "needs_background": "light"
     },
     "output_type": "display_data"
    }
   ],
   "source": [
    "plt.figure()\n",
    "ax = data_wire.notna().drop('key', axis=1).mean().sort_values(ascending=False).plot(kind='bar')\n",
    "ax.set_title('использование прволочных материалов')\n",
    "ax.set_ylabel('Доля использования в партиях')\n",
    "ax.set_xlabel('Тип проволочного материала')"
   ]
  },
  {
   "cell_type": "code",
   "execution_count": 24,
   "id": "c4e06344",
   "metadata": {},
   "outputs": [
    {
     "data": {
      "text/plain": [
       "key       True\n",
       "Wire 1    True\n",
       "Wire 2    True\n",
       "Wire 3    True\n",
       "Wire 4    True\n",
       "Wire 5    True\n",
       "Wire 6    True\n",
       "Wire 7    True\n",
       "Wire 8    True\n",
       "Wire 9    True\n",
       "dtype: bool"
      ]
     },
     "execution_count": 24,
     "metadata": {},
     "output_type": "execute_result"
    }
   ],
   "source": [
    "data_wire.notna().mean() == data_wire_time.notna().mean()"
   ]
  },
  {
   "cell_type": "markdown",
   "id": "185f8036",
   "metadata": {},
   "source": [
    "<b>Вывод:</b>\n",
    "- Структура таблиц одинаковая(нет несоответсвий пропущенных значений между первой и второй таблицей) . \n",
    "- Признаки wire 6,3,9,8,4,7,5 используются в менее 3% партий, данные признаки можно исключить из данных.Данные признаки окажут отрицательное влияние на предсказание модели\n",
    "- Необходимо изменить тип данных на datetime"
   ]
  },
  {
   "cell_type": "markdown",
   "id": "7fa3f1ea",
   "metadata": {},
   "source": [
    "## 1.4 Данные о продувке сплава газом"
   ]
  },
  {
   "cell_type": "code",
   "execution_count": 25,
   "id": "2c305715",
   "metadata": {},
   "outputs": [
    {
     "data": {
      "text/html": [
       "<div>\n",
       "<style scoped>\n",
       "    .dataframe tbody tr th:only-of-type {\n",
       "        vertical-align: middle;\n",
       "    }\n",
       "\n",
       "    .dataframe tbody tr th {\n",
       "        vertical-align: top;\n",
       "    }\n",
       "\n",
       "    .dataframe thead th {\n",
       "        text-align: right;\n",
       "    }\n",
       "</style>\n",
       "<table border=\"1\" class=\"dataframe\">\n",
       "  <thead>\n",
       "    <tr style=\"text-align: right;\">\n",
       "      <th></th>\n",
       "      <th>key</th>\n",
       "      <th>Газ 1</th>\n",
       "    </tr>\n",
       "  </thead>\n",
       "  <tbody>\n",
       "    <tr>\n",
       "      <th>0</th>\n",
       "      <td>1</td>\n",
       "      <td>29.749986</td>\n",
       "    </tr>\n",
       "    <tr>\n",
       "      <th>1</th>\n",
       "      <td>2</td>\n",
       "      <td>12.555561</td>\n",
       "    </tr>\n",
       "    <tr>\n",
       "      <th>2</th>\n",
       "      <td>3</td>\n",
       "      <td>28.554793</td>\n",
       "    </tr>\n",
       "    <tr>\n",
       "      <th>3</th>\n",
       "      <td>4</td>\n",
       "      <td>18.841219</td>\n",
       "    </tr>\n",
       "    <tr>\n",
       "      <th>4</th>\n",
       "      <td>5</td>\n",
       "      <td>5.413692</td>\n",
       "    </tr>\n",
       "  </tbody>\n",
       "</table>\n",
       "</div>"
      ],
      "text/plain": [
       "   key      Газ 1\n",
       "0    1  29.749986\n",
       "1    2  12.555561\n",
       "2    3  28.554793\n",
       "3    4  18.841219\n",
       "4    5   5.413692"
      ]
     },
     "execution_count": 25,
     "metadata": {},
     "output_type": "execute_result"
    }
   ],
   "source": [
    "data_gas.head()"
   ]
  },
  {
   "cell_type": "code",
   "execution_count": 26,
   "id": "59107865",
   "metadata": {},
   "outputs": [
    {
     "name": "stdout",
     "output_type": "stream",
     "text": [
      "<class 'pandas.core.frame.DataFrame'>\n",
      "RangeIndex: 3239 entries, 0 to 3238\n",
      "Data columns (total 2 columns):\n",
      " #   Column  Non-Null Count  Dtype  \n",
      "---  ------  --------------  -----  \n",
      " 0   key     3239 non-null   int64  \n",
      " 1   Газ 1   3239 non-null   float64\n",
      "dtypes: float64(1), int64(1)\n",
      "memory usage: 50.7 KB\n"
     ]
    }
   ],
   "source": [
    "data_gas.info()"
   ]
  },
  {
   "cell_type": "code",
   "execution_count": 27,
   "id": "303354fd",
   "metadata": {},
   "outputs": [
    {
     "data": {
      "text/plain": [
       "Text(0.5, 0, 'Значение показателя Газ')"
      ]
     },
     "execution_count": 27,
     "metadata": {},
     "output_type": "execute_result"
    },
    {
     "data": {
      "image/png": "[encoded data removed]",
      "text/plain": [
       "<Figure size 360x216 with 1 Axes>"
      ]
     },
     "metadata": {
      "needs_background": "light"
     },
     "output_type": "display_data"
    }
   ],
   "source": [
    "plt.figure()\n",
    "ax = data_gas['Газ 1'].hist(bins=100, figsize=(5,3))\n",
    "ax.set_title('Распределение использования газа')\n",
    "ax.set_ylabel('Количество')\n",
    "ax.set_xlabel('Значение показателя Газ')"
   ]
  },
  {
   "cell_type": "code",
   "execution_count": 28,
   "id": "56bdc69a",
   "metadata": {},
   "outputs": [
    {
     "data": {
      "text/html": [
       "<div>\n",
       "<style scoped>\n",
       "    .dataframe tbody tr th:only-of-type {\n",
       "        vertical-align: middle;\n",
       "    }\n",
       "\n",
       "    .dataframe tbody tr th {\n",
       "        vertical-align: top;\n",
       "    }\n",
       "\n",
       "    .dataframe thead th {\n",
       "        text-align: right;\n",
       "    }\n",
       "</style>\n",
       "<table border=\"1\" class=\"dataframe\">\n",
       "  <thead>\n",
       "    <tr style=\"text-align: right;\">\n",
       "      <th></th>\n",
       "      <th>key</th>\n",
       "      <th>Газ 1</th>\n",
       "    </tr>\n",
       "  </thead>\n",
       "  <tbody>\n",
       "    <tr>\n",
       "      <th>116</th>\n",
       "      <td>117</td>\n",
       "      <td>50.581035</td>\n",
       "    </tr>\n",
       "    <tr>\n",
       "      <th>277</th>\n",
       "      <td>280</td>\n",
       "      <td>60.935689</td>\n",
       "    </tr>\n",
       "    <tr>\n",
       "      <th>319</th>\n",
       "      <td>322</td>\n",
       "      <td>77.995040</td>\n",
       "    </tr>\n",
       "    <tr>\n",
       "      <th>660</th>\n",
       "      <td>663</td>\n",
       "      <td>41.854643</td>\n",
       "    </tr>\n",
       "    <tr>\n",
       "      <th>1461</th>\n",
       "      <td>1464</td>\n",
       "      <td>43.655411</td>\n",
       "    </tr>\n",
       "    <tr>\n",
       "      <th>2105</th>\n",
       "      <td>2108</td>\n",
       "      <td>45.638999</td>\n",
       "    </tr>\n",
       "    <tr>\n",
       "      <th>2107</th>\n",
       "      <td>2110</td>\n",
       "      <td>52.142373</td>\n",
       "    </tr>\n",
       "    <tr>\n",
       "      <th>2567</th>\n",
       "      <td>2570</td>\n",
       "      <td>51.380229</td>\n",
       "    </tr>\n",
       "  </tbody>\n",
       "</table>\n",
       "</div>"
      ],
      "text/plain": [
       "       key      Газ 1\n",
       "116    117  50.581035\n",
       "277    280  60.935689\n",
       "319    322  77.995040\n",
       "660    663  41.854643\n",
       "1461  1464  43.655411\n",
       "2105  2108  45.638999\n",
       "2107  2110  52.142373\n",
       "2567  2570  51.380229"
      ]
     },
     "execution_count": 28,
     "metadata": {},
     "output_type": "execute_result"
    }
   ],
   "source": [
    "data_gas[data_gas['Газ 1'] > 40]"
   ]
  },
  {
   "cell_type": "markdown",
   "id": "76a6d6c4",
   "metadata": {},
   "source": [
    "<b>Вывод:</b>\n",
    "- В выбросах данных нет. Значения выше 40 единичные, данные значение удалять нельзя т.к это выжные данные для определенных партий"
   ]
  },
  {
   "cell_type": "markdown",
   "id": "2f8c880e",
   "metadata": {},
   "source": [
    "## 1.3 Результаты измерения температуры"
   ]
  },
  {
   "cell_type": "code",
   "execution_count": 29,
   "id": "88f7bace",
   "metadata": {},
   "outputs": [
    {
     "name": "stdout",
     "output_type": "stream",
     "text": [
      "<class 'pandas.core.frame.DataFrame'>\n",
      "RangeIndex: 18092 entries, 0 to 18091\n",
      "Data columns (total 3 columns):\n",
      " #   Column        Non-Null Count  Dtype  \n",
      "---  ------        --------------  -----  \n",
      " 0   key           18092 non-null  int64  \n",
      " 1   Время замера  18092 non-null  object \n",
      " 2   Температура   14665 non-null  float64\n",
      "dtypes: float64(1), int64(1), object(1)\n",
      "memory usage: 424.2+ KB\n"
     ]
    }
   ],
   "source": [
    "data_temp.info()"
   ]
  },
  {
   "cell_type": "code",
   "execution_count": 30,
   "id": "62e949d5",
   "metadata": {},
   "outputs": [
    {
     "data": {
      "text/html": [
       "<div>\n",
       "<style scoped>\n",
       "    .dataframe tbody tr th:only-of-type {\n",
       "        vertical-align: middle;\n",
       "    }\n",
       "\n",
       "    .dataframe tbody tr th {\n",
       "        vertical-align: top;\n",
       "    }\n",
       "\n",
       "    .dataframe thead th {\n",
       "        text-align: right;\n",
       "    }\n",
       "</style>\n",
       "<table border=\"1\" class=\"dataframe\">\n",
       "  <thead>\n",
       "    <tr style=\"text-align: right;\">\n",
       "      <th></th>\n",
       "      <th>key</th>\n",
       "      <th>Время замера</th>\n",
       "      <th>Температура</th>\n",
       "    </tr>\n",
       "  </thead>\n",
       "  <tbody>\n",
       "    <tr>\n",
       "      <th>0</th>\n",
       "      <td>1</td>\n",
       "      <td>2019-05-03 11:02:04</td>\n",
       "      <td>1571.0</td>\n",
       "    </tr>\n",
       "    <tr>\n",
       "      <th>1</th>\n",
       "      <td>1</td>\n",
       "      <td>2019-05-03 11:07:18</td>\n",
       "      <td>1604.0</td>\n",
       "    </tr>\n",
       "    <tr>\n",
       "      <th>2</th>\n",
       "      <td>1</td>\n",
       "      <td>2019-05-03 11:11:34</td>\n",
       "      <td>1618.0</td>\n",
       "    </tr>\n",
       "    <tr>\n",
       "      <th>3</th>\n",
       "      <td>1</td>\n",
       "      <td>2019-05-03 11:18:04</td>\n",
       "      <td>1601.0</td>\n",
       "    </tr>\n",
       "    <tr>\n",
       "      <th>4</th>\n",
       "      <td>1</td>\n",
       "      <td>2019-05-03 11:25:59</td>\n",
       "      <td>1606.0</td>\n",
       "    </tr>\n",
       "  </tbody>\n",
       "</table>\n",
       "</div>"
      ],
      "text/plain": [
       "   key         Время замера  Температура\n",
       "0    1  2019-05-03 11:02:04       1571.0\n",
       "1    1  2019-05-03 11:07:18       1604.0\n",
       "2    1  2019-05-03 11:11:34       1618.0\n",
       "3    1  2019-05-03 11:18:04       1601.0\n",
       "4    1  2019-05-03 11:25:59       1606.0"
      ]
     },
     "execution_count": 30,
     "metadata": {},
     "output_type": "execute_result"
    }
   ],
   "source": [
    "data_temp.head()"
   ]
  },
  {
   "cell_type": "code",
   "execution_count": 31,
   "id": "871583bd",
   "metadata": {},
   "outputs": [
    {
     "data": {
      "text/plain": [
       "Text(0.5, 0, 'Значение температуры')"
      ]
     },
     "execution_count": 31,
     "metadata": {},
     "output_type": "execute_result"
    },
    {
     "data": {
      "image/png": "[encoded data removed]",
      "text/plain": [
       "<Figure size 360x216 with 1 Axes>"
      ]
     },
     "metadata": {
      "needs_background": "light"
     },
     "output_type": "display_data"
    }
   ],
   "source": [
    "plt.figure()\n",
    "ax = data_temp['Температура'].hist(figsize=(5,3))\n",
    "ax.set_title('Распределение замеров температуры')\n",
    "ax.set_ylabel('Количество')\n",
    "ax.set_xlabel('Значение температуры')"
   ]
  },
  {
   "cell_type": "code",
   "execution_count": 32,
   "id": "0b733942",
   "metadata": {},
   "outputs": [
    {
     "data": {
      "text/html": [
       "<div>\n",
       "<style scoped>\n",
       "    .dataframe tbody tr th:only-of-type {\n",
       "        vertical-align: middle;\n",
       "    }\n",
       "\n",
       "    .dataframe tbody tr th {\n",
       "        vertical-align: top;\n",
       "    }\n",
       "\n",
       "    .dataframe thead th {\n",
       "        text-align: right;\n",
       "    }\n",
       "</style>\n",
       "<table border=\"1\" class=\"dataframe\">\n",
       "  <thead>\n",
       "    <tr style=\"text-align: right;\">\n",
       "      <th></th>\n",
       "      <th></th>\n",
       "      <th>Температура</th>\n",
       "    </tr>\n",
       "    <tr>\n",
       "      <th>key</th>\n",
       "      <th>Время замера</th>\n",
       "      <th></th>\n",
       "    </tr>\n",
       "  </thead>\n",
       "  <tbody>\n",
       "    <tr>\n",
       "      <th rowspan=\"6\" valign=\"top\">1</th>\n",
       "      <th>2019-05-03 11:02:04</th>\n",
       "      <td>1571.0</td>\n",
       "    </tr>\n",
       "    <tr>\n",
       "      <th>2019-05-03 11:07:18</th>\n",
       "      <td>1604.0</td>\n",
       "    </tr>\n",
       "    <tr>\n",
       "      <th>2019-05-03 11:11:34</th>\n",
       "      <td>1618.0</td>\n",
       "    </tr>\n",
       "    <tr>\n",
       "      <th>2019-05-03 11:18:04</th>\n",
       "      <td>1601.0</td>\n",
       "    </tr>\n",
       "    <tr>\n",
       "      <th>2019-05-03 11:25:59</th>\n",
       "      <td>1606.0</td>\n",
       "    </tr>\n",
       "    <tr>\n",
       "      <th>2019-05-03 11:30:38</th>\n",
       "      <td>1613.0</td>\n",
       "    </tr>\n",
       "    <tr>\n",
       "      <th rowspan=\"5\" valign=\"top\">2</th>\n",
       "      <th>2019-05-03 11:34:04</th>\n",
       "      <td>1581.0</td>\n",
       "    </tr>\n",
       "    <tr>\n",
       "      <th>2019-05-03 11:38:40</th>\n",
       "      <td>1577.0</td>\n",
       "    </tr>\n",
       "    <tr>\n",
       "      <th>2019-05-03 11:46:09</th>\n",
       "      <td>1589.0</td>\n",
       "    </tr>\n",
       "    <tr>\n",
       "      <th>2019-05-03 11:49:38</th>\n",
       "      <td>1604.0</td>\n",
       "    </tr>\n",
       "    <tr>\n",
       "      <th>2019-05-03 11:55:09</th>\n",
       "      <td>1602.0</td>\n",
       "    </tr>\n",
       "    <tr>\n",
       "      <th rowspan=\"6\" valign=\"top\">3</th>\n",
       "      <th>2019-05-03 12:06:44</th>\n",
       "      <td>1596.0</td>\n",
       "    </tr>\n",
       "    <tr>\n",
       "      <th>2019-05-03 12:13:42</th>\n",
       "      <td>1597.0</td>\n",
       "    </tr>\n",
       "    <tr>\n",
       "      <th>2019-05-03 12:18:46</th>\n",
       "      <td>1598.0</td>\n",
       "    </tr>\n",
       "    <tr>\n",
       "      <th>2019-05-03 12:25:33</th>\n",
       "      <td>1599.0</td>\n",
       "    </tr>\n",
       "    <tr>\n",
       "      <th>2019-05-03 12:31:04</th>\n",
       "      <td>1600.0</td>\n",
       "    </tr>\n",
       "    <tr>\n",
       "      <th>2019-05-03 12:35:57</th>\n",
       "      <td>1599.0</td>\n",
       "    </tr>\n",
       "    <tr>\n",
       "      <th rowspan=\"3\" valign=\"top\">4</th>\n",
       "      <th>2019-05-03 12:39:27</th>\n",
       "      <td>1601.0</td>\n",
       "    </tr>\n",
       "    <tr>\n",
       "      <th>2019-05-03 12:44:37</th>\n",
       "      <td>1623.0</td>\n",
       "    </tr>\n",
       "    <tr>\n",
       "      <th>2019-05-03 12:48:04</th>\n",
       "      <td>1618.0</td>\n",
       "    </tr>\n",
       "  </tbody>\n",
       "</table>\n",
       "</div>"
      ],
      "text/plain": [
       "                         Температура\n",
       "key Время замера                    \n",
       "1   2019-05-03 11:02:04       1571.0\n",
       "    2019-05-03 11:07:18       1604.0\n",
       "    2019-05-03 11:11:34       1618.0\n",
       "    2019-05-03 11:18:04       1601.0\n",
       "    2019-05-03 11:25:59       1606.0\n",
       "    2019-05-03 11:30:38       1613.0\n",
       "2   2019-05-03 11:34:04       1581.0\n",
       "    2019-05-03 11:38:40       1577.0\n",
       "    2019-05-03 11:46:09       1589.0\n",
       "    2019-05-03 11:49:38       1604.0\n",
       "    2019-05-03 11:55:09       1602.0\n",
       "3   2019-05-03 12:06:44       1596.0\n",
       "    2019-05-03 12:13:42       1597.0\n",
       "    2019-05-03 12:18:46       1598.0\n",
       "    2019-05-03 12:25:33       1599.0\n",
       "    2019-05-03 12:31:04       1600.0\n",
       "    2019-05-03 12:35:57       1599.0\n",
       "4   2019-05-03 12:39:27       1601.0\n",
       "    2019-05-03 12:44:37       1623.0\n",
       "    2019-05-03 12:48:04       1618.0"
      ]
     },
     "execution_count": 32,
     "metadata": {},
     "output_type": "execute_result"
    }
   ],
   "source": [
    "pd.pivot_table(data_temp, index=['key', 'Время замера']).head(20)"
   ]
  },
  {
   "cell_type": "code",
   "execution_count": 33,
   "id": "f6d3a21a",
   "metadata": {},
   "outputs": [
    {
     "data": {
      "text/html": [
       "<div>\n",
       "<style scoped>\n",
       "    .dataframe tbody tr th:only-of-type {\n",
       "        vertical-align: middle;\n",
       "    }\n",
       "\n",
       "    .dataframe tbody tr th {\n",
       "        vertical-align: top;\n",
       "    }\n",
       "\n",
       "    .dataframe thead th {\n",
       "        text-align: right;\n",
       "    }\n",
       "</style>\n",
       "<table border=\"1\" class=\"dataframe\">\n",
       "  <thead>\n",
       "    <tr style=\"text-align: right;\">\n",
       "      <th></th>\n",
       "      <th>key</th>\n",
       "      <th>Время замера</th>\n",
       "      <th>Температура</th>\n",
       "    </tr>\n",
       "  </thead>\n",
       "  <tbody>\n",
       "    <tr>\n",
       "      <th>4883</th>\n",
       "      <td>867</td>\n",
       "      <td>2019-06-06 08:03:39</td>\n",
       "      <td>1191.0</td>\n",
       "    </tr>\n",
       "    <tr>\n",
       "      <th>6784</th>\n",
       "      <td>1214</td>\n",
       "      <td>2019-06-18 08:01:03</td>\n",
       "      <td>1208.0</td>\n",
       "    </tr>\n",
       "    <tr>\n",
       "      <th>9050</th>\n",
       "      <td>1619</td>\n",
       "      <td>2019-07-03 02:34:41</td>\n",
       "      <td>1218.0</td>\n",
       "    </tr>\n",
       "    <tr>\n",
       "      <th>11495</th>\n",
       "      <td>2052</td>\n",
       "      <td>2019-07-25 08:49:15</td>\n",
       "      <td>1227.0</td>\n",
       "    </tr>\n",
       "    <tr>\n",
       "      <th>14283</th>\n",
       "      <td>2561</td>\n",
       "      <td>2019-08-12 18:49:29</td>\n",
       "      <td>1204.0</td>\n",
       "    </tr>\n",
       "  </tbody>\n",
       "</table>\n",
       "</div>"
      ],
      "text/plain": [
       "        key         Время замера  Температура\n",
       "4883    867  2019-06-06 08:03:39       1191.0\n",
       "6784   1214  2019-06-18 08:01:03       1208.0\n",
       "9050   1619  2019-07-03 02:34:41       1218.0\n",
       "11495  2052  2019-07-25 08:49:15       1227.0\n",
       "14283  2561  2019-08-12 18:49:29       1204.0"
      ]
     },
     "execution_count": 33,
     "metadata": {},
     "output_type": "execute_result"
    }
   ],
   "source": [
    "data_temp[data_temp['Температура'] < 1500]"
   ]
  },
  {
   "cell_type": "markdown",
   "id": "dda3b8e9",
   "metadata": {},
   "source": [
    "<b>Вывод:</b>\n",
    "- В столбце температура присутствуют нулевые значения.\n",
    "- В данной таблице выбросы отсутстуют"
   ]
  },
  {
   "cell_type": "markdown",
   "id": "a4fed882",
   "metadata": {},
   "source": [
    "<b>Выводы:</b>\n",
    "- В данных присутствуют аномальные и нулевые значения. \n",
    "- Необходимо изменить тип данных временных столбцов\n",
    "- Много признаков, которые присутствуют в менее 8% партий, от них можно избавиться\n",
    "- Необходимо отсеять партии в которых отсутствует начальная и конечная температура\n",
    "- Необходимо оставить только те партии, в которых есть данные по электродам, проволочным и сыпучим материалам"
   ]
  },
  {
   "cell_type": "code",
   "execution_count": null,
   "id": "b79ce1e6",
   "metadata": {},
   "outputs": [],
   "source": []
  },
  {
   "cell_type": "markdown",
   "id": "803200b4",
   "metadata": {},
   "source": [
    "### План Работы\n",
    "#### Предобработка данных\n",
    "Заполнение пропусков, замена аномальных значений\n",
    "#### Подготовка признаков\n",
    "Удаление ненужных признаков, создание новых признаков:\n",
    " - суммарная активная мощность\n",
    " - сыпучие материалы, которые присутствуют в более 8% материала\n",
    " - проволочные материалы, которые присутствуют в более 8% материала\n",
    " - начальная температура после первого нагрева\n",
    " - конечная температура после последней итерации\n",
    " - количество итераций\n",
    " - время между началом нагрева дуги первой итерации и временем замера температура последней итерацией\n",
    "#### Обучение моделей \n",
    " - Проверка константой моделью (медианой)\n",
    " - Линейная регрессия ( необходимо удалить признак реактивной мощности, т.к существует высокая корреляция между активной и реактивной мощностью)\n",
    " - RandomForestRegressor (подбор гипперпараметров)\n",
    " - Сatboost regressor\n",
    " - Определение MAE на кросс-валидации\n",
    "#### Проверка на тестовой выборке \n",
    " - Достижение средней абсолютной ошибки (MAE) < 6"
   ]
  },
  {
   "cell_type": "markdown",
   "id": "4c8a0093",
   "metadata": {},
   "source": [
    "# 2. Предобработка данных"
   ]
  },
  {
   "cell_type": "markdown",
   "id": "5dc54c1c",
   "metadata": {},
   "source": [
    "## 2.1 Переименование столбцов"
   ]
  },
  {
   "cell_type": "code",
   "execution_count": 34,
   "id": "c28ed1b8",
   "metadata": {},
   "outputs": [],
   "source": [
    "data_arc.columns = ['key', 'begin_heat', 'end_heat', 'active_power', 'reactive_power']\n",
    "data_gas.columns = ['key', 'gas']\n",
    "data_temp.columns = ['key', 'time_measure', 'temperature']\n",
    "data_bulk.columns = list(map(lambda x: x.replace(' ', '_'), data_bulk.columns.str.lower()))\n",
    "data_bulk_time.columns = list(map(lambda x: x.replace(' ', '_'), data_bulk_time.columns.str.lower()))\n",
    "data_wire.columns = list(map(lambda x: x.replace(' ', '_'), data_wire.columns.str.lower()))\n",
    "data_wire_time.columns = list(map(lambda x: x.replace(' ', '_'), data_wire_time.columns.str.lower()))"
   ]
  },
  {
   "cell_type": "markdown",
   "id": "9f0b44df",
   "metadata": {},
   "source": [
    "## 2.2 Заполнение аномальных значений"
   ]
  },
  {
   "cell_type": "code",
   "execution_count": 35,
   "id": "02bbdb22",
   "metadata": {},
   "outputs": [],
   "source": [
    "model = LinearRegression().fit(np.array(data_arc['active_power'].drop(9780).reset_index(drop=True)).reshape(-1,1), \n",
    "                               data_arc['reactive_power'].drop(9780).reset_index(drop=True))\n",
    "\n",
    "data_arc.loc[9780, 'reactive_power'] = model.predict(np.array(0.705344).reshape(-1,1))"
   ]
  },
  {
   "cell_type": "markdown",
   "id": "3df980ad",
   "metadata": {},
   "source": [
    "## 2.3 Изменение типов данных"
   ]
  },
  {
   "cell_type": "code",
   "execution_count": 36,
   "id": "64ee89cc",
   "metadata": {},
   "outputs": [],
   "source": [
    "data_arc['begin_heat'] = pd.to_datetime(data_arc['begin_heat'])\n",
    "data_arc['end_heat'] = pd.to_datetime(data_arc['end_heat'])\n",
    "data_temp['time_measure'] = pd.to_datetime(data_temp['time_measure'])\n",
    "data_bulk_time[data_bulk_time.drop('key', axis=1).columns] = data_bulk_time[data_bulk_time.drop('key', axis=1).columns].apply(pd.to_datetime)\n",
    "data_wire_time[data_wire_time.drop('key', axis=1).columns] = data_wire_time[data_wire_time.drop('key', axis=1).columns].apply(pd.to_datetime)"
   ]
  },
  {
   "cell_type": "code",
   "execution_count": 37,
   "id": "31976a68",
   "metadata": {},
   "outputs": [
    {
     "name": "stdout",
     "output_type": "stream",
     "text": [
      "<class 'pandas.core.frame.DataFrame'>\n",
      "RangeIndex: 3081 entries, 0 to 3080\n",
      "Data columns (total 10 columns):\n",
      " #   Column  Non-Null Count  Dtype         \n",
      "---  ------  --------------  -----         \n",
      " 0   key     3081 non-null   int64         \n",
      " 1   wire_1  3055 non-null   datetime64[ns]\n",
      " 2   wire_2  1079 non-null   datetime64[ns]\n",
      " 3   wire_3  63 non-null     datetime64[ns]\n",
      " 4   wire_4  14 non-null     datetime64[ns]\n",
      " 5   wire_5  1 non-null      datetime64[ns]\n",
      " 6   wire_6  73 non-null     datetime64[ns]\n",
      " 7   wire_7  11 non-null     datetime64[ns]\n",
      " 8   wire_8  19 non-null     datetime64[ns]\n",
      " 9   wire_9  29 non-null     datetime64[ns]\n",
      "dtypes: datetime64[ns](9), int64(1)\n",
      "memory usage: 240.8 KB\n"
     ]
    }
   ],
   "source": [
    "data_wire_time.info()"
   ]
  },
  {
   "cell_type": "code",
   "execution_count": 38,
   "id": "474880f2",
   "metadata": {},
   "outputs": [
    {
     "data": {
      "text/html": [
       "<div>\n",
       "<style scoped>\n",
       "    .dataframe tbody tr th:only-of-type {\n",
       "        vertical-align: middle;\n",
       "    }\n",
       "\n",
       "    .dataframe tbody tr th {\n",
       "        vertical-align: top;\n",
       "    }\n",
       "\n",
       "    .dataframe thead th {\n",
       "        text-align: right;\n",
       "    }\n",
       "</style>\n",
       "<table border=\"1\" class=\"dataframe\">\n",
       "  <thead>\n",
       "    <tr style=\"text-align: right;\">\n",
       "      <th></th>\n",
       "      <th>key</th>\n",
       "      <th>bulk_1</th>\n",
       "      <th>bulk_2</th>\n",
       "      <th>bulk_3</th>\n",
       "      <th>bulk_4</th>\n",
       "      <th>bulk_5</th>\n",
       "      <th>bulk_6</th>\n",
       "      <th>bulk_7</th>\n",
       "      <th>bulk_8</th>\n",
       "      <th>bulk_9</th>\n",
       "      <th>bulk_10</th>\n",
       "      <th>bulk_11</th>\n",
       "      <th>bulk_12</th>\n",
       "      <th>bulk_13</th>\n",
       "      <th>bulk_14</th>\n",
       "      <th>bulk_15</th>\n",
       "    </tr>\n",
       "  </thead>\n",
       "  <tbody>\n",
       "    <tr>\n",
       "      <th>0</th>\n",
       "      <td>1</td>\n",
       "      <td>0.0</td>\n",
       "      <td>0.0</td>\n",
       "      <td>0.0</td>\n",
       "      <td>43.0</td>\n",
       "      <td>0.0</td>\n",
       "      <td>0.0</td>\n",
       "      <td>0.0</td>\n",
       "      <td>0.0</td>\n",
       "      <td>0.0</td>\n",
       "      <td>0.0</td>\n",
       "      <td>0.0</td>\n",
       "      <td>206.0</td>\n",
       "      <td>0.0</td>\n",
       "      <td>150.0</td>\n",
       "      <td>154.0</td>\n",
       "    </tr>\n",
       "    <tr>\n",
       "      <th>1</th>\n",
       "      <td>2</td>\n",
       "      <td>0.0</td>\n",
       "      <td>0.0</td>\n",
       "      <td>0.0</td>\n",
       "      <td>73.0</td>\n",
       "      <td>0.0</td>\n",
       "      <td>0.0</td>\n",
       "      <td>0.0</td>\n",
       "      <td>0.0</td>\n",
       "      <td>0.0</td>\n",
       "      <td>0.0</td>\n",
       "      <td>0.0</td>\n",
       "      <td>206.0</td>\n",
       "      <td>0.0</td>\n",
       "      <td>149.0</td>\n",
       "      <td>154.0</td>\n",
       "    </tr>\n",
       "    <tr>\n",
       "      <th>2</th>\n",
       "      <td>3</td>\n",
       "      <td>0.0</td>\n",
       "      <td>0.0</td>\n",
       "      <td>0.0</td>\n",
       "      <td>34.0</td>\n",
       "      <td>0.0</td>\n",
       "      <td>0.0</td>\n",
       "      <td>0.0</td>\n",
       "      <td>0.0</td>\n",
       "      <td>0.0</td>\n",
       "      <td>0.0</td>\n",
       "      <td>0.0</td>\n",
       "      <td>205.0</td>\n",
       "      <td>0.0</td>\n",
       "      <td>152.0</td>\n",
       "      <td>153.0</td>\n",
       "    </tr>\n",
       "    <tr>\n",
       "      <th>3</th>\n",
       "      <td>4</td>\n",
       "      <td>0.0</td>\n",
       "      <td>0.0</td>\n",
       "      <td>0.0</td>\n",
       "      <td>81.0</td>\n",
       "      <td>0.0</td>\n",
       "      <td>0.0</td>\n",
       "      <td>0.0</td>\n",
       "      <td>0.0</td>\n",
       "      <td>0.0</td>\n",
       "      <td>0.0</td>\n",
       "      <td>0.0</td>\n",
       "      <td>207.0</td>\n",
       "      <td>0.0</td>\n",
       "      <td>153.0</td>\n",
       "      <td>154.0</td>\n",
       "    </tr>\n",
       "    <tr>\n",
       "      <th>4</th>\n",
       "      <td>5</td>\n",
       "      <td>0.0</td>\n",
       "      <td>0.0</td>\n",
       "      <td>0.0</td>\n",
       "      <td>78.0</td>\n",
       "      <td>0.0</td>\n",
       "      <td>0.0</td>\n",
       "      <td>0.0</td>\n",
       "      <td>0.0</td>\n",
       "      <td>0.0</td>\n",
       "      <td>0.0</td>\n",
       "      <td>0.0</td>\n",
       "      <td>203.0</td>\n",
       "      <td>0.0</td>\n",
       "      <td>151.0</td>\n",
       "      <td>152.0</td>\n",
       "    </tr>\n",
       "  </tbody>\n",
       "</table>\n",
       "</div>"
      ],
      "text/plain": [
       "   key  bulk_1  bulk_2  bulk_3  bulk_4  bulk_5  bulk_6  bulk_7  bulk_8  \\\n",
       "0    1     0.0     0.0     0.0    43.0     0.0     0.0     0.0     0.0   \n",
       "1    2     0.0     0.0     0.0    73.0     0.0     0.0     0.0     0.0   \n",
       "2    3     0.0     0.0     0.0    34.0     0.0     0.0     0.0     0.0   \n",
       "3    4     0.0     0.0     0.0    81.0     0.0     0.0     0.0     0.0   \n",
       "4    5     0.0     0.0     0.0    78.0     0.0     0.0     0.0     0.0   \n",
       "\n",
       "   bulk_9  bulk_10  bulk_11  bulk_12  bulk_13  bulk_14  bulk_15  \n",
       "0     0.0      0.0      0.0    206.0      0.0    150.0    154.0  \n",
       "1     0.0      0.0      0.0    206.0      0.0    149.0    154.0  \n",
       "2     0.0      0.0      0.0    205.0      0.0    152.0    153.0  \n",
       "3     0.0      0.0      0.0    207.0      0.0    153.0    154.0  \n",
       "4     0.0      0.0      0.0    203.0      0.0    151.0    152.0  "
      ]
     },
     "execution_count": 38,
     "metadata": {},
     "output_type": "execute_result"
    }
   ],
   "source": [
    "# Заполнение пропусков\n",
    "data_bulk = data_bulk.fillna(0)\n",
    "data_wire = data_wire.fillna(0)\n",
    "data_bulk.head()"
   ]
  },
  {
   "cell_type": "markdown",
   "id": "61917e9d",
   "metadata": {},
   "source": [
    "Пропуски в данных, говорят об отсутствии данного материала, следовательно их можно заменить на 0"
   ]
  },
  {
   "cell_type": "markdown",
   "id": "192388c7",
   "metadata": {},
   "source": [
    "# 3 Подготовка признаков"
   ]
  },
  {
   "cell_type": "code",
   "execution_count": 39,
   "id": "dda2cf47",
   "metadata": {},
   "outputs": [
    {
     "data": {
      "text/html": [
       "<div>\n",
       "<style scoped>\n",
       "    .dataframe tbody tr th:only-of-type {\n",
       "        vertical-align: middle;\n",
       "    }\n",
       "\n",
       "    .dataframe tbody tr th {\n",
       "        vertical-align: top;\n",
       "    }\n",
       "\n",
       "    .dataframe thead th {\n",
       "        text-align: right;\n",
       "    }\n",
       "</style>\n",
       "<table border=\"1\" class=\"dataframe\">\n",
       "  <thead>\n",
       "    <tr style=\"text-align: right;\">\n",
       "      <th></th>\n",
       "      <th>key</th>\n",
       "      <th>temperature</th>\n",
       "    </tr>\n",
       "  </thead>\n",
       "  <tbody>\n",
       "    <tr>\n",
       "      <th>0</th>\n",
       "      <td>3241</td>\n",
       "      <td>1</td>\n",
       "    </tr>\n",
       "    <tr>\n",
       "      <th>1</th>\n",
       "      <td>2906</td>\n",
       "      <td>1</td>\n",
       "    </tr>\n",
       "    <tr>\n",
       "      <th>2</th>\n",
       "      <td>2905</td>\n",
       "      <td>1</td>\n",
       "    </tr>\n",
       "    <tr>\n",
       "      <th>3</th>\n",
       "      <td>2904</td>\n",
       "      <td>1</td>\n",
       "    </tr>\n",
       "    <tr>\n",
       "      <th>4</th>\n",
       "      <td>2903</td>\n",
       "      <td>1</td>\n",
       "    </tr>\n",
       "  </tbody>\n",
       "</table>\n",
       "</div>"
      ],
      "text/plain": [
       "    key  temperature\n",
       "0  3241            1\n",
       "1  2906            1\n",
       "2  2905            1\n",
       "3  2904            1\n",
       "4  2903            1"
      ]
     },
     "execution_count": 39,
     "metadata": {},
     "output_type": "execute_result"
    }
   ],
   "source": [
    "data_temp_keys = data_temp.groupby('key')['temperature'].count().sort_values().reset_index()\n",
    "data_temp_keys.head(5)"
   ]
  },
  {
   "cell_type": "markdown",
   "id": "bf892127",
   "metadata": {},
   "source": [
    "В данных по замерам температуры есть партии, в которых есть только одно значение температуры. Для нашей задачи должно быть как минимум два замера температуры (начальная и конечная). Необходимо убрать из рассмотрения данные партии."
   ]
  },
  {
   "cell_type": "code",
   "execution_count": 40,
   "id": "b9eccf51",
   "metadata": {},
   "outputs": [],
   "source": [
    "data_temp_keys = data_temp_keys[data_temp_keys['temperature'] >= 2]['key'].to_list()"
   ]
  },
  {
   "cell_type": "code",
   "execution_count": 41,
   "id": "68972848",
   "metadata": {},
   "outputs": [
    {
     "name": "stdout",
     "output_type": "stream",
     "text": [
      "<class 'pandas.core.frame.DataFrame'>\n",
      "Int64Index: 13924 entries, 0 to 13925\n",
      "Data columns (total 3 columns):\n",
      " #   Column        Non-Null Count  Dtype         \n",
      "---  ------        --------------  -----         \n",
      " 0   key           13924 non-null  int64         \n",
      " 1   time_measure  13924 non-null  datetime64[ns]\n",
      " 2   temperature   13924 non-null  float64       \n",
      "dtypes: datetime64[ns](1), float64(1), int64(1)\n",
      "memory usage: 435.1 KB\n"
     ]
    }
   ],
   "source": [
    "data_temp = data_temp[data_temp['key'].isin(data_temp_keys)]\n",
    "data_temp.info()"
   ]
  },
  {
   "cell_type": "markdown",
   "id": "2b505d49",
   "metadata": {},
   "source": [
    "Температура плавления стали = 1400 необходимо исключить партии, где замер температура ниже этого значения"
   ]
  },
  {
   "cell_type": "code",
   "execution_count": 42,
   "id": "506ff8da",
   "metadata": {},
   "outputs": [
    {
     "name": "stdout",
     "output_type": "stream",
     "text": [
      "<class 'pandas.core.frame.DataFrame'>\n",
      "Int64Index: 13903 entries, 0 to 13925\n",
      "Data columns (total 3 columns):\n",
      " #   Column        Non-Null Count  Dtype         \n",
      "---  ------        --------------  -----         \n",
      " 0   key           13903 non-null  int64         \n",
      " 1   time_measure  13903 non-null  datetime64[ns]\n",
      " 2   temperature   13903 non-null  float64       \n",
      "dtypes: datetime64[ns](1), float64(1), int64(1)\n",
      "memory usage: 434.5 KB\n"
     ]
    }
   ],
   "source": [
    "data_temp_keys = data_temp.groupby('key')['temperature'].min().sort_values().reset_index()\n",
    "data_temp_keys = data_temp_keys[data_temp_keys['temperature'] > 1500]['key'].to_list()\n",
    "data_temp = data_temp[data_temp['key'].isin(data_temp_keys)]\n",
    "data_temp.info()"
   ]
  },
  {
   "cell_type": "markdown",
   "id": "efacc8cc",
   "metadata": {},
   "source": [
    "Необходимо выбрать партии, в которых известны данные о проволочных, сыпучих материалах и температуре. Оставим только те партии, которые присутствуют в каждой таблице"
   ]
  },
  {
   "cell_type": "code",
   "execution_count": 43,
   "id": "6147b34c",
   "metadata": {},
   "outputs": [],
   "source": [
    "number_group = list(set(data_arc.groupby('key')['active_power'].sum().reset_index()['key']) & \n",
    "                    set(data_bulk['key']) &\n",
    "                    set(data_wire['key']) &\n",
    "                    set(data_temp.groupby('key')['temperature'].sum().reset_index()['key']) &\n",
    "                    set(data_gas['key']))"
   ]
  },
  {
   "cell_type": "code",
   "execution_count": 44,
   "id": "00a9378e",
   "metadata": {},
   "outputs": [],
   "source": [
    "#lists = ['data_arc', 'data_bulk', 'data_wire', 'data_bulk_time', 'data_wire_time', 'data_gas', 'data_temp']\n",
    "#for i in lists:\n",
    "#    print(f'{i} = {i}[{i}[\"key\"].isin(number_group)]')"
   ]
  },
  {
   "cell_type": "code",
   "execution_count": 45,
   "id": "8c991312",
   "metadata": {},
   "outputs": [],
   "source": [
    "data_arc = data_arc[data_arc[\"key\"].isin(number_group)]\n",
    "data_bulk = data_bulk[data_bulk[\"key\"].isin(number_group)]\n",
    "data_wire = data_wire[data_wire[\"key\"].isin(number_group)]\n",
    "data_bulk_time = data_bulk_time[data_bulk_time[\"key\"].isin(number_group)]\n",
    "data_wire_time = data_wire_time[data_wire_time[\"key\"].isin(number_group)]\n",
    "data_gas = data_gas[data_gas[\"key\"].isin(number_group)]\n",
    "data_temp = data_temp[data_temp[\"key\"].isin(number_group)]"
   ]
  },
  {
   "cell_type": "markdown",
   "id": "b083e6e8",
   "metadata": {},
   "source": [
    "Признаки Bulk 5,7,2,9,13,8 используются в менее 8% партий, данные признаки можно исключить из данных. Так же в функцию добавлена разгруппировка данных по партиям, для описания тех.процесса."
   ]
  },
  {
   "cell_type": "code",
   "execution_count": 46,
   "id": "c1304ba9",
   "metadata": {},
   "outputs": [],
   "source": [
    "def join_table(df, df_time, col_delete):\n",
    "    # удаление признаков\n",
    "    df = df.drop(columns=col_delete)\n",
    "    df_time = df_time.drop(columns=col_delete)\n",
    "    # unpivot для таблиц\n",
    "    df_unpivot1 = pd.melt(df, id_vars='key', value_vars=df.drop('key', axis=1).columns)\n",
    "    df_unpivot2 = pd.melt(df_time, id_vars='key', value_vars=df.drop('key', axis=1).columns)\n",
    "    # объединение таблиц\n",
    "    df_unpivot = df_unpivot1.join(df_unpivot2, how='inner', lsuffix='', rsuffix='_time')\n",
    "    \n",
    "    return df, df_unpivot.sort_values(by='key').drop(columns=['value', 'variable_time', 'key_time'])"
   ]
  },
  {
   "cell_type": "code",
   "execution_count": 47,
   "id": "f540c454",
   "metadata": {},
   "outputs": [],
   "source": [
    "bulk_col_delete = ['bulk_5', 'bulk_7', 'bulk_2', 'bulk_9', 'bulk_13', 'bulk_8']\n",
    "data_bulk, data_bulk_unpivot = join_table(data_bulk, data_bulk_time, bulk_col_delete)"
   ]
  },
  {
   "cell_type": "code",
   "execution_count": 48,
   "id": "1a026d68",
   "metadata": {},
   "outputs": [
    {
     "data": {
      "text/html": [
       "<div>\n",
       "<style scoped>\n",
       "    .dataframe tbody tr th:only-of-type {\n",
       "        vertical-align: middle;\n",
       "    }\n",
       "\n",
       "    .dataframe tbody tr th {\n",
       "        vertical-align: top;\n",
       "    }\n",
       "\n",
       "    .dataframe thead th {\n",
       "        text-align: right;\n",
       "    }\n",
       "</style>\n",
       "<table border=\"1\" class=\"dataframe\">\n",
       "  <thead>\n",
       "    <tr style=\"text-align: right;\">\n",
       "      <th></th>\n",
       "      <th>key</th>\n",
       "      <th>bulk_1</th>\n",
       "      <th>bulk_3</th>\n",
       "      <th>bulk_4</th>\n",
       "      <th>bulk_6</th>\n",
       "      <th>bulk_10</th>\n",
       "      <th>bulk_11</th>\n",
       "      <th>bulk_12</th>\n",
       "      <th>bulk_14</th>\n",
       "      <th>bulk_15</th>\n",
       "    </tr>\n",
       "  </thead>\n",
       "  <tbody>\n",
       "    <tr>\n",
       "      <th>0</th>\n",
       "      <td>1</td>\n",
       "      <td>0.0</td>\n",
       "      <td>0.0</td>\n",
       "      <td>43.0</td>\n",
       "      <td>0.0</td>\n",
       "      <td>0.0</td>\n",
       "      <td>0.0</td>\n",
       "      <td>206.0</td>\n",
       "      <td>150.0</td>\n",
       "      <td>154.0</td>\n",
       "    </tr>\n",
       "    <tr>\n",
       "      <th>1</th>\n",
       "      <td>2</td>\n",
       "      <td>0.0</td>\n",
       "      <td>0.0</td>\n",
       "      <td>73.0</td>\n",
       "      <td>0.0</td>\n",
       "      <td>0.0</td>\n",
       "      <td>0.0</td>\n",
       "      <td>206.0</td>\n",
       "      <td>149.0</td>\n",
       "      <td>154.0</td>\n",
       "    </tr>\n",
       "    <tr>\n",
       "      <th>2</th>\n",
       "      <td>3</td>\n",
       "      <td>0.0</td>\n",
       "      <td>0.0</td>\n",
       "      <td>34.0</td>\n",
       "      <td>0.0</td>\n",
       "      <td>0.0</td>\n",
       "      <td>0.0</td>\n",
       "      <td>205.0</td>\n",
       "      <td>152.0</td>\n",
       "      <td>153.0</td>\n",
       "    </tr>\n",
       "    <tr>\n",
       "      <th>3</th>\n",
       "      <td>4</td>\n",
       "      <td>0.0</td>\n",
       "      <td>0.0</td>\n",
       "      <td>81.0</td>\n",
       "      <td>0.0</td>\n",
       "      <td>0.0</td>\n",
       "      <td>0.0</td>\n",
       "      <td>207.0</td>\n",
       "      <td>153.0</td>\n",
       "      <td>154.0</td>\n",
       "    </tr>\n",
       "    <tr>\n",
       "      <th>4</th>\n",
       "      <td>5</td>\n",
       "      <td>0.0</td>\n",
       "      <td>0.0</td>\n",
       "      <td>78.0</td>\n",
       "      <td>0.0</td>\n",
       "      <td>0.0</td>\n",
       "      <td>0.0</td>\n",
       "      <td>203.0</td>\n",
       "      <td>151.0</td>\n",
       "      <td>152.0</td>\n",
       "    </tr>\n",
       "  </tbody>\n",
       "</table>\n",
       "</div>"
      ],
      "text/plain": [
       "   key  bulk_1  bulk_3  bulk_4  bulk_6  bulk_10  bulk_11  bulk_12  bulk_14  \\\n",
       "0    1     0.0     0.0    43.0     0.0      0.0      0.0    206.0    150.0   \n",
       "1    2     0.0     0.0    73.0     0.0      0.0      0.0    206.0    149.0   \n",
       "2    3     0.0     0.0    34.0     0.0      0.0      0.0    205.0    152.0   \n",
       "3    4     0.0     0.0    81.0     0.0      0.0      0.0    207.0    153.0   \n",
       "4    5     0.0     0.0    78.0     0.0      0.0      0.0    203.0    151.0   \n",
       "\n",
       "   bulk_15  \n",
       "0    154.0  \n",
       "1    154.0  \n",
       "2    153.0  \n",
       "3    154.0  \n",
       "4    152.0  "
      ]
     },
     "execution_count": 48,
     "metadata": {},
     "output_type": "execute_result"
    }
   ],
   "source": [
    "data_bulk.head()"
   ]
  },
  {
   "cell_type": "markdown",
   "id": "bcd66e3a",
   "metadata": {},
   "source": [
    "Признаки wire 6,3,9,8,4,7,5 используются в менее 3% партий, данные признаки можно исключить из данных"
   ]
  },
  {
   "cell_type": "code",
   "execution_count": 49,
   "id": "9fcff972",
   "metadata": {},
   "outputs": [],
   "source": [
    "wire_col_delete = ['wire_6', 'wire_3', 'wire_9', 'wire_8', 'wire_4', 'wire_7', 'wire_5', 'wire_8']\n",
    "data_wire, data_wire_unpivot = join_table(data_wire, data_wire_time, wire_col_delete )"
   ]
  },
  {
   "cell_type": "code",
   "execution_count": 50,
   "id": "f4c72be8",
   "metadata": {},
   "outputs": [
    {
     "data": {
      "text/html": [
       "<div>\n",
       "<style scoped>\n",
       "    .dataframe tbody tr th:only-of-type {\n",
       "        vertical-align: middle;\n",
       "    }\n",
       "\n",
       "    .dataframe tbody tr th {\n",
       "        vertical-align: top;\n",
       "    }\n",
       "\n",
       "    .dataframe thead th {\n",
       "        text-align: right;\n",
       "    }\n",
       "</style>\n",
       "<table border=\"1\" class=\"dataframe\">\n",
       "  <thead>\n",
       "    <tr style=\"text-align: right;\">\n",
       "      <th></th>\n",
       "      <th>key</th>\n",
       "      <th>wire_1</th>\n",
       "      <th>wire_2</th>\n",
       "    </tr>\n",
       "  </thead>\n",
       "  <tbody>\n",
       "    <tr>\n",
       "      <th>0</th>\n",
       "      <td>1</td>\n",
       "      <td>60.059998</td>\n",
       "      <td>0.00000</td>\n",
       "    </tr>\n",
       "    <tr>\n",
       "      <th>1</th>\n",
       "      <td>2</td>\n",
       "      <td>96.052315</td>\n",
       "      <td>0.00000</td>\n",
       "    </tr>\n",
       "    <tr>\n",
       "      <th>2</th>\n",
       "      <td>3</td>\n",
       "      <td>91.160157</td>\n",
       "      <td>0.00000</td>\n",
       "    </tr>\n",
       "    <tr>\n",
       "      <th>3</th>\n",
       "      <td>4</td>\n",
       "      <td>89.063515</td>\n",
       "      <td>0.00000</td>\n",
       "    </tr>\n",
       "    <tr>\n",
       "      <th>4</th>\n",
       "      <td>5</td>\n",
       "      <td>89.238236</td>\n",
       "      <td>9.11456</td>\n",
       "    </tr>\n",
       "  </tbody>\n",
       "</table>\n",
       "</div>"
      ],
      "text/plain": [
       "   key     wire_1   wire_2\n",
       "0    1  60.059998  0.00000\n",
       "1    2  96.052315  0.00000\n",
       "2    3  91.160157  0.00000\n",
       "3    4  89.063515  0.00000\n",
       "4    5  89.238236  9.11456"
      ]
     },
     "execution_count": 50,
     "metadata": {},
     "output_type": "execute_result"
    }
   ],
   "source": [
    "data_wire.head()"
   ]
  },
  {
   "cell_type": "markdown",
   "id": "c2cc3e18",
   "metadata": {},
   "source": [
    "Проверка хоронологии событий для 1 партии"
   ]
  },
  {
   "cell_type": "code",
   "execution_count": 51,
   "id": "829b125d",
   "metadata": {},
   "outputs": [
    {
     "data": {
      "text/html": [
       "<div>\n",
       "<style scoped>\n",
       "    .dataframe tbody tr th:only-of-type {\n",
       "        vertical-align: middle;\n",
       "    }\n",
       "\n",
       "    .dataframe tbody tr th {\n",
       "        vertical-align: top;\n",
       "    }\n",
       "\n",
       "    .dataframe thead th {\n",
       "        text-align: right;\n",
       "    }\n",
       "</style>\n",
       "<table border=\"1\" class=\"dataframe\">\n",
       "  <thead>\n",
       "    <tr style=\"text-align: right;\">\n",
       "      <th></th>\n",
       "      <th>key</th>\n",
       "      <th>begin_heat</th>\n",
       "      <th>end_heat</th>\n",
       "      <th>active_power</th>\n",
       "      <th>reactive_power</th>\n",
       "    </tr>\n",
       "  </thead>\n",
       "  <tbody>\n",
       "    <tr>\n",
       "      <th>0</th>\n",
       "      <td>1</td>\n",
       "      <td>2019-05-03 11:02:14</td>\n",
       "      <td>2019-05-03 11:06:02</td>\n",
       "      <td>0.305130</td>\n",
       "      <td>0.211253</td>\n",
       "    </tr>\n",
       "    <tr>\n",
       "      <th>1</th>\n",
       "      <td>1</td>\n",
       "      <td>2019-05-03 11:07:28</td>\n",
       "      <td>2019-05-03 11:10:33</td>\n",
       "      <td>0.765658</td>\n",
       "      <td>0.477438</td>\n",
       "    </tr>\n",
       "    <tr>\n",
       "      <th>2</th>\n",
       "      <td>1</td>\n",
       "      <td>2019-05-03 11:11:44</td>\n",
       "      <td>2019-05-03 11:14:36</td>\n",
       "      <td>0.580313</td>\n",
       "      <td>0.430460</td>\n",
       "    </tr>\n",
       "    <tr>\n",
       "      <th>3</th>\n",
       "      <td>1</td>\n",
       "      <td>2019-05-03 11:18:14</td>\n",
       "      <td>2019-05-03 11:24:19</td>\n",
       "      <td>0.518496</td>\n",
       "      <td>0.379979</td>\n",
       "    </tr>\n",
       "    <tr>\n",
       "      <th>4</th>\n",
       "      <td>1</td>\n",
       "      <td>2019-05-03 11:26:09</td>\n",
       "      <td>2019-05-03 11:28:37</td>\n",
       "      <td>0.867133</td>\n",
       "      <td>0.643691</td>\n",
       "    </tr>\n",
       "  </tbody>\n",
       "</table>\n",
       "</div>"
      ],
      "text/plain": [
       "   key          begin_heat            end_heat  active_power  reactive_power\n",
       "0    1 2019-05-03 11:02:14 2019-05-03 11:06:02      0.305130        0.211253\n",
       "1    1 2019-05-03 11:07:28 2019-05-03 11:10:33      0.765658        0.477438\n",
       "2    1 2019-05-03 11:11:44 2019-05-03 11:14:36      0.580313        0.430460\n",
       "3    1 2019-05-03 11:18:14 2019-05-03 11:24:19      0.518496        0.379979\n",
       "4    1 2019-05-03 11:26:09 2019-05-03 11:28:37      0.867133        0.643691"
      ]
     },
     "execution_count": 51,
     "metadata": {},
     "output_type": "execute_result"
    }
   ],
   "source": [
    "data_arc[data_arc['key'] == 1]"
   ]
  },
  {
   "cell_type": "code",
   "execution_count": 52,
   "id": "44443695",
   "metadata": {},
   "outputs": [],
   "source": [
    "arc_1 = pd.melt(data_arc[data_arc['key'] == 1].drop(columns=['active_power','reactive_power']) , \n",
    "        id_vars='key', value_vars=['begin_heat','end_heat'])\n",
    "temp_1 = pd.melt(data_temp[data_temp['key'] == 1].drop(columns=['temperature']) , \n",
    "        id_vars='key', value_vars='time_measure')\n",
    "bulk_1 = data_bulk_unpivot[data_bulk_unpivot['key'] == 1]\n",
    "bulk_1.columns = ['key', 'variable', 'value']\n",
    "wire_1 = data_wire_unpivot[data_wire_unpivot['key'] == 1]\n",
    "wire_1.columns = ['key', 'variable', 'value']"
   ]
  },
  {
   "cell_type": "code",
   "execution_count": 53,
   "id": "af131f66",
   "metadata": {},
   "outputs": [
    {
     "data": {
      "text/html": [
       "<div>\n",
       "<style scoped>\n",
       "    .dataframe tbody tr th:only-of-type {\n",
       "        vertical-align: middle;\n",
       "    }\n",
       "\n",
       "    .dataframe tbody tr th {\n",
       "        vertical-align: top;\n",
       "    }\n",
       "\n",
       "    .dataframe thead th {\n",
       "        text-align: right;\n",
       "    }\n",
       "</style>\n",
       "<table border=\"1\" class=\"dataframe\">\n",
       "  <thead>\n",
       "    <tr style=\"text-align: right;\">\n",
       "      <th></th>\n",
       "      <th>key</th>\n",
       "      <th>variable</th>\n",
       "      <th>value</th>\n",
       "    </tr>\n",
       "  </thead>\n",
       "  <tbody>\n",
       "    <tr>\n",
       "      <th>0</th>\n",
       "      <td>1</td>\n",
       "      <td>time_measure</td>\n",
       "      <td>2019-05-03 11:02:04</td>\n",
       "    </tr>\n",
       "    <tr>\n",
       "      <th>1</th>\n",
       "      <td>1</td>\n",
       "      <td>begin_heat</td>\n",
       "      <td>2019-05-03 11:02:14</td>\n",
       "    </tr>\n",
       "    <tr>\n",
       "      <th>2</th>\n",
       "      <td>1</td>\n",
       "      <td>end_heat</td>\n",
       "      <td>2019-05-03 11:06:02</td>\n",
       "    </tr>\n",
       "    <tr>\n",
       "      <th>3</th>\n",
       "      <td>1</td>\n",
       "      <td>wire_1</td>\n",
       "      <td>2019-05-03 11:06:19</td>\n",
       "    </tr>\n",
       "    <tr>\n",
       "      <th>4</th>\n",
       "      <td>1</td>\n",
       "      <td>time_measure</td>\n",
       "      <td>2019-05-03 11:07:18</td>\n",
       "    </tr>\n",
       "    <tr>\n",
       "      <th>5</th>\n",
       "      <td>1</td>\n",
       "      <td>begin_heat</td>\n",
       "      <td>2019-05-03 11:07:28</td>\n",
       "    </tr>\n",
       "    <tr>\n",
       "      <th>6</th>\n",
       "      <td>1</td>\n",
       "      <td>end_heat</td>\n",
       "      <td>2019-05-03 11:10:33</td>\n",
       "    </tr>\n",
       "    <tr>\n",
       "      <th>7</th>\n",
       "      <td>1</td>\n",
       "      <td>bulk_15</td>\n",
       "      <td>2019-05-03 11:10:43</td>\n",
       "    </tr>\n",
       "    <tr>\n",
       "      <th>8</th>\n",
       "      <td>1</td>\n",
       "      <td>time_measure</td>\n",
       "      <td>2019-05-03 11:11:34</td>\n",
       "    </tr>\n",
       "    <tr>\n",
       "      <th>9</th>\n",
       "      <td>1</td>\n",
       "      <td>begin_heat</td>\n",
       "      <td>2019-05-03 11:11:44</td>\n",
       "    </tr>\n",
       "    <tr>\n",
       "      <th>10</th>\n",
       "      <td>1</td>\n",
       "      <td>end_heat</td>\n",
       "      <td>2019-05-03 11:14:36</td>\n",
       "    </tr>\n",
       "    <tr>\n",
       "      <th>11</th>\n",
       "      <td>1</td>\n",
       "      <td>bulk_14</td>\n",
       "      <td>2019-05-03 11:14:50</td>\n",
       "    </tr>\n",
       "    <tr>\n",
       "      <th>12</th>\n",
       "      <td>1</td>\n",
       "      <td>time_measure</td>\n",
       "      <td>2019-05-03 11:18:04</td>\n",
       "    </tr>\n",
       "    <tr>\n",
       "      <th>13</th>\n",
       "      <td>1</td>\n",
       "      <td>begin_heat</td>\n",
       "      <td>2019-05-03 11:18:14</td>\n",
       "    </tr>\n",
       "    <tr>\n",
       "      <th>14</th>\n",
       "      <td>1</td>\n",
       "      <td>end_heat</td>\n",
       "      <td>2019-05-03 11:24:19</td>\n",
       "    </tr>\n",
       "    <tr>\n",
       "      <th>15</th>\n",
       "      <td>1</td>\n",
       "      <td>bulk_12</td>\n",
       "      <td>2019-05-03 11:24:31</td>\n",
       "    </tr>\n",
       "    <tr>\n",
       "      <th>16</th>\n",
       "      <td>1</td>\n",
       "      <td>time_measure</td>\n",
       "      <td>2019-05-03 11:25:59</td>\n",
       "    </tr>\n",
       "    <tr>\n",
       "      <th>17</th>\n",
       "      <td>1</td>\n",
       "      <td>begin_heat</td>\n",
       "      <td>2019-05-03 11:26:09</td>\n",
       "    </tr>\n",
       "    <tr>\n",
       "      <th>18</th>\n",
       "      <td>1</td>\n",
       "      <td>end_heat</td>\n",
       "      <td>2019-05-03 11:28:37</td>\n",
       "    </tr>\n",
       "    <tr>\n",
       "      <th>19</th>\n",
       "      <td>1</td>\n",
       "      <td>bulk_4</td>\n",
       "      <td>2019-05-03 11:28:48</td>\n",
       "    </tr>\n",
       "    <tr>\n",
       "      <th>20</th>\n",
       "      <td>1</td>\n",
       "      <td>time_measure</td>\n",
       "      <td>2019-05-03 11:30:38</td>\n",
       "    </tr>\n",
       "  </tbody>\n",
       "</table>\n",
       "</div>"
      ],
      "text/plain": [
       "    key      variable               value\n",
       "0     1  time_measure 2019-05-03 11:02:04\n",
       "1     1    begin_heat 2019-05-03 11:02:14\n",
       "2     1      end_heat 2019-05-03 11:06:02\n",
       "3     1        wire_1 2019-05-03 11:06:19\n",
       "4     1  time_measure 2019-05-03 11:07:18\n",
       "5     1    begin_heat 2019-05-03 11:07:28\n",
       "6     1      end_heat 2019-05-03 11:10:33\n",
       "7     1       bulk_15 2019-05-03 11:10:43\n",
       "8     1  time_measure 2019-05-03 11:11:34\n",
       "9     1    begin_heat 2019-05-03 11:11:44\n",
       "10    1      end_heat 2019-05-03 11:14:36\n",
       "11    1       bulk_14 2019-05-03 11:14:50\n",
       "12    1  time_measure 2019-05-03 11:18:04\n",
       "13    1    begin_heat 2019-05-03 11:18:14\n",
       "14    1      end_heat 2019-05-03 11:24:19\n",
       "15    1       bulk_12 2019-05-03 11:24:31\n",
       "16    1  time_measure 2019-05-03 11:25:59\n",
       "17    1    begin_heat 2019-05-03 11:26:09\n",
       "18    1      end_heat 2019-05-03 11:28:37\n",
       "19    1        bulk_4 2019-05-03 11:28:48\n",
       "20    1  time_measure 2019-05-03 11:30:38"
      ]
     },
     "execution_count": 53,
     "metadata": {},
     "output_type": "execute_result"
    }
   ],
   "source": [
    "# Технический процесс для партии 1\n",
    "pd.concat([arc_1, temp_1, bulk_1,wire_1]).sort_values(by='value').dropna().reset_index(drop=True)"
   ]
  },
  {
   "cell_type": "markdown",
   "id": "0c9fc994",
   "metadata": {},
   "source": [
    "Необходимо выделить партии, у которых есть начальная и конечня температура, как в партии №1"
   ]
  },
  {
   "cell_type": "code",
   "execution_count": 54,
   "id": "d7a860a8",
   "metadata": {},
   "outputs": [],
   "source": [
    "number_group_final = []\n",
    "total_time = []\n",
    "\n",
    "for i in number_group:\n",
    "    arc_1 = pd.melt(data_arc[data_arc['key'] == i].drop(columns=['active_power','reactive_power']) , \n",
    "        id_vars='key', value_vars=['begin_heat','end_heat'])\n",
    "    temp_1 = pd.melt(data_temp[data_temp['key'] == i].drop(columns=['temperature']) , \n",
    "        id_vars='key', value_vars='time_measure')\n",
    "    bulk_1 = data_bulk_unpivot[data_bulk_unpivot['key'] == i]\n",
    "    bulk_1.columns = ['key', 'variable', 'value']\n",
    "    wire_1 = data_wire_unpivot[data_wire_unpivot['key'] == i]\n",
    "    wire_1.columns = ['key', 'variable', 'value']\n",
    "    tech_process = pd.concat([arc_1, temp_1, bulk_1,wire_1]).sort_values(by='value').dropna().reset_index()\n",
    "    if tech_process.iloc[0]['variable'] == 'time_measure' and tech_process.iloc[0]['variable'] == 'time_measure':\n",
    "        number_group_final.append(i)\n",
    "        total_time.append((tech_process.iloc[-1]['value'] - tech_process.iloc[0]['value']).total_seconds())"
   ]
  },
  {
   "cell_type": "code",
   "execution_count": 55,
   "id": "5385d2da",
   "metadata": {},
   "outputs": [
    {
     "data": {
      "text/plain": [
       "True"
      ]
     },
     "execution_count": 55,
     "metadata": {},
     "output_type": "execute_result"
    }
   ],
   "source": [
    "number_group_final == number_group"
   ]
  },
  {
   "cell_type": "markdown",
   "id": "a3116b8e",
   "metadata": {},
   "source": [
    "Во всех отобранных ранее партиях, присутствует конечная и начальная температура"
   ]
  },
  {
   "cell_type": "code",
   "execution_count": 56,
   "id": "3eb475e2",
   "metadata": {},
   "outputs": [
    {
     "data": {
      "text/html": [
       "<div>\n",
       "<style scoped>\n",
       "    .dataframe tbody tr th:only-of-type {\n",
       "        vertical-align: middle;\n",
       "    }\n",
       "\n",
       "    .dataframe tbody tr th {\n",
       "        vertical-align: top;\n",
       "    }\n",
       "\n",
       "    .dataframe thead th {\n",
       "        text-align: right;\n",
       "    }\n",
       "</style>\n",
       "<table border=\"1\" class=\"dataframe\">\n",
       "  <thead>\n",
       "    <tr style=\"text-align: right;\">\n",
       "      <th></th>\n",
       "      <th>key</th>\n",
       "      <th>total_time</th>\n",
       "    </tr>\n",
       "  </thead>\n",
       "  <tbody>\n",
       "    <tr>\n",
       "      <th>0</th>\n",
       "      <td>1</td>\n",
       "      <td>1714.0</td>\n",
       "    </tr>\n",
       "    <tr>\n",
       "      <th>1</th>\n",
       "      <td>2</td>\n",
       "      <td>1265.0</td>\n",
       "    </tr>\n",
       "    <tr>\n",
       "      <th>2</th>\n",
       "      <td>3</td>\n",
       "      <td>1753.0</td>\n",
       "    </tr>\n",
       "    <tr>\n",
       "      <th>3</th>\n",
       "      <td>4</td>\n",
       "      <td>1220.0</td>\n",
       "    </tr>\n",
       "    <tr>\n",
       "      <th>4</th>\n",
       "      <td>5</td>\n",
       "      <td>1536.0</td>\n",
       "    </tr>\n",
       "    <tr>\n",
       "      <th>...</th>\n",
       "      <td>...</td>\n",
       "      <td>...</td>\n",
       "    </tr>\n",
       "    <tr>\n",
       "      <th>2320</th>\n",
       "      <td>2495</td>\n",
       "      <td>1380.0</td>\n",
       "    </tr>\n",
       "    <tr>\n",
       "      <th>2321</th>\n",
       "      <td>2496</td>\n",
       "      <td>1705.0</td>\n",
       "    </tr>\n",
       "    <tr>\n",
       "      <th>2322</th>\n",
       "      <td>2497</td>\n",
       "      <td>962.0</td>\n",
       "    </tr>\n",
       "    <tr>\n",
       "      <th>2323</th>\n",
       "      <td>2498</td>\n",
       "      <td>1520.0</td>\n",
       "    </tr>\n",
       "    <tr>\n",
       "      <th>2324</th>\n",
       "      <td>2499</td>\n",
       "      <td>1537.0</td>\n",
       "    </tr>\n",
       "  </tbody>\n",
       "</table>\n",
       "<p>2325 rows × 2 columns</p>\n",
       "</div>"
      ],
      "text/plain": [
       "       key  total_time\n",
       "0        1      1714.0\n",
       "1        2      1265.0\n",
       "2        3      1753.0\n",
       "3        4      1220.0\n",
       "4        5      1536.0\n",
       "...    ...         ...\n",
       "2320  2495      1380.0\n",
       "2321  2496      1705.0\n",
       "2322  2497       962.0\n",
       "2323  2498      1520.0\n",
       "2324  2499      1537.0\n",
       "\n",
       "[2325 rows x 2 columns]"
      ]
     },
     "execution_count": 56,
     "metadata": {},
     "output_type": "execute_result"
    }
   ],
   "source": [
    "total_time = pd.DataFrame({'key': number_group_final, 'total_time':total_time})\n",
    "total_time"
   ]
  },
  {
   "cell_type": "code",
   "execution_count": 57,
   "id": "50184bab",
   "metadata": {},
   "outputs": [],
   "source": [
    "data_final = data_bulk.merge(\n",
    "     data_wire.merge(\n",
    "     data_arc.groupby('key')[['active_power', 'reactive_power']].sum().reset_index().merge(\n",
    "     data_temp.groupby('key')['temperature'].agg(['first', 'last']).reset_index().merge(\n",
    "     total_time.merge(\n",
    "     data_arc.groupby('key')['active_power'].count().reset_index(), on='key'), on='key'), on='key'),on='key'), on='key').drop('key',axis=1)\n",
    "data_final = data_final.rename(columns={'active_power': 'active_power_sum', 'reactive_power': 'reactive_power_sum','first': 'first_temp','last': 'last_temp', 'active_power_y': 'number_iteration'})"
   ]
  },
  {
   "cell_type": "code",
   "execution_count": 58,
   "id": "9c91de78",
   "metadata": {},
   "outputs": [
    {
     "data": {
      "text/html": [
       "<div>\n",
       "<style scoped>\n",
       "    .dataframe tbody tr th:only-of-type {\n",
       "        vertical-align: middle;\n",
       "    }\n",
       "\n",
       "    .dataframe tbody tr th {\n",
       "        vertical-align: top;\n",
       "    }\n",
       "\n",
       "    .dataframe thead th {\n",
       "        text-align: right;\n",
       "    }\n",
       "</style>\n",
       "<table border=\"1\" class=\"dataframe\">\n",
       "  <thead>\n",
       "    <tr style=\"text-align: right;\">\n",
       "      <th></th>\n",
       "      <th>bulk_1</th>\n",
       "      <th>bulk_3</th>\n",
       "      <th>bulk_4</th>\n",
       "      <th>bulk_6</th>\n",
       "      <th>bulk_10</th>\n",
       "      <th>bulk_11</th>\n",
       "      <th>bulk_12</th>\n",
       "      <th>bulk_14</th>\n",
       "      <th>bulk_15</th>\n",
       "      <th>wire_1</th>\n",
       "      <th>wire_2</th>\n",
       "      <th>active_power_x</th>\n",
       "      <th>reactive_power_sum</th>\n",
       "      <th>first_temp</th>\n",
       "      <th>last_temp</th>\n",
       "      <th>total_time</th>\n",
       "      <th>number_iteration</th>\n",
       "    </tr>\n",
       "  </thead>\n",
       "  <tbody>\n",
       "    <tr>\n",
       "      <th>0</th>\n",
       "      <td>0.0</td>\n",
       "      <td>0.0</td>\n",
       "      <td>43.0</td>\n",
       "      <td>0.0</td>\n",
       "      <td>0.0</td>\n",
       "      <td>0.0</td>\n",
       "      <td>206.0</td>\n",
       "      <td>150.0</td>\n",
       "      <td>154.0</td>\n",
       "      <td>60.059998</td>\n",
       "      <td>0.00000</td>\n",
       "      <td>3.036730</td>\n",
       "      <td>2.142821</td>\n",
       "      <td>1571.0</td>\n",
       "      <td>1613.0</td>\n",
       "      <td>1714.0</td>\n",
       "      <td>5</td>\n",
       "    </tr>\n",
       "    <tr>\n",
       "      <th>1</th>\n",
       "      <td>0.0</td>\n",
       "      <td>0.0</td>\n",
       "      <td>73.0</td>\n",
       "      <td>0.0</td>\n",
       "      <td>0.0</td>\n",
       "      <td>0.0</td>\n",
       "      <td>206.0</td>\n",
       "      <td>149.0</td>\n",
       "      <td>154.0</td>\n",
       "      <td>96.052315</td>\n",
       "      <td>0.00000</td>\n",
       "      <td>2.139408</td>\n",
       "      <td>1.453357</td>\n",
       "      <td>1581.0</td>\n",
       "      <td>1602.0</td>\n",
       "      <td>1265.0</td>\n",
       "      <td>4</td>\n",
       "    </tr>\n",
       "    <tr>\n",
       "      <th>2</th>\n",
       "      <td>0.0</td>\n",
       "      <td>0.0</td>\n",
       "      <td>34.0</td>\n",
       "      <td>0.0</td>\n",
       "      <td>0.0</td>\n",
       "      <td>0.0</td>\n",
       "      <td>205.0</td>\n",
       "      <td>152.0</td>\n",
       "      <td>153.0</td>\n",
       "      <td>91.160157</td>\n",
       "      <td>0.00000</td>\n",
       "      <td>4.063641</td>\n",
       "      <td>2.937457</td>\n",
       "      <td>1596.0</td>\n",
       "      <td>1599.0</td>\n",
       "      <td>1753.0</td>\n",
       "      <td>5</td>\n",
       "    </tr>\n",
       "    <tr>\n",
       "      <th>3</th>\n",
       "      <td>0.0</td>\n",
       "      <td>0.0</td>\n",
       "      <td>81.0</td>\n",
       "      <td>0.0</td>\n",
       "      <td>0.0</td>\n",
       "      <td>0.0</td>\n",
       "      <td>207.0</td>\n",
       "      <td>153.0</td>\n",
       "      <td>154.0</td>\n",
       "      <td>89.063515</td>\n",
       "      <td>0.00000</td>\n",
       "      <td>2.706489</td>\n",
       "      <td>2.056992</td>\n",
       "      <td>1601.0</td>\n",
       "      <td>1625.0</td>\n",
       "      <td>1220.0</td>\n",
       "      <td>4</td>\n",
       "    </tr>\n",
       "    <tr>\n",
       "      <th>4</th>\n",
       "      <td>0.0</td>\n",
       "      <td>0.0</td>\n",
       "      <td>78.0</td>\n",
       "      <td>0.0</td>\n",
       "      <td>0.0</td>\n",
       "      <td>0.0</td>\n",
       "      <td>203.0</td>\n",
       "      <td>151.0</td>\n",
       "      <td>152.0</td>\n",
       "      <td>89.238236</td>\n",
       "      <td>9.11456</td>\n",
       "      <td>2.252950</td>\n",
       "      <td>1.687991</td>\n",
       "      <td>1576.0</td>\n",
       "      <td>1602.0</td>\n",
       "      <td>1536.0</td>\n",
       "      <td>4</td>\n",
       "    </tr>\n",
       "  </tbody>\n",
       "</table>\n",
       "</div>"
      ],
      "text/plain": [
       "   bulk_1  bulk_3  bulk_4  bulk_6  bulk_10  bulk_11  bulk_12  bulk_14  \\\n",
       "0     0.0     0.0    43.0     0.0      0.0      0.0    206.0    150.0   \n",
       "1     0.0     0.0    73.0     0.0      0.0      0.0    206.0    149.0   \n",
       "2     0.0     0.0    34.0     0.0      0.0      0.0    205.0    152.0   \n",
       "3     0.0     0.0    81.0     0.0      0.0      0.0    207.0    153.0   \n",
       "4     0.0     0.0    78.0     0.0      0.0      0.0    203.0    151.0   \n",
       "\n",
       "   bulk_15     wire_1   wire_2  active_power_x  reactive_power_sum  \\\n",
       "0    154.0  60.059998  0.00000        3.036730            2.142821   \n",
       "1    154.0  96.052315  0.00000        2.139408            1.453357   \n",
       "2    153.0  91.160157  0.00000        4.063641            2.937457   \n",
       "3    154.0  89.063515  0.00000        2.706489            2.056992   \n",
       "4    152.0  89.238236  9.11456        2.252950            1.687991   \n",
       "\n",
       "   first_temp  last_temp  total_time  number_iteration  \n",
       "0      1571.0     1613.0      1714.0                 5  \n",
       "1      1581.0     1602.0      1265.0                 4  \n",
       "2      1596.0     1599.0      1753.0                 5  \n",
       "3      1601.0     1625.0      1220.0                 4  \n",
       "4      1576.0     1602.0      1536.0                 4  "
      ]
     },
     "execution_count": 58,
     "metadata": {},
     "output_type": "execute_result"
    }
   ],
   "source": [
    "data_final.head()"
   ]
  },
  {
   "cell_type": "code",
   "execution_count": 59,
   "id": "76e4ed80",
   "metadata": {},
   "outputs": [
    {
     "name": "stdout",
     "output_type": "stream",
     "text": [
      "<class 'pandas.core.frame.DataFrame'>\n",
      "Int64Index: 2325 entries, 0 to 2324\n",
      "Data columns (total 17 columns):\n",
      " #   Column              Non-Null Count  Dtype  \n",
      "---  ------              --------------  -----  \n",
      " 0   bulk_1              2325 non-null   float64\n",
      " 1   bulk_3              2325 non-null   float64\n",
      " 2   bulk_4              2325 non-null   float64\n",
      " 3   bulk_6              2325 non-null   float64\n",
      " 4   bulk_10             2325 non-null   float64\n",
      " 5   bulk_11             2325 non-null   float64\n",
      " 6   bulk_12             2325 non-null   float64\n",
      " 7   bulk_14             2325 non-null   float64\n",
      " 8   bulk_15             2325 non-null   float64\n",
      " 9   wire_1              2325 non-null   float64\n",
      " 10  wire_2              2325 non-null   float64\n",
      " 11  active_power_x      2325 non-null   float64\n",
      " 12  reactive_power_sum  2325 non-null   float64\n",
      " 13  first_temp          2325 non-null   float64\n",
      " 14  last_temp           2325 non-null   float64\n",
      " 15  total_time          2325 non-null   float64\n",
      " 16  number_iteration    2325 non-null   int64  \n",
      "dtypes: float64(16), int64(1)\n",
      "memory usage: 327.0 KB\n"
     ]
    }
   ],
   "source": [
    "data_final.info()"
   ]
  },
  {
   "cell_type": "code",
   "execution_count": 60,
   "id": "8dc45649",
   "metadata": {},
   "outputs": [
    {
     "data": {
      "text/plain": [
       "<AxesSubplot:>"
      ]
     },
     "execution_count": 60,
     "metadata": {},
     "output_type": "execute_result"
    },
    {
     "data": {
      "image/png": "[encoded data removed]",
      "text/plain": [
       "<Figure size 1080x360 with 2 Axes>"
      ]
     },
     "metadata": {
      "needs_background": "light"
     },
     "output_type": "display_data"
    }
   ],
   "source": [
    "fig, ax = plt.subplots(figsize=(15, 5))\n",
    "sns.heatmap(data_final.corr(), annot = True)"
   ]
  },
  {
   "cell_type": "code",
   "execution_count": 61,
   "id": "16b9ea3d",
   "metadata": {},
   "outputs": [],
   "source": [
    "data_final = data_final.drop('reactive_power_sum', axis=1)"
   ]
  },
  {
   "cell_type": "markdown",
   "id": "e1fc4c7c",
   "metadata": {},
   "source": [
    "В призанках присутствует коллинеарность. Высокая корреляция между reactive_power_sum и active_power_sum. reactive_power_sum необбходимо удалить"
   ]
  },
  {
   "cell_type": "code",
   "execution_count": 62,
   "id": "32858f31",
   "metadata": {},
   "outputs": [],
   "source": [
    "#Определение признаков\n",
    "features = data_final.drop('last_temp', axis=1)\n",
    "target = data_final['last_temp']"
   ]
  },
  {
   "cell_type": "code",
   "execution_count": 63,
   "id": "93e21640",
   "metadata": {},
   "outputs": [],
   "source": [
    "RANDOM_STATE = 50623"
   ]
  },
  {
   "cell_type": "code",
   "execution_count": 64,
   "id": "d5db1664",
   "metadata": {},
   "outputs": [
    {
     "data": {
      "text/html": [
       "<div>\n",
       "<style scoped>\n",
       "    .dataframe tbody tr th:only-of-type {\n",
       "        vertical-align: middle;\n",
       "    }\n",
       "\n",
       "    .dataframe tbody tr th {\n",
       "        vertical-align: top;\n",
       "    }\n",
       "\n",
       "    .dataframe thead th {\n",
       "        text-align: right;\n",
       "    }\n",
       "</style>\n",
       "<table border=\"1\" class=\"dataframe\">\n",
       "  <thead>\n",
       "    <tr style=\"text-align: right;\">\n",
       "      <th></th>\n",
       "      <th>bulk_1</th>\n",
       "      <th>bulk_3</th>\n",
       "      <th>bulk_4</th>\n",
       "      <th>bulk_6</th>\n",
       "      <th>bulk_10</th>\n",
       "      <th>bulk_11</th>\n",
       "      <th>bulk_12</th>\n",
       "      <th>bulk_14</th>\n",
       "      <th>bulk_15</th>\n",
       "      <th>wire_1</th>\n",
       "      <th>wire_2</th>\n",
       "      <th>active_power_x</th>\n",
       "      <th>first_temp</th>\n",
       "      <th>total_time</th>\n",
       "      <th>number_iteration</th>\n",
       "    </tr>\n",
       "  </thead>\n",
       "  <tbody>\n",
       "    <tr>\n",
       "      <th>1293</th>\n",
       "      <td>0.0</td>\n",
       "      <td>94.0</td>\n",
       "      <td>0.0</td>\n",
       "      <td>0.0</td>\n",
       "      <td>0.0</td>\n",
       "      <td>0.0</td>\n",
       "      <td>255.0</td>\n",
       "      <td>101.0</td>\n",
       "      <td>204.0</td>\n",
       "      <td>129.027587</td>\n",
       "      <td>55.343597</td>\n",
       "      <td>2.115356</td>\n",
       "      <td>1589.0</td>\n",
       "      <td>1589.0</td>\n",
       "      <td>4</td>\n",
       "    </tr>\n",
       "    <tr>\n",
       "      <th>1053</th>\n",
       "      <td>0.0</td>\n",
       "      <td>0.0</td>\n",
       "      <td>77.0</td>\n",
       "      <td>0.0</td>\n",
       "      <td>0.0</td>\n",
       "      <td>0.0</td>\n",
       "      <td>364.0</td>\n",
       "      <td>203.0</td>\n",
       "      <td>208.0</td>\n",
       "      <td>139.183196</td>\n",
       "      <td>0.000000</td>\n",
       "      <td>4.443630</td>\n",
       "      <td>1600.0</td>\n",
       "      <td>3126.0</td>\n",
       "      <td>6</td>\n",
       "    </tr>\n",
       "    <tr>\n",
       "      <th>1268</th>\n",
       "      <td>0.0</td>\n",
       "      <td>67.0</td>\n",
       "      <td>0.0</td>\n",
       "      <td>226.0</td>\n",
       "      <td>0.0</td>\n",
       "      <td>0.0</td>\n",
       "      <td>409.0</td>\n",
       "      <td>337.0</td>\n",
       "      <td>211.0</td>\n",
       "      <td>45.021599</td>\n",
       "      <td>0.000000</td>\n",
       "      <td>3.570249</td>\n",
       "      <td>1552.0</td>\n",
       "      <td>4312.0</td>\n",
       "      <td>4</td>\n",
       "    </tr>\n",
       "    <tr>\n",
       "      <th>45</th>\n",
       "      <td>0.0</td>\n",
       "      <td>0.0</td>\n",
       "      <td>0.0</td>\n",
       "      <td>172.0</td>\n",
       "      <td>0.0</td>\n",
       "      <td>0.0</td>\n",
       "      <td>0.0</td>\n",
       "      <td>0.0</td>\n",
       "      <td>0.0</td>\n",
       "      <td>72.203041</td>\n",
       "      <td>47.145283</td>\n",
       "      <td>3.548490</td>\n",
       "      <td>1573.0</td>\n",
       "      <td>1509.0</td>\n",
       "      <td>5</td>\n",
       "    </tr>\n",
       "    <tr>\n",
       "      <th>1322</th>\n",
       "      <td>27.0</td>\n",
       "      <td>122.0</td>\n",
       "      <td>55.0</td>\n",
       "      <td>0.0</td>\n",
       "      <td>0.0</td>\n",
       "      <td>0.0</td>\n",
       "      <td>465.0</td>\n",
       "      <td>231.0</td>\n",
       "      <td>103.0</td>\n",
       "      <td>136.188005</td>\n",
       "      <td>0.000000</td>\n",
       "      <td>2.714637</td>\n",
       "      <td>1570.0</td>\n",
       "      <td>1785.0</td>\n",
       "      <td>5</td>\n",
       "    </tr>\n",
       "  </tbody>\n",
       "</table>\n",
       "</div>"
      ],
      "text/plain": [
       "      bulk_1  bulk_3  bulk_4  bulk_6  bulk_10  bulk_11  bulk_12  bulk_14  \\\n",
       "1293     0.0    94.0     0.0     0.0      0.0      0.0    255.0    101.0   \n",
       "1053     0.0     0.0    77.0     0.0      0.0      0.0    364.0    203.0   \n",
       "1268     0.0    67.0     0.0   226.0      0.0      0.0    409.0    337.0   \n",
       "45       0.0     0.0     0.0   172.0      0.0      0.0      0.0      0.0   \n",
       "1322    27.0   122.0    55.0     0.0      0.0      0.0    465.0    231.0   \n",
       "\n",
       "      bulk_15      wire_1     wire_2  active_power_x  first_temp  total_time  \\\n",
       "1293    204.0  129.027587  55.343597        2.115356      1589.0      1589.0   \n",
       "1053    208.0  139.183196   0.000000        4.443630      1600.0      3126.0   \n",
       "1268    211.0   45.021599   0.000000        3.570249      1552.0      4312.0   \n",
       "45        0.0   72.203041  47.145283        3.548490      1573.0      1509.0   \n",
       "1322    103.0  136.188005   0.000000        2.714637      1570.0      1785.0   \n",
       "\n",
       "      number_iteration  \n",
       "1293                 4  \n",
       "1053                 6  \n",
       "1268                 4  \n",
       "45                   5  \n",
       "1322                 5  "
      ]
     },
     "execution_count": 64,
     "metadata": {},
     "output_type": "execute_result"
    }
   ],
   "source": [
    "features_train, features_test, target_train, target_test = train_test_split(features, \n",
    "                                                                            target, \n",
    "                                                                            test_size=0.25, \n",
    "                                                                            random_state=RANDOM_STATE,\n",
    "                                                                            shuffle = True)\n",
    "features_train.head()"
   ]
  },
  {
   "cell_type": "code",
   "execution_count": 65,
   "id": "1f5d948d",
   "metadata": {},
   "outputs": [],
   "source": [
    "#Масштабирование признаков для линейной модели\n",
    "scaler= StandardScaler()\n",
    "features_train_lr = scaler.fit_transform(features_train)\n",
    "features_test_lr = scaler.transform(features_test)"
   ]
  },
  {
   "cell_type": "code",
   "execution_count": 66,
   "id": "d6a9d63a",
   "metadata": {},
   "outputs": [
    {
     "name": "stdout",
     "output_type": "stream",
     "text": [
      "Размеры обучающей выборки (1743, 15)\n",
      "Размеры тестовой выборки (582, 15)\n"
     ]
    }
   ],
   "source": [
    "print('Размеры обучающей выборки', features_train.shape)\n",
    "print('Размеры тестовой выборки', features_test.shape)"
   ]
  },
  {
   "cell_type": "markdown",
   "id": "c5799cce",
   "metadata": {},
   "source": [
    "# 4. Обучение моделей"
   ]
  },
  {
   "cell_type": "markdown",
   "id": "ae5dd399",
   "metadata": {},
   "source": [
    "## 4.1 Константная модель"
   ]
  },
  {
   "cell_type": "code",
   "execution_count": 67,
   "id": "942ffaeb",
   "metadata": {},
   "outputs": [
    {
     "data": {
      "text/plain": [
       "1593.0"
      ]
     },
     "execution_count": 67,
     "metadata": {},
     "output_type": "execute_result"
    }
   ],
   "source": [
    "target_train.median()"
   ]
  },
  {
   "cell_type": "code",
   "execution_count": 68,
   "id": "09cfda15",
   "metadata": {},
   "outputs": [],
   "source": [
    "predicion_model_constant = pd.Series([target_test.median()] * len(target_test))"
   ]
  },
  {
   "cell_type": "code",
   "execution_count": 69,
   "id": "bb074706",
   "metadata": {},
   "outputs": [
    {
     "name": "stdout",
     "output_type": "stream",
     "text": [
      "MAE на константной модели: 8.073883161512027\n"
     ]
    }
   ],
   "source": [
    "print(f'MAE на константной модели: {mean_absolute_error(target_test, predicion_model_constant)}')"
   ]
  },
  {
   "cell_type": "markdown",
   "id": "645a3c6e",
   "metadata": {},
   "source": [
    "## 4.2 Линейная Регрессия"
   ]
  },
  {
   "cell_type": "code",
   "execution_count": 70,
   "id": "0ab039b8",
   "metadata": {},
   "outputs": [],
   "source": [
    "model_lr = LinearRegression().fit(features_train_lr, target_train)"
   ]
  },
  {
   "cell_type": "code",
   "execution_count": 71,
   "id": "cbfa1eb7",
   "metadata": {},
   "outputs": [],
   "source": [
    "model_lr_mae_cv = cross_validate(model_lr, features_train, target_train, scoring='neg_mean_absolute_error')['test_score'].mean()*-1"
   ]
  },
  {
   "cell_type": "code",
   "execution_count": 72,
   "id": "f3fce5c4",
   "metadata": {},
   "outputs": [
    {
     "data": {
      "text/plain": [
       "array([-1.892081  , -0.08365419,  0.14321916, -0.89958425,  0.11191753,\n",
       "       -0.42295117,  1.95774087,  0.73615102,  1.09384246,  1.34742592,\n",
       "       -1.31498689,  0.70639239,  4.32761342, -1.65391981,  2.46692562])"
      ]
     },
     "execution_count": 72,
     "metadata": {},
     "output_type": "execute_result"
    }
   ],
   "source": [
    "model_lr.coef_"
   ]
  },
  {
   "cell_type": "markdown",
   "id": "eb92b702",
   "metadata": {},
   "source": [
    "## 4.3 Случайный лес"
   ]
  },
  {
   "cell_type": "code",
   "execution_count": 74,
   "id": "12d046b0",
   "metadata": {},
   "outputs": [
    {
     "name": "stderr",
     "output_type": "stream",
     "text": [
      "[I 2023-06-09 13:29:01,265] A new study created in memory with name: no-name-125192b5-43d2-4b97-9a8f-0570d139a06b\n",
      "[I 2023-06-09 13:29:05,123] Trial 0 finished with value: -7.2259074791749835 and parameters: {'n_estimators': 277, 'max_depth': 49, 'min_samples_leaf': 71, 'min_samples_split': 7}. Best is trial 0 with value: -7.2259074791749835.\n",
      "[I 2023-06-09 13:29:05,554] Trial 1 finished with value: -7.280284017424757 and parameters: {'n_estimators': 30, 'max_depth': 126, 'min_samples_leaf': 88, 'min_samples_split': 81}. Best is trial 0 with value: -7.2259074791749835.\n",
      "[I 2023-06-09 13:29:06,801] Trial 2 finished with value: -7.064423417895503 and parameters: {'n_estimators': 64, 'max_depth': 168, 'min_samples_leaf': 21, 'min_samples_split': 66}. Best is trial 2 with value: -7.064423417895503.\n",
      "[I 2023-06-09 13:29:10,200] Trial 3 finished with value: -7.034541353936598 and parameters: {'n_estimators': 175, 'max_depth': 197, 'min_samples_leaf': 17, 'min_samples_split': 64}. Best is trial 3 with value: -7.034541353936598.\n",
      "[I 2023-06-09 13:29:10,521] Trial 4 finished with value: -7.316003291453245 and parameters: {'n_estimators': 22, 'max_depth': 179, 'min_samples_leaf': 98, 'min_samples_split': 53}. Best is trial 3 with value: -7.034541353936598.\n",
      "[I 2023-06-09 13:29:14,133] Trial 5 finished with value: -7.245849199078236 and parameters: {'n_estimators': 265, 'max_depth': 89, 'min_samples_leaf': 79, 'min_samples_split': 54}. Best is trial 3 with value: -7.034541353936598.\n",
      "[I 2023-06-09 13:29:14,851] Trial 6 finished with value: -7.108329301899717 and parameters: {'n_estimators': 43, 'max_depth': 135, 'min_samples_leaf': 32, 'min_samples_split': 99}. Best is trial 3 with value: -7.034541353936598.\n",
      "[I 2023-06-09 13:29:20,437] Trial 7 finished with value: -7.026751320913446 and parameters: {'n_estimators': 297, 'max_depth': 187, 'min_samples_leaf': 12, 'min_samples_split': 77}. Best is trial 7 with value: -7.026751320913446.\n",
      "/opt/conda/lib/python3.9/site-packages/sklearn/model_selection/_validation.py:610: FitFailedWarning: Estimator fit failed. The score on this train-test partition for these parameters will be set to nan. Details: \n",
      "Traceback (most recent call last):\n",
      "  File \"/opt/conda/lib/python3.9/site-packages/sklearn/model_selection/_validation.py\", line 593, in _fit_and_score\n",
      "    estimator.fit(X_train, y_train, **fit_params)\n",
      "  File \"/opt/conda/lib/python3.9/site-packages/sklearn/ensemble/_forest.py\", line 387, in fit\n",
      "    trees = Parallel(n_jobs=self.n_jobs, verbose=self.verbose,\n",
      "  File \"/opt/conda/lib/python3.9/site-packages/joblib/parallel.py\", line 1043, in __call__\n",
      "    if self.dispatch_one_batch(iterator):\n",
      "  File \"/opt/conda/lib/python3.9/site-packages/joblib/parallel.py\", line 861, in dispatch_one_batch\n",
      "    self._dispatch(tasks)\n",
      "  File \"/opt/conda/lib/python3.9/site-packages/joblib/parallel.py\", line 779, in _dispatch\n",
      "    job = self._backend.apply_async(batch, callback=cb)\n",
      "  File \"/opt/conda/lib/python3.9/site-packages/joblib/_parallel_backends.py\", line 208, in apply_async\n",
      "    result = ImmediateResult(func)\n",
      "  File \"/opt/conda/lib/python3.9/site-packages/joblib/_parallel_backends.py\", line 572, in __init__\n",
      "    self.results = batch()\n",
      "  File \"/opt/conda/lib/python3.9/site-packages/joblib/parallel.py\", line 262, in __call__\n",
      "    return [func(*args, **kwargs)\n",
      "  File \"/opt/conda/lib/python3.9/site-packages/joblib/parallel.py\", line 262, in <listcomp>\n",
      "    return [func(*args, **kwargs)\n",
      "  File \"/opt/conda/lib/python3.9/site-packages/sklearn/utils/fixes.py\", line 222, in __call__\n",
      "    return self.function(*args, **kwargs)\n",
      "  File \"/opt/conda/lib/python3.9/site-packages/sklearn/ensemble/_forest.py\", line 169, in _parallel_build_trees\n",
      "    tree.fit(X, y, sample_weight=curr_sample_weight, check_input=False)\n",
      "  File \"/opt/conda/lib/python3.9/site-packages/sklearn/tree/_classes.py\", line 1247, in fit\n",
      "    super().fit(\n",
      "  File \"/opt/conda/lib/python3.9/site-packages/sklearn/tree/_classes.py\", line 237, in fit\n",
      "    raise ValueError(\"min_samples_split must be an integer \"\n",
      "ValueError: min_samples_split must be an integer greater than 1 or a float in (0.0, 1.0]; got the integer 1\n",
      "\n",
      "  warnings.warn(\"Estimator fit failed. The score on this train-test\"\n",
      "/opt/conda/lib/python3.9/site-packages/sklearn/model_selection/_validation.py:610: FitFailedWarning: Estimator fit failed. The score on this train-test partition for these parameters will be set to nan. Details: \n",
      "Traceback (most recent call last):\n",
      "  File \"/opt/conda/lib/python3.9/site-packages/sklearn/model_selection/_validation.py\", line 593, in _fit_and_score\n",
      "    estimator.fit(X_train, y_train, **fit_params)\n",
      "  File \"/opt/conda/lib/python3.9/site-packages/sklearn/ensemble/_forest.py\", line 387, in fit\n",
      "    trees = Parallel(n_jobs=self.n_jobs, verbose=self.verbose,\n",
      "  File \"/opt/conda/lib/python3.9/site-packages/joblib/parallel.py\", line 1043, in __call__\n",
      "    if self.dispatch_one_batch(iterator):\n",
      "  File \"/opt/conda/lib/python3.9/site-packages/joblib/parallel.py\", line 861, in dispatch_one_batch\n",
      "    self._dispatch(tasks)\n",
      "  File \"/opt/conda/lib/python3.9/site-packages/joblib/parallel.py\", line 779, in _dispatch\n",
      "    job = self._backend.apply_async(batch, callback=cb)\n",
      "  File \"/opt/conda/lib/python3.9/site-packages/joblib/_parallel_backends.py\", line 208, in apply_async\n",
      "    result = ImmediateResult(func)\n",
      "  File \"/opt/conda/lib/python3.9/site-packages/joblib/_parallel_backends.py\", line 572, in __init__\n",
      "    self.results = batch()\n",
      "  File \"/opt/conda/lib/python3.9/site-packages/joblib/parallel.py\", line 262, in __call__\n",
      "    return [func(*args, **kwargs)\n",
      "  File \"/opt/conda/lib/python3.9/site-packages/joblib/parallel.py\", line 262, in <listcomp>\n",
      "    return [func(*args, **kwargs)\n",
      "  File \"/opt/conda/lib/python3.9/site-packages/sklearn/utils/fixes.py\", line 222, in __call__\n",
      "    return self.function(*args, **kwargs)\n",
      "  File \"/opt/conda/lib/python3.9/site-packages/sklearn/ensemble/_forest.py\", line 169, in _parallel_build_trees\n",
      "    tree.fit(X, y, sample_weight=curr_sample_weight, check_input=False)\n",
      "  File \"/opt/conda/lib/python3.9/site-packages/sklearn/tree/_classes.py\", line 1247, in fit\n",
      "    super().fit(\n",
      "  File \"/opt/conda/lib/python3.9/site-packages/sklearn/tree/_classes.py\", line 237, in fit\n",
      "    raise ValueError(\"min_samples_split must be an integer \"\n",
      "ValueError: min_samples_split must be an integer greater than 1 or a float in (0.0, 1.0]; got the integer 1\n",
      "\n",
      "  warnings.warn(\"Estimator fit failed. The score on this train-test\"\n",
      "/opt/conda/lib/python3.9/site-packages/sklearn/model_selection/_validation.py:610: FitFailedWarning: Estimator fit failed. The score on this train-test partition for these parameters will be set to nan. Details: \n",
      "Traceback (most recent call last):\n",
      "  File \"/opt/conda/lib/python3.9/site-packages/sklearn/model_selection/_validation.py\", line 593, in _fit_and_score\n",
      "    estimator.fit(X_train, y_train, **fit_params)\n",
      "  File \"/opt/conda/lib/python3.9/site-packages/sklearn/ensemble/_forest.py\", line 387, in fit\n",
      "    trees = Parallel(n_jobs=self.n_jobs, verbose=self.verbose,\n",
      "  File \"/opt/conda/lib/python3.9/site-packages/joblib/parallel.py\", line 1043, in __call__\n",
      "    if self.dispatch_one_batch(iterator):\n",
      "  File \"/opt/conda/lib/python3.9/site-packages/joblib/parallel.py\", line 861, in dispatch_one_batch\n",
      "    self._dispatch(tasks)\n",
      "  File \"/opt/conda/lib/python3.9/site-packages/joblib/parallel.py\", line 779, in _dispatch\n",
      "    job = self._backend.apply_async(batch, callback=cb)\n",
      "  File \"/opt/conda/lib/python3.9/site-packages/joblib/_parallel_backends.py\", line 208, in apply_async\n",
      "    result = ImmediateResult(func)\n",
      "  File \"/opt/conda/lib/python3.9/site-packages/joblib/_parallel_backends.py\", line 572, in __init__\n",
      "    self.results = batch()\n",
      "  File \"/opt/conda/lib/python3.9/site-packages/joblib/parallel.py\", line 262, in __call__\n",
      "    return [func(*args, **kwargs)\n",
      "  File \"/opt/conda/lib/python3.9/site-packages/joblib/parallel.py\", line 262, in <listcomp>\n",
      "    return [func(*args, **kwargs)\n",
      "  File \"/opt/conda/lib/python3.9/site-packages/sklearn/utils/fixes.py\", line 222, in __call__\n",
      "    return self.function(*args, **kwargs)\n",
      "  File \"/opt/conda/lib/python3.9/site-packages/sklearn/ensemble/_forest.py\", line 169, in _parallel_build_trees\n",
      "    tree.fit(X, y, sample_weight=curr_sample_weight, check_input=False)\n",
      "  File \"/opt/conda/lib/python3.9/site-packages/sklearn/tree/_classes.py\", line 1247, in fit\n",
      "    super().fit(\n",
      "  File \"/opt/conda/lib/python3.9/site-packages/sklearn/tree/_classes.py\", line 237, in fit\n",
      "    raise ValueError(\"min_samples_split must be an integer \"\n",
      "ValueError: min_samples_split must be an integer greater than 1 or a float in (0.0, 1.0]; got the integer 1\n",
      "\n",
      "  warnings.warn(\"Estimator fit failed. The score on this train-test\"\n",
      "/opt/conda/lib/python3.9/site-packages/sklearn/model_selection/_validation.py:610: FitFailedWarning: Estimator fit failed. The score on this train-test partition for these parameters will be set to nan. Details: \n",
      "Traceback (most recent call last):\n",
      "  File \"/opt/conda/lib/python3.9/site-packages/sklearn/model_selection/_validation.py\", line 593, in _fit_and_score\n",
      "    estimator.fit(X_train, y_train, **fit_params)\n",
      "  File \"/opt/conda/lib/python3.9/site-packages/sklearn/ensemble/_forest.py\", line 387, in fit\n",
      "    trees = Parallel(n_jobs=self.n_jobs, verbose=self.verbose,\n",
      "  File \"/opt/conda/lib/python3.9/site-packages/joblib/parallel.py\", line 1043, in __call__\n",
      "    if self.dispatch_one_batch(iterator):\n",
      "  File \"/opt/conda/lib/python3.9/site-packages/joblib/parallel.py\", line 861, in dispatch_one_batch\n",
      "    self._dispatch(tasks)\n",
      "  File \"/opt/conda/lib/python3.9/site-packages/joblib/parallel.py\", line 779, in _dispatch\n",
      "    job = self._backend.apply_async(batch, callback=cb)\n",
      "  File \"/opt/conda/lib/python3.9/site-packages/joblib/_parallel_backends.py\", line 208, in apply_async\n",
      "    result = ImmediateResult(func)\n",
      "  File \"/opt/conda/lib/python3.9/site-packages/joblib/_parallel_backends.py\", line 572, in __init__\n",
      "    self.results = batch()\n",
      "  File \"/opt/conda/lib/python3.9/site-packages/joblib/parallel.py\", line 262, in __call__\n",
      "    return [func(*args, **kwargs)\n",
      "  File \"/opt/conda/lib/python3.9/site-packages/joblib/parallel.py\", line 262, in <listcomp>\n",
      "    return [func(*args, **kwargs)\n",
      "  File \"/opt/conda/lib/python3.9/site-packages/sklearn/utils/fixes.py\", line 222, in __call__\n",
      "    return self.function(*args, **kwargs)\n",
      "  File \"/opt/conda/lib/python3.9/site-packages/sklearn/ensemble/_forest.py\", line 169, in _parallel_build_trees\n",
      "    tree.fit(X, y, sample_weight=curr_sample_weight, check_input=False)\n",
      "  File \"/opt/conda/lib/python3.9/site-packages/sklearn/tree/_classes.py\", line 1247, in fit\n",
      "    super().fit(\n",
      "  File \"/opt/conda/lib/python3.9/site-packages/sklearn/tree/_classes.py\", line 237, in fit\n",
      "    raise ValueError(\"min_samples_split must be an integer \"\n",
      "ValueError: min_samples_split must be an integer greater than 1 or a float in (0.0, 1.0]; got the integer 1\n",
      "\n",
      "  warnings.warn(\"Estimator fit failed. The score on this train-test\"\n",
      "/opt/conda/lib/python3.9/site-packages/sklearn/model_selection/_validation.py:610: FitFailedWarning: Estimator fit failed. The score on this train-test partition for these parameters will be set to nan. Details: \n",
      "Traceback (most recent call last):\n",
      "  File \"/opt/conda/lib/python3.9/site-packages/sklearn/model_selection/_validation.py\", line 593, in _fit_and_score\n",
      "    estimator.fit(X_train, y_train, **fit_params)\n",
      "  File \"/opt/conda/lib/python3.9/site-packages/sklearn/ensemble/_forest.py\", line 387, in fit\n",
      "    trees = Parallel(n_jobs=self.n_jobs, verbose=self.verbose,\n",
      "  File \"/opt/conda/lib/python3.9/site-packages/joblib/parallel.py\", line 1043, in __call__\n",
      "    if self.dispatch_one_batch(iterator):\n",
      "  File \"/opt/conda/lib/python3.9/site-packages/joblib/parallel.py\", line 861, in dispatch_one_batch\n",
      "    self._dispatch(tasks)\n",
      "  File \"/opt/conda/lib/python3.9/site-packages/joblib/parallel.py\", line 779, in _dispatch\n",
      "    job = self._backend.apply_async(batch, callback=cb)\n",
      "  File \"/opt/conda/lib/python3.9/site-packages/joblib/_parallel_backends.py\", line 208, in apply_async\n",
      "    result = ImmediateResult(func)\n",
      "  File \"/opt/conda/lib/python3.9/site-packages/joblib/_parallel_backends.py\", line 572, in __init__\n",
      "    self.results = batch()\n",
      "  File \"/opt/conda/lib/python3.9/site-packages/joblib/parallel.py\", line 262, in __call__\n",
      "    return [func(*args, **kwargs)\n",
      "  File \"/opt/conda/lib/python3.9/site-packages/joblib/parallel.py\", line 262, in <listcomp>\n",
      "    return [func(*args, **kwargs)\n",
      "  File \"/opt/conda/lib/python3.9/site-packages/sklearn/utils/fixes.py\", line 222, in __call__\n",
      "    return self.function(*args, **kwargs)\n",
      "  File \"/opt/conda/lib/python3.9/site-packages/sklearn/ensemble/_forest.py\", line 169, in _parallel_build_trees\n",
      "    tree.fit(X, y, sample_weight=curr_sample_weight, check_input=False)\n",
      "  File \"/opt/conda/lib/python3.9/site-packages/sklearn/tree/_classes.py\", line 1247, in fit\n",
      "    super().fit(\n",
      "  File \"/opt/conda/lib/python3.9/site-packages/sklearn/tree/_classes.py\", line 237, in fit\n",
      "    raise ValueError(\"min_samples_split must be an integer \"\n",
      "ValueError: min_samples_split must be an integer greater than 1 or a float in (0.0, 1.0]; got the integer 1\n",
      "\n",
      "  warnings.warn(\"Estimator fit failed. The score on this train-test\"\n",
      "[W 2023-06-09 13:29:20,548] Trial 8 failed with parameters: {'n_estimators': 67, 'max_depth': 74, 'min_samples_leaf': 13, 'min_samples_split': 1} because of the following error: The value nan is not acceptable..\n",
      "[W 2023-06-09 13:29:20,549] Trial 8 failed with value nan.\n",
      "[I 2023-06-09 13:29:22,417] Trial 9 finished with value: -7.255201042927423 and parameters: {'n_estimators': 141, 'max_depth': 79, 'min_samples_leaf': 84, 'min_samples_split': 64}. Best is trial 7 with value: -7.026751320913446.\n",
      "[I 2023-06-09 13:29:26,983] Trial 10 finished with value: -7.091982410525999 and parameters: {'n_estimators': 268, 'max_depth': 55, 'min_samples_leaf': 34, 'min_samples_split': 5}. Best is trial 7 with value: -7.026751320913446.\n",
      "[I 2023-06-09 13:29:31,840] Trial 11 finished with value: -6.946568646583072 and parameters: {'n_estimators': 204, 'max_depth': 21, 'min_samples_leaf': 6, 'min_samples_split': 31}. Best is trial 11 with value: -6.946568646583072.\n",
      "[I 2023-06-09 13:29:38,032] Trial 12 finished with value: -6.967434809389002 and parameters: {'n_estimators': 215, 'max_depth': 32, 'min_samples_leaf': 1, 'min_samples_split': 27}. Best is trial 11 with value: -6.946568646583072.\n",
      "[I 2023-06-09 13:29:43,063] Trial 13 finished with value: -6.935697908563803 and parameters: {'n_estimators': 193, 'max_depth': 20, 'min_samples_leaf': 3, 'min_samples_split': 28}. Best is trial 13 with value: -6.935697908563803.\n",
      "[I 2023-06-09 13:29:45,089] Trial 14 finished with value: -7.177636638768324 and parameters: {'n_estimators': 131, 'max_depth': 11, 'min_samples_leaf': 54, 'min_samples_split': 30}. Best is trial 13 with value: -6.935697908563803.\n",
      "[I 2023-06-09 13:29:50,447] Trial 15 finished with value: -6.954089571146113 and parameters: {'n_estimators': 205, 'max_depth': 11, 'min_samples_leaf': 1, 'min_samples_split': 31}. Best is trial 13 with value: -6.935697908563803.\n",
      "[I 2023-06-09 13:29:51,782] Trial 16 finished with value: -7.152106115942577 and parameters: {'n_estimators': 89, 'max_depth': 59, 'min_samples_leaf': 49, 'min_samples_split': 18}. Best is trial 13 with value: -6.935697908563803.\n",
      "[I 2023-06-09 13:29:55,194] Trial 17 finished with value: -7.077644552690337 and parameters: {'n_estimators': 211, 'max_depth': 30, 'min_samples_leaf': 32, 'min_samples_split': 39}. Best is trial 13 with value: -6.935697908563803.\n",
      "[I 2023-06-09 13:29:57,788] Trial 18 finished with value: -7.163037965400006 and parameters: {'n_estimators': 176, 'max_depth': 109, 'min_samples_leaf': 48, 'min_samples_split': 16}. Best is trial 13 with value: -6.935697908563803.\n",
      "[I 2023-06-09 13:30:02,537] Trial 19 finished with value: -6.971521567254577 and parameters: {'n_estimators': 235, 'max_depth': 78, 'min_samples_leaf': 9, 'min_samples_split': 43}. Best is trial 13 with value: -6.935697908563803.\n",
      "[I 2023-06-09 13:30:04,396] Trial 20 finished with value: -7.039711969122247 and parameters: {'n_estimators': 108, 'max_depth': 35, 'min_samples_leaf': 24, 'min_samples_split': 41}. Best is trial 13 with value: -6.935697908563803.\n",
      "[I 2023-06-09 13:30:06,708] Trial 21 finished with value: -7.195532625674043 and parameters: {'n_estimators': 167, 'max_depth': 145, 'min_samples_leaf': 60, 'min_samples_split': 18}. Best is trial 13 with value: -6.935697908563803.\n",
      "[I 2023-06-09 13:30:11,345] Trial 22 finished with value: -6.934364896213253 and parameters: {'n_estimators': 207, 'max_depth': 10, 'min_samples_leaf': 3, 'min_samples_split': 30}. Best is trial 22 with value: -6.934364896213253.\n",
      "[I 2023-06-09 13:30:16,658] Trial 23 finished with value: -6.947891970382829 and parameters: {'n_estimators': 239, 'max_depth': 10, 'min_samples_leaf': 8, 'min_samples_split': 25}. Best is trial 22 with value: -6.934364896213253.\n",
      "[I 2023-06-09 13:30:21,600] Trial 24 finished with value: -6.966514705725362 and parameters: {'n_estimators': 192, 'max_depth': 43, 'min_samples_leaf': 1, 'min_samples_split': 36}. Best is trial 22 with value: -6.934364896213253.\n",
      "[I 2023-06-09 13:30:25,754] Trial 25 finished with value: -7.051198473002058 and parameters: {'n_estimators': 236, 'max_depth': 26, 'min_samples_leaf': 26, 'min_samples_split': 47}. Best is trial 22 with value: -6.934364896213253.\n",
      "[I 2023-06-09 13:30:28,815] Trial 26 finished with value: -6.968589734654098 and parameters: {'n_estimators': 145, 'max_depth': 57, 'min_samples_leaf': 12, 'min_samples_split': 10}. Best is trial 22 with value: -6.934364896213253.\n",
      "[I 2023-06-09 13:30:31,727] Trial 27 finished with value: -7.133767478229508 and parameters: {'n_estimators': 192, 'max_depth': 21, 'min_samples_leaf': 42, 'min_samples_split': 23}. Best is trial 22 with value: -6.934364896213253.\n",
      "[I 2023-06-09 13:30:34,090] Trial 28 finished with value: -7.007989654032848 and parameters: {'n_estimators': 120, 'max_depth': 70, 'min_samples_leaf': 17, 'min_samples_split': 34}. Best is trial 22 with value: -6.934364896213253.\n",
      "/opt/conda/lib/python3.9/site-packages/sklearn/model_selection/_validation.py:610: FitFailedWarning: Estimator fit failed. The score on this train-test partition for these parameters will be set to nan. Details: \n",
      "Traceback (most recent call last):\n",
      "  File \"/opt/conda/lib/python3.9/site-packages/sklearn/model_selection/_validation.py\", line 593, in _fit_and_score\n",
      "    estimator.fit(X_train, y_train, **fit_params)\n",
      "  File \"/opt/conda/lib/python3.9/site-packages/sklearn/ensemble/_forest.py\", line 387, in fit\n",
      "    trees = Parallel(n_jobs=self.n_jobs, verbose=self.verbose,\n",
      "  File \"/opt/conda/lib/python3.9/site-packages/joblib/parallel.py\", line 1043, in __call__\n",
      "    if self.dispatch_one_batch(iterator):\n",
      "  File \"/opt/conda/lib/python3.9/site-packages/joblib/parallel.py\", line 861, in dispatch_one_batch\n",
      "    self._dispatch(tasks)\n",
      "  File \"/opt/conda/lib/python3.9/site-packages/joblib/parallel.py\", line 779, in _dispatch\n",
      "    job = self._backend.apply_async(batch, callback=cb)\n",
      "  File \"/opt/conda/lib/python3.9/site-packages/joblib/_parallel_backends.py\", line 208, in apply_async\n",
      "    result = ImmediateResult(func)\n",
      "  File \"/opt/conda/lib/python3.9/site-packages/joblib/_parallel_backends.py\", line 572, in __init__\n",
      "    self.results = batch()\n",
      "  File \"/opt/conda/lib/python3.9/site-packages/joblib/parallel.py\", line 262, in __call__\n",
      "    return [func(*args, **kwargs)\n",
      "  File \"/opt/conda/lib/python3.9/site-packages/joblib/parallel.py\", line 262, in <listcomp>\n",
      "    return [func(*args, **kwargs)\n",
      "  File \"/opt/conda/lib/python3.9/site-packages/sklearn/utils/fixes.py\", line 222, in __call__\n",
      "    return self.function(*args, **kwargs)\n",
      "  File \"/opt/conda/lib/python3.9/site-packages/sklearn/ensemble/_forest.py\", line 169, in _parallel_build_trees\n",
      "    tree.fit(X, y, sample_weight=curr_sample_weight, check_input=False)\n",
      "  File \"/opt/conda/lib/python3.9/site-packages/sklearn/tree/_classes.py\", line 1247, in fit\n",
      "    super().fit(\n",
      "  File \"/opt/conda/lib/python3.9/site-packages/sklearn/tree/_classes.py\", line 237, in fit\n",
      "    raise ValueError(\"min_samples_split must be an integer \"\n",
      "ValueError: min_samples_split must be an integer greater than 1 or a float in (0.0, 1.0]; got the integer 1\n",
      "\n",
      "  warnings.warn(\"Estimator fit failed. The score on this train-test\"\n",
      "/opt/conda/lib/python3.9/site-packages/sklearn/model_selection/_validation.py:610: FitFailedWarning: Estimator fit failed. The score on this train-test partition for these parameters will be set to nan. Details: \n",
      "Traceback (most recent call last):\n",
      "  File \"/opt/conda/lib/python3.9/site-packages/sklearn/model_selection/_validation.py\", line 593, in _fit_and_score\n",
      "    estimator.fit(X_train, y_train, **fit_params)\n",
      "  File \"/opt/conda/lib/python3.9/site-packages/sklearn/ensemble/_forest.py\", line 387, in fit\n",
      "    trees = Parallel(n_jobs=self.n_jobs, verbose=self.verbose,\n",
      "  File \"/opt/conda/lib/python3.9/site-packages/joblib/parallel.py\", line 1043, in __call__\n",
      "    if self.dispatch_one_batch(iterator):\n",
      "  File \"/opt/conda/lib/python3.9/site-packages/joblib/parallel.py\", line 861, in dispatch_one_batch\n",
      "    self._dispatch(tasks)\n",
      "  File \"/opt/conda/lib/python3.9/site-packages/joblib/parallel.py\", line 779, in _dispatch\n",
      "    job = self._backend.apply_async(batch, callback=cb)\n",
      "  File \"/opt/conda/lib/python3.9/site-packages/joblib/_parallel_backends.py\", line 208, in apply_async\n",
      "    result = ImmediateResult(func)\n",
      "  File \"/opt/conda/lib/python3.9/site-packages/joblib/_parallel_backends.py\", line 572, in __init__\n",
      "    self.results = batch()\n",
      "  File \"/opt/conda/lib/python3.9/site-packages/joblib/parallel.py\", line 262, in __call__\n",
      "    return [func(*args, **kwargs)\n",
      "  File \"/opt/conda/lib/python3.9/site-packages/joblib/parallel.py\", line 262, in <listcomp>\n",
      "    return [func(*args, **kwargs)\n",
      "  File \"/opt/conda/lib/python3.9/site-packages/sklearn/utils/fixes.py\", line 222, in __call__\n",
      "    return self.function(*args, **kwargs)\n",
      "  File \"/opt/conda/lib/python3.9/site-packages/sklearn/ensemble/_forest.py\", line 169, in _parallel_build_trees\n",
      "    tree.fit(X, y, sample_weight=curr_sample_weight, check_input=False)\n",
      "  File \"/opt/conda/lib/python3.9/site-packages/sklearn/tree/_classes.py\", line 1247, in fit\n",
      "    super().fit(\n",
      "  File \"/opt/conda/lib/python3.9/site-packages/sklearn/tree/_classes.py\", line 237, in fit\n",
      "    raise ValueError(\"min_samples_split must be an integer \"\n",
      "ValueError: min_samples_split must be an integer greater than 1 or a float in (0.0, 1.0]; got the integer 1\n",
      "\n",
      "  warnings.warn(\"Estimator fit failed. The score on this train-test\"\n",
      "/opt/conda/lib/python3.9/site-packages/sklearn/model_selection/_validation.py:610: FitFailedWarning: Estimator fit failed. The score on this train-test partition for these parameters will be set to nan. Details: \n",
      "Traceback (most recent call last):\n",
      "  File \"/opt/conda/lib/python3.9/site-packages/sklearn/model_selection/_validation.py\", line 593, in _fit_and_score\n",
      "    estimator.fit(X_train, y_train, **fit_params)\n",
      "  File \"/opt/conda/lib/python3.9/site-packages/sklearn/ensemble/_forest.py\", line 387, in fit\n",
      "    trees = Parallel(n_jobs=self.n_jobs, verbose=self.verbose,\n",
      "  File \"/opt/conda/lib/python3.9/site-packages/joblib/parallel.py\", line 1043, in __call__\n",
      "    if self.dispatch_one_batch(iterator):\n",
      "  File \"/opt/conda/lib/python3.9/site-packages/joblib/parallel.py\", line 861, in dispatch_one_batch\n",
      "    self._dispatch(tasks)\n",
      "  File \"/opt/conda/lib/python3.9/site-packages/joblib/parallel.py\", line 779, in _dispatch\n",
      "    job = self._backend.apply_async(batch, callback=cb)\n",
      "  File \"/opt/conda/lib/python3.9/site-packages/joblib/_parallel_backends.py\", line 208, in apply_async\n",
      "    result = ImmediateResult(func)\n",
      "  File \"/opt/conda/lib/python3.9/site-packages/joblib/_parallel_backends.py\", line 572, in __init__\n",
      "    self.results = batch()\n",
      "  File \"/opt/conda/lib/python3.9/site-packages/joblib/parallel.py\", line 262, in __call__\n",
      "    return [func(*args, **kwargs)\n",
      "  File \"/opt/conda/lib/python3.9/site-packages/joblib/parallel.py\", line 262, in <listcomp>\n",
      "    return [func(*args, **kwargs)\n",
      "  File \"/opt/conda/lib/python3.9/site-packages/sklearn/utils/fixes.py\", line 222, in __call__\n",
      "    return self.function(*args, **kwargs)\n",
      "  File \"/opt/conda/lib/python3.9/site-packages/sklearn/ensemble/_forest.py\", line 169, in _parallel_build_trees\n",
      "    tree.fit(X, y, sample_weight=curr_sample_weight, check_input=False)\n",
      "  File \"/opt/conda/lib/python3.9/site-packages/sklearn/tree/_classes.py\", line 1247, in fit\n",
      "    super().fit(\n",
      "  File \"/opt/conda/lib/python3.9/site-packages/sklearn/tree/_classes.py\", line 237, in fit\n",
      "    raise ValueError(\"min_samples_split must be an integer \"\n",
      "ValueError: min_samples_split must be an integer greater than 1 or a float in (0.0, 1.0]; got the integer 1\n",
      "\n",
      "  warnings.warn(\"Estimator fit failed. The score on this train-test\"\n",
      "/opt/conda/lib/python3.9/site-packages/sklearn/model_selection/_validation.py:610: FitFailedWarning: Estimator fit failed. The score on this train-test partition for these parameters will be set to nan. Details: \n",
      "Traceback (most recent call last):\n",
      "  File \"/opt/conda/lib/python3.9/site-packages/sklearn/model_selection/_validation.py\", line 593, in _fit_and_score\n",
      "    estimator.fit(X_train, y_train, **fit_params)\n",
      "  File \"/opt/conda/lib/python3.9/site-packages/sklearn/ensemble/_forest.py\", line 387, in fit\n",
      "    trees = Parallel(n_jobs=self.n_jobs, verbose=self.verbose,\n",
      "  File \"/opt/conda/lib/python3.9/site-packages/joblib/parallel.py\", line 1043, in __call__\n",
      "    if self.dispatch_one_batch(iterator):\n",
      "  File \"/opt/conda/lib/python3.9/site-packages/joblib/parallel.py\", line 861, in dispatch_one_batch\n",
      "    self._dispatch(tasks)\n",
      "  File \"/opt/conda/lib/python3.9/site-packages/joblib/parallel.py\", line 779, in _dispatch\n",
      "    job = self._backend.apply_async(batch, callback=cb)\n",
      "  File \"/opt/conda/lib/python3.9/site-packages/joblib/_parallel_backends.py\", line 208, in apply_async\n",
      "    result = ImmediateResult(func)\n",
      "  File \"/opt/conda/lib/python3.9/site-packages/joblib/_parallel_backends.py\", line 572, in __init__\n",
      "    self.results = batch()\n",
      "  File \"/opt/conda/lib/python3.9/site-packages/joblib/parallel.py\", line 262, in __call__\n",
      "    return [func(*args, **kwargs)\n",
      "  File \"/opt/conda/lib/python3.9/site-packages/joblib/parallel.py\", line 262, in <listcomp>\n",
      "    return [func(*args, **kwargs)\n",
      "  File \"/opt/conda/lib/python3.9/site-packages/sklearn/utils/fixes.py\", line 222, in __call__\n",
      "    return self.function(*args, **kwargs)\n",
      "  File \"/opt/conda/lib/python3.9/site-packages/sklearn/ensemble/_forest.py\", line 169, in _parallel_build_trees\n",
      "    tree.fit(X, y, sample_weight=curr_sample_weight, check_input=False)\n",
      "  File \"/opt/conda/lib/python3.9/site-packages/sklearn/tree/_classes.py\", line 1247, in fit\n",
      "    super().fit(\n",
      "  File \"/opt/conda/lib/python3.9/site-packages/sklearn/tree/_classes.py\", line 237, in fit\n",
      "    raise ValueError(\"min_samples_split must be an integer \"\n",
      "ValueError: min_samples_split must be an integer greater than 1 or a float in (0.0, 1.0]; got the integer 1\n",
      "\n",
      "  warnings.warn(\"Estimator fit failed. The score on this train-test\"\n",
      "/opt/conda/lib/python3.9/site-packages/sklearn/model_selection/_validation.py:610: FitFailedWarning: Estimator fit failed. The score on this train-test partition for these parameters will be set to nan. Details: \n",
      "Traceback (most recent call last):\n",
      "  File \"/opt/conda/lib/python3.9/site-packages/sklearn/model_selection/_validation.py\", line 593, in _fit_and_score\n",
      "    estimator.fit(X_train, y_train, **fit_params)\n",
      "  File \"/opt/conda/lib/python3.9/site-packages/sklearn/ensemble/_forest.py\", line 387, in fit\n",
      "    trees = Parallel(n_jobs=self.n_jobs, verbose=self.verbose,\n",
      "  File \"/opt/conda/lib/python3.9/site-packages/joblib/parallel.py\", line 1043, in __call__\n",
      "    if self.dispatch_one_batch(iterator):\n",
      "  File \"/opt/conda/lib/python3.9/site-packages/joblib/parallel.py\", line 861, in dispatch_one_batch\n",
      "    self._dispatch(tasks)\n",
      "  File \"/opt/conda/lib/python3.9/site-packages/joblib/parallel.py\", line 779, in _dispatch\n",
      "    job = self._backend.apply_async(batch, callback=cb)\n",
      "  File \"/opt/conda/lib/python3.9/site-packages/joblib/_parallel_backends.py\", line 208, in apply_async\n",
      "    result = ImmediateResult(func)\n",
      "  File \"/opt/conda/lib/python3.9/site-packages/joblib/_parallel_backends.py\", line 572, in __init__\n",
      "    self.results = batch()\n",
      "  File \"/opt/conda/lib/python3.9/site-packages/joblib/parallel.py\", line 262, in __call__\n",
      "    return [func(*args, **kwargs)\n",
      "  File \"/opt/conda/lib/python3.9/site-packages/joblib/parallel.py\", line 262, in <listcomp>\n",
      "    return [func(*args, **kwargs)\n",
      "  File \"/opt/conda/lib/python3.9/site-packages/sklearn/utils/fixes.py\", line 222, in __call__\n",
      "    return self.function(*args, **kwargs)\n",
      "  File \"/opt/conda/lib/python3.9/site-packages/sklearn/ensemble/_forest.py\", line 169, in _parallel_build_trees\n",
      "    tree.fit(X, y, sample_weight=curr_sample_weight, check_input=False)\n",
      "  File \"/opt/conda/lib/python3.9/site-packages/sklearn/tree/_classes.py\", line 1247, in fit\n",
      "    super().fit(\n",
      "  File \"/opt/conda/lib/python3.9/site-packages/sklearn/tree/_classes.py\", line 237, in fit\n",
      "    raise ValueError(\"min_samples_split must be an integer \"\n",
      "ValueError: min_samples_split must be an integer greater than 1 or a float in (0.0, 1.0]; got the integer 1\n",
      "\n",
      "  warnings.warn(\"Estimator fit failed. The score on this train-test\"\n",
      "[W 2023-06-09 13:30:34,324] Trial 29 failed with parameters: {'n_estimators': 158, 'max_depth': 96, 'min_samples_leaf': 11, 'min_samples_split': 1} because of the following error: The value nan is not acceptable..\n",
      "[W 2023-06-09 13:30:34,325] Trial 29 failed with value nan.\n"
     ]
    },
    {
     "data": {
      "text/plain": [
       "-6.934364896213253"
      ]
     },
     "execution_count": 74,
     "metadata": {},
     "output_type": "execute_result"
    }
   ],
   "source": [
    "def rf_objective(trial):\n",
    "    \n",
    "    n_estimators = trial.suggest_int('n_estimators', 10, 300)\n",
    "    max_depth = trial.suggest_int('max_depth', 10,200)\n",
    "    min_samples_leaf = trial.suggest_int('min_samples_leaf', 1, 100)\n",
    "    min_samples_split = trial.suggest_int('min_samples_split', 1, 100) \n",
    "    model_rf = RandomForestRegressor(max_depth=max_depth, n_estimators=n_estimators,\n",
    "                                           min_samples_leaf=min_samples_leaf, min_samples_split=min_samples_split, \n",
    "                                           random_state=RANDOM_STATE)\n",
    "\n",
    "    scores = cross_val_score(model_rf, features_train, target_train, scoring='neg_mean_absolute_error')\n",
    "    \n",
    "    return scores.mean()\n",
    "    \n",
    "rf_study = optuna.create_study(direction='maximize')\n",
    "rf_study.optimize(rf_objective, n_trials=30)\n",
    "rf_study.best_value"
   ]
  },
  {
   "cell_type": "code",
   "execution_count": 75,
   "id": "834c4c22",
   "metadata": {},
   "outputs": [
    {
     "data": {
      "text/plain": [
       "{'n_estimators': 207,\n",
       " 'max_depth': 10,\n",
       " 'min_samples_leaf': 3,\n",
       " 'min_samples_split': 30}"
      ]
     },
     "execution_count": 75,
     "metadata": {},
     "output_type": "execute_result"
    }
   ],
   "source": [
    "rf_study.best_params"
   ]
  },
  {
   "cell_type": "markdown",
   "id": "c5dc4235",
   "metadata": {},
   "source": [
    "### 4.3 CatBoost"
   ]
  },
  {
   "cell_type": "code",
   "execution_count": 76,
   "id": "e1029625",
   "metadata": {},
   "outputs": [
    {
     "name": "stdout",
     "output_type": "stream",
     "text": [
      "0:\tlearn: 11.1002419\ttotal: 50.3ms\tremaining: 8s\n",
      "3:\tlearn: 10.6039893\ttotal: 58.6ms\tremaining: 2.29s\n",
      "6:\tlearn: 10.1830964\ttotal: 66.6ms\tremaining: 1.46s\n",
      "9:\tlearn: 9.8449028\ttotal: 73.7ms\tremaining: 1.1s\n",
      "12:\tlearn: 9.5937540\ttotal: 80.7ms\tremaining: 912ms\n",
      "15:\tlearn: 9.3536461\ttotal: 87.6ms\tremaining: 789ms\n",
      "18:\tlearn: 9.2115413\ttotal: 94.5ms\tremaining: 701ms\n",
      "21:\tlearn: 9.0556951\ttotal: 101ms\tremaining: 634ms\n",
      "24:\tlearn: 8.9225919\ttotal: 108ms\tremaining: 582ms\n",
      "27:\tlearn: 8.8046311\ttotal: 115ms\tremaining: 541ms\n",
      "30:\tlearn: 8.7069768\ttotal: 122ms\tremaining: 507ms\n",
      "33:\tlearn: 8.6210776\ttotal: 129ms\tremaining: 478ms\n",
      "36:\tlearn: 8.5580201\ttotal: 136ms\tremaining: 452ms\n",
      "39:\tlearn: 8.4748553\ttotal: 143ms\tremaining: 429ms\n",
      "42:\tlearn: 8.3961727\ttotal: 150ms\tremaining: 409ms\n",
      "45:\tlearn: 8.3015564\ttotal: 158ms\tremaining: 391ms\n",
      "48:\tlearn: 8.2386862\ttotal: 165ms\tremaining: 373ms\n",
      "51:\tlearn: 8.1612483\ttotal: 171ms\tremaining: 356ms\n",
      "54:\tlearn: 8.1149964\ttotal: 178ms\tremaining: 339ms\n",
      "57:\tlearn: 8.0595957\ttotal: 184ms\tremaining: 324ms\n",
      "60:\tlearn: 7.9987799\ttotal: 191ms\tremaining: 310ms\n",
      "63:\tlearn: 7.9526877\ttotal: 198ms\tremaining: 296ms\n",
      "66:\tlearn: 7.8904644\ttotal: 204ms\tremaining: 283ms\n",
      "69:\tlearn: 7.8483526\ttotal: 211ms\tremaining: 271ms\n",
      "72:\tlearn: 7.7959772\ttotal: 218ms\tremaining: 259ms\n",
      "75:\tlearn: 7.7517831\ttotal: 225ms\tremaining: 249ms\n",
      "78:\tlearn: 7.7097975\ttotal: 233ms\tremaining: 239ms\n",
      "81:\tlearn: 7.6697732\ttotal: 239ms\tremaining: 227ms\n",
      "84:\tlearn: 7.6420438\ttotal: 246ms\tremaining: 217ms\n",
      "87:\tlearn: 7.6098204\ttotal: 252ms\tremaining: 206ms\n",
      "90:\tlearn: 7.5718393\ttotal: 259ms\tremaining: 197ms\n",
      "93:\tlearn: 7.5299658\ttotal: 266ms\tremaining: 187ms\n",
      "96:\tlearn: 7.5027843\ttotal: 272ms\tremaining: 177ms\n",
      "99:\tlearn: 7.4670864\ttotal: 279ms\tremaining: 167ms\n",
      "102:\tlearn: 7.4360506\ttotal: 286ms\tremaining: 158ms\n",
      "105:\tlearn: 7.3979485\ttotal: 292ms\tremaining: 149ms\n",
      "108:\tlearn: 7.3708059\ttotal: 299ms\tremaining: 140ms\n",
      "111:\tlearn: 7.3395195\ttotal: 306ms\tremaining: 131ms\n",
      "114:\tlearn: 7.3024734\ttotal: 312ms\tremaining: 122ms\n",
      "117:\tlearn: 7.2713797\ttotal: 319ms\tremaining: 114ms\n",
      "120:\tlearn: 7.2369919\ttotal: 326ms\tremaining: 105ms\n",
      "123:\tlearn: 7.2003565\ttotal: 333ms\tremaining: 96.6ms\n",
      "126:\tlearn: 7.1633670\ttotal: 340ms\tremaining: 88.3ms\n",
      "129:\tlearn: 7.1104758\ttotal: 346ms\tremaining: 79.9ms\n",
      "132:\tlearn: 7.0800975\ttotal: 353ms\tremaining: 71.7ms\n",
      "135:\tlearn: 7.0459262\ttotal: 360ms\tremaining: 63.5ms\n",
      "138:\tlearn: 7.0235241\ttotal: 367ms\tremaining: 55.4ms\n",
      "141:\tlearn: 6.9707578\ttotal: 374ms\tremaining: 47.4ms\n",
      "144:\tlearn: 6.9399121\ttotal: 381ms\tremaining: 39.4ms\n",
      "147:\tlearn: 6.8769951\ttotal: 388ms\tremaining: 31.5ms\n",
      "150:\tlearn: 6.8404618\ttotal: 395ms\tremaining: 23.5ms\n",
      "153:\tlearn: 6.8045765\ttotal: 402ms\tremaining: 15.7ms\n",
      "156:\tlearn: 6.7686369\ttotal: 410ms\tremaining: 7.82ms\n",
      "159:\tlearn: 6.7309435\ttotal: 417ms\tremaining: 0us\n",
      "0:\tlearn: 10.8475612\ttotal: 3.57ms\tremaining: 568ms\n",
      "3:\tlearn: 10.3553426\ttotal: 10.9ms\tremaining: 424ms\n",
      "6:\tlearn: 9.9480012\ttotal: 17.8ms\tremaining: 389ms\n",
      "9:\tlearn: 9.6358178\ttotal: 24.7ms\tremaining: 371ms\n",
      "12:\tlearn: 9.3836792\ttotal: 31.6ms\tremaining: 358ms\n",
      "15:\tlearn: 9.1622375\ttotal: 38.6ms\tremaining: 348ms\n",
      "18:\tlearn: 8.9886011\ttotal: 45.4ms\tremaining: 337ms\n",
      "21:\tlearn: 8.8427689\ttotal: 52.2ms\tremaining: 327ms\n",
      "24:\tlearn: 8.7074567\ttotal: 58.8ms\tremaining: 317ms\n",
      "27:\tlearn: 8.5863432\ttotal: 65.7ms\tremaining: 310ms\n",
      "30:\tlearn: 8.4892055\ttotal: 72.5ms\tremaining: 302ms\n",
      "33:\tlearn: 8.4032498\ttotal: 79.5ms\tremaining: 295ms\n",
      "36:\tlearn: 8.3353431\ttotal: 86.5ms\tremaining: 288ms\n",
      "39:\tlearn: 8.2495726\ttotal: 93.4ms\tremaining: 280ms\n",
      "42:\tlearn: 8.1675319\ttotal: 100ms\tremaining: 273ms\n",
      "45:\tlearn: 8.0911728\ttotal: 107ms\tremaining: 266ms\n",
      "48:\tlearn: 8.0419294\ttotal: 114ms\tremaining: 258ms\n",
      "51:\tlearn: 7.9888636\ttotal: 121ms\tremaining: 251ms\n",
      "54:\tlearn: 7.9298226\ttotal: 128ms\tremaining: 245ms\n",
      "57:\tlearn: 7.8842164\ttotal: 136ms\tremaining: 239ms\n",
      "60:\tlearn: 7.8242701\ttotal: 143ms\tremaining: 232ms\n",
      "63:\tlearn: 7.7722217\ttotal: 149ms\tremaining: 224ms\n",
      "66:\tlearn: 7.7360464\ttotal: 156ms\tremaining: 217ms\n",
      "69:\tlearn: 7.6886054\ttotal: 164ms\tremaining: 210ms\n",
      "72:\tlearn: 7.6458971\ttotal: 170ms\tremaining: 203ms\n",
      "75:\tlearn: 7.6098193\ttotal: 178ms\tremaining: 196ms\n",
      "78:\tlearn: 7.5599265\ttotal: 185ms\tremaining: 189ms\n",
      "81:\tlearn: 7.5323143\ttotal: 192ms\tremaining: 182ms\n",
      "84:\tlearn: 7.4972867\ttotal: 199ms\tremaining: 176ms\n",
      "87:\tlearn: 7.4505409\ttotal: 206ms\tremaining: 169ms\n",
      "90:\tlearn: 7.4231568\ttotal: 216ms\tremaining: 164ms\n",
      "93:\tlearn: 7.3797472\ttotal: 226ms\tremaining: 159ms\n",
      "96:\tlearn: 7.3344415\ttotal: 236ms\tremaining: 153ms\n",
      "99:\tlearn: 7.3091253\ttotal: 243ms\tremaining: 146ms\n",
      "102:\tlearn: 7.2768076\ttotal: 250ms\tremaining: 139ms\n",
      "105:\tlearn: 7.2514148\ttotal: 257ms\tremaining: 131ms\n",
      "108:\tlearn: 7.1947672\ttotal: 265ms\tremaining: 124ms\n",
      "111:\tlearn: 7.1581507\ttotal: 272ms\tremaining: 117ms\n",
      "114:\tlearn: 7.1129110\ttotal: 279ms\tremaining: 109ms\n",
      "117:\tlearn: 7.0689933\ttotal: 286ms\tremaining: 102ms\n",
      "120:\tlearn: 7.0163794\ttotal: 293ms\tremaining: 94.3ms\n",
      "123:\tlearn: 6.9838438\ttotal: 299ms\tremaining: 86.9ms\n",
      "126:\tlearn: 6.9568257\ttotal: 306ms\tremaining: 79.5ms\n",
      "129:\tlearn: 6.9227745\ttotal: 313ms\tremaining: 72.2ms\n",
      "132:\tlearn: 6.8597983\ttotal: 320ms\tremaining: 65ms\n",
      "135:\tlearn: 6.8172588\ttotal: 327ms\tremaining: 57.8ms\n",
      "138:\tlearn: 6.7802123\ttotal: 334ms\tremaining: 50.5ms\n",
      "141:\tlearn: 6.7377376\ttotal: 342ms\tremaining: 43.3ms\n",
      "144:\tlearn: 6.6940130\ttotal: 349ms\tremaining: 36.1ms\n",
      "147:\tlearn: 6.6580732\ttotal: 356ms\tremaining: 28.8ms\n",
      "150:\tlearn: 6.6236783\ttotal: 363ms\tremaining: 21.6ms\n",
      "153:\tlearn: 6.5824088\ttotal: 369ms\tremaining: 14.4ms\n",
      "156:\tlearn: 6.5373886\ttotal: 376ms\tremaining: 7.19ms\n",
      "159:\tlearn: 6.4963498\ttotal: 383ms\tremaining: 0us\n",
      "0:\tlearn: 10.8175323\ttotal: 2.82ms\tremaining: 449ms\n",
      "3:\tlearn: 10.2748420\ttotal: 10.4ms\tremaining: 408ms\n",
      "6:\tlearn: 9.8198728\ttotal: 17.9ms\tremaining: 391ms\n",
      "9:\tlearn: 9.4987315\ttotal: 25.2ms\tremaining: 378ms\n",
      "12:\tlearn: 9.2494089\ttotal: 32.3ms\tremaining: 366ms\n",
      "15:\tlearn: 9.0258748\ttotal: 39.7ms\tremaining: 358ms\n",
      "18:\tlearn: 8.8407849\ttotal: 47.4ms\tremaining: 351ms\n",
      "21:\tlearn: 8.6924259\ttotal: 55.3ms\tremaining: 347ms\n",
      "24:\tlearn: 8.5291381\ttotal: 63.2ms\tremaining: 341ms\n",
      "27:\tlearn: 8.3891955\ttotal: 70.6ms\tremaining: 333ms\n",
      "30:\tlearn: 8.2969160\ttotal: 78.2ms\tremaining: 325ms\n",
      "33:\tlearn: 8.1981365\ttotal: 86.5ms\tremaining: 320ms\n",
      "36:\tlearn: 8.0992107\ttotal: 94.8ms\tremaining: 315ms\n",
      "39:\tlearn: 8.0189603\ttotal: 102ms\tremaining: 307ms\n",
      "42:\tlearn: 7.9505875\ttotal: 112ms\tremaining: 305ms\n",
      "45:\tlearn: 7.8703854\ttotal: 119ms\tremaining: 295ms\n",
      "48:\tlearn: 7.8219140\ttotal: 126ms\tremaining: 286ms\n",
      "51:\tlearn: 7.7544752\ttotal: 134ms\tremaining: 278ms\n",
      "54:\tlearn: 7.7020213\ttotal: 144ms\tremaining: 274ms\n",
      "57:\tlearn: 7.6470325\ttotal: 152ms\tremaining: 267ms\n",
      "60:\tlearn: 7.6169851\ttotal: 163ms\tremaining: 264ms\n",
      "63:\tlearn: 7.5639042\ttotal: 172ms\tremaining: 258ms\n",
      "66:\tlearn: 7.5222807\ttotal: 179ms\tremaining: 248ms\n",
      "69:\tlearn: 7.4769085\ttotal: 186ms\tremaining: 240ms\n",
      "72:\tlearn: 7.4167884\ttotal: 194ms\tremaining: 231ms\n",
      "75:\tlearn: 7.3767329\ttotal: 201ms\tremaining: 222ms\n",
      "78:\tlearn: 7.3223166\ttotal: 207ms\tremaining: 213ms\n",
      "81:\tlearn: 7.2853599\ttotal: 215ms\tremaining: 204ms\n",
      "84:\tlearn: 7.2444933\ttotal: 222ms\tremaining: 196ms\n",
      "87:\tlearn: 7.1953609\ttotal: 229ms\tremaining: 187ms\n",
      "90:\tlearn: 7.1557715\ttotal: 236ms\tremaining: 179ms\n",
      "93:\tlearn: 7.1025396\ttotal: 243ms\tremaining: 171ms\n",
      "96:\tlearn: 7.0548804\ttotal: 250ms\tremaining: 163ms\n",
      "99:\tlearn: 7.0194326\ttotal: 257ms\tremaining: 154ms\n",
      "102:\tlearn: 6.9830887\ttotal: 264ms\tremaining: 146ms\n",
      "105:\tlearn: 6.9448208\ttotal: 271ms\tremaining: 138ms\n",
      "108:\tlearn: 6.9110055\ttotal: 278ms\tremaining: 130ms\n",
      "111:\tlearn: 6.8726794\ttotal: 286ms\tremaining: 123ms\n",
      "114:\tlearn: 6.8400644\ttotal: 295ms\tremaining: 115ms\n",
      "117:\tlearn: 6.7989432\ttotal: 302ms\tremaining: 108ms\n",
      "120:\tlearn: 6.7595922\ttotal: 310ms\tremaining: 99.9ms\n",
      "123:\tlearn: 6.7312940\ttotal: 317ms\tremaining: 92ms\n",
      "126:\tlearn: 6.6979155\ttotal: 324ms\tremaining: 84.2ms\n",
      "129:\tlearn: 6.6492835\ttotal: 333ms\tremaining: 77ms\n",
      "132:\tlearn: 6.6062633\ttotal: 341ms\tremaining: 69.2ms\n",
      "135:\tlearn: 6.5602185\ttotal: 352ms\tremaining: 62.1ms\n",
      "138:\tlearn: 6.5144825\ttotal: 361ms\tremaining: 54.6ms\n",
      "141:\tlearn: 6.4891831\ttotal: 368ms\tremaining: 46.6ms\n",
      "144:\tlearn: 6.4575280\ttotal: 374ms\tremaining: 38.7ms\n",
      "147:\tlearn: 6.4404356\ttotal: 381ms\tremaining: 30.9ms\n",
      "150:\tlearn: 6.4108594\ttotal: 388ms\tremaining: 23.1ms\n",
      "153:\tlearn: 6.3814045\ttotal: 395ms\tremaining: 15.4ms\n",
      "156:\tlearn: 6.3558583\ttotal: 402ms\tremaining: 7.68ms\n",
      "159:\tlearn: 6.3145762\ttotal: 409ms\tremaining: 0us\n",
      "0:\tlearn: 10.9852412\ttotal: 2.91ms\tremaining: 463ms\n",
      "3:\tlearn: 10.4880240\ttotal: 10.7ms\tremaining: 419ms\n",
      "6:\tlearn: 10.0812542\ttotal: 18.5ms\tremaining: 404ms\n",
      "9:\tlearn: 9.7585287\ttotal: 26.2ms\tremaining: 393ms\n",
      "12:\tlearn: 9.5008310\ttotal: 33.6ms\tremaining: 380ms\n",
      "15:\tlearn: 9.2962318\ttotal: 41.2ms\tremaining: 371ms\n",
      "18:\tlearn: 9.1445125\ttotal: 49ms\tremaining: 364ms\n",
      "21:\tlearn: 9.0019131\ttotal: 56.6ms\tremaining: 355ms\n",
      "24:\tlearn: 8.8904235\ttotal: 64.1ms\tremaining: 346ms\n",
      "27:\tlearn: 8.7582422\ttotal: 71.9ms\tremaining: 339ms\n",
      "30:\tlearn: 8.6590358\ttotal: 79.2ms\tremaining: 330ms\n",
      "33:\tlearn: 8.5651445\ttotal: 86.8ms\tremaining: 322ms\n",
      "36:\tlearn: 8.4714783\ttotal: 94.1ms\tremaining: 313ms\n",
      "39:\tlearn: 8.3956582\ttotal: 102ms\tremaining: 305ms\n",
      "42:\tlearn: 8.3233852\ttotal: 110ms\tremaining: 299ms\n",
      "45:\tlearn: 8.2645056\ttotal: 119ms\tremaining: 296ms\n",
      "48:\tlearn: 8.2110035\ttotal: 127ms\tremaining: 289ms\n",
      "51:\tlearn: 8.1584037\ttotal: 135ms\tremaining: 281ms\n",
      "54:\tlearn: 8.1065321\ttotal: 145ms\tremaining: 277ms\n",
      "57:\tlearn: 8.0525071\ttotal: 156ms\tremaining: 275ms\n",
      "60:\tlearn: 8.0171318\ttotal: 170ms\tremaining: 275ms\n",
      "63:\tlearn: 7.9785124\ttotal: 180ms\tremaining: 270ms\n",
      "66:\tlearn: 7.9345314\ttotal: 189ms\tremaining: 262ms\n",
      "69:\tlearn: 7.8937791\ttotal: 198ms\tremaining: 255ms\n",
      "72:\tlearn: 7.8461788\ttotal: 207ms\tremaining: 247ms\n",
      "75:\tlearn: 7.8171900\ttotal: 215ms\tremaining: 238ms\n",
      "78:\tlearn: 7.7764484\ttotal: 226ms\tremaining: 231ms\n",
      "81:\tlearn: 7.7359209\ttotal: 237ms\tremaining: 225ms\n",
      "84:\tlearn: 7.6834403\ttotal: 249ms\tremaining: 219ms\n",
      "87:\tlearn: 7.6394191\ttotal: 260ms\tremaining: 213ms\n",
      "90:\tlearn: 7.5996567\ttotal: 270ms\tremaining: 204ms\n",
      "93:\tlearn: 7.5501764\ttotal: 278ms\tremaining: 195ms\n",
      "96:\tlearn: 7.5018857\ttotal: 287ms\tremaining: 186ms\n",
      "99:\tlearn: 7.4736545\ttotal: 296ms\tremaining: 178ms\n",
      "102:\tlearn: 7.4300416\ttotal: 306ms\tremaining: 169ms\n",
      "105:\tlearn: 7.3893856\ttotal: 316ms\tremaining: 161ms\n",
      "108:\tlearn: 7.3500883\ttotal: 325ms\tremaining: 152ms\n",
      "111:\tlearn: 7.3174937\ttotal: 335ms\tremaining: 144ms\n",
      "114:\tlearn: 7.2719592\ttotal: 346ms\tremaining: 135ms\n",
      "117:\tlearn: 7.2452861\ttotal: 356ms\tremaining: 127ms\n",
      "120:\tlearn: 7.2034472\ttotal: 366ms\tremaining: 118ms\n",
      "123:\tlearn: 7.1604372\ttotal: 377ms\tremaining: 109ms\n",
      "126:\tlearn: 7.1140701\ttotal: 387ms\tremaining: 101ms\n",
      "129:\tlearn: 7.0718616\ttotal: 398ms\tremaining: 91.9ms\n",
      "132:\tlearn: 7.0369944\ttotal: 409ms\tremaining: 83ms\n",
      "135:\tlearn: 7.0102632\ttotal: 417ms\tremaining: 73.6ms\n",
      "138:\tlearn: 6.9828132\ttotal: 425ms\tremaining: 64.2ms\n",
      "141:\tlearn: 6.9272746\ttotal: 432ms\tremaining: 54.8ms\n",
      "144:\tlearn: 6.8922350\ttotal: 440ms\tremaining: 45.5ms\n",
      "147:\tlearn: 6.8654738\ttotal: 447ms\tremaining: 36.3ms\n",
      "150:\tlearn: 6.8245594\ttotal: 455ms\tremaining: 27.1ms\n",
      "153:\tlearn: 6.7911581\ttotal: 462ms\tremaining: 18ms\n",
      "156:\tlearn: 6.7620359\ttotal: 469ms\tremaining: 8.97ms\n",
      "159:\tlearn: 6.7217673\ttotal: 477ms\tremaining: 0us\n",
      "0:\tlearn: 11.1910458\ttotal: 2.9ms\tremaining: 460ms\n",
      "3:\tlearn: 10.6434272\ttotal: 11ms\tremaining: 429ms\n",
      "6:\tlearn: 10.2201054\ttotal: 18.8ms\tremaining: 410ms\n",
      "9:\tlearn: 9.8692964\ttotal: 26.5ms\tremaining: 397ms\n",
      "12:\tlearn: 9.5993390\ttotal: 34ms\tremaining: 384ms\n",
      "15:\tlearn: 9.3753828\ttotal: 41.5ms\tremaining: 373ms\n",
      "18:\tlearn: 9.2203335\ttotal: 49.3ms\tremaining: 366ms\n",
      "21:\tlearn: 9.0524452\ttotal: 57.2ms\tremaining: 359ms\n",
      "24:\tlearn: 8.8978686\ttotal: 66ms\tremaining: 356ms\n",
      "27:\tlearn: 8.7761248\ttotal: 73.9ms\tremaining: 349ms\n",
      "30:\tlearn: 8.6548891\ttotal: 81.8ms\tremaining: 340ms\n",
      "33:\tlearn: 8.5616322\ttotal: 89.8ms\tremaining: 333ms\n",
      "36:\tlearn: 8.4654387\ttotal: 98.2ms\tremaining: 326ms\n",
      "39:\tlearn: 8.3893828\ttotal: 106ms\tremaining: 317ms\n",
      "42:\tlearn: 8.3166213\ttotal: 113ms\tremaining: 307ms\n",
      "45:\tlearn: 8.2533931\ttotal: 120ms\tremaining: 297ms\n",
      "48:\tlearn: 8.2045935\ttotal: 127ms\tremaining: 288ms\n",
      "51:\tlearn: 8.1435485\ttotal: 134ms\tremaining: 279ms\n",
      "54:\tlearn: 8.0901787\ttotal: 142ms\tremaining: 271ms\n",
      "57:\tlearn: 8.0240980\ttotal: 149ms\tremaining: 262ms\n",
      "60:\tlearn: 7.9798544\ttotal: 158ms\tremaining: 256ms\n",
      "63:\tlearn: 7.9259647\ttotal: 165ms\tremaining: 248ms\n",
      "66:\tlearn: 7.8836337\ttotal: 173ms\tremaining: 241ms\n",
      "69:\tlearn: 7.8340148\ttotal: 181ms\tremaining: 233ms\n",
      "72:\tlearn: 7.7894159\ttotal: 189ms\tremaining: 225ms\n",
      "75:\tlearn: 7.7395682\ttotal: 196ms\tremaining: 217ms\n",
      "78:\tlearn: 7.6862435\ttotal: 204ms\tremaining: 209ms\n",
      "81:\tlearn: 7.6460057\ttotal: 211ms\tremaining: 201ms\n",
      "84:\tlearn: 7.6179690\ttotal: 219ms\tremaining: 194ms\n",
      "87:\tlearn: 7.5744025\ttotal: 228ms\tremaining: 187ms\n",
      "90:\tlearn: 7.5248242\ttotal: 237ms\tremaining: 180ms\n",
      "93:\tlearn: 7.4822714\ttotal: 245ms\tremaining: 172ms\n",
      "96:\tlearn: 7.4534451\ttotal: 253ms\tremaining: 164ms\n",
      "99:\tlearn: 7.4002500\ttotal: 260ms\tremaining: 156ms\n",
      "102:\tlearn: 7.3594415\ttotal: 267ms\tremaining: 148ms\n",
      "105:\tlearn: 7.3057789\ttotal: 274ms\tremaining: 140ms\n",
      "108:\tlearn: 7.2561957\ttotal: 282ms\tremaining: 132ms\n",
      "111:\tlearn: 7.2223688\ttotal: 289ms\tremaining: 124ms\n",
      "114:\tlearn: 7.1813472\ttotal: 296ms\tremaining: 116ms\n",
      "117:\tlearn: 7.1323837\ttotal: 303ms\tremaining: 108ms\n",
      "120:\tlearn: 7.1015036\ttotal: 311ms\tremaining: 100ms\n",
      "123:\tlearn: 7.0741399\ttotal: 318ms\tremaining: 92.3ms\n",
      "126:\tlearn: 7.0458539\ttotal: 325ms\tremaining: 84.5ms\n",
      "129:\tlearn: 7.0068997\ttotal: 333ms\tremaining: 76.8ms\n",
      "132:\tlearn: 6.9504753\ttotal: 340ms\tremaining: 69.1ms\n",
      "135:\tlearn: 6.9222734\ttotal: 347ms\tremaining: 61.3ms\n",
      "138:\tlearn: 6.8774498\ttotal: 355ms\tremaining: 53.6ms\n",
      "141:\tlearn: 6.8181055\ttotal: 362ms\tremaining: 45.9ms\n",
      "144:\tlearn: 6.7853078\ttotal: 370ms\tremaining: 38.2ms\n",
      "147:\tlearn: 6.7373871\ttotal: 377ms\tremaining: 30.5ms\n",
      "150:\tlearn: 6.6994308\ttotal: 383ms\tremaining: 22.8ms\n",
      "153:\tlearn: 6.6800241\ttotal: 391ms\tremaining: 15.2ms\n",
      "156:\tlearn: 6.6288082\ttotal: 398ms\tremaining: 7.6ms\n",
      "159:\tlearn: 6.6109594\ttotal: 405ms\tremaining: 0us\n"
     ]
    }
   ],
   "source": [
    "catboost = CatBoostRegressor(iterations=160, learning_rate=0.08, verbose=3)\n",
    "cv_cb= cross_validate(catboost, features_train, target_train, scoring='neg_mean_absolute_error')"
   ]
  },
  {
   "cell_type": "code",
   "execution_count": 77,
   "id": "dd5bbe23",
   "metadata": {},
   "outputs": [
    {
     "data": {
      "text/plain": [
       "-6.778599937869603"
      ]
     },
     "execution_count": 77,
     "metadata": {},
     "output_type": "execute_result"
    }
   ],
   "source": [
    "cv_cb['test_score'].mean()"
   ]
  },
  {
   "cell_type": "code",
   "execution_count": 78,
   "id": "f6e2b970",
   "metadata": {},
   "outputs": [
    {
     "data": {
      "text/html": [
       "<div>\n",
       "<style scoped>\n",
       "    .dataframe tbody tr th:only-of-type {\n",
       "        vertical-align: middle;\n",
       "    }\n",
       "\n",
       "    .dataframe tbody tr th {\n",
       "        vertical-align: top;\n",
       "    }\n",
       "\n",
       "    .dataframe thead th {\n",
       "        text-align: right;\n",
       "    }\n",
       "</style>\n",
       "<table border=\"1\" class=\"dataframe\">\n",
       "  <thead>\n",
       "    <tr style=\"text-align: right;\">\n",
       "      <th></th>\n",
       "      <th>Качество модели MAE</th>\n",
       "    </tr>\n",
       "  </thead>\n",
       "  <tbody>\n",
       "    <tr>\n",
       "      <th>Линейная регрессия</th>\n",
       "      <td>6.947913</td>\n",
       "    </tr>\n",
       "    <tr>\n",
       "      <th>Случайный лес</th>\n",
       "      <td>6.934365</td>\n",
       "    </tr>\n",
       "    <tr>\n",
       "      <th>CatBoost</th>\n",
       "      <td>6.778600</td>\n",
       "    </tr>\n",
       "  </tbody>\n",
       "</table>\n",
       "</div>"
      ],
      "text/plain": [
       "                    Качество модели MAE\n",
       "Линейная регрессия             6.947913\n",
       "Случайный лес                  6.934365\n",
       "CatBoost                       6.778600"
      ]
     },
     "execution_count": 78,
     "metadata": {},
     "output_type": "execute_result"
    }
   ],
   "source": [
    "pd.DataFrame({'Качество модели MAE':[model_lr_mae_cv,rf_study.best_value*-1,cv_cb['test_score'].mean()*-1]},\n",
    "            index=['Линейная регрессия', 'Случайный лес', 'CatBoost'])"
   ]
  },
  {
   "cell_type": "code",
   "execution_count": 85,
   "id": "4505e45a",
   "metadata": {},
   "outputs": [
    {
     "name": "stdout",
     "output_type": "stream",
     "text": [
      "0:\tlearn: 10.9816224\ttotal: 3.2ms\tremaining: 509ms\n",
      "3:\tlearn: 10.4690367\ttotal: 11.8ms\tremaining: 459ms\n",
      "6:\tlearn: 10.0692527\ttotal: 20.3ms\tremaining: 443ms\n",
      "9:\tlearn: 9.7558413\ttotal: 28.5ms\tremaining: 427ms\n",
      "12:\tlearn: 9.5319598\ttotal: 40.6ms\tremaining: 460ms\n",
      "15:\tlearn: 9.3057229\ttotal: 54.3ms\tremaining: 489ms\n",
      "18:\tlearn: 9.1277979\ttotal: 67.4ms\tremaining: 500ms\n",
      "21:\tlearn: 8.9762699\ttotal: 76.7ms\tremaining: 481ms\n",
      "24:\tlearn: 8.8561193\ttotal: 87.1ms\tremaining: 470ms\n",
      "27:\tlearn: 8.7340350\ttotal: 95.6ms\tremaining: 451ms\n",
      "30:\tlearn: 8.6257611\ttotal: 104ms\tremaining: 432ms\n",
      "33:\tlearn: 8.5418155\ttotal: 112ms\tremaining: 414ms\n",
      "36:\tlearn: 8.4548220\ttotal: 120ms\tremaining: 399ms\n",
      "39:\tlearn: 8.3829302\ttotal: 128ms\tremaining: 384ms\n",
      "42:\tlearn: 8.3198907\ttotal: 136ms\tremaining: 371ms\n",
      "45:\tlearn: 8.2500875\ttotal: 144ms\tremaining: 358ms\n",
      "48:\tlearn: 8.1957846\ttotal: 152ms\tremaining: 345ms\n",
      "51:\tlearn: 8.1342168\ttotal: 160ms\tremaining: 333ms\n",
      "54:\tlearn: 8.0826026\ttotal: 168ms\tremaining: 321ms\n",
      "57:\tlearn: 8.0470635\ttotal: 177ms\tremaining: 312ms\n",
      "60:\tlearn: 8.0148068\ttotal: 185ms\tremaining: 300ms\n",
      "63:\tlearn: 7.9607292\ttotal: 193ms\tremaining: 289ms\n",
      "66:\tlearn: 7.9108677\ttotal: 200ms\tremaining: 278ms\n",
      "69:\tlearn: 7.8584739\ttotal: 208ms\tremaining: 268ms\n",
      "72:\tlearn: 7.8171564\ttotal: 216ms\tremaining: 258ms\n",
      "75:\tlearn: 7.7867646\ttotal: 224ms\tremaining: 248ms\n",
      "78:\tlearn: 7.7436207\ttotal: 232ms\tremaining: 238ms\n",
      "81:\tlearn: 7.7122769\ttotal: 240ms\tremaining: 228ms\n",
      "84:\tlearn: 7.6784049\ttotal: 248ms\tremaining: 219ms\n",
      "87:\tlearn: 7.6340158\ttotal: 256ms\tremaining: 209ms\n",
      "90:\tlearn: 7.5924531\ttotal: 264ms\tremaining: 200ms\n",
      "93:\tlearn: 7.5562509\ttotal: 272ms\tremaining: 191ms\n",
      "96:\tlearn: 7.5261238\ttotal: 280ms\tremaining: 182ms\n",
      "99:\tlearn: 7.4841169\ttotal: 288ms\tremaining: 173ms\n",
      "102:\tlearn: 7.4525000\ttotal: 296ms\tremaining: 164ms\n",
      "105:\tlearn: 7.4247817\ttotal: 304ms\tremaining: 155ms\n",
      "108:\tlearn: 7.3830809\ttotal: 311ms\tremaining: 146ms\n",
      "111:\tlearn: 7.3377844\ttotal: 319ms\tremaining: 137ms\n",
      "114:\tlearn: 7.3050739\ttotal: 327ms\tremaining: 128ms\n",
      "117:\tlearn: 7.2617810\ttotal: 336ms\tremaining: 119ms\n",
      "120:\tlearn: 7.2344064\ttotal: 343ms\tremaining: 111ms\n",
      "123:\tlearn: 7.2009057\ttotal: 351ms\tremaining: 102ms\n",
      "126:\tlearn: 7.1613043\ttotal: 360ms\tremaining: 93.4ms\n",
      "129:\tlearn: 7.1248902\ttotal: 368ms\tremaining: 84.9ms\n",
      "132:\tlearn: 7.0803996\ttotal: 377ms\tremaining: 76.5ms\n",
      "135:\tlearn: 7.0422402\ttotal: 385ms\tremaining: 67.9ms\n",
      "138:\tlearn: 7.0046535\ttotal: 393ms\tremaining: 59.3ms\n",
      "141:\tlearn: 6.9579064\ttotal: 401ms\tremaining: 50.9ms\n",
      "144:\tlearn: 6.9381717\ttotal: 409ms\tremaining: 42.4ms\n",
      "147:\tlearn: 6.8976695\ttotal: 418ms\tremaining: 33.9ms\n",
      "150:\tlearn: 6.8571368\ttotal: 426ms\tremaining: 25.4ms\n",
      "153:\tlearn: 6.8425183\ttotal: 434ms\tremaining: 16.9ms\n",
      "156:\tlearn: 6.8120624\ttotal: 442ms\tremaining: 8.44ms\n",
      "159:\tlearn: 6.7655144\ttotal: 450ms\tremaining: 0us\n"
     ]
    }
   ],
   "source": [
    "model_catboost = CatBoostRegressor(iterations=160, learning_rate=0.08, verbose=3).fit(features_train, target_train)"
   ]
  },
  {
   "cell_type": "code",
   "execution_count": 96,
   "id": "8c75dfd7",
   "metadata": {},
   "outputs": [
    {
     "data": {
      "text/plain": [
       "Text(0.5, 1.0, 'Важность признаков')"
      ]
     },
     "execution_count": 96,
     "metadata": {},
     "output_type": "execute_result"
    },
    {
     "data": {
      "image/png": "[encoded data removed]",
      "text/plain": [
       "<Figure size 864x432 with 1 Axes>"
      ]
     },
     "metadata": {
      "needs_background": "light"
     },
     "output_type": "display_data"
    }
   ],
   "source": [
    "feature_importance = model_catboost.feature_importances_\n",
    "sorted_idx = np.argsort(feature_importance)\n",
    "fig = plt.figure(figsize=(12, 6))\n",
    "plt.barh(range(len(sorted_idx)), feature_importance[sorted_idx], align='center')\n",
    "plt.yticks(range(len(sorted_idx)), np.array(features_train.columns)[sorted_idx])\n",
    "plt.title('Важность признаков')\n"
   ]
  },
  {
   "cell_type": "markdown",
   "id": "43279f46",
   "metadata": {},
   "source": [
    "Наилучший показатель при кросс-валидации у модели catboost, mae=6.78. Линейная регрессия и случайный лес находятся на одном уровне. Самым важным призанком является начальная температура. Наименее важным является bulk10"
   ]
  },
  {
   "cell_type": "markdown",
   "id": "fb03f4dc",
   "metadata": {},
   "source": [
    "# 5. Проверка моделей на тестовой выборке"
   ]
  },
  {
   "cell_type": "code",
   "execution_count": 74,
   "id": "8ae07cfe",
   "metadata": {},
   "outputs": [],
   "source": [
    "#функция для расчёта MAE\n",
    "def mae_calculate(model, test_features, test_target):\n",
    "    return mean_absolute_error(test_target, model.predict(test_features))"
   ]
  },
  {
   "cell_type": "code",
   "execution_count": 75,
   "id": "77aceee8",
   "metadata": {},
   "outputs": [
    {
     "name": "stdout",
     "output_type": "stream",
     "text": [
      "0:\tlearn: 10.9816224\ttotal: 53.4ms\tremaining: 8.49s\n",
      "3:\tlearn: 10.4690367\ttotal: 68.1ms\tremaining: 2.65s\n",
      "6:\tlearn: 10.0692527\ttotal: 81.9ms\tremaining: 1.79s\n",
      "9:\tlearn: 9.7558413\ttotal: 148ms\tremaining: 2.22s\n",
      "12:\tlearn: 9.5319598\ttotal: 161ms\tremaining: 1.82s\n",
      "15:\tlearn: 9.3057229\ttotal: 174ms\tremaining: 1.56s\n",
      "18:\tlearn: 9.1277979\ttotal: 238ms\tremaining: 1.76s\n",
      "21:\tlearn: 8.9762699\ttotal: 252ms\tremaining: 1.58s\n",
      "24:\tlearn: 8.8561193\ttotal: 264ms\tremaining: 1.43s\n",
      "27:\tlearn: 8.7340350\ttotal: 277ms\tremaining: 1.3s\n",
      "30:\tlearn: 8.6257611\ttotal: 289ms\tremaining: 1.2s\n",
      "33:\tlearn: 8.5418155\ttotal: 302ms\tremaining: 1.12s\n",
      "36:\tlearn: 8.4548220\ttotal: 316ms\tremaining: 1.05s\n",
      "39:\tlearn: 8.3829302\ttotal: 381ms\tremaining: 1.14s\n",
      "42:\tlearn: 8.3198907\ttotal: 395ms\tremaining: 1.07s\n",
      "45:\tlearn: 8.2500875\ttotal: 409ms\tremaining: 1.01s\n",
      "48:\tlearn: 8.1957846\ttotal: 422ms\tremaining: 956ms\n",
      "51:\tlearn: 8.1342168\ttotal: 488ms\tremaining: 1.01s\n",
      "54:\tlearn: 8.0826026\ttotal: 502ms\tremaining: 958ms\n",
      "57:\tlearn: 8.0470635\ttotal: 515ms\tremaining: 906ms\n",
      "60:\tlearn: 8.0148068\ttotal: 575ms\tremaining: 934ms\n",
      "63:\tlearn: 7.9607292\ttotal: 590ms\tremaining: 885ms\n",
      "66:\tlearn: 7.9108677\ttotal: 604ms\tremaining: 838ms\n",
      "69:\tlearn: 7.8584739\ttotal: 664ms\tremaining: 854ms\n",
      "72:\tlearn: 7.8171564\ttotal: 678ms\tremaining: 808ms\n",
      "75:\tlearn: 7.7867646\ttotal: 691ms\tremaining: 764ms\n",
      "78:\tlearn: 7.7436207\ttotal: 705ms\tremaining: 723ms\n",
      "81:\tlearn: 7.7122769\ttotal: 718ms\tremaining: 683ms\n",
      "84:\tlearn: 7.6784049\ttotal: 731ms\tremaining: 645ms\n",
      "87:\tlearn: 7.6340158\ttotal: 743ms\tremaining: 608ms\n",
      "90:\tlearn: 7.5924531\ttotal: 756ms\tremaining: 573ms\n",
      "93:\tlearn: 7.5562509\ttotal: 769ms\tremaining: 540ms\n",
      "96:\tlearn: 7.5261238\ttotal: 784ms\tremaining: 509ms\n",
      "99:\tlearn: 7.4841169\ttotal: 852ms\tremaining: 511ms\n",
      "102:\tlearn: 7.4525000\ttotal: 867ms\tremaining: 480ms\n",
      "105:\tlearn: 7.4247817\ttotal: 879ms\tremaining: 448ms\n",
      "108:\tlearn: 7.3830809\ttotal: 935ms\tremaining: 438ms\n",
      "111:\tlearn: 7.3377844\ttotal: 943ms\tremaining: 404ms\n",
      "114:\tlearn: 7.3050739\ttotal: 952ms\tremaining: 372ms\n",
      "117:\tlearn: 7.2617810\ttotal: 959ms\tremaining: 341ms\n",
      "120:\tlearn: 7.2344064\ttotal: 966ms\tremaining: 312ms\n",
      "123:\tlearn: 7.2009057\ttotal: 974ms\tremaining: 283ms\n",
      "126:\tlearn: 7.1613043\ttotal: 1.03s\tremaining: 269ms\n",
      "129:\tlearn: 7.1248902\ttotal: 1.05s\tremaining: 242ms\n",
      "132:\tlearn: 7.0803996\ttotal: 1.06s\tremaining: 216ms\n",
      "135:\tlearn: 7.0422402\ttotal: 1.12s\tremaining: 198ms\n",
      "138:\tlearn: 7.0046535\ttotal: 1.14s\tremaining: 172ms\n",
      "141:\tlearn: 6.9579064\ttotal: 1.15s\tremaining: 146ms\n",
      "144:\tlearn: 6.9381717\ttotal: 1.21s\tremaining: 126ms\n",
      "147:\tlearn: 6.8976695\ttotal: 1.23s\tremaining: 99.5ms\n",
      "150:\tlearn: 6.8571368\ttotal: 1.24s\tremaining: 74ms\n",
      "153:\tlearn: 6.8425183\ttotal: 1.25s\tremaining: 48.9ms\n",
      "156:\tlearn: 6.8120624\ttotal: 1.27s\tremaining: 24.2ms\n",
      "159:\tlearn: 6.7655144\ttotal: 1.28s\tremaining: 0us\n"
     ]
    }
   ],
   "source": [
    "model_catboost = CatBoostRegressor(iterations=160, learning_rate=0.08, verbose=3).fit(features_train, target_train)"
   ]
  },
  {
   "cell_type": "code",
   "execution_count": 76,
   "id": "6bbe6c42",
   "metadata": {},
   "outputs": [
    {
     "data": {
      "text/html": [
       "<div>\n",
       "<style scoped>\n",
       "    .dataframe tbody tr th:only-of-type {\n",
       "        vertical-align: middle;\n",
       "    }\n",
       "\n",
       "    .dataframe tbody tr th {\n",
       "        vertical-align: top;\n",
       "    }\n",
       "\n",
       "    .dataframe thead th {\n",
       "        text-align: right;\n",
       "    }\n",
       "</style>\n",
       "<table border=\"1\" class=\"dataframe\">\n",
       "  <thead>\n",
       "    <tr style=\"text-align: right;\">\n",
       "      <th></th>\n",
       "      <th>Качество модели MAE на тесте</th>\n",
       "    </tr>\n",
       "  </thead>\n",
       "  <tbody>\n",
       "    <tr>\n",
       "      <th>CatBoost</th>\n",
       "      <td>6.7541</td>\n",
       "    </tr>\n",
       "  </tbody>\n",
       "</table>\n",
       "</div>"
      ],
      "text/plain": [
       "          Качество модели MAE на тесте\n",
       "CatBoost                        6.7541"
      ]
     },
     "execution_count": 76,
     "metadata": {},
     "output_type": "execute_result"
    }
   ],
   "source": [
    "pd.DataFrame({'Качество модели MAE на тесте':[mae_calculate(model_catboost, features_test, target_test)]},\n",
    "            index=['CatBoost'])"
   ]
  },
  {
   "cell_type": "markdown",
   "id": "8cdbea84",
   "metadata": {},
   "source": [
    "<b>Вывод:</b>\n",
    "   - Наилучший показатель на тестовой выборки у модели catboost. Для расчёта конечной температуры заказчику необходимо использовать модель catboost MAE < 6.8."
   ]
  },
  {
   "cell_type": "code",
   "execution_count": null,
   "id": "5d698607",
   "metadata": {},
   "outputs": [],
   "source": []
  }
 ],
 "metadata": {
  "ExecuteTimeLog": [
   {
    "duration": 721,
    "start_time": "2023-06-07T11:13:01.372Z"
   },
   {
    "duration": 444,
    "start_time": "2023-06-07T11:13:02.425Z"
   },
   {
    "duration": 13,
    "start_time": "2023-06-07T11:13:04.865Z"
   },
   {
    "duration": 151,
    "start_time": "2023-06-07T11:13:05.297Z"
   },
   {
    "duration": 4,
    "start_time": "2023-06-07T11:14:00.147Z"
   },
   {
    "duration": 523,
    "start_time": "2023-06-07T11:14:00.154Z"
   },
   {
    "duration": 14,
    "start_time": "2023-06-07T11:14:00.679Z"
   },
   {
    "duration": 200,
    "start_time": "2023-06-07T11:14:00.694Z"
   },
   {
    "duration": 14,
    "start_time": "2023-06-07T11:14:00.897Z"
   },
   {
    "duration": 50,
    "start_time": "2023-06-07T11:14:00.913Z"
   },
   {
    "duration": 180,
    "start_time": "2023-06-07T11:14:00.965Z"
   },
   {
    "duration": 179,
    "start_time": "2023-06-07T11:14:01.147Z"
   },
   {
    "duration": 7,
    "start_time": "2023-06-07T11:14:01.328Z"
   },
   {
    "duration": 256,
    "start_time": "2023-06-07T11:14:01.345Z"
   },
   {
    "duration": 18,
    "start_time": "2023-06-07T11:14:01.602Z"
   },
   {
    "duration": 70,
    "start_time": "2023-06-07T11:14:01.622Z"
   },
   {
    "duration": 39,
    "start_time": "2023-06-07T11:14:01.693Z"
   },
   {
    "duration": 38,
    "start_time": "2023-06-07T11:14:01.735Z"
   },
   {
    "duration": 210,
    "start_time": "2023-06-07T11:14:01.775Z"
   },
   {
    "duration": 12,
    "start_time": "2023-06-07T11:14:01.987Z"
   },
   {
    "duration": 77,
    "start_time": "2023-06-07T11:14:02.001Z"
   },
   {
    "duration": 39,
    "start_time": "2023-06-07T11:14:02.080Z"
   },
   {
    "duration": 51,
    "start_time": "2023-06-07T11:14:02.121Z"
   },
   {
    "duration": 123,
    "start_time": "2023-06-07T11:14:02.173Z"
   },
   {
    "duration": 175,
    "start_time": "2023-06-07T11:14:02.299Z"
   },
   {
    "duration": 10,
    "start_time": "2023-06-07T11:14:02.477Z"
   },
   {
    "duration": 47,
    "start_time": "2023-06-07T11:14:02.489Z"
   },
   {
    "duration": 45,
    "start_time": "2023-06-07T11:14:02.539Z"
   },
   {
    "duration": 375,
    "start_time": "2023-06-07T11:14:02.586Z"
   },
   {
    "duration": 12,
    "start_time": "2023-06-07T11:14:02.963Z"
   },
   {
    "duration": 54,
    "start_time": "2023-06-07T11:14:02.977Z"
   },
   {
    "duration": 65,
    "start_time": "2023-06-07T11:14:03.033Z"
   },
   {
    "duration": 183,
    "start_time": "2023-06-07T11:14:03.100Z"
   },
   {
    "duration": 28,
    "start_time": "2023-06-07T11:14:03.284Z"
   },
   {
    "duration": 9,
    "start_time": "2023-06-07T11:14:03.313Z"
   },
   {
    "duration": 139,
    "start_time": "2023-06-07T11:14:48.978Z"
   },
   {
    "duration": 879,
    "start_time": "2023-06-07T12:35:00.080Z"
   },
   {
    "duration": 892,
    "start_time": "2023-06-07T12:35:00.962Z"
   },
   {
    "duration": 14,
    "start_time": "2023-06-07T12:35:01.855Z"
   },
   {
    "duration": 182,
    "start_time": "2023-06-07T12:35:01.872Z"
   },
   {
    "duration": 14,
    "start_time": "2023-06-07T12:35:02.056Z"
   },
   {
    "duration": 19,
    "start_time": "2023-06-07T12:35:02.072Z"
   },
   {
    "duration": 184,
    "start_time": "2023-06-07T12:35:02.093Z"
   },
   {
    "duration": 158,
    "start_time": "2023-06-07T12:35:02.278Z"
   },
   {
    "duration": 7,
    "start_time": "2023-06-07T12:35:02.441Z"
   },
   {
    "duration": 228,
    "start_time": "2023-06-07T12:35:02.450Z"
   },
   {
    "duration": 0,
    "start_time": "2023-06-07T12:35:02.679Z"
   },
   {
    "duration": 0,
    "start_time": "2023-06-07T12:35:02.681Z"
   },
   {
    "duration": 0,
    "start_time": "2023-06-07T12:35:02.682Z"
   },
   {
    "duration": 0,
    "start_time": "2023-06-07T12:35:02.683Z"
   },
   {
    "duration": 0,
    "start_time": "2023-06-07T12:35:02.684Z"
   },
   {
    "duration": 0,
    "start_time": "2023-06-07T12:35:02.685Z"
   },
   {
    "duration": 0,
    "start_time": "2023-06-07T12:35:02.685Z"
   },
   {
    "duration": 0,
    "start_time": "2023-06-07T12:35:02.686Z"
   },
   {
    "duration": 0,
    "start_time": "2023-06-07T12:35:02.687Z"
   },
   {
    "duration": 0,
    "start_time": "2023-06-07T12:35:02.688Z"
   },
   {
    "duration": 0,
    "start_time": "2023-06-07T12:35:02.689Z"
   },
   {
    "duration": 0,
    "start_time": "2023-06-07T12:35:02.690Z"
   },
   {
    "duration": 0,
    "start_time": "2023-06-07T12:35:02.691Z"
   },
   {
    "duration": 0,
    "start_time": "2023-06-07T12:35:02.692Z"
   },
   {
    "duration": 0,
    "start_time": "2023-06-07T12:35:02.693Z"
   },
   {
    "duration": 0,
    "start_time": "2023-06-07T12:35:02.693Z"
   },
   {
    "duration": 0,
    "start_time": "2023-06-07T12:35:02.694Z"
   },
   {
    "duration": 0,
    "start_time": "2023-06-07T12:35:02.695Z"
   },
   {
    "duration": 0,
    "start_time": "2023-06-07T12:35:02.696Z"
   },
   {
    "duration": 0,
    "start_time": "2023-06-07T12:35:02.697Z"
   },
   {
    "duration": 0,
    "start_time": "2023-06-07T12:35:02.698Z"
   },
   {
    "duration": 244,
    "start_time": "2023-06-07T12:35:15.843Z"
   },
   {
    "duration": 816,
    "start_time": "2023-06-07T12:35:24.239Z"
   },
   {
    "duration": 405,
    "start_time": "2023-06-07T12:35:25.057Z"
   },
   {
    "duration": 14,
    "start_time": "2023-06-07T12:35:25.464Z"
   },
   {
    "duration": 169,
    "start_time": "2023-06-07T12:35:25.480Z"
   },
   {
    "duration": 13,
    "start_time": "2023-06-07T12:35:25.651Z"
   },
   {
    "duration": 20,
    "start_time": "2023-06-07T12:35:25.665Z"
   },
   {
    "duration": 192,
    "start_time": "2023-06-07T12:35:25.686Z"
   },
   {
    "duration": 178,
    "start_time": "2023-06-07T12:35:25.880Z"
   },
   {
    "duration": 8,
    "start_time": "2023-06-07T12:35:26.059Z"
   },
   {
    "duration": 188,
    "start_time": "2023-06-07T12:35:26.070Z"
   },
   {
    "duration": 16,
    "start_time": "2023-06-07T12:35:26.259Z"
   },
   {
    "duration": 21,
    "start_time": "2023-06-07T12:35:26.276Z"
   },
   {
    "duration": 19,
    "start_time": "2023-06-07T12:35:26.299Z"
   },
   {
    "duration": 83,
    "start_time": "2023-06-07T12:35:26.320Z"
   },
   {
    "duration": 196,
    "start_time": "2023-06-07T12:35:26.405Z"
   },
   {
    "duration": 10,
    "start_time": "2023-06-07T12:35:26.603Z"
   },
   {
    "duration": 11,
    "start_time": "2023-06-07T12:35:26.615Z"
   },
   {
    "duration": 11,
    "start_time": "2023-06-07T12:35:26.642Z"
   },
   {
    "duration": 20,
    "start_time": "2023-06-07T12:35:26.654Z"
   },
   {
    "duration": 11,
    "start_time": "2023-06-07T12:35:26.676Z"
   },
   {
    "duration": 177,
    "start_time": "2023-06-07T12:35:26.689Z"
   },
   {
    "duration": 10,
    "start_time": "2023-06-07T12:35:26.867Z"
   },
   {
    "duration": 13,
    "start_time": "2023-06-07T12:35:26.879Z"
   },
   {
    "duration": 14,
    "start_time": "2023-06-07T12:35:26.894Z"
   },
   {
    "duration": 286,
    "start_time": "2023-06-07T12:35:26.910Z"
   },
   {
    "duration": 8,
    "start_time": "2023-06-07T12:35:27.199Z"
   },
   {
    "duration": 22,
    "start_time": "2023-06-07T12:35:27.209Z"
   },
   {
    "duration": 8,
    "start_time": "2023-06-07T12:35:27.241Z"
   },
   {
    "duration": 163,
    "start_time": "2023-06-07T12:35:27.251Z"
   },
   {
    "duration": 38,
    "start_time": "2023-06-07T12:35:27.416Z"
   },
   {
    "duration": 9,
    "start_time": "2023-06-07T12:35:27.456Z"
   },
   {
    "duration": 689,
    "start_time": "2023-06-07T12:37:51.910Z"
   },
   {
    "duration": 395,
    "start_time": "2023-06-07T12:37:52.601Z"
   },
   {
    "duration": 13,
    "start_time": "2023-06-07T12:37:52.998Z"
   },
   {
    "duration": 161,
    "start_time": "2023-06-07T12:37:53.014Z"
   },
   {
    "duration": 13,
    "start_time": "2023-06-07T12:37:53.177Z"
   },
   {
    "duration": 20,
    "start_time": "2023-06-07T12:37:53.192Z"
   },
   {
    "duration": 169,
    "start_time": "2023-06-07T12:37:53.214Z"
   },
   {
    "duration": 179,
    "start_time": "2023-06-07T12:37:53.385Z"
   },
   {
    "duration": 7,
    "start_time": "2023-06-07T12:37:53.566Z"
   },
   {
    "duration": 197,
    "start_time": "2023-06-07T12:37:53.576Z"
   },
   {
    "duration": 19,
    "start_time": "2023-06-07T12:37:53.774Z"
   },
   {
    "duration": 22,
    "start_time": "2023-06-07T12:37:53.794Z"
   },
   {
    "duration": 28,
    "start_time": "2023-06-07T12:37:53.818Z"
   },
   {
    "duration": 77,
    "start_time": "2023-06-07T12:37:53.848Z"
   },
   {
    "duration": 201,
    "start_time": "2023-06-07T12:37:53.926Z"
   },
   {
    "duration": 20,
    "start_time": "2023-06-07T12:37:54.129Z"
   },
   {
    "duration": 15,
    "start_time": "2023-06-07T12:37:54.151Z"
   },
   {
    "duration": 14,
    "start_time": "2023-06-07T12:37:54.168Z"
   },
   {
    "duration": 16,
    "start_time": "2023-06-07T12:37:54.184Z"
   },
   {
    "duration": 40,
    "start_time": "2023-06-07T12:37:54.202Z"
   },
   {
    "duration": 160,
    "start_time": "2023-06-07T12:37:54.244Z"
   },
   {
    "duration": 11,
    "start_time": "2023-06-07T12:37:54.406Z"
   },
   {
    "duration": 24,
    "start_time": "2023-06-07T12:37:54.419Z"
   },
   {
    "duration": 13,
    "start_time": "2023-06-07T12:37:54.445Z"
   },
   {
    "duration": 300,
    "start_time": "2023-06-07T12:37:54.460Z"
   },
   {
    "duration": 9,
    "start_time": "2023-06-07T12:37:54.762Z"
   },
   {
    "duration": 18,
    "start_time": "2023-06-07T12:37:54.772Z"
   },
   {
    "duration": 9,
    "start_time": "2023-06-07T12:37:54.793Z"
   },
   {
    "duration": 175,
    "start_time": "2023-06-07T12:37:54.804Z"
   },
   {
    "duration": 27,
    "start_time": "2023-06-07T12:37:54.980Z"
   },
   {
    "duration": 9,
    "start_time": "2023-06-07T12:37:55.008Z"
   },
   {
    "duration": 624,
    "start_time": "2023-06-07T12:39:32.788Z"
   },
   {
    "duration": 353,
    "start_time": "2023-06-07T12:39:33.414Z"
   },
   {
    "duration": 14,
    "start_time": "2023-06-07T12:39:33.771Z"
   },
   {
    "duration": 166,
    "start_time": "2023-06-07T12:39:33.787Z"
   },
   {
    "duration": 15,
    "start_time": "2023-06-07T12:39:33.955Z"
   },
   {
    "duration": 24,
    "start_time": "2023-06-07T12:39:33.972Z"
   },
   {
    "duration": 204,
    "start_time": "2023-06-07T12:39:33.998Z"
   },
   {
    "duration": 175,
    "start_time": "2023-06-07T12:39:34.204Z"
   },
   {
    "duration": 8,
    "start_time": "2023-06-07T12:39:34.383Z"
   },
   {
    "duration": 184,
    "start_time": "2023-06-07T12:39:34.393Z"
   },
   {
    "duration": 15,
    "start_time": "2023-06-07T12:39:34.579Z"
   },
   {
    "duration": 27,
    "start_time": "2023-06-07T12:39:34.596Z"
   },
   {
    "duration": 23,
    "start_time": "2023-06-07T12:39:34.625Z"
   },
   {
    "duration": 79,
    "start_time": "2023-06-07T12:39:34.650Z"
   },
   {
    "duration": 197,
    "start_time": "2023-06-07T12:39:34.742Z"
   },
   {
    "duration": 12,
    "start_time": "2023-06-07T12:39:34.941Z"
   },
   {
    "duration": 12,
    "start_time": "2023-06-07T12:39:34.955Z"
   },
   {
    "duration": 42,
    "start_time": "2023-06-07T12:39:34.969Z"
   },
   {
    "duration": 33,
    "start_time": "2023-06-07T12:39:35.013Z"
   },
   {
    "duration": 17,
    "start_time": "2023-06-07T12:39:35.048Z"
   },
   {
    "duration": 158,
    "start_time": "2023-06-07T12:39:35.067Z"
   },
   {
    "duration": 9,
    "start_time": "2023-06-07T12:39:35.226Z"
   },
   {
    "duration": 7,
    "start_time": "2023-06-07T12:39:35.241Z"
   },
   {
    "duration": 12,
    "start_time": "2023-06-07T12:39:35.249Z"
   },
   {
    "duration": 271,
    "start_time": "2023-06-07T12:39:35.262Z"
   },
   {
    "duration": 11,
    "start_time": "2023-06-07T12:39:35.535Z"
   },
   {
    "duration": 17,
    "start_time": "2023-06-07T12:39:35.549Z"
   },
   {
    "duration": 7,
    "start_time": "2023-06-07T12:39:35.568Z"
   },
   {
    "duration": 160,
    "start_time": "2023-06-07T12:39:35.577Z"
   },
   {
    "duration": 27,
    "start_time": "2023-06-07T12:39:35.741Z"
   },
   {
    "duration": 8,
    "start_time": "2023-06-07T12:39:35.770Z"
   },
   {
    "duration": 784,
    "start_time": "2023-06-09T06:43:01.071Z"
   },
   {
    "duration": 427,
    "start_time": "2023-06-09T06:43:01.857Z"
   },
   {
    "duration": 13,
    "start_time": "2023-06-09T06:43:02.286Z"
   },
   {
    "duration": 207,
    "start_time": "2023-06-09T06:43:02.301Z"
   },
   {
    "duration": 23,
    "start_time": "2023-06-09T06:43:02.510Z"
   },
   {
    "duration": 71,
    "start_time": "2023-06-09T06:43:02.534Z"
   },
   {
    "duration": 183,
    "start_time": "2023-06-09T06:43:02.606Z"
   },
   {
    "duration": 157,
    "start_time": "2023-06-09T06:43:02.790Z"
   },
   {
    "duration": 6,
    "start_time": "2023-06-09T06:43:02.949Z"
   },
   {
    "duration": 211,
    "start_time": "2023-06-09T06:43:02.957Z"
   },
   {
    "duration": 13,
    "start_time": "2023-06-09T06:43:03.169Z"
   },
   {
    "duration": 44,
    "start_time": "2023-06-09T06:43:03.183Z"
   },
   {
    "duration": 22,
    "start_time": "2023-06-09T06:43:03.228Z"
   },
   {
    "duration": 75,
    "start_time": "2023-06-09T06:43:03.253Z"
   },
   {
    "duration": 200,
    "start_time": "2023-06-09T06:43:03.329Z"
   },
   {
    "duration": 10,
    "start_time": "2023-06-09T06:43:03.531Z"
   },
   {
    "duration": 19,
    "start_time": "2023-06-09T06:43:03.542Z"
   },
   {
    "duration": 21,
    "start_time": "2023-06-09T06:43:03.563Z"
   },
   {
    "duration": 58,
    "start_time": "2023-06-09T06:43:03.586Z"
   },
   {
    "duration": 22,
    "start_time": "2023-06-09T06:43:03.646Z"
   },
   {
    "duration": 176,
    "start_time": "2023-06-09T06:43:03.670Z"
   },
   {
    "duration": 10,
    "start_time": "2023-06-09T06:43:03.849Z"
   },
   {
    "duration": 34,
    "start_time": "2023-06-09T06:43:03.861Z"
   },
   {
    "duration": 35,
    "start_time": "2023-06-09T06:43:03.897Z"
   },
   {
    "duration": 238,
    "start_time": "2023-06-09T06:43:03.934Z"
   },
   {
    "duration": 6,
    "start_time": "2023-06-09T06:43:04.174Z"
   },
   {
    "duration": 14,
    "start_time": "2023-06-09T06:43:04.182Z"
   },
   {
    "duration": 40,
    "start_time": "2023-06-09T06:43:04.198Z"
   },
   {
    "duration": 211,
    "start_time": "2023-06-09T06:43:04.239Z"
   },
   {
    "duration": 25,
    "start_time": "2023-06-09T06:43:04.451Z"
   },
   {
    "duration": 11,
    "start_time": "2023-06-09T06:43:04.477Z"
   },
   {
    "duration": 4027,
    "start_time": "2023-06-09T06:43:04.490Z"
   },
   {
    "duration": 2144,
    "start_time": "2023-06-09T06:43:08.530Z"
   },
   {
    "duration": 1253,
    "start_time": "2023-06-09T06:43:10.676Z"
   },
   {
    "duration": 7,
    "start_time": "2023-06-09T06:43:11.930Z"
   },
   {
    "duration": 8,
    "start_time": "2023-06-09T06:44:20.039Z"
   },
   {
    "duration": 4,
    "start_time": "2023-06-09T06:44:23.742Z"
   },
   {
    "duration": 57,
    "start_time": "2023-06-09T06:45:02.027Z"
   },
   {
    "duration": 11,
    "start_time": "2023-06-09T06:45:02.227Z"
   },
   {
    "duration": 20,
    "start_time": "2023-06-09T06:45:04.414Z"
   },
   {
    "duration": 11,
    "start_time": "2023-06-09T06:45:06.778Z"
   },
   {
    "duration": 4,
    "start_time": "2023-06-09T06:45:10.191Z"
   },
   {
    "duration": 10,
    "start_time": "2023-06-09T06:45:10.592Z"
   },
   {
    "duration": 13,
    "start_time": "2023-06-09T06:45:14.158Z"
   },
   {
    "duration": 17,
    "start_time": "2023-06-09T06:45:20.809Z"
   },
   {
    "duration": 2,
    "start_time": "2023-06-09T06:45:21.076Z"
   },
   {
    "duration": 11,
    "start_time": "2023-06-09T06:45:39.334Z"
   },
   {
    "duration": 4,
    "start_time": "2023-06-09T06:45:42.050Z"
   },
   {
    "duration": 19,
    "start_time": "2023-06-09T06:45:42.890Z"
   },
   {
    "duration": 13,
    "start_time": "2023-06-09T06:45:51.878Z"
   },
   {
    "duration": 15,
    "start_time": "2023-06-09T06:45:53.580Z"
   },
   {
    "duration": 16,
    "start_time": "2023-06-09T06:45:53.811Z"
   },
   {
    "duration": 9,
    "start_time": "2023-06-09T06:45:55.757Z"
   },
   {
    "duration": 22,
    "start_time": "2023-06-09T06:46:03.503Z"
   },
   {
    "duration": 13,
    "start_time": "2023-06-09T06:46:03.851Z"
   },
   {
    "duration": 24438,
    "start_time": "2023-06-09T06:46:30.191Z"
   },
   {
    "duration": 6,
    "start_time": "2023-06-09T06:46:54.631Z"
   },
   {
    "duration": 17,
    "start_time": "2023-06-09T06:46:54.639Z"
   },
   {
    "duration": 40,
    "start_time": "2023-06-09T06:46:54.659Z"
   },
   {
    "duration": 48,
    "start_time": "2023-06-09T06:46:54.701Z"
   },
   {
    "duration": 20,
    "start_time": "2023-06-09T06:47:15.355Z"
   },
   {
    "duration": 10,
    "start_time": "2023-06-09T06:47:15.574Z"
   },
   {
    "duration": 1670,
    "start_time": "2023-06-09T06:47:30.936Z"
   },
   {
    "duration": 13,
    "start_time": "2023-06-09T06:47:47.116Z"
   },
   {
    "duration": 4,
    "start_time": "2023-06-09T06:47:47.640Z"
   },
   {
    "duration": 2,
    "start_time": "2023-06-09T06:47:47.988Z"
   },
   {
    "duration": 18,
    "start_time": "2023-06-09T06:47:50.954Z"
   },
   {
    "duration": 27,
    "start_time": "2023-06-09T06:47:55.009Z"
   },
   {
    "duration": 8,
    "start_time": "2023-06-09T06:47:59.642Z"
   },
   {
    "duration": 3,
    "start_time": "2023-06-09T06:48:53.812Z"
   },
   {
    "duration": 4,
    "start_time": "2023-06-09T06:48:55.446Z"
   },
   {
    "duration": 3,
    "start_time": "2023-06-09T06:48:55.685Z"
   },
   {
    "duration": 3,
    "start_time": "2023-06-09T06:48:55.971Z"
   },
   {
    "duration": 820,
    "start_time": "2023-06-09T13:19:55.815Z"
   },
   {
    "duration": 1114,
    "start_time": "2023-06-09T13:19:56.637Z"
   },
   {
    "duration": 13,
    "start_time": "2023-06-09T13:19:57.753Z"
   },
   {
    "duration": 174,
    "start_time": "2023-06-09T13:19:57.768Z"
   },
   {
    "duration": 19,
    "start_time": "2023-06-09T13:19:57.944Z"
   },
   {
    "duration": 21,
    "start_time": "2023-06-09T13:19:57.964Z"
   },
   {
    "duration": 176,
    "start_time": "2023-06-09T13:19:57.986Z"
   },
   {
    "duration": 177,
    "start_time": "2023-06-09T13:19:58.163Z"
   },
   {
    "duration": 17,
    "start_time": "2023-06-09T13:19:58.341Z"
   },
   {
    "duration": 185,
    "start_time": "2023-06-09T13:19:58.361Z"
   },
   {
    "duration": 21,
    "start_time": "2023-06-09T13:19:58.547Z"
   },
   {
    "duration": 18,
    "start_time": "2023-06-09T13:19:58.570Z"
   },
   {
    "duration": 30,
    "start_time": "2023-06-09T13:19:58.589Z"
   },
   {
    "duration": 70,
    "start_time": "2023-06-09T13:19:58.621Z"
   },
   {
    "duration": 201,
    "start_time": "2023-06-09T13:19:58.693Z"
   },
   {
    "duration": 13,
    "start_time": "2023-06-09T13:19:58.896Z"
   },
   {
    "duration": 17,
    "start_time": "2023-06-09T13:19:58.911Z"
   },
   {
    "duration": 31,
    "start_time": "2023-06-09T13:19:58.929Z"
   },
   {
    "duration": 14,
    "start_time": "2023-06-09T13:19:58.962Z"
   },
   {
    "duration": 16,
    "start_time": "2023-06-09T13:19:58.978Z"
   },
   {
    "duration": 170,
    "start_time": "2023-06-09T13:19:58.996Z"
   },
   {
    "duration": 9,
    "start_time": "2023-06-09T13:19:59.168Z"
   },
   {
    "duration": 14,
    "start_time": "2023-06-09T13:19:59.179Z"
   },
   {
    "duration": 13,
    "start_time": "2023-06-09T13:19:59.194Z"
   },
   {
    "duration": 267,
    "start_time": "2023-06-09T13:19:59.208Z"
   },
   {
    "duration": 8,
    "start_time": "2023-06-09T13:19:59.477Z"
   },
   {
    "duration": 15,
    "start_time": "2023-06-09T13:19:59.487Z"
   },
   {
    "duration": 8,
    "start_time": "2023-06-09T13:19:59.506Z"
   },
   {
    "duration": 172,
    "start_time": "2023-06-09T13:19:59.515Z"
   },
   {
    "duration": 29,
    "start_time": "2023-06-09T13:19:59.689Z"
   },
   {
    "duration": 8,
    "start_time": "2023-06-09T13:19:59.720Z"
   },
   {
    "duration": 4138,
    "start_time": "2023-06-09T13:19:59.730Z"
   },
   {
    "duration": 2315,
    "start_time": "2023-06-09T13:20:03.870Z"
   },
   {
    "duration": 1127,
    "start_time": "2023-06-09T13:20:06.187Z"
   },
   {
    "duration": 12,
    "start_time": "2023-06-09T13:20:07.316Z"
   },
   {
    "duration": 24,
    "start_time": "2023-06-09T13:20:07.331Z"
   },
   {
    "duration": 97,
    "start_time": "2023-06-09T13:20:07.357Z"
   },
   {
    "duration": 18,
    "start_time": "2023-06-09T13:20:07.456Z"
   },
   {
    "duration": 29,
    "start_time": "2023-06-09T13:20:07.476Z"
   },
   {
    "duration": 13,
    "start_time": "2023-06-09T13:20:07.507Z"
   },
   {
    "duration": 35,
    "start_time": "2023-06-09T13:20:07.522Z"
   },
   {
    "duration": 21,
    "start_time": "2023-06-09T13:20:07.559Z"
   },
   {
    "duration": 19,
    "start_time": "2023-06-09T13:20:07.582Z"
   },
   {
    "duration": 10,
    "start_time": "2023-06-09T13:20:07.603Z"
   },
   {
    "duration": 2,
    "start_time": "2023-06-09T13:20:07.615Z"
   },
   {
    "duration": 39,
    "start_time": "2023-06-09T13:20:07.619Z"
   },
   {
    "duration": 4,
    "start_time": "2023-06-09T13:20:07.660Z"
   },
   {
    "duration": 24,
    "start_time": "2023-06-09T13:20:07.666Z"
   },
   {
    "duration": 15,
    "start_time": "2023-06-09T13:20:07.692Z"
   },
   {
    "duration": 20,
    "start_time": "2023-06-09T13:20:07.709Z"
   },
   {
    "duration": 29,
    "start_time": "2023-06-09T13:20:07.730Z"
   },
   {
    "duration": 11,
    "start_time": "2023-06-09T13:20:07.761Z"
   },
   {
    "duration": 22,
    "start_time": "2023-06-09T13:20:07.774Z"
   },
   {
    "duration": 14,
    "start_time": "2023-06-09T13:20:07.798Z"
   },
   {
    "duration": 25958,
    "start_time": "2023-06-09T13:20:07.814Z"
   },
   {
    "duration": 4,
    "start_time": "2023-06-09T13:20:33.774Z"
   },
   {
    "duration": 18,
    "start_time": "2023-06-09T13:20:33.780Z"
   },
   {
    "duration": 28,
    "start_time": "2023-06-09T13:20:33.800Z"
   },
   {
    "duration": 38,
    "start_time": "2023-06-09T13:20:33.830Z"
   },
   {
    "duration": 13,
    "start_time": "2023-06-09T13:20:33.870Z"
   },
   {
    "duration": 1983,
    "start_time": "2023-06-09T13:20:33.885Z"
   },
   {
    "duration": 3,
    "start_time": "2023-06-09T13:20:35.870Z"
   },
   {
    "duration": 10,
    "start_time": "2023-06-09T13:20:35.875Z"
   },
   {
    "duration": 24,
    "start_time": "2023-06-09T13:20:35.887Z"
   },
   {
    "duration": 34,
    "start_time": "2023-06-09T13:20:35.913Z"
   },
   {
    "duration": 16,
    "start_time": "2023-06-09T13:20:35.949Z"
   },
   {
    "duration": 10,
    "start_time": "2023-06-09T13:20:35.966Z"
   },
   {
    "duration": 12,
    "start_time": "2023-06-09T13:20:35.978Z"
   },
   {
    "duration": 23,
    "start_time": "2023-06-09T13:20:35.992Z"
   },
   {
    "duration": 6,
    "start_time": "2023-06-09T13:20:36.017Z"
   },
   {
    "duration": 133,
    "start_time": "2023-06-09T13:20:36.024Z"
   },
   {
    "duration": 0,
    "start_time": "2023-06-09T13:20:36.158Z"
   },
   {
    "duration": 0,
    "start_time": "2023-06-09T13:20:36.160Z"
   },
   {
    "duration": 0,
    "start_time": "2023-06-09T13:20:36.161Z"
   },
   {
    "duration": 0,
    "start_time": "2023-06-09T13:20:36.163Z"
   },
   {
    "duration": 0,
    "start_time": "2023-06-09T13:20:36.164Z"
   },
   {
    "duration": 0,
    "start_time": "2023-06-09T13:20:36.164Z"
   },
   {
    "duration": 0,
    "start_time": "2023-06-09T13:20:36.166Z"
   },
   {
    "duration": 0,
    "start_time": "2023-06-09T13:20:36.167Z"
   },
   {
    "duration": 0,
    "start_time": "2023-06-09T13:20:36.168Z"
   },
   {
    "duration": 0,
    "start_time": "2023-06-09T13:20:36.169Z"
   },
   {
    "duration": 0,
    "start_time": "2023-06-09T13:20:36.170Z"
   },
   {
    "duration": 6,
    "start_time": "2023-06-09T13:21:02.490Z"
   },
   {
    "duration": 90,
    "start_time": "2023-06-09T13:21:04.981Z"
   },
   {
    "duration": 5,
    "start_time": "2023-06-09T13:21:05.468Z"
   },
   {
    "duration": 12,
    "start_time": "2023-06-09T13:21:18.109Z"
   },
   {
    "duration": 10,
    "start_time": "2023-06-09T13:23:14.204Z"
   },
   {
    "duration": 14,
    "start_time": "2023-06-09T13:23:19.013Z"
   },
   {
    "duration": 10,
    "start_time": "2023-06-09T13:26:05.572Z"
   },
   {
    "duration": 647,
    "start_time": "2023-06-09T13:28:23.957Z"
   },
   {
    "duration": 358,
    "start_time": "2023-06-09T13:28:24.606Z"
   },
   {
    "duration": 13,
    "start_time": "2023-06-09T13:28:24.966Z"
   },
   {
    "duration": 173,
    "start_time": "2023-06-09T13:28:24.981Z"
   },
   {
    "duration": 12,
    "start_time": "2023-06-09T13:28:25.155Z"
   },
   {
    "duration": 19,
    "start_time": "2023-06-09T13:28:25.169Z"
   },
   {
    "duration": 173,
    "start_time": "2023-06-09T13:28:25.189Z"
   },
   {
    "duration": 187,
    "start_time": "2023-06-09T13:28:25.364Z"
   },
   {
    "duration": 7,
    "start_time": "2023-06-09T13:28:25.553Z"
   },
   {
    "duration": 184,
    "start_time": "2023-06-09T13:28:25.562Z"
   },
   {
    "duration": 20,
    "start_time": "2023-06-09T13:28:25.747Z"
   },
   {
    "duration": 15,
    "start_time": "2023-06-09T13:28:25.769Z"
   },
   {
    "duration": 20,
    "start_time": "2023-06-09T13:28:25.786Z"
   },
   {
    "duration": 80,
    "start_time": "2023-06-09T13:28:25.807Z"
   },
   {
    "duration": 186,
    "start_time": "2023-06-09T13:28:25.888Z"
   },
   {
    "duration": 12,
    "start_time": "2023-06-09T13:28:26.076Z"
   },
   {
    "duration": 19,
    "start_time": "2023-06-09T13:28:26.089Z"
   },
   {
    "duration": 13,
    "start_time": "2023-06-09T13:28:26.110Z"
   },
   {
    "duration": 14,
    "start_time": "2023-06-09T13:28:26.124Z"
   },
   {
    "duration": 13,
    "start_time": "2023-06-09T13:28:26.154Z"
   },
   {
    "duration": 168,
    "start_time": "2023-06-09T13:28:26.169Z"
   },
   {
    "duration": 16,
    "start_time": "2023-06-09T13:28:26.339Z"
   },
   {
    "duration": 8,
    "start_time": "2023-06-09T13:28:26.357Z"
   },
   {
    "duration": 13,
    "start_time": "2023-06-09T13:28:26.367Z"
   },
   {
    "duration": 316,
    "start_time": "2023-06-09T13:28:26.382Z"
   },
   {
    "duration": 11,
    "start_time": "2023-06-09T13:28:26.700Z"
   },
   {
    "duration": 21,
    "start_time": "2023-06-09T13:28:26.713Z"
   },
   {
    "duration": 12,
    "start_time": "2023-06-09T13:28:26.757Z"
   },
   {
    "duration": 171,
    "start_time": "2023-06-09T13:28:26.771Z"
   },
   {
    "duration": 32,
    "start_time": "2023-06-09T13:28:26.944Z"
   },
   {
    "duration": 9,
    "start_time": "2023-06-09T13:28:26.978Z"
   },
   {
    "duration": 2407,
    "start_time": "2023-06-09T13:28:26.989Z"
   },
   {
    "duration": 2308,
    "start_time": "2023-06-09T13:28:29.398Z"
   },
   {
    "duration": 1157,
    "start_time": "2023-06-09T13:28:31.708Z"
   },
   {
    "duration": 7,
    "start_time": "2023-06-09T13:28:32.867Z"
   },
   {
    "duration": 12,
    "start_time": "2023-06-09T13:28:32.876Z"
   },
   {
    "duration": 76,
    "start_time": "2023-06-09T13:28:32.890Z"
   },
   {
    "duration": 12,
    "start_time": "2023-06-09T13:28:32.968Z"
   },
   {
    "duration": 20,
    "start_time": "2023-06-09T13:28:32.982Z"
   },
   {
    "duration": 9,
    "start_time": "2023-06-09T13:28:33.004Z"
   },
   {
    "duration": 4,
    "start_time": "2023-06-09T13:28:33.015Z"
   },
   {
    "duration": 41,
    "start_time": "2023-06-09T13:28:33.021Z"
   },
   {
    "duration": 15,
    "start_time": "2023-06-09T13:28:33.064Z"
   },
   {
    "duration": 11,
    "start_time": "2023-06-09T13:28:33.081Z"
   },
   {
    "duration": 3,
    "start_time": "2023-06-09T13:28:33.093Z"
   },
   {
    "duration": 26,
    "start_time": "2023-06-09T13:28:33.097Z"
   },
   {
    "duration": 18,
    "start_time": "2023-06-09T13:28:33.124Z"
   },
   {
    "duration": 31,
    "start_time": "2023-06-09T13:28:33.144Z"
   },
   {
    "duration": 15,
    "start_time": "2023-06-09T13:28:33.177Z"
   },
   {
    "duration": 15,
    "start_time": "2023-06-09T13:28:33.193Z"
   },
   {
    "duration": 8,
    "start_time": "2023-06-09T13:28:33.209Z"
   },
   {
    "duration": 37,
    "start_time": "2023-06-09T13:28:33.218Z"
   },
   {
    "duration": 15,
    "start_time": "2023-06-09T13:28:33.257Z"
   },
   {
    "duration": 14,
    "start_time": "2023-06-09T13:28:33.273Z"
   },
   {
    "duration": 25148,
    "start_time": "2023-06-09T13:28:33.288Z"
   },
   {
    "duration": 4,
    "start_time": "2023-06-09T13:28:58.438Z"
   },
   {
    "duration": 33,
    "start_time": "2023-06-09T13:28:58.454Z"
   },
   {
    "duration": 43,
    "start_time": "2023-06-09T13:28:58.488Z"
   },
   {
    "duration": 20,
    "start_time": "2023-06-09T13:28:58.532Z"
   },
   {
    "duration": 13,
    "start_time": "2023-06-09T13:28:58.554Z"
   },
   {
    "duration": 2000,
    "start_time": "2023-06-09T13:28:58.570Z"
   },
   {
    "duration": 4,
    "start_time": "2023-06-09T13:29:00.572Z"
   },
   {
    "duration": 29,
    "start_time": "2023-06-09T13:29:00.577Z"
   },
   {
    "duration": 37,
    "start_time": "2023-06-09T13:29:00.608Z"
   },
   {
    "duration": 95,
    "start_time": "2023-06-09T13:29:00.647Z"
   },
   {
    "duration": 20,
    "start_time": "2023-06-09T13:29:00.744Z"
   },
   {
    "duration": 54,
    "start_time": "2023-06-09T13:29:00.766Z"
   },
   {
    "duration": 37,
    "start_time": "2023-06-09T13:29:00.822Z"
   },
   {
    "duration": 71,
    "start_time": "2023-06-09T13:29:00.860Z"
   },
   {
    "duration": 38,
    "start_time": "2023-06-09T13:29:00.933Z"
   },
   {
    "duration": 41,
    "start_time": "2023-06-09T13:29:00.972Z"
   },
   {
    "duration": 140,
    "start_time": "2023-06-09T13:29:01.014Z"
   },
   {
    "duration": 7,
    "start_time": "2023-06-09T13:29:01.157Z"
   },
   {
    "duration": 93162,
    "start_time": "2023-06-09T13:29:01.167Z"
   },
   {
    "duration": 4,
    "start_time": "2023-06-09T13:30:34.330Z"
   },
   {
    "duration": 4472,
    "start_time": "2023-06-09T13:30:34.336Z"
   },
   {
    "duration": 4,
    "start_time": "2023-06-09T13:30:38.809Z"
   },
   {
    "duration": 19,
    "start_time": "2023-06-09T13:30:38.814Z"
   },
   {
    "duration": 13,
    "start_time": "2023-06-09T13:30:38.835Z"
   },
   {
    "duration": 8,
    "start_time": "2023-06-09T13:30:38.850Z"
   },
   {
    "duration": 926,
    "start_time": "2023-06-09T13:30:38.859Z"
   },
   {
    "duration": 3,
    "start_time": "2023-06-09T13:30:39.791Z"
   },
   {
    "duration": 118,
    "start_time": "2023-06-09T13:32:03.760Z"
   },
   {
    "duration": 6,
    "start_time": "2023-06-09T13:32:16.682Z"
   },
   {
    "duration": 931,
    "start_time": "2023-06-09T13:33:13.378Z"
   },
   {
    "duration": 10,
    "start_time": "2023-06-09T13:33:17.850Z"
   },
   {
    "duration": 4,
    "start_time": "2023-06-09T13:33:32.634Z"
   },
   {
    "duration": 11,
    "start_time": "2023-06-09T13:33:42.746Z"
   },
   {
    "duration": 137,
    "start_time": "2023-06-09T13:35:26.107Z"
   },
   {
    "duration": 3,
    "start_time": "2023-06-09T13:36:11.298Z"
   },
   {
    "duration": 5,
    "start_time": "2023-06-09T13:36:17.218Z"
   },
   {
    "duration": 10,
    "start_time": "2023-06-09T13:38:12.914Z"
   },
   {
    "duration": 127,
    "start_time": "2023-06-09T13:38:43.553Z"
   },
   {
    "duration": 13,
    "start_time": "2023-06-09T13:40:14.562Z"
   },
   {
    "duration": 11,
    "start_time": "2023-06-09T13:41:28.841Z"
   },
   {
    "duration": 270,
    "start_time": "2023-06-09T13:41:38.377Z"
   },
   {
    "duration": 10,
    "start_time": "2023-06-09T13:57:13.551Z"
   },
   {
    "duration": 6974,
    "start_time": "2023-06-10T07:29:53.981Z"
   },
   {
    "duration": 4669,
    "start_time": "2023-06-10T07:30:00.958Z"
   },
   {
    "duration": 3233,
    "start_time": "2023-06-10T07:30:05.630Z"
   },
   {
    "duration": 1108,
    "start_time": "2023-06-10T07:30:08.865Z"
   },
   {
    "duration": 53,
    "start_time": "2023-06-10T07:30:09.976Z"
   },
   {
    "duration": 426,
    "start_time": "2023-06-10T07:30:10.031Z"
   },
   {
    "duration": 75,
    "start_time": "2023-06-10T07:30:10.459Z"
   },
   {
    "duration": 30,
    "start_time": "2023-06-10T07:30:10.536Z"
   },
   {
    "duration": 457,
    "start_time": "2023-06-10T07:30:10.568Z"
   },
   {
    "duration": 337,
    "start_time": "2023-06-10T07:30:11.028Z"
   },
   {
    "duration": 63,
    "start_time": "2023-06-10T07:30:11.368Z"
   },
   {
    "duration": 524,
    "start_time": "2023-06-10T07:30:11.433Z"
   },
   {
    "duration": 69,
    "start_time": "2023-06-10T07:30:11.959Z"
   },
   {
    "duration": 14,
    "start_time": "2023-06-10T07:30:12.033Z"
   },
   {
    "duration": 84,
    "start_time": "2023-06-10T07:30:12.050Z"
   },
   {
    "duration": 39,
    "start_time": "2023-06-10T07:30:12.136Z"
   },
   {
    "duration": 425,
    "start_time": "2023-06-10T07:30:12.225Z"
   },
   {
    "duration": 12,
    "start_time": "2023-06-10T07:30:12.652Z"
   },
   {
    "duration": 114,
    "start_time": "2023-06-10T07:30:12.665Z"
   },
   {
    "duration": 55,
    "start_time": "2023-06-10T07:30:12.781Z"
   },
   {
    "duration": 40,
    "start_time": "2023-06-10T07:30:12.838Z"
   },
   {
    "duration": 58,
    "start_time": "2023-06-10T07:30:12.880Z"
   },
   {
    "duration": 489,
    "start_time": "2023-06-10T07:30:12.952Z"
   },
   {
    "duration": 13,
    "start_time": "2023-06-10T07:30:13.443Z"
   },
   {
    "duration": 74,
    "start_time": "2023-06-10T07:30:13.457Z"
   },
   {
    "duration": 104,
    "start_time": "2023-06-10T07:30:13.533Z"
   },
   {
    "duration": 516,
    "start_time": "2023-06-10T07:30:13.640Z"
   },
   {
    "duration": 7,
    "start_time": "2023-06-10T07:30:14.158Z"
   },
   {
    "duration": 12,
    "start_time": "2023-06-10T07:30:14.224Z"
   },
   {
    "duration": 19,
    "start_time": "2023-06-10T07:30:14.238Z"
   },
   {
    "duration": 398,
    "start_time": "2023-06-10T07:30:14.259Z"
   },
   {
    "duration": 95,
    "start_time": "2023-06-10T07:30:14.659Z"
   },
   {
    "duration": 69,
    "start_time": "2023-06-10T07:30:14.756Z"
   },
   {
    "duration": 223,
    "start_time": "2023-06-10T07:30:14.828Z"
   },
   {
    "duration": 10,
    "start_time": "2023-06-10T07:32:00.268Z"
   },
   {
    "duration": 156,
    "start_time": "2023-06-10T07:32:00.976Z"
   },
   {
    "duration": 14,
    "start_time": "2023-06-10T07:32:01.252Z"
   },
   {
    "duration": 56,
    "start_time": "2023-06-10T07:32:01.573Z"
   },
   {
    "duration": 13,
    "start_time": "2023-06-10T07:32:02.581Z"
   },
   {
    "duration": 7,
    "start_time": "2023-06-10T07:32:03.121Z"
   },
   {
    "duration": 18,
    "start_time": "2023-06-10T07:32:03.371Z"
   },
   {
    "duration": 18,
    "start_time": "2023-06-10T07:32:03.859Z"
   },
   {
    "duration": 13,
    "start_time": "2023-06-10T07:32:04.427Z"
   },
   {
    "duration": 3,
    "start_time": "2023-06-10T07:32:04.839Z"
   },
   {
    "duration": 18,
    "start_time": "2023-06-10T07:32:05.077Z"
   },
   {
    "duration": 5,
    "start_time": "2023-06-10T07:32:05.582Z"
   },
   {
    "duration": 48,
    "start_time": "2023-06-10T07:32:05.894Z"
   },
   {
    "duration": 43,
    "start_time": "2023-06-10T07:32:06.187Z"
   },
   {
    "duration": 28,
    "start_time": "2023-06-10T07:32:06.802Z"
   },
   {
    "duration": 11,
    "start_time": "2023-06-10T07:32:07.058Z"
   },
   {
    "duration": 14,
    "start_time": "2023-06-10T07:32:07.736Z"
   },
   {
    "duration": 31,
    "start_time": "2023-06-10T07:32:08.002Z"
   },
   {
    "duration": 17,
    "start_time": "2023-06-10T07:32:08.261Z"
   },
   {
    "duration": 54776,
    "start_time": "2023-06-10T07:32:11.570Z"
   },
   {
    "duration": 5,
    "start_time": "2023-06-10T07:33:06.348Z"
   },
   {
    "duration": 83,
    "start_time": "2023-06-10T07:33:06.355Z"
   },
   {
    "duration": 106,
    "start_time": "2023-06-10T07:33:06.441Z"
   },
   {
    "duration": 81,
    "start_time": "2023-06-10T07:33:06.549Z"
   },
   {
    "duration": 41,
    "start_time": "2023-06-10T07:33:06.632Z"
   },
   {
    "duration": 3611,
    "start_time": "2023-06-10T07:33:06.675Z"
   },
   {
    "duration": 38,
    "start_time": "2023-06-10T07:33:10.288Z"
   },
   {
    "duration": 15,
    "start_time": "2023-06-10T07:33:10.328Z"
   },
   {
    "duration": 18,
    "start_time": "2023-06-10T07:33:10.347Z"
   },
   {
    "duration": 80,
    "start_time": "2023-06-10T07:33:10.367Z"
   },
   {
    "duration": 79,
    "start_time": "2023-06-10T07:33:10.450Z"
   },
   {
    "duration": 3,
    "start_time": "2023-06-10T07:33:10.531Z"
   },
   {
    "duration": 8,
    "start_time": "2023-06-10T07:33:10.536Z"
   },
   {
    "duration": 13,
    "start_time": "2023-06-10T07:33:10.545Z"
   },
   {
    "duration": 67,
    "start_time": "2023-06-10T07:33:10.559Z"
   },
   {
    "duration": 12,
    "start_time": "2023-06-10T07:33:10.628Z"
   },
   {
    "duration": 198,
    "start_time": "2023-06-10T07:33:10.642Z"
   },
   {
    "duration": 6,
    "start_time": "2023-06-10T07:33:10.924Z"
   },
   {
    "duration": 16,
    "start_time": "2023-06-10T07:33:13.408Z"
   },
   {
    "duration": 4,
    "start_time": "2023-06-10T07:33:49.862Z"
   },
   {
    "duration": 2223,
    "start_time": "2023-06-10T07:33:50.083Z"
   },
   {
    "duration": 13,
    "start_time": "2023-06-10T07:33:52.324Z"
   }
  ],
  "kernelspec": {
   "display_name": "Python 3 (ipykernel)",
   "language": "python",
   "name": "python3"
  },
  "language_info": {
   "codemirror_mode": {
    "name": "ipython",
    "version": 3
   },
   "file_extension": ".py",
   "mimetype": "text/x-python",
   "name": "python",
   "nbconvert_exporter": "python",
   "pygments_lexer": "ipython3",
   "version": "3.10.9"
  },
  "toc": {
   "base_numbering": 1,
   "nav_menu": {},
   "number_sections": true,
   "sideBar": true,
   "skip_h1_title": true,
   "title_cell": "Table of Contents",
   "title_sidebar": "Contents",
   "toc_cell": false,
   "toc_position": {},
   "toc_section_display": true,
   "toc_window_display": false
  }
 },
 "nbformat": 4,
 "nbformat_minor": 5
}
