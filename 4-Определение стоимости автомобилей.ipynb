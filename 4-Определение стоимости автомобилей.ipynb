{
 "cells": [
  {
   "cell_type": "markdown",
   "metadata": {},
   "source": [
    "# Определение стоимости автомобилей"
   ]
  },
  {
   "cell_type": "markdown",
   "metadata": {},
   "source": [
    "Сервис по продаже автомобилей с пробегом «Не бит, не крашен» разрабатывает приложение для привлечения новых клиентов. В нём можно быстро узнать рыночную стоимость своего автомобиля. В вашем распоряжении исторические данные: технические характеристики, комплектации и цены автомобилей. Вам нужно построить модель для определения стоимости. \n",
    "\n",
    "Заказчику важны:\n",
    "\n",
    "- качество предсказания;\n",
    "- скорость предсказания;\n",
    "- время обучения."
   ]
  },
  {
   "cell_type": "markdown",
   "metadata": {},
   "source": [
    "## Подготовка данных"
   ]
  },
  {
   "cell_type": "code",
   "execution_count": 1,
   "metadata": {},
   "outputs": [
    {
     "name": "stdout",
     "output_type": "stream",
     "text": [
      "Requirement already satisfied: scikit-learn in /home/jovyan/.local/lib/python3.9/site-packages (1.2.2)\n",
      "Requirement already satisfied: scipy>=1.3.2 in /opt/conda/lib/python3.9/site-packages (from scikit-learn) (1.9.1)\n",
      "Requirement already satisfied: threadpoolctl>=2.0.0 in /opt/conda/lib/python3.9/site-packages (from scikit-learn) (3.1.0)\n",
      "Requirement already satisfied: joblib>=1.1.1 in /home/jovyan/.local/lib/python3.9/site-packages (from scikit-learn) (1.2.0)\n",
      "Requirement already satisfied: numpy>=1.17.3 in /opt/conda/lib/python3.9/site-packages (from scikit-learn) (1.21.1)\n"
     ]
    }
   ],
   "source": [
    "!pip install -U scikit-learn --user"
   ]
  },
  {
   "cell_type": "code",
   "execution_count": 2,
   "metadata": {},
   "outputs": [],
   "source": [
    "import pandas as pd\n",
    "import numpy as np\n",
    "\n",
    "import seaborn as sns\n",
    "import matplotlib.pyplot as plt\n",
    "\n",
    "from sklearn.preprocessing import OrdinalEncoder\n",
    "from sklearn.preprocessing import OneHotEncoder\n",
    "from sklearn.preprocessing import StandardScaler\n",
    "\n",
    "from sklearn.tree import DecisionTreeRegressor\n",
    "from sklearn.ensemble import RandomForestRegressor\n",
    "from sklearn.linear_model import LinearRegression\n",
    "import lightgbm as lgb\n",
    "\n",
    "from sklearn.model_selection import cross_validate\n",
    "from sklearn.experimental import enable_halving_search_cv \n",
    "from sklearn.model_selection import HalvingRandomSearchCV\n",
    "from sklearn.model_selection import train_test_split\n",
    "from sklearn.model_selection import GridSearchCV\n",
    "\n",
    "from sklearn.metrics import accuracy_score, mean_squared_error\n",
    "\n",
    "from sklearn.compose import make_column_transformer\n",
    "from sklearn.compose import ColumnTransformer"
   ]
  },
  {
   "cell_type": "markdown",
   "metadata": {},
   "source": [
    "### Чтение и изучение данных"
   ]
  },
  {
   "cell_type": "code",
   "execution_count": 3,
   "metadata": {},
   "outputs": [
    {
     "data": {
      "text/html": [
       "<div>\n",
       "<style scoped>\n",
       "    .dataframe tbody tr th:only-of-type {\n",
       "        vertical-align: middle;\n",
       "    }\n",
       "\n",
       "    .dataframe tbody tr th {\n",
       "        vertical-align: top;\n",
       "    }\n",
       "\n",
       "    .dataframe thead th {\n",
       "        text-align: right;\n",
       "    }\n",
       "</style>\n",
       "<table border=\"1\" class=\"dataframe\">\n",
       "  <thead>\n",
       "    <tr style=\"text-align: right;\">\n",
       "      <th></th>\n",
       "      <th>DateCrawled</th>\n",
       "      <th>Price</th>\n",
       "      <th>VehicleType</th>\n",
       "      <th>RegistrationYear</th>\n",
       "      <th>Gearbox</th>\n",
       "      <th>Power</th>\n",
       "      <th>Model</th>\n",
       "      <th>Kilometer</th>\n",
       "      <th>RegistrationMonth</th>\n",
       "      <th>FuelType</th>\n",
       "      <th>Brand</th>\n",
       "      <th>Repaired</th>\n",
       "      <th>DateCreated</th>\n",
       "      <th>NumberOfPictures</th>\n",
       "      <th>PostalCode</th>\n",
       "      <th>LastSeen</th>\n",
       "    </tr>\n",
       "  </thead>\n",
       "  <tbody>\n",
       "    <tr>\n",
       "      <th>0</th>\n",
       "      <td>2016-03-24 11:52:17</td>\n",
       "      <td>480</td>\n",
       "      <td>NaN</td>\n",
       "      <td>1993</td>\n",
       "      <td>manual</td>\n",
       "      <td>0</td>\n",
       "      <td>golf</td>\n",
       "      <td>150000</td>\n",
       "      <td>0</td>\n",
       "      <td>petrol</td>\n",
       "      <td>volkswagen</td>\n",
       "      <td>NaN</td>\n",
       "      <td>2016-03-24 00:00:00</td>\n",
       "      <td>0</td>\n",
       "      <td>70435</td>\n",
       "      <td>2016-04-07 03:16:57</td>\n",
       "    </tr>\n",
       "    <tr>\n",
       "      <th>1</th>\n",
       "      <td>2016-03-24 10:58:45</td>\n",
       "      <td>18300</td>\n",
       "      <td>coupe</td>\n",
       "      <td>2011</td>\n",
       "      <td>manual</td>\n",
       "      <td>190</td>\n",
       "      <td>NaN</td>\n",
       "      <td>125000</td>\n",
       "      <td>5</td>\n",
       "      <td>gasoline</td>\n",
       "      <td>audi</td>\n",
       "      <td>yes</td>\n",
       "      <td>2016-03-24 00:00:00</td>\n",
       "      <td>0</td>\n",
       "      <td>66954</td>\n",
       "      <td>2016-04-07 01:46:50</td>\n",
       "    </tr>\n",
       "    <tr>\n",
       "      <th>2</th>\n",
       "      <td>2016-03-14 12:52:21</td>\n",
       "      <td>9800</td>\n",
       "      <td>suv</td>\n",
       "      <td>2004</td>\n",
       "      <td>auto</td>\n",
       "      <td>163</td>\n",
       "      <td>grand</td>\n",
       "      <td>125000</td>\n",
       "      <td>8</td>\n",
       "      <td>gasoline</td>\n",
       "      <td>jeep</td>\n",
       "      <td>NaN</td>\n",
       "      <td>2016-03-14 00:00:00</td>\n",
       "      <td>0</td>\n",
       "      <td>90480</td>\n",
       "      <td>2016-04-05 12:47:46</td>\n",
       "    </tr>\n",
       "    <tr>\n",
       "      <th>3</th>\n",
       "      <td>2016-03-17 16:54:04</td>\n",
       "      <td>1500</td>\n",
       "      <td>small</td>\n",
       "      <td>2001</td>\n",
       "      <td>manual</td>\n",
       "      <td>75</td>\n",
       "      <td>golf</td>\n",
       "      <td>150000</td>\n",
       "      <td>6</td>\n",
       "      <td>petrol</td>\n",
       "      <td>volkswagen</td>\n",
       "      <td>no</td>\n",
       "      <td>2016-03-17 00:00:00</td>\n",
       "      <td>0</td>\n",
       "      <td>91074</td>\n",
       "      <td>2016-03-17 17:40:17</td>\n",
       "    </tr>\n",
       "    <tr>\n",
       "      <th>4</th>\n",
       "      <td>2016-03-31 17:25:20</td>\n",
       "      <td>3600</td>\n",
       "      <td>small</td>\n",
       "      <td>2008</td>\n",
       "      <td>manual</td>\n",
       "      <td>69</td>\n",
       "      <td>fabia</td>\n",
       "      <td>90000</td>\n",
       "      <td>7</td>\n",
       "      <td>gasoline</td>\n",
       "      <td>skoda</td>\n",
       "      <td>no</td>\n",
       "      <td>2016-03-31 00:00:00</td>\n",
       "      <td>0</td>\n",
       "      <td>60437</td>\n",
       "      <td>2016-04-06 10:17:21</td>\n",
       "    </tr>\n",
       "  </tbody>\n",
       "</table>\n",
       "</div>"
      ],
      "text/plain": [
       "           DateCrawled  Price VehicleType  RegistrationYear Gearbox  Power  \\\n",
       "0  2016-03-24 11:52:17    480         NaN              1993  manual      0   \n",
       "1  2016-03-24 10:58:45  18300       coupe              2011  manual    190   \n",
       "2  2016-03-14 12:52:21   9800         suv              2004    auto    163   \n",
       "3  2016-03-17 16:54:04   1500       small              2001  manual     75   \n",
       "4  2016-03-31 17:25:20   3600       small              2008  manual     69   \n",
       "\n",
       "   Model  Kilometer  RegistrationMonth  FuelType       Brand Repaired  \\\n",
       "0   golf     150000                  0    petrol  volkswagen      NaN   \n",
       "1    NaN     125000                  5  gasoline        audi      yes   \n",
       "2  grand     125000                  8  gasoline        jeep      NaN   \n",
       "3   golf     150000                  6    petrol  volkswagen       no   \n",
       "4  fabia      90000                  7  gasoline       skoda       no   \n",
       "\n",
       "           DateCreated  NumberOfPictures  PostalCode             LastSeen  \n",
       "0  2016-03-24 00:00:00                 0       70435  2016-04-07 03:16:57  \n",
       "1  2016-03-24 00:00:00                 0       66954  2016-04-07 01:46:50  \n",
       "2  2016-03-14 00:00:00                 0       90480  2016-04-05 12:47:46  \n",
       "3  2016-03-17 00:00:00                 0       91074  2016-03-17 17:40:17  \n",
       "4  2016-03-31 00:00:00                 0       60437  2016-04-06 10:17:21  "
      ]
     },
     "execution_count": 3,
     "metadata": {},
     "output_type": "execute_result"
    }
   ],
   "source": [
    "data = pd.read_csv('/datasets/autos.csv')\n",
    "data.head()"
   ]
  },
  {
   "cell_type": "code",
   "execution_count": 4,
   "metadata": {},
   "outputs": [
    {
     "name": "stdout",
     "output_type": "stream",
     "text": [
      "<class 'pandas.core.frame.DataFrame'>\n",
      "RangeIndex: 354369 entries, 0 to 354368\n",
      "Data columns (total 16 columns):\n",
      " #   Column             Non-Null Count   Dtype \n",
      "---  ------             --------------   ----- \n",
      " 0   DateCrawled        354369 non-null  object\n",
      " 1   Price              354369 non-null  int64 \n",
      " 2   VehicleType        316879 non-null  object\n",
      " 3   RegistrationYear   354369 non-null  int64 \n",
      " 4   Gearbox            334536 non-null  object\n",
      " 5   Power              354369 non-null  int64 \n",
      " 6   Model              334664 non-null  object\n",
      " 7   Kilometer          354369 non-null  int64 \n",
      " 8   RegistrationMonth  354369 non-null  int64 \n",
      " 9   FuelType           321474 non-null  object\n",
      " 10  Brand              354369 non-null  object\n",
      " 11  Repaired           283215 non-null  object\n",
      " 12  DateCreated        354369 non-null  object\n",
      " 13  NumberOfPictures   354369 non-null  int64 \n",
      " 14  PostalCode         354369 non-null  int64 \n",
      " 15  LastSeen           354369 non-null  object\n",
      "dtypes: int64(7), object(9)\n",
      "memory usage: 43.3+ MB\n"
     ]
    }
   ],
   "source": [
    "data.info()"
   ]
  },
  {
   "cell_type": "code",
   "execution_count": 5,
   "metadata": {},
   "outputs": [
    {
     "data": {
      "text/html": [
       "<div>\n",
       "<style scoped>\n",
       "    .dataframe tbody tr th:only-of-type {\n",
       "        vertical-align: middle;\n",
       "    }\n",
       "\n",
       "    .dataframe tbody tr th {\n",
       "        vertical-align: top;\n",
       "    }\n",
       "\n",
       "    .dataframe thead th {\n",
       "        text-align: right;\n",
       "    }\n",
       "</style>\n",
       "<table border=\"1\" class=\"dataframe\">\n",
       "  <thead>\n",
       "    <tr style=\"text-align: right;\">\n",
       "      <th></th>\n",
       "      <th>Price</th>\n",
       "      <th>RegistrationYear</th>\n",
       "      <th>Power</th>\n",
       "      <th>Kilometer</th>\n",
       "      <th>RegistrationMonth</th>\n",
       "      <th>NumberOfPictures</th>\n",
       "      <th>PostalCode</th>\n",
       "    </tr>\n",
       "  </thead>\n",
       "  <tbody>\n",
       "    <tr>\n",
       "      <th>count</th>\n",
       "      <td>354369.000000</td>\n",
       "      <td>354369.000000</td>\n",
       "      <td>354369.000000</td>\n",
       "      <td>354369.000000</td>\n",
       "      <td>354369.000000</td>\n",
       "      <td>354369.0</td>\n",
       "      <td>354369.000000</td>\n",
       "    </tr>\n",
       "    <tr>\n",
       "      <th>mean</th>\n",
       "      <td>4416.656776</td>\n",
       "      <td>2004.234448</td>\n",
       "      <td>110.094337</td>\n",
       "      <td>128211.172535</td>\n",
       "      <td>5.714645</td>\n",
       "      <td>0.0</td>\n",
       "      <td>50508.689087</td>\n",
       "    </tr>\n",
       "    <tr>\n",
       "      <th>std</th>\n",
       "      <td>4514.158514</td>\n",
       "      <td>90.227958</td>\n",
       "      <td>189.850405</td>\n",
       "      <td>37905.341530</td>\n",
       "      <td>3.726421</td>\n",
       "      <td>0.0</td>\n",
       "      <td>25783.096248</td>\n",
       "    </tr>\n",
       "    <tr>\n",
       "      <th>min</th>\n",
       "      <td>0.000000</td>\n",
       "      <td>1000.000000</td>\n",
       "      <td>0.000000</td>\n",
       "      <td>5000.000000</td>\n",
       "      <td>0.000000</td>\n",
       "      <td>0.0</td>\n",
       "      <td>1067.000000</td>\n",
       "    </tr>\n",
       "    <tr>\n",
       "      <th>25%</th>\n",
       "      <td>1050.000000</td>\n",
       "      <td>1999.000000</td>\n",
       "      <td>69.000000</td>\n",
       "      <td>125000.000000</td>\n",
       "      <td>3.000000</td>\n",
       "      <td>0.0</td>\n",
       "      <td>30165.000000</td>\n",
       "    </tr>\n",
       "    <tr>\n",
       "      <th>50%</th>\n",
       "      <td>2700.000000</td>\n",
       "      <td>2003.000000</td>\n",
       "      <td>105.000000</td>\n",
       "      <td>150000.000000</td>\n",
       "      <td>6.000000</td>\n",
       "      <td>0.0</td>\n",
       "      <td>49413.000000</td>\n",
       "    </tr>\n",
       "    <tr>\n",
       "      <th>75%</th>\n",
       "      <td>6400.000000</td>\n",
       "      <td>2008.000000</td>\n",
       "      <td>143.000000</td>\n",
       "      <td>150000.000000</td>\n",
       "      <td>9.000000</td>\n",
       "      <td>0.0</td>\n",
       "      <td>71083.000000</td>\n",
       "    </tr>\n",
       "    <tr>\n",
       "      <th>max</th>\n",
       "      <td>20000.000000</td>\n",
       "      <td>9999.000000</td>\n",
       "      <td>20000.000000</td>\n",
       "      <td>150000.000000</td>\n",
       "      <td>12.000000</td>\n",
       "      <td>0.0</td>\n",
       "      <td>99998.000000</td>\n",
       "    </tr>\n",
       "  </tbody>\n",
       "</table>\n",
       "</div>"
      ],
      "text/plain": [
       "               Price  RegistrationYear          Power      Kilometer  \\\n",
       "count  354369.000000     354369.000000  354369.000000  354369.000000   \n",
       "mean     4416.656776       2004.234448     110.094337  128211.172535   \n",
       "std      4514.158514         90.227958     189.850405   37905.341530   \n",
       "min         0.000000       1000.000000       0.000000    5000.000000   \n",
       "25%      1050.000000       1999.000000      69.000000  125000.000000   \n",
       "50%      2700.000000       2003.000000     105.000000  150000.000000   \n",
       "75%      6400.000000       2008.000000     143.000000  150000.000000   \n",
       "max     20000.000000       9999.000000   20000.000000  150000.000000   \n",
       "\n",
       "       RegistrationMonth  NumberOfPictures     PostalCode  \n",
       "count      354369.000000          354369.0  354369.000000  \n",
       "mean            5.714645               0.0   50508.689087  \n",
       "std             3.726421               0.0   25783.096248  \n",
       "min             0.000000               0.0    1067.000000  \n",
       "25%             3.000000               0.0   30165.000000  \n",
       "50%             6.000000               0.0   49413.000000  \n",
       "75%             9.000000               0.0   71083.000000  \n",
       "max            12.000000               0.0   99998.000000  "
      ]
     },
     "execution_count": 5,
     "metadata": {},
     "output_type": "execute_result"
    }
   ],
   "source": [
    "data.describe()"
   ]
  },
  {
   "cell_type": "code",
   "execution_count": null,
   "metadata": {},
   "outputs": [],
   "source": []
  },
  {
   "cell_type": "markdown",
   "metadata": {},
   "source": [
    "<b>Выводы:</b> \n",
    " - В данных присутствуют пропуски\n",
    " - Столбец \"NumberOf Pictures\" не имеет вещественных значений\n",
    " - в столбце \"Power\" наблюдается скошенность ,т.к среднее и медианное значение имеют сильное различие \n"
   ]
  },
  {
   "cell_type": "markdown",
   "metadata": {},
   "source": [
    "### Чистка данных"
   ]
  },
  {
   "cell_type": "markdown",
   "metadata": {},
   "source": [
    "Проверка на дубликаты"
   ]
  },
  {
   "cell_type": "code",
   "execution_count": 6,
   "metadata": {},
   "outputs": [
    {
     "data": {
      "text/plain": [
       "4"
      ]
     },
     "execution_count": 6,
     "metadata": {},
     "output_type": "execute_result"
    }
   ],
   "source": [
    "data.duplicated().sum()"
   ]
  },
  {
   "cell_type": "code",
   "execution_count": 7,
   "metadata": {},
   "outputs": [],
   "source": [
    "data = data.drop_duplicates().reset_index(drop=True)"
   ]
  },
  {
   "cell_type": "markdown",
   "metadata": {},
   "source": [
    "Удаление неинформативных признаков"
   ]
  },
  {
   "cell_type": "code",
   "execution_count": 8,
   "metadata": {},
   "outputs": [],
   "source": [
    "#data = data.drop(['NumberOfPictures', 'DateCrawled', 'PostalCode', 'LastSeen', 'RegistrationMonth', 'DateCreated'], axis=1)\n",
    "data['date_registration'] = data['RegistrationYear'].astype('str') +'-'+ data['RegistrationMonth'].astype('str')"
   ]
  },
  {
   "cell_type": "code",
   "execution_count": 9,
   "metadata": {},
   "outputs": [],
   "source": [
    "data['LastSeen'] = pd.to_datetime(data['LastSeen'], format='%Y-%m-%d')"
   ]
  },
  {
   "cell_type": "code",
   "execution_count": 10,
   "metadata": {},
   "outputs": [],
   "source": [
    "date_registration = data[(data['RegistrationMonth'] > 0) & ((data['RegistrationYear'] < 2200) & (data['RegistrationYear'] > 1900))][['date_registration', 'LastSeen', 'RegistrationMonth']].copy()\n",
    "date_registration['date_registration'] = pd.to_datetime(date_registration['date_registration'], format='%Y-%m')"
   ]
  },
  {
   "cell_type": "code",
   "execution_count": 11,
   "metadata": {},
   "outputs": [
    {
     "data": {
      "text/html": [
       "<div>\n",
       "<style scoped>\n",
       "    .dataframe tbody tr th:only-of-type {\n",
       "        vertical-align: middle;\n",
       "    }\n",
       "\n",
       "    .dataframe tbody tr th {\n",
       "        vertical-align: top;\n",
       "    }\n",
       "\n",
       "    .dataframe thead th {\n",
       "        text-align: right;\n",
       "    }\n",
       "</style>\n",
       "<table border=\"1\" class=\"dataframe\">\n",
       "  <thead>\n",
       "    <tr style=\"text-align: right;\">\n",
       "      <th></th>\n",
       "      <th>date_registration</th>\n",
       "      <th>LastSeen</th>\n",
       "      <th>RegistrationMonth</th>\n",
       "    </tr>\n",
       "  </thead>\n",
       "  <tbody>\n",
       "    <tr>\n",
       "      <th>22</th>\n",
       "      <td>2018-05-01</td>\n",
       "      <td>2016-03-31 01:16:33</td>\n",
       "      <td>5</td>\n",
       "    </tr>\n",
       "    <tr>\n",
       "      <th>26</th>\n",
       "      <td>2017-04-01</td>\n",
       "      <td>2016-03-16 09:16:46</td>\n",
       "      <td>4</td>\n",
       "    </tr>\n",
       "    <tr>\n",
       "      <th>31</th>\n",
       "      <td>2016-06-01</td>\n",
       "      <td>2016-03-29 17:43:07</td>\n",
       "      <td>6</td>\n",
       "    </tr>\n",
       "    <tr>\n",
       "      <th>35</th>\n",
       "      <td>2016-04-01</td>\n",
       "      <td>2016-03-08 09:44:50</td>\n",
       "      <td>4</td>\n",
       "    </tr>\n",
       "    <tr>\n",
       "      <th>48</th>\n",
       "      <td>2017-01-01</td>\n",
       "      <td>2016-03-31 21:47:44</td>\n",
       "      <td>1</td>\n",
       "    </tr>\n",
       "    <tr>\n",
       "      <th>...</th>\n",
       "      <td>...</td>\n",
       "      <td>...</td>\n",
       "      <td>...</td>\n",
       "    </tr>\n",
       "    <tr>\n",
       "      <th>354165</th>\n",
       "      <td>2016-08-01</td>\n",
       "      <td>2016-04-06 05:46:43</td>\n",
       "      <td>8</td>\n",
       "    </tr>\n",
       "    <tr>\n",
       "      <th>354194</th>\n",
       "      <td>2016-08-01</td>\n",
       "      <td>2016-03-13 02:45:51</td>\n",
       "      <td>8</td>\n",
       "    </tr>\n",
       "    <tr>\n",
       "      <th>354199</th>\n",
       "      <td>2018-06-01</td>\n",
       "      <td>2016-03-29 15:45:04</td>\n",
       "      <td>6</td>\n",
       "    </tr>\n",
       "    <tr>\n",
       "      <th>354285</th>\n",
       "      <td>2017-07-01</td>\n",
       "      <td>2016-04-05 11:48:09</td>\n",
       "      <td>7</td>\n",
       "    </tr>\n",
       "    <tr>\n",
       "      <th>354357</th>\n",
       "      <td>2016-12-01</td>\n",
       "      <td>2016-03-13 01:44:13</td>\n",
       "      <td>12</td>\n",
       "    </tr>\n",
       "  </tbody>\n",
       "</table>\n",
       "<p>15854 rows × 3 columns</p>\n",
       "</div>"
      ],
      "text/plain": [
       "       date_registration            LastSeen  RegistrationMonth\n",
       "22            2018-05-01 2016-03-31 01:16:33                  5\n",
       "26            2017-04-01 2016-03-16 09:16:46                  4\n",
       "31            2016-06-01 2016-03-29 17:43:07                  6\n",
       "35            2016-04-01 2016-03-08 09:44:50                  4\n",
       "48            2017-01-01 2016-03-31 21:47:44                  1\n",
       "...                  ...                 ...                ...\n",
       "354165        2016-08-01 2016-04-06 05:46:43                  8\n",
       "354194        2016-08-01 2016-03-13 02:45:51                  8\n",
       "354199        2018-06-01 2016-03-29 15:45:04                  6\n",
       "354285        2017-07-01 2016-04-05 11:48:09                  7\n",
       "354357        2016-12-01 2016-03-13 01:44:13                 12\n",
       "\n",
       "[15854 rows x 3 columns]"
      ]
     },
     "execution_count": 11,
     "metadata": {},
     "output_type": "execute_result"
    }
   ],
   "source": [
    "#троки в которых дата регистрации первышает дату последнего посещения\n",
    "date_registration = date_registration[date_registration['date_registration'] > date_registration['LastSeen']]\n",
    "date_registration"
   ]
  },
  {
   "cell_type": "code",
   "execution_count": 12,
   "metadata": {},
   "outputs": [],
   "source": [
    "data = data.drop(date_registration.index).reset_index(drop=True)"
   ]
  },
  {
   "cell_type": "code",
   "execution_count": 13,
   "metadata": {},
   "outputs": [
    {
     "name": "stdout",
     "output_type": "stream",
     "text": [
      "<class 'pandas.core.frame.DataFrame'>\n",
      "RangeIndex: 338511 entries, 0 to 338510\n",
      "Data columns (total 10 columns):\n",
      " #   Column            Non-Null Count   Dtype \n",
      "---  ------            --------------   ----- \n",
      " 0   Price             338511 non-null  int64 \n",
      " 1   VehicleType       316836 non-null  object\n",
      " 2   RegistrationYear  338511 non-null  int64 \n",
      " 3   Gearbox           320028 non-null  object\n",
      " 4   Power             338511 non-null  int64 \n",
      " 5   Model             320796 non-null  object\n",
      " 6   Kilometer         338511 non-null  int64 \n",
      " 7   FuelType          311815 non-null  object\n",
      " 8   Brand             338511 non-null  object\n",
      " 9   Repaired          273540 non-null  object\n",
      "dtypes: int64(4), object(6)\n",
      "memory usage: 25.8+ MB\n"
     ]
    }
   ],
   "source": [
    "data = data.drop(['NumberOfPictures', 'DateCrawled', 'PostalCode', 'LastSeen', 'RegistrationMonth', 'DateCreated', 'date_registration'], axis=1)\n",
    "data.info()"
   ]
  },
  {
   "cell_type": "markdown",
   "metadata": {},
   "source": [
    "Удаление аномальных значение"
   ]
  },
  {
   "cell_type": "code",
   "execution_count": 14,
   "metadata": {},
   "outputs": [
    {
     "data": {
      "text/plain": [
       "array([[<AxesSubplot:title={'center':'Price'}>,\n",
       "        <AxesSubplot:title={'center':'RegistrationYear'}>],\n",
       "       [<AxesSubplot:title={'center':'Power'}>,\n",
       "        <AxesSubplot:title={'center':'Kilometer'}>]], dtype=object)"
      ]
     },
     "execution_count": 14,
     "metadata": {},
     "output_type": "execute_result"
    },
    {
     "data": {
      "image/png": "[encoded data removed]",
      "text/plain": [
       "<Figure size 1080x720 with 4 Axes>"
      ]
     },
     "metadata": {
      "needs_background": "light"
     },
     "output_type": "display_data"
    }
   ],
   "source": [
    "data.hist(figsize=(15,10))"
   ]
  },
  {
   "cell_type": "code",
   "execution_count": 15,
   "metadata": {},
   "outputs": [
    {
     "data": {
      "text/plain": [
       "<AxesSubplot:xlabel='Power', ylabel='Price'>"
      ]
     },
     "execution_count": 15,
     "metadata": {},
     "output_type": "execute_result"
    },
    {
     "data": {
      "image/png": "[encoded data removed]",
      "text/plain": [
       "<Figure size 432x288 with 1 Axes>"
      ]
     },
     "metadata": {
      "needs_background": "light"
     },
     "output_type": "display_data"
    }
   ],
   "source": [
    "data.plot.scatter(x='Power', y='Price', xlim=(1, 800))"
   ]
  },
  {
   "cell_type": "code",
   "execution_count": 16,
   "metadata": {},
   "outputs": [
    {
     "data": {
      "text/plain": [
       "<AxesSubplot:>"
      ]
     },
     "execution_count": 16,
     "metadata": {},
     "output_type": "execute_result"
    },
    {
     "data": {
      "image/png": "[encoded data removed]",
      "text/plain": [
       "<Figure size 432x288 with 1 Axes>"
      ]
     },
     "metadata": {
      "needs_background": "light"
     },
     "output_type": "display_data"
    }
   ],
   "source": [
    "data[data['Power'] < 1000]['Power'].hist(bins=50)"
   ]
  },
  {
   "cell_type": "code",
   "execution_count": 17,
   "metadata": {},
   "outputs": [
    {
     "name": "stdout",
     "output_type": "stream",
     "text": [
      "<class 'pandas.core.frame.DataFrame'>\n",
      "Int64Index: 301276 entries, 1 to 338510\n",
      "Data columns (total 10 columns):\n",
      " #   Column            Non-Null Count   Dtype \n",
      "---  ------            --------------   ----- \n",
      " 0   Price             301276 non-null  int64 \n",
      " 1   VehicleType       290831 non-null  object\n",
      " 2   RegistrationYear  301276 non-null  int64 \n",
      " 3   Gearbox           295410 non-null  object\n",
      " 4   Power             301276 non-null  int64 \n",
      " 5   Model             289385 non-null  object\n",
      " 6   Kilometer         301276 non-null  int64 \n",
      " 7   FuelType          285429 non-null  object\n",
      " 8   Brand             301276 non-null  object\n",
      " 9   Repaired          256286 non-null  object\n",
      "dtypes: int64(4), object(6)\n",
      "memory usage: 25.3+ MB\n"
     ]
    }
   ],
   "source": [
    "data = data[(data['Power']<500) & (data['Power']>0)]\n",
    "data.info()"
   ]
  },
  {
   "cell_type": "markdown",
   "metadata": {},
   "source": [
    "<b>Вывод</b>Значения близкие к 0 и выше 600л.с можно считать выбросами, данные строки можно удалить, с увеличением л.с не наблюдается рост цен, и автомобилей выше 1000-2500 л.с достаточно мало или вообще не существует    "
   ]
  },
  {
   "cell_type": "markdown",
   "metadata": {},
   "source": [
    "### Удаление пропусков"
   ]
  },
  {
   "cell_type": "code",
   "execution_count": 18,
   "metadata": {},
   "outputs": [
    {
     "data": {
      "text/plain": [
       "Price                   0\n",
       "VehicleType         10445\n",
       "RegistrationYear        0\n",
       "Gearbox              5866\n",
       "Power                   0\n",
       "Model               11891\n",
       "Kilometer               0\n",
       "FuelType            15847\n",
       "Brand                   0\n",
       "Repaired            44990\n",
       "dtype: int64"
      ]
     },
     "execution_count": 18,
     "metadata": {},
     "output_type": "execute_result"
    }
   ],
   "source": [
    "data.isna().sum()"
   ]
  },
  {
   "cell_type": "code",
   "execution_count": 19,
   "metadata": {},
   "outputs": [
    {
     "data": {
      "text/html": [
       "<div>\n",
       "<style scoped>\n",
       "    .dataframe tbody tr th:only-of-type {\n",
       "        vertical-align: middle;\n",
       "    }\n",
       "\n",
       "    .dataframe tbody tr th {\n",
       "        vertical-align: top;\n",
       "    }\n",
       "\n",
       "    .dataframe thead th {\n",
       "        text-align: right;\n",
       "    }\n",
       "</style>\n",
       "<table border=\"1\" class=\"dataframe\">\n",
       "  <thead>\n",
       "    <tr style=\"text-align: right;\">\n",
       "      <th></th>\n",
       "      <th>Price</th>\n",
       "      <th>VehicleType</th>\n",
       "      <th>RegistrationYear</th>\n",
       "      <th>Gearbox</th>\n",
       "      <th>Power</th>\n",
       "      <th>Model</th>\n",
       "      <th>Kilometer</th>\n",
       "      <th>FuelType</th>\n",
       "      <th>Brand</th>\n",
       "      <th>Repaired</th>\n",
       "    </tr>\n",
       "  </thead>\n",
       "  <tbody>\n",
       "    <tr>\n",
       "      <th>1259</th>\n",
       "      <td>650</td>\n",
       "      <td>NaN</td>\n",
       "      <td>1970</td>\n",
       "      <td>NaN</td>\n",
       "      <td>26</td>\n",
       "      <td>NaN</td>\n",
       "      <td>100000</td>\n",
       "      <td>NaN</td>\n",
       "      <td>trabant</td>\n",
       "      <td>NaN</td>\n",
       "    </tr>\n",
       "    <tr>\n",
       "      <th>1272</th>\n",
       "      <td>899</td>\n",
       "      <td>NaN</td>\n",
       "      <td>1990</td>\n",
       "      <td>NaN</td>\n",
       "      <td>37</td>\n",
       "      <td>NaN</td>\n",
       "      <td>60000</td>\n",
       "      <td>NaN</td>\n",
       "      <td>sonstige_autos</td>\n",
       "      <td>NaN</td>\n",
       "    </tr>\n",
       "    <tr>\n",
       "      <th>2656</th>\n",
       "      <td>2800</td>\n",
       "      <td>NaN</td>\n",
       "      <td>2005</td>\n",
       "      <td>NaN</td>\n",
       "      <td>150</td>\n",
       "      <td>NaN</td>\n",
       "      <td>150000</td>\n",
       "      <td>NaN</td>\n",
       "      <td>sonstige_autos</td>\n",
       "      <td>NaN</td>\n",
       "    </tr>\n",
       "    <tr>\n",
       "      <th>3655</th>\n",
       "      <td>300</td>\n",
       "      <td>NaN</td>\n",
       "      <td>2000</td>\n",
       "      <td>NaN</td>\n",
       "      <td>45</td>\n",
       "      <td>NaN</td>\n",
       "      <td>150000</td>\n",
       "      <td>NaN</td>\n",
       "      <td>opel</td>\n",
       "      <td>NaN</td>\n",
       "    </tr>\n",
       "    <tr>\n",
       "      <th>4618</th>\n",
       "      <td>0</td>\n",
       "      <td>NaN</td>\n",
       "      <td>2005</td>\n",
       "      <td>NaN</td>\n",
       "      <td>105</td>\n",
       "      <td>NaN</td>\n",
       "      <td>150000</td>\n",
       "      <td>NaN</td>\n",
       "      <td>volkswagen</td>\n",
       "      <td>NaN</td>\n",
       "    </tr>\n",
       "    <tr>\n",
       "      <th>...</th>\n",
       "      <td>...</td>\n",
       "      <td>...</td>\n",
       "      <td>...</td>\n",
       "      <td>...</td>\n",
       "      <td>...</td>\n",
       "      <td>...</td>\n",
       "      <td>...</td>\n",
       "      <td>...</td>\n",
       "      <td>...</td>\n",
       "      <td>...</td>\n",
       "    </tr>\n",
       "    <tr>\n",
       "      <th>333837</th>\n",
       "      <td>399</td>\n",
       "      <td>NaN</td>\n",
       "      <td>2016</td>\n",
       "      <td>NaN</td>\n",
       "      <td>55</td>\n",
       "      <td>NaN</td>\n",
       "      <td>50000</td>\n",
       "      <td>NaN</td>\n",
       "      <td>skoda</td>\n",
       "      <td>NaN</td>\n",
       "    </tr>\n",
       "    <tr>\n",
       "      <th>333886</th>\n",
       "      <td>0</td>\n",
       "      <td>NaN</td>\n",
       "      <td>2006</td>\n",
       "      <td>NaN</td>\n",
       "      <td>170</td>\n",
       "      <td>NaN</td>\n",
       "      <td>150000</td>\n",
       "      <td>NaN</td>\n",
       "      <td>mercedes_benz</td>\n",
       "      <td>NaN</td>\n",
       "    </tr>\n",
       "    <tr>\n",
       "      <th>335701</th>\n",
       "      <td>20</td>\n",
       "      <td>NaN</td>\n",
       "      <td>1970</td>\n",
       "      <td>NaN</td>\n",
       "      <td>55</td>\n",
       "      <td>NaN</td>\n",
       "      <td>150000</td>\n",
       "      <td>NaN</td>\n",
       "      <td>opel</td>\n",
       "      <td>NaN</td>\n",
       "    </tr>\n",
       "    <tr>\n",
       "      <th>336836</th>\n",
       "      <td>1850</td>\n",
       "      <td>NaN</td>\n",
       "      <td>2000</td>\n",
       "      <td>NaN</td>\n",
       "      <td>89</td>\n",
       "      <td>NaN</td>\n",
       "      <td>150000</td>\n",
       "      <td>NaN</td>\n",
       "      <td>fiat</td>\n",
       "      <td>NaN</td>\n",
       "    </tr>\n",
       "    <tr>\n",
       "      <th>337294</th>\n",
       "      <td>1200</td>\n",
       "      <td>NaN</td>\n",
       "      <td>2000</td>\n",
       "      <td>NaN</td>\n",
       "      <td>75</td>\n",
       "      <td>NaN</td>\n",
       "      <td>150000</td>\n",
       "      <td>NaN</td>\n",
       "      <td>volkswagen</td>\n",
       "      <td>NaN</td>\n",
       "    </tr>\n",
       "  </tbody>\n",
       "</table>\n",
       "<p>180 rows × 10 columns</p>\n",
       "</div>"
      ],
      "text/plain": [
       "        Price VehicleType  RegistrationYear Gearbox  Power Model  Kilometer  \\\n",
       "1259      650         NaN              1970     NaN     26   NaN     100000   \n",
       "1272      899         NaN              1990     NaN     37   NaN      60000   \n",
       "2656     2800         NaN              2005     NaN    150   NaN     150000   \n",
       "3655      300         NaN              2000     NaN     45   NaN     150000   \n",
       "4618        0         NaN              2005     NaN    105   NaN     150000   \n",
       "...       ...         ...               ...     ...    ...   ...        ...   \n",
       "333837    399         NaN              2016     NaN     55   NaN      50000   \n",
       "333886      0         NaN              2006     NaN    170   NaN     150000   \n",
       "335701     20         NaN              1970     NaN     55   NaN     150000   \n",
       "336836   1850         NaN              2000     NaN     89   NaN     150000   \n",
       "337294   1200         NaN              2000     NaN     75   NaN     150000   \n",
       "\n",
       "       FuelType           Brand Repaired  \n",
       "1259        NaN         trabant      NaN  \n",
       "1272        NaN  sonstige_autos      NaN  \n",
       "2656        NaN  sonstige_autos      NaN  \n",
       "3655        NaN            opel      NaN  \n",
       "4618        NaN      volkswagen      NaN  \n",
       "...         ...             ...      ...  \n",
       "333837      NaN           skoda      NaN  \n",
       "333886      NaN   mercedes_benz      NaN  \n",
       "335701      NaN            opel      NaN  \n",
       "336836      NaN            fiat      NaN  \n",
       "337294      NaN      volkswagen      NaN  \n",
       "\n",
       "[180 rows x 10 columns]"
      ]
     },
     "execution_count": 19,
     "metadata": {},
     "output_type": "execute_result"
    }
   ],
   "source": [
    "data[(data['Gearbox'].isna()) & (data['Repaired'].isna()) & (data['FuelType'].isna()) & (data['Model'].isna()) & (data['VehicleType'].isna())]"
   ]
  },
  {
   "cell_type": "code",
   "execution_count": 20,
   "metadata": {},
   "outputs": [
    {
     "name": "stdout",
     "output_type": "stream",
     "text": [
      "<class 'pandas.core.frame.DataFrame'>\n",
      "Int64Index: 296309 entries, 1 to 338510\n",
      "Data columns (total 10 columns):\n",
      " #   Column            Non-Null Count   Dtype \n",
      "---  ------            --------------   ----- \n",
      " 0   Price             296309 non-null  int64 \n",
      " 1   VehicleType       289546 non-null  object\n",
      " 2   RegistrationYear  296309 non-null  int64 \n",
      " 3   Gearbox           292469 non-null  object\n",
      " 4   Power             296309 non-null  int64 \n",
      " 5   Model             286800 non-null  object\n",
      " 6   Kilometer         296309 non-null  int64 \n",
      " 7   FuelType          284296 non-null  object\n",
      " 8   Brand             296309 non-null  object\n",
      " 9   Repaired          255719 non-null  object\n",
      "dtypes: int64(4), object(6)\n",
      "memory usage: 24.9+ MB\n"
     ]
    }
   ],
   "source": [
    "data = data.dropna(subset=['VehicleType', 'Gearbox', 'Model', 'Repaired','FuelType'], thresh=3)\n",
    "data.info()"
   ]
  },
  {
   "cell_type": "code",
   "execution_count": 21,
   "metadata": {},
   "outputs": [
    {
     "data": {
      "text/plain": [
       "Price                   0\n",
       "VehicleType          6763\n",
       "RegistrationYear        0\n",
       "Gearbox              3840\n",
       "Power                   0\n",
       "Model                9509\n",
       "Kilometer               0\n",
       "FuelType            12013\n",
       "Brand                   0\n",
       "Repaired            40590\n",
       "dtype: int64"
      ]
     },
     "execution_count": 21,
     "metadata": {},
     "output_type": "execute_result"
    }
   ],
   "source": [
    "data.isna().sum()"
   ]
  },
  {
   "cell_type": "markdown",
   "metadata": {},
   "source": [
    "Просмотр уникальных значений в столбцах с пропущенными значениями"
   ]
  },
  {
   "cell_type": "code",
   "execution_count": 22,
   "metadata": {},
   "outputs": [
    {
     "data": {
      "text/plain": [
       "'FuelType'"
      ]
     },
     "metadata": {},
     "output_type": "display_data"
    },
    {
     "data": {
      "text/plain": [
       "array(['gasoline', 'petrol', nan, 'lpg', 'other', 'hybrid', 'cng',\n",
       "       'electric'], dtype=object)"
      ]
     },
     "metadata": {},
     "output_type": "display_data"
    },
    {
     "data": {
      "text/plain": [
       "'VehicleType'"
      ]
     },
     "metadata": {},
     "output_type": "display_data"
    },
    {
     "data": {
      "text/plain": [
       "array(['coupe', 'suv', 'small', 'sedan', 'convertible', 'bus', 'wagon',\n",
       "       'other', nan], dtype=object)"
      ]
     },
     "metadata": {},
     "output_type": "display_data"
    },
    {
     "data": {
      "text/plain": [
       "'Gearbox'"
      ]
     },
     "metadata": {},
     "output_type": "display_data"
    },
    {
     "data": {
      "text/plain": [
       "array(['manual', 'auto', nan], dtype=object)"
      ]
     },
     "metadata": {},
     "output_type": "display_data"
    },
    {
     "data": {
      "text/plain": [
       "'Repaired'"
      ]
     },
     "metadata": {},
     "output_type": "display_data"
    },
    {
     "data": {
      "text/plain": [
       "array(['yes', nan, 'no'], dtype=object)"
      ]
     },
     "metadata": {},
     "output_type": "display_data"
    },
    {
     "data": {
      "text/plain": [
       "'Model'"
      ]
     },
     "metadata": {},
     "output_type": "display_data"
    },
    {
     "data": {
      "text/plain": [
       "array([nan, 'grand', 'golf', 'fabia', '3er', '2_reihe', 'other', 'c_max',\n",
       "       '3_reihe', 'passat', 'navara', 'twingo', 'a_klasse', 'scirocco',\n",
       "       '5er', 'arosa', 'civic', 'transporter', 'punto', 'e_klasse',\n",
       "       'kadett', 'one', 'fortwo', 'clio', '1er', 'b_klasse', 'a8',\n",
       "       'jetta', 'fiesta', 'c_klasse', 'micra', 'vito', 'sprinter',\n",
       "       'astra', '156', 'escort', 'forester', 'xc_reihe', 'scenic', 'a1',\n",
       "       'focus', 'a4', 'tt', 'a6', 'jazz', 'omega', 'polo', 'slk', '7er',\n",
       "       'combo', 'corsa', '80', '147', 'meriva', 'z_reihe', 'sorento',\n",
       "       'ibiza', 'mustang', 'eos', 'touran', 'getz', 'insignia', 'ka',\n",
       "       'megane', 'a3', 'lupo', 'r19', 'caddy', 'mondeo', 'cordoba',\n",
       "       'colt', 'impreza', 'vectra', 'berlingo', 'tiguan', 'i_reihe',\n",
       "       '6_reihe', 'c4', 'panda', 'up', 'ceed', 'kangoo', '5_reihe',\n",
       "       'yeti', 'octavia', 'zafira', 'mii', 'rx_reihe', '6er', 'modus',\n",
       "       'fox', 'matiz', 'beetle', 'rio', 'touareg', 'logan', 'spider',\n",
       "       'cuore', 's_max', 'a2', 'galaxy', 'c3', 'viano', 's_klasse',\n",
       "       '1_reihe', 'sharan', 'avensis', 'roomster', 'sl', 'kaefer',\n",
       "       'santa', 'leon', 'cooper', '4_reihe', 'a5', 'sportage', 'laguna',\n",
       "       'ptcruiser', 'clk', 'primera', 'espace', 'exeo', '159', 'transit',\n",
       "       'juke', 'x_reihe', 'v40', 'carisma', 'accord', 'corolla', 'lanos',\n",
       "       'phaeton', 'verso', 'swift', 'rav', 'qashqai', 'picanto',\n",
       "       'boxster', 'superb', 'stilo', 'alhambra', 'mx_reihe', 'roadster',\n",
       "       'ypsilon', 'galant', 'justy', '90', 'sirion', 'signum',\n",
       "       'crossfire', 'agila', 'duster', 'v50', '500', 'c_reihe',\n",
       "       'v_klasse', 'm_klasse', 'yaris', 'c5', 'aygo', 'almera',\n",
       "       'seicento', 'cc', '911', 'bora', 'forfour', 'm_reihe', 'cl',\n",
       "       'tigra', '300c', '100', 'cr_reihe', 'spark', 'kuga', 'x_type',\n",
       "       'ducato', 's_type', 'x_trail', 'toledo', 'altea', 'voyager',\n",
       "       'carnival', 'v70', 'bravo', 'tucson', 'c1', 'citigo', 'jimny',\n",
       "       'cayenne', 'wrangler', 'lybra', 'lancer', 'captiva', 'fusion',\n",
       "       'discovery', 'sandero', 'q7', 'note', 'antara', '900', 'cherokee',\n",
       "       'clubman', 'defender', 'cx_reihe', 'legacy', 'pajero', 'auris',\n",
       "       'c2', 'niva', 's60', 'nubira', 'vivaro', 'g_klasse', 'freelander',\n",
       "       'lodgy', 'range_rover', '601', '850', 'q3', 'serie_2', 'calibra',\n",
       "       'glk', 'charade', 'croma', 'outlander', 'doblo', 'musa', '9000',\n",
       "       'kalos', 'v60', '200', '145', 'b_max', 'range_rover_sport', 'aveo',\n",
       "       'move', 'rangerover', 'q5', 'range_rover_evoque', 'materia',\n",
       "       'delta', 'terios', 'gl', 'kalina', 'elefantino', 'i3', 'samara',\n",
       "       'amarok', 'kappa', 'serie_3'], dtype=object)"
      ]
     },
     "metadata": {},
     "output_type": "display_data"
    }
   ],
   "source": [
    "display('FuelType', data['FuelType'].unique())\n",
    "display('VehicleType', data['VehicleType'].unique())\n",
    "display('Gearbox', data['Gearbox'].unique())\n",
    "display('Repaired', data['Repaired'].unique())\n",
    "display('Model', data['Model'].unique())"
   ]
  },
  {
   "cell_type": "markdown",
   "metadata": {},
   "source": [
    "Пропущенные значения в 'FuelType' и 'VenicleType' можно определить как 'other', в остальных значение невозможно определить, однако количесвто пропусков достаточно высокое, чтобы удалять. В связи с этим пропуски заполним значениями 'unknown' "
   ]
  },
  {
   "cell_type": "code",
   "execution_count": 23,
   "metadata": {},
   "outputs": [
    {
     "data": {
      "text/plain": [
       "Price               0\n",
       "VehicleType         0\n",
       "RegistrationYear    0\n",
       "Gearbox             0\n",
       "Power               0\n",
       "Model               0\n",
       "Kilometer           0\n",
       "FuelType            0\n",
       "Brand               0\n",
       "Repaired            0\n",
       "dtype: int64"
      ]
     },
     "execution_count": 23,
     "metadata": {},
     "output_type": "execute_result"
    }
   ],
   "source": [
    "data['FuelType'] = data['FuelType'].fillna('other')\n",
    "data['VehicleType'] = data['VehicleType'].fillna('other')\n",
    "data['Model'] = data['Model'].fillna('unknown')\n",
    "data['Gearbox'] = data['Gearbox'].fillna('unknown')\n",
    "data['Repaired'] = data['Repaired'].fillna('unknown')\n",
    "data.isna().sum()"
   ]
  },
  {
   "cell_type": "code",
   "execution_count": 24,
   "metadata": {},
   "outputs": [
    {
     "data": {
      "text/plain": [
       "array([1910, 1923, 1927, 1928, 1929, 1930, 1931, 1932, 1933, 1935, 1936,\n",
       "       1937, 1938, 1940, 1941, 1942, 1943, 1944, 1945, 1947, 1948, 1949,\n",
       "       1950, 1951, 1952, 1953, 1954, 1955, 1956, 1957, 1958, 1959, 1960,\n",
       "       1961, 1962, 1963, 1964, 1965, 1966, 1967, 1968, 1969, 1970, 1971,\n",
       "       1972, 1973, 1974, 1975, 1976, 1977, 1978, 1979, 1980, 1981, 1982,\n",
       "       1983, 1984, 1985, 1986, 1987, 1988, 1989, 1990, 1991, 1992, 1993,\n",
       "       1994, 1995, 1996, 1997, 1998, 1999, 2000, 2001, 2002, 2003, 2004,\n",
       "       2005, 2006, 2007, 2008, 2009, 2010, 2011, 2012, 2013, 2014, 2015,\n",
       "       2016, 2017, 2018, 2019, 2900, 5000, 6000, 6500, 9000])"
      ]
     },
     "execution_count": 24,
     "metadata": {},
     "output_type": "execute_result"
    }
   ],
   "source": [
    "data['RegistrationYear'].sort_values().unique()"
   ]
  },
  {
   "cell_type": "markdown",
   "metadata": {},
   "source": [
    "Необходимо удалить данные с годом выше 2019г."
   ]
  },
  {
   "cell_type": "code",
   "execution_count": 25,
   "metadata": {},
   "outputs": [],
   "source": [
    "data = data[data['RegistrationYear'] <= 2019].reset_index(drop=True)"
   ]
  },
  {
   "cell_type": "code",
   "execution_count": 26,
   "metadata": {},
   "outputs": [
    {
     "name": "stdout",
     "output_type": "stream",
     "text": [
      "<class 'pandas.core.frame.DataFrame'>\n",
      "RangeIndex: 296302 entries, 0 to 296301\n",
      "Data columns (total 10 columns):\n",
      " #   Column            Non-Null Count   Dtype \n",
      "---  ------            --------------   ----- \n",
      " 0   Price             296302 non-null  int64 \n",
      " 1   VehicleType       296302 non-null  object\n",
      " 2   RegistrationYear  296302 non-null  int64 \n",
      " 3   Gearbox           296302 non-null  object\n",
      " 4   Power             296302 non-null  int64 \n",
      " 5   Model             296302 non-null  object\n",
      " 6   Kilometer         296302 non-null  int64 \n",
      " 7   FuelType          296302 non-null  object\n",
      " 8   Brand             296302 non-null  object\n",
      " 9   Repaired          296302 non-null  object\n",
      "dtypes: int64(4), object(6)\n",
      "memory usage: 22.6+ MB\n"
     ]
    }
   ],
   "source": [
    "data.info()"
   ]
  },
  {
   "cell_type": "markdown",
   "metadata": {},
   "source": [
    "<b>Вывод</b>Пропущенные значения удалены, а так же заменены на 'other' или 'unknown'"
   ]
  },
  {
   "cell_type": "markdown",
   "metadata": {},
   "source": [
    "### Определение и преобразование признаков"
   ]
  },
  {
   "cell_type": "code",
   "execution_count": 27,
   "metadata": {},
   "outputs": [],
   "source": [
    "RANDOM_STATE = 12345"
   ]
  },
  {
   "cell_type": "code",
   "execution_count": 28,
   "metadata": {},
   "outputs": [],
   "source": [
    "features = data.drop('Price', axis=1)\n",
    "target = data['Price']\n",
    "categorical = ['VehicleType', 'Gearbox', 'Model', 'FuelType', 'Brand', 'Repaired']\n",
    "numerical = ['Power', 'Kilometer', 'RegistrationYear']"
   ]
  },
  {
   "cell_type": "code",
   "execution_count": 29,
   "metadata": {},
   "outputs": [],
   "source": [
    "features_train, features_test, target_train, target_test = train_test_split(features, \n",
    "                                                                                       target, \n",
    "                                                                                       test_size=0.25,\n",
    "                                                                                       random_state=RANDOM_STATE)"
   ]
  },
  {
   "cell_type": "markdown",
   "metadata": {},
   "source": [
    "#### Линейная регрессия"
   ]
  },
  {
   "cell_type": "markdown",
   "metadata": {},
   "source": [
    "Делим признаки на обучающую и тестовую выборку"
   ]
  },
  {
   "cell_type": "code",
   "execution_count": 30,
   "metadata": {},
   "outputs": [],
   "source": [
    "features_train_lr, target_train_lr = features_train.copy(), target_train.copy()"
   ]
  },
  {
   "cell_type": "code",
   "execution_count": 31,
   "metadata": {},
   "outputs": [
    {
     "data": {
      "text/html": [
       "<div>\n",
       "<style scoped>\n",
       "    .dataframe tbody tr th:only-of-type {\n",
       "        vertical-align: middle;\n",
       "    }\n",
       "\n",
       "    .dataframe tbody tr th {\n",
       "        vertical-align: top;\n",
       "    }\n",
       "\n",
       "    .dataframe thead th {\n",
       "        text-align: right;\n",
       "    }\n",
       "</style>\n",
       "<table border=\"1\" class=\"dataframe\">\n",
       "  <thead>\n",
       "    <tr style=\"text-align: right;\">\n",
       "      <th></th>\n",
       "      <th>standardscaler__Power</th>\n",
       "      <th>standardscaler__Kilometer</th>\n",
       "      <th>standardscaler__RegistrationYear</th>\n",
       "      <th>onehotencoder__VehicleType_convertible</th>\n",
       "      <th>onehotencoder__VehicleType_coupe</th>\n",
       "      <th>onehotencoder__VehicleType_other</th>\n",
       "      <th>onehotencoder__VehicleType_sedan</th>\n",
       "      <th>onehotencoder__VehicleType_small</th>\n",
       "      <th>onehotencoder__VehicleType_suv</th>\n",
       "      <th>onehotencoder__VehicleType_wagon</th>\n",
       "      <th>...</th>\n",
       "      <th>onehotencoder__Brand_smart</th>\n",
       "      <th>onehotencoder__Brand_sonstige_autos</th>\n",
       "      <th>onehotencoder__Brand_subaru</th>\n",
       "      <th>onehotencoder__Brand_suzuki</th>\n",
       "      <th>onehotencoder__Brand_toyota</th>\n",
       "      <th>onehotencoder__Brand_trabant</th>\n",
       "      <th>onehotencoder__Brand_volkswagen</th>\n",
       "      <th>onehotencoder__Brand_volvo</th>\n",
       "      <th>onehotencoder__Repaired_unknown</th>\n",
       "      <th>onehotencoder__Repaired_yes</th>\n",
       "    </tr>\n",
       "  </thead>\n",
       "  <tbody>\n",
       "    <tr>\n",
       "      <th>0</th>\n",
       "      <td>1.351123</td>\n",
       "      <td>-0.767379</td>\n",
       "      <td>-0.410186</td>\n",
       "      <td>1.0</td>\n",
       "      <td>0.0</td>\n",
       "      <td>0.0</td>\n",
       "      <td>0.0</td>\n",
       "      <td>0.0</td>\n",
       "      <td>0.0</td>\n",
       "      <td>0.0</td>\n",
       "      <td>...</td>\n",
       "      <td>0.0</td>\n",
       "      <td>0.0</td>\n",
       "      <td>0.0</td>\n",
       "      <td>0.0</td>\n",
       "      <td>0.0</td>\n",
       "      <td>0.0</td>\n",
       "      <td>0.0</td>\n",
       "      <td>0.0</td>\n",
       "      <td>0.0</td>\n",
       "      <td>1.0</td>\n",
       "    </tr>\n",
       "    <tr>\n",
       "      <th>1</th>\n",
       "      <td>-1.134893</td>\n",
       "      <td>-1.310350</td>\n",
       "      <td>-0.410186</td>\n",
       "      <td>0.0</td>\n",
       "      <td>0.0</td>\n",
       "      <td>0.0</td>\n",
       "      <td>0.0</td>\n",
       "      <td>1.0</td>\n",
       "      <td>0.0</td>\n",
       "      <td>0.0</td>\n",
       "      <td>...</td>\n",
       "      <td>0.0</td>\n",
       "      <td>0.0</td>\n",
       "      <td>0.0</td>\n",
       "      <td>0.0</td>\n",
       "      <td>0.0</td>\n",
       "      <td>0.0</td>\n",
       "      <td>0.0</td>\n",
       "      <td>0.0</td>\n",
       "      <td>0.0</td>\n",
       "      <td>0.0</td>\n",
       "    </tr>\n",
       "    <tr>\n",
       "      <th>2</th>\n",
       "      <td>-0.835823</td>\n",
       "      <td>-0.088665</td>\n",
       "      <td>-1.182172</td>\n",
       "      <td>0.0</td>\n",
       "      <td>0.0</td>\n",
       "      <td>1.0</td>\n",
       "      <td>0.0</td>\n",
       "      <td>0.0</td>\n",
       "      <td>0.0</td>\n",
       "      <td>0.0</td>\n",
       "      <td>...</td>\n",
       "      <td>0.0</td>\n",
       "      <td>0.0</td>\n",
       "      <td>0.0</td>\n",
       "      <td>0.0</td>\n",
       "      <td>0.0</td>\n",
       "      <td>0.0</td>\n",
       "      <td>1.0</td>\n",
       "      <td>0.0</td>\n",
       "      <td>0.0</td>\n",
       "      <td>0.0</td>\n",
       "    </tr>\n",
       "    <tr>\n",
       "      <th>3</th>\n",
       "      <td>-0.574137</td>\n",
       "      <td>0.590048</td>\n",
       "      <td>2.060170</td>\n",
       "      <td>0.0</td>\n",
       "      <td>0.0</td>\n",
       "      <td>1.0</td>\n",
       "      <td>0.0</td>\n",
       "      <td>0.0</td>\n",
       "      <td>0.0</td>\n",
       "      <td>0.0</td>\n",
       "      <td>...</td>\n",
       "      <td>0.0</td>\n",
       "      <td>0.0</td>\n",
       "      <td>0.0</td>\n",
       "      <td>0.0</td>\n",
       "      <td>0.0</td>\n",
       "      <td>0.0</td>\n",
       "      <td>1.0</td>\n",
       "      <td>0.0</td>\n",
       "      <td>0.0</td>\n",
       "      <td>0.0</td>\n",
       "    </tr>\n",
       "    <tr>\n",
       "      <th>4</th>\n",
       "      <td>-0.761056</td>\n",
       "      <td>-2.667777</td>\n",
       "      <td>0.824992</td>\n",
       "      <td>0.0</td>\n",
       "      <td>0.0</td>\n",
       "      <td>0.0</td>\n",
       "      <td>0.0</td>\n",
       "      <td>1.0</td>\n",
       "      <td>0.0</td>\n",
       "      <td>0.0</td>\n",
       "      <td>...</td>\n",
       "      <td>0.0</td>\n",
       "      <td>0.0</td>\n",
       "      <td>0.0</td>\n",
       "      <td>0.0</td>\n",
       "      <td>0.0</td>\n",
       "      <td>0.0</td>\n",
       "      <td>0.0</td>\n",
       "      <td>0.0</td>\n",
       "      <td>0.0</td>\n",
       "      <td>0.0</td>\n",
       "    </tr>\n",
       "    <tr>\n",
       "      <th>...</th>\n",
       "      <td>...</td>\n",
       "      <td>...</td>\n",
       "      <td>...</td>\n",
       "      <td>...</td>\n",
       "      <td>...</td>\n",
       "      <td>...</td>\n",
       "      <td>...</td>\n",
       "      <td>...</td>\n",
       "      <td>...</td>\n",
       "      <td>...</td>\n",
       "      <td>...</td>\n",
       "      <td>...</td>\n",
       "      <td>...</td>\n",
       "      <td>...</td>\n",
       "      <td>...</td>\n",
       "      <td>...</td>\n",
       "      <td>...</td>\n",
       "      <td>...</td>\n",
       "      <td>...</td>\n",
       "      <td>...</td>\n",
       "      <td>...</td>\n",
       "    </tr>\n",
       "    <tr>\n",
       "      <th>222221</th>\n",
       "      <td>-1.134893</td>\n",
       "      <td>0.590048</td>\n",
       "      <td>-0.873378</td>\n",
       "      <td>0.0</td>\n",
       "      <td>0.0</td>\n",
       "      <td>0.0</td>\n",
       "      <td>0.0</td>\n",
       "      <td>1.0</td>\n",
       "      <td>0.0</td>\n",
       "      <td>0.0</td>\n",
       "      <td>...</td>\n",
       "      <td>0.0</td>\n",
       "      <td>0.0</td>\n",
       "      <td>0.0</td>\n",
       "      <td>0.0</td>\n",
       "      <td>0.0</td>\n",
       "      <td>0.0</td>\n",
       "      <td>1.0</td>\n",
       "      <td>0.0</td>\n",
       "      <td>1.0</td>\n",
       "      <td>0.0</td>\n",
       "    </tr>\n",
       "    <tr>\n",
       "      <th>222222</th>\n",
       "      <td>0.547373</td>\n",
       "      <td>0.590048</td>\n",
       "      <td>0.207403</td>\n",
       "      <td>0.0</td>\n",
       "      <td>0.0</td>\n",
       "      <td>0.0</td>\n",
       "      <td>0.0</td>\n",
       "      <td>0.0</td>\n",
       "      <td>0.0</td>\n",
       "      <td>1.0</td>\n",
       "      <td>...</td>\n",
       "      <td>0.0</td>\n",
       "      <td>0.0</td>\n",
       "      <td>0.0</td>\n",
       "      <td>0.0</td>\n",
       "      <td>0.0</td>\n",
       "      <td>0.0</td>\n",
       "      <td>0.0</td>\n",
       "      <td>0.0</td>\n",
       "      <td>0.0</td>\n",
       "      <td>0.0</td>\n",
       "    </tr>\n",
       "    <tr>\n",
       "      <th>222223</th>\n",
       "      <td>-0.574137</td>\n",
       "      <td>-2.396292</td>\n",
       "      <td>1.596978</td>\n",
       "      <td>0.0</td>\n",
       "      <td>0.0</td>\n",
       "      <td>0.0</td>\n",
       "      <td>0.0</td>\n",
       "      <td>1.0</td>\n",
       "      <td>0.0</td>\n",
       "      <td>0.0</td>\n",
       "      <td>...</td>\n",
       "      <td>0.0</td>\n",
       "      <td>0.0</td>\n",
       "      <td>0.0</td>\n",
       "      <td>0.0</td>\n",
       "      <td>0.0</td>\n",
       "      <td>0.0</td>\n",
       "      <td>0.0</td>\n",
       "      <td>0.0</td>\n",
       "      <td>0.0</td>\n",
       "      <td>0.0</td>\n",
       "    </tr>\n",
       "    <tr>\n",
       "      <th>222224</th>\n",
       "      <td>0.192228</td>\n",
       "      <td>0.590048</td>\n",
       "      <td>0.670595</td>\n",
       "      <td>0.0</td>\n",
       "      <td>1.0</td>\n",
       "      <td>0.0</td>\n",
       "      <td>0.0</td>\n",
       "      <td>0.0</td>\n",
       "      <td>0.0</td>\n",
       "      <td>0.0</td>\n",
       "      <td>...</td>\n",
       "      <td>0.0</td>\n",
       "      <td>0.0</td>\n",
       "      <td>0.0</td>\n",
       "      <td>0.0</td>\n",
       "      <td>0.0</td>\n",
       "      <td>0.0</td>\n",
       "      <td>0.0</td>\n",
       "      <td>0.0</td>\n",
       "      <td>0.0</td>\n",
       "      <td>0.0</td>\n",
       "    </tr>\n",
       "    <tr>\n",
       "      <th>222225</th>\n",
       "      <td>1.295047</td>\n",
       "      <td>0.590048</td>\n",
       "      <td>0.824992</td>\n",
       "      <td>0.0</td>\n",
       "      <td>0.0</td>\n",
       "      <td>0.0</td>\n",
       "      <td>1.0</td>\n",
       "      <td>0.0</td>\n",
       "      <td>0.0</td>\n",
       "      <td>0.0</td>\n",
       "      <td>...</td>\n",
       "      <td>0.0</td>\n",
       "      <td>0.0</td>\n",
       "      <td>0.0</td>\n",
       "      <td>0.0</td>\n",
       "      <td>0.0</td>\n",
       "      <td>0.0</td>\n",
       "      <td>0.0</td>\n",
       "      <td>0.0</td>\n",
       "      <td>1.0</td>\n",
       "      <td>0.0</td>\n",
       "    </tr>\n",
       "  </tbody>\n",
       "</table>\n",
       "<p>222226 rows × 308 columns</p>\n",
       "</div>"
      ],
      "text/plain": [
       "        standardscaler__Power  standardscaler__Kilometer  \\\n",
       "0                    1.351123                  -0.767379   \n",
       "1                   -1.134893                  -1.310350   \n",
       "2                   -0.835823                  -0.088665   \n",
       "3                   -0.574137                   0.590048   \n",
       "4                   -0.761056                  -2.667777   \n",
       "...                       ...                        ...   \n",
       "222221              -1.134893                   0.590048   \n",
       "222222               0.547373                   0.590048   \n",
       "222223              -0.574137                  -2.396292   \n",
       "222224               0.192228                   0.590048   \n",
       "222225               1.295047                   0.590048   \n",
       "\n",
       "        standardscaler__RegistrationYear  \\\n",
       "0                              -0.410186   \n",
       "1                              -0.410186   \n",
       "2                              -1.182172   \n",
       "3                               2.060170   \n",
       "4                               0.824992   \n",
       "...                                  ...   \n",
       "222221                         -0.873378   \n",
       "222222                          0.207403   \n",
       "222223                          1.596978   \n",
       "222224                          0.670595   \n",
       "222225                          0.824992   \n",
       "\n",
       "        onehotencoder__VehicleType_convertible  \\\n",
       "0                                          1.0   \n",
       "1                                          0.0   \n",
       "2                                          0.0   \n",
       "3                                          0.0   \n",
       "4                                          0.0   \n",
       "...                                        ...   \n",
       "222221                                     0.0   \n",
       "222222                                     0.0   \n",
       "222223                                     0.0   \n",
       "222224                                     0.0   \n",
       "222225                                     0.0   \n",
       "\n",
       "        onehotencoder__VehicleType_coupe  onehotencoder__VehicleType_other  \\\n",
       "0                                    0.0                               0.0   \n",
       "1                                    0.0                               0.0   \n",
       "2                                    0.0                               1.0   \n",
       "3                                    0.0                               1.0   \n",
       "4                                    0.0                               0.0   \n",
       "...                                  ...                               ...   \n",
       "222221                               0.0                               0.0   \n",
       "222222                               0.0                               0.0   \n",
       "222223                               0.0                               0.0   \n",
       "222224                               1.0                               0.0   \n",
       "222225                               0.0                               0.0   \n",
       "\n",
       "        onehotencoder__VehicleType_sedan  onehotencoder__VehicleType_small  \\\n",
       "0                                    0.0                               0.0   \n",
       "1                                    0.0                               1.0   \n",
       "2                                    0.0                               0.0   \n",
       "3                                    0.0                               0.0   \n",
       "4                                    0.0                               1.0   \n",
       "...                                  ...                               ...   \n",
       "222221                               0.0                               1.0   \n",
       "222222                               0.0                               0.0   \n",
       "222223                               0.0                               1.0   \n",
       "222224                               0.0                               0.0   \n",
       "222225                               1.0                               0.0   \n",
       "\n",
       "        onehotencoder__VehicleType_suv  onehotencoder__VehicleType_wagon  ...  \\\n",
       "0                                  0.0                               0.0  ...   \n",
       "1                                  0.0                               0.0  ...   \n",
       "2                                  0.0                               0.0  ...   \n",
       "3                                  0.0                               0.0  ...   \n",
       "4                                  0.0                               0.0  ...   \n",
       "...                                ...                               ...  ...   \n",
       "222221                             0.0                               0.0  ...   \n",
       "222222                             0.0                               1.0  ...   \n",
       "222223                             0.0                               0.0  ...   \n",
       "222224                             0.0                               0.0  ...   \n",
       "222225                             0.0                               0.0  ...   \n",
       "\n",
       "        onehotencoder__Brand_smart  onehotencoder__Brand_sonstige_autos  \\\n",
       "0                              0.0                                  0.0   \n",
       "1                              0.0                                  0.0   \n",
       "2                              0.0                                  0.0   \n",
       "3                              0.0                                  0.0   \n",
       "4                              0.0                                  0.0   \n",
       "...                            ...                                  ...   \n",
       "222221                         0.0                                  0.0   \n",
       "222222                         0.0                                  0.0   \n",
       "222223                         0.0                                  0.0   \n",
       "222224                         0.0                                  0.0   \n",
       "222225                         0.0                                  0.0   \n",
       "\n",
       "        onehotencoder__Brand_subaru  onehotencoder__Brand_suzuki  \\\n",
       "0                               0.0                          0.0   \n",
       "1                               0.0                          0.0   \n",
       "2                               0.0                          0.0   \n",
       "3                               0.0                          0.0   \n",
       "4                               0.0                          0.0   \n",
       "...                             ...                          ...   \n",
       "222221                          0.0                          0.0   \n",
       "222222                          0.0                          0.0   \n",
       "222223                          0.0                          0.0   \n",
       "222224                          0.0                          0.0   \n",
       "222225                          0.0                          0.0   \n",
       "\n",
       "        onehotencoder__Brand_toyota  onehotencoder__Brand_trabant  \\\n",
       "0                               0.0                           0.0   \n",
       "1                               0.0                           0.0   \n",
       "2                               0.0                           0.0   \n",
       "3                               0.0                           0.0   \n",
       "4                               0.0                           0.0   \n",
       "...                             ...                           ...   \n",
       "222221                          0.0                           0.0   \n",
       "222222                          0.0                           0.0   \n",
       "222223                          0.0                           0.0   \n",
       "222224                          0.0                           0.0   \n",
       "222225                          0.0                           0.0   \n",
       "\n",
       "        onehotencoder__Brand_volkswagen  onehotencoder__Brand_volvo  \\\n",
       "0                                   0.0                         0.0   \n",
       "1                                   0.0                         0.0   \n",
       "2                                   1.0                         0.0   \n",
       "3                                   1.0                         0.0   \n",
       "4                                   0.0                         0.0   \n",
       "...                                 ...                         ...   \n",
       "222221                              1.0                         0.0   \n",
       "222222                              0.0                         0.0   \n",
       "222223                              0.0                         0.0   \n",
       "222224                              0.0                         0.0   \n",
       "222225                              0.0                         0.0   \n",
       "\n",
       "        onehotencoder__Repaired_unknown  onehotencoder__Repaired_yes  \n",
       "0                                   0.0                          1.0  \n",
       "1                                   0.0                          0.0  \n",
       "2                                   0.0                          0.0  \n",
       "3                                   0.0                          0.0  \n",
       "4                                   0.0                          0.0  \n",
       "...                                 ...                          ...  \n",
       "222221                              1.0                          0.0  \n",
       "222222                              0.0                          0.0  \n",
       "222223                              0.0                          0.0  \n",
       "222224                              0.0                          0.0  \n",
       "222225                              1.0                          0.0  \n",
       "\n",
       "[222226 rows x 308 columns]"
      ]
     },
     "execution_count": 31,
     "metadata": {},
     "output_type": "execute_result"
    }
   ],
   "source": [
    "#КОД РЕВЬЮЕРА\n",
    "col_transform_lr = make_column_transformer(\n",
    "   (StandardScaler(), numerical),\n",
    "   (OneHotEncoder(drop='first'), categorical),\n",
    "   remainder='passthrough')\n",
    "\n",
    "features_train_lr = pd.DataFrame.sparse.from_spmatrix(col_transform_lr.fit_transform(features_train_lr), columns=col_transform_lr.get_feature_names_out())\n",
    "features_train_lr"
   ]
  },
  {
   "cell_type": "markdown",
   "metadata": {},
   "source": [
    "#### Случайный лес"
   ]
  },
  {
   "cell_type": "code",
   "execution_count": 32,
   "metadata": {},
   "outputs": [],
   "source": [
    "features_train_rf, target_train_rf = features_train.copy(), target_train.copy()"
   ]
  },
  {
   "cell_type": "code",
   "execution_count": 33,
   "metadata": {},
   "outputs": [],
   "source": [
    "#Для модели решающее дерево и случайный лес необходимо использовать OrdinalEncoding\n",
    "oe = OrdinalEncoder()\n",
    "features_train_rf_final = pd.DataFrame(oe.fit_transform(features_train_rf[categorical]), columns=categorical, index=features_train_rf.index)\n",
    "features_train_rf_final[numerical] = features_train_rf[numerical] \n",
    "target_train_rf_final = target_train_rf"
   ]
  },
  {
   "cell_type": "markdown",
   "metadata": {},
   "source": [
    "#### LightGBM"
   ]
  },
  {
   "cell_type": "code",
   "execution_count": 34,
   "metadata": {},
   "outputs": [
    {
     "name": "stdout",
     "output_type": "stream",
     "text": [
      "<class 'pandas.core.frame.DataFrame'>\n",
      "Int64Index: 222226 entries, 237147 to 217570\n",
      "Data columns (total 9 columns):\n",
      " #   Column            Non-Null Count   Dtype   \n",
      "---  ------            --------------   -----   \n",
      " 0   VehicleType       222226 non-null  category\n",
      " 1   RegistrationYear  222226 non-null  int64   \n",
      " 2   Gearbox           222226 non-null  category\n",
      " 3   Power             222226 non-null  int64   \n",
      " 4   Model             222226 non-null  category\n",
      " 5   Kilometer         222226 non-null  int64   \n",
      " 6   FuelType          222226 non-null  category\n",
      " 7   Brand             222226 non-null  category\n",
      " 8   Repaired          222226 non-null  category\n",
      "dtypes: category(6), int64(3)\n",
      "memory usage: 8.3 MB\n"
     ]
    }
   ],
   "source": [
    "#для модели LightGBM\n",
    "features_train_gbm, target_train_gbm = features_train.copy(), target_train.copy()\n",
    "\n",
    "features_train_gbm = features_train.copy()\n",
    "target_train_gbm = target_train.copy()\n",
    "\n",
    "sub_category = features_train_gbm.columns\n",
    "for i in sub_category:\n",
    "    if features_train_gbm[i].dtype == 'object':\n",
    "        features_train_gbm[i] = features_train_gbm[i].astype('category')\n",
    "features_train_gbm.info()"
   ]
  },
  {
   "cell_type": "markdown",
   "metadata": {},
   "source": [
    "<b>Вывод</b>\n",
    " - Для обучения модели Линейной Регрессии была выбрана технология OneHotEncoder\n",
    " - Для обучения другий моделей была выбрана технология OrdinalEncoder, в связи с большим количеством признаков по OneHotEncoder\n",
    " - Для обучения LightGBM необходимо было изменить тип данных категориальных переменных"
   ]
  },
  {
   "cell_type": "code",
   "execution_count": null,
   "metadata": {},
   "outputs": [],
   "source": []
  },
  {
   "cell_type": "markdown",
   "metadata": {},
   "source": [
    "## Обучение моделей"
   ]
  },
  {
   "cell_type": "code",
   "execution_count": 35,
   "metadata": {},
   "outputs": [],
   "source": [
    "RANDOM_STATE = 12345"
   ]
  },
  {
   "cell_type": "markdown",
   "metadata": {},
   "source": [
    "### Линейная Регресиия"
   ]
  },
  {
   "cell_type": "markdown",
   "metadata": {},
   "source": [
    "Время обучения"
   ]
  },
  {
   "cell_type": "code",
   "execution_count": 36,
   "metadata": {},
   "outputs": [
    {
     "name": "stdout",
     "output_type": "stream",
     "text": [
      "CPU times: user 17.9 s, sys: 22.6 s, total: 40.6 s\n",
      "Wall time: 40.8 s\n"
     ]
    },
    {
     "data": {
      "text/html": [
       "<style>#sk-container-id-1 {color: black;background-color: white;}#sk-container-id-1 pre{padding: 0;}#sk-container-id-1 div.sk-toggleable {background-color: white;}#sk-container-id-1 label.sk-toggleable__label {cursor: pointer;display: block;width: 100%;margin-bottom: 0;padding: 0.3em;box-sizing: border-box;text-align: center;}#sk-container-id-1 label.sk-toggleable__label-arrow:before {content: \"▸\";float: left;margin-right: 0.25em;color: #696969;}#sk-container-id-1 label.sk-toggleable__label-arrow:hover:before {color: black;}#sk-container-id-1 div.sk-estimator:hover label.sk-toggleable__label-arrow:before {color: black;}#sk-container-id-1 div.sk-toggleable__content {max-height: 0;max-width: 0;overflow: hidden;text-align: left;background-color: #f0f8ff;}#sk-container-id-1 div.sk-toggleable__content pre {margin: 0.2em;color: black;border-radius: 0.25em;background-color: #f0f8ff;}#sk-container-id-1 input.sk-toggleable__control:checked~div.sk-toggleable__content {max-height: 200px;max-width: 100%;overflow: auto;}#sk-container-id-1 input.sk-toggleable__control:checked~label.sk-toggleable__label-arrow:before {content: \"▾\";}#sk-container-id-1 div.sk-estimator input.sk-toggleable__control:checked~label.sk-toggleable__label {background-color: #d4ebff;}#sk-container-id-1 div.sk-label input.sk-toggleable__control:checked~label.sk-toggleable__label {background-color: #d4ebff;}#sk-container-id-1 input.sk-hidden--visually {border: 0;clip: rect(1px 1px 1px 1px);clip: rect(1px, 1px, 1px, 1px);height: 1px;margin: -1px;overflow: hidden;padding: 0;position: absolute;width: 1px;}#sk-container-id-1 div.sk-estimator {font-family: monospace;background-color: #f0f8ff;border: 1px dotted black;border-radius: 0.25em;box-sizing: border-box;margin-bottom: 0.5em;}#sk-container-id-1 div.sk-estimator:hover {background-color: #d4ebff;}#sk-container-id-1 div.sk-parallel-item::after {content: \"\";width: 100%;border-bottom: 1px solid gray;flex-grow: 1;}#sk-container-id-1 div.sk-label:hover label.sk-toggleable__label {background-color: #d4ebff;}#sk-container-id-1 div.sk-serial::before {content: \"\";position: absolute;border-left: 1px solid gray;box-sizing: border-box;top: 0;bottom: 0;left: 50%;z-index: 0;}#sk-container-id-1 div.sk-serial {display: flex;flex-direction: column;align-items: center;background-color: white;padding-right: 0.2em;padding-left: 0.2em;position: relative;}#sk-container-id-1 div.sk-item {position: relative;z-index: 1;}#sk-container-id-1 div.sk-parallel {display: flex;align-items: stretch;justify-content: center;background-color: white;position: relative;}#sk-container-id-1 div.sk-item::before, #sk-container-id-1 div.sk-parallel-item::before {content: \"\";position: absolute;border-left: 1px solid gray;box-sizing: border-box;top: 0;bottom: 0;left: 50%;z-index: -1;}#sk-container-id-1 div.sk-parallel-item {display: flex;flex-direction: column;z-index: 1;position: relative;background-color: white;}#sk-container-id-1 div.sk-parallel-item:first-child::after {align-self: flex-end;width: 50%;}#sk-container-id-1 div.sk-parallel-item:last-child::after {align-self: flex-start;width: 50%;}#sk-container-id-1 div.sk-parallel-item:only-child::after {width: 0;}#sk-container-id-1 div.sk-dashed-wrapped {border: 1px dashed gray;margin: 0 0.4em 0.5em 0.4em;box-sizing: border-box;padding-bottom: 0.4em;background-color: white;}#sk-container-id-1 div.sk-label label {font-family: monospace;font-weight: bold;display: inline-block;line-height: 1.2em;}#sk-container-id-1 div.sk-label-container {text-align: center;}#sk-container-id-1 div.sk-container {/* jupyter's `normalize.less` sets `[hidden] { display: none; }` but bootstrap.min.css set `[hidden] { display: none !important; }` so we also need the `!important` here to be able to override the default hidden behavior on the sphinx rendered scikit-learn.org. See: https://github.com/scikit-learn/scikit-learn/issues/21755 */display: inline-block !important;position: relative;}#sk-container-id-1 div.sk-text-repr-fallback {display: none;}</style><div id=\"sk-container-id-1\" class=\"sk-top-container\"><div class=\"sk-text-repr-fallback\"><pre>LinearRegression()</pre><b>In a Jupyter environment, please rerun this cell to show the HTML representation or trust the notebook. <br />On GitHub, the HTML representation is unable to render, please try loading this page with nbviewer.org.</b></div><div class=\"sk-container\" hidden><div class=\"sk-item\"><div class=\"sk-estimator sk-toggleable\"><input class=\"sk-toggleable__control sk-hidden--visually\" id=\"sk-estimator-id-1\" type=\"checkbox\" checked><label for=\"sk-estimator-id-1\" class=\"sk-toggleable__label sk-toggleable__label-arrow\">LinearRegression</label><div class=\"sk-toggleable__content\"><pre>LinearRegression()</pre></div></div></div></div></div>"
      ],
      "text/plain": [
       "LinearRegression()"
      ]
     },
     "execution_count": 36,
     "metadata": {},
     "output_type": "execute_result"
    }
   ],
   "source": [
    "%%time\n",
    "model_lr = LinearRegression()\n",
    "model_lr.fit(features_train_lr, target_train_lr)"
   ]
  },
  {
   "cell_type": "markdown",
   "metadata": {},
   "source": [
    "качество модели (RMSE)"
   ]
  },
  {
   "cell_type": "code",
   "execution_count": 37,
   "metadata": {},
   "outputs": [
    {
     "data": {
      "text/plain": [
       "{'fit_time': array([25.29236221, 24.98793983, 29.88368988]),\n",
       " 'score_time': array([0.20331025, 0.22184968, 0.20125532]),\n",
       " 'test_score': array([-2635.83733304, -2641.33056386, -2662.56863117])}"
      ]
     },
     "execution_count": 37,
     "metadata": {},
     "output_type": "execute_result"
    }
   ],
   "source": [
    "cv_lr = cross_validate(LinearRegression(), features_train_lr, target_train_lr, scoring='neg_root_mean_squared_error', cv=3)\n",
    "cv_lr"
   ]
  },
  {
   "cell_type": "markdown",
   "metadata": {},
   "source": [
    "### Случайный лес"
   ]
  },
  {
   "cell_type": "code",
   "execution_count": 38,
   "metadata": {},
   "outputs": [
    {
     "data": {
      "text/plain": [
       "VehicleType         0\n",
       "Gearbox             0\n",
       "Model               0\n",
       "FuelType            0\n",
       "Brand               0\n",
       "Repaired            0\n",
       "Power               0\n",
       "Kilometer           0\n",
       "RegistrationYear    0\n",
       "dtype: int64"
      ]
     },
     "execution_count": 38,
     "metadata": {},
     "output_type": "execute_result"
    }
   ],
   "source": [
    "features_train_rf_final.isna().sum()"
   ]
  },
  {
   "cell_type": "code",
   "execution_count": 39,
   "metadata": {},
   "outputs": [
    {
     "name": "stdout",
     "output_type": "stream",
     "text": [
      "n_iterations: 6\n",
      "n_required_iterations: 6\n",
      "n_possible_iterations: 10\n",
      "min_resources_: 6\n",
      "max_resources_: 222226\n",
      "aggressive_elimination: False\n",
      "factor: 3\n",
      "----------\n",
      "iter: 0\n",
      "n_candidates: 336\n",
      "n_resources: 6\n",
      "Fitting 3 folds for each of 336 candidates, totalling 1008 fits\n",
      "[CV 1/3] END max_depth=1, min_samples_leaf=1, min_samples_split=2, n_estimators=10;, score=(train=-3465.340, test=-4251.253) total time=   0.0s\n",
      "[CV 2/3] END max_depth=1, min_samples_leaf=1, min_samples_split=2, n_estimators=10;, score=(train=-962.376, test=-2901.667) total time=   0.0s\n",
      "[CV 3/3] END max_depth=1, min_samples_leaf=1, min_samples_split=2, n_estimators=10;, score=(train=-1236.667, test=-3955.500) total time=   0.0s\n",
      "[CV 1/3] END max_depth=1, min_samples_leaf=1, min_samples_split=2, n_estimators=20;, score=(train=-3388.047, test=-4699.140) total time=   0.0s\n",
      "[CV 2/3] END max_depth=1, min_samples_leaf=1, min_samples_split=2, n_estimators=20;, score=(train=-1001.962, test=-2756.667) total time=   0.0s\n",
      "[CV 3/3] END max_depth=1, min_samples_leaf=1, min_samples_split=2, n_estimators=20;, score=(train=-1046.107, test=-3551.250) total time=   0.0s\n"
     ]
    },
    {
     "name": "stderr",
     "output_type": "stream",
     "text": [
      "/home/jovyan/.local/lib/python3.9/site-packages/sklearn/model_selection/_search.py:305: UserWarning: The total space of parameters 336 is smaller than n_iter=37037. Running 336 iterations. For exhaustive searches, use GridSearchCV.\n",
      "  warnings.warn(\n"
     ]
    },
    {
     "name": "stdout",
     "output_type": "stream",
     "text": [
      "[CV 1/3] END max_depth=1, min_samples_leaf=1, min_samples_split=2, n_estimators=30;, score=(train=-2815.785, test=-4468.356) total time=   0.0s\n",
      "[CV 2/3] END max_depth=1, min_samples_leaf=1, min_samples_split=2, n_estimators=30;, score=(train=-1164.268, test=-2785.000) total time=   0.0s\n",
      "[CV 3/3] END max_depth=1, min_samples_leaf=1, min_samples_split=2, n_estimators=30;, score=(train=-753.622, test=-3574.833) total time=   0.0s\n",
      "[CV 1/3] END max_depth=1, min_samples_leaf=1, min_samples_split=2, n_estimators=40;, score=(train=-2710.036, test=-4482.612) total time=   0.0s\n",
      "[CV 2/3] END max_depth=1, min_samples_leaf=1, min_samples_split=2, n_estimators=40;, score=(train=-1174.674, test=-2707.083) total time=   0.0s\n",
      "[CV 3/3] END max_depth=1, min_samples_leaf=1, min_samples_split=2, n_estimators=40;, score=(train=-774.388, test=-3578.875) total time=   0.1s\n",
      "[CV 1/3] END max_depth=1, min_samples_leaf=1, min_samples_split=4, n_estimators=10;, score=(train=-6736.955, test=-3061.572) total time=   0.0s\n",
      "[CV 2/3] END max_depth=1, min_samples_leaf=1, min_samples_split=4, n_estimators=10;, score=(train=-1635.380, test=-1996.667) total time=   0.0s\n",
      "[CV 3/3] END max_depth=1, min_samples_leaf=1, min_samples_split=4, n_estimators=10;, score=(train=-1699.781, test=-3664.750) total time=   0.0s\n",
      "[CV 1/3] END max_depth=1, min_samples_leaf=1, min_samples_split=4, n_estimators=20;, score=(train=-6764.018, test=-3569.993) total time=   0.0s\n",
      "[CV 2/3] END max_depth=1, min_samples_leaf=1, min_samples_split=4, n_estimators=20;, score=(train=-1618.265, test=-2192.917) total time=   0.0s\n",
      "[CV 3/3] END max_depth=1, min_samples_leaf=1, min_samples_split=4, n_estimators=20;, score=(train=-1649.554, test=-3446.875) total time=   0.0s\n",
      "[CV 1/3] END max_depth=1, min_samples_leaf=1, min_samples_split=4, n_estimators=30;, score=(train=-6746.697, test=-3347.810) total time=   0.0s\n",
      "[CV 2/3] END max_depth=1, min_samples_leaf=1, min_samples_split=4, n_estimators=30;, score=(train=-1629.284, test=-2430.833) total time=   0.0s\n",
      "[CV 3/3] END max_depth=1, min_samples_leaf=1, min_samples_split=4, n_estimators=30;, score=(train=-1627.562, test=-3238.500) total time=   0.0s\n",
      "[CV 1/3] END max_depth=1, min_samples_leaf=1, min_samples_split=4, n_estimators=40;, score=(train=-6740.682, test=-3223.264) total time=   0.0s\n",
      "[CV 2/3] END max_depth=1, min_samples_leaf=1, min_samples_split=4, n_estimators=40;, score=(train=-1659.211, test=-2397.500) total time=   0.0s\n",
      "[CV 3/3] END max_depth=1, min_samples_leaf=1, min_samples_split=4, n_estimators=40;, score=(train=-1670.510, test=-3201.375) total time=   0.0s\n",
      "[CV 1/3] END max_depth=1, min_samples_leaf=1, min_samples_split=6, n_estimators=10;, score=(train=-6736.955, test=-3061.572) total time=   0.0s\n",
      "[CV 2/3] END max_depth=1, min_samples_leaf=1, min_samples_split=6, n_estimators=10;, score=(train=-1761.420, test=-1910.000) total time=   0.0s\n",
      "[CV 3/3] END max_depth=1, min_samples_leaf=1, min_samples_split=6, n_estimators=10;, score=(train=-1866.867, test=-3562.500) total time=   0.0s\n",
      "[CV 1/3] END max_depth=1, min_samples_leaf=1, min_samples_split=6, n_estimators=20;, score=(train=-6764.018, test=-3569.993) total time=   0.0s\n",
      "[CV 2/3] END max_depth=1, min_samples_leaf=1, min_samples_split=6, n_estimators=20;, score=(train=-1745.541, test=-2106.250) total time=   0.0s\n",
      "[CV 3/3] END max_depth=1, min_samples_leaf=1, min_samples_split=6, n_estimators=20;, score=(train=-1821.254, test=-3344.625) total time=   0.0s\n",
      "[CV 1/3] END max_depth=1, min_samples_leaf=1, min_samples_split=6, n_estimators=30;, score=(train=-6746.697, test=-3347.810) total time=   0.0s\n",
      "[CV 2/3] END max_depth=1, min_samples_leaf=1, min_samples_split=6, n_estimators=30;, score=(train=-1755.762, test=-2344.167) total time=   0.0s\n",
      "[CV 3/3] END max_depth=1, min_samples_leaf=1, min_samples_split=6, n_estimators=30;, score=(train=-1801.359, test=-3136.250) total time=   0.0s\n",
      "[CV 1/3] END max_depth=1, min_samples_leaf=1, min_samples_split=6, n_estimators=40;, score=(train=-6740.682, test=-3223.264) total time=   0.0s\n",
      "[CV 2/3] END max_depth=1, min_samples_leaf=1, min_samples_split=6, n_estimators=40;, score=(train=-1754.510, test=-2332.500) total time=   0.0s\n",
      "[CV 3/3] END max_depth=1, min_samples_leaf=1, min_samples_split=6, n_estimators=40;, score=(train=-1800.955, test=-3124.688) total time=   0.0s\n",
      "[CV 1/3] END max_depth=1, min_samples_leaf=2, min_samples_split=2, n_estimators=10;, score=(train=-6736.955, test=-3061.572) total time=   0.0s\n",
      "[CV 2/3] END max_depth=1, min_samples_leaf=2, min_samples_split=2, n_estimators=10;, score=(train=-1644.118, test=-1765.000) total time=   0.0s\n",
      "[CV 3/3] END max_depth=1, min_samples_leaf=2, min_samples_split=2, n_estimators=10;, score=(train=-1783.241, test=-3435.750) total time=   0.0s\n",
      "[CV 1/3] END max_depth=1, min_samples_leaf=2, min_samples_split=2, n_estimators=20;, score=(train=-6764.018, test=-3569.993) total time=   0.0s\n",
      "[CV 2/3] END max_depth=1, min_samples_leaf=2, min_samples_split=2, n_estimators=20;, score=(train=-1627.095, test=-1961.250) total time=   0.0s\n",
      "[CV 3/3] END max_depth=1, min_samples_leaf=2, min_samples_split=2, n_estimators=20;, score=(train=-1735.431, test=-3217.875) total time=   0.0s\n",
      "[CV 1/3] END max_depth=1, min_samples_leaf=2, min_samples_split=2, n_estimators=30;, score=(train=-6746.697, test=-3347.810) total time=   0.0s\n",
      "[CV 2/3] END max_depth=1, min_samples_leaf=2, min_samples_split=2, n_estimators=30;, score=(train=-1638.055, test=-2199.167) total time=   0.0s\n",
      "[CV 3/3] END max_depth=1, min_samples_leaf=2, min_samples_split=2, n_estimators=30;, score=(train=-1714.541, test=-3009.500) total time=   0.0s\n",
      "[CV 1/3] END max_depth=1, min_samples_leaf=2, min_samples_split=2, n_estimators=40;, score=(train=-6740.682, test=-3223.264) total time=   0.0s\n",
      "[CV 2/3] END max_depth=1, min_samples_leaf=2, min_samples_split=2, n_estimators=40;, score=(train=-1665.760, test=-2223.750) total time=   0.0s\n",
      "[CV 3/3] END max_depth=1, min_samples_leaf=2, min_samples_split=2, n_estimators=40;, score=(train=-1735.365, test=-3029.625) total time=   0.0s\n",
      "[CV 1/3] END max_depth=1, min_samples_leaf=2, min_samples_split=4, n_estimators=10;, score=(train=-6736.955, test=-3061.572) total time=   0.0s\n",
      "[CV 2/3] END max_depth=1, min_samples_leaf=2, min_samples_split=4, n_estimators=10;, score=(train=-1644.118, test=-1765.000) total time=   0.0s\n",
      "[CV 3/3] END max_depth=1, min_samples_leaf=2, min_samples_split=4, n_estimators=10;, score=(train=-1783.241, test=-3435.750) total time=   0.0s\n",
      "[CV 1/3] END max_depth=1, min_samples_leaf=2, min_samples_split=4, n_estimators=20;, score=(train=-6764.018, test=-3569.993) total time=   0.0s\n",
      "[CV 2/3] END max_depth=1, min_samples_leaf=2, min_samples_split=4, n_estimators=20;, score=(train=-1627.095, test=-1961.250) total time=   0.0s\n",
      "[CV 3/3] END max_depth=1, min_samples_leaf=2, min_samples_split=4, n_estimators=20;, score=(train=-1735.431, test=-3217.875) total time=   0.0s\n",
      "[CV 1/3] END max_depth=1, min_samples_leaf=2, min_samples_split=4, n_estimators=30;, score=(train=-6746.697, test=-3347.810) total time=   0.0s\n",
      "[CV 2/3] END max_depth=1, min_samples_leaf=2, min_samples_split=4, n_estimators=30;, score=(train=-1638.055, test=-2199.167) total time=   0.0s\n",
      "[CV 3/3] END max_depth=1, min_samples_leaf=2, min_samples_split=4, n_estimators=30;, score=(train=-1714.541, test=-3009.500) total time=   0.0s\n",
      "[CV 1/3] END max_depth=1, min_samples_leaf=2, min_samples_split=4, n_estimators=40;, score=(train=-6740.682, test=-3223.264) total time=   0.0s\n",
      "[CV 2/3] END max_depth=1, min_samples_leaf=2, min_samples_split=4, n_estimators=40;, score=(train=-1665.760, test=-2223.750) total time=   0.0s\n",
      "[CV 3/3] END max_depth=1, min_samples_leaf=2, min_samples_split=4, n_estimators=40;, score=(train=-1735.365, test=-3029.625) total time=   0.0s\n",
      "[CV 1/3] END max_depth=1, min_samples_leaf=2, min_samples_split=6, n_estimators=10;, score=(train=-6736.955, test=-3061.572) total time=   0.0s\n",
      "[CV 2/3] END max_depth=1, min_samples_leaf=2, min_samples_split=6, n_estimators=10;, score=(train=-1761.420, test=-1910.000) total time=   0.0s\n",
      "[CV 3/3] END max_depth=1, min_samples_leaf=2, min_samples_split=6, n_estimators=10;, score=(train=-1866.867, test=-3562.500) total time=   0.0s\n",
      "[CV 1/3] END max_depth=1, min_samples_leaf=2, min_samples_split=6, n_estimators=20;, score=(train=-6764.018, test=-3569.993) total time=   0.0s\n",
      "[CV 2/3] END max_depth=1, min_samples_leaf=2, min_samples_split=6, n_estimators=20;, score=(train=-1745.541, test=-2106.250) total time=   0.0s\n",
      "[CV 3/3] END max_depth=1, min_samples_leaf=2, min_samples_split=6, n_estimators=20;, score=(train=-1821.254, test=-3344.625) total time=   0.0s\n",
      "[CV 1/3] END max_depth=1, min_samples_leaf=2, min_samples_split=6, n_estimators=30;, score=(train=-6746.697, test=-3347.810) total time=   0.0s\n",
      "[CV 2/3] END max_depth=1, min_samples_leaf=2, min_samples_split=6, n_estimators=30;, score=(train=-1755.762, test=-2344.167) total time=   0.0s\n",
      "[CV 3/3] END max_depth=1, min_samples_leaf=2, min_samples_split=6, n_estimators=30;, score=(train=-1801.359, test=-3136.250) total time=   0.0s\n",
      "[CV 1/3] END max_depth=1, min_samples_leaf=2, min_samples_split=6, n_estimators=40;, score=(train=-6740.682, test=-3223.264) total time=   0.0s\n",
      "[CV 2/3] END max_depth=1, min_samples_leaf=2, min_samples_split=6, n_estimators=40;, score=(train=-1754.510, test=-2332.500) total time=   0.1s\n",
      "[CV 3/3] END max_depth=1, min_samples_leaf=2, min_samples_split=6, n_estimators=40;, score=(train=-1800.955, test=-3124.688) total time=   0.0s\n",
      "[CV 1/3] END max_depth=1, min_samples_leaf=3, min_samples_split=2, n_estimators=10;, score=(train=-6736.955, test=-3061.572) total time=   0.0s\n",
      "[CV 2/3] END max_depth=1, min_samples_leaf=3, min_samples_split=2, n_estimators=10;, score=(train=-1761.420, test=-1910.000) total time=   0.0s\n",
      "[CV 3/3] END max_depth=1, min_samples_leaf=3, min_samples_split=2, n_estimators=10;, score=(train=-1866.867, test=-3562.500) total time=   0.0s\n",
      "[CV 1/3] END max_depth=1, min_samples_leaf=3, min_samples_split=2, n_estimators=20;, score=(train=-6764.018, test=-3569.993) total time=   0.0s\n",
      "[CV 2/3] END max_depth=1, min_samples_leaf=3, min_samples_split=2, n_estimators=20;, score=(train=-1745.541, test=-2106.250) total time=   0.0s\n",
      "[CV 3/3] END max_depth=1, min_samples_leaf=3, min_samples_split=2, n_estimators=20;, score=(train=-1821.254, test=-3344.625) total time=   0.0s\n",
      "[CV 1/3] END max_depth=1, min_samples_leaf=3, min_samples_split=2, n_estimators=30;, score=(train=-6746.697, test=-3347.810) total time=   0.0s\n",
      "[CV 2/3] END max_depth=1, min_samples_leaf=3, min_samples_split=2, n_estimators=30;, score=(train=-1755.762, test=-2344.167) total time=   0.0s\n",
      "[CV 3/3] END max_depth=1, min_samples_leaf=3, min_samples_split=2, n_estimators=30;, score=(train=-1801.359, test=-3136.250) total time=   0.0s\n",
      "[CV 1/3] END max_depth=1, min_samples_leaf=3, min_samples_split=2, n_estimators=40;, score=(train=-6740.682, test=-3223.264) total time=   0.0s\n",
      "[CV 2/3] END max_depth=1, min_samples_leaf=3, min_samples_split=2, n_estimators=40;, score=(train=-1754.510, test=-2332.500) total time=   0.0s\n",
      "[CV 3/3] END max_depth=1, min_samples_leaf=3, min_samples_split=2, n_estimators=40;, score=(train=-1800.955, test=-3124.688) total time=   0.0s\n",
      "[CV 1/3] END max_depth=1, min_samples_leaf=3, min_samples_split=4, n_estimators=10;, score=(train=-6736.955, test=-3061.572) total time=   0.0s\n",
      "[CV 2/3] END max_depth=1, min_samples_leaf=3, min_samples_split=4, n_estimators=10;, score=(train=-1761.420, test=-1910.000) total time=   0.0s\n",
      "[CV 3/3] END max_depth=1, min_samples_leaf=3, min_samples_split=4, n_estimators=10;, score=(train=-1866.867, test=-3562.500) total time=   0.0s\n",
      "[CV 1/3] END max_depth=1, min_samples_leaf=3, min_samples_split=4, n_estimators=20;, score=(train=-6764.018, test=-3569.993) total time=   0.0s\n",
      "[CV 2/3] END max_depth=1, min_samples_leaf=3, min_samples_split=4, n_estimators=20;, score=(train=-1745.541, test=-2106.250) total time=   0.0s\n",
      "[CV 3/3] END max_depth=1, min_samples_leaf=3, min_samples_split=4, n_estimators=20;, score=(train=-1821.254, test=-3344.625) total time=   0.0s\n",
      "[CV 1/3] END max_depth=1, min_samples_leaf=3, min_samples_split=4, n_estimators=30;, score=(train=-6746.697, test=-3347.810) total time=   0.0s\n",
      "[CV 2/3] END max_depth=1, min_samples_leaf=3, min_samples_split=4, n_estimators=30;, score=(train=-1755.762, test=-2344.167) total time=   0.0s\n",
      "[CV 3/3] END max_depth=1, min_samples_leaf=3, min_samples_split=4, n_estimators=30;, score=(train=-1801.359, test=-3136.250) total time=   0.0s\n",
      "[CV 1/3] END max_depth=1, min_samples_leaf=3, min_samples_split=4, n_estimators=40;, score=(train=-6740.682, test=-3223.264) total time=   0.0s\n",
      "[CV 2/3] END max_depth=1, min_samples_leaf=3, min_samples_split=4, n_estimators=40;, score=(train=-1754.510, test=-2332.500) total time=   0.0s\n",
      "[CV 3/3] END max_depth=1, min_samples_leaf=3, min_samples_split=4, n_estimators=40;, score=(train=-1800.955, test=-3124.688) total time=   0.0s\n",
      "[CV 1/3] END max_depth=1, min_samples_leaf=3, min_samples_split=6, n_estimators=10;, score=(train=-6736.955, test=-3061.572) total time=   0.0s\n",
      "[CV 2/3] END max_depth=1, min_samples_leaf=3, min_samples_split=6, n_estimators=10;, score=(train=-1761.420, test=-1910.000) total time=   0.0s\n",
      "[CV 3/3] END max_depth=1, min_samples_leaf=3, min_samples_split=6, n_estimators=10;, score=(train=-1866.867, test=-3562.500) total time=   0.0s\n",
      "[CV 1/3] END max_depth=1, min_samples_leaf=3, min_samples_split=6, n_estimators=20;, score=(train=-6764.018, test=-3569.993) total time=   0.0s\n",
      "[CV 2/3] END max_depth=1, min_samples_leaf=3, min_samples_split=6, n_estimators=20;, score=(train=-1745.541, test=-2106.250) total time=   0.0s\n",
      "[CV 3/3] END max_depth=1, min_samples_leaf=3, min_samples_split=6, n_estimators=20;, score=(train=-1821.254, test=-3344.625) total time=   0.0s\n",
      "[CV 1/3] END max_depth=1, min_samples_leaf=3, min_samples_split=6, n_estimators=30;, score=(train=-6746.697, test=-3347.810) total time=   0.0s\n",
      "[CV 2/3] END max_depth=1, min_samples_leaf=3, min_samples_split=6, n_estimators=30;, score=(train=-1755.762, test=-2344.167) total time=   0.0s\n",
      "[CV 3/3] END max_depth=1, min_samples_leaf=3, min_samples_split=6, n_estimators=30;, score=(train=-1801.359, test=-3136.250) total time=   0.0s\n",
      "[CV 1/3] END max_depth=1, min_samples_leaf=3, min_samples_split=6, n_estimators=40;, score=(train=-6740.682, test=-3223.264) total time=   0.0s\n",
      "[CV 2/3] END max_depth=1, min_samples_leaf=3, min_samples_split=6, n_estimators=40;, score=(train=-1754.510, test=-2332.500) total time=   0.0s\n",
      "[CV 3/3] END max_depth=1, min_samples_leaf=3, min_samples_split=6, n_estimators=40;, score=(train=-1800.955, test=-3124.688) total time=   0.0s\n",
      "[CV 1/3] END max_depth=1, min_samples_leaf=4, min_samples_split=2, n_estimators=10;, score=(train=-6736.955, test=-3061.572) total time=   0.0s\n",
      "[CV 2/3] END max_depth=1, min_samples_leaf=4, min_samples_split=2, n_estimators=10;, score=(train=-1761.420, test=-1910.000) total time=   0.0s\n",
      "[CV 3/3] END max_depth=1, min_samples_leaf=4, min_samples_split=2, n_estimators=10;, score=(train=-1866.867, test=-3562.500) total time=   0.0s\n",
      "[CV 1/3] END max_depth=1, min_samples_leaf=4, min_samples_split=2, n_estimators=20;, score=(train=-6764.018, test=-3569.993) total time=   0.0s\n",
      "[CV 2/3] END max_depth=1, min_samples_leaf=4, min_samples_split=2, n_estimators=20;, score=(train=-1745.541, test=-2106.250) total time=   0.0s\n",
      "[CV 3/3] END max_depth=1, min_samples_leaf=4, min_samples_split=2, n_estimators=20;, score=(train=-1821.254, test=-3344.625) total time=   0.0s\n",
      "[CV 1/3] END max_depth=1, min_samples_leaf=4, min_samples_split=2, n_estimators=30;, score=(train=-6746.697, test=-3347.810) total time=   0.0s\n",
      "[CV 2/3] END max_depth=1, min_samples_leaf=4, min_samples_split=2, n_estimators=30;, score=(train=-1755.762, test=-2344.167) total time=   0.0s\n",
      "[CV 3/3] END max_depth=1, min_samples_leaf=4, min_samples_split=2, n_estimators=30;, score=(train=-1801.359, test=-3136.250) total time=   0.0s\n",
      "[CV 1/3] END max_depth=1, min_samples_leaf=4, min_samples_split=2, n_estimators=40;, score=(train=-6740.682, test=-3223.264) total time=   0.0s\n",
      "[CV 2/3] END max_depth=1, min_samples_leaf=4, min_samples_split=2, n_estimators=40;, score=(train=-1754.510, test=-2332.500) total time=   0.0s\n",
      "[CV 3/3] END max_depth=1, min_samples_leaf=4, min_samples_split=2, n_estimators=40;, score=(train=-1800.955, test=-3124.688) total time=   0.0s\n",
      "[CV 1/3] END max_depth=1, min_samples_leaf=4, min_samples_split=4, n_estimators=10;, score=(train=-6736.955, test=-3061.572) total time=   0.0s\n",
      "[CV 2/3] END max_depth=1, min_samples_leaf=4, min_samples_split=4, n_estimators=10;, score=(train=-1761.420, test=-1910.000) total time=   0.0s\n",
      "[CV 3/3] END max_depth=1, min_samples_leaf=4, min_samples_split=4, n_estimators=10;, score=(train=-1866.867, test=-3562.500) total time=   0.0s\n",
      "[CV 1/3] END max_depth=1, min_samples_leaf=4, min_samples_split=4, n_estimators=20;, score=(train=-6764.018, test=-3569.993) total time=   0.0s\n",
      "[CV 2/3] END max_depth=1, min_samples_leaf=4, min_samples_split=4, n_estimators=20;, score=(train=-1745.541, test=-2106.250) total time=   0.0s\n",
      "[CV 3/3] END max_depth=1, min_samples_leaf=4, min_samples_split=4, n_estimators=20;, score=(train=-1821.254, test=-3344.625) total time=   0.0s\n",
      "[CV 1/3] END max_depth=1, min_samples_leaf=4, min_samples_split=4, n_estimators=30;, score=(train=-6746.697, test=-3347.810) total time=   0.0s\n",
      "[CV 2/3] END max_depth=1, min_samples_leaf=4, min_samples_split=4, n_estimators=30;, score=(train=-1755.762, test=-2344.167) total time=   0.0s\n",
      "[CV 3/3] END max_depth=1, min_samples_leaf=4, min_samples_split=4, n_estimators=30;, score=(train=-1801.359, test=-3136.250) total time=   0.0s\n",
      "[CV 1/3] END max_depth=1, min_samples_leaf=4, min_samples_split=4, n_estimators=40;, score=(train=-6740.682, test=-3223.264) total time=   0.0s\n",
      "[CV 2/3] END max_depth=1, min_samples_leaf=4, min_samples_split=4, n_estimators=40;, score=(train=-1754.510, test=-2332.500) total time=   0.0s\n",
      "[CV 3/3] END max_depth=1, min_samples_leaf=4, min_samples_split=4, n_estimators=40;, score=(train=-1800.955, test=-3124.688) total time=   0.0s\n",
      "[CV 1/3] END max_depth=1, min_samples_leaf=4, min_samples_split=6, n_estimators=10;, score=(train=-6736.955, test=-3061.572) total time=   0.0s\n",
      "[CV 2/3] END max_depth=1, min_samples_leaf=4, min_samples_split=6, n_estimators=10;, score=(train=-1761.420, test=-1910.000) total time=   0.0s\n",
      "[CV 3/3] END max_depth=1, min_samples_leaf=4, min_samples_split=6, n_estimators=10;, score=(train=-1866.867, test=-3562.500) total time=   0.0s\n",
      "[CV 1/3] END max_depth=1, min_samples_leaf=4, min_samples_split=6, n_estimators=20;, score=(train=-6764.018, test=-3569.993) total time=   0.0s\n",
      "[CV 2/3] END max_depth=1, min_samples_leaf=4, min_samples_split=6, n_estimators=20;, score=(train=-1745.541, test=-2106.250) total time=   0.0s\n",
      "[CV 3/3] END max_depth=1, min_samples_leaf=4, min_samples_split=6, n_estimators=20;, score=(train=-1821.254, test=-3344.625) total time=   0.0s\n",
      "[CV 1/3] END max_depth=1, min_samples_leaf=4, min_samples_split=6, n_estimators=30;, score=(train=-6746.697, test=-3347.810) total time=   0.0s\n",
      "[CV 2/3] END max_depth=1, min_samples_leaf=4, min_samples_split=6, n_estimators=30;, score=(train=-1755.762, test=-2344.167) total time=   0.0s\n",
      "[CV 3/3] END max_depth=1, min_samples_leaf=4, min_samples_split=6, n_estimators=30;, score=(train=-1801.359, test=-3136.250) total time=   0.0s\n",
      "[CV 1/3] END max_depth=1, min_samples_leaf=4, min_samples_split=6, n_estimators=40;, score=(train=-6740.682, test=-3223.264) total time=   0.1s\n",
      "[CV 2/3] END max_depth=1, min_samples_leaf=4, min_samples_split=6, n_estimators=40;, score=(train=-1754.510, test=-2332.500) total time=   0.0s\n",
      "[CV 3/3] END max_depth=1, min_samples_leaf=4, min_samples_split=6, n_estimators=40;, score=(train=-1800.955, test=-3124.688) total time=   0.0s\n",
      "[CV 1/3] END max_depth=1, min_samples_leaf=5, min_samples_split=2, n_estimators=10;, score=(train=-6736.955, test=-3061.572) total time=   0.0s\n",
      "[CV 2/3] END max_depth=1, min_samples_leaf=5, min_samples_split=2, n_estimators=10;, score=(train=-1761.420, test=-1910.000) total time=   0.0s\n",
      "[CV 3/3] END max_depth=1, min_samples_leaf=5, min_samples_split=2, n_estimators=10;, score=(train=-1866.867, test=-3562.500) total time=   0.0s\n",
      "[CV 1/3] END max_depth=1, min_samples_leaf=5, min_samples_split=2, n_estimators=20;, score=(train=-6764.018, test=-3569.993) total time=   0.0s\n",
      "[CV 2/3] END max_depth=1, min_samples_leaf=5, min_samples_split=2, n_estimators=20;, score=(train=-1745.541, test=-2106.250) total time=   0.0s\n",
      "[CV 3/3] END max_depth=1, min_samples_leaf=5, min_samples_split=2, n_estimators=20;, score=(train=-1821.254, test=-3344.625) total time=   0.0s\n",
      "[CV 1/3] END max_depth=1, min_samples_leaf=5, min_samples_split=2, n_estimators=30;, score=(train=-6746.697, test=-3347.810) total time=   0.0s\n",
      "[CV 2/3] END max_depth=1, min_samples_leaf=5, min_samples_split=2, n_estimators=30;, score=(train=-1755.762, test=-2344.167) total time=   0.0s\n",
      "[CV 3/3] END max_depth=1, min_samples_leaf=5, min_samples_split=2, n_estimators=30;, score=(train=-1801.359, test=-3136.250) total time=   0.0s\n",
      "[CV 1/3] END max_depth=1, min_samples_leaf=5, min_samples_split=2, n_estimators=40;, score=(train=-6740.682, test=-3223.264) total time=   0.0s\n",
      "[CV 2/3] END max_depth=1, min_samples_leaf=5, min_samples_split=2, n_estimators=40;, score=(train=-1754.510, test=-2332.500) total time=   0.0s\n",
      "[CV 3/3] END max_depth=1, min_samples_leaf=5, min_samples_split=2, n_estimators=40;, score=(train=-1800.955, test=-3124.688) total time=   0.0s\n",
      "[CV 1/3] END max_depth=1, min_samples_leaf=5, min_samples_split=4, n_estimators=10;, score=(train=-6736.955, test=-3061.572) total time=   0.0s\n",
      "[CV 2/3] END max_depth=1, min_samples_leaf=5, min_samples_split=4, n_estimators=10;, score=(train=-1761.420, test=-1910.000) total time=   0.0s\n",
      "[CV 3/3] END max_depth=1, min_samples_leaf=5, min_samples_split=4, n_estimators=10;, score=(train=-1866.867, test=-3562.500) total time=   0.0s\n",
      "[CV 1/3] END max_depth=1, min_samples_leaf=5, min_samples_split=4, n_estimators=20;, score=(train=-6764.018, test=-3569.993) total time=   0.0s\n",
      "[CV 2/3] END max_depth=1, min_samples_leaf=5, min_samples_split=4, n_estimators=20;, score=(train=-1745.541, test=-2106.250) total time=   0.0s\n",
      "[CV 3/3] END max_depth=1, min_samples_leaf=5, min_samples_split=4, n_estimators=20;, score=(train=-1821.254, test=-3344.625) total time=   0.0s\n",
      "[CV 1/3] END max_depth=1, min_samples_leaf=5, min_samples_split=4, n_estimators=30;, score=(train=-6746.697, test=-3347.810) total time=   0.0s\n",
      "[CV 2/3] END max_depth=1, min_samples_leaf=5, min_samples_split=4, n_estimators=30;, score=(train=-1755.762, test=-2344.167) total time=   0.0s\n",
      "[CV 3/3] END max_depth=1, min_samples_leaf=5, min_samples_split=4, n_estimators=30;, score=(train=-1801.359, test=-3136.250) total time=   0.0s\n",
      "[CV 1/3] END max_depth=1, min_samples_leaf=5, min_samples_split=4, n_estimators=40;, score=(train=-6740.682, test=-3223.264) total time=   0.1s\n",
      "[CV 2/3] END max_depth=1, min_samples_leaf=5, min_samples_split=4, n_estimators=40;, score=(train=-1754.510, test=-2332.500) total time=   0.0s\n",
      "[CV 3/3] END max_depth=1, min_samples_leaf=5, min_samples_split=4, n_estimators=40;, score=(train=-1800.955, test=-3124.688) total time=   0.0s\n",
      "[CV 1/3] END max_depth=1, min_samples_leaf=5, min_samples_split=6, n_estimators=10;, score=(train=-6736.955, test=-3061.572) total time=   0.0s\n",
      "[CV 2/3] END max_depth=1, min_samples_leaf=5, min_samples_split=6, n_estimators=10;, score=(train=-1761.420, test=-1910.000) total time=   0.0s\n",
      "[CV 3/3] END max_depth=1, min_samples_leaf=5, min_samples_split=6, n_estimators=10;, score=(train=-1866.867, test=-3562.500) total time=   0.0s\n",
      "[CV 1/3] END max_depth=1, min_samples_leaf=5, min_samples_split=6, n_estimators=20;, score=(train=-6764.018, test=-3569.993) total time=   0.0s\n",
      "[CV 2/3] END max_depth=1, min_samples_leaf=5, min_samples_split=6, n_estimators=20;, score=(train=-1745.541, test=-2106.250) total time=   0.0s\n",
      "[CV 3/3] END max_depth=1, min_samples_leaf=5, min_samples_split=6, n_estimators=20;, score=(train=-1821.254, test=-3344.625) total time=   0.0s\n",
      "[CV 1/3] END max_depth=1, min_samples_leaf=5, min_samples_split=6, n_estimators=30;, score=(train=-6746.697, test=-3347.810) total time=   0.0s\n",
      "[CV 2/3] END max_depth=1, min_samples_leaf=5, min_samples_split=6, n_estimators=30;, score=(train=-1755.762, test=-2344.167) total time=   0.0s\n",
      "[CV 3/3] END max_depth=1, min_samples_leaf=5, min_samples_split=6, n_estimators=30;, score=(train=-1801.359, test=-3136.250) total time=   0.0s\n",
      "[CV 1/3] END max_depth=1, min_samples_leaf=5, min_samples_split=6, n_estimators=40;, score=(train=-6740.682, test=-3223.264) total time=   0.0s\n",
      "[CV 2/3] END max_depth=1, min_samples_leaf=5, min_samples_split=6, n_estimators=40;, score=(train=-1754.510, test=-2332.500) total time=   0.0s\n",
      "[CV 3/3] END max_depth=1, min_samples_leaf=5, min_samples_split=6, n_estimators=40;, score=(train=-1800.955, test=-3124.688) total time=   0.0s\n",
      "[CV 1/3] END max_depth=1, min_samples_leaf=6, min_samples_split=2, n_estimators=10;, score=(train=-6736.955, test=-3061.572) total time=   0.0s\n",
      "[CV 2/3] END max_depth=1, min_samples_leaf=6, min_samples_split=2, n_estimators=10;, score=(train=-1761.420, test=-1910.000) total time=   0.0s\n",
      "[CV 3/3] END max_depth=1, min_samples_leaf=6, min_samples_split=2, n_estimators=10;, score=(train=-1866.867, test=-3562.500) total time=   0.0s\n",
      "[CV 1/3] END max_depth=1, min_samples_leaf=6, min_samples_split=2, n_estimators=20;, score=(train=-6764.018, test=-3569.993) total time=   0.0s\n",
      "[CV 2/3] END max_depth=1, min_samples_leaf=6, min_samples_split=2, n_estimators=20;, score=(train=-1745.541, test=-2106.250) total time=   0.0s\n",
      "[CV 3/3] END max_depth=1, min_samples_leaf=6, min_samples_split=2, n_estimators=20;, score=(train=-1821.254, test=-3344.625) total time=   0.0s\n",
      "[CV 1/3] END max_depth=1, min_samples_leaf=6, min_samples_split=2, n_estimators=30;, score=(train=-6746.697, test=-3347.810) total time=   0.0s\n",
      "[CV 2/3] END max_depth=1, min_samples_leaf=6, min_samples_split=2, n_estimators=30;, score=(train=-1755.762, test=-2344.167) total time=   0.0s\n",
      "[CV 3/3] END max_depth=1, min_samples_leaf=6, min_samples_split=2, n_estimators=30;, score=(train=-1801.359, test=-3136.250) total time=   0.0s\n",
      "[CV 1/3] END max_depth=1, min_samples_leaf=6, min_samples_split=2, n_estimators=40;, score=(train=-6740.682, test=-3223.264) total time=   0.1s\n",
      "[CV 2/3] END max_depth=1, min_samples_leaf=6, min_samples_split=2, n_estimators=40;, score=(train=-1754.510, test=-2332.500) total time=   0.1s\n",
      "[CV 3/3] END max_depth=1, min_samples_leaf=6, min_samples_split=2, n_estimators=40;, score=(train=-1800.955, test=-3124.688) total time=   0.0s\n",
      "[CV 1/3] END max_depth=1, min_samples_leaf=6, min_samples_split=4, n_estimators=10;, score=(train=-6736.955, test=-3061.572) total time=   0.0s\n",
      "[CV 2/3] END max_depth=1, min_samples_leaf=6, min_samples_split=4, n_estimators=10;, score=(train=-1761.420, test=-1910.000) total time=   0.0s\n",
      "[CV 3/3] END max_depth=1, min_samples_leaf=6, min_samples_split=4, n_estimators=10;, score=(train=-1866.867, test=-3562.500) total time=   0.0s\n",
      "[CV 1/3] END max_depth=1, min_samples_leaf=6, min_samples_split=4, n_estimators=20;, score=(train=-6764.018, test=-3569.993) total time=   0.0s\n",
      "[CV 2/3] END max_depth=1, min_samples_leaf=6, min_samples_split=4, n_estimators=20;, score=(train=-1745.541, test=-2106.250) total time=   0.0s\n",
      "[CV 3/3] END max_depth=1, min_samples_leaf=6, min_samples_split=4, n_estimators=20;, score=(train=-1821.254, test=-3344.625) total time=   0.0s\n",
      "[CV 1/3] END max_depth=1, min_samples_leaf=6, min_samples_split=4, n_estimators=30;, score=(train=-6746.697, test=-3347.810) total time=   0.0s\n",
      "[CV 2/3] END max_depth=1, min_samples_leaf=6, min_samples_split=4, n_estimators=30;, score=(train=-1755.762, test=-2344.167) total time=   0.0s\n",
      "[CV 3/3] END max_depth=1, min_samples_leaf=6, min_samples_split=4, n_estimators=30;, score=(train=-1801.359, test=-3136.250) total time=   0.0s\n",
      "[CV 1/3] END max_depth=1, min_samples_leaf=6, min_samples_split=4, n_estimators=40;, score=(train=-6740.682, test=-3223.264) total time=   0.1s\n",
      "[CV 2/3] END max_depth=1, min_samples_leaf=6, min_samples_split=4, n_estimators=40;, score=(train=-1754.510, test=-2332.500) total time=   0.0s\n",
      "[CV 3/3] END max_depth=1, min_samples_leaf=6, min_samples_split=4, n_estimators=40;, score=(train=-1800.955, test=-3124.688) total time=   0.0s\n",
      "[CV 1/3] END max_depth=1, min_samples_leaf=6, min_samples_split=6, n_estimators=10;, score=(train=-6736.955, test=-3061.572) total time=   0.0s\n",
      "[CV 2/3] END max_depth=1, min_samples_leaf=6, min_samples_split=6, n_estimators=10;, score=(train=-1761.420, test=-1910.000) total time=   0.0s\n",
      "[CV 3/3] END max_depth=1, min_samples_leaf=6, min_samples_split=6, n_estimators=10;, score=(train=-1866.867, test=-3562.500) total time=   0.0s\n",
      "[CV 1/3] END max_depth=1, min_samples_leaf=6, min_samples_split=6, n_estimators=20;, score=(train=-6764.018, test=-3569.993) total time=   0.0s\n",
      "[CV 2/3] END max_depth=1, min_samples_leaf=6, min_samples_split=6, n_estimators=20;, score=(train=-1745.541, test=-2106.250) total time=   0.0s\n",
      "[CV 3/3] END max_depth=1, min_samples_leaf=6, min_samples_split=6, n_estimators=20;, score=(train=-1821.254, test=-3344.625) total time=   0.0s\n",
      "[CV 1/3] END max_depth=1, min_samples_leaf=6, min_samples_split=6, n_estimators=30;, score=(train=-6746.697, test=-3347.810) total time=   0.0s\n",
      "[CV 2/3] END max_depth=1, min_samples_leaf=6, min_samples_split=6, n_estimators=30;, score=(train=-1755.762, test=-2344.167) total time=   0.0s\n",
      "[CV 3/3] END max_depth=1, min_samples_leaf=6, min_samples_split=6, n_estimators=30;, score=(train=-1801.359, test=-3136.250) total time=   0.1s\n",
      "[CV 1/3] END max_depth=1, min_samples_leaf=6, min_samples_split=6, n_estimators=40;, score=(train=-6740.682, test=-3223.264) total time=   0.1s\n",
      "[CV 2/3] END max_depth=1, min_samples_leaf=6, min_samples_split=6, n_estimators=40;, score=(train=-1754.510, test=-2332.500) total time=   0.1s\n",
      "[CV 3/3] END max_depth=1, min_samples_leaf=6, min_samples_split=6, n_estimators=40;, score=(train=-1800.955, test=-3124.688) total time=   0.1s\n",
      "[CV 1/3] END max_depth=1, min_samples_leaf=7, min_samples_split=2, n_estimators=10;, score=(train=-6736.955, test=-3061.572) total time=   0.0s\n",
      "[CV 2/3] END max_depth=1, min_samples_leaf=7, min_samples_split=2, n_estimators=10;, score=(train=-1761.420, test=-1910.000) total time=   0.0s\n",
      "[CV 3/3] END max_depth=1, min_samples_leaf=7, min_samples_split=2, n_estimators=10;, score=(train=-1866.867, test=-3562.500) total time=   0.0s\n",
      "[CV 1/3] END max_depth=1, min_samples_leaf=7, min_samples_split=2, n_estimators=20;, score=(train=-6764.018, test=-3569.993) total time=   0.0s\n",
      "[CV 2/3] END max_depth=1, min_samples_leaf=7, min_samples_split=2, n_estimators=20;, score=(train=-1745.541, test=-2106.250) total time=   0.0s\n",
      "[CV 3/3] END max_depth=1, min_samples_leaf=7, min_samples_split=2, n_estimators=20;, score=(train=-1821.254, test=-3344.625) total time=   0.0s\n",
      "[CV 1/3] END max_depth=1, min_samples_leaf=7, min_samples_split=2, n_estimators=30;, score=(train=-6746.697, test=-3347.810) total time=   0.1s\n",
      "[CV 2/3] END max_depth=1, min_samples_leaf=7, min_samples_split=2, n_estimators=30;, score=(train=-1755.762, test=-2344.167) total time=   0.1s\n",
      "[CV 3/3] END max_depth=1, min_samples_leaf=7, min_samples_split=2, n_estimators=30;, score=(train=-1801.359, test=-3136.250) total time=   0.0s\n",
      "[CV 1/3] END max_depth=1, min_samples_leaf=7, min_samples_split=2, n_estimators=40;, score=(train=-6740.682, test=-3223.264) total time=   0.1s\n",
      "[CV 2/3] END max_depth=1, min_samples_leaf=7, min_samples_split=2, n_estimators=40;, score=(train=-1754.510, test=-2332.500) total time=   0.1s\n",
      "[CV 3/3] END max_depth=1, min_samples_leaf=7, min_samples_split=2, n_estimators=40;, score=(train=-1800.955, test=-3124.688) total time=   0.0s\n",
      "[CV 1/3] END max_depth=1, min_samples_leaf=7, min_samples_split=4, n_estimators=10;, score=(train=-6736.955, test=-3061.572) total time=   0.0s\n",
      "[CV 2/3] END max_depth=1, min_samples_leaf=7, min_samples_split=4, n_estimators=10;, score=(train=-1761.420, test=-1910.000) total time=   0.0s\n",
      "[CV 3/3] END max_depth=1, min_samples_leaf=7, min_samples_split=4, n_estimators=10;, score=(train=-1866.867, test=-3562.500) total time=   0.0s\n",
      "[CV 1/3] END max_depth=1, min_samples_leaf=7, min_samples_split=4, n_estimators=20;, score=(train=-6764.018, test=-3569.993) total time=   0.0s\n",
      "[CV 2/3] END max_depth=1, min_samples_leaf=7, min_samples_split=4, n_estimators=20;, score=(train=-1745.541, test=-2106.250) total time=   0.0s\n",
      "[CV 3/3] END max_depth=1, min_samples_leaf=7, min_samples_split=4, n_estimators=20;, score=(train=-1821.254, test=-3344.625) total time=   0.0s\n",
      "[CV 1/3] END max_depth=1, min_samples_leaf=7, min_samples_split=4, n_estimators=30;, score=(train=-6746.697, test=-3347.810) total time=   0.0s\n",
      "[CV 2/3] END max_depth=1, min_samples_leaf=7, min_samples_split=4, n_estimators=30;, score=(train=-1755.762, test=-2344.167) total time=   0.0s\n",
      "[CV 3/3] END max_depth=1, min_samples_leaf=7, min_samples_split=4, n_estimators=30;, score=(train=-1801.359, test=-3136.250) total time=   0.0s\n",
      "[CV 1/3] END max_depth=1, min_samples_leaf=7, min_samples_split=4, n_estimators=40;, score=(train=-6740.682, test=-3223.264) total time=   0.0s\n",
      "[CV 2/3] END max_depth=1, min_samples_leaf=7, min_samples_split=4, n_estimators=40;, score=(train=-1754.510, test=-2332.500) total time=   0.1s\n",
      "[CV 3/3] END max_depth=1, min_samples_leaf=7, min_samples_split=4, n_estimators=40;, score=(train=-1800.955, test=-3124.688) total time=   0.0s\n",
      "[CV 1/3] END max_depth=1, min_samples_leaf=7, min_samples_split=6, n_estimators=10;, score=(train=-6736.955, test=-3061.572) total time=   0.0s\n",
      "[CV 2/3] END max_depth=1, min_samples_leaf=7, min_samples_split=6, n_estimators=10;, score=(train=-1761.420, test=-1910.000) total time=   0.0s\n",
      "[CV 3/3] END max_depth=1, min_samples_leaf=7, min_samples_split=6, n_estimators=10;, score=(train=-1866.867, test=-3562.500) total time=   0.0s\n",
      "[CV 1/3] END max_depth=1, min_samples_leaf=7, min_samples_split=6, n_estimators=20;, score=(train=-6764.018, test=-3569.993) total time=   0.0s\n",
      "[CV 2/3] END max_depth=1, min_samples_leaf=7, min_samples_split=6, n_estimators=20;, score=(train=-1745.541, test=-2106.250) total time=   0.0s\n",
      "[CV 3/3] END max_depth=1, min_samples_leaf=7, min_samples_split=6, n_estimators=20;, score=(train=-1821.254, test=-3344.625) total time=   0.0s\n",
      "[CV 1/3] END max_depth=1, min_samples_leaf=7, min_samples_split=6, n_estimators=30;, score=(train=-6746.697, test=-3347.810) total time=   0.0s\n",
      "[CV 2/3] END max_depth=1, min_samples_leaf=7, min_samples_split=6, n_estimators=30;, score=(train=-1755.762, test=-2344.167) total time=   0.0s\n",
      "[CV 3/3] END max_depth=1, min_samples_leaf=7, min_samples_split=6, n_estimators=30;, score=(train=-1801.359, test=-3136.250) total time=   0.0s\n",
      "[CV 1/3] END max_depth=1, min_samples_leaf=7, min_samples_split=6, n_estimators=40;, score=(train=-6740.682, test=-3223.264) total time=   0.1s\n",
      "[CV 2/3] END max_depth=1, min_samples_leaf=7, min_samples_split=6, n_estimators=40;, score=(train=-1754.510, test=-2332.500) total time=   0.1s\n",
      "[CV 3/3] END max_depth=1, min_samples_leaf=7, min_samples_split=6, n_estimators=40;, score=(train=-1800.955, test=-3124.688) total time=   0.1s\n",
      "[CV 1/3] END max_depth=3, min_samples_leaf=1, min_samples_split=2, n_estimators=10;, score=(train=-3401.491, test=-4260.753) total time=   0.0s\n",
      "[CV 2/3] END max_depth=3, min_samples_leaf=1, min_samples_split=2, n_estimators=10;, score=(train=-744.110, test=-2740.000) total time=   0.0s\n",
      "[CV 3/3] END max_depth=3, min_samples_leaf=1, min_samples_split=2, n_estimators=10;, score=(train=-1197.900, test=-3927.000) total time=   0.0s\n",
      "[CV 1/3] END max_depth=3, min_samples_leaf=1, min_samples_split=2, n_estimators=20;, score=(train=-3325.697, test=-4651.301) total time=   0.0s\n",
      "[CV 2/3] END max_depth=3, min_samples_leaf=1, min_samples_split=2, n_estimators=20;, score=(train=-834.019, test=-2580.000) total time=   0.0s\n",
      "[CV 3/3] END max_depth=3, min_samples_leaf=1, min_samples_split=2, n_estimators=20;, score=(train=-1014.931, test=-3493.500) total time=   0.0s\n",
      "[CV 1/3] END max_depth=3, min_samples_leaf=1, min_samples_split=2, n_estimators=30;, score=(train=-2707.800, test=-4516.863) total time=   0.0s\n",
      "[CV 2/3] END max_depth=3, min_samples_leaf=1, min_samples_split=2, n_estimators=30;, score=(train=-1045.972, test=-2686.667) total time=   0.0s\n",
      "[CV 3/3] END max_depth=3, min_samples_leaf=1, min_samples_split=2, n_estimators=30;, score=(train=-720.474, test=-3526.000) total time=   0.0s\n",
      "[CV 1/3] END max_depth=3, min_samples_leaf=1, min_samples_split=2, n_estimators=40;, score=(train=-2583.340, test=-4519.593) total time=   0.1s\n",
      "[CV 2/3] END max_depth=3, min_samples_leaf=1, min_samples_split=2, n_estimators=40;, score=(train=-1077.606, test=-2662.500) total time=   0.1s\n",
      "[CV 3/3] END max_depth=3, min_samples_leaf=1, min_samples_split=2, n_estimators=40;, score=(train=-753.419, test=-3513.750) total time=   0.1s\n",
      "[CV 1/3] END max_depth=3, min_samples_leaf=1, min_samples_split=4, n_estimators=10;, score=(train=-6736.955, test=-3061.572) total time=   0.0s\n",
      "[CV 2/3] END max_depth=3, min_samples_leaf=1, min_samples_split=4, n_estimators=10;, score=(train=-1635.380, test=-1996.667) total time=   0.0s\n",
      "[CV 3/3] END max_depth=3, min_samples_leaf=1, min_samples_split=4, n_estimators=10;, score=(train=-1699.781, test=-3664.750) total time=   0.0s\n",
      "[CV 1/3] END max_depth=3, min_samples_leaf=1, min_samples_split=4, n_estimators=20;, score=(train=-6764.018, test=-3569.993) total time=   0.0s\n",
      "[CV 2/3] END max_depth=3, min_samples_leaf=1, min_samples_split=4, n_estimators=20;, score=(train=-1618.265, test=-2192.917) total time=   0.0s\n",
      "[CV 3/3] END max_depth=3, min_samples_leaf=1, min_samples_split=4, n_estimators=20;, score=(train=-1649.554, test=-3446.875) total time=   0.0s\n",
      "[CV 1/3] END max_depth=3, min_samples_leaf=1, min_samples_split=4, n_estimators=30;, score=(train=-6746.697, test=-3347.810) total time=   0.0s\n",
      "[CV 2/3] END max_depth=3, min_samples_leaf=1, min_samples_split=4, n_estimators=30;, score=(train=-1629.284, test=-2430.833) total time=   0.0s\n",
      "[CV 3/3] END max_depth=3, min_samples_leaf=1, min_samples_split=4, n_estimators=30;, score=(train=-1627.562, test=-3238.500) total time=   0.0s\n",
      "[CV 1/3] END max_depth=3, min_samples_leaf=1, min_samples_split=4, n_estimators=40;, score=(train=-6740.682, test=-3223.264) total time=   0.0s\n",
      "[CV 2/3] END max_depth=3, min_samples_leaf=1, min_samples_split=4, n_estimators=40;, score=(train=-1659.211, test=-2397.500) total time=   0.1s\n",
      "[CV 3/3] END max_depth=3, min_samples_leaf=1, min_samples_split=4, n_estimators=40;, score=(train=-1670.510, test=-3201.375) total time=   0.1s\n",
      "[CV 1/3] END max_depth=3, min_samples_leaf=1, min_samples_split=6, n_estimators=10;, score=(train=-6736.955, test=-3061.572) total time=   0.0s\n",
      "[CV 2/3] END max_depth=3, min_samples_leaf=1, min_samples_split=6, n_estimators=10;, score=(train=-1761.420, test=-1910.000) total time=   0.0s\n",
      "[CV 3/3] END max_depth=3, min_samples_leaf=1, min_samples_split=6, n_estimators=10;, score=(train=-1866.867, test=-3562.500) total time=   0.0s\n",
      "[CV 1/3] END max_depth=3, min_samples_leaf=1, min_samples_split=6, n_estimators=20;, score=(train=-6764.018, test=-3569.993) total time=   0.0s\n",
      "[CV 2/3] END max_depth=3, min_samples_leaf=1, min_samples_split=6, n_estimators=20;, score=(train=-1745.541, test=-2106.250) total time=   0.0s\n",
      "[CV 3/3] END max_depth=3, min_samples_leaf=1, min_samples_split=6, n_estimators=20;, score=(train=-1821.254, test=-3344.625) total time=   0.0s\n",
      "[CV 1/3] END max_depth=3, min_samples_leaf=1, min_samples_split=6, n_estimators=30;, score=(train=-6746.697, test=-3347.810) total time=   0.0s\n",
      "[CV 2/3] END max_depth=3, min_samples_leaf=1, min_samples_split=6, n_estimators=30;, score=(train=-1755.762, test=-2344.167) total time=   0.0s\n",
      "[CV 3/3] END max_depth=3, min_samples_leaf=1, min_samples_split=6, n_estimators=30;, score=(train=-1801.359, test=-3136.250) total time=   0.0s\n",
      "[CV 1/3] END max_depth=3, min_samples_leaf=1, min_samples_split=6, n_estimators=40;, score=(train=-6740.682, test=-3223.264) total time=   0.1s\n",
      "[CV 2/3] END max_depth=3, min_samples_leaf=1, min_samples_split=6, n_estimators=40;, score=(train=-1754.510, test=-2332.500) total time=   0.1s\n",
      "[CV 3/3] END max_depth=3, min_samples_leaf=1, min_samples_split=6, n_estimators=40;, score=(train=-1800.955, test=-3124.688) total time=   0.0s\n",
      "[CV 1/3] END max_depth=3, min_samples_leaf=2, min_samples_split=2, n_estimators=10;, score=(train=-6736.955, test=-3061.572) total time=   0.0s\n",
      "[CV 2/3] END max_depth=3, min_samples_leaf=2, min_samples_split=2, n_estimators=10;, score=(train=-1644.118, test=-1765.000) total time=   0.0s\n",
      "[CV 3/3] END max_depth=3, min_samples_leaf=2, min_samples_split=2, n_estimators=10;, score=(train=-1783.241, test=-3435.750) total time=   0.0s\n",
      "[CV 1/3] END max_depth=3, min_samples_leaf=2, min_samples_split=2, n_estimators=20;, score=(train=-6764.018, test=-3569.993) total time=   0.0s\n",
      "[CV 2/3] END max_depth=3, min_samples_leaf=2, min_samples_split=2, n_estimators=20;, score=(train=-1627.095, test=-1961.250) total time=   0.0s\n",
      "[CV 3/3] END max_depth=3, min_samples_leaf=2, min_samples_split=2, n_estimators=20;, score=(train=-1735.431, test=-3217.875) total time=   0.0s\n",
      "[CV 1/3] END max_depth=3, min_samples_leaf=2, min_samples_split=2, n_estimators=30;, score=(train=-6746.697, test=-3347.810) total time=   0.0s\n",
      "[CV 2/3] END max_depth=3, min_samples_leaf=2, min_samples_split=2, n_estimators=30;, score=(train=-1638.055, test=-2199.167) total time=   0.0s\n",
      "[CV 3/3] END max_depth=3, min_samples_leaf=2, min_samples_split=2, n_estimators=30;, score=(train=-1714.541, test=-3009.500) total time=   0.0s\n",
      "[CV 1/3] END max_depth=3, min_samples_leaf=2, min_samples_split=2, n_estimators=40;, score=(train=-6740.682, test=-3223.264) total time=   0.0s\n",
      "[CV 2/3] END max_depth=3, min_samples_leaf=2, min_samples_split=2, n_estimators=40;, score=(train=-1665.760, test=-2223.750) total time=   0.1s\n",
      "[CV 3/3] END max_depth=3, min_samples_leaf=2, min_samples_split=2, n_estimators=40;, score=(train=-1735.365, test=-3029.625) total time=   0.0s\n",
      "[CV 1/3] END max_depth=3, min_samples_leaf=2, min_samples_split=4, n_estimators=10;, score=(train=-6736.955, test=-3061.572) total time=   0.0s\n",
      "[CV 2/3] END max_depth=3, min_samples_leaf=2, min_samples_split=4, n_estimators=10;, score=(train=-1644.118, test=-1765.000) total time=   0.0s\n",
      "[CV 3/3] END max_depth=3, min_samples_leaf=2, min_samples_split=4, n_estimators=10;, score=(train=-1783.241, test=-3435.750) total time=   0.0s\n",
      "[CV 1/3] END max_depth=3, min_samples_leaf=2, min_samples_split=4, n_estimators=20;, score=(train=-6764.018, test=-3569.993) total time=   0.0s\n",
      "[CV 2/3] END max_depth=3, min_samples_leaf=2, min_samples_split=4, n_estimators=20;, score=(train=-1627.095, test=-1961.250) total time=   0.0s\n",
      "[CV 3/3] END max_depth=3, min_samples_leaf=2, min_samples_split=4, n_estimators=20;, score=(train=-1735.431, test=-3217.875) total time=   0.0s\n",
      "[CV 1/3] END max_depth=3, min_samples_leaf=2, min_samples_split=4, n_estimators=30;, score=(train=-6746.697, test=-3347.810) total time=   0.0s\n",
      "[CV 2/3] END max_depth=3, min_samples_leaf=2, min_samples_split=4, n_estimators=30;, score=(train=-1638.055, test=-2199.167) total time=   0.0s\n",
      "[CV 3/3] END max_depth=3, min_samples_leaf=2, min_samples_split=4, n_estimators=30;, score=(train=-1714.541, test=-3009.500) total time=   0.0s\n",
      "[CV 1/3] END max_depth=3, min_samples_leaf=2, min_samples_split=4, n_estimators=40;, score=(train=-6740.682, test=-3223.264) total time=   0.1s\n",
      "[CV 2/3] END max_depth=3, min_samples_leaf=2, min_samples_split=4, n_estimators=40;, score=(train=-1665.760, test=-2223.750) total time=   0.1s\n",
      "[CV 3/3] END max_depth=3, min_samples_leaf=2, min_samples_split=4, n_estimators=40;, score=(train=-1735.365, test=-3029.625) total time=   0.1s\n",
      "[CV 1/3] END max_depth=3, min_samples_leaf=2, min_samples_split=6, n_estimators=10;, score=(train=-6736.955, test=-3061.572) total time=   0.0s\n",
      "[CV 2/3] END max_depth=3, min_samples_leaf=2, min_samples_split=6, n_estimators=10;, score=(train=-1761.420, test=-1910.000) total time=   0.0s\n",
      "[CV 3/3] END max_depth=3, min_samples_leaf=2, min_samples_split=6, n_estimators=10;, score=(train=-1866.867, test=-3562.500) total time=   0.0s\n",
      "[CV 1/3] END max_depth=3, min_samples_leaf=2, min_samples_split=6, n_estimators=20;, score=(train=-6764.018, test=-3569.993) total time=   0.0s\n",
      "[CV 2/3] END max_depth=3, min_samples_leaf=2, min_samples_split=6, n_estimators=20;, score=(train=-1745.541, test=-2106.250) total time=   0.0s\n",
      "[CV 3/3] END max_depth=3, min_samples_leaf=2, min_samples_split=6, n_estimators=20;, score=(train=-1821.254, test=-3344.625) total time=   0.0s\n",
      "[CV 1/3] END max_depth=3, min_samples_leaf=2, min_samples_split=6, n_estimators=30;, score=(train=-6746.697, test=-3347.810) total time=   0.0s\n",
      "[CV 2/3] END max_depth=3, min_samples_leaf=2, min_samples_split=6, n_estimators=30;, score=(train=-1755.762, test=-2344.167) total time=   0.0s\n",
      "[CV 3/3] END max_depth=3, min_samples_leaf=2, min_samples_split=6, n_estimators=30;, score=(train=-1801.359, test=-3136.250) total time=   0.0s\n",
      "[CV 1/3] END max_depth=3, min_samples_leaf=2, min_samples_split=6, n_estimators=40;, score=(train=-6740.682, test=-3223.264) total time=   0.1s\n",
      "[CV 2/3] END max_depth=3, min_samples_leaf=2, min_samples_split=6, n_estimators=40;, score=(train=-1754.510, test=-2332.500) total time=   0.1s\n",
      "[CV 3/3] END max_depth=3, min_samples_leaf=2, min_samples_split=6, n_estimators=40;, score=(train=-1800.955, test=-3124.688) total time=   0.0s\n",
      "[CV 1/3] END max_depth=3, min_samples_leaf=3, min_samples_split=2, n_estimators=10;, score=(train=-6736.955, test=-3061.572) total time=   0.0s\n",
      "[CV 2/3] END max_depth=3, min_samples_leaf=3, min_samples_split=2, n_estimators=10;, score=(train=-1761.420, test=-1910.000) total time=   0.0s\n",
      "[CV 3/3] END max_depth=3, min_samples_leaf=3, min_samples_split=2, n_estimators=10;, score=(train=-1866.867, test=-3562.500) total time=   0.0s\n",
      "[CV 1/3] END max_depth=3, min_samples_leaf=3, min_samples_split=2, n_estimators=20;, score=(train=-6764.018, test=-3569.993) total time=   0.0s\n",
      "[CV 2/3] END max_depth=3, min_samples_leaf=3, min_samples_split=2, n_estimators=20;, score=(train=-1745.541, test=-2106.250) total time=   0.0s\n",
      "[CV 3/3] END max_depth=3, min_samples_leaf=3, min_samples_split=2, n_estimators=20;, score=(train=-1821.254, test=-3344.625) total time=   0.0s\n",
      "[CV 1/3] END max_depth=3, min_samples_leaf=3, min_samples_split=2, n_estimators=30;, score=(train=-6746.697, test=-3347.810) total time=   0.0s\n",
      "[CV 2/3] END max_depth=3, min_samples_leaf=3, min_samples_split=2, n_estimators=30;, score=(train=-1755.762, test=-2344.167) total time=   0.0s\n",
      "[CV 3/3] END max_depth=3, min_samples_leaf=3, min_samples_split=2, n_estimators=30;, score=(train=-1801.359, test=-3136.250) total time=   0.0s\n",
      "[CV 1/3] END max_depth=3, min_samples_leaf=3, min_samples_split=2, n_estimators=40;, score=(train=-6740.682, test=-3223.264) total time=   0.0s\n",
      "[CV 2/3] END max_depth=3, min_samples_leaf=3, min_samples_split=2, n_estimators=40;, score=(train=-1754.510, test=-2332.500) total time=   0.0s\n",
      "[CV 3/3] END max_depth=3, min_samples_leaf=3, min_samples_split=2, n_estimators=40;, score=(train=-1800.955, test=-3124.688) total time=   0.0s\n",
      "[CV 1/3] END max_depth=3, min_samples_leaf=3, min_samples_split=4, n_estimators=10;, score=(train=-6736.955, test=-3061.572) total time=   0.0s\n",
      "[CV 2/3] END max_depth=3, min_samples_leaf=3, min_samples_split=4, n_estimators=10;, score=(train=-1761.420, test=-1910.000) total time=   0.0s\n",
      "[CV 3/3] END max_depth=3, min_samples_leaf=3, min_samples_split=4, n_estimators=10;, score=(train=-1866.867, test=-3562.500) total time=   0.0s\n",
      "[CV 1/3] END max_depth=3, min_samples_leaf=3, min_samples_split=4, n_estimators=20;, score=(train=-6764.018, test=-3569.993) total time=   0.0s\n",
      "[CV 2/3] END max_depth=3, min_samples_leaf=3, min_samples_split=4, n_estimators=20;, score=(train=-1745.541, test=-2106.250) total time=   0.0s\n",
      "[CV 3/3] END max_depth=3, min_samples_leaf=3, min_samples_split=4, n_estimators=20;, score=(train=-1821.254, test=-3344.625) total time=   0.0s\n",
      "[CV 1/3] END max_depth=3, min_samples_leaf=3, min_samples_split=4, n_estimators=30;, score=(train=-6746.697, test=-3347.810) total time=   0.0s\n",
      "[CV 2/3] END max_depth=3, min_samples_leaf=3, min_samples_split=4, n_estimators=30;, score=(train=-1755.762, test=-2344.167) total time=   0.0s\n",
      "[CV 3/3] END max_depth=3, min_samples_leaf=3, min_samples_split=4, n_estimators=30;, score=(train=-1801.359, test=-3136.250) total time=   0.0s\n",
      "[CV 1/3] END max_depth=3, min_samples_leaf=3, min_samples_split=4, n_estimators=40;, score=(train=-6740.682, test=-3223.264) total time=   0.1s\n",
      "[CV 2/3] END max_depth=3, min_samples_leaf=3, min_samples_split=4, n_estimators=40;, score=(train=-1754.510, test=-2332.500) total time=   0.1s\n",
      "[CV 3/3] END max_depth=3, min_samples_leaf=3, min_samples_split=4, n_estimators=40;, score=(train=-1800.955, test=-3124.688) total time=   0.1s\n",
      "[CV 1/3] END max_depth=3, min_samples_leaf=3, min_samples_split=6, n_estimators=10;, score=(train=-6736.955, test=-3061.572) total time=   0.0s\n",
      "[CV 2/3] END max_depth=3, min_samples_leaf=3, min_samples_split=6, n_estimators=10;, score=(train=-1761.420, test=-1910.000) total time=   0.0s\n",
      "[CV 3/3] END max_depth=3, min_samples_leaf=3, min_samples_split=6, n_estimators=10;, score=(train=-1866.867, test=-3562.500) total time=   0.0s\n",
      "[CV 1/3] END max_depth=3, min_samples_leaf=3, min_samples_split=6, n_estimators=20;, score=(train=-6764.018, test=-3569.993) total time=   0.0s\n",
      "[CV 2/3] END max_depth=3, min_samples_leaf=3, min_samples_split=6, n_estimators=20;, score=(train=-1745.541, test=-2106.250) total time=   0.0s\n",
      "[CV 3/3] END max_depth=3, min_samples_leaf=3, min_samples_split=6, n_estimators=20;, score=(train=-1821.254, test=-3344.625) total time=   0.0s\n",
      "[CV 1/3] END max_depth=3, min_samples_leaf=3, min_samples_split=6, n_estimators=30;, score=(train=-6746.697, test=-3347.810) total time=   0.0s\n",
      "[CV 2/3] END max_depth=3, min_samples_leaf=3, min_samples_split=6, n_estimators=30;, score=(train=-1755.762, test=-2344.167) total time=   0.0s\n",
      "[CV 3/3] END max_depth=3, min_samples_leaf=3, min_samples_split=6, n_estimators=30;, score=(train=-1801.359, test=-3136.250) total time=   0.0s\n",
      "[CV 1/3] END max_depth=3, min_samples_leaf=3, min_samples_split=6, n_estimators=40;, score=(train=-6740.682, test=-3223.264) total time=   0.0s\n",
      "[CV 2/3] END max_depth=3, min_samples_leaf=3, min_samples_split=6, n_estimators=40;, score=(train=-1754.510, test=-2332.500) total time=   0.0s\n",
      "[CV 3/3] END max_depth=3, min_samples_leaf=3, min_samples_split=6, n_estimators=40;, score=(train=-1800.955, test=-3124.688) total time=   0.0s\n",
      "[CV 1/3] END max_depth=3, min_samples_leaf=4, min_samples_split=2, n_estimators=10;, score=(train=-6736.955, test=-3061.572) total time=   0.0s\n",
      "[CV 2/3] END max_depth=3, min_samples_leaf=4, min_samples_split=2, n_estimators=10;, score=(train=-1761.420, test=-1910.000) total time=   0.0s\n",
      "[CV 3/3] END max_depth=3, min_samples_leaf=4, min_samples_split=2, n_estimators=10;, score=(train=-1866.867, test=-3562.500) total time=   0.0s\n",
      "[CV 1/3] END max_depth=3, min_samples_leaf=4, min_samples_split=2, n_estimators=20;, score=(train=-6764.018, test=-3569.993) total time=   0.0s\n",
      "[CV 2/3] END max_depth=3, min_samples_leaf=4, min_samples_split=2, n_estimators=20;, score=(train=-1745.541, test=-2106.250) total time=   0.0s\n",
      "[CV 3/3] END max_depth=3, min_samples_leaf=4, min_samples_split=2, n_estimators=20;, score=(train=-1821.254, test=-3344.625) total time=   0.0s\n",
      "[CV 1/3] END max_depth=3, min_samples_leaf=4, min_samples_split=2, n_estimators=30;, score=(train=-6746.697, test=-3347.810) total time=   0.0s\n",
      "[CV 2/3] END max_depth=3, min_samples_leaf=4, min_samples_split=2, n_estimators=30;, score=(train=-1755.762, test=-2344.167) total time=   0.0s\n",
      "[CV 3/3] END max_depth=3, min_samples_leaf=4, min_samples_split=2, n_estimators=30;, score=(train=-1801.359, test=-3136.250) total time=   0.0s\n",
      "[CV 1/3] END max_depth=3, min_samples_leaf=4, min_samples_split=2, n_estimators=40;, score=(train=-6740.682, test=-3223.264) total time=   0.0s\n",
      "[CV 2/3] END max_depth=3, min_samples_leaf=4, min_samples_split=2, n_estimators=40;, score=(train=-1754.510, test=-2332.500) total time=   0.0s\n",
      "[CV 3/3] END max_depth=3, min_samples_leaf=4, min_samples_split=2, n_estimators=40;, score=(train=-1800.955, test=-3124.688) total time=   0.0s\n",
      "[CV 1/3] END max_depth=3, min_samples_leaf=4, min_samples_split=4, n_estimators=10;, score=(train=-6736.955, test=-3061.572) total time=   0.0s\n",
      "[CV 2/3] END max_depth=3, min_samples_leaf=4, min_samples_split=4, n_estimators=10;, score=(train=-1761.420, test=-1910.000) total time=   0.0s\n",
      "[CV 3/3] END max_depth=3, min_samples_leaf=4, min_samples_split=4, n_estimators=10;, score=(train=-1866.867, test=-3562.500) total time=   0.0s\n",
      "[CV 1/3] END max_depth=3, min_samples_leaf=4, min_samples_split=4, n_estimators=20;, score=(train=-6764.018, test=-3569.993) total time=   0.0s\n",
      "[CV 2/3] END max_depth=3, min_samples_leaf=4, min_samples_split=4, n_estimators=20;, score=(train=-1745.541, test=-2106.250) total time=   0.0s\n",
      "[CV 3/3] END max_depth=3, min_samples_leaf=4, min_samples_split=4, n_estimators=20;, score=(train=-1821.254, test=-3344.625) total time=   0.0s\n",
      "[CV 1/3] END max_depth=3, min_samples_leaf=4, min_samples_split=4, n_estimators=30;, score=(train=-6746.697, test=-3347.810) total time=   0.0s\n",
      "[CV 2/3] END max_depth=3, min_samples_leaf=4, min_samples_split=4, n_estimators=30;, score=(train=-1755.762, test=-2344.167) total time=   0.0s\n",
      "[CV 3/3] END max_depth=3, min_samples_leaf=4, min_samples_split=4, n_estimators=30;, score=(train=-1801.359, test=-3136.250) total time=   0.0s\n",
      "[CV 1/3] END max_depth=3, min_samples_leaf=4, min_samples_split=4, n_estimators=40;, score=(train=-6740.682, test=-3223.264) total time=   0.0s\n",
      "[CV 2/3] END max_depth=3, min_samples_leaf=4, min_samples_split=4, n_estimators=40;, score=(train=-1754.510, test=-2332.500) total time=   0.0s\n",
      "[CV 3/3] END max_depth=3, min_samples_leaf=4, min_samples_split=4, n_estimators=40;, score=(train=-1800.955, test=-3124.688) total time=   0.0s\n",
      "[CV 1/3] END max_depth=3, min_samples_leaf=4, min_samples_split=6, n_estimators=10;, score=(train=-6736.955, test=-3061.572) total time=   0.0s\n",
      "[CV 2/3] END max_depth=3, min_samples_leaf=4, min_samples_split=6, n_estimators=10;, score=(train=-1761.420, test=-1910.000) total time=   0.0s\n",
      "[CV 3/3] END max_depth=3, min_samples_leaf=4, min_samples_split=6, n_estimators=10;, score=(train=-1866.867, test=-3562.500) total time=   0.0s\n",
      "[CV 1/3] END max_depth=3, min_samples_leaf=4, min_samples_split=6, n_estimators=20;, score=(train=-6764.018, test=-3569.993) total time=   0.0s\n",
      "[CV 2/3] END max_depth=3, min_samples_leaf=4, min_samples_split=6, n_estimators=20;, score=(train=-1745.541, test=-2106.250) total time=   0.0s\n",
      "[CV 3/3] END max_depth=3, min_samples_leaf=4, min_samples_split=6, n_estimators=20;, score=(train=-1821.254, test=-3344.625) total time=   0.0s\n",
      "[CV 1/3] END max_depth=3, min_samples_leaf=4, min_samples_split=6, n_estimators=30;, score=(train=-6746.697, test=-3347.810) total time=   0.0s\n",
      "[CV 2/3] END max_depth=3, min_samples_leaf=4, min_samples_split=6, n_estimators=30;, score=(train=-1755.762, test=-2344.167) total time=   0.0s\n",
      "[CV 3/3] END max_depth=3, min_samples_leaf=4, min_samples_split=6, n_estimators=30;, score=(train=-1801.359, test=-3136.250) total time=   0.0s\n",
      "[CV 1/3] END max_depth=3, min_samples_leaf=4, min_samples_split=6, n_estimators=40;, score=(train=-6740.682, test=-3223.264) total time=   0.0s\n",
      "[CV 2/3] END max_depth=3, min_samples_leaf=4, min_samples_split=6, n_estimators=40;, score=(train=-1754.510, test=-2332.500) total time=   0.0s\n",
      "[CV 3/3] END max_depth=3, min_samples_leaf=4, min_samples_split=6, n_estimators=40;, score=(train=-1800.955, test=-3124.688) total time=   0.0s\n",
      "[CV 1/3] END max_depth=3, min_samples_leaf=5, min_samples_split=2, n_estimators=10;, score=(train=-6736.955, test=-3061.572) total time=   0.0s\n",
      "[CV 2/3] END max_depth=3, min_samples_leaf=5, min_samples_split=2, n_estimators=10;, score=(train=-1761.420, test=-1910.000) total time=   0.0s\n",
      "[CV 3/3] END max_depth=3, min_samples_leaf=5, min_samples_split=2, n_estimators=10;, score=(train=-1866.867, test=-3562.500) total time=   0.0s\n",
      "[CV 1/3] END max_depth=3, min_samples_leaf=5, min_samples_split=2, n_estimators=20;, score=(train=-6764.018, test=-3569.993) total time=   0.0s\n",
      "[CV 2/3] END max_depth=3, min_samples_leaf=5, min_samples_split=2, n_estimators=20;, score=(train=-1745.541, test=-2106.250) total time=   0.0s\n",
      "[CV 3/3] END max_depth=3, min_samples_leaf=5, min_samples_split=2, n_estimators=20;, score=(train=-1821.254, test=-3344.625) total time=   0.0s\n",
      "[CV 1/3] END max_depth=3, min_samples_leaf=5, min_samples_split=2, n_estimators=30;, score=(train=-6746.697, test=-3347.810) total time=   0.0s\n",
      "[CV 2/3] END max_depth=3, min_samples_leaf=5, min_samples_split=2, n_estimators=30;, score=(train=-1755.762, test=-2344.167) total time=   0.0s\n",
      "[CV 3/3] END max_depth=3, min_samples_leaf=5, min_samples_split=2, n_estimators=30;, score=(train=-1801.359, test=-3136.250) total time=   0.0s\n",
      "[CV 1/3] END max_depth=3, min_samples_leaf=5, min_samples_split=2, n_estimators=40;, score=(train=-6740.682, test=-3223.264) total time=   0.1s\n",
      "[CV 2/3] END max_depth=3, min_samples_leaf=5, min_samples_split=2, n_estimators=40;, score=(train=-1754.510, test=-2332.500) total time=   0.1s\n",
      "[CV 3/3] END max_depth=3, min_samples_leaf=5, min_samples_split=2, n_estimators=40;, score=(train=-1800.955, test=-3124.688) total time=   0.0s\n",
      "[CV 1/3] END max_depth=3, min_samples_leaf=5, min_samples_split=4, n_estimators=10;, score=(train=-6736.955, test=-3061.572) total time=   0.0s\n",
      "[CV 2/3] END max_depth=3, min_samples_leaf=5, min_samples_split=4, n_estimators=10;, score=(train=-1761.420, test=-1910.000) total time=   0.0s\n",
      "[CV 3/3] END max_depth=3, min_samples_leaf=5, min_samples_split=4, n_estimators=10;, score=(train=-1866.867, test=-3562.500) total time=   0.0s\n",
      "[CV 1/3] END max_depth=3, min_samples_leaf=5, min_samples_split=4, n_estimators=20;, score=(train=-6764.018, test=-3569.993) total time=   0.0s\n",
      "[CV 2/3] END max_depth=3, min_samples_leaf=5, min_samples_split=4, n_estimators=20;, score=(train=-1745.541, test=-2106.250) total time=   0.0s\n",
      "[CV 3/3] END max_depth=3, min_samples_leaf=5, min_samples_split=4, n_estimators=20;, score=(train=-1821.254, test=-3344.625) total time=   0.0s\n",
      "[CV 1/3] END max_depth=3, min_samples_leaf=5, min_samples_split=4, n_estimators=30;, score=(train=-6746.697, test=-3347.810) total time=   0.0s\n",
      "[CV 2/3] END max_depth=3, min_samples_leaf=5, min_samples_split=4, n_estimators=30;, score=(train=-1755.762, test=-2344.167) total time=   0.0s\n",
      "[CV 3/3] END max_depth=3, min_samples_leaf=5, min_samples_split=4, n_estimators=30;, score=(train=-1801.359, test=-3136.250) total time=   0.0s\n",
      "[CV 1/3] END max_depth=3, min_samples_leaf=5, min_samples_split=4, n_estimators=40;, score=(train=-6740.682, test=-3223.264) total time=   0.0s\n",
      "[CV 2/3] END max_depth=3, min_samples_leaf=5, min_samples_split=4, n_estimators=40;, score=(train=-1754.510, test=-2332.500) total time=   0.1s\n",
      "[CV 3/3] END max_depth=3, min_samples_leaf=5, min_samples_split=4, n_estimators=40;, score=(train=-1800.955, test=-3124.688) total time=   0.0s\n",
      "[CV 1/3] END max_depth=3, min_samples_leaf=5, min_samples_split=6, n_estimators=10;, score=(train=-6736.955, test=-3061.572) total time=   0.0s\n",
      "[CV 2/3] END max_depth=3, min_samples_leaf=5, min_samples_split=6, n_estimators=10;, score=(train=-1761.420, test=-1910.000) total time=   0.0s\n",
      "[CV 3/3] END max_depth=3, min_samples_leaf=5, min_samples_split=6, n_estimators=10;, score=(train=-1866.867, test=-3562.500) total time=   0.0s\n",
      "[CV 1/3] END max_depth=3, min_samples_leaf=5, min_samples_split=6, n_estimators=20;, score=(train=-6764.018, test=-3569.993) total time=   0.0s\n",
      "[CV 2/3] END max_depth=3, min_samples_leaf=5, min_samples_split=6, n_estimators=20;, score=(train=-1745.541, test=-2106.250) total time=   0.0s\n",
      "[CV 3/3] END max_depth=3, min_samples_leaf=5, min_samples_split=6, n_estimators=20;, score=(train=-1821.254, test=-3344.625) total time=   0.0s\n",
      "[CV 1/3] END max_depth=3, min_samples_leaf=5, min_samples_split=6, n_estimators=30;, score=(train=-6746.697, test=-3347.810) total time=   0.0s\n",
      "[CV 2/3] END max_depth=3, min_samples_leaf=5, min_samples_split=6, n_estimators=30;, score=(train=-1755.762, test=-2344.167) total time=   0.0s\n",
      "[CV 3/3] END max_depth=3, min_samples_leaf=5, min_samples_split=6, n_estimators=30;, score=(train=-1801.359, test=-3136.250) total time=   0.0s\n",
      "[CV 1/3] END max_depth=3, min_samples_leaf=5, min_samples_split=6, n_estimators=40;, score=(train=-6740.682, test=-3223.264) total time=   0.1s\n",
      "[CV 2/3] END max_depth=3, min_samples_leaf=5, min_samples_split=6, n_estimators=40;, score=(train=-1754.510, test=-2332.500) total time=   0.0s\n",
      "[CV 3/3] END max_depth=3, min_samples_leaf=5, min_samples_split=6, n_estimators=40;, score=(train=-1800.955, test=-3124.688) total time=   0.0s\n",
      "[CV 1/3] END max_depth=3, min_samples_leaf=6, min_samples_split=2, n_estimators=10;, score=(train=-6736.955, test=-3061.572) total time=   0.0s\n",
      "[CV 2/3] END max_depth=3, min_samples_leaf=6, min_samples_split=2, n_estimators=10;, score=(train=-1761.420, test=-1910.000) total time=   0.0s\n",
      "[CV 3/3] END max_depth=3, min_samples_leaf=6, min_samples_split=2, n_estimators=10;, score=(train=-1866.867, test=-3562.500) total time=   0.0s\n",
      "[CV 1/3] END max_depth=3, min_samples_leaf=6, min_samples_split=2, n_estimators=20;, score=(train=-6764.018, test=-3569.993) total time=   0.0s\n",
      "[CV 2/3] END max_depth=3, min_samples_leaf=6, min_samples_split=2, n_estimators=20;, score=(train=-1745.541, test=-2106.250) total time=   0.0s\n",
      "[CV 3/3] END max_depth=3, min_samples_leaf=6, min_samples_split=2, n_estimators=20;, score=(train=-1821.254, test=-3344.625) total time=   0.0s\n",
      "[CV 1/3] END max_depth=3, min_samples_leaf=6, min_samples_split=2, n_estimators=30;, score=(train=-6746.697, test=-3347.810) total time=   0.0s\n",
      "[CV 2/3] END max_depth=3, min_samples_leaf=6, min_samples_split=2, n_estimators=30;, score=(train=-1755.762, test=-2344.167) total time=   0.0s\n",
      "[CV 3/3] END max_depth=3, min_samples_leaf=6, min_samples_split=2, n_estimators=30;, score=(train=-1801.359, test=-3136.250) total time=   0.0s\n",
      "[CV 1/3] END max_depth=3, min_samples_leaf=6, min_samples_split=2, n_estimators=40;, score=(train=-6740.682, test=-3223.264) total time=   0.1s\n",
      "[CV 2/3] END max_depth=3, min_samples_leaf=6, min_samples_split=2, n_estimators=40;, score=(train=-1754.510, test=-2332.500) total time=   0.0s\n",
      "[CV 3/3] END max_depth=3, min_samples_leaf=6, min_samples_split=2, n_estimators=40;, score=(train=-1800.955, test=-3124.688) total time=   0.0s\n",
      "[CV 1/3] END max_depth=3, min_samples_leaf=6, min_samples_split=4, n_estimators=10;, score=(train=-6736.955, test=-3061.572) total time=   0.0s\n",
      "[CV 2/3] END max_depth=3, min_samples_leaf=6, min_samples_split=4, n_estimators=10;, score=(train=-1761.420, test=-1910.000) total time=   0.0s\n",
      "[CV 3/3] END max_depth=3, min_samples_leaf=6, min_samples_split=4, n_estimators=10;, score=(train=-1866.867, test=-3562.500) total time=   0.0s\n",
      "[CV 1/3] END max_depth=3, min_samples_leaf=6, min_samples_split=4, n_estimators=20;, score=(train=-6764.018, test=-3569.993) total time=   0.0s\n",
      "[CV 2/3] END max_depth=3, min_samples_leaf=6, min_samples_split=4, n_estimators=20;, score=(train=-1745.541, test=-2106.250) total time=   0.0s\n",
      "[CV 3/3] END max_depth=3, min_samples_leaf=6, min_samples_split=4, n_estimators=20;, score=(train=-1821.254, test=-3344.625) total time=   0.0s\n",
      "[CV 1/3] END max_depth=3, min_samples_leaf=6, min_samples_split=4, n_estimators=30;, score=(train=-6746.697, test=-3347.810) total time=   0.0s\n",
      "[CV 2/3] END max_depth=3, min_samples_leaf=6, min_samples_split=4, n_estimators=30;, score=(train=-1755.762, test=-2344.167) total time=   0.0s\n",
      "[CV 3/3] END max_depth=3, min_samples_leaf=6, min_samples_split=4, n_estimators=30;, score=(train=-1801.359, test=-3136.250) total time=   0.0s\n",
      "[CV 1/3] END max_depth=3, min_samples_leaf=6, min_samples_split=4, n_estimators=40;, score=(train=-6740.682, test=-3223.264) total time=   0.0s\n",
      "[CV 2/3] END max_depth=3, min_samples_leaf=6, min_samples_split=4, n_estimators=40;, score=(train=-1754.510, test=-2332.500) total time=   0.0s\n",
      "[CV 3/3] END max_depth=3, min_samples_leaf=6, min_samples_split=4, n_estimators=40;, score=(train=-1800.955, test=-3124.688) total time=   0.0s\n",
      "[CV 1/3] END max_depth=3, min_samples_leaf=6, min_samples_split=6, n_estimators=10;, score=(train=-6736.955, test=-3061.572) total time=   0.0s\n",
      "[CV 2/3] END max_depth=3, min_samples_leaf=6, min_samples_split=6, n_estimators=10;, score=(train=-1761.420, test=-1910.000) total time=   0.0s\n",
      "[CV 3/3] END max_depth=3, min_samples_leaf=6, min_samples_split=6, n_estimators=10;, score=(train=-1866.867, test=-3562.500) total time=   0.0s\n",
      "[CV 1/3] END max_depth=3, min_samples_leaf=6, min_samples_split=6, n_estimators=20;, score=(train=-6764.018, test=-3569.993) total time=   0.0s\n",
      "[CV 2/3] END max_depth=3, min_samples_leaf=6, min_samples_split=6, n_estimators=20;, score=(train=-1745.541, test=-2106.250) total time=   0.0s\n",
      "[CV 3/3] END max_depth=3, min_samples_leaf=6, min_samples_split=6, n_estimators=20;, score=(train=-1821.254, test=-3344.625) total time=   0.0s\n",
      "[CV 1/3] END max_depth=3, min_samples_leaf=6, min_samples_split=6, n_estimators=30;, score=(train=-6746.697, test=-3347.810) total time=   0.0s\n",
      "[CV 2/3] END max_depth=3, min_samples_leaf=6, min_samples_split=6, n_estimators=30;, score=(train=-1755.762, test=-2344.167) total time=   0.0s\n",
      "[CV 3/3] END max_depth=3, min_samples_leaf=6, min_samples_split=6, n_estimators=30;, score=(train=-1801.359, test=-3136.250) total time=   0.0s\n",
      "[CV 1/3] END max_depth=3, min_samples_leaf=6, min_samples_split=6, n_estimators=40;, score=(train=-6740.682, test=-3223.264) total time=   0.0s\n",
      "[CV 2/3] END max_depth=3, min_samples_leaf=6, min_samples_split=6, n_estimators=40;, score=(train=-1754.510, test=-2332.500) total time=   0.0s\n",
      "[CV 3/3] END max_depth=3, min_samples_leaf=6, min_samples_split=6, n_estimators=40;, score=(train=-1800.955, test=-3124.688) total time=   0.0s\n",
      "[CV 1/3] END max_depth=3, min_samples_leaf=7, min_samples_split=2, n_estimators=10;, score=(train=-6736.955, test=-3061.572) total time=   0.0s\n",
      "[CV 2/3] END max_depth=3, min_samples_leaf=7, min_samples_split=2, n_estimators=10;, score=(train=-1761.420, test=-1910.000) total time=   0.0s\n",
      "[CV 3/3] END max_depth=3, min_samples_leaf=7, min_samples_split=2, n_estimators=10;, score=(train=-1866.867, test=-3562.500) total time=   0.0s\n",
      "[CV 1/3] END max_depth=3, min_samples_leaf=7, min_samples_split=2, n_estimators=20;, score=(train=-6764.018, test=-3569.993) total time=   0.0s\n",
      "[CV 2/3] END max_depth=3, min_samples_leaf=7, min_samples_split=2, n_estimators=20;, score=(train=-1745.541, test=-2106.250) total time=   0.0s\n",
      "[CV 3/3] END max_depth=3, min_samples_leaf=7, min_samples_split=2, n_estimators=20;, score=(train=-1821.254, test=-3344.625) total time=   0.0s\n",
      "[CV 1/3] END max_depth=3, min_samples_leaf=7, min_samples_split=2, n_estimators=30;, score=(train=-6746.697, test=-3347.810) total time=   0.0s\n",
      "[CV 2/3] END max_depth=3, min_samples_leaf=7, min_samples_split=2, n_estimators=30;, score=(train=-1755.762, test=-2344.167) total time=   0.0s\n",
      "[CV 3/3] END max_depth=3, min_samples_leaf=7, min_samples_split=2, n_estimators=30;, score=(train=-1801.359, test=-3136.250) total time=   0.0s\n",
      "[CV 1/3] END max_depth=3, min_samples_leaf=7, min_samples_split=2, n_estimators=40;, score=(train=-6740.682, test=-3223.264) total time=   0.1s\n",
      "[CV 2/3] END max_depth=3, min_samples_leaf=7, min_samples_split=2, n_estimators=40;, score=(train=-1754.510, test=-2332.500) total time=   0.1s\n",
      "[CV 3/3] END max_depth=3, min_samples_leaf=7, min_samples_split=2, n_estimators=40;, score=(train=-1800.955, test=-3124.688) total time=   0.1s\n",
      "[CV 1/3] END max_depth=3, min_samples_leaf=7, min_samples_split=4, n_estimators=10;, score=(train=-6736.955, test=-3061.572) total time=   0.0s\n",
      "[CV 2/3] END max_depth=3, min_samples_leaf=7, min_samples_split=4, n_estimators=10;, score=(train=-1761.420, test=-1910.000) total time=   0.0s\n",
      "[CV 3/3] END max_depth=3, min_samples_leaf=7, min_samples_split=4, n_estimators=10;, score=(train=-1866.867, test=-3562.500) total time=   0.0s\n",
      "[CV 1/3] END max_depth=3, min_samples_leaf=7, min_samples_split=4, n_estimators=20;, score=(train=-6764.018, test=-3569.993) total time=   0.0s\n",
      "[CV 2/3] END max_depth=3, min_samples_leaf=7, min_samples_split=4, n_estimators=20;, score=(train=-1745.541, test=-2106.250) total time=   0.0s\n",
      "[CV 3/3] END max_depth=3, min_samples_leaf=7, min_samples_split=4, n_estimators=20;, score=(train=-1821.254, test=-3344.625) total time=   0.0s\n",
      "[CV 1/3] END max_depth=3, min_samples_leaf=7, min_samples_split=4, n_estimators=30;, score=(train=-6746.697, test=-3347.810) total time=   0.0s\n",
      "[CV 2/3] END max_depth=3, min_samples_leaf=7, min_samples_split=4, n_estimators=30;, score=(train=-1755.762, test=-2344.167) total time=   0.0s\n",
      "[CV 3/3] END max_depth=3, min_samples_leaf=7, min_samples_split=4, n_estimators=30;, score=(train=-1801.359, test=-3136.250) total time=   0.0s\n",
      "[CV 1/3] END max_depth=3, min_samples_leaf=7, min_samples_split=4, n_estimators=40;, score=(train=-6740.682, test=-3223.264) total time=   0.0s\n",
      "[CV 2/3] END max_depth=3, min_samples_leaf=7, min_samples_split=4, n_estimators=40;, score=(train=-1754.510, test=-2332.500) total time=   0.0s\n",
      "[CV 3/3] END max_depth=3, min_samples_leaf=7, min_samples_split=4, n_estimators=40;, score=(train=-1800.955, test=-3124.688) total time=   0.1s\n",
      "[CV 1/3] END max_depth=3, min_samples_leaf=7, min_samples_split=6, n_estimators=10;, score=(train=-6736.955, test=-3061.572) total time=   0.0s\n",
      "[CV 2/3] END max_depth=3, min_samples_leaf=7, min_samples_split=6, n_estimators=10;, score=(train=-1761.420, test=-1910.000) total time=   0.0s\n",
      "[CV 3/3] END max_depth=3, min_samples_leaf=7, min_samples_split=6, n_estimators=10;, score=(train=-1866.867, test=-3562.500) total time=   0.0s\n",
      "[CV 1/3] END max_depth=3, min_samples_leaf=7, min_samples_split=6, n_estimators=20;, score=(train=-6764.018, test=-3569.993) total time=   0.0s\n",
      "[CV 2/3] END max_depth=3, min_samples_leaf=7, min_samples_split=6, n_estimators=20;, score=(train=-1745.541, test=-2106.250) total time=   0.0s\n",
      "[CV 3/3] END max_depth=3, min_samples_leaf=7, min_samples_split=6, n_estimators=20;, score=(train=-1821.254, test=-3344.625) total time=   0.0s\n",
      "[CV 1/3] END max_depth=3, min_samples_leaf=7, min_samples_split=6, n_estimators=30;, score=(train=-6746.697, test=-3347.810) total time=   0.0s\n",
      "[CV 2/3] END max_depth=3, min_samples_leaf=7, min_samples_split=6, n_estimators=30;, score=(train=-1755.762, test=-2344.167) total time=   0.0s\n",
      "[CV 3/3] END max_depth=3, min_samples_leaf=7, min_samples_split=6, n_estimators=30;, score=(train=-1801.359, test=-3136.250) total time=   0.0s\n",
      "[CV 1/3] END max_depth=3, min_samples_leaf=7, min_samples_split=6, n_estimators=40;, score=(train=-6740.682, test=-3223.264) total time=   0.0s\n",
      "[CV 2/3] END max_depth=3, min_samples_leaf=7, min_samples_split=6, n_estimators=40;, score=(train=-1754.510, test=-2332.500) total time=   0.0s\n",
      "[CV 3/3] END max_depth=3, min_samples_leaf=7, min_samples_split=6, n_estimators=40;, score=(train=-1800.955, test=-3124.688) total time=   0.0s\n",
      "[CV 1/3] END max_depth=5, min_samples_leaf=1, min_samples_split=2, n_estimators=10;, score=(train=-3401.491, test=-4260.753) total time=   0.0s\n",
      "[CV 2/3] END max_depth=5, min_samples_leaf=1, min_samples_split=2, n_estimators=10;, score=(train=-744.110, test=-2740.000) total time=   0.0s\n",
      "[CV 3/3] END max_depth=5, min_samples_leaf=1, min_samples_split=2, n_estimators=10;, score=(train=-1197.900, test=-3927.000) total time=   0.0s\n",
      "[CV 1/3] END max_depth=5, min_samples_leaf=1, min_samples_split=2, n_estimators=20;, score=(train=-3325.697, test=-4651.301) total time=   0.0s\n",
      "[CV 2/3] END max_depth=5, min_samples_leaf=1, min_samples_split=2, n_estimators=20;, score=(train=-834.019, test=-2580.000) total time=   0.0s\n",
      "[CV 3/3] END max_depth=5, min_samples_leaf=1, min_samples_split=2, n_estimators=20;, score=(train=-1014.931, test=-3493.500) total time=   0.0s\n",
      "[CV 1/3] END max_depth=5, min_samples_leaf=1, min_samples_split=2, n_estimators=30;, score=(train=-2707.800, test=-4516.863) total time=   0.0s\n",
      "[CV 2/3] END max_depth=5, min_samples_leaf=1, min_samples_split=2, n_estimators=30;, score=(train=-1045.972, test=-2686.667) total time=   0.0s\n",
      "[CV 3/3] END max_depth=5, min_samples_leaf=1, min_samples_split=2, n_estimators=30;, score=(train=-720.474, test=-3526.000) total time=   0.0s\n",
      "[CV 1/3] END max_depth=5, min_samples_leaf=1, min_samples_split=2, n_estimators=40;, score=(train=-2583.340, test=-4519.593) total time=   0.0s\n",
      "[CV 2/3] END max_depth=5, min_samples_leaf=1, min_samples_split=2, n_estimators=40;, score=(train=-1077.606, test=-2662.500) total time=   0.0s\n",
      "[CV 3/3] END max_depth=5, min_samples_leaf=1, min_samples_split=2, n_estimators=40;, score=(train=-753.419, test=-3513.750) total time=   0.0s\n",
      "[CV 1/3] END max_depth=5, min_samples_leaf=1, min_samples_split=4, n_estimators=10;, score=(train=-6736.955, test=-3061.572) total time=   0.0s\n",
      "[CV 2/3] END max_depth=5, min_samples_leaf=1, min_samples_split=4, n_estimators=10;, score=(train=-1635.380, test=-1996.667) total time=   0.0s\n",
      "[CV 3/3] END max_depth=5, min_samples_leaf=1, min_samples_split=4, n_estimators=10;, score=(train=-1699.781, test=-3664.750) total time=   0.0s\n",
      "[CV 1/3] END max_depth=5, min_samples_leaf=1, min_samples_split=4, n_estimators=20;, score=(train=-6764.018, test=-3569.993) total time=   0.0s\n",
      "[CV 2/3] END max_depth=5, min_samples_leaf=1, min_samples_split=4, n_estimators=20;, score=(train=-1618.265, test=-2192.917) total time=   0.0s\n",
      "[CV 3/3] END max_depth=5, min_samples_leaf=1, min_samples_split=4, n_estimators=20;, score=(train=-1649.554, test=-3446.875) total time=   0.0s\n",
      "[CV 1/3] END max_depth=5, min_samples_leaf=1, min_samples_split=4, n_estimators=30;, score=(train=-6746.697, test=-3347.810) total time=   0.0s\n",
      "[CV 2/3] END max_depth=5, min_samples_leaf=1, min_samples_split=4, n_estimators=30;, score=(train=-1629.284, test=-2430.833) total time=   0.0s\n",
      "[CV 3/3] END max_depth=5, min_samples_leaf=1, min_samples_split=4, n_estimators=30;, score=(train=-1627.562, test=-3238.500) total time=   0.0s\n",
      "[CV 1/3] END max_depth=5, min_samples_leaf=1, min_samples_split=4, n_estimators=40;, score=(train=-6740.682, test=-3223.264) total time=   0.0s\n",
      "[CV 2/3] END max_depth=5, min_samples_leaf=1, min_samples_split=4, n_estimators=40;, score=(train=-1659.211, test=-2397.500) total time=   0.0s\n",
      "[CV 3/3] END max_depth=5, min_samples_leaf=1, min_samples_split=4, n_estimators=40;, score=(train=-1670.510, test=-3201.375) total time=   0.0s\n",
      "[CV 1/3] END max_depth=5, min_samples_leaf=1, min_samples_split=6, n_estimators=10;, score=(train=-6736.955, test=-3061.572) total time=   0.0s\n",
      "[CV 2/3] END max_depth=5, min_samples_leaf=1, min_samples_split=6, n_estimators=10;, score=(train=-1761.420, test=-1910.000) total time=   0.0s\n",
      "[CV 3/3] END max_depth=5, min_samples_leaf=1, min_samples_split=6, n_estimators=10;, score=(train=-1866.867, test=-3562.500) total time=   0.0s\n",
      "[CV 1/3] END max_depth=5, min_samples_leaf=1, min_samples_split=6, n_estimators=20;, score=(train=-6764.018, test=-3569.993) total time=   0.0s\n",
      "[CV 2/3] END max_depth=5, min_samples_leaf=1, min_samples_split=6, n_estimators=20;, score=(train=-1745.541, test=-2106.250) total time=   0.0s\n",
      "[CV 3/3] END max_depth=5, min_samples_leaf=1, min_samples_split=6, n_estimators=20;, score=(train=-1821.254, test=-3344.625) total time=   0.0s\n",
      "[CV 1/3] END max_depth=5, min_samples_leaf=1, min_samples_split=6, n_estimators=30;, score=(train=-6746.697, test=-3347.810) total time=   0.0s\n",
      "[CV 2/3] END max_depth=5, min_samples_leaf=1, min_samples_split=6, n_estimators=30;, score=(train=-1755.762, test=-2344.167) total time=   0.0s\n",
      "[CV 3/3] END max_depth=5, min_samples_leaf=1, min_samples_split=6, n_estimators=30;, score=(train=-1801.359, test=-3136.250) total time=   0.0s\n",
      "[CV 1/3] END max_depth=5, min_samples_leaf=1, min_samples_split=6, n_estimators=40;, score=(train=-6740.682, test=-3223.264) total time=   0.0s\n",
      "[CV 2/3] END max_depth=5, min_samples_leaf=1, min_samples_split=6, n_estimators=40;, score=(train=-1754.510, test=-2332.500) total time=   0.0s\n",
      "[CV 3/3] END max_depth=5, min_samples_leaf=1, min_samples_split=6, n_estimators=40;, score=(train=-1800.955, test=-3124.688) total time=   0.0s\n",
      "[CV 1/3] END max_depth=5, min_samples_leaf=2, min_samples_split=2, n_estimators=10;, score=(train=-6736.955, test=-3061.572) total time=   0.0s\n",
      "[CV 2/3] END max_depth=5, min_samples_leaf=2, min_samples_split=2, n_estimators=10;, score=(train=-1644.118, test=-1765.000) total time=   0.0s\n",
      "[CV 3/3] END max_depth=5, min_samples_leaf=2, min_samples_split=2, n_estimators=10;, score=(train=-1783.241, test=-3435.750) total time=   0.0s\n",
      "[CV 1/3] END max_depth=5, min_samples_leaf=2, min_samples_split=2, n_estimators=20;, score=(train=-6764.018, test=-3569.993) total time=   0.0s\n",
      "[CV 2/3] END max_depth=5, min_samples_leaf=2, min_samples_split=2, n_estimators=20;, score=(train=-1627.095, test=-1961.250) total time=   0.0s\n",
      "[CV 3/3] END max_depth=5, min_samples_leaf=2, min_samples_split=2, n_estimators=20;, score=(train=-1735.431, test=-3217.875) total time=   0.0s\n",
      "[CV 1/3] END max_depth=5, min_samples_leaf=2, min_samples_split=2, n_estimators=30;, score=(train=-6746.697, test=-3347.810) total time=   0.0s\n",
      "[CV 2/3] END max_depth=5, min_samples_leaf=2, min_samples_split=2, n_estimators=30;, score=(train=-1638.055, test=-2199.167) total time=   0.0s\n",
      "[CV 3/3] END max_depth=5, min_samples_leaf=2, min_samples_split=2, n_estimators=30;, score=(train=-1714.541, test=-3009.500) total time=   0.0s\n",
      "[CV 1/3] END max_depth=5, min_samples_leaf=2, min_samples_split=2, n_estimators=40;, score=(train=-6740.682, test=-3223.264) total time=   0.0s\n",
      "[CV 2/3] END max_depth=5, min_samples_leaf=2, min_samples_split=2, n_estimators=40;, score=(train=-1665.760, test=-2223.750) total time=   0.0s\n",
      "[CV 3/3] END max_depth=5, min_samples_leaf=2, min_samples_split=2, n_estimators=40;, score=(train=-1735.365, test=-3029.625) total time=   0.0s\n",
      "[CV 1/3] END max_depth=5, min_samples_leaf=2, min_samples_split=4, n_estimators=10;, score=(train=-6736.955, test=-3061.572) total time=   0.0s\n",
      "[CV 2/3] END max_depth=5, min_samples_leaf=2, min_samples_split=4, n_estimators=10;, score=(train=-1644.118, test=-1765.000) total time=   0.0s\n",
      "[CV 3/3] END max_depth=5, min_samples_leaf=2, min_samples_split=4, n_estimators=10;, score=(train=-1783.241, test=-3435.750) total time=   0.0s\n",
      "[CV 1/3] END max_depth=5, min_samples_leaf=2, min_samples_split=4, n_estimators=20;, score=(train=-6764.018, test=-3569.993) total time=   0.0s\n",
      "[CV 2/3] END max_depth=5, min_samples_leaf=2, min_samples_split=4, n_estimators=20;, score=(train=-1627.095, test=-1961.250) total time=   0.0s\n",
      "[CV 3/3] END max_depth=5, min_samples_leaf=2, min_samples_split=4, n_estimators=20;, score=(train=-1735.431, test=-3217.875) total time=   0.0s\n",
      "[CV 1/3] END max_depth=5, min_samples_leaf=2, min_samples_split=4, n_estimators=30;, score=(train=-6746.697, test=-3347.810) total time=   0.0s\n",
      "[CV 2/3] END max_depth=5, min_samples_leaf=2, min_samples_split=4, n_estimators=30;, score=(train=-1638.055, test=-2199.167) total time=   0.0s\n",
      "[CV 3/3] END max_depth=5, min_samples_leaf=2, min_samples_split=4, n_estimators=30;, score=(train=-1714.541, test=-3009.500) total time=   0.0s\n",
      "[CV 1/3] END max_depth=5, min_samples_leaf=2, min_samples_split=4, n_estimators=40;, score=(train=-6740.682, test=-3223.264) total time=   0.1s\n",
      "[CV 2/3] END max_depth=5, min_samples_leaf=2, min_samples_split=4, n_estimators=40;, score=(train=-1665.760, test=-2223.750) total time=   0.0s\n",
      "[CV 3/3] END max_depth=5, min_samples_leaf=2, min_samples_split=4, n_estimators=40;, score=(train=-1735.365, test=-3029.625) total time=   0.0s\n",
      "[CV 1/3] END max_depth=5, min_samples_leaf=2, min_samples_split=6, n_estimators=10;, score=(train=-6736.955, test=-3061.572) total time=   0.0s\n",
      "[CV 2/3] END max_depth=5, min_samples_leaf=2, min_samples_split=6, n_estimators=10;, score=(train=-1761.420, test=-1910.000) total time=   0.0s\n",
      "[CV 3/3] END max_depth=5, min_samples_leaf=2, min_samples_split=6, n_estimators=10;, score=(train=-1866.867, test=-3562.500) total time=   0.0s\n",
      "[CV 1/3] END max_depth=5, min_samples_leaf=2, min_samples_split=6, n_estimators=20;, score=(train=-6764.018, test=-3569.993) total time=   0.0s\n",
      "[CV 2/3] END max_depth=5, min_samples_leaf=2, min_samples_split=6, n_estimators=20;, score=(train=-1745.541, test=-2106.250) total time=   0.0s\n",
      "[CV 3/3] END max_depth=5, min_samples_leaf=2, min_samples_split=6, n_estimators=20;, score=(train=-1821.254, test=-3344.625) total time=   0.0s\n",
      "[CV 1/3] END max_depth=5, min_samples_leaf=2, min_samples_split=6, n_estimators=30;, score=(train=-6746.697, test=-3347.810) total time=   0.0s\n",
      "[CV 2/3] END max_depth=5, min_samples_leaf=2, min_samples_split=6, n_estimators=30;, score=(train=-1755.762, test=-2344.167) total time=   0.0s\n",
      "[CV 3/3] END max_depth=5, min_samples_leaf=2, min_samples_split=6, n_estimators=30;, score=(train=-1801.359, test=-3136.250) total time=   0.0s\n",
      "[CV 1/3] END max_depth=5, min_samples_leaf=2, min_samples_split=6, n_estimators=40;, score=(train=-6740.682, test=-3223.264) total time=   0.0s\n",
      "[CV 2/3] END max_depth=5, min_samples_leaf=2, min_samples_split=6, n_estimators=40;, score=(train=-1754.510, test=-2332.500) total time=   0.0s\n",
      "[CV 3/3] END max_depth=5, min_samples_leaf=2, min_samples_split=6, n_estimators=40;, score=(train=-1800.955, test=-3124.688) total time=   0.0s\n",
      "[CV 1/3] END max_depth=5, min_samples_leaf=3, min_samples_split=2, n_estimators=10;, score=(train=-6736.955, test=-3061.572) total time=   0.0s\n",
      "[CV 2/3] END max_depth=5, min_samples_leaf=3, min_samples_split=2, n_estimators=10;, score=(train=-1761.420, test=-1910.000) total time=   0.0s\n",
      "[CV 3/3] END max_depth=5, min_samples_leaf=3, min_samples_split=2, n_estimators=10;, score=(train=-1866.867, test=-3562.500) total time=   0.0s\n",
      "[CV 1/3] END max_depth=5, min_samples_leaf=3, min_samples_split=2, n_estimators=20;, score=(train=-6764.018, test=-3569.993) total time=   0.0s\n",
      "[CV 2/3] END max_depth=5, min_samples_leaf=3, min_samples_split=2, n_estimators=20;, score=(train=-1745.541, test=-2106.250) total time=   0.0s\n",
      "[CV 3/3] END max_depth=5, min_samples_leaf=3, min_samples_split=2, n_estimators=20;, score=(train=-1821.254, test=-3344.625) total time=   0.0s\n",
      "[CV 1/3] END max_depth=5, min_samples_leaf=3, min_samples_split=2, n_estimators=30;, score=(train=-6746.697, test=-3347.810) total time=   0.0s\n",
      "[CV 2/3] END max_depth=5, min_samples_leaf=3, min_samples_split=2, n_estimators=30;, score=(train=-1755.762, test=-2344.167) total time=   0.0s\n",
      "[CV 3/3] END max_depth=5, min_samples_leaf=3, min_samples_split=2, n_estimators=30;, score=(train=-1801.359, test=-3136.250) total time=   0.0s\n",
      "[CV 1/3] END max_depth=5, min_samples_leaf=3, min_samples_split=2, n_estimators=40;, score=(train=-6740.682, test=-3223.264) total time=   0.0s\n",
      "[CV 2/3] END max_depth=5, min_samples_leaf=3, min_samples_split=2, n_estimators=40;, score=(train=-1754.510, test=-2332.500) total time=   0.0s\n",
      "[CV 3/3] END max_depth=5, min_samples_leaf=3, min_samples_split=2, n_estimators=40;, score=(train=-1800.955, test=-3124.688) total time=   0.0s\n",
      "[CV 1/3] END max_depth=5, min_samples_leaf=3, min_samples_split=4, n_estimators=10;, score=(train=-6736.955, test=-3061.572) total time=   0.0s\n",
      "[CV 2/3] END max_depth=5, min_samples_leaf=3, min_samples_split=4, n_estimators=10;, score=(train=-1761.420, test=-1910.000) total time=   0.0s\n",
      "[CV 3/3] END max_depth=5, min_samples_leaf=3, min_samples_split=4, n_estimators=10;, score=(train=-1866.867, test=-3562.500) total time=   0.0s\n",
      "[CV 1/3] END max_depth=5, min_samples_leaf=3, min_samples_split=4, n_estimators=20;, score=(train=-6764.018, test=-3569.993) total time=   0.0s\n",
      "[CV 2/3] END max_depth=5, min_samples_leaf=3, min_samples_split=4, n_estimators=20;, score=(train=-1745.541, test=-2106.250) total time=   0.0s\n",
      "[CV 3/3] END max_depth=5, min_samples_leaf=3, min_samples_split=4, n_estimators=20;, score=(train=-1821.254, test=-3344.625) total time=   0.0s\n",
      "[CV 1/3] END max_depth=5, min_samples_leaf=3, min_samples_split=4, n_estimators=30;, score=(train=-6746.697, test=-3347.810) total time=   0.0s\n",
      "[CV 2/3] END max_depth=5, min_samples_leaf=3, min_samples_split=4, n_estimators=30;, score=(train=-1755.762, test=-2344.167) total time=   0.0s\n",
      "[CV 3/3] END max_depth=5, min_samples_leaf=3, min_samples_split=4, n_estimators=30;, score=(train=-1801.359, test=-3136.250) total time=   0.0s\n",
      "[CV 1/3] END max_depth=5, min_samples_leaf=3, min_samples_split=4, n_estimators=40;, score=(train=-6740.682, test=-3223.264) total time=   0.0s\n",
      "[CV 2/3] END max_depth=5, min_samples_leaf=3, min_samples_split=4, n_estimators=40;, score=(train=-1754.510, test=-2332.500) total time=   0.0s\n",
      "[CV 3/3] END max_depth=5, min_samples_leaf=3, min_samples_split=4, n_estimators=40;, score=(train=-1800.955, test=-3124.688) total time=   0.0s\n",
      "[CV 1/3] END max_depth=5, min_samples_leaf=3, min_samples_split=6, n_estimators=10;, score=(train=-6736.955, test=-3061.572) total time=   0.0s\n",
      "[CV 2/3] END max_depth=5, min_samples_leaf=3, min_samples_split=6, n_estimators=10;, score=(train=-1761.420, test=-1910.000) total time=   0.0s\n",
      "[CV 3/3] END max_depth=5, min_samples_leaf=3, min_samples_split=6, n_estimators=10;, score=(train=-1866.867, test=-3562.500) total time=   0.0s\n",
      "[CV 1/3] END max_depth=5, min_samples_leaf=3, min_samples_split=6, n_estimators=20;, score=(train=-6764.018, test=-3569.993) total time=   0.0s\n",
      "[CV 2/3] END max_depth=5, min_samples_leaf=3, min_samples_split=6, n_estimators=20;, score=(train=-1745.541, test=-2106.250) total time=   0.0s\n",
      "[CV 3/3] END max_depth=5, min_samples_leaf=3, min_samples_split=6, n_estimators=20;, score=(train=-1821.254, test=-3344.625) total time=   0.0s\n",
      "[CV 1/3] END max_depth=5, min_samples_leaf=3, min_samples_split=6, n_estimators=30;, score=(train=-6746.697, test=-3347.810) total time=   0.0s\n",
      "[CV 2/3] END max_depth=5, min_samples_leaf=3, min_samples_split=6, n_estimators=30;, score=(train=-1755.762, test=-2344.167) total time=   0.0s\n",
      "[CV 3/3] END max_depth=5, min_samples_leaf=3, min_samples_split=6, n_estimators=30;, score=(train=-1801.359, test=-3136.250) total time=   0.0s\n",
      "[CV 1/3] END max_depth=5, min_samples_leaf=3, min_samples_split=6, n_estimators=40;, score=(train=-6740.682, test=-3223.264) total time=   0.0s\n",
      "[CV 2/3] END max_depth=5, min_samples_leaf=3, min_samples_split=6, n_estimators=40;, score=(train=-1754.510, test=-2332.500) total time=   0.1s\n",
      "[CV 3/3] END max_depth=5, min_samples_leaf=3, min_samples_split=6, n_estimators=40;, score=(train=-1800.955, test=-3124.688) total time=   0.0s\n",
      "[CV 1/3] END max_depth=5, min_samples_leaf=4, min_samples_split=2, n_estimators=10;, score=(train=-6736.955, test=-3061.572) total time=   0.0s\n",
      "[CV 2/3] END max_depth=5, min_samples_leaf=4, min_samples_split=2, n_estimators=10;, score=(train=-1761.420, test=-1910.000) total time=   0.0s\n",
      "[CV 3/3] END max_depth=5, min_samples_leaf=4, min_samples_split=2, n_estimators=10;, score=(train=-1866.867, test=-3562.500) total time=   0.0s\n",
      "[CV 1/3] END max_depth=5, min_samples_leaf=4, min_samples_split=2, n_estimators=20;, score=(train=-6764.018, test=-3569.993) total time=   0.0s\n",
      "[CV 2/3] END max_depth=5, min_samples_leaf=4, min_samples_split=2, n_estimators=20;, score=(train=-1745.541, test=-2106.250) total time=   0.0s\n",
      "[CV 3/3] END max_depth=5, min_samples_leaf=4, min_samples_split=2, n_estimators=20;, score=(train=-1821.254, test=-3344.625) total time=   0.0s\n",
      "[CV 1/3] END max_depth=5, min_samples_leaf=4, min_samples_split=2, n_estimators=30;, score=(train=-6746.697, test=-3347.810) total time=   0.0s\n",
      "[CV 2/3] END max_depth=5, min_samples_leaf=4, min_samples_split=2, n_estimators=30;, score=(train=-1755.762, test=-2344.167) total time=   0.0s\n",
      "[CV 3/3] END max_depth=5, min_samples_leaf=4, min_samples_split=2, n_estimators=30;, score=(train=-1801.359, test=-3136.250) total time=   0.0s\n",
      "[CV 1/3] END max_depth=5, min_samples_leaf=4, min_samples_split=2, n_estimators=40;, score=(train=-6740.682, test=-3223.264) total time=   0.1s\n",
      "[CV 2/3] END max_depth=5, min_samples_leaf=4, min_samples_split=2, n_estimators=40;, score=(train=-1754.510, test=-2332.500) total time=   0.0s\n",
      "[CV 3/3] END max_depth=5, min_samples_leaf=4, min_samples_split=2, n_estimators=40;, score=(train=-1800.955, test=-3124.688) total time=   0.1s\n",
      "[CV 1/3] END max_depth=5, min_samples_leaf=4, min_samples_split=4, n_estimators=10;, score=(train=-6736.955, test=-3061.572) total time=   0.0s\n",
      "[CV 2/3] END max_depth=5, min_samples_leaf=4, min_samples_split=4, n_estimators=10;, score=(train=-1761.420, test=-1910.000) total time=   0.0s\n",
      "[CV 3/3] END max_depth=5, min_samples_leaf=4, min_samples_split=4, n_estimators=10;, score=(train=-1866.867, test=-3562.500) total time=   0.0s\n",
      "[CV 1/3] END max_depth=5, min_samples_leaf=4, min_samples_split=4, n_estimators=20;, score=(train=-6764.018, test=-3569.993) total time=   0.0s\n",
      "[CV 2/3] END max_depth=5, min_samples_leaf=4, min_samples_split=4, n_estimators=20;, score=(train=-1745.541, test=-2106.250) total time=   0.0s\n",
      "[CV 3/3] END max_depth=5, min_samples_leaf=4, min_samples_split=4, n_estimators=20;, score=(train=-1821.254, test=-3344.625) total time=   0.0s\n",
      "[CV 1/3] END max_depth=5, min_samples_leaf=4, min_samples_split=4, n_estimators=30;, score=(train=-6746.697, test=-3347.810) total time=   0.0s\n",
      "[CV 2/3] END max_depth=5, min_samples_leaf=4, min_samples_split=4, n_estimators=30;, score=(train=-1755.762, test=-2344.167) total time=   0.0s\n",
      "[CV 3/3] END max_depth=5, min_samples_leaf=4, min_samples_split=4, n_estimators=30;, score=(train=-1801.359, test=-3136.250) total time=   0.0s\n",
      "[CV 1/3] END max_depth=5, min_samples_leaf=4, min_samples_split=4, n_estimators=40;, score=(train=-6740.682, test=-3223.264) total time=   0.1s\n",
      "[CV 2/3] END max_depth=5, min_samples_leaf=4, min_samples_split=4, n_estimators=40;, score=(train=-1754.510, test=-2332.500) total time=   0.1s\n",
      "[CV 3/3] END max_depth=5, min_samples_leaf=4, min_samples_split=4, n_estimators=40;, score=(train=-1800.955, test=-3124.688) total time=   0.1s\n",
      "[CV 1/3] END max_depth=5, min_samples_leaf=4, min_samples_split=6, n_estimators=10;, score=(train=-6736.955, test=-3061.572) total time=   0.0s\n",
      "[CV 2/3] END max_depth=5, min_samples_leaf=4, min_samples_split=6, n_estimators=10;, score=(train=-1761.420, test=-1910.000) total time=   0.0s\n",
      "[CV 3/3] END max_depth=5, min_samples_leaf=4, min_samples_split=6, n_estimators=10;, score=(train=-1866.867, test=-3562.500) total time=   0.0s\n",
      "[CV 1/3] END max_depth=5, min_samples_leaf=4, min_samples_split=6, n_estimators=20;, score=(train=-6764.018, test=-3569.993) total time=   0.0s\n",
      "[CV 2/3] END max_depth=5, min_samples_leaf=4, min_samples_split=6, n_estimators=20;, score=(train=-1745.541, test=-2106.250) total time=   0.0s\n",
      "[CV 3/3] END max_depth=5, min_samples_leaf=4, min_samples_split=6, n_estimators=20;, score=(train=-1821.254, test=-3344.625) total time=   0.0s\n",
      "[CV 1/3] END max_depth=5, min_samples_leaf=4, min_samples_split=6, n_estimators=30;, score=(train=-6746.697, test=-3347.810) total time=   0.0s\n",
      "[CV 2/3] END max_depth=5, min_samples_leaf=4, min_samples_split=6, n_estimators=30;, score=(train=-1755.762, test=-2344.167) total time=   0.0s\n",
      "[CV 3/3] END max_depth=5, min_samples_leaf=4, min_samples_split=6, n_estimators=30;, score=(train=-1801.359, test=-3136.250) total time=   0.0s\n",
      "[CV 1/3] END max_depth=5, min_samples_leaf=4, min_samples_split=6, n_estimators=40;, score=(train=-6740.682, test=-3223.264) total time=   0.1s\n",
      "[CV 2/3] END max_depth=5, min_samples_leaf=4, min_samples_split=6, n_estimators=40;, score=(train=-1754.510, test=-2332.500) total time=   0.1s\n",
      "[CV 3/3] END max_depth=5, min_samples_leaf=4, min_samples_split=6, n_estimators=40;, score=(train=-1800.955, test=-3124.688) total time=   0.1s\n",
      "[CV 1/3] END max_depth=5, min_samples_leaf=5, min_samples_split=2, n_estimators=10;, score=(train=-6736.955, test=-3061.572) total time=   0.0s\n",
      "[CV 2/3] END max_depth=5, min_samples_leaf=5, min_samples_split=2, n_estimators=10;, score=(train=-1761.420, test=-1910.000) total time=   0.0s\n",
      "[CV 3/3] END max_depth=5, min_samples_leaf=5, min_samples_split=2, n_estimators=10;, score=(train=-1866.867, test=-3562.500) total time=   0.0s\n",
      "[CV 1/3] END max_depth=5, min_samples_leaf=5, min_samples_split=2, n_estimators=20;, score=(train=-6764.018, test=-3569.993) total time=   0.0s\n",
      "[CV 2/3] END max_depth=5, min_samples_leaf=5, min_samples_split=2, n_estimators=20;, score=(train=-1745.541, test=-2106.250) total time=   0.0s\n",
      "[CV 3/3] END max_depth=5, min_samples_leaf=5, min_samples_split=2, n_estimators=20;, score=(train=-1821.254, test=-3344.625) total time=   0.0s\n",
      "[CV 1/3] END max_depth=5, min_samples_leaf=5, min_samples_split=2, n_estimators=30;, score=(train=-6746.697, test=-3347.810) total time=   0.0s\n",
      "[CV 2/3] END max_depth=5, min_samples_leaf=5, min_samples_split=2, n_estimators=30;, score=(train=-1755.762, test=-2344.167) total time=   0.0s\n",
      "[CV 3/3] END max_depth=5, min_samples_leaf=5, min_samples_split=2, n_estimators=30;, score=(train=-1801.359, test=-3136.250) total time=   0.0s\n",
      "[CV 1/3] END max_depth=5, min_samples_leaf=5, min_samples_split=2, n_estimators=40;, score=(train=-6740.682, test=-3223.264) total time=   0.1s\n",
      "[CV 2/3] END max_depth=5, min_samples_leaf=5, min_samples_split=2, n_estimators=40;, score=(train=-1754.510, test=-2332.500) total time=   0.0s\n",
      "[CV 3/3] END max_depth=5, min_samples_leaf=5, min_samples_split=2, n_estimators=40;, score=(train=-1800.955, test=-3124.688) total time=   0.1s\n",
      "[CV 1/3] END max_depth=5, min_samples_leaf=5, min_samples_split=4, n_estimators=10;, score=(train=-6736.955, test=-3061.572) total time=   0.0s\n",
      "[CV 2/3] END max_depth=5, min_samples_leaf=5, min_samples_split=4, n_estimators=10;, score=(train=-1761.420, test=-1910.000) total time=   0.0s\n",
      "[CV 3/3] END max_depth=5, min_samples_leaf=5, min_samples_split=4, n_estimators=10;, score=(train=-1866.867, test=-3562.500) total time=   0.0s\n",
      "[CV 1/3] END max_depth=5, min_samples_leaf=5, min_samples_split=4, n_estimators=20;, score=(train=-6764.018, test=-3569.993) total time=   0.0s\n",
      "[CV 2/3] END max_depth=5, min_samples_leaf=5, min_samples_split=4, n_estimators=20;, score=(train=-1745.541, test=-2106.250) total time=   0.0s\n",
      "[CV 3/3] END max_depth=5, min_samples_leaf=5, min_samples_split=4, n_estimators=20;, score=(train=-1821.254, test=-3344.625) total time=   0.0s\n",
      "[CV 1/3] END max_depth=5, min_samples_leaf=5, min_samples_split=4, n_estimators=30;, score=(train=-6746.697, test=-3347.810) total time=   0.0s\n",
      "[CV 2/3] END max_depth=5, min_samples_leaf=5, min_samples_split=4, n_estimators=30;, score=(train=-1755.762, test=-2344.167) total time=   0.0s\n",
      "[CV 3/3] END max_depth=5, min_samples_leaf=5, min_samples_split=4, n_estimators=30;, score=(train=-1801.359, test=-3136.250) total time=   0.0s\n",
      "[CV 1/3] END max_depth=5, min_samples_leaf=5, min_samples_split=4, n_estimators=40;, score=(train=-6740.682, test=-3223.264) total time=   0.1s\n",
      "[CV 2/3] END max_depth=5, min_samples_leaf=5, min_samples_split=4, n_estimators=40;, score=(train=-1754.510, test=-2332.500) total time=   0.1s\n",
      "[CV 3/3] END max_depth=5, min_samples_leaf=5, min_samples_split=4, n_estimators=40;, score=(train=-1800.955, test=-3124.688) total time=   0.0s\n",
      "[CV 1/3] END max_depth=5, min_samples_leaf=5, min_samples_split=6, n_estimators=10;, score=(train=-6736.955, test=-3061.572) total time=   0.0s\n",
      "[CV 2/3] END max_depth=5, min_samples_leaf=5, min_samples_split=6, n_estimators=10;, score=(train=-1761.420, test=-1910.000) total time=   0.0s\n",
      "[CV 3/3] END max_depth=5, min_samples_leaf=5, min_samples_split=6, n_estimators=10;, score=(train=-1866.867, test=-3562.500) total time=   0.0s\n",
      "[CV 1/3] END max_depth=5, min_samples_leaf=5, min_samples_split=6, n_estimators=20;, score=(train=-6764.018, test=-3569.993) total time=   0.0s\n",
      "[CV 2/3] END max_depth=5, min_samples_leaf=5, min_samples_split=6, n_estimators=20;, score=(train=-1745.541, test=-2106.250) total time=   0.0s\n",
      "[CV 3/3] END max_depth=5, min_samples_leaf=5, min_samples_split=6, n_estimators=20;, score=(train=-1821.254, test=-3344.625) total time=   0.0s\n",
      "[CV 1/3] END max_depth=5, min_samples_leaf=5, min_samples_split=6, n_estimators=30;, score=(train=-6746.697, test=-3347.810) total time=   0.0s\n",
      "[CV 2/3] END max_depth=5, min_samples_leaf=5, min_samples_split=6, n_estimators=30;, score=(train=-1755.762, test=-2344.167) total time=   0.0s\n",
      "[CV 3/3] END max_depth=5, min_samples_leaf=5, min_samples_split=6, n_estimators=30;, score=(train=-1801.359, test=-3136.250) total time=   0.0s\n",
      "[CV 1/3] END max_depth=5, min_samples_leaf=5, min_samples_split=6, n_estimators=40;, score=(train=-6740.682, test=-3223.264) total time=   0.0s\n",
      "[CV 2/3] END max_depth=5, min_samples_leaf=5, min_samples_split=6, n_estimators=40;, score=(train=-1754.510, test=-2332.500) total time=   0.1s\n",
      "[CV 3/3] END max_depth=5, min_samples_leaf=5, min_samples_split=6, n_estimators=40;, score=(train=-1800.955, test=-3124.688) total time=   0.1s\n",
      "[CV 1/3] END max_depth=5, min_samples_leaf=6, min_samples_split=2, n_estimators=10;, score=(train=-6736.955, test=-3061.572) total time=   0.0s\n",
      "[CV 2/3] END max_depth=5, min_samples_leaf=6, min_samples_split=2, n_estimators=10;, score=(train=-1761.420, test=-1910.000) total time=   0.0s\n",
      "[CV 3/3] END max_depth=5, min_samples_leaf=6, min_samples_split=2, n_estimators=10;, score=(train=-1866.867, test=-3562.500) total time=   0.0s\n",
      "[CV 1/3] END max_depth=5, min_samples_leaf=6, min_samples_split=2, n_estimators=20;, score=(train=-6764.018, test=-3569.993) total time=   0.0s\n",
      "[CV 2/3] END max_depth=5, min_samples_leaf=6, min_samples_split=2, n_estimators=20;, score=(train=-1745.541, test=-2106.250) total time=   0.0s\n",
      "[CV 3/3] END max_depth=5, min_samples_leaf=6, min_samples_split=2, n_estimators=20;, score=(train=-1821.254, test=-3344.625) total time=   0.0s\n",
      "[CV 1/3] END max_depth=5, min_samples_leaf=6, min_samples_split=2, n_estimators=30;, score=(train=-6746.697, test=-3347.810) total time=   0.0s\n",
      "[CV 2/3] END max_depth=5, min_samples_leaf=6, min_samples_split=2, n_estimators=30;, score=(train=-1755.762, test=-2344.167) total time=   0.0s\n",
      "[CV 3/3] END max_depth=5, min_samples_leaf=6, min_samples_split=2, n_estimators=30;, score=(train=-1801.359, test=-3136.250) total time=   0.0s\n",
      "[CV 1/3] END max_depth=5, min_samples_leaf=6, min_samples_split=2, n_estimators=40;, score=(train=-6740.682, test=-3223.264) total time=   0.0s\n",
      "[CV 2/3] END max_depth=5, min_samples_leaf=6, min_samples_split=2, n_estimators=40;, score=(train=-1754.510, test=-2332.500) total time=   0.0s\n",
      "[CV 3/3] END max_depth=5, min_samples_leaf=6, min_samples_split=2, n_estimators=40;, score=(train=-1800.955, test=-3124.688) total time=   0.1s\n",
      "[CV 1/3] END max_depth=5, min_samples_leaf=6, min_samples_split=4, n_estimators=10;, score=(train=-6736.955, test=-3061.572) total time=   0.0s\n",
      "[CV 2/3] END max_depth=5, min_samples_leaf=6, min_samples_split=4, n_estimators=10;, score=(train=-1761.420, test=-1910.000) total time=   0.0s\n",
      "[CV 3/3] END max_depth=5, min_samples_leaf=6, min_samples_split=4, n_estimators=10;, score=(train=-1866.867, test=-3562.500) total time=   0.0s\n",
      "[CV 1/3] END max_depth=5, min_samples_leaf=6, min_samples_split=4, n_estimators=20;, score=(train=-6764.018, test=-3569.993) total time=   0.0s\n",
      "[CV 2/3] END max_depth=5, min_samples_leaf=6, min_samples_split=4, n_estimators=20;, score=(train=-1745.541, test=-2106.250) total time=   0.0s\n",
      "[CV 3/3] END max_depth=5, min_samples_leaf=6, min_samples_split=4, n_estimators=20;, score=(train=-1821.254, test=-3344.625) total time=   0.0s\n",
      "[CV 1/3] END max_depth=5, min_samples_leaf=6, min_samples_split=4, n_estimators=30;, score=(train=-6746.697, test=-3347.810) total time=   0.0s\n",
      "[CV 2/3] END max_depth=5, min_samples_leaf=6, min_samples_split=4, n_estimators=30;, score=(train=-1755.762, test=-2344.167) total time=   0.0s\n",
      "[CV 3/3] END max_depth=5, min_samples_leaf=6, min_samples_split=4, n_estimators=30;, score=(train=-1801.359, test=-3136.250) total time=   0.0s\n",
      "[CV 1/3] END max_depth=5, min_samples_leaf=6, min_samples_split=4, n_estimators=40;, score=(train=-6740.682, test=-3223.264) total time=   0.0s\n",
      "[CV 2/3] END max_depth=5, min_samples_leaf=6, min_samples_split=4, n_estimators=40;, score=(train=-1754.510, test=-2332.500) total time=   0.0s\n",
      "[CV 3/3] END max_depth=5, min_samples_leaf=6, min_samples_split=4, n_estimators=40;, score=(train=-1800.955, test=-3124.688) total time=   0.0s\n",
      "[CV 1/3] END max_depth=5, min_samples_leaf=6, min_samples_split=6, n_estimators=10;, score=(train=-6736.955, test=-3061.572) total time=   0.0s\n",
      "[CV 2/3] END max_depth=5, min_samples_leaf=6, min_samples_split=6, n_estimators=10;, score=(train=-1761.420, test=-1910.000) total time=   0.0s\n",
      "[CV 3/3] END max_depth=5, min_samples_leaf=6, min_samples_split=6, n_estimators=10;, score=(train=-1866.867, test=-3562.500) total time=   0.0s\n",
      "[CV 1/3] END max_depth=5, min_samples_leaf=6, min_samples_split=6, n_estimators=20;, score=(train=-6764.018, test=-3569.993) total time=   0.0s\n",
      "[CV 2/3] END max_depth=5, min_samples_leaf=6, min_samples_split=6, n_estimators=20;, score=(train=-1745.541, test=-2106.250) total time=   0.0s\n",
      "[CV 3/3] END max_depth=5, min_samples_leaf=6, min_samples_split=6, n_estimators=20;, score=(train=-1821.254, test=-3344.625) total time=   0.0s\n",
      "[CV 1/3] END max_depth=5, min_samples_leaf=6, min_samples_split=6, n_estimators=30;, score=(train=-6746.697, test=-3347.810) total time=   0.0s\n",
      "[CV 2/3] END max_depth=5, min_samples_leaf=6, min_samples_split=6, n_estimators=30;, score=(train=-1755.762, test=-2344.167) total time=   0.0s\n",
      "[CV 3/3] END max_depth=5, min_samples_leaf=6, min_samples_split=6, n_estimators=30;, score=(train=-1801.359, test=-3136.250) total time=   0.0s\n",
      "[CV 1/3] END max_depth=5, min_samples_leaf=6, min_samples_split=6, n_estimators=40;, score=(train=-6740.682, test=-3223.264) total time=   0.1s\n",
      "[CV 2/3] END max_depth=5, min_samples_leaf=6, min_samples_split=6, n_estimators=40;, score=(train=-1754.510, test=-2332.500) total time=   0.1s\n",
      "[CV 3/3] END max_depth=5, min_samples_leaf=6, min_samples_split=6, n_estimators=40;, score=(train=-1800.955, test=-3124.688) total time=   0.1s\n",
      "[CV 1/3] END max_depth=5, min_samples_leaf=7, min_samples_split=2, n_estimators=10;, score=(train=-6736.955, test=-3061.572) total time=   0.0s\n",
      "[CV 2/3] END max_depth=5, min_samples_leaf=7, min_samples_split=2, n_estimators=10;, score=(train=-1761.420, test=-1910.000) total time=   0.0s\n",
      "[CV 3/3] END max_depth=5, min_samples_leaf=7, min_samples_split=2, n_estimators=10;, score=(train=-1866.867, test=-3562.500) total time=   0.0s\n",
      "[CV 1/3] END max_depth=5, min_samples_leaf=7, min_samples_split=2, n_estimators=20;, score=(train=-6764.018, test=-3569.993) total time=   0.0s\n",
      "[CV 2/3] END max_depth=5, min_samples_leaf=7, min_samples_split=2, n_estimators=20;, score=(train=-1745.541, test=-2106.250) total time=   0.0s\n",
      "[CV 3/3] END max_depth=5, min_samples_leaf=7, min_samples_split=2, n_estimators=20;, score=(train=-1821.254, test=-3344.625) total time=   0.0s\n",
      "[CV 1/3] END max_depth=5, min_samples_leaf=7, min_samples_split=2, n_estimators=30;, score=(train=-6746.697, test=-3347.810) total time=   0.0s\n",
      "[CV 2/3] END max_depth=5, min_samples_leaf=7, min_samples_split=2, n_estimators=30;, score=(train=-1755.762, test=-2344.167) total time=   0.0s\n",
      "[CV 3/3] END max_depth=5, min_samples_leaf=7, min_samples_split=2, n_estimators=30;, score=(train=-1801.359, test=-3136.250) total time=   0.0s\n",
      "[CV 1/3] END max_depth=5, min_samples_leaf=7, min_samples_split=2, n_estimators=40;, score=(train=-6740.682, test=-3223.264) total time=   0.0s\n",
      "[CV 2/3] END max_depth=5, min_samples_leaf=7, min_samples_split=2, n_estimators=40;, score=(train=-1754.510, test=-2332.500) total time=   0.0s\n",
      "[CV 3/3] END max_depth=5, min_samples_leaf=7, min_samples_split=2, n_estimators=40;, score=(train=-1800.955, test=-3124.688) total time=   0.1s\n",
      "[CV 1/3] END max_depth=5, min_samples_leaf=7, min_samples_split=4, n_estimators=10;, score=(train=-6736.955, test=-3061.572) total time=   0.0s\n",
      "[CV 2/3] END max_depth=5, min_samples_leaf=7, min_samples_split=4, n_estimators=10;, score=(train=-1761.420, test=-1910.000) total time=   0.0s\n",
      "[CV 3/3] END max_depth=5, min_samples_leaf=7, min_samples_split=4, n_estimators=10;, score=(train=-1866.867, test=-3562.500) total time=   0.0s\n",
      "[CV 1/3] END max_depth=5, min_samples_leaf=7, min_samples_split=4, n_estimators=20;, score=(train=-6764.018, test=-3569.993) total time=   0.0s\n",
      "[CV 2/3] END max_depth=5, min_samples_leaf=7, min_samples_split=4, n_estimators=20;, score=(train=-1745.541, test=-2106.250) total time=   0.0s\n",
      "[CV 3/3] END max_depth=5, min_samples_leaf=7, min_samples_split=4, n_estimators=20;, score=(train=-1821.254, test=-3344.625) total time=   0.0s\n",
      "[CV 1/3] END max_depth=5, min_samples_leaf=7, min_samples_split=4, n_estimators=30;, score=(train=-6746.697, test=-3347.810) total time=   0.0s\n",
      "[CV 2/3] END max_depth=5, min_samples_leaf=7, min_samples_split=4, n_estimators=30;, score=(train=-1755.762, test=-2344.167) total time=   0.0s\n",
      "[CV 3/3] END max_depth=5, min_samples_leaf=7, min_samples_split=4, n_estimators=30;, score=(train=-1801.359, test=-3136.250) total time=   0.0s\n",
      "[CV 1/3] END max_depth=5, min_samples_leaf=7, min_samples_split=4, n_estimators=40;, score=(train=-6740.682, test=-3223.264) total time=   0.0s\n",
      "[CV 2/3] END max_depth=5, min_samples_leaf=7, min_samples_split=4, n_estimators=40;, score=(train=-1754.510, test=-2332.500) total time=   0.0s\n",
      "[CV 3/3] END max_depth=5, min_samples_leaf=7, min_samples_split=4, n_estimators=40;, score=(train=-1800.955, test=-3124.688) total time=   0.0s\n",
      "[CV 1/3] END max_depth=5, min_samples_leaf=7, min_samples_split=6, n_estimators=10;, score=(train=-6736.955, test=-3061.572) total time=   0.0s\n",
      "[CV 2/3] END max_depth=5, min_samples_leaf=7, min_samples_split=6, n_estimators=10;, score=(train=-1761.420, test=-1910.000) total time=   0.0s\n",
      "[CV 3/3] END max_depth=5, min_samples_leaf=7, min_samples_split=6, n_estimators=10;, score=(train=-1866.867, test=-3562.500) total time=   0.0s\n",
      "[CV 1/3] END max_depth=5, min_samples_leaf=7, min_samples_split=6, n_estimators=20;, score=(train=-6764.018, test=-3569.993) total time=   0.0s\n",
      "[CV 2/3] END max_depth=5, min_samples_leaf=7, min_samples_split=6, n_estimators=20;, score=(train=-1745.541, test=-2106.250) total time=   0.0s\n",
      "[CV 3/3] END max_depth=5, min_samples_leaf=7, min_samples_split=6, n_estimators=20;, score=(train=-1821.254, test=-3344.625) total time=   0.0s\n",
      "[CV 1/3] END max_depth=5, min_samples_leaf=7, min_samples_split=6, n_estimators=30;, score=(train=-6746.697, test=-3347.810) total time=   0.1s\n",
      "[CV 2/3] END max_depth=5, min_samples_leaf=7, min_samples_split=6, n_estimators=30;, score=(train=-1755.762, test=-2344.167) total time=   0.1s\n",
      "[CV 3/3] END max_depth=5, min_samples_leaf=7, min_samples_split=6, n_estimators=30;, score=(train=-1801.359, test=-3136.250) total time=   0.1s\n",
      "[CV 1/3] END max_depth=5, min_samples_leaf=7, min_samples_split=6, n_estimators=40;, score=(train=-6740.682, test=-3223.264) total time=   0.1s\n",
      "[CV 2/3] END max_depth=5, min_samples_leaf=7, min_samples_split=6, n_estimators=40;, score=(train=-1754.510, test=-2332.500) total time=   0.1s\n",
      "[CV 3/3] END max_depth=5, min_samples_leaf=7, min_samples_split=6, n_estimators=40;, score=(train=-1800.955, test=-3124.688) total time=   0.1s\n",
      "[CV 1/3] END max_depth=7, min_samples_leaf=1, min_samples_split=2, n_estimators=10;, score=(train=-3401.491, test=-4260.753) total time=   0.0s\n",
      "[CV 2/3] END max_depth=7, min_samples_leaf=1, min_samples_split=2, n_estimators=10;, score=(train=-744.110, test=-2740.000) total time=   0.0s\n",
      "[CV 3/3] END max_depth=7, min_samples_leaf=1, min_samples_split=2, n_estimators=10;, score=(train=-1197.900, test=-3927.000) total time=   0.0s\n",
      "[CV 1/3] END max_depth=7, min_samples_leaf=1, min_samples_split=2, n_estimators=20;, score=(train=-3325.697, test=-4651.301) total time=   0.0s\n",
      "[CV 2/3] END max_depth=7, min_samples_leaf=1, min_samples_split=2, n_estimators=20;, score=(train=-834.019, test=-2580.000) total time=   0.0s\n",
      "[CV 3/3] END max_depth=7, min_samples_leaf=1, min_samples_split=2, n_estimators=20;, score=(train=-1014.931, test=-3493.500) total time=   0.0s\n",
      "[CV 1/3] END max_depth=7, min_samples_leaf=1, min_samples_split=2, n_estimators=30;, score=(train=-2707.800, test=-4516.863) total time=   0.1s\n",
      "[CV 2/3] END max_depth=7, min_samples_leaf=1, min_samples_split=2, n_estimators=30;, score=(train=-1045.972, test=-2686.667) total time=   0.0s\n",
      "[CV 3/3] END max_depth=7, min_samples_leaf=1, min_samples_split=2, n_estimators=30;, score=(train=-720.474, test=-3526.000) total time=   0.0s\n",
      "[CV 1/3] END max_depth=7, min_samples_leaf=1, min_samples_split=2, n_estimators=40;, score=(train=-2583.340, test=-4519.593) total time=   0.1s\n",
      "[CV 2/3] END max_depth=7, min_samples_leaf=1, min_samples_split=2, n_estimators=40;, score=(train=-1077.606, test=-2662.500) total time=   0.0s\n",
      "[CV 3/3] END max_depth=7, min_samples_leaf=1, min_samples_split=2, n_estimators=40;, score=(train=-753.419, test=-3513.750) total time=   0.0s\n",
      "[CV 1/3] END max_depth=7, min_samples_leaf=1, min_samples_split=4, n_estimators=10;, score=(train=-6736.955, test=-3061.572) total time=   0.0s\n",
      "[CV 2/3] END max_depth=7, min_samples_leaf=1, min_samples_split=4, n_estimators=10;, score=(train=-1635.380, test=-1996.667) total time=   0.0s\n",
      "[CV 3/3] END max_depth=7, min_samples_leaf=1, min_samples_split=4, n_estimators=10;, score=(train=-1699.781, test=-3664.750) total time=   0.0s\n",
      "[CV 1/3] END max_depth=7, min_samples_leaf=1, min_samples_split=4, n_estimators=20;, score=(train=-6764.018, test=-3569.993) total time=   0.0s\n",
      "[CV 2/3] END max_depth=7, min_samples_leaf=1, min_samples_split=4, n_estimators=20;, score=(train=-1618.265, test=-2192.917) total time=   0.0s\n",
      "[CV 3/3] END max_depth=7, min_samples_leaf=1, min_samples_split=4, n_estimators=20;, score=(train=-1649.554, test=-3446.875) total time=   0.0s\n",
      "[CV 1/3] END max_depth=7, min_samples_leaf=1, min_samples_split=4, n_estimators=30;, score=(train=-6746.697, test=-3347.810) total time=   0.0s\n",
      "[CV 2/3] END max_depth=7, min_samples_leaf=1, min_samples_split=4, n_estimators=30;, score=(train=-1629.284, test=-2430.833) total time=   0.0s\n",
      "[CV 3/3] END max_depth=7, min_samples_leaf=1, min_samples_split=4, n_estimators=30;, score=(train=-1627.562, test=-3238.500) total time=   0.0s\n",
      "[CV 1/3] END max_depth=7, min_samples_leaf=1, min_samples_split=4, n_estimators=40;, score=(train=-6740.682, test=-3223.264) total time=   0.0s\n",
      "[CV 2/3] END max_depth=7, min_samples_leaf=1, min_samples_split=4, n_estimators=40;, score=(train=-1659.211, test=-2397.500) total time=   0.0s\n",
      "[CV 3/3] END max_depth=7, min_samples_leaf=1, min_samples_split=4, n_estimators=40;, score=(train=-1670.510, test=-3201.375) total time=   0.0s\n",
      "[CV 1/3] END max_depth=7, min_samples_leaf=1, min_samples_split=6, n_estimators=10;, score=(train=-6736.955, test=-3061.572) total time=   0.0s\n",
      "[CV 2/3] END max_depth=7, min_samples_leaf=1, min_samples_split=6, n_estimators=10;, score=(train=-1761.420, test=-1910.000) total time=   0.0s\n",
      "[CV 3/3] END max_depth=7, min_samples_leaf=1, min_samples_split=6, n_estimators=10;, score=(train=-1866.867, test=-3562.500) total time=   0.0s\n",
      "[CV 1/3] END max_depth=7, min_samples_leaf=1, min_samples_split=6, n_estimators=20;, score=(train=-6764.018, test=-3569.993) total time=   0.0s\n",
      "[CV 2/3] END max_depth=7, min_samples_leaf=1, min_samples_split=6, n_estimators=20;, score=(train=-1745.541, test=-2106.250) total time=   0.0s\n",
      "[CV 3/3] END max_depth=7, min_samples_leaf=1, min_samples_split=6, n_estimators=20;, score=(train=-1821.254, test=-3344.625) total time=   0.0s\n",
      "[CV 1/3] END max_depth=7, min_samples_leaf=1, min_samples_split=6, n_estimators=30;, score=(train=-6746.697, test=-3347.810) total time=   0.0s\n",
      "[CV 2/3] END max_depth=7, min_samples_leaf=1, min_samples_split=6, n_estimators=30;, score=(train=-1755.762, test=-2344.167) total time=   0.0s\n",
      "[CV 3/3] END max_depth=7, min_samples_leaf=1, min_samples_split=6, n_estimators=30;, score=(train=-1801.359, test=-3136.250) total time=   0.0s\n",
      "[CV 1/3] END max_depth=7, min_samples_leaf=1, min_samples_split=6, n_estimators=40;, score=(train=-6740.682, test=-3223.264) total time=   0.0s\n",
      "[CV 2/3] END max_depth=7, min_samples_leaf=1, min_samples_split=6, n_estimators=40;, score=(train=-1754.510, test=-2332.500) total time=   0.0s\n",
      "[CV 3/3] END max_depth=7, min_samples_leaf=1, min_samples_split=6, n_estimators=40;, score=(train=-1800.955, test=-3124.688) total time=   0.0s\n",
      "[CV 1/3] END max_depth=7, min_samples_leaf=2, min_samples_split=2, n_estimators=10;, score=(train=-6736.955, test=-3061.572) total time=   0.0s\n",
      "[CV 2/3] END max_depth=7, min_samples_leaf=2, min_samples_split=2, n_estimators=10;, score=(train=-1644.118, test=-1765.000) total time=   0.0s\n",
      "[CV 3/3] END max_depth=7, min_samples_leaf=2, min_samples_split=2, n_estimators=10;, score=(train=-1783.241, test=-3435.750) total time=   0.0s\n",
      "[CV 1/3] END max_depth=7, min_samples_leaf=2, min_samples_split=2, n_estimators=20;, score=(train=-6764.018, test=-3569.993) total time=   0.0s\n",
      "[CV 2/3] END max_depth=7, min_samples_leaf=2, min_samples_split=2, n_estimators=20;, score=(train=-1627.095, test=-1961.250) total time=   0.0s\n",
      "[CV 3/3] END max_depth=7, min_samples_leaf=2, min_samples_split=2, n_estimators=20;, score=(train=-1735.431, test=-3217.875) total time=   0.0s\n",
      "[CV 1/3] END max_depth=7, min_samples_leaf=2, min_samples_split=2, n_estimators=30;, score=(train=-6746.697, test=-3347.810) total time=   0.0s\n",
      "[CV 2/3] END max_depth=7, min_samples_leaf=2, min_samples_split=2, n_estimators=30;, score=(train=-1638.055, test=-2199.167) total time=   0.0s\n",
      "[CV 3/3] END max_depth=7, min_samples_leaf=2, min_samples_split=2, n_estimators=30;, score=(train=-1714.541, test=-3009.500) total time=   0.0s\n",
      "[CV 1/3] END max_depth=7, min_samples_leaf=2, min_samples_split=2, n_estimators=40;, score=(train=-6740.682, test=-3223.264) total time=   0.1s\n",
      "[CV 2/3] END max_depth=7, min_samples_leaf=2, min_samples_split=2, n_estimators=40;, score=(train=-1665.760, test=-2223.750) total time=   0.0s\n",
      "[CV 3/3] END max_depth=7, min_samples_leaf=2, min_samples_split=2, n_estimators=40;, score=(train=-1735.365, test=-3029.625) total time=   0.0s\n",
      "[CV 1/3] END max_depth=7, min_samples_leaf=2, min_samples_split=4, n_estimators=10;, score=(train=-6736.955, test=-3061.572) total time=   0.0s\n",
      "[CV 2/3] END max_depth=7, min_samples_leaf=2, min_samples_split=4, n_estimators=10;, score=(train=-1644.118, test=-1765.000) total time=   0.0s\n",
      "[CV 3/3] END max_depth=7, min_samples_leaf=2, min_samples_split=4, n_estimators=10;, score=(train=-1783.241, test=-3435.750) total time=   0.0s\n",
      "[CV 1/3] END max_depth=7, min_samples_leaf=2, min_samples_split=4, n_estimators=20;, score=(train=-6764.018, test=-3569.993) total time=   0.0s\n",
      "[CV 2/3] END max_depth=7, min_samples_leaf=2, min_samples_split=4, n_estimators=20;, score=(train=-1627.095, test=-1961.250) total time=   0.0s\n",
      "[CV 3/3] END max_depth=7, min_samples_leaf=2, min_samples_split=4, n_estimators=20;, score=(train=-1735.431, test=-3217.875) total time=   0.0s\n",
      "[CV 1/3] END max_depth=7, min_samples_leaf=2, min_samples_split=4, n_estimators=30;, score=(train=-6746.697, test=-3347.810) total time=   0.0s\n",
      "[CV 2/3] END max_depth=7, min_samples_leaf=2, min_samples_split=4, n_estimators=30;, score=(train=-1638.055, test=-2199.167) total time=   0.0s\n",
      "[CV 3/3] END max_depth=7, min_samples_leaf=2, min_samples_split=4, n_estimators=30;, score=(train=-1714.541, test=-3009.500) total time=   0.0s\n",
      "[CV 1/3] END max_depth=7, min_samples_leaf=2, min_samples_split=4, n_estimators=40;, score=(train=-6740.682, test=-3223.264) total time=   0.0s\n",
      "[CV 2/3] END max_depth=7, min_samples_leaf=2, min_samples_split=4, n_estimators=40;, score=(train=-1665.760, test=-2223.750) total time=   0.0s\n",
      "[CV 3/3] END max_depth=7, min_samples_leaf=2, min_samples_split=4, n_estimators=40;, score=(train=-1735.365, test=-3029.625) total time=   0.0s\n",
      "[CV 1/3] END max_depth=7, min_samples_leaf=2, min_samples_split=6, n_estimators=10;, score=(train=-6736.955, test=-3061.572) total time=   0.0s\n",
      "[CV 2/3] END max_depth=7, min_samples_leaf=2, min_samples_split=6, n_estimators=10;, score=(train=-1761.420, test=-1910.000) total time=   0.0s\n",
      "[CV 3/3] END max_depth=7, min_samples_leaf=2, min_samples_split=6, n_estimators=10;, score=(train=-1866.867, test=-3562.500) total time=   0.0s\n",
      "[CV 1/3] END max_depth=7, min_samples_leaf=2, min_samples_split=6, n_estimators=20;, score=(train=-6764.018, test=-3569.993) total time=   0.0s\n",
      "[CV 2/3] END max_depth=7, min_samples_leaf=2, min_samples_split=6, n_estimators=20;, score=(train=-1745.541, test=-2106.250) total time=   0.0s\n",
      "[CV 3/3] END max_depth=7, min_samples_leaf=2, min_samples_split=6, n_estimators=20;, score=(train=-1821.254, test=-3344.625) total time=   0.0s\n",
      "[CV 1/3] END max_depth=7, min_samples_leaf=2, min_samples_split=6, n_estimators=30;, score=(train=-6746.697, test=-3347.810) total time=   0.0s\n",
      "[CV 2/3] END max_depth=7, min_samples_leaf=2, min_samples_split=6, n_estimators=30;, score=(train=-1755.762, test=-2344.167) total time=   0.0s\n",
      "[CV 3/3] END max_depth=7, min_samples_leaf=2, min_samples_split=6, n_estimators=30;, score=(train=-1801.359, test=-3136.250) total time=   0.0s\n",
      "[CV 1/3] END max_depth=7, min_samples_leaf=2, min_samples_split=6, n_estimators=40;, score=(train=-6740.682, test=-3223.264) total time=   0.1s\n",
      "[CV 2/3] END max_depth=7, min_samples_leaf=2, min_samples_split=6, n_estimators=40;, score=(train=-1754.510, test=-2332.500) total time=   0.0s\n",
      "[CV 3/3] END max_depth=7, min_samples_leaf=2, min_samples_split=6, n_estimators=40;, score=(train=-1800.955, test=-3124.688) total time=   0.0s\n",
      "[CV 1/3] END max_depth=7, min_samples_leaf=3, min_samples_split=2, n_estimators=10;, score=(train=-6736.955, test=-3061.572) total time=   0.0s\n",
      "[CV 2/3] END max_depth=7, min_samples_leaf=3, min_samples_split=2, n_estimators=10;, score=(train=-1761.420, test=-1910.000) total time=   0.0s\n",
      "[CV 3/3] END max_depth=7, min_samples_leaf=3, min_samples_split=2, n_estimators=10;, score=(train=-1866.867, test=-3562.500) total time=   0.0s\n",
      "[CV 1/3] END max_depth=7, min_samples_leaf=3, min_samples_split=2, n_estimators=20;, score=(train=-6764.018, test=-3569.993) total time=   0.0s\n",
      "[CV 2/3] END max_depth=7, min_samples_leaf=3, min_samples_split=2, n_estimators=20;, score=(train=-1745.541, test=-2106.250) total time=   0.0s\n",
      "[CV 3/3] END max_depth=7, min_samples_leaf=3, min_samples_split=2, n_estimators=20;, score=(train=-1821.254, test=-3344.625) total time=   0.0s\n",
      "[CV 1/3] END max_depth=7, min_samples_leaf=3, min_samples_split=2, n_estimators=30;, score=(train=-6746.697, test=-3347.810) total time=   0.0s\n",
      "[CV 2/3] END max_depth=7, min_samples_leaf=3, min_samples_split=2, n_estimators=30;, score=(train=-1755.762, test=-2344.167) total time=   0.0s\n",
      "[CV 3/3] END max_depth=7, min_samples_leaf=3, min_samples_split=2, n_estimators=30;, score=(train=-1801.359, test=-3136.250) total time=   0.0s\n",
      "[CV 1/3] END max_depth=7, min_samples_leaf=3, min_samples_split=2, n_estimators=40;, score=(train=-6740.682, test=-3223.264) total time=   0.1s\n",
      "[CV 2/3] END max_depth=7, min_samples_leaf=3, min_samples_split=2, n_estimators=40;, score=(train=-1754.510, test=-2332.500) total time=   0.0s\n",
      "[CV 3/3] END max_depth=7, min_samples_leaf=3, min_samples_split=2, n_estimators=40;, score=(train=-1800.955, test=-3124.688) total time=   0.0s\n",
      "[CV 1/3] END max_depth=7, min_samples_leaf=3, min_samples_split=4, n_estimators=10;, score=(train=-6736.955, test=-3061.572) total time=   0.0s\n",
      "[CV 2/3] END max_depth=7, min_samples_leaf=3, min_samples_split=4, n_estimators=10;, score=(train=-1761.420, test=-1910.000) total time=   0.0s\n",
      "[CV 3/3] END max_depth=7, min_samples_leaf=3, min_samples_split=4, n_estimators=10;, score=(train=-1866.867, test=-3562.500) total time=   0.0s\n",
      "[CV 1/3] END max_depth=7, min_samples_leaf=3, min_samples_split=4, n_estimators=20;, score=(train=-6764.018, test=-3569.993) total time=   0.0s\n",
      "[CV 2/3] END max_depth=7, min_samples_leaf=3, min_samples_split=4, n_estimators=20;, score=(train=-1745.541, test=-2106.250) total time=   0.0s\n",
      "[CV 3/3] END max_depth=7, min_samples_leaf=3, min_samples_split=4, n_estimators=20;, score=(train=-1821.254, test=-3344.625) total time=   0.0s\n",
      "[CV 1/3] END max_depth=7, min_samples_leaf=3, min_samples_split=4, n_estimators=30;, score=(train=-6746.697, test=-3347.810) total time=   0.0s\n",
      "[CV 2/3] END max_depth=7, min_samples_leaf=3, min_samples_split=4, n_estimators=30;, score=(train=-1755.762, test=-2344.167) total time=   0.0s\n",
      "[CV 3/3] END max_depth=7, min_samples_leaf=3, min_samples_split=4, n_estimators=30;, score=(train=-1801.359, test=-3136.250) total time=   0.0s\n",
      "[CV 1/3] END max_depth=7, min_samples_leaf=3, min_samples_split=4, n_estimators=40;, score=(train=-6740.682, test=-3223.264) total time=   0.1s\n",
      "[CV 2/3] END max_depth=7, min_samples_leaf=3, min_samples_split=4, n_estimators=40;, score=(train=-1754.510, test=-2332.500) total time=   0.1s\n",
      "[CV 3/3] END max_depth=7, min_samples_leaf=3, min_samples_split=4, n_estimators=40;, score=(train=-1800.955, test=-3124.688) total time=   0.0s\n",
      "[CV 1/3] END max_depth=7, min_samples_leaf=3, min_samples_split=6, n_estimators=10;, score=(train=-6736.955, test=-3061.572) total time=   0.0s\n",
      "[CV 2/3] END max_depth=7, min_samples_leaf=3, min_samples_split=6, n_estimators=10;, score=(train=-1761.420, test=-1910.000) total time=   0.0s\n",
      "[CV 3/3] END max_depth=7, min_samples_leaf=3, min_samples_split=6, n_estimators=10;, score=(train=-1866.867, test=-3562.500) total time=   0.0s\n",
      "[CV 1/3] END max_depth=7, min_samples_leaf=3, min_samples_split=6, n_estimators=20;, score=(train=-6764.018, test=-3569.993) total time=   0.0s\n",
      "[CV 2/3] END max_depth=7, min_samples_leaf=3, min_samples_split=6, n_estimators=20;, score=(train=-1745.541, test=-2106.250) total time=   0.0s\n",
      "[CV 3/3] END max_depth=7, min_samples_leaf=3, min_samples_split=6, n_estimators=20;, score=(train=-1821.254, test=-3344.625) total time=   0.0s\n",
      "[CV 1/3] END max_depth=7, min_samples_leaf=3, min_samples_split=6, n_estimators=30;, score=(train=-6746.697, test=-3347.810) total time=   0.0s\n",
      "[CV 2/3] END max_depth=7, min_samples_leaf=3, min_samples_split=6, n_estimators=30;, score=(train=-1755.762, test=-2344.167) total time=   0.0s\n",
      "[CV 3/3] END max_depth=7, min_samples_leaf=3, min_samples_split=6, n_estimators=30;, score=(train=-1801.359, test=-3136.250) total time=   0.0s\n",
      "[CV 1/3] END max_depth=7, min_samples_leaf=3, min_samples_split=6, n_estimators=40;, score=(train=-6740.682, test=-3223.264) total time=   0.1s\n",
      "[CV 2/3] END max_depth=7, min_samples_leaf=3, min_samples_split=6, n_estimators=40;, score=(train=-1754.510, test=-2332.500) total time=   0.0s\n",
      "[CV 3/3] END max_depth=7, min_samples_leaf=3, min_samples_split=6, n_estimators=40;, score=(train=-1800.955, test=-3124.688) total time=   0.1s\n",
      "[CV 1/3] END max_depth=7, min_samples_leaf=4, min_samples_split=2, n_estimators=10;, score=(train=-6736.955, test=-3061.572) total time=   0.0s\n",
      "[CV 2/3] END max_depth=7, min_samples_leaf=4, min_samples_split=2, n_estimators=10;, score=(train=-1761.420, test=-1910.000) total time=   0.0s\n",
      "[CV 3/3] END max_depth=7, min_samples_leaf=4, min_samples_split=2, n_estimators=10;, score=(train=-1866.867, test=-3562.500) total time=   0.0s\n",
      "[CV 1/3] END max_depth=7, min_samples_leaf=4, min_samples_split=2, n_estimators=20;, score=(train=-6764.018, test=-3569.993) total time=   0.0s\n",
      "[CV 2/3] END max_depth=7, min_samples_leaf=4, min_samples_split=2, n_estimators=20;, score=(train=-1745.541, test=-2106.250) total time=   0.0s\n",
      "[CV 3/3] END max_depth=7, min_samples_leaf=4, min_samples_split=2, n_estimators=20;, score=(train=-1821.254, test=-3344.625) total time=   0.0s\n",
      "[CV 1/3] END max_depth=7, min_samples_leaf=4, min_samples_split=2, n_estimators=30;, score=(train=-6746.697, test=-3347.810) total time=   0.0s\n",
      "[CV 2/3] END max_depth=7, min_samples_leaf=4, min_samples_split=2, n_estimators=30;, score=(train=-1755.762, test=-2344.167) total time=   0.0s\n",
      "[CV 3/3] END max_depth=7, min_samples_leaf=4, min_samples_split=2, n_estimators=30;, score=(train=-1801.359, test=-3136.250) total time=   0.0s\n",
      "[CV 1/3] END max_depth=7, min_samples_leaf=4, min_samples_split=2, n_estimators=40;, score=(train=-6740.682, test=-3223.264) total time=   0.1s\n",
      "[CV 2/3] END max_depth=7, min_samples_leaf=4, min_samples_split=2, n_estimators=40;, score=(train=-1754.510, test=-2332.500) total time=   0.1s\n",
      "[CV 3/3] END max_depth=7, min_samples_leaf=4, min_samples_split=2, n_estimators=40;, score=(train=-1800.955, test=-3124.688) total time=   0.0s\n",
      "[CV 1/3] END max_depth=7, min_samples_leaf=4, min_samples_split=4, n_estimators=10;, score=(train=-6736.955, test=-3061.572) total time=   0.0s\n",
      "[CV 2/3] END max_depth=7, min_samples_leaf=4, min_samples_split=4, n_estimators=10;, score=(train=-1761.420, test=-1910.000) total time=   0.0s\n",
      "[CV 3/3] END max_depth=7, min_samples_leaf=4, min_samples_split=4, n_estimators=10;, score=(train=-1866.867, test=-3562.500) total time=   0.0s\n",
      "[CV 1/3] END max_depth=7, min_samples_leaf=4, min_samples_split=4, n_estimators=20;, score=(train=-6764.018, test=-3569.993) total time=   0.0s\n",
      "[CV 2/3] END max_depth=7, min_samples_leaf=4, min_samples_split=4, n_estimators=20;, score=(train=-1745.541, test=-2106.250) total time=   0.0s\n",
      "[CV 3/3] END max_depth=7, min_samples_leaf=4, min_samples_split=4, n_estimators=20;, score=(train=-1821.254, test=-3344.625) total time=   0.0s\n",
      "[CV 1/3] END max_depth=7, min_samples_leaf=4, min_samples_split=4, n_estimators=30;, score=(train=-6746.697, test=-3347.810) total time=   0.0s\n",
      "[CV 2/3] END max_depth=7, min_samples_leaf=4, min_samples_split=4, n_estimators=30;, score=(train=-1755.762, test=-2344.167) total time=   0.1s\n",
      "[CV 3/3] END max_depth=7, min_samples_leaf=4, min_samples_split=4, n_estimators=30;, score=(train=-1801.359, test=-3136.250) total time=   0.0s\n",
      "[CV 1/3] END max_depth=7, min_samples_leaf=4, min_samples_split=4, n_estimators=40;, score=(train=-6740.682, test=-3223.264) total time=   0.1s\n",
      "[CV 2/3] END max_depth=7, min_samples_leaf=4, min_samples_split=4, n_estimators=40;, score=(train=-1754.510, test=-2332.500) total time=   0.0s\n",
      "[CV 3/3] END max_depth=7, min_samples_leaf=4, min_samples_split=4, n_estimators=40;, score=(train=-1800.955, test=-3124.688) total time=   0.1s\n",
      "[CV 1/3] END max_depth=7, min_samples_leaf=4, min_samples_split=6, n_estimators=10;, score=(train=-6736.955, test=-3061.572) total time=   0.0s\n",
      "[CV 2/3] END max_depth=7, min_samples_leaf=4, min_samples_split=6, n_estimators=10;, score=(train=-1761.420, test=-1910.000) total time=   0.0s\n",
      "[CV 3/3] END max_depth=7, min_samples_leaf=4, min_samples_split=6, n_estimators=10;, score=(train=-1866.867, test=-3562.500) total time=   0.0s\n",
      "[CV 1/3] END max_depth=7, min_samples_leaf=4, min_samples_split=6, n_estimators=20;, score=(train=-6764.018, test=-3569.993) total time=   0.0s\n",
      "[CV 2/3] END max_depth=7, min_samples_leaf=4, min_samples_split=6, n_estimators=20;, score=(train=-1745.541, test=-2106.250) total time=   0.0s\n",
      "[CV 3/3] END max_depth=7, min_samples_leaf=4, min_samples_split=6, n_estimators=20;, score=(train=-1821.254, test=-3344.625) total time=   0.0s\n",
      "[CV 1/3] END max_depth=7, min_samples_leaf=4, min_samples_split=6, n_estimators=30;, score=(train=-6746.697, test=-3347.810) total time=   0.0s\n",
      "[CV 2/3] END max_depth=7, min_samples_leaf=4, min_samples_split=6, n_estimators=30;, score=(train=-1755.762, test=-2344.167) total time=   0.0s\n",
      "[CV 3/3] END max_depth=7, min_samples_leaf=4, min_samples_split=6, n_estimators=30;, score=(train=-1801.359, test=-3136.250) total time=   0.0s\n",
      "[CV 1/3] END max_depth=7, min_samples_leaf=4, min_samples_split=6, n_estimators=40;, score=(train=-6740.682, test=-3223.264) total time=   0.1s\n",
      "[CV 2/3] END max_depth=7, min_samples_leaf=4, min_samples_split=6, n_estimators=40;, score=(train=-1754.510, test=-2332.500) total time=   0.1s\n",
      "[CV 3/3] END max_depth=7, min_samples_leaf=4, min_samples_split=6, n_estimators=40;, score=(train=-1800.955, test=-3124.688) total time=   0.1s\n",
      "[CV 1/3] END max_depth=7, min_samples_leaf=5, min_samples_split=2, n_estimators=10;, score=(train=-6736.955, test=-3061.572) total time=   0.0s\n",
      "[CV 2/3] END max_depth=7, min_samples_leaf=5, min_samples_split=2, n_estimators=10;, score=(train=-1761.420, test=-1910.000) total time=   0.0s\n",
      "[CV 3/3] END max_depth=7, min_samples_leaf=5, min_samples_split=2, n_estimators=10;, score=(train=-1866.867, test=-3562.500) total time=   0.0s\n",
      "[CV 1/3] END max_depth=7, min_samples_leaf=5, min_samples_split=2, n_estimators=20;, score=(train=-6764.018, test=-3569.993) total time=   0.0s\n",
      "[CV 2/3] END max_depth=7, min_samples_leaf=5, min_samples_split=2, n_estimators=20;, score=(train=-1745.541, test=-2106.250) total time=   0.0s\n",
      "[CV 3/3] END max_depth=7, min_samples_leaf=5, min_samples_split=2, n_estimators=20;, score=(train=-1821.254, test=-3344.625) total time=   0.0s\n",
      "[CV 1/3] END max_depth=7, min_samples_leaf=5, min_samples_split=2, n_estimators=30;, score=(train=-6746.697, test=-3347.810) total time=   0.0s\n",
      "[CV 2/3] END max_depth=7, min_samples_leaf=5, min_samples_split=2, n_estimators=30;, score=(train=-1755.762, test=-2344.167) total time=   0.0s\n",
      "[CV 3/3] END max_depth=7, min_samples_leaf=5, min_samples_split=2, n_estimators=30;, score=(train=-1801.359, test=-3136.250) total time=   0.0s\n",
      "[CV 1/3] END max_depth=7, min_samples_leaf=5, min_samples_split=2, n_estimators=40;, score=(train=-6740.682, test=-3223.264) total time=   0.1s\n",
      "[CV 2/3] END max_depth=7, min_samples_leaf=5, min_samples_split=2, n_estimators=40;, score=(train=-1754.510, test=-2332.500) total time=   0.1s\n",
      "[CV 3/3] END max_depth=7, min_samples_leaf=5, min_samples_split=2, n_estimators=40;, score=(train=-1800.955, test=-3124.688) total time=   0.0s\n",
      "[CV 1/3] END max_depth=7, min_samples_leaf=5, min_samples_split=4, n_estimators=10;, score=(train=-6736.955, test=-3061.572) total time=   0.0s\n",
      "[CV 2/3] END max_depth=7, min_samples_leaf=5, min_samples_split=4, n_estimators=10;, score=(train=-1761.420, test=-1910.000) total time=   0.0s\n",
      "[CV 3/3] END max_depth=7, min_samples_leaf=5, min_samples_split=4, n_estimators=10;, score=(train=-1866.867, test=-3562.500) total time=   0.0s\n",
      "[CV 1/3] END max_depth=7, min_samples_leaf=5, min_samples_split=4, n_estimators=20;, score=(train=-6764.018, test=-3569.993) total time=   0.0s\n",
      "[CV 2/3] END max_depth=7, min_samples_leaf=5, min_samples_split=4, n_estimators=20;, score=(train=-1745.541, test=-2106.250) total time=   0.0s\n",
      "[CV 3/3] END max_depth=7, min_samples_leaf=5, min_samples_split=4, n_estimators=20;, score=(train=-1821.254, test=-3344.625) total time=   0.0s\n",
      "[CV 1/3] END max_depth=7, min_samples_leaf=5, min_samples_split=4, n_estimators=30;, score=(train=-6746.697, test=-3347.810) total time=   0.0s\n",
      "[CV 2/3] END max_depth=7, min_samples_leaf=5, min_samples_split=4, n_estimators=30;, score=(train=-1755.762, test=-2344.167) total time=   0.1s\n",
      "[CV 3/3] END max_depth=7, min_samples_leaf=5, min_samples_split=4, n_estimators=30;, score=(train=-1801.359, test=-3136.250) total time=   0.0s\n",
      "[CV 1/3] END max_depth=7, min_samples_leaf=5, min_samples_split=4, n_estimators=40;, score=(train=-6740.682, test=-3223.264) total time=   0.1s\n",
      "[CV 2/3] END max_depth=7, min_samples_leaf=5, min_samples_split=4, n_estimators=40;, score=(train=-1754.510, test=-2332.500) total time=   0.1s\n",
      "[CV 3/3] END max_depth=7, min_samples_leaf=5, min_samples_split=4, n_estimators=40;, score=(train=-1800.955, test=-3124.688) total time=   0.0s\n",
      "[CV 1/3] END max_depth=7, min_samples_leaf=5, min_samples_split=6, n_estimators=10;, score=(train=-6736.955, test=-3061.572) total time=   0.0s\n",
      "[CV 2/3] END max_depth=7, min_samples_leaf=5, min_samples_split=6, n_estimators=10;, score=(train=-1761.420, test=-1910.000) total time=   0.0s\n",
      "[CV 3/3] END max_depth=7, min_samples_leaf=5, min_samples_split=6, n_estimators=10;, score=(train=-1866.867, test=-3562.500) total time=   0.0s\n",
      "[CV 1/3] END max_depth=7, min_samples_leaf=5, min_samples_split=6, n_estimators=20;, score=(train=-6764.018, test=-3569.993) total time=   0.0s\n",
      "[CV 2/3] END max_depth=7, min_samples_leaf=5, min_samples_split=6, n_estimators=20;, score=(train=-1745.541, test=-2106.250) total time=   0.0s\n",
      "[CV 3/3] END max_depth=7, min_samples_leaf=5, min_samples_split=6, n_estimators=20;, score=(train=-1821.254, test=-3344.625) total time=   0.0s\n",
      "[CV 1/3] END max_depth=7, min_samples_leaf=5, min_samples_split=6, n_estimators=30;, score=(train=-6746.697, test=-3347.810) total time=   0.0s\n",
      "[CV 2/3] END max_depth=7, min_samples_leaf=5, min_samples_split=6, n_estimators=30;, score=(train=-1755.762, test=-2344.167) total time=   0.1s\n",
      "[CV 3/3] END max_depth=7, min_samples_leaf=5, min_samples_split=6, n_estimators=30;, score=(train=-1801.359, test=-3136.250) total time=   0.0s\n",
      "[CV 1/3] END max_depth=7, min_samples_leaf=5, min_samples_split=6, n_estimators=40;, score=(train=-6740.682, test=-3223.264) total time=   0.1s\n",
      "[CV 2/3] END max_depth=7, min_samples_leaf=5, min_samples_split=6, n_estimators=40;, score=(train=-1754.510, test=-2332.500) total time=   0.1s\n",
      "[CV 3/3] END max_depth=7, min_samples_leaf=5, min_samples_split=6, n_estimators=40;, score=(train=-1800.955, test=-3124.688) total time=   0.0s\n",
      "[CV 1/3] END max_depth=7, min_samples_leaf=6, min_samples_split=2, n_estimators=10;, score=(train=-6736.955, test=-3061.572) total time=   0.0s\n",
      "[CV 2/3] END max_depth=7, min_samples_leaf=6, min_samples_split=2, n_estimators=10;, score=(train=-1761.420, test=-1910.000) total time=   0.0s\n",
      "[CV 3/3] END max_depth=7, min_samples_leaf=6, min_samples_split=2, n_estimators=10;, score=(train=-1866.867, test=-3562.500) total time=   0.0s\n",
      "[CV 1/3] END max_depth=7, min_samples_leaf=6, min_samples_split=2, n_estimators=20;, score=(train=-6764.018, test=-3569.993) total time=   0.0s\n",
      "[CV 2/3] END max_depth=7, min_samples_leaf=6, min_samples_split=2, n_estimators=20;, score=(train=-1745.541, test=-2106.250) total time=   0.0s\n",
      "[CV 3/3] END max_depth=7, min_samples_leaf=6, min_samples_split=2, n_estimators=20;, score=(train=-1821.254, test=-3344.625) total time=   0.0s\n",
      "[CV 1/3] END max_depth=7, min_samples_leaf=6, min_samples_split=2, n_estimators=30;, score=(train=-6746.697, test=-3347.810) total time=   0.0s\n",
      "[CV 2/3] END max_depth=7, min_samples_leaf=6, min_samples_split=2, n_estimators=30;, score=(train=-1755.762, test=-2344.167) total time=   0.0s\n",
      "[CV 3/3] END max_depth=7, min_samples_leaf=6, min_samples_split=2, n_estimators=30;, score=(train=-1801.359, test=-3136.250) total time=   0.0s\n",
      "[CV 1/3] END max_depth=7, min_samples_leaf=6, min_samples_split=2, n_estimators=40;, score=(train=-6740.682, test=-3223.264) total time=   0.1s\n",
      "[CV 2/3] END max_depth=7, min_samples_leaf=6, min_samples_split=2, n_estimators=40;, score=(train=-1754.510, test=-2332.500) total time=   0.0s\n",
      "[CV 3/3] END max_depth=7, min_samples_leaf=6, min_samples_split=2, n_estimators=40;, score=(train=-1800.955, test=-3124.688) total time=   0.1s\n",
      "[CV 1/3] END max_depth=7, min_samples_leaf=6, min_samples_split=4, n_estimators=10;, score=(train=-6736.955, test=-3061.572) total time=   0.0s\n",
      "[CV 2/3] END max_depth=7, min_samples_leaf=6, min_samples_split=4, n_estimators=10;, score=(train=-1761.420, test=-1910.000) total time=   0.0s\n",
      "[CV 3/3] END max_depth=7, min_samples_leaf=6, min_samples_split=4, n_estimators=10;, score=(train=-1866.867, test=-3562.500) total time=   0.0s\n",
      "[CV 1/3] END max_depth=7, min_samples_leaf=6, min_samples_split=4, n_estimators=20;, score=(train=-6764.018, test=-3569.993) total time=   0.0s\n",
      "[CV 2/3] END max_depth=7, min_samples_leaf=6, min_samples_split=4, n_estimators=20;, score=(train=-1745.541, test=-2106.250) total time=   0.0s\n",
      "[CV 3/3] END max_depth=7, min_samples_leaf=6, min_samples_split=4, n_estimators=20;, score=(train=-1821.254, test=-3344.625) total time=   0.0s\n",
      "[CV 1/3] END max_depth=7, min_samples_leaf=6, min_samples_split=4, n_estimators=30;, score=(train=-6746.697, test=-3347.810) total time=   0.0s\n",
      "[CV 2/3] END max_depth=7, min_samples_leaf=6, min_samples_split=4, n_estimators=30;, score=(train=-1755.762, test=-2344.167) total time=   0.0s\n",
      "[CV 3/3] END max_depth=7, min_samples_leaf=6, min_samples_split=4, n_estimators=30;, score=(train=-1801.359, test=-3136.250) total time=   0.0s\n",
      "[CV 1/3] END max_depth=7, min_samples_leaf=6, min_samples_split=4, n_estimators=40;, score=(train=-6740.682, test=-3223.264) total time=   0.1s\n",
      "[CV 2/3] END max_depth=7, min_samples_leaf=6, min_samples_split=4, n_estimators=40;, score=(train=-1754.510, test=-2332.500) total time=   0.0s\n",
      "[CV 3/3] END max_depth=7, min_samples_leaf=6, min_samples_split=4, n_estimators=40;, score=(train=-1800.955, test=-3124.688) total time=   0.0s\n",
      "[CV 1/3] END max_depth=7, min_samples_leaf=6, min_samples_split=6, n_estimators=10;, score=(train=-6736.955, test=-3061.572) total time=   0.0s\n",
      "[CV 2/3] END max_depth=7, min_samples_leaf=6, min_samples_split=6, n_estimators=10;, score=(train=-1761.420, test=-1910.000) total time=   0.0s\n",
      "[CV 3/3] END max_depth=7, min_samples_leaf=6, min_samples_split=6, n_estimators=10;, score=(train=-1866.867, test=-3562.500) total time=   0.0s\n",
      "[CV 1/3] END max_depth=7, min_samples_leaf=6, min_samples_split=6, n_estimators=20;, score=(train=-6764.018, test=-3569.993) total time=   0.0s\n",
      "[CV 2/3] END max_depth=7, min_samples_leaf=6, min_samples_split=6, n_estimators=20;, score=(train=-1745.541, test=-2106.250) total time=   0.0s\n",
      "[CV 3/3] END max_depth=7, min_samples_leaf=6, min_samples_split=6, n_estimators=20;, score=(train=-1821.254, test=-3344.625) total time=   0.0s\n",
      "[CV 1/3] END max_depth=7, min_samples_leaf=6, min_samples_split=6, n_estimators=30;, score=(train=-6746.697, test=-3347.810) total time=   0.0s\n",
      "[CV 2/3] END max_depth=7, min_samples_leaf=6, min_samples_split=6, n_estimators=30;, score=(train=-1755.762, test=-2344.167) total time=   0.0s\n",
      "[CV 3/3] END max_depth=7, min_samples_leaf=6, min_samples_split=6, n_estimators=30;, score=(train=-1801.359, test=-3136.250) total time=   0.0s\n",
      "[CV 1/3] END max_depth=7, min_samples_leaf=6, min_samples_split=6, n_estimators=40;, score=(train=-6740.682, test=-3223.264) total time=   0.1s\n",
      "[CV 2/3] END max_depth=7, min_samples_leaf=6, min_samples_split=6, n_estimators=40;, score=(train=-1754.510, test=-2332.500) total time=   0.0s\n",
      "[CV 3/3] END max_depth=7, min_samples_leaf=6, min_samples_split=6, n_estimators=40;, score=(train=-1800.955, test=-3124.688) total time=   0.1s\n",
      "[CV 1/3] END max_depth=7, min_samples_leaf=7, min_samples_split=2, n_estimators=10;, score=(train=-6736.955, test=-3061.572) total time=   0.0s\n",
      "[CV 2/3] END max_depth=7, min_samples_leaf=7, min_samples_split=2, n_estimators=10;, score=(train=-1761.420, test=-1910.000) total time=   0.0s\n",
      "[CV 3/3] END max_depth=7, min_samples_leaf=7, min_samples_split=2, n_estimators=10;, score=(train=-1866.867, test=-3562.500) total time=   0.0s\n",
      "[CV 1/3] END max_depth=7, min_samples_leaf=7, min_samples_split=2, n_estimators=20;, score=(train=-6764.018, test=-3569.993) total time=   0.0s\n",
      "[CV 2/3] END max_depth=7, min_samples_leaf=7, min_samples_split=2, n_estimators=20;, score=(train=-1745.541, test=-2106.250) total time=   0.0s\n",
      "[CV 3/3] END max_depth=7, min_samples_leaf=7, min_samples_split=2, n_estimators=20;, score=(train=-1821.254, test=-3344.625) total time=   0.0s\n",
      "[CV 1/3] END max_depth=7, min_samples_leaf=7, min_samples_split=2, n_estimators=30;, score=(train=-6746.697, test=-3347.810) total time=   0.0s\n",
      "[CV 2/3] END max_depth=7, min_samples_leaf=7, min_samples_split=2, n_estimators=30;, score=(train=-1755.762, test=-2344.167) total time=   0.0s\n",
      "[CV 3/3] END max_depth=7, min_samples_leaf=7, min_samples_split=2, n_estimators=30;, score=(train=-1801.359, test=-3136.250) total time=   0.1s\n",
      "[CV 1/3] END max_depth=7, min_samples_leaf=7, min_samples_split=2, n_estimators=40;, score=(train=-6740.682, test=-3223.264) total time=   0.1s\n",
      "[CV 2/3] END max_depth=7, min_samples_leaf=7, min_samples_split=2, n_estimators=40;, score=(train=-1754.510, test=-2332.500) total time=   0.0s\n",
      "[CV 3/3] END max_depth=7, min_samples_leaf=7, min_samples_split=2, n_estimators=40;, score=(train=-1800.955, test=-3124.688) total time=   0.1s\n",
      "[CV 1/3] END max_depth=7, min_samples_leaf=7, min_samples_split=4, n_estimators=10;, score=(train=-6736.955, test=-3061.572) total time=   0.0s\n",
      "[CV 2/3] END max_depth=7, min_samples_leaf=7, min_samples_split=4, n_estimators=10;, score=(train=-1761.420, test=-1910.000) total time=   0.0s\n",
      "[CV 3/3] END max_depth=7, min_samples_leaf=7, min_samples_split=4, n_estimators=10;, score=(train=-1866.867, test=-3562.500) total time=   0.0s\n",
      "[CV 1/3] END max_depth=7, min_samples_leaf=7, min_samples_split=4, n_estimators=20;, score=(train=-6764.018, test=-3569.993) total time=   0.0s\n",
      "[CV 2/3] END max_depth=7, min_samples_leaf=7, min_samples_split=4, n_estimators=20;, score=(train=-1745.541, test=-2106.250) total time=   0.0s\n",
      "[CV 3/3] END max_depth=7, min_samples_leaf=7, min_samples_split=4, n_estimators=20;, score=(train=-1821.254, test=-3344.625) total time=   0.0s\n",
      "[CV 1/3] END max_depth=7, min_samples_leaf=7, min_samples_split=4, n_estimators=30;, score=(train=-6746.697, test=-3347.810) total time=   0.0s\n",
      "[CV 2/3] END max_depth=7, min_samples_leaf=7, min_samples_split=4, n_estimators=30;, score=(train=-1755.762, test=-2344.167) total time=   0.0s\n",
      "[CV 3/3] END max_depth=7, min_samples_leaf=7, min_samples_split=4, n_estimators=30;, score=(train=-1801.359, test=-3136.250) total time=   0.0s\n",
      "[CV 1/3] END max_depth=7, min_samples_leaf=7, min_samples_split=4, n_estimators=40;, score=(train=-6740.682, test=-3223.264) total time=   0.0s\n",
      "[CV 2/3] END max_depth=7, min_samples_leaf=7, min_samples_split=4, n_estimators=40;, score=(train=-1754.510, test=-2332.500) total time=   0.1s\n",
      "[CV 3/3] END max_depth=7, min_samples_leaf=7, min_samples_split=4, n_estimators=40;, score=(train=-1800.955, test=-3124.688) total time=   0.1s\n",
      "[CV 1/3] END max_depth=7, min_samples_leaf=7, min_samples_split=6, n_estimators=10;, score=(train=-6736.955, test=-3061.572) total time=   0.0s\n",
      "[CV 2/3] END max_depth=7, min_samples_leaf=7, min_samples_split=6, n_estimators=10;, score=(train=-1761.420, test=-1910.000) total time=   0.0s\n",
      "[CV 3/3] END max_depth=7, min_samples_leaf=7, min_samples_split=6, n_estimators=10;, score=(train=-1866.867, test=-3562.500) total time=   0.0s\n",
      "[CV 1/3] END max_depth=7, min_samples_leaf=7, min_samples_split=6, n_estimators=20;, score=(train=-6764.018, test=-3569.993) total time=   0.0s\n",
      "[CV 2/3] END max_depth=7, min_samples_leaf=7, min_samples_split=6, n_estimators=20;, score=(train=-1745.541, test=-2106.250) total time=   0.0s\n",
      "[CV 3/3] END max_depth=7, min_samples_leaf=7, min_samples_split=6, n_estimators=20;, score=(train=-1821.254, test=-3344.625) total time=   0.0s\n",
      "[CV 1/3] END max_depth=7, min_samples_leaf=7, min_samples_split=6, n_estimators=30;, score=(train=-6746.697, test=-3347.810) total time=   0.0s\n",
      "[CV 2/3] END max_depth=7, min_samples_leaf=7, min_samples_split=6, n_estimators=30;, score=(train=-1755.762, test=-2344.167) total time=   0.0s\n",
      "[CV 3/3] END max_depth=7, min_samples_leaf=7, min_samples_split=6, n_estimators=30;, score=(train=-1801.359, test=-3136.250) total time=   0.1s\n",
      "[CV 1/3] END max_depth=7, min_samples_leaf=7, min_samples_split=6, n_estimators=40;, score=(train=-6740.682, test=-3223.264) total time=   0.1s\n",
      "[CV 2/3] END max_depth=7, min_samples_leaf=7, min_samples_split=6, n_estimators=40;, score=(train=-1754.510, test=-2332.500) total time=   0.1s\n",
      "[CV 3/3] END max_depth=7, min_samples_leaf=7, min_samples_split=6, n_estimators=40;, score=(train=-1800.955, test=-3124.688) total time=   0.1s\n",
      "----------\n",
      "iter: 1\n",
      "n_candidates: 112\n",
      "n_resources: 18\n",
      "Fitting 3 folds for each of 112 candidates, totalling 336 fits\n",
      "[CV 1/3] END max_depth=1, min_samples_leaf=5, min_samples_split=2, n_estimators=40;, score=(train=-4209.860, test=-4544.575) total time=   0.1s\n",
      "[CV 2/3] END max_depth=1, min_samples_leaf=5, min_samples_split=2, n_estimators=40;, score=(train=-4067.930, test=-2998.184) total time=   0.1s\n",
      "[CV 3/3] END max_depth=1, min_samples_leaf=5, min_samples_split=2, n_estimators=40;, score=(train=-2905.982, test=-1540.087) total time=   0.1s\n",
      "[CV 1/3] END max_depth=1, min_samples_leaf=4, min_samples_split=6, n_estimators=40;, score=(train=-3778.737, test=-4495.724) total time=   0.1s\n",
      "[CV 2/3] END max_depth=1, min_samples_leaf=4, min_samples_split=6, n_estimators=40;, score=(train=-3069.325, test=-3367.789) total time=   0.0s\n",
      "[CV 3/3] END max_depth=1, min_samples_leaf=4, min_samples_split=6, n_estimators=40;, score=(train=-2617.985, test=-1436.174) total time=   0.1s\n",
      "[CV 1/3] END max_depth=1, min_samples_leaf=4, min_samples_split=4, n_estimators=40;, score=(train=-3778.737, test=-4495.724) total time=   0.0s\n",
      "[CV 2/3] END max_depth=1, min_samples_leaf=4, min_samples_split=4, n_estimators=40;, score=(train=-3069.325, test=-3367.789) total time=   0.1s\n",
      "[CV 3/3] END max_depth=1, min_samples_leaf=4, min_samples_split=4, n_estimators=40;, score=(train=-2617.985, test=-1436.174) total time=   0.1s\n",
      "[CV 1/3] END max_depth=1, min_samples_leaf=4, min_samples_split=2, n_estimators=40;, score=(train=-3778.737, test=-4495.724) total time=   0.0s\n",
      "[CV 2/3] END max_depth=1, min_samples_leaf=4, min_samples_split=2, n_estimators=40;, score=(train=-3069.325, test=-3367.789) total time=   0.1s\n",
      "[CV 3/3] END max_depth=1, min_samples_leaf=4, min_samples_split=2, n_estimators=40;, score=(train=-2617.985, test=-1436.174) total time=   0.0s\n",
      "[CV 1/3] END max_depth=1, min_samples_leaf=3, min_samples_split=6, n_estimators=40;, score=(train=-2916.700, test=-4240.804) total time=   0.1s\n",
      "[CV 2/3] END max_depth=1, min_samples_leaf=3, min_samples_split=6, n_estimators=40;, score=(train=-2276.676, test=-4089.983) total time=   0.1s\n",
      "[CV 3/3] END max_depth=1, min_samples_leaf=3, min_samples_split=6, n_estimators=40;, score=(train=-2305.287, test=-1116.708) total time=   0.1s\n",
      "[CV 1/3] END max_depth=1, min_samples_leaf=3, min_samples_split=4, n_estimators=40;, score=(train=-2916.700, test=-4240.804) total time=   0.1s\n",
      "[CV 2/3] END max_depth=1, min_samples_leaf=3, min_samples_split=4, n_estimators=40;, score=(train=-2276.676, test=-4089.983) total time=   0.0s\n",
      "[CV 3/3] END max_depth=1, min_samples_leaf=3, min_samples_split=4, n_estimators=40;, score=(train=-2305.287, test=-1116.708) total time=   0.1s\n",
      "[CV 1/3] END max_depth=1, min_samples_leaf=3, min_samples_split=2, n_estimators=40;, score=(train=-2916.700, test=-4240.804) total time=   0.0s\n",
      "[CV 2/3] END max_depth=1, min_samples_leaf=3, min_samples_split=2, n_estimators=40;, score=(train=-2276.676, test=-4089.983) total time=   0.1s\n",
      "[CV 3/3] END max_depth=1, min_samples_leaf=3, min_samples_split=2, n_estimators=40;, score=(train=-2305.287, test=-1116.708) total time=   0.0s\n",
      "[CV 1/3] END max_depth=1, min_samples_leaf=2, min_samples_split=6, n_estimators=40;, score=(train=-2787.092, test=-4253.725) total time=   0.1s\n",
      "[CV 2/3] END max_depth=1, min_samples_leaf=2, min_samples_split=6, n_estimators=40;, score=(train=-2262.027, test=-4283.790) total time=   0.1s\n",
      "[CV 3/3] END max_depth=1, min_samples_leaf=2, min_samples_split=6, n_estimators=40;, score=(train=-2142.869, test=-1331.963) total time=   0.0s\n",
      "[CV 1/3] END max_depth=1, min_samples_leaf=1, min_samples_split=6, n_estimators=40;, score=(train=-2505.899, test=-4633.355) total time=   0.1s\n",
      "[CV 2/3] END max_depth=1, min_samples_leaf=1, min_samples_split=6, n_estimators=40;, score=(train=-2283.280, test=-4271.851) total time=   0.0s\n",
      "[CV 3/3] END max_depth=1, min_samples_leaf=1, min_samples_split=6, n_estimators=40;, score=(train=-1931.531, test=-1606.326) total time=   0.1s\n",
      "[CV 1/3] END max_depth=3, min_samples_leaf=5, min_samples_split=6, n_estimators=40;, score=(train=-4209.860, test=-4544.575) total time=   0.1s\n",
      "[CV 2/3] END max_depth=3, min_samples_leaf=5, min_samples_split=6, n_estimators=40;, score=(train=-4067.930, test=-2998.184) total time=   0.1s\n",
      "[CV 3/3] END max_depth=3, min_samples_leaf=5, min_samples_split=6, n_estimators=40;, score=(train=-2905.982, test=-1540.087) total time=   0.1s\n",
      "[CV 1/3] END max_depth=3, min_samples_leaf=6, min_samples_split=2, n_estimators=40;, score=(train=-4259.456, test=-4521.140) total time=   0.1s\n",
      "[CV 2/3] END max_depth=3, min_samples_leaf=6, min_samples_split=2, n_estimators=40;, score=(train=-4116.924, test=-3027.285) total time=   0.1s\n",
      "[CV 3/3] END max_depth=3, min_samples_leaf=6, min_samples_split=2, n_estimators=40;, score=(train=-2908.753, test=-1535.093) total time=   0.1s\n",
      "[CV 1/3] END max_depth=7, min_samples_leaf=7, min_samples_split=6, n_estimators=40;, score=(train=-4259.456, test=-4521.140) total time=   0.1s\n",
      "[CV 2/3] END max_depth=7, min_samples_leaf=7, min_samples_split=6, n_estimators=40;, score=(train=-4116.924, test=-3027.285) total time=   0.1s\n",
      "[CV 3/3] END max_depth=7, min_samples_leaf=7, min_samples_split=6, n_estimators=40;, score=(train=-2908.753, test=-1535.093) total time=   0.1s\n",
      "[CV 1/3] END max_depth=3, min_samples_leaf=6, min_samples_split=4, n_estimators=40;, score=(train=-4259.456, test=-4521.140) total time=   0.1s\n",
      "[CV 2/3] END max_depth=3, min_samples_leaf=6, min_samples_split=4, n_estimators=40;, score=(train=-4116.924, test=-3027.285) total time=   0.1s\n",
      "[CV 3/3] END max_depth=3, min_samples_leaf=6, min_samples_split=4, n_estimators=40;, score=(train=-2908.753, test=-1535.093) total time=   0.1s\n",
      "[CV 1/3] END max_depth=5, min_samples_leaf=1, min_samples_split=6, n_estimators=40;, score=(train=-2433.516, test=-4498.707) total time=   0.1s\n",
      "[CV 2/3] END max_depth=5, min_samples_leaf=1, min_samples_split=6, n_estimators=40;, score=(train=-2132.389, test=-4378.292) total time=   0.1s\n",
      "[CV 3/3] END max_depth=5, min_samples_leaf=1, min_samples_split=6, n_estimators=40;, score=(train=-1574.656, test=-1628.336) total time=   0.1s\n",
      "[CV 1/3] END max_depth=3, min_samples_leaf=6, min_samples_split=6, n_estimators=40;, score=(train=-4259.456, test=-4521.140) total time=   0.1s\n",
      "[CV 2/3] END max_depth=3, min_samples_leaf=6, min_samples_split=6, n_estimators=40;, score=(train=-4116.924, test=-3027.285) total time=   0.1s\n",
      "[CV 3/3] END max_depth=3, min_samples_leaf=6, min_samples_split=6, n_estimators=40;, score=(train=-2908.753, test=-1535.093) total time=   0.1s\n",
      "[CV 1/3] END max_depth=5, min_samples_leaf=2, min_samples_split=6, n_estimators=40;, score=(train=-2770.442, test=-4207.058) total time=   0.1s\n",
      "[CV 2/3] END max_depth=5, min_samples_leaf=2, min_samples_split=6, n_estimators=40;, score=(train=-2108.706, test=-4391.865) total time=   0.1s\n",
      "[CV 3/3] END max_depth=5, min_samples_leaf=2, min_samples_split=6, n_estimators=40;, score=(train=-2096.805, test=-1296.730) total time=   0.1s\n",
      "[CV 1/3] END max_depth=5, min_samples_leaf=3, min_samples_split=2, n_estimators=40;, score=(train=-2913.665, test=-4234.654) total time=   0.0s\n",
      "[CV 2/3] END max_depth=5, min_samples_leaf=3, min_samples_split=2, n_estimators=40;, score=(train=-2220.737, test=-4135.402) total time=   0.1s\n",
      "[CV 3/3] END max_depth=5, min_samples_leaf=3, min_samples_split=2, n_estimators=40;, score=(train=-2286.158, test=-1115.475) total time=   0.1s\n",
      "[CV 1/3] END max_depth=5, min_samples_leaf=3, min_samples_split=4, n_estimators=40;, score=(train=-2913.665, test=-4234.654) total time=   0.1s\n",
      "[CV 2/3] END max_depth=5, min_samples_leaf=3, min_samples_split=4, n_estimators=40;, score=(train=-2220.737, test=-4135.402) total time=   0.1s\n",
      "[CV 3/3] END max_depth=5, min_samples_leaf=3, min_samples_split=4, n_estimators=40;, score=(train=-2286.158, test=-1115.475) total time=   0.1s\n",
      "[CV 1/3] END max_depth=3, min_samples_leaf=7, min_samples_split=4, n_estimators=40;, score=(train=-4259.456, test=-4521.140) total time=   0.1s\n",
      "[CV 2/3] END max_depth=3, min_samples_leaf=7, min_samples_split=4, n_estimators=40;, score=(train=-4116.924, test=-3027.285) total time=   0.0s\n",
      "[CV 3/3] END max_depth=3, min_samples_leaf=7, min_samples_split=4, n_estimators=40;, score=(train=-2908.753, test=-1535.093) total time=   0.1s\n",
      "[CV 1/3] END max_depth=3, min_samples_leaf=7, min_samples_split=2, n_estimators=40;, score=(train=-4259.456, test=-4521.140) total time=   0.1s\n",
      "[CV 2/3] END max_depth=3, min_samples_leaf=7, min_samples_split=2, n_estimators=40;, score=(train=-4116.924, test=-3027.285) total time=   0.1s\n",
      "[CV 3/3] END max_depth=3, min_samples_leaf=7, min_samples_split=2, n_estimators=40;, score=(train=-2908.753, test=-1535.093) total time=   0.1s\n",
      "[CV 1/3] END max_depth=5, min_samples_leaf=2, min_samples_split=2, n_estimators=30;, score=(train=-2489.940, test=-4030.672) total time=   0.0s\n",
      "[CV 2/3] END max_depth=5, min_samples_leaf=2, min_samples_split=2, n_estimators=30;, score=(train=-1697.442, test=-4526.303) total time=   0.0s\n",
      "[CV 3/3] END max_depth=5, min_samples_leaf=2, min_samples_split=2, n_estimators=30;, score=(train=-1850.492, test=-1491.903) total time=   0.0s\n",
      "[CV 1/3] END max_depth=5, min_samples_leaf=2, min_samples_split=4, n_estimators=30;, score=(train=-2489.940, test=-4030.672) total time=   0.0s\n",
      "[CV 2/3] END max_depth=5, min_samples_leaf=2, min_samples_split=4, n_estimators=30;, score=(train=-1697.442, test=-4526.303) total time=   0.0s\n",
      "[CV 3/3] END max_depth=5, min_samples_leaf=2, min_samples_split=4, n_estimators=30;, score=(train=-1850.492, test=-1491.903) total time=   0.0s\n",
      "[CV 1/3] END max_depth=3, min_samples_leaf=2, min_samples_split=2, n_estimators=30;, score=(train=-2491.532, test=-4034.579) total time=   0.0s\n",
      "[CV 2/3] END max_depth=3, min_samples_leaf=2, min_samples_split=2, n_estimators=30;, score=(train=-1697.442, test=-4526.303) total time=   0.0s\n",
      "[CV 3/3] END max_depth=3, min_samples_leaf=2, min_samples_split=2, n_estimators=30;, score=(train=-1850.492, test=-1491.903) total time=   0.0s\n",
      "[CV 1/3] END max_depth=3, min_samples_leaf=2, min_samples_split=4, n_estimators=30;, score=(train=-2491.532, test=-4034.579) total time=   0.0s\n",
      "[CV 2/3] END max_depth=3, min_samples_leaf=2, min_samples_split=4, n_estimators=30;, score=(train=-1697.442, test=-4526.303) total time=   0.0s\n",
      "[CV 3/3] END max_depth=3, min_samples_leaf=2, min_samples_split=4, n_estimators=30;, score=(train=-1850.492, test=-1491.903) total time=   0.0s\n",
      "[CV 1/3] END max_depth=7, min_samples_leaf=2, min_samples_split=2, n_estimators=30;, score=(train=-2489.940, test=-4030.672) total time=   0.0s\n",
      "[CV 2/3] END max_depth=7, min_samples_leaf=2, min_samples_split=2, n_estimators=30;, score=(train=-1697.442, test=-4526.303) total time=   0.0s\n",
      "[CV 3/3] END max_depth=7, min_samples_leaf=2, min_samples_split=2, n_estimators=30;, score=(train=-1850.492, test=-1491.903) total time=   0.0s\n",
      "[CV 1/3] END max_depth=7, min_samples_leaf=2, min_samples_split=4, n_estimators=30;, score=(train=-2489.940, test=-4030.672) total time=   0.0s\n",
      "[CV 2/3] END max_depth=7, min_samples_leaf=2, min_samples_split=4, n_estimators=30;, score=(train=-1697.442, test=-4526.303) total time=   0.0s\n",
      "[CV 3/3] END max_depth=7, min_samples_leaf=2, min_samples_split=4, n_estimators=30;, score=(train=-1850.492, test=-1491.903) total time=   0.0s\n",
      "[CV 1/3] END max_depth=1, min_samples_leaf=2, min_samples_split=2, n_estimators=30;, score=(train=-2682.670, test=-4225.270) total time=   0.0s\n",
      "[CV 2/3] END max_depth=1, min_samples_leaf=2, min_samples_split=2, n_estimators=30;, score=(train=-2190.497, test=-4306.065) total time=   0.0s\n",
      "[CV 3/3] END max_depth=1, min_samples_leaf=2, min_samples_split=2, n_estimators=30;, score=(train=-2142.212, test=-1315.222) total time=   0.0s\n",
      "[CV 1/3] END max_depth=1, min_samples_leaf=2, min_samples_split=4, n_estimators=30;, score=(train=-2682.670, test=-4225.270) total time=   0.0s\n",
      "[CV 2/3] END max_depth=1, min_samples_leaf=2, min_samples_split=4, n_estimators=30;, score=(train=-2190.497, test=-4306.065) total time=   0.0s\n",
      "[CV 3/3] END max_depth=1, min_samples_leaf=2, min_samples_split=4, n_estimators=30;, score=(train=-2142.212, test=-1315.222) total time=   0.0s\n",
      "[CV 1/3] END max_depth=5, min_samples_leaf=4, min_samples_split=4, n_estimators=10;, score=(train=-3764.825, test=-4360.685) total time=   0.0s\n",
      "[CV 2/3] END max_depth=5, min_samples_leaf=4, min_samples_split=4, n_estimators=10;, score=(train=-3232.034, test=-3218.326) total time=   0.0s\n",
      "[CV 3/3] END max_depth=5, min_samples_leaf=4, min_samples_split=4, n_estimators=10;, score=(train=-2597.133, test=-1893.601) total time=   0.0s\n",
      "[CV 1/3] END max_depth=7, min_samples_leaf=7, min_samples_split=4, n_estimators=10;, score=(train=-4271.191, test=-4533.220) total time=   0.0s\n",
      "[CV 2/3] END max_depth=7, min_samples_leaf=7, min_samples_split=4, n_estimators=10;, score=(train=-4145.403, test=-2944.432) total time=   0.0s\n",
      "[CV 3/3] END max_depth=7, min_samples_leaf=7, min_samples_split=4, n_estimators=10;, score=(train=-2914.870, test=-1588.249) total time=   0.0s\n",
      "[CV 1/3] END max_depth=1, min_samples_leaf=5, min_samples_split=4, n_estimators=10;, score=(train=-4271.191, test=-4533.220) total time=   0.0s\n",
      "[CV 2/3] END max_depth=1, min_samples_leaf=5, min_samples_split=4, n_estimators=10;, score=(train=-4145.403, test=-2944.432) total time=   0.0s\n",
      "[CV 3/3] END max_depth=1, min_samples_leaf=5, min_samples_split=4, n_estimators=10;, score=(train=-2914.870, test=-1588.249) total time=   0.0s\n",
      "[CV 1/3] END max_depth=7, min_samples_leaf=5, min_samples_split=2, n_estimators=10;, score=(train=-4271.191, test=-4533.220) total time=   0.0s\n",
      "[CV 2/3] END max_depth=7, min_samples_leaf=5, min_samples_split=2, n_estimators=10;, score=(train=-4145.403, test=-2944.432) total time=   0.0s\n",
      "[CV 3/3] END max_depth=7, min_samples_leaf=5, min_samples_split=2, n_estimators=10;, score=(train=-2914.870, test=-1588.249) total time=   0.0s\n",
      "[CV 1/3] END max_depth=1, min_samples_leaf=5, min_samples_split=6, n_estimators=10;, score=(train=-4271.191, test=-4533.220) total time=   0.0s\n",
      "[CV 2/3] END max_depth=1, min_samples_leaf=5, min_samples_split=6, n_estimators=10;, score=(train=-4145.403, test=-2944.432) total time=   0.0s\n",
      "[CV 3/3] END max_depth=1, min_samples_leaf=5, min_samples_split=6, n_estimators=10;, score=(train=-2914.870, test=-1588.249) total time=   0.0s\n",
      "[CV 1/3] END max_depth=5, min_samples_leaf=5, min_samples_split=2, n_estimators=10;, score=(train=-4271.191, test=-4533.220) total time=   0.0s\n",
      "[CV 2/3] END max_depth=5, min_samples_leaf=5, min_samples_split=2, n_estimators=10;, score=(train=-4145.403, test=-2944.432) total time=   0.0s\n",
      "[CV 3/3] END max_depth=5, min_samples_leaf=5, min_samples_split=2, n_estimators=10;, score=(train=-2914.870, test=-1588.249) total time=   0.0s\n",
      "[CV 1/3] END max_depth=7, min_samples_leaf=4, min_samples_split=6, n_estimators=10;, score=(train=-3764.825, test=-4360.685) total time=   0.0s\n",
      "[CV 2/3] END max_depth=7, min_samples_leaf=4, min_samples_split=6, n_estimators=10;, score=(train=-3232.034, test=-3218.326) total time=   0.0s\n",
      "[CV 3/3] END max_depth=7, min_samples_leaf=4, min_samples_split=6, n_estimators=10;, score=(train=-2597.133, test=-1893.601) total time=   0.0s\n",
      "[CV 1/3] END max_depth=1, min_samples_leaf=6, min_samples_split=2, n_estimators=10;, score=(train=-4271.191, test=-4533.220) total time=   0.0s\n",
      "[CV 2/3] END max_depth=1, min_samples_leaf=6, min_samples_split=2, n_estimators=10;, score=(train=-4145.403, test=-2944.432) total time=   0.0s\n",
      "[CV 3/3] END max_depth=1, min_samples_leaf=6, min_samples_split=2, n_estimators=10;, score=(train=-2914.870, test=-1588.249) total time=   0.0s\n",
      "[CV 1/3] END max_depth=7, min_samples_leaf=7, min_samples_split=6, n_estimators=10;, score=(train=-4271.191, test=-4533.220) total time=   0.0s\n",
      "[CV 2/3] END max_depth=7, min_samples_leaf=7, min_samples_split=6, n_estimators=10;, score=(train=-4145.403, test=-2944.432) total time=   0.0s\n",
      "[CV 3/3] END max_depth=7, min_samples_leaf=7, min_samples_split=6, n_estimators=10;, score=(train=-2914.870, test=-1588.249) total time=   0.0s\n",
      "[CV 1/3] END max_depth=1, min_samples_leaf=6, min_samples_split=4, n_estimators=10;, score=(train=-4271.191, test=-4533.220) total time=   0.0s\n",
      "[CV 2/3] END max_depth=1, min_samples_leaf=6, min_samples_split=4, n_estimators=10;, score=(train=-4145.403, test=-2944.432) total time=   0.0s\n",
      "[CV 3/3] END max_depth=1, min_samples_leaf=6, min_samples_split=4, n_estimators=10;, score=(train=-2914.870, test=-1588.249) total time=   0.0s\n",
      "[CV 1/3] END max_depth=7, min_samples_leaf=4, min_samples_split=4, n_estimators=10;, score=(train=-3764.825, test=-4360.685) total time=   0.0s\n",
      "[CV 2/3] END max_depth=7, min_samples_leaf=4, min_samples_split=4, n_estimators=10;, score=(train=-3232.034, test=-3218.326) total time=   0.0s\n",
      "[CV 3/3] END max_depth=7, min_samples_leaf=4, min_samples_split=4, n_estimators=10;, score=(train=-2597.133, test=-1893.601) total time=   0.0s\n",
      "[CV 1/3] END max_depth=1, min_samples_leaf=6, min_samples_split=6, n_estimators=10;, score=(train=-4271.191, test=-4533.220) total time=   0.0s\n",
      "[CV 2/3] END max_depth=1, min_samples_leaf=6, min_samples_split=6, n_estimators=10;, score=(train=-4145.403, test=-2944.432) total time=   0.0s\n",
      "[CV 3/3] END max_depth=1, min_samples_leaf=6, min_samples_split=6, n_estimators=10;, score=(train=-2914.870, test=-1588.249) total time=   0.0s\n",
      "[CV 1/3] END max_depth=7, min_samples_leaf=4, min_samples_split=2, n_estimators=10;, score=(train=-3764.825, test=-4360.685) total time=   0.0s\n",
      "[CV 2/3] END max_depth=7, min_samples_leaf=4, min_samples_split=2, n_estimators=10;, score=(train=-3232.034, test=-3218.326) total time=   0.0s\n",
      "[CV 3/3] END max_depth=7, min_samples_leaf=4, min_samples_split=2, n_estimators=10;, score=(train=-2597.133, test=-1893.601) total time=   0.0s\n",
      "[CV 1/3] END max_depth=1, min_samples_leaf=1, min_samples_split=6, n_estimators=10;, score=(train=-2451.140, test=-4452.429) total time=   0.0s\n",
      "[CV 2/3] END max_depth=1, min_samples_leaf=1, min_samples_split=6, n_estimators=10;, score=(train=-2195.995, test=-3895.901) total time=   0.0s\n",
      "[CV 3/3] END max_depth=1, min_samples_leaf=1, min_samples_split=6, n_estimators=10;, score=(train=-1997.209, test=-1516.706) total time=   0.0s\n",
      "[CV 1/3] END max_depth=5, min_samples_leaf=3, min_samples_split=6, n_estimators=10;, score=(train=-2999.246, test=-4154.545) total time=   0.0s\n",
      "[CV 2/3] END max_depth=5, min_samples_leaf=3, min_samples_split=6, n_estimators=10;, score=(train=-2173.293, test=-3524.429) total time=   0.0s\n",
      "[CV 3/3] END max_depth=5, min_samples_leaf=3, min_samples_split=6, n_estimators=10;, score=(train=-2330.638, test=-1023.091) total time=   0.0s\n",
      "[CV 1/3] END max_depth=5, min_samples_leaf=2, min_samples_split=6, n_estimators=10;, score=(train=-2792.408, test=-4146.557) total time=   0.0s\n",
      "[CV 2/3] END max_depth=5, min_samples_leaf=2, min_samples_split=6, n_estimators=10;, score=(train=-2055.498, test=-4019.137) total time=   0.0s\n",
      "[CV 3/3] END max_depth=5, min_samples_leaf=2, min_samples_split=6, n_estimators=10;, score=(train=-2168.435, test=-1546.980) total time=   0.0s\n",
      "[CV 1/3] END max_depth=1, min_samples_leaf=5, min_samples_split=2, n_estimators=10;, score=(train=-4271.191, test=-4533.220) total time=   0.0s\n",
      "[CV 2/3] END max_depth=1, min_samples_leaf=5, min_samples_split=2, n_estimators=10;, score=(train=-4145.403, test=-2944.432) total time=   0.0s\n",
      "[CV 3/3] END max_depth=1, min_samples_leaf=5, min_samples_split=2, n_estimators=10;, score=(train=-2914.870, test=-1588.249) total time=   0.0s\n",
      "[CV 1/3] END max_depth=7, min_samples_leaf=5, min_samples_split=4, n_estimators=10;, score=(train=-4271.191, test=-4533.220) total time=   0.0s\n",
      "[CV 2/3] END max_depth=7, min_samples_leaf=5, min_samples_split=4, n_estimators=10;, score=(train=-4145.403, test=-2944.432) total time=   0.0s\n",
      "[CV 3/3] END max_depth=7, min_samples_leaf=5, min_samples_split=4, n_estimators=10;, score=(train=-2914.870, test=-1588.249) total time=   0.0s\n",
      "[CV 1/3] END max_depth=1, min_samples_leaf=3, min_samples_split=4, n_estimators=10;, score=(train=-2993.922, test=-4156.872) total time=   0.0s\n",
      "[CV 2/3] END max_depth=1, min_samples_leaf=3, min_samples_split=4, n_estimators=10;, score=(train=-2290.036, test=-3414.029) total time=   0.0s\n",
      "[CV 3/3] END max_depth=1, min_samples_leaf=3, min_samples_split=4, n_estimators=10;, score=(train=-2365.769, test=-1035.280) total time=   0.0s\n",
      "[CV 1/3] END max_depth=7, min_samples_leaf=6, min_samples_split=4, n_estimators=10;, score=(train=-4271.191, test=-4533.220) total time=   0.0s\n",
      "[CV 2/3] END max_depth=7, min_samples_leaf=6, min_samples_split=4, n_estimators=10;, score=(train=-4145.403, test=-2944.432) total time=   0.0s\n",
      "[CV 3/3] END max_depth=7, min_samples_leaf=6, min_samples_split=4, n_estimators=10;, score=(train=-2914.870, test=-1588.249) total time=   0.0s\n",
      "[CV 1/3] END max_depth=5, min_samples_leaf=3, min_samples_split=4, n_estimators=10;, score=(train=-2999.246, test=-4154.545) total time=   0.0s\n",
      "[CV 2/3] END max_depth=5, min_samples_leaf=3, min_samples_split=4, n_estimators=10;, score=(train=-2173.293, test=-3524.429) total time=   0.0s\n",
      "[CV 3/3] END max_depth=5, min_samples_leaf=3, min_samples_split=4, n_estimators=10;, score=(train=-2330.638, test=-1023.091) total time=   0.0s\n",
      "[CV 1/3] END max_depth=1, min_samples_leaf=3, min_samples_split=6, n_estimators=10;, score=(train=-2993.922, test=-4156.872) total time=   0.0s\n",
      "[CV 2/3] END max_depth=1, min_samples_leaf=3, min_samples_split=6, n_estimators=10;, score=(train=-2290.036, test=-3414.029) total time=   0.0s\n",
      "[CV 3/3] END max_depth=1, min_samples_leaf=3, min_samples_split=6, n_estimators=10;, score=(train=-2365.769, test=-1035.280) total time=   0.0s\n",
      "[CV 1/3] END max_depth=7, min_samples_leaf=6, min_samples_split=6, n_estimators=10;, score=(train=-4271.191, test=-4533.220) total time=   0.0s\n",
      "[CV 2/3] END max_depth=7, min_samples_leaf=6, min_samples_split=6, n_estimators=10;, score=(train=-4145.403, test=-2944.432) total time=   0.0s\n",
      "[CV 3/3] END max_depth=7, min_samples_leaf=6, min_samples_split=6, n_estimators=10;, score=(train=-2914.870, test=-1588.249) total time=   0.0s\n",
      "[CV 1/3] END max_depth=1, min_samples_leaf=2, min_samples_split=6, n_estimators=10;, score=(train=-2806.063, test=-4190.751) total time=   0.0s\n",
      "[CV 2/3] END max_depth=1, min_samples_leaf=2, min_samples_split=6, n_estimators=10;, score=(train=-2195.995, test=-3895.901) total time=   0.0s\n",
      "[CV 3/3] END max_depth=1, min_samples_leaf=2, min_samples_split=6, n_estimators=10;, score=(train=-2254.074, test=-1483.272) total time=   0.0s\n",
      "[CV 1/3] END max_depth=1, min_samples_leaf=3, min_samples_split=2, n_estimators=10;, score=(train=-2993.922, test=-4156.872) total time=   0.0s\n",
      "[CV 2/3] END max_depth=1, min_samples_leaf=3, min_samples_split=2, n_estimators=10;, score=(train=-2290.036, test=-3414.029) total time=   0.0s\n",
      "[CV 3/3] END max_depth=1, min_samples_leaf=3, min_samples_split=2, n_estimators=10;, score=(train=-2365.769, test=-1035.280) total time=   0.0s\n",
      "[CV 1/3] END max_depth=7, min_samples_leaf=6, min_samples_split=2, n_estimators=10;, score=(train=-4271.191, test=-4533.220) total time=   0.0s\n",
      "[CV 2/3] END max_depth=7, min_samples_leaf=6, min_samples_split=2, n_estimators=10;, score=(train=-4145.403, test=-2944.432) total time=   0.0s\n",
      "[CV 3/3] END max_depth=7, min_samples_leaf=6, min_samples_split=2, n_estimators=10;, score=(train=-2914.870, test=-1588.249) total time=   0.0s\n",
      "[CV 1/3] END max_depth=5, min_samples_leaf=3, min_samples_split=2, n_estimators=10;, score=(train=-2999.246, test=-4154.545) total time=   0.0s\n",
      "[CV 2/3] END max_depth=5, min_samples_leaf=3, min_samples_split=2, n_estimators=10;, score=(train=-2173.293, test=-3524.429) total time=   0.0s\n",
      "[CV 3/3] END max_depth=5, min_samples_leaf=3, min_samples_split=2, n_estimators=10;, score=(train=-2330.638, test=-1023.091) total time=   0.0s\n",
      "[CV 1/3] END max_depth=1, min_samples_leaf=7, min_samples_split=2, n_estimators=10;, score=(train=-4271.191, test=-4533.220) total time=   0.0s\n",
      "[CV 2/3] END max_depth=1, min_samples_leaf=7, min_samples_split=2, n_estimators=10;, score=(train=-4145.403, test=-2944.432) total time=   0.0s\n",
      "[CV 3/3] END max_depth=1, min_samples_leaf=7, min_samples_split=2, n_estimators=10;, score=(train=-2914.870, test=-1588.249) total time=   0.0s\n",
      "[CV 1/3] END max_depth=7, min_samples_leaf=5, min_samples_split=6, n_estimators=10;, score=(train=-4271.191, test=-4533.220) total time=   0.0s\n",
      "[CV 2/3] END max_depth=7, min_samples_leaf=5, min_samples_split=6, n_estimators=10;, score=(train=-4145.403, test=-2944.432) total time=   0.0s\n",
      "[CV 3/3] END max_depth=7, min_samples_leaf=5, min_samples_split=6, n_estimators=10;, score=(train=-2914.870, test=-1588.249) total time=   0.0s\n",
      "[CV 1/3] END max_depth=5, min_samples_leaf=4, min_samples_split=6, n_estimators=10;, score=(train=-3764.825, test=-4360.685) total time=   0.0s\n",
      "[CV 2/3] END max_depth=5, min_samples_leaf=4, min_samples_split=6, n_estimators=10;, score=(train=-3232.034, test=-3218.326) total time=   0.0s\n",
      "[CV 3/3] END max_depth=5, min_samples_leaf=4, min_samples_split=6, n_estimators=10;, score=(train=-2597.133, test=-1893.601) total time=   0.0s\n",
      "[CV 1/3] END max_depth=1, min_samples_leaf=4, min_samples_split=6, n_estimators=10;, score=(train=-3764.825, test=-4360.685) total time=   0.0s\n",
      "[CV 2/3] END max_depth=1, min_samples_leaf=4, min_samples_split=6, n_estimators=10;, score=(train=-3232.034, test=-3218.326) total time=   0.0s\n",
      "[CV 3/3] END max_depth=1, min_samples_leaf=4, min_samples_split=6, n_estimators=10;, score=(train=-2597.133, test=-1893.601) total time=   0.0s\n",
      "[CV 1/3] END max_depth=7, min_samples_leaf=7, min_samples_split=2, n_estimators=10;, score=(train=-4271.191, test=-4533.220) total time=   0.0s\n",
      "[CV 2/3] END max_depth=7, min_samples_leaf=7, min_samples_split=2, n_estimators=10;, score=(train=-4145.403, test=-2944.432) total time=   0.0s\n",
      "[CV 3/3] END max_depth=7, min_samples_leaf=7, min_samples_split=2, n_estimators=10;, score=(train=-2914.870, test=-1588.249) total time=   0.0s\n",
      "[CV 1/3] END max_depth=1, min_samples_leaf=4, min_samples_split=2, n_estimators=10;, score=(train=-3764.825, test=-4360.685) total time=   0.0s\n",
      "[CV 2/3] END max_depth=1, min_samples_leaf=4, min_samples_split=2, n_estimators=10;, score=(train=-3232.034, test=-3218.326) total time=   0.0s\n",
      "[CV 3/3] END max_depth=1, min_samples_leaf=4, min_samples_split=2, n_estimators=10;, score=(train=-2597.133, test=-1893.601) total time=   0.0s\n",
      "[CV 1/3] END max_depth=1, min_samples_leaf=4, min_samples_split=4, n_estimators=10;, score=(train=-3764.825, test=-4360.685) total time=   0.0s\n",
      "[CV 2/3] END max_depth=1, min_samples_leaf=4, min_samples_split=4, n_estimators=10;, score=(train=-3232.034, test=-3218.326) total time=   0.0s\n",
      "[CV 3/3] END max_depth=1, min_samples_leaf=4, min_samples_split=4, n_estimators=10;, score=(train=-2597.133, test=-1893.601) total time=   0.0s\n",
      "[CV 1/3] END max_depth=5, min_samples_leaf=6, min_samples_split=6, n_estimators=10;, score=(train=-4271.191, test=-4533.220) total time=   0.0s\n",
      "[CV 2/3] END max_depth=5, min_samples_leaf=6, min_samples_split=6, n_estimators=10;, score=(train=-4145.403, test=-2944.432) total time=   0.0s\n",
      "[CV 3/3] END max_depth=5, min_samples_leaf=6, min_samples_split=6, n_estimators=10;, score=(train=-2914.870, test=-1588.249) total time=   0.0s\n",
      "[CV 1/3] END max_depth=7, min_samples_leaf=3, min_samples_split=6, n_estimators=10;, score=(train=-2999.246, test=-4154.545) total time=   0.0s\n",
      "[CV 2/3] END max_depth=7, min_samples_leaf=3, min_samples_split=6, n_estimators=10;, score=(train=-2173.293, test=-3524.429) total time=   0.0s\n",
      "[CV 3/3] END max_depth=7, min_samples_leaf=3, min_samples_split=6, n_estimators=10;, score=(train=-2330.638, test=-1023.091) total time=   0.0s\n",
      "[CV 1/3] END max_depth=5, min_samples_leaf=5, min_samples_split=4, n_estimators=10;, score=(train=-4271.191, test=-4533.220) total time=   0.0s\n",
      "[CV 2/3] END max_depth=5, min_samples_leaf=5, min_samples_split=4, n_estimators=10;, score=(train=-4145.403, test=-2944.432) total time=   0.0s\n",
      "[CV 3/3] END max_depth=5, min_samples_leaf=5, min_samples_split=4, n_estimators=10;, score=(train=-2914.870, test=-1588.249) total time=   0.0s\n",
      "[CV 1/3] END max_depth=3, min_samples_leaf=7, min_samples_split=6, n_estimators=10;, score=(train=-4271.191, test=-4533.220) total time=   0.0s\n",
      "[CV 2/3] END max_depth=3, min_samples_leaf=7, min_samples_split=6, n_estimators=10;, score=(train=-4145.403, test=-2944.432) total time=   0.0s\n",
      "[CV 3/3] END max_depth=3, min_samples_leaf=7, min_samples_split=6, n_estimators=10;, score=(train=-2914.870, test=-1588.249) total time=   0.0s\n",
      "[CV 1/3] END max_depth=3, min_samples_leaf=3, min_samples_split=6, n_estimators=10;, score=(train=-2999.246, test=-4154.545) total time=   0.0s\n",
      "[CV 2/3] END max_depth=3, min_samples_leaf=3, min_samples_split=6, n_estimators=10;, score=(train=-2173.293, test=-3524.429) total time=   0.0s\n",
      "[CV 3/3] END max_depth=3, min_samples_leaf=3, min_samples_split=6, n_estimators=10;, score=(train=-2330.638, test=-1023.091) total time=   0.0s\n",
      "[CV 1/3] END max_depth=3, min_samples_leaf=4, min_samples_split=2, n_estimators=10;, score=(train=-3764.825, test=-4360.685) total time=   0.0s\n",
      "[CV 2/3] END max_depth=3, min_samples_leaf=4, min_samples_split=2, n_estimators=10;, score=(train=-3232.034, test=-3218.326) total time=   0.0s\n",
      "[CV 3/3] END max_depth=3, min_samples_leaf=4, min_samples_split=2, n_estimators=10;, score=(train=-2597.133, test=-1893.601) total time=   0.0s\n",
      "[CV 1/3] END max_depth=5, min_samples_leaf=6, min_samples_split=2, n_estimators=10;, score=(train=-4271.191, test=-4533.220) total time=   0.0s\n",
      "[CV 2/3] END max_depth=5, min_samples_leaf=6, min_samples_split=2, n_estimators=10;, score=(train=-4145.403, test=-2944.432) total time=   0.0s\n",
      "[CV 3/3] END max_depth=5, min_samples_leaf=6, min_samples_split=2, n_estimators=10;, score=(train=-2914.870, test=-1588.249) total time=   0.0s\n",
      "[CV 1/3] END max_depth=3, min_samples_leaf=4, min_samples_split=4, n_estimators=10;, score=(train=-3764.825, test=-4360.685) total time=   0.0s\n",
      "[CV 2/3] END max_depth=3, min_samples_leaf=4, min_samples_split=4, n_estimators=10;, score=(train=-3232.034, test=-3218.326) total time=   0.0s\n",
      "[CV 3/3] END max_depth=3, min_samples_leaf=4, min_samples_split=4, n_estimators=10;, score=(train=-2597.133, test=-1893.601) total time=   0.0s\n",
      "[CV 1/3] END max_depth=3, min_samples_leaf=7, min_samples_split=4, n_estimators=10;, score=(train=-4271.191, test=-4533.220) total time=   0.0s\n",
      "[CV 2/3] END max_depth=3, min_samples_leaf=7, min_samples_split=4, n_estimators=10;, score=(train=-4145.403, test=-2944.432) total time=   0.0s\n",
      "[CV 3/3] END max_depth=3, min_samples_leaf=7, min_samples_split=4, n_estimators=10;, score=(train=-2914.870, test=-1588.249) total time=   0.0s\n",
      "[CV 1/3] END max_depth=3, min_samples_leaf=4, min_samples_split=6, n_estimators=10;, score=(train=-3764.825, test=-4360.685) total time=   0.0s\n",
      "[CV 2/3] END max_depth=3, min_samples_leaf=4, min_samples_split=6, n_estimators=10;, score=(train=-3232.034, test=-3218.326) total time=   0.0s\n",
      "[CV 3/3] END max_depth=3, min_samples_leaf=4, min_samples_split=6, n_estimators=10;, score=(train=-2597.133, test=-1893.601) total time=   0.0s\n",
      "[CV 1/3] END max_depth=5, min_samples_leaf=7, min_samples_split=6, n_estimators=10;, score=(train=-4271.191, test=-4533.220) total time=   0.0s\n",
      "[CV 2/3] END max_depth=5, min_samples_leaf=7, min_samples_split=6, n_estimators=10;, score=(train=-4145.403, test=-2944.432) total time=   0.0s\n",
      "[CV 3/3] END max_depth=5, min_samples_leaf=7, min_samples_split=6, n_estimators=10;, score=(train=-2914.870, test=-1588.249) total time=   0.0s\n",
      "[CV 1/3] END max_depth=3, min_samples_leaf=5, min_samples_split=2, n_estimators=10;, score=(train=-4271.191, test=-4533.220) total time=   0.0s\n",
      "[CV 2/3] END max_depth=3, min_samples_leaf=5, min_samples_split=2, n_estimators=10;, score=(train=-4145.403, test=-2944.432) total time=   0.0s\n",
      "[CV 3/3] END max_depth=3, min_samples_leaf=5, min_samples_split=2, n_estimators=10;, score=(train=-2914.870, test=-1588.249) total time=   0.0s\n",
      "[CV 1/3] END max_depth=3, min_samples_leaf=7, min_samples_split=2, n_estimators=10;, score=(train=-4271.191, test=-4533.220) total time=   0.0s\n",
      "[CV 2/3] END max_depth=3, min_samples_leaf=7, min_samples_split=2, n_estimators=10;, score=(train=-4145.403, test=-2944.432) total time=   0.0s\n",
      "[CV 3/3] END max_depth=3, min_samples_leaf=7, min_samples_split=2, n_estimators=10;, score=(train=-2914.870, test=-1588.249) total time=   0.0s\n",
      "[CV 1/3] END max_depth=3, min_samples_leaf=5, min_samples_split=4, n_estimators=10;, score=(train=-4271.191, test=-4533.220) total time=   0.0s\n",
      "[CV 2/3] END max_depth=3, min_samples_leaf=5, min_samples_split=4, n_estimators=10;, score=(train=-4145.403, test=-2944.432) total time=   0.0s\n",
      "[CV 3/3] END max_depth=3, min_samples_leaf=5, min_samples_split=4, n_estimators=10;, score=(train=-2914.870, test=-1588.249) total time=   0.0s\n",
      "[CV 1/3] END max_depth=5, min_samples_leaf=7, min_samples_split=4, n_estimators=10;, score=(train=-4271.191, test=-4533.220) total time=   0.0s\n",
      "[CV 2/3] END max_depth=5, min_samples_leaf=7, min_samples_split=4, n_estimators=10;, score=(train=-4145.403, test=-2944.432) total time=   0.0s\n",
      "[CV 3/3] END max_depth=5, min_samples_leaf=7, min_samples_split=4, n_estimators=10;, score=(train=-2914.870, test=-1588.249) total time=   0.0s\n",
      "[CV 1/3] END max_depth=5, min_samples_leaf=6, min_samples_split=4, n_estimators=10;, score=(train=-4271.191, test=-4533.220) total time=   0.0s\n",
      "[CV 2/3] END max_depth=5, min_samples_leaf=6, min_samples_split=4, n_estimators=10;, score=(train=-4145.403, test=-2944.432) total time=   0.0s\n",
      "[CV 3/3] END max_depth=5, min_samples_leaf=6, min_samples_split=4, n_estimators=10;, score=(train=-2914.870, test=-1588.249) total time=   0.0s\n",
      "[CV 1/3] END max_depth=3, min_samples_leaf=5, min_samples_split=6, n_estimators=10;, score=(train=-4271.191, test=-4533.220) total time=   0.0s\n",
      "[CV 2/3] END max_depth=3, min_samples_leaf=5, min_samples_split=6, n_estimators=10;, score=(train=-4145.403, test=-2944.432) total time=   0.0s\n",
      "[CV 3/3] END max_depth=3, min_samples_leaf=5, min_samples_split=6, n_estimators=10;, score=(train=-2914.870, test=-1588.249) total time=   0.0s\n",
      "[CV 1/3] END max_depth=5, min_samples_leaf=7, min_samples_split=2, n_estimators=10;, score=(train=-4271.191, test=-4533.220) total time=   0.0s\n",
      "[CV 2/3] END max_depth=5, min_samples_leaf=7, min_samples_split=2, n_estimators=10;, score=(train=-4145.403, test=-2944.432) total time=   0.0s\n",
      "[CV 3/3] END max_depth=5, min_samples_leaf=7, min_samples_split=2, n_estimators=10;, score=(train=-2914.870, test=-1588.249) total time=   0.0s\n",
      "[CV 1/3] END max_depth=3, min_samples_leaf=6, min_samples_split=2, n_estimators=10;, score=(train=-4271.191, test=-4533.220) total time=   0.0s\n",
      "[CV 2/3] END max_depth=3, min_samples_leaf=6, min_samples_split=2, n_estimators=10;, score=(train=-4145.403, test=-2944.432) total time=   0.0s\n",
      "[CV 3/3] END max_depth=3, min_samples_leaf=6, min_samples_split=2, n_estimators=10;, score=(train=-2914.870, test=-1588.249) total time=   0.0s\n",
      "[CV 1/3] END max_depth=3, min_samples_leaf=6, min_samples_split=6, n_estimators=10;, score=(train=-4271.191, test=-4533.220) total time=   0.0s\n",
      "[CV 2/3] END max_depth=3, min_samples_leaf=6, min_samples_split=6, n_estimators=10;, score=(train=-4145.403, test=-2944.432) total time=   0.0s\n",
      "[CV 3/3] END max_depth=3, min_samples_leaf=6, min_samples_split=6, n_estimators=10;, score=(train=-2914.870, test=-1588.249) total time=   0.0s\n",
      "[CV 1/3] END max_depth=3, min_samples_leaf=6, min_samples_split=4, n_estimators=10;, score=(train=-4271.191, test=-4533.220) total time=   0.0s\n",
      "[CV 2/3] END max_depth=3, min_samples_leaf=6, min_samples_split=4, n_estimators=10;, score=(train=-4145.403, test=-2944.432) total time=   0.0s\n",
      "[CV 3/3] END max_depth=3, min_samples_leaf=6, min_samples_split=4, n_estimators=10;, score=(train=-2914.870, test=-1588.249) total time=   0.0s\n",
      "[CV 1/3] END max_depth=5, min_samples_leaf=1, min_samples_split=6, n_estimators=10;, score=(train=-2377.295, test=-4220.022) total time=   0.0s\n",
      "[CV 2/3] END max_depth=5, min_samples_leaf=1, min_samples_split=6, n_estimators=10;, score=(train=-2055.498, test=-4019.137) total time=   0.0s\n",
      "[CV 3/3] END max_depth=5, min_samples_leaf=1, min_samples_split=6, n_estimators=10;, score=(train=-1656.097, test=-1607.278) total time=   0.0s\n",
      "[CV 1/3] END max_depth=7, min_samples_leaf=1, min_samples_split=6, n_estimators=10;, score=(train=-2377.295, test=-4220.022) total time=   0.0s\n",
      "[CV 2/3] END max_depth=7, min_samples_leaf=1, min_samples_split=6, n_estimators=10;, score=(train=-2055.498, test=-4019.137) total time=   0.0s\n",
      "[CV 3/3] END max_depth=7, min_samples_leaf=1, min_samples_split=6, n_estimators=10;, score=(train=-1656.097, test=-1607.278) total time=   0.0s\n",
      "[CV 1/3] END max_depth=3, min_samples_leaf=3, min_samples_split=4, n_estimators=10;, score=(train=-2999.246, test=-4154.545) total time=   0.0s\n",
      "[CV 2/3] END max_depth=3, min_samples_leaf=3, min_samples_split=4, n_estimators=10;, score=(train=-2173.293, test=-3524.429) total time=   0.0s\n",
      "[CV 3/3] END max_depth=3, min_samples_leaf=3, min_samples_split=4, n_estimators=10;, score=(train=-2330.638, test=-1023.091) total time=   0.0s\n",
      "[CV 1/3] END max_depth=5, min_samples_leaf=5, min_samples_split=6, n_estimators=10;, score=(train=-4271.191, test=-4533.220) total time=   0.0s\n",
      "[CV 2/3] END max_depth=5, min_samples_leaf=5, min_samples_split=6, n_estimators=10;, score=(train=-4145.403, test=-2944.432) total time=   0.0s\n",
      "[CV 3/3] END max_depth=5, min_samples_leaf=5, min_samples_split=6, n_estimators=10;, score=(train=-2914.870, test=-1588.249) total time=   0.0s\n",
      "[CV 1/3] END max_depth=1, min_samples_leaf=7, min_samples_split=6, n_estimators=10;, score=(train=-4271.191, test=-4533.220) total time=   0.0s\n",
      "[CV 2/3] END max_depth=1, min_samples_leaf=7, min_samples_split=6, n_estimators=10;, score=(train=-4145.403, test=-2944.432) total time=   0.0s\n",
      "[CV 3/3] END max_depth=1, min_samples_leaf=7, min_samples_split=6, n_estimators=10;, score=(train=-2914.870, test=-1588.249) total time=   0.0s\n",
      "[CV 1/3] END max_depth=7, min_samples_leaf=3, min_samples_split=4, n_estimators=10;, score=(train=-2999.246, test=-4154.545) total time=   0.0s\n",
      "[CV 2/3] END max_depth=7, min_samples_leaf=3, min_samples_split=4, n_estimators=10;, score=(train=-2173.293, test=-3524.429) total time=   0.0s\n",
      "[CV 3/3] END max_depth=7, min_samples_leaf=3, min_samples_split=4, n_estimators=10;, score=(train=-2330.638, test=-1023.091) total time=   0.0s\n",
      "[CV 1/3] END max_depth=3, min_samples_leaf=1, min_samples_split=6, n_estimators=10;, score=(train=-2377.295, test=-4220.022) total time=   0.0s\n",
      "[CV 2/3] END max_depth=3, min_samples_leaf=1, min_samples_split=6, n_estimators=10;, score=(train=-2055.498, test=-4019.137) total time=   0.0s\n",
      "[CV 3/3] END max_depth=3, min_samples_leaf=1, min_samples_split=6, n_estimators=10;, score=(train=-1656.097, test=-1607.278) total time=   0.0s\n",
      "[CV 1/3] END max_depth=3, min_samples_leaf=3, min_samples_split=2, n_estimators=10;, score=(train=-2999.246, test=-4154.545) total time=   0.0s\n",
      "[CV 2/3] END max_depth=3, min_samples_leaf=3, min_samples_split=2, n_estimators=10;, score=(train=-2173.293, test=-3524.429) total time=   0.0s\n",
      "[CV 3/3] END max_depth=3, min_samples_leaf=3, min_samples_split=2, n_estimators=10;, score=(train=-2330.638, test=-1023.091) total time=   0.0s\n",
      "[CV 1/3] END max_depth=7, min_samples_leaf=2, min_samples_split=6, n_estimators=10;, score=(train=-2792.408, test=-4146.557) total time=   0.0s\n",
      "[CV 2/3] END max_depth=7, min_samples_leaf=2, min_samples_split=6, n_estimators=10;, score=(train=-2055.498, test=-4019.137) total time=   0.0s\n",
      "[CV 3/3] END max_depth=7, min_samples_leaf=2, min_samples_split=6, n_estimators=10;, score=(train=-2168.435, test=-1546.980) total time=   0.0s\n",
      "[CV 1/3] END max_depth=7, min_samples_leaf=3, min_samples_split=2, n_estimators=10;, score=(train=-2999.246, test=-4154.545) total time=   0.0s\n",
      "[CV 2/3] END max_depth=7, min_samples_leaf=3, min_samples_split=2, n_estimators=10;, score=(train=-2173.293, test=-3524.429) total time=   0.0s\n",
      "[CV 3/3] END max_depth=7, min_samples_leaf=3, min_samples_split=2, n_estimators=10;, score=(train=-2330.638, test=-1023.091) total time=   0.0s\n",
      "[CV 1/3] END max_depth=1, min_samples_leaf=7, min_samples_split=4, n_estimators=10;, score=(train=-4271.191, test=-4533.220) total time=   0.0s\n",
      "[CV 2/3] END max_depth=1, min_samples_leaf=7, min_samples_split=4, n_estimators=10;, score=(train=-4145.403, test=-2944.432) total time=   0.0s\n",
      "[CV 3/3] END max_depth=1, min_samples_leaf=7, min_samples_split=4, n_estimators=10;, score=(train=-2914.870, test=-1588.249) total time=   0.0s\n",
      "[CV 1/3] END max_depth=3, min_samples_leaf=2, min_samples_split=6, n_estimators=10;, score=(train=-2792.408, test=-4146.557) total time=   0.0s\n",
      "[CV 2/3] END max_depth=3, min_samples_leaf=2, min_samples_split=6, n_estimators=10;, score=(train=-2055.498, test=-4019.137) total time=   0.0s\n",
      "[CV 3/3] END max_depth=3, min_samples_leaf=2, min_samples_split=6, n_estimators=10;, score=(train=-2168.435, test=-1546.980) total time=   0.0s\n",
      "[CV 1/3] END max_depth=5, min_samples_leaf=4, min_samples_split=2, n_estimators=10;, score=(train=-3764.825, test=-4360.685) total time=   0.0s\n",
      "[CV 2/3] END max_depth=5, min_samples_leaf=4, min_samples_split=2, n_estimators=10;, score=(train=-3232.034, test=-3218.326) total time=   0.0s\n",
      "[CV 3/3] END max_depth=5, min_samples_leaf=4, min_samples_split=2, n_estimators=10;, score=(train=-2597.133, test=-1893.601) total time=   0.0s\n",
      "[CV 1/3] END max_depth=5, min_samples_leaf=2, min_samples_split=2, n_estimators=40;, score=(train=-2553.245, test=-4107.451) total time=   0.1s\n",
      "[CV 2/3] END max_depth=5, min_samples_leaf=2, min_samples_split=2, n_estimators=40;, score=(train=-1727.235, test=-4577.112) total time=   0.0s\n",
      "[CV 3/3] END max_depth=5, min_samples_leaf=2, min_samples_split=2, n_estimators=40;, score=(train=-1883.135, test=-1309.211) total time=   0.1s\n",
      "[CV 1/3] END max_depth=1, min_samples_leaf=2, min_samples_split=2, n_estimators=40;, score=(train=-2734.028, test=-4296.875) total time=   0.1s\n",
      "[CV 2/3] END max_depth=1, min_samples_leaf=2, min_samples_split=2, n_estimators=40;, score=(train=-2239.674, test=-4310.043) total time=   0.1s\n",
      "[CV 3/3] END max_depth=1, min_samples_leaf=2, min_samples_split=2, n_estimators=40;, score=(train=-2116.521, test=-1286.436) total time=   0.1s\n",
      "[CV 1/3] END max_depth=3, min_samples_leaf=2, min_samples_split=4, n_estimators=40;, score=(train=-2554.381, test=-4110.237) total time=   0.1s\n",
      "[CV 2/3] END max_depth=3, min_samples_leaf=2, min_samples_split=4, n_estimators=40;, score=(train=-1727.235, test=-4577.112) total time=   0.0s\n",
      "[CV 3/3] END max_depth=3, min_samples_leaf=2, min_samples_split=4, n_estimators=40;, score=(train=-1883.135, test=-1309.211) total time=   0.1s\n",
      "[CV 1/3] END max_depth=7, min_samples_leaf=2, min_samples_split=4, n_estimators=40;, score=(train=-2553.245, test=-4107.451) total time=   0.1s\n",
      "[CV 2/3] END max_depth=7, min_samples_leaf=2, min_samples_split=4, n_estimators=40;, score=(train=-1727.235, test=-4577.112) total time=   0.0s\n",
      "[CV 3/3] END max_depth=7, min_samples_leaf=2, min_samples_split=4, n_estimators=40;, score=(train=-1883.135, test=-1309.211) total time=   0.1s\n",
      "[CV 1/3] END max_depth=7, min_samples_leaf=2, min_samples_split=2, n_estimators=40;, score=(train=-2553.245, test=-4107.451) total time=   0.1s\n",
      "[CV 2/3] END max_depth=7, min_samples_leaf=2, min_samples_split=2, n_estimators=40;, score=(train=-1727.235, test=-4577.112) total time=   0.1s\n",
      "[CV 3/3] END max_depth=7, min_samples_leaf=2, min_samples_split=2, n_estimators=40;, score=(train=-1883.135, test=-1309.211) total time=   0.1s\n",
      "[CV 1/3] END max_depth=3, min_samples_leaf=2, min_samples_split=2, n_estimators=40;, score=(train=-2554.381, test=-4110.237) total time=   0.1s\n",
      "[CV 2/3] END max_depth=3, min_samples_leaf=2, min_samples_split=2, n_estimators=40;, score=(train=-1727.235, test=-4577.112) total time=   0.1s\n",
      "[CV 3/3] END max_depth=3, min_samples_leaf=2, min_samples_split=2, n_estimators=40;, score=(train=-1883.135, test=-1309.211) total time=   0.1s\n",
      "[CV 1/3] END max_depth=5, min_samples_leaf=2, min_samples_split=4, n_estimators=40;, score=(train=-2553.245, test=-4107.451) total time=   0.1s\n",
      "[CV 2/3] END max_depth=5, min_samples_leaf=2, min_samples_split=4, n_estimators=40;, score=(train=-1727.235, test=-4577.112) total time=   0.0s\n",
      "[CV 3/3] END max_depth=5, min_samples_leaf=2, min_samples_split=4, n_estimators=40;, score=(train=-1883.135, test=-1309.211) total time=   0.0s\n",
      "[CV 1/3] END max_depth=1, min_samples_leaf=2, min_samples_split=4, n_estimators=40;, score=(train=-2734.028, test=-4296.875) total time=   0.0s\n",
      "[CV 2/3] END max_depth=1, min_samples_leaf=2, min_samples_split=4, n_estimators=40;, score=(train=-2239.674, test=-4310.043) total time=   0.1s\n",
      "[CV 3/3] END max_depth=1, min_samples_leaf=2, min_samples_split=4, n_estimators=40;, score=(train=-2116.521, test=-1286.436) total time=   0.0s\n",
      "[CV 1/3] END max_depth=3, min_samples_leaf=2, min_samples_split=2, n_estimators=10;, score=(train=-2625.499, test=-4012.384) total time=   0.0s\n",
      "[CV 2/3] END max_depth=3, min_samples_leaf=2, min_samples_split=2, n_estimators=10;, score=(train=-1817.159, test=-3908.155) total time=   0.0s\n",
      "[CV 3/3] END max_depth=3, min_samples_leaf=2, min_samples_split=2, n_estimators=10;, score=(train=-1885.308, test=-1548.987) total time=   0.0s\n",
      "[CV 1/3] END max_depth=3, min_samples_leaf=2, min_samples_split=4, n_estimators=10;, score=(train=-2625.499, test=-4012.384) total time=   0.0s\n",
      "[CV 2/3] END max_depth=3, min_samples_leaf=2, min_samples_split=4, n_estimators=10;, score=(train=-1817.159, test=-3908.155) total time=   0.0s\n",
      "[CV 3/3] END max_depth=3, min_samples_leaf=2, min_samples_split=4, n_estimators=10;, score=(train=-1885.308, test=-1548.987) total time=   0.0s\n",
      "[CV 1/3] END max_depth=7, min_samples_leaf=2, min_samples_split=2, n_estimators=10;, score=(train=-2625.499, test=-4012.384) total time=   0.0s\n",
      "[CV 2/3] END max_depth=7, min_samples_leaf=2, min_samples_split=2, n_estimators=10;, score=(train=-1817.159, test=-3908.155) total time=   0.0s\n",
      "[CV 3/3] END max_depth=7, min_samples_leaf=2, min_samples_split=2, n_estimators=10;, score=(train=-1885.308, test=-1548.987) total time=   0.0s\n",
      "[CV 1/3] END max_depth=5, min_samples_leaf=2, min_samples_split=4, n_estimators=10;, score=(train=-2625.499, test=-4012.384) total time=   0.0s\n",
      "[CV 2/3] END max_depth=5, min_samples_leaf=2, min_samples_split=4, n_estimators=10;, score=(train=-1817.159, test=-3908.155) total time=   0.0s\n",
      "[CV 3/3] END max_depth=5, min_samples_leaf=2, min_samples_split=4, n_estimators=10;, score=(train=-1885.308, test=-1548.987) total time=   0.0s\n",
      "[CV 1/3] END max_depth=1, min_samples_leaf=2, min_samples_split=2, n_estimators=10;, score=(train=-2806.063, test=-4190.751) total time=   0.0s\n",
      "[CV 2/3] END max_depth=1, min_samples_leaf=2, min_samples_split=2, n_estimators=10;, score=(train=-2195.995, test=-3895.901) total time=   0.0s\n",
      "[CV 3/3] END max_depth=1, min_samples_leaf=2, min_samples_split=2, n_estimators=10;, score=(train=-2254.074, test=-1483.272) total time=   0.0s\n",
      "[CV 1/3] END max_depth=5, min_samples_leaf=2, min_samples_split=2, n_estimators=10;, score=(train=-2625.499, test=-4012.384) total time=   0.0s\n",
      "[CV 2/3] END max_depth=5, min_samples_leaf=2, min_samples_split=2, n_estimators=10;, score=(train=-1817.159, test=-3908.155) total time=   0.0s\n",
      "[CV 3/3] END max_depth=5, min_samples_leaf=2, min_samples_split=2, n_estimators=10;, score=(train=-1885.308, test=-1548.987) total time=   0.0s\n",
      "[CV 1/3] END max_depth=7, min_samples_leaf=2, min_samples_split=4, n_estimators=10;, score=(train=-2625.499, test=-4012.384) total time=   0.0s\n",
      "[CV 2/3] END max_depth=7, min_samples_leaf=2, min_samples_split=4, n_estimators=10;, score=(train=-1817.159, test=-3908.155) total time=   0.0s\n",
      "[CV 3/3] END max_depth=7, min_samples_leaf=2, min_samples_split=4, n_estimators=10;, score=(train=-1885.308, test=-1548.987) total time=   0.0s\n",
      "[CV 1/3] END max_depth=1, min_samples_leaf=2, min_samples_split=4, n_estimators=10;, score=(train=-2806.063, test=-4190.751) total time=   0.0s\n",
      "[CV 2/3] END max_depth=1, min_samples_leaf=2, min_samples_split=4, n_estimators=10;, score=(train=-2195.995, test=-3895.901) total time=   0.0s\n",
      "[CV 3/3] END max_depth=1, min_samples_leaf=2, min_samples_split=4, n_estimators=10;, score=(train=-2254.074, test=-1483.272) total time=   0.0s\n",
      "----------\n",
      "iter: 2\n",
      "n_candidates: 38\n",
      "n_resources: 54\n",
      "Fitting 3 folds for each of 38 candidates, totalling 114 fits\n",
      "[CV 1/3] END max_depth=1, min_samples_leaf=6, min_samples_split=2, n_estimators=10;, score=(train=-2665.708, test=-3782.910) total time=   0.0s\n",
      "[CV 2/3] END max_depth=1, min_samples_leaf=6, min_samples_split=2, n_estimators=10;, score=(train=-2584.581, test=-2230.457) total time=   0.0s\n",
      "[CV 3/3] END max_depth=1, min_samples_leaf=6, min_samples_split=2, n_estimators=10;, score=(train=-2730.478, test=-3175.828) total time=   0.0s\n",
      "[CV 1/3] END max_depth=5, min_samples_leaf=5, min_samples_split=2, n_estimators=10;, score=(train=-2308.484, test=-3719.254) total time=   0.0s\n",
      "[CV 2/3] END max_depth=5, min_samples_leaf=5, min_samples_split=2, n_estimators=10;, score=(train=-2416.085, test=-1895.500) total time=   0.0s\n",
      "[CV 3/3] END max_depth=5, min_samples_leaf=5, min_samples_split=2, n_estimators=10;, score=(train=-2284.327, test=-3158.246) total time=   0.0s\n",
      "[CV 1/3] END max_depth=1, min_samples_leaf=5, min_samples_split=6, n_estimators=10;, score=(train=-2613.857, test=-3854.364) total time=   0.0s\n",
      "[CV 2/3] END max_depth=1, min_samples_leaf=5, min_samples_split=6, n_estimators=10;, score=(train=-2493.638, test=-2176.781) total time=   0.0s\n",
      "[CV 3/3] END max_depth=1, min_samples_leaf=5, min_samples_split=6, n_estimators=10;, score=(train=-2739.684, test=-3249.612) total time=   0.0s\n",
      "[CV 1/3] END max_depth=7, min_samples_leaf=5, min_samples_split=2, n_estimators=10;, score=(train=-2308.484, test=-3719.254) total time=   0.0s\n",
      "[CV 2/3] END max_depth=7, min_samples_leaf=5, min_samples_split=2, n_estimators=10;, score=(train=-2416.085, test=-1895.500) total time=   0.0s\n",
      "[CV 3/3] END max_depth=7, min_samples_leaf=5, min_samples_split=2, n_estimators=10;, score=(train=-2284.327, test=-3158.246) total time=   0.0s\n",
      "[CV 1/3] END max_depth=1, min_samples_leaf=5, min_samples_split=4, n_estimators=10;, score=(train=-2613.857, test=-3854.364) total time=   0.0s\n",
      "[CV 2/3] END max_depth=1, min_samples_leaf=5, min_samples_split=4, n_estimators=10;, score=(train=-2493.638, test=-2176.781) total time=   0.0s\n",
      "[CV 3/3] END max_depth=1, min_samples_leaf=5, min_samples_split=4, n_estimators=10;, score=(train=-2739.684, test=-3249.612) total time=   0.0s\n",
      "[CV 1/3] END max_depth=7, min_samples_leaf=7, min_samples_split=4, n_estimators=10;, score=(train=-2727.342, test=-3522.615) total time=   0.0s\n",
      "[CV 2/3] END max_depth=7, min_samples_leaf=7, min_samples_split=4, n_estimators=10;, score=(train=-2594.849, test=-2171.052) total time=   0.0s\n",
      "[CV 3/3] END max_depth=7, min_samples_leaf=7, min_samples_split=4, n_estimators=10;, score=(train=-3022.181, test=-2455.598) total time=   0.0s\n",
      "[CV 1/3] END max_depth=5, min_samples_leaf=5, min_samples_split=6, n_estimators=10;, score=(train=-2308.484, test=-3719.254) total time=   0.0s\n",
      "[CV 2/3] END max_depth=5, min_samples_leaf=5, min_samples_split=6, n_estimators=10;, score=(train=-2416.085, test=-1895.500) total time=   0.0s\n",
      "[CV 3/3] END max_depth=5, min_samples_leaf=5, min_samples_split=6, n_estimators=10;, score=(train=-2284.327, test=-3158.246) total time=   0.0s\n",
      "[CV 1/3] END max_depth=7, min_samples_leaf=6, min_samples_split=2, n_estimators=10;, score=(train=-2551.372, test=-3653.743) total time=   0.0s\n",
      "[CV 2/3] END max_depth=7, min_samples_leaf=6, min_samples_split=2, n_estimators=10;, score=(train=-2532.017, test=-2014.614) total time=   0.0s\n",
      "[CV 3/3] END max_depth=7, min_samples_leaf=6, min_samples_split=2, n_estimators=10;, score=(train=-2390.342, test=-3017.442) total time=   0.0s\n",
      "[CV 1/3] END max_depth=1, min_samples_leaf=7, min_samples_split=2, n_estimators=10;, score=(train=-2740.177, test=-3547.478) total time=   0.0s\n",
      "[CV 2/3] END max_depth=1, min_samples_leaf=7, min_samples_split=2, n_estimators=10;, score=(train=-2634.890, test=-2360.675) total time=   0.0s\n",
      "[CV 3/3] END max_depth=1, min_samples_leaf=7, min_samples_split=2, n_estimators=10;, score=(train=-3104.762, test=-2423.646) total time=   0.0s\n",
      "[CV 1/3] END max_depth=3, min_samples_leaf=6, min_samples_split=6, n_estimators=10;, score=(train=-2551.372, test=-3653.743) total time=   0.0s\n",
      "[CV 2/3] END max_depth=3, min_samples_leaf=6, min_samples_split=6, n_estimators=10;, score=(train=-2532.017, test=-2014.614) total time=   0.0s\n",
      "[CV 3/3] END max_depth=3, min_samples_leaf=6, min_samples_split=6, n_estimators=10;, score=(train=-2390.342, test=-3017.442) total time=   0.0s\n",
      "[CV 1/3] END max_depth=5, min_samples_leaf=5, min_samples_split=4, n_estimators=10;, score=(train=-2308.484, test=-3719.254) total time=   0.0s\n",
      "[CV 2/3] END max_depth=5, min_samples_leaf=5, min_samples_split=4, n_estimators=10;, score=(train=-2416.085, test=-1895.500) total time=   0.0s\n",
      "[CV 3/3] END max_depth=5, min_samples_leaf=5, min_samples_split=4, n_estimators=10;, score=(train=-2284.327, test=-3158.246) total time=   0.0s\n",
      "[CV 1/3] END max_depth=3, min_samples_leaf=7, min_samples_split=6, n_estimators=10;, score=(train=-2727.342, test=-3522.615) total time=   0.0s\n",
      "[CV 2/3] END max_depth=3, min_samples_leaf=7, min_samples_split=6, n_estimators=10;, score=(train=-2594.849, test=-2171.052) total time=   0.0s\n",
      "[CV 3/3] END max_depth=3, min_samples_leaf=7, min_samples_split=6, n_estimators=10;, score=(train=-3022.181, test=-2455.598) total time=   0.0s\n",
      "[CV 1/3] END max_depth=7, min_samples_leaf=7, min_samples_split=2, n_estimators=10;, score=(train=-2727.342, test=-3522.615) total time=   0.0s\n",
      "[CV 2/3] END max_depth=7, min_samples_leaf=7, min_samples_split=2, n_estimators=10;, score=(train=-2594.849, test=-2171.052) total time=   0.0s\n",
      "[CV 3/3] END max_depth=7, min_samples_leaf=7, min_samples_split=2, n_estimators=10;, score=(train=-3022.181, test=-2455.598) total time=   0.0s\n",
      "[CV 1/3] END max_depth=5, min_samples_leaf=6, min_samples_split=2, n_estimators=10;, score=(train=-2551.372, test=-3653.743) total time=   0.0s\n",
      "[CV 2/3] END max_depth=5, min_samples_leaf=6, min_samples_split=2, n_estimators=10;, score=(train=-2532.017, test=-2014.614) total time=   0.0s\n",
      "[CV 3/3] END max_depth=5, min_samples_leaf=6, min_samples_split=2, n_estimators=10;, score=(train=-2390.342, test=-3017.442) total time=   0.0s\n",
      "[CV 1/3] END max_depth=7, min_samples_leaf=5, min_samples_split=6, n_estimators=10;, score=(train=-2308.484, test=-3719.254) total time=   0.0s\n",
      "[CV 2/3] END max_depth=7, min_samples_leaf=5, min_samples_split=6, n_estimators=10;, score=(train=-2416.085, test=-1895.500) total time=   0.0s\n",
      "[CV 3/3] END max_depth=7, min_samples_leaf=5, min_samples_split=6, n_estimators=10;, score=(train=-2284.327, test=-3158.246) total time=   0.0s\n",
      "[CV 1/3] END max_depth=3, min_samples_leaf=7, min_samples_split=4, n_estimators=10;, score=(train=-2727.342, test=-3522.615) total time=   0.0s\n",
      "[CV 2/3] END max_depth=3, min_samples_leaf=7, min_samples_split=4, n_estimators=10;, score=(train=-2594.849, test=-2171.052) total time=   0.0s\n",
      "[CV 3/3] END max_depth=3, min_samples_leaf=7, min_samples_split=4, n_estimators=10;, score=(train=-3022.181, test=-2455.598) total time=   0.0s\n",
      "[CV 1/3] END max_depth=5, min_samples_leaf=7, min_samples_split=6, n_estimators=10;, score=(train=-2727.342, test=-3522.615) total time=   0.0s\n",
      "[CV 2/3] END max_depth=5, min_samples_leaf=7, min_samples_split=6, n_estimators=10;, score=(train=-2594.849, test=-2171.052) total time=   0.0s\n",
      "[CV 3/3] END max_depth=5, min_samples_leaf=7, min_samples_split=6, n_estimators=10;, score=(train=-3022.181, test=-2455.598) total time=   0.0s\n",
      "[CV 1/3] END max_depth=3, min_samples_leaf=5, min_samples_split=2, n_estimators=10;, score=(train=-2306.453, test=-3723.014) total time=   0.0s\n",
      "[CV 2/3] END max_depth=3, min_samples_leaf=5, min_samples_split=2, n_estimators=10;, score=(train=-2416.085, test=-1895.500) total time=   0.0s\n",
      "[CV 3/3] END max_depth=3, min_samples_leaf=5, min_samples_split=2, n_estimators=10;, score=(train=-2284.327, test=-3158.246) total time=   0.0s\n",
      "[CV 1/3] END max_depth=3, min_samples_leaf=7, min_samples_split=2, n_estimators=10;, score=(train=-2727.342, test=-3522.615) total time=   0.0s\n",
      "[CV 2/3] END max_depth=3, min_samples_leaf=7, min_samples_split=2, n_estimators=10;, score=(train=-2594.849, test=-2171.052) total time=   0.0s\n",
      "[CV 3/3] END max_depth=3, min_samples_leaf=7, min_samples_split=2, n_estimators=10;, score=(train=-3022.181, test=-2455.598) total time=   0.0s\n",
      "[CV 1/3] END max_depth=3, min_samples_leaf=6, min_samples_split=4, n_estimators=10;, score=(train=-2551.372, test=-3653.743) total time=   0.0s\n",
      "[CV 2/3] END max_depth=3, min_samples_leaf=6, min_samples_split=4, n_estimators=10;, score=(train=-2532.017, test=-2014.614) total time=   0.0s\n",
      "[CV 3/3] END max_depth=3, min_samples_leaf=6, min_samples_split=4, n_estimators=10;, score=(train=-2390.342, test=-3017.442) total time=   0.0s\n",
      "[CV 1/3] END max_depth=5, min_samples_leaf=7, min_samples_split=4, n_estimators=10;, score=(train=-2727.342, test=-3522.615) total time=   0.0s\n",
      "[CV 2/3] END max_depth=5, min_samples_leaf=7, min_samples_split=4, n_estimators=10;, score=(train=-2594.849, test=-2171.052) total time=   0.0s\n",
      "[CV 3/3] END max_depth=5, min_samples_leaf=7, min_samples_split=4, n_estimators=10;, score=(train=-3022.181, test=-2455.598) total time=   0.0s\n",
      "[CV 1/3] END max_depth=3, min_samples_leaf=5, min_samples_split=4, n_estimators=10;, score=(train=-2306.453, test=-3723.014) total time=   0.0s\n",
      "[CV 2/3] END max_depth=3, min_samples_leaf=5, min_samples_split=4, n_estimators=10;, score=(train=-2416.085, test=-1895.500) total time=   0.0s\n",
      "[CV 3/3] END max_depth=3, min_samples_leaf=5, min_samples_split=4, n_estimators=10;, score=(train=-2284.327, test=-3158.246) total time=   0.0s\n",
      "[CV 1/3] END max_depth=5, min_samples_leaf=6, min_samples_split=4, n_estimators=10;, score=(train=-2551.372, test=-3653.743) total time=   0.0s\n",
      "[CV 2/3] END max_depth=5, min_samples_leaf=6, min_samples_split=4, n_estimators=10;, score=(train=-2532.017, test=-2014.614) total time=   0.0s\n",
      "[CV 3/3] END max_depth=5, min_samples_leaf=6, min_samples_split=4, n_estimators=10;, score=(train=-2390.342, test=-3017.442) total time=   0.0s\n",
      "[CV 1/3] END max_depth=3, min_samples_leaf=5, min_samples_split=6, n_estimators=10;, score=(train=-2306.453, test=-3723.014) total time=   0.0s\n",
      "[CV 2/3] END max_depth=3, min_samples_leaf=5, min_samples_split=6, n_estimators=10;, score=(train=-2416.085, test=-1895.500) total time=   0.0s\n",
      "[CV 3/3] END max_depth=3, min_samples_leaf=5, min_samples_split=6, n_estimators=10;, score=(train=-2284.327, test=-3158.246) total time=   0.0s\n",
      "[CV 1/3] END max_depth=5, min_samples_leaf=7, min_samples_split=2, n_estimators=10;, score=(train=-2727.342, test=-3522.615) total time=   0.0s\n",
      "[CV 2/3] END max_depth=5, min_samples_leaf=7, min_samples_split=2, n_estimators=10;, score=(train=-2594.849, test=-2171.052) total time=   0.0s\n",
      "[CV 3/3] END max_depth=5, min_samples_leaf=7, min_samples_split=2, n_estimators=10;, score=(train=-3022.181, test=-2455.598) total time=   0.0s\n",
      "[CV 1/3] END max_depth=3, min_samples_leaf=6, min_samples_split=2, n_estimators=10;, score=(train=-2551.372, test=-3653.743) total time=   0.0s\n",
      "[CV 2/3] END max_depth=3, min_samples_leaf=6, min_samples_split=2, n_estimators=10;, score=(train=-2532.017, test=-2014.614) total time=   0.0s\n",
      "[CV 3/3] END max_depth=3, min_samples_leaf=6, min_samples_split=2, n_estimators=10;, score=(train=-2390.342, test=-3017.442) total time=   0.0s\n",
      "[CV 1/3] END max_depth=7, min_samples_leaf=3, min_samples_split=2, n_estimators=10;, score=(train=-1889.982, test=-3844.245) total time=   0.0s\n",
      "[CV 2/3] END max_depth=7, min_samples_leaf=3, min_samples_split=2, n_estimators=10;, score=(train=-2052.842, test=-1770.736) total time=   0.0s\n",
      "[CV 3/3] END max_depth=7, min_samples_leaf=3, min_samples_split=2, n_estimators=10;, score=(train=-1975.859, test=-2991.930) total time=   0.0s\n",
      "[CV 1/3] END max_depth=5, min_samples_leaf=3, min_samples_split=6, n_estimators=10;, score=(train=-1889.982, test=-3844.245) total time=   0.0s\n",
      "[CV 2/3] END max_depth=5, min_samples_leaf=3, min_samples_split=6, n_estimators=10;, score=(train=-2052.842, test=-1770.736) total time=   0.0s\n",
      "[CV 3/3] END max_depth=5, min_samples_leaf=3, min_samples_split=6, n_estimators=10;, score=(train=-1975.859, test=-2991.930) total time=   0.0s\n",
      "[CV 1/3] END max_depth=3, min_samples_leaf=3, min_samples_split=2, n_estimators=10;, score=(train=-1809.079, test=-3852.550) total time=   0.0s\n",
      "[CV 2/3] END max_depth=3, min_samples_leaf=3, min_samples_split=2, n_estimators=10;, score=(train=-2061.944, test=-1794.879) total time=   0.0s\n",
      "[CV 3/3] END max_depth=3, min_samples_leaf=3, min_samples_split=2, n_estimators=10;, score=(train=-2013.498, test=-2968.973) total time=   0.0s\n",
      "[CV 1/3] END max_depth=5, min_samples_leaf=3, min_samples_split=2, n_estimators=10;, score=(train=-1889.982, test=-3844.245) total time=   0.0s\n",
      "[CV 2/3] END max_depth=5, min_samples_leaf=3, min_samples_split=2, n_estimators=10;, score=(train=-2052.842, test=-1770.736) total time=   0.0s\n",
      "[CV 3/3] END max_depth=5, min_samples_leaf=3, min_samples_split=2, n_estimators=10;, score=(train=-1975.859, test=-2991.930) total time=   0.0s\n",
      "[CV 1/3] END max_depth=7, min_samples_leaf=3, min_samples_split=4, n_estimators=10;, score=(train=-1889.982, test=-3844.245) total time=   0.0s\n",
      "[CV 2/3] END max_depth=7, min_samples_leaf=3, min_samples_split=4, n_estimators=10;, score=(train=-2052.842, test=-1770.736) total time=   0.0s\n",
      "[CV 3/3] END max_depth=7, min_samples_leaf=3, min_samples_split=4, n_estimators=10;, score=(train=-1975.859, test=-2991.930) total time=   0.0s\n",
      "[CV 1/3] END max_depth=3, min_samples_leaf=3, min_samples_split=6, n_estimators=10;, score=(train=-1809.079, test=-3852.550) total time=   0.0s\n",
      "[CV 2/3] END max_depth=3, min_samples_leaf=3, min_samples_split=6, n_estimators=10;, score=(train=-2061.944, test=-1794.879) total time=   0.0s\n",
      "[CV 3/3] END max_depth=3, min_samples_leaf=3, min_samples_split=6, n_estimators=10;, score=(train=-2013.498, test=-2968.973) total time=   0.0s\n",
      "[CV 1/3] END max_depth=3, min_samples_leaf=3, min_samples_split=4, n_estimators=10;, score=(train=-1809.079, test=-3852.550) total time=   0.0s\n",
      "[CV 2/3] END max_depth=3, min_samples_leaf=3, min_samples_split=4, n_estimators=10;, score=(train=-2061.944, test=-1794.879) total time=   0.0s\n",
      "[CV 3/3] END max_depth=3, min_samples_leaf=3, min_samples_split=4, n_estimators=10;, score=(train=-2013.498, test=-2968.973) total time=   0.0s\n",
      "[CV 1/3] END max_depth=5, min_samples_leaf=3, min_samples_split=4, n_estimators=10;, score=(train=-1889.982, test=-3844.245) total time=   0.0s\n",
      "[CV 2/3] END max_depth=5, min_samples_leaf=3, min_samples_split=4, n_estimators=10;, score=(train=-2052.842, test=-1770.736) total time=   0.0s\n",
      "[CV 3/3] END max_depth=5, min_samples_leaf=3, min_samples_split=4, n_estimators=10;, score=(train=-1975.859, test=-2991.930) total time=   0.0s\n",
      "[CV 1/3] END max_depth=7, min_samples_leaf=3, min_samples_split=6, n_estimators=10;, score=(train=-1889.982, test=-3844.245) total time=   0.0s\n",
      "[CV 2/3] END max_depth=7, min_samples_leaf=3, min_samples_split=6, n_estimators=10;, score=(train=-2052.842, test=-1770.736) total time=   0.0s\n",
      "[CV 3/3] END max_depth=7, min_samples_leaf=3, min_samples_split=6, n_estimators=10;, score=(train=-1975.859, test=-2991.930) total time=   0.0s\n",
      "[CV 1/3] END max_depth=1, min_samples_leaf=3, min_samples_split=4, n_estimators=10;, score=(train=-2613.857, test=-3854.364) total time=   0.0s\n",
      "[CV 2/3] END max_depth=1, min_samples_leaf=3, min_samples_split=4, n_estimators=10;, score=(train=-2553.650, test=-2218.820) total time=   0.0s\n",
      "[CV 3/3] END max_depth=1, min_samples_leaf=3, min_samples_split=4, n_estimators=10;, score=(train=-2769.284, test=-3244.386) total time=   0.0s\n",
      "[CV 1/3] END max_depth=1, min_samples_leaf=3, min_samples_split=6, n_estimators=10;, score=(train=-2613.857, test=-3854.364) total time=   0.0s\n",
      "[CV 2/3] END max_depth=1, min_samples_leaf=3, min_samples_split=6, n_estimators=10;, score=(train=-2553.650, test=-2218.820) total time=   0.0s\n",
      "[CV 3/3] END max_depth=1, min_samples_leaf=3, min_samples_split=6, n_estimators=10;, score=(train=-2769.284, test=-3244.386) total time=   0.0s\n",
      "[CV 1/3] END max_depth=1, min_samples_leaf=3, min_samples_split=2, n_estimators=10;, score=(train=-2613.857, test=-3854.364) total time=   0.0s\n",
      "[CV 2/3] END max_depth=1, min_samples_leaf=3, min_samples_split=2, n_estimators=10;, score=(train=-2553.650, test=-2218.820) total time=   0.0s\n",
      "[CV 3/3] END max_depth=1, min_samples_leaf=3, min_samples_split=2, n_estimators=10;, score=(train=-2769.284, test=-3244.386) total time=   0.0s\n",
      "----------\n",
      "iter: 3\n",
      "n_candidates: 13\n",
      "n_resources: 162\n",
      "Fitting 3 folds for each of 13 candidates, totalling 39 fits\n",
      "[CV 1/3] END max_depth=7, min_samples_leaf=3, min_samples_split=2, n_estimators=10;, score=(train=-1643.090, test=-2828.407) total time=   0.0s\n",
      "[CV 2/3] END max_depth=7, min_samples_leaf=3, min_samples_split=2, n_estimators=10;, score=(train=-1763.841, test=-4007.604) total time=   0.0s\n",
      "[CV 3/3] END max_depth=7, min_samples_leaf=3, min_samples_split=2, n_estimators=10;, score=(train=-1578.901, test=-2723.347) total time=   0.0s\n",
      "[CV 1/3] END max_depth=5, min_samples_leaf=3, min_samples_split=6, n_estimators=10;, score=(train=-1677.911, test=-2840.958) total time=   0.0s\n",
      "[CV 2/3] END max_depth=5, min_samples_leaf=3, min_samples_split=6, n_estimators=10;, score=(train=-1781.359, test=-4013.066) total time=   0.0s\n",
      "[CV 3/3] END max_depth=5, min_samples_leaf=3, min_samples_split=6, n_estimators=10;, score=(train=-1587.438, test=-2723.508) total time=   0.0s\n",
      "[CV 1/3] END max_depth=5, min_samples_leaf=3, min_samples_split=2, n_estimators=10;, score=(train=-1677.911, test=-2840.958) total time=   0.0s\n",
      "[CV 2/3] END max_depth=5, min_samples_leaf=3, min_samples_split=2, n_estimators=10;, score=(train=-1781.359, test=-4013.066) total time=   0.0s\n",
      "[CV 3/3] END max_depth=5, min_samples_leaf=3, min_samples_split=2, n_estimators=10;, score=(train=-1587.438, test=-2723.508) total time=   0.0s\n",
      "[CV 1/3] END max_depth=7, min_samples_leaf=3, min_samples_split=4, n_estimators=10;, score=(train=-1643.090, test=-2828.407) total time=   0.0s\n",
      "[CV 2/3] END max_depth=7, min_samples_leaf=3, min_samples_split=4, n_estimators=10;, score=(train=-1763.841, test=-4007.604) total time=   0.0s\n",
      "[CV 3/3] END max_depth=7, min_samples_leaf=3, min_samples_split=4, n_estimators=10;, score=(train=-1578.901, test=-2723.347) total time=   0.0s\n",
      "[CV 1/3] END max_depth=1, min_samples_leaf=7, min_samples_split=2, n_estimators=10;, score=(train=-3481.444, test=-4581.145) total time=   0.0s\n",
      "[CV 2/3] END max_depth=1, min_samples_leaf=7, min_samples_split=2, n_estimators=10;, score=(train=-3068.229, test=-4509.652) total time=   0.0s\n",
      "[CV 3/3] END max_depth=1, min_samples_leaf=7, min_samples_split=2, n_estimators=10;, score=(train=-3058.114, test=-3843.716) total time=   0.0s\n",
      "[CV 1/3] END max_depth=3, min_samples_leaf=7, min_samples_split=6, n_estimators=10;, score=(train=-2608.224, test=-3374.819) total time=   0.0s\n",
      "[CV 2/3] END max_depth=3, min_samples_leaf=7, min_samples_split=6, n_estimators=10;, score=(train=-2384.525, test=-4144.301) total time=   0.0s\n",
      "[CV 3/3] END max_depth=3, min_samples_leaf=7, min_samples_split=6, n_estimators=10;, score=(train=-2245.679, test=-2945.019) total time=   0.0s\n",
      "[CV 1/3] END max_depth=5, min_samples_leaf=7, min_samples_split=6, n_estimators=10;, score=(train=-2557.168, test=-3299.959) total time=   0.0s\n",
      "[CV 2/3] END max_depth=5, min_samples_leaf=7, min_samples_split=6, n_estimators=10;, score=(train=-2364.478, test=-4119.643) total time=   0.0s\n",
      "[CV 3/3] END max_depth=5, min_samples_leaf=7, min_samples_split=6, n_estimators=10;, score=(train=-2220.837, test=-2926.821) total time=   0.0s\n",
      "[CV 1/3] END max_depth=5, min_samples_leaf=7, min_samples_split=2, n_estimators=10;, score=(train=-2557.168, test=-3299.959) total time=   0.0s\n",
      "[CV 2/3] END max_depth=5, min_samples_leaf=7, min_samples_split=2, n_estimators=10;, score=(train=-2364.478, test=-4119.643) total time=   0.0s\n",
      "[CV 3/3] END max_depth=5, min_samples_leaf=7, min_samples_split=2, n_estimators=10;, score=(train=-2220.837, test=-2926.821) total time=   0.0s\n",
      "[CV 1/3] END max_depth=3, min_samples_leaf=7, min_samples_split=4, n_estimators=10;, score=(train=-2608.224, test=-3374.819) total time=   0.0s\n",
      "[CV 2/3] END max_depth=3, min_samples_leaf=7, min_samples_split=4, n_estimators=10;, score=(train=-2384.525, test=-4144.301) total time=   0.0s\n",
      "[CV 3/3] END max_depth=3, min_samples_leaf=7, min_samples_split=4, n_estimators=10;, score=(train=-2245.679, test=-2945.019) total time=   0.0s\n",
      "[CV 1/3] END max_depth=7, min_samples_leaf=7, min_samples_split=4, n_estimators=10;, score=(train=-2557.168, test=-3299.959) total time=   0.0s\n",
      "[CV 2/3] END max_depth=7, min_samples_leaf=7, min_samples_split=4, n_estimators=10;, score=(train=-2364.446, test=-4119.052) total time=   0.0s\n",
      "[CV 3/3] END max_depth=7, min_samples_leaf=7, min_samples_split=4, n_estimators=10;, score=(train=-2221.686, test=-2925.535) total time=   0.0s\n",
      "[CV 1/3] END max_depth=5, min_samples_leaf=7, min_samples_split=4, n_estimators=10;, score=(train=-2557.168, test=-3299.959) total time=   0.0s\n",
      "[CV 2/3] END max_depth=5, min_samples_leaf=7, min_samples_split=4, n_estimators=10;, score=(train=-2364.478, test=-4119.643) total time=   0.0s\n",
      "[CV 3/3] END max_depth=5, min_samples_leaf=7, min_samples_split=4, n_estimators=10;, score=(train=-2220.837, test=-2926.821) total time=   0.0s\n",
      "[CV 1/3] END max_depth=7, min_samples_leaf=7, min_samples_split=2, n_estimators=10;, score=(train=-2557.168, test=-3299.959) total time=   0.0s\n",
      "[CV 2/3] END max_depth=7, min_samples_leaf=7, min_samples_split=2, n_estimators=10;, score=(train=-2364.446, test=-4119.052) total time=   0.0s\n",
      "[CV 3/3] END max_depth=7, min_samples_leaf=7, min_samples_split=2, n_estimators=10;, score=(train=-2221.686, test=-2925.535) total time=   0.0s\n",
      "[CV 1/3] END max_depth=3, min_samples_leaf=7, min_samples_split=2, n_estimators=10;, score=(train=-2608.224, test=-3374.819) total time=   0.0s\n",
      "[CV 2/3] END max_depth=3, min_samples_leaf=7, min_samples_split=2, n_estimators=10;, score=(train=-2384.525, test=-4144.301) total time=   0.0s\n",
      "[CV 3/3] END max_depth=3, min_samples_leaf=7, min_samples_split=2, n_estimators=10;, score=(train=-2245.679, test=-2945.019) total time=   0.0s\n",
      "----------\n",
      "iter: 4\n",
      "n_candidates: 5\n",
      "n_resources: 486\n",
      "Fitting 3 folds for each of 5 candidates, totalling 15 fits\n",
      "[CV 1/3] END max_depth=7, min_samples_leaf=7, min_samples_split=2, n_estimators=10;, score=(train=-2147.189, test=-2803.254) total time=   0.0s\n",
      "[CV 2/3] END max_depth=7, min_samples_leaf=7, min_samples_split=2, n_estimators=10;, score=(train=-2268.887, test=-2364.812) total time=   0.0s\n",
      "[CV 3/3] END max_depth=7, min_samples_leaf=7, min_samples_split=2, n_estimators=10;, score=(train=-2015.776, test=-2279.250) total time=   0.0s\n",
      "[CV 1/3] END max_depth=5, min_samples_leaf=3, min_samples_split=6, n_estimators=10;, score=(train=-1975.690, test=-2756.411) total time=   0.0s\n",
      "[CV 2/3] END max_depth=5, min_samples_leaf=3, min_samples_split=6, n_estimators=10;, score=(train=-1990.728, test=-2380.822) total time=   0.0s\n",
      "[CV 3/3] END max_depth=5, min_samples_leaf=3, min_samples_split=6, n_estimators=10;, score=(train=-1822.974, test=-2182.692) total time=   0.0s\n",
      "[CV 1/3] END max_depth=5, min_samples_leaf=3, min_samples_split=2, n_estimators=10;, score=(train=-1975.690, test=-2756.411) total time=   0.0s\n",
      "[CV 2/3] END max_depth=5, min_samples_leaf=3, min_samples_split=2, n_estimators=10;, score=(train=-1990.728, test=-2380.822) total time=   0.0s\n",
      "[CV 3/3] END max_depth=5, min_samples_leaf=3, min_samples_split=2, n_estimators=10;, score=(train=-1822.974, test=-2182.692) total time=   0.0s\n",
      "[CV 1/3] END max_depth=7, min_samples_leaf=3, min_samples_split=2, n_estimators=10;, score=(train=-1775.469, test=-2767.622) total time=   0.0s\n",
      "[CV 2/3] END max_depth=7, min_samples_leaf=3, min_samples_split=2, n_estimators=10;, score=(train=-1815.864, test=-2350.851) total time=   0.0s\n",
      "[CV 3/3] END max_depth=7, min_samples_leaf=3, min_samples_split=2, n_estimators=10;, score=(train=-1627.705, test=-2139.404) total time=   0.0s\n",
      "[CV 1/3] END max_depth=7, min_samples_leaf=3, min_samples_split=4, n_estimators=10;, score=(train=-1775.469, test=-2767.622) total time=   0.0s\n",
      "[CV 2/3] END max_depth=7, min_samples_leaf=3, min_samples_split=4, n_estimators=10;, score=(train=-1815.864, test=-2350.851) total time=   0.0s\n",
      "[CV 3/3] END max_depth=7, min_samples_leaf=3, min_samples_split=4, n_estimators=10;, score=(train=-1627.705, test=-2139.404) total time=   0.0s\n",
      "----------\n",
      "iter: 5\n",
      "n_candidates: 2\n",
      "n_resources: 1458\n",
      "Fitting 3 folds for each of 2 candidates, totalling 6 fits\n",
      "[CV 1/3] END max_depth=7, min_samples_leaf=3, min_samples_split=2, n_estimators=10;, score=(train=-1834.938, test=-2481.435) total time=   0.0s\n",
      "[CV 2/3] END max_depth=7, min_samples_leaf=3, min_samples_split=2, n_estimators=10;, score=(train=-1489.392, test=-2389.531) total time=   0.0s\n",
      "[CV 3/3] END max_depth=7, min_samples_leaf=3, min_samples_split=2, n_estimators=10;, score=(train=-1791.476, test=-2238.152) total time=   0.0s\n",
      "[CV 1/3] END max_depth=7, min_samples_leaf=3, min_samples_split=4, n_estimators=10;, score=(train=-1834.938, test=-2481.435) total time=   0.0s\n",
      "[CV 2/3] END max_depth=7, min_samples_leaf=3, min_samples_split=4, n_estimators=10;, score=(train=-1489.392, test=-2389.531) total time=   0.0s\n",
      "[CV 3/3] END max_depth=7, min_samples_leaf=3, min_samples_split=4, n_estimators=10;, score=(train=-1791.476, test=-2238.152) total time=   0.0s\n"
     ]
    },
    {
     "data": {
      "text/plain": [
       "{'n_estimators': 10,\n",
       " 'min_samples_split': 2,\n",
       " 'min_samples_leaf': 3,\n",
       " 'max_depth': 7}"
      ]
     },
     "execution_count": 39,
     "metadata": {},
     "output_type": "execute_result"
    }
   ],
   "source": [
    "model_rf = RandomForestRegressor(random_state=RANDOM_STATE)\n",
    "parametr = {'n_estimators' : range(10, 41, 10),\n",
    "            'max_depth' : range(1, 8, 2),\n",
    "            'min_samples_leaf' : range(1,8),\n",
    "            'min_samples_split' : range(2,8,2)}\n",
    "\n",
    "halving_rs = HalvingRandomSearchCV(estimator=model_rf,\n",
    "                     param_distributions =parametr,\n",
    "                     scoring='neg_root_mean_squared_error',\n",
    "                     cv=3,\n",
    "                     verbose=3)\n",
    "halving_rs.fit(features_train_rf_final, target_train_rf_final)\n",
    "\n",
    "\n",
    "rmse_rf = halving_rs.best_score_*-1\n",
    "halving_rs.best_params_"
   ]
  },
  {
   "cell_type": "code",
   "execution_count": 40,
   "metadata": {},
   "outputs": [],
   "source": [
    "model_rf = RandomForestRegressor(max_depth=7, n_estimators=10, min_samples_split=2, min_samples_leaf=3, random_state=RANDOM_STATE)"
   ]
  },
  {
   "cell_type": "code",
   "execution_count": 41,
   "metadata": {},
   "outputs": [],
   "source": [
    "cv_rf = cross_validate(model_rf, features_train_rf_final, target_train_rf_final, scoring='neg_root_mean_squared_error', cv=3)"
   ]
  },
  {
   "cell_type": "markdown",
   "metadata": {},
   "source": [
    "<b>Второй раз не стал запускть, подбор парметров длительный процесс, значения и структуру подбора параметров закоментировал</b>"
   ]
  },
  {
   "cell_type": "markdown",
   "metadata": {},
   "source": [
    "### LightGBM"
   ]
  },
  {
   "cell_type": "code",
   "execution_count": 42,
   "metadata": {},
   "outputs": [
    {
     "name": "stdout",
     "output_type": "stream",
     "text": [
      "n_iterations: 5\n",
      "n_required_iterations: 5\n",
      "n_possible_iterations: 10\n",
      "min_resources_: 6\n",
      "max_resources_: 222226\n",
      "aggressive_elimination: False\n",
      "factor: 3\n",
      "----------\n",
      "iter: 0\n",
      "n_candidates: 100\n",
      "n_resources: 6\n",
      "Fitting 3 folds for each of 100 candidates, totalling 300 fits\n"
     ]
    },
    {
     "name": "stderr",
     "output_type": "stream",
     "text": [
      "/home/jovyan/.local/lib/python3.9/site-packages/sklearn/model_selection/_search.py:305: UserWarning: The total space of parameters 100 is smaller than n_iter=37037. Running 100 iterations. For exhaustive searches, use GridSearchCV.\n",
      "  warnings.warn(\n"
     ]
    },
    {
     "name": "stdout",
     "output_type": "stream",
     "text": [
      "[CV 1/3] END max_depth=1, n_estimators=10, num_leaves=20;, score=(train=-1526.587, test=-7450.966) total time=   0.8s\n",
      "[CV 2/3] END max_depth=1, n_estimators=10, num_leaves=20;, score=(train=-4219.268, test=-1449.750) total time=   0.9s\n",
      "[CV 3/3] END max_depth=1, n_estimators=10, num_leaves=20;, score=(train=-3391.534, test=-2500.000) total time=   1.0s\n",
      "[CV 1/3] END max_depth=1, n_estimators=10, num_leaves=40;, score=(train=-1526.587, test=-7450.966) total time=   1.0s\n",
      "[CV 2/3] END max_depth=1, n_estimators=10, num_leaves=40;, score=(train=-4219.268, test=-1449.750) total time=   0.9s\n",
      "[CV 3/3] END max_depth=1, n_estimators=10, num_leaves=40;, score=(train=-3391.534, test=-2500.000) total time=   0.9s\n",
      "[CV 1/3] END max_depth=1, n_estimators=10, num_leaves=60;, score=(train=-1526.587, test=-7450.966) total time=   1.0s\n",
      "[CV 2/3] END max_depth=1, n_estimators=10, num_leaves=60;, score=(train=-4219.268, test=-1449.750) total time=   0.9s\n",
      "[CV 3/3] END max_depth=1, n_estimators=10, num_leaves=60;, score=(train=-3391.534, test=-2500.000) total time=   0.9s\n",
      "[CV 1/3] END max_depth=1, n_estimators=10, num_leaves=80;, score=(train=-1526.587, test=-7450.966) total time=   0.9s\n",
      "[CV 2/3] END max_depth=1, n_estimators=10, num_leaves=80;, score=(train=-4219.268, test=-1449.750) total time=   1.0s\n",
      "[CV 3/3] END max_depth=1, n_estimators=10, num_leaves=80;, score=(train=-3391.534, test=-2500.000) total time=   1.0s\n",
      "[CV 1/3] END max_depth=1, n_estimators=20, num_leaves=20;, score=(train=-1526.587, test=-7450.966) total time=   1.5s\n",
      "[CV 2/3] END max_depth=1, n_estimators=20, num_leaves=20;, score=(train=-4219.268, test=-1449.750) total time=   1.4s\n",
      "[CV 3/3] END max_depth=1, n_estimators=20, num_leaves=20;, score=(train=-3391.534, test=-2500.000) total time=   1.4s\n",
      "[CV 1/3] END max_depth=1, n_estimators=20, num_leaves=40;, score=(train=-1526.587, test=-7450.966) total time=   1.4s\n",
      "[CV 2/3] END max_depth=1, n_estimators=20, num_leaves=40;, score=(train=-4219.268, test=-1449.750) total time=   1.4s\n",
      "[CV 3/3] END max_depth=1, n_estimators=20, num_leaves=40;, score=(train=-3391.534, test=-2500.000) total time=   1.4s\n",
      "[CV 1/3] END max_depth=1, n_estimators=20, num_leaves=60;, score=(train=-1526.587, test=-7450.966) total time=   1.4s\n",
      "[CV 2/3] END max_depth=1, n_estimators=20, num_leaves=60;, score=(train=-4219.268, test=-1449.750) total time=   1.4s\n",
      "[CV 3/3] END max_depth=1, n_estimators=20, num_leaves=60;, score=(train=-3391.534, test=-2500.000) total time=   1.5s\n",
      "[CV 1/3] END max_depth=1, n_estimators=20, num_leaves=80;, score=(train=-1526.587, test=-7450.966) total time=   1.4s\n",
      "[CV 2/3] END max_depth=1, n_estimators=20, num_leaves=80;, score=(train=-4219.268, test=-1449.750) total time=   1.4s\n",
      "[CV 3/3] END max_depth=1, n_estimators=20, num_leaves=80;, score=(train=-3391.534, test=-2500.000) total time=   1.4s\n",
      "[CV 1/3] END max_depth=1, n_estimators=30, num_leaves=20;, score=(train=-1526.587, test=-7450.966) total time=   1.8s\n",
      "[CV 2/3] END max_depth=1, n_estimators=30, num_leaves=20;, score=(train=-4219.268, test=-1449.750) total time=   1.8s\n",
      "[CV 3/3] END max_depth=1, n_estimators=30, num_leaves=20;, score=(train=-3391.534, test=-2500.000) total time=   1.9s\n",
      "[CV 1/3] END max_depth=1, n_estimators=30, num_leaves=40;, score=(train=-1526.587, test=-7450.966) total time=   1.8s\n",
      "[CV 2/3] END max_depth=1, n_estimators=30, num_leaves=40;, score=(train=-4219.268, test=-1449.750) total time=   1.8s\n",
      "[CV 3/3] END max_depth=1, n_estimators=30, num_leaves=40;, score=(train=-3391.534, test=-2500.000) total time=   1.8s\n",
      "[CV 1/3] END max_depth=1, n_estimators=30, num_leaves=60;, score=(train=-1526.587, test=-7450.966) total time=   1.8s\n",
      "[CV 2/3] END max_depth=1, n_estimators=30, num_leaves=60;, score=(train=-4219.268, test=-1449.750) total time=   1.9s\n",
      "[CV 3/3] END max_depth=1, n_estimators=30, num_leaves=60;, score=(train=-3391.534, test=-2500.000) total time=   1.7s\n",
      "[CV 1/3] END max_depth=1, n_estimators=30, num_leaves=80;, score=(train=-1526.587, test=-7450.966) total time=   1.8s\n",
      "[CV 2/3] END max_depth=1, n_estimators=30, num_leaves=80;, score=(train=-4219.268, test=-1449.750) total time=   1.8s\n",
      "[CV 3/3] END max_depth=1, n_estimators=30, num_leaves=80;, score=(train=-3391.534, test=-2500.000) total time=   1.6s\n",
      "[CV 1/3] END max_depth=1, n_estimators=40, num_leaves=20;, score=(train=-1526.587, test=-7450.966) total time=   2.1s\n",
      "[CV 2/3] END max_depth=1, n_estimators=40, num_leaves=20;, score=(train=-4219.268, test=-1449.750) total time=   2.1s\n",
      "[CV 3/3] END max_depth=1, n_estimators=40, num_leaves=20;, score=(train=-3391.534, test=-2500.000) total time=   2.2s\n",
      "[CV 1/3] END max_depth=1, n_estimators=40, num_leaves=40;, score=(train=-1526.587, test=-7450.966) total time=   2.2s\n",
      "[CV 2/3] END max_depth=1, n_estimators=40, num_leaves=40;, score=(train=-4219.268, test=-1449.750) total time=   2.1s\n",
      "[CV 3/3] END max_depth=1, n_estimators=40, num_leaves=40;, score=(train=-3391.534, test=-2500.000) total time=   2.1s\n",
      "[CV 1/3] END max_depth=1, n_estimators=40, num_leaves=60;, score=(train=-1526.587, test=-7450.966) total time=   2.5s\n",
      "[CV 2/3] END max_depth=1, n_estimators=40, num_leaves=60;, score=(train=-4219.268, test=-1449.750) total time=   2.6s\n",
      "[CV 3/3] END max_depth=1, n_estimators=40, num_leaves=60;, score=(train=-3391.534, test=-2500.000) total time=   1.7s\n",
      "[CV 1/3] END max_depth=1, n_estimators=40, num_leaves=80;, score=(train=-1526.587, test=-7450.966) total time=   0.5s\n",
      "[CV 2/3] END max_depth=1, n_estimators=40, num_leaves=80;, score=(train=-4219.268, test=-1449.750) total time=   2.1s\n",
      "[CV 3/3] END max_depth=1, n_estimators=40, num_leaves=80;, score=(train=-3391.534, test=-2500.000) total time=   0.6s\n",
      "[CV 1/3] END max_depth=1, n_estimators=50, num_leaves=20;, score=(train=-1526.587, test=-7450.966) total time=   2.9s\n",
      "[CV 2/3] END max_depth=1, n_estimators=50, num_leaves=20;, score=(train=-4219.268, test=-1449.750) total time=   0.7s\n",
      "[CV 3/3] END max_depth=1, n_estimators=50, num_leaves=20;, score=(train=-3391.534, test=-2500.000) total time=   2.8s\n",
      "[CV 1/3] END max_depth=1, n_estimators=50, num_leaves=40;, score=(train=-1526.587, test=-7450.966) total time=   0.7s\n",
      "[CV 2/3] END max_depth=1, n_estimators=50, num_leaves=40;, score=(train=-4219.268, test=-1449.750) total time=   2.9s\n",
      "[CV 3/3] END max_depth=1, n_estimators=50, num_leaves=40;, score=(train=-3391.534, test=-2500.000) total time=   2.9s\n",
      "[CV 1/3] END max_depth=1, n_estimators=50, num_leaves=60;, score=(train=-1526.587, test=-7450.966) total time=   2.9s\n",
      "[CV 2/3] END max_depth=1, n_estimators=50, num_leaves=60;, score=(train=-4219.268, test=-1449.750) total time=   3.0s\n",
      "[CV 3/3] END max_depth=1, n_estimators=50, num_leaves=60;, score=(train=-3391.534, test=-2500.000) total time=   2.7s\n",
      "[CV 1/3] END max_depth=1, n_estimators=50, num_leaves=80;, score=(train=-1526.587, test=-7450.966) total time=   2.8s\n",
      "[CV 2/3] END max_depth=1, n_estimators=50, num_leaves=80;, score=(train=-4219.268, test=-1449.750) total time=   2.8s\n",
      "[CV 3/3] END max_depth=1, n_estimators=50, num_leaves=80;, score=(train=-3391.534, test=-2500.000) total time=   2.8s\n",
      "[CV 1/3] END max_depth=3, n_estimators=10, num_leaves=20;, score=(train=-1526.587, test=-7450.966) total time=   0.9s\n",
      "[CV 2/3] END max_depth=3, n_estimators=10, num_leaves=20;, score=(train=-4219.268, test=-1449.750) total time=   1.0s\n",
      "[CV 3/3] END max_depth=3, n_estimators=10, num_leaves=20;, score=(train=-3391.534, test=-2500.000) total time=   1.0s\n",
      "[CV 1/3] END max_depth=3, n_estimators=10, num_leaves=40;, score=(train=-1526.587, test=-7450.966) total time=   0.9s\n",
      "[CV 2/3] END max_depth=3, n_estimators=10, num_leaves=40;, score=(train=-4219.268, test=-1449.750) total time=   0.9s\n",
      "[CV 3/3] END max_depth=3, n_estimators=10, num_leaves=40;, score=(train=-3391.534, test=-2500.000) total time=   0.9s\n",
      "[CV 1/3] END max_depth=3, n_estimators=10, num_leaves=60;, score=(train=-1526.587, test=-7450.966) total time=   1.0s\n",
      "[CV 2/3] END max_depth=3, n_estimators=10, num_leaves=60;, score=(train=-4219.268, test=-1449.750) total time=   0.9s\n",
      "[CV 3/3] END max_depth=3, n_estimators=10, num_leaves=60;, score=(train=-3391.534, test=-2500.000) total time=   0.9s\n",
      "[CV 1/3] END max_depth=3, n_estimators=10, num_leaves=80;, score=(train=-1526.587, test=-7450.966) total time=   0.9s\n",
      "[CV 2/3] END max_depth=3, n_estimators=10, num_leaves=80;, score=(train=-4219.268, test=-1449.750) total time=   0.9s\n",
      "[CV 3/3] END max_depth=3, n_estimators=10, num_leaves=80;, score=(train=-3391.534, test=-2500.000) total time=   0.9s\n",
      "[CV 1/3] END max_depth=3, n_estimators=20, num_leaves=20;, score=(train=-1526.587, test=-7450.966) total time=   1.4s\n",
      "[CV 2/3] END max_depth=3, n_estimators=20, num_leaves=20;, score=(train=-4219.268, test=-1449.750) total time=   1.3s\n",
      "[CV 3/3] END max_depth=3, n_estimators=20, num_leaves=20;, score=(train=-3391.534, test=-2500.000) total time=   1.4s\n",
      "[CV 1/3] END max_depth=3, n_estimators=20, num_leaves=40;, score=(train=-1526.587, test=-7450.966) total time=   1.4s\n",
      "[CV 2/3] END max_depth=3, n_estimators=20, num_leaves=40;, score=(train=-4219.268, test=-1449.750) total time=   1.3s\n",
      "[CV 3/3] END max_depth=3, n_estimators=20, num_leaves=40;, score=(train=-3391.534, test=-2500.000) total time=   1.4s\n",
      "[CV 1/3] END max_depth=3, n_estimators=20, num_leaves=60;, score=(train=-1526.587, test=-7450.966) total time=   1.4s\n",
      "[CV 2/3] END max_depth=3, n_estimators=20, num_leaves=60;, score=(train=-4219.268, test=-1449.750) total time=   1.4s\n",
      "[CV 3/3] END max_depth=3, n_estimators=20, num_leaves=60;, score=(train=-3391.534, test=-2500.000) total time=   1.4s\n",
      "[CV 1/3] END max_depth=3, n_estimators=20, num_leaves=80;, score=(train=-1526.587, test=-7450.966) total time=   1.4s\n",
      "[CV 2/3] END max_depth=3, n_estimators=20, num_leaves=80;, score=(train=-4219.268, test=-1449.750) total time=   1.4s\n",
      "[CV 3/3] END max_depth=3, n_estimators=20, num_leaves=80;, score=(train=-3391.534, test=-2500.000) total time=   1.4s\n",
      "[CV 1/3] END max_depth=3, n_estimators=30, num_leaves=20;, score=(train=-1526.587, test=-7450.966) total time=   1.8s\n",
      "[CV 2/3] END max_depth=3, n_estimators=30, num_leaves=20;, score=(train=-4219.268, test=-1449.750) total time=   1.9s\n",
      "[CV 3/3] END max_depth=3, n_estimators=30, num_leaves=20;, score=(train=-3391.534, test=-2500.000) total time=   1.7s\n",
      "[CV 1/3] END max_depth=3, n_estimators=30, num_leaves=40;, score=(train=-1526.587, test=-7450.966) total time=   1.8s\n",
      "[CV 2/3] END max_depth=3, n_estimators=30, num_leaves=40;, score=(train=-4219.268, test=-1449.750) total time=   1.7s\n",
      "[CV 3/3] END max_depth=3, n_estimators=30, num_leaves=40;, score=(train=-3391.534, test=-2500.000) total time=   1.9s\n",
      "[CV 1/3] END max_depth=3, n_estimators=30, num_leaves=60;, score=(train=-1526.587, test=-7450.966) total time=   1.8s\n",
      "[CV 2/3] END max_depth=3, n_estimators=30, num_leaves=60;, score=(train=-4219.268, test=-1449.750) total time=   1.9s\n",
      "[CV 3/3] END max_depth=3, n_estimators=30, num_leaves=60;, score=(train=-3391.534, test=-2500.000) total time=   1.7s\n",
      "[CV 1/3] END max_depth=3, n_estimators=30, num_leaves=80;, score=(train=-1526.587, test=-7450.966) total time=   1.8s\n",
      "[CV 2/3] END max_depth=3, n_estimators=30, num_leaves=80;, score=(train=-4219.268, test=-1449.750) total time=   1.9s\n",
      "[CV 3/3] END max_depth=3, n_estimators=30, num_leaves=80;, score=(train=-3391.534, test=-2500.000) total time=   1.8s\n",
      "[CV 1/3] END max_depth=3, n_estimators=40, num_leaves=20;, score=(train=-1526.587, test=-7450.966) total time=   2.3s\n",
      "[CV 2/3] END max_depth=3, n_estimators=40, num_leaves=20;, score=(train=-4219.268, test=-1449.750) total time=   2.3s\n",
      "[CV 3/3] END max_depth=3, n_estimators=40, num_leaves=20;, score=(train=-3391.534, test=-2500.000) total time=   2.2s\n",
      "[CV 1/3] END max_depth=3, n_estimators=40, num_leaves=40;, score=(train=-1526.587, test=-7450.966) total time=   2.3s\n",
      "[CV 2/3] END max_depth=3, n_estimators=40, num_leaves=40;, score=(train=-4219.268, test=-1449.750) total time=   2.2s\n",
      "[CV 3/3] END max_depth=3, n_estimators=40, num_leaves=40;, score=(train=-3391.534, test=-2500.000) total time=   2.2s\n",
      "[CV 1/3] END max_depth=3, n_estimators=40, num_leaves=60;, score=(train=-1526.587, test=-7450.966) total time=   2.3s\n",
      "[CV 2/3] END max_depth=3, n_estimators=40, num_leaves=60;, score=(train=-4219.268, test=-1449.750) total time=   2.3s\n",
      "[CV 3/3] END max_depth=3, n_estimators=40, num_leaves=60;, score=(train=-3391.534, test=-2500.000) total time=   2.3s\n",
      "[CV 1/3] END max_depth=3, n_estimators=40, num_leaves=80;, score=(train=-1526.587, test=-7450.966) total time=   2.0s\n",
      "[CV 2/3] END max_depth=3, n_estimators=40, num_leaves=80;, score=(train=-4219.268, test=-1449.750) total time=   2.1s\n",
      "[CV 3/3] END max_depth=3, n_estimators=40, num_leaves=80;, score=(train=-3391.534, test=-2500.000) total time=   2.2s\n",
      "[CV 1/3] END max_depth=3, n_estimators=50, num_leaves=20;, score=(train=-1526.587, test=-7450.966) total time=   0.7s\n",
      "[CV 2/3] END max_depth=3, n_estimators=50, num_leaves=20;, score=(train=-4219.268, test=-1449.750) total time=   0.2s\n",
      "[CV 3/3] END max_depth=3, n_estimators=50, num_leaves=20;, score=(train=-3391.534, test=-2500.000) total time=   3.1s\n",
      "[CV 1/3] END max_depth=3, n_estimators=50, num_leaves=40;, score=(train=-1526.587, test=-7450.966) total time=   1.1s\n",
      "[CV 2/3] END max_depth=3, n_estimators=50, num_leaves=40;, score=(train=-4219.268, test=-1449.750) total time=   2.9s\n",
      "[CV 3/3] END max_depth=3, n_estimators=50, num_leaves=40;, score=(train=-3391.534, test=-2500.000) total time=   3.1s\n",
      "[CV 1/3] END max_depth=3, n_estimators=50, num_leaves=60;, score=(train=-1526.587, test=-7450.966) total time=   2.9s\n",
      "[CV 2/3] END max_depth=3, n_estimators=50, num_leaves=60;, score=(train=-4219.268, test=-1449.750) total time=   0.1s\n",
      "[CV 3/3] END max_depth=3, n_estimators=50, num_leaves=60;, score=(train=-3391.534, test=-2500.000) total time=   1.4s\n",
      "[CV 1/3] END max_depth=3, n_estimators=50, num_leaves=80;, score=(train=-1526.587, test=-7450.966) total time=   2.4s\n",
      "[CV 2/3] END max_depth=3, n_estimators=50, num_leaves=80;, score=(train=-4219.268, test=-1449.750) total time=   0.6s\n",
      "[CV 3/3] END max_depth=3, n_estimators=50, num_leaves=80;, score=(train=-3391.534, test=-2500.000) total time=   2.8s\n",
      "[CV 1/3] END max_depth=5, n_estimators=10, num_leaves=20;, score=(train=-1526.587, test=-7450.966) total time=   0.5s\n",
      "[CV 2/3] END max_depth=5, n_estimators=10, num_leaves=20;, score=(train=-4219.268, test=-1449.750) total time=   1.0s\n",
      "[CV 3/3] END max_depth=5, n_estimators=10, num_leaves=20;, score=(train=-3391.534, test=-2500.000) total time=   1.0s\n",
      "[CV 1/3] END max_depth=5, n_estimators=10, num_leaves=40;, score=(train=-1526.587, test=-7450.966) total time=   0.9s\n",
      "[CV 2/3] END max_depth=5, n_estimators=10, num_leaves=40;, score=(train=-4219.268, test=-1449.750) total time=   1.0s\n",
      "[CV 3/3] END max_depth=5, n_estimators=10, num_leaves=40;, score=(train=-3391.534, test=-2500.000) total time=   0.8s\n",
      "[CV 1/3] END max_depth=5, n_estimators=10, num_leaves=60;, score=(train=-1526.587, test=-7450.966) total time=   1.0s\n",
      "[CV 2/3] END max_depth=5, n_estimators=10, num_leaves=60;, score=(train=-4219.268, test=-1449.750) total time=   1.1s\n",
      "[CV 3/3] END max_depth=5, n_estimators=10, num_leaves=60;, score=(train=-3391.534, test=-2500.000) total time=   1.0s\n",
      "[CV 1/3] END max_depth=5, n_estimators=10, num_leaves=80;, score=(train=-1526.587, test=-7450.966) total time=   1.0s\n",
      "[CV 2/3] END max_depth=5, n_estimators=10, num_leaves=80;, score=(train=-4219.268, test=-1449.750) total time=   1.0s\n",
      "[CV 3/3] END max_depth=5, n_estimators=10, num_leaves=80;, score=(train=-3391.534, test=-2500.000) total time=   1.1s\n",
      "[CV 1/3] END max_depth=5, n_estimators=20, num_leaves=20;, score=(train=-1526.587, test=-7450.966) total time=   1.4s\n",
      "[CV 2/3] END max_depth=5, n_estimators=20, num_leaves=20;, score=(train=-4219.268, test=-1449.750) total time=   1.3s\n",
      "[CV 3/3] END max_depth=5, n_estimators=20, num_leaves=20;, score=(train=-3391.534, test=-2500.000) total time=   1.4s\n",
      "[CV 1/3] END max_depth=5, n_estimators=20, num_leaves=40;, score=(train=-1526.587, test=-7450.966) total time=   1.4s\n",
      "[CV 2/3] END max_depth=5, n_estimators=20, num_leaves=40;, score=(train=-4219.268, test=-1449.750) total time=   0.7s\n",
      "[CV 3/3] END max_depth=5, n_estimators=20, num_leaves=40;, score=(train=-3391.534, test=-2500.000) total time=   0.9s\n",
      "[CV 1/3] END max_depth=5, n_estimators=20, num_leaves=60;, score=(train=-1526.587, test=-7450.966) total time=   0.3s\n",
      "[CV 2/3] END max_depth=5, n_estimators=20, num_leaves=60;, score=(train=-4219.268, test=-1449.750) total time=   1.5s\n",
      "[CV 3/3] END max_depth=5, n_estimators=20, num_leaves=60;, score=(train=-3391.534, test=-2500.000) total time=   1.6s\n",
      "[CV 1/3] END max_depth=5, n_estimators=20, num_leaves=80;, score=(train=-1526.587, test=-7450.966) total time=   1.5s\n",
      "[CV 2/3] END max_depth=5, n_estimators=20, num_leaves=80;, score=(train=-4219.268, test=-1449.750) total time=   1.4s\n",
      "[CV 3/3] END max_depth=5, n_estimators=20, num_leaves=80;, score=(train=-3391.534, test=-2500.000) total time=   1.5s\n",
      "[CV 1/3] END max_depth=5, n_estimators=30, num_leaves=20;, score=(train=-1526.587, test=-7450.966) total time=   1.9s\n",
      "[CV 2/3] END max_depth=5, n_estimators=30, num_leaves=20;, score=(train=-4219.268, test=-1449.750) total time=   0.3s\n",
      "[CV 3/3] END max_depth=5, n_estimators=30, num_leaves=20;, score=(train=-3391.534, test=-2500.000) total time=   0.6s\n",
      "[CV 1/3] END max_depth=5, n_estimators=30, num_leaves=40;, score=(train=-1526.587, test=-7450.966) total time=   1.9s\n",
      "[CV 2/3] END max_depth=5, n_estimators=30, num_leaves=40;, score=(train=-4219.268, test=-1449.750) total time=   0.5s\n",
      "[CV 3/3] END max_depth=5, n_estimators=30, num_leaves=40;, score=(train=-3391.534, test=-2500.000) total time=   1.9s\n",
      "[CV 1/3] END max_depth=5, n_estimators=30, num_leaves=60;, score=(train=-1526.587, test=-7450.966) total time=   2.0s\n",
      "[CV 2/3] END max_depth=5, n_estimators=30, num_leaves=60;, score=(train=-4219.268, test=-1449.750) total time=   2.0s\n",
      "[CV 3/3] END max_depth=5, n_estimators=30, num_leaves=60;, score=(train=-3391.534, test=-2500.000) total time=   0.7s\n",
      "[CV 1/3] END max_depth=5, n_estimators=30, num_leaves=80;, score=(train=-1526.587, test=-7450.966) total time=   1.0s\n",
      "[CV 2/3] END max_depth=5, n_estimators=30, num_leaves=80;, score=(train=-4219.268, test=-1449.750) total time=   1.9s\n",
      "[CV 3/3] END max_depth=5, n_estimators=30, num_leaves=80;, score=(train=-3391.534, test=-2500.000) total time=   1.4s\n",
      "[CV 1/3] END max_depth=5, n_estimators=40, num_leaves=20;, score=(train=-1526.587, test=-7450.966) total time=   2.4s\n",
      "[CV 2/3] END max_depth=5, n_estimators=40, num_leaves=20;, score=(train=-4219.268, test=-1449.750) total time=   1.0s\n",
      "[CV 3/3] END max_depth=5, n_estimators=40, num_leaves=20;, score=(train=-3391.534, test=-2500.000) total time=   2.4s\n",
      "[CV 1/3] END max_depth=5, n_estimators=40, num_leaves=40;, score=(train=-1526.587, test=-7450.966) total time=   2.4s\n",
      "[CV 2/3] END max_depth=5, n_estimators=40, num_leaves=40;, score=(train=-4219.268, test=-1449.750) total time=   2.5s\n",
      "[CV 3/3] END max_depth=5, n_estimators=40, num_leaves=40;, score=(train=-3391.534, test=-2500.000) total time=   2.4s\n",
      "[CV 1/3] END max_depth=5, n_estimators=40, num_leaves=60;, score=(train=-1526.587, test=-7450.966) total time=   2.4s\n",
      "[CV 2/3] END max_depth=5, n_estimators=40, num_leaves=60;, score=(train=-4219.268, test=-1449.750) total time=   2.5s\n",
      "[CV 3/3] END max_depth=5, n_estimators=40, num_leaves=60;, score=(train=-3391.534, test=-2500.000) total time=   2.1s\n",
      "[CV 1/3] END max_depth=5, n_estimators=40, num_leaves=80;, score=(train=-1526.587, test=-7450.966) total time=   1.1s\n",
      "[CV 2/3] END max_depth=5, n_estimators=40, num_leaves=80;, score=(train=-4219.268, test=-1449.750) total time=   1.8s\n",
      "[CV 3/3] END max_depth=5, n_estimators=40, num_leaves=80;, score=(train=-3391.534, test=-2500.000) total time=   1.9s\n",
      "[CV 1/3] END max_depth=5, n_estimators=50, num_leaves=20;, score=(train=-1526.587, test=-7450.966) total time=   3.0s\n",
      "[CV 2/3] END max_depth=5, n_estimators=50, num_leaves=20;, score=(train=-4219.268, test=-1449.750) total time=   3.2s\n",
      "[CV 3/3] END max_depth=5, n_estimators=50, num_leaves=20;, score=(train=-3391.534, test=-2500.000) total time=   2.9s\n",
      "[CV 1/3] END max_depth=5, n_estimators=50, num_leaves=40;, score=(train=-1526.587, test=-7450.966) total time=   2.9s\n",
      "[CV 2/3] END max_depth=5, n_estimators=50, num_leaves=40;, score=(train=-4219.268, test=-1449.750) total time=   2.6s\n",
      "[CV 3/3] END max_depth=5, n_estimators=50, num_leaves=40;, score=(train=-3391.534, test=-2500.000) total time=   2.7s\n",
      "[CV 1/3] END max_depth=5, n_estimators=50, num_leaves=60;, score=(train=-1526.587, test=-7450.966) total time=   2.6s\n",
      "[CV 2/3] END max_depth=5, n_estimators=50, num_leaves=60;, score=(train=-4219.268, test=-1449.750) total time=   2.7s\n",
      "[CV 3/3] END max_depth=5, n_estimators=50, num_leaves=60;, score=(train=-3391.534, test=-2500.000) total time=   2.9s\n",
      "[CV 1/3] END max_depth=5, n_estimators=50, num_leaves=80;, score=(train=-1526.587, test=-7450.966) total time=   2.7s\n",
      "[CV 2/3] END max_depth=5, n_estimators=50, num_leaves=80;, score=(train=-4219.268, test=-1449.750) total time=   3.0s\n",
      "[CV 3/3] END max_depth=5, n_estimators=50, num_leaves=80;, score=(train=-3391.534, test=-2500.000) total time=   3.3s\n",
      "[CV 1/3] END max_depth=7, n_estimators=10, num_leaves=20;, score=(train=-1526.587, test=-7450.966) total time=   1.2s\n",
      "[CV 2/3] END max_depth=7, n_estimators=10, num_leaves=20;, score=(train=-4219.268, test=-1449.750) total time=   1.2s\n",
      "[CV 3/3] END max_depth=7, n_estimators=10, num_leaves=20;, score=(train=-3391.534, test=-2500.000) total time=   1.1s\n",
      "[CV 1/3] END max_depth=7, n_estimators=10, num_leaves=40;, score=(train=-1526.587, test=-7450.966) total time=   1.0s\n",
      "[CV 2/3] END max_depth=7, n_estimators=10, num_leaves=40;, score=(train=-4219.268, test=-1449.750) total time=   0.9s\n",
      "[CV 3/3] END max_depth=7, n_estimators=10, num_leaves=40;, score=(train=-3391.534, test=-2500.000) total time=   1.1s\n",
      "[CV 1/3] END max_depth=7, n_estimators=10, num_leaves=60;, score=(train=-1526.587, test=-7450.966) total time=   1.1s\n",
      "[CV 2/3] END max_depth=7, n_estimators=10, num_leaves=60;, score=(train=-4219.268, test=-1449.750) total time=   0.7s\n",
      "[CV 3/3] END max_depth=7, n_estimators=10, num_leaves=60;, score=(train=-3391.534, test=-2500.000) total time=   1.0s\n",
      "[CV 1/3] END max_depth=7, n_estimators=10, num_leaves=80;, score=(train=-1526.587, test=-7450.966) total time=   1.0s\n",
      "[CV 2/3] END max_depth=7, n_estimators=10, num_leaves=80;, score=(train=-4219.268, test=-1449.750) total time=   1.0s\n",
      "[CV 3/3] END max_depth=7, n_estimators=10, num_leaves=80;, score=(train=-3391.534, test=-2500.000) total time=   1.0s\n",
      "[CV 1/3] END max_depth=7, n_estimators=20, num_leaves=20;, score=(train=-1526.587, test=-7450.966) total time=   1.5s\n",
      "[CV 2/3] END max_depth=7, n_estimators=20, num_leaves=20;, score=(train=-4219.268, test=-1449.750) total time=   0.4s\n",
      "[CV 3/3] END max_depth=7, n_estimators=20, num_leaves=20;, score=(train=-3391.534, test=-2500.000) total time=   1.4s\n",
      "[CV 1/3] END max_depth=7, n_estimators=20, num_leaves=40;, score=(train=-1526.587, test=-7450.966) total time=   1.5s\n",
      "[CV 2/3] END max_depth=7, n_estimators=20, num_leaves=40;, score=(train=-4219.268, test=-1449.750) total time=   1.5s\n",
      "[CV 3/3] END max_depth=7, n_estimators=20, num_leaves=40;, score=(train=-3391.534, test=-2500.000) total time=   1.5s\n",
      "[CV 1/3] END max_depth=7, n_estimators=20, num_leaves=60;, score=(train=-1526.587, test=-7450.966) total time=   0.8s\n",
      "[CV 2/3] END max_depth=7, n_estimators=20, num_leaves=60;, score=(train=-4219.268, test=-1449.750) total time=   1.0s\n",
      "[CV 3/3] END max_depth=7, n_estimators=20, num_leaves=60;, score=(train=-3391.534, test=-2500.000) total time=   1.5s\n",
      "[CV 1/3] END max_depth=7, n_estimators=20, num_leaves=80;, score=(train=-1526.587, test=-7450.966) total time=   1.5s\n",
      "[CV 2/3] END max_depth=7, n_estimators=20, num_leaves=80;, score=(train=-4219.268, test=-1449.750) total time=   1.4s\n",
      "[CV 3/3] END max_depth=7, n_estimators=20, num_leaves=80;, score=(train=-3391.534, test=-2500.000) total time=   1.6s\n",
      "[CV 1/3] END max_depth=7, n_estimators=30, num_leaves=20;, score=(train=-1526.587, test=-7450.966) total time=   1.9s\n",
      "[CV 2/3] END max_depth=7, n_estimators=30, num_leaves=20;, score=(train=-4219.268, test=-1449.750) total time=   1.6s\n",
      "[CV 3/3] END max_depth=7, n_estimators=30, num_leaves=20;, score=(train=-3391.534, test=-2500.000) total time=   0.4s\n",
      "[CV 1/3] END max_depth=7, n_estimators=30, num_leaves=40;, score=(train=-1526.587, test=-7450.966) total time=   0.8s\n",
      "[CV 2/3] END max_depth=7, n_estimators=30, num_leaves=40;, score=(train=-4219.268, test=-1449.750) total time=   1.8s\n",
      "[CV 3/3] END max_depth=7, n_estimators=30, num_leaves=40;, score=(train=-3391.534, test=-2500.000) total time=   0.2s\n",
      "[CV 1/3] END max_depth=7, n_estimators=30, num_leaves=60;, score=(train=-1526.587, test=-7450.966) total time=   1.6s\n",
      "[CV 2/3] END max_depth=7, n_estimators=30, num_leaves=60;, score=(train=-4219.268, test=-1449.750) total time=   2.0s\n",
      "[CV 3/3] END max_depth=7, n_estimators=30, num_leaves=60;, score=(train=-3391.534, test=-2500.000) total time=   1.9s\n",
      "[CV 1/3] END max_depth=7, n_estimators=30, num_leaves=80;, score=(train=-1526.587, test=-7450.966) total time=   1.8s\n",
      "[CV 2/3] END max_depth=7, n_estimators=30, num_leaves=80;, score=(train=-4219.268, test=-1449.750) total time=   1.9s\n",
      "[CV 3/3] END max_depth=7, n_estimators=30, num_leaves=80;, score=(train=-3391.534, test=-2500.000) total time=   1.8s\n",
      "[CV 1/3] END max_depth=7, n_estimators=40, num_leaves=20;, score=(train=-1526.587, test=-7450.966) total time=   2.2s\n",
      "[CV 2/3] END max_depth=7, n_estimators=40, num_leaves=20;, score=(train=-4219.268, test=-1449.750) total time=   2.2s\n",
      "[CV 3/3] END max_depth=7, n_estimators=40, num_leaves=20;, score=(train=-3391.534, test=-2500.000) total time=   2.2s\n",
      "[CV 1/3] END max_depth=7, n_estimators=40, num_leaves=40;, score=(train=-1526.587, test=-7450.966) total time=   2.3s\n",
      "[CV 2/3] END max_depth=7, n_estimators=40, num_leaves=40;, score=(train=-4219.268, test=-1449.750) total time=   2.4s\n",
      "[CV 3/3] END max_depth=7, n_estimators=40, num_leaves=40;, score=(train=-3391.534, test=-2500.000) total time=   2.2s\n",
      "[CV 1/3] END max_depth=7, n_estimators=40, num_leaves=60;, score=(train=-1526.587, test=-7450.966) total time=   2.4s\n",
      "[CV 2/3] END max_depth=7, n_estimators=40, num_leaves=60;, score=(train=-4219.268, test=-1449.750) total time=   2.5s\n",
      "[CV 3/3] END max_depth=7, n_estimators=40, num_leaves=60;, score=(train=-3391.534, test=-2500.000) total time=   2.4s\n",
      "[CV 1/3] END max_depth=7, n_estimators=40, num_leaves=80;, score=(train=-1526.587, test=-7450.966) total time=   2.4s\n",
      "[CV 2/3] END max_depth=7, n_estimators=40, num_leaves=80;, score=(train=-4219.268, test=-1449.750) total time=   2.2s\n",
      "[CV 3/3] END max_depth=7, n_estimators=40, num_leaves=80;, score=(train=-3391.534, test=-2500.000) total time=   0.8s\n",
      "[CV 1/3] END max_depth=7, n_estimators=50, num_leaves=20;, score=(train=-1526.587, test=-7450.966) total time=   2.9s\n",
      "[CV 2/3] END max_depth=7, n_estimators=50, num_leaves=20;, score=(train=-4219.268, test=-1449.750) total time=   1.4s\n",
      "[CV 3/3] END max_depth=7, n_estimators=50, num_leaves=20;, score=(train=-3391.534, test=-2500.000) total time=   3.1s\n",
      "[CV 1/3] END max_depth=7, n_estimators=50, num_leaves=40;, score=(train=-1526.587, test=-7450.966) total time=   3.0s\n",
      "[CV 2/3] END max_depth=7, n_estimators=50, num_leaves=40;, score=(train=-4219.268, test=-1449.750) total time=   2.9s\n",
      "[CV 3/3] END max_depth=7, n_estimators=50, num_leaves=40;, score=(train=-3391.534, test=-2500.000) total time=   2.6s\n",
      "[CV 1/3] END max_depth=7, n_estimators=50, num_leaves=60;, score=(train=-1526.587, test=-7450.966) total time=   1.9s\n",
      "[CV 2/3] END max_depth=7, n_estimators=50, num_leaves=60;, score=(train=-4219.268, test=-1449.750) total time=   2.9s\n",
      "[CV 3/3] END max_depth=7, n_estimators=50, num_leaves=60;, score=(train=-3391.534, test=-2500.000) total time=   2.8s\n",
      "[CV 1/3] END max_depth=7, n_estimators=50, num_leaves=80;, score=(train=-1526.587, test=-7450.966) total time=   2.2s\n",
      "[CV 2/3] END max_depth=7, n_estimators=50, num_leaves=80;, score=(train=-4219.268, test=-1449.750) total time=   0.6s\n",
      "[CV 3/3] END max_depth=7, n_estimators=50, num_leaves=80;, score=(train=-3391.534, test=-2500.000) total time=   2.8s\n",
      "[CV 1/3] END max_depth=9, n_estimators=10, num_leaves=20;, score=(train=-1526.587, test=-7450.966) total time=   1.0s\n",
      "[CV 2/3] END max_depth=9, n_estimators=10, num_leaves=20;, score=(train=-4219.268, test=-1449.750) total time=   1.0s\n",
      "[CV 3/3] END max_depth=9, n_estimators=10, num_leaves=20;, score=(train=-3391.534, test=-2500.000) total time=   0.9s\n",
      "[CV 1/3] END max_depth=9, n_estimators=10, num_leaves=40;, score=(train=-1526.587, test=-7450.966) total time=   1.0s\n",
      "[CV 2/3] END max_depth=9, n_estimators=10, num_leaves=40;, score=(train=-4219.268, test=-1449.750) total time=   0.5s\n",
      "[CV 3/3] END max_depth=9, n_estimators=10, num_leaves=40;, score=(train=-3391.534, test=-2500.000) total time=   1.0s\n",
      "[CV 1/3] END max_depth=9, n_estimators=10, num_leaves=60;, score=(train=-1526.587, test=-7450.966) total time=   1.0s\n",
      "[CV 2/3] END max_depth=9, n_estimators=10, num_leaves=60;, score=(train=-4219.268, test=-1449.750) total time=   1.0s\n",
      "[CV 3/3] END max_depth=9, n_estimators=10, num_leaves=60;, score=(train=-3391.534, test=-2500.000) total time=   1.1s\n",
      "[CV 1/3] END max_depth=9, n_estimators=10, num_leaves=80;, score=(train=-1526.587, test=-7450.966) total time=   0.8s\n",
      "[CV 2/3] END max_depth=9, n_estimators=10, num_leaves=80;, score=(train=-4219.268, test=-1449.750) total time=   0.6s\n",
      "[CV 3/3] END max_depth=9, n_estimators=10, num_leaves=80;, score=(train=-3391.534, test=-2500.000) total time=   1.2s\n",
      "[CV 1/3] END max_depth=9, n_estimators=20, num_leaves=20;, score=(train=-1526.587, test=-7450.966) total time=   1.8s\n",
      "[CV 2/3] END max_depth=9, n_estimators=20, num_leaves=20;, score=(train=-4219.268, test=-1449.750) total time=   1.7s\n",
      "[CV 3/3] END max_depth=9, n_estimators=20, num_leaves=20;, score=(train=-3391.534, test=-2500.000) total time=   1.7s\n",
      "[CV 1/3] END max_depth=9, n_estimators=20, num_leaves=40;, score=(train=-1526.587, test=-7450.966) total time=   1.5s\n",
      "[CV 2/3] END max_depth=9, n_estimators=20, num_leaves=40;, score=(train=-4219.268, test=-1449.750) total time=   1.7s\n",
      "[CV 3/3] END max_depth=9, n_estimators=20, num_leaves=40;, score=(train=-3391.534, test=-2500.000) total time=   1.5s\n",
      "[CV 1/3] END max_depth=9, n_estimators=20, num_leaves=60;, score=(train=-1526.587, test=-7450.966) total time=   1.5s\n",
      "[CV 2/3] END max_depth=9, n_estimators=20, num_leaves=60;, score=(train=-4219.268, test=-1449.750) total time=   0.9s\n",
      "[CV 3/3] END max_depth=9, n_estimators=20, num_leaves=60;, score=(train=-3391.534, test=-2500.000) total time=   1.5s\n",
      "[CV 1/3] END max_depth=9, n_estimators=20, num_leaves=80;, score=(train=-1526.587, test=-7450.966) total time=   1.3s\n",
      "[CV 2/3] END max_depth=9, n_estimators=20, num_leaves=80;, score=(train=-4219.268, test=-1449.750) total time=   1.4s\n",
      "[CV 3/3] END max_depth=9, n_estimators=20, num_leaves=80;, score=(train=-3391.534, test=-2500.000) total time=   1.4s\n",
      "[CV 1/3] END max_depth=9, n_estimators=30, num_leaves=20;, score=(train=-1526.587, test=-7450.966) total time=   1.9s\n",
      "[CV 2/3] END max_depth=9, n_estimators=30, num_leaves=20;, score=(train=-4219.268, test=-1449.750) total time=   0.3s\n",
      "[CV 3/3] END max_depth=9, n_estimators=30, num_leaves=20;, score=(train=-3391.534, test=-2500.000) total time=   1.7s\n",
      "[CV 1/3] END max_depth=9, n_estimators=30, num_leaves=40;, score=(train=-1526.587, test=-7450.966) total time=   1.9s\n",
      "[CV 2/3] END max_depth=9, n_estimators=30, num_leaves=40;, score=(train=-4219.268, test=-1449.750) total time=   2.1s\n",
      "[CV 3/3] END max_depth=9, n_estimators=30, num_leaves=40;, score=(train=-3391.534, test=-2500.000) total time=   1.9s\n",
      "[CV 1/3] END max_depth=9, n_estimators=30, num_leaves=60;, score=(train=-1526.587, test=-7450.966) total time=   1.9s\n",
      "[CV 2/3] END max_depth=9, n_estimators=30, num_leaves=60;, score=(train=-4219.268, test=-1449.750) total time=   2.2s\n",
      "[CV 3/3] END max_depth=9, n_estimators=30, num_leaves=60;, score=(train=-3391.534, test=-2500.000) total time=   2.0s\n",
      "[CV 1/3] END max_depth=9, n_estimators=30, num_leaves=80;, score=(train=-1526.587, test=-7450.966) total time=   1.9s\n",
      "[CV 2/3] END max_depth=9, n_estimators=30, num_leaves=80;, score=(train=-4219.268, test=-1449.750) total time=   2.0s\n",
      "[CV 3/3] END max_depth=9, n_estimators=30, num_leaves=80;, score=(train=-3391.534, test=-2500.000) total time=   1.7s\n",
      "[CV 1/3] END max_depth=9, n_estimators=40, num_leaves=20;, score=(train=-1526.587, test=-7450.966) total time=   0.8s\n",
      "[CV 2/3] END max_depth=9, n_estimators=40, num_leaves=20;, score=(train=-4219.268, test=-1449.750) total time=   2.4s\n",
      "[CV 3/3] END max_depth=9, n_estimators=40, num_leaves=20;, score=(train=-3391.534, test=-2500.000) total time=   0.8s\n",
      "[CV 1/3] END max_depth=9, n_estimators=40, num_leaves=40;, score=(train=-1526.587, test=-7450.966) total time=   0.3s\n",
      "[CV 2/3] END max_depth=9, n_estimators=40, num_leaves=40;, score=(train=-4219.268, test=-1449.750) total time=   1.5s\n",
      "[CV 3/3] END max_depth=9, n_estimators=40, num_leaves=40;, score=(train=-3391.534, test=-2500.000) total time=   2.5s\n",
      "[CV 1/3] END max_depth=9, n_estimators=40, num_leaves=60;, score=(train=-1526.587, test=-7450.966) total time=   2.5s\n",
      "[CV 2/3] END max_depth=9, n_estimators=40, num_leaves=60;, score=(train=-4219.268, test=-1449.750) total time=   2.5s\n",
      "[CV 3/3] END max_depth=9, n_estimators=40, num_leaves=60;, score=(train=-3391.534, test=-2500.000) total time=   2.5s\n",
      "[CV 1/3] END max_depth=9, n_estimators=40, num_leaves=80;, score=(train=-1526.587, test=-7450.966) total time=   0.9s\n",
      "[CV 2/3] END max_depth=9, n_estimators=40, num_leaves=80;, score=(train=-4219.268, test=-1449.750) total time=   2.4s\n",
      "[CV 3/3] END max_depth=9, n_estimators=40, num_leaves=80;, score=(train=-3391.534, test=-2500.000) total time=   2.5s\n",
      "[CV 1/3] END max_depth=9, n_estimators=50, num_leaves=20;, score=(train=-1526.587, test=-7450.966) total time=   2.6s\n",
      "[CV 2/3] END max_depth=9, n_estimators=50, num_leaves=20;, score=(train=-4219.268, test=-1449.750) total time=   2.1s\n",
      "[CV 3/3] END max_depth=9, n_estimators=50, num_leaves=20;, score=(train=-3391.534, test=-2500.000) total time=   2.8s\n",
      "[CV 1/3] END max_depth=9, n_estimators=50, num_leaves=40;, score=(train=-1526.587, test=-7450.966) total time=   1.1s\n",
      "[CV 2/3] END max_depth=9, n_estimators=50, num_leaves=40;, score=(train=-4219.268, test=-1449.750) total time=   2.8s\n",
      "[CV 3/3] END max_depth=9, n_estimators=50, num_leaves=40;, score=(train=-3391.534, test=-2500.000) total time=   1.3s\n",
      "[CV 1/3] END max_depth=9, n_estimators=50, num_leaves=60;, score=(train=-1526.587, test=-7450.966) total time=   0.4s\n",
      "[CV 2/3] END max_depth=9, n_estimators=50, num_leaves=60;, score=(train=-4219.268, test=-1449.750) total time=   2.7s\n",
      "[CV 3/3] END max_depth=9, n_estimators=50, num_leaves=60;, score=(train=-3391.534, test=-2500.000) total time=   2.6s\n",
      "[CV 1/3] END max_depth=9, n_estimators=50, num_leaves=80;, score=(train=-1526.587, test=-7450.966) total time=   2.7s\n",
      "[CV 2/3] END max_depth=9, n_estimators=50, num_leaves=80;, score=(train=-4219.268, test=-1449.750) total time=   3.0s\n",
      "[CV 3/3] END max_depth=9, n_estimators=50, num_leaves=80;, score=(train=-3391.534, test=-2500.000) total time=   2.8s\n",
      "----------\n",
      "iter: 1\n",
      "n_candidates: 34\n",
      "n_resources: 18\n",
      "Fitting 3 folds for each of 34 candidates, totalling 102 fits\n",
      "[CV 1/3] END max_depth=1, n_estimators=20, num_leaves=60;, score=(train=-4319.339, test=-6777.127) total time=   1.5s\n",
      "[CV 2/3] END max_depth=1, n_estimators=20, num_leaves=60;, score=(train=-3237.558, test=-4167.509) total time=   1.6s\n",
      "[CV 3/3] END max_depth=1, n_estimators=20, num_leaves=60;, score=(train=-4821.327, test=-4921.807) total time=   1.4s\n",
      "[CV 1/3] END max_depth=1, n_estimators=20, num_leaves=40;, score=(train=-4319.339, test=-6777.127) total time=   1.3s\n",
      "[CV 2/3] END max_depth=1, n_estimators=20, num_leaves=40;, score=(train=-3237.558, test=-4167.509) total time=   1.4s\n",
      "[CV 3/3] END max_depth=1, n_estimators=20, num_leaves=40;, score=(train=-4821.327, test=-4921.807) total time=   1.4s\n",
      "[CV 1/3] END max_depth=1, n_estimators=20, num_leaves=20;, score=(train=-4319.339, test=-6777.127) total time=   1.4s\n",
      "[CV 2/3] END max_depth=1, n_estimators=20, num_leaves=20;, score=(train=-3237.558, test=-4167.509) total time=   1.3s\n",
      "[CV 3/3] END max_depth=1, n_estimators=20, num_leaves=20;, score=(train=-4821.327, test=-4921.807) total time=   1.4s\n",
      "[CV 1/3] END max_depth=1, n_estimators=10, num_leaves=80;, score=(train=-4319.339, test=-6777.127) total time=   1.0s\n",
      "[CV 2/3] END max_depth=1, n_estimators=10, num_leaves=80;, score=(train=-3237.558, test=-4167.509) total time=   1.0s\n",
      "[CV 3/3] END max_depth=1, n_estimators=10, num_leaves=80;, score=(train=-4821.327, test=-4921.807) total time=   1.0s\n",
      "[CV 1/3] END max_depth=1, n_estimators=10, num_leaves=60;, score=(train=-4319.339, test=-6777.127) total time=   1.0s\n",
      "[CV 2/3] END max_depth=1, n_estimators=10, num_leaves=60;, score=(train=-3237.558, test=-4167.509) total time=   0.9s\n",
      "[CV 3/3] END max_depth=1, n_estimators=10, num_leaves=60;, score=(train=-4821.327, test=-4921.807) total time=   0.9s\n",
      "[CV 1/3] END max_depth=1, n_estimators=10, num_leaves=40;, score=(train=-4319.339, test=-6777.127) total time=   0.9s\n",
      "[CV 2/3] END max_depth=1, n_estimators=10, num_leaves=40;, score=(train=-3237.558, test=-4167.509) total time=   0.9s\n",
      "[CV 3/3] END max_depth=1, n_estimators=10, num_leaves=40;, score=(train=-4821.327, test=-4921.807) total time=   1.0s\n",
      "[CV 1/3] END max_depth=3, n_estimators=10, num_leaves=60;, score=(train=-4319.339, test=-6777.127) total time=   1.0s\n",
      "[CV 2/3] END max_depth=3, n_estimators=10, num_leaves=60;, score=(train=-3237.558, test=-4167.509) total time=   1.0s\n",
      "[CV 3/3] END max_depth=3, n_estimators=10, num_leaves=60;, score=(train=-4821.327, test=-4921.807) total time=   1.0s\n",
      "[CV 1/3] END max_depth=3, n_estimators=10, num_leaves=80;, score=(train=-4319.339, test=-6777.127) total time=   0.9s\n",
      "[CV 2/3] END max_depth=3, n_estimators=10, num_leaves=80;, score=(train=-3237.558, test=-4167.509) total time=   0.9s\n",
      "[CV 3/3] END max_depth=3, n_estimators=10, num_leaves=80;, score=(train=-4821.327, test=-4921.807) total time=   1.0s\n",
      "[CV 1/3] END max_depth=3, n_estimators=20, num_leaves=20;, score=(train=-4319.339, test=-6777.127) total time=   1.6s\n",
      "[CV 2/3] END max_depth=3, n_estimators=20, num_leaves=20;, score=(train=-3237.558, test=-4167.509) total time=   1.7s\n",
      "[CV 3/3] END max_depth=3, n_estimators=20, num_leaves=20;, score=(train=-4821.327, test=-4921.807) total time=   1.6s\n",
      "[CV 1/3] END max_depth=3, n_estimators=20, num_leaves=40;, score=(train=-4319.339, test=-6777.127) total time=   1.4s\n",
      "[CV 2/3] END max_depth=3, n_estimators=20, num_leaves=40;, score=(train=-3237.558, test=-4167.509) total time=   1.4s\n",
      "[CV 3/3] END max_depth=3, n_estimators=20, num_leaves=40;, score=(train=-4821.327, test=-4921.807) total time=   0.9s\n",
      "[CV 1/3] END max_depth=5, n_estimators=20, num_leaves=80;, score=(train=-4319.339, test=-6777.127) total time=   1.4s\n",
      "[CV 2/3] END max_depth=5, n_estimators=20, num_leaves=80;, score=(train=-3237.558, test=-4167.509) total time=   1.0s\n",
      "[CV 3/3] END max_depth=5, n_estimators=20, num_leaves=80;, score=(train=-4821.327, test=-4921.807) total time=   1.5s\n",
      "[CV 1/3] END max_depth=5, n_estimators=20, num_leaves=60;, score=(train=-4319.339, test=-6777.127) total time=   1.5s\n",
      "[CV 2/3] END max_depth=5, n_estimators=20, num_leaves=60;, score=(train=-3237.558, test=-4167.509) total time=   1.4s\n",
      "[CV 3/3] END max_depth=5, n_estimators=20, num_leaves=60;, score=(train=-4821.327, test=-4921.807) total time=   1.4s\n",
      "[CV 1/3] END max_depth=5, n_estimators=20, num_leaves=40;, score=(train=-4319.339, test=-6777.127) total time=   0.9s\n",
      "[CV 2/3] END max_depth=5, n_estimators=20, num_leaves=40;, score=(train=-3237.558, test=-4167.509) total time=   1.5s\n",
      "[CV 3/3] END max_depth=5, n_estimators=20, num_leaves=40;, score=(train=-4821.327, test=-4921.807) total time=   1.1s\n",
      "[CV 1/3] END max_depth=5, n_estimators=20, num_leaves=20;, score=(train=-4319.339, test=-6777.127) total time=   1.5s\n",
      "[CV 2/3] END max_depth=5, n_estimators=20, num_leaves=20;, score=(train=-3237.558, test=-4167.509) total time=   1.4s\n",
      "[CV 3/3] END max_depth=5, n_estimators=20, num_leaves=20;, score=(train=-4821.327, test=-4921.807) total time=   1.5s\n",
      "[CV 1/3] END max_depth=5, n_estimators=10, num_leaves=80;, score=(train=-4319.339, test=-6777.127) total time=   1.1s\n",
      "[CV 2/3] END max_depth=5, n_estimators=10, num_leaves=80;, score=(train=-3237.558, test=-4167.509) total time=   1.0s\n",
      "[CV 3/3] END max_depth=5, n_estimators=10, num_leaves=80;, score=(train=-4821.327, test=-4921.807) total time=   1.0s\n",
      "[CV 1/3] END max_depth=5, n_estimators=10, num_leaves=60;, score=(train=-4319.339, test=-6777.127) total time=   1.0s\n",
      "[CV 2/3] END max_depth=5, n_estimators=10, num_leaves=60;, score=(train=-3237.558, test=-4167.509) total time=   1.0s\n",
      "[CV 3/3] END max_depth=5, n_estimators=10, num_leaves=60;, score=(train=-4821.327, test=-4921.807) total time=   0.2s\n",
      "[CV 1/3] END max_depth=5, n_estimators=10, num_leaves=40;, score=(train=-4319.339, test=-6777.127) total time=   1.0s\n",
      "[CV 2/3] END max_depth=5, n_estimators=10, num_leaves=40;, score=(train=-3237.558, test=-4167.509) total time=   1.2s\n",
      "[CV 3/3] END max_depth=5, n_estimators=10, num_leaves=40;, score=(train=-4821.327, test=-4921.807) total time=   0.1s\n",
      "[CV 1/3] END max_depth=5, n_estimators=10, num_leaves=20;, score=(train=-4319.339, test=-6777.127) total time=   1.1s\n",
      "[CV 2/3] END max_depth=5, n_estimators=10, num_leaves=20;, score=(train=-3237.558, test=-4167.509) total time=   1.0s\n",
      "[CV 3/3] END max_depth=5, n_estimators=10, num_leaves=20;, score=(train=-4821.327, test=-4921.807) total time=   1.0s\n",
      "[CV 1/3] END max_depth=3, n_estimators=50, num_leaves=80;, score=(train=-4319.339, test=-6777.127) total time=   2.4s\n",
      "[CV 2/3] END max_depth=3, n_estimators=50, num_leaves=80;, score=(train=-3237.558, test=-4167.509) total time=   1.4s\n",
      "[CV 3/3] END max_depth=3, n_estimators=50, num_leaves=80;, score=(train=-4821.327, test=-4921.807) total time=   2.8s\n",
      "[CV 1/3] END max_depth=3, n_estimators=50, num_leaves=60;, score=(train=-4319.339, test=-6777.127) total time=   1.7s\n",
      "[CV 2/3] END max_depth=3, n_estimators=50, num_leaves=60;, score=(train=-3237.558, test=-4167.509) total time=   1.9s\n",
      "[CV 3/3] END max_depth=3, n_estimators=50, num_leaves=60;, score=(train=-4821.327, test=-4921.807) total time=   2.3s\n",
      "[CV 1/3] END max_depth=9, n_estimators=50, num_leaves=60;, score=(train=-4319.339, test=-6777.127) total time=   0.2s\n",
      "[CV 2/3] END max_depth=9, n_estimators=50, num_leaves=60;, score=(train=-3237.558, test=-4167.509) total time=   2.9s\n",
      "[CV 3/3] END max_depth=9, n_estimators=50, num_leaves=60;, score=(train=-4821.327, test=-4921.807) total time=   2.9s\n",
      "[CV 1/3] END max_depth=3, n_estimators=50, num_leaves=40;, score=(train=-4319.339, test=-6777.127) total time=   2.3s\n",
      "[CV 2/3] END max_depth=3, n_estimators=50, num_leaves=40;, score=(train=-3237.558, test=-4167.509) total time=   2.7s\n",
      "[CV 3/3] END max_depth=3, n_estimators=50, num_leaves=40;, score=(train=-4821.327, test=-4921.807) total time=   3.0s\n",
      "[CV 1/3] END max_depth=3, n_estimators=40, num_leaves=80;, score=(train=-4319.339, test=-6777.127) total time=   1.8s\n",
      "[CV 2/3] END max_depth=3, n_estimators=40, num_leaves=80;, score=(train=-3237.558, test=-4167.509) total time=   2.5s\n",
      "[CV 3/3] END max_depth=3, n_estimators=40, num_leaves=80;, score=(train=-4821.327, test=-4921.807) total time=   2.5s\n",
      "[CV 1/3] END max_depth=3, n_estimators=40, num_leaves=60;, score=(train=-4319.339, test=-6777.127) total time=   2.4s\n",
      "[CV 2/3] END max_depth=3, n_estimators=40, num_leaves=60;, score=(train=-3237.558, test=-4167.509) total time=   2.5s\n",
      "[CV 3/3] END max_depth=3, n_estimators=40, num_leaves=60;, score=(train=-4821.327, test=-4921.807) total time=   2.2s\n",
      "[CV 1/3] END max_depth=3, n_estimators=40, num_leaves=40;, score=(train=-4319.339, test=-6777.127) total time=   2.4s\n",
      "[CV 2/3] END max_depth=3, n_estimators=40, num_leaves=40;, score=(train=-3237.558, test=-4167.509) total time=   2.4s\n",
      "[CV 3/3] END max_depth=3, n_estimators=40, num_leaves=40;, score=(train=-4821.327, test=-4921.807) total time=   1.2s\n",
      "[CV 1/3] END max_depth=3, n_estimators=40, num_leaves=20;, score=(train=-4319.339, test=-6777.127) total time=   2.7s\n",
      "[CV 2/3] END max_depth=3, n_estimators=40, num_leaves=20;, score=(train=-3237.558, test=-4167.509) total time=   2.3s\n",
      "[CV 3/3] END max_depth=3, n_estimators=40, num_leaves=20;, score=(train=-4821.327, test=-4921.807) total time=   2.5s\n",
      "[CV 1/3] END max_depth=3, n_estimators=30, num_leaves=80;, score=(train=-4319.339, test=-6777.127) total time=   1.8s\n",
      "[CV 2/3] END max_depth=3, n_estimators=30, num_leaves=80;, score=(train=-3237.558, test=-4167.509) total time=   1.8s\n",
      "[CV 3/3] END max_depth=3, n_estimators=30, num_leaves=80;, score=(train=-4821.327, test=-4921.807) total time=   1.8s\n",
      "[CV 1/3] END max_depth=3, n_estimators=30, num_leaves=60;, score=(train=-4319.339, test=-6777.127) total time=   1.8s\n",
      "[CV 2/3] END max_depth=3, n_estimators=30, num_leaves=60;, score=(train=-3237.558, test=-4167.509) total time=   1.9s\n",
      "[CV 3/3] END max_depth=3, n_estimators=30, num_leaves=60;, score=(train=-4821.327, test=-4921.807) total time=   1.8s\n",
      "[CV 1/3] END max_depth=3, n_estimators=30, num_leaves=40;, score=(train=-4319.339, test=-6777.127) total time=   1.9s\n",
      "[CV 2/3] END max_depth=3, n_estimators=30, num_leaves=40;, score=(train=-3237.558, test=-4167.509) total time=   1.7s\n",
      "[CV 3/3] END max_depth=3, n_estimators=30, num_leaves=40;, score=(train=-4821.327, test=-4921.807) total time=   1.8s\n",
      "[CV 1/3] END max_depth=3, n_estimators=30, num_leaves=20;, score=(train=-4319.339, test=-6777.127) total time=   1.8s\n",
      "[CV 2/3] END max_depth=3, n_estimators=30, num_leaves=20;, score=(train=-3237.558, test=-4167.509) total time=   1.8s\n",
      "[CV 3/3] END max_depth=3, n_estimators=30, num_leaves=20;, score=(train=-4821.327, test=-4921.807) total time=   1.8s\n",
      "[CV 1/3] END max_depth=3, n_estimators=20, num_leaves=80;, score=(train=-4319.339, test=-6777.127) total time=   1.4s\n",
      "[CV 2/3] END max_depth=3, n_estimators=20, num_leaves=80;, score=(train=-3237.558, test=-4167.509) total time=   1.4s\n",
      "[CV 3/3] END max_depth=3, n_estimators=20, num_leaves=80;, score=(train=-4821.327, test=-4921.807) total time=   1.4s\n",
      "[CV 1/3] END max_depth=3, n_estimators=20, num_leaves=60;, score=(train=-4319.339, test=-6777.127) total time=   1.5s\n",
      "[CV 2/3] END max_depth=3, n_estimators=20, num_leaves=60;, score=(train=-3237.558, test=-4167.509) total time=   1.8s\n",
      "[CV 3/3] END max_depth=3, n_estimators=20, num_leaves=60;, score=(train=-4821.327, test=-4921.807) total time=   1.7s\n",
      "[CV 1/3] END max_depth=3, n_estimators=50, num_leaves=20;, score=(train=-4319.339, test=-6777.127) total time=   2.9s\n",
      "[CV 2/3] END max_depth=3, n_estimators=50, num_leaves=20;, score=(train=-3237.558, test=-4167.509) total time=   2.6s\n",
      "[CV 3/3] END max_depth=3, n_estimators=50, num_leaves=20;, score=(train=-4821.327, test=-4921.807) total time=   2.7s\n",
      "[CV 1/3] END max_depth=9, n_estimators=50, num_leaves=80;, score=(train=-4319.339, test=-6777.127) total time=   2.7s\n",
      "[CV 2/3] END max_depth=9, n_estimators=50, num_leaves=80;, score=(train=-3237.558, test=-4167.509) total time=   2.6s\n",
      "[CV 3/3] END max_depth=9, n_estimators=50, num_leaves=80;, score=(train=-4821.327, test=-4921.807) total time=   2.8s\n",
      "----------\n",
      "iter: 2\n",
      "n_candidates: 12\n",
      "n_resources: 54\n",
      "Fitting 3 folds for each of 12 candidates, totalling 36 fits\n",
      "[CV 1/3] END max_depth=1, n_estimators=10, num_leaves=40;, score=(train=-4653.634, test=-5195.200) total time=   1.3s\n",
      "[CV 2/3] END max_depth=1, n_estimators=10, num_leaves=40;, score=(train=-4169.148, test=-4613.336) total time=   0.6s\n",
      "[CV 3/3] END max_depth=1, n_estimators=10, num_leaves=40;, score=(train=-4251.174, test=-4063.392) total time=   1.0s\n",
      "[CV 1/3] END max_depth=3, n_estimators=10, num_leaves=60;, score=(train=-4653.634, test=-5195.200) total time=   1.3s\n",
      "[CV 2/3] END max_depth=3, n_estimators=10, num_leaves=60;, score=(train=-4169.148, test=-4613.336) total time=   1.2s\n",
      "[CV 3/3] END max_depth=3, n_estimators=10, num_leaves=60;, score=(train=-4251.174, test=-4063.392) total time=   1.1s\n",
      "[CV 1/3] END max_depth=3, n_estimators=50, num_leaves=20;, score=(train=-4653.634, test=-5195.200) total time=   3.3s\n",
      "[CV 2/3] END max_depth=3, n_estimators=50, num_leaves=20;, score=(train=-4169.148, test=-4613.336) total time=   1.2s\n",
      "[CV 3/3] END max_depth=3, n_estimators=50, num_leaves=20;, score=(train=-4251.174, test=-4063.392) total time=   0.5s\n",
      "[CV 1/3] END max_depth=3, n_estimators=10, num_leaves=80;, score=(train=-4653.634, test=-5195.200) total time=   1.6s\n",
      "[CV 2/3] END max_depth=3, n_estimators=10, num_leaves=80;, score=(train=-4169.148, test=-4613.336) total time=   0.9s\n",
      "[CV 3/3] END max_depth=3, n_estimators=10, num_leaves=80;, score=(train=-4251.174, test=-4063.392) total time=   1.0s\n",
      "[CV 1/3] END max_depth=3, n_estimators=20, num_leaves=40;, score=(train=-4653.634, test=-5195.200) total time=   1.8s\n",
      "[CV 2/3] END max_depth=3, n_estimators=20, num_leaves=40;, score=(train=-4169.148, test=-4613.336) total time=   0.2s\n",
      "[CV 3/3] END max_depth=3, n_estimators=20, num_leaves=40;, score=(train=-4251.174, test=-4063.392) total time=   1.4s\n",
      "[CV 1/3] END max_depth=5, n_estimators=20, num_leaves=80;, score=(train=-4653.634, test=-5195.200) total time=   1.8s\n",
      "[CV 2/3] END max_depth=5, n_estimators=20, num_leaves=80;, score=(train=-4169.148, test=-4613.336) total time=   1.8s\n",
      "[CV 3/3] END max_depth=5, n_estimators=20, num_leaves=80;, score=(train=-4251.174, test=-4063.392) total time=   1.4s\n",
      "[CV 1/3] END max_depth=5, n_estimators=20, num_leaves=60;, score=(train=-4653.634, test=-5195.200) total time=   1.8s\n",
      "[CV 2/3] END max_depth=5, n_estimators=20, num_leaves=60;, score=(train=-4169.148, test=-4613.336) total time=   0.5s\n",
      "[CV 3/3] END max_depth=5, n_estimators=20, num_leaves=60;, score=(train=-4251.174, test=-4063.392) total time=   1.4s\n",
      "[CV 1/3] END max_depth=5, n_estimators=20, num_leaves=40;, score=(train=-4653.634, test=-5195.200) total time=   1.7s\n",
      "[CV 2/3] END max_depth=5, n_estimators=20, num_leaves=40;, score=(train=-4169.148, test=-4613.336) total time=   1.7s\n",
      "[CV 3/3] END max_depth=5, n_estimators=20, num_leaves=40;, score=(train=-4251.174, test=-4063.392) total time=   1.4s\n",
      "[CV 1/3] END max_depth=5, n_estimators=20, num_leaves=20;, score=(train=-4653.634, test=-5195.200) total time=   1.8s\n",
      "[CV 2/3] END max_depth=5, n_estimators=20, num_leaves=20;, score=(train=-4169.148, test=-4613.336) total time=   1.7s\n",
      "[CV 3/3] END max_depth=5, n_estimators=20, num_leaves=20;, score=(train=-4251.174, test=-4063.392) total time=   1.4s\n",
      "[CV 1/3] END max_depth=5, n_estimators=10, num_leaves=80;, score=(train=-4653.634, test=-5195.200) total time=   1.3s\n",
      "[CV 2/3] END max_depth=5, n_estimators=10, num_leaves=80;, score=(train=-4169.148, test=-4613.336) total time=   1.3s\n",
      "[CV 3/3] END max_depth=5, n_estimators=10, num_leaves=80;, score=(train=-4251.174, test=-4063.392) total time=   0.9s\n",
      "[CV 1/3] END max_depth=3, n_estimators=20, num_leaves=20;, score=(train=-4653.634, test=-5195.200) total time=   1.7s\n",
      "[CV 2/3] END max_depth=3, n_estimators=20, num_leaves=20;, score=(train=-4169.148, test=-4613.336) total time=   1.5s\n",
      "[CV 3/3] END max_depth=3, n_estimators=20, num_leaves=20;, score=(train=-4251.174, test=-4063.392) total time=   1.4s\n",
      "[CV 1/3] END max_depth=9, n_estimators=50, num_leaves=80;, score=(train=-4653.634, test=-5195.200) total time=   3.0s\n",
      "[CV 2/3] END max_depth=9, n_estimators=50, num_leaves=80;, score=(train=-4169.148, test=-4613.336) total time=   3.1s\n",
      "[CV 3/3] END max_depth=9, n_estimators=50, num_leaves=80;, score=(train=-4251.174, test=-4063.392) total time=   2.6s\n",
      "----------\n",
      "iter: 3\n",
      "n_candidates: 4\n",
      "n_resources: 162\n",
      "Fitting 3 folds for each of 4 candidates, totalling 12 fits\n",
      "[CV 1/3] END max_depth=5, n_estimators=20, num_leaves=20;, score=(train=-3299.973, test=-2319.723) total time=  10.2s\n",
      "[CV 2/3] END max_depth=5, n_estimators=20, num_leaves=20;, score=(train=-2830.390, test=-3421.830) total time=   9.4s\n",
      "[CV 3/3] END max_depth=5, n_estimators=20, num_leaves=20;, score=(train=-2667.867, test=-2955.716) total time=   9.0s\n",
      "[CV 1/3] END max_depth=5, n_estimators=10, num_leaves=80;, score=(train=-3755.087, test=-2832.655) total time=   4.8s\n",
      "[CV 2/3] END max_depth=5, n_estimators=10, num_leaves=80;, score=(train=-3365.566, test=-3900.939) total time=   4.8s\n",
      "[CV 3/3] END max_depth=5, n_estimators=10, num_leaves=80;, score=(train=-3048.800, test=-3224.162) total time=   5.5s\n",
      "[CV 1/3] END max_depth=3, n_estimators=20, num_leaves=20;, score=(train=-3300.031, test=-2318.469) total time=   8.6s\n",
      "[CV 2/3] END max_depth=3, n_estimators=20, num_leaves=20;, score=(train=-2830.390, test=-3421.830) total time=   8.7s\n",
      "[CV 3/3] END max_depth=3, n_estimators=20, num_leaves=20;, score=(train=-2667.765, test=-2955.103) total time=   8.9s\n",
      "[CV 1/3] END max_depth=9, n_estimators=50, num_leaves=80;, score=(train=-2946.849, test=-2096.117) total time=  21.2s\n",
      "[CV 2/3] END max_depth=9, n_estimators=50, num_leaves=80;, score=(train=-2424.000, test=-3164.947) total time=  20.9s\n",
      "[CV 3/3] END max_depth=9, n_estimators=50, num_leaves=80;, score=(train=-2281.980, test=-2626.362) total time=  10.0s\n",
      "----------\n",
      "iter: 4\n",
      "n_candidates: 2\n",
      "n_resources: 486\n",
      "Fitting 3 folds for each of 2 candidates, totalling 6 fits\n",
      "[CV 1/3] END max_depth=3, n_estimators=20, num_leaves=20;, score=(train=-2173.717, test=-2730.594) total time=  10.9s\n",
      "[CV 2/3] END max_depth=3, n_estimators=20, num_leaves=20;, score=(train=-2366.099, test=-2770.630) total time=   8.6s\n",
      "[CV 3/3] END max_depth=3, n_estimators=20, num_leaves=20;, score=(train=-2473.304, test=-2592.810) total time=   0.8s\n",
      "[CV 1/3] END max_depth=9, n_estimators=50, num_leaves=80;, score=(train=-1566.636, test=-2427.637) total time=  14.8s\n",
      "[CV 2/3] END max_depth=9, n_estimators=50, num_leaves=80;, score=(train=-1755.021, test=-2334.633) total time=  16.3s\n",
      "[CV 3/3] END max_depth=9, n_estimators=50, num_leaves=80;, score=(train=-1769.614, test=-2409.985) total time=   7.4s\n"
     ]
    },
    {
     "data": {
      "text/plain": [
       "{'num_leaves': 80, 'n_estimators': 50, 'max_depth': 9}"
      ]
     },
     "execution_count": 42,
     "metadata": {},
     "output_type": "execute_result"
    }
   ],
   "source": [
    "model_lgbm = lgb.LGBMRegressor(random_state = RANDOM_STATE)\n",
    "parametr = {'n_estimators' : range(10, 51, 10),\n",
    "            'max_depth' : range(1, 10, 2),\n",
    "            'num_leaves' : range(20,100,20)}\n",
    "\n",
    "halving_lgbm = HalvingRandomSearchCV(estimator=model_lgbm,\n",
    "                     param_distributions =parametr,\n",
    "                     scoring='neg_root_mean_squared_error',\n",
    "                     cv=3,\n",
    "                     verbose=3)\n",
    "halving_lgbm.fit(features_train_gbm, target_train_gbm)\n",
    "rmse_lgbd = halving_lgbm.best_score_*-1\n",
    "halving_lgbm.best_params_"
   ]
  },
  {
   "cell_type": "code",
   "execution_count": 43,
   "metadata": {},
   "outputs": [],
   "source": [
    "model_lgbm = lgb.LGBMRegressor(n_estimators=50, max_depth=9, num_leaves=80, random_state=RANDOM_STATE)\n"
   ]
  },
  {
   "cell_type": "code",
   "execution_count": 44,
   "metadata": {},
   "outputs": [],
   "source": [
    "cv_lgbm = cross_validate(model_lgbm, features_train_gbm, target_train_gbm, scoring='neg_root_mean_squared_error', cv=3)"
   ]
  },
  {
   "cell_type": "code",
   "execution_count": 47,
   "metadata": {},
   "outputs": [
    {
     "data": {
      "text/html": [
       "<div>\n",
       "<style scoped>\n",
       "    .dataframe tbody tr th:only-of-type {\n",
       "        vertical-align: middle;\n",
       "    }\n",
       "\n",
       "    .dataframe tbody tr th {\n",
       "        vertical-align: top;\n",
       "    }\n",
       "\n",
       "    .dataframe thead th {\n",
       "        text-align: right;\n",
       "    }\n",
       "</style>\n",
       "<table border=\"1\" class=\"dataframe\">\n",
       "  <thead>\n",
       "    <tr style=\"text-align: right;\">\n",
       "      <th></th>\n",
       "      <th>Время обучения, [s]</th>\n",
       "      <th>Время предсказания, [s]</th>\n",
       "      <th>Качество модели RMSE</th>\n",
       "    </tr>\n",
       "  </thead>\n",
       "  <tbody>\n",
       "    <tr>\n",
       "      <th>Линейная регрессия</th>\n",
       "      <td>26.721331</td>\n",
       "      <td>0.208805</td>\n",
       "      <td>2646.578843</td>\n",
       "    </tr>\n",
       "    <tr>\n",
       "      <th>Случайный лес</th>\n",
       "      <td>1.320868</td>\n",
       "      <td>0.041262</td>\n",
       "      <td>2175.650535</td>\n",
       "    </tr>\n",
       "    <tr>\n",
       "      <th>LightGBM</th>\n",
       "      <td>366.261603</td>\n",
       "      <td>0.541213</td>\n",
       "      <td>1691.653844</td>\n",
       "    </tr>\n",
       "  </tbody>\n",
       "</table>\n",
       "</div>"
      ],
      "text/plain": [
       "                    Время обучения, [s]  Время предсказания, [s]  \\\n",
       "Линейная регрессия            26.721331                 0.208805   \n",
       "Случайный лес                  1.320868                 0.041262   \n",
       "LightGBM                     366.261603                 0.541213   \n",
       "\n",
       "                    Качество модели RMSE  \n",
       "Линейная регрессия           2646.578843  \n",
       "Случайный лес                2175.650535  \n",
       "LightGBM                     1691.653844  "
      ]
     },
     "execution_count": 47,
     "metadata": {},
     "output_type": "execute_result"
    }
   ],
   "source": [
    "pd.DataFrame({'Время обучения, [s]':[cv_lr['fit_time'].mean(),cv_rf['fit_time'].mean(),cv_lgbm['fit_time'].mean()], \n",
    "              'Время предсказания, [s]':[cv_lr['score_time'].mean(),cv_rf['score_time'].mean(),cv_lgbm['score_time'].mean()], \n",
    "              'Качество модели RMSE':[cv_lr['test_score'].mean()*-1,cv_rf['test_score'].mean()*-1,cv_lgbm['test_score'].mean()*-1]},\n",
    "            index=['Линейная регрессия', 'Случайный лес', 'LightGBM'])"
   ]
  },
  {
   "cell_type": "markdown",
   "metadata": {},
   "source": [
    "<b>Подобраны гиперпараметры, лучший показать по RMSE у <b>LightGBM: 1618</b>, у <b>Линейной Регрессии: 2640</b>, у модели <b>Случайный лес:2420</b> "
   ]
  },
  {
   "cell_type": "markdown",
   "metadata": {},
   "source": [
    "## Анализ моделей"
   ]
  },
  {
   "cell_type": "code",
   "execution_count": 48,
   "metadata": {},
   "outputs": [
    {
     "name": "stdout",
     "output_type": "stream",
     "text": [
      "<class 'pandas.core.frame.DataFrame'>\n",
      "Int64Index: 222226 entries, 237147 to 217570\n",
      "Data columns (total 9 columns):\n",
      " #   Column            Non-Null Count   Dtype   \n",
      "---  ------            --------------   -----   \n",
      " 0   VehicleType       222226 non-null  category\n",
      " 1   RegistrationYear  222226 non-null  int64   \n",
      " 2   Gearbox           222226 non-null  category\n",
      " 3   Power             222226 non-null  int64   \n",
      " 4   Model             222226 non-null  category\n",
      " 5   Kilometer         222226 non-null  int64   \n",
      " 6   FuelType          222226 non-null  category\n",
      " 7   Brand             222226 non-null  category\n",
      " 8   Repaired          222226 non-null  category\n",
      "dtypes: category(6), int64(3)\n",
      "memory usage: 8.3 MB\n"
     ]
    }
   ],
   "source": [
    "features_test_gbm, target_test_gbm = features_test.copy(), target_test.copy()\n",
    "\n",
    "sub_category = features_test_gbm.columns\n",
    "for i in sub_category:\n",
    "    if features_test_gbm[i].dtype == 'object':\n",
    "        features_test_gbm[i] = features_test_gbm[i].astype('category')\n",
    "features_train_gbm.info()"
   ]
  },
  {
   "cell_type": "code",
   "execution_count": 54,
   "metadata": {},
   "outputs": [],
   "source": [
    "model_lgbm.fit(features_train_gbm, target_train_gbm)\n",
    "model_lgbm.predict(features_test_gbm)\n",
    "rmse_lgbm_test = mean_squared_error(target_test_gbm, model_lgbm.predict(features_test_gbm))**0.5"
   ]
  },
  {
   "cell_type": "code",
   "execution_count": 55,
   "metadata": {},
   "outputs": [
    {
     "data": {
      "text/plain": [
       "1678.3863193801935"
      ]
     },
     "execution_count": 55,
     "metadata": {},
     "output_type": "execute_result"
    }
   ],
   "source": [
    "rmse_lgbm_test"
   ]
  },
  {
   "cell_type": "markdown",
   "metadata": {},
   "source": [
    "RMSE на тестовой выборке выше чем на обучающей"
   ]
  },
  {
   "cell_type": "markdown",
   "metadata": {},
   "source": [
    "<b>Выводы</b>\n",
    "   - В начальном датасете присутствовали выбросы, и пропуски. Были удалены аномальные значения и заменены пропуски на категориальные переменные. Отношение размера конечного датасета к начальному составляет 86%  \n",
    "   - Для обучения модели Линейной Регрессии была выбрана технология OneHotEncoder\n",
    "   - Для обучения другий моделей была выбрана технология OrdinalEncoder, в связи с большим количеством признаков по OneHotEncoder\n",
    "   - Для обучения LightGBM необходимо было изменить тип данных категориальных переменных\n",
    "   - Наилучшей моделью является LightGBM \n",
    "               - Время обучени: 366 s\n",
    "               - Время предсказания: 0.5 s\n",
    "               - RMSE: 1678.38"
   ]
  }
 ],
 "metadata": {
  "ExecuteTimeLog": [
   {
    "duration": 1651,
    "start_time": "2023-03-10T17:28:13.242Z"
   },
   {
    "duration": 4,
    "start_time": "2023-03-10T17:28:24.161Z"
   },
   {
    "duration": 3295,
    "start_time": "2023-03-10T17:29:40.184Z"
   },
   {
    "duration": 126,
    "start_time": "2023-03-10T17:30:02.092Z"
   },
   {
    "duration": 14,
    "start_time": "2023-03-10T17:31:01.336Z"
   },
   {
    "duration": 11,
    "start_time": "2023-03-10T17:31:05.853Z"
   },
   {
    "duration": 110,
    "start_time": "2023-03-10T17:31:18.847Z"
   },
   {
    "duration": 14,
    "start_time": "2023-03-10T17:36:43.714Z"
   },
   {
    "duration": 907,
    "start_time": "2023-03-10T17:36:51.543Z"
   },
   {
    "duration": 218,
    "start_time": "2023-03-10T17:37:00.448Z"
   },
   {
    "duration": 314,
    "start_time": "2023-03-10T17:37:09.355Z"
   },
   {
    "duration": 23,
    "start_time": "2023-03-10T17:37:59.269Z"
   },
   {
    "duration": 22,
    "start_time": "2023-03-10T17:38:33.455Z"
   },
   {
    "duration": 24,
    "start_time": "2023-03-10T17:39:47.447Z"
   },
   {
    "duration": 175,
    "start_time": "2023-03-10T17:40:22.543Z"
   },
   {
    "duration": 76,
    "start_time": "2023-03-10T17:40:47.018Z"
   },
   {
    "duration": 164,
    "start_time": "2023-03-10T17:43:00.046Z"
   },
   {
    "duration": 59,
    "start_time": "2023-03-10T17:43:08.143Z"
   },
   {
    "duration": 1479,
    "start_time": "2023-03-10T17:44:11.233Z"
   },
   {
    "duration": 936,
    "start_time": "2023-03-10T17:44:12.714Z"
   },
   {
    "duration": 132,
    "start_time": "2023-03-10T17:44:13.652Z"
   },
   {
    "duration": 162,
    "start_time": "2023-03-10T17:44:13.787Z"
   },
   {
    "duration": 0,
    "start_time": "2023-03-10T17:44:48.886Z"
   },
   {
    "duration": 1496,
    "start_time": "2023-03-10T17:44:50.280Z"
   },
   {
    "duration": 785,
    "start_time": "2023-03-10T17:45:11.707Z"
   },
   {
    "duration": 530,
    "start_time": "2023-03-10T17:46:03.846Z"
   },
   {
    "duration": 475,
    "start_time": "2023-03-10T17:46:11.886Z"
   },
   {
    "duration": 471,
    "start_time": "2023-03-10T17:46:22.118Z"
   },
   {
    "duration": 216,
    "start_time": "2023-03-10T17:46:30.294Z"
   },
   {
    "duration": 719,
    "start_time": "2023-03-10T17:47:24.712Z"
   },
   {
    "duration": 9,
    "start_time": "2023-03-10T17:54:46.282Z"
   },
   {
    "duration": 10,
    "start_time": "2023-03-10T17:57:49.905Z"
   },
   {
    "duration": 3,
    "start_time": "2023-03-10T18:01:19.050Z"
   },
   {
    "duration": 790,
    "start_time": "2023-03-10T18:01:21.464Z"
   },
   {
    "duration": 130,
    "start_time": "2023-03-10T18:01:22.429Z"
   },
   {
    "duration": 97,
    "start_time": "2023-03-10T18:01:23.368Z"
   },
   {
    "duration": 24,
    "start_time": "2023-03-10T18:07:31.825Z"
   },
   {
    "duration": 423,
    "start_time": "2023-03-10T18:07:35.979Z"
   },
   {
    "duration": 13,
    "start_time": "2023-03-10T18:08:05.440Z"
   },
   {
    "duration": 482,
    "start_time": "2023-03-10T18:08:52.993Z"
   },
   {
    "duration": 519,
    "start_time": "2023-03-10T18:09:13.915Z"
   },
   {
    "duration": 1457,
    "start_time": "2023-03-10T18:09:35.309Z"
   },
   {
    "duration": 902,
    "start_time": "2023-03-10T18:09:36.768Z"
   },
   {
    "duration": 134,
    "start_time": "2023-03-10T18:09:37.671Z"
   },
   {
    "duration": 124,
    "start_time": "2023-03-10T18:09:37.806Z"
   },
   {
    "duration": 531,
    "start_time": "2023-03-10T18:09:37.934Z"
   },
   {
    "duration": 624,
    "start_time": "2023-03-10T18:09:38.466Z"
   },
   {
    "duration": 597,
    "start_time": "2023-03-10T18:09:54.572Z"
   },
   {
    "duration": 17,
    "start_time": "2023-03-10T18:10:06.427Z"
   },
   {
    "duration": 28,
    "start_time": "2023-03-10T18:14:03.104Z"
   },
   {
    "duration": 109,
    "start_time": "2023-03-10T18:15:36.388Z"
   },
   {
    "duration": 10,
    "start_time": "2023-03-10T18:16:14.046Z"
   },
   {
    "duration": 35,
    "start_time": "2023-03-10T18:16:52.167Z"
   },
   {
    "duration": 46,
    "start_time": "2023-03-10T18:16:56.311Z"
   },
   {
    "duration": 656,
    "start_time": "2023-03-10T18:17:01.367Z"
   },
   {
    "duration": 794,
    "start_time": "2023-03-10T18:17:14.303Z"
   },
   {
    "duration": 687,
    "start_time": "2023-03-10T18:20:31.390Z"
   },
   {
    "duration": 737,
    "start_time": "2023-03-10T18:20:40.790Z"
   },
   {
    "duration": 753,
    "start_time": "2023-03-10T18:21:05.696Z"
   },
   {
    "duration": 11,
    "start_time": "2023-03-10T18:21:24.768Z"
   },
   {
    "duration": 11,
    "start_time": "2023-03-10T18:22:30.634Z"
   },
   {
    "duration": 2441,
    "start_time": "2023-03-10T18:22:36.363Z"
   },
   {
    "duration": 7703,
    "start_time": "2023-03-10T18:23:43.598Z"
   },
   {
    "duration": 845,
    "start_time": "2023-03-10T18:24:16.966Z"
   },
   {
    "duration": 10,
    "start_time": "2023-03-10T18:25:36.409Z"
   },
   {
    "duration": 1402,
    "start_time": "2023-03-10T18:28:29.896Z"
   },
   {
    "duration": 846,
    "start_time": "2023-03-10T18:28:31.300Z"
   },
   {
    "duration": 146,
    "start_time": "2023-03-10T18:28:32.148Z"
   },
   {
    "duration": 115,
    "start_time": "2023-03-10T18:28:32.296Z"
   },
   {
    "duration": 513,
    "start_time": "2023-03-10T18:28:32.413Z"
   },
   {
    "duration": 598,
    "start_time": "2023-03-10T18:28:32.931Z"
   },
   {
    "duration": 42,
    "start_time": "2023-03-10T18:28:33.531Z"
   },
   {
    "duration": 808,
    "start_time": "2023-03-10T18:28:33.575Z"
   },
   {
    "duration": 872,
    "start_time": "2023-03-10T18:28:34.385Z"
   },
   {
    "duration": 14645,
    "start_time": "2023-03-10T18:29:10.056Z"
   },
   {
    "duration": 1486,
    "start_time": "2023-03-10T18:30:39.731Z"
   },
   {
    "duration": 1040,
    "start_time": "2023-03-10T18:30:41.220Z"
   },
   {
    "duration": 128,
    "start_time": "2023-03-10T18:30:42.262Z"
   },
   {
    "duration": 115,
    "start_time": "2023-03-10T18:30:42.392Z"
   },
   {
    "duration": 70068,
    "start_time": "2023-03-10T18:30:42.509Z"
   },
   {
    "duration": 0,
    "start_time": "2023-03-10T18:31:52.579Z"
   },
   {
    "duration": 0,
    "start_time": "2023-03-10T18:31:52.581Z"
   },
   {
    "duration": 0,
    "start_time": "2023-03-10T18:31:52.582Z"
   },
   {
    "duration": 0,
    "start_time": "2023-03-10T18:31:52.583Z"
   },
   {
    "duration": 0,
    "start_time": "2023-03-10T18:31:52.584Z"
   },
   {
    "duration": 0,
    "start_time": "2023-03-10T18:34:58.687Z"
   },
   {
    "duration": 1592,
    "start_time": "2023-03-10T18:35:04.703Z"
   },
   {
    "duration": 875,
    "start_time": "2023-03-10T18:35:06.297Z"
   },
   {
    "duration": 121,
    "start_time": "2023-03-10T18:35:07.174Z"
   },
   {
    "duration": 156,
    "start_time": "2023-03-10T18:35:07.297Z"
   },
   {
    "duration": 119,
    "start_time": "2023-03-10T18:35:07.454Z"
   },
   {
    "duration": 0,
    "start_time": "2023-03-10T18:35:07.574Z"
   },
   {
    "duration": 0,
    "start_time": "2023-03-10T18:35:07.575Z"
   },
   {
    "duration": 0,
    "start_time": "2023-03-10T18:35:07.576Z"
   },
   {
    "duration": 0,
    "start_time": "2023-03-10T18:35:07.577Z"
   },
   {
    "duration": 0,
    "start_time": "2023-03-10T18:35:07.578Z"
   },
   {
    "duration": 115207,
    "start_time": "2023-03-10T18:35:18.237Z"
   },
   {
    "duration": 723,
    "start_time": "2023-03-10T18:38:29.639Z"
   },
   {
    "duration": 943,
    "start_time": "2023-03-10T18:38:57.152Z"
   },
   {
    "duration": 180,
    "start_time": "2023-03-10T18:39:34.458Z"
   },
   {
    "duration": 63,
    "start_time": "2023-03-10T18:44:43.028Z"
   },
   {
    "duration": 25,
    "start_time": "2023-03-10T18:45:02.941Z"
   },
   {
    "duration": 25,
    "start_time": "2023-03-10T18:45:11.333Z"
   },
   {
    "duration": 25,
    "start_time": "2023-03-10T18:45:17.462Z"
   },
   {
    "duration": 1411,
    "start_time": "2023-03-10T18:45:41.933Z"
   },
   {
    "duration": 897,
    "start_time": "2023-03-10T18:45:43.346Z"
   },
   {
    "duration": 126,
    "start_time": "2023-03-10T18:45:44.245Z"
   },
   {
    "duration": 109,
    "start_time": "2023-03-10T18:45:44.373Z"
   },
   {
    "duration": 555,
    "start_time": "2023-03-10T18:45:44.484Z"
   },
   {
    "duration": 619,
    "start_time": "2023-03-10T18:45:45.041Z"
   },
   {
    "duration": 41,
    "start_time": "2023-03-10T18:45:45.662Z"
   },
   {
    "duration": 860,
    "start_time": "2023-03-10T18:45:45.705Z"
   },
   {
    "duration": 926,
    "start_time": "2023-03-10T18:45:46.567Z"
   },
   {
    "duration": 44,
    "start_time": "2023-03-10T18:45:47.495Z"
   },
   {
    "duration": 473,
    "start_time": "2023-03-10T18:46:30.525Z"
   },
   {
    "duration": 176,
    "start_time": "2023-03-10T18:46:39.663Z"
   },
   {
    "duration": 309,
    "start_time": "2023-03-10T18:46:58.301Z"
   },
   {
    "duration": 193,
    "start_time": "2023-03-10T18:47:23.353Z"
   },
   {
    "duration": 257,
    "start_time": "2023-03-10T18:47:29.471Z"
   },
   {
    "duration": 254,
    "start_time": "2023-03-10T18:47:46.518Z"
   },
   {
    "duration": 10,
    "start_time": "2023-03-10T18:49:51.500Z"
   },
   {
    "duration": 828,
    "start_time": "2023-03-10T18:50:03.683Z"
   },
   {
    "duration": 599,
    "start_time": "2023-03-10T18:50:44.981Z"
   },
   {
    "duration": 694,
    "start_time": "2023-03-10T18:50:49.981Z"
   },
   {
    "duration": 859,
    "start_time": "2023-03-10T18:51:01.255Z"
   },
   {
    "duration": 55,
    "start_time": "2023-03-10T18:54:50.685Z"
   },
   {
    "duration": 231,
    "start_time": "2023-03-10T18:55:57.245Z"
   },
   {
    "duration": 739,
    "start_time": "2023-03-10T18:56:18.377Z"
   },
   {
    "duration": 0,
    "start_time": "2023-03-10T18:56:54.646Z"
   },
   {
    "duration": 1594,
    "start_time": "2023-03-10T18:56:59.198Z"
   },
   {
    "duration": 893,
    "start_time": "2023-03-10T18:57:00.795Z"
   },
   {
    "duration": 125,
    "start_time": "2023-03-10T18:57:01.690Z"
   },
   {
    "duration": 115,
    "start_time": "2023-03-10T18:57:01.822Z"
   },
   {
    "duration": 472,
    "start_time": "2023-03-10T18:57:01.939Z"
   },
   {
    "duration": 597,
    "start_time": "2023-03-10T18:57:02.412Z"
   },
   {
    "duration": 47,
    "start_time": "2023-03-10T18:57:03.010Z"
   },
   {
    "duration": 793,
    "start_time": "2023-03-10T18:57:03.059Z"
   },
   {
    "duration": 888,
    "start_time": "2023-03-10T18:57:03.854Z"
   },
   {
    "duration": 0,
    "start_time": "2023-03-10T18:57:24.696Z"
   },
   {
    "duration": 1211,
    "start_time": "2023-03-10T18:57:25.159Z"
   },
   {
    "duration": 51,
    "start_time": "2023-03-10T18:58:25.232Z"
   },
   {
    "duration": 17,
    "start_time": "2023-03-10T18:59:49.026Z"
   },
   {
    "duration": 36,
    "start_time": "2023-03-10T19:00:00.161Z"
   },
   {
    "duration": 123,
    "start_time": "2023-03-10T19:00:12.825Z"
   },
   {
    "duration": 33,
    "start_time": "2023-03-10T19:01:48.051Z"
   },
   {
    "duration": 26,
    "start_time": "2023-03-10T19:03:01.547Z"
   },
   {
    "duration": 27,
    "start_time": "2023-03-10T19:03:18.197Z"
   },
   {
    "duration": 32,
    "start_time": "2023-03-10T19:03:21.677Z"
   },
   {
    "duration": 4,
    "start_time": "2023-03-10T19:15:55.343Z"
   },
   {
    "duration": 801,
    "start_time": "2023-03-10T19:15:56.071Z"
   },
   {
    "duration": 121,
    "start_time": "2023-03-10T19:15:56.874Z"
   },
   {
    "duration": 107,
    "start_time": "2023-03-10T19:15:57.856Z"
   },
   {
    "duration": 553,
    "start_time": "2023-03-10T19:16:04.706Z"
   },
   {
    "duration": 510,
    "start_time": "2023-03-10T19:16:05.262Z"
   },
   {
    "duration": 33,
    "start_time": "2023-03-10T19:16:06.777Z"
   },
   {
    "duration": 633,
    "start_time": "2023-03-10T19:16:08.528Z"
   },
   {
    "duration": 888,
    "start_time": "2023-03-10T19:16:37.746Z"
   },
   {
    "duration": 232,
    "start_time": "2023-03-10T19:16:38.637Z"
   },
   {
    "duration": 83,
    "start_time": "2023-03-10T19:16:39.680Z"
   },
   {
    "duration": 809,
    "start_time": "2023-03-10T19:21:46.370Z"
   },
   {
    "duration": 72,
    "start_time": "2023-03-10T19:22:04.787Z"
   },
   {
    "duration": 116,
    "start_time": "2023-03-10T19:22:48.412Z"
   },
   {
    "duration": 17,
    "start_time": "2023-03-10T19:24:49.584Z"
   },
   {
    "duration": 12,
    "start_time": "2023-03-10T19:24:57.987Z"
   },
   {
    "duration": 247,
    "start_time": "2023-03-10T19:25:10.969Z"
   },
   {
    "duration": 265,
    "start_time": "2023-03-10T19:26:09.508Z"
   },
   {
    "duration": 237,
    "start_time": "2023-03-10T19:27:54.062Z"
   },
   {
    "duration": 144,
    "start_time": "2023-03-10T19:30:18.922Z"
   },
   {
    "duration": 109,
    "start_time": "2023-03-10T19:30:27.890Z"
   },
   {
    "duration": 113,
    "start_time": "2023-03-10T19:30:42.378Z"
   },
   {
    "duration": 73,
    "start_time": "2023-03-10T19:30:51.986Z"
   },
   {
    "duration": 1874,
    "start_time": "2023-03-10T19:31:01.360Z"
   },
   {
    "duration": 1829,
    "start_time": "2023-03-10T19:31:03.237Z"
   },
   {
    "duration": 114,
    "start_time": "2023-03-10T19:31:05.069Z"
   },
   {
    "duration": 146,
    "start_time": "2023-03-10T19:31:05.186Z"
   },
   {
    "duration": 515,
    "start_time": "2023-03-10T19:31:05.334Z"
   },
   {
    "duration": 707,
    "start_time": "2023-03-10T19:31:05.852Z"
   },
   {
    "duration": 29,
    "start_time": "2023-03-10T19:31:06.561Z"
   },
   {
    "duration": 620,
    "start_time": "2023-03-10T19:31:06.592Z"
   },
   {
    "duration": 799,
    "start_time": "2023-03-10T19:31:07.214Z"
   },
   {
    "duration": 231,
    "start_time": "2023-03-10T19:31:08.020Z"
   },
   {
    "duration": 104,
    "start_time": "2023-03-10T19:31:08.253Z"
   },
   {
    "duration": 71,
    "start_time": "2023-03-10T19:31:08.359Z"
   },
   {
    "duration": 89,
    "start_time": "2023-03-10T19:31:08.433Z"
   },
   {
    "duration": 262,
    "start_time": "2023-03-10T19:31:08.525Z"
   },
   {
    "duration": 112,
    "start_time": "2023-03-10T19:31:08.789Z"
   },
   {
    "duration": 49,
    "start_time": "2023-03-10T19:33:41.888Z"
   },
   {
    "duration": 44,
    "start_time": "2023-03-10T19:33:44.737Z"
   },
   {
    "duration": 20,
    "start_time": "2023-03-10T19:33:47.961Z"
   },
   {
    "duration": 27,
    "start_time": "2023-03-10T19:35:01.276Z"
   },
   {
    "duration": 129,
    "start_time": "2023-03-10T19:35:07.083Z"
   },
   {
    "duration": 28,
    "start_time": "2023-03-10T19:35:51.190Z"
   },
   {
    "duration": 29,
    "start_time": "2023-03-10T19:37:52.618Z"
   },
   {
    "duration": 90,
    "start_time": "2023-03-10T19:40:06.767Z"
   },
   {
    "duration": 128,
    "start_time": "2023-03-10T19:45:22.348Z"
   },
   {
    "duration": 103,
    "start_time": "2023-03-10T19:46:06.862Z"
   },
   {
    "duration": 154,
    "start_time": "2023-03-10T19:46:37.830Z"
   },
   {
    "duration": 237,
    "start_time": "2023-03-10T19:48:41.149Z"
   },
   {
    "duration": 5,
    "start_time": "2023-03-10T19:49:01.775Z"
   },
   {
    "duration": 159,
    "start_time": "2023-03-10T19:49:10.297Z"
   },
   {
    "duration": 39,
    "start_time": "2023-03-10T19:49:26.618Z"
   },
   {
    "duration": 23,
    "start_time": "2023-03-10T19:50:46.746Z"
   },
   {
    "duration": 35,
    "start_time": "2023-03-10T19:50:49.854Z"
   },
   {
    "duration": 16,
    "start_time": "2023-03-10T19:51:10.429Z"
   },
   {
    "duration": 75,
    "start_time": "2023-03-10T20:23:32.472Z"
   },
   {
    "duration": 11,
    "start_time": "2023-03-10T20:44:01.496Z"
   },
   {
    "duration": 1518,
    "start_time": "2023-03-10T20:44:07.848Z"
   },
   {
    "duration": 1075,
    "start_time": "2023-03-10T20:44:09.369Z"
   },
   {
    "duration": 229,
    "start_time": "2023-03-10T20:44:10.447Z"
   },
   {
    "duration": 122,
    "start_time": "2023-03-10T20:44:10.680Z"
   },
   {
    "duration": 550,
    "start_time": "2023-03-10T20:44:10.805Z"
   },
   {
    "duration": 655,
    "start_time": "2023-03-10T20:44:11.357Z"
   },
   {
    "duration": 35,
    "start_time": "2023-03-10T20:44:12.013Z"
   },
   {
    "duration": 627,
    "start_time": "2023-03-10T20:44:12.050Z"
   },
   {
    "duration": 835,
    "start_time": "2023-03-10T20:44:12.679Z"
   },
   {
    "duration": 245,
    "start_time": "2023-03-10T20:44:13.516Z"
   },
   {
    "duration": 107,
    "start_time": "2023-03-10T20:44:13.763Z"
   },
   {
    "duration": 76,
    "start_time": "2023-03-10T20:44:13.872Z"
   },
   {
    "duration": 78,
    "start_time": "2023-03-10T20:44:13.950Z"
   },
   {
    "duration": 184,
    "start_time": "2023-03-10T20:44:14.031Z"
   },
   {
    "duration": 77,
    "start_time": "2023-03-10T20:44:14.217Z"
   },
   {
    "duration": 115,
    "start_time": "2023-03-10T20:44:14.296Z"
   },
   {
    "duration": 181,
    "start_time": "2023-03-10T20:44:14.413Z"
   },
   {
    "duration": 27,
    "start_time": "2023-03-10T20:44:14.595Z"
   },
   {
    "duration": 25,
    "start_time": "2023-03-10T20:44:14.628Z"
   },
   {
    "duration": 85,
    "start_time": "2023-03-10T20:44:14.654Z"
   },
   {
    "duration": 124,
    "start_time": "2023-03-10T20:44:14.747Z"
   },
   {
    "duration": 1573,
    "start_time": "2023-03-10T20:44:58.792Z"
   },
   {
    "duration": 1105,
    "start_time": "2023-03-10T20:45:00.368Z"
   },
   {
    "duration": 133,
    "start_time": "2023-03-10T20:45:01.475Z"
   },
   {
    "duration": 130,
    "start_time": "2023-03-10T20:45:01.610Z"
   },
   {
    "duration": 532,
    "start_time": "2023-03-10T20:45:01.741Z"
   },
   {
    "duration": 656,
    "start_time": "2023-03-10T20:45:02.275Z"
   },
   {
    "duration": 43,
    "start_time": "2023-03-10T20:45:02.932Z"
   },
   {
    "duration": 656,
    "start_time": "2023-03-10T20:45:02.977Z"
   },
   {
    "duration": 875,
    "start_time": "2023-03-10T20:45:03.635Z"
   },
   {
    "duration": 247,
    "start_time": "2023-03-10T20:45:04.513Z"
   },
   {
    "duration": 100,
    "start_time": "2023-03-10T20:45:04.763Z"
   },
   {
    "duration": 78,
    "start_time": "2023-03-10T20:45:04.865Z"
   },
   {
    "duration": 72,
    "start_time": "2023-03-10T20:45:04.947Z"
   },
   {
    "duration": 181,
    "start_time": "2023-03-10T20:45:05.024Z"
   },
   {
    "duration": 84,
    "start_time": "2023-03-10T20:45:05.206Z"
   },
   {
    "duration": 129,
    "start_time": "2023-03-10T20:45:05.291Z"
   },
   {
    "duration": 153,
    "start_time": "2023-03-10T20:45:05.431Z"
   },
   {
    "duration": 26,
    "start_time": "2023-03-10T20:45:05.587Z"
   },
   {
    "duration": 30,
    "start_time": "2023-03-10T20:45:05.626Z"
   },
   {
    "duration": 72,
    "start_time": "2023-03-10T20:45:05.664Z"
   },
   {
    "duration": 1149,
    "start_time": "2023-03-10T20:45:05.740Z"
   },
   {
    "duration": 478,
    "start_time": "2023-03-10T20:46:07.190Z"
   },
   {
    "duration": 1384,
    "start_time": "2023-03-10T20:46:15.224Z"
   },
   {
    "duration": 1360,
    "start_time": "2023-03-10T20:47:48.498Z"
   },
   {
    "duration": 2099,
    "start_time": "2023-03-10T20:48:13.905Z"
   },
   {
    "duration": 1562,
    "start_time": "2023-03-10T20:48:32.849Z"
   },
   {
    "duration": 111,
    "start_time": "2023-03-10T20:50:17.813Z"
   },
   {
    "duration": 2234,
    "start_time": "2023-03-10T20:50:21.750Z"
   },
   {
    "duration": 1611,
    "start_time": "2023-03-10T20:50:35.762Z"
   },
   {
    "duration": 1477,
    "start_time": "2023-03-10T20:51:26.287Z"
   },
   {
    "duration": 1382,
    "start_time": "2023-03-10T20:52:31.763Z"
   },
   {
    "duration": 1436,
    "start_time": "2023-03-10T20:53:29.940Z"
   },
   {
    "duration": 1711,
    "start_time": "2023-03-10T20:54:36.755Z"
   },
   {
    "duration": 1401,
    "start_time": "2023-03-10T20:54:42.869Z"
   },
   {
    "duration": 72,
    "start_time": "2023-03-10T20:55:36.242Z"
   },
   {
    "duration": 1433,
    "start_time": "2023-03-10T20:56:20.218Z"
   },
   {
    "duration": 1427,
    "start_time": "2023-03-10T20:56:33.809Z"
   },
   {
    "duration": 1376,
    "start_time": "2023-03-10T20:56:41.378Z"
   },
   {
    "duration": 1415,
    "start_time": "2023-03-10T20:56:59.314Z"
   },
   {
    "duration": 1364,
    "start_time": "2023-03-10T20:57:07.350Z"
   },
   {
    "duration": 1396,
    "start_time": "2023-03-10T20:57:23.802Z"
   },
   {
    "duration": 1344,
    "start_time": "2023-03-10T20:57:50.755Z"
   },
   {
    "duration": 1349,
    "start_time": "2023-03-10T20:57:58.349Z"
   },
   {
    "duration": 1354,
    "start_time": "2023-03-10T20:58:13.850Z"
   },
   {
    "duration": 1382,
    "start_time": "2023-03-10T20:58:24.884Z"
   },
   {
    "duration": 1447,
    "start_time": "2023-03-10T20:58:29.843Z"
   },
   {
    "duration": 1441,
    "start_time": "2023-03-10T20:58:42.620Z"
   },
   {
    "duration": 1398,
    "start_time": "2023-03-10T20:58:56.558Z"
   },
   {
    "duration": 1379,
    "start_time": "2023-03-10T20:59:13.286Z"
   },
   {
    "duration": 1398,
    "start_time": "2023-03-10T20:59:25.255Z"
   },
   {
    "duration": 1402,
    "start_time": "2023-03-10T20:59:30.391Z"
   },
   {
    "duration": 1437,
    "start_time": "2023-03-10T21:02:42.509Z"
   },
   {
    "duration": 1857,
    "start_time": "2023-03-10T21:02:50.823Z"
   },
   {
    "duration": 1342,
    "start_time": "2023-03-10T21:03:17.710Z"
   },
   {
    "duration": 1360,
    "start_time": "2023-03-10T21:03:49.241Z"
   },
   {
    "duration": 1418,
    "start_time": "2023-03-10T21:04:15.316Z"
   },
   {
    "duration": 3565,
    "start_time": "2023-03-10T21:04:16.736Z"
   },
   {
    "duration": 144,
    "start_time": "2023-03-10T21:04:20.304Z"
   },
   {
    "duration": 158,
    "start_time": "2023-03-10T21:04:20.450Z"
   },
   {
    "duration": 526,
    "start_time": "2023-03-10T21:04:20.610Z"
   },
   {
    "duration": 612,
    "start_time": "2023-03-10T21:04:21.137Z"
   },
   {
    "duration": 32,
    "start_time": "2023-03-10T21:04:21.753Z"
   },
   {
    "duration": 613,
    "start_time": "2023-03-10T21:04:21.787Z"
   },
   {
    "duration": 834,
    "start_time": "2023-03-10T21:04:22.401Z"
   },
   {
    "duration": 217,
    "start_time": "2023-03-10T21:04:23.238Z"
   },
   {
    "duration": 100,
    "start_time": "2023-03-10T21:04:23.457Z"
   },
   {
    "duration": 94,
    "start_time": "2023-03-10T21:04:23.559Z"
   },
   {
    "duration": 63,
    "start_time": "2023-03-10T21:04:23.655Z"
   },
   {
    "duration": 182,
    "start_time": "2023-03-10T21:04:23.719Z"
   },
   {
    "duration": 76,
    "start_time": "2023-03-10T21:04:23.903Z"
   },
   {
    "duration": 112,
    "start_time": "2023-03-10T21:04:23.981Z"
   },
   {
    "duration": 163,
    "start_time": "2023-03-10T21:04:24.095Z"
   },
   {
    "duration": 26,
    "start_time": "2023-03-10T21:04:24.260Z"
   },
   {
    "duration": 34,
    "start_time": "2023-03-10T21:04:24.288Z"
   },
   {
    "duration": 101,
    "start_time": "2023-03-10T21:04:24.328Z"
   },
   {
    "duration": 1452,
    "start_time": "2023-03-10T21:04:25.831Z"
   },
   {
    "duration": 1341,
    "start_time": "2023-03-10T21:04:32.964Z"
   },
   {
    "duration": 1370,
    "start_time": "2023-03-10T21:04:42.857Z"
   },
   {
    "duration": 1385,
    "start_time": "2023-03-10T21:05:03.856Z"
   },
   {
    "duration": 1485,
    "start_time": "2023-03-10T21:06:24.393Z"
   },
   {
    "duration": 1441,
    "start_time": "2023-03-10T21:06:38.562Z"
   },
   {
    "duration": 1574,
    "start_time": "2023-03-10T21:06:48.698Z"
   },
   {
    "duration": 1494,
    "start_time": "2023-03-10T21:06:59.793Z"
   },
   {
    "duration": 1410,
    "start_time": "2023-03-10T21:08:27.621Z"
   },
   {
    "duration": 1438,
    "start_time": "2023-03-10T21:08:49.447Z"
   },
   {
    "duration": 1384,
    "start_time": "2023-03-10T21:09:31.556Z"
   },
   {
    "duration": 1394,
    "start_time": "2023-03-10T21:10:17.495Z"
   },
   {
    "duration": 1853,
    "start_time": "2023-03-10T21:10:30.120Z"
   },
   {
    "duration": 80,
    "start_time": "2023-03-10T21:14:02.191Z"
   },
   {
    "duration": 1416,
    "start_time": "2023-03-10T21:14:21.744Z"
   },
   {
    "duration": 3501,
    "start_time": "2023-03-10T21:14:23.162Z"
   },
   {
    "duration": 124,
    "start_time": "2023-03-10T21:14:26.664Z"
   },
   {
    "duration": 108,
    "start_time": "2023-03-10T21:14:26.790Z"
   },
   {
    "duration": 587,
    "start_time": "2023-03-10T21:14:26.900Z"
   },
   {
    "duration": 584,
    "start_time": "2023-03-10T21:14:27.488Z"
   },
   {
    "duration": 38,
    "start_time": "2023-03-10T21:14:28.074Z"
   },
   {
    "duration": 631,
    "start_time": "2023-03-10T21:14:28.122Z"
   },
   {
    "duration": 813,
    "start_time": "2023-03-10T21:14:28.756Z"
   },
   {
    "duration": 258,
    "start_time": "2023-03-10T21:14:29.571Z"
   },
   {
    "duration": 105,
    "start_time": "2023-03-10T21:14:29.831Z"
   },
   {
    "duration": 64,
    "start_time": "2023-03-10T21:14:29.940Z"
   },
   {
    "duration": 81,
    "start_time": "2023-03-10T21:14:30.006Z"
   },
   {
    "duration": 196,
    "start_time": "2023-03-10T21:14:30.089Z"
   },
   {
    "duration": 93,
    "start_time": "2023-03-10T21:14:30.288Z"
   },
   {
    "duration": 178,
    "start_time": "2023-03-10T21:14:30.383Z"
   },
   {
    "duration": 173,
    "start_time": "2023-03-10T21:14:30.565Z"
   },
   {
    "duration": 31,
    "start_time": "2023-03-10T21:14:30.749Z"
   },
   {
    "duration": 27,
    "start_time": "2023-03-10T21:14:30.782Z"
   },
   {
    "duration": 95,
    "start_time": "2023-03-10T21:14:30.811Z"
   },
   {
    "duration": 1468,
    "start_time": "2023-03-10T21:14:30.908Z"
   },
   {
    "duration": 1439,
    "start_time": "2023-03-10T21:14:39.072Z"
   },
   {
    "duration": 4544,
    "start_time": "2023-03-10T21:15:03.097Z"
   },
   {
    "duration": 1468,
    "start_time": "2023-03-10T21:16:02.544Z"
   },
   {
    "duration": 1422,
    "start_time": "2023-03-10T21:17:06.169Z"
   },
   {
    "duration": 1385,
    "start_time": "2023-03-10T21:17:44.252Z"
   },
   {
    "duration": 918,
    "start_time": "2023-03-10T21:17:45.639Z"
   },
   {
    "duration": 133,
    "start_time": "2023-03-10T21:17:46.558Z"
   },
   {
    "duration": 143,
    "start_time": "2023-03-10T21:17:46.693Z"
   },
   {
    "duration": 494,
    "start_time": "2023-03-10T21:17:46.842Z"
   },
   {
    "duration": 621,
    "start_time": "2023-03-10T21:17:47.338Z"
   },
   {
    "duration": 28,
    "start_time": "2023-03-10T21:17:47.960Z"
   },
   {
    "duration": 611,
    "start_time": "2023-03-10T21:17:47.989Z"
   },
   {
    "duration": 806,
    "start_time": "2023-03-10T21:17:48.602Z"
   },
   {
    "duration": 269,
    "start_time": "2023-03-10T21:17:49.410Z"
   },
   {
    "duration": 99,
    "start_time": "2023-03-10T21:17:49.681Z"
   },
   {
    "duration": 85,
    "start_time": "2023-03-10T21:17:49.782Z"
   },
   {
    "duration": 75,
    "start_time": "2023-03-10T21:17:49.869Z"
   },
   {
    "duration": 158,
    "start_time": "2023-03-10T21:17:49.949Z"
   },
   {
    "duration": 77,
    "start_time": "2023-03-10T21:17:50.109Z"
   },
   {
    "duration": 159,
    "start_time": "2023-03-10T21:17:50.188Z"
   },
   {
    "duration": 146,
    "start_time": "2023-03-10T21:17:50.353Z"
   },
   {
    "duration": 46,
    "start_time": "2023-03-10T21:17:50.500Z"
   },
   {
    "duration": 46,
    "start_time": "2023-03-10T21:17:50.548Z"
   },
   {
    "duration": 77,
    "start_time": "2023-03-10T21:17:50.595Z"
   },
   {
    "duration": 1371,
    "start_time": "2023-03-10T21:17:50.674Z"
   },
   {
    "duration": 5321,
    "start_time": "2023-03-10T21:18:03.650Z"
   },
   {
    "duration": 5568,
    "start_time": "2023-03-10T21:18:18.780Z"
   },
   {
    "duration": 6145,
    "start_time": "2023-03-10T21:18:40.973Z"
   },
   {
    "duration": 5489,
    "start_time": "2023-03-10T21:18:53.077Z"
   },
   {
    "duration": 5330,
    "start_time": "2023-03-10T21:19:03.748Z"
   },
   {
    "duration": 1479,
    "start_time": "2023-03-10T21:27:10.906Z"
   },
   {
    "duration": 1427,
    "start_time": "2023-03-10T21:27:30.543Z"
   },
   {
    "duration": 886,
    "start_time": "2023-03-10T21:27:31.973Z"
   },
   {
    "duration": 130,
    "start_time": "2023-03-10T21:27:32.861Z"
   },
   {
    "duration": 124,
    "start_time": "2023-03-10T21:27:32.993Z"
   },
   {
    "duration": 497,
    "start_time": "2023-03-10T21:27:33.120Z"
   },
   {
    "duration": 585,
    "start_time": "2023-03-10T21:27:33.618Z"
   },
   {
    "duration": 43,
    "start_time": "2023-03-10T21:27:34.206Z"
   },
   {
    "duration": 587,
    "start_time": "2023-03-10T21:27:34.251Z"
   },
   {
    "duration": 788,
    "start_time": "2023-03-10T21:27:34.839Z"
   },
   {
    "duration": 208,
    "start_time": "2023-03-10T21:27:35.629Z"
   },
   {
    "duration": 87,
    "start_time": "2023-03-10T21:27:35.838Z"
   },
   {
    "duration": 67,
    "start_time": "2023-03-10T21:27:35.929Z"
   },
   {
    "duration": 169,
    "start_time": "2023-03-10T21:27:35.997Z"
   },
   {
    "duration": 166,
    "start_time": "2023-03-10T21:27:36.168Z"
   },
   {
    "duration": 65,
    "start_time": "2023-03-10T21:27:36.336Z"
   },
   {
    "duration": 99,
    "start_time": "2023-03-10T21:27:36.403Z"
   },
   {
    "duration": 153,
    "start_time": "2023-03-10T21:27:36.504Z"
   },
   {
    "duration": 25,
    "start_time": "2023-03-10T21:27:36.658Z"
   },
   {
    "duration": 64,
    "start_time": "2023-03-10T21:27:36.685Z"
   },
   {
    "duration": 60,
    "start_time": "2023-03-10T21:27:36.751Z"
   },
   {
    "duration": 1471,
    "start_time": "2023-03-10T21:27:36.813Z"
   },
   {
    "duration": 5277,
    "start_time": "2023-03-10T21:28:02.844Z"
   },
   {
    "duration": 5627,
    "start_time": "2023-03-10T21:28:38.426Z"
   },
   {
    "duration": 44,
    "start_time": "2023-03-10T21:29:54.050Z"
   },
   {
    "duration": 1398,
    "start_time": "2023-03-10T21:30:22.060Z"
   },
   {
    "duration": 873,
    "start_time": "2023-03-10T21:30:23.459Z"
   },
   {
    "duration": 133,
    "start_time": "2023-03-10T21:30:24.333Z"
   },
   {
    "duration": 107,
    "start_time": "2023-03-10T21:30:24.468Z"
   },
   {
    "duration": 488,
    "start_time": "2023-03-10T21:30:24.577Z"
   },
   {
    "duration": 607,
    "start_time": "2023-03-10T21:30:25.067Z"
   },
   {
    "duration": 27,
    "start_time": "2023-03-10T21:30:25.676Z"
   },
   {
    "duration": 632,
    "start_time": "2023-03-10T21:30:25.704Z"
   },
   {
    "duration": 839,
    "start_time": "2023-03-10T21:30:26.340Z"
   },
   {
    "duration": 226,
    "start_time": "2023-03-10T21:30:27.182Z"
   },
   {
    "duration": 95,
    "start_time": "2023-03-10T21:30:27.410Z"
   },
   {
    "duration": 76,
    "start_time": "2023-03-10T21:30:27.507Z"
   },
   {
    "duration": 173,
    "start_time": "2023-03-10T21:30:27.585Z"
   },
   {
    "duration": 157,
    "start_time": "2023-03-10T21:30:27.760Z"
   },
   {
    "duration": 69,
    "start_time": "2023-03-10T21:30:27.921Z"
   },
   {
    "duration": 116,
    "start_time": "2023-03-10T21:30:27.992Z"
   },
   {
    "duration": 153,
    "start_time": "2023-03-10T21:30:28.109Z"
   },
   {
    "duration": 27,
    "start_time": "2023-03-10T21:30:28.264Z"
   },
   {
    "duration": 64,
    "start_time": "2023-03-10T21:30:28.293Z"
   },
   {
    "duration": 78,
    "start_time": "2023-03-10T21:30:28.359Z"
   },
   {
    "duration": 5439,
    "start_time": "2023-03-10T21:30:28.445Z"
   },
   {
    "duration": 197,
    "start_time": "2023-03-10T21:30:33.885Z"
   },
   {
    "duration": 136,
    "start_time": "2023-03-10T21:31:01.866Z"
   },
   {
    "duration": 5764,
    "start_time": "2023-03-10T21:32:54.587Z"
   },
   {
    "duration": 294,
    "start_time": "2023-03-10T21:38:07.217Z"
   },
   {
    "duration": 10,
    "start_time": "2023-03-10T21:44:14.006Z"
   },
   {
    "duration": 1444,
    "start_time": "2023-03-10T21:44:28.440Z"
   },
   {
    "duration": 909,
    "start_time": "2023-03-10T21:44:29.886Z"
   },
   {
    "duration": 150,
    "start_time": "2023-03-10T21:44:30.798Z"
   },
   {
    "duration": 100,
    "start_time": "2023-03-10T21:44:30.950Z"
   },
   {
    "duration": 482,
    "start_time": "2023-03-10T21:44:31.052Z"
   },
   {
    "duration": 546,
    "start_time": "2023-03-10T21:44:31.536Z"
   },
   {
    "duration": 38,
    "start_time": "2023-03-10T21:44:32.084Z"
   },
   {
    "duration": 632,
    "start_time": "2023-03-10T21:44:32.126Z"
   },
   {
    "duration": 779,
    "start_time": "2023-03-10T21:44:32.760Z"
   },
   {
    "duration": 209,
    "start_time": "2023-03-10T21:44:33.545Z"
   },
   {
    "duration": 99,
    "start_time": "2023-03-10T21:44:33.755Z"
   },
   {
    "duration": 79,
    "start_time": "2023-03-10T21:44:33.857Z"
   },
   {
    "duration": 151,
    "start_time": "2023-03-10T21:44:33.941Z"
   },
   {
    "duration": 167,
    "start_time": "2023-03-10T21:44:34.094Z"
   },
   {
    "duration": 68,
    "start_time": "2023-03-10T21:44:34.263Z"
   },
   {
    "duration": 114,
    "start_time": "2023-03-10T21:44:34.334Z"
   },
   {
    "duration": 129,
    "start_time": "2023-03-10T21:44:34.452Z"
   },
   {
    "duration": 25,
    "start_time": "2023-03-10T21:44:34.583Z"
   },
   {
    "duration": 53,
    "start_time": "2023-03-10T21:44:34.609Z"
   },
   {
    "duration": 71,
    "start_time": "2023-03-10T21:44:34.664Z"
   },
   {
    "duration": 5335,
    "start_time": "2023-03-10T21:44:34.736Z"
   },
   {
    "duration": 301,
    "start_time": "2023-03-10T21:44:40.073Z"
   },
   {
    "duration": 160,
    "start_time": "2023-03-10T21:44:40.376Z"
   },
   {
    "duration": 1013,
    "start_time": "2023-03-10T21:44:57.546Z"
   },
   {
    "duration": 1137,
    "start_time": "2023-03-10T21:47:24.345Z"
   },
   {
    "duration": 1100,
    "start_time": "2023-03-10T21:47:31.606Z"
   },
   {
    "duration": 662,
    "start_time": "2023-03-10T21:47:38.848Z"
   },
   {
    "duration": 3,
    "start_time": "2023-03-10T21:52:00.964Z"
   },
   {
    "duration": 1417,
    "start_time": "2023-03-10T22:09:42.523Z"
   },
   {
    "duration": 858,
    "start_time": "2023-03-10T22:09:43.942Z"
   },
   {
    "duration": 172,
    "start_time": "2023-03-10T22:09:44.802Z"
   },
   {
    "duration": 161,
    "start_time": "2023-03-10T22:09:44.976Z"
   },
   {
    "duration": 484,
    "start_time": "2023-03-10T22:09:45.139Z"
   },
   {
    "duration": 582,
    "start_time": "2023-03-10T22:09:45.625Z"
   },
   {
    "duration": 32,
    "start_time": "2023-03-10T22:09:46.209Z"
   },
   {
    "duration": 589,
    "start_time": "2023-03-10T22:09:46.243Z"
   },
   {
    "duration": 791,
    "start_time": "2023-03-10T22:09:46.834Z"
   },
   {
    "duration": 223,
    "start_time": "2023-03-10T22:09:47.628Z"
   },
   {
    "duration": 108,
    "start_time": "2023-03-10T22:09:47.853Z"
   },
   {
    "duration": 71,
    "start_time": "2023-03-10T22:09:47.963Z"
   },
   {
    "duration": 163,
    "start_time": "2023-03-10T22:09:48.036Z"
   },
   {
    "duration": 168,
    "start_time": "2023-03-10T22:09:48.202Z"
   },
   {
    "duration": 67,
    "start_time": "2023-03-10T22:09:48.372Z"
   },
   {
    "duration": 147,
    "start_time": "2023-03-10T22:09:48.441Z"
   },
   {
    "duration": 158,
    "start_time": "2023-03-10T22:09:48.589Z"
   },
   {
    "duration": 26,
    "start_time": "2023-03-10T22:09:48.749Z"
   },
   {
    "duration": 69,
    "start_time": "2023-03-10T22:09:48.777Z"
   },
   {
    "duration": 74,
    "start_time": "2023-03-10T22:09:48.848Z"
   },
   {
    "duration": 5683,
    "start_time": "2023-03-10T22:09:48.925Z"
   },
   {
    "duration": 3,
    "start_time": "2023-03-10T22:09:54.610Z"
   },
   {
    "duration": 916,
    "start_time": "2023-03-10T22:09:54.622Z"
   },
   {
    "duration": 4,
    "start_time": "2023-03-10T22:09:55.539Z"
   },
   {
    "duration": 48,
    "start_time": "2023-03-10T22:09:55.544Z"
   },
   {
    "duration": 0,
    "start_time": "2023-03-10T22:09:55.594Z"
   },
   {
    "duration": 44,
    "start_time": "2023-03-10T22:10:06.085Z"
   },
   {
    "duration": 153,
    "start_time": "2023-03-10T22:10:31.526Z"
   },
   {
    "duration": 860,
    "start_time": "2023-03-10T22:10:52.559Z"
   },
   {
    "duration": 165,
    "start_time": "2023-03-10T22:11:03.992Z"
   },
   {
    "duration": 645,
    "start_time": "2023-03-10T22:12:05.297Z"
   },
   {
    "duration": 53,
    "start_time": "2023-03-10T22:12:13.577Z"
   },
   {
    "duration": 10,
    "start_time": "2023-03-10T22:27:52.272Z"
   },
   {
    "duration": 10,
    "start_time": "2023-03-10T22:28:06.368Z"
   },
   {
    "duration": 1438,
    "start_time": "2023-03-10T22:28:21.781Z"
   },
   {
    "duration": 2931,
    "start_time": "2023-03-10T22:28:23.222Z"
   },
   {
    "duration": 115,
    "start_time": "2023-03-10T22:28:26.155Z"
   },
   {
    "duration": 108,
    "start_time": "2023-03-10T22:28:26.272Z"
   },
   {
    "duration": 482,
    "start_time": "2023-03-10T22:28:26.382Z"
   },
   {
    "duration": 657,
    "start_time": "2023-03-10T22:28:26.866Z"
   },
   {
    "duration": 28,
    "start_time": "2023-03-10T22:28:27.525Z"
   },
   {
    "duration": 582,
    "start_time": "2023-03-10T22:28:27.555Z"
   },
   {
    "duration": 779,
    "start_time": "2023-03-10T22:28:28.138Z"
   },
   {
    "duration": 219,
    "start_time": "2023-03-10T22:28:28.920Z"
   },
   {
    "duration": 95,
    "start_time": "2023-03-10T22:28:29.140Z"
   },
   {
    "duration": 59,
    "start_time": "2023-03-10T22:28:29.237Z"
   },
   {
    "duration": 163,
    "start_time": "2023-03-10T22:28:29.298Z"
   },
   {
    "duration": 173,
    "start_time": "2023-03-10T22:28:29.462Z"
   },
   {
    "duration": 87,
    "start_time": "2023-03-10T22:28:29.637Z"
   },
   {
    "duration": 130,
    "start_time": "2023-03-10T22:28:29.726Z"
   },
   {
    "duration": 138,
    "start_time": "2023-03-10T22:28:29.858Z"
   },
   {
    "duration": 34,
    "start_time": "2023-03-10T22:28:29.998Z"
   },
   {
    "duration": 45,
    "start_time": "2023-03-10T22:28:30.033Z"
   },
   {
    "duration": 78,
    "start_time": "2023-03-10T22:28:30.079Z"
   },
   {
    "duration": 5693,
    "start_time": "2023-03-10T22:28:30.159Z"
   },
   {
    "duration": 4,
    "start_time": "2023-03-10T22:28:35.854Z"
   },
   {
    "duration": 913,
    "start_time": "2023-03-10T22:28:35.860Z"
   },
   {
    "duration": 2,
    "start_time": "2023-03-10T22:28:36.775Z"
   },
   {
    "duration": 902,
    "start_time": "2023-03-10T22:28:36.779Z"
   },
   {
    "duration": 182,
    "start_time": "2023-03-10T22:28:37.683Z"
   },
   {
    "duration": 48,
    "start_time": "2023-03-10T22:29:04.378Z"
   },
   {
    "duration": 1360,
    "start_time": "2023-03-10T22:29:12.548Z"
   },
   {
    "duration": 2929,
    "start_time": "2023-03-10T22:29:13.910Z"
   },
   {
    "duration": 109,
    "start_time": "2023-03-10T22:29:16.841Z"
   },
   {
    "duration": 149,
    "start_time": "2023-03-10T22:29:16.952Z"
   },
   {
    "duration": 485,
    "start_time": "2023-03-10T22:29:17.103Z"
   },
   {
    "duration": 594,
    "start_time": "2023-03-10T22:29:17.589Z"
   },
   {
    "duration": 37,
    "start_time": "2023-03-10T22:29:18.185Z"
   },
   {
    "duration": 578,
    "start_time": "2023-03-10T22:29:18.224Z"
   },
   {
    "duration": 767,
    "start_time": "2023-03-10T22:29:18.803Z"
   },
   {
    "duration": 232,
    "start_time": "2023-03-10T22:29:19.573Z"
   },
   {
    "duration": 101,
    "start_time": "2023-03-10T22:29:19.807Z"
   },
   {
    "duration": 67,
    "start_time": "2023-03-10T22:29:19.909Z"
   },
   {
    "duration": 149,
    "start_time": "2023-03-10T22:29:19.977Z"
   },
   {
    "duration": 163,
    "start_time": "2023-03-10T22:29:20.129Z"
   },
   {
    "duration": 78,
    "start_time": "2023-03-10T22:29:20.294Z"
   },
   {
    "duration": 90,
    "start_time": "2023-03-10T22:29:20.374Z"
   },
   {
    "duration": 142,
    "start_time": "2023-03-10T22:29:20.465Z"
   },
   {
    "duration": 29,
    "start_time": "2023-03-10T22:29:20.608Z"
   },
   {
    "duration": 47,
    "start_time": "2023-03-10T22:29:20.640Z"
   },
   {
    "duration": 77,
    "start_time": "2023-03-10T22:29:20.689Z"
   },
   {
    "duration": 5488,
    "start_time": "2023-03-10T22:29:20.767Z"
   },
   {
    "duration": 3,
    "start_time": "2023-03-10T22:29:26.257Z"
   },
   {
    "duration": 908,
    "start_time": "2023-03-10T22:29:26.262Z"
   },
   {
    "duration": 3,
    "start_time": "2023-03-10T22:29:27.172Z"
   },
   {
    "duration": 865,
    "start_time": "2023-03-10T22:29:27.178Z"
   },
   {
    "duration": 172,
    "start_time": "2023-03-10T22:29:28.044Z"
   },
   {
    "duration": 47,
    "start_time": "2023-03-10T22:29:54.681Z"
   },
   {
    "duration": 1372,
    "start_time": "2023-03-10T22:30:06.230Z"
   },
   {
    "duration": 2930,
    "start_time": "2023-03-10T22:30:07.604Z"
   },
   {
    "duration": 116,
    "start_time": "2023-03-10T22:30:10.536Z"
   },
   {
    "duration": 109,
    "start_time": "2023-03-10T22:30:10.654Z"
   },
   {
    "duration": 469,
    "start_time": "2023-03-10T22:30:10.765Z"
   },
   {
    "duration": 567,
    "start_time": "2023-03-10T22:30:11.236Z"
   },
   {
    "duration": 33,
    "start_time": "2023-03-10T22:30:11.805Z"
   },
   {
    "duration": 560,
    "start_time": "2023-03-10T22:30:11.840Z"
   },
   {
    "duration": 745,
    "start_time": "2023-03-10T22:30:12.401Z"
   },
   {
    "duration": 207,
    "start_time": "2023-03-10T22:30:13.148Z"
   },
   {
    "duration": 88,
    "start_time": "2023-03-10T22:30:13.356Z"
   },
   {
    "duration": 59,
    "start_time": "2023-03-10T22:30:13.445Z"
   },
   {
    "duration": 156,
    "start_time": "2023-03-10T22:30:13.506Z"
   },
   {
    "duration": 160,
    "start_time": "2023-03-10T22:30:13.663Z"
   },
   {
    "duration": 63,
    "start_time": "2023-03-10T22:30:13.825Z"
   },
   {
    "duration": 108,
    "start_time": "2023-03-10T22:30:13.890Z"
   },
   {
    "duration": 133,
    "start_time": "2023-03-10T22:30:14.022Z"
   },
   {
    "duration": 25,
    "start_time": "2023-03-10T22:30:14.157Z"
   },
   {
    "duration": 55,
    "start_time": "2023-03-10T22:30:14.183Z"
   },
   {
    "duration": 60,
    "start_time": "2023-03-10T22:30:14.239Z"
   },
   {
    "duration": 5473,
    "start_time": "2023-03-10T22:30:14.300Z"
   },
   {
    "duration": 3,
    "start_time": "2023-03-10T22:30:19.775Z"
   },
   {
    "duration": 946,
    "start_time": "2023-03-10T22:30:19.779Z"
   },
   {
    "duration": 3,
    "start_time": "2023-03-10T22:30:20.726Z"
   },
   {
    "duration": 898,
    "start_time": "2023-03-10T22:30:20.731Z"
   },
   {
    "duration": 163,
    "start_time": "2023-03-10T22:30:21.631Z"
   },
   {
    "duration": 3,
    "start_time": "2023-03-10T22:30:21.796Z"
   },
   {
    "duration": 2,
    "start_time": "2023-03-10T22:30:27.425Z"
   },
   {
    "duration": 47,
    "start_time": "2023-03-10T22:30:55.938Z"
   },
   {
    "duration": 1443,
    "start_time": "2023-03-10T22:30:58.727Z"
   },
   {
    "duration": 3005,
    "start_time": "2023-03-10T22:31:00.171Z"
   },
   {
    "duration": 108,
    "start_time": "2023-03-10T22:31:03.178Z"
   },
   {
    "duration": 102,
    "start_time": "2023-03-10T22:31:03.288Z"
   },
   {
    "duration": 465,
    "start_time": "2023-03-10T22:31:03.392Z"
   },
   {
    "duration": 566,
    "start_time": "2023-03-10T22:31:03.859Z"
   },
   {
    "duration": 35,
    "start_time": "2023-03-10T22:31:04.427Z"
   },
   {
    "duration": 561,
    "start_time": "2023-03-10T22:31:04.463Z"
   },
   {
    "duration": 727,
    "start_time": "2023-03-10T22:31:05.025Z"
   },
   {
    "duration": 217,
    "start_time": "2023-03-10T22:31:05.753Z"
   },
   {
    "duration": 90,
    "start_time": "2023-03-10T22:31:05.972Z"
   },
   {
    "duration": 69,
    "start_time": "2023-03-10T22:31:06.064Z"
   },
   {
    "duration": 162,
    "start_time": "2023-03-10T22:31:06.135Z"
   },
   {
    "duration": 147,
    "start_time": "2023-03-10T22:31:06.300Z"
   },
   {
    "duration": 71,
    "start_time": "2023-03-10T22:31:06.450Z"
   },
   {
    "duration": 112,
    "start_time": "2023-03-10T22:31:06.523Z"
   },
   {
    "duration": 131,
    "start_time": "2023-03-10T22:31:06.637Z"
   },
   {
    "duration": 27,
    "start_time": "2023-03-10T22:31:06.771Z"
   },
   {
    "duration": 65,
    "start_time": "2023-03-10T22:31:06.799Z"
   },
   {
    "duration": 70,
    "start_time": "2023-03-10T22:31:06.866Z"
   },
   {
    "duration": 5660,
    "start_time": "2023-03-10T22:31:06.938Z"
   },
   {
    "duration": 3,
    "start_time": "2023-03-10T22:31:12.599Z"
   },
   {
    "duration": 939,
    "start_time": "2023-03-10T22:31:12.603Z"
   },
   {
    "duration": 3,
    "start_time": "2023-03-10T22:31:13.544Z"
   },
   {
    "duration": 893,
    "start_time": "2023-03-10T22:31:13.549Z"
   },
   {
    "duration": 171,
    "start_time": "2023-03-10T22:31:14.444Z"
   },
   {
    "duration": 1381,
    "start_time": "2023-03-10T22:31:41.222Z"
   },
   {
    "duration": 2866,
    "start_time": "2023-03-10T22:31:42.605Z"
   },
   {
    "duration": 111,
    "start_time": "2023-03-10T22:31:45.472Z"
   },
   {
    "duration": 103,
    "start_time": "2023-03-10T22:31:45.585Z"
   },
   {
    "duration": 452,
    "start_time": "2023-03-10T22:31:45.690Z"
   },
   {
    "duration": 520,
    "start_time": "2023-03-10T22:31:46.143Z"
   },
   {
    "duration": 27,
    "start_time": "2023-03-10T22:31:46.665Z"
   },
   {
    "duration": 565,
    "start_time": "2023-03-10T22:31:46.694Z"
   },
   {
    "duration": 751,
    "start_time": "2023-03-10T22:31:47.260Z"
   },
   {
    "duration": 222,
    "start_time": "2023-03-10T22:31:48.013Z"
   },
   {
    "duration": 96,
    "start_time": "2023-03-10T22:31:48.237Z"
   },
   {
    "duration": 58,
    "start_time": "2023-03-10T22:31:48.334Z"
   },
   {
    "duration": 156,
    "start_time": "2023-03-10T22:31:48.394Z"
   },
   {
    "duration": 143,
    "start_time": "2023-03-10T22:31:48.553Z"
   },
   {
    "duration": 63,
    "start_time": "2023-03-10T22:31:48.698Z"
   },
   {
    "duration": 93,
    "start_time": "2023-03-10T22:31:48.763Z"
   },
   {
    "duration": 143,
    "start_time": "2023-03-10T22:31:48.857Z"
   },
   {
    "duration": 36,
    "start_time": "2023-03-10T22:31:49.002Z"
   },
   {
    "duration": 50,
    "start_time": "2023-03-10T22:31:49.039Z"
   },
   {
    "duration": 73,
    "start_time": "2023-03-10T22:31:49.090Z"
   },
   {
    "duration": 5490,
    "start_time": "2023-03-10T22:31:49.165Z"
   },
   {
    "duration": 2,
    "start_time": "2023-03-10T22:31:54.657Z"
   },
   {
    "duration": 888,
    "start_time": "2023-03-10T22:31:54.660Z"
   },
   {
    "duration": 2,
    "start_time": "2023-03-10T22:31:55.550Z"
   },
   {
    "duration": 852,
    "start_time": "2023-03-10T22:31:55.553Z"
   },
   {
    "duration": 172,
    "start_time": "2023-03-10T22:31:56.407Z"
   },
   {
    "duration": 2,
    "start_time": "2023-03-10T22:31:56.581Z"
   },
   {
    "duration": 106,
    "start_time": "2023-03-10T22:42:50.333Z"
   },
   {
    "duration": 2,
    "start_time": "2023-03-10T22:47:09.215Z"
   },
   {
    "duration": 1373,
    "start_time": "2023-03-10T22:47:14.239Z"
   },
   {
    "duration": 884,
    "start_time": "2023-03-10T22:47:15.614Z"
   },
   {
    "duration": 123,
    "start_time": "2023-03-10T22:47:16.500Z"
   },
   {
    "duration": 110,
    "start_time": "2023-03-10T22:47:16.625Z"
   },
   {
    "duration": 491,
    "start_time": "2023-03-10T22:47:16.736Z"
   },
   {
    "duration": 581,
    "start_time": "2023-03-10T22:47:17.229Z"
   },
   {
    "duration": 34,
    "start_time": "2023-03-10T22:47:17.811Z"
   },
   {
    "duration": 593,
    "start_time": "2023-03-10T22:47:17.847Z"
   },
   {
    "duration": 760,
    "start_time": "2023-03-10T22:47:18.442Z"
   },
   {
    "duration": 215,
    "start_time": "2023-03-10T22:47:19.205Z"
   },
   {
    "duration": 80,
    "start_time": "2023-03-10T22:47:19.422Z"
   },
   {
    "duration": 75,
    "start_time": "2023-03-10T22:47:19.504Z"
   },
   {
    "duration": 167,
    "start_time": "2023-03-10T22:47:19.582Z"
   },
   {
    "duration": 162,
    "start_time": "2023-03-10T22:47:19.751Z"
   },
   {
    "duration": 60,
    "start_time": "2023-03-10T22:47:19.915Z"
   },
   {
    "duration": 102,
    "start_time": "2023-03-10T22:47:19.977Z"
   },
   {
    "duration": 150,
    "start_time": "2023-03-10T22:47:20.081Z"
   },
   {
    "duration": 31,
    "start_time": "2023-03-10T22:47:20.234Z"
   },
   {
    "duration": 70,
    "start_time": "2023-03-10T22:47:20.267Z"
   },
   {
    "duration": 62,
    "start_time": "2023-03-10T22:47:20.338Z"
   },
   {
    "duration": 5554,
    "start_time": "2023-03-10T22:47:20.402Z"
   },
   {
    "duration": 890,
    "start_time": "2023-03-10T22:47:25.958Z"
   },
   {
    "duration": 2,
    "start_time": "2023-03-10T22:47:26.850Z"
   },
   {
    "duration": 864,
    "start_time": "2023-03-10T22:47:26.854Z"
   },
   {
    "duration": 165,
    "start_time": "2023-03-10T22:47:27.720Z"
   },
   {
    "duration": 2,
    "start_time": "2023-03-10T22:47:27.887Z"
   },
   {
    "duration": 55,
    "start_time": "2023-03-10T22:47:27.891Z"
   },
   {
    "duration": 2,
    "start_time": "2023-03-10T22:47:27.949Z"
   },
   {
    "duration": 47,
    "start_time": "2023-03-10T22:47:27.953Z"
   },
   {
    "duration": 1416,
    "start_time": "2023-03-10T22:48:38.293Z"
   },
   {
    "duration": 909,
    "start_time": "2023-03-10T22:48:39.711Z"
   },
   {
    "duration": 122,
    "start_time": "2023-03-10T22:48:40.621Z"
   },
   {
    "duration": 113,
    "start_time": "2023-03-10T22:48:40.744Z"
   },
   {
    "duration": 488,
    "start_time": "2023-03-10T22:48:40.859Z"
   },
   {
    "duration": 609,
    "start_time": "2023-03-10T22:48:41.350Z"
   },
   {
    "duration": 28,
    "start_time": "2023-03-10T22:48:41.961Z"
   },
   {
    "duration": 584,
    "start_time": "2023-03-10T22:48:41.990Z"
   },
   {
    "duration": 753,
    "start_time": "2023-03-10T22:48:42.576Z"
   },
   {
    "duration": 223,
    "start_time": "2023-03-10T22:48:43.331Z"
   },
   {
    "duration": 89,
    "start_time": "2023-03-10T22:48:43.556Z"
   },
   {
    "duration": 59,
    "start_time": "2023-03-10T22:48:43.647Z"
   },
   {
    "duration": 159,
    "start_time": "2023-03-10T22:48:43.721Z"
   },
   {
    "duration": 151,
    "start_time": "2023-03-10T22:48:43.883Z"
   },
   {
    "duration": 58,
    "start_time": "2023-03-10T22:48:44.036Z"
   },
   {
    "duration": 94,
    "start_time": "2023-03-10T22:48:44.096Z"
   },
   {
    "duration": 153,
    "start_time": "2023-03-10T22:48:44.192Z"
   },
   {
    "duration": 25,
    "start_time": "2023-03-10T22:48:44.346Z"
   },
   {
    "duration": 60,
    "start_time": "2023-03-10T22:48:44.373Z"
   },
   {
    "duration": 62,
    "start_time": "2023-03-10T22:48:44.434Z"
   },
   {
    "duration": 5527,
    "start_time": "2023-03-10T22:48:44.498Z"
   },
   {
    "duration": 936,
    "start_time": "2023-03-10T22:48:50.026Z"
   },
   {
    "duration": 3,
    "start_time": "2023-03-10T22:48:50.964Z"
   },
   {
    "duration": 876,
    "start_time": "2023-03-10T22:48:50.968Z"
   },
   {
    "duration": 163,
    "start_time": "2023-03-10T22:48:51.846Z"
   },
   {
    "duration": 2,
    "start_time": "2023-03-10T22:48:52.011Z"
   },
   {
    "duration": 46,
    "start_time": "2023-03-10T22:48:52.020Z"
   },
   {
    "duration": 179,
    "start_time": "2023-03-10T22:48:52.067Z"
   },
   {
    "duration": 47,
    "start_time": "2023-03-10T22:48:52.248Z"
   },
   {
    "duration": 48,
    "start_time": "2023-03-10T22:49:12.442Z"
   },
   {
    "duration": 112,
    "start_time": "2023-03-10T22:49:19.850Z"
   },
   {
    "duration": 11,
    "start_time": "2023-03-10T22:49:48.227Z"
   },
   {
    "duration": 11,
    "start_time": "2023-03-10T22:50:11.268Z"
   },
   {
    "duration": 459,
    "start_time": "2023-03-10T22:50:30.653Z"
   },
   {
    "duration": 448,
    "start_time": "2023-03-10T22:52:08.009Z"
   },
   {
    "duration": 453,
    "start_time": "2023-03-10T22:54:16.493Z"
   },
   {
    "duration": 1410,
    "start_time": "2023-03-10T22:56:43.481Z"
   },
   {
    "duration": 2894,
    "start_time": "2023-03-10T22:56:44.893Z"
   },
   {
    "duration": 108,
    "start_time": "2023-03-10T22:56:47.789Z"
   },
   {
    "duration": 106,
    "start_time": "2023-03-10T22:56:47.899Z"
   },
   {
    "duration": 456,
    "start_time": "2023-03-10T22:56:48.008Z"
   },
   {
    "duration": 544,
    "start_time": "2023-03-10T22:56:48.465Z"
   },
   {
    "duration": 28,
    "start_time": "2023-03-10T22:56:49.011Z"
   },
   {
    "duration": 585,
    "start_time": "2023-03-10T22:56:49.040Z"
   },
   {
    "duration": 763,
    "start_time": "2023-03-10T22:56:49.627Z"
   },
   {
    "duration": 205,
    "start_time": "2023-03-10T22:56:50.391Z"
   },
   {
    "duration": 84,
    "start_time": "2023-03-10T22:56:50.598Z"
   },
   {
    "duration": 61,
    "start_time": "2023-03-10T22:56:50.684Z"
   },
   {
    "duration": 154,
    "start_time": "2023-03-10T22:56:50.746Z"
   },
   {
    "duration": 144,
    "start_time": "2023-03-10T22:56:50.903Z"
   },
   {
    "duration": 55,
    "start_time": "2023-03-10T22:56:51.050Z"
   },
   {
    "duration": 93,
    "start_time": "2023-03-10T22:56:51.106Z"
   },
   {
    "duration": 134,
    "start_time": "2023-03-10T22:56:51.222Z"
   },
   {
    "duration": 26,
    "start_time": "2023-03-10T22:56:51.357Z"
   },
   {
    "duration": 58,
    "start_time": "2023-03-10T22:56:51.385Z"
   },
   {
    "duration": 63,
    "start_time": "2023-03-10T22:56:51.445Z"
   },
   {
    "duration": 5500,
    "start_time": "2023-03-10T22:56:51.522Z"
   },
   {
    "duration": 922,
    "start_time": "2023-03-10T22:56:57.023Z"
   },
   {
    "duration": 3,
    "start_time": "2023-03-10T22:56:57.946Z"
   },
   {
    "duration": 873,
    "start_time": "2023-03-10T22:56:57.951Z"
   },
   {
    "duration": 169,
    "start_time": "2023-03-10T22:56:58.825Z"
   },
   {
    "duration": 2,
    "start_time": "2023-03-10T22:56:58.996Z"
   },
   {
    "duration": 68,
    "start_time": "2023-03-10T22:56:58.999Z"
   },
   {
    "duration": 157,
    "start_time": "2023-03-10T22:56:59.069Z"
   },
   {
    "duration": 55,
    "start_time": "2023-03-10T22:56:59.228Z"
   },
   {
    "duration": 1409,
    "start_time": "2023-03-10T22:59:56.021Z"
   },
   {
    "duration": 2951,
    "start_time": "2023-03-10T22:59:57.433Z"
   },
   {
    "duration": 127,
    "start_time": "2023-03-10T23:00:00.388Z"
   },
   {
    "duration": 117,
    "start_time": "2023-03-10T23:00:00.521Z"
   },
   {
    "duration": 528,
    "start_time": "2023-03-10T23:00:00.640Z"
   },
   {
    "duration": 636,
    "start_time": "2023-03-10T23:00:01.170Z"
   },
   {
    "duration": 30,
    "start_time": "2023-03-10T23:00:01.808Z"
   },
   {
    "duration": 599,
    "start_time": "2023-03-10T23:00:01.840Z"
   },
   {
    "duration": 771,
    "start_time": "2023-03-10T23:00:02.443Z"
   },
   {
    "duration": 220,
    "start_time": "2023-03-10T23:00:03.216Z"
   },
   {
    "duration": 92,
    "start_time": "2023-03-10T23:00:03.438Z"
   },
   {
    "duration": 61,
    "start_time": "2023-03-10T23:00:03.532Z"
   },
   {
    "duration": 168,
    "start_time": "2023-03-10T23:00:03.594Z"
   },
   {
    "duration": 146,
    "start_time": "2023-03-10T23:00:03.764Z"
   },
   {
    "duration": 64,
    "start_time": "2023-03-10T23:00:03.912Z"
   },
   {
    "duration": 124,
    "start_time": "2023-03-10T23:00:03.978Z"
   },
   {
    "duration": 138,
    "start_time": "2023-03-10T23:00:04.120Z"
   },
   {
    "duration": 25,
    "start_time": "2023-03-10T23:00:04.260Z"
   },
   {
    "duration": 61,
    "start_time": "2023-03-10T23:00:04.287Z"
   },
   {
    "duration": 74,
    "start_time": "2023-03-10T23:00:04.350Z"
   },
   {
    "duration": 5675,
    "start_time": "2023-03-10T23:00:04.426Z"
   },
   {
    "duration": 967,
    "start_time": "2023-03-10T23:00:10.103Z"
   },
   {
    "duration": 3,
    "start_time": "2023-03-10T23:00:11.072Z"
   },
   {
    "duration": 917,
    "start_time": "2023-03-10T23:00:11.076Z"
   },
   {
    "duration": 174,
    "start_time": "2023-03-10T23:00:11.994Z"
   },
   {
    "duration": 3,
    "start_time": "2023-03-10T23:00:12.170Z"
   },
   {
    "duration": 62,
    "start_time": "2023-03-10T23:00:12.175Z"
   },
   {
    "duration": 167,
    "start_time": "2023-03-10T23:00:12.239Z"
   },
   {
    "duration": 47,
    "start_time": "2023-03-10T23:01:46.255Z"
   },
   {
    "duration": 1362,
    "start_time": "2023-03-10T23:01:51.351Z"
   },
   {
    "duration": 2879,
    "start_time": "2023-03-10T23:01:52.715Z"
   },
   {
    "duration": 117,
    "start_time": "2023-03-10T23:01:55.596Z"
   },
   {
    "duration": 108,
    "start_time": "2023-03-10T23:01:55.715Z"
   },
   {
    "duration": 478,
    "start_time": "2023-03-10T23:01:55.825Z"
   },
   {
    "duration": 569,
    "start_time": "2023-03-10T23:01:56.305Z"
   },
   {
    "duration": 28,
    "start_time": "2023-03-10T23:01:56.876Z"
   },
   {
    "duration": 575,
    "start_time": "2023-03-10T23:01:56.905Z"
   },
   {
    "duration": 772,
    "start_time": "2023-03-10T23:01:57.481Z"
   },
   {
    "duration": 215,
    "start_time": "2023-03-10T23:01:58.256Z"
   },
   {
    "duration": 92,
    "start_time": "2023-03-10T23:01:58.472Z"
   },
   {
    "duration": 65,
    "start_time": "2023-03-10T23:01:58.565Z"
   },
   {
    "duration": 169,
    "start_time": "2023-03-10T23:01:58.632Z"
   },
   {
    "duration": 158,
    "start_time": "2023-03-10T23:01:58.803Z"
   },
   {
    "duration": 63,
    "start_time": "2023-03-10T23:01:58.963Z"
   },
   {
    "duration": 104,
    "start_time": "2023-03-10T23:01:59.028Z"
   },
   {
    "duration": 133,
    "start_time": "2023-03-10T23:01:59.134Z"
   },
   {
    "duration": 25,
    "start_time": "2023-03-10T23:01:59.269Z"
   },
   {
    "duration": 62,
    "start_time": "2023-03-10T23:01:59.297Z"
   },
   {
    "duration": 67,
    "start_time": "2023-03-10T23:01:59.361Z"
   },
   {
    "duration": 5533,
    "start_time": "2023-03-10T23:01:59.430Z"
   },
   {
    "duration": 886,
    "start_time": "2023-03-10T23:02:04.965Z"
   },
   {
    "duration": 4,
    "start_time": "2023-03-10T23:02:05.853Z"
   },
   {
    "duration": 879,
    "start_time": "2023-03-10T23:02:05.858Z"
   },
   {
    "duration": 170,
    "start_time": "2023-03-10T23:02:06.739Z"
   },
   {
    "duration": 3,
    "start_time": "2023-03-10T23:02:06.911Z"
   },
   {
    "duration": 50,
    "start_time": "2023-03-10T23:02:06.922Z"
   },
   {
    "duration": 1638,
    "start_time": "2023-03-11T07:22:48.087Z"
   },
   {
    "duration": 1149,
    "start_time": "2023-03-11T07:22:49.727Z"
   },
   {
    "duration": 140,
    "start_time": "2023-03-11T07:22:50.878Z"
   },
   {
    "duration": 108,
    "start_time": "2023-03-11T07:22:51.020Z"
   },
   {
    "duration": 477,
    "start_time": "2023-03-11T07:22:51.130Z"
   },
   {
    "duration": 563,
    "start_time": "2023-03-11T07:22:51.609Z"
   },
   {
    "duration": 32,
    "start_time": "2023-03-11T07:22:52.174Z"
   },
   {
    "duration": 652,
    "start_time": "2023-03-11T07:22:52.208Z"
   },
   {
    "duration": 753,
    "start_time": "2023-03-11T07:22:52.862Z"
   },
   {
    "duration": 235,
    "start_time": "2023-03-11T07:22:53.617Z"
   },
   {
    "duration": 102,
    "start_time": "2023-03-11T07:22:53.854Z"
   },
   {
    "duration": 74,
    "start_time": "2023-03-11T07:22:53.957Z"
   },
   {
    "duration": 160,
    "start_time": "2023-03-11T07:22:54.033Z"
   },
   {
    "duration": 174,
    "start_time": "2023-03-11T07:22:54.195Z"
   },
   {
    "duration": 74,
    "start_time": "2023-03-11T07:22:54.370Z"
   },
   {
    "duration": 101,
    "start_time": "2023-03-11T07:22:54.446Z"
   },
   {
    "duration": 171,
    "start_time": "2023-03-11T07:22:54.549Z"
   },
   {
    "duration": 25,
    "start_time": "2023-03-11T07:22:54.723Z"
   },
   {
    "duration": 65,
    "start_time": "2023-03-11T07:22:54.751Z"
   },
   {
    "duration": 85,
    "start_time": "2023-03-11T07:22:54.818Z"
   },
   {
    "duration": 4080,
    "start_time": "2023-03-11T07:22:54.906Z"
   },
   {
    "duration": 1007,
    "start_time": "2023-03-11T07:22:58.988Z"
   },
   {
    "duration": 3,
    "start_time": "2023-03-11T07:22:59.997Z"
   },
   {
    "duration": 922,
    "start_time": "2023-03-11T07:23:00.002Z"
   },
   {
    "duration": 174,
    "start_time": "2023-03-11T07:23:00.926Z"
   },
   {
    "duration": 49,
    "start_time": "2023-03-11T07:24:45.170Z"
   },
   {
    "duration": 1538,
    "start_time": "2023-03-11T07:24:52.208Z"
   },
   {
    "duration": 1075,
    "start_time": "2023-03-11T07:24:53.748Z"
   },
   {
    "duration": 149,
    "start_time": "2023-03-11T07:24:54.826Z"
   },
   {
    "duration": 113,
    "start_time": "2023-03-11T07:24:54.978Z"
   },
   {
    "duration": 467,
    "start_time": "2023-03-11T07:24:55.093Z"
   },
   {
    "duration": 550,
    "start_time": "2023-03-11T07:24:55.563Z"
   },
   {
    "duration": 33,
    "start_time": "2023-03-11T07:24:56.115Z"
   },
   {
    "duration": 583,
    "start_time": "2023-03-11T07:24:56.151Z"
   },
   {
    "duration": 797,
    "start_time": "2023-03-11T07:24:56.735Z"
   },
   {
    "duration": 220,
    "start_time": "2023-03-11T07:24:57.535Z"
   },
   {
    "duration": 106,
    "start_time": "2023-03-11T07:24:57.757Z"
   },
   {
    "duration": 78,
    "start_time": "2023-03-11T07:24:57.865Z"
   },
   {
    "duration": 165,
    "start_time": "2023-03-11T07:24:57.945Z"
   },
   {
    "duration": 183,
    "start_time": "2023-03-11T07:24:58.112Z"
   },
   {
    "duration": 86,
    "start_time": "2023-03-11T07:24:58.297Z"
   },
   {
    "duration": 111,
    "start_time": "2023-03-11T07:24:58.385Z"
   },
   {
    "duration": 165,
    "start_time": "2023-03-11T07:24:58.498Z"
   },
   {
    "duration": 34,
    "start_time": "2023-03-11T07:24:58.665Z"
   },
   {
    "duration": 46,
    "start_time": "2023-03-11T07:24:58.700Z"
   },
   {
    "duration": 93,
    "start_time": "2023-03-11T07:24:58.748Z"
   },
   {
    "duration": 4149,
    "start_time": "2023-03-11T07:24:58.843Z"
   },
   {
    "duration": 904,
    "start_time": "2023-03-11T07:25:02.994Z"
   },
   {
    "duration": 3,
    "start_time": "2023-03-11T07:25:03.899Z"
   },
   {
    "duration": 929,
    "start_time": "2023-03-11T07:25:03.904Z"
   },
   {
    "duration": 180,
    "start_time": "2023-03-11T07:25:04.835Z"
   },
   {
    "duration": 3,
    "start_time": "2023-03-11T07:25:42.318Z"
   },
   {
    "duration": 1506,
    "start_time": "2023-03-11T07:25:58.792Z"
   },
   {
    "duration": 1102,
    "start_time": "2023-03-11T07:26:00.300Z"
   },
   {
    "duration": 144,
    "start_time": "2023-03-11T07:26:01.404Z"
   },
   {
    "duration": 127,
    "start_time": "2023-03-11T07:26:01.550Z"
   },
   {
    "duration": 494,
    "start_time": "2023-03-11T07:26:01.679Z"
   },
   {
    "duration": 594,
    "start_time": "2023-03-11T07:26:02.175Z"
   },
   {
    "duration": 38,
    "start_time": "2023-03-11T07:26:02.771Z"
   },
   {
    "duration": 582,
    "start_time": "2023-03-11T07:26:02.811Z"
   },
   {
    "duration": 772,
    "start_time": "2023-03-11T07:26:03.395Z"
   },
   {
    "duration": 223,
    "start_time": "2023-03-11T07:26:04.170Z"
   },
   {
    "duration": 107,
    "start_time": "2023-03-11T07:26:04.395Z"
   },
   {
    "duration": 81,
    "start_time": "2023-03-11T07:26:04.504Z"
   },
   {
    "duration": 164,
    "start_time": "2023-03-11T07:26:04.586Z"
   },
   {
    "duration": 181,
    "start_time": "2023-03-11T07:26:04.751Z"
   },
   {
    "duration": 82,
    "start_time": "2023-03-11T07:26:04.933Z"
   },
   {
    "duration": 117,
    "start_time": "2023-03-11T07:26:05.017Z"
   },
   {
    "duration": 177,
    "start_time": "2023-03-11T07:26:05.135Z"
   },
   {
    "duration": 28,
    "start_time": "2023-03-11T07:26:05.314Z"
   },
   {
    "duration": 58,
    "start_time": "2023-03-11T07:26:05.344Z"
   },
   {
    "duration": 87,
    "start_time": "2023-03-11T07:26:05.404Z"
   },
   {
    "duration": 4178,
    "start_time": "2023-03-11T07:26:05.493Z"
   },
   {
    "duration": 891,
    "start_time": "2023-03-11T07:26:09.676Z"
   },
   {
    "duration": 10,
    "start_time": "2023-03-11T07:26:10.569Z"
   },
   {
    "duration": 894,
    "start_time": "2023-03-11T07:26:10.580Z"
   },
   {
    "duration": 3,
    "start_time": "2023-03-11T07:26:11.475Z"
   },
   {
    "duration": 21845,
    "start_time": "2023-03-11T07:26:11.480Z"
   },
   {
    "duration": 0,
    "start_time": "2023-03-11T07:26:33.327Z"
   },
   {
    "duration": 0,
    "start_time": "2023-03-11T07:26:33.329Z"
   },
   {
    "duration": 0,
    "start_time": "2023-03-11T07:26:33.330Z"
   },
   {
    "duration": 20980,
    "start_time": "2023-03-11T07:26:58.108Z"
   },
   {
    "duration": 27469,
    "start_time": "2023-03-11T07:27:28.517Z"
   },
   {
    "duration": 23772,
    "start_time": "2023-03-11T07:28:03.118Z"
   },
   {
    "duration": 22654,
    "start_time": "2023-03-11T07:28:39.032Z"
   },
   {
    "duration": 21625,
    "start_time": "2023-03-11T07:29:11.353Z"
   },
   {
    "duration": 22175,
    "start_time": "2023-03-11T07:29:59.210Z"
   },
   {
    "duration": 1404,
    "start_time": "2023-03-11T07:30:37.689Z"
   },
   {
    "duration": 862,
    "start_time": "2023-03-11T07:30:39.095Z"
   },
   {
    "duration": 140,
    "start_time": "2023-03-11T07:30:39.959Z"
   },
   {
    "duration": 111,
    "start_time": "2023-03-11T07:30:40.102Z"
   },
   {
    "duration": 501,
    "start_time": "2023-03-11T07:30:40.215Z"
   },
   {
    "duration": 629,
    "start_time": "2023-03-11T07:30:40.718Z"
   },
   {
    "duration": 36,
    "start_time": "2023-03-11T07:30:41.349Z"
   },
   {
    "duration": 619,
    "start_time": "2023-03-11T07:30:41.387Z"
   },
   {
    "duration": 810,
    "start_time": "2023-03-11T07:30:42.008Z"
   },
   {
    "duration": 233,
    "start_time": "2023-03-11T07:30:42.820Z"
   },
   {
    "duration": 107,
    "start_time": "2023-03-11T07:30:43.055Z"
   },
   {
    "duration": 86,
    "start_time": "2023-03-11T07:30:43.163Z"
   },
   {
    "duration": 169,
    "start_time": "2023-03-11T07:30:43.251Z"
   },
   {
    "duration": 187,
    "start_time": "2023-03-11T07:30:43.422Z"
   },
   {
    "duration": 81,
    "start_time": "2023-03-11T07:30:43.612Z"
   },
   {
    "duration": 122,
    "start_time": "2023-03-11T07:30:43.695Z"
   },
   {
    "duration": 186,
    "start_time": "2023-03-11T07:30:43.819Z"
   },
   {
    "duration": 27,
    "start_time": "2023-03-11T07:30:44.007Z"
   },
   {
    "duration": 62,
    "start_time": "2023-03-11T07:30:44.036Z"
   },
   {
    "duration": 86,
    "start_time": "2023-03-11T07:30:44.100Z"
   },
   {
    "duration": 4135,
    "start_time": "2023-03-11T07:30:44.188Z"
   },
   {
    "duration": 909,
    "start_time": "2023-03-11T07:30:48.324Z"
   },
   {
    "duration": 2,
    "start_time": "2023-03-11T07:30:49.235Z"
   },
   {
    "duration": 907,
    "start_time": "2023-03-11T07:30:49.239Z"
   },
   {
    "duration": 3,
    "start_time": "2023-03-11T07:30:50.148Z"
   },
   {
    "duration": 20,
    "start_time": "2023-03-11T07:30:50.154Z"
   },
   {
    "duration": 11,
    "start_time": "2023-03-11T07:30:50.176Z"
   },
   {
    "duration": 12,
    "start_time": "2023-03-11T07:30:50.191Z"
   },
   {
    "duration": 96,
    "start_time": "2023-03-11T07:30:50.204Z"
   },
   {
    "duration": 117,
    "start_time": "2023-03-11T07:32:32.709Z"
   },
   {
    "duration": 4,
    "start_time": "2023-03-11T07:34:10.226Z"
   },
   {
    "duration": 1441,
    "start_time": "2023-03-11T07:34:35.411Z"
   },
   {
    "duration": 154,
    "start_time": "2023-03-11T07:34:49.035Z"
   },
   {
    "duration": 1027,
    "start_time": "2023-03-11T07:35:41.021Z"
   },
   {
    "duration": 24,
    "start_time": "2023-03-11T07:36:06.334Z"
   },
   {
    "duration": 550,
    "start_time": "2023-03-11T07:36:34.374Z"
   },
   {
    "duration": 36,
    "start_time": "2023-03-11T07:36:52.183Z"
   },
   {
    "duration": 34,
    "start_time": "2023-03-11T07:38:14.883Z"
   },
   {
    "duration": 46,
    "start_time": "2023-03-11T07:38:53.244Z"
   },
   {
    "duration": 33,
    "start_time": "2023-03-11T07:39:02.996Z"
   },
   {
    "duration": 78,
    "start_time": "2023-03-11T07:39:19.140Z"
   },
   {
    "duration": 1534,
    "start_time": "2023-03-11T07:39:58.667Z"
   },
   {
    "duration": 853,
    "start_time": "2023-03-11T07:40:00.204Z"
   },
   {
    "duration": 135,
    "start_time": "2023-03-11T07:40:01.059Z"
   },
   {
    "duration": 114,
    "start_time": "2023-03-11T07:40:01.196Z"
   },
   {
    "duration": 484,
    "start_time": "2023-03-11T07:40:01.312Z"
   },
   {
    "duration": 552,
    "start_time": "2023-03-11T07:40:01.797Z"
   },
   {
    "duration": 32,
    "start_time": "2023-03-11T07:40:02.351Z"
   },
   {
    "duration": 612,
    "start_time": "2023-03-11T07:40:02.385Z"
   },
   {
    "duration": 733,
    "start_time": "2023-03-11T07:40:02.999Z"
   },
   {
    "duration": 209,
    "start_time": "2023-03-11T07:40:03.735Z"
   },
   {
    "duration": 97,
    "start_time": "2023-03-11T07:40:03.946Z"
   },
   {
    "duration": 76,
    "start_time": "2023-03-11T07:40:04.044Z"
   },
   {
    "duration": 186,
    "start_time": "2023-03-11T07:40:04.122Z"
   },
   {
    "duration": 165,
    "start_time": "2023-03-11T07:40:04.312Z"
   },
   {
    "duration": 69,
    "start_time": "2023-03-11T07:40:04.479Z"
   },
   {
    "duration": 102,
    "start_time": "2023-03-11T07:40:04.550Z"
   },
   {
    "duration": 164,
    "start_time": "2023-03-11T07:40:04.653Z"
   },
   {
    "duration": 28,
    "start_time": "2023-03-11T07:40:04.819Z"
   },
   {
    "duration": 60,
    "start_time": "2023-03-11T07:40:04.849Z"
   },
   {
    "duration": 76,
    "start_time": "2023-03-11T07:40:04.911Z"
   },
   {
    "duration": 4379,
    "start_time": "2023-03-11T07:40:04.989Z"
   },
   {
    "duration": 977,
    "start_time": "2023-03-11T07:40:09.370Z"
   },
   {
    "duration": 2,
    "start_time": "2023-03-11T07:40:10.349Z"
   },
   {
    "duration": 895,
    "start_time": "2023-03-11T07:40:10.353Z"
   },
   {
    "duration": 3,
    "start_time": "2023-03-11T07:40:11.250Z"
   },
   {
    "duration": 10,
    "start_time": "2023-03-11T07:40:11.255Z"
   },
   {
    "duration": 11,
    "start_time": "2023-03-11T07:40:11.267Z"
   },
   {
    "duration": 18,
    "start_time": "2023-03-11T07:40:11.281Z"
   },
   {
    "duration": 75,
    "start_time": "2023-03-11T07:40:11.301Z"
   },
   {
    "duration": 30,
    "start_time": "2023-03-11T07:40:30.826Z"
   },
   {
    "duration": 4,
    "start_time": "2023-03-11T07:40:59.355Z"
   },
   {
    "duration": 19,
    "start_time": "2023-03-11T07:41:18.331Z"
   },
   {
    "duration": 1580,
    "start_time": "2023-03-11T07:41:33.868Z"
   },
   {
    "duration": 18,
    "start_time": "2023-03-11T07:41:47.549Z"
   },
   {
    "duration": 25,
    "start_time": "2023-03-11T07:42:14.550Z"
   },
   {
    "duration": 125,
    "start_time": "2023-03-11T07:42:30.278Z"
   },
   {
    "duration": 521,
    "start_time": "2023-03-11T07:42:40.063Z"
   },
   {
    "duration": 35,
    "start_time": "2023-03-11T07:42:51.984Z"
   },
   {
    "duration": 35,
    "start_time": "2023-03-11T07:43:20.408Z"
   },
   {
    "duration": 32,
    "start_time": "2023-03-11T07:44:00.986Z"
   },
   {
    "duration": 1497,
    "start_time": "2023-03-11T07:44:05.365Z"
   },
   {
    "duration": 902,
    "start_time": "2023-03-11T07:44:06.864Z"
   },
   {
    "duration": 146,
    "start_time": "2023-03-11T07:44:07.778Z"
   },
   {
    "duration": 113,
    "start_time": "2023-03-11T07:44:07.926Z"
   },
   {
    "duration": 489,
    "start_time": "2023-03-11T07:44:08.041Z"
   },
   {
    "duration": 573,
    "start_time": "2023-03-11T07:44:08.531Z"
   },
   {
    "duration": 33,
    "start_time": "2023-03-11T07:44:09.106Z"
   },
   {
    "duration": 651,
    "start_time": "2023-03-11T07:44:09.141Z"
   },
   {
    "duration": 784,
    "start_time": "2023-03-11T07:44:09.795Z"
   },
   {
    "duration": 226,
    "start_time": "2023-03-11T07:44:10.581Z"
   },
   {
    "duration": 111,
    "start_time": "2023-03-11T07:44:10.809Z"
   },
   {
    "duration": 83,
    "start_time": "2023-03-11T07:44:10.922Z"
   },
   {
    "duration": 192,
    "start_time": "2023-03-11T07:44:11.007Z"
   },
   {
    "duration": 181,
    "start_time": "2023-03-11T07:44:11.201Z"
   },
   {
    "duration": 75,
    "start_time": "2023-03-11T07:44:11.384Z"
   },
   {
    "duration": 117,
    "start_time": "2023-03-11T07:44:11.461Z"
   },
   {
    "duration": 155,
    "start_time": "2023-03-11T07:44:11.580Z"
   },
   {
    "duration": 27,
    "start_time": "2023-03-11T07:44:11.736Z"
   },
   {
    "duration": 49,
    "start_time": "2023-03-11T07:44:11.776Z"
   },
   {
    "duration": 91,
    "start_time": "2023-03-11T07:44:11.827Z"
   },
   {
    "duration": 4677,
    "start_time": "2023-03-11T07:44:11.920Z"
   },
   {
    "duration": 953,
    "start_time": "2023-03-11T07:44:16.598Z"
   },
   {
    "duration": 2,
    "start_time": "2023-03-11T07:44:17.553Z"
   },
   {
    "duration": 908,
    "start_time": "2023-03-11T07:44:17.557Z"
   },
   {
    "duration": 630,
    "start_time": "2023-03-11T07:44:18.467Z"
   },
   {
    "duration": 3,
    "start_time": "2023-03-11T07:44:19.099Z"
   },
   {
    "duration": 10,
    "start_time": "2023-03-11T07:44:19.105Z"
   },
   {
    "duration": 20,
    "start_time": "2023-03-11T07:44:19.117Z"
   },
   {
    "duration": 72,
    "start_time": "2023-03-11T07:44:19.139Z"
   },
   {
    "duration": 676,
    "start_time": "2023-03-11T07:44:33.780Z"
   },
   {
    "duration": 30,
    "start_time": "2023-03-11T07:44:40.356Z"
   },
   {
    "duration": 1506,
    "start_time": "2023-03-11T07:44:54.792Z"
   },
   {
    "duration": 910,
    "start_time": "2023-03-11T07:44:56.300Z"
   },
   {
    "duration": 149,
    "start_time": "2023-03-11T07:44:57.211Z"
   },
   {
    "duration": 107,
    "start_time": "2023-03-11T07:44:57.362Z"
   },
   {
    "duration": 510,
    "start_time": "2023-03-11T07:44:57.476Z"
   },
   {
    "duration": 567,
    "start_time": "2023-03-11T07:44:57.988Z"
   },
   {
    "duration": 38,
    "start_time": "2023-03-11T07:44:58.558Z"
   },
   {
    "duration": 610,
    "start_time": "2023-03-11T07:44:58.598Z"
   },
   {
    "duration": 798,
    "start_time": "2023-03-11T07:44:59.210Z"
   },
   {
    "duration": 236,
    "start_time": "2023-03-11T07:45:00.011Z"
   },
   {
    "duration": 104,
    "start_time": "2023-03-11T07:45:00.248Z"
   },
   {
    "duration": 83,
    "start_time": "2023-03-11T07:45:00.353Z"
   },
   {
    "duration": 216,
    "start_time": "2023-03-11T07:45:00.438Z"
   },
   {
    "duration": 195,
    "start_time": "2023-03-11T07:45:00.656Z"
   },
   {
    "duration": 77,
    "start_time": "2023-03-11T07:45:00.853Z"
   },
   {
    "duration": 161,
    "start_time": "2023-03-11T07:45:00.931Z"
   },
   {
    "duration": 161,
    "start_time": "2023-03-11T07:45:01.093Z"
   },
   {
    "duration": 33,
    "start_time": "2023-03-11T07:45:01.256Z"
   },
   {
    "duration": 62,
    "start_time": "2023-03-11T07:45:01.290Z"
   },
   {
    "duration": 87,
    "start_time": "2023-03-11T07:45:01.354Z"
   },
   {
    "duration": 4799,
    "start_time": "2023-03-11T07:45:01.443Z"
   },
   {
    "duration": 956,
    "start_time": "2023-03-11T07:45:06.244Z"
   },
   {
    "duration": 3,
    "start_time": "2023-03-11T07:45:07.201Z"
   },
   {
    "duration": 916,
    "start_time": "2023-03-11T07:45:07.206Z"
   },
   {
    "duration": 141,
    "start_time": "2023-03-11T07:45:08.123Z"
   },
   {
    "duration": 11,
    "start_time": "2023-03-11T07:45:08.266Z"
   },
   {
    "duration": 11,
    "start_time": "2023-03-11T07:45:08.279Z"
   },
   {
    "duration": 12,
    "start_time": "2023-03-11T07:45:08.293Z"
   },
   {
    "duration": 79,
    "start_time": "2023-03-11T07:45:08.307Z"
   },
   {
    "duration": 1441,
    "start_time": "2023-03-11T07:45:44.125Z"
   },
   {
    "duration": 910,
    "start_time": "2023-03-11T07:45:45.568Z"
   },
   {
    "duration": 152,
    "start_time": "2023-03-11T07:45:46.480Z"
   },
   {
    "duration": 113,
    "start_time": "2023-03-11T07:45:46.634Z"
   },
   {
    "duration": 496,
    "start_time": "2023-03-11T07:45:46.749Z"
   },
   {
    "duration": 582,
    "start_time": "2023-03-11T07:45:47.247Z"
   },
   {
    "duration": 34,
    "start_time": "2023-03-11T07:45:47.831Z"
   },
   {
    "duration": 593,
    "start_time": "2023-03-11T07:45:47.876Z"
   },
   {
    "duration": 788,
    "start_time": "2023-03-11T07:45:48.471Z"
   },
   {
    "duration": 226,
    "start_time": "2023-03-11T07:45:49.260Z"
   },
   {
    "duration": 123,
    "start_time": "2023-03-11T07:45:49.488Z"
   },
   {
    "duration": 82,
    "start_time": "2023-03-11T07:45:49.614Z"
   },
   {
    "duration": 183,
    "start_time": "2023-03-11T07:45:49.698Z"
   },
   {
    "duration": 186,
    "start_time": "2023-03-11T07:45:49.884Z"
   },
   {
    "duration": 83,
    "start_time": "2023-03-11T07:45:50.076Z"
   },
   {
    "duration": 141,
    "start_time": "2023-03-11T07:45:50.161Z"
   },
   {
    "duration": 177,
    "start_time": "2023-03-11T07:45:50.304Z"
   },
   {
    "duration": 28,
    "start_time": "2023-03-11T07:45:50.483Z"
   },
   {
    "duration": 64,
    "start_time": "2023-03-11T07:45:50.513Z"
   },
   {
    "duration": 82,
    "start_time": "2023-03-11T07:45:50.579Z"
   },
   {
    "duration": 4892,
    "start_time": "2023-03-11T07:45:50.663Z"
   },
   {
    "duration": 929,
    "start_time": "2023-03-11T07:45:55.556Z"
   },
   {
    "duration": 3,
    "start_time": "2023-03-11T07:45:56.486Z"
   },
   {
    "duration": 889,
    "start_time": "2023-03-11T07:45:56.491Z"
   },
   {
    "duration": 181,
    "start_time": "2023-03-11T07:45:57.382Z"
   },
   {
    "duration": 3,
    "start_time": "2023-03-11T07:45:57.576Z"
   },
   {
    "duration": 31,
    "start_time": "2023-03-11T07:45:57.581Z"
   },
   {
    "duration": 23,
    "start_time": "2023-03-11T07:45:57.614Z"
   },
   {
    "duration": 83,
    "start_time": "2023-03-11T07:45:57.639Z"
   },
   {
    "duration": 1425,
    "start_time": "2023-03-11T07:49:24.675Z"
   },
   {
    "duration": 1114,
    "start_time": "2023-03-11T07:49:26.102Z"
   },
   {
    "duration": 144,
    "start_time": "2023-03-11T07:49:27.218Z"
   },
   {
    "duration": 101,
    "start_time": "2023-03-11T07:49:27.363Z"
   },
   {
    "duration": 447,
    "start_time": "2023-03-11T07:49:27.466Z"
   },
   {
    "duration": 514,
    "start_time": "2023-03-11T07:49:27.914Z"
   },
   {
    "duration": 31,
    "start_time": "2023-03-11T07:49:28.430Z"
   },
   {
    "duration": 568,
    "start_time": "2023-03-11T07:49:28.463Z"
   },
   {
    "duration": 771,
    "start_time": "2023-03-11T07:49:29.033Z"
   },
   {
    "duration": 213,
    "start_time": "2023-03-11T07:49:29.806Z"
   },
   {
    "duration": 102,
    "start_time": "2023-03-11T07:49:30.021Z"
   },
   {
    "duration": 82,
    "start_time": "2023-03-11T07:49:30.124Z"
   },
   {
    "duration": 173,
    "start_time": "2023-03-11T07:49:30.208Z"
   },
   {
    "duration": 172,
    "start_time": "2023-03-11T07:49:30.385Z"
   },
   {
    "duration": 74,
    "start_time": "2023-03-11T07:49:30.559Z"
   },
   {
    "duration": 119,
    "start_time": "2023-03-11T07:49:30.635Z"
   },
   {
    "duration": 169,
    "start_time": "2023-03-11T07:49:30.755Z"
   },
   {
    "duration": 26,
    "start_time": "2023-03-11T07:49:30.925Z"
   },
   {
    "duration": 60,
    "start_time": "2023-03-11T07:49:30.953Z"
   },
   {
    "duration": 80,
    "start_time": "2023-03-11T07:49:31.014Z"
   },
   {
    "duration": 4263,
    "start_time": "2023-03-11T07:49:31.095Z"
   },
   {
    "duration": 898,
    "start_time": "2023-03-11T07:49:35.360Z"
   },
   {
    "duration": 2,
    "start_time": "2023-03-11T07:49:36.260Z"
   },
   {
    "duration": 878,
    "start_time": "2023-03-11T07:49:36.264Z"
   },
   {
    "duration": 235,
    "start_time": "2023-03-11T07:49:37.144Z"
   },
   {
    "duration": 0,
    "start_time": "2023-03-11T07:49:37.380Z"
   },
   {
    "duration": 0,
    "start_time": "2023-03-11T07:49:37.382Z"
   },
   {
    "duration": 0,
    "start_time": "2023-03-11T07:49:37.383Z"
   },
   {
    "duration": 0,
    "start_time": "2023-03-11T07:49:37.385Z"
   },
   {
    "duration": 0,
    "start_time": "2023-03-11T07:49:37.386Z"
   },
   {
    "duration": 147,
    "start_time": "2023-03-11T07:50:23.616Z"
   },
   {
    "duration": 124,
    "start_time": "2023-03-11T07:50:28.447Z"
   },
   {
    "duration": 23348,
    "start_time": "2023-03-11T07:50:39.431Z"
   },
   {
    "duration": 31501,
    "start_time": "2023-03-11T07:51:15.176Z"
   },
   {
    "duration": 1693,
    "start_time": "2023-03-11T07:53:22.208Z"
   },
   {
    "duration": 970,
    "start_time": "2023-03-11T07:53:23.903Z"
   },
   {
    "duration": 176,
    "start_time": "2023-03-11T07:53:24.875Z"
   },
   {
    "duration": 113,
    "start_time": "2023-03-11T07:53:25.053Z"
   },
   {
    "duration": 565,
    "start_time": "2023-03-11T07:53:25.168Z"
   },
   {
    "duration": 645,
    "start_time": "2023-03-11T07:53:25.735Z"
   },
   {
    "duration": 37,
    "start_time": "2023-03-11T07:53:26.383Z"
   },
   {
    "duration": 641,
    "start_time": "2023-03-11T07:53:26.422Z"
   },
   {
    "duration": 855,
    "start_time": "2023-03-11T07:53:27.065Z"
   },
   {
    "duration": 251,
    "start_time": "2023-03-11T07:53:27.922Z"
   },
   {
    "duration": 132,
    "start_time": "2023-03-11T07:53:28.178Z"
   },
   {
    "duration": 105,
    "start_time": "2023-03-11T07:53:28.312Z"
   },
   {
    "duration": 224,
    "start_time": "2023-03-11T07:53:28.419Z"
   },
   {
    "duration": 226,
    "start_time": "2023-03-11T07:53:28.647Z"
   },
   {
    "duration": 83,
    "start_time": "2023-03-11T07:53:28.878Z"
   },
   {
    "duration": 131,
    "start_time": "2023-03-11T07:53:28.963Z"
   },
   {
    "duration": 180,
    "start_time": "2023-03-11T07:53:29.097Z"
   },
   {
    "duration": 32,
    "start_time": "2023-03-11T07:53:29.279Z"
   },
   {
    "duration": 69,
    "start_time": "2023-03-11T07:53:29.313Z"
   },
   {
    "duration": 92,
    "start_time": "2023-03-11T07:53:29.385Z"
   },
   {
    "duration": 4991,
    "start_time": "2023-03-11T07:53:29.479Z"
   },
   {
    "duration": 1073,
    "start_time": "2023-03-11T07:53:34.472Z"
   },
   {
    "duration": 2,
    "start_time": "2023-03-11T07:53:35.547Z"
   },
   {
    "duration": 1030,
    "start_time": "2023-03-11T07:53:35.551Z"
   },
   {
    "duration": 176,
    "start_time": "2023-03-11T07:53:36.583Z"
   },
   {
    "duration": 143,
    "start_time": "2023-03-11T07:53:36.761Z"
   },
   {
    "duration": 27472,
    "start_time": "2023-03-11T07:53:36.906Z"
   },
   {
    "duration": 150,
    "start_time": "2023-03-11T07:54:04.380Z"
   },
   {
    "duration": 174,
    "start_time": "2023-03-11T07:54:04.532Z"
   },
   {
    "duration": 14,
    "start_time": "2023-03-11T07:54:04.707Z"
   },
   {
    "duration": 1599,
    "start_time": "2023-03-11T07:55:17.032Z"
   },
   {
    "duration": 1251,
    "start_time": "2023-03-11T07:55:18.634Z"
   },
   {
    "duration": 158,
    "start_time": "2023-03-11T07:55:19.887Z"
   },
   {
    "duration": 155,
    "start_time": "2023-03-11T07:55:20.049Z"
   },
   {
    "duration": 502,
    "start_time": "2023-03-11T07:55:20.207Z"
   },
   {
    "duration": 636,
    "start_time": "2023-03-11T07:55:20.712Z"
   },
   {
    "duration": 36,
    "start_time": "2023-03-11T07:55:21.351Z"
   },
   {
    "duration": 691,
    "start_time": "2023-03-11T07:55:21.389Z"
   },
   {
    "duration": 873,
    "start_time": "2023-03-11T07:55:22.082Z"
   },
   {
    "duration": 233,
    "start_time": "2023-03-11T07:55:22.959Z"
   },
   {
    "duration": 114,
    "start_time": "2023-03-11T07:55:23.194Z"
   },
   {
    "duration": 86,
    "start_time": "2023-03-11T07:55:23.310Z"
   },
   {
    "duration": 185,
    "start_time": "2023-03-11T07:55:23.397Z"
   },
   {
    "duration": 181,
    "start_time": "2023-03-11T07:55:23.584Z"
   },
   {
    "duration": 76,
    "start_time": "2023-03-11T07:55:23.767Z"
   },
   {
    "duration": 134,
    "start_time": "2023-03-11T07:55:23.845Z"
   },
   {
    "duration": 166,
    "start_time": "2023-03-11T07:55:23.981Z"
   },
   {
    "duration": 34,
    "start_time": "2023-03-11T07:55:24.149Z"
   },
   {
    "duration": 48,
    "start_time": "2023-03-11T07:55:24.186Z"
   },
   {
    "duration": 111,
    "start_time": "2023-03-11T07:55:24.236Z"
   },
   {
    "duration": 4845,
    "start_time": "2023-03-11T07:55:24.349Z"
   },
   {
    "duration": 1049,
    "start_time": "2023-03-11T07:55:29.196Z"
   },
   {
    "duration": 3,
    "start_time": "2023-03-11T07:55:30.247Z"
   },
   {
    "duration": 960,
    "start_time": "2023-03-11T07:55:30.252Z"
   },
   {
    "duration": 194,
    "start_time": "2023-03-11T07:55:31.215Z"
   },
   {
    "duration": 127,
    "start_time": "2023-03-11T07:55:31.411Z"
   },
   {
    "duration": 36665,
    "start_time": "2023-03-11T07:55:31.540Z"
   },
   {
    "duration": 207,
    "start_time": "2023-03-11T07:56:08.213Z"
   },
   {
    "duration": 169,
    "start_time": "2023-03-11T07:56:08.422Z"
   },
   {
    "duration": 14,
    "start_time": "2023-03-11T07:56:08.593Z"
   },
   {
    "duration": 176,
    "start_time": "2023-03-11T07:56:08.609Z"
   },
   {
    "duration": 20,
    "start_time": "2023-03-11T07:56:15.540Z"
   },
   {
    "duration": 5,
    "start_time": "2023-03-11T07:57:04.621Z"
   },
   {
    "duration": 4,
    "start_time": "2023-03-11T07:57:19.734Z"
   },
   {
    "duration": 5,
    "start_time": "2023-03-11T07:57:57.031Z"
   },
   {
    "duration": 1550,
    "start_time": "2023-03-11T07:58:28.234Z"
   },
   {
    "duration": 1158,
    "start_time": "2023-03-11T07:58:29.787Z"
   },
   {
    "duration": 143,
    "start_time": "2023-03-11T07:58:30.947Z"
   },
   {
    "duration": 107,
    "start_time": "2023-03-11T07:58:31.092Z"
   },
   {
    "duration": 488,
    "start_time": "2023-03-11T07:58:31.201Z"
   },
   {
    "duration": 584,
    "start_time": "2023-03-11T07:58:31.691Z"
   },
   {
    "duration": 35,
    "start_time": "2023-03-11T07:58:32.277Z"
   },
   {
    "duration": 708,
    "start_time": "2023-03-11T07:58:32.314Z"
   },
   {
    "duration": 805,
    "start_time": "2023-03-11T07:58:33.024Z"
   },
   {
    "duration": 238,
    "start_time": "2023-03-11T07:58:33.832Z"
   },
   {
    "duration": 122,
    "start_time": "2023-03-11T07:58:34.072Z"
   },
   {
    "duration": 90,
    "start_time": "2023-03-11T07:58:34.197Z"
   },
   {
    "duration": 189,
    "start_time": "2023-03-11T07:58:34.289Z"
   },
   {
    "duration": 184,
    "start_time": "2023-03-11T07:58:34.479Z"
   },
   {
    "duration": 81,
    "start_time": "2023-03-11T07:58:34.676Z"
   },
   {
    "duration": 164,
    "start_time": "2023-03-11T07:58:34.759Z"
   },
   {
    "duration": 189,
    "start_time": "2023-03-11T07:58:34.925Z"
   },
   {
    "duration": 29,
    "start_time": "2023-03-11T07:58:35.116Z"
   },
   {
    "duration": 66,
    "start_time": "2023-03-11T07:58:35.147Z"
   },
   {
    "duration": 87,
    "start_time": "2023-03-11T07:58:35.215Z"
   },
   {
    "duration": 4720,
    "start_time": "2023-03-11T07:58:35.304Z"
   },
   {
    "duration": 1010,
    "start_time": "2023-03-11T07:58:40.027Z"
   },
   {
    "duration": 2,
    "start_time": "2023-03-11T07:58:41.039Z"
   },
   {
    "duration": 1113,
    "start_time": "2023-03-11T07:58:41.043Z"
   },
   {
    "duration": 169,
    "start_time": "2023-03-11T07:58:42.158Z"
   },
   {
    "duration": 146,
    "start_time": "2023-03-11T07:58:42.328Z"
   },
   {
    "duration": 33201,
    "start_time": "2023-03-11T07:58:42.477Z"
   },
   {
    "duration": 139,
    "start_time": "2023-03-11T07:59:15.684Z"
   },
   {
    "duration": 163,
    "start_time": "2023-03-11T07:59:15.824Z"
   },
   {
    "duration": 3,
    "start_time": "2023-03-11T07:59:15.989Z"
   },
   {
    "duration": 1648,
    "start_time": "2023-03-11T07:59:46.743Z"
   },
   {
    "duration": 1224,
    "start_time": "2023-03-11T07:59:48.393Z"
   },
   {
    "duration": 154,
    "start_time": "2023-03-11T07:59:49.618Z"
   },
   {
    "duration": 170,
    "start_time": "2023-03-11T07:59:49.777Z"
   },
   {
    "duration": 496,
    "start_time": "2023-03-11T07:59:49.951Z"
   },
   {
    "duration": 618,
    "start_time": "2023-03-11T07:59:50.449Z"
   },
   {
    "duration": 35,
    "start_time": "2023-03-11T07:59:51.069Z"
   },
   {
    "duration": 627,
    "start_time": "2023-03-11T07:59:51.106Z"
   },
   {
    "duration": 858,
    "start_time": "2023-03-11T07:59:51.735Z"
   },
   {
    "duration": 261,
    "start_time": "2023-03-11T07:59:52.595Z"
   },
   {
    "duration": 113,
    "start_time": "2023-03-11T07:59:52.859Z"
   },
   {
    "duration": 80,
    "start_time": "2023-03-11T07:59:52.974Z"
   },
   {
    "duration": 198,
    "start_time": "2023-03-11T07:59:53.056Z"
   },
   {
    "duration": 188,
    "start_time": "2023-03-11T07:59:53.258Z"
   },
   {
    "duration": 83,
    "start_time": "2023-03-11T07:59:53.448Z"
   },
   {
    "duration": 151,
    "start_time": "2023-03-11T07:59:53.533Z"
   },
   {
    "duration": 173,
    "start_time": "2023-03-11T07:59:53.686Z"
   },
   {
    "duration": 41,
    "start_time": "2023-03-11T07:59:53.861Z"
   },
   {
    "duration": 48,
    "start_time": "2023-03-11T07:59:53.904Z"
   },
   {
    "duration": 108,
    "start_time": "2023-03-11T07:59:53.955Z"
   },
   {
    "duration": 4681,
    "start_time": "2023-03-11T07:59:54.065Z"
   },
   {
    "duration": 930,
    "start_time": "2023-03-11T07:59:58.747Z"
   },
   {
    "duration": 3,
    "start_time": "2023-03-11T07:59:59.679Z"
   },
   {
    "duration": 932,
    "start_time": "2023-03-11T07:59:59.684Z"
   },
   {
    "duration": 159,
    "start_time": "2023-03-11T08:00:00.618Z"
   },
   {
    "duration": 134,
    "start_time": "2023-03-11T08:00:00.779Z"
   },
   {
    "duration": 33379,
    "start_time": "2023-03-11T08:00:00.915Z"
   },
   {
    "duration": 51,
    "start_time": "2023-03-11T08:00:34.378Z"
   },
   {
    "duration": 183,
    "start_time": "2023-03-11T08:00:34.431Z"
   },
   {
    "duration": 4,
    "start_time": "2023-03-11T08:00:34.615Z"
   },
   {
    "duration": 64,
    "start_time": "2023-03-11T08:03:14.288Z"
   },
   {
    "duration": 1583,
    "start_time": "2023-03-11T08:03:22.833Z"
   },
   {
    "duration": 1102,
    "start_time": "2023-03-11T08:03:24.418Z"
   },
   {
    "duration": 138,
    "start_time": "2023-03-11T08:03:25.522Z"
   },
   {
    "duration": 108,
    "start_time": "2023-03-11T08:03:25.662Z"
   },
   {
    "duration": 478,
    "start_time": "2023-03-11T08:03:25.772Z"
   },
   {
    "duration": 546,
    "start_time": "2023-03-11T08:03:26.252Z"
   },
   {
    "duration": 31,
    "start_time": "2023-03-11T08:03:26.800Z"
   },
   {
    "duration": 648,
    "start_time": "2023-03-11T08:03:26.833Z"
   },
   {
    "duration": 802,
    "start_time": "2023-03-11T08:03:27.483Z"
   },
   {
    "duration": 246,
    "start_time": "2023-03-11T08:03:28.288Z"
   },
   {
    "duration": 118,
    "start_time": "2023-03-11T08:03:28.536Z"
   },
   {
    "duration": 102,
    "start_time": "2023-03-11T08:03:28.656Z"
   },
   {
    "duration": 180,
    "start_time": "2023-03-11T08:03:28.760Z"
   },
   {
    "duration": 182,
    "start_time": "2023-03-11T08:03:28.942Z"
   },
   {
    "duration": 94,
    "start_time": "2023-03-11T08:03:29.126Z"
   },
   {
    "duration": 110,
    "start_time": "2023-03-11T08:03:29.222Z"
   },
   {
    "duration": 188,
    "start_time": "2023-03-11T08:03:29.334Z"
   },
   {
    "duration": 31,
    "start_time": "2023-03-11T08:03:29.524Z"
   },
   {
    "duration": 69,
    "start_time": "2023-03-11T08:03:29.558Z"
   },
   {
    "duration": 111,
    "start_time": "2023-03-11T08:03:29.629Z"
   },
   {
    "duration": 3903,
    "start_time": "2023-03-11T08:03:29.742Z"
   },
   {
    "duration": 925,
    "start_time": "2023-03-11T08:03:33.647Z"
   },
   {
    "duration": 3,
    "start_time": "2023-03-11T08:03:34.576Z"
   },
   {
    "duration": 926,
    "start_time": "2023-03-11T08:03:34.581Z"
   },
   {
    "duration": 147,
    "start_time": "2023-03-11T08:03:35.509Z"
   },
   {
    "duration": 124,
    "start_time": "2023-03-11T08:03:35.658Z"
   },
   {
    "duration": 28696,
    "start_time": "2023-03-11T08:03:35.784Z"
   },
   {
    "duration": 135,
    "start_time": "2023-03-11T08:04:04.488Z"
   },
   {
    "duration": 165,
    "start_time": "2023-03-11T08:04:04.624Z"
   },
   {
    "duration": 3,
    "start_time": "2023-03-11T08:04:04.791Z"
   },
   {
    "duration": 1428,
    "start_time": "2023-03-11T08:04:45.577Z"
   },
   {
    "duration": 1039,
    "start_time": "2023-03-11T08:04:47.007Z"
   },
   {
    "duration": 140,
    "start_time": "2023-03-11T08:04:48.048Z"
   },
   {
    "duration": 107,
    "start_time": "2023-03-11T08:04:48.190Z"
   },
   {
    "duration": 441,
    "start_time": "2023-03-11T08:04:48.299Z"
   },
   {
    "duration": 589,
    "start_time": "2023-03-11T08:04:48.742Z"
   },
   {
    "duration": 24,
    "start_time": "2023-03-11T08:04:49.333Z"
   },
   {
    "duration": 624,
    "start_time": "2023-03-11T08:04:49.359Z"
   },
   {
    "duration": 813,
    "start_time": "2023-03-11T08:04:49.985Z"
   },
   {
    "duration": 218,
    "start_time": "2023-03-11T08:04:50.801Z"
   },
   {
    "duration": 108,
    "start_time": "2023-03-11T08:04:51.021Z"
   },
   {
    "duration": 77,
    "start_time": "2023-03-11T08:04:51.130Z"
   },
   {
    "duration": 161,
    "start_time": "2023-03-11T08:04:51.209Z"
   },
   {
    "duration": 165,
    "start_time": "2023-03-11T08:04:51.372Z"
   },
   {
    "duration": 80,
    "start_time": "2023-03-11T08:04:51.539Z"
   },
   {
    "duration": 111,
    "start_time": "2023-03-11T08:04:51.621Z"
   },
   {
    "duration": 184,
    "start_time": "2023-03-11T08:04:51.734Z"
   },
   {
    "duration": 26,
    "start_time": "2023-03-11T08:04:51.921Z"
   },
   {
    "duration": 58,
    "start_time": "2023-03-11T08:04:51.949Z"
   },
   {
    "duration": 85,
    "start_time": "2023-03-11T08:04:52.009Z"
   },
   {
    "duration": 3820,
    "start_time": "2023-03-11T08:04:52.096Z"
   },
   {
    "duration": 894,
    "start_time": "2023-03-11T08:04:55.917Z"
   },
   {
    "duration": 3,
    "start_time": "2023-03-11T08:04:56.813Z"
   },
   {
    "duration": 897,
    "start_time": "2023-03-11T08:04:56.817Z"
   },
   {
    "duration": 154,
    "start_time": "2023-03-11T08:04:57.716Z"
   },
   {
    "duration": 128,
    "start_time": "2023-03-11T08:04:57.872Z"
   },
   {
    "duration": 32377,
    "start_time": "2023-03-11T08:04:58.001Z"
   },
   {
    "duration": 149,
    "start_time": "2023-03-11T08:05:30.382Z"
   },
   {
    "duration": 179,
    "start_time": "2023-03-11T08:05:30.533Z"
   },
   {
    "duration": 5,
    "start_time": "2023-03-11T08:05:30.714Z"
   },
   {
    "duration": 1597,
    "start_time": "2023-03-11T08:06:25.176Z"
   },
   {
    "duration": 1290,
    "start_time": "2023-03-11T08:06:26.776Z"
   },
   {
    "duration": 174,
    "start_time": "2023-03-11T08:06:28.068Z"
   },
   {
    "duration": 121,
    "start_time": "2023-03-11T08:06:28.244Z"
   },
   {
    "duration": 532,
    "start_time": "2023-03-11T08:06:28.369Z"
   },
   {
    "duration": 608,
    "start_time": "2023-03-11T08:06:28.903Z"
   },
   {
    "duration": 30,
    "start_time": "2023-03-11T08:06:29.513Z"
   },
   {
    "duration": 615,
    "start_time": "2023-03-11T08:06:29.545Z"
   },
   {
    "duration": 816,
    "start_time": "2023-03-11T08:06:30.163Z"
   },
   {
    "duration": 250,
    "start_time": "2023-03-11T08:06:30.981Z"
   },
   {
    "duration": 123,
    "start_time": "2023-03-11T08:06:31.233Z"
   },
   {
    "duration": 84,
    "start_time": "2023-03-11T08:06:31.358Z"
   },
   {
    "duration": 202,
    "start_time": "2023-03-11T08:06:31.444Z"
   },
   {
    "duration": 191,
    "start_time": "2023-03-11T08:06:31.650Z"
   },
   {
    "duration": 86,
    "start_time": "2023-03-11T08:06:31.843Z"
   },
   {
    "duration": 163,
    "start_time": "2023-03-11T08:06:31.931Z"
   },
   {
    "duration": 275,
    "start_time": "2023-03-11T08:06:32.097Z"
   },
   {
    "duration": 34,
    "start_time": "2023-03-11T08:06:32.378Z"
   },
   {
    "duration": 71,
    "start_time": "2023-03-11T08:06:32.415Z"
   },
   {
    "duration": 122,
    "start_time": "2023-03-11T08:06:32.488Z"
   },
   {
    "duration": 4277,
    "start_time": "2023-03-11T08:06:32.612Z"
   },
   {
    "duration": 942,
    "start_time": "2023-03-11T08:06:36.891Z"
   },
   {
    "duration": 3,
    "start_time": "2023-03-11T08:06:37.835Z"
   },
   {
    "duration": 938,
    "start_time": "2023-03-11T08:06:37.840Z"
   },
   {
    "duration": 168,
    "start_time": "2023-03-11T08:06:38.780Z"
   },
   {
    "duration": 122,
    "start_time": "2023-03-11T08:06:38.950Z"
   },
   {
    "duration": 44307,
    "start_time": "2023-03-11T08:06:39.073Z"
   },
   {
    "duration": 137,
    "start_time": "2023-03-11T08:07:23.391Z"
   },
   {
    "duration": 158,
    "start_time": "2023-03-11T08:07:23.530Z"
   },
   {
    "duration": 20,
    "start_time": "2023-03-11T08:07:23.689Z"
   },
   {
    "duration": 1624,
    "start_time": "2023-03-11T08:08:23.268Z"
   },
   {
    "duration": 1209,
    "start_time": "2023-03-11T08:08:24.894Z"
   },
   {
    "duration": 144,
    "start_time": "2023-03-11T08:08:26.105Z"
   },
   {
    "duration": 113,
    "start_time": "2023-03-11T08:08:26.252Z"
   },
   {
    "duration": 531,
    "start_time": "2023-03-11T08:08:26.367Z"
   },
   {
    "duration": 583,
    "start_time": "2023-03-11T08:08:26.899Z"
   },
   {
    "duration": 32,
    "start_time": "2023-03-11T08:08:27.484Z"
   },
   {
    "duration": 620,
    "start_time": "2023-03-11T08:08:27.518Z"
   },
   {
    "duration": 806,
    "start_time": "2023-03-11T08:08:28.139Z"
   },
   {
    "duration": 238,
    "start_time": "2023-03-11T08:08:28.947Z"
   },
   {
    "duration": 105,
    "start_time": "2023-03-11T08:08:29.187Z"
   },
   {
    "duration": 87,
    "start_time": "2023-03-11T08:08:29.294Z"
   },
   {
    "duration": 173,
    "start_time": "2023-03-11T08:08:29.383Z"
   },
   {
    "duration": 203,
    "start_time": "2023-03-11T08:08:29.559Z"
   },
   {
    "duration": 85,
    "start_time": "2023-03-11T08:08:29.764Z"
   },
   {
    "duration": 106,
    "start_time": "2023-03-11T08:08:29.851Z"
   },
   {
    "duration": 159,
    "start_time": "2023-03-11T08:08:29.978Z"
   },
   {
    "duration": 38,
    "start_time": "2023-03-11T08:08:30.139Z"
   },
   {
    "duration": 49,
    "start_time": "2023-03-11T08:08:30.179Z"
   },
   {
    "duration": 124,
    "start_time": "2023-03-11T08:08:30.230Z"
   },
   {
    "duration": 4121,
    "start_time": "2023-03-11T08:08:30.355Z"
   },
   {
    "duration": 937,
    "start_time": "2023-03-11T08:08:34.478Z"
   },
   {
    "duration": 3,
    "start_time": "2023-03-11T08:08:35.417Z"
   },
   {
    "duration": 921,
    "start_time": "2023-03-11T08:08:35.422Z"
   },
   {
    "duration": 164,
    "start_time": "2023-03-11T08:08:36.344Z"
   },
   {
    "duration": 125,
    "start_time": "2023-03-11T08:08:36.511Z"
   },
   {
    "duration": 26253,
    "start_time": "2023-03-11T08:08:36.638Z"
   },
   {
    "duration": 132,
    "start_time": "2023-03-11T08:09:02.978Z"
   },
   {
    "duration": 158,
    "start_time": "2023-03-11T08:09:03.111Z"
   },
   {
    "duration": 22,
    "start_time": "2023-03-11T08:09:03.270Z"
   },
   {
    "duration": 1401,
    "start_time": "2023-03-11T08:10:49.811Z"
   },
   {
    "duration": 1092,
    "start_time": "2023-03-11T08:10:51.214Z"
   },
   {
    "duration": 177,
    "start_time": "2023-03-11T08:10:52.307Z"
   },
   {
    "duration": 139,
    "start_time": "2023-03-11T08:10:52.487Z"
   },
   {
    "duration": 486,
    "start_time": "2023-03-11T08:10:52.628Z"
   },
   {
    "duration": 530,
    "start_time": "2023-03-11T08:10:53.116Z"
   },
   {
    "duration": 41,
    "start_time": "2023-03-11T08:10:53.648Z"
   },
   {
    "duration": 541,
    "start_time": "2023-03-11T08:10:53.691Z"
   },
   {
    "duration": 738,
    "start_time": "2023-03-11T08:10:54.234Z"
   },
   {
    "duration": 211,
    "start_time": "2023-03-11T08:10:54.978Z"
   },
   {
    "duration": 109,
    "start_time": "2023-03-11T08:10:55.191Z"
   },
   {
    "duration": 78,
    "start_time": "2023-03-11T08:10:55.302Z"
   },
   {
    "duration": 174,
    "start_time": "2023-03-11T08:10:55.382Z"
   },
   {
    "duration": 174,
    "start_time": "2023-03-11T08:10:55.558Z"
   },
   {
    "duration": 75,
    "start_time": "2023-03-11T08:10:55.733Z"
   },
   {
    "duration": 111,
    "start_time": "2023-03-11T08:10:55.810Z"
   },
   {
    "duration": 172,
    "start_time": "2023-03-11T08:10:55.923Z"
   },
   {
    "duration": 26,
    "start_time": "2023-03-11T08:10:56.097Z"
   },
   {
    "duration": 61,
    "start_time": "2023-03-11T08:10:56.124Z"
   },
   {
    "duration": 75,
    "start_time": "2023-03-11T08:10:56.187Z"
   },
   {
    "duration": 3986,
    "start_time": "2023-03-11T08:10:56.264Z"
   },
   {
    "duration": 895,
    "start_time": "2023-03-11T08:11:00.251Z"
   },
   {
    "duration": 3,
    "start_time": "2023-03-11T08:11:01.148Z"
   },
   {
    "duration": 909,
    "start_time": "2023-03-11T08:11:01.153Z"
   },
   {
    "duration": 165,
    "start_time": "2023-03-11T08:11:02.064Z"
   },
   {
    "duration": 126,
    "start_time": "2023-03-11T08:11:02.230Z"
   },
   {
    "duration": 22719,
    "start_time": "2023-03-11T08:11:02.358Z"
   },
   {
    "duration": 161,
    "start_time": "2023-03-11T08:11:25.084Z"
   },
   {
    "duration": 2,
    "start_time": "2023-03-11T08:11:25.247Z"
   },
   {
    "duration": 44,
    "start_time": "2023-03-11T08:11:25.251Z"
   },
   {
    "duration": 1603,
    "start_time": "2023-03-11T08:15:32.915Z"
   },
   {
    "duration": 1255,
    "start_time": "2023-03-11T08:15:34.520Z"
   },
   {
    "duration": 177,
    "start_time": "2023-03-11T08:15:35.778Z"
   },
   {
    "duration": 124,
    "start_time": "2023-03-11T08:15:35.957Z"
   },
   {
    "duration": 565,
    "start_time": "2023-03-11T08:15:36.084Z"
   },
   {
    "duration": 712,
    "start_time": "2023-03-11T08:15:36.651Z"
   },
   {
    "duration": 39,
    "start_time": "2023-03-11T08:15:37.365Z"
   },
   {
    "duration": 657,
    "start_time": "2023-03-11T08:15:37.406Z"
   },
   {
    "duration": 810,
    "start_time": "2023-03-11T08:15:38.065Z"
   },
   {
    "duration": 253,
    "start_time": "2023-03-11T08:15:38.879Z"
   },
   {
    "duration": 125,
    "start_time": "2023-03-11T08:15:39.134Z"
   },
   {
    "duration": 94,
    "start_time": "2023-03-11T08:15:39.262Z"
   },
   {
    "duration": 195,
    "start_time": "2023-03-11T08:15:39.358Z"
   },
   {
    "duration": 216,
    "start_time": "2023-03-11T08:15:39.555Z"
   },
   {
    "duration": 90,
    "start_time": "2023-03-11T08:15:39.772Z"
   },
   {
    "duration": 147,
    "start_time": "2023-03-11T08:15:39.863Z"
   },
   {
    "duration": 177,
    "start_time": "2023-03-11T08:15:40.011Z"
   },
   {
    "duration": 30,
    "start_time": "2023-03-11T08:15:40.190Z"
   },
   {
    "duration": 77,
    "start_time": "2023-03-11T08:15:40.222Z"
   },
   {
    "duration": 97,
    "start_time": "2023-03-11T08:15:40.302Z"
   },
   {
    "duration": 4311,
    "start_time": "2023-03-11T08:15:40.402Z"
   },
   {
    "duration": 1014,
    "start_time": "2023-03-11T08:15:44.715Z"
   },
   {
    "duration": 3,
    "start_time": "2023-03-11T08:15:45.731Z"
   },
   {
    "duration": 1002,
    "start_time": "2023-03-11T08:15:45.736Z"
   },
   {
    "duration": 161,
    "start_time": "2023-03-11T08:15:46.740Z"
   },
   {
    "duration": 129,
    "start_time": "2023-03-11T08:15:46.903Z"
   },
   {
    "duration": 80755,
    "start_time": "2023-03-11T08:15:47.034Z"
   },
   {
    "duration": 59,
    "start_time": "2023-03-11T08:17:07.877Z"
   },
   {
    "duration": 2,
    "start_time": "2023-03-11T08:17:07.938Z"
   },
   {
    "duration": 43,
    "start_time": "2023-03-11T08:17:07.942Z"
   },
   {
    "duration": 1678,
    "start_time": "2023-03-11T08:17:54.678Z"
   },
   {
    "duration": 1184,
    "start_time": "2023-03-11T08:17:56.358Z"
   },
   {
    "duration": 157,
    "start_time": "2023-03-11T08:17:57.543Z"
   },
   {
    "duration": 115,
    "start_time": "2023-03-11T08:17:57.702Z"
   },
   {
    "duration": 539,
    "start_time": "2023-03-11T08:17:57.819Z"
   },
   {
    "duration": 551,
    "start_time": "2023-03-11T08:17:58.360Z"
   },
   {
    "duration": 34,
    "start_time": "2023-03-11T08:17:58.913Z"
   },
   {
    "duration": 573,
    "start_time": "2023-03-11T08:17:58.949Z"
   },
   {
    "duration": 834,
    "start_time": "2023-03-11T08:17:59.525Z"
   },
   {
    "duration": 216,
    "start_time": "2023-03-11T08:18:00.361Z"
   },
   {
    "duration": 106,
    "start_time": "2023-03-11T08:18:00.579Z"
   },
   {
    "duration": 75,
    "start_time": "2023-03-11T08:18:00.686Z"
   },
   {
    "duration": 185,
    "start_time": "2023-03-11T08:18:00.763Z"
   },
   {
    "duration": 181,
    "start_time": "2023-03-11T08:18:00.951Z"
   },
   {
    "duration": 88,
    "start_time": "2023-03-11T08:18:01.134Z"
   },
   {
    "duration": 136,
    "start_time": "2023-03-11T08:18:01.224Z"
   },
   {
    "duration": 195,
    "start_time": "2023-03-11T08:18:01.376Z"
   },
   {
    "duration": 35,
    "start_time": "2023-03-11T08:18:01.573Z"
   },
   {
    "duration": 57,
    "start_time": "2023-03-11T08:18:01.610Z"
   },
   {
    "duration": 109,
    "start_time": "2023-03-11T08:18:01.669Z"
   },
   {
    "duration": 4431,
    "start_time": "2023-03-11T08:18:01.780Z"
   },
   {
    "duration": 1026,
    "start_time": "2023-03-11T08:18:06.213Z"
   },
   {
    "duration": 3,
    "start_time": "2023-03-11T08:18:07.240Z"
   },
   {
    "duration": 940,
    "start_time": "2023-03-11T08:18:07.245Z"
   },
   {
    "duration": 171,
    "start_time": "2023-03-11T08:18:08.188Z"
   },
   {
    "duration": 125,
    "start_time": "2023-03-11T08:18:08.360Z"
   },
   {
    "duration": 60790,
    "start_time": "2023-03-11T08:18:08.487Z"
   },
   {
    "duration": 140,
    "start_time": "2023-03-11T08:19:09.296Z"
   },
   {
    "duration": 2,
    "start_time": "2023-03-11T08:19:09.438Z"
   },
   {
    "duration": 36,
    "start_time": "2023-03-11T08:19:09.441Z"
   },
   {
    "duration": 1797,
    "start_time": "2023-03-11T08:21:08.743Z"
   },
   {
    "duration": 1199,
    "start_time": "2023-03-11T08:21:10.542Z"
   },
   {
    "duration": 139,
    "start_time": "2023-03-11T08:21:11.743Z"
   },
   {
    "duration": 112,
    "start_time": "2023-03-11T08:21:11.883Z"
   },
   {
    "duration": 559,
    "start_time": "2023-03-11T08:21:11.998Z"
   },
   {
    "duration": 601,
    "start_time": "2023-03-11T08:21:12.559Z"
   },
   {
    "duration": 39,
    "start_time": "2023-03-11T08:21:13.162Z"
   },
   {
    "duration": 629,
    "start_time": "2023-03-11T08:21:13.203Z"
   },
   {
    "duration": 850,
    "start_time": "2023-03-11T08:21:13.834Z"
   },
   {
    "duration": 254,
    "start_time": "2023-03-11T08:21:14.687Z"
   },
   {
    "duration": 142,
    "start_time": "2023-03-11T08:21:14.943Z"
   },
   {
    "duration": 92,
    "start_time": "2023-03-11T08:21:15.087Z"
   },
   {
    "duration": 182,
    "start_time": "2023-03-11T08:21:15.182Z"
   },
   {
    "duration": 229,
    "start_time": "2023-03-11T08:21:15.367Z"
   },
   {
    "duration": 86,
    "start_time": "2023-03-11T08:21:15.599Z"
   },
   {
    "duration": 146,
    "start_time": "2023-03-11T08:21:15.688Z"
   },
   {
    "duration": 218,
    "start_time": "2023-03-11T08:21:15.836Z"
   },
   {
    "duration": 31,
    "start_time": "2023-03-11T08:21:16.056Z"
   },
   {
    "duration": 49,
    "start_time": "2023-03-11T08:21:16.089Z"
   },
   {
    "duration": 103,
    "start_time": "2023-03-11T08:21:16.140Z"
   },
   {
    "duration": 4235,
    "start_time": "2023-03-11T08:21:16.245Z"
   },
   {
    "duration": 1089,
    "start_time": "2023-03-11T08:21:20.484Z"
   },
   {
    "duration": 5,
    "start_time": "2023-03-11T08:21:21.574Z"
   },
   {
    "duration": 1013,
    "start_time": "2023-03-11T08:21:21.580Z"
   },
   {
    "duration": 221,
    "start_time": "2023-03-11T08:21:22.596Z"
   },
   {
    "duration": 133,
    "start_time": "2023-03-11T08:21:22.820Z"
   },
   {
    "duration": 28330,
    "start_time": "2023-03-11T08:21:22.955Z"
   },
   {
    "duration": 225,
    "start_time": "2023-03-11T08:21:51.287Z"
   },
   {
    "duration": 2,
    "start_time": "2023-03-11T08:21:51.514Z"
   },
   {
    "duration": 28,
    "start_time": "2023-03-11T08:21:51.518Z"
   },
   {
    "duration": 130,
    "start_time": "2023-03-11T08:21:51.548Z"
   },
   {
    "duration": 0,
    "start_time": "2023-03-11T08:21:51.680Z"
   },
   {
    "duration": 11,
    "start_time": "2023-03-11T08:25:24.104Z"
   },
   {
    "duration": 12,
    "start_time": "2023-03-11T08:26:20.817Z"
   },
   {
    "duration": 1424,
    "start_time": "2023-03-11T08:26:28.410Z"
   },
   {
    "duration": 865,
    "start_time": "2023-03-11T08:26:29.836Z"
   },
   {
    "duration": 145,
    "start_time": "2023-03-11T08:26:30.703Z"
   },
   {
    "duration": 120,
    "start_time": "2023-03-11T08:26:30.851Z"
   },
   {
    "duration": 473,
    "start_time": "2023-03-11T08:26:30.973Z"
   },
   {
    "duration": 552,
    "start_time": "2023-03-11T08:26:31.448Z"
   },
   {
    "duration": 33,
    "start_time": "2023-03-11T08:26:32.002Z"
   },
   {
    "duration": 669,
    "start_time": "2023-03-11T08:26:32.037Z"
   },
   {
    "duration": 744,
    "start_time": "2023-03-11T08:26:32.708Z"
   },
   {
    "duration": 213,
    "start_time": "2023-03-11T08:26:33.455Z"
   },
   {
    "duration": 101,
    "start_time": "2023-03-11T08:26:33.677Z"
   },
   {
    "duration": 76,
    "start_time": "2023-03-11T08:26:33.780Z"
   },
   {
    "duration": 188,
    "start_time": "2023-03-11T08:26:33.858Z"
   },
   {
    "duration": 207,
    "start_time": "2023-03-11T08:26:34.047Z"
   },
   {
    "duration": 86,
    "start_time": "2023-03-11T08:26:34.256Z"
   },
   {
    "duration": 106,
    "start_time": "2023-03-11T08:26:34.343Z"
   },
   {
    "duration": 177,
    "start_time": "2023-03-11T08:26:34.451Z"
   },
   {
    "duration": 28,
    "start_time": "2023-03-11T08:26:34.630Z"
   },
   {
    "duration": 63,
    "start_time": "2023-03-11T08:26:34.660Z"
   },
   {
    "duration": 90,
    "start_time": "2023-03-11T08:26:34.725Z"
   },
   {
    "duration": 4076,
    "start_time": "2023-03-11T08:26:34.817Z"
   },
   {
    "duration": 906,
    "start_time": "2023-03-11T08:26:38.895Z"
   },
   {
    "duration": 3,
    "start_time": "2023-03-11T08:26:39.803Z"
   },
   {
    "duration": 903,
    "start_time": "2023-03-11T08:26:39.807Z"
   },
   {
    "duration": 196,
    "start_time": "2023-03-11T08:26:40.712Z"
   },
   {
    "duration": 122,
    "start_time": "2023-03-11T08:26:40.910Z"
   },
   {
    "duration": 22645,
    "start_time": "2023-03-11T08:26:41.034Z"
   },
   {
    "duration": 136,
    "start_time": "2023-03-11T08:27:03.684Z"
   },
   {
    "duration": 3,
    "start_time": "2023-03-11T08:27:03.822Z"
   },
   {
    "duration": 32,
    "start_time": "2023-03-11T08:27:03.827Z"
   },
   {
    "duration": 7628352,
    "start_time": "2023-03-11T08:27:03.861Z"
   },
   {
    "duration": 4,
    "start_time": "2023-03-11T10:35:32.435Z"
   },
   {
    "duration": 4,
    "start_time": "2023-03-11T10:35:45.068Z"
   },
   {
    "duration": 1600,
    "start_time": "2023-03-11T10:37:08.431Z"
   },
   {
    "duration": 1011,
    "start_time": "2023-03-11T10:37:10.033Z"
   },
   {
    "duration": 170,
    "start_time": "2023-03-11T10:37:11.046Z"
   },
   {
    "duration": 106,
    "start_time": "2023-03-11T10:37:11.217Z"
   },
   {
    "duration": 475,
    "start_time": "2023-03-11T10:37:11.324Z"
   },
   {
    "duration": 603,
    "start_time": "2023-03-11T10:37:11.801Z"
   },
   {
    "duration": 31,
    "start_time": "2023-03-11T10:37:12.407Z"
   },
   {
    "duration": 672,
    "start_time": "2023-03-11T10:37:12.440Z"
   },
   {
    "duration": 810,
    "start_time": "2023-03-11T10:37:13.114Z"
   },
   {
    "duration": 304,
    "start_time": "2023-03-11T10:37:13.926Z"
   },
   {
    "duration": 135,
    "start_time": "2023-03-11T10:37:14.232Z"
   },
   {
    "duration": 112,
    "start_time": "2023-03-11T10:37:14.369Z"
   },
   {
    "duration": 104,
    "start_time": "2023-03-11T10:37:14.483Z"
   },
   {
    "duration": 231,
    "start_time": "2023-03-11T10:37:14.590Z"
   },
   {
    "duration": 105,
    "start_time": "2023-03-11T10:37:14.822Z"
   },
   {
    "duration": 113,
    "start_time": "2023-03-11T10:37:14.929Z"
   },
   {
    "duration": 204,
    "start_time": "2023-03-11T10:37:15.043Z"
   },
   {
    "duration": 38,
    "start_time": "2023-03-11T10:37:15.249Z"
   },
   {
    "duration": 47,
    "start_time": "2023-03-11T10:37:15.289Z"
   },
   {
    "duration": 116,
    "start_time": "2023-03-11T10:37:15.338Z"
   },
   {
    "duration": 4450,
    "start_time": "2023-03-11T10:37:15.456Z"
   },
   {
    "duration": 955,
    "start_time": "2023-03-11T10:37:19.907Z"
   },
   {
    "duration": 136,
    "start_time": "2023-03-11T10:37:20.864Z"
   },
   {
    "duration": 0,
    "start_time": "2023-03-11T10:37:21.002Z"
   },
   {
    "duration": 0,
    "start_time": "2023-03-11T10:37:21.003Z"
   },
   {
    "duration": 0,
    "start_time": "2023-03-11T10:37:21.004Z"
   },
   {
    "duration": 0,
    "start_time": "2023-03-11T10:37:21.005Z"
   },
   {
    "duration": 0,
    "start_time": "2023-03-11T10:37:21.006Z"
   },
   {
    "duration": 0,
    "start_time": "2023-03-11T10:37:21.008Z"
   },
   {
    "duration": 0,
    "start_time": "2023-03-11T10:37:21.008Z"
   },
   {
    "duration": 1,
    "start_time": "2023-03-11T10:37:21.009Z"
   },
   {
    "duration": 0,
    "start_time": "2023-03-11T10:37:21.011Z"
   },
   {
    "duration": 0,
    "start_time": "2023-03-11T10:37:21.012Z"
   },
   {
    "duration": 0,
    "start_time": "2023-03-11T10:37:21.013Z"
   },
   {
    "duration": 0,
    "start_time": "2023-03-11T10:37:21.015Z"
   },
   {
    "duration": 0,
    "start_time": "2023-03-11T10:37:21.016Z"
   },
   {
    "duration": 0,
    "start_time": "2023-03-11T10:37:21.017Z"
   },
   {
    "duration": 0,
    "start_time": "2023-03-11T10:37:21.018Z"
   },
   {
    "duration": 0,
    "start_time": "2023-03-11T10:37:21.019Z"
   },
   {
    "duration": 0,
    "start_time": "2023-03-11T10:37:21.020Z"
   },
   {
    "duration": 0,
    "start_time": "2023-03-11T10:37:21.021Z"
   },
   {
    "duration": 0,
    "start_time": "2023-03-11T10:37:21.022Z"
   },
   {
    "duration": 0,
    "start_time": "2023-03-11T10:37:21.024Z"
   },
   {
    "duration": 0,
    "start_time": "2023-03-11T10:37:21.025Z"
   },
   {
    "duration": 0,
    "start_time": "2023-03-11T10:37:21.026Z"
   },
   {
    "duration": 0,
    "start_time": "2023-03-11T10:37:21.027Z"
   },
   {
    "duration": 1246,
    "start_time": "2023-03-11T10:37:59.623Z"
   },
   {
    "duration": 3,
    "start_time": "2023-03-11T10:38:05.295Z"
   },
   {
    "duration": 891,
    "start_time": "2023-03-11T10:38:06.519Z"
   },
   {
    "duration": 152,
    "start_time": "2023-03-11T10:38:08.735Z"
   },
   {
    "duration": 118,
    "start_time": "2023-03-11T10:38:09.199Z"
   },
   {
    "duration": 23735,
    "start_time": "2023-03-11T10:38:10.743Z"
   },
   {
    "duration": 56,
    "start_time": "2023-03-11T10:38:42.241Z"
   },
   {
    "duration": 13,
    "start_time": "2023-03-11T10:38:43.216Z"
   },
   {
    "duration": 3,
    "start_time": "2023-03-11T10:38:44.504Z"
   },
   {
    "duration": 11,
    "start_time": "2023-03-11T10:38:46.992Z"
   },
   {
    "duration": 64,
    "start_time": "2023-03-11T10:40:08.763Z"
   },
   {
    "duration": 10,
    "start_time": "2023-03-11T10:40:16.180Z"
   },
   {
    "duration": 1618,
    "start_time": "2023-03-11T10:41:46.023Z"
   },
   {
    "duration": 948,
    "start_time": "2023-03-11T10:41:47.643Z"
   },
   {
    "duration": 155,
    "start_time": "2023-03-11T10:41:48.593Z"
   },
   {
    "duration": 115,
    "start_time": "2023-03-11T10:41:48.750Z"
   },
   {
    "duration": 528,
    "start_time": "2023-03-11T10:41:48.877Z"
   },
   {
    "duration": 670,
    "start_time": "2023-03-11T10:41:49.407Z"
   },
   {
    "duration": 27,
    "start_time": "2023-03-11T10:41:50.079Z"
   },
   {
    "duration": 611,
    "start_time": "2023-03-11T10:41:50.108Z"
   },
   {
    "duration": 864,
    "start_time": "2023-03-11T10:41:50.721Z"
   },
   {
    "duration": 323,
    "start_time": "2023-03-11T10:41:51.589Z"
   },
   {
    "duration": 111,
    "start_time": "2023-03-11T10:41:51.914Z"
   },
   {
    "duration": 82,
    "start_time": "2023-03-11T10:41:52.026Z"
   },
   {
    "duration": 90,
    "start_time": "2023-03-11T10:41:52.110Z"
   },
   {
    "duration": 188,
    "start_time": "2023-03-11T10:41:52.202Z"
   },
   {
    "duration": 106,
    "start_time": "2023-03-11T10:41:52.392Z"
   },
   {
    "duration": 147,
    "start_time": "2023-03-11T10:41:52.500Z"
   },
   {
    "duration": 195,
    "start_time": "2023-03-11T10:41:52.649Z"
   },
   {
    "duration": 38,
    "start_time": "2023-03-11T10:41:52.847Z"
   },
   {
    "duration": 48,
    "start_time": "2023-03-11T10:41:52.888Z"
   },
   {
    "duration": 120,
    "start_time": "2023-03-11T10:41:52.938Z"
   },
   {
    "duration": 4696,
    "start_time": "2023-03-11T10:41:53.060Z"
   },
   {
    "duration": 935,
    "start_time": "2023-03-11T10:41:57.758Z"
   },
   {
    "duration": 1206,
    "start_time": "2023-03-11T10:41:58.695Z"
   },
   {
    "duration": 3,
    "start_time": "2023-03-11T10:41:59.904Z"
   },
   {
    "duration": 909,
    "start_time": "2023-03-11T10:41:59.908Z"
   },
   {
    "duration": 158,
    "start_time": "2023-03-11T10:42:00.819Z"
   },
   {
    "duration": 135,
    "start_time": "2023-03-11T10:42:00.979Z"
   },
   {
    "duration": 32565,
    "start_time": "2023-03-11T10:42:01.117Z"
   },
   {
    "duration": 143,
    "start_time": "2023-03-11T10:42:33.688Z"
   },
   {
    "duration": 12,
    "start_time": "2023-03-11T10:42:33.834Z"
   },
   {
    "duration": 24,
    "start_time": "2023-03-11T10:42:33.848Z"
   },
   {
    "duration": 84,
    "start_time": "2023-03-11T10:42:33.874Z"
   },
   {
    "duration": 7132,
    "start_time": "2023-03-11T10:42:33.960Z"
   },
   {
    "duration": 0,
    "start_time": "2023-03-11T10:42:41.094Z"
   },
   {
    "duration": 0,
    "start_time": "2023-03-11T10:42:41.095Z"
   },
   {
    "duration": 0,
    "start_time": "2023-03-11T10:42:41.096Z"
   },
   {
    "duration": 0,
    "start_time": "2023-03-11T10:42:41.097Z"
   },
   {
    "duration": 0,
    "start_time": "2023-03-11T10:42:41.099Z"
   },
   {
    "duration": 0,
    "start_time": "2023-03-11T10:42:41.100Z"
   },
   {
    "duration": 0,
    "start_time": "2023-03-11T10:42:41.101Z"
   },
   {
    "duration": 0,
    "start_time": "2023-03-11T10:42:41.102Z"
   },
   {
    "duration": 0,
    "start_time": "2023-03-11T10:42:41.103Z"
   },
   {
    "duration": 0,
    "start_time": "2023-03-11T10:42:41.104Z"
   },
   {
    "duration": 0,
    "start_time": "2023-03-11T10:42:41.105Z"
   },
   {
    "duration": 0,
    "start_time": "2023-03-11T10:42:41.106Z"
   },
   {
    "duration": 0,
    "start_time": "2023-03-11T10:42:41.107Z"
   },
   {
    "duration": 71,
    "start_time": "2023-03-11T10:43:05.195Z"
   },
   {
    "duration": 6482,
    "start_time": "2023-03-11T10:43:14.227Z"
   },
   {
    "duration": 1414,
    "start_time": "2023-03-11T10:43:52.157Z"
   },
   {
    "duration": 1483,
    "start_time": "2023-03-11T10:44:07.670Z"
   },
   {
    "duration": 943,
    "start_time": "2023-03-11T10:44:09.155Z"
   },
   {
    "duration": 140,
    "start_time": "2023-03-11T10:44:10.100Z"
   },
   {
    "duration": 107,
    "start_time": "2023-03-11T10:44:10.242Z"
   },
   {
    "duration": 503,
    "start_time": "2023-03-11T10:44:10.351Z"
   },
   {
    "duration": 606,
    "start_time": "2023-03-11T10:44:10.856Z"
   },
   {
    "duration": 35,
    "start_time": "2023-03-11T10:44:11.464Z"
   },
   {
    "duration": 608,
    "start_time": "2023-03-11T10:44:11.501Z"
   },
   {
    "duration": 843,
    "start_time": "2023-03-11T10:44:12.111Z"
   },
   {
    "duration": 321,
    "start_time": "2023-03-11T10:44:12.956Z"
   },
   {
    "duration": 114,
    "start_time": "2023-03-11T10:44:13.279Z"
   },
   {
    "duration": 85,
    "start_time": "2023-03-11T10:44:13.395Z"
   },
   {
    "duration": 74,
    "start_time": "2023-03-11T10:44:13.482Z"
   },
   {
    "duration": 223,
    "start_time": "2023-03-11T10:44:13.560Z"
   },
   {
    "duration": 71,
    "start_time": "2023-03-11T10:44:13.784Z"
   },
   {
    "duration": 121,
    "start_time": "2023-03-11T10:44:13.857Z"
   },
   {
    "duration": 160,
    "start_time": "2023-03-11T10:44:13.980Z"
   },
   {
    "duration": 37,
    "start_time": "2023-03-11T10:44:14.142Z"
   },
   {
    "duration": 48,
    "start_time": "2023-03-11T10:44:14.181Z"
   },
   {
    "duration": 96,
    "start_time": "2023-03-11T10:44:14.230Z"
   },
   {
    "duration": 4678,
    "start_time": "2023-03-11T10:44:14.328Z"
   },
   {
    "duration": 1009,
    "start_time": "2023-03-11T10:44:19.008Z"
   },
   {
    "duration": 180,
    "start_time": "2023-03-11T10:44:20.019Z"
   },
   {
    "duration": 4,
    "start_time": "2023-03-11T10:44:20.200Z"
   },
   {
    "duration": 889,
    "start_time": "2023-03-11T10:44:20.205Z"
   },
   {
    "duration": 161,
    "start_time": "2023-03-11T10:44:21.096Z"
   },
   {
    "duration": 138,
    "start_time": "2023-03-11T10:44:21.259Z"
   },
   {
    "duration": 23579,
    "start_time": "2023-03-11T10:44:21.399Z"
   },
   {
    "duration": 150,
    "start_time": "2023-03-11T10:44:44.980Z"
   },
   {
    "duration": 13,
    "start_time": "2023-03-11T10:44:45.132Z"
   },
   {
    "duration": 7,
    "start_time": "2023-03-11T10:44:45.147Z"
   },
   {
    "duration": 50,
    "start_time": "2023-03-11T10:44:45.155Z"
   },
   {
    "duration": 687975,
    "start_time": "2023-03-11T10:44:45.207Z"
   },
   {
    "duration": 2,
    "start_time": "2023-03-11T10:56:13.184Z"
   },
   {
    "duration": 23597,
    "start_time": "2023-03-11T10:56:13.188Z"
   },
   {
    "duration": 190,
    "start_time": "2023-03-11T10:56:36.787Z"
   },
   {
    "duration": 4,
    "start_time": "2023-03-11T10:56:36.979Z"
   },
   {
    "duration": 23,
    "start_time": "2023-03-11T10:56:36.984Z"
   },
   {
    "duration": 71,
    "start_time": "2023-03-11T10:56:37.009Z"
   },
   {
    "duration": 0,
    "start_time": "2023-03-11T10:56:37.082Z"
   },
   {
    "duration": 0,
    "start_time": "2023-03-11T10:56:37.083Z"
   },
   {
    "duration": 0,
    "start_time": "2023-03-11T10:56:37.085Z"
   },
   {
    "duration": 0,
    "start_time": "2023-03-11T10:56:37.086Z"
   },
   {
    "duration": 0,
    "start_time": "2023-03-11T10:56:37.087Z"
   },
   {
    "duration": 0,
    "start_time": "2023-03-11T10:56:37.089Z"
   },
   {
    "duration": 0,
    "start_time": "2023-03-11T10:56:37.090Z"
   },
   {
    "duration": 14649,
    "start_time": "2023-03-11T10:58:12.456Z"
   },
   {
    "duration": 326,
    "start_time": "2023-03-11T10:58:54.484Z"
   },
   {
    "duration": 4,
    "start_time": "2023-03-11T10:58:58.017Z"
   },
   {
    "duration": 3,
    "start_time": "2023-03-11T10:59:00.073Z"
   },
   {
    "duration": 5295,
    "start_time": "2023-03-11T10:59:00.788Z"
   },
   {
    "duration": 576,
    "start_time": "2023-03-11T10:59:21.002Z"
   },
   {
    "duration": 4,
    "start_time": "2023-03-11T10:59:23.634Z"
   },
   {
    "duration": 69,
    "start_time": "2023-03-11T10:59:26.362Z"
   },
   {
    "duration": 9,
    "start_time": "2023-03-11T11:01:30.271Z"
   },
   {
    "duration": 11,
    "start_time": "2023-03-11T11:01:40.063Z"
   },
   {
    "duration": 1525,
    "start_time": "2023-03-11T11:06:19.246Z"
   },
   {
    "duration": 920,
    "start_time": "2023-03-11T11:06:20.773Z"
   },
   {
    "duration": 157,
    "start_time": "2023-03-11T11:06:21.694Z"
   },
   {
    "duration": 110,
    "start_time": "2023-03-11T11:06:21.853Z"
   },
   {
    "duration": 587,
    "start_time": "2023-03-11T11:06:21.966Z"
   },
   {
    "duration": 650,
    "start_time": "2023-03-11T11:06:22.555Z"
   },
   {
    "duration": 28,
    "start_time": "2023-03-11T11:06:23.206Z"
   },
   {
    "duration": 600,
    "start_time": "2023-03-11T11:06:23.236Z"
   },
   {
    "duration": 789,
    "start_time": "2023-03-11T11:06:23.838Z"
   },
   {
    "duration": 302,
    "start_time": "2023-03-11T11:06:24.628Z"
   },
   {
    "duration": 109,
    "start_time": "2023-03-11T11:06:24.932Z"
   },
   {
    "duration": 78,
    "start_time": "2023-03-11T11:06:25.042Z"
   },
   {
    "duration": 83,
    "start_time": "2023-03-11T11:06:25.121Z"
   },
   {
    "duration": 178,
    "start_time": "2023-03-11T11:06:25.207Z"
   },
   {
    "duration": 78,
    "start_time": "2023-03-11T11:06:25.386Z"
   },
   {
    "duration": 118,
    "start_time": "2023-03-11T11:06:25.478Z"
   },
   {
    "duration": 156,
    "start_time": "2023-03-11T11:06:25.598Z"
   },
   {
    "duration": 38,
    "start_time": "2023-03-11T11:06:25.756Z"
   },
   {
    "duration": 48,
    "start_time": "2023-03-11T11:06:25.796Z"
   },
   {
    "duration": 94,
    "start_time": "2023-03-11T11:06:25.846Z"
   },
   {
    "duration": 4436,
    "start_time": "2023-03-11T11:06:25.942Z"
   },
   {
    "duration": 925,
    "start_time": "2023-03-11T11:06:30.380Z"
   },
   {
    "duration": 186,
    "start_time": "2023-03-11T11:06:31.307Z"
   },
   {
    "duration": 2,
    "start_time": "2023-03-11T11:06:31.495Z"
   },
   {
    "duration": 887,
    "start_time": "2023-03-11T11:06:31.499Z"
   },
   {
    "duration": 179,
    "start_time": "2023-03-11T11:06:32.389Z"
   },
   {
    "duration": 144,
    "start_time": "2023-03-11T11:06:32.570Z"
   },
   {
    "duration": 22470,
    "start_time": "2023-03-11T11:06:32.715Z"
   },
   {
    "duration": 67,
    "start_time": "2023-03-11T11:06:55.278Z"
   },
   {
    "duration": 35,
    "start_time": "2023-03-11T11:06:55.347Z"
   },
   {
    "duration": 22,
    "start_time": "2023-03-11T11:06:55.384Z"
   },
   {
    "duration": 55,
    "start_time": "2023-03-11T11:06:55.407Z"
   },
   {
    "duration": 575818,
    "start_time": "2023-03-11T11:06:55.464Z"
   },
   {
    "duration": 4,
    "start_time": "2023-03-11T11:16:31.284Z"
   },
   {
    "duration": 0,
    "start_time": "2023-03-11T11:16:31.369Z"
   },
   {
    "duration": 0,
    "start_time": "2023-03-11T11:16:31.370Z"
   },
   {
    "duration": 0,
    "start_time": "2023-03-11T11:16:31.371Z"
   },
   {
    "duration": 0,
    "start_time": "2023-03-11T11:16:31.372Z"
   },
   {
    "duration": 0,
    "start_time": "2023-03-11T11:16:31.373Z"
   },
   {
    "duration": 0,
    "start_time": "2023-03-11T11:16:31.374Z"
   },
   {
    "duration": 0,
    "start_time": "2023-03-11T11:16:31.375Z"
   },
   {
    "duration": 0,
    "start_time": "2023-03-11T11:16:31.376Z"
   },
   {
    "duration": 1,
    "start_time": "2023-03-11T11:16:31.377Z"
   },
   {
    "duration": 0,
    "start_time": "2023-03-11T11:16:31.379Z"
   },
   {
    "duration": 0,
    "start_time": "2023-03-11T11:16:31.380Z"
   },
   {
    "duration": 0,
    "start_time": "2023-03-11T11:16:31.381Z"
   },
   {
    "duration": 0,
    "start_time": "2023-03-11T11:16:31.382Z"
   },
   {
    "duration": 1,
    "start_time": "2023-03-11T11:16:31.383Z"
   },
   {
    "duration": 72,
    "start_time": "2023-03-11T11:16:47.228Z"
   },
   {
    "duration": 2,
    "start_time": "2023-03-11T11:17:15.718Z"
   },
   {
    "duration": 28203,
    "start_time": "2023-03-11T11:17:21.381Z"
   },
   {
    "duration": 79,
    "start_time": "2023-03-11T11:17:54.399Z"
   },
   {
    "duration": 4,
    "start_time": "2023-03-11T11:17:55.447Z"
   },
   {
    "duration": 14901,
    "start_time": "2023-03-11T11:17:58.399Z"
   },
   {
    "duration": 317,
    "start_time": "2023-03-11T11:18:14.824Z"
   },
   {
    "duration": 3,
    "start_time": "2023-03-11T11:18:15.480Z"
   },
   {
    "duration": 5495,
    "start_time": "2023-03-11T11:18:17.288Z"
   },
   {
    "duration": 609,
    "start_time": "2023-03-11T11:18:22.785Z"
   },
   {
    "duration": 4,
    "start_time": "2023-03-11T11:18:23.395Z"
   },
   {
    "duration": 12,
    "start_time": "2023-03-11T11:19:02.889Z"
   },
   {
    "duration": 1626,
    "start_time": "2023-03-14T17:00:12.856Z"
   },
   {
    "duration": 3142,
    "start_time": "2023-03-14T17:00:14.484Z"
   },
   {
    "duration": 129,
    "start_time": "2023-03-14T17:00:17.628Z"
   },
   {
    "duration": 103,
    "start_time": "2023-03-14T17:00:17.759Z"
   },
   {
    "duration": 491,
    "start_time": "2023-03-14T17:00:17.863Z"
   },
   {
    "duration": 606,
    "start_time": "2023-03-14T17:00:18.356Z"
   },
   {
    "duration": 27,
    "start_time": "2023-03-14T17:00:20.825Z"
   },
   {
    "duration": 590,
    "start_time": "2023-03-14T17:00:22.206Z"
   },
   {
    "duration": 776,
    "start_time": "2023-03-14T17:00:23.038Z"
   },
   {
    "duration": 324,
    "start_time": "2023-03-14T17:00:23.829Z"
   },
   {
    "duration": 91,
    "start_time": "2023-03-14T17:00:24.341Z"
   },
   {
    "duration": 62,
    "start_time": "2023-03-14T17:00:26.226Z"
   },
   {
    "duration": 68,
    "start_time": "2023-03-14T17:00:26.765Z"
   },
   {
    "duration": 4,
    "start_time": "2023-03-14T17:00:38.995Z"
   },
   {
    "duration": 857,
    "start_time": "2023-03-14T17:00:39.406Z"
   },
   {
    "duration": 124,
    "start_time": "2023-03-14T17:00:40.265Z"
   },
   {
    "duration": 104,
    "start_time": "2023-03-14T17:00:40.423Z"
   },
   {
    "duration": 448,
    "start_time": "2023-03-14T17:00:45.298Z"
   },
   {
    "duration": 129,
    "start_time": "2023-03-14T17:03:36.756Z"
   },
   {
    "duration": 7,
    "start_time": "2023-03-14T17:03:49.900Z"
   },
   {
    "duration": 6,
    "start_time": "2023-03-14T17:04:05.957Z"
   },
   {
    "duration": 10,
    "start_time": "2023-03-14T17:10:36.698Z"
   },
   {
    "duration": 26,
    "start_time": "2023-03-14T17:11:30.051Z"
   },
   {
    "duration": 18,
    "start_time": "2023-03-14T17:12:00.917Z"
   },
   {
    "duration": 19,
    "start_time": "2023-03-14T17:12:05.205Z"
   },
   {
    "duration": 486,
    "start_time": "2023-03-14T17:12:38.975Z"
   },
   {
    "duration": 5,
    "start_time": "2023-03-14T17:12:43.509Z"
   },
   {
    "duration": 464,
    "start_time": "2023-03-14T17:13:01.679Z"
   },
   {
    "duration": 6,
    "start_time": "2023-03-14T17:13:08.846Z"
   },
   {
    "duration": 53,
    "start_time": "2023-03-14T17:14:22.017Z"
   },
   {
    "duration": 408,
    "start_time": "2023-03-14T17:14:28.193Z"
   },
   {
    "duration": 571,
    "start_time": "2023-03-14T17:14:55.695Z"
   },
   {
    "duration": 600,
    "start_time": "2023-03-14T17:15:07.994Z"
   },
   {
    "duration": 68,
    "start_time": "2023-03-14T17:17:02.215Z"
   },
   {
    "duration": 61,
    "start_time": "2023-03-14T17:18:25.497Z"
   },
   {
    "duration": 6,
    "start_time": "2023-03-14T17:18:29.283Z"
   },
   {
    "duration": 130,
    "start_time": "2023-03-14T17:18:37.265Z"
   },
   {
    "duration": 7,
    "start_time": "2023-03-14T17:19:14.435Z"
   },
   {
    "duration": 747,
    "start_time": "2023-03-14T17:19:14.970Z"
   },
   {
    "duration": 137,
    "start_time": "2023-03-14T17:19:15.720Z"
   },
   {
    "duration": 101,
    "start_time": "2023-03-14T17:19:15.858Z"
   },
   {
    "duration": 392,
    "start_time": "2023-03-14T17:19:17.539Z"
   },
   {
    "duration": 478,
    "start_time": "2023-03-14T17:19:17.933Z"
   },
   {
    "duration": 454,
    "start_time": "2023-03-14T17:19:18.579Z"
   },
   {
    "duration": 77,
    "start_time": "2023-03-14T17:19:19.035Z"
   },
   {
    "duration": 93,
    "start_time": "2023-03-14T17:19:19.523Z"
   },
   {
    "duration": 102,
    "start_time": "2023-03-14T17:19:20.378Z"
   },
   {
    "duration": 3,
    "start_time": "2023-03-14T17:19:55.125Z"
   },
   {
    "duration": 731,
    "start_time": "2023-03-14T17:19:55.597Z"
   },
   {
    "duration": 109,
    "start_time": "2023-03-14T17:19:56.330Z"
   },
   {
    "duration": 102,
    "start_time": "2023-03-14T17:19:56.441Z"
   },
   {
    "duration": 395,
    "start_time": "2023-03-14T17:19:58.605Z"
   },
   {
    "duration": 475,
    "start_time": "2023-03-14T17:19:59.003Z"
   },
   {
    "duration": 486,
    "start_time": "2023-03-14T17:20:04.148Z"
   },
   {
    "duration": 592,
    "start_time": "2023-03-14T17:20:13.509Z"
   },
   {
    "duration": 116,
    "start_time": "2023-03-14T17:20:59.958Z"
   },
   {
    "duration": 58,
    "start_time": "2023-03-14T17:21:51.729Z"
   },
   {
    "duration": 58,
    "start_time": "2023-03-14T17:22:58.611Z"
   },
   {
    "duration": 30,
    "start_time": "2023-03-14T17:23:09.251Z"
   },
   {
    "duration": 528,
    "start_time": "2023-03-14T17:23:46.717Z"
   },
   {
    "duration": 370,
    "start_time": "2023-03-14T17:24:24.292Z"
   },
   {
    "duration": 10,
    "start_time": "2023-03-14T17:25:13.494Z"
   },
   {
    "duration": 67,
    "start_time": "2023-03-14T17:25:19.238Z"
   },
   {
    "duration": 111,
    "start_time": "2023-03-14T17:25:33.207Z"
   },
   {
    "duration": 130,
    "start_time": "2023-03-14T17:25:35.768Z"
   },
   {
    "duration": 1343,
    "start_time": "2023-03-14T17:25:57.297Z"
   },
   {
    "duration": 214,
    "start_time": "2023-03-14T17:28:56.889Z"
   },
   {
    "duration": 40,
    "start_time": "2023-03-14T17:29:22.959Z"
   },
   {
    "duration": 177,
    "start_time": "2023-03-14T17:31:12.547Z"
   },
   {
    "duration": 461,
    "start_time": "2023-03-14T17:31:21.515Z"
   },
   {
    "duration": 191,
    "start_time": "2023-03-14T17:31:24.571Z"
   },
   {
    "duration": 434,
    "start_time": "2023-03-14T17:31:58.699Z"
   },
   {
    "duration": 1110,
    "start_time": "2023-03-14T17:32:14.245Z"
   },
   {
    "duration": 1201,
    "start_time": "2023-03-14T17:33:43.120Z"
   },
   {
    "duration": 991,
    "start_time": "2023-03-14T17:34:05.168Z"
   },
   {
    "duration": 451,
    "start_time": "2023-03-14T17:34:11.937Z"
   },
   {
    "duration": 1089,
    "start_time": "2023-03-14T17:34:12.702Z"
   },
   {
    "duration": 629,
    "start_time": "2023-03-14T17:34:28.893Z"
   },
   {
    "duration": 1059,
    "start_time": "2023-03-14T17:34:48.914Z"
   },
   {
    "duration": 50,
    "start_time": "2023-03-14T17:35:04.850Z"
   },
   {
    "duration": 1061,
    "start_time": "2023-03-14T17:36:21.478Z"
   },
   {
    "duration": 1060,
    "start_time": "2023-03-14T17:36:46.054Z"
   },
   {
    "duration": 619,
    "start_time": "2023-03-14T17:37:00.471Z"
   },
   {
    "duration": 1137,
    "start_time": "2023-03-14T17:37:37.168Z"
   },
   {
    "duration": 1113,
    "start_time": "2023-03-14T17:37:48.929Z"
   },
   {
    "duration": 101,
    "start_time": "2023-03-14T17:38:02.953Z"
   },
   {
    "duration": 54,
    "start_time": "2023-03-14T17:38:26.577Z"
   },
   {
    "duration": 48,
    "start_time": "2023-03-14T17:39:56.332Z"
   },
   {
    "duration": 38,
    "start_time": "2023-03-14T17:40:37.717Z"
   },
   {
    "duration": 751,
    "start_time": "2023-03-14T17:40:53.326Z"
   },
   {
    "duration": 371,
    "start_time": "2023-03-14T17:42:11.250Z"
   },
   {
    "duration": 55,
    "start_time": "2023-03-14T17:42:29.049Z"
   },
   {
    "duration": 52,
    "start_time": "2023-03-14T17:43:48.907Z"
   },
   {
    "duration": 65,
    "start_time": "2023-03-14T17:43:58.694Z"
   },
   {
    "duration": 53,
    "start_time": "2023-03-14T17:44:26.325Z"
   },
   {
    "duration": 11,
    "start_time": "2023-03-14T17:44:37.014Z"
   },
   {
    "duration": 47,
    "start_time": "2023-03-14T17:45:39.536Z"
   },
   {
    "duration": 50,
    "start_time": "2023-03-14T17:45:45.207Z"
   },
   {
    "duration": 49,
    "start_time": "2023-03-14T17:45:58.296Z"
   },
   {
    "duration": 36,
    "start_time": "2023-03-14T17:46:10.105Z"
   },
   {
    "duration": 32,
    "start_time": "2023-03-14T17:46:52.025Z"
   },
   {
    "duration": 5,
    "start_time": "2023-03-14T17:47:30.636Z"
   },
   {
    "duration": 789,
    "start_time": "2023-03-14T17:47:31.227Z"
   },
   {
    "duration": 116,
    "start_time": "2023-03-14T17:47:32.018Z"
   },
   {
    "duration": 93,
    "start_time": "2023-03-14T17:47:32.291Z"
   },
   {
    "duration": 413,
    "start_time": "2023-03-14T17:47:37.170Z"
   },
   {
    "duration": 485,
    "start_time": "2023-03-14T17:47:37.632Z"
   },
   {
    "duration": 455,
    "start_time": "2023-03-14T17:47:39.494Z"
   },
   {
    "duration": 218,
    "start_time": "2023-03-14T17:47:42.675Z"
   },
   {
    "duration": 9,
    "start_time": "2023-03-14T17:49:59.616Z"
   },
   {
    "duration": 4,
    "start_time": "2023-03-14T17:50:05.016Z"
   },
   {
    "duration": 741,
    "start_time": "2023-03-14T17:50:05.528Z"
   },
   {
    "duration": 115,
    "start_time": "2023-03-14T17:50:06.271Z"
   },
   {
    "duration": 109,
    "start_time": "2023-03-14T17:50:06.387Z"
   },
   {
    "duration": 404,
    "start_time": "2023-03-14T17:50:08.145Z"
   },
   {
    "duration": 487,
    "start_time": "2023-03-14T17:50:08.551Z"
   },
   {
    "duration": 482,
    "start_time": "2023-03-14T17:50:09.298Z"
   },
   {
    "duration": 81,
    "start_time": "2023-03-14T17:50:09.782Z"
   },
   {
    "duration": 115,
    "start_time": "2023-03-14T17:50:10.082Z"
   },
   {
    "duration": 18,
    "start_time": "2023-03-14T17:50:10.597Z"
   },
   {
    "duration": 5,
    "start_time": "2023-03-14T17:50:12.994Z"
   },
   {
    "duration": 71,
    "start_time": "2023-03-14T17:50:38.761Z"
   },
   {
    "duration": 58,
    "start_time": "2023-03-14T17:53:12.205Z"
   },
   {
    "duration": 11,
    "start_time": "2023-03-14T17:53:41.894Z"
   },
   {
    "duration": 66,
    "start_time": "2023-03-14T17:53:47.007Z"
   },
   {
    "duration": 4,
    "start_time": "2023-03-14T17:53:52.072Z"
   },
   {
    "duration": 776,
    "start_time": "2023-03-14T17:53:52.655Z"
   },
   {
    "duration": 117,
    "start_time": "2023-03-14T17:53:53.433Z"
   },
   {
    "duration": 107,
    "start_time": "2023-03-14T17:53:53.551Z"
   },
   {
    "duration": 442,
    "start_time": "2023-03-14T17:53:55.127Z"
   },
   {
    "duration": 535,
    "start_time": "2023-03-14T17:53:55.571Z"
   },
   {
    "duration": 453,
    "start_time": "2023-03-14T17:53:56.794Z"
   },
   {
    "duration": 82,
    "start_time": "2023-03-14T17:53:57.328Z"
   },
   {
    "duration": 121,
    "start_time": "2023-03-14T17:53:58.528Z"
   },
   {
    "duration": 15,
    "start_time": "2023-03-14T17:53:59.200Z"
   },
   {
    "duration": 78,
    "start_time": "2023-03-14T17:54:00.400Z"
   },
   {
    "duration": 9,
    "start_time": "2023-03-14T17:54:14.968Z"
   },
   {
    "duration": 676,
    "start_time": "2023-03-14T17:54:20.416Z"
   },
   {
    "duration": 230,
    "start_time": "2023-03-14T17:54:26.401Z"
   },
   {
    "duration": 218,
    "start_time": "2023-03-14T17:54:27.273Z"
   },
   {
    "duration": 23,
    "start_time": "2023-03-14T17:54:28.249Z"
   },
   {
    "duration": 14,
    "start_time": "2023-03-14T17:54:31.304Z"
   },
   {
    "duration": 24,
    "start_time": "2023-03-14T17:54:32.617Z"
   },
   {
    "duration": 25,
    "start_time": "2023-03-14T17:54:34.418Z"
   },
   {
    "duration": 13,
    "start_time": "2023-03-14T17:54:38.402Z"
   },
   {
    "duration": 20,
    "start_time": "2023-03-14T17:54:43.265Z"
   },
   {
    "duration": 21,
    "start_time": "2023-03-14T17:54:47.329Z"
   },
   {
    "duration": 7,
    "start_time": "2023-03-14T17:54:51.722Z"
   },
   {
    "duration": 9,
    "start_time": "2023-03-14T17:55:01.441Z"
   },
   {
    "duration": 18,
    "start_time": "2023-03-14T17:55:03.537Z"
   },
   {
    "duration": 5,
    "start_time": "2023-03-14T17:56:09.516Z"
   },
   {
    "duration": 732,
    "start_time": "2023-03-14T17:56:09.895Z"
   },
   {
    "duration": 113,
    "start_time": "2023-03-14T17:56:10.628Z"
   },
   {
    "duration": 98,
    "start_time": "2023-03-14T17:56:10.742Z"
   },
   {
    "duration": 422,
    "start_time": "2023-03-14T17:56:12.005Z"
   },
   {
    "duration": 459,
    "start_time": "2023-03-14T17:56:12.429Z"
   },
   {
    "duration": 409,
    "start_time": "2023-03-14T17:56:14.731Z"
   },
   {
    "duration": 87,
    "start_time": "2023-03-14T17:56:15.972Z"
   },
   {
    "duration": 120,
    "start_time": "2023-03-14T17:56:16.732Z"
   },
   {
    "duration": 16,
    "start_time": "2023-03-14T17:56:18.052Z"
   },
   {
    "duration": 80,
    "start_time": "2023-03-14T17:56:20.052Z"
   },
   {
    "duration": 29,
    "start_time": "2023-03-14T17:56:20.436Z"
   },
   {
    "duration": 541,
    "start_time": "2023-03-14T17:56:28.098Z"
   },
   {
    "duration": 5,
    "start_time": "2023-03-14T17:56:55.300Z"
   },
   {
    "duration": 775,
    "start_time": "2023-03-14T17:56:55.709Z"
   },
   {
    "duration": 114,
    "start_time": "2023-03-14T17:56:56.486Z"
   },
   {
    "duration": 96,
    "start_time": "2023-03-14T17:56:56.602Z"
   },
   {
    "duration": 420,
    "start_time": "2023-03-14T17:56:58.245Z"
   },
   {
    "duration": 488,
    "start_time": "2023-03-14T17:56:58.900Z"
   },
   {
    "duration": 550,
    "start_time": "2023-03-14T17:57:02.838Z"
   },
   {
    "duration": 94,
    "start_time": "2023-03-14T17:57:03.391Z"
   },
   {
    "duration": 165,
    "start_time": "2023-03-14T17:57:03.487Z"
   },
   {
    "duration": 16,
    "start_time": "2023-03-14T17:57:03.655Z"
   },
   {
    "duration": 103,
    "start_time": "2023-03-14T17:57:04.231Z"
   },
   {
    "duration": 27,
    "start_time": "2023-03-14T17:57:04.698Z"
   },
   {
    "duration": 548,
    "start_time": "2023-03-14T17:57:10.399Z"
   },
   {
    "duration": 216,
    "start_time": "2023-03-14T17:57:14.438Z"
   },
   {
    "duration": 193,
    "start_time": "2023-03-14T17:57:16.942Z"
   },
   {
    "duration": 21,
    "start_time": "2023-03-14T17:57:22.601Z"
   },
   {
    "duration": 13,
    "start_time": "2023-03-14T17:57:24.630Z"
   },
   {
    "duration": 24,
    "start_time": "2023-03-14T17:57:29.031Z"
   },
   {
    "duration": 25,
    "start_time": "2023-03-14T17:57:29.718Z"
   },
   {
    "duration": 13,
    "start_time": "2023-03-14T17:57:33.054Z"
   },
   {
    "duration": 18,
    "start_time": "2023-03-14T17:57:35.431Z"
   },
   {
    "duration": 20,
    "start_time": "2023-03-14T17:57:38.014Z"
   },
   {
    "duration": 6,
    "start_time": "2023-03-14T17:57:39.967Z"
   },
   {
    "duration": 7,
    "start_time": "2023-03-14T17:57:41.297Z"
   },
   {
    "duration": 17,
    "start_time": "2023-03-14T17:57:41.871Z"
   },
   {
    "duration": 4,
    "start_time": "2023-03-14T17:58:48.701Z"
   },
   {
    "duration": 741,
    "start_time": "2023-03-14T17:58:49.195Z"
   },
   {
    "duration": 118,
    "start_time": "2023-03-14T17:58:49.938Z"
   },
   {
    "duration": 92,
    "start_time": "2023-03-14T17:58:50.065Z"
   },
   {
    "duration": 389,
    "start_time": "2023-03-14T17:58:51.945Z"
   },
   {
    "duration": 456,
    "start_time": "2023-03-14T17:58:52.336Z"
   },
   {
    "duration": 24,
    "start_time": "2023-03-14T17:58:53.057Z"
   },
   {
    "duration": 2,
    "start_time": "2023-03-14T17:58:53.457Z"
   },
   {
    "duration": 2,
    "start_time": "2023-03-14T17:58:53.722Z"
   },
   {
    "duration": 3,
    "start_time": "2023-03-14T17:58:53.961Z"
   },
   {
    "duration": 2,
    "start_time": "2023-03-14T17:58:54.577Z"
   },
   {
    "duration": 76,
    "start_time": "2023-03-14T17:58:54.969Z"
   },
   {
    "duration": 582,
    "start_time": "2023-03-14T17:58:59.809Z"
   },
   {
    "duration": 766,
    "start_time": "2023-03-14T17:59:00.977Z"
   },
   {
    "duration": 218,
    "start_time": "2023-03-14T17:59:01.745Z"
   },
   {
    "duration": 85,
    "start_time": "2023-03-14T17:59:02.450Z"
   },
   {
    "duration": 61,
    "start_time": "2023-03-14T17:59:30.378Z"
   },
   {
    "duration": 63,
    "start_time": "2023-03-14T17:59:30.587Z"
   },
   {
    "duration": 144,
    "start_time": "2023-03-14T17:59:30.771Z"
   },
   {
    "duration": 67,
    "start_time": "2023-03-14T17:59:31.502Z"
   },
   {
    "duration": 87,
    "start_time": "2023-03-14T17:59:33.146Z"
   },
   {
    "duration": 136,
    "start_time": "2023-03-14T17:59:34.289Z"
   },
   {
    "duration": 26,
    "start_time": "2023-03-14T17:59:35.108Z"
   },
   {
    "duration": 46,
    "start_time": "2023-03-14T17:59:36.005Z"
   },
   {
    "duration": 72,
    "start_time": "2023-03-14T17:59:36.427Z"
   },
   {
    "duration": 4,
    "start_time": "2023-03-14T18:00:21.260Z"
   },
   {
    "duration": 725,
    "start_time": "2023-03-14T18:00:21.652Z"
   },
   {
    "duration": 110,
    "start_time": "2023-03-14T18:00:22.378Z"
   },
   {
    "duration": 93,
    "start_time": "2023-03-14T18:00:22.490Z"
   },
   {
    "duration": 398,
    "start_time": "2023-03-14T18:00:27.316Z"
   },
   {
    "duration": 481,
    "start_time": "2023-03-14T18:00:27.801Z"
   },
   {
    "duration": 416,
    "start_time": "2023-03-14T18:00:29.001Z"
   },
   {
    "duration": 87,
    "start_time": "2023-03-14T18:00:31.533Z"
   },
   {
    "duration": 122,
    "start_time": "2023-03-14T18:00:33.949Z"
   },
   {
    "duration": 17,
    "start_time": "2023-03-14T18:00:47.566Z"
   },
   {
    "duration": 80,
    "start_time": "2023-03-14T18:00:56.925Z"
   },
   {
    "duration": 27,
    "start_time": "2023-03-14T18:00:59.297Z"
   },
   {
    "duration": 5,
    "start_time": "2023-03-14T18:01:32.709Z"
   },
   {
    "duration": 732,
    "start_time": "2023-03-14T18:01:33.071Z"
   },
   {
    "duration": 119,
    "start_time": "2023-03-14T18:01:33.804Z"
   },
   {
    "duration": 97,
    "start_time": "2023-03-14T18:01:33.925Z"
   },
   {
    "duration": 416,
    "start_time": "2023-03-14T18:01:34.750Z"
   },
   {
    "duration": 508,
    "start_time": "2023-03-14T18:01:35.168Z"
   },
   {
    "duration": 419,
    "start_time": "2023-03-14T18:01:35.750Z"
   },
   {
    "duration": 83,
    "start_time": "2023-03-14T18:01:36.171Z"
   },
   {
    "duration": 121,
    "start_time": "2023-03-14T18:01:36.446Z"
   },
   {
    "duration": 15,
    "start_time": "2023-03-14T18:01:37.542Z"
   },
   {
    "duration": 9,
    "start_time": "2023-03-14T18:01:58.048Z"
   },
   {
    "duration": 4,
    "start_time": "2023-03-14T18:02:25.512Z"
   },
   {
    "duration": 6,
    "start_time": "2023-03-14T18:02:38.395Z"
   },
   {
    "duration": 4,
    "start_time": "2023-03-14T18:02:41.065Z"
   },
   {
    "duration": 4,
    "start_time": "2023-03-14T18:03:01.086Z"
   },
   {
    "duration": 790,
    "start_time": "2023-03-14T18:03:01.434Z"
   },
   {
    "duration": 135,
    "start_time": "2023-03-14T18:03:02.226Z"
   },
   {
    "duration": 99,
    "start_time": "2023-03-14T18:03:02.362Z"
   },
   {
    "duration": 419,
    "start_time": "2023-03-14T18:03:03.721Z"
   },
   {
    "duration": 508,
    "start_time": "2023-03-14T18:03:04.142Z"
   },
   {
    "duration": 423,
    "start_time": "2023-03-14T18:03:04.652Z"
   },
   {
    "duration": 84,
    "start_time": "2023-03-14T18:03:05.077Z"
   },
   {
    "duration": 124,
    "start_time": "2023-03-14T18:03:05.657Z"
   },
   {
    "duration": 16,
    "start_time": "2023-03-14T18:03:06.505Z"
   },
   {
    "duration": 107,
    "start_time": "2023-03-14T18:03:08.998Z"
   },
   {
    "duration": 108,
    "start_time": "2023-03-14T18:03:09.874Z"
   },
   {
    "duration": 565,
    "start_time": "2023-03-14T18:03:13.530Z"
   },
   {
    "duration": 865,
    "start_time": "2023-03-14T18:03:14.098Z"
   },
   {
    "duration": 219,
    "start_time": "2023-03-14T18:03:14.965Z"
   },
   {
    "duration": 102,
    "start_time": "2023-03-14T18:03:15.186Z"
   },
   {
    "duration": 76,
    "start_time": "2023-03-14T18:03:15.530Z"
   },
   {
    "duration": 62,
    "start_time": "2023-03-14T18:03:16.200Z"
   },
   {
    "duration": 160,
    "start_time": "2023-03-14T18:03:16.626Z"
   },
   {
    "duration": 86,
    "start_time": "2023-03-14T18:03:17.731Z"
   },
   {
    "duration": 78,
    "start_time": "2023-03-14T18:03:21.666Z"
   },
   {
    "duration": 139,
    "start_time": "2023-03-14T18:03:24.802Z"
   },
   {
    "duration": 24,
    "start_time": "2023-03-14T18:03:25.842Z"
   },
   {
    "duration": 43,
    "start_time": "2023-03-14T18:03:28.434Z"
   },
   {
    "duration": 70,
    "start_time": "2023-03-14T18:03:29.580Z"
   },
   {
    "duration": 18,
    "start_time": "2023-03-14T18:05:18.854Z"
   },
   {
    "duration": 38,
    "start_time": "2023-03-14T18:05:22.318Z"
   },
   {
    "duration": 4,
    "start_time": "2023-03-14T18:06:01.912Z"
   },
   {
    "duration": 767,
    "start_time": "2023-03-14T18:06:02.255Z"
   },
   {
    "duration": 124,
    "start_time": "2023-03-14T18:06:03.024Z"
   },
   {
    "duration": 101,
    "start_time": "2023-03-14T18:06:03.149Z"
   },
   {
    "duration": 461,
    "start_time": "2023-03-14T18:06:03.855Z"
   },
   {
    "duration": 526,
    "start_time": "2023-03-14T18:06:04.318Z"
   },
   {
    "duration": 493,
    "start_time": "2023-03-14T18:06:04.846Z"
   },
   {
    "duration": 95,
    "start_time": "2023-03-14T18:06:05.341Z"
   },
   {
    "duration": 157,
    "start_time": "2023-03-14T18:06:05.439Z"
   },
   {
    "duration": 26,
    "start_time": "2023-03-14T18:06:05.598Z"
   },
   {
    "duration": 106,
    "start_time": "2023-03-14T18:06:05.751Z"
   },
   {
    "duration": 108,
    "start_time": "2023-03-14T18:06:06.409Z"
   },
   {
    "duration": 556,
    "start_time": "2023-03-14T18:06:08.255Z"
   },
   {
    "duration": 721,
    "start_time": "2023-03-14T18:06:08.813Z"
   },
   {
    "duration": 234,
    "start_time": "2023-03-14T18:06:09.536Z"
   },
   {
    "duration": 91,
    "start_time": "2023-03-14T18:06:09.772Z"
   },
   {
    "duration": 57,
    "start_time": "2023-03-14T18:06:10.806Z"
   },
   {
    "duration": 59,
    "start_time": "2023-03-14T18:06:11.256Z"
   },
   {
    "duration": 142,
    "start_time": "2023-03-14T18:06:13.520Z"
   },
   {
    "duration": 58,
    "start_time": "2023-03-14T18:06:14.447Z"
   },
   {
    "duration": 77,
    "start_time": "2023-03-14T18:06:15.568Z"
   },
   {
    "duration": 118,
    "start_time": "2023-03-14T18:06:17.011Z"
   },
   {
    "duration": 26,
    "start_time": "2023-03-14T18:06:18.101Z"
   },
   {
    "duration": 48,
    "start_time": "2023-03-14T18:06:19.647Z"
   },
   {
    "duration": 61,
    "start_time": "2023-03-14T18:06:19.904Z"
   },
   {
    "duration": 2,
    "start_time": "2023-03-14T18:06:25.457Z"
   },
   {
    "duration": 15,
    "start_time": "2023-03-14T18:07:12.435Z"
   },
   {
    "duration": 56,
    "start_time": "2023-03-14T18:17:04.385Z"
   },
   {
    "duration": 3,
    "start_time": "2023-03-14T18:19:51.075Z"
   },
   {
    "duration": 778,
    "start_time": "2023-03-14T18:19:51.429Z"
   },
   {
    "duration": 115,
    "start_time": "2023-03-14T18:19:52.209Z"
   },
   {
    "duration": 94,
    "start_time": "2023-03-14T18:19:52.325Z"
   },
   {
    "duration": 390,
    "start_time": "2023-03-14T18:19:53.097Z"
   },
   {
    "duration": 485,
    "start_time": "2023-03-14T18:19:53.490Z"
   },
   {
    "duration": 497,
    "start_time": "2023-03-14T18:19:53.978Z"
   },
   {
    "duration": 86,
    "start_time": "2023-03-14T18:19:54.476Z"
   },
   {
    "duration": 157,
    "start_time": "2023-03-14T18:19:54.564Z"
   },
   {
    "duration": 15,
    "start_time": "2023-03-14T18:19:54.723Z"
   },
   {
    "duration": 106,
    "start_time": "2023-03-14T18:19:54.739Z"
   },
   {
    "duration": 100,
    "start_time": "2023-03-14T18:19:54.915Z"
   },
   {
    "duration": 563,
    "start_time": "2023-03-14T18:19:57.099Z"
   },
   {
    "duration": 701,
    "start_time": "2023-03-14T18:19:57.664Z"
   },
   {
    "duration": 206,
    "start_time": "2023-03-14T18:19:58.366Z"
   },
   {
    "duration": 88,
    "start_time": "2023-03-14T18:19:58.574Z"
   },
   {
    "duration": 67,
    "start_time": "2023-03-14T18:19:59.467Z"
   },
   {
    "duration": 63,
    "start_time": "2023-03-14T18:20:00.052Z"
   },
   {
    "duration": 144,
    "start_time": "2023-03-14T18:20:00.643Z"
   },
   {
    "duration": 59,
    "start_time": "2023-03-14T18:20:01.747Z"
   },
   {
    "duration": 92,
    "start_time": "2023-03-14T18:20:03.991Z"
   },
   {
    "duration": 125,
    "start_time": "2023-03-14T18:20:06.812Z"
   },
   {
    "duration": 25,
    "start_time": "2023-03-14T18:20:07.740Z"
   },
   {
    "duration": 44,
    "start_time": "2023-03-14T18:20:08.659Z"
   },
   {
    "duration": 58,
    "start_time": "2023-03-14T18:20:08.948Z"
   },
   {
    "duration": 2,
    "start_time": "2023-03-14T18:20:10.404Z"
   },
   {
    "duration": 3,
    "start_time": "2023-03-14T18:20:10.819Z"
   },
   {
    "duration": 17,
    "start_time": "2023-03-14T18:20:11.972Z"
   },
   {
    "duration": 9,
    "start_time": "2023-03-14T18:20:14.468Z"
   },
   {
    "duration": 60,
    "start_time": "2023-03-14T18:20:19.696Z"
   },
   {
    "duration": 167,
    "start_time": "2023-03-14T18:26:48.441Z"
   },
   {
    "duration": 4,
    "start_time": "2023-03-14T18:29:28.446Z"
   },
   {
    "duration": 764,
    "start_time": "2023-03-14T18:29:28.814Z"
   },
   {
    "duration": 115,
    "start_time": "2023-03-14T18:29:29.580Z"
   },
   {
    "duration": 104,
    "start_time": "2023-03-14T18:29:29.697Z"
   },
   {
    "duration": 430,
    "start_time": "2023-03-14T18:29:30.430Z"
   },
   {
    "duration": 520,
    "start_time": "2023-03-14T18:29:30.862Z"
   },
   {
    "duration": 508,
    "start_time": "2023-03-14T18:29:31.384Z"
   },
   {
    "duration": 81,
    "start_time": "2023-03-14T18:29:31.894Z"
   },
   {
    "duration": 147,
    "start_time": "2023-03-14T18:29:31.977Z"
   },
   {
    "duration": 16,
    "start_time": "2023-03-14T18:29:32.126Z"
   },
   {
    "duration": 86,
    "start_time": "2023-03-14T18:29:32.144Z"
   },
   {
    "duration": 103,
    "start_time": "2023-03-14T18:29:32.233Z"
   },
   {
    "duration": 564,
    "start_time": "2023-03-14T18:29:32.997Z"
   },
   {
    "duration": 720,
    "start_time": "2023-03-14T18:29:33.563Z"
   },
   {
    "duration": 222,
    "start_time": "2023-03-14T18:29:34.286Z"
   },
   {
    "duration": 87,
    "start_time": "2023-03-14T18:29:34.512Z"
   },
   {
    "duration": 61,
    "start_time": "2023-03-14T18:29:34.999Z"
   },
   {
    "duration": 68,
    "start_time": "2023-03-14T18:29:36.751Z"
   },
   {
    "duration": 134,
    "start_time": "2023-03-14T18:29:38.862Z"
   },
   {
    "duration": 59,
    "start_time": "2023-03-14T18:29:42.310Z"
   },
   {
    "duration": 78,
    "start_time": "2023-03-14T18:29:43.598Z"
   },
   {
    "duration": 117,
    "start_time": "2023-03-14T18:29:44.803Z"
   },
   {
    "duration": 25,
    "start_time": "2023-03-14T18:29:45.396Z"
   },
   {
    "duration": 30,
    "start_time": "2023-03-14T18:29:48.038Z"
   },
   {
    "duration": 68,
    "start_time": "2023-03-14T18:29:49.478Z"
   },
   {
    "duration": 3,
    "start_time": "2023-03-14T18:29:50.967Z"
   },
   {
    "duration": 3,
    "start_time": "2023-03-14T18:29:52.712Z"
   },
   {
    "duration": 3,
    "start_time": "2023-03-14T18:29:54.328Z"
   },
   {
    "duration": 17,
    "start_time": "2023-03-14T18:29:58.792Z"
   },
   {
    "duration": 62,
    "start_time": "2023-03-14T18:30:00.232Z"
   },
   {
    "duration": 3,
    "start_time": "2023-03-14T18:30:01.672Z"
   },
   {
    "duration": 50,
    "start_time": "2023-03-14T18:36:54.221Z"
   },
   {
    "duration": 48,
    "start_time": "2023-03-14T18:36:58.742Z"
   },
   {
    "duration": 42,
    "start_time": "2023-03-14T18:37:54.615Z"
   },
   {
    "duration": 11,
    "start_time": "2023-03-14T18:38:03.664Z"
   },
   {
    "duration": 16,
    "start_time": "2023-03-14T18:38:57.817Z"
   },
   {
    "duration": 62,
    "start_time": "2023-03-14T18:39:00.329Z"
   },
   {
    "duration": 3,
    "start_time": "2023-03-14T18:39:00.737Z"
   },
   {
    "duration": 11,
    "start_time": "2023-03-14T18:39:01.146Z"
   },
   {
    "duration": 10,
    "start_time": "2023-03-14T18:40:33.380Z"
   },
   {
    "duration": 12,
    "start_time": "2023-03-14T18:41:05.702Z"
   },
   {
    "duration": 9,
    "start_time": "2023-03-14T18:42:56.081Z"
   },
   {
    "duration": 3,
    "start_time": "2023-03-14T18:43:02.050Z"
   },
   {
    "duration": 10,
    "start_time": "2023-03-14T18:43:08.874Z"
   },
   {
    "duration": 16,
    "start_time": "2023-03-14T18:43:15.433Z"
   },
   {
    "duration": 59,
    "start_time": "2023-03-14T18:43:16.402Z"
   },
   {
    "duration": 3,
    "start_time": "2023-03-14T18:43:16.732Z"
   },
   {
    "duration": 11,
    "start_time": "2023-03-14T18:43:17.242Z"
   },
   {
    "duration": 10,
    "start_time": "2023-03-14T18:43:26.220Z"
   },
   {
    "duration": 28,
    "start_time": "2023-03-14T18:43:39.994Z"
   },
   {
    "duration": 10,
    "start_time": "2023-03-14T18:44:39.142Z"
   },
   {
    "duration": 31,
    "start_time": "2023-03-14T18:45:21.102Z"
   },
   {
    "duration": 32,
    "start_time": "2023-03-14T18:45:44.080Z"
   },
   {
    "duration": 16,
    "start_time": "2023-03-14T18:46:09.792Z"
   },
   {
    "duration": 552,
    "start_time": "2023-03-14T18:48:06.812Z"
   },
   {
    "duration": 30138,
    "start_time": "2023-03-14T18:50:16.976Z"
   },
   {
    "duration": 4,
    "start_time": "2023-03-14T18:51:01.389Z"
   },
   {
    "duration": 759,
    "start_time": "2023-03-14T18:51:06.961Z"
   },
   {
    "duration": 121,
    "start_time": "2023-03-14T18:51:07.722Z"
   },
   {
    "duration": 99,
    "start_time": "2023-03-14T18:51:07.845Z"
   },
   {
    "duration": 380,
    "start_time": "2023-03-14T18:51:08.617Z"
   },
   {
    "duration": 467,
    "start_time": "2023-03-14T18:51:08.999Z"
   },
   {
    "duration": 459,
    "start_time": "2023-03-14T18:51:10.313Z"
   },
   {
    "duration": 84,
    "start_time": "2023-03-14T18:51:10.774Z"
   },
   {
    "duration": 128,
    "start_time": "2023-03-14T18:51:10.859Z"
   },
   {
    "duration": 24,
    "start_time": "2023-03-14T18:51:10.989Z"
   },
   {
    "duration": 97,
    "start_time": "2023-03-14T18:51:11.026Z"
   },
   {
    "duration": 96,
    "start_time": "2023-03-14T18:51:11.209Z"
   },
   {
    "duration": 581,
    "start_time": "2023-03-14T18:51:11.913Z"
   },
   {
    "duration": 719,
    "start_time": "2023-03-14T18:51:12.496Z"
   },
   {
    "duration": 209,
    "start_time": "2023-03-14T18:51:13.217Z"
   },
   {
    "duration": 87,
    "start_time": "2023-03-14T18:51:13.428Z"
   },
   {
    "duration": 78,
    "start_time": "2023-03-14T18:51:13.521Z"
   },
   {
    "duration": 61,
    "start_time": "2023-03-14T18:51:13.940Z"
   },
   {
    "duration": 145,
    "start_time": "2023-03-14T18:51:14.401Z"
   },
   {
    "duration": 62,
    "start_time": "2023-03-14T18:51:15.241Z"
   },
   {
    "duration": 79,
    "start_time": "2023-03-14T18:51:15.617Z"
   },
   {
    "duration": 121,
    "start_time": "2023-03-14T18:51:15.978Z"
   },
   {
    "duration": 24,
    "start_time": "2023-03-14T18:51:16.378Z"
   },
   {
    "duration": 46,
    "start_time": "2023-03-14T18:51:16.737Z"
   },
   {
    "duration": 66,
    "start_time": "2023-03-14T18:51:16.930Z"
   },
   {
    "duration": 3,
    "start_time": "2023-03-14T18:51:17.841Z"
   },
   {
    "duration": 3,
    "start_time": "2023-03-14T18:51:18.242Z"
   },
   {
    "duration": 17,
    "start_time": "2023-03-14T18:51:20.538Z"
   },
   {
    "duration": 14949,
    "start_time": "2023-03-14T18:51:59.331Z"
   },
   {
    "duration": 5,
    "start_time": "2023-03-14T18:52:14.282Z"
   },
   {
    "duration": 720,
    "start_time": "2023-03-14T18:52:14.289Z"
   },
   {
    "duration": 110,
    "start_time": "2023-03-14T18:52:15.013Z"
   },
   {
    "duration": 108,
    "start_time": "2023-03-14T18:52:15.125Z"
   },
   {
    "duration": 419,
    "start_time": "2023-03-14T18:52:15.234Z"
   },
   {
    "duration": 516,
    "start_time": "2023-03-14T18:52:15.655Z"
   },
   {
    "duration": 447,
    "start_time": "2023-03-14T18:52:16.172Z"
   },
   {
    "duration": 78,
    "start_time": "2023-03-14T18:52:16.621Z"
   },
   {
    "duration": 140,
    "start_time": "2023-03-14T18:52:16.711Z"
   },
   {
    "duration": 15,
    "start_time": "2023-03-14T18:52:16.853Z"
   },
   {
    "duration": 117,
    "start_time": "2023-03-14T18:52:16.869Z"
   },
   {
    "duration": 105,
    "start_time": "2023-03-14T18:52:16.987Z"
   },
   {
    "duration": 775,
    "start_time": "2023-03-14T18:52:17.094Z"
   },
   {
    "duration": 696,
    "start_time": "2023-03-14T18:52:17.870Z"
   },
   {
    "duration": 212,
    "start_time": "2023-03-14T18:52:18.568Z"
   },
   {
    "duration": 92,
    "start_time": "2023-03-14T18:52:18.782Z"
   },
   {
    "duration": 67,
    "start_time": "2023-03-14T18:52:18.875Z"
   },
   {
    "duration": 78,
    "start_time": "2023-03-14T18:52:18.944Z"
   },
   {
    "duration": 141,
    "start_time": "2023-03-14T18:52:19.024Z"
   },
   {
    "duration": 59,
    "start_time": "2023-03-14T18:52:19.167Z"
   },
   {
    "duration": 105,
    "start_time": "2023-03-14T18:52:19.227Z"
   },
   {
    "duration": 124,
    "start_time": "2023-03-14T18:52:19.334Z"
   },
   {
    "duration": 25,
    "start_time": "2023-03-14T18:52:19.460Z"
   },
   {
    "duration": 56,
    "start_time": "2023-03-14T18:52:19.486Z"
   },
   {
    "duration": 86,
    "start_time": "2023-03-14T18:52:19.544Z"
   },
   {
    "duration": 3,
    "start_time": "2023-03-14T18:52:19.632Z"
   },
   {
    "duration": 15,
    "start_time": "2023-03-14T18:52:19.639Z"
   },
   {
    "duration": 19,
    "start_time": "2023-03-14T18:52:19.656Z"
   },
   {
    "duration": 78,
    "start_time": "2023-03-14T18:52:19.677Z"
   },
   {
    "duration": 460,
    "start_time": "2023-03-14T18:52:19.756Z"
   },
   {
    "duration": 14,
    "start_time": "2023-03-14T18:52:23.459Z"
   },
   {
    "duration": 44,
    "start_time": "2023-03-14T18:55:23.947Z"
   },
   {
    "duration": 14939,
    "start_time": "2023-03-14T18:55:28.147Z"
   },
   {
    "duration": 16,
    "start_time": "2023-03-14T18:57:34.463Z"
   },
   {
    "duration": 10,
    "start_time": "2023-03-14T18:57:54.495Z"
   },
   {
    "duration": 10,
    "start_time": "2023-03-14T18:57:58.519Z"
   },
   {
    "duration": 9,
    "start_time": "2023-03-14T18:59:37.411Z"
   },
   {
    "duration": 5,
    "start_time": "2023-03-14T19:01:03.262Z"
   },
   {
    "duration": 839,
    "start_time": "2023-03-14T19:01:03.819Z"
   },
   {
    "duration": 110,
    "start_time": "2023-03-14T19:01:04.659Z"
   },
   {
    "duration": 104,
    "start_time": "2023-03-14T19:01:04.770Z"
   },
   {
    "duration": 413,
    "start_time": "2023-03-14T19:01:05.630Z"
   },
   {
    "duration": 516,
    "start_time": "2023-03-14T19:01:06.045Z"
   },
   {
    "duration": 452,
    "start_time": "2023-03-14T19:01:06.563Z"
   },
   {
    "duration": 96,
    "start_time": "2023-03-14T19:01:07.017Z"
   },
   {
    "duration": 144,
    "start_time": "2023-03-14T19:01:07.115Z"
   },
   {
    "duration": 15,
    "start_time": "2023-03-14T19:01:07.260Z"
   },
   {
    "duration": 114,
    "start_time": "2023-03-14T19:01:07.277Z"
   },
   {
    "duration": 118,
    "start_time": "2023-03-14T19:01:07.393Z"
   },
   {
    "duration": 543,
    "start_time": "2023-03-14T19:01:08.278Z"
   },
   {
    "duration": 752,
    "start_time": "2023-03-14T19:01:08.823Z"
   },
   {
    "duration": 204,
    "start_time": "2023-03-14T19:01:09.577Z"
   },
   {
    "duration": 86,
    "start_time": "2023-03-14T19:01:09.783Z"
   },
   {
    "duration": 57,
    "start_time": "2023-03-14T19:01:10.077Z"
   },
   {
    "duration": 61,
    "start_time": "2023-03-14T19:01:10.550Z"
   },
   {
    "duration": 144,
    "start_time": "2023-03-14T19:01:10.949Z"
   },
   {
    "duration": 56,
    "start_time": "2023-03-14T19:01:11.725Z"
   },
   {
    "duration": 81,
    "start_time": "2023-03-14T19:01:12.565Z"
   },
   {
    "duration": 118,
    "start_time": "2023-03-14T19:01:13.437Z"
   },
   {
    "duration": 24,
    "start_time": "2023-03-14T19:01:13.845Z"
   },
   {
    "duration": 47,
    "start_time": "2023-03-14T19:01:14.542Z"
   },
   {
    "duration": 59,
    "start_time": "2023-03-14T19:01:14.806Z"
   },
   {
    "duration": 3,
    "start_time": "2023-03-14T19:01:16.349Z"
   },
   {
    "duration": 3,
    "start_time": "2023-03-14T19:01:17.054Z"
   },
   {
    "duration": 16,
    "start_time": "2023-03-14T19:01:17.399Z"
   },
   {
    "duration": 62,
    "start_time": "2023-03-14T19:01:19.870Z"
   },
   {
    "duration": 5,
    "start_time": "2023-03-14T19:01:20.416Z"
   },
   {
    "duration": 446,
    "start_time": "2023-03-14T19:01:24.214Z"
   },
   {
    "duration": 412,
    "start_time": "2023-03-14T19:01:59.528Z"
   },
   {
    "duration": 11,
    "start_time": "2023-03-14T19:02:15.336Z"
   },
   {
    "duration": 506,
    "start_time": "2023-03-14T19:02:40.769Z"
   },
   {
    "duration": 463,
    "start_time": "2023-03-14T19:03:51.978Z"
   },
   {
    "duration": 453,
    "start_time": "2023-03-14T19:04:08.467Z"
   },
   {
    "duration": 425,
    "start_time": "2023-03-14T19:04:12.652Z"
   },
   {
    "duration": 10,
    "start_time": "2023-03-14T19:05:48.855Z"
   },
   {
    "duration": 459,
    "start_time": "2023-03-14T19:06:37.921Z"
   },
   {
    "duration": 13,
    "start_time": "2023-03-14T19:07:08.130Z"
   },
   {
    "duration": 447,
    "start_time": "2023-03-14T19:07:25.106Z"
   },
   {
    "duration": 505,
    "start_time": "2023-03-14T19:07:54.294Z"
   },
   {
    "duration": 6,
    "start_time": "2023-03-14T19:09:07.750Z"
   },
   {
    "duration": 16,
    "start_time": "2023-03-14T19:09:42.066Z"
   },
   {
    "duration": 15,
    "start_time": "2023-03-14T19:10:01.351Z"
   },
   {
    "duration": 14,
    "start_time": "2023-03-14T19:10:12.024Z"
   },
   {
    "duration": 15,
    "start_time": "2023-03-14T19:10:25.417Z"
   },
   {
    "duration": 16,
    "start_time": "2023-03-14T19:10:31.849Z"
   },
   {
    "duration": 15,
    "start_time": "2023-03-14T19:10:47.626Z"
   },
   {
    "duration": 61,
    "start_time": "2023-03-14T19:10:48.729Z"
   },
   {
    "duration": 445,
    "start_time": "2023-03-14T19:11:08.938Z"
   },
   {
    "duration": 438,
    "start_time": "2023-03-14T19:11:12.898Z"
   },
   {
    "duration": 474,
    "start_time": "2023-03-14T19:11:42.405Z"
   },
   {
    "duration": 479,
    "start_time": "2023-03-14T19:11:49.451Z"
   },
   {
    "duration": 425,
    "start_time": "2023-03-14T19:11:58.873Z"
   },
   {
    "duration": 439,
    "start_time": "2023-03-14T19:12:19.612Z"
   },
   {
    "duration": 429,
    "start_time": "2023-03-14T19:13:06.310Z"
   },
   {
    "duration": 453,
    "start_time": "2023-03-14T19:13:13.062Z"
   },
   {
    "duration": 424,
    "start_time": "2023-03-14T19:13:15.670Z"
   },
   {
    "duration": 426,
    "start_time": "2023-03-14T19:16:46.437Z"
   },
   {
    "duration": 458,
    "start_time": "2023-03-14T19:17:05.678Z"
   },
   {
    "duration": 437,
    "start_time": "2023-03-14T19:17:24.742Z"
   },
   {
    "duration": 432,
    "start_time": "2023-03-14T19:17:31.934Z"
   },
   {
    "duration": 446,
    "start_time": "2023-03-14T19:18:00.972Z"
   },
   {
    "duration": 448,
    "start_time": "2023-03-14T19:18:07.093Z"
   },
   {
    "duration": 473,
    "start_time": "2023-03-14T19:18:14.039Z"
   },
   {
    "duration": 429,
    "start_time": "2023-03-14T19:19:11.834Z"
   },
   {
    "duration": 45,
    "start_time": "2023-03-14T19:20:17.308Z"
   },
   {
    "duration": 50,
    "start_time": "2023-03-14T19:20:21.860Z"
   },
   {
    "duration": 9,
    "start_time": "2023-03-14T19:20:25.732Z"
   },
   {
    "duration": 424,
    "start_time": "2023-03-14T19:20:32.813Z"
   },
   {
    "duration": 424,
    "start_time": "2023-03-14T19:29:53.631Z"
   },
   {
    "duration": 437,
    "start_time": "2023-03-14T19:29:57.975Z"
   },
   {
    "duration": 509,
    "start_time": "2023-03-14T19:30:05.185Z"
   },
   {
    "duration": 444,
    "start_time": "2023-03-14T19:30:09.494Z"
   },
   {
    "duration": 421,
    "start_time": "2023-03-14T19:30:12.927Z"
   },
   {
    "duration": 9,
    "start_time": "2023-03-14T19:38:47.905Z"
   },
   {
    "duration": 367,
    "start_time": "2023-03-14T19:39:17.026Z"
   },
   {
    "duration": 8908,
    "start_time": "2023-03-14T19:39:26.642Z"
   },
   {
    "duration": 8654,
    "start_time": "2023-03-14T19:40:43.422Z"
   },
   {
    "duration": 8615,
    "start_time": "2023-03-14T19:41:13.718Z"
   },
   {
    "duration": 347,
    "start_time": "2023-03-14T19:41:36.630Z"
   },
   {
    "duration": 17,
    "start_time": "2023-03-14T19:43:05.945Z"
   },
   {
    "duration": 60,
    "start_time": "2023-03-14T19:43:06.690Z"
   },
   {
    "duration": 2,
    "start_time": "2023-03-14T19:43:06.913Z"
   },
   {
    "duration": 8691,
    "start_time": "2023-03-14T19:43:07.201Z"
   },
   {
    "duration": 1019,
    "start_time": "2023-03-14T19:44:43.416Z"
   },
   {
    "duration": 1381,
    "start_time": "2023-03-14T19:45:19.260Z"
   },
   {
    "duration": 2678,
    "start_time": "2023-03-14T19:45:20.643Z"
   },
   {
    "duration": 112,
    "start_time": "2023-03-14T19:45:23.322Z"
   },
   {
    "duration": 110,
    "start_time": "2023-03-14T19:45:23.436Z"
   },
   {
    "duration": 466,
    "start_time": "2023-03-14T19:45:23.547Z"
   },
   {
    "duration": 583,
    "start_time": "2023-03-14T19:45:24.015Z"
   },
   {
    "duration": 468,
    "start_time": "2023-03-14T19:45:24.600Z"
   },
   {
    "duration": 111,
    "start_time": "2023-03-14T19:45:25.070Z"
   },
   {
    "duration": 295,
    "start_time": "2023-03-14T19:45:25.183Z"
   },
   {
    "duration": 0,
    "start_time": "2023-03-14T19:45:25.481Z"
   },
   {
    "duration": 0,
    "start_time": "2023-03-14T19:45:25.482Z"
   },
   {
    "duration": 0,
    "start_time": "2023-03-14T19:45:25.484Z"
   },
   {
    "duration": 0,
    "start_time": "2023-03-14T19:45:25.486Z"
   },
   {
    "duration": 0,
    "start_time": "2023-03-14T19:45:25.487Z"
   },
   {
    "duration": 0,
    "start_time": "2023-03-14T19:45:25.488Z"
   },
   {
    "duration": 0,
    "start_time": "2023-03-14T19:45:25.490Z"
   },
   {
    "duration": 0,
    "start_time": "2023-03-14T19:45:25.491Z"
   },
   {
    "duration": 1,
    "start_time": "2023-03-14T19:45:25.512Z"
   },
   {
    "duration": 0,
    "start_time": "2023-03-14T19:45:25.515Z"
   },
   {
    "duration": 97,
    "start_time": "2023-03-14T19:45:25.769Z"
   },
   {
    "duration": 99,
    "start_time": "2023-03-14T19:45:26.137Z"
   },
   {
    "duration": 194,
    "start_time": "2023-03-14T19:45:26.537Z"
   },
   {
    "duration": 31,
    "start_time": "2023-03-14T19:45:26.930Z"
   },
   {
    "duration": 115,
    "start_time": "2023-03-14T19:45:27.313Z"
   },
   {
    "duration": 136,
    "start_time": "2023-03-14T19:45:27.505Z"
   },
   {
    "duration": 3,
    "start_time": "2023-03-14T19:45:28.113Z"
   },
   {
    "duration": 31,
    "start_time": "2023-03-14T19:45:28.338Z"
   },
   {
    "duration": 202,
    "start_time": "2023-03-14T19:45:29.025Z"
   },
   {
    "duration": 11,
    "start_time": "2023-03-14T19:45:29.514Z"
   },
   {
    "duration": 4472,
    "start_time": "2023-03-14T19:45:29.962Z"
   },
   {
    "duration": 4,
    "start_time": "2023-03-14T19:46:01.787Z"
   },
   {
    "duration": 797,
    "start_time": "2023-03-14T19:46:02.171Z"
   },
   {
    "duration": 110,
    "start_time": "2023-03-14T19:46:02.970Z"
   },
   {
    "duration": 104,
    "start_time": "2023-03-14T19:46:03.081Z"
   },
   {
    "duration": 420,
    "start_time": "2023-03-14T19:46:03.819Z"
   },
   {
    "duration": 543,
    "start_time": "2023-03-14T19:46:04.241Z"
   },
   {
    "duration": 470,
    "start_time": "2023-03-14T19:46:04.787Z"
   },
   {
    "duration": 93,
    "start_time": "2023-03-14T19:46:05.259Z"
   },
   {
    "duration": 120,
    "start_time": "2023-03-14T19:46:05.354Z"
   },
   {
    "duration": 0,
    "start_time": "2023-03-14T19:46:05.476Z"
   },
   {
    "duration": 0,
    "start_time": "2023-03-14T19:46:05.477Z"
   },
   {
    "duration": 97,
    "start_time": "2023-03-14T19:46:05.644Z"
   },
   {
    "duration": 569,
    "start_time": "2023-03-14T19:46:06.771Z"
   },
   {
    "duration": 750,
    "start_time": "2023-03-14T19:46:07.342Z"
   },
   {
    "duration": 290,
    "start_time": "2023-03-14T19:46:08.094Z"
   },
   {
    "duration": 89,
    "start_time": "2023-03-14T19:46:08.386Z"
   },
   {
    "duration": 60,
    "start_time": "2023-03-14T19:46:08.699Z"
   },
   {
    "duration": 61,
    "start_time": "2023-03-14T19:46:09.011Z"
   },
   {
    "duration": 139,
    "start_time": "2023-03-14T19:46:09.284Z"
   },
   {
    "duration": 57,
    "start_time": "2023-03-14T19:46:09.979Z"
   },
   {
    "duration": 78,
    "start_time": "2023-03-14T19:46:10.587Z"
   },
   {
    "duration": 117,
    "start_time": "2023-03-14T19:46:11.283Z"
   },
   {
    "duration": 24,
    "start_time": "2023-03-14T19:46:11.979Z"
   },
   {
    "duration": 44,
    "start_time": "2023-03-14T19:46:12.732Z"
   },
   {
    "duration": 61,
    "start_time": "2023-03-14T19:46:13.276Z"
   },
   {
    "duration": 3,
    "start_time": "2023-03-14T19:46:14.355Z"
   },
   {
    "duration": 23,
    "start_time": "2023-03-14T19:46:14.659Z"
   },
   {
    "duration": 90,
    "start_time": "2023-03-14T19:46:16.227Z"
   },
   {
    "duration": 43,
    "start_time": "2023-03-14T19:46:16.827Z"
   },
   {
    "duration": 860,
    "start_time": "2023-03-14T19:47:08.605Z"
   },
   {
    "duration": 1012,
    "start_time": "2023-03-14T19:47:33.959Z"
   },
   {
    "duration": 920,
    "start_time": "2023-03-14T19:48:40.801Z"
   },
   {
    "duration": 15,
    "start_time": "2023-03-14T19:49:04.898Z"
   },
   {
    "duration": 17,
    "start_time": "2023-03-14T19:49:08.546Z"
   },
   {
    "duration": 90,
    "start_time": "2023-03-14T19:49:09.281Z"
   },
   {
    "duration": 873,
    "start_time": "2023-03-14T19:49:09.618Z"
   },
   {
    "duration": 923,
    "start_time": "2023-03-14T19:49:28.955Z"
   },
   {
    "duration": 873,
    "start_time": "2023-03-14T19:49:37.883Z"
   },
   {
    "duration": 850,
    "start_time": "2023-03-14T19:49:49.843Z"
   },
   {
    "duration": 12,
    "start_time": "2023-03-14T19:50:32.332Z"
   },
   {
    "duration": 10,
    "start_time": "2023-03-14T19:50:37.212Z"
   },
   {
    "duration": 12,
    "start_time": "2023-03-14T19:50:39.542Z"
   },
   {
    "duration": 861,
    "start_time": "2023-03-14T19:50:44.677Z"
   },
   {
    "duration": 2,
    "start_time": "2023-03-14T19:54:51.141Z"
   },
   {
    "duration": 15,
    "start_time": "2023-03-14T19:54:51.413Z"
   },
   {
    "duration": 85,
    "start_time": "2023-03-14T19:54:52.621Z"
   },
   {
    "duration": 428,
    "start_time": "2023-03-14T19:54:55.077Z"
   },
   {
    "duration": 423,
    "start_time": "2023-03-14T19:55:12.918Z"
   },
   {
    "duration": 433,
    "start_time": "2023-03-14T19:55:28.126Z"
   },
   {
    "duration": 424,
    "start_time": "2023-03-14T19:55:50.831Z"
   },
   {
    "duration": 417,
    "start_time": "2023-03-14T19:56:44.561Z"
   },
   {
    "duration": 413,
    "start_time": "2023-03-14T19:56:58.745Z"
   },
   {
    "duration": 469,
    "start_time": "2023-03-14T19:57:09.517Z"
   },
   {
    "duration": 14,
    "start_time": "2023-03-14T19:58:13.676Z"
   },
   {
    "duration": 451,
    "start_time": "2023-03-14T19:58:22.003Z"
   },
   {
    "duration": 473,
    "start_time": "2023-03-14T19:58:29.327Z"
   },
   {
    "duration": 486,
    "start_time": "2023-03-14T19:58:37.493Z"
   },
   {
    "duration": 483,
    "start_time": "2023-03-14T20:00:13.743Z"
   },
   {
    "duration": 448,
    "start_time": "2023-03-14T20:08:12.440Z"
   },
   {
    "duration": 446,
    "start_time": "2023-03-14T20:08:22.542Z"
   },
   {
    "duration": 412,
    "start_time": "2023-03-14T20:08:46.688Z"
   },
   {
    "duration": 420,
    "start_time": "2023-03-14T20:08:54.552Z"
   },
   {
    "duration": 3,
    "start_time": "2023-03-14T20:10:33.835Z"
   },
   {
    "duration": 63,
    "start_time": "2023-03-14T20:13:46.724Z"
   },
   {
    "duration": 2,
    "start_time": "2023-03-14T20:13:47.010Z"
   },
   {
    "duration": 45,
    "start_time": "2023-03-14T20:13:47.258Z"
   },
   {
    "duration": 485,
    "start_time": "2023-03-14T20:13:47.601Z"
   },
   {
    "duration": 485,
    "start_time": "2023-03-14T20:14:12.442Z"
   },
   {
    "duration": 45,
    "start_time": "2023-03-14T20:15:44.845Z"
   },
   {
    "duration": 16,
    "start_time": "2023-03-14T20:19:54.122Z"
   },
   {
    "duration": 15,
    "start_time": "2023-03-14T20:23:51.902Z"
   },
   {
    "duration": 12,
    "start_time": "2023-03-14T20:24:07.702Z"
   },
   {
    "duration": 23,
    "start_time": "2023-03-14T20:24:14.607Z"
   },
   {
    "duration": 1093,
    "start_time": "2023-03-14T20:24:26.567Z"
   },
   {
    "duration": 390,
    "start_time": "2023-03-14T20:25:10.808Z"
   },
   {
    "duration": 11,
    "start_time": "2023-03-14T20:25:39.449Z"
   },
   {
    "duration": 1370,
    "start_time": "2023-03-14T20:25:48.545Z"
   },
   {
    "duration": 3,
    "start_time": "2023-03-14T20:26:07.034Z"
   },
   {
    "duration": 1015,
    "start_time": "2023-03-14T20:26:11.427Z"
   },
   {
    "duration": 384,
    "start_time": "2023-03-14T20:26:17.034Z"
   },
   {
    "duration": 999,
    "start_time": "2023-03-14T20:26:40.363Z"
   },
   {
    "duration": 516,
    "start_time": "2023-03-14T20:28:40.999Z"
   },
   {
    "duration": 482,
    "start_time": "2023-03-14T20:28:50.231Z"
   },
   {
    "duration": 471,
    "start_time": "2023-03-14T20:29:32.313Z"
   },
   {
    "duration": 6,
    "start_time": "2023-03-14T20:30:04.810Z"
   },
   {
    "duration": 1059,
    "start_time": "2023-03-14T20:31:07.535Z"
   },
   {
    "duration": 80,
    "start_time": "2023-03-14T20:31:32.884Z"
   },
   {
    "duration": 9,
    "start_time": "2023-03-14T20:31:37.529Z"
   },
   {
    "duration": 1478,
    "start_time": "2023-03-14T20:31:44.790Z"
   },
   {
    "duration": 3027,
    "start_time": "2023-03-14T20:31:46.270Z"
   },
   {
    "duration": 120,
    "start_time": "2023-03-14T20:31:49.298Z"
   },
   {
    "duration": 115,
    "start_time": "2023-03-14T20:31:49.421Z"
   },
   {
    "duration": 516,
    "start_time": "2023-03-14T20:31:49.538Z"
   },
   {
    "duration": 622,
    "start_time": "2023-03-14T20:31:50.056Z"
   },
   {
    "duration": 500,
    "start_time": "2023-03-14T20:31:50.680Z"
   },
   {
    "duration": 120,
    "start_time": "2023-03-14T20:31:51.182Z"
   },
   {
    "duration": 247,
    "start_time": "2023-03-14T20:31:51.303Z"
   },
   {
    "duration": 0,
    "start_time": "2023-03-14T20:31:51.552Z"
   },
   {
    "duration": 0,
    "start_time": "2023-03-14T20:31:51.553Z"
   },
   {
    "duration": 0,
    "start_time": "2023-03-14T20:31:51.554Z"
   },
   {
    "duration": 0,
    "start_time": "2023-03-14T20:31:51.555Z"
   },
   {
    "duration": 0,
    "start_time": "2023-03-14T20:31:51.556Z"
   },
   {
    "duration": 0,
    "start_time": "2023-03-14T20:31:51.558Z"
   },
   {
    "duration": 0,
    "start_time": "2023-03-14T20:31:51.560Z"
   },
   {
    "duration": 0,
    "start_time": "2023-03-14T20:31:51.561Z"
   },
   {
    "duration": 1,
    "start_time": "2023-03-14T20:31:51.562Z"
   },
   {
    "duration": 0,
    "start_time": "2023-03-14T20:31:51.565Z"
   },
   {
    "duration": 0,
    "start_time": "2023-03-14T20:31:51.566Z"
   },
   {
    "duration": 137,
    "start_time": "2023-03-14T20:31:51.982Z"
   },
   {
    "duration": 189,
    "start_time": "2023-03-14T20:31:53.730Z"
   },
   {
    "duration": 32,
    "start_time": "2023-03-14T20:31:54.342Z"
   },
   {
    "duration": 108,
    "start_time": "2023-03-14T20:31:56.629Z"
   },
   {
    "duration": 100,
    "start_time": "2023-03-14T20:31:56.826Z"
   },
   {
    "duration": 6,
    "start_time": "2023-03-14T20:31:57.826Z"
   },
   {
    "duration": 37,
    "start_time": "2023-03-14T20:31:58.078Z"
   },
   {
    "duration": 184,
    "start_time": "2023-03-14T20:31:58.965Z"
   },
   {
    "duration": 3,
    "start_time": "2023-03-14T20:31:59.425Z"
   },
   {
    "duration": 1220,
    "start_time": "2023-03-14T20:32:05.366Z"
   },
   {
    "duration": 1463,
    "start_time": "2023-03-14T20:35:44.494Z"
   },
   {
    "duration": 2893,
    "start_time": "2023-03-14T20:35:45.959Z"
   },
   {
    "duration": 132,
    "start_time": "2023-03-14T20:35:48.854Z"
   },
   {
    "duration": 101,
    "start_time": "2023-03-14T20:35:48.988Z"
   },
   {
    "duration": 534,
    "start_time": "2023-03-14T20:35:49.091Z"
   },
   {
    "duration": 578,
    "start_time": "2023-03-14T20:35:49.630Z"
   },
   {
    "duration": 508,
    "start_time": "2023-03-14T20:35:50.213Z"
   },
   {
    "duration": 81,
    "start_time": "2023-03-14T20:35:50.722Z"
   },
   {
    "duration": 290,
    "start_time": "2023-03-14T20:35:50.805Z"
   },
   {
    "duration": 1,
    "start_time": "2023-03-14T20:35:51.097Z"
   },
   {
    "duration": 0,
    "start_time": "2023-03-14T20:35:51.099Z"
   },
   {
    "duration": 0,
    "start_time": "2023-03-14T20:35:51.101Z"
   },
   {
    "duration": 0,
    "start_time": "2023-03-14T20:35:51.101Z"
   },
   {
    "duration": 0,
    "start_time": "2023-03-14T20:35:51.102Z"
   },
   {
    "duration": 0,
    "start_time": "2023-03-14T20:35:51.103Z"
   },
   {
    "duration": 0,
    "start_time": "2023-03-14T20:35:51.104Z"
   },
   {
    "duration": 0,
    "start_time": "2023-03-14T20:35:51.112Z"
   },
   {
    "duration": 0,
    "start_time": "2023-03-14T20:35:51.116Z"
   },
   {
    "duration": 0,
    "start_time": "2023-03-14T20:35:51.117Z"
   },
   {
    "duration": 0,
    "start_time": "2023-03-14T20:35:51.117Z"
   },
   {
    "duration": 0,
    "start_time": "2023-03-14T20:35:51.118Z"
   },
   {
    "duration": 193,
    "start_time": "2023-03-14T20:35:51.805Z"
   },
   {
    "duration": 44,
    "start_time": "2023-03-14T20:35:52.702Z"
   },
   {
    "duration": 113,
    "start_time": "2023-03-14T20:35:53.869Z"
   },
   {
    "duration": 103,
    "start_time": "2023-03-14T20:35:55.122Z"
   },
   {
    "duration": 5,
    "start_time": "2023-03-14T20:35:56.822Z"
   },
   {
    "duration": 30,
    "start_time": "2023-03-14T20:35:57.025Z"
   },
   {
    "duration": 191,
    "start_time": "2023-03-14T20:35:58.029Z"
   },
   {
    "duration": 2,
    "start_time": "2023-03-14T20:35:59.238Z"
   },
   {
    "duration": 1514,
    "start_time": "2023-03-14T20:36:56.992Z"
   },
   {
    "duration": 2869,
    "start_time": "2023-03-14T20:36:58.508Z"
   },
   {
    "duration": 144,
    "start_time": "2023-03-14T20:37:01.379Z"
   },
   {
    "duration": 103,
    "start_time": "2023-03-14T20:37:01.530Z"
   },
   {
    "duration": 471,
    "start_time": "2023-03-14T20:37:01.634Z"
   },
   {
    "duration": 610,
    "start_time": "2023-03-14T20:37:02.106Z"
   },
   {
    "duration": 513,
    "start_time": "2023-03-14T20:37:02.718Z"
   },
   {
    "duration": 117,
    "start_time": "2023-03-14T20:37:03.233Z"
   },
   {
    "duration": 300,
    "start_time": "2023-03-14T20:37:03.352Z"
   },
   {
    "duration": 0,
    "start_time": "2023-03-14T20:37:03.655Z"
   },
   {
    "duration": 0,
    "start_time": "2023-03-14T20:37:03.657Z"
   },
   {
    "duration": 0,
    "start_time": "2023-03-14T20:37:03.658Z"
   },
   {
    "duration": 0,
    "start_time": "2023-03-14T20:37:03.659Z"
   },
   {
    "duration": 0,
    "start_time": "2023-03-14T20:37:03.660Z"
   },
   {
    "duration": 0,
    "start_time": "2023-03-14T20:37:03.660Z"
   },
   {
    "duration": 0,
    "start_time": "2023-03-14T20:37:03.661Z"
   },
   {
    "duration": 0,
    "start_time": "2023-03-14T20:37:03.662Z"
   },
   {
    "duration": 0,
    "start_time": "2023-03-14T20:37:03.662Z"
   },
   {
    "duration": 0,
    "start_time": "2023-03-14T20:37:03.664Z"
   },
   {
    "duration": 0,
    "start_time": "2023-03-14T20:37:03.665Z"
   },
   {
    "duration": 0,
    "start_time": "2023-03-14T20:37:03.666Z"
   },
   {
    "duration": 0,
    "start_time": "2023-03-14T20:37:03.667Z"
   },
   {
    "duration": 0,
    "start_time": "2023-03-14T20:37:03.668Z"
   },
   {
    "duration": 0,
    "start_time": "2023-03-14T20:37:03.669Z"
   },
   {
    "duration": 0,
    "start_time": "2023-03-14T20:37:03.669Z"
   },
   {
    "duration": 0,
    "start_time": "2023-03-14T20:37:03.670Z"
   },
   {
    "duration": 0,
    "start_time": "2023-03-14T20:37:03.671Z"
   },
   {
    "duration": 0,
    "start_time": "2023-03-14T20:37:03.672Z"
   },
   {
    "duration": 0,
    "start_time": "2023-03-14T20:37:03.673Z"
   },
   {
    "duration": 0,
    "start_time": "2023-03-14T20:37:03.674Z"
   },
   {
    "duration": 0,
    "start_time": "2023-03-14T20:37:03.675Z"
   },
   {
    "duration": 0,
    "start_time": "2023-03-14T20:37:03.718Z"
   },
   {
    "duration": 0,
    "start_time": "2023-03-14T20:37:03.724Z"
   },
   {
    "duration": 0,
    "start_time": "2023-03-14T20:37:03.729Z"
   },
   {
    "duration": 0,
    "start_time": "2023-03-14T20:37:03.730Z"
   },
   {
    "duration": 0,
    "start_time": "2023-03-14T20:37:03.733Z"
   },
   {
    "duration": 0,
    "start_time": "2023-03-14T20:37:03.734Z"
   },
   {
    "duration": 0,
    "start_time": "2023-03-14T20:37:03.735Z"
   },
   {
    "duration": 0,
    "start_time": "2023-03-14T20:37:03.736Z"
   },
   {
    "duration": 0,
    "start_time": "2023-03-14T20:37:03.737Z"
   },
   {
    "duration": 0,
    "start_time": "2023-03-14T20:37:03.738Z"
   },
   {
    "duration": 0,
    "start_time": "2023-03-14T20:37:03.739Z"
   },
   {
    "duration": 0,
    "start_time": "2023-03-14T20:37:03.740Z"
   },
   {
    "duration": 0,
    "start_time": "2023-03-14T20:37:03.741Z"
   },
   {
    "duration": 0,
    "start_time": "2023-03-14T20:37:03.742Z"
   },
   {
    "duration": 0,
    "start_time": "2023-03-14T20:37:03.743Z"
   },
   {
    "duration": 0,
    "start_time": "2023-03-14T20:37:03.744Z"
   },
   {
    "duration": 0,
    "start_time": "2023-03-14T20:37:03.745Z"
   },
   {
    "duration": 0,
    "start_time": "2023-03-14T20:37:03.746Z"
   },
   {
    "duration": 0,
    "start_time": "2023-03-14T20:37:03.747Z"
   },
   {
    "duration": 0,
    "start_time": "2023-03-14T20:37:03.748Z"
   },
   {
    "duration": 0,
    "start_time": "2023-03-14T20:37:03.749Z"
   },
   {
    "duration": 0,
    "start_time": "2023-03-14T20:37:03.750Z"
   },
   {
    "duration": 0,
    "start_time": "2023-03-14T20:37:03.751Z"
   },
   {
    "duration": 79,
    "start_time": "2023-03-14T20:38:21.650Z"
   },
   {
    "duration": 846,
    "start_time": "2023-03-14T20:38:29.147Z"
   },
   {
    "duration": 681,
    "start_time": "2023-03-14T20:39:09.197Z"
   },
   {
    "duration": 695,
    "start_time": "2023-03-14T20:39:27.158Z"
   },
   {
    "duration": 688,
    "start_time": "2023-03-14T20:39:32.957Z"
   },
   {
    "duration": 736,
    "start_time": "2023-03-14T20:39:56.438Z"
   },
   {
    "duration": 4,
    "start_time": "2023-03-14T20:40:13.962Z"
   },
   {
    "duration": 842,
    "start_time": "2023-03-14T20:40:14.633Z"
   },
   {
    "duration": 125,
    "start_time": "2023-03-14T20:40:15.477Z"
   },
   {
    "duration": 101,
    "start_time": "2023-03-14T20:40:15.671Z"
   },
   {
    "duration": 485,
    "start_time": "2023-03-14T20:40:17.985Z"
   },
   {
    "duration": 560,
    "start_time": "2023-03-14T20:40:18.472Z"
   },
   {
    "duration": 654,
    "start_time": "2023-03-14T20:40:19.267Z"
   },
   {
    "duration": 86,
    "start_time": "2023-03-14T20:40:20.258Z"
   },
   {
    "duration": 784,
    "start_time": "2023-03-14T20:40:20.878Z"
   },
   {
    "duration": 83,
    "start_time": "2023-03-14T20:41:41.160Z"
   },
   {
    "duration": 49,
    "start_time": "2023-03-14T20:42:06.454Z"
   },
   {
    "duration": 58,
    "start_time": "2023-03-14T20:42:10.831Z"
   },
   {
    "duration": 58,
    "start_time": "2023-03-14T20:42:23.887Z"
   },
   {
    "duration": 709,
    "start_time": "2023-03-14T20:42:31.407Z"
   },
   {
    "duration": 740,
    "start_time": "2023-03-14T20:43:10.706Z"
   },
   {
    "duration": 82,
    "start_time": "2023-03-14T20:43:19.977Z"
   },
   {
    "duration": 761,
    "start_time": "2023-03-14T20:44:03.012Z"
   },
   {
    "duration": 138,
    "start_time": "2023-03-14T20:44:22.500Z"
   },
   {
    "duration": 22,
    "start_time": "2023-03-14T20:44:27.363Z"
   },
   {
    "duration": 5,
    "start_time": "2023-03-14T20:45:42.747Z"
   },
   {
    "duration": 873,
    "start_time": "2023-03-14T20:45:43.093Z"
   },
   {
    "duration": 160,
    "start_time": "2023-03-14T20:45:43.968Z"
   },
   {
    "duration": 108,
    "start_time": "2023-03-14T20:45:44.135Z"
   },
   {
    "duration": 460,
    "start_time": "2023-03-14T20:45:44.749Z"
   },
   {
    "duration": 585,
    "start_time": "2023-03-14T20:45:45.211Z"
   },
   {
    "duration": 548,
    "start_time": "2023-03-14T20:45:45.798Z"
   },
   {
    "duration": 104,
    "start_time": "2023-03-14T20:45:46.348Z"
   },
   {
    "duration": 215,
    "start_time": "2023-03-14T20:45:46.454Z"
   },
   {
    "duration": 17,
    "start_time": "2023-03-14T20:45:46.671Z"
   },
   {
    "duration": 134,
    "start_time": "2023-03-14T20:45:46.689Z"
   },
   {
    "duration": 104,
    "start_time": "2023-03-14T20:45:46.824Z"
   },
   {
    "duration": 658,
    "start_time": "2023-03-14T20:45:47.016Z"
   },
   {
    "duration": 780,
    "start_time": "2023-03-14T20:45:47.677Z"
   },
   {
    "duration": 344,
    "start_time": "2023-03-14T20:45:48.460Z"
   },
   {
    "duration": 92,
    "start_time": "2023-03-14T20:45:48.812Z"
   },
   {
    "duration": 85,
    "start_time": "2023-03-14T20:45:48.912Z"
   },
   {
    "duration": 92,
    "start_time": "2023-03-14T20:45:48.998Z"
   },
   {
    "duration": 187,
    "start_time": "2023-03-14T20:45:49.093Z"
   },
   {
    "duration": 71,
    "start_time": "2023-03-14T20:45:49.282Z"
   },
   {
    "duration": 128,
    "start_time": "2023-03-14T20:45:49.627Z"
   },
   {
    "duration": 165,
    "start_time": "2023-03-14T20:45:50.077Z"
   },
   {
    "duration": 40,
    "start_time": "2023-03-14T20:45:50.520Z"
   },
   {
    "duration": 31,
    "start_time": "2023-03-14T20:45:51.166Z"
   },
   {
    "duration": 80,
    "start_time": "2023-03-14T20:45:51.469Z"
   },
   {
    "duration": 3,
    "start_time": "2023-03-14T20:45:53.982Z"
   },
   {
    "duration": 14,
    "start_time": "2023-03-14T20:45:54.478Z"
   },
   {
    "duration": 71,
    "start_time": "2023-03-14T20:45:56.101Z"
   },
   {
    "duration": 9,
    "start_time": "2023-03-14T20:45:56.635Z"
   },
   {
    "duration": 3630,
    "start_time": "2023-03-14T20:46:01.198Z"
   },
   {
    "duration": 1679,
    "start_time": "2023-03-14T20:49:56.838Z"
   },
   {
    "duration": 3651,
    "start_time": "2023-03-14T20:49:58.521Z"
   },
   {
    "duration": 156,
    "start_time": "2023-03-14T20:50:02.173Z"
   },
   {
    "duration": 103,
    "start_time": "2023-03-14T20:50:02.332Z"
   },
   {
    "duration": 536,
    "start_time": "2023-03-14T20:50:02.438Z"
   },
   {
    "duration": 649,
    "start_time": "2023-03-14T20:50:02.975Z"
   },
   {
    "duration": 578,
    "start_time": "2023-03-14T20:50:03.627Z"
   },
   {
    "duration": 205,
    "start_time": "2023-03-14T20:50:04.207Z"
   },
   {
    "duration": 291,
    "start_time": "2023-03-14T20:50:04.415Z"
   },
   {
    "duration": 23,
    "start_time": "2023-03-14T20:50:04.708Z"
   },
   {
    "duration": 126,
    "start_time": "2023-03-14T20:50:04.734Z"
   },
   {
    "duration": 137,
    "start_time": "2023-03-14T20:50:04.861Z"
   },
   {
    "duration": 683,
    "start_time": "2023-03-14T20:50:05.000Z"
   },
   {
    "duration": 846,
    "start_time": "2023-03-14T20:50:05.686Z"
   },
   {
    "duration": 327,
    "start_time": "2023-03-14T20:50:06.538Z"
   },
   {
    "duration": 91,
    "start_time": "2023-03-14T20:50:06.867Z"
   },
   {
    "duration": 65,
    "start_time": "2023-03-14T20:50:06.962Z"
   },
   {
    "duration": 89,
    "start_time": "2023-03-14T20:50:07.029Z"
   },
   {
    "duration": 182,
    "start_time": "2023-03-14T20:50:07.120Z"
   },
   {
    "duration": 78,
    "start_time": "2023-03-14T20:50:07.304Z"
   },
   {
    "duration": 111,
    "start_time": "2023-03-14T20:50:07.384Z"
   },
   {
    "duration": 159,
    "start_time": "2023-03-14T20:50:07.516Z"
   },
   {
    "duration": 25,
    "start_time": "2023-03-14T20:50:07.676Z"
   },
   {
    "duration": 66,
    "start_time": "2023-03-14T20:50:07.703Z"
   },
   {
    "duration": 87,
    "start_time": "2023-03-14T20:50:07.771Z"
   },
   {
    "duration": 6,
    "start_time": "2023-03-14T20:50:07.859Z"
   },
   {
    "duration": 15,
    "start_time": "2023-03-14T20:50:07.867Z"
   },
   {
    "duration": 88,
    "start_time": "2023-03-14T20:50:07.885Z"
   },
   {
    "duration": 2,
    "start_time": "2023-03-14T20:50:07.976Z"
   },
   {
    "duration": 1682,
    "start_time": "2023-03-14T20:51:05.938Z"
   },
   {
    "duration": 3764,
    "start_time": "2023-03-14T20:51:07.622Z"
   },
   {
    "duration": 177,
    "start_time": "2023-03-14T20:51:11.388Z"
   },
   {
    "duration": 126,
    "start_time": "2023-03-14T20:51:11.567Z"
   },
   {
    "duration": 555,
    "start_time": "2023-03-14T20:51:11.694Z"
   },
   {
    "duration": 686,
    "start_time": "2023-03-14T20:51:12.251Z"
   },
   {
    "duration": 576,
    "start_time": "2023-03-14T20:51:12.939Z"
   },
   {
    "duration": 150,
    "start_time": "2023-03-14T20:51:13.517Z"
   },
   {
    "duration": 239,
    "start_time": "2023-03-14T20:51:13.668Z"
   },
   {
    "duration": 20,
    "start_time": "2023-03-14T20:51:13.912Z"
   },
   {
    "duration": 128,
    "start_time": "2023-03-14T20:51:13.934Z"
   },
   {
    "duration": 154,
    "start_time": "2023-03-14T20:51:14.066Z"
   },
   {
    "duration": 670,
    "start_time": "2023-03-14T20:51:14.223Z"
   },
   {
    "duration": 829,
    "start_time": "2023-03-14T20:51:14.895Z"
   },
   {
    "duration": 330,
    "start_time": "2023-03-14T20:51:15.727Z"
   },
   {
    "duration": 99,
    "start_time": "2023-03-14T20:51:16.059Z"
   },
   {
    "duration": 83,
    "start_time": "2023-03-14T20:51:16.159Z"
   },
   {
    "duration": 94,
    "start_time": "2023-03-14T20:51:16.253Z"
   },
   {
    "duration": 156,
    "start_time": "2023-03-14T20:51:16.350Z"
   },
   {
    "duration": 78,
    "start_time": "2023-03-14T20:51:16.511Z"
   },
   {
    "duration": 112,
    "start_time": "2023-03-14T20:51:16.591Z"
   },
   {
    "duration": 161,
    "start_time": "2023-03-14T20:51:16.713Z"
   },
   {
    "duration": 25,
    "start_time": "2023-03-14T20:51:16.876Z"
   },
   {
    "duration": 57,
    "start_time": "2023-03-14T20:51:16.912Z"
   },
   {
    "duration": 68,
    "start_time": "2023-03-14T20:51:16.971Z"
   },
   {
    "duration": 4,
    "start_time": "2023-03-14T20:51:17.041Z"
   },
   {
    "duration": 25,
    "start_time": "2023-03-14T20:51:17.046Z"
   },
   {
    "duration": 90,
    "start_time": "2023-03-14T20:51:17.074Z"
   },
   {
    "duration": 4,
    "start_time": "2023-03-14T20:51:17.166Z"
   },
   {
    "duration": 1140,
    "start_time": "2023-03-14T20:51:17.172Z"
   },
   {
    "duration": 149,
    "start_time": "2023-03-14T20:51:18.318Z"
   },
   {
    "duration": 0,
    "start_time": "2023-03-14T20:51:18.468Z"
   },
   {
    "duration": 0,
    "start_time": "2023-03-14T20:51:18.470Z"
   },
   {
    "duration": 0,
    "start_time": "2023-03-14T20:51:18.471Z"
   },
   {
    "duration": 0,
    "start_time": "2023-03-14T20:51:18.473Z"
   },
   {
    "duration": 0,
    "start_time": "2023-03-14T20:51:18.474Z"
   },
   {
    "duration": 0,
    "start_time": "2023-03-14T20:51:18.475Z"
   },
   {
    "duration": 0,
    "start_time": "2023-03-14T20:51:18.476Z"
   },
   {
    "duration": 0,
    "start_time": "2023-03-14T20:51:18.477Z"
   },
   {
    "duration": 0,
    "start_time": "2023-03-14T20:51:18.478Z"
   },
   {
    "duration": 0,
    "start_time": "2023-03-14T20:51:18.479Z"
   },
   {
    "duration": 0,
    "start_time": "2023-03-14T20:51:18.480Z"
   },
   {
    "duration": 0,
    "start_time": "2023-03-14T20:51:18.481Z"
   },
   {
    "duration": 0,
    "start_time": "2023-03-14T20:51:18.482Z"
   },
   {
    "duration": 0,
    "start_time": "2023-03-14T20:51:18.483Z"
   },
   {
    "duration": 0,
    "start_time": "2023-03-14T20:51:18.515Z"
   },
   {
    "duration": 0,
    "start_time": "2023-03-14T20:51:18.516Z"
   },
   {
    "duration": 0,
    "start_time": "2023-03-14T20:51:18.517Z"
   },
   {
    "duration": 0,
    "start_time": "2023-03-14T20:51:18.517Z"
   },
   {
    "duration": 0,
    "start_time": "2023-03-14T20:51:18.518Z"
   },
   {
    "duration": 0,
    "start_time": "2023-03-14T20:51:18.518Z"
   },
   {
    "duration": 0,
    "start_time": "2023-03-14T20:51:18.519Z"
   },
   {
    "duration": 0,
    "start_time": "2023-03-14T20:51:18.520Z"
   },
   {
    "duration": 0,
    "start_time": "2023-03-14T20:51:18.520Z"
   },
   {
    "duration": 1112,
    "start_time": "2023-03-14T20:52:21.153Z"
   },
   {
    "duration": 1102,
    "start_time": "2023-03-14T20:52:56.037Z"
   },
   {
    "duration": 1172,
    "start_time": "2023-03-14T20:53:03.488Z"
   },
   {
    "duration": 1701,
    "start_time": "2023-03-14T20:54:47.390Z"
   },
   {
    "duration": 3816,
    "start_time": "2023-03-14T20:54:49.094Z"
   },
   {
    "duration": 150,
    "start_time": "2023-03-14T20:54:52.912Z"
   },
   {
    "duration": 121,
    "start_time": "2023-03-14T20:54:53.064Z"
   },
   {
    "duration": 535,
    "start_time": "2023-03-14T20:54:53.186Z"
   },
   {
    "duration": 654,
    "start_time": "2023-03-14T20:54:53.723Z"
   },
   {
    "duration": 588,
    "start_time": "2023-03-14T20:54:54.380Z"
   },
   {
    "duration": 124,
    "start_time": "2023-03-14T20:54:54.970Z"
   },
   {
    "duration": 239,
    "start_time": "2023-03-14T20:54:55.096Z"
   },
   {
    "duration": 24,
    "start_time": "2023-03-14T20:54:55.340Z"
   },
   {
    "duration": 119,
    "start_time": "2023-03-14T20:54:55.366Z"
   },
   {
    "duration": 135,
    "start_time": "2023-03-14T20:54:55.487Z"
   },
   {
    "duration": 663,
    "start_time": "2023-03-14T20:54:55.629Z"
   },
   {
    "duration": 758,
    "start_time": "2023-03-14T20:54:56.294Z"
   },
   {
    "duration": 334,
    "start_time": "2023-03-14T20:54:57.054Z"
   },
   {
    "duration": 110,
    "start_time": "2023-03-14T20:54:57.390Z"
   },
   {
    "duration": 84,
    "start_time": "2023-03-14T20:54:57.501Z"
   },
   {
    "duration": 93,
    "start_time": "2023-03-14T20:54:57.586Z"
   },
   {
    "duration": 233,
    "start_time": "2023-03-14T20:54:57.682Z"
   },
   {
    "duration": 77,
    "start_time": "2023-03-14T20:54:57.918Z"
   },
   {
    "duration": 134,
    "start_time": "2023-03-14T20:54:57.997Z"
   },
   {
    "duration": 157,
    "start_time": "2023-03-14T20:54:58.135Z"
   },
   {
    "duration": 39,
    "start_time": "2023-03-14T20:54:58.294Z"
   },
   {
    "duration": 36,
    "start_time": "2023-03-14T20:54:58.335Z"
   },
   {
    "duration": 84,
    "start_time": "2023-03-14T20:54:58.373Z"
   },
   {
    "duration": 4,
    "start_time": "2023-03-14T20:54:58.459Z"
   },
   {
    "duration": 20,
    "start_time": "2023-03-14T20:54:58.465Z"
   },
   {
    "duration": 115,
    "start_time": "2023-03-14T20:54:58.491Z"
   },
   {
    "duration": 3,
    "start_time": "2023-03-14T20:54:58.608Z"
   },
   {
    "duration": 67,
    "start_time": "2023-03-14T20:54:58.612Z"
   },
   {
    "duration": 0,
    "start_time": "2023-03-14T20:54:58.681Z"
   },
   {
    "duration": 0,
    "start_time": "2023-03-14T20:54:58.683Z"
   },
   {
    "duration": 0,
    "start_time": "2023-03-14T20:54:58.685Z"
   },
   {
    "duration": 0,
    "start_time": "2023-03-14T20:54:58.686Z"
   },
   {
    "duration": 0,
    "start_time": "2023-03-14T20:54:58.687Z"
   },
   {
    "duration": 0,
    "start_time": "2023-03-14T20:54:58.688Z"
   },
   {
    "duration": 0,
    "start_time": "2023-03-14T20:54:58.689Z"
   },
   {
    "duration": 0,
    "start_time": "2023-03-14T20:54:58.690Z"
   },
   {
    "duration": 0,
    "start_time": "2023-03-14T20:54:58.691Z"
   },
   {
    "duration": 0,
    "start_time": "2023-03-14T20:54:58.692Z"
   },
   {
    "duration": 0,
    "start_time": "2023-03-14T20:54:58.693Z"
   },
   {
    "duration": 0,
    "start_time": "2023-03-14T20:54:58.695Z"
   },
   {
    "duration": 0,
    "start_time": "2023-03-14T20:54:58.696Z"
   },
   {
    "duration": 0,
    "start_time": "2023-03-14T20:54:58.697Z"
   },
   {
    "duration": 0,
    "start_time": "2023-03-14T20:54:58.698Z"
   },
   {
    "duration": 0,
    "start_time": "2023-03-14T20:54:58.700Z"
   },
   {
    "duration": 0,
    "start_time": "2023-03-14T20:54:58.701Z"
   },
   {
    "duration": 0,
    "start_time": "2023-03-14T20:54:58.703Z"
   },
   {
    "duration": 0,
    "start_time": "2023-03-14T20:54:58.704Z"
   },
   {
    "duration": 0,
    "start_time": "2023-03-14T20:54:58.707Z"
   },
   {
    "duration": 0,
    "start_time": "2023-03-14T20:54:58.709Z"
   },
   {
    "duration": 0,
    "start_time": "2023-03-14T20:54:58.710Z"
   },
   {
    "duration": 0,
    "start_time": "2023-03-14T20:54:58.714Z"
   },
   {
    "duration": 0,
    "start_time": "2023-03-14T20:54:58.714Z"
   },
   {
    "duration": 153,
    "start_time": "2023-03-14T20:55:22.644Z"
   },
   {
    "duration": 1108,
    "start_time": "2023-03-14T20:55:28.337Z"
   },
   {
    "duration": 1673,
    "start_time": "2023-03-14T20:57:19.230Z"
   },
   {
    "duration": 974,
    "start_time": "2023-03-14T20:57:20.906Z"
   },
   {
    "duration": 138,
    "start_time": "2023-03-14T20:57:21.883Z"
   },
   {
    "duration": 117,
    "start_time": "2023-03-14T20:57:22.031Z"
   },
   {
    "duration": 583,
    "start_time": "2023-03-14T20:57:22.154Z"
   },
   {
    "duration": 704,
    "start_time": "2023-03-14T20:57:22.740Z"
   },
   {
    "duration": 565,
    "start_time": "2023-03-14T20:57:23.451Z"
   },
   {
    "duration": 154,
    "start_time": "2023-03-14T20:57:24.018Z"
   },
   {
    "duration": 274,
    "start_time": "2023-03-14T20:57:24.174Z"
   },
   {
    "duration": 28,
    "start_time": "2023-03-14T20:57:24.450Z"
   },
   {
    "duration": 130,
    "start_time": "2023-03-14T20:57:24.480Z"
   },
   {
    "duration": 123,
    "start_time": "2023-03-14T20:57:24.612Z"
   },
   {
    "duration": 695,
    "start_time": "2023-03-14T20:57:24.744Z"
   },
   {
    "duration": 805,
    "start_time": "2023-03-14T20:57:25.446Z"
   },
   {
    "duration": 318,
    "start_time": "2023-03-14T20:57:26.253Z"
   },
   {
    "duration": 116,
    "start_time": "2023-03-14T20:57:26.573Z"
   },
   {
    "duration": 87,
    "start_time": "2023-03-14T20:57:26.691Z"
   },
   {
    "duration": 84,
    "start_time": "2023-03-14T20:57:26.780Z"
   },
   {
    "duration": 182,
    "start_time": "2023-03-14T20:57:26.866Z"
   },
   {
    "duration": 78,
    "start_time": "2023-03-14T20:57:27.050Z"
   },
   {
    "duration": 143,
    "start_time": "2023-03-14T20:57:27.131Z"
   },
   {
    "duration": 171,
    "start_time": "2023-03-14T20:57:27.276Z"
   },
   {
    "duration": 28,
    "start_time": "2023-03-14T20:57:27.449Z"
   },
   {
    "duration": 50,
    "start_time": "2023-03-14T20:57:27.479Z"
   },
   {
    "duration": 94,
    "start_time": "2023-03-14T20:57:27.532Z"
   },
   {
    "duration": 6,
    "start_time": "2023-03-14T20:57:27.628Z"
   },
   {
    "duration": 25,
    "start_time": "2023-03-14T20:57:27.637Z"
   },
   {
    "duration": 110,
    "start_time": "2023-03-14T20:57:27.664Z"
   },
   {
    "duration": 3,
    "start_time": "2023-03-14T20:57:27.776Z"
   },
   {
    "duration": 1255,
    "start_time": "2023-03-14T20:57:27.780Z"
   },
   {
    "duration": 140,
    "start_time": "2023-03-14T20:57:29.036Z"
   },
   {
    "duration": 0,
    "start_time": "2023-03-14T20:57:29.178Z"
   },
   {
    "duration": 0,
    "start_time": "2023-03-14T20:57:29.179Z"
   },
   {
    "duration": 0,
    "start_time": "2023-03-14T20:57:29.181Z"
   },
   {
    "duration": 0,
    "start_time": "2023-03-14T20:57:29.182Z"
   },
   {
    "duration": 0,
    "start_time": "2023-03-14T20:57:29.183Z"
   },
   {
    "duration": 0,
    "start_time": "2023-03-14T20:57:29.184Z"
   },
   {
    "duration": 0,
    "start_time": "2023-03-14T20:57:29.186Z"
   },
   {
    "duration": 0,
    "start_time": "2023-03-14T20:57:29.187Z"
   },
   {
    "duration": 0,
    "start_time": "2023-03-14T20:57:29.188Z"
   },
   {
    "duration": 0,
    "start_time": "2023-03-14T20:57:29.189Z"
   },
   {
    "duration": 0,
    "start_time": "2023-03-14T20:57:29.190Z"
   },
   {
    "duration": 0,
    "start_time": "2023-03-14T20:57:29.191Z"
   },
   {
    "duration": 0,
    "start_time": "2023-03-14T20:57:29.212Z"
   },
   {
    "duration": 0,
    "start_time": "2023-03-14T20:57:29.214Z"
   },
   {
    "duration": 0,
    "start_time": "2023-03-14T20:57:29.216Z"
   },
   {
    "duration": 0,
    "start_time": "2023-03-14T20:57:29.217Z"
   },
   {
    "duration": 0,
    "start_time": "2023-03-14T20:57:29.219Z"
   },
   {
    "duration": 0,
    "start_time": "2023-03-14T20:57:29.221Z"
   },
   {
    "duration": 0,
    "start_time": "2023-03-14T20:57:29.223Z"
   },
   {
    "duration": 0,
    "start_time": "2023-03-14T20:57:29.226Z"
   },
   {
    "duration": 0,
    "start_time": "2023-03-14T20:57:29.227Z"
   },
   {
    "duration": 0,
    "start_time": "2023-03-14T20:57:29.229Z"
   },
   {
    "duration": 0,
    "start_time": "2023-03-14T20:57:29.230Z"
   },
   {
    "duration": 85,
    "start_time": "2023-03-14T21:09:47.223Z"
   },
   {
    "duration": 13,
    "start_time": "2023-03-14T21:09:49.178Z"
   },
   {
    "duration": 1479,
    "start_time": "2023-03-14T21:09:58.643Z"
   },
   {
    "duration": 930,
    "start_time": "2023-03-14T21:10:00.128Z"
   },
   {
    "duration": 151,
    "start_time": "2023-03-14T21:10:01.061Z"
   },
   {
    "duration": 159,
    "start_time": "2023-03-14T21:10:01.214Z"
   },
   {
    "duration": 526,
    "start_time": "2023-03-14T21:10:01.376Z"
   },
   {
    "duration": 614,
    "start_time": "2023-03-14T21:10:01.904Z"
   },
   {
    "duration": 505,
    "start_time": "2023-03-14T21:10:02.524Z"
   },
   {
    "duration": 117,
    "start_time": "2023-03-14T21:10:03.032Z"
   },
   {
    "duration": 238,
    "start_time": "2023-03-14T21:10:03.150Z"
   },
   {
    "duration": 41,
    "start_time": "2023-03-14T21:10:03.390Z"
   },
   {
    "duration": 137,
    "start_time": "2023-03-14T21:10:03.433Z"
   },
   {
    "duration": 110,
    "start_time": "2023-03-14T21:10:03.571Z"
   },
   {
    "duration": 658,
    "start_time": "2023-03-14T21:10:03.682Z"
   },
   {
    "duration": 774,
    "start_time": "2023-03-14T21:10:04.344Z"
   },
   {
    "duration": 335,
    "start_time": "2023-03-14T21:10:05.120Z"
   },
   {
    "duration": 99,
    "start_time": "2023-03-14T21:10:05.457Z"
   },
   {
    "duration": 72,
    "start_time": "2023-03-14T21:10:05.558Z"
   },
   {
    "duration": 60,
    "start_time": "2023-03-14T21:10:05.632Z"
   },
   {
    "duration": 182,
    "start_time": "2023-03-14T21:10:05.694Z"
   },
   {
    "duration": 69,
    "start_time": "2023-03-14T21:10:05.878Z"
   },
   {
    "duration": 118,
    "start_time": "2023-03-14T21:10:05.949Z"
   },
   {
    "duration": 158,
    "start_time": "2023-03-14T21:10:06.069Z"
   },
   {
    "duration": 32,
    "start_time": "2023-03-14T21:10:06.232Z"
   },
   {
    "duration": 32,
    "start_time": "2023-03-14T21:10:06.266Z"
   },
   {
    "duration": 75,
    "start_time": "2023-03-14T21:10:06.300Z"
   },
   {
    "duration": 3,
    "start_time": "2023-03-14T21:10:06.377Z"
   },
   {
    "duration": 41,
    "start_time": "2023-03-14T21:10:06.382Z"
   },
   {
    "duration": 71,
    "start_time": "2023-03-14T21:10:06.431Z"
   },
   {
    "duration": 12,
    "start_time": "2023-03-14T21:10:06.504Z"
   },
   {
    "duration": 8,
    "start_time": "2023-03-14T21:10:06.520Z"
   },
   {
    "duration": 1176,
    "start_time": "2023-03-14T21:10:06.530Z"
   },
   {
    "duration": 14,
    "start_time": "2023-03-14T21:10:07.712Z"
   },
   {
    "duration": 59,
    "start_time": "2023-03-14T21:10:07.729Z"
   },
   {
    "duration": 0,
    "start_time": "2023-03-14T21:10:07.790Z"
   },
   {
    "duration": 0,
    "start_time": "2023-03-14T21:10:07.792Z"
   },
   {
    "duration": 0,
    "start_time": "2023-03-14T21:10:07.794Z"
   },
   {
    "duration": 0,
    "start_time": "2023-03-14T21:10:07.795Z"
   },
   {
    "duration": 0,
    "start_time": "2023-03-14T21:10:07.796Z"
   },
   {
    "duration": 0,
    "start_time": "2023-03-14T21:10:07.798Z"
   },
   {
    "duration": 0,
    "start_time": "2023-03-14T21:10:07.800Z"
   },
   {
    "duration": 0,
    "start_time": "2023-03-14T21:10:07.801Z"
   },
   {
    "duration": 0,
    "start_time": "2023-03-14T21:10:07.803Z"
   },
   {
    "duration": 1,
    "start_time": "2023-03-14T21:10:07.804Z"
   },
   {
    "duration": 0,
    "start_time": "2023-03-14T21:10:07.806Z"
   },
   {
    "duration": 0,
    "start_time": "2023-03-14T21:10:07.808Z"
   },
   {
    "duration": 0,
    "start_time": "2023-03-14T21:10:07.810Z"
   },
   {
    "duration": 0,
    "start_time": "2023-03-14T21:10:07.811Z"
   },
   {
    "duration": 0,
    "start_time": "2023-03-14T21:10:07.814Z"
   },
   {
    "duration": 0,
    "start_time": "2023-03-14T21:10:07.815Z"
   },
   {
    "duration": 0,
    "start_time": "2023-03-14T21:10:07.817Z"
   },
   {
    "duration": 0,
    "start_time": "2023-03-14T21:10:07.818Z"
   },
   {
    "duration": 0,
    "start_time": "2023-03-14T21:10:07.819Z"
   },
   {
    "duration": 0,
    "start_time": "2023-03-14T21:10:07.820Z"
   },
   {
    "duration": 0,
    "start_time": "2023-03-14T21:10:07.822Z"
   },
   {
    "duration": 0,
    "start_time": "2023-03-14T21:10:07.823Z"
   },
   {
    "duration": 352,
    "start_time": "2023-03-14T21:10:17.067Z"
   },
   {
    "duration": 1571,
    "start_time": "2023-03-14T21:11:53.599Z"
   },
   {
    "duration": 964,
    "start_time": "2023-03-14T21:11:55.172Z"
   },
   {
    "duration": 120,
    "start_time": "2023-03-14T21:11:56.138Z"
   },
   {
    "duration": 126,
    "start_time": "2023-03-14T21:11:56.260Z"
   },
   {
    "duration": 539,
    "start_time": "2023-03-14T21:11:56.388Z"
   },
   {
    "duration": 595,
    "start_time": "2023-03-14T21:11:56.931Z"
   },
   {
    "duration": 535,
    "start_time": "2023-03-14T21:11:57.528Z"
   },
   {
    "duration": 174,
    "start_time": "2023-03-14T21:11:58.066Z"
   },
   {
    "duration": 235,
    "start_time": "2023-03-14T21:11:58.242Z"
   },
   {
    "duration": 17,
    "start_time": "2023-03-14T21:11:58.480Z"
   },
   {
    "duration": 125,
    "start_time": "2023-03-14T21:11:58.511Z"
   },
   {
    "duration": 120,
    "start_time": "2023-03-14T21:11:58.637Z"
   },
   {
    "duration": 606,
    "start_time": "2023-03-14T21:11:58.759Z"
   },
   {
    "duration": 789,
    "start_time": "2023-03-14T21:11:59.367Z"
   },
   {
    "duration": 324,
    "start_time": "2023-03-14T21:12:00.158Z"
   },
   {
    "duration": 97,
    "start_time": "2023-03-14T21:12:00.484Z"
   },
   {
    "duration": 99,
    "start_time": "2023-03-14T21:12:00.584Z"
   },
   {
    "duration": 90,
    "start_time": "2023-03-14T21:12:00.685Z"
   },
   {
    "duration": 176,
    "start_time": "2023-03-14T21:12:00.777Z"
   },
   {
    "duration": 99,
    "start_time": "2023-03-14T21:12:00.955Z"
   },
   {
    "duration": 135,
    "start_time": "2023-03-14T21:12:01.056Z"
   },
   {
    "duration": 164,
    "start_time": "2023-03-14T21:12:01.193Z"
   },
   {
    "duration": 29,
    "start_time": "2023-03-14T21:12:01.360Z"
   },
   {
    "duration": 84,
    "start_time": "2023-03-14T21:12:01.390Z"
   },
   {
    "duration": 98,
    "start_time": "2023-03-14T21:12:01.477Z"
   },
   {
    "duration": 19,
    "start_time": "2023-03-14T21:12:01.577Z"
   },
   {
    "duration": 59,
    "start_time": "2023-03-14T21:12:01.599Z"
   },
   {
    "duration": 105,
    "start_time": "2023-03-14T21:12:01.664Z"
   },
   {
    "duration": 22,
    "start_time": "2023-03-14T21:12:01.770Z"
   },
   {
    "duration": 29,
    "start_time": "2023-03-14T21:12:01.793Z"
   },
   {
    "duration": 1212,
    "start_time": "2023-03-14T21:12:01.824Z"
   },
   {
    "duration": 9,
    "start_time": "2023-03-14T21:12:03.038Z"
   },
   {
    "duration": 417,
    "start_time": "2023-03-14T21:12:03.049Z"
   },
   {
    "duration": 201,
    "start_time": "2023-03-14T21:12:03.468Z"
   },
   {
    "duration": 3,
    "start_time": "2023-03-14T21:12:03.671Z"
   },
   {
    "duration": 165,
    "start_time": "2023-03-14T21:12:03.676Z"
   },
   {
    "duration": 0,
    "start_time": "2023-03-14T21:12:03.843Z"
   },
   {
    "duration": 0,
    "start_time": "2023-03-14T21:12:03.844Z"
   },
   {
    "duration": 0,
    "start_time": "2023-03-14T21:12:03.845Z"
   },
   {
    "duration": 0,
    "start_time": "2023-03-14T21:12:03.846Z"
   },
   {
    "duration": 0,
    "start_time": "2023-03-14T21:12:03.847Z"
   },
   {
    "duration": 0,
    "start_time": "2023-03-14T21:12:03.848Z"
   },
   {
    "duration": 0,
    "start_time": "2023-03-14T21:12:03.849Z"
   },
   {
    "duration": 0,
    "start_time": "2023-03-14T21:12:03.851Z"
   },
   {
    "duration": 0,
    "start_time": "2023-03-14T21:12:03.852Z"
   },
   {
    "duration": 0,
    "start_time": "2023-03-14T21:12:03.854Z"
   },
   {
    "duration": 0,
    "start_time": "2023-03-14T21:12:03.856Z"
   },
   {
    "duration": 0,
    "start_time": "2023-03-14T21:12:03.857Z"
   },
   {
    "duration": 0,
    "start_time": "2023-03-14T21:12:03.859Z"
   },
   {
    "duration": 0,
    "start_time": "2023-03-14T21:12:03.861Z"
   },
   {
    "duration": 0,
    "start_time": "2023-03-14T21:12:03.862Z"
   },
   {
    "duration": 0,
    "start_time": "2023-03-14T21:12:03.864Z"
   },
   {
    "duration": 0,
    "start_time": "2023-03-14T21:12:03.865Z"
   },
   {
    "duration": 0,
    "start_time": "2023-03-14T21:12:03.867Z"
   },
   {
    "duration": 0,
    "start_time": "2023-03-14T21:12:03.868Z"
   },
   {
    "duration": 198,
    "start_time": "2023-03-14T21:12:49.444Z"
   },
   {
    "duration": 74,
    "start_time": "2023-03-14T21:18:55.271Z"
   },
   {
    "duration": 42241,
    "start_time": "2023-03-14T21:19:27.793Z"
   },
   {
    "duration": 286,
    "start_time": "2023-03-14T21:20:10.036Z"
   },
   {
    "duration": 103,
    "start_time": "2023-03-14T21:20:10.344Z"
   },
   {
    "duration": 0,
    "start_time": "2023-03-14T21:20:10.449Z"
   },
   {
    "duration": 203,
    "start_time": "2023-03-14T21:23:09.409Z"
   },
   {
    "duration": 214,
    "start_time": "2023-03-14T21:23:18.116Z"
   },
   {
    "duration": 11,
    "start_time": "2023-03-14T21:23:29.393Z"
   },
   {
    "duration": 17,
    "start_time": "2023-03-14T21:41:01.539Z"
   },
   {
    "duration": 1640,
    "start_time": "2023-03-14T21:41:32.435Z"
   },
   {
    "duration": 0,
    "start_time": "2023-03-14T21:41:34.079Z"
   },
   {
    "duration": 0,
    "start_time": "2023-03-14T21:41:34.084Z"
   },
   {
    "duration": 0,
    "start_time": "2023-03-14T21:41:34.085Z"
   },
   {
    "duration": 0,
    "start_time": "2023-03-14T21:41:34.087Z"
   },
   {
    "duration": 1,
    "start_time": "2023-03-14T21:41:34.088Z"
   },
   {
    "duration": 0,
    "start_time": "2023-03-14T21:41:34.090Z"
   },
   {
    "duration": 0,
    "start_time": "2023-03-14T21:41:34.092Z"
   },
   {
    "duration": 0,
    "start_time": "2023-03-14T21:41:34.119Z"
   },
   {
    "duration": 0,
    "start_time": "2023-03-14T21:41:34.123Z"
   },
   {
    "duration": 0,
    "start_time": "2023-03-14T21:41:34.129Z"
   },
   {
    "duration": 0,
    "start_time": "2023-03-14T21:41:34.130Z"
   },
   {
    "duration": 0,
    "start_time": "2023-03-14T21:41:34.132Z"
   },
   {
    "duration": 0,
    "start_time": "2023-03-14T21:41:34.133Z"
   },
   {
    "duration": 0,
    "start_time": "2023-03-14T21:41:34.135Z"
   },
   {
    "duration": 0,
    "start_time": "2023-03-14T21:41:34.136Z"
   },
   {
    "duration": 0,
    "start_time": "2023-03-14T21:41:34.137Z"
   },
   {
    "duration": 0,
    "start_time": "2023-03-14T21:41:34.138Z"
   },
   {
    "duration": 0,
    "start_time": "2023-03-14T21:41:34.140Z"
   },
   {
    "duration": 0,
    "start_time": "2023-03-14T21:41:34.141Z"
   },
   {
    "duration": 0,
    "start_time": "2023-03-14T21:41:34.143Z"
   },
   {
    "duration": 0,
    "start_time": "2023-03-14T21:41:34.144Z"
   },
   {
    "duration": 0,
    "start_time": "2023-03-14T21:41:34.145Z"
   },
   {
    "duration": 0,
    "start_time": "2023-03-14T21:41:34.147Z"
   },
   {
    "duration": 0,
    "start_time": "2023-03-14T21:41:34.149Z"
   },
   {
    "duration": 0,
    "start_time": "2023-03-14T21:41:34.150Z"
   },
   {
    "duration": 0,
    "start_time": "2023-03-14T21:41:34.151Z"
   },
   {
    "duration": 0,
    "start_time": "2023-03-14T21:41:34.154Z"
   },
   {
    "duration": 0,
    "start_time": "2023-03-14T21:41:34.155Z"
   },
   {
    "duration": 0,
    "start_time": "2023-03-14T21:41:34.157Z"
   },
   {
    "duration": 0,
    "start_time": "2023-03-14T21:41:34.161Z"
   },
   {
    "duration": 0,
    "start_time": "2023-03-14T21:41:34.163Z"
   },
   {
    "duration": 0,
    "start_time": "2023-03-14T21:41:34.165Z"
   },
   {
    "duration": 0,
    "start_time": "2023-03-14T21:41:34.167Z"
   },
   {
    "duration": 0,
    "start_time": "2023-03-14T21:41:34.168Z"
   },
   {
    "duration": 0,
    "start_time": "2023-03-14T21:41:34.169Z"
   },
   {
    "duration": 0,
    "start_time": "2023-03-14T21:41:34.170Z"
   },
   {
    "duration": 0,
    "start_time": "2023-03-14T21:41:34.171Z"
   },
   {
    "duration": 0,
    "start_time": "2023-03-14T21:41:34.213Z"
   },
   {
    "duration": 0,
    "start_time": "2023-03-14T21:41:34.216Z"
   },
   {
    "duration": 1,
    "start_time": "2023-03-14T21:41:34.216Z"
   },
   {
    "duration": 0,
    "start_time": "2023-03-14T21:41:34.217Z"
   },
   {
    "duration": 0,
    "start_time": "2023-03-14T21:41:34.220Z"
   },
   {
    "duration": 0,
    "start_time": "2023-03-14T21:41:34.223Z"
   },
   {
    "duration": 0,
    "start_time": "2023-03-14T21:41:34.225Z"
   },
   {
    "duration": 0,
    "start_time": "2023-03-14T21:41:34.226Z"
   },
   {
    "duration": 0,
    "start_time": "2023-03-14T21:41:34.227Z"
   },
   {
    "duration": 0,
    "start_time": "2023-03-14T21:41:34.229Z"
   },
   {
    "duration": 0,
    "start_time": "2023-03-14T21:41:34.230Z"
   },
   {
    "duration": 0,
    "start_time": "2023-03-14T21:41:34.231Z"
   },
   {
    "duration": 0,
    "start_time": "2023-03-14T21:41:34.233Z"
   },
   {
    "duration": 0,
    "start_time": "2023-03-14T21:41:34.235Z"
   },
   {
    "duration": 14,
    "start_time": "2023-03-14T21:41:59.448Z"
   },
   {
    "duration": 10,
    "start_time": "2023-03-14T21:42:27.095Z"
   },
   {
    "duration": 1472,
    "start_time": "2023-03-14T21:42:35.594Z"
   },
   {
    "duration": 905,
    "start_time": "2023-03-14T21:42:37.068Z"
   },
   {
    "duration": 112,
    "start_time": "2023-03-14T21:42:37.975Z"
   },
   {
    "duration": 116,
    "start_time": "2023-03-14T21:42:38.089Z"
   },
   {
    "duration": 513,
    "start_time": "2023-03-14T21:42:38.215Z"
   },
   {
    "duration": 601,
    "start_time": "2023-03-14T21:42:38.730Z"
   },
   {
    "duration": 518,
    "start_time": "2023-03-14T21:42:39.333Z"
   },
   {
    "duration": 105,
    "start_time": "2023-03-14T21:42:39.853Z"
   },
   {
    "duration": 228,
    "start_time": "2023-03-14T21:42:39.960Z"
   },
   {
    "duration": 34,
    "start_time": "2023-03-14T21:42:40.189Z"
   },
   {
    "duration": 110,
    "start_time": "2023-03-14T21:42:40.227Z"
   },
   {
    "duration": 111,
    "start_time": "2023-03-14T21:42:40.339Z"
   },
   {
    "duration": 545,
    "start_time": "2023-03-14T21:42:40.452Z"
   },
   {
    "duration": 727,
    "start_time": "2023-03-14T21:42:41.002Z"
   },
   {
    "duration": 324,
    "start_time": "2023-03-14T21:42:41.730Z"
   },
   {
    "duration": 91,
    "start_time": "2023-03-14T21:42:42.056Z"
   },
   {
    "duration": 71,
    "start_time": "2023-03-14T21:42:42.149Z"
   },
   {
    "duration": 61,
    "start_time": "2023-03-14T21:42:42.225Z"
   },
   {
    "duration": 176,
    "start_time": "2023-03-14T21:42:42.289Z"
   },
   {
    "duration": 69,
    "start_time": "2023-03-14T21:42:42.467Z"
   },
   {
    "duration": 109,
    "start_time": "2023-03-14T21:42:42.538Z"
   },
   {
    "duration": 139,
    "start_time": "2023-03-14T21:42:42.649Z"
   },
   {
    "duration": 41,
    "start_time": "2023-03-14T21:42:42.789Z"
   },
   {
    "duration": 46,
    "start_time": "2023-03-14T21:42:42.832Z"
   },
   {
    "duration": 71,
    "start_time": "2023-03-14T21:42:42.880Z"
   },
   {
    "duration": 2,
    "start_time": "2023-03-14T21:42:42.953Z"
   },
   {
    "duration": 18,
    "start_time": "2023-03-14T21:42:42.957Z"
   },
   {
    "duration": 84,
    "start_time": "2023-03-14T21:42:42.977Z"
   },
   {
    "duration": 22,
    "start_time": "2023-03-14T21:42:43.063Z"
   },
   {
    "duration": 6,
    "start_time": "2023-03-14T21:42:43.087Z"
   },
   {
    "duration": 1154,
    "start_time": "2023-03-14T21:42:43.095Z"
   },
   {
    "duration": 10,
    "start_time": "2023-03-14T21:42:44.252Z"
   },
   {
    "duration": 366,
    "start_time": "2023-03-14T21:42:44.264Z"
   },
   {
    "duration": 177,
    "start_time": "2023-03-14T21:42:44.631Z"
   },
   {
    "duration": 3,
    "start_time": "2023-03-14T21:42:44.810Z"
   },
   {
    "duration": 44002,
    "start_time": "2023-03-14T21:42:44.816Z"
   },
   {
    "duration": 195,
    "start_time": "2023-03-14T21:43:28.824Z"
   },
   {
    "duration": 302,
    "start_time": "2023-03-14T21:43:29.024Z"
   },
   {
    "duration": 5624,
    "start_time": "2023-03-14T21:43:29.337Z"
   },
   {
    "duration": 0,
    "start_time": "2023-03-14T21:43:34.963Z"
   },
   {
    "duration": 0,
    "start_time": "2023-03-14T21:43:34.964Z"
   },
   {
    "duration": 0,
    "start_time": "2023-03-14T21:43:34.965Z"
   },
   {
    "duration": 0,
    "start_time": "2023-03-14T21:43:34.967Z"
   },
   {
    "duration": 0,
    "start_time": "2023-03-14T21:43:34.967Z"
   },
   {
    "duration": 0,
    "start_time": "2023-03-14T21:43:34.969Z"
   },
   {
    "duration": 0,
    "start_time": "2023-03-14T21:43:34.970Z"
   },
   {
    "duration": 0,
    "start_time": "2023-03-14T21:43:34.971Z"
   },
   {
    "duration": 0,
    "start_time": "2023-03-14T21:43:34.972Z"
   },
   {
    "duration": 0,
    "start_time": "2023-03-14T21:43:34.973Z"
   },
   {
    "duration": 0,
    "start_time": "2023-03-14T21:43:34.974Z"
   },
   {
    "duration": 0,
    "start_time": "2023-03-14T21:43:34.975Z"
   },
   {
    "duration": 0,
    "start_time": "2023-03-14T21:43:34.976Z"
   },
   {
    "duration": 16057,
    "start_time": "2023-03-14T21:45:46.777Z"
   },
   {
    "duration": 15,
    "start_time": "2023-03-14T21:46:32.226Z"
   },
   {
    "duration": 14,
    "start_time": "2023-03-14T21:46:44.543Z"
   },
   {
    "duration": 12,
    "start_time": "2023-03-14T21:47:24.234Z"
   },
   {
    "duration": 5,
    "start_time": "2023-03-14T21:47:31.345Z"
   },
   {
    "duration": 6,
    "start_time": "2023-03-14T21:47:46.441Z"
   },
   {
    "duration": 5,
    "start_time": "2023-03-14T21:47:52.233Z"
   },
   {
    "duration": 5596,
    "start_time": "2023-03-14T21:47:57.729Z"
   },
   {
    "duration": 1535,
    "start_time": "2023-03-14T21:52:33.291Z"
   },
   {
    "duration": 872,
    "start_time": "2023-03-14T21:52:34.828Z"
   },
   {
    "duration": 128,
    "start_time": "2023-03-14T21:52:35.702Z"
   },
   {
    "duration": 106,
    "start_time": "2023-03-14T21:52:35.832Z"
   },
   {
    "duration": 483,
    "start_time": "2023-03-14T21:52:35.940Z"
   },
   {
    "duration": 540,
    "start_time": "2023-03-14T21:52:36.424Z"
   },
   {
    "duration": 471,
    "start_time": "2023-03-14T21:52:36.966Z"
   },
   {
    "duration": 114,
    "start_time": "2023-03-14T21:52:37.439Z"
   },
   {
    "duration": 230,
    "start_time": "2023-03-14T21:52:37.554Z"
   },
   {
    "duration": 17,
    "start_time": "2023-03-14T21:52:37.785Z"
   },
   {
    "duration": 130,
    "start_time": "2023-03-14T21:52:37.804Z"
   },
   {
    "duration": 95,
    "start_time": "2023-03-14T21:52:37.936Z"
   },
   {
    "duration": 570,
    "start_time": "2023-03-14T21:52:38.033Z"
   },
   {
    "duration": 684,
    "start_time": "2023-03-14T21:52:38.606Z"
   },
   {
    "duration": 314,
    "start_time": "2023-03-14T21:52:39.292Z"
   },
   {
    "duration": 86,
    "start_time": "2023-03-14T21:52:39.608Z"
   },
   {
    "duration": 73,
    "start_time": "2023-03-14T21:52:39.696Z"
   },
   {
    "duration": 78,
    "start_time": "2023-03-14T21:52:39.771Z"
   },
   {
    "duration": 143,
    "start_time": "2023-03-14T21:52:39.850Z"
   },
   {
    "duration": 70,
    "start_time": "2023-03-14T21:52:39.995Z"
   },
   {
    "duration": 101,
    "start_time": "2023-03-14T21:52:40.067Z"
   },
   {
    "duration": 134,
    "start_time": "2023-03-14T21:52:40.169Z"
   },
   {
    "duration": 27,
    "start_time": "2023-03-14T21:52:40.305Z"
   },
   {
    "duration": 31,
    "start_time": "2023-03-14T21:52:40.334Z"
   },
   {
    "duration": 82,
    "start_time": "2023-03-14T21:52:40.367Z"
   },
   {
    "duration": 2,
    "start_time": "2023-03-14T21:52:40.451Z"
   },
   {
    "duration": 17,
    "start_time": "2023-03-14T21:52:40.454Z"
   },
   {
    "duration": 85,
    "start_time": "2023-03-14T21:52:40.472Z"
   },
   {
    "duration": 10,
    "start_time": "2023-03-14T21:52:40.558Z"
   },
   {
    "duration": 3,
    "start_time": "2023-03-14T21:52:40.570Z"
   },
   {
    "duration": 1167,
    "start_time": "2023-03-14T21:52:40.575Z"
   },
   {
    "duration": 8,
    "start_time": "2023-03-14T21:52:41.744Z"
   },
   {
    "duration": 366,
    "start_time": "2023-03-14T21:52:41.754Z"
   },
   {
    "duration": 170,
    "start_time": "2023-03-14T21:52:42.121Z"
   },
   {
    "duration": 3,
    "start_time": "2023-03-14T21:52:42.293Z"
   },
   {
    "duration": 38623,
    "start_time": "2023-03-14T21:52:42.297Z"
   },
   {
    "duration": 205,
    "start_time": "2023-03-14T21:53:20.925Z"
   },
   {
    "duration": 197,
    "start_time": "2023-03-14T21:53:21.134Z"
   },
   {
    "duration": 92,
    "start_time": "2023-03-14T21:53:21.335Z"
   },
   {
    "duration": 123,
    "start_time": "2023-03-14T21:53:21.511Z"
   },
   {
    "duration": 0,
    "start_time": "2023-03-14T21:53:21.636Z"
   },
   {
    "duration": 0,
    "start_time": "2023-03-14T21:53:21.637Z"
   },
   {
    "duration": 0,
    "start_time": "2023-03-14T21:53:21.638Z"
   },
   {
    "duration": 0,
    "start_time": "2023-03-14T21:53:21.640Z"
   },
   {
    "duration": 0,
    "start_time": "2023-03-14T21:53:21.641Z"
   },
   {
    "duration": 0,
    "start_time": "2023-03-14T21:53:21.642Z"
   },
   {
    "duration": 0,
    "start_time": "2023-03-14T21:53:21.643Z"
   },
   {
    "duration": 0,
    "start_time": "2023-03-14T21:53:21.644Z"
   },
   {
    "duration": 0,
    "start_time": "2023-03-14T21:53:21.645Z"
   },
   {
    "duration": 0,
    "start_time": "2023-03-14T21:53:21.646Z"
   },
   {
    "duration": 0,
    "start_time": "2023-03-14T21:53:21.647Z"
   },
   {
    "duration": 0,
    "start_time": "2023-03-14T21:53:21.648Z"
   },
   {
    "duration": 0,
    "start_time": "2023-03-14T21:53:21.649Z"
   },
   {
    "duration": 69,
    "start_time": "2023-03-14T21:54:33.425Z"
   },
   {
    "duration": 50,
    "start_time": "2023-03-14T21:54:43.051Z"
   },
   {
    "duration": 5777,
    "start_time": "2023-03-14T21:55:12.792Z"
   },
   {
    "duration": 1535,
    "start_time": "2023-03-14T21:55:41.839Z"
   },
   {
    "duration": 13717,
    "start_time": "2023-03-14T21:57:55.650Z"
   },
   {
    "duration": 14049,
    "start_time": "2023-03-14T21:59:01.446Z"
   },
   {
    "duration": 1422,
    "start_time": "2023-03-14T21:59:51.728Z"
   },
   {
    "duration": 881,
    "start_time": "2023-03-14T21:59:53.152Z"
   },
   {
    "duration": 142,
    "start_time": "2023-03-14T21:59:54.035Z"
   },
   {
    "duration": 132,
    "start_time": "2023-03-14T21:59:54.179Z"
   },
   {
    "duration": 513,
    "start_time": "2023-03-14T21:59:54.317Z"
   },
   {
    "duration": 601,
    "start_time": "2023-03-14T21:59:54.831Z"
   },
   {
    "duration": 518,
    "start_time": "2023-03-14T21:59:55.434Z"
   },
   {
    "duration": 118,
    "start_time": "2023-03-14T21:59:55.954Z"
   },
   {
    "duration": 227,
    "start_time": "2023-03-14T21:59:56.073Z"
   },
   {
    "duration": 25,
    "start_time": "2023-03-14T21:59:56.301Z"
   },
   {
    "duration": 111,
    "start_time": "2023-03-14T21:59:56.329Z"
   },
   {
    "duration": 111,
    "start_time": "2023-03-14T21:59:56.443Z"
   },
   {
    "duration": 575,
    "start_time": "2023-03-14T21:59:56.555Z"
   },
   {
    "duration": 742,
    "start_time": "2023-03-14T21:59:57.133Z"
   },
   {
    "duration": 298,
    "start_time": "2023-03-14T21:59:57.877Z"
   },
   {
    "duration": 92,
    "start_time": "2023-03-14T21:59:58.176Z"
   },
   {
    "duration": 70,
    "start_time": "2023-03-14T21:59:58.270Z"
   },
   {
    "duration": 85,
    "start_time": "2023-03-14T21:59:58.342Z"
   },
   {
    "duration": 143,
    "start_time": "2023-03-14T21:59:58.429Z"
   },
   {
    "duration": 71,
    "start_time": "2023-03-14T21:59:58.574Z"
   },
   {
    "duration": 114,
    "start_time": "2023-03-14T21:59:58.646Z"
   },
   {
    "duration": 139,
    "start_time": "2023-03-14T21:59:58.761Z"
   },
   {
    "duration": 32,
    "start_time": "2023-03-14T21:59:58.901Z"
   },
   {
    "duration": 45,
    "start_time": "2023-03-14T21:59:58.934Z"
   },
   {
    "duration": 88,
    "start_time": "2023-03-14T21:59:58.981Z"
   },
   {
    "duration": 2,
    "start_time": "2023-03-14T21:59:59.071Z"
   },
   {
    "duration": 17,
    "start_time": "2023-03-14T21:59:59.074Z"
   },
   {
    "duration": 82,
    "start_time": "2023-03-14T21:59:59.092Z"
   },
   {
    "duration": 21,
    "start_time": "2023-03-14T21:59:59.176Z"
   },
   {
    "duration": 5,
    "start_time": "2023-03-14T21:59:59.198Z"
   },
   {
    "duration": 1150,
    "start_time": "2023-03-14T21:59:59.221Z"
   },
   {
    "duration": 9,
    "start_time": "2023-03-14T22:00:00.373Z"
   },
   {
    "duration": 383,
    "start_time": "2023-03-14T22:00:00.383Z"
   },
   {
    "duration": 190,
    "start_time": "2023-03-14T22:00:00.768Z"
   },
   {
    "duration": 3,
    "start_time": "2023-03-14T22:00:00.960Z"
   },
   {
    "duration": 41960,
    "start_time": "2023-03-14T22:00:00.964Z"
   },
   {
    "duration": 204,
    "start_time": "2023-03-14T22:00:42.926Z"
   },
   {
    "duration": 282,
    "start_time": "2023-03-14T22:00:43.136Z"
   },
   {
    "duration": 12,
    "start_time": "2023-03-14T22:00:43.420Z"
   },
   {
    "duration": 14926,
    "start_time": "2023-03-14T22:00:43.433Z"
   },
   {
    "duration": 0,
    "start_time": "2023-03-14T22:00:58.362Z"
   },
   {
    "duration": 0,
    "start_time": "2023-03-14T22:00:58.364Z"
   },
   {
    "duration": 0,
    "start_time": "2023-03-14T22:00:58.365Z"
   },
   {
    "duration": 0,
    "start_time": "2023-03-14T22:00:58.367Z"
   },
   {
    "duration": 0,
    "start_time": "2023-03-14T22:00:58.368Z"
   },
   {
    "duration": 0,
    "start_time": "2023-03-14T22:00:58.370Z"
   },
   {
    "duration": 0,
    "start_time": "2023-03-14T22:00:58.371Z"
   },
   {
    "duration": 0,
    "start_time": "2023-03-14T22:00:58.372Z"
   },
   {
    "duration": 0,
    "start_time": "2023-03-14T22:00:58.374Z"
   },
   {
    "duration": 0,
    "start_time": "2023-03-14T22:00:58.376Z"
   },
   {
    "duration": 0,
    "start_time": "2023-03-14T22:00:58.377Z"
   },
   {
    "duration": 0,
    "start_time": "2023-03-14T22:00:58.379Z"
   },
   {
    "duration": 0,
    "start_time": "2023-03-14T22:00:58.380Z"
   },
   {
    "duration": 172,
    "start_time": "2023-03-14T22:02:27.202Z"
   },
   {
    "duration": 5,
    "start_time": "2023-03-14T22:02:37.986Z"
   },
   {
    "duration": 6,
    "start_time": "2023-03-14T22:03:16.196Z"
   },
   {
    "duration": 160,
    "start_time": "2023-03-14T22:03:31.468Z"
   },
   {
    "duration": 1451,
    "start_time": "2023-03-14T22:05:55.609Z"
   },
   {
    "duration": 873,
    "start_time": "2023-03-14T22:05:57.062Z"
   },
   {
    "duration": 112,
    "start_time": "2023-03-14T22:05:57.937Z"
   },
   {
    "duration": 176,
    "start_time": "2023-03-14T22:05:58.051Z"
   },
   {
    "duration": 510,
    "start_time": "2023-03-14T22:05:58.229Z"
   },
   {
    "duration": 588,
    "start_time": "2023-03-14T22:05:58.741Z"
   },
   {
    "duration": 497,
    "start_time": "2023-03-14T22:05:59.331Z"
   },
   {
    "duration": 104,
    "start_time": "2023-03-14T22:05:59.830Z"
   },
   {
    "duration": 215,
    "start_time": "2023-03-14T22:05:59.936Z"
   },
   {
    "duration": 16,
    "start_time": "2023-03-14T22:06:00.154Z"
   },
   {
    "duration": 129,
    "start_time": "2023-03-14T22:06:00.172Z"
   },
   {
    "duration": 104,
    "start_time": "2023-03-14T22:06:00.303Z"
   },
   {
    "duration": 617,
    "start_time": "2023-03-14T22:06:00.412Z"
   },
   {
    "duration": 754,
    "start_time": "2023-03-14T22:06:01.031Z"
   },
   {
    "duration": 304,
    "start_time": "2023-03-14T22:06:01.786Z"
   },
   {
    "duration": 90,
    "start_time": "2023-03-14T22:06:02.092Z"
   },
   {
    "duration": 69,
    "start_time": "2023-03-14T22:06:02.184Z"
   },
   {
    "duration": 74,
    "start_time": "2023-03-14T22:06:02.254Z"
   },
   {
    "duration": 151,
    "start_time": "2023-03-14T22:06:02.330Z"
   },
   {
    "duration": 69,
    "start_time": "2023-03-14T22:06:02.483Z"
   },
   {
    "duration": 103,
    "start_time": "2023-03-14T22:06:02.554Z"
   },
   {
    "duration": 143,
    "start_time": "2023-03-14T22:06:02.659Z"
   },
   {
    "duration": 32,
    "start_time": "2023-03-14T22:06:02.804Z"
   },
   {
    "duration": 47,
    "start_time": "2023-03-14T22:06:02.838Z"
   },
   {
    "duration": 85,
    "start_time": "2023-03-14T22:06:02.887Z"
   },
   {
    "duration": 4,
    "start_time": "2023-03-14T22:06:02.974Z"
   },
   {
    "duration": 21,
    "start_time": "2023-03-14T22:06:02.979Z"
   },
   {
    "duration": 66,
    "start_time": "2023-03-14T22:06:03.014Z"
   },
   {
    "duration": 29,
    "start_time": "2023-03-14T22:06:03.082Z"
   },
   {
    "duration": 5,
    "start_time": "2023-03-14T22:06:03.123Z"
   },
   {
    "duration": 1202,
    "start_time": "2023-03-14T22:06:03.130Z"
   },
   {
    "duration": 10,
    "start_time": "2023-03-14T22:06:04.333Z"
   },
   {
    "duration": 382,
    "start_time": "2023-03-14T22:06:04.344Z"
   },
   {
    "duration": 142,
    "start_time": "2023-03-14T22:06:04.728Z"
   },
   {
    "duration": 0,
    "start_time": "2023-03-14T22:06:04.872Z"
   },
   {
    "duration": 0,
    "start_time": "2023-03-14T22:06:04.873Z"
   },
   {
    "duration": 0,
    "start_time": "2023-03-14T22:06:04.874Z"
   },
   {
    "duration": 0,
    "start_time": "2023-03-14T22:06:04.875Z"
   },
   {
    "duration": 0,
    "start_time": "2023-03-14T22:06:04.876Z"
   },
   {
    "duration": 0,
    "start_time": "2023-03-14T22:06:04.877Z"
   },
   {
    "duration": 0,
    "start_time": "2023-03-14T22:06:04.878Z"
   },
   {
    "duration": 0,
    "start_time": "2023-03-14T22:06:04.879Z"
   },
   {
    "duration": 0,
    "start_time": "2023-03-14T22:06:04.880Z"
   },
   {
    "duration": 0,
    "start_time": "2023-03-14T22:06:04.881Z"
   },
   {
    "duration": 0,
    "start_time": "2023-03-14T22:06:04.882Z"
   },
   {
    "duration": 0,
    "start_time": "2023-03-14T22:06:04.883Z"
   },
   {
    "duration": 0,
    "start_time": "2023-03-14T22:06:04.914Z"
   },
   {
    "duration": 0,
    "start_time": "2023-03-14T22:06:04.915Z"
   },
   {
    "duration": 0,
    "start_time": "2023-03-14T22:06:04.916Z"
   },
   {
    "duration": 0,
    "start_time": "2023-03-14T22:06:04.917Z"
   },
   {
    "duration": 0,
    "start_time": "2023-03-14T22:06:04.918Z"
   },
   {
    "duration": 0,
    "start_time": "2023-03-14T22:06:04.919Z"
   },
   {
    "duration": 0,
    "start_time": "2023-03-14T22:06:04.920Z"
   },
   {
    "duration": 33,
    "start_time": "2023-03-14T22:06:33.034Z"
   },
   {
    "duration": 34,
    "start_time": "2023-03-14T22:09:06.464Z"
   },
   {
    "duration": 44,
    "start_time": "2023-03-14T22:09:29.588Z"
   },
   {
    "duration": 141,
    "start_time": "2023-03-14T22:09:48.026Z"
   },
   {
    "duration": 3,
    "start_time": "2023-03-14T22:09:54.086Z"
   },
   {
    "duration": 43469,
    "start_time": "2023-03-14T22:09:55.056Z"
   },
   {
    "duration": 289,
    "start_time": "2023-03-14T22:10:38.527Z"
   },
   {
    "duration": 207,
    "start_time": "2023-03-14T22:10:38.821Z"
   },
   {
    "duration": 86,
    "start_time": "2023-03-14T22:10:39.030Z"
   },
   {
    "duration": 14569,
    "start_time": "2023-03-14T22:10:41.780Z"
   },
   {
    "duration": 5,
    "start_time": "2023-03-14T22:11:18.885Z"
   },
   {
    "duration": 11,
    "start_time": "2023-03-14T22:11:33.029Z"
   },
   {
    "duration": 5,
    "start_time": "2023-03-14T22:11:38.327Z"
   },
   {
    "duration": 10,
    "start_time": "2023-03-14T22:12:21.672Z"
   },
   {
    "duration": 15,
    "start_time": "2023-03-14T22:12:31.742Z"
   },
   {
    "duration": 4,
    "start_time": "2023-03-14T22:12:45.686Z"
   },
   {
    "duration": 15,
    "start_time": "2023-03-14T22:12:49.368Z"
   },
   {
    "duration": 8,
    "start_time": "2023-03-14T22:12:54.967Z"
   },
   {
    "duration": 158,
    "start_time": "2023-03-14T22:13:30.400Z"
   },
   {
    "duration": 339,
    "start_time": "2023-03-14T22:14:54.491Z"
   },
   {
    "duration": 361,
    "start_time": "2023-03-14T22:15:07.971Z"
   },
   {
    "duration": 462,
    "start_time": "2023-03-14T22:15:33.870Z"
   },
   {
    "duration": 345,
    "start_time": "2023-03-14T22:15:40.824Z"
   },
   {
    "duration": 348,
    "start_time": "2023-03-14T22:16:29.125Z"
   },
   {
    "duration": 340,
    "start_time": "2023-03-14T22:16:47.854Z"
   },
   {
    "duration": 356,
    "start_time": "2023-03-14T22:17:03.696Z"
   },
   {
    "duration": 5,
    "start_time": "2023-03-14T22:17:10.481Z"
   },
   {
    "duration": 812,
    "start_time": "2023-03-14T22:17:10.826Z"
   },
   {
    "duration": 107,
    "start_time": "2023-03-14T22:17:11.640Z"
   },
   {
    "duration": 96,
    "start_time": "2023-03-14T22:17:11.748Z"
   },
   {
    "duration": 418,
    "start_time": "2023-03-14T22:17:12.486Z"
   },
   {
    "duration": 517,
    "start_time": "2023-03-14T22:17:12.912Z"
   },
   {
    "duration": 515,
    "start_time": "2023-03-14T22:17:13.431Z"
   },
   {
    "duration": 100,
    "start_time": "2023-03-14T22:17:13.947Z"
   },
   {
    "duration": 180,
    "start_time": "2023-03-14T22:17:14.050Z"
   },
   {
    "duration": 16,
    "start_time": "2023-03-14T22:17:14.232Z"
   },
   {
    "duration": 123,
    "start_time": "2023-03-14T22:17:14.250Z"
   },
   {
    "duration": 113,
    "start_time": "2023-03-14T22:17:14.374Z"
   },
   {
    "duration": 560,
    "start_time": "2023-03-14T22:17:14.687Z"
   },
   {
    "duration": 731,
    "start_time": "2023-03-14T22:17:15.249Z"
   },
   {
    "duration": 208,
    "start_time": "2023-03-14T22:17:15.982Z"
   },
   {
    "duration": 88,
    "start_time": "2023-03-14T22:17:16.192Z"
   },
   {
    "duration": 72,
    "start_time": "2023-03-14T22:17:16.282Z"
   },
   {
    "duration": 77,
    "start_time": "2023-03-14T22:17:16.355Z"
   },
   {
    "duration": 154,
    "start_time": "2023-03-14T22:17:16.434Z"
   },
   {
    "duration": 60,
    "start_time": "2023-03-14T22:17:17.015Z"
   },
   {
    "duration": 90,
    "start_time": "2023-03-14T22:17:18.038Z"
   },
   {
    "duration": 137,
    "start_time": "2023-03-14T22:17:18.973Z"
   },
   {
    "duration": 26,
    "start_time": "2023-03-14T22:17:19.574Z"
   },
   {
    "duration": 47,
    "start_time": "2023-03-14T22:17:20.447Z"
   },
   {
    "duration": 70,
    "start_time": "2023-03-14T22:17:20.806Z"
   },
   {
    "duration": 3,
    "start_time": "2023-03-14T22:17:22.254Z"
   },
   {
    "duration": 18,
    "start_time": "2023-03-14T22:17:22.687Z"
   },
   {
    "duration": 64,
    "start_time": "2023-03-14T22:17:23.151Z"
   },
   {
    "duration": 12,
    "start_time": "2023-03-14T22:17:24.423Z"
   },
   {
    "duration": 2,
    "start_time": "2023-03-14T22:17:24.973Z"
   },
   {
    "duration": 1133,
    "start_time": "2023-03-14T22:17:25.771Z"
   },
   {
    "duration": 12,
    "start_time": "2023-03-14T22:17:32.726Z"
   },
   {
    "duration": 408,
    "start_time": "2023-03-14T22:17:43.927Z"
   },
   {
    "duration": 364,
    "start_time": "2023-03-14T22:17:52.144Z"
   },
   {
    "duration": 343,
    "start_time": "2023-03-14T22:18:12.315Z"
   },
   {
    "duration": 345,
    "start_time": "2023-03-14T22:18:51.130Z"
   },
   {
    "duration": 400,
    "start_time": "2023-03-14T22:21:25.336Z"
   },
   {
    "duration": 376,
    "start_time": "2023-03-14T22:21:59.305Z"
   },
   {
    "duration": 341,
    "start_time": "2023-03-14T22:22:42.298Z"
   },
   {
    "duration": 348,
    "start_time": "2023-03-14T22:22:47.730Z"
   },
   {
    "duration": 1474,
    "start_time": "2023-03-14T22:24:24.083Z"
   },
   {
    "duration": 876,
    "start_time": "2023-03-14T22:24:25.559Z"
   },
   {
    "duration": 113,
    "start_time": "2023-03-14T22:24:26.437Z"
   },
   {
    "duration": 96,
    "start_time": "2023-03-14T22:24:26.552Z"
   },
   {
    "duration": 489,
    "start_time": "2023-03-14T22:24:26.649Z"
   },
   {
    "duration": 624,
    "start_time": "2023-03-14T22:24:27.140Z"
   },
   {
    "duration": 506,
    "start_time": "2023-03-14T22:24:27.765Z"
   },
   {
    "duration": 115,
    "start_time": "2023-03-14T22:24:28.273Z"
   },
   {
    "duration": 230,
    "start_time": "2023-03-14T22:24:28.390Z"
   },
   {
    "duration": 17,
    "start_time": "2023-03-14T22:24:28.627Z"
   },
   {
    "duration": 115,
    "start_time": "2023-03-14T22:24:28.645Z"
   },
   {
    "duration": 115,
    "start_time": "2023-03-14T22:24:28.762Z"
   },
   {
    "duration": 584,
    "start_time": "2023-03-14T22:24:28.879Z"
   },
   {
    "duration": 764,
    "start_time": "2023-03-14T22:24:29.465Z"
   },
   {
    "duration": 301,
    "start_time": "2023-03-14T22:24:30.231Z"
   },
   {
    "duration": 90,
    "start_time": "2023-03-14T22:24:30.534Z"
   },
   {
    "duration": 54,
    "start_time": "2023-03-14T22:24:30.626Z"
   },
   {
    "duration": 81,
    "start_time": "2023-03-14T22:24:30.682Z"
   },
   {
    "duration": 174,
    "start_time": "2023-03-14T22:24:30.765Z"
   },
   {
    "duration": 57,
    "start_time": "2023-03-14T22:24:30.941Z"
   },
   {
    "duration": 129,
    "start_time": "2023-03-14T22:24:30.999Z"
   },
   {
    "duration": 120,
    "start_time": "2023-03-14T22:24:31.130Z"
   },
   {
    "duration": 28,
    "start_time": "2023-03-14T22:24:31.252Z"
   },
   {
    "duration": 66,
    "start_time": "2023-03-14T22:24:31.281Z"
   },
   {
    "duration": 68,
    "start_time": "2023-03-14T22:24:31.348Z"
   },
   {
    "duration": 4,
    "start_time": "2023-03-14T22:24:31.429Z"
   },
   {
    "duration": 34,
    "start_time": "2023-03-14T22:24:31.434Z"
   },
   {
    "duration": 74,
    "start_time": "2023-03-14T22:24:31.472Z"
   },
   {
    "duration": 20,
    "start_time": "2023-03-14T22:24:31.548Z"
   },
   {
    "duration": 7,
    "start_time": "2023-03-14T22:24:31.570Z"
   },
   {
    "duration": 1148,
    "start_time": "2023-03-14T22:24:31.578Z"
   },
   {
    "duration": 11,
    "start_time": "2023-03-14T22:24:32.728Z"
   },
   {
    "duration": 337,
    "start_time": "2023-03-14T22:24:32.741Z"
   },
   {
    "duration": 159,
    "start_time": "2023-03-14T22:24:33.080Z"
   },
   {
    "duration": 2,
    "start_time": "2023-03-14T22:24:33.241Z"
   },
   {
    "duration": 159,
    "start_time": "2023-03-14T22:24:33.245Z"
   },
   {
    "duration": 38210,
    "start_time": "2023-03-14T22:24:33.406Z"
   },
   {
    "duration": 194,
    "start_time": "2023-03-14T22:25:11.620Z"
   },
   {
    "duration": 212,
    "start_time": "2023-03-14T22:25:11.816Z"
   },
   {
    "duration": 100,
    "start_time": "2023-03-14T22:25:12.030Z"
   },
   {
    "duration": 200,
    "start_time": "2023-03-14T22:25:12.136Z"
   },
   {
    "duration": 0,
    "start_time": "2023-03-14T22:25:12.338Z"
   },
   {
    "duration": 0,
    "start_time": "2023-03-14T22:25:12.340Z"
   },
   {
    "duration": 0,
    "start_time": "2023-03-14T22:25:12.341Z"
   },
   {
    "duration": 0,
    "start_time": "2023-03-14T22:25:12.342Z"
   },
   {
    "duration": 0,
    "start_time": "2023-03-14T22:25:12.344Z"
   },
   {
    "duration": 0,
    "start_time": "2023-03-14T22:25:12.345Z"
   },
   {
    "duration": 0,
    "start_time": "2023-03-14T22:25:12.347Z"
   },
   {
    "duration": 0,
    "start_time": "2023-03-14T22:25:12.348Z"
   },
   {
    "duration": 0,
    "start_time": "2023-03-14T22:25:12.349Z"
   },
   {
    "duration": 0,
    "start_time": "2023-03-14T22:25:12.351Z"
   },
   {
    "duration": 0,
    "start_time": "2023-03-14T22:25:12.352Z"
   },
   {
    "duration": 0,
    "start_time": "2023-03-14T22:25:12.354Z"
   },
   {
    "duration": 1,
    "start_time": "2023-03-14T22:25:12.355Z"
   },
   {
    "duration": 1446,
    "start_time": "2023-03-14T22:28:55.030Z"
   },
   {
    "duration": 907,
    "start_time": "2023-03-14T22:28:56.478Z"
   },
   {
    "duration": 133,
    "start_time": "2023-03-14T22:28:57.387Z"
   },
   {
    "duration": 102,
    "start_time": "2023-03-14T22:28:57.525Z"
   },
   {
    "duration": 477,
    "start_time": "2023-03-14T22:28:57.629Z"
   },
   {
    "duration": 623,
    "start_time": "2023-03-14T22:28:58.111Z"
   },
   {
    "duration": 469,
    "start_time": "2023-03-14T22:28:58.736Z"
   },
   {
    "duration": 121,
    "start_time": "2023-03-14T22:28:59.207Z"
   },
   {
    "duration": 225,
    "start_time": "2023-03-14T22:28:59.329Z"
   },
   {
    "duration": 17,
    "start_time": "2023-03-14T22:28:59.557Z"
   },
   {
    "duration": 125,
    "start_time": "2023-03-14T22:28:59.575Z"
   },
   {
    "duration": 123,
    "start_time": "2023-03-14T22:28:59.702Z"
   },
   {
    "duration": 559,
    "start_time": "2023-03-14T22:28:59.826Z"
   },
   {
    "duration": 748,
    "start_time": "2023-03-14T22:29:00.387Z"
   },
   {
    "duration": 293,
    "start_time": "2023-03-14T22:29:01.137Z"
   },
   {
    "duration": 74,
    "start_time": "2023-03-14T22:29:01.432Z"
   },
   {
    "duration": 65,
    "start_time": "2023-03-14T22:29:01.513Z"
   },
   {
    "duration": 74,
    "start_time": "2023-03-14T22:29:01.580Z"
   },
   {
    "duration": 161,
    "start_time": "2023-03-14T22:29:01.656Z"
   },
   {
    "duration": 56,
    "start_time": "2023-03-14T22:29:01.825Z"
   },
   {
    "duration": 104,
    "start_time": "2023-03-14T22:29:01.882Z"
   },
   {
    "duration": 153,
    "start_time": "2023-03-14T22:29:01.987Z"
   },
   {
    "duration": 25,
    "start_time": "2023-03-14T22:29:02.142Z"
   },
   {
    "duration": 64,
    "start_time": "2023-03-14T22:29:02.169Z"
   },
   {
    "duration": 59,
    "start_time": "2023-03-14T22:29:02.235Z"
   },
   {
    "duration": 17,
    "start_time": "2023-03-14T22:29:02.295Z"
   },
   {
    "duration": 18,
    "start_time": "2023-03-14T22:29:02.314Z"
   },
   {
    "duration": 77,
    "start_time": "2023-03-14T22:29:02.336Z"
   },
   {
    "duration": 21,
    "start_time": "2023-03-14T22:29:02.423Z"
   },
   {
    "duration": 11,
    "start_time": "2023-03-14T22:29:02.446Z"
   },
   {
    "duration": 1166,
    "start_time": "2023-03-14T22:29:02.459Z"
   },
   {
    "duration": 10,
    "start_time": "2023-03-14T22:29:03.629Z"
   },
   {
    "duration": 346,
    "start_time": "2023-03-14T22:29:03.640Z"
   },
   {
    "duration": 192,
    "start_time": "2023-03-14T22:29:03.988Z"
   },
   {
    "duration": 4,
    "start_time": "2023-03-14T22:29:04.182Z"
   },
   {
    "duration": 38247,
    "start_time": "2023-03-14T22:29:04.187Z"
   },
   {
    "duration": 286,
    "start_time": "2023-03-14T22:29:42.438Z"
   },
   {
    "duration": 197,
    "start_time": "2023-03-14T22:29:42.725Z"
   },
   {
    "duration": 98,
    "start_time": "2023-03-14T22:29:42.924Z"
   },
   {
    "duration": 50026,
    "start_time": "2023-03-14T22:29:43.028Z"
   },
   {
    "duration": 111,
    "start_time": "2023-03-14T22:30:33.056Z"
   },
   {
    "duration": 0,
    "start_time": "2023-03-14T22:30:33.168Z"
   },
   {
    "duration": 0,
    "start_time": "2023-03-14T22:30:33.169Z"
   },
   {
    "duration": 0,
    "start_time": "2023-03-14T22:30:33.170Z"
   },
   {
    "duration": 0,
    "start_time": "2023-03-14T22:30:33.171Z"
   },
   {
    "duration": 0,
    "start_time": "2023-03-14T22:30:33.172Z"
   },
   {
    "duration": 0,
    "start_time": "2023-03-14T22:30:33.173Z"
   },
   {
    "duration": 0,
    "start_time": "2023-03-14T22:30:33.174Z"
   },
   {
    "duration": 0,
    "start_time": "2023-03-14T22:30:33.175Z"
   },
   {
    "duration": 0,
    "start_time": "2023-03-14T22:30:33.176Z"
   },
   {
    "duration": 0,
    "start_time": "2023-03-14T22:30:33.177Z"
   },
   {
    "duration": 0,
    "start_time": "2023-03-14T22:30:33.178Z"
   },
   {
    "duration": 0,
    "start_time": "2023-03-14T22:30:33.179Z"
   },
   {
    "duration": 4,
    "start_time": "2023-03-14T22:31:42.679Z"
   },
   {
    "duration": 5,
    "start_time": "2023-03-14T22:32:00.296Z"
   },
   {
    "duration": 55,
    "start_time": "2023-03-14T22:35:41.607Z"
   },
   {
    "duration": 75,
    "start_time": "2023-03-14T22:35:52.336Z"
   },
   {
    "duration": 3468,
    "start_time": "2023-03-14T22:36:00.304Z"
   },
   {
    "duration": 182,
    "start_time": "2023-03-14T22:36:03.775Z"
   },
   {
    "duration": 157,
    "start_time": "2023-03-14T22:36:13.127Z"
   },
   {
    "duration": 163,
    "start_time": "2023-03-14T22:36:32.018Z"
   },
   {
    "duration": 13,
    "start_time": "2023-03-14T22:39:18.566Z"
   },
   {
    "duration": 1732977,
    "start_time": "2023-03-14T22:39:41.751Z"
   },
   {
    "duration": 4186,
    "start_time": "2023-03-15T03:55:46.633Z"
   },
   {
    "duration": 1499,
    "start_time": "2023-03-15T03:55:50.821Z"
   },
   {
    "duration": 4,
    "start_time": "2023-03-15T03:55:52.322Z"
   },
   {
    "duration": 1524,
    "start_time": "2023-03-15T03:57:35.302Z"
   },
   {
    "duration": 1494,
    "start_time": "2023-03-15T03:57:51.429Z"
   },
   {
    "duration": 10,
    "start_time": "2023-03-15T04:01:50.812Z"
   },
   {
    "duration": 1413,
    "start_time": "2023-03-15T04:01:59.206Z"
   },
   {
    "duration": 10,
    "start_time": "2023-03-15T04:02:00.621Z"
   },
   {
    "duration": 53,
    "start_time": "2023-03-15T04:02:40.510Z"
   },
   {
    "duration": 1012,
    "start_time": "2023-03-15T04:03:20.710Z"
   },
   {
    "duration": 3,
    "start_time": "2023-03-15T04:03:28.169Z"
   },
   {
    "duration": 970,
    "start_time": "2023-03-15T04:03:37.865Z"
   },
   {
    "duration": 3,
    "start_time": "2023-03-15T04:03:38.913Z"
   },
   {
    "duration": 1349,
    "start_time": "2023-03-15T04:05:58.358Z"
   },
   {
    "duration": 853,
    "start_time": "2023-03-15T04:05:59.708Z"
   },
   {
    "duration": 122,
    "start_time": "2023-03-15T04:06:00.563Z"
   },
   {
    "duration": 110,
    "start_time": "2023-03-15T04:06:00.687Z"
   },
   {
    "duration": 515,
    "start_time": "2023-03-15T04:06:00.798Z"
   },
   {
    "duration": 616,
    "start_time": "2023-03-15T04:06:01.315Z"
   },
   {
    "duration": 434,
    "start_time": "2023-03-15T04:06:01.933Z"
   },
   {
    "duration": 113,
    "start_time": "2023-03-15T04:06:02.369Z"
   },
   {
    "duration": 224,
    "start_time": "2023-03-15T04:06:02.484Z"
   },
   {
    "duration": 17,
    "start_time": "2023-03-15T04:06:02.712Z"
   },
   {
    "duration": 120,
    "start_time": "2023-03-15T04:06:02.730Z"
   },
   {
    "duration": 104,
    "start_time": "2023-03-15T04:06:02.852Z"
   },
   {
    "duration": 563,
    "start_time": "2023-03-15T04:06:02.958Z"
   },
   {
    "duration": 722,
    "start_time": "2023-03-15T04:06:03.523Z"
   },
   {
    "duration": 283,
    "start_time": "2023-03-15T04:06:04.247Z"
   },
   {
    "duration": 87,
    "start_time": "2023-03-15T04:06:04.532Z"
   },
   {
    "duration": 55,
    "start_time": "2023-03-15T04:06:04.621Z"
   },
   {
    "duration": 73,
    "start_time": "2023-03-15T04:06:04.678Z"
   },
   {
    "duration": 146,
    "start_time": "2023-03-15T04:06:04.753Z"
   },
   {
    "duration": 64,
    "start_time": "2023-03-15T04:06:04.900Z"
   },
   {
    "duration": 94,
    "start_time": "2023-03-15T04:06:04.965Z"
   },
   {
    "duration": 134,
    "start_time": "2023-03-15T04:06:05.061Z"
   },
   {
    "duration": 36,
    "start_time": "2023-03-15T04:06:05.197Z"
   },
   {
    "duration": 46,
    "start_time": "2023-03-15T04:06:05.234Z"
   },
   {
    "duration": 76,
    "start_time": "2023-03-15T04:06:05.282Z"
   },
   {
    "duration": 2,
    "start_time": "2023-03-15T04:06:05.360Z"
   },
   {
    "duration": 23,
    "start_time": "2023-03-15T04:06:05.363Z"
   },
   {
    "duration": 70,
    "start_time": "2023-03-15T04:06:05.389Z"
   },
   {
    "duration": 20,
    "start_time": "2023-03-15T04:06:05.461Z"
   },
   {
    "duration": 16,
    "start_time": "2023-03-15T04:06:05.483Z"
   },
   {
    "duration": 1114,
    "start_time": "2023-03-15T04:06:05.501Z"
   },
   {
    "duration": 9,
    "start_time": "2023-03-15T04:06:06.617Z"
   },
   {
    "duration": 296,
    "start_time": "2023-03-15T04:06:06.628Z"
   },
   {
    "duration": 148,
    "start_time": "2023-03-15T04:06:06.926Z"
   },
   {
    "duration": 2,
    "start_time": "2023-03-15T04:06:07.076Z"
   },
   {
    "duration": 21533,
    "start_time": "2023-03-15T04:06:07.080Z"
   },
   {
    "duration": 203,
    "start_time": "2023-03-15T04:06:28.615Z"
   },
   {
    "duration": 293,
    "start_time": "2023-03-15T04:06:28.820Z"
   },
   {
    "duration": 101,
    "start_time": "2023-03-15T04:06:29.115Z"
   },
   {
    "duration": 42864,
    "start_time": "2023-03-15T04:06:29.217Z"
   },
   {
    "duration": 4,
    "start_time": "2023-03-15T04:07:12.082Z"
   },
   {
    "duration": 3118,
    "start_time": "2023-03-15T04:07:12.087Z"
   },
   {
    "duration": 176,
    "start_time": "2023-03-15T04:07:15.206Z"
   },
   {
    "duration": 172,
    "start_time": "2023-03-15T04:07:15.383Z"
   },
   {
    "duration": 53959,
    "start_time": "2023-03-15T04:07:15.556Z"
   },
   {
    "duration": 7298,
    "start_time": "2023-03-15T04:08:09.518Z"
   },
   {
    "duration": 1501,
    "start_time": "2023-03-15T04:08:16.817Z"
   },
   {
    "duration": 1506,
    "start_time": "2023-03-15T04:08:18.320Z"
   },
   {
    "duration": 9,
    "start_time": "2023-03-15T04:08:19.828Z"
   },
   {
    "duration": 76,
    "start_time": "2023-03-15T04:08:19.839Z"
   },
   {
    "duration": 1003,
    "start_time": "2023-03-15T04:08:19.917Z"
   },
   {
    "duration": 4,
    "start_time": "2023-03-15T04:08:20.922Z"
   },
   {
    "duration": 47,
    "start_time": "2023-03-15T04:08:20.927Z"
   },
   {
    "duration": 2210,
    "start_time": "2023-03-16T05:47:18.540Z"
   },
   {
    "duration": 2695,
    "start_time": "2023-03-16T05:47:20.752Z"
   },
   {
    "duration": 120,
    "start_time": "2023-03-16T05:47:23.449Z"
   },
   {
    "duration": 104,
    "start_time": "2023-03-16T05:47:23.571Z"
   },
   {
    "duration": 403,
    "start_time": "2023-03-16T05:47:23.676Z"
   },
   {
    "duration": 487,
    "start_time": "2023-03-16T05:47:24.080Z"
   },
   {
    "duration": 499,
    "start_time": "2023-03-16T05:47:24.569Z"
   },
   {
    "duration": 110,
    "start_time": "2023-03-16T05:47:25.069Z"
   },
   {
    "duration": 212,
    "start_time": "2023-03-16T05:47:25.180Z"
   },
   {
    "duration": 18,
    "start_time": "2023-03-16T05:47:25.394Z"
   },
   {
    "duration": 108,
    "start_time": "2023-03-16T05:47:25.414Z"
   },
   {
    "duration": 114,
    "start_time": "2023-03-16T05:47:25.524Z"
   },
   {
    "duration": 552,
    "start_time": "2023-03-16T05:47:27.808Z"
   },
   {
    "duration": 835,
    "start_time": "2023-03-16T05:47:29.305Z"
   },
   {
    "duration": 238,
    "start_time": "2023-03-16T05:47:30.142Z"
   },
   {
    "duration": 97,
    "start_time": "2023-03-16T05:47:30.382Z"
   },
   {
    "duration": 69,
    "start_time": "2023-03-16T05:47:31.639Z"
   },
   {
    "duration": 59,
    "start_time": "2023-03-16T05:47:33.043Z"
   },
   {
    "duration": 166,
    "start_time": "2023-03-16T05:47:33.910Z"
   },
   {
    "duration": 59,
    "start_time": "2023-03-16T05:47:35.179Z"
   },
   {
    "duration": 79,
    "start_time": "2023-03-16T05:47:36.408Z"
   },
   {
    "duration": 120,
    "start_time": "2023-03-16T05:47:37.784Z"
   },
   {
    "duration": 23,
    "start_time": "2023-03-16T05:47:39.040Z"
   },
   {
    "duration": 44,
    "start_time": "2023-03-16T05:47:40.203Z"
   },
   {
    "duration": 68,
    "start_time": "2023-03-16T05:47:40.755Z"
   },
   {
    "duration": 2,
    "start_time": "2023-03-16T05:47:42.380Z"
   },
   {
    "duration": 14,
    "start_time": "2023-03-16T05:47:43.891Z"
   },
   {
    "duration": 40,
    "start_time": "2023-03-16T05:47:44.532Z"
   },
   {
    "duration": 126,
    "start_time": "2023-03-16T05:48:00.152Z"
   },
   {
    "duration": 19,
    "start_time": "2023-03-16T05:48:03.725Z"
   },
   {
    "duration": 462,
    "start_time": "2023-03-16T05:48:04.736Z"
   },
   {
    "duration": 10,
    "start_time": "2023-03-16T05:48:51.116Z"
   },
   {
    "duration": 7,
    "start_time": "2023-03-16T05:49:41.744Z"
   },
   {
    "duration": 11,
    "start_time": "2023-03-16T05:50:12.952Z"
   },
   {
    "duration": 9,
    "start_time": "2023-03-16T05:50:14.644Z"
   },
   {
    "duration": 7,
    "start_time": "2023-03-16T05:51:06.801Z"
   },
   {
    "duration": 9,
    "start_time": "2023-03-16T05:51:22.447Z"
   },
   {
    "duration": 3,
    "start_time": "2023-03-16T06:03:52.505Z"
   },
   {
    "duration": 9,
    "start_time": "2023-03-16T06:04:12.448Z"
   },
   {
    "duration": 9,
    "start_time": "2023-03-16T06:04:16.031Z"
   },
   {
    "duration": 4,
    "start_time": "2023-03-16T06:04:25.202Z"
   },
   {
    "duration": 15,
    "start_time": "2023-03-16T06:04:29.106Z"
   },
   {
    "duration": 494,
    "start_time": "2023-03-16T06:04:39.581Z"
   },
   {
    "duration": 11,
    "start_time": "2023-03-16T06:04:42.393Z"
   },
   {
    "duration": 5,
    "start_time": "2023-03-16T06:04:51.031Z"
   },
   {
    "duration": 10,
    "start_time": "2023-03-16T06:05:04.996Z"
   },
   {
    "duration": 6194,
    "start_time": "2023-03-16T06:06:27.137Z"
   },
   {
    "duration": 2535,
    "start_time": "2023-03-16T06:06:40.438Z"
   },
   {
    "duration": 1306,
    "start_time": "2023-03-16T06:06:45.786Z"
   },
   {
    "duration": 783,
    "start_time": "2023-03-16T06:06:47.096Z"
   },
   {
    "duration": 130,
    "start_time": "2023-03-16T06:06:47.880Z"
   },
   {
    "duration": 105,
    "start_time": "2023-03-16T06:06:48.011Z"
   },
   {
    "duration": 421,
    "start_time": "2023-03-16T06:06:48.118Z"
   },
   {
    "duration": 583,
    "start_time": "2023-03-16T06:06:48.541Z"
   },
   {
    "duration": 549,
    "start_time": "2023-03-16T06:06:49.125Z"
   },
   {
    "duration": 121,
    "start_time": "2023-03-16T06:06:49.676Z"
   },
   {
    "duration": 221,
    "start_time": "2023-03-16T06:06:49.799Z"
   },
   {
    "duration": 14,
    "start_time": "2023-03-16T06:06:50.022Z"
   },
   {
    "duration": 105,
    "start_time": "2023-03-16T06:06:50.038Z"
   },
   {
    "duration": 120,
    "start_time": "2023-03-16T06:06:50.145Z"
   },
   {
    "duration": 515,
    "start_time": "2023-03-16T06:06:50.267Z"
   },
   {
    "duration": 797,
    "start_time": "2023-03-16T06:06:50.785Z"
   },
   {
    "duration": 217,
    "start_time": "2023-03-16T06:06:51.584Z"
   },
   {
    "duration": 169,
    "start_time": "2023-03-16T06:06:51.803Z"
   },
   {
    "duration": 107,
    "start_time": "2023-03-16T06:06:51.975Z"
   },
   {
    "duration": 69,
    "start_time": "2023-03-16T06:06:52.084Z"
   },
   {
    "duration": 168,
    "start_time": "2023-03-16T06:06:52.155Z"
   },
   {
    "duration": 135,
    "start_time": "2023-03-16T06:06:52.325Z"
   },
   {
    "duration": 172,
    "start_time": "2023-03-16T06:06:52.462Z"
   },
   {
    "duration": 171,
    "start_time": "2023-03-16T06:06:52.636Z"
   },
   {
    "duration": 36,
    "start_time": "2023-03-16T06:06:52.810Z"
   },
   {
    "duration": 56,
    "start_time": "2023-03-16T06:06:52.855Z"
   },
   {
    "duration": 156,
    "start_time": "2023-03-16T06:06:52.912Z"
   },
   {
    "duration": 3,
    "start_time": "2023-03-16T06:06:53.070Z"
   },
   {
    "duration": 18,
    "start_time": "2023-03-16T06:06:53.075Z"
   },
   {
    "duration": 84,
    "start_time": "2023-03-16T06:06:53.096Z"
   },
   {
    "duration": 9,
    "start_time": "2023-03-16T06:06:56.237Z"
   },
   {
    "duration": 138,
    "start_time": "2023-03-16T06:06:56.977Z"
   },
   {
    "duration": 473,
    "start_time": "2023-03-16T06:06:59.021Z"
   },
   {
    "duration": 11,
    "start_time": "2023-03-16T06:07:10.278Z"
   },
   {
    "duration": 6,
    "start_time": "2023-03-16T06:07:42.641Z"
   },
   {
    "duration": 533,
    "start_time": "2023-03-16T06:07:51.489Z"
   },
   {
    "duration": 1609,
    "start_time": "2023-03-16T06:08:08.996Z"
   },
   {
    "duration": 9,
    "start_time": "2023-03-16T06:08:17.229Z"
   },
   {
    "duration": 9068,
    "start_time": "2023-03-16T06:08:17.449Z"
   },
   {
    "duration": 8,
    "start_time": "2023-03-16T06:08:55.115Z"
   },
   {
    "duration": 514,
    "start_time": "2023-03-16T06:08:55.930Z"
   },
   {
    "duration": 1690,
    "start_time": "2023-03-16T15:56:56.790Z"
   },
   {
    "duration": 1205,
    "start_time": "2023-03-16T15:56:58.482Z"
   },
   {
    "duration": 133,
    "start_time": "2023-03-16T15:56:59.689Z"
   },
   {
    "duration": 106,
    "start_time": "2023-03-16T15:56:59.824Z"
   },
   {
    "duration": 496,
    "start_time": "2023-03-16T15:56:59.932Z"
   },
   {
    "duration": 574,
    "start_time": "2023-03-16T15:57:00.430Z"
   },
   {
    "duration": 526,
    "start_time": "2023-03-16T15:57:01.005Z"
   },
   {
    "duration": 130,
    "start_time": "2023-03-16T15:57:01.533Z"
   },
   {
    "duration": 236,
    "start_time": "2023-03-16T15:57:01.665Z"
   },
   {
    "duration": 14,
    "start_time": "2023-03-16T15:57:01.903Z"
   },
   {
    "duration": 117,
    "start_time": "2023-03-16T15:57:01.919Z"
   },
   {
    "duration": 124,
    "start_time": "2023-03-16T15:57:02.037Z"
   },
   {
    "duration": 572,
    "start_time": "2023-03-16T15:57:02.162Z"
   },
   {
    "duration": 728,
    "start_time": "2023-03-16T15:57:02.737Z"
   },
   {
    "duration": 286,
    "start_time": "2023-03-16T15:57:03.469Z"
   },
   {
    "duration": 100,
    "start_time": "2023-03-16T15:57:03.757Z"
   },
   {
    "duration": 81,
    "start_time": "2023-03-16T15:57:03.859Z"
   },
   {
    "duration": 90,
    "start_time": "2023-03-16T15:57:03.941Z"
   },
   {
    "duration": 221,
    "start_time": "2023-03-16T15:57:04.033Z"
   },
   {
    "duration": 86,
    "start_time": "2023-03-16T15:57:04.257Z"
   },
   {
    "duration": 142,
    "start_time": "2023-03-16T15:57:04.345Z"
   },
   {
    "duration": 150,
    "start_time": "2023-03-16T15:57:04.488Z"
   },
   {
    "duration": 40,
    "start_time": "2023-03-16T15:57:04.640Z"
   },
   {
    "duration": 30,
    "start_time": "2023-03-16T15:57:04.682Z"
   },
   {
    "duration": 99,
    "start_time": "2023-03-16T15:57:04.713Z"
   },
   {
    "duration": 3,
    "start_time": "2023-03-16T15:57:04.814Z"
   },
   {
    "duration": 17,
    "start_time": "2023-03-16T15:57:04.818Z"
   },
   {
    "duration": 84,
    "start_time": "2023-03-16T15:57:04.837Z"
   },
   {
    "duration": 8,
    "start_time": "2023-03-16T15:57:04.923Z"
   },
   {
    "duration": 719,
    "start_time": "2023-03-16T15:57:04.933Z"
   },
   {
    "duration": 0,
    "start_time": "2023-03-16T15:57:05.657Z"
   },
   {
    "duration": 0,
    "start_time": "2023-03-16T15:57:05.659Z"
   },
   {
    "duration": 0,
    "start_time": "2023-03-16T15:57:05.662Z"
   },
   {
    "duration": 0,
    "start_time": "2023-03-16T15:57:05.663Z"
   },
   {
    "duration": 0,
    "start_time": "2023-03-16T15:57:05.664Z"
   },
   {
    "duration": 0,
    "start_time": "2023-03-16T15:57:05.665Z"
   },
   {
    "duration": 0,
    "start_time": "2023-03-16T15:57:05.667Z"
   },
   {
    "duration": 0,
    "start_time": "2023-03-16T15:57:05.668Z"
   },
   {
    "duration": 0,
    "start_time": "2023-03-16T15:57:05.669Z"
   },
   {
    "duration": 0,
    "start_time": "2023-03-16T15:57:05.670Z"
   },
   {
    "duration": 0,
    "start_time": "2023-03-16T15:57:05.675Z"
   },
   {
    "duration": 0,
    "start_time": "2023-03-16T15:57:05.677Z"
   },
   {
    "duration": 0,
    "start_time": "2023-03-16T15:57:05.678Z"
   },
   {
    "duration": 0,
    "start_time": "2023-03-16T15:57:05.680Z"
   },
   {
    "duration": 0,
    "start_time": "2023-03-16T15:57:05.681Z"
   },
   {
    "duration": 0,
    "start_time": "2023-03-16T15:57:05.684Z"
   },
   {
    "duration": 0,
    "start_time": "2023-03-16T15:57:05.685Z"
   },
   {
    "duration": 0,
    "start_time": "2023-03-16T15:57:05.687Z"
   },
   {
    "duration": 0,
    "start_time": "2023-03-16T15:57:05.688Z"
   },
   {
    "duration": 0,
    "start_time": "2023-03-16T15:57:05.689Z"
   },
   {
    "duration": 0,
    "start_time": "2023-03-16T15:57:05.689Z"
   },
   {
    "duration": 0,
    "start_time": "2023-03-16T15:57:05.691Z"
   },
   {
    "duration": 5522,
    "start_time": "2023-03-16T15:58:47.274Z"
   },
   {
    "duration": 1409,
    "start_time": "2023-03-16T15:58:52.798Z"
   },
   {
    "duration": 972,
    "start_time": "2023-03-16T15:58:54.209Z"
   },
   {
    "duration": 193,
    "start_time": "2023-03-16T15:58:55.183Z"
   },
   {
    "duration": 133,
    "start_time": "2023-03-16T15:58:55.379Z"
   },
   {
    "duration": 520,
    "start_time": "2023-03-16T15:58:55.514Z"
   },
   {
    "duration": 532,
    "start_time": "2023-03-16T15:58:56.036Z"
   },
   {
    "duration": 521,
    "start_time": "2023-03-16T15:58:56.571Z"
   },
   {
    "duration": 120,
    "start_time": "2023-03-16T15:58:57.094Z"
   },
   {
    "duration": 205,
    "start_time": "2023-03-16T15:58:57.217Z"
   },
   {
    "duration": 17,
    "start_time": "2023-03-16T15:58:57.423Z"
   },
   {
    "duration": 106,
    "start_time": "2023-03-16T15:58:57.441Z"
   },
   {
    "duration": 191,
    "start_time": "2023-03-16T15:58:57.565Z"
   },
   {
    "duration": 652,
    "start_time": "2023-03-16T15:58:57.761Z"
   },
   {
    "duration": 698,
    "start_time": "2023-03-16T15:58:58.415Z"
   },
   {
    "duration": 309,
    "start_time": "2023-03-16T15:58:59.114Z"
   },
   {
    "duration": 103,
    "start_time": "2023-03-16T15:58:59.425Z"
   },
   {
    "duration": 84,
    "start_time": "2023-03-16T15:58:59.530Z"
   },
   {
    "duration": 102,
    "start_time": "2023-03-16T15:58:59.616Z"
   },
   {
    "duration": 181,
    "start_time": "2023-03-16T15:58:59.719Z"
   },
   {
    "duration": 84,
    "start_time": "2023-03-16T15:58:59.902Z"
   },
   {
    "duration": 135,
    "start_time": "2023-03-16T15:58:59.988Z"
   },
   {
    "duration": 180,
    "start_time": "2023-03-16T15:59:00.125Z"
   },
   {
    "duration": 25,
    "start_time": "2023-03-16T15:59:00.307Z"
   },
   {
    "duration": 46,
    "start_time": "2023-03-16T15:59:00.334Z"
   },
   {
    "duration": 87,
    "start_time": "2023-03-16T15:59:00.382Z"
   },
   {
    "duration": 14,
    "start_time": "2023-03-16T15:59:00.472Z"
   },
   {
    "duration": 31,
    "start_time": "2023-03-16T15:59:00.488Z"
   },
   {
    "duration": 86,
    "start_time": "2023-03-16T15:59:00.520Z"
   },
   {
    "duration": 8,
    "start_time": "2023-03-16T15:59:00.608Z"
   },
   {
    "duration": 650,
    "start_time": "2023-03-16T15:59:00.618Z"
   },
   {
    "duration": 0,
    "start_time": "2023-03-16T15:59:01.271Z"
   },
   {
    "duration": 0,
    "start_time": "2023-03-16T15:59:01.272Z"
   },
   {
    "duration": 0,
    "start_time": "2023-03-16T15:59:01.274Z"
   },
   {
    "duration": 0,
    "start_time": "2023-03-16T15:59:01.275Z"
   },
   {
    "duration": 0,
    "start_time": "2023-03-16T15:59:01.276Z"
   },
   {
    "duration": 1,
    "start_time": "2023-03-16T15:59:01.277Z"
   },
   {
    "duration": 0,
    "start_time": "2023-03-16T15:59:01.279Z"
   },
   {
    "duration": 0,
    "start_time": "2023-03-16T15:59:01.280Z"
   },
   {
    "duration": 0,
    "start_time": "2023-03-16T15:59:01.281Z"
   },
   {
    "duration": 0,
    "start_time": "2023-03-16T15:59:01.283Z"
   },
   {
    "duration": 0,
    "start_time": "2023-03-16T15:59:01.284Z"
   },
   {
    "duration": 0,
    "start_time": "2023-03-16T15:59:01.285Z"
   },
   {
    "duration": 1,
    "start_time": "2023-03-16T15:59:01.286Z"
   },
   {
    "duration": 0,
    "start_time": "2023-03-16T15:59:01.288Z"
   },
   {
    "duration": 0,
    "start_time": "2023-03-16T15:59:01.289Z"
   },
   {
    "duration": 0,
    "start_time": "2023-03-16T15:59:01.291Z"
   },
   {
    "duration": 0,
    "start_time": "2023-03-16T15:59:01.293Z"
   },
   {
    "duration": 0,
    "start_time": "2023-03-16T15:59:01.294Z"
   },
   {
    "duration": 0,
    "start_time": "2023-03-16T15:59:01.295Z"
   },
   {
    "duration": 0,
    "start_time": "2023-03-16T15:59:01.297Z"
   },
   {
    "duration": 0,
    "start_time": "2023-03-16T15:59:01.298Z"
   },
   {
    "duration": 0,
    "start_time": "2023-03-16T15:59:01.300Z"
   },
   {
    "duration": 2614,
    "start_time": "2023-03-16T15:59:17.819Z"
   },
   {
    "duration": 1545,
    "start_time": "2023-03-16T15:59:20.435Z"
   },
   {
    "duration": 906,
    "start_time": "2023-03-16T15:59:21.981Z"
   },
   {
    "duration": 142,
    "start_time": "2023-03-16T15:59:22.889Z"
   },
   {
    "duration": 144,
    "start_time": "2023-03-16T15:59:23.033Z"
   },
   {
    "duration": 489,
    "start_time": "2023-03-16T15:59:23.179Z"
   },
   {
    "duration": 559,
    "start_time": "2023-03-16T15:59:23.671Z"
   },
   {
    "duration": 504,
    "start_time": "2023-03-16T15:59:24.232Z"
   },
   {
    "duration": 111,
    "start_time": "2023-03-16T15:59:24.738Z"
   },
   {
    "duration": 225,
    "start_time": "2023-03-16T15:59:24.863Z"
   },
   {
    "duration": 14,
    "start_time": "2023-03-16T15:59:25.090Z"
   },
   {
    "duration": 114,
    "start_time": "2023-03-16T15:59:25.106Z"
   },
   {
    "duration": 126,
    "start_time": "2023-03-16T15:59:25.222Z"
   },
   {
    "duration": 628,
    "start_time": "2023-03-16T15:59:25.349Z"
   },
   {
    "duration": 713,
    "start_time": "2023-03-16T15:59:25.979Z"
   },
   {
    "duration": 217,
    "start_time": "2023-03-16T15:59:26.694Z"
   },
   {
    "duration": 103,
    "start_time": "2023-03-16T15:59:26.913Z"
   },
   {
    "duration": 83,
    "start_time": "2023-03-16T15:59:27.018Z"
   },
   {
    "duration": 92,
    "start_time": "2023-03-16T15:59:27.103Z"
   },
   {
    "duration": 195,
    "start_time": "2023-03-16T15:59:27.197Z"
   },
   {
    "duration": 89,
    "start_time": "2023-03-16T15:59:27.394Z"
   },
   {
    "duration": 211,
    "start_time": "2023-03-16T15:59:27.485Z"
   },
   {
    "duration": 207,
    "start_time": "2023-03-16T15:59:27.699Z"
   },
   {
    "duration": 25,
    "start_time": "2023-03-16T15:59:27.908Z"
   },
   {
    "duration": 41,
    "start_time": "2023-03-16T15:59:27.935Z"
   },
   {
    "duration": 85,
    "start_time": "2023-03-16T15:59:27.978Z"
   },
   {
    "duration": 3,
    "start_time": "2023-03-16T15:59:28.066Z"
   },
   {
    "duration": 17,
    "start_time": "2023-03-16T15:59:28.078Z"
   },
   {
    "duration": 67,
    "start_time": "2023-03-16T15:59:28.097Z"
   },
   {
    "duration": 8,
    "start_time": "2023-03-16T15:59:28.169Z"
   },
   {
    "duration": 608,
    "start_time": "2023-03-16T15:59:28.179Z"
   },
   {
    "duration": 0,
    "start_time": "2023-03-16T15:59:28.788Z"
   },
   {
    "duration": 0,
    "start_time": "2023-03-16T15:59:28.790Z"
   },
   {
    "duration": 0,
    "start_time": "2023-03-16T15:59:28.791Z"
   },
   {
    "duration": 0,
    "start_time": "2023-03-16T15:59:28.793Z"
   },
   {
    "duration": 0,
    "start_time": "2023-03-16T15:59:28.794Z"
   },
   {
    "duration": 0,
    "start_time": "2023-03-16T15:59:28.795Z"
   },
   {
    "duration": 0,
    "start_time": "2023-03-16T15:59:28.796Z"
   },
   {
    "duration": 0,
    "start_time": "2023-03-16T15:59:28.798Z"
   },
   {
    "duration": 0,
    "start_time": "2023-03-16T15:59:28.799Z"
   },
   {
    "duration": 0,
    "start_time": "2023-03-16T15:59:28.800Z"
   },
   {
    "duration": 0,
    "start_time": "2023-03-16T15:59:28.801Z"
   },
   {
    "duration": 0,
    "start_time": "2023-03-16T15:59:28.803Z"
   },
   {
    "duration": 0,
    "start_time": "2023-03-16T15:59:28.804Z"
   },
   {
    "duration": 1,
    "start_time": "2023-03-16T15:59:28.805Z"
   },
   {
    "duration": 0,
    "start_time": "2023-03-16T15:59:28.807Z"
   },
   {
    "duration": 0,
    "start_time": "2023-03-16T15:59:28.808Z"
   },
   {
    "duration": 0,
    "start_time": "2023-03-16T15:59:28.809Z"
   },
   {
    "duration": 0,
    "start_time": "2023-03-16T15:59:28.810Z"
   },
   {
    "duration": 0,
    "start_time": "2023-03-16T15:59:28.811Z"
   },
   {
    "duration": 0,
    "start_time": "2023-03-16T15:59:28.812Z"
   },
   {
    "duration": 0,
    "start_time": "2023-03-16T15:59:28.813Z"
   },
   {
    "duration": 0,
    "start_time": "2023-03-16T15:59:28.859Z"
   },
   {
    "duration": 2759,
    "start_time": "2023-03-16T16:00:01.553Z"
   },
   {
    "duration": 1312,
    "start_time": "2023-03-16T16:00:04.316Z"
   },
   {
    "duration": 858,
    "start_time": "2023-03-16T16:00:05.630Z"
   },
   {
    "duration": 140,
    "start_time": "2023-03-16T16:00:06.491Z"
   },
   {
    "duration": 94,
    "start_time": "2023-03-16T16:00:06.632Z"
   },
   {
    "duration": 459,
    "start_time": "2023-03-16T16:00:06.728Z"
   },
   {
    "duration": 557,
    "start_time": "2023-03-16T16:00:07.189Z"
   },
   {
    "duration": 441,
    "start_time": "2023-03-16T16:00:07.747Z"
   },
   {
    "duration": 104,
    "start_time": "2023-03-16T16:00:08.190Z"
   },
   {
    "duration": 219,
    "start_time": "2023-03-16T16:00:08.296Z"
   },
   {
    "duration": 14,
    "start_time": "2023-03-16T16:00:08.517Z"
   },
   {
    "duration": 110,
    "start_time": "2023-03-16T16:00:08.532Z"
   },
   {
    "duration": 110,
    "start_time": "2023-03-16T16:00:08.644Z"
   },
   {
    "duration": 525,
    "start_time": "2023-03-16T16:00:08.757Z"
   },
   {
    "duration": 700,
    "start_time": "2023-03-16T16:00:09.284Z"
   },
   {
    "duration": 198,
    "start_time": "2023-03-16T16:00:09.986Z"
   },
   {
    "duration": 103,
    "start_time": "2023-03-16T16:00:10.186Z"
   },
   {
    "duration": 84,
    "start_time": "2023-03-16T16:00:10.290Z"
   },
   {
    "duration": 68,
    "start_time": "2023-03-16T16:00:10.376Z"
   },
   {
    "duration": 169,
    "start_time": "2023-03-16T16:00:10.446Z"
   },
   {
    "duration": 79,
    "start_time": "2023-03-16T16:00:10.617Z"
   },
   {
    "duration": 191,
    "start_time": "2023-03-16T16:00:10.697Z"
   },
   {
    "duration": 141,
    "start_time": "2023-03-16T16:00:10.890Z"
   },
   {
    "duration": 31,
    "start_time": "2023-03-16T16:00:11.033Z"
   },
   {
    "duration": 31,
    "start_time": "2023-03-16T16:00:11.068Z"
   },
   {
    "duration": 83,
    "start_time": "2023-03-16T16:00:11.100Z"
   },
   {
    "duration": 3,
    "start_time": "2023-03-16T16:00:11.185Z"
   },
   {
    "duration": 17,
    "start_time": "2023-03-16T16:00:11.194Z"
   },
   {
    "duration": 107,
    "start_time": "2023-03-16T16:00:11.213Z"
   },
   {
    "duration": 8,
    "start_time": "2023-03-16T16:00:11.322Z"
   },
   {
    "duration": 565,
    "start_time": "2023-03-16T16:00:11.331Z"
   },
   {
    "duration": 0,
    "start_time": "2023-03-16T16:00:11.898Z"
   },
   {
    "duration": 0,
    "start_time": "2023-03-16T16:00:11.899Z"
   },
   {
    "duration": 0,
    "start_time": "2023-03-16T16:00:11.900Z"
   },
   {
    "duration": 0,
    "start_time": "2023-03-16T16:00:11.901Z"
   },
   {
    "duration": 0,
    "start_time": "2023-03-16T16:00:11.903Z"
   },
   {
    "duration": 0,
    "start_time": "2023-03-16T16:00:11.904Z"
   },
   {
    "duration": 0,
    "start_time": "2023-03-16T16:00:11.905Z"
   },
   {
    "duration": 0,
    "start_time": "2023-03-16T16:00:11.905Z"
   },
   {
    "duration": 0,
    "start_time": "2023-03-16T16:00:11.906Z"
   },
   {
    "duration": 0,
    "start_time": "2023-03-16T16:00:11.907Z"
   },
   {
    "duration": 0,
    "start_time": "2023-03-16T16:00:11.908Z"
   },
   {
    "duration": 0,
    "start_time": "2023-03-16T16:00:11.909Z"
   },
   {
    "duration": 0,
    "start_time": "2023-03-16T16:00:11.910Z"
   },
   {
    "duration": 0,
    "start_time": "2023-03-16T16:00:11.911Z"
   },
   {
    "duration": 0,
    "start_time": "2023-03-16T16:00:11.912Z"
   },
   {
    "duration": 0,
    "start_time": "2023-03-16T16:00:11.913Z"
   },
   {
    "duration": 0,
    "start_time": "2023-03-16T16:00:11.914Z"
   },
   {
    "duration": 0,
    "start_time": "2023-03-16T16:00:11.915Z"
   },
   {
    "duration": 0,
    "start_time": "2023-03-16T16:00:11.917Z"
   },
   {
    "duration": 0,
    "start_time": "2023-03-16T16:00:11.918Z"
   },
   {
    "duration": 0,
    "start_time": "2023-03-16T16:00:11.919Z"
   },
   {
    "duration": 0,
    "start_time": "2023-03-16T16:00:11.957Z"
   },
   {
    "duration": 610,
    "start_time": "2023-03-16T16:00:30.826Z"
   },
   {
    "duration": 8,
    "start_time": "2023-03-16T16:01:29.331Z"
   },
   {
    "duration": 280,
    "start_time": "2023-03-16T16:01:31.380Z"
   },
   {
    "duration": 118,
    "start_time": "2023-03-16T16:01:34.555Z"
   },
   {
    "duration": 2,
    "start_time": "2023-03-16T16:01:36.595Z"
   },
   {
    "duration": 113,
    "start_time": "2023-03-16T16:01:42.099Z"
   },
   {
    "duration": 35693,
    "start_time": "2023-03-16T16:02:14.772Z"
   },
   {
    "duration": 10,
    "start_time": "2023-03-16T16:04:19.616Z"
   },
   {
    "duration": 2426,
    "start_time": "2023-03-16T16:04:35.267Z"
   },
   {
    "duration": 1181,
    "start_time": "2023-03-16T16:04:37.695Z"
   },
   {
    "duration": 766,
    "start_time": "2023-03-16T16:04:38.878Z"
   },
   {
    "duration": 122,
    "start_time": "2023-03-16T16:04:39.646Z"
   },
   {
    "duration": 77,
    "start_time": "2023-03-16T16:04:39.769Z"
   },
   {
    "duration": 407,
    "start_time": "2023-03-16T16:04:39.857Z"
   },
   {
    "duration": 497,
    "start_time": "2023-03-16T16:04:40.266Z"
   },
   {
    "duration": 439,
    "start_time": "2023-03-16T16:04:40.765Z"
   },
   {
    "duration": 99,
    "start_time": "2023-03-16T16:04:41.206Z"
   },
   {
    "duration": 203,
    "start_time": "2023-03-16T16:04:41.308Z"
   },
   {
    "duration": 14,
    "start_time": "2023-03-16T16:04:41.512Z"
   },
   {
    "duration": 108,
    "start_time": "2023-03-16T16:04:41.527Z"
   },
   {
    "duration": 108,
    "start_time": "2023-03-16T16:04:41.637Z"
   },
   {
    "duration": 499,
    "start_time": "2023-03-16T16:04:41.746Z"
   },
   {
    "duration": 681,
    "start_time": "2023-03-16T16:04:42.247Z"
   },
   {
    "duration": 197,
    "start_time": "2023-03-16T16:04:42.929Z"
   },
   {
    "duration": 95,
    "start_time": "2023-03-16T16:04:43.128Z"
   },
   {
    "duration": 103,
    "start_time": "2023-03-16T16:04:43.225Z"
   },
   {
    "duration": 82,
    "start_time": "2023-03-16T16:04:43.330Z"
   },
   {
    "duration": 170,
    "start_time": "2023-03-16T16:04:43.414Z"
   },
   {
    "duration": 75,
    "start_time": "2023-03-16T16:04:43.586Z"
   },
   {
    "duration": 169,
    "start_time": "2023-03-16T16:04:43.663Z"
   },
   {
    "duration": 147,
    "start_time": "2023-03-16T16:04:43.834Z"
   },
   {
    "duration": 23,
    "start_time": "2023-03-16T16:04:43.983Z"
   },
   {
    "duration": 29,
    "start_time": "2023-03-16T16:04:44.008Z"
   },
   {
    "duration": 84,
    "start_time": "2023-03-16T16:04:44.039Z"
   },
   {
    "duration": 2,
    "start_time": "2023-03-16T16:04:44.125Z"
   },
   {
    "duration": 33,
    "start_time": "2023-03-16T16:04:44.130Z"
   },
   {
    "duration": 67,
    "start_time": "2023-03-16T16:04:44.165Z"
   },
   {
    "duration": 23,
    "start_time": "2023-03-16T16:04:44.234Z"
   },
   {
    "duration": 556,
    "start_time": "2023-03-16T16:04:44.260Z"
   },
   {
    "duration": 8,
    "start_time": "2023-03-16T16:04:44.817Z"
   },
   {
    "duration": 288,
    "start_time": "2023-03-16T16:04:44.826Z"
   },
   {
    "duration": 122,
    "start_time": "2023-03-16T16:04:45.116Z"
   },
   {
    "duration": 2,
    "start_time": "2023-03-16T16:04:45.239Z"
   },
   {
    "duration": 41022,
    "start_time": "2023-03-16T16:04:45.243Z"
   },
   {
    "duration": 87519,
    "start_time": "2023-03-16T16:05:26.356Z"
   },
   {
    "duration": 155,
    "start_time": "2023-03-16T16:06:53.877Z"
   },
   {
    "duration": 0,
    "start_time": "2023-03-16T16:06:54.034Z"
   },
   {
    "duration": 0,
    "start_time": "2023-03-16T16:06:54.035Z"
   },
   {
    "duration": 0,
    "start_time": "2023-03-16T16:06:54.036Z"
   },
   {
    "duration": 0,
    "start_time": "2023-03-16T16:06:54.037Z"
   },
   {
    "duration": 0,
    "start_time": "2023-03-16T16:06:54.038Z"
   },
   {
    "duration": 0,
    "start_time": "2023-03-16T16:06:54.039Z"
   },
   {
    "duration": 0,
    "start_time": "2023-03-16T16:06:54.040Z"
   },
   {
    "duration": 0,
    "start_time": "2023-03-16T16:06:54.041Z"
   },
   {
    "duration": 0,
    "start_time": "2023-03-16T16:06:54.042Z"
   },
   {
    "duration": 0,
    "start_time": "2023-03-16T16:06:54.043Z"
   },
   {
    "duration": 0,
    "start_time": "2023-03-16T16:06:54.044Z"
   },
   {
    "duration": 0,
    "start_time": "2023-03-16T16:06:54.045Z"
   },
   {
    "duration": 97928,
    "start_time": "2023-03-16T16:07:34.243Z"
   },
   {
    "duration": 13,
    "start_time": "2023-03-16T16:12:47.726Z"
   },
   {
    "duration": 2895,
    "start_time": "2023-03-16T16:16:25.037Z"
   },
   {
    "duration": 1429,
    "start_time": "2023-03-16T16:16:27.934Z"
   },
   {
    "duration": 848,
    "start_time": "2023-03-16T16:16:29.364Z"
   },
   {
    "duration": 155,
    "start_time": "2023-03-16T16:16:30.215Z"
   },
   {
    "duration": 120,
    "start_time": "2023-03-16T16:16:30.372Z"
   },
   {
    "duration": 486,
    "start_time": "2023-03-16T16:16:30.495Z"
   },
   {
    "duration": 570,
    "start_time": "2023-03-16T16:16:30.983Z"
   },
   {
    "duration": 474,
    "start_time": "2023-03-16T16:16:31.555Z"
   },
   {
    "duration": 131,
    "start_time": "2023-03-16T16:16:32.031Z"
   },
   {
    "duration": 250,
    "start_time": "2023-03-16T16:16:32.166Z"
   },
   {
    "duration": 15,
    "start_time": "2023-03-16T16:16:32.418Z"
   },
   {
    "duration": 116,
    "start_time": "2023-03-16T16:16:32.435Z"
   },
   {
    "duration": 118,
    "start_time": "2023-03-16T16:16:32.556Z"
   },
   {
    "duration": 541,
    "start_time": "2023-03-16T16:16:32.677Z"
   },
   {
    "duration": 713,
    "start_time": "2023-03-16T16:16:33.220Z"
   },
   {
    "duration": 201,
    "start_time": "2023-03-16T16:16:33.934Z"
   },
   {
    "duration": 106,
    "start_time": "2023-03-16T16:16:34.137Z"
   },
   {
    "duration": 80,
    "start_time": "2023-03-16T16:16:34.245Z"
   },
   {
    "duration": 91,
    "start_time": "2023-03-16T16:16:34.327Z"
   },
   {
    "duration": 191,
    "start_time": "2023-03-16T16:16:34.420Z"
   },
   {
    "duration": 74,
    "start_time": "2023-03-16T16:16:34.613Z"
   },
   {
    "duration": 195,
    "start_time": "2023-03-16T16:16:34.690Z"
   },
   {
    "duration": 147,
    "start_time": "2023-03-16T16:16:34.887Z"
   },
   {
    "duration": 32,
    "start_time": "2023-03-16T16:16:35.035Z"
   },
   {
    "duration": 29,
    "start_time": "2023-03-16T16:16:35.069Z"
   },
   {
    "duration": 100,
    "start_time": "2023-03-16T16:16:35.100Z"
   },
   {
    "duration": 7,
    "start_time": "2023-03-16T16:16:35.203Z"
   },
   {
    "duration": 18,
    "start_time": "2023-03-16T16:16:35.213Z"
   },
   {
    "duration": 83,
    "start_time": "2023-03-16T16:16:35.233Z"
   },
   {
    "duration": 9,
    "start_time": "2023-03-16T16:16:35.318Z"
   },
   {
    "duration": 626,
    "start_time": "2023-03-16T16:16:35.329Z"
   },
   {
    "duration": 8,
    "start_time": "2023-03-16T16:16:35.956Z"
   },
   {
    "duration": 295,
    "start_time": "2023-03-16T16:16:35.966Z"
   },
   {
    "duration": 137,
    "start_time": "2023-03-16T16:16:36.263Z"
   },
   {
    "duration": 4,
    "start_time": "2023-03-16T16:16:36.401Z"
   },
   {
    "duration": 40563,
    "start_time": "2023-03-16T16:16:36.406Z"
   },
   {
    "duration": 94504,
    "start_time": "2023-03-16T16:17:16.971Z"
   },
   {
    "duration": 12,
    "start_time": "2023-03-16T16:18:51.476Z"
   },
   {
    "duration": 52044,
    "start_time": "2023-03-16T16:18:51.490Z"
   },
   {
    "duration": 117,
    "start_time": "2023-03-16T16:19:43.536Z"
   },
   {
    "duration": 0,
    "start_time": "2023-03-16T16:19:43.654Z"
   },
   {
    "duration": 0,
    "start_time": "2023-03-16T16:19:43.656Z"
   },
   {
    "duration": 0,
    "start_time": "2023-03-16T16:19:43.658Z"
   },
   {
    "duration": 0,
    "start_time": "2023-03-16T16:19:43.659Z"
   },
   {
    "duration": 0,
    "start_time": "2023-03-16T16:19:43.660Z"
   },
   {
    "duration": 0,
    "start_time": "2023-03-16T16:19:43.662Z"
   },
   {
    "duration": 0,
    "start_time": "2023-03-16T16:19:43.663Z"
   },
   {
    "duration": 0,
    "start_time": "2023-03-16T16:19:43.664Z"
   },
   {
    "duration": 0,
    "start_time": "2023-03-16T16:19:43.666Z"
   },
   {
    "duration": 0,
    "start_time": "2023-03-16T16:19:43.667Z"
   },
   {
    "duration": 4,
    "start_time": "2023-03-16T16:20:32.730Z"
   },
   {
    "duration": 4,
    "start_time": "2023-03-16T16:20:41.138Z"
   },
   {
    "duration": 3,
    "start_time": "2023-03-16T16:21:05.667Z"
   },
   {
    "duration": 3909,
    "start_time": "2023-03-16T16:21:07.219Z"
   },
   {
    "duration": 6,
    "start_time": "2023-03-16T16:22:29.997Z"
   },
   {
    "duration": 3,
    "start_time": "2023-03-16T16:22:59.030Z"
   },
   {
    "duration": 3929,
    "start_time": "2023-03-16T16:23:00.162Z"
   },
   {
    "duration": 1242030,
    "start_time": "2023-03-16T16:23:12.047Z"
   },
   {
    "duration": 4,
    "start_time": "2023-03-16T16:44:42.842Z"
   },
   {
    "duration": 12,
    "start_time": "2023-03-16T16:44:53.314Z"
   },
   {
    "duration": 615048,
    "start_time": "2023-03-16T16:45:00.642Z"
   },
   {
    "duration": 0,
    "start_time": "2023-03-16T16:55:15.758Z"
   },
   {
    "duration": 2327,
    "start_time": "2023-03-16T16:55:35.844Z"
   },
   {
    "duration": 1225,
    "start_time": "2023-03-16T16:55:38.174Z"
   },
   {
    "duration": 781,
    "start_time": "2023-03-16T16:55:39.401Z"
   },
   {
    "duration": 134,
    "start_time": "2023-03-16T16:55:40.184Z"
   },
   {
    "duration": 97,
    "start_time": "2023-03-16T16:55:40.320Z"
   },
   {
    "duration": 445,
    "start_time": "2023-03-16T16:55:40.419Z"
   },
   {
    "duration": 544,
    "start_time": "2023-03-16T16:55:40.865Z"
   },
   {
    "duration": 413,
    "start_time": "2023-03-16T16:55:41.410Z"
   },
   {
    "duration": 100,
    "start_time": "2023-03-16T16:55:41.825Z"
   },
   {
    "duration": 204,
    "start_time": "2023-03-16T16:55:41.927Z"
   },
   {
    "duration": 13,
    "start_time": "2023-03-16T16:55:42.133Z"
   },
   {
    "duration": 101,
    "start_time": "2023-03-16T16:55:42.156Z"
   },
   {
    "duration": 111,
    "start_time": "2023-03-16T16:55:42.259Z"
   },
   {
    "duration": 514,
    "start_time": "2023-03-16T16:55:42.372Z"
   },
   {
    "duration": 683,
    "start_time": "2023-03-16T16:55:42.888Z"
   },
   {
    "duration": 188,
    "start_time": "2023-03-16T16:55:43.573Z"
   },
   {
    "duration": 83,
    "start_time": "2023-03-16T16:55:43.762Z"
   },
   {
    "duration": 111,
    "start_time": "2023-03-16T16:55:43.857Z"
   },
   {
    "duration": 66,
    "start_time": "2023-03-16T16:55:43.970Z"
   },
   {
    "duration": 168,
    "start_time": "2023-03-16T16:55:44.056Z"
   },
   {
    "duration": 75,
    "start_time": "2023-03-16T16:55:44.226Z"
   },
   {
    "duration": 222,
    "start_time": "2023-03-16T16:55:44.304Z"
   },
   {
    "duration": 212,
    "start_time": "2023-03-16T16:55:44.528Z"
   },
   {
    "duration": 34,
    "start_time": "2023-03-16T16:55:44.742Z"
   },
   {
    "duration": 33,
    "start_time": "2023-03-16T16:55:44.779Z"
   },
   {
    "duration": 118,
    "start_time": "2023-03-16T16:55:44.814Z"
   },
   {
    "duration": 3,
    "start_time": "2023-03-16T16:55:44.933Z"
   },
   {
    "duration": 29,
    "start_time": "2023-03-16T16:55:44.939Z"
   },
   {
    "duration": 57,
    "start_time": "2023-03-16T16:55:44.970Z"
   },
   {
    "duration": 8,
    "start_time": "2023-03-16T16:55:45.028Z"
   },
   {
    "duration": 620,
    "start_time": "2023-03-16T16:55:45.037Z"
   },
   {
    "duration": 8,
    "start_time": "2023-03-16T16:55:45.660Z"
   },
   {
    "duration": 285,
    "start_time": "2023-03-16T16:55:45.670Z"
   },
   {
    "duration": 139,
    "start_time": "2023-03-16T16:55:45.957Z"
   },
   {
    "duration": 3,
    "start_time": "2023-03-16T16:55:46.099Z"
   },
   {
    "duration": 40864,
    "start_time": "2023-03-16T16:55:46.104Z"
   },
   {
    "duration": 80799,
    "start_time": "2023-03-16T16:56:26.970Z"
   },
   {
    "duration": 12,
    "start_time": "2023-03-16T16:57:47.771Z"
   },
   {
    "duration": 54940,
    "start_time": "2023-03-16T16:57:47.784Z"
   },
   {
    "duration": 3,
    "start_time": "2023-03-16T16:58:42.726Z"
   },
   {
    "duration": 4100,
    "start_time": "2023-03-16T16:58:42.731Z"
   },
   {
    "duration": 1357337,
    "start_time": "2023-03-16T16:58:46.833Z"
   },
   {
    "duration": 3,
    "start_time": "2023-03-16T17:21:24.172Z"
   },
   {
    "duration": 1100496,
    "start_time": "2023-03-16T17:21:24.177Z"
   },
   {
    "duration": 182,
    "start_time": "2023-03-16T17:39:44.675Z"
   },
   {
    "duration": 0,
    "start_time": "2023-03-16T17:39:44.858Z"
   },
   {
    "duration": 0,
    "start_time": "2023-03-16T17:39:44.859Z"
   },
   {
    "duration": 0,
    "start_time": "2023-03-16T17:39:44.860Z"
   },
   {
    "duration": 16,
    "start_time": "2023-03-16T17:41:10.362Z"
   },
   {
    "duration": 13,
    "start_time": "2023-03-16T17:41:34.409Z"
   },
   {
    "duration": 70,
    "start_time": "2023-03-16T17:41:38.523Z"
   },
   {
    "duration": 11,
    "start_time": "2023-03-16T17:41:39.477Z"
   },
   {
    "duration": 10,
    "start_time": "2023-03-16T17:42:58.502Z"
   },
   {
    "duration": 15,
    "start_time": "2023-03-16T17:43:17.318Z"
   },
   {
    "duration": 3,
    "start_time": "2023-03-16T17:43:27.320Z"
   },
   {
    "duration": 14,
    "start_time": "2023-03-16T17:43:34.078Z"
   },
   {
    "duration": 343396,
    "start_time": "2023-03-16T17:44:35.188Z"
   },
   {
    "duration": 4,
    "start_time": "2023-03-16T17:50:18.658Z"
   }
  ],
  "kernelspec": {
   "display_name": "Python 3 (ipykernel)",
   "language": "python",
   "name": "python3"
  },
  "language_info": {
   "codemirror_mode": {
    "name": "ipython",
    "version": 3
   },
   "file_extension": ".py",
   "mimetype": "text/x-python",
   "name": "python",
   "nbconvert_exporter": "python",
   "pygments_lexer": "ipython3",
   "version": "3.10.9"
  },
  "toc": {
   "base_numbering": 1,
   "nav_menu": {},
   "number_sections": true,
   "sideBar": true,
   "skip_h1_title": true,
   "title_cell": "Table of Contents",
   "title_sidebar": "Contents",
   "toc_cell": false,
   "toc_position": {},
   "toc_section_display": true,
   "toc_window_display": false
  }
 },
 "nbformat": 4,
 "nbformat_minor": 2
}
