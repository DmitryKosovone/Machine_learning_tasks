{
 "cells": [
  {
   "cell_type": "markdown",
   "metadata": {
    "toc": true
   },
   "source": [
    "<h1>Содержание<span class=\"tocSkip\"></span></h1>\n",
    "<div class=\"toc\"><ul class=\"toc-item\"><li><span><a href=\"#Подготовка\" data-toc-modified-id=\"Подготовка-1\"><span class=\"toc-item-num\">1&nbsp;&nbsp;</span>Подготовка</a></span><ul class=\"toc-item\"><li><ul class=\"toc-item\"><li><span><a href=\"#Исследование-баланса-классов\" data-toc-modified-id=\"Исследование-баланса-классов-1.0.1\"><span class=\"toc-item-num\">1.0.1&nbsp;&nbsp;</span>Исследование баланса классов</a></span></li></ul></li><li><span><a href=\"#Лемматизация-и-чистка-текста\" data-toc-modified-id=\"Лемматизация-и-чистка-текста-1.1\"><span class=\"toc-item-num\">1.1&nbsp;&nbsp;</span>Лемматизация и чистка текста</a></span></li><li><span><a href=\"#Подготовка-признаков\" data-toc-modified-id=\"Подготовка-признаков-1.2\"><span class=\"toc-item-num\">1.2&nbsp;&nbsp;</span>Подготовка признаков</a></span></li><li><span><a href=\"#Векторизация-признаков\" data-toc-modified-id=\"Векторизация-признаков-1.3\"><span class=\"toc-item-num\">1.3&nbsp;&nbsp;</span>Векторизация признаков</a></span></li></ul></li><li><span><a href=\"#Обучение\" data-toc-modified-id=\"Обучение-2\"><span class=\"toc-item-num\">2&nbsp;&nbsp;</span>Обучение</a></span><ul class=\"toc-item\"><li><span><a href=\"#Логистическая-регрессия\" data-toc-modified-id=\"Логистическая-регрессия-2.1\"><span class=\"toc-item-num\">2.1&nbsp;&nbsp;</span>Логистическая регрессия</a></span></li><li><span><a href=\"#Случайный-лес\" data-toc-modified-id=\"Случайный-лес-2.2\"><span class=\"toc-item-num\">2.2&nbsp;&nbsp;</span>Случайный лес</a></span></li><li><span><a href=\"#CatBoost\" data-toc-modified-id=\"CatBoost-2.3\"><span class=\"toc-item-num\">2.3&nbsp;&nbsp;</span>CatBoost</a></span></li></ul></li><li><span><a href=\"#Выводы\" data-toc-modified-id=\"Выводы-3\"><span class=\"toc-item-num\">3&nbsp;&nbsp;</span>Выводы</a></span></li><li><span><a href=\"#Чек-лист-проверки\" data-toc-modified-id=\"Чек-лист-проверки-4\"><span class=\"toc-item-num\">4&nbsp;&nbsp;</span>Чек-лист проверки</a></span></li></ul></div>"
   ]
  },
  {
   "cell_type": "markdown",
   "metadata": {},
   "source": [
    "# Проект для «Викишоп»"
   ]
  },
  {
   "cell_type": "markdown",
   "metadata": {},
   "source": [
    "Интернет-магазин «Викишоп» запускает новый сервис. Теперь пользователи могут редактировать и дополнять описания товаров, как в вики-сообществах. То есть клиенты предлагают свои правки и комментируют изменения других. Магазину нужен инструмент, который будет искать токсичные комментарии и отправлять их на модерацию. \n",
    "\n",
    "Обучите модель классифицировать комментарии на позитивные и негативные. В вашем распоряжении набор данных с разметкой о токсичности правок.\n",
    "\n",
    "Постройте модель со значением метрики качества *F1* не меньше 0.75. \n",
    "\n",
    "**Инструкция по выполнению проекта**\n",
    "\n",
    "1. Загрузите и подготовьте данные.\n",
    "2. Обучите разные модели. \n",
    "3. Сделайте выводы.\n",
    "\n",
    "Для выполнения проекта применять *BERT* необязательно, но вы можете попробовать.\n",
    "\n",
    "**Описание данных**\n",
    "\n",
    "Данные находятся в файле `toxic_comments.csv`. Столбец *text* в нём содержит текст комментария, а *toxic* — целевой признак."
   ]
  },
  {
   "cell_type": "markdown",
   "metadata": {},
   "source": [
    "## Подготовка"
   ]
  },
  {
   "cell_type": "code",
   "execution_count": 1,
   "metadata": {},
   "outputs": [
    {
     "name": "stdout",
     "output_type": "stream",
     "text": [
      "Requirement already satisfied: optuna in /opt/conda/lib/python3.9/site-packages (3.1.0)\n",
      "Requirement already satisfied: numpy in /opt/conda/lib/python3.9/site-packages (from optuna) (1.21.1)\n",
      "Requirement already satisfied: packaging>=20.0 in /opt/conda/lib/python3.9/site-packages (from optuna) (21.3)\n",
      "Requirement already satisfied: PyYAML in /opt/conda/lib/python3.9/site-packages (from optuna) (6.0)\n",
      "Requirement already satisfied: sqlalchemy>=1.3.0 in /opt/conda/lib/python3.9/site-packages (from optuna) (1.4.20)\n",
      "Requirement already satisfied: cmaes>=0.9.1 in /opt/conda/lib/python3.9/site-packages (from optuna) (0.9.1)\n",
      "Requirement already satisfied: colorlog in /opt/conda/lib/python3.9/site-packages (from optuna) (6.7.0)\n",
      "Requirement already satisfied: tqdm in /opt/conda/lib/python3.9/site-packages (from optuna) (4.61.2)\n",
      "Requirement already satisfied: alembic>=1.5.0 in /opt/conda/lib/python3.9/site-packages (from optuna) (1.6.5)\n",
      "Requirement already satisfied: python-dateutil in /opt/conda/lib/python3.9/site-packages (from alembic>=1.5.0->optuna) (2.8.1)\n",
      "Requirement already satisfied: Mako in /opt/conda/lib/python3.9/site-packages (from alembic>=1.5.0->optuna) (1.1.4)\n",
      "Requirement already satisfied: python-editor>=0.3 in /opt/conda/lib/python3.9/site-packages (from alembic>=1.5.0->optuna) (1.0.4)\n",
      "Requirement already satisfied: pyparsing!=3.0.5,>=2.0.2 in /opt/conda/lib/python3.9/site-packages (from packaging>=20.0->optuna) (2.4.7)\n",
      "Requirement already satisfied: greenlet!=0.4.17 in /opt/conda/lib/python3.9/site-packages (from sqlalchemy>=1.3.0->optuna) (1.1.0)\n",
      "Requirement already satisfied: MarkupSafe>=0.9.2 in /opt/conda/lib/python3.9/site-packages (from Mako->alembic>=1.5.0->optuna) (2.1.1)\n",
      "Requirement already satisfied: six>=1.5 in /opt/conda/lib/python3.9/site-packages (from python-dateutil->alembic>=1.5.0->optuna) (1.16.0)\n",
      "Note: you may need to restart the kernel to use updated packages.\n"
     ]
    }
   ],
   "source": [
    "pip install optuna"
   ]
  },
  {
   "cell_type": "code",
   "execution_count": 2,
   "metadata": {},
   "outputs": [],
   "source": [
    "import pandas as pd\n",
    "import numpy as np\n",
    "import optuna\n",
    "\n",
    "from pymystem3 import Mystem\n",
    "import re\n",
    "from nltk.corpus import stopwords as nltk_stopwords\n",
    "import nltk\n",
    "from nltk.stem import WordNetLemmatizer \n",
    "from nltk import pos_tag\n",
    "from nltk.tokenize import word_tokenize\n",
    "from nltk.corpus import wordnet\n",
    "\n",
    "\n",
    "from sklearn.feature_extraction.text import TfidfVectorizer\n",
    "from sklearn.pipeline import Pipeline\n",
    "\n",
    "from sklearn.linear_model import LogisticRegression\n",
    "from sklearn.ensemble import RandomForestClassifier\n",
    "from catboost import CatBoostClassifier\n",
    "\n",
    "from sklearn.metrics import f1_score\n",
    "from sklearn.model_selection import train_test_split, cross_validate, cross_val_score\n",
    "from sklearn.model_selection import RandomizedSearchCV\n",
    "\n",
    "import warnings\n",
    "warnings.filterwarnings('ignore')\n"
   ]
  },
  {
   "cell_type": "code",
   "execution_count": 3,
   "metadata": {},
   "outputs": [
    {
     "name": "stderr",
     "output_type": "stream",
     "text": [
      "[nltk_data] Downloading package averaged_perceptron_tagger to\n",
      "[nltk_data]     /home/jovyan/nltk_data...\n",
      "[nltk_data]   Package averaged_perceptron_tagger is already up-to-\n",
      "[nltk_data]       date!\n"
     ]
    },
    {
     "data": {
      "text/plain": [
       "True"
      ]
     },
     "execution_count": 3,
     "metadata": {},
     "output_type": "execute_result"
    }
   ],
   "source": [
    "nltk.download('averaged_perceptron_tagger')"
   ]
  },
  {
   "cell_type": "code",
   "execution_count": 4,
   "metadata": {},
   "outputs": [],
   "source": [
    "data = pd.read_csv('https://code.s3.yandex.net/datasets/toxic_comments.csv')"
   ]
  },
  {
   "cell_type": "code",
   "execution_count": 5,
   "metadata": {},
   "outputs": [
    {
     "data": {
      "text/html": [
       "<div>\n",
       "<style scoped>\n",
       "    .dataframe tbody tr th:only-of-type {\n",
       "        vertical-align: middle;\n",
       "    }\n",
       "\n",
       "    .dataframe tbody tr th {\n",
       "        vertical-align: top;\n",
       "    }\n",
       "\n",
       "    .dataframe thead th {\n",
       "        text-align: right;\n",
       "    }\n",
       "</style>\n",
       "<table border=\"1\" class=\"dataframe\">\n",
       "  <thead>\n",
       "    <tr style=\"text-align: right;\">\n",
       "      <th></th>\n",
       "      <th>Unnamed: 0</th>\n",
       "      <th>text</th>\n",
       "      <th>toxic</th>\n",
       "    </tr>\n",
       "  </thead>\n",
       "  <tbody>\n",
       "    <tr>\n",
       "      <th>0</th>\n",
       "      <td>0</td>\n",
       "      <td>Explanation\\nWhy the edits made under my usern...</td>\n",
       "      <td>0</td>\n",
       "    </tr>\n",
       "    <tr>\n",
       "      <th>1</th>\n",
       "      <td>1</td>\n",
       "      <td>D'aww! He matches this background colour I'm s...</td>\n",
       "      <td>0</td>\n",
       "    </tr>\n",
       "    <tr>\n",
       "      <th>2</th>\n",
       "      <td>2</td>\n",
       "      <td>Hey man, I'm really not trying to edit war. It...</td>\n",
       "      <td>0</td>\n",
       "    </tr>\n",
       "    <tr>\n",
       "      <th>3</th>\n",
       "      <td>3</td>\n",
       "      <td>\"\\nMore\\nI can't make any real suggestions on ...</td>\n",
       "      <td>0</td>\n",
       "    </tr>\n",
       "    <tr>\n",
       "      <th>4</th>\n",
       "      <td>4</td>\n",
       "      <td>You, sir, are my hero. Any chance you remember...</td>\n",
       "      <td>0</td>\n",
       "    </tr>\n",
       "  </tbody>\n",
       "</table>\n",
       "</div>"
      ],
      "text/plain": [
       "   Unnamed: 0                                               text  toxic\n",
       "0           0  Explanation\\nWhy the edits made under my usern...      0\n",
       "1           1  D'aww! He matches this background colour I'm s...      0\n",
       "2           2  Hey man, I'm really not trying to edit war. It...      0\n",
       "3           3  \"\\nMore\\nI can't make any real suggestions on ...      0\n",
       "4           4  You, sir, are my hero. Any chance you remember...      0"
      ]
     },
     "execution_count": 5,
     "metadata": {},
     "output_type": "execute_result"
    }
   ],
   "source": [
    "data.head()"
   ]
  },
  {
   "cell_type": "code",
   "execution_count": 6,
   "metadata": {},
   "outputs": [
    {
     "name": "stdout",
     "output_type": "stream",
     "text": [
      "<class 'pandas.core.frame.DataFrame'>\n",
      "RangeIndex: 159292 entries, 0 to 159291\n",
      "Data columns (total 3 columns):\n",
      " #   Column      Non-Null Count   Dtype \n",
      "---  ------      --------------   ----- \n",
      " 0   Unnamed: 0  159292 non-null  int64 \n",
      " 1   text        159292 non-null  object\n",
      " 2   toxic       159292 non-null  int64 \n",
      "dtypes: int64(2), object(1)\n",
      "memory usage: 3.6+ MB\n"
     ]
    }
   ],
   "source": [
    "data.info()"
   ]
  },
  {
   "cell_type": "code",
   "execution_count": 7,
   "metadata": {},
   "outputs": [],
   "source": [
    "data.drop('Unnamed: 0', axis=1, inplace=True)"
   ]
  },
  {
   "cell_type": "markdown",
   "metadata": {},
   "source": [
    "#### Исследование баланса классов"
   ]
  },
  {
   "cell_type": "code",
   "execution_count": 8,
   "metadata": {},
   "outputs": [
    {
     "data": {
      "text/plain": [
       "0    0.898388\n",
       "1    0.101612\n",
       "Name: toxic, dtype: float64"
      ]
     },
     "execution_count": 8,
     "metadata": {},
     "output_type": "execute_result"
    }
   ],
   "source": [
    "data['toxic'].value_counts(normalize=True)"
   ]
  },
  {
   "cell_type": "markdown",
   "metadata": {},
   "source": [
    "<b>Вывод:</b> В Данных наблюдается дисбаланс классов. При обучение моделей необходимо вводить параметр class_weight='balanced' и использовать метрику f1 "
   ]
  },
  {
   "cell_type": "markdown",
   "metadata": {},
   "source": [
    "### Лемматизация и чистка текста"
   ]
  },
  {
   "cell_type": "code",
   "execution_count": 9,
   "metadata": {},
   "outputs": [],
   "source": [
    "m = WordNetLemmatizer()\n",
    "\n",
    "def lemmatize_clear(text):\n",
    "    text = re.sub(r'[^a-zA-Z]', ' ', text.lower())\n",
    "    text = ' '.join(text.split())\n",
    "    text = nltk.word_tokenize(text)\n",
    "    return ' '.join([m.lemmatize(word, wordnet.VERB) \n",
    "            for word, tag in pos_tag(text)])\n",
    "\n",
    "data['lemm_text'] = data['text'].apply(lemmatize_clear)\n",
    "data = data.drop(['text'], axis=1)\n",
    "del m"
   ]
  },
  {
   "cell_type": "code",
   "execution_count": 10,
   "metadata": {},
   "outputs": [
    {
     "data": {
      "text/html": [
       "<div>\n",
       "<style scoped>\n",
       "    .dataframe tbody tr th:only-of-type {\n",
       "        vertical-align: middle;\n",
       "    }\n",
       "\n",
       "    .dataframe tbody tr th {\n",
       "        vertical-align: top;\n",
       "    }\n",
       "\n",
       "    .dataframe thead th {\n",
       "        text-align: right;\n",
       "    }\n",
       "</style>\n",
       "<table border=\"1\" class=\"dataframe\">\n",
       "  <thead>\n",
       "    <tr style=\"text-align: right;\">\n",
       "      <th></th>\n",
       "      <th>toxic</th>\n",
       "      <th>lemm_text</th>\n",
       "    </tr>\n",
       "  </thead>\n",
       "  <tbody>\n",
       "    <tr>\n",
       "      <th>0</th>\n",
       "      <td>0</td>\n",
       "      <td>explanation why the edit make under my usernam...</td>\n",
       "    </tr>\n",
       "    <tr>\n",
       "      <th>1</th>\n",
       "      <td>0</td>\n",
       "      <td>d aww he match this background colour i m seem...</td>\n",
       "    </tr>\n",
       "    <tr>\n",
       "      <th>2</th>\n",
       "      <td>0</td>\n",
       "      <td>hey man i m really not try to edit war it s ju...</td>\n",
       "    </tr>\n",
       "    <tr>\n",
       "      <th>3</th>\n",
       "      <td>0</td>\n",
       "      <td>more i can t make any real suggestions on impr...</td>\n",
       "    </tr>\n",
       "    <tr>\n",
       "      <th>4</th>\n",
       "      <td>0</td>\n",
       "      <td>you sir be my hero any chance you remember wha...</td>\n",
       "    </tr>\n",
       "  </tbody>\n",
       "</table>\n",
       "</div>"
      ],
      "text/plain": [
       "   toxic                                          lemm_text\n",
       "0      0  explanation why the edit make under my usernam...\n",
       "1      0  d aww he match this background colour i m seem...\n",
       "2      0  hey man i m really not try to edit war it s ju...\n",
       "3      0  more i can t make any real suggestions on impr...\n",
       "4      0  you sir be my hero any chance you remember wha..."
      ]
     },
     "execution_count": 10,
     "metadata": {},
     "output_type": "execute_result"
    }
   ],
   "source": [
    "data.head()"
   ]
  },
  {
   "cell_type": "markdown",
   "metadata": {},
   "source": [
    "### Подготовка признаков"
   ]
  },
  {
   "cell_type": "code",
   "execution_count": 11,
   "metadata": {},
   "outputs": [],
   "source": [
    "RANDOM_STATE = 12345"
   ]
  },
  {
   "cell_type": "code",
   "execution_count": 12,
   "metadata": {},
   "outputs": [],
   "source": [
    "features = data['lemm_text']\n",
    "target = data['toxic']"
   ]
  },
  {
   "cell_type": "code",
   "execution_count": 13,
   "metadata": {},
   "outputs": [],
   "source": [
    "features_train, features_test, target_train, target_test = train_test_split(features, \n",
    "                                                                            target, \n",
    "                                                                            test_size=0.25, \n",
    "                                                                            random_state=RANDOM_STATE,\n",
    "                                                                            stratify=target)"
   ]
  },
  {
   "cell_type": "markdown",
   "metadata": {},
   "source": [
    "### Векторизация признаков"
   ]
  },
  {
   "cell_type": "code",
   "execution_count": 14,
   "metadata": {},
   "outputs": [
    {
     "name": "stderr",
     "output_type": "stream",
     "text": [
      "[nltk_data] Downloading package stopwords to /home/jovyan/nltk_data...\n",
      "[nltk_data]   Package stopwords is already up-to-date!\n"
     ]
    }
   ],
   "source": [
    "nltk.download('stopwords')\n",
    "stopwords = list(set(nltk_stopwords.words('english')))"
   ]
  },
  {
   "cell_type": "markdown",
   "metadata": {},
   "source": [
    "## Обучение"
   ]
  },
  {
   "cell_type": "markdown",
   "metadata": {},
   "source": [
    "### Логистическая регрессия"
   ]
  },
  {
   "cell_type": "code",
   "execution_count": 15,
   "metadata": {},
   "outputs": [
    {
     "name": "stdout",
     "output_type": "stream",
     "text": [
      "Fitting 5 folds for each of 20 candidates, totalling 100 fits\n"
     ]
    },
    {
     "data": {
      "text/plain": [
       "RandomizedSearchCV(estimator=Pipeline(steps=[('vect',\n",
       "                                              TfidfVectorizer(stop_words=[\"it's\",\n",
       "                                                                          'isn',\n",
       "                                                                          'too',\n",
       "                                                                          'themselves',\n",
       "                                                                          'very',\n",
       "                                                                          \"won't\",\n",
       "                                                                          \"mustn't\",\n",
       "                                                                          'doing',\n",
       "                                                                          'couldn',\n",
       "                                                                          'we',\n",
       "                                                                          'below',\n",
       "                                                                          'not',\n",
       "                                                                          'have',\n",
       "                                                                          'does',\n",
       "                                                                          'once',\n",
       "                                                                          'when',\n",
       "                                                                          'into',\n",
       "                                                                          'only',\n",
       "                                                                          \"you're\",\n",
       "                                                                          'did',\n",
       "                                                                          \"needn't\",\n",
       "                                                                          'y',\n",
       "                                                                          'as',\n",
       "                                                                          'our',\n",
       "                                                                          'herself',\n",
       "                                                                          'if',\n",
       "                                                                          'there',\n",
       "                                                                          'theirs',\n",
       "                                                                          'further',\n",
       "                                                                          'now', ...])),\n",
       "                                             ('modellr',\n",
       "                                              LogisticRegression(class_weight='balanced',\n",
       "                                                                 random_state=12345,\n",
       "                                                                 solver='liblinear'))]),\n",
       "                   n_iter=20, n_jobs=-1,\n",
       "                   param_distributions={'modellr__C': [5, 6, 7, 8, 9, 10, 11,\n",
       "                                                       12, 13, 14],\n",
       "                                        'modellr__penalty': ['l1', 'l2']},\n",
       "                   random_state=0, scoring='f1', verbose=1)"
      ]
     },
     "execution_count": 15,
     "metadata": {},
     "output_type": "execute_result"
    }
   ],
   "source": [
    "features_train_lr, target_train_lr = features_train.copy(), target_train.copy()\n",
    "\n",
    "pipeline = Pipeline(\n",
    "    [\n",
    "        ('vect', TfidfVectorizer(stop_words=stopwords)),\n",
    "        ('modellr', LogisticRegression(random_state=RANDOM_STATE, class_weight='balanced', solver='liblinear')),\n",
    "    ]\n",
    ")\n",
    "parametr = {'modellr__penalty' : ['l1','l2'],\n",
    "            'modellr__C' : list(range(5, 15)),\n",
    "            }\n",
    "\n",
    "\n",
    "random_search_lr = RandomizedSearchCV(\n",
    "    estimator=pipeline,\n",
    "    param_distributions=parametr,\n",
    "    n_iter=20,\n",
    "    random_state=0,\n",
    "    n_jobs=-1,\n",
    "    scoring='f1',\n",
    "    verbose=1\n",
    ")\n",
    "random_search_lr.fit(features_train_lr, target_train_lr)"
   ]
  },
  {
   "cell_type": "code",
   "execution_count": 16,
   "metadata": {},
   "outputs": [],
   "source": [
    "model_lr = random_search_lr.best_estimator_"
   ]
  },
  {
   "cell_type": "markdown",
   "metadata": {},
   "source": [
    "### Случайный лес"
   ]
  },
  {
   "cell_type": "code",
   "execution_count": 17,
   "metadata": {},
   "outputs": [],
   "source": [
    "features_train_rf, target_train_rf = features_train.copy(), target_train.copy()"
   ]
  },
  {
   "cell_type": "code",
   "execution_count": 18,
   "metadata": {},
   "outputs": [
    {
     "name": "stderr",
     "output_type": "stream",
     "text": [
      "\u001b[32m[I 2023-04-07 07:59:47,587]\u001b[0m A new study created in memory with name: no-name-27f784eb-8895-4c7e-9029-2427a5581167\u001b[0m\n",
      "\u001b[33m[W 2023-04-07 08:00:12,763]\u001b[0m Trial 0 failed with parameters: {'n_estimators': 26, 'max_depth': 37, 'min_samples_leaf': 6, 'min_samples_split': 1} because of the following error: The value nan is not acceptable..\u001b[0m\n",
      "\u001b[33m[W 2023-04-07 08:00:12,764]\u001b[0m Trial 0 failed with value nan.\u001b[0m\n",
      "\u001b[32m[I 2023-04-07 08:00:59,627]\u001b[0m Trial 1 finished with value: 0.41963905630151965 and parameters: {'n_estimators': 35, 'max_depth': 36, 'min_samples_leaf': 6, 'min_samples_split': 7}. Best is trial 1 with value: 0.41963905630151965.\u001b[0m\n",
      "\u001b[33m[W 2023-04-07 08:01:24,309]\u001b[0m Trial 2 failed with parameters: {'n_estimators': 17, 'max_depth': 23, 'min_samples_leaf': 9, 'min_samples_split': 1} because of the following error: The value nan is not acceptable..\u001b[0m\n",
      "\u001b[33m[W 2023-04-07 08:01:24,310]\u001b[0m Trial 2 failed with value nan.\u001b[0m\n",
      "\u001b[32m[I 2023-04-07 08:02:05,096]\u001b[0m Trial 3 finished with value: 0.3732780219417381 and parameters: {'n_estimators': 34, 'max_depth': 22, 'min_samples_leaf': 7, 'min_samples_split': 4}. Best is trial 1 with value: 0.41963905630151965.\u001b[0m\n",
      "\u001b[33m[W 2023-04-07 08:02:29,067]\u001b[0m Trial 4 failed with parameters: {'n_estimators': 17, 'max_depth': 34, 'min_samples_leaf': 9, 'min_samples_split': 1} because of the following error: The value nan is not acceptable..\u001b[0m\n",
      "\u001b[33m[W 2023-04-07 08:02:29,068]\u001b[0m Trial 4 failed with value nan.\u001b[0m\n",
      "\u001b[32m[I 2023-04-07 08:03:06,833]\u001b[0m Trial 5 finished with value: 0.33833529477878715 and parameters: {'n_estimators': 34, 'max_depth': 12, 'min_samples_leaf': 7, 'min_samples_split': 10}. Best is trial 1 with value: 0.41963905630151965.\u001b[0m\n",
      "\u001b[33m[W 2023-04-07 08:03:31,784]\u001b[0m Trial 6 failed with parameters: {'n_estimators': 33, 'max_depth': 17, 'min_samples_leaf': 3, 'min_samples_split': 1} because of the following error: The value nan is not acceptable..\u001b[0m\n",
      "\u001b[33m[W 2023-04-07 08:03:31,785]\u001b[0m Trial 6 failed with value nan.\u001b[0m\n",
      "\u001b[32m[I 2023-04-07 08:04:08,290]\u001b[0m Trial 7 finished with value: 0.3544957124822345 and parameters: {'n_estimators': 21, 'max_depth': 19, 'min_samples_leaf': 3, 'min_samples_split': 9}. Best is trial 1 with value: 0.41963905630151965.\u001b[0m\n",
      "\u001b[32m[I 2023-04-07 08:04:48,023]\u001b[0m Trial 8 finished with value: 0.35043325257385444 and parameters: {'n_estimators': 29, 'max_depth': 16, 'min_samples_leaf': 4, 'min_samples_split': 5}. Best is trial 1 with value: 0.41963905630151965.\u001b[0m\n",
      "\u001b[32m[I 2023-04-07 08:05:25,704]\u001b[0m Trial 9 finished with value: 0.35085873569153997 and parameters: {'n_estimators': 32, 'max_depth': 15, 'min_samples_leaf': 2, 'min_samples_split': 10}. Best is trial 1 with value: 0.41963905630151965.\u001b[0m\n",
      "\u001b[32m[I 2023-04-07 08:06:06,880]\u001b[0m Trial 10 finished with value: 0.4059831626967398 and parameters: {'n_estimators': 23, 'max_depth': 34, 'min_samples_leaf': 6, 'min_samples_split': 5}. Best is trial 1 with value: 0.41963905630151965.\u001b[0m\n",
      "\u001b[32m[I 2023-04-07 08:06:44,979]\u001b[0m Trial 11 finished with value: 0.38795700671940164 and parameters: {'n_estimators': 23, 'max_depth': 28, 'min_samples_leaf': 6, 'min_samples_split': 9}. Best is trial 1 with value: 0.41963905630151965.\u001b[0m\n",
      "\u001b[32m[I 2023-04-07 08:07:19,235]\u001b[0m Trial 12 finished with value: 0.34734164663619016 and parameters: {'n_estimators': 13, 'max_depth': 23, 'min_samples_leaf': 6, 'min_samples_split': 2}. Best is trial 1 with value: 0.41963905630151965.\u001b[0m\n",
      "\u001b[32m[I 2023-04-07 08:07:59,589]\u001b[0m Trial 13 finished with value: 0.36995283519574473 and parameters: {'n_estimators': 28, 'max_depth': 21, 'min_samples_leaf': 2, 'min_samples_split': 3}. Best is trial 1 with value: 0.41963905630151965.\u001b[0m\n",
      "\u001b[32m[I 2023-04-07 08:08:46,047]\u001b[0m Trial 14 finished with value: 0.42791380812431246 and parameters: {'n_estimators': 40, 'max_depth': 40, 'min_samples_leaf': 10, 'min_samples_split': 7}. Best is trial 14 with value: 0.42791380812431246.\u001b[0m\n",
      "\u001b[32m[I 2023-04-07 08:09:38,208]\u001b[0m Trial 15 finished with value: 0.4293113310036464 and parameters: {'n_estimators': 39, 'max_depth': 40, 'min_samples_leaf': 10, 'min_samples_split': 7}. Best is trial 15 with value: 0.4293113310036464.\u001b[0m\n",
      "\u001b[32m[I 2023-04-07 08:10:25,412]\u001b[0m Trial 16 finished with value: 0.42791380812431246 and parameters: {'n_estimators': 40, 'max_depth': 40, 'min_samples_leaf': 10, 'min_samples_split': 7}. Best is trial 15 with value: 0.4293113310036464.\u001b[0m\n",
      "\u001b[32m[I 2023-04-07 08:11:09,697]\u001b[0m Trial 17 finished with value: 0.4024461377093367 and parameters: {'n_estimators': 40, 'max_depth': 29, 'min_samples_leaf': 10, 'min_samples_split': 7}. Best is trial 15 with value: 0.4293113310036464.\u001b[0m\n",
      "\u001b[32m[I 2023-04-07 08:11:57,798]\u001b[0m Trial 18 finished with value: 0.42768686555151414 and parameters: {'n_estimators': 38, 'max_depth': 40, 'min_samples_leaf': 9, 'min_samples_split': 7}. Best is trial 15 with value: 0.4293113310036464.\u001b[0m\n",
      "\u001b[32m[I 2023-04-07 08:12:38,409]\u001b[0m Trial 19 finished with value: 0.3844695649421296 and parameters: {'n_estimators': 16, 'max_depth': 34, 'min_samples_leaf': 8, 'min_samples_split': 8}. Best is trial 15 with value: 0.4293113310036464.\u001b[0m\n"
     ]
    }
   ],
   "source": [
    "def rf_objective(trial):\n",
    "    \n",
    "    n_estimators = trial.suggest_int('n_estimators', 10, 40)\n",
    "    max_depth = trial.suggest_int('max_depth', 10,40)\n",
    "    min_samples_leaf = trial.suggest_int('min_samples_leaf', 1, 10)\n",
    "    min_samples_split = trial.suggest_int('min_samples_split', 1, 10) \n",
    "    pipeline = Pipeline(\n",
    "    [\n",
    "        ('vect', TfidfVectorizer(stop_words=stopwords)),\n",
    "        ('modellr', RandomForestClassifier(max_depth=max_depth, n_estimators=n_estimators,\n",
    "                                           min_samples_leaf=min_samples_leaf, min_samples_split=min_samples_split, \n",
    "                                           random_state=RANDOM_STATE, class_weight='balanced')),\n",
    "    ]\n",
    ")\n",
    "    scores = cross_val_score(pipeline, features_train_rf, target_train_rf, scoring='f1')\n",
    "    \n",
    "    return scores.mean()\n",
    "    \n",
    "rf_study = optuna.create_study(direction='maximize')\n",
    "rf_study.optimize(rf_objective, n_trials=20)"
   ]
  },
  {
   "cell_type": "markdown",
   "metadata": {},
   "source": [
    "### CatBoost"
   ]
  },
  {
   "cell_type": "code",
   "execution_count": 19,
   "metadata": {},
   "outputs": [],
   "source": [
    "text_features = ['lemm_text']\n",
    "target = ['toxic']"
   ]
  },
  {
   "cell_type": "code",
   "execution_count": 20,
   "metadata": {},
   "outputs": [
    {
     "name": "stdout",
     "output_type": "stream",
     "text": [
      "0:\tlearn: 0.6159396\ttotal: 553ms\tremaining: 54.8s\n",
      "3:\tlearn: 0.4564500\ttotal: 2.04s\tremaining: 48.9s\n",
      "6:\tlearn: 0.3575629\ttotal: 3.56s\tremaining: 47.4s\n",
      "9:\tlearn: 0.2927847\ttotal: 5.05s\tremaining: 45.4s\n",
      "12:\tlearn: 0.2480202\ttotal: 6.62s\tremaining: 44.3s\n",
      "15:\tlearn: 0.2176676\ttotal: 8.15s\tremaining: 42.8s\n",
      "18:\tlearn: 0.1962040\ttotal: 9.68s\tremaining: 41.3s\n",
      "21:\tlearn: 0.1809509\ttotal: 11.3s\tremaining: 39.9s\n",
      "24:\tlearn: 0.1700712\ttotal: 12.8s\tremaining: 38.5s\n",
      "27:\tlearn: 0.1623313\ttotal: 14.4s\tremaining: 36.9s\n",
      "30:\tlearn: 0.1563113\ttotal: 15.9s\tremaining: 35.3s\n",
      "33:\tlearn: 0.1522182\ttotal: 17.4s\tremaining: 33.7s\n",
      "36:\tlearn: 0.1492489\ttotal: 18.8s\tremaining: 32.1s\n",
      "39:\tlearn: 0.1460756\ttotal: 20.5s\tremaining: 30.7s\n",
      "42:\tlearn: 0.1443691\ttotal: 21.9s\tremaining: 29s\n",
      "45:\tlearn: 0.1423913\ttotal: 23.4s\tremaining: 27.4s\n",
      "48:\tlearn: 0.1409398\ttotal: 24.8s\tremaining: 25.9s\n",
      "51:\tlearn: 0.1398265\ttotal: 26.4s\tremaining: 24.3s\n",
      "54:\tlearn: 0.1385840\ttotal: 27.9s\tremaining: 22.9s\n",
      "57:\tlearn: 0.1375166\ttotal: 29.5s\tremaining: 21.4s\n",
      "60:\tlearn: 0.1367327\ttotal: 31s\tremaining: 19.8s\n",
      "63:\tlearn: 0.1358093\ttotal: 32.6s\tremaining: 18.3s\n",
      "66:\tlearn: 0.1351380\ttotal: 34s\tremaining: 16.8s\n",
      "69:\tlearn: 0.1345269\ttotal: 35.5s\tremaining: 15.2s\n",
      "72:\tlearn: 0.1337972\ttotal: 37s\tremaining: 13.7s\n",
      "75:\tlearn: 0.1331947\ttotal: 38.5s\tremaining: 12.1s\n",
      "78:\tlearn: 0.1327139\ttotal: 39.9s\tremaining: 10.6s\n",
      "81:\tlearn: 0.1320749\ttotal: 41.5s\tremaining: 9.1s\n",
      "84:\tlearn: 0.1315236\ttotal: 43s\tremaining: 7.58s\n",
      "87:\tlearn: 0.1307159\ttotal: 44.6s\tremaining: 6.08s\n",
      "90:\tlearn: 0.1302767\ttotal: 46.1s\tremaining: 4.56s\n",
      "93:\tlearn: 0.1298397\ttotal: 47.6s\tremaining: 3.04s\n",
      "96:\tlearn: 0.1291950\ttotal: 49.2s\tremaining: 1.52s\n",
      "99:\tlearn: 0.1286215\ttotal: 50.8s\tremaining: 0us\n",
      "0:\tlearn: 0.6159484\ttotal: 490ms\tremaining: 48.5s\n",
      "3:\tlearn: 0.4552681\ttotal: 1.93s\tremaining: 46.4s\n",
      "6:\tlearn: 0.3560014\ttotal: 3.49s\tremaining: 46.3s\n",
      "9:\tlearn: 0.2918532\ttotal: 4.98s\tremaining: 44.9s\n",
      "12:\tlearn: 0.2474544\ttotal: 6.54s\tremaining: 43.8s\n",
      "15:\tlearn: 0.2170576\ttotal: 8.05s\tremaining: 42.3s\n",
      "18:\tlearn: 0.1953738\ttotal: 9.64s\tremaining: 41.1s\n",
      "21:\tlearn: 0.1798560\ttotal: 11.2s\tremaining: 39.6s\n",
      "24:\tlearn: 0.1689184\ttotal: 12.7s\tremaining: 38.2s\n",
      "27:\tlearn: 0.1613762\ttotal: 14.3s\tremaining: 36.7s\n",
      "30:\tlearn: 0.1559327\ttotal: 15.8s\tremaining: 35.3s\n",
      "33:\tlearn: 0.1517229\ttotal: 17.4s\tremaining: 33.8s\n",
      "36:\tlearn: 0.1488180\ttotal: 18.9s\tremaining: 32.2s\n",
      "39:\tlearn: 0.1458642\ttotal: 20.6s\tremaining: 30.9s\n",
      "42:\tlearn: 0.1438957\ttotal: 22.1s\tremaining: 29.3s\n",
      "45:\tlearn: 0.1420138\ttotal: 23.7s\tremaining: 27.8s\n",
      "48:\tlearn: 0.1405969\ttotal: 25.2s\tremaining: 26.3s\n",
      "51:\tlearn: 0.1394187\ttotal: 26.8s\tremaining: 24.7s\n",
      "54:\tlearn: 0.1381283\ttotal: 28.4s\tremaining: 23.2s\n",
      "57:\tlearn: 0.1373089\ttotal: 30s\tremaining: 21.7s\n",
      "60:\tlearn: 0.1365292\ttotal: 31.5s\tremaining: 20.1s\n",
      "63:\tlearn: 0.1358360\ttotal: 33s\tremaining: 18.6s\n",
      "66:\tlearn: 0.1350464\ttotal: 34.5s\tremaining: 17s\n",
      "69:\tlearn: 0.1343284\ttotal: 36s\tremaining: 15.4s\n",
      "72:\tlearn: 0.1335653\ttotal: 37.6s\tremaining: 13.9s\n",
      "75:\tlearn: 0.1328430\ttotal: 39.2s\tremaining: 12.4s\n",
      "78:\tlearn: 0.1322364\ttotal: 40.8s\tremaining: 10.8s\n",
      "81:\tlearn: 0.1314335\ttotal: 42.4s\tremaining: 9.3s\n",
      "84:\tlearn: 0.1305800\ttotal: 44s\tremaining: 7.76s\n",
      "87:\tlearn: 0.1301102\ttotal: 45.5s\tremaining: 6.21s\n",
      "90:\tlearn: 0.1297211\ttotal: 47s\tremaining: 4.64s\n",
      "93:\tlearn: 0.1291978\ttotal: 48.5s\tremaining: 3.1s\n",
      "96:\tlearn: 0.1285613\ttotal: 50.1s\tremaining: 1.55s\n",
      "99:\tlearn: 0.1281045\ttotal: 51.7s\tremaining: 0us\n",
      "0:\tlearn: 0.6159305\ttotal: 498ms\tremaining: 49.3s\n",
      "3:\tlearn: 0.4546825\ttotal: 2.02s\tremaining: 48.4s\n",
      "6:\tlearn: 0.3559994\ttotal: 3.56s\tremaining: 47.3s\n",
      "9:\tlearn: 0.2920126\ttotal: 5.18s\tremaining: 46.6s\n",
      "12:\tlearn: 0.2478037\ttotal: 6.71s\tremaining: 44.9s\n",
      "15:\tlearn: 0.2169044\ttotal: 8.27s\tremaining: 43.4s\n",
      "18:\tlearn: 0.1954685\ttotal: 9.86s\tremaining: 42s\n",
      "21:\tlearn: 0.1798120\ttotal: 11.4s\tremaining: 40.5s\n",
      "24:\tlearn: 0.1690812\ttotal: 13.1s\tremaining: 39.2s\n",
      "27:\tlearn: 0.1615162\ttotal: 14.6s\tremaining: 37.6s\n",
      "30:\tlearn: 0.1558744\ttotal: 16.2s\tremaining: 36s\n",
      "33:\tlearn: 0.1516834\ttotal: 17.8s\tremaining: 34.5s\n",
      "36:\tlearn: 0.1485235\ttotal: 19.3s\tremaining: 32.9s\n",
      "39:\tlearn: 0.1458372\ttotal: 20.9s\tremaining: 31.4s\n",
      "42:\tlearn: 0.1441820\ttotal: 22.4s\tremaining: 29.7s\n",
      "45:\tlearn: 0.1423765\ttotal: 24s\tremaining: 28.2s\n",
      "48:\tlearn: 0.1406399\ttotal: 25.7s\tremaining: 26.7s\n",
      "51:\tlearn: 0.1394014\ttotal: 27.1s\tremaining: 25s\n",
      "54:\tlearn: 0.1382925\ttotal: 28.6s\tremaining: 23.4s\n",
      "57:\tlearn: 0.1372961\ttotal: 30.2s\tremaining: 21.9s\n",
      "60:\tlearn: 0.1365537\ttotal: 31.6s\tremaining: 20.2s\n",
      "63:\tlearn: 0.1358195\ttotal: 33.1s\tremaining: 18.6s\n",
      "66:\tlearn: 0.1352191\ttotal: 34.6s\tremaining: 17s\n",
      "69:\tlearn: 0.1344202\ttotal: 36.1s\tremaining: 15.5s\n",
      "72:\tlearn: 0.1334899\ttotal: 37.8s\tremaining: 14s\n",
      "75:\tlearn: 0.1328804\ttotal: 39.4s\tremaining: 12.4s\n",
      "78:\tlearn: 0.1320684\ttotal: 41.1s\tremaining: 10.9s\n",
      "81:\tlearn: 0.1312398\ttotal: 42.7s\tremaining: 9.38s\n",
      "84:\tlearn: 0.1307566\ttotal: 44.2s\tremaining: 7.8s\n",
      "87:\tlearn: 0.1300877\ttotal: 45.8s\tremaining: 6.25s\n",
      "90:\tlearn: 0.1296668\ttotal: 47.3s\tremaining: 4.68s\n",
      "93:\tlearn: 0.1292034\ttotal: 48.9s\tremaining: 3.12s\n",
      "96:\tlearn: 0.1285720\ttotal: 50.5s\tremaining: 1.56s\n",
      "99:\tlearn: 0.1280561\ttotal: 52.1s\tremaining: 0us\n",
      "0:\tlearn: 0.6158364\ttotal: 483ms\tremaining: 47.8s\n",
      "3:\tlearn: 0.4561042\ttotal: 1.94s\tremaining: 46.5s\n",
      "6:\tlearn: 0.3564224\ttotal: 3.46s\tremaining: 46s\n",
      "9:\tlearn: 0.2914027\ttotal: 4.99s\tremaining: 44.9s\n",
      "12:\tlearn: 0.2474471\ttotal: 6.51s\tremaining: 43.6s\n",
      "15:\tlearn: 0.2168111\ttotal: 8.09s\tremaining: 42.4s\n",
      "18:\tlearn: 0.1948340\ttotal: 9.6s\tremaining: 40.9s\n",
      "21:\tlearn: 0.1799649\ttotal: 11.2s\tremaining: 39.7s\n",
      "24:\tlearn: 0.1684614\ttotal: 12.8s\tremaining: 38.3s\n",
      "27:\tlearn: 0.1605774\ttotal: 14.3s\tremaining: 36.8s\n",
      "30:\tlearn: 0.1550646\ttotal: 15.9s\tremaining: 35.4s\n",
      "33:\tlearn: 0.1506395\ttotal: 17.5s\tremaining: 34s\n",
      "36:\tlearn: 0.1476971\ttotal: 19.1s\tremaining: 32.5s\n",
      "39:\tlearn: 0.1450161\ttotal: 20.7s\tremaining: 31.1s\n",
      "42:\tlearn: 0.1431136\ttotal: 22.3s\tremaining: 29.6s\n",
      "45:\tlearn: 0.1413854\ttotal: 23.9s\tremaining: 28.1s\n",
      "48:\tlearn: 0.1400179\ttotal: 25.5s\tremaining: 26.6s\n",
      "51:\tlearn: 0.1386607\ttotal: 27.2s\tremaining: 25.1s\n",
      "54:\tlearn: 0.1375818\ttotal: 28.8s\tremaining: 23.5s\n",
      "57:\tlearn: 0.1365177\ttotal: 30.3s\tremaining: 22s\n",
      "60:\tlearn: 0.1355584\ttotal: 31.8s\tremaining: 20.3s\n",
      "63:\tlearn: 0.1348786\ttotal: 33.3s\tremaining: 18.7s\n",
      "66:\tlearn: 0.1342792\ttotal: 34.8s\tremaining: 17.1s\n",
      "69:\tlearn: 0.1336191\ttotal: 36.3s\tremaining: 15.6s\n",
      "72:\tlearn: 0.1326794\ttotal: 38s\tremaining: 14s\n",
      "75:\tlearn: 0.1321429\ttotal: 39.5s\tremaining: 12.5s\n",
      "78:\tlearn: 0.1316600\ttotal: 41s\tremaining: 10.9s\n",
      "81:\tlearn: 0.1309881\ttotal: 42.5s\tremaining: 9.32s\n",
      "84:\tlearn: 0.1304784\ttotal: 44s\tremaining: 7.76s\n",
      "87:\tlearn: 0.1299097\ttotal: 45.5s\tremaining: 6.2s\n",
      "90:\tlearn: 0.1292919\ttotal: 47.1s\tremaining: 4.66s\n",
      "93:\tlearn: 0.1286946\ttotal: 48.6s\tremaining: 3.1s\n",
      "96:\tlearn: 0.1281804\ttotal: 50.2s\tremaining: 1.55s\n",
      "99:\tlearn: 0.1276122\ttotal: 51.8s\tremaining: 0us\n",
      "0:\tlearn: 0.6156856\ttotal: 500ms\tremaining: 49.5s\n",
      "3:\tlearn: 0.4557512\ttotal: 2.09s\tremaining: 50.2s\n",
      "6:\tlearn: 0.3552557\ttotal: 3.66s\tremaining: 48.6s\n",
      "9:\tlearn: 0.2904046\ttotal: 5.28s\tremaining: 47.6s\n",
      "12:\tlearn: 0.2465176\ttotal: 6.83s\tremaining: 45.7s\n",
      "15:\tlearn: 0.2155889\ttotal: 8.33s\tremaining: 43.7s\n",
      "18:\tlearn: 0.1935589\ttotal: 9.88s\tremaining: 42.1s\n",
      "21:\tlearn: 0.1781168\ttotal: 11.5s\tremaining: 40.9s\n",
      "24:\tlearn: 0.1671160\ttotal: 13.1s\tremaining: 39.2s\n",
      "27:\tlearn: 0.1591809\ttotal: 14.6s\tremaining: 37.6s\n",
      "30:\tlearn: 0.1534503\ttotal: 16.2s\tremaining: 36.1s\n",
      "33:\tlearn: 0.1492799\ttotal: 17.7s\tremaining: 34.4s\n",
      "36:\tlearn: 0.1462996\ttotal: 19.3s\tremaining: 32.8s\n",
      "39:\tlearn: 0.1435160\ttotal: 20.9s\tremaining: 31.4s\n",
      "42:\tlearn: 0.1415190\ttotal: 22.5s\tremaining: 29.8s\n",
      "45:\tlearn: 0.1398991\ttotal: 24s\tremaining: 28.1s\n",
      "48:\tlearn: 0.1385984\ttotal: 25.5s\tremaining: 26.6s\n",
      "51:\tlearn: 0.1369870\ttotal: 27.2s\tremaining: 25.1s\n",
      "54:\tlearn: 0.1360135\ttotal: 28.7s\tremaining: 23.5s\n",
      "57:\tlearn: 0.1351592\ttotal: 30.1s\tremaining: 21.8s\n",
      "60:\tlearn: 0.1340911\ttotal: 31.7s\tremaining: 20.3s\n",
      "63:\tlearn: 0.1332678\ttotal: 33.2s\tremaining: 18.7s\n",
      "66:\tlearn: 0.1323718\ttotal: 34.7s\tremaining: 17.1s\n",
      "69:\tlearn: 0.1315710\ttotal: 36.3s\tremaining: 15.6s\n",
      "72:\tlearn: 0.1309777\ttotal: 37.9s\tremaining: 14s\n",
      "75:\tlearn: 0.1304315\ttotal: 39.4s\tremaining: 12.5s\n",
      "78:\tlearn: 0.1298194\ttotal: 41s\tremaining: 10.9s\n",
      "81:\tlearn: 0.1292002\ttotal: 42.5s\tremaining: 9.34s\n",
      "84:\tlearn: 0.1284608\ttotal: 44.1s\tremaining: 7.78s\n",
      "87:\tlearn: 0.1278801\ttotal: 45.7s\tremaining: 6.24s\n",
      "90:\tlearn: 0.1273908\ttotal: 47.3s\tremaining: 4.68s\n",
      "93:\tlearn: 0.1268447\ttotal: 48.9s\tremaining: 3.12s\n",
      "96:\tlearn: 0.1264081\ttotal: 50.4s\tremaining: 1.56s\n",
      "99:\tlearn: 0.1258359\ttotal: 51.9s\tremaining: 0us\n"
     ]
    }
   ],
   "source": [
    "features_train_cb, target_train_cb = features_train.copy(), target_train.copy()\n",
    "catboost = CatBoostClassifier(iterations=100, learning_rate=0.1, text_features=text_features, verbose=3)\n",
    "cv_cb= cross_validate(catboost, pd.DataFrame(features_train)[text_features], pd.DataFrame(target_train)[target], scoring='f1')"
   ]
  },
  {
   "cell_type": "code",
   "execution_count": 21,
   "metadata": {
    "scrolled": true
   },
   "outputs": [
    {
     "data": {
      "text/html": [
       "<div>\n",
       "<style scoped>\n",
       "    .dataframe tbody tr th:only-of-type {\n",
       "        vertical-align: middle;\n",
       "    }\n",
       "\n",
       "    .dataframe tbody tr th {\n",
       "        vertical-align: top;\n",
       "    }\n",
       "\n",
       "    .dataframe thead th {\n",
       "        text-align: right;\n",
       "    }\n",
       "</style>\n",
       "<table border=\"1\" class=\"dataframe\">\n",
       "  <thead>\n",
       "    <tr style=\"text-align: right;\">\n",
       "      <th></th>\n",
       "      <th>Качество модели RMSE</th>\n",
       "    </tr>\n",
       "  </thead>\n",
       "  <tbody>\n",
       "    <tr>\n",
       "      <th>Логистическая регрессия</th>\n",
       "      <td>0.764534</td>\n",
       "    </tr>\n",
       "    <tr>\n",
       "      <th>Случайный лес</th>\n",
       "      <td>0.429311</td>\n",
       "    </tr>\n",
       "    <tr>\n",
       "      <th>CatBoost</th>\n",
       "      <td>0.763531</td>\n",
       "    </tr>\n",
       "  </tbody>\n",
       "</table>\n",
       "</div>"
      ],
      "text/plain": [
       "                         Качество модели RMSE\n",
       "Логистическая регрессия              0.764534\n",
       "Случайный лес                        0.429311\n",
       "CatBoost                             0.763531"
      ]
     },
     "execution_count": 21,
     "metadata": {},
     "output_type": "execute_result"
    }
   ],
   "source": [
    "pd.DataFrame({'Качество модели RMSE':[random_search_lr.best_score_,rf_study.best_value,cv_cb['test_score'].mean()]},\n",
    "            index=['Логистическая регрессия', 'Случайный лес', 'CatBoost'])"
   ]
  },
  {
   "cell_type": "markdown",
   "metadata": {},
   "source": [
    "## Выводы"
   ]
  },
  {
   "cell_type": "code",
   "execution_count": 22,
   "metadata": {},
   "outputs": [
    {
     "data": {
      "text/plain": [
       "0.7676975945017183"
      ]
     },
     "execution_count": 22,
     "metadata": {},
     "output_type": "execute_result"
    }
   ],
   "source": [
    "f1_score(target_test, model_lr.predict(features_test))"
   ]
  },
  {
   "cell_type": "code",
   "execution_count": 23,
   "metadata": {},
   "outputs": [
    {
     "name": "stdout",
     "output_type": "stream",
     "text": [
      "0:\tlearn: 0.6148155\ttotal: 547ms\tremaining: 54.2s\n",
      "3:\tlearn: 0.4535447\ttotal: 2.22s\tremaining: 53.2s\n",
      "6:\tlearn: 0.3556785\ttotal: 3.91s\tremaining: 51.9s\n",
      "9:\tlearn: 0.2899937\ttotal: 5.61s\tremaining: 50.5s\n",
      "12:\tlearn: 0.2456422\ttotal: 7.37s\tremaining: 49.3s\n",
      "15:\tlearn: 0.2146704\ttotal: 9.05s\tremaining: 47.5s\n",
      "18:\tlearn: 0.1931291\ttotal: 10.8s\tremaining: 46s\n",
      "21:\tlearn: 0.1781687\ttotal: 12.5s\tremaining: 44.2s\n",
      "24:\tlearn: 0.1672260\ttotal: 14.2s\tremaining: 42.6s\n",
      "27:\tlearn: 0.1593998\ttotal: 15.8s\tremaining: 40.8s\n",
      "30:\tlearn: 0.1534622\ttotal: 17.6s\tremaining: 39.3s\n",
      "33:\tlearn: 0.1498465\ttotal: 19.3s\tremaining: 37.5s\n",
      "36:\tlearn: 0.1466329\ttotal: 21s\tremaining: 35.8s\n",
      "39:\tlearn: 0.1438729\ttotal: 22.7s\tremaining: 34.1s\n",
      "42:\tlearn: 0.1420788\ttotal: 24.4s\tremaining: 32.3s\n",
      "45:\tlearn: 0.1405050\ttotal: 26s\tremaining: 30.5s\n",
      "48:\tlearn: 0.1388392\ttotal: 27.8s\tremaining: 28.9s\n",
      "51:\tlearn: 0.1376610\ttotal: 29.5s\tremaining: 27.2s\n",
      "54:\tlearn: 0.1368031\ttotal: 31.1s\tremaining: 25.5s\n",
      "57:\tlearn: 0.1354899\ttotal: 33s\tremaining: 23.9s\n",
      "60:\tlearn: 0.1343780\ttotal: 34.7s\tremaining: 22.2s\n",
      "63:\tlearn: 0.1335201\ttotal: 36.5s\tremaining: 20.5s\n",
      "66:\tlearn: 0.1326848\ttotal: 38.2s\tremaining: 18.8s\n",
      "69:\tlearn: 0.1318791\ttotal: 40.1s\tremaining: 17.2s\n",
      "72:\tlearn: 0.1313205\ttotal: 41.8s\tremaining: 15.4s\n",
      "75:\tlearn: 0.1306610\ttotal: 43.5s\tremaining: 13.7s\n",
      "78:\tlearn: 0.1301473\ttotal: 45.2s\tremaining: 12s\n",
      "81:\tlearn: 0.1296133\ttotal: 46.9s\tremaining: 10.3s\n",
      "84:\tlearn: 0.1289752\ttotal: 48.7s\tremaining: 8.59s\n",
      "87:\tlearn: 0.1285238\ttotal: 50.5s\tremaining: 6.89s\n",
      "90:\tlearn: 0.1280186\ttotal: 52.2s\tremaining: 5.16s\n",
      "93:\tlearn: 0.1275312\ttotal: 53.9s\tremaining: 3.44s\n",
      "96:\tlearn: 0.1270605\ttotal: 55.7s\tremaining: 1.72s\n",
      "99:\tlearn: 0.1266212\ttotal: 57.5s\tremaining: 0us\n"
     ]
    },
    {
     "data": {
      "text/plain": [
       "0.7624965479149407"
      ]
     },
     "execution_count": 23,
     "metadata": {},
     "output_type": "execute_result"
    }
   ],
   "source": [
    "cb = CatBoostClassifier(iterations=100, learning_rate=0.1, text_features=text_features, verbose=3).fit(pd.DataFrame(features_train)[text_features], pd.DataFrame(target_train)[target])\n",
    "f1_score(target_test, cb.predict(pd.DataFrame(features_test)[text_features]))"
   ]
  },
  {
   "cell_type": "code",
   "execution_count": null,
   "metadata": {},
   "outputs": [],
   "source": []
  },
  {
   "cell_type": "markdown",
   "metadata": {},
   "source": [
    "<b>Выводы</b>:\n",
    "   - В данной работе проведена обработка тескта(леммитилизация и чистка текста)\n",
    "   - Выбран способ балансирвоания классов \n",
    "   - Исходные данные обладают большим количеством признаков. Обучены модели Логистическая регрессия, Случайный лес, CatBoost. На основе кросс валидации лучшей моделью оказались Логистическая регрессия и catboost с показателем метрbrb f1=0.76 . у модель Случайный лес F1=0.44\n",
    "\n",
    "На тестовой выборке метрике F1 равна 0.76 как для Логистической Регресии , так и для catboost"
   ]
  },
  {
   "cell_type": "code",
   "execution_count": null,
   "metadata": {},
   "outputs": [],
   "source": []
  }
 ],
 "metadata": {
  "ExecuteTimeLog": [
   {
    "duration": 1156,
    "start_time": "2023-04-03T21:45:02.291Z"
   },
   {
    "duration": 2552,
    "start_time": "2023-04-03T21:45:13.467Z"
   },
   {
    "duration": 5,
    "start_time": "2023-04-03T21:45:23.508Z"
   },
   {
    "duration": 48432,
    "start_time": "2023-04-03T21:45:32.116Z"
   },
   {
    "duration": 3614,
    "start_time": "2023-04-03T21:48:31.762Z"
   },
   {
    "duration": 17,
    "start_time": "2023-04-03T21:49:39.748Z"
   },
   {
    "duration": 12,
    "start_time": "2023-04-03T21:49:53.915Z"
   },
   {
    "duration": 3765,
    "start_time": "2023-04-03T21:50:12.669Z"
   },
   {
    "duration": 10,
    "start_time": "2023-04-03T21:50:25.163Z"
   },
   {
    "duration": 0,
    "start_time": "2023-04-03T23:06:51.458Z"
   },
   {
    "duration": 0,
    "start_time": "2023-04-03T23:06:51.459Z"
   },
   {
    "duration": 3,
    "start_time": "2023-04-03T23:06:53.066Z"
   },
   {
    "duration": 2250,
    "start_time": "2023-04-03T23:06:53.962Z"
   },
   {
    "duration": 5,
    "start_time": "2023-04-03T23:06:57.042Z"
   },
   {
    "duration": 448,
    "start_time": "2023-04-03T23:06:59.746Z"
   },
   {
    "duration": 435,
    "start_time": "2023-04-03T23:07:28.451Z"
   },
   {
    "duration": 4,
    "start_time": "2023-04-03T23:08:09.181Z"
   },
   {
    "duration": 70060,
    "start_time": "2023-04-03T23:08:10.020Z"
   },
   {
    "duration": 9,
    "start_time": "2023-04-03T23:09:24.638Z"
   },
   {
    "duration": 62,
    "start_time": "2023-04-03T23:13:53.858Z"
   },
   {
    "duration": 52,
    "start_time": "2023-04-03T23:14:20.274Z"
   },
   {
    "duration": 14,
    "start_time": "2023-04-03T23:14:26.089Z"
   },
   {
    "duration": 3,
    "start_time": "2023-04-03T23:14:32.105Z"
   },
   {
    "duration": 2019,
    "start_time": "2023-04-03T23:14:32.569Z"
   },
   {
    "duration": 39,
    "start_time": "2023-04-03T23:14:34.590Z"
   },
   {
    "duration": 38,
    "start_time": "2023-04-03T23:14:42.842Z"
   },
   {
    "duration": 18,
    "start_time": "2023-04-03T23:14:50.258Z"
   },
   {
    "duration": 37,
    "start_time": "2023-04-03T23:14:50.722Z"
   },
   {
    "duration": 8,
    "start_time": "2023-04-03T23:15:06.770Z"
   },
   {
    "duration": 37,
    "start_time": "2023-04-03T23:15:07.891Z"
   },
   {
    "duration": 19,
    "start_time": "2023-04-03T23:15:12.867Z"
   },
   {
    "duration": 4,
    "start_time": "2023-04-03T23:15:17.627Z"
   },
   {
    "duration": 1811,
    "start_time": "2023-04-03T23:15:17.900Z"
   },
   {
    "duration": 9,
    "start_time": "2023-04-03T23:15:19.713Z"
   },
   {
    "duration": 52,
    "start_time": "2023-04-03T23:15:19.724Z"
   },
   {
    "duration": 15,
    "start_time": "2023-04-03T23:15:19.779Z"
   },
   {
    "duration": 54,
    "start_time": "2023-04-03T23:15:19.797Z"
   },
   {
    "duration": 13,
    "start_time": "2023-04-03T23:16:13.149Z"
   },
   {
    "duration": 4,
    "start_time": "2023-04-03T23:16:26.501Z"
   },
   {
    "duration": 1784,
    "start_time": "2023-04-03T23:16:26.869Z"
   },
   {
    "duration": 8,
    "start_time": "2023-04-03T23:16:28.655Z"
   },
   {
    "duration": 46,
    "start_time": "2023-04-03T23:16:28.665Z"
   },
   {
    "duration": 13,
    "start_time": "2023-04-03T23:16:28.713Z"
   },
   {
    "duration": 2,
    "start_time": "2023-04-03T23:16:47.254Z"
   },
   {
    "duration": 1039,
    "start_time": "2023-04-03T23:19:49.101Z"
   },
   {
    "duration": 2098,
    "start_time": "2023-04-03T23:19:50.143Z"
   },
   {
    "duration": 15,
    "start_time": "2023-04-03T23:19:52.243Z"
   },
   {
    "duration": 51,
    "start_time": "2023-04-03T23:19:52.260Z"
   },
   {
    "duration": 27,
    "start_time": "2023-04-03T23:19:52.314Z"
   },
   {
    "duration": 13,
    "start_time": "2023-04-03T23:19:52.344Z"
   },
   {
    "duration": 1102,
    "start_time": "2023-04-03T23:21:14.540Z"
   },
   {
    "duration": 1734,
    "start_time": "2023-04-03T23:21:15.645Z"
   },
   {
    "duration": 15,
    "start_time": "2023-04-03T23:21:17.380Z"
   },
   {
    "duration": 49,
    "start_time": "2023-04-03T23:21:17.397Z"
   },
   {
    "duration": 13,
    "start_time": "2023-04-03T23:21:17.449Z"
   },
   {
    "duration": 21,
    "start_time": "2023-04-03T23:21:17.464Z"
   },
   {
    "duration": 53,
    "start_time": "2023-04-03T23:23:40.445Z"
   },
   {
    "duration": 1092,
    "start_time": "2023-04-03T23:23:44.275Z"
   },
   {
    "duration": 1772,
    "start_time": "2023-04-03T23:23:45.369Z"
   },
   {
    "duration": 15,
    "start_time": "2023-04-03T23:23:47.143Z"
   },
   {
    "duration": 40,
    "start_time": "2023-04-03T23:23:47.160Z"
   },
   {
    "duration": 14,
    "start_time": "2023-04-03T23:23:47.202Z"
   },
   {
    "duration": 109,
    "start_time": "2023-04-03T23:23:47.242Z"
   },
   {
    "duration": 1118,
    "start_time": "2023-04-03T23:23:58.049Z"
   },
   {
    "duration": 59133,
    "start_time": "2023-04-03T23:26:41.295Z"
   },
   {
    "duration": 68295,
    "start_time": "2023-04-03T23:28:12.665Z"
   },
   {
    "duration": 8,
    "start_time": "2023-04-03T23:29:40.884Z"
   },
   {
    "duration": 8,
    "start_time": "2023-04-03T23:33:37.163Z"
   },
   {
    "duration": 277,
    "start_time": "2023-04-03T23:33:37.819Z"
   },
   {
    "duration": 11569,
    "start_time": "2023-04-03T23:35:38.072Z"
   },
   {
    "duration": 1098,
    "start_time": "2023-04-03T23:36:05.642Z"
   },
   {
    "duration": 2057,
    "start_time": "2023-04-03T23:36:06.742Z"
   },
   {
    "duration": 13,
    "start_time": "2023-04-03T23:36:08.800Z"
   },
   {
    "duration": 47,
    "start_time": "2023-04-03T23:36:08.815Z"
   },
   {
    "duration": 13,
    "start_time": "2023-04-03T23:36:08.864Z"
   },
   {
    "duration": 68675,
    "start_time": "2023-04-03T23:36:08.878Z"
   },
   {
    "duration": 8,
    "start_time": "2023-04-03T23:37:17.555Z"
   },
   {
    "duration": 287,
    "start_time": "2023-04-03T23:37:17.565Z"
   },
   {
    "duration": 14970,
    "start_time": "2023-04-03T23:37:17.854Z"
   },
   {
    "duration": 3,
    "start_time": "2023-04-03T23:41:40.424Z"
   },
   {
    "duration": 3,
    "start_time": "2023-04-03T23:46:06.080Z"
   },
   {
    "duration": 94881,
    "start_time": "2023-04-03T23:46:06.896Z"
   },
   {
    "duration": 1001,
    "start_time": "2023-04-03T23:50:33.998Z"
   },
   {
    "duration": 2879,
    "start_time": "2023-04-03T23:50:35.001Z"
   },
   {
    "duration": 14,
    "start_time": "2023-04-03T23:50:37.882Z"
   },
   {
    "duration": 49,
    "start_time": "2023-04-03T23:50:37.897Z"
   },
   {
    "duration": 13,
    "start_time": "2023-04-03T23:50:37.949Z"
   },
   {
    "duration": 1315,
    "start_time": "2023-04-04T05:17:44.407Z"
   },
   {
    "duration": 2041,
    "start_time": "2023-04-04T05:17:45.725Z"
   },
   {
    "duration": 15,
    "start_time": "2023-04-04T05:17:47.768Z"
   },
   {
    "duration": 55,
    "start_time": "2023-04-04T05:17:47.785Z"
   },
   {
    "duration": 10,
    "start_time": "2023-04-04T05:17:47.843Z"
   },
   {
    "duration": 71991,
    "start_time": "2023-04-04T05:17:47.855Z"
   },
   {
    "duration": 7,
    "start_time": "2023-04-04T05:18:59.848Z"
   },
   {
    "duration": 768,
    "start_time": "2023-04-04T05:18:59.856Z"
   },
   {
    "duration": 14487,
    "start_time": "2023-04-04T05:19:00.625Z"
   },
   {
    "duration": 2,
    "start_time": "2023-04-04T05:19:15.117Z"
   },
   {
    "duration": 8,
    "start_time": "2023-04-04T05:19:15.121Z"
   },
   {
    "duration": 559342,
    "start_time": "2023-04-04T05:19:15.131Z"
   },
   {
    "duration": 1124,
    "start_time": "2023-04-04T05:29:17.080Z"
   },
   {
    "duration": 1975,
    "start_time": "2023-04-04T05:29:18.206Z"
   },
   {
    "duration": 15,
    "start_time": "2023-04-04T05:29:20.182Z"
   },
   {
    "duration": 45,
    "start_time": "2023-04-04T05:29:20.200Z"
   },
   {
    "duration": 15,
    "start_time": "2023-04-04T05:29:20.246Z"
   },
   {
    "duration": 76084,
    "start_time": "2023-04-04T05:29:20.262Z"
   },
   {
    "duration": 8,
    "start_time": "2023-04-04T05:30:36.348Z"
   },
   {
    "duration": 768,
    "start_time": "2023-04-04T05:30:36.358Z"
   },
   {
    "duration": 15353,
    "start_time": "2023-04-04T05:30:37.129Z"
   },
   {
    "duration": 4,
    "start_time": "2023-04-04T05:30:52.485Z"
   },
   {
    "duration": 16,
    "start_time": "2023-04-04T05:30:52.491Z"
   },
   {
    "duration": 578940,
    "start_time": "2023-04-04T05:30:52.510Z"
   },
   {
    "duration": 1107,
    "start_time": "2023-04-04T06:41:18.171Z"
   },
   {
    "duration": 1752,
    "start_time": "2023-04-04T06:41:19.280Z"
   },
   {
    "duration": 15,
    "start_time": "2023-04-04T06:41:21.034Z"
   },
   {
    "duration": 41,
    "start_time": "2023-04-04T06:41:21.051Z"
   },
   {
    "duration": 13,
    "start_time": "2023-04-04T06:41:21.093Z"
   },
   {
    "duration": 80330,
    "start_time": "2023-04-04T06:41:21.108Z"
   },
   {
    "duration": 8,
    "start_time": "2023-04-04T06:42:41.440Z"
   },
   {
    "duration": 1144,
    "start_time": "2023-04-04T06:42:41.449Z"
   },
   {
    "duration": 14891,
    "start_time": "2023-04-04T06:42:42.596Z"
   },
   {
    "duration": 3,
    "start_time": "2023-04-04T06:42:57.489Z"
   },
   {
    "duration": 14,
    "start_time": "2023-04-04T06:42:57.494Z"
   },
   {
    "duration": 77,
    "start_time": "2023-04-04T06:42:57.510Z"
   },
   {
    "duration": 0,
    "start_time": "2023-04-04T06:42:57.588Z"
   },
   {
    "duration": 0,
    "start_time": "2023-04-04T06:42:57.589Z"
   },
   {
    "duration": 533,
    "start_time": "2023-04-04T06:43:08.933Z"
   },
   {
    "duration": 31205,
    "start_time": "2023-04-04T06:43:25.721Z"
   },
   {
    "duration": 1074,
    "start_time": "2023-04-04T06:51:28.368Z"
   },
   {
    "duration": 1879,
    "start_time": "2023-04-04T06:51:29.444Z"
   },
   {
    "duration": 14,
    "start_time": "2023-04-04T06:51:31.325Z"
   },
   {
    "duration": 62,
    "start_time": "2023-04-04T06:51:31.341Z"
   },
   {
    "duration": 37,
    "start_time": "2023-04-04T06:51:31.404Z"
   },
   {
    "duration": 72869,
    "start_time": "2023-04-04T06:51:31.443Z"
   },
   {
    "duration": 8,
    "start_time": "2023-04-04T06:52:44.315Z"
   },
   {
    "duration": 261,
    "start_time": "2023-04-04T06:52:44.324Z"
   },
   {
    "duration": 3,
    "start_time": "2023-04-04T06:52:44.587Z"
   },
   {
    "duration": 24,
    "start_time": "2023-04-04T06:52:44.593Z"
   },
   {
    "duration": 12,
    "start_time": "2023-04-04T06:52:44.619Z"
   },
   {
    "duration": 48,
    "start_time": "2023-04-04T06:52:44.633Z"
   },
   {
    "duration": 7009,
    "start_time": "2023-04-04T06:52:44.682Z"
   },
   {
    "duration": 7,
    "start_time": "2023-04-04T06:52:51.693Z"
   },
   {
    "duration": 129,
    "start_time": "2023-04-04T06:53:50.180Z"
   },
   {
    "duration": 5,
    "start_time": "2023-04-04T06:53:54.179Z"
   },
   {
    "duration": 2029,
    "start_time": "2023-04-04T07:00:01.302Z"
   },
   {
    "duration": 0,
    "start_time": "2023-04-04T07:00:03.333Z"
   },
   {
    "duration": 0,
    "start_time": "2023-04-04T07:00:03.335Z"
   },
   {
    "duration": 0,
    "start_time": "2023-04-04T07:00:03.336Z"
   },
   {
    "duration": 0,
    "start_time": "2023-04-04T07:00:03.337Z"
   },
   {
    "duration": 0,
    "start_time": "2023-04-04T07:00:03.338Z"
   },
   {
    "duration": 0,
    "start_time": "2023-04-04T07:00:03.339Z"
   },
   {
    "duration": 0,
    "start_time": "2023-04-04T07:00:03.340Z"
   },
   {
    "duration": 0,
    "start_time": "2023-04-04T07:00:03.341Z"
   },
   {
    "duration": 0,
    "start_time": "2023-04-04T07:00:03.342Z"
   },
   {
    "duration": 0,
    "start_time": "2023-04-04T07:00:03.348Z"
   },
   {
    "duration": 0,
    "start_time": "2023-04-04T07:00:03.350Z"
   },
   {
    "duration": 84,
    "start_time": "2023-04-04T07:01:17.078Z"
   },
   {
    "duration": 1602,
    "start_time": "2023-04-04T07:01:22.071Z"
   },
   {
    "duration": 2570,
    "start_time": "2023-04-04T07:01:23.675Z"
   },
   {
    "duration": 15,
    "start_time": "2023-04-04T07:01:26.247Z"
   },
   {
    "duration": 57,
    "start_time": "2023-04-04T07:01:26.265Z"
   },
   {
    "duration": 31,
    "start_time": "2023-04-04T07:01:26.324Z"
   },
   {
    "duration": 75638,
    "start_time": "2023-04-04T07:01:26.357Z"
   },
   {
    "duration": 11,
    "start_time": "2023-04-04T07:02:41.997Z"
   },
   {
    "duration": 11,
    "start_time": "2023-04-04T07:02:42.010Z"
   },
   {
    "duration": 21,
    "start_time": "2023-04-04T07:02:42.023Z"
   },
   {
    "duration": 56,
    "start_time": "2023-04-04T07:02:42.048Z"
   },
   {
    "duration": 7396,
    "start_time": "2023-04-04T07:02:42.106Z"
   },
   {
    "duration": 15,
    "start_time": "2023-04-04T07:02:49.503Z"
   },
   {
    "duration": 83,
    "start_time": "2023-04-04T07:02:49.520Z"
   },
   {
    "duration": 33716,
    "start_time": "2023-04-04T07:09:28.234Z"
   },
   {
    "duration": 1508,
    "start_time": "2023-04-04T07:23:18.615Z"
   },
   {
    "duration": 2308,
    "start_time": "2023-04-04T07:23:20.126Z"
   },
   {
    "duration": 21,
    "start_time": "2023-04-04T07:23:22.436Z"
   },
   {
    "duration": 67,
    "start_time": "2023-04-04T07:23:22.459Z"
   },
   {
    "duration": 56,
    "start_time": "2023-04-04T07:23:22.529Z"
   },
   {
    "duration": 87802,
    "start_time": "2023-04-04T07:23:22.587Z"
   },
   {
    "duration": 9,
    "start_time": "2023-04-04T07:24:50.391Z"
   },
   {
    "duration": 20,
    "start_time": "2023-04-04T07:24:50.402Z"
   },
   {
    "duration": 25,
    "start_time": "2023-04-04T07:24:50.424Z"
   },
   {
    "duration": 52,
    "start_time": "2023-04-04T07:24:50.451Z"
   },
   {
    "duration": 7674,
    "start_time": "2023-04-04T07:24:50.505Z"
   },
   {
    "duration": 10,
    "start_time": "2023-04-04T07:24:58.181Z"
   },
   {
    "duration": 30541,
    "start_time": "2023-04-04T07:24:58.193Z"
   },
   {
    "duration": 150,
    "start_time": "2023-04-04T07:25:28.737Z"
   },
   {
    "duration": 0,
    "start_time": "2023-04-04T07:25:28.889Z"
   },
   {
    "duration": 71515,
    "start_time": "2023-04-04T07:28:45.628Z"
   },
   {
    "duration": 3476,
    "start_time": "2023-04-04T07:31:48.177Z"
   },
   {
    "duration": 20,
    "start_time": "2023-04-04T07:36:39.732Z"
   },
   {
    "duration": 25448,
    "start_time": "2023-04-04T07:38:01.744Z"
   },
   {
    "duration": 1478,
    "start_time": "2023-04-04T07:38:54.935Z"
   },
   {
    "duration": 2360,
    "start_time": "2023-04-04T07:38:56.415Z"
   },
   {
    "duration": 19,
    "start_time": "2023-04-04T07:38:58.777Z"
   },
   {
    "duration": 56,
    "start_time": "2023-04-04T07:38:58.799Z"
   },
   {
    "duration": 14,
    "start_time": "2023-04-04T07:38:58.857Z"
   },
   {
    "duration": 77992,
    "start_time": "2023-04-04T07:38:58.873Z"
   },
   {
    "duration": 8,
    "start_time": "2023-04-04T07:40:16.867Z"
   },
   {
    "duration": 12,
    "start_time": "2023-04-04T07:40:16.877Z"
   },
   {
    "duration": 18,
    "start_time": "2023-04-04T07:40:16.891Z"
   },
   {
    "duration": 43,
    "start_time": "2023-04-04T07:40:16.913Z"
   },
   {
    "duration": 7242,
    "start_time": "2023-04-04T07:40:16.958Z"
   },
   {
    "duration": 25,
    "start_time": "2023-04-04T07:40:24.202Z"
   },
   {
    "duration": 33414,
    "start_time": "2023-04-04T07:40:24.228Z"
   },
   {
    "duration": 75489,
    "start_time": "2023-04-04T07:40:57.644Z"
   },
   {
    "duration": 3647,
    "start_time": "2023-04-04T07:42:13.135Z"
   },
   {
    "duration": 1115714,
    "start_time": "2023-04-04T07:42:16.784Z"
   },
   {
    "duration": 17,
    "start_time": "2023-04-04T08:00:52.502Z"
   },
   {
    "duration": 15,
    "start_time": "2023-04-04T08:02:04.022Z"
   },
   {
    "duration": 133,
    "start_time": "2023-04-04T08:02:38.321Z"
   },
   {
    "duration": 13264,
    "start_time": "2023-04-04T08:03:05.184Z"
   },
   {
    "duration": 14351,
    "start_time": "2023-04-04T08:03:26.307Z"
   },
   {
    "duration": 13115,
    "start_time": "2023-04-04T08:03:49.236Z"
   },
   {
    "duration": 13244,
    "start_time": "2023-04-04T08:04:45.622Z"
   },
   {
    "duration": 1539,
    "start_time": "2023-04-04T08:06:47.738Z"
   },
   {
    "duration": 2219,
    "start_time": "2023-04-04T08:06:49.279Z"
   },
   {
    "duration": 22,
    "start_time": "2023-04-04T08:06:51.500Z"
   },
   {
    "duration": 52,
    "start_time": "2023-04-04T08:06:51.526Z"
   },
   {
    "duration": 15,
    "start_time": "2023-04-04T08:06:51.580Z"
   },
   {
    "duration": 87196,
    "start_time": "2023-04-04T08:06:51.597Z"
   },
   {
    "duration": 9,
    "start_time": "2023-04-04T08:08:18.794Z"
   },
   {
    "duration": 25,
    "start_time": "2023-04-04T08:08:18.805Z"
   },
   {
    "duration": 14,
    "start_time": "2023-04-04T08:08:18.833Z"
   },
   {
    "duration": 53,
    "start_time": "2023-04-04T08:08:18.849Z"
   },
   {
    "duration": 8250,
    "start_time": "2023-04-04T08:08:18.904Z"
   },
   {
    "duration": 30,
    "start_time": "2023-04-04T08:08:27.156Z"
   },
   {
    "duration": 30557,
    "start_time": "2023-04-04T08:08:27.188Z"
   },
   {
    "duration": 79436,
    "start_time": "2023-04-04T08:08:57.748Z"
   },
   {
    "duration": 6049,
    "start_time": "2023-04-04T08:10:17.185Z"
   },
   {
    "duration": 2297,
    "start_time": "2023-04-04T08:10:23.237Z"
   },
   {
    "duration": 23,
    "start_time": "2023-04-04T08:10:25.536Z"
   },
   {
    "duration": 13106,
    "start_time": "2023-04-04T08:10:25.561Z"
   },
   {
    "duration": 4158,
    "start_time": "2023-04-04T08:22:50.150Z"
   },
   {
    "duration": 1255022,
    "start_time": "2023-04-04T08:22:58.013Z"
   },
   {
    "duration": 15,
    "start_time": "2023-04-04T08:43:53.037Z"
   },
   {
    "duration": 13507,
    "start_time": "2023-04-04T08:43:53.054Z"
   },
   {
    "duration": 82,
    "start_time": "2023-04-04T09:49:10.852Z"
   },
   {
    "duration": 1512,
    "start_time": "2023-04-05T06:16:25.377Z"
   },
   {
    "duration": 2304,
    "start_time": "2023-04-05T06:16:34.988Z"
   },
   {
    "duration": 12,
    "start_time": "2023-04-05T06:16:37.295Z"
   },
   {
    "duration": 26,
    "start_time": "2023-04-05T06:16:37.309Z"
   },
   {
    "duration": 8,
    "start_time": "2023-04-05T06:17:15.445Z"
   },
   {
    "duration": 9,
    "start_time": "2023-04-05T06:18:36.420Z"
   },
   {
    "duration": 4,
    "start_time": "2023-04-05T06:19:27.262Z"
   },
   {
    "duration": 1731,
    "start_time": "2023-04-05T06:19:27.906Z"
   },
   {
    "duration": 8,
    "start_time": "2023-04-05T06:19:29.639Z"
   },
   {
    "duration": 51,
    "start_time": "2023-04-05T06:19:29.649Z"
   },
   {
    "duration": 8,
    "start_time": "2023-04-05T06:19:29.740Z"
   },
   {
    "duration": 6,
    "start_time": "2023-04-05T06:19:37.340Z"
   },
   {
    "duration": 233,
    "start_time": "2023-04-05T06:32:04.998Z"
   },
   {
    "duration": 6,
    "start_time": "2023-04-05T06:40:19.698Z"
   },
   {
    "duration": 2458,
    "start_time": "2023-04-05T06:40:20.089Z"
   },
   {
    "duration": 7,
    "start_time": "2023-04-05T06:40:22.548Z"
   },
   {
    "duration": 39,
    "start_time": "2023-04-05T06:40:22.557Z"
   },
   {
    "duration": 12,
    "start_time": "2023-04-05T06:40:22.598Z"
   },
   {
    "duration": 12,
    "start_time": "2023-04-05T06:40:22.611Z"
   },
   {
    "duration": 119,
    "start_time": "2023-04-05T06:40:23.271Z"
   },
   {
    "duration": 96,
    "start_time": "2023-04-05T06:40:41.065Z"
   },
   {
    "duration": 125,
    "start_time": "2023-04-05T06:41:05.767Z"
   },
   {
    "duration": 116,
    "start_time": "2023-04-05T06:42:10.658Z"
   },
   {
    "duration": 85082,
    "start_time": "2023-04-05T06:42:27.326Z"
   },
   {
    "duration": 180,
    "start_time": "2023-04-05T06:44:07.185Z"
   },
   {
    "duration": 26,
    "start_time": "2023-04-05T06:44:16.030Z"
   },
   {
    "duration": 3,
    "start_time": "2023-04-05T06:44:18.694Z"
   },
   {
    "duration": 4,
    "start_time": "2023-04-05T06:44:19.183Z"
   },
   {
    "duration": 60,
    "start_time": "2023-04-05T06:44:19.861Z"
   },
   {
    "duration": 5,
    "start_time": "2023-04-05T06:44:42.125Z"
   },
   {
    "duration": 3,
    "start_time": "2023-04-05T06:58:09.130Z"
   },
   {
    "duration": 1865,
    "start_time": "2023-04-05T06:58:09.531Z"
   },
   {
    "duration": 7,
    "start_time": "2023-04-05T06:58:11.398Z"
   },
   {
    "duration": 31,
    "start_time": "2023-04-05T06:58:11.407Z"
   },
   {
    "duration": 10,
    "start_time": "2023-04-05T06:58:11.441Z"
   },
   {
    "duration": 30,
    "start_time": "2023-04-05T06:58:11.453Z"
   },
   {
    "duration": 82964,
    "start_time": "2023-04-05T06:58:11.485Z"
   },
   {
    "duration": 5,
    "start_time": "2023-04-05T06:59:34.451Z"
   },
   {
    "duration": 5,
    "start_time": "2023-04-05T06:59:34.458Z"
   },
   {
    "duration": 9,
    "start_time": "2023-04-05T06:59:34.464Z"
   },
   {
    "duration": 57,
    "start_time": "2023-04-05T06:59:34.474Z"
   },
   {
    "duration": 4,
    "start_time": "2023-04-05T06:59:34.533Z"
   },
   {
    "duration": 92,
    "start_time": "2023-04-05T06:59:34.539Z"
   },
   {
    "duration": 194,
    "start_time": "2023-04-05T06:59:40.494Z"
   },
   {
    "duration": 16,
    "start_time": "2023-04-05T06:59:47.698Z"
   },
   {
    "duration": 5,
    "start_time": "2023-04-05T07:00:16.253Z"
   },
   {
    "duration": 1654,
    "start_time": "2023-04-05T07:00:17.758Z"
   },
   {
    "duration": 8,
    "start_time": "2023-04-05T07:00:19.414Z"
   },
   {
    "duration": 64,
    "start_time": "2023-04-05T07:00:19.423Z"
   },
   {
    "duration": 18,
    "start_time": "2023-04-05T07:00:19.488Z"
   },
   {
    "duration": 20,
    "start_time": "2023-04-05T07:00:19.508Z"
   },
   {
    "duration": 80609,
    "start_time": "2023-04-05T07:00:19.530Z"
   },
   {
    "duration": 6,
    "start_time": "2023-04-05T07:01:40.141Z"
   },
   {
    "duration": 18,
    "start_time": "2023-04-05T07:01:40.149Z"
   },
   {
    "duration": 11,
    "start_time": "2023-04-05T07:01:40.169Z"
   },
   {
    "duration": 67,
    "start_time": "2023-04-05T07:01:40.182Z"
   },
   {
    "duration": 4,
    "start_time": "2023-04-05T07:01:40.251Z"
   },
   {
    "duration": 29,
    "start_time": "2023-04-05T07:01:40.256Z"
   },
   {
    "duration": 347993,
    "start_time": "2023-04-05T07:03:19.985Z"
   },
   {
    "duration": 4,
    "start_time": "2023-04-05T07:09:50.091Z"
   },
   {
    "duration": 1904,
    "start_time": "2023-04-05T07:09:50.477Z"
   },
   {
    "duration": 7,
    "start_time": "2023-04-05T07:09:52.383Z"
   },
   {
    "duration": 45,
    "start_time": "2023-04-05T07:09:52.391Z"
   },
   {
    "duration": 10,
    "start_time": "2023-04-05T07:09:52.438Z"
   },
   {
    "duration": 22,
    "start_time": "2023-04-05T07:09:52.450Z"
   },
   {
    "duration": 80946,
    "start_time": "2023-04-05T07:09:52.473Z"
   },
   {
    "duration": 7,
    "start_time": "2023-04-05T07:11:13.421Z"
   },
   {
    "duration": 18,
    "start_time": "2023-04-05T07:11:13.429Z"
   },
   {
    "duration": 15,
    "start_time": "2023-04-05T07:11:13.449Z"
   },
   {
    "duration": 87,
    "start_time": "2023-04-05T07:11:13.465Z"
   },
   {
    "duration": 4,
    "start_time": "2023-04-05T07:11:13.555Z"
   },
   {
    "duration": 39,
    "start_time": "2023-04-05T07:11:13.561Z"
   },
   {
    "duration": 6167,
    "start_time": "2023-04-05T07:11:32.429Z"
   },
   {
    "duration": 12657,
    "start_time": "2023-04-05T07:12:18.652Z"
   },
   {
    "duration": 2,
    "start_time": "2023-04-05T07:14:15.892Z"
   },
   {
    "duration": 5,
    "start_time": "2023-04-05T07:14:21.449Z"
   },
   {
    "duration": 4,
    "start_time": "2023-04-05T07:15:28.845Z"
   },
   {
    "duration": 4,
    "start_time": "2023-04-05T07:16:24.703Z"
   },
   {
    "duration": 13852,
    "start_time": "2023-04-05T07:17:08.023Z"
   },
   {
    "duration": 3,
    "start_time": "2023-04-05T07:17:21.877Z"
   },
   {
    "duration": 4,
    "start_time": "2023-04-05T07:17:42.723Z"
   },
   {
    "duration": 6364,
    "start_time": "2023-04-05T07:19:54.135Z"
   },
   {
    "duration": 1590899,
    "start_time": "2023-04-05T07:20:03.373Z"
   },
   {
    "duration": 4,
    "start_time": "2023-04-05T07:46:34.274Z"
   },
   {
    "duration": 4,
    "start_time": "2023-04-05T07:49:01.617Z"
   },
   {
    "duration": 5,
    "start_time": "2023-04-05T07:50:47.543Z"
   },
   {
    "duration": 7,
    "start_time": "2023-04-05T07:55:55.694Z"
   },
   {
    "duration": 14,
    "start_time": "2023-04-05T07:56:00.626Z"
   },
   {
    "duration": 4,
    "start_time": "2023-04-05T07:56:20.823Z"
   },
   {
    "duration": 4352,
    "start_time": "2023-04-05T07:56:25.221Z"
   },
   {
    "duration": 450,
    "start_time": "2023-04-05T07:56:36.972Z"
   },
   {
    "duration": 28548,
    "start_time": "2023-04-05T07:56:52.084Z"
   },
   {
    "duration": 2,
    "start_time": "2023-04-05T07:58:16.526Z"
   },
   {
    "duration": 622258,
    "start_time": "2023-04-05T07:58:19.764Z"
   },
   {
    "duration": 4,
    "start_time": "2023-04-05T08:09:54.728Z"
   },
   {
    "duration": 2622,
    "start_time": "2023-04-05T08:23:59.389Z"
   },
   {
    "duration": 1439,
    "start_time": "2023-04-05T08:24:02.013Z"
   },
   {
    "duration": 1937,
    "start_time": "2023-04-05T08:24:03.454Z"
   },
   {
    "duration": 16,
    "start_time": "2023-04-05T08:24:05.393Z"
   },
   {
    "duration": 42,
    "start_time": "2023-04-05T08:24:05.410Z"
   },
   {
    "duration": 17,
    "start_time": "2023-04-05T08:24:05.453Z"
   },
   {
    "duration": 18,
    "start_time": "2023-04-05T08:24:05.472Z"
   },
   {
    "duration": 80492,
    "start_time": "2023-04-05T08:24:05.491Z"
   },
   {
    "duration": 11,
    "start_time": "2023-04-05T08:25:25.985Z"
   },
   {
    "duration": 16,
    "start_time": "2023-04-05T08:25:25.999Z"
   },
   {
    "duration": 11,
    "start_time": "2023-04-05T08:25:26.016Z"
   },
   {
    "duration": 103,
    "start_time": "2023-04-05T08:25:26.029Z"
   },
   {
    "duration": 207,
    "start_time": "2023-04-05T08:25:26.134Z"
   },
   {
    "duration": 138,
    "start_time": "2023-04-05T08:25:26.343Z"
   },
   {
    "duration": 0,
    "start_time": "2023-04-05T08:25:26.482Z"
   },
   {
    "duration": 0,
    "start_time": "2023-04-05T08:25:26.484Z"
   },
   {
    "duration": 0,
    "start_time": "2023-04-05T08:25:26.485Z"
   },
   {
    "duration": 0,
    "start_time": "2023-04-05T08:25:26.486Z"
   },
   {
    "duration": 0,
    "start_time": "2023-04-05T08:25:26.488Z"
   },
   {
    "duration": 0,
    "start_time": "2023-04-05T08:25:26.489Z"
   },
   {
    "duration": 2824,
    "start_time": "2023-04-05T08:33:35.581Z"
   },
   {
    "duration": 2039,
    "start_time": "2023-04-05T08:33:38.407Z"
   },
   {
    "duration": 2909,
    "start_time": "2023-04-05T08:33:40.448Z"
   },
   {
    "duration": 15,
    "start_time": "2023-04-05T08:33:43.360Z"
   },
   {
    "duration": 48,
    "start_time": "2023-04-05T08:33:43.377Z"
   },
   {
    "duration": 22,
    "start_time": "2023-04-05T08:33:43.427Z"
   },
   {
    "duration": 30,
    "start_time": "2023-04-05T08:33:43.451Z"
   },
   {
    "duration": 88260,
    "start_time": "2023-04-05T08:33:43.483Z"
   },
   {
    "duration": 7,
    "start_time": "2023-04-05T08:35:11.745Z"
   },
   {
    "duration": 28,
    "start_time": "2023-04-05T08:35:11.755Z"
   },
   {
    "duration": 11,
    "start_time": "2023-04-05T08:35:11.785Z"
   },
   {
    "duration": 75,
    "start_time": "2023-04-05T08:35:11.798Z"
   },
   {
    "duration": 219,
    "start_time": "2023-04-05T08:35:11.874Z"
   },
   {
    "duration": 1737416,
    "start_time": "2023-04-05T08:35:12.095Z"
   },
   {
    "duration": 196,
    "start_time": "2023-04-05T09:04:09.513Z"
   },
   {
    "duration": 0,
    "start_time": "2023-04-05T09:04:09.711Z"
   },
   {
    "duration": 0,
    "start_time": "2023-04-05T09:04:09.713Z"
   },
   {
    "duration": 0,
    "start_time": "2023-04-05T09:04:09.714Z"
   },
   {
    "duration": 0,
    "start_time": "2023-04-05T09:04:09.715Z"
   },
   {
    "duration": 0,
    "start_time": "2023-04-05T09:04:09.717Z"
   },
   {
    "duration": 0,
    "start_time": "2023-04-05T09:04:09.718Z"
   },
   {
    "duration": 8,
    "start_time": "2023-04-05T09:07:26.688Z"
   },
   {
    "duration": 3,
    "start_time": "2023-04-05T09:08:03.764Z"
   },
   {
    "duration": 6,
    "start_time": "2023-04-05T09:08:10.860Z"
   },
   {
    "duration": 540940,
    "start_time": "2023-04-05T09:08:13.049Z"
   },
   {
    "duration": 3,
    "start_time": "2023-04-05T09:17:24.249Z"
   },
   {
    "duration": 518,
    "start_time": "2023-04-05T09:18:51.448Z"
   },
   {
    "duration": 304004,
    "start_time": "2023-04-05T09:18:58.004Z"
   },
   {
    "duration": 8,
    "start_time": "2023-04-05T09:26:04.480Z"
   },
   {
    "duration": 1522,
    "start_time": "2023-04-05T09:30:01.098Z"
   },
   {
    "duration": 2,
    "start_time": "2023-04-05T09:31:11.321Z"
   },
   {
    "duration": 73,
    "start_time": "2023-04-05T09:31:12.404Z"
   },
   {
    "duration": 8,
    "start_time": "2023-04-05T09:31:45.375Z"
   },
   {
    "duration": 12,
    "start_time": "2023-04-05T09:38:45.215Z"
   },
   {
    "duration": 3,
    "start_time": "2023-04-05T09:39:55.925Z"
   },
   {
    "duration": 274057,
    "start_time": "2023-04-05T09:40:02.749Z"
   },
   {
    "duration": 9,
    "start_time": "2023-04-05T09:44:42.190Z"
   },
   {
    "duration": 65118,
    "start_time": "2023-04-05T09:45:51.513Z"
   },
   {
    "duration": 59549,
    "start_time": "2023-04-05T09:47:59.755Z"
   },
   {
    "duration": 93,
    "start_time": "2023-04-05T09:53:23.087Z"
   },
   {
    "duration": 1480,
    "start_time": "2023-04-05T09:54:04.467Z"
   },
   {
    "duration": 56775,
    "start_time": "2023-04-05T09:54:10.783Z"
   },
   {
    "duration": 5500,
    "start_time": "2023-04-06T10:45:38.859Z"
   },
   {
    "duration": 1836,
    "start_time": "2023-04-06T10:45:44.362Z"
   },
   {
    "duration": 1826,
    "start_time": "2023-04-06T10:45:46.199Z"
   },
   {
    "duration": 23,
    "start_time": "2023-04-06T10:45:48.027Z"
   },
   {
    "duration": 54,
    "start_time": "2023-04-06T10:45:48.053Z"
   },
   {
    "duration": 10,
    "start_time": "2023-04-06T10:45:48.109Z"
   },
   {
    "duration": 13,
    "start_time": "2023-04-06T10:45:48.121Z"
   },
   {
    "duration": 37042,
    "start_time": "2023-04-06T10:45:48.136Z"
   },
   {
    "duration": 0,
    "start_time": "2023-04-06T10:46:25.180Z"
   },
   {
    "duration": 11,
    "start_time": "2023-04-06T10:46:44.370Z"
   },
   {
    "duration": 3,
    "start_time": "2023-04-06T10:49:02.711Z"
   },
   {
    "duration": 4,
    "start_time": "2023-04-06T10:49:05.846Z"
   },
   {
    "duration": 5,
    "start_time": "2023-04-06T10:49:36.527Z"
   },
   {
    "duration": 4,
    "start_time": "2023-04-06T10:51:16.768Z"
   },
   {
    "duration": 20,
    "start_time": "2023-04-06T10:51:18.287Z"
   },
   {
    "duration": 4,
    "start_time": "2023-04-06T10:52:53.094Z"
   },
   {
    "duration": 22,
    "start_time": "2023-04-06T10:52:54.170Z"
   },
   {
    "duration": 5,
    "start_time": "2023-04-06T10:53:12.655Z"
   },
   {
    "duration": 1505,
    "start_time": "2023-04-06T10:53:13.577Z"
   },
   {
    "duration": 7,
    "start_time": "2023-04-06T10:53:15.085Z"
   },
   {
    "duration": 66,
    "start_time": "2023-04-06T10:53:15.094Z"
   },
   {
    "duration": 11,
    "start_time": "2023-04-06T10:53:15.163Z"
   },
   {
    "duration": 21,
    "start_time": "2023-04-06T10:53:15.176Z"
   },
   {
    "duration": 4,
    "start_time": "2023-04-06T10:53:15.886Z"
   },
   {
    "duration": 30,
    "start_time": "2023-04-06T10:53:16.406Z"
   },
   {
    "duration": 5,
    "start_time": "2023-04-06T10:53:43.198Z"
   },
   {
    "duration": 5,
    "start_time": "2023-04-06T10:53:43.555Z"
   },
   {
    "duration": 5,
    "start_time": "2023-04-06T10:55:05.254Z"
   },
   {
    "duration": 17,
    "start_time": "2023-04-06T10:55:05.666Z"
   },
   {
    "duration": 6,
    "start_time": "2023-04-06T10:55:25.174Z"
   },
   {
    "duration": 26,
    "start_time": "2023-04-06T10:55:25.622Z"
   },
   {
    "duration": 5,
    "start_time": "2023-04-06T10:55:54.990Z"
   },
   {
    "duration": 20,
    "start_time": "2023-04-06T10:55:55.574Z"
   },
   {
    "duration": 0,
    "start_time": "2023-04-06T10:58:04.264Z"
   },
   {
    "duration": 0,
    "start_time": "2023-04-06T10:58:04.265Z"
   },
   {
    "duration": 0,
    "start_time": "2023-04-06T10:58:04.266Z"
   },
   {
    "duration": 67982,
    "start_time": "2023-04-06T10:58:06.485Z"
   },
   {
    "duration": 294,
    "start_time": "2023-04-06T10:59:18.165Z"
   },
   {
    "duration": 11,
    "start_time": "2023-04-06T10:59:22.133Z"
   },
   {
    "duration": 143,
    "start_time": "2023-04-06T10:59:22.829Z"
   },
   {
    "duration": 7,
    "start_time": "2023-04-06T10:59:41.260Z"
   },
   {
    "duration": 8,
    "start_time": "2023-04-06T10:59:41.997Z"
   },
   {
    "duration": 5,
    "start_time": "2023-04-06T10:59:54.462Z"
   },
   {
    "duration": 18,
    "start_time": "2023-04-06T10:59:55.190Z"
   },
   {
    "duration": 2699,
    "start_time": "2023-04-06T11:03:48.428Z"
   },
   {
    "duration": 1804,
    "start_time": "2023-04-06T11:03:51.130Z"
   },
   {
    "duration": 1784,
    "start_time": "2023-04-06T11:03:52.936Z"
   },
   {
    "duration": 17,
    "start_time": "2023-04-06T11:03:54.722Z"
   },
   {
    "duration": 39,
    "start_time": "2023-04-06T11:03:54.741Z"
   },
   {
    "duration": 11,
    "start_time": "2023-04-06T11:03:54.782Z"
   },
   {
    "duration": 15,
    "start_time": "2023-04-06T11:03:54.795Z"
   },
   {
    "duration": 46133,
    "start_time": "2023-04-06T11:03:54.833Z"
   },
   {
    "duration": 0,
    "start_time": "2023-04-06T11:04:40.970Z"
   },
   {
    "duration": 0,
    "start_time": "2023-04-06T11:04:40.971Z"
   },
   {
    "duration": 0,
    "start_time": "2023-04-06T11:04:40.973Z"
   },
   {
    "duration": 0,
    "start_time": "2023-04-06T11:04:40.976Z"
   },
   {
    "duration": 0,
    "start_time": "2023-04-06T11:04:40.977Z"
   },
   {
    "duration": 0,
    "start_time": "2023-04-06T11:04:40.978Z"
   },
   {
    "duration": 0,
    "start_time": "2023-04-06T11:04:40.979Z"
   },
   {
    "duration": 0,
    "start_time": "2023-04-06T11:04:40.981Z"
   },
   {
    "duration": 0,
    "start_time": "2023-04-06T11:04:40.982Z"
   },
   {
    "duration": 0,
    "start_time": "2023-04-06T11:04:40.983Z"
   },
   {
    "duration": 0,
    "start_time": "2023-04-06T11:04:40.984Z"
   },
   {
    "duration": 0,
    "start_time": "2023-04-06T11:04:40.986Z"
   },
   {
    "duration": 0,
    "start_time": "2023-04-06T11:04:40.987Z"
   },
   {
    "duration": 0,
    "start_time": "2023-04-06T11:04:40.988Z"
   },
   {
    "duration": 0,
    "start_time": "2023-04-06T11:04:40.990Z"
   },
   {
    "duration": 0,
    "start_time": "2023-04-06T11:04:40.991Z"
   },
   {
    "duration": 3151,
    "start_time": "2023-04-06T11:04:45.166Z"
   },
   {
    "duration": 1878,
    "start_time": "2023-04-06T11:04:48.321Z"
   },
   {
    "duration": 2385,
    "start_time": "2023-04-06T11:04:50.201Z"
   },
   {
    "duration": 15,
    "start_time": "2023-04-06T11:04:52.588Z"
   },
   {
    "duration": 57,
    "start_time": "2023-04-06T11:04:52.606Z"
   },
   {
    "duration": 24,
    "start_time": "2023-04-06T11:04:52.665Z"
   },
   {
    "duration": 35,
    "start_time": "2023-04-06T11:04:52.691Z"
   },
   {
    "duration": 38,
    "start_time": "2023-04-06T11:04:52.728Z"
   },
   {
    "duration": 0,
    "start_time": "2023-04-06T11:08:04.832Z"
   },
   {
    "duration": 0,
    "start_time": "2023-04-06T11:08:04.833Z"
   },
   {
    "duration": 0,
    "start_time": "2023-04-06T11:08:04.834Z"
   },
   {
    "duration": 0,
    "start_time": "2023-04-06T11:08:04.836Z"
   },
   {
    "duration": 0,
    "start_time": "2023-04-06T11:08:04.838Z"
   },
   {
    "duration": 0,
    "start_time": "2023-04-06T11:08:04.839Z"
   },
   {
    "duration": 0,
    "start_time": "2023-04-06T11:08:04.842Z"
   },
   {
    "duration": 0,
    "start_time": "2023-04-06T11:08:04.843Z"
   },
   {
    "duration": 0,
    "start_time": "2023-04-06T11:08:04.844Z"
   },
   {
    "duration": 0,
    "start_time": "2023-04-06T11:08:04.845Z"
   },
   {
    "duration": 0,
    "start_time": "2023-04-06T11:08:04.847Z"
   },
   {
    "duration": 0,
    "start_time": "2023-04-06T11:08:04.848Z"
   },
   {
    "duration": 0,
    "start_time": "2023-04-06T11:08:04.849Z"
   },
   {
    "duration": 0,
    "start_time": "2023-04-06T11:08:04.851Z"
   },
   {
    "duration": 0,
    "start_time": "2023-04-06T11:08:04.949Z"
   },
   {
    "duration": 8,
    "start_time": "2023-04-06T11:09:20.063Z"
   },
   {
    "duration": 3,
    "start_time": "2023-04-06T11:10:13.064Z"
   },
   {
    "duration": 34,
    "start_time": "2023-04-06T11:10:26.764Z"
   },
   {
    "duration": 5,
    "start_time": "2023-04-06T11:10:39.488Z"
   },
   {
    "duration": 36,
    "start_time": "2023-04-06T11:10:39.832Z"
   },
   {
    "duration": 5,
    "start_time": "2023-04-06T11:10:45.023Z"
   },
   {
    "duration": 27,
    "start_time": "2023-04-06T11:10:45.391Z"
   },
   {
    "duration": 5,
    "start_time": "2023-04-06T11:12:18.591Z"
   },
   {
    "duration": 24,
    "start_time": "2023-04-06T11:12:18.903Z"
   },
   {
    "duration": 5,
    "start_time": "2023-04-06T11:13:38.886Z"
   },
   {
    "duration": 25,
    "start_time": "2023-04-06T11:13:39.346Z"
   },
   {
    "duration": 4,
    "start_time": "2023-04-06T11:13:53.455Z"
   },
   {
    "duration": 18,
    "start_time": "2023-04-06T11:13:54.150Z"
   },
   {
    "duration": 5,
    "start_time": "2023-04-06T11:15:01.111Z"
   },
   {
    "duration": 28,
    "start_time": "2023-04-06T11:15:01.558Z"
   },
   {
    "duration": 5,
    "start_time": "2023-04-06T11:17:59.702Z"
   },
   {
    "duration": 8,
    "start_time": "2023-04-06T11:18:00.494Z"
   },
   {
    "duration": 5,
    "start_time": "2023-04-06T11:18:11.190Z"
   },
   {
    "duration": 6,
    "start_time": "2023-04-06T11:18:11.558Z"
   },
   {
    "duration": 5,
    "start_time": "2023-04-06T11:19:05.856Z"
   },
   {
    "duration": 4,
    "start_time": "2023-04-06T11:19:41.805Z"
   },
   {
    "duration": 11,
    "start_time": "2023-04-06T11:19:42.163Z"
   },
   {
    "duration": 2576,
    "start_time": "2023-04-06T11:20:33.147Z"
   },
   {
    "duration": 1760,
    "start_time": "2023-04-06T11:20:35.726Z"
   },
   {
    "duration": 1923,
    "start_time": "2023-04-06T11:20:37.488Z"
   },
   {
    "duration": 22,
    "start_time": "2023-04-06T11:20:39.413Z"
   },
   {
    "duration": 33,
    "start_time": "2023-04-06T11:20:39.437Z"
   },
   {
    "duration": 11,
    "start_time": "2023-04-06T11:20:39.472Z"
   },
   {
    "duration": 12,
    "start_time": "2023-04-06T11:20:39.485Z"
   },
   {
    "duration": 5479,
    "start_time": "2023-04-06T11:20:39.499Z"
   },
   {
    "duration": 0,
    "start_time": "2023-04-06T11:20:44.981Z"
   },
   {
    "duration": 0,
    "start_time": "2023-04-06T11:20:44.982Z"
   },
   {
    "duration": 1,
    "start_time": "2023-04-06T11:20:44.983Z"
   },
   {
    "duration": 0,
    "start_time": "2023-04-06T11:20:44.985Z"
   },
   {
    "duration": 0,
    "start_time": "2023-04-06T11:20:44.986Z"
   },
   {
    "duration": 0,
    "start_time": "2023-04-06T11:20:44.988Z"
   },
   {
    "duration": 0,
    "start_time": "2023-04-06T11:20:44.990Z"
   },
   {
    "duration": 0,
    "start_time": "2023-04-06T11:20:44.991Z"
   },
   {
    "duration": 0,
    "start_time": "2023-04-06T11:20:44.993Z"
   },
   {
    "duration": 0,
    "start_time": "2023-04-06T11:20:44.994Z"
   },
   {
    "duration": 0,
    "start_time": "2023-04-06T11:20:44.997Z"
   },
   {
    "duration": 0,
    "start_time": "2023-04-06T11:20:44.999Z"
   },
   {
    "duration": 0,
    "start_time": "2023-04-06T11:20:45.000Z"
   },
   {
    "duration": 0,
    "start_time": "2023-04-06T11:20:45.001Z"
   },
   {
    "duration": 2676,
    "start_time": "2023-04-06T11:20:52.954Z"
   },
   {
    "duration": 1871,
    "start_time": "2023-04-06T11:20:55.634Z"
   },
   {
    "duration": 1825,
    "start_time": "2023-04-06T11:20:57.507Z"
   },
   {
    "duration": 22,
    "start_time": "2023-04-06T11:20:59.334Z"
   },
   {
    "duration": 37,
    "start_time": "2023-04-06T11:20:59.358Z"
   },
   {
    "duration": 31,
    "start_time": "2023-04-06T11:20:59.397Z"
   },
   {
    "duration": 26,
    "start_time": "2023-04-06T11:20:59.430Z"
   },
   {
    "duration": 613280,
    "start_time": "2023-04-06T11:20:59.457Z"
   },
   {
    "duration": 13,
    "start_time": "2023-04-06T11:31:12.739Z"
   },
   {
    "duration": 18,
    "start_time": "2023-04-06T11:31:12.755Z"
   },
   {
    "duration": 11,
    "start_time": "2023-04-06T11:31:12.775Z"
   },
   {
    "duration": 103,
    "start_time": "2023-04-06T11:31:12.788Z"
   },
   {
    "duration": 377,
    "start_time": "2023-04-06T11:31:12.893Z"
   },
   {
    "duration": 2097116,
    "start_time": "2023-04-06T11:31:13.273Z"
   },
   {
    "duration": 4,
    "start_time": "2023-04-06T12:06:10.391Z"
   },
   {
    "duration": 11,
    "start_time": "2023-04-06T12:06:10.397Z"
   },
   {
    "duration": 922458,
    "start_time": "2023-04-06T12:06:10.410Z"
   },
   {
    "duration": 3,
    "start_time": "2023-04-06T12:21:32.869Z"
   },
   {
    "duration": 297950,
    "start_time": "2023-04-06T12:21:32.873Z"
   },
   {
    "duration": 8,
    "start_time": "2023-04-06T12:26:30.826Z"
   },
   {
    "duration": 1830,
    "start_time": "2023-04-06T12:26:30.836Z"
   },
   {
    "duration": 65911,
    "start_time": "2023-04-06T12:26:32.668Z"
   },
   {
    "duration": 67194,
    "start_time": "2023-04-06T12:40:56.979Z"
   },
   {
    "duration": 916,
    "start_time": "2023-04-07T06:15:24.817Z"
   },
   {
    "duration": 4702,
    "start_time": "2023-04-07T07:03:35.855Z"
   },
   {
    "duration": 2171,
    "start_time": "2023-04-07T07:03:40.560Z"
   },
   {
    "duration": 2039,
    "start_time": "2023-04-07T07:03:42.733Z"
   },
   {
    "duration": 15,
    "start_time": "2023-04-07T07:03:44.775Z"
   },
   {
    "duration": 37,
    "start_time": "2023-04-07T07:03:44.791Z"
   },
   {
    "duration": 15,
    "start_time": "2023-04-07T07:03:44.851Z"
   },
   {
    "duration": 21,
    "start_time": "2023-04-07T07:03:44.868Z"
   },
   {
    "duration": 977,
    "start_time": "2023-04-07T07:03:44.891Z"
   },
   {
    "duration": 2696,
    "start_time": "2023-04-07T07:04:24.410Z"
   },
   {
    "duration": 5,
    "start_time": "2023-04-07T07:04:27.109Z"
   },
   {
    "duration": 439,
    "start_time": "2023-04-07T07:04:27.116Z"
   },
   {
    "duration": 2253,
    "start_time": "2023-04-07T07:04:29.957Z"
   },
   {
    "duration": 8,
    "start_time": "2023-04-07T07:04:32.212Z"
   },
   {
    "duration": 52,
    "start_time": "2023-04-07T07:04:32.222Z"
   },
   {
    "duration": 47,
    "start_time": "2023-04-07T07:04:32.277Z"
   },
   {
    "duration": 37,
    "start_time": "2023-04-07T07:04:32.326Z"
   },
   {
    "duration": 2687,
    "start_time": "2023-04-07T07:12:14.086Z"
   },
   {
    "duration": 1941,
    "start_time": "2023-04-07T07:12:16.775Z"
   },
   {
    "duration": 238,
    "start_time": "2023-04-07T07:12:18.718Z"
   },
   {
    "duration": 1682,
    "start_time": "2023-04-07T07:12:18.958Z"
   },
   {
    "duration": 15,
    "start_time": "2023-04-07T07:12:20.653Z"
   },
   {
    "duration": 106,
    "start_time": "2023-04-07T07:12:20.670Z"
   },
   {
    "duration": 52,
    "start_time": "2023-04-07T07:12:20.778Z"
   },
   {
    "duration": 71,
    "start_time": "2023-04-07T07:12:20.832Z"
   },
   {
    "duration": 624144,
    "start_time": "2023-04-07T07:12:20.905Z"
   },
   {
    "duration": 13,
    "start_time": "2023-04-07T07:22:45.052Z"
   },
   {
    "duration": 86,
    "start_time": "2023-04-07T07:22:45.067Z"
   },
   {
    "duration": 57,
    "start_time": "2023-04-07T07:22:45.156Z"
   },
   {
    "duration": 108,
    "start_time": "2023-04-07T07:22:45.215Z"
   },
   {
    "duration": 32,
    "start_time": "2023-04-07T07:22:45.328Z"
   },
   {
    "duration": 2222135,
    "start_time": "2023-04-07T07:22:45.362Z"
   },
   {
    "duration": 3,
    "start_time": "2023-04-07T07:59:47.499Z"
   },
   {
    "duration": 68,
    "start_time": "2023-04-07T07:59:47.504Z"
   },
   {
    "duration": 770838,
    "start_time": "2023-04-07T07:59:47.574Z"
   },
   {
    "duration": 3,
    "start_time": "2023-04-07T08:12:38.414Z"
   },
   {
    "duration": 306106,
    "start_time": "2023-04-07T08:12:38.418Z"
   },
   {
    "duration": 20,
    "start_time": "2023-04-07T08:17:44.526Z"
   },
   {
    "duration": 2016,
    "start_time": "2023-04-07T08:17:44.548Z"
   },
   {
    "duration": 69979,
    "start_time": "2023-04-07T08:17:46.566Z"
   }
  ],
  "kernelspec": {
   "display_name": "Python 3 (ipykernel)",
   "language": "python",
   "name": "python3"
  },
  "language_info": {
   "codemirror_mode": {
    "name": "ipython",
    "version": 3
   },
   "file_extension": ".py",
   "mimetype": "text/x-python",
   "name": "python",
   "nbconvert_exporter": "python",
   "pygments_lexer": "ipython3",
   "version": "3.10.9"
  },
  "toc": {
   "base_numbering": 1,
   "nav_menu": {},
   "number_sections": true,
   "sideBar": true,
   "skip_h1_title": true,
   "title_cell": "Содержание",
   "title_sidebar": "Contents",
   "toc_cell": true,
   "toc_position": {
    "height": "calc(100% - 180px)",
    "left": "10px",
    "top": "150px",
    "width": "165px"
   },
   "toc_section_display": true,
   "toc_window_display": true
  }
 },
 "nbformat": 4,
 "nbformat_minor": 2
}
