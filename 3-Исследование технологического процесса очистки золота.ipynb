{
 "cells": [
  {
   "cell_type": "markdown",
   "metadata": {
    "toc": true
   },
   "source": [
    "<h1>Содержание<span class=\"tocSkip\"></span></h1>\n",
    "<div class=\"toc\"><ul class=\"toc-item\"><li><span><a href=\"#Подготовка-данных\" data-toc-modified-id=\"Подготовка-данных-1\"><span class=\"toc-item-num\">1&nbsp;&nbsp;</span>Подготовка данных</a></span></li><li><span><a href=\"#Анализ-данных\" data-toc-modified-id=\"Анализ-данных-2\"><span class=\"toc-item-num\">2&nbsp;&nbsp;</span>Анализ данных</a></span></li><li><span><a href=\"#Модель\" data-toc-modified-id=\"Модель-3\"><span class=\"toc-item-num\">3&nbsp;&nbsp;</span>Модель</a></span></li><li><span><a href=\"#Чек-лист-готовности-проекта\" data-toc-modified-id=\"Чек-лист-готовности-проекта-4\"><span class=\"toc-item-num\">4&nbsp;&nbsp;</span>Чек-лист готовности проекта</a></span></li></ul></div>"
   ]
  },
  {
   "cell_type": "markdown",
   "metadata": {},
   "source": [
    "# Восстановление золота из руды"
   ]
  },
  {
   "cell_type": "markdown",
   "metadata": {},
   "source": [
    "<b>Цель:</b> Подготовить модель машинного обучения, которая будет определять концентрацию золота после технологического процесса по очистке золосодержащей руды, используя данные с характеристиками добычи и промежуточными этапами очистки. Модель поможет оптимизировать производство, чтобы не запускать предприятие с убыточными характеристиками.\n",
    "\n",
    "<b>Технологический процесс состоит из нескольких этапов:</b>\n",
    "1. Флотация\n",
    "Во флотационную установку подаётся смесь золотосодержащей руды. После обогащения получается черновой концентрат и «отвальные хвосты», то есть остатки продукта с низкой концентрацией ценных металлов.\n",
    "На стабильность этого процесса влияет непостоянное и неоптимальное физико-химическое состояние флотационной пульпы (смеси твёрдых частиц и жидкости).\n",
    "2. Очистка \n",
    "Черновой концентрат проходит две очистки. На выходе получается финальный концентрат и новые отвальные хвосты.\n",
    "\n",
    "<b>Необходимо:</b>\n",
    "\n",
    "1. Подготовить данные;\n",
    "2. Провести исследовательский анализ данных;\n",
    "3. Построить и обучить модель."
   ]
  },
  {
   "cell_type": "markdown",
   "metadata": {},
   "source": [
    "## Подготовка данных"
   ]
  },
  {
   "cell_type": "code",
   "execution_count": 1,
   "metadata": {},
   "outputs": [],
   "source": [
    "import pandas as pd\n",
    "import numpy as np\n",
    "\n",
    "import seaborn as sns\n",
    "from matplotlib import pyplot as plt\n",
    "\n",
    "from sklearn.linear_model import LinearRegression\n",
    "from sklearn.tree import DecisionTreeRegressor\n",
    "from sklearn.ensemble import RandomForestRegressor\n",
    "\n",
    "from sklearn.model_selection import train_test_split, cross_val_score \n",
    "from sklearn.metrics import make_scorer, mean_absolute_error\n",
    "from sklearn.dummy import DummyRegressor\n",
    "\n",
    "\n",
    "\n"
   ]
  },
  {
   "cell_type": "code",
   "execution_count": 2,
   "metadata": {},
   "outputs": [],
   "source": [
    "data_train = pd.read_csv('https://code.s3.yandex.net/datasets/gold_industry_train.csv')\n",
    "data_test = pd.read_csv('https://code.s3.yandex.net/datasets/gold_industry_test.csv')\n",
    "data_full = pd.read_csv('https://code.s3.yandex.net/datasets/gold_industry_full.csv')"
   ]
  },
  {
   "cell_type": "code",
   "execution_count": 3,
   "metadata": {},
   "outputs": [
    {
     "data": {
      "text/html": [
       "<div>\n",
       "<style scoped>\n",
       "    .dataframe tbody tr th:only-of-type {\n",
       "        vertical-align: middle;\n",
       "    }\n",
       "\n",
       "    .dataframe tbody tr th {\n",
       "        vertical-align: top;\n",
       "    }\n",
       "\n",
       "    .dataframe thead th {\n",
       "        text-align: right;\n",
       "    }\n",
       "</style>\n",
       "<table border=\"1\" class=\"dataframe\">\n",
       "  <thead>\n",
       "    <tr style=\"text-align: right;\">\n",
       "      <th></th>\n",
       "      <th>date</th>\n",
       "      <th>rougher.input.feed_au</th>\n",
       "      <th>rougher.input.feed_ag</th>\n",
       "      <th>rougher.input.feed_pb</th>\n",
       "      <th>rougher.input.feed_sol</th>\n",
       "      <th>rougher.input.feed_rate</th>\n",
       "      <th>rougher.input.feed_size</th>\n",
       "      <th>rougher.input.floatbank10_sulfate</th>\n",
       "      <th>rougher.input.floatbank10_xanthate</th>\n",
       "      <th>rougher.state.floatbank10_a_air</th>\n",
       "      <th>...</th>\n",
       "      <th>secondary_cleaner.output.tail_sol</th>\n",
       "      <th>final.output.concentrate_au</th>\n",
       "      <th>final.output.concentrate_ag</th>\n",
       "      <th>final.output.concentrate_pb</th>\n",
       "      <th>final.output.concentrate_sol</th>\n",
       "      <th>final.output.recovery</th>\n",
       "      <th>final.output.tail_au</th>\n",
       "      <th>final.output.tail_ag</th>\n",
       "      <th>final.output.tail_pb</th>\n",
       "      <th>final.output.tail_sol</th>\n",
       "    </tr>\n",
       "  </thead>\n",
       "  <tbody>\n",
       "    <tr>\n",
       "      <th>0</th>\n",
       "      <td>2016-01-15 00:00:00</td>\n",
       "      <td>6.486150</td>\n",
       "      <td>6.100378</td>\n",
       "      <td>2.284912</td>\n",
       "      <td>36.808594</td>\n",
       "      <td>523.546326</td>\n",
       "      <td>55.486599</td>\n",
       "      <td>11.986616</td>\n",
       "      <td>6.007990</td>\n",
       "      <td>999.706909</td>\n",
       "      <td>...</td>\n",
       "      <td>8.764648</td>\n",
       "      <td>42.192020</td>\n",
       "      <td>6.055403</td>\n",
       "      <td>9.889648</td>\n",
       "      <td>5.507324</td>\n",
       "      <td>70.541216</td>\n",
       "      <td>2.143149</td>\n",
       "      <td>10.411962</td>\n",
       "      <td>0.895447</td>\n",
       "      <td>16.904297</td>\n",
       "    </tr>\n",
       "    <tr>\n",
       "      <th>1</th>\n",
       "      <td>2016-01-15 01:00:00</td>\n",
       "      <td>6.478583</td>\n",
       "      <td>6.161113</td>\n",
       "      <td>2.266033</td>\n",
       "      <td>35.753385</td>\n",
       "      <td>525.290581</td>\n",
       "      <td>57.278666</td>\n",
       "      <td>11.971193</td>\n",
       "      <td>6.005766</td>\n",
       "      <td>1000.286398</td>\n",
       "      <td>...</td>\n",
       "      <td>9.001494</td>\n",
       "      <td>42.701629</td>\n",
       "      <td>6.029369</td>\n",
       "      <td>9.968944</td>\n",
       "      <td>5.257781</td>\n",
       "      <td>69.266198</td>\n",
       "      <td>2.224930</td>\n",
       "      <td>10.462676</td>\n",
       "      <td>0.927452</td>\n",
       "      <td>16.634514</td>\n",
       "    </tr>\n",
       "    <tr>\n",
       "      <th>2</th>\n",
       "      <td>2016-01-15 02:00:00</td>\n",
       "      <td>6.362222</td>\n",
       "      <td>6.116455</td>\n",
       "      <td>2.159622</td>\n",
       "      <td>35.971630</td>\n",
       "      <td>530.026610</td>\n",
       "      <td>57.510649</td>\n",
       "      <td>11.920603</td>\n",
       "      <td>6.197377</td>\n",
       "      <td>999.719565</td>\n",
       "      <td>...</td>\n",
       "      <td>8.842896</td>\n",
       "      <td>42.657501</td>\n",
       "      <td>6.055926</td>\n",
       "      <td>10.213995</td>\n",
       "      <td>5.383759</td>\n",
       "      <td>68.116445</td>\n",
       "      <td>2.257889</td>\n",
       "      <td>10.507046</td>\n",
       "      <td>0.953716</td>\n",
       "      <td>16.208849</td>\n",
       "    </tr>\n",
       "    <tr>\n",
       "      <th>3</th>\n",
       "      <td>2016-01-15 03:00:00</td>\n",
       "      <td>6.118189</td>\n",
       "      <td>6.043309</td>\n",
       "      <td>2.037807</td>\n",
       "      <td>36.862241</td>\n",
       "      <td>542.590390</td>\n",
       "      <td>57.792734</td>\n",
       "      <td>11.630094</td>\n",
       "      <td>6.203177</td>\n",
       "      <td>999.814770</td>\n",
       "      <td>...</td>\n",
       "      <td>9.122857</td>\n",
       "      <td>42.689819</td>\n",
       "      <td>6.047977</td>\n",
       "      <td>9.977019</td>\n",
       "      <td>4.858634</td>\n",
       "      <td>68.347543</td>\n",
       "      <td>2.146849</td>\n",
       "      <td>10.422762</td>\n",
       "      <td>0.883763</td>\n",
       "      <td>16.532835</td>\n",
       "    </tr>\n",
       "    <tr>\n",
       "      <th>4</th>\n",
       "      <td>2016-01-15 04:00:00</td>\n",
       "      <td>5.663707</td>\n",
       "      <td>6.060915</td>\n",
       "      <td>1.786875</td>\n",
       "      <td>34.347666</td>\n",
       "      <td>540.531893</td>\n",
       "      <td>56.047189</td>\n",
       "      <td>10.957755</td>\n",
       "      <td>6.198826</td>\n",
       "      <td>999.678690</td>\n",
       "      <td>...</td>\n",
       "      <td>8.871028</td>\n",
       "      <td>42.774141</td>\n",
       "      <td>6.148599</td>\n",
       "      <td>10.142511</td>\n",
       "      <td>4.939416</td>\n",
       "      <td>66.927016</td>\n",
       "      <td>2.055292</td>\n",
       "      <td>10.360302</td>\n",
       "      <td>0.792826</td>\n",
       "      <td>16.525686</td>\n",
       "    </tr>\n",
       "  </tbody>\n",
       "</table>\n",
       "<p>5 rows × 87 columns</p>\n",
       "</div>"
      ],
      "text/plain": [
       "                  date  rougher.input.feed_au  rougher.input.feed_ag  \\\n",
       "0  2016-01-15 00:00:00               6.486150               6.100378   \n",
       "1  2016-01-15 01:00:00               6.478583               6.161113   \n",
       "2  2016-01-15 02:00:00               6.362222               6.116455   \n",
       "3  2016-01-15 03:00:00               6.118189               6.043309   \n",
       "4  2016-01-15 04:00:00               5.663707               6.060915   \n",
       "\n",
       "   rougher.input.feed_pb  rougher.input.feed_sol  rougher.input.feed_rate  \\\n",
       "0               2.284912               36.808594               523.546326   \n",
       "1               2.266033               35.753385               525.290581   \n",
       "2               2.159622               35.971630               530.026610   \n",
       "3               2.037807               36.862241               542.590390   \n",
       "4               1.786875               34.347666               540.531893   \n",
       "\n",
       "   rougher.input.feed_size  rougher.input.floatbank10_sulfate  \\\n",
       "0                55.486599                          11.986616   \n",
       "1                57.278666                          11.971193   \n",
       "2                57.510649                          11.920603   \n",
       "3                57.792734                          11.630094   \n",
       "4                56.047189                          10.957755   \n",
       "\n",
       "   rougher.input.floatbank10_xanthate  rougher.state.floatbank10_a_air  ...  \\\n",
       "0                            6.007990                       999.706909  ...   \n",
       "1                            6.005766                      1000.286398  ...   \n",
       "2                            6.197377                       999.719565  ...   \n",
       "3                            6.203177                       999.814770  ...   \n",
       "4                            6.198826                       999.678690  ...   \n",
       "\n",
       "   secondary_cleaner.output.tail_sol  final.output.concentrate_au  \\\n",
       "0                           8.764648                    42.192020   \n",
       "1                           9.001494                    42.701629   \n",
       "2                           8.842896                    42.657501   \n",
       "3                           9.122857                    42.689819   \n",
       "4                           8.871028                    42.774141   \n",
       "\n",
       "   final.output.concentrate_ag  final.output.concentrate_pb  \\\n",
       "0                     6.055403                     9.889648   \n",
       "1                     6.029369                     9.968944   \n",
       "2                     6.055926                    10.213995   \n",
       "3                     6.047977                     9.977019   \n",
       "4                     6.148599                    10.142511   \n",
       "\n",
       "   final.output.concentrate_sol  final.output.recovery  final.output.tail_au  \\\n",
       "0                      5.507324              70.541216              2.143149   \n",
       "1                      5.257781              69.266198              2.224930   \n",
       "2                      5.383759              68.116445              2.257889   \n",
       "3                      4.858634              68.347543              2.146849   \n",
       "4                      4.939416              66.927016              2.055292   \n",
       "\n",
       "   final.output.tail_ag  final.output.tail_pb  final.output.tail_sol  \n",
       "0             10.411962              0.895447              16.904297  \n",
       "1             10.462676              0.927452              16.634514  \n",
       "2             10.507046              0.953716              16.208849  \n",
       "3             10.422762              0.883763              16.532835  \n",
       "4             10.360302              0.792826              16.525686  \n",
       "\n",
       "[5 rows x 87 columns]"
      ]
     },
     "execution_count": 3,
     "metadata": {},
     "output_type": "execute_result"
    }
   ],
   "source": [
    "data_train.head()"
   ]
  },
  {
   "cell_type": "code",
   "execution_count": 4,
   "metadata": {},
   "outputs": [
    {
     "data": {
      "text/html": [
       "<div>\n",
       "<style scoped>\n",
       "    .dataframe tbody tr th:only-of-type {\n",
       "        vertical-align: middle;\n",
       "    }\n",
       "\n",
       "    .dataframe tbody tr th {\n",
       "        vertical-align: top;\n",
       "    }\n",
       "\n",
       "    .dataframe thead th {\n",
       "        text-align: right;\n",
       "    }\n",
       "</style>\n",
       "<table border=\"1\" class=\"dataframe\">\n",
       "  <thead>\n",
       "    <tr style=\"text-align: right;\">\n",
       "      <th></th>\n",
       "      <th>date</th>\n",
       "      <th>rougher.input.feed_au</th>\n",
       "      <th>rougher.input.feed_ag</th>\n",
       "      <th>rougher.input.feed_pb</th>\n",
       "      <th>rougher.input.feed_sol</th>\n",
       "      <th>rougher.input.feed_rate</th>\n",
       "      <th>rougher.input.feed_size</th>\n",
       "      <th>rougher.input.floatbank10_sulfate</th>\n",
       "      <th>rougher.input.floatbank10_xanthate</th>\n",
       "      <th>rougher.state.floatbank10_a_air</th>\n",
       "      <th>...</th>\n",
       "      <th>secondary_cleaner.state.floatbank4_a_air</th>\n",
       "      <th>secondary_cleaner.state.floatbank4_a_level</th>\n",
       "      <th>secondary_cleaner.state.floatbank4_b_air</th>\n",
       "      <th>secondary_cleaner.state.floatbank4_b_level</th>\n",
       "      <th>secondary_cleaner.state.floatbank5_a_air</th>\n",
       "      <th>secondary_cleaner.state.floatbank5_a_level</th>\n",
       "      <th>secondary_cleaner.state.floatbank5_b_air</th>\n",
       "      <th>secondary_cleaner.state.floatbank5_b_level</th>\n",
       "      <th>secondary_cleaner.state.floatbank6_a_air</th>\n",
       "      <th>secondary_cleaner.state.floatbank6_a_level</th>\n",
       "    </tr>\n",
       "  </thead>\n",
       "  <tbody>\n",
       "    <tr>\n",
       "      <th>0</th>\n",
       "      <td>2017-12-09 14:59:59</td>\n",
       "      <td>4.365491</td>\n",
       "      <td>6.158718</td>\n",
       "      <td>3.875727</td>\n",
       "      <td>39.135119</td>\n",
       "      <td>555.820208</td>\n",
       "      <td>94.544358</td>\n",
       "      <td>6.146982</td>\n",
       "      <td>9.308612</td>\n",
       "      <td>1196.238112</td>\n",
       "      <td>...</td>\n",
       "      <td>23.018622</td>\n",
       "      <td>-500.492702</td>\n",
       "      <td>20.020205</td>\n",
       "      <td>-500.220296</td>\n",
       "      <td>17.963512</td>\n",
       "      <td>-499.939490</td>\n",
       "      <td>12.990306</td>\n",
       "      <td>-500.080993</td>\n",
       "      <td>19.990336</td>\n",
       "      <td>-499.191575</td>\n",
       "    </tr>\n",
       "    <tr>\n",
       "      <th>1</th>\n",
       "      <td>2017-12-09 15:59:59</td>\n",
       "      <td>4.362781</td>\n",
       "      <td>6.048130</td>\n",
       "      <td>3.902537</td>\n",
       "      <td>39.713906</td>\n",
       "      <td>544.731687</td>\n",
       "      <td>123.742430</td>\n",
       "      <td>6.210119</td>\n",
       "      <td>9.297709</td>\n",
       "      <td>1201.904177</td>\n",
       "      <td>...</td>\n",
       "      <td>23.024963</td>\n",
       "      <td>-501.153409</td>\n",
       "      <td>20.054122</td>\n",
       "      <td>-500.314711</td>\n",
       "      <td>17.979515</td>\n",
       "      <td>-499.272871</td>\n",
       "      <td>12.992404</td>\n",
       "      <td>-499.976268</td>\n",
       "      <td>20.013986</td>\n",
       "      <td>-500.625471</td>\n",
       "    </tr>\n",
       "    <tr>\n",
       "      <th>2</th>\n",
       "      <td>2017-12-09 16:59:59</td>\n",
       "      <td>5.081681</td>\n",
       "      <td>6.082745</td>\n",
       "      <td>4.564078</td>\n",
       "      <td>37.208683</td>\n",
       "      <td>558.155110</td>\n",
       "      <td>82.610855</td>\n",
       "      <td>7.363824</td>\n",
       "      <td>9.003562</td>\n",
       "      <td>1200.826926</td>\n",
       "      <td>...</td>\n",
       "      <td>22.993827</td>\n",
       "      <td>-501.559663</td>\n",
       "      <td>20.029144</td>\n",
       "      <td>-500.000662</td>\n",
       "      <td>18.012723</td>\n",
       "      <td>-500.024764</td>\n",
       "      <td>13.016445</td>\n",
       "      <td>-500.058432</td>\n",
       "      <td>19.973767</td>\n",
       "      <td>-501.394155</td>\n",
       "    </tr>\n",
       "    <tr>\n",
       "      <th>3</th>\n",
       "      <td>2017-12-09 17:59:59</td>\n",
       "      <td>5.145949</td>\n",
       "      <td>6.084374</td>\n",
       "      <td>4.768124</td>\n",
       "      <td>36.808874</td>\n",
       "      <td>539.713765</td>\n",
       "      <td>77.984784</td>\n",
       "      <td>6.927072</td>\n",
       "      <td>8.955597</td>\n",
       "      <td>1199.292489</td>\n",
       "      <td>...</td>\n",
       "      <td>23.032807</td>\n",
       "      <td>-501.287889</td>\n",
       "      <td>19.977466</td>\n",
       "      <td>-500.159903</td>\n",
       "      <td>17.980463</td>\n",
       "      <td>-500.504602</td>\n",
       "      <td>12.949071</td>\n",
       "      <td>-500.009937</td>\n",
       "      <td>20.010332</td>\n",
       "      <td>-508.337973</td>\n",
       "    </tr>\n",
       "    <tr>\n",
       "      <th>4</th>\n",
       "      <td>2017-12-09 18:59:59</td>\n",
       "      <td>5.735249</td>\n",
       "      <td>6.165220</td>\n",
       "      <td>4.512346</td>\n",
       "      <td>37.810642</td>\n",
       "      <td>558.713584</td>\n",
       "      <td>86.434874</td>\n",
       "      <td>7.823471</td>\n",
       "      <td>7.490356</td>\n",
       "      <td>1198.005449</td>\n",
       "      <td>...</td>\n",
       "      <td>23.001911</td>\n",
       "      <td>-499.947838</td>\n",
       "      <td>20.023735</td>\n",
       "      <td>-499.713680</td>\n",
       "      <td>17.990955</td>\n",
       "      <td>-500.334769</td>\n",
       "      <td>13.007523</td>\n",
       "      <td>-499.968459</td>\n",
       "      <td>19.995999</td>\n",
       "      <td>-499.788805</td>\n",
       "    </tr>\n",
       "  </tbody>\n",
       "</table>\n",
       "<p>5 rows × 53 columns</p>\n",
       "</div>"
      ],
      "text/plain": [
       "                  date  rougher.input.feed_au  rougher.input.feed_ag  \\\n",
       "0  2017-12-09 14:59:59               4.365491               6.158718   \n",
       "1  2017-12-09 15:59:59               4.362781               6.048130   \n",
       "2  2017-12-09 16:59:59               5.081681               6.082745   \n",
       "3  2017-12-09 17:59:59               5.145949               6.084374   \n",
       "4  2017-12-09 18:59:59               5.735249               6.165220   \n",
       "\n",
       "   rougher.input.feed_pb  rougher.input.feed_sol  rougher.input.feed_rate  \\\n",
       "0               3.875727               39.135119               555.820208   \n",
       "1               3.902537               39.713906               544.731687   \n",
       "2               4.564078               37.208683               558.155110   \n",
       "3               4.768124               36.808874               539.713765   \n",
       "4               4.512346               37.810642               558.713584   \n",
       "\n",
       "   rougher.input.feed_size  rougher.input.floatbank10_sulfate  \\\n",
       "0                94.544358                           6.146982   \n",
       "1               123.742430                           6.210119   \n",
       "2                82.610855                           7.363824   \n",
       "3                77.984784                           6.927072   \n",
       "4                86.434874                           7.823471   \n",
       "\n",
       "   rougher.input.floatbank10_xanthate  rougher.state.floatbank10_a_air  ...  \\\n",
       "0                            9.308612                      1196.238112  ...   \n",
       "1                            9.297709                      1201.904177  ...   \n",
       "2                            9.003562                      1200.826926  ...   \n",
       "3                            8.955597                      1199.292489  ...   \n",
       "4                            7.490356                      1198.005449  ...   \n",
       "\n",
       "   secondary_cleaner.state.floatbank4_a_air  \\\n",
       "0                                 23.018622   \n",
       "1                                 23.024963   \n",
       "2                                 22.993827   \n",
       "3                                 23.032807   \n",
       "4                                 23.001911   \n",
       "\n",
       "   secondary_cleaner.state.floatbank4_a_level  \\\n",
       "0                                 -500.492702   \n",
       "1                                 -501.153409   \n",
       "2                                 -501.559663   \n",
       "3                                 -501.287889   \n",
       "4                                 -499.947838   \n",
       "\n",
       "   secondary_cleaner.state.floatbank4_b_air  \\\n",
       "0                                 20.020205   \n",
       "1                                 20.054122   \n",
       "2                                 20.029144   \n",
       "3                                 19.977466   \n",
       "4                                 20.023735   \n",
       "\n",
       "   secondary_cleaner.state.floatbank4_b_level  \\\n",
       "0                                 -500.220296   \n",
       "1                                 -500.314711   \n",
       "2                                 -500.000662   \n",
       "3                                 -500.159903   \n",
       "4                                 -499.713680   \n",
       "\n",
       "   secondary_cleaner.state.floatbank5_a_air  \\\n",
       "0                                 17.963512   \n",
       "1                                 17.979515   \n",
       "2                                 18.012723   \n",
       "3                                 17.980463   \n",
       "4                                 17.990955   \n",
       "\n",
       "   secondary_cleaner.state.floatbank5_a_level  \\\n",
       "0                                 -499.939490   \n",
       "1                                 -499.272871   \n",
       "2                                 -500.024764   \n",
       "3                                 -500.504602   \n",
       "4                                 -500.334769   \n",
       "\n",
       "   secondary_cleaner.state.floatbank5_b_air  \\\n",
       "0                                 12.990306   \n",
       "1                                 12.992404   \n",
       "2                                 13.016445   \n",
       "3                                 12.949071   \n",
       "4                                 13.007523   \n",
       "\n",
       "   secondary_cleaner.state.floatbank5_b_level  \\\n",
       "0                                 -500.080993   \n",
       "1                                 -499.976268   \n",
       "2                                 -500.058432   \n",
       "3                                 -500.009937   \n",
       "4                                 -499.968459   \n",
       "\n",
       "   secondary_cleaner.state.floatbank6_a_air  \\\n",
       "0                                 19.990336   \n",
       "1                                 20.013986   \n",
       "2                                 19.973767   \n",
       "3                                 20.010332   \n",
       "4                                 19.995999   \n",
       "\n",
       "   secondary_cleaner.state.floatbank6_a_level  \n",
       "0                                 -499.191575  \n",
       "1                                 -500.625471  \n",
       "2                                 -501.394155  \n",
       "3                                 -508.337973  \n",
       "4                                 -499.788805  \n",
       "\n",
       "[5 rows x 53 columns]"
      ]
     },
     "execution_count": 4,
     "metadata": {},
     "output_type": "execute_result"
    }
   ],
   "source": [
    "data_test.head()"
   ]
  },
  {
   "cell_type": "code",
   "execution_count": 5,
   "metadata": {},
   "outputs": [
    {
     "data": {
      "text/html": [
       "<div>\n",
       "<style scoped>\n",
       "    .dataframe tbody tr th:only-of-type {\n",
       "        vertical-align: middle;\n",
       "    }\n",
       "\n",
       "    .dataframe tbody tr th {\n",
       "        vertical-align: top;\n",
       "    }\n",
       "\n",
       "    .dataframe thead th {\n",
       "        text-align: right;\n",
       "    }\n",
       "</style>\n",
       "<table border=\"1\" class=\"dataframe\">\n",
       "  <thead>\n",
       "    <tr style=\"text-align: right;\">\n",
       "      <th></th>\n",
       "      <th>date</th>\n",
       "      <th>rougher.input.feed_au</th>\n",
       "      <th>rougher.input.feed_ag</th>\n",
       "      <th>rougher.input.feed_pb</th>\n",
       "      <th>rougher.input.feed_sol</th>\n",
       "      <th>rougher.input.feed_rate</th>\n",
       "      <th>rougher.input.feed_size</th>\n",
       "      <th>rougher.input.floatbank10_sulfate</th>\n",
       "      <th>rougher.input.floatbank10_xanthate</th>\n",
       "      <th>rougher.state.floatbank10_a_air</th>\n",
       "      <th>...</th>\n",
       "      <th>secondary_cleaner.output.tail_sol</th>\n",
       "      <th>final.output.concentrate_au</th>\n",
       "      <th>final.output.concentrate_ag</th>\n",
       "      <th>final.output.concentrate_pb</th>\n",
       "      <th>final.output.concentrate_sol</th>\n",
       "      <th>final.output.recovery</th>\n",
       "      <th>final.output.tail_au</th>\n",
       "      <th>final.output.tail_ag</th>\n",
       "      <th>final.output.tail_pb</th>\n",
       "      <th>final.output.tail_sol</th>\n",
       "    </tr>\n",
       "  </thead>\n",
       "  <tbody>\n",
       "    <tr>\n",
       "      <th>0</th>\n",
       "      <td>2016-01-15 00:00:00</td>\n",
       "      <td>6.486150</td>\n",
       "      <td>6.100378</td>\n",
       "      <td>2.284912</td>\n",
       "      <td>36.808594</td>\n",
       "      <td>523.546326</td>\n",
       "      <td>55.486599</td>\n",
       "      <td>11.986616</td>\n",
       "      <td>6.007990</td>\n",
       "      <td>999.706909</td>\n",
       "      <td>...</td>\n",
       "      <td>8.764648</td>\n",
       "      <td>42.192020</td>\n",
       "      <td>6.055403</td>\n",
       "      <td>9.889648</td>\n",
       "      <td>5.507324</td>\n",
       "      <td>70.541216</td>\n",
       "      <td>2.143149</td>\n",
       "      <td>10.411962</td>\n",
       "      <td>0.895447</td>\n",
       "      <td>16.904297</td>\n",
       "    </tr>\n",
       "    <tr>\n",
       "      <th>1</th>\n",
       "      <td>2016-01-15 01:00:00</td>\n",
       "      <td>6.478583</td>\n",
       "      <td>6.161113</td>\n",
       "      <td>2.266033</td>\n",
       "      <td>35.753385</td>\n",
       "      <td>525.290581</td>\n",
       "      <td>57.278666</td>\n",
       "      <td>11.971193</td>\n",
       "      <td>6.005766</td>\n",
       "      <td>1000.286398</td>\n",
       "      <td>...</td>\n",
       "      <td>9.001494</td>\n",
       "      <td>42.701629</td>\n",
       "      <td>6.029369</td>\n",
       "      <td>9.968944</td>\n",
       "      <td>5.257781</td>\n",
       "      <td>69.266198</td>\n",
       "      <td>2.224930</td>\n",
       "      <td>10.462676</td>\n",
       "      <td>0.927452</td>\n",
       "      <td>16.634514</td>\n",
       "    </tr>\n",
       "    <tr>\n",
       "      <th>2</th>\n",
       "      <td>2016-01-15 02:00:00</td>\n",
       "      <td>6.362222</td>\n",
       "      <td>6.116455</td>\n",
       "      <td>2.159622</td>\n",
       "      <td>35.971630</td>\n",
       "      <td>530.026610</td>\n",
       "      <td>57.510649</td>\n",
       "      <td>11.920603</td>\n",
       "      <td>6.197377</td>\n",
       "      <td>999.719565</td>\n",
       "      <td>...</td>\n",
       "      <td>8.842896</td>\n",
       "      <td>42.657501</td>\n",
       "      <td>6.055926</td>\n",
       "      <td>10.213995</td>\n",
       "      <td>5.383759</td>\n",
       "      <td>68.116445</td>\n",
       "      <td>2.257889</td>\n",
       "      <td>10.507046</td>\n",
       "      <td>0.953716</td>\n",
       "      <td>16.208849</td>\n",
       "    </tr>\n",
       "    <tr>\n",
       "      <th>3</th>\n",
       "      <td>2016-01-15 03:00:00</td>\n",
       "      <td>6.118189</td>\n",
       "      <td>6.043309</td>\n",
       "      <td>2.037807</td>\n",
       "      <td>36.862241</td>\n",
       "      <td>542.590390</td>\n",
       "      <td>57.792734</td>\n",
       "      <td>11.630094</td>\n",
       "      <td>6.203177</td>\n",
       "      <td>999.814770</td>\n",
       "      <td>...</td>\n",
       "      <td>9.122857</td>\n",
       "      <td>42.689819</td>\n",
       "      <td>6.047977</td>\n",
       "      <td>9.977019</td>\n",
       "      <td>4.858634</td>\n",
       "      <td>68.347543</td>\n",
       "      <td>2.146849</td>\n",
       "      <td>10.422762</td>\n",
       "      <td>0.883763</td>\n",
       "      <td>16.532835</td>\n",
       "    </tr>\n",
       "    <tr>\n",
       "      <th>4</th>\n",
       "      <td>2016-01-15 04:00:00</td>\n",
       "      <td>5.663707</td>\n",
       "      <td>6.060915</td>\n",
       "      <td>1.786875</td>\n",
       "      <td>34.347666</td>\n",
       "      <td>540.531893</td>\n",
       "      <td>56.047189</td>\n",
       "      <td>10.957755</td>\n",
       "      <td>6.198826</td>\n",
       "      <td>999.678690</td>\n",
       "      <td>...</td>\n",
       "      <td>8.871028</td>\n",
       "      <td>42.774141</td>\n",
       "      <td>6.148599</td>\n",
       "      <td>10.142511</td>\n",
       "      <td>4.939416</td>\n",
       "      <td>66.927016</td>\n",
       "      <td>2.055292</td>\n",
       "      <td>10.360302</td>\n",
       "      <td>0.792826</td>\n",
       "      <td>16.525686</td>\n",
       "    </tr>\n",
       "  </tbody>\n",
       "</table>\n",
       "<p>5 rows × 87 columns</p>\n",
       "</div>"
      ],
      "text/plain": [
       "                  date  rougher.input.feed_au  rougher.input.feed_ag  \\\n",
       "0  2016-01-15 00:00:00               6.486150               6.100378   \n",
       "1  2016-01-15 01:00:00               6.478583               6.161113   \n",
       "2  2016-01-15 02:00:00               6.362222               6.116455   \n",
       "3  2016-01-15 03:00:00               6.118189               6.043309   \n",
       "4  2016-01-15 04:00:00               5.663707               6.060915   \n",
       "\n",
       "   rougher.input.feed_pb  rougher.input.feed_sol  rougher.input.feed_rate  \\\n",
       "0               2.284912               36.808594               523.546326   \n",
       "1               2.266033               35.753385               525.290581   \n",
       "2               2.159622               35.971630               530.026610   \n",
       "3               2.037807               36.862241               542.590390   \n",
       "4               1.786875               34.347666               540.531893   \n",
       "\n",
       "   rougher.input.feed_size  rougher.input.floatbank10_sulfate  \\\n",
       "0                55.486599                          11.986616   \n",
       "1                57.278666                          11.971193   \n",
       "2                57.510649                          11.920603   \n",
       "3                57.792734                          11.630094   \n",
       "4                56.047189                          10.957755   \n",
       "\n",
       "   rougher.input.floatbank10_xanthate  rougher.state.floatbank10_a_air  ...  \\\n",
       "0                            6.007990                       999.706909  ...   \n",
       "1                            6.005766                      1000.286398  ...   \n",
       "2                            6.197377                       999.719565  ...   \n",
       "3                            6.203177                       999.814770  ...   \n",
       "4                            6.198826                       999.678690  ...   \n",
       "\n",
       "   secondary_cleaner.output.tail_sol  final.output.concentrate_au  \\\n",
       "0                           8.764648                    42.192020   \n",
       "1                           9.001494                    42.701629   \n",
       "2                           8.842896                    42.657501   \n",
       "3                           9.122857                    42.689819   \n",
       "4                           8.871028                    42.774141   \n",
       "\n",
       "   final.output.concentrate_ag  final.output.concentrate_pb  \\\n",
       "0                     6.055403                     9.889648   \n",
       "1                     6.029369                     9.968944   \n",
       "2                     6.055926                    10.213995   \n",
       "3                     6.047977                     9.977019   \n",
       "4                     6.148599                    10.142511   \n",
       "\n",
       "   final.output.concentrate_sol  final.output.recovery  final.output.tail_au  \\\n",
       "0                      5.507324              70.541216              2.143149   \n",
       "1                      5.257781              69.266198              2.224930   \n",
       "2                      5.383759              68.116445              2.257889   \n",
       "3                      4.858634              68.347543              2.146849   \n",
       "4                      4.939416              66.927016              2.055292   \n",
       "\n",
       "   final.output.tail_ag  final.output.tail_pb  final.output.tail_sol  \n",
       "0             10.411962              0.895447              16.904297  \n",
       "1             10.462676              0.927452              16.634514  \n",
       "2             10.507046              0.953716              16.208849  \n",
       "3             10.422762              0.883763              16.532835  \n",
       "4             10.360302              0.792826              16.525686  \n",
       "\n",
       "[5 rows x 87 columns]"
      ]
     },
     "execution_count": 5,
     "metadata": {},
     "output_type": "execute_result"
    }
   ],
   "source": [
    "data_full.head()"
   ]
  },
  {
   "cell_type": "code",
   "execution_count": 6,
   "metadata": {},
   "outputs": [
    {
     "name": "stdout",
     "output_type": "stream",
     "text": [
      "<class 'pandas.core.frame.DataFrame'>\n",
      "RangeIndex: 19439 entries, 0 to 19438\n",
      "Data columns (total 87 columns):\n",
      " #   Column                                              Non-Null Count  Dtype  \n",
      "---  ------                                              --------------  -----  \n",
      " 0   date                                                19439 non-null  object \n",
      " 1   rougher.input.feed_au                               19439 non-null  float64\n",
      " 2   rougher.input.feed_ag                               19439 non-null  float64\n",
      " 3   rougher.input.feed_pb                               19339 non-null  float64\n",
      " 4   rougher.input.feed_sol                              19340 non-null  float64\n",
      " 5   rougher.input.feed_rate                             19428 non-null  float64\n",
      " 6   rougher.input.feed_size                             19294 non-null  float64\n",
      " 7   rougher.input.floatbank10_sulfate                   19405 non-null  float64\n",
      " 8   rougher.input.floatbank10_xanthate                  19431 non-null  float64\n",
      " 9   rougher.state.floatbank10_a_air                     19438 non-null  float64\n",
      " 10  rougher.state.floatbank10_a_level                   19438 non-null  float64\n",
      " 11  rougher.state.floatbank10_b_air                     19438 non-null  float64\n",
      " 12  rougher.state.floatbank10_b_level                   19438 non-null  float64\n",
      " 13  rougher.state.floatbank10_c_air                     19438 non-null  float64\n",
      " 14  rougher.state.floatbank10_c_level                   19438 non-null  float64\n",
      " 15  rougher.state.floatbank10_d_air                     19439 non-null  float64\n",
      " 16  rougher.state.floatbank10_d_level                   19439 non-null  float64\n",
      " 17  rougher.state.floatbank10_e_air                     19003 non-null  float64\n",
      " 18  rougher.state.floatbank10_e_level                   19439 non-null  float64\n",
      " 19  rougher.state.floatbank10_f_air                     19439 non-null  float64\n",
      " 20  rougher.state.floatbank10_f_level                   19439 non-null  float64\n",
      " 21  rougher.input.floatbank11_sulfate                   19395 non-null  float64\n",
      " 22  rougher.input.floatbank11_xanthate                  18986 non-null  float64\n",
      " 23  rougher.calculation.sulfate_to_au_concentrate       19437 non-null  float64\n",
      " 24  rougher.calculation.floatbank10_sulfate_to_au_feed  19437 non-null  float64\n",
      " 25  rougher.calculation.floatbank11_sulfate_to_au_feed  19437 non-null  float64\n",
      " 26  rougher.calculation.au_pb_ratio                     19439 non-null  float64\n",
      " 27  rougher.output.concentrate_au                       19439 non-null  float64\n",
      " 28  rougher.output.concentrate_ag                       19439 non-null  float64\n",
      " 29  rougher.output.concentrate_pb                       19439 non-null  float64\n",
      " 30  rougher.output.concentrate_sol                      19416 non-null  float64\n",
      " 31  rougher.output.recovery                             19439 non-null  float64\n",
      " 32  rougher.output.tail_au                              19439 non-null  float64\n",
      " 33  rougher.output.tail_ag                              19438 non-null  float64\n",
      " 34  rougher.output.tail_pb                              19439 non-null  float64\n",
      " 35  rougher.output.tail_sol                             19439 non-null  float64\n",
      " 36  primary_cleaner.input.sulfate                       19415 non-null  float64\n",
      " 37  primary_cleaner.input.depressant                    19402 non-null  float64\n",
      " 38  primary_cleaner.input.feed_size                     19439 non-null  float64\n",
      " 39  primary_cleaner.input.xanthate                      19335 non-null  float64\n",
      " 40  primary_cleaner.state.floatbank8_a_air              19435 non-null  float64\n",
      " 41  primary_cleaner.state.floatbank8_a_level            19438 non-null  float64\n",
      " 42  primary_cleaner.state.floatbank8_b_air              19435 non-null  float64\n",
      " 43  primary_cleaner.state.floatbank8_b_level            19438 non-null  float64\n",
      " 44  primary_cleaner.state.floatbank8_c_air              19437 non-null  float64\n",
      " 45  primary_cleaner.state.floatbank8_c_level            19438 non-null  float64\n",
      " 46  primary_cleaner.state.floatbank8_d_air              19436 non-null  float64\n",
      " 47  primary_cleaner.state.floatbank8_d_level            19438 non-null  float64\n",
      " 48  primary_cleaner.output.concentrate_au               19439 non-null  float64\n",
      " 49  primary_cleaner.output.concentrate_ag               19439 non-null  float64\n",
      " 50  primary_cleaner.output.concentrate_pb               19323 non-null  float64\n",
      " 51  primary_cleaner.output.concentrate_sol              19069 non-null  float64\n",
      " 52  primary_cleaner.output.tail_au                      19439 non-null  float64\n",
      " 53  primary_cleaner.output.tail_ag                      19435 non-null  float64\n",
      " 54  primary_cleaner.output.tail_pb                      19418 non-null  float64\n",
      " 55  primary_cleaner.output.tail_sol                     19377 non-null  float64\n",
      " 56  secondary_cleaner.state.floatbank2_a_air            19219 non-null  float64\n",
      " 57  secondary_cleaner.state.floatbank2_a_level          19438 non-null  float64\n",
      " 58  secondary_cleaner.state.floatbank2_b_air            19416 non-null  float64\n",
      " 59  secondary_cleaner.state.floatbank2_b_level          19438 non-null  float64\n",
      " 60  secondary_cleaner.state.floatbank3_a_air            19426 non-null  float64\n",
      " 61  secondary_cleaner.state.floatbank3_a_level          19438 non-null  float64\n",
      " 62  secondary_cleaner.state.floatbank3_b_air            19438 non-null  float64\n",
      " 63  secondary_cleaner.state.floatbank3_b_level          19438 non-null  float64\n",
      " 64  secondary_cleaner.state.floatbank4_a_air            19433 non-null  float64\n",
      " 65  secondary_cleaner.state.floatbank4_a_level          19438 non-null  float64\n",
      " 66  secondary_cleaner.state.floatbank4_b_air            19438 non-null  float64\n",
      " 67  secondary_cleaner.state.floatbank4_b_level          19438 non-null  float64\n",
      " 68  secondary_cleaner.state.floatbank5_a_air            19438 non-null  float64\n",
      " 69  secondary_cleaner.state.floatbank5_a_level          19438 non-null  float64\n",
      " 70  secondary_cleaner.state.floatbank5_b_air            19438 non-null  float64\n",
      " 71  secondary_cleaner.state.floatbank5_b_level          19438 non-null  float64\n",
      " 72  secondary_cleaner.state.floatbank6_a_air            19437 non-null  float64\n",
      " 73  secondary_cleaner.state.floatbank6_a_level          19438 non-null  float64\n",
      " 74  secondary_cleaner.output.tail_au                    19439 non-null  float64\n",
      " 75  secondary_cleaner.output.tail_ag                    19437 non-null  float64\n",
      " 76  secondary_cleaner.output.tail_pb                    19427 non-null  float64\n",
      " 77  secondary_cleaner.output.tail_sol                   17691 non-null  float64\n",
      " 78  final.output.concentrate_au                         19439 non-null  float64\n",
      " 79  final.output.concentrate_ag                         19438 non-null  float64\n",
      " 80  final.output.concentrate_pb                         19438 non-null  float64\n",
      " 81  final.output.concentrate_sol                        19228 non-null  float64\n",
      " 82  final.output.recovery                               19439 non-null  float64\n",
      " 83  final.output.tail_au                                19439 non-null  float64\n",
      " 84  final.output.tail_ag                                19438 non-null  float64\n",
      " 85  final.output.tail_pb                                19338 non-null  float64\n",
      " 86  final.output.tail_sol                               19433 non-null  float64\n",
      "dtypes: float64(86), object(1)\n",
      "memory usage: 12.9+ MB\n"
     ]
    }
   ],
   "source": [
    "data_full.info()"
   ]
  },
  {
   "cell_type": "code",
   "execution_count": 7,
   "metadata": {},
   "outputs": [
    {
     "name": "stdout",
     "output_type": "stream",
     "text": [
      "<class 'pandas.core.frame.DataFrame'>\n",
      "RangeIndex: 14579 entries, 0 to 14578\n",
      "Data columns (total 87 columns):\n",
      " #   Column                                              Non-Null Count  Dtype  \n",
      "---  ------                                              --------------  -----  \n",
      " 0   date                                                14579 non-null  object \n",
      " 1   rougher.input.feed_au                               14579 non-null  float64\n",
      " 2   rougher.input.feed_ag                               14579 non-null  float64\n",
      " 3   rougher.input.feed_pb                               14507 non-null  float64\n",
      " 4   rougher.input.feed_sol                              14502 non-null  float64\n",
      " 5   rougher.input.feed_rate                             14572 non-null  float64\n",
      " 6   rougher.input.feed_size                             14478 non-null  float64\n",
      " 7   rougher.input.floatbank10_sulfate                   14548 non-null  float64\n",
      " 8   rougher.input.floatbank10_xanthate                  14572 non-null  float64\n",
      " 9   rougher.state.floatbank10_a_air                     14579 non-null  float64\n",
      " 10  rougher.state.floatbank10_a_level                   14579 non-null  float64\n",
      " 11  rougher.state.floatbank10_b_air                     14579 non-null  float64\n",
      " 12  rougher.state.floatbank10_b_level                   14579 non-null  float64\n",
      " 13  rougher.state.floatbank10_c_air                     14579 non-null  float64\n",
      " 14  rougher.state.floatbank10_c_level                   14579 non-null  float64\n",
      " 15  rougher.state.floatbank10_d_air                     14579 non-null  float64\n",
      " 16  rougher.state.floatbank10_d_level                   14579 non-null  float64\n",
      " 17  rougher.state.floatbank10_e_air                     14150 non-null  float64\n",
      " 18  rougher.state.floatbank10_e_level                   14579 non-null  float64\n",
      " 19  rougher.state.floatbank10_f_air                     14579 non-null  float64\n",
      " 20  rougher.state.floatbank10_f_level                   14579 non-null  float64\n",
      " 21  rougher.input.floatbank11_sulfate                   14543 non-null  float64\n",
      " 22  rougher.input.floatbank11_xanthate                  14172 non-null  float64\n",
      " 23  rougher.calculation.sulfate_to_au_concentrate       14578 non-null  float64\n",
      " 24  rougher.calculation.floatbank10_sulfate_to_au_feed  14578 non-null  float64\n",
      " 25  rougher.calculation.floatbank11_sulfate_to_au_feed  14578 non-null  float64\n",
      " 26  rougher.calculation.au_pb_ratio                     14579 non-null  float64\n",
      " 27  rougher.output.concentrate_au                       14579 non-null  float64\n",
      " 28  rougher.output.concentrate_ag                       14579 non-null  float64\n",
      " 29  rougher.output.concentrate_pb                       14579 non-null  float64\n",
      " 30  rougher.output.concentrate_sol                      14561 non-null  float64\n",
      " 31  rougher.output.recovery                             14579 non-null  float64\n",
      " 32  rougher.output.tail_au                              14579 non-null  float64\n",
      " 33  rougher.output.tail_ag                              14578 non-null  float64\n",
      " 34  rougher.output.tail_pb                              14579 non-null  float64\n",
      " 35  rougher.output.tail_sol                             14579 non-null  float64\n",
      " 36  primary_cleaner.input.sulfate                       14556 non-null  float64\n",
      " 37  primary_cleaner.input.depressant                    14551 non-null  float64\n",
      " 38  primary_cleaner.input.feed_size                     14579 non-null  float64\n",
      " 39  primary_cleaner.input.xanthate                      14518 non-null  float64\n",
      " 40  primary_cleaner.state.floatbank8_a_air              14576 non-null  float64\n",
      " 41  primary_cleaner.state.floatbank8_a_level            14579 non-null  float64\n",
      " 42  primary_cleaner.state.floatbank8_b_air              14576 non-null  float64\n",
      " 43  primary_cleaner.state.floatbank8_b_level            14579 non-null  float64\n",
      " 44  primary_cleaner.state.floatbank8_c_air              14579 non-null  float64\n",
      " 45  primary_cleaner.state.floatbank8_c_level            14579 non-null  float64\n",
      " 46  primary_cleaner.state.floatbank8_d_air              14578 non-null  float64\n",
      " 47  primary_cleaner.state.floatbank8_d_level            14579 non-null  float64\n",
      " 48  primary_cleaner.output.concentrate_au               14579 non-null  float64\n",
      " 49  primary_cleaner.output.concentrate_ag               14579 non-null  float64\n",
      " 50  primary_cleaner.output.concentrate_pb               14491 non-null  float64\n",
      " 51  primary_cleaner.output.concentrate_sol              14314 non-null  float64\n",
      " 52  primary_cleaner.output.tail_au                      14579 non-null  float64\n",
      " 53  primary_cleaner.output.tail_ag                      14575 non-null  float64\n",
      " 54  primary_cleaner.output.tail_pb                      14573 non-null  float64\n",
      " 55  primary_cleaner.output.tail_sol                     14534 non-null  float64\n",
      " 56  secondary_cleaner.state.floatbank2_a_air            14485 non-null  float64\n",
      " 57  secondary_cleaner.state.floatbank2_a_level          14579 non-null  float64\n",
      " 58  secondary_cleaner.state.floatbank2_b_air            14557 non-null  float64\n",
      " 59  secondary_cleaner.state.floatbank2_b_level          14579 non-null  float64\n",
      " 60  secondary_cleaner.state.floatbank3_a_air            14567 non-null  float64\n",
      " 61  secondary_cleaner.state.floatbank3_a_level          14579 non-null  float64\n",
      " 62  secondary_cleaner.state.floatbank3_b_air            14579 non-null  float64\n",
      " 63  secondary_cleaner.state.floatbank3_b_level          14579 non-null  float64\n",
      " 64  secondary_cleaner.state.floatbank4_a_air            14574 non-null  float64\n",
      " 65  secondary_cleaner.state.floatbank4_a_level          14579 non-null  float64\n",
      " 66  secondary_cleaner.state.floatbank4_b_air            14579 non-null  float64\n",
      " 67  secondary_cleaner.state.floatbank4_b_level          14579 non-null  float64\n",
      " 68  secondary_cleaner.state.floatbank5_a_air            14579 non-null  float64\n",
      " 69  secondary_cleaner.state.floatbank5_a_level          14579 non-null  float64\n",
      " 70  secondary_cleaner.state.floatbank5_b_air            14579 non-null  float64\n",
      " 71  secondary_cleaner.state.floatbank5_b_level          14579 non-null  float64\n",
      " 72  secondary_cleaner.state.floatbank6_a_air            14578 non-null  float64\n",
      " 73  secondary_cleaner.state.floatbank6_a_level          14579 non-null  float64\n",
      " 74  secondary_cleaner.output.tail_au                    14579 non-null  float64\n",
      " 75  secondary_cleaner.output.tail_ag                    14578 non-null  float64\n",
      " 76  secondary_cleaner.output.tail_pb                    14575 non-null  float64\n",
      " 77  secondary_cleaner.output.tail_sol                   13659 non-null  float64\n",
      " 78  final.output.concentrate_au                         14579 non-null  float64\n",
      " 79  final.output.concentrate_ag                         14578 non-null  float64\n",
      " 80  final.output.concentrate_pb                         14578 non-null  float64\n",
      " 81  final.output.concentrate_sol                        14387 non-null  float64\n",
      " 82  final.output.recovery                               14579 non-null  float64\n",
      " 83  final.output.tail_au                                14579 non-null  float64\n",
      " 84  final.output.tail_ag                                14578 non-null  float64\n",
      " 85  final.output.tail_pb                                14504 non-null  float64\n",
      " 86  final.output.tail_sol                               14574 non-null  float64\n",
      "dtypes: float64(86), object(1)\n",
      "memory usage: 9.7+ MB\n"
     ]
    }
   ],
   "source": [
    "data_train.info()"
   ]
  },
  {
   "cell_type": "code",
   "execution_count": 8,
   "metadata": {},
   "outputs": [
    {
     "name": "stdout",
     "output_type": "stream",
     "text": [
      "<class 'pandas.core.frame.DataFrame'>\n",
      "RangeIndex: 4860 entries, 0 to 4859\n",
      "Data columns (total 53 columns):\n",
      " #   Column                                      Non-Null Count  Dtype  \n",
      "---  ------                                      --------------  -----  \n",
      " 0   date                                        4860 non-null   object \n",
      " 1   rougher.input.feed_au                       4860 non-null   float64\n",
      " 2   rougher.input.feed_ag                       4860 non-null   float64\n",
      " 3   rougher.input.feed_pb                       4832 non-null   float64\n",
      " 4   rougher.input.feed_sol                      4838 non-null   float64\n",
      " 5   rougher.input.feed_rate                     4856 non-null   float64\n",
      " 6   rougher.input.feed_size                     4816 non-null   float64\n",
      " 7   rougher.input.floatbank10_sulfate           4857 non-null   float64\n",
      " 8   rougher.input.floatbank10_xanthate          4859 non-null   float64\n",
      " 9   rougher.state.floatbank10_a_air             4859 non-null   float64\n",
      " 10  rougher.state.floatbank10_a_level           4859 non-null   float64\n",
      " 11  rougher.state.floatbank10_b_air             4859 non-null   float64\n",
      " 12  rougher.state.floatbank10_b_level           4859 non-null   float64\n",
      " 13  rougher.state.floatbank10_c_air             4859 non-null   float64\n",
      " 14  rougher.state.floatbank10_c_level           4859 non-null   float64\n",
      " 15  rougher.state.floatbank10_d_air             4860 non-null   float64\n",
      " 16  rougher.state.floatbank10_d_level           4860 non-null   float64\n",
      " 17  rougher.state.floatbank10_e_air             4853 non-null   float64\n",
      " 18  rougher.state.floatbank10_e_level           4860 non-null   float64\n",
      " 19  rougher.state.floatbank10_f_air             4860 non-null   float64\n",
      " 20  rougher.state.floatbank10_f_level           4860 non-null   float64\n",
      " 21  rougher.input.floatbank11_sulfate           4852 non-null   float64\n",
      " 22  rougher.input.floatbank11_xanthate          4814 non-null   float64\n",
      " 23  primary_cleaner.input.sulfate               4859 non-null   float64\n",
      " 24  primary_cleaner.input.depressant            4851 non-null   float64\n",
      " 25  primary_cleaner.input.feed_size             4860 non-null   float64\n",
      " 26  primary_cleaner.input.xanthate              4817 non-null   float64\n",
      " 27  primary_cleaner.state.floatbank8_a_air      4859 non-null   float64\n",
      " 28  primary_cleaner.state.floatbank8_a_level    4859 non-null   float64\n",
      " 29  primary_cleaner.state.floatbank8_b_air      4859 non-null   float64\n",
      " 30  primary_cleaner.state.floatbank8_b_level    4859 non-null   float64\n",
      " 31  primary_cleaner.state.floatbank8_c_air      4858 non-null   float64\n",
      " 32  primary_cleaner.state.floatbank8_c_level    4859 non-null   float64\n",
      " 33  primary_cleaner.state.floatbank8_d_air      4858 non-null   float64\n",
      " 34  primary_cleaner.state.floatbank8_d_level    4859 non-null   float64\n",
      " 35  secondary_cleaner.state.floatbank2_a_air    4734 non-null   float64\n",
      " 36  secondary_cleaner.state.floatbank2_a_level  4859 non-null   float64\n",
      " 37  secondary_cleaner.state.floatbank2_b_air    4859 non-null   float64\n",
      " 38  secondary_cleaner.state.floatbank2_b_level  4859 non-null   float64\n",
      " 39  secondary_cleaner.state.floatbank3_a_air    4859 non-null   float64\n",
      " 40  secondary_cleaner.state.floatbank3_a_level  4859 non-null   float64\n",
      " 41  secondary_cleaner.state.floatbank3_b_air    4859 non-null   float64\n",
      " 42  secondary_cleaner.state.floatbank3_b_level  4859 non-null   float64\n",
      " 43  secondary_cleaner.state.floatbank4_a_air    4859 non-null   float64\n",
      " 44  secondary_cleaner.state.floatbank4_a_level  4859 non-null   float64\n",
      " 45  secondary_cleaner.state.floatbank4_b_air    4859 non-null   float64\n",
      " 46  secondary_cleaner.state.floatbank4_b_level  4859 non-null   float64\n",
      " 47  secondary_cleaner.state.floatbank5_a_air    4859 non-null   float64\n",
      " 48  secondary_cleaner.state.floatbank5_a_level  4859 non-null   float64\n",
      " 49  secondary_cleaner.state.floatbank5_b_air    4859 non-null   float64\n",
      " 50  secondary_cleaner.state.floatbank5_b_level  4859 non-null   float64\n",
      " 51  secondary_cleaner.state.floatbank6_a_air    4859 non-null   float64\n",
      " 52  secondary_cleaner.state.floatbank6_a_level  4859 non-null   float64\n",
      "dtypes: float64(52), object(1)\n",
      "memory usage: 2.0+ MB\n"
     ]
    }
   ],
   "source": [
    "data_test.info()"
   ]
  },
  {
   "cell_type": "markdown",
   "metadata": {},
   "source": [
    "<b>1.1 Проверка на дубликаты</b>"
   ]
  },
  {
   "cell_type": "code",
   "execution_count": 9,
   "metadata": {},
   "outputs": [
    {
     "data": {
      "text/html": [
       "<div>\n",
       "<style scoped>\n",
       "    .dataframe tbody tr th:only-of-type {\n",
       "        vertical-align: middle;\n",
       "    }\n",
       "\n",
       "    .dataframe tbody tr th {\n",
       "        vertical-align: top;\n",
       "    }\n",
       "\n",
       "    .dataframe thead th {\n",
       "        text-align: right;\n",
       "    }\n",
       "</style>\n",
       "<table border=\"1\" class=\"dataframe\">\n",
       "  <thead>\n",
       "    <tr style=\"text-align: right;\">\n",
       "      <th></th>\n",
       "      <th>Колиство явных дубликатов</th>\n",
       "    </tr>\n",
       "  </thead>\n",
       "  <tbody>\n",
       "    <tr>\n",
       "      <th>train</th>\n",
       "      <td>0</td>\n",
       "    </tr>\n",
       "    <tr>\n",
       "      <th>test</th>\n",
       "      <td>0</td>\n",
       "    </tr>\n",
       "    <tr>\n",
       "      <th>full</th>\n",
       "      <td>0</td>\n",
       "    </tr>\n",
       "  </tbody>\n",
       "</table>\n",
       "</div>"
      ],
      "text/plain": [
       "       Колиство явных дубликатов\n",
       "train                          0\n",
       "test                           0\n",
       "full                           0"
      ]
     },
     "execution_count": 9,
     "metadata": {},
     "output_type": "execute_result"
    }
   ],
   "source": [
    "table_1_data = {'Колиство явных дубликатов':[data_train.duplicated().sum(),data_test.duplicated().sum(),data_full.duplicated().sum()]}\n",
    "table_1 = pd.DataFrame(table_1_data, index=['train','test','full'])\n",
    "table_1"
   ]
  },
  {
   "cell_type": "markdown",
   "metadata": {},
   "source": [
    "<b>Вывод:</b>  Явные дубликаты в выборках отсутствуют"
   ]
  },
  {
   "cell_type": "markdown",
   "metadata": {},
   "source": [
    "<b>1.2 Изменение типов данных</b>"
   ]
  },
  {
   "cell_type": "code",
   "execution_count": 10,
   "metadata": {},
   "outputs": [
    {
     "data": {
      "text/plain": [
       "dtype('O')"
      ]
     },
     "metadata": {},
     "output_type": "display_data"
    },
    {
     "data": {
      "text/plain": [
       "dtype('O')"
      ]
     },
     "metadata": {},
     "output_type": "display_data"
    },
    {
     "data": {
      "text/plain": [
       "dtype('O')"
      ]
     },
     "metadata": {},
     "output_type": "display_data"
    }
   ],
   "source": [
    "for i in [data_full, data_train, data_test]:\n",
    "    types = i.dtypes['date']\n",
    "    display(types)"
   ]
  },
  {
   "cell_type": "code",
   "execution_count": 11,
   "metadata": {},
   "outputs": [],
   "source": [
    "data_full['date'] = pd.to_datetime(data_full['date'], format='%Y-%m-%d %H:%M:%S')\n",
    "data_train['date'] = pd.to_datetime(data_train['date'], format='%Y-%m-%d %H:%M:%S')\n",
    "data_test['date'] = pd.to_datetime(data_test['date'], format='%Y-%m-%d %H:%M:%S')"
   ]
  },
  {
   "cell_type": "markdown",
   "metadata": {},
   "source": [
    "<b>Вывод</b> Необходимо было изменить тип данных столбца 'date' во всех выборках на datetime, т.к во всех выборках данный столбец имеет тип данных 'object'"
   ]
  },
  {
   "cell_type": "markdown",
   "metadata": {},
   "source": [
    "<b>1.3 Работа с пропусками</b>"
   ]
  },
  {
   "cell_type": "code",
   "execution_count": 12,
   "metadata": {},
   "outputs": [
    {
     "data": {
      "text/html": [
       "<div>\n",
       "<style scoped>\n",
       "    .dataframe tbody tr th:only-of-type {\n",
       "        vertical-align: middle;\n",
       "    }\n",
       "\n",
       "    .dataframe tbody tr th {\n",
       "        vertical-align: top;\n",
       "    }\n",
       "\n",
       "    .dataframe thead th {\n",
       "        text-align: right;\n",
       "    }\n",
       "</style>\n",
       "<table border=\"1\" class=\"dataframe\">\n",
       "  <thead>\n",
       "    <tr style=\"text-align: right;\">\n",
       "      <th></th>\n",
       "      <th>0</th>\n",
       "    </tr>\n",
       "  </thead>\n",
       "  <tbody>\n",
       "    <tr>\n",
       "      <th>secondary_cleaner.output.tail_sol</th>\n",
       "      <td>0.089922</td>\n",
       "    </tr>\n",
       "    <tr>\n",
       "      <th>rougher.input.floatbank11_xanthate</th>\n",
       "      <td>0.023304</td>\n",
       "    </tr>\n",
       "    <tr>\n",
       "      <th>rougher.state.floatbank10_e_air</th>\n",
       "      <td>0.022429</td>\n",
       "    </tr>\n",
       "    <tr>\n",
       "      <th>primary_cleaner.output.concentrate_sol</th>\n",
       "      <td>0.019034</td>\n",
       "    </tr>\n",
       "    <tr>\n",
       "      <th>secondary_cleaner.state.floatbank2_a_air</th>\n",
       "      <td>0.011317</td>\n",
       "    </tr>\n",
       "    <tr>\n",
       "      <th>...</th>\n",
       "      <td>...</td>\n",
       "    </tr>\n",
       "    <tr>\n",
       "      <th>rougher.output.tail_sol</th>\n",
       "      <td>0.000000</td>\n",
       "    </tr>\n",
       "    <tr>\n",
       "      <th>primary_cleaner.input.feed_size</th>\n",
       "      <td>0.000000</td>\n",
       "    </tr>\n",
       "    <tr>\n",
       "      <th>rougher.input.feed_au</th>\n",
       "      <td>0.000000</td>\n",
       "    </tr>\n",
       "    <tr>\n",
       "      <th>primary_cleaner.output.concentrate_au</th>\n",
       "      <td>0.000000</td>\n",
       "    </tr>\n",
       "    <tr>\n",
       "      <th>date</th>\n",
       "      <td>0.000000</td>\n",
       "    </tr>\n",
       "  </tbody>\n",
       "</table>\n",
       "<p>87 rows × 1 columns</p>\n",
       "</div>"
      ],
      "text/plain": [
       "                                                 0\n",
       "secondary_cleaner.output.tail_sol         0.089922\n",
       "rougher.input.floatbank11_xanthate        0.023304\n",
       "rougher.state.floatbank10_e_air           0.022429\n",
       "primary_cleaner.output.concentrate_sol    0.019034\n",
       "secondary_cleaner.state.floatbank2_a_air  0.011317\n",
       "...                                            ...\n",
       "rougher.output.tail_sol                   0.000000\n",
       "primary_cleaner.input.feed_size           0.000000\n",
       "rougher.input.feed_au                     0.000000\n",
       "primary_cleaner.output.concentrate_au     0.000000\n",
       "date                                      0.000000\n",
       "\n",
       "[87 rows x 1 columns]"
      ]
     },
     "execution_count": 12,
     "metadata": {},
     "output_type": "execute_result"
    }
   ],
   "source": [
    "pd.DataFrame(data_full.isna().sum()/len(data_full)).sort_values(by=0, ascending=False)"
   ]
  },
  {
   "cell_type": "code",
   "execution_count": 13,
   "metadata": {},
   "outputs": [
    {
     "data": {
      "text/html": [
       "<div>\n",
       "<style scoped>\n",
       "    .dataframe tbody tr th:only-of-type {\n",
       "        vertical-align: middle;\n",
       "    }\n",
       "\n",
       "    .dataframe tbody tr th {\n",
       "        vertical-align: top;\n",
       "    }\n",
       "\n",
       "    .dataframe thead th {\n",
       "        text-align: right;\n",
       "    }\n",
       "</style>\n",
       "<table border=\"1\" class=\"dataframe\">\n",
       "  <thead>\n",
       "    <tr style=\"text-align: right;\">\n",
       "      <th></th>\n",
       "      <th>0</th>\n",
       "    </tr>\n",
       "  </thead>\n",
       "  <tbody>\n",
       "    <tr>\n",
       "      <th>secondary_cleaner.state.floatbank2_a_air</th>\n",
       "      <td>0.006482</td>\n",
       "    </tr>\n",
       "    <tr>\n",
       "      <th>rougher.input.floatbank11_xanthate</th>\n",
       "      <td>0.002366</td>\n",
       "    </tr>\n",
       "    <tr>\n",
       "      <th>rougher.input.feed_size</th>\n",
       "      <td>0.002263</td>\n",
       "    </tr>\n",
       "    <tr>\n",
       "      <th>primary_cleaner.input.xanthate</th>\n",
       "      <td>0.002212</td>\n",
       "    </tr>\n",
       "    <tr>\n",
       "      <th>rougher.input.feed_pb</th>\n",
       "      <td>0.001440</td>\n",
       "    </tr>\n",
       "    <tr>\n",
       "      <th>rougher.input.feed_sol</th>\n",
       "      <td>0.001132</td>\n",
       "    </tr>\n",
       "    <tr>\n",
       "      <th>primary_cleaner.input.depressant</th>\n",
       "      <td>0.000463</td>\n",
       "    </tr>\n",
       "    <tr>\n",
       "      <th>rougher.input.floatbank11_sulfate</th>\n",
       "      <td>0.000412</td>\n",
       "    </tr>\n",
       "    <tr>\n",
       "      <th>rougher.state.floatbank10_e_air</th>\n",
       "      <td>0.000360</td>\n",
       "    </tr>\n",
       "    <tr>\n",
       "      <th>rougher.input.feed_rate</th>\n",
       "      <td>0.000206</td>\n",
       "    </tr>\n",
       "    <tr>\n",
       "      <th>rougher.input.floatbank10_sulfate</th>\n",
       "      <td>0.000154</td>\n",
       "    </tr>\n",
       "    <tr>\n",
       "      <th>primary_cleaner.state.floatbank8_d_air</th>\n",
       "      <td>0.000103</td>\n",
       "    </tr>\n",
       "    <tr>\n",
       "      <th>primary_cleaner.state.floatbank8_c_air</th>\n",
       "      <td>0.000103</td>\n",
       "    </tr>\n",
       "    <tr>\n",
       "      <th>primary_cleaner.state.floatbank8_d_level</th>\n",
       "      <td>0.000051</td>\n",
       "    </tr>\n",
       "    <tr>\n",
       "      <th>secondary_cleaner.state.floatbank3_a_level</th>\n",
       "      <td>0.000051</td>\n",
       "    </tr>\n",
       "    <tr>\n",
       "      <th>secondary_cleaner.state.floatbank2_a_level</th>\n",
       "      <td>0.000051</td>\n",
       "    </tr>\n",
       "    <tr>\n",
       "      <th>secondary_cleaner.state.floatbank2_b_air</th>\n",
       "      <td>0.000051</td>\n",
       "    </tr>\n",
       "    <tr>\n",
       "      <th>secondary_cleaner.state.floatbank2_b_level</th>\n",
       "      <td>0.000051</td>\n",
       "    </tr>\n",
       "    <tr>\n",
       "      <th>secondary_cleaner.state.floatbank3_a_air</th>\n",
       "      <td>0.000051</td>\n",
       "    </tr>\n",
       "    <tr>\n",
       "      <th>secondary_cleaner.state.floatbank4_a_air</th>\n",
       "      <td>0.000051</td>\n",
       "    </tr>\n",
       "    <tr>\n",
       "      <th>secondary_cleaner.state.floatbank3_b_air</th>\n",
       "      <td>0.000051</td>\n",
       "    </tr>\n",
       "    <tr>\n",
       "      <th>secondary_cleaner.state.floatbank3_b_level</th>\n",
       "      <td>0.000051</td>\n",
       "    </tr>\n",
       "    <tr>\n",
       "      <th>secondary_cleaner.state.floatbank4_a_level</th>\n",
       "      <td>0.000051</td>\n",
       "    </tr>\n",
       "    <tr>\n",
       "      <th>secondary_cleaner.state.floatbank4_b_air</th>\n",
       "      <td>0.000051</td>\n",
       "    </tr>\n",
       "    <tr>\n",
       "      <th>secondary_cleaner.state.floatbank4_b_level</th>\n",
       "      <td>0.000051</td>\n",
       "    </tr>\n",
       "    <tr>\n",
       "      <th>secondary_cleaner.state.floatbank5_a_air</th>\n",
       "      <td>0.000051</td>\n",
       "    </tr>\n",
       "    <tr>\n",
       "      <th>secondary_cleaner.state.floatbank5_a_level</th>\n",
       "      <td>0.000051</td>\n",
       "    </tr>\n",
       "    <tr>\n",
       "      <th>secondary_cleaner.state.floatbank5_b_air</th>\n",
       "      <td>0.000051</td>\n",
       "    </tr>\n",
       "    <tr>\n",
       "      <th>secondary_cleaner.state.floatbank5_b_level</th>\n",
       "      <td>0.000051</td>\n",
       "    </tr>\n",
       "    <tr>\n",
       "      <th>secondary_cleaner.state.floatbank6_a_air</th>\n",
       "      <td>0.000051</td>\n",
       "    </tr>\n",
       "    <tr>\n",
       "      <th>primary_cleaner.state.floatbank8_c_level</th>\n",
       "      <td>0.000051</td>\n",
       "    </tr>\n",
       "    <tr>\n",
       "      <th>secondary_cleaner.state.floatbank6_a_level</th>\n",
       "      <td>0.000051</td>\n",
       "    </tr>\n",
       "    <tr>\n",
       "      <th>primary_cleaner.state.floatbank8_b_level</th>\n",
       "      <td>0.000051</td>\n",
       "    </tr>\n",
       "    <tr>\n",
       "      <th>rougher.state.floatbank10_c_air</th>\n",
       "      <td>0.000051</td>\n",
       "    </tr>\n",
       "    <tr>\n",
       "      <th>primary_cleaner.state.floatbank8_a_level</th>\n",
       "      <td>0.000051</td>\n",
       "    </tr>\n",
       "    <tr>\n",
       "      <th>primary_cleaner.state.floatbank8_a_air</th>\n",
       "      <td>0.000051</td>\n",
       "    </tr>\n",
       "    <tr>\n",
       "      <th>rougher.input.floatbank10_xanthate</th>\n",
       "      <td>0.000051</td>\n",
       "    </tr>\n",
       "    <tr>\n",
       "      <th>primary_cleaner.input.sulfate</th>\n",
       "      <td>0.000051</td>\n",
       "    </tr>\n",
       "    <tr>\n",
       "      <th>rougher.state.floatbank10_a_air</th>\n",
       "      <td>0.000051</td>\n",
       "    </tr>\n",
       "    <tr>\n",
       "      <th>rougher.state.floatbank10_a_level</th>\n",
       "      <td>0.000051</td>\n",
       "    </tr>\n",
       "    <tr>\n",
       "      <th>rougher.state.floatbank10_b_air</th>\n",
       "      <td>0.000051</td>\n",
       "    </tr>\n",
       "    <tr>\n",
       "      <th>primary_cleaner.state.floatbank8_b_air</th>\n",
       "      <td>0.000051</td>\n",
       "    </tr>\n",
       "    <tr>\n",
       "      <th>rougher.state.floatbank10_b_level</th>\n",
       "      <td>0.000051</td>\n",
       "    </tr>\n",
       "    <tr>\n",
       "      <th>rougher.state.floatbank10_c_level</th>\n",
       "      <td>0.000051</td>\n",
       "    </tr>\n",
       "    <tr>\n",
       "      <th>rougher.input.feed_ag</th>\n",
       "      <td>0.000000</td>\n",
       "    </tr>\n",
       "    <tr>\n",
       "      <th>rougher.state.floatbank10_d_level</th>\n",
       "      <td>0.000000</td>\n",
       "    </tr>\n",
       "    <tr>\n",
       "      <th>rougher.state.floatbank10_d_air</th>\n",
       "      <td>0.000000</td>\n",
       "    </tr>\n",
       "    <tr>\n",
       "      <th>rougher.state.floatbank10_e_level</th>\n",
       "      <td>0.000000</td>\n",
       "    </tr>\n",
       "    <tr>\n",
       "      <th>rougher.state.floatbank10_f_air</th>\n",
       "      <td>0.000000</td>\n",
       "    </tr>\n",
       "    <tr>\n",
       "      <th>rougher.state.floatbank10_f_level</th>\n",
       "      <td>0.000000</td>\n",
       "    </tr>\n",
       "    <tr>\n",
       "      <th>primary_cleaner.input.feed_size</th>\n",
       "      <td>0.000000</td>\n",
       "    </tr>\n",
       "    <tr>\n",
       "      <th>rougher.input.feed_au</th>\n",
       "      <td>0.000000</td>\n",
       "    </tr>\n",
       "    <tr>\n",
       "      <th>date</th>\n",
       "      <td>0.000000</td>\n",
       "    </tr>\n",
       "  </tbody>\n",
       "</table>\n",
       "</div>"
      ],
      "text/plain": [
       "                                                   0\n",
       "secondary_cleaner.state.floatbank2_a_air    0.006482\n",
       "rougher.input.floatbank11_xanthate          0.002366\n",
       "rougher.input.feed_size                     0.002263\n",
       "primary_cleaner.input.xanthate              0.002212\n",
       "rougher.input.feed_pb                       0.001440\n",
       "rougher.input.feed_sol                      0.001132\n",
       "primary_cleaner.input.depressant            0.000463\n",
       "rougher.input.floatbank11_sulfate           0.000412\n",
       "rougher.state.floatbank10_e_air             0.000360\n",
       "rougher.input.feed_rate                     0.000206\n",
       "rougher.input.floatbank10_sulfate           0.000154\n",
       "primary_cleaner.state.floatbank8_d_air      0.000103\n",
       "primary_cleaner.state.floatbank8_c_air      0.000103\n",
       "primary_cleaner.state.floatbank8_d_level    0.000051\n",
       "secondary_cleaner.state.floatbank3_a_level  0.000051\n",
       "secondary_cleaner.state.floatbank2_a_level  0.000051\n",
       "secondary_cleaner.state.floatbank2_b_air    0.000051\n",
       "secondary_cleaner.state.floatbank2_b_level  0.000051\n",
       "secondary_cleaner.state.floatbank3_a_air    0.000051\n",
       "secondary_cleaner.state.floatbank4_a_air    0.000051\n",
       "secondary_cleaner.state.floatbank3_b_air    0.000051\n",
       "secondary_cleaner.state.floatbank3_b_level  0.000051\n",
       "secondary_cleaner.state.floatbank4_a_level  0.000051\n",
       "secondary_cleaner.state.floatbank4_b_air    0.000051\n",
       "secondary_cleaner.state.floatbank4_b_level  0.000051\n",
       "secondary_cleaner.state.floatbank5_a_air    0.000051\n",
       "secondary_cleaner.state.floatbank5_a_level  0.000051\n",
       "secondary_cleaner.state.floatbank5_b_air    0.000051\n",
       "secondary_cleaner.state.floatbank5_b_level  0.000051\n",
       "secondary_cleaner.state.floatbank6_a_air    0.000051\n",
       "primary_cleaner.state.floatbank8_c_level    0.000051\n",
       "secondary_cleaner.state.floatbank6_a_level  0.000051\n",
       "primary_cleaner.state.floatbank8_b_level    0.000051\n",
       "rougher.state.floatbank10_c_air             0.000051\n",
       "primary_cleaner.state.floatbank8_a_level    0.000051\n",
       "primary_cleaner.state.floatbank8_a_air      0.000051\n",
       "rougher.input.floatbank10_xanthate          0.000051\n",
       "primary_cleaner.input.sulfate               0.000051\n",
       "rougher.state.floatbank10_a_air             0.000051\n",
       "rougher.state.floatbank10_a_level           0.000051\n",
       "rougher.state.floatbank10_b_air             0.000051\n",
       "primary_cleaner.state.floatbank8_b_air      0.000051\n",
       "rougher.state.floatbank10_b_level           0.000051\n",
       "rougher.state.floatbank10_c_level           0.000051\n",
       "rougher.input.feed_ag                       0.000000\n",
       "rougher.state.floatbank10_d_level           0.000000\n",
       "rougher.state.floatbank10_d_air             0.000000\n",
       "rougher.state.floatbank10_e_level           0.000000\n",
       "rougher.state.floatbank10_f_air             0.000000\n",
       "rougher.state.floatbank10_f_level           0.000000\n",
       "primary_cleaner.input.feed_size             0.000000\n",
       "rougher.input.feed_au                       0.000000\n",
       "date                                        0.000000"
      ]
     },
     "execution_count": 13,
     "metadata": {},
     "output_type": "execute_result"
    }
   ],
   "source": [
    "pd.DataFrame(data_test.isna().sum()/len(data_full)).sort_values(by=0, ascending=False)"
   ]
  },
  {
   "cell_type": "code",
   "execution_count": 14,
   "metadata": {},
   "outputs": [
    {
     "data": {
      "text/html": [
       "<div>\n",
       "<style scoped>\n",
       "    .dataframe tbody tr th:only-of-type {\n",
       "        vertical-align: middle;\n",
       "    }\n",
       "\n",
       "    .dataframe tbody tr th {\n",
       "        vertical-align: top;\n",
       "    }\n",
       "\n",
       "    .dataframe thead th {\n",
       "        text-align: right;\n",
       "    }\n",
       "</style>\n",
       "<table border=\"1\" class=\"dataframe\">\n",
       "  <thead>\n",
       "    <tr style=\"text-align: right;\">\n",
       "      <th></th>\n",
       "      <th>0</th>\n",
       "    </tr>\n",
       "  </thead>\n",
       "  <tbody>\n",
       "    <tr>\n",
       "      <th>secondary_cleaner.output.tail_sol</th>\n",
       "      <td>0.047328</td>\n",
       "    </tr>\n",
       "    <tr>\n",
       "      <th>rougher.state.floatbank10_e_air</th>\n",
       "      <td>0.022069</td>\n",
       "    </tr>\n",
       "    <tr>\n",
       "      <th>rougher.input.floatbank11_xanthate</th>\n",
       "      <td>0.020937</td>\n",
       "    </tr>\n",
       "    <tr>\n",
       "      <th>primary_cleaner.output.concentrate_sol</th>\n",
       "      <td>0.013632</td>\n",
       "    </tr>\n",
       "    <tr>\n",
       "      <th>final.output.concentrate_sol</th>\n",
       "      <td>0.009877</td>\n",
       "    </tr>\n",
       "    <tr>\n",
       "      <th>...</th>\n",
       "      <td>...</td>\n",
       "    </tr>\n",
       "    <tr>\n",
       "      <th>primary_cleaner.state.floatbank8_c_air</th>\n",
       "      <td>0.000000</td>\n",
       "    </tr>\n",
       "    <tr>\n",
       "      <th>primary_cleaner.state.floatbank8_c_level</th>\n",
       "      <td>0.000000</td>\n",
       "    </tr>\n",
       "    <tr>\n",
       "      <th>primary_cleaner.state.floatbank8_d_level</th>\n",
       "      <td>0.000000</td>\n",
       "    </tr>\n",
       "    <tr>\n",
       "      <th>primary_cleaner.output.concentrate_au</th>\n",
       "      <td>0.000000</td>\n",
       "    </tr>\n",
       "    <tr>\n",
       "      <th>primary_cleaner.state.floatbank8_b_level</th>\n",
       "      <td>0.000000</td>\n",
       "    </tr>\n",
       "  </tbody>\n",
       "</table>\n",
       "<p>87 rows × 1 columns</p>\n",
       "</div>"
      ],
      "text/plain": [
       "                                                 0\n",
       "secondary_cleaner.output.tail_sol         0.047328\n",
       "rougher.state.floatbank10_e_air           0.022069\n",
       "rougher.input.floatbank11_xanthate        0.020937\n",
       "primary_cleaner.output.concentrate_sol    0.013632\n",
       "final.output.concentrate_sol              0.009877\n",
       "...                                            ...\n",
       "primary_cleaner.state.floatbank8_c_air    0.000000\n",
       "primary_cleaner.state.floatbank8_c_level  0.000000\n",
       "primary_cleaner.state.floatbank8_d_level  0.000000\n",
       "primary_cleaner.output.concentrate_au     0.000000\n",
       "primary_cleaner.state.floatbank8_b_level  0.000000\n",
       "\n",
       "[87 rows x 1 columns]"
      ]
     },
     "execution_count": 14,
     "metadata": {},
     "output_type": "execute_result"
    }
   ],
   "source": [
    "pd.DataFrame(data_train.isna().sum()/len(data_full)).sort_values(by=0, ascending=False)"
   ]
  },
  {
   "cell_type": "code",
   "execution_count": 15,
   "metadata": {},
   "outputs": [],
   "source": [
    "data_full = data_full.ffill(axis=0)\n",
    "data_train = data_train.ffill(axis=0)\n",
    "data_test = data_test.ffill(axis=0)"
   ]
  },
  {
   "cell_type": "markdown",
   "metadata": {},
   "source": [
    "<b>Вывод</b> В выборках присутствуют пропуски. Максимальное количетсво пропусков в обучающей выборке и полной содержит признак secondary_cleaner.output.tail_sol и составляет 8%,однако данный признак не присутствует в тестовой. Доля пропусков в остальных признаках незначительна. Так как Данные индексируются датой и временем получения информации (признак date), соседние по времени параметры часто похожи, пропуски в данных можно заполнить данными из предыдущих строк"
   ]
  },
  {
   "cell_type": "markdown",
   "metadata": {},
   "source": [
    "Проверим, что эффективность обогащения рассчитана правильно. Вычислите её на обучающей выборке для признака rougher.output.recovery. Найдите MAE между вашими расчётами и значением признака. Опишите выводы."
   ]
  },
  {
   "cell_type": "code",
   "execution_count": 16,
   "metadata": {},
   "outputs": [
    {
     "data": {
      "text/plain": [
       "'Средняя оабсолютная ошибка:'"
      ]
     },
     "metadata": {},
     "output_type": "display_data"
    },
    {
     "data": {
      "text/plain": [
       "9.83758577644259e-15"
      ]
     },
     "metadata": {},
     "output_type": "display_data"
    }
   ],
   "source": [
    "c = data_train['rougher.output.concentrate_au']\n",
    "f = data_train['rougher.input.feed_au']\n",
    "t = data_train['rougher.output.tail_au']\n",
    "display('Средняя оабсолютная ошибка:', mean_absolute_error(data_train['rougher.output.recovery'],\n",
    "                                                          (c*(f-t))/(f*(c-t))*100))"
   ]
  },
  {
   "cell_type": "markdown",
   "metadata": {},
   "source": [
    "<b>Вывод</b> Средняя абсолютная ошибка близка к 0, следовательно Эффективность обогащения расчитана верно"
   ]
  },
  {
   "cell_type": "markdown",
   "metadata": {},
   "source": [
    "Определим признаки, которые недоступны в тестовый выборке"
   ]
  },
  {
   "cell_type": "code",
   "execution_count": 17,
   "metadata": {},
   "outputs": [],
   "source": [
    "none_columns = set(data_train) - set(data_test)"
   ]
  },
  {
   "cell_type": "code",
   "execution_count": 18,
   "metadata": {
    "scrolled": true
   },
   "outputs": [
    {
     "data": {
      "text/plain": [
       "'Параметры продукта'"
      ]
     },
     "metadata": {},
     "output_type": "display_data"
    },
    {
     "data": {
      "text/plain": [
       "30"
      ]
     },
     "metadata": {},
     "output_type": "display_data"
    },
    {
     "data": {
      "text/plain": [
       "'Расчётные характеристики'"
      ]
     },
     "metadata": {},
     "output_type": "display_data"
    },
    {
     "data": {
      "text/plain": [
       "4"
      ]
     },
     "metadata": {},
     "output_type": "display_data"
    }
   ],
   "source": [
    "parametr = 0\n",
    "calculation = 0\n",
    "for i in none_columns:\n",
    "    if 'output' in i:\n",
    "        parametr += 1\n",
    "    else:\n",
    "        calculation += 1 \n",
    "\n",
    "display('Параметры продукта', parametr)\n",
    "display('Расчётные характеристики', calculation)"
   ]
  },
  {
   "cell_type": "markdown",
   "metadata": {},
   "source": [
    "<b>Вывод:</b> В большей мере отсутствуют параметры продукты, в меньшей расчётные характеристики"
   ]
  },
  {
   "cell_type": "markdown",
   "metadata": {},
   "source": [
    "В тестовой выборке отсутствуют целевые признаки 'rougher.output.recovery','final.output.recovery'. Необходимо добавить этизначения из полной выборки"
   ]
  },
  {
   "cell_type": "code",
   "execution_count": 19,
   "metadata": {},
   "outputs": [],
   "source": [
    "data_test = data_test.merge(data_full.loc[:,['date','rougher.output.recovery','final.output.recovery']], on='date')"
   ]
  },
  {
   "cell_type": "code",
   "execution_count": 20,
   "metadata": {},
   "outputs": [
    {
     "data": {
      "text/html": [
       "<div>\n",
       "<style scoped>\n",
       "    .dataframe tbody tr th:only-of-type {\n",
       "        vertical-align: middle;\n",
       "    }\n",
       "\n",
       "    .dataframe tbody tr th {\n",
       "        vertical-align: top;\n",
       "    }\n",
       "\n",
       "    .dataframe thead th {\n",
       "        text-align: right;\n",
       "    }\n",
       "</style>\n",
       "<table border=\"1\" class=\"dataframe\">\n",
       "  <thead>\n",
       "    <tr style=\"text-align: right;\">\n",
       "      <th></th>\n",
       "      <th>date</th>\n",
       "      <th>rougher.input.feed_au</th>\n",
       "      <th>rougher.input.feed_ag</th>\n",
       "      <th>rougher.input.feed_pb</th>\n",
       "      <th>rougher.input.feed_sol</th>\n",
       "      <th>rougher.input.feed_rate</th>\n",
       "      <th>rougher.input.feed_size</th>\n",
       "      <th>rougher.input.floatbank10_sulfate</th>\n",
       "      <th>rougher.input.floatbank10_xanthate</th>\n",
       "      <th>rougher.state.floatbank10_a_air</th>\n",
       "      <th>...</th>\n",
       "      <th>secondary_cleaner.state.floatbank4_b_air</th>\n",
       "      <th>secondary_cleaner.state.floatbank4_b_level</th>\n",
       "      <th>secondary_cleaner.state.floatbank5_a_air</th>\n",
       "      <th>secondary_cleaner.state.floatbank5_a_level</th>\n",
       "      <th>secondary_cleaner.state.floatbank5_b_air</th>\n",
       "      <th>secondary_cleaner.state.floatbank5_b_level</th>\n",
       "      <th>secondary_cleaner.state.floatbank6_a_air</th>\n",
       "      <th>secondary_cleaner.state.floatbank6_a_level</th>\n",
       "      <th>rougher.output.recovery</th>\n",
       "      <th>final.output.recovery</th>\n",
       "    </tr>\n",
       "  </thead>\n",
       "  <tbody>\n",
       "    <tr>\n",
       "      <th>0</th>\n",
       "      <td>2017-12-09 14:59:59</td>\n",
       "      <td>4.365491</td>\n",
       "      <td>6.158718</td>\n",
       "      <td>3.875727</td>\n",
       "      <td>39.135119</td>\n",
       "      <td>555.820208</td>\n",
       "      <td>94.544358</td>\n",
       "      <td>6.146982</td>\n",
       "      <td>9.308612</td>\n",
       "      <td>1196.238112</td>\n",
       "      <td>...</td>\n",
       "      <td>20.020205</td>\n",
       "      <td>-500.220296</td>\n",
       "      <td>17.963512</td>\n",
       "      <td>-499.939490</td>\n",
       "      <td>12.990306</td>\n",
       "      <td>-500.080993</td>\n",
       "      <td>19.990336</td>\n",
       "      <td>-499.191575</td>\n",
       "      <td>89.514960</td>\n",
       "      <td>70.281454</td>\n",
       "    </tr>\n",
       "    <tr>\n",
       "      <th>1</th>\n",
       "      <td>2017-12-09 15:59:59</td>\n",
       "      <td>4.362781</td>\n",
       "      <td>6.048130</td>\n",
       "      <td>3.902537</td>\n",
       "      <td>39.713906</td>\n",
       "      <td>544.731687</td>\n",
       "      <td>123.742430</td>\n",
       "      <td>6.210119</td>\n",
       "      <td>9.297709</td>\n",
       "      <td>1201.904177</td>\n",
       "      <td>...</td>\n",
       "      <td>20.054122</td>\n",
       "      <td>-500.314711</td>\n",
       "      <td>17.979515</td>\n",
       "      <td>-499.272871</td>\n",
       "      <td>12.992404</td>\n",
       "      <td>-499.976268</td>\n",
       "      <td>20.013986</td>\n",
       "      <td>-500.625471</td>\n",
       "      <td>89.858126</td>\n",
       "      <td>65.523246</td>\n",
       "    </tr>\n",
       "    <tr>\n",
       "      <th>2</th>\n",
       "      <td>2017-12-09 16:59:59</td>\n",
       "      <td>5.081681</td>\n",
       "      <td>6.082745</td>\n",
       "      <td>4.564078</td>\n",
       "      <td>37.208683</td>\n",
       "      <td>558.155110</td>\n",
       "      <td>82.610855</td>\n",
       "      <td>7.363824</td>\n",
       "      <td>9.003562</td>\n",
       "      <td>1200.826926</td>\n",
       "      <td>...</td>\n",
       "      <td>20.029144</td>\n",
       "      <td>-500.000662</td>\n",
       "      <td>18.012723</td>\n",
       "      <td>-500.024764</td>\n",
       "      <td>13.016445</td>\n",
       "      <td>-500.058432</td>\n",
       "      <td>19.973767</td>\n",
       "      <td>-501.394155</td>\n",
       "      <td>91.816623</td>\n",
       "      <td>74.817644</td>\n",
       "    </tr>\n",
       "    <tr>\n",
       "      <th>3</th>\n",
       "      <td>2017-12-09 17:59:59</td>\n",
       "      <td>5.145949</td>\n",
       "      <td>6.084374</td>\n",
       "      <td>4.768124</td>\n",
       "      <td>36.808874</td>\n",
       "      <td>539.713765</td>\n",
       "      <td>77.984784</td>\n",
       "      <td>6.927072</td>\n",
       "      <td>8.955597</td>\n",
       "      <td>1199.292489</td>\n",
       "      <td>...</td>\n",
       "      <td>19.977466</td>\n",
       "      <td>-500.159903</td>\n",
       "      <td>17.980463</td>\n",
       "      <td>-500.504602</td>\n",
       "      <td>12.949071</td>\n",
       "      <td>-500.009937</td>\n",
       "      <td>20.010332</td>\n",
       "      <td>-508.337973</td>\n",
       "      <td>88.478959</td>\n",
       "      <td>63.082720</td>\n",
       "    </tr>\n",
       "    <tr>\n",
       "      <th>4</th>\n",
       "      <td>2017-12-09 18:59:59</td>\n",
       "      <td>5.735249</td>\n",
       "      <td>6.165220</td>\n",
       "      <td>4.512346</td>\n",
       "      <td>37.810642</td>\n",
       "      <td>558.713584</td>\n",
       "      <td>86.434874</td>\n",
       "      <td>7.823471</td>\n",
       "      <td>7.490356</td>\n",
       "      <td>1198.005449</td>\n",
       "      <td>...</td>\n",
       "      <td>20.023735</td>\n",
       "      <td>-499.713680</td>\n",
       "      <td>17.990955</td>\n",
       "      <td>-500.334769</td>\n",
       "      <td>13.007523</td>\n",
       "      <td>-499.968459</td>\n",
       "      <td>19.995999</td>\n",
       "      <td>-499.788805</td>\n",
       "      <td>89.230316</td>\n",
       "      <td>74.463380</td>\n",
       "    </tr>\n",
       "  </tbody>\n",
       "</table>\n",
       "<p>5 rows × 55 columns</p>\n",
       "</div>"
      ],
      "text/plain": [
       "                 date  rougher.input.feed_au  rougher.input.feed_ag  \\\n",
       "0 2017-12-09 14:59:59               4.365491               6.158718   \n",
       "1 2017-12-09 15:59:59               4.362781               6.048130   \n",
       "2 2017-12-09 16:59:59               5.081681               6.082745   \n",
       "3 2017-12-09 17:59:59               5.145949               6.084374   \n",
       "4 2017-12-09 18:59:59               5.735249               6.165220   \n",
       "\n",
       "   rougher.input.feed_pb  rougher.input.feed_sol  rougher.input.feed_rate  \\\n",
       "0               3.875727               39.135119               555.820208   \n",
       "1               3.902537               39.713906               544.731687   \n",
       "2               4.564078               37.208683               558.155110   \n",
       "3               4.768124               36.808874               539.713765   \n",
       "4               4.512346               37.810642               558.713584   \n",
       "\n",
       "   rougher.input.feed_size  rougher.input.floatbank10_sulfate  \\\n",
       "0                94.544358                           6.146982   \n",
       "1               123.742430                           6.210119   \n",
       "2                82.610855                           7.363824   \n",
       "3                77.984784                           6.927072   \n",
       "4                86.434874                           7.823471   \n",
       "\n",
       "   rougher.input.floatbank10_xanthate  rougher.state.floatbank10_a_air  ...  \\\n",
       "0                            9.308612                      1196.238112  ...   \n",
       "1                            9.297709                      1201.904177  ...   \n",
       "2                            9.003562                      1200.826926  ...   \n",
       "3                            8.955597                      1199.292489  ...   \n",
       "4                            7.490356                      1198.005449  ...   \n",
       "\n",
       "   secondary_cleaner.state.floatbank4_b_air  \\\n",
       "0                                 20.020205   \n",
       "1                                 20.054122   \n",
       "2                                 20.029144   \n",
       "3                                 19.977466   \n",
       "4                                 20.023735   \n",
       "\n",
       "   secondary_cleaner.state.floatbank4_b_level  \\\n",
       "0                                 -500.220296   \n",
       "1                                 -500.314711   \n",
       "2                                 -500.000662   \n",
       "3                                 -500.159903   \n",
       "4                                 -499.713680   \n",
       "\n",
       "   secondary_cleaner.state.floatbank5_a_air  \\\n",
       "0                                 17.963512   \n",
       "1                                 17.979515   \n",
       "2                                 18.012723   \n",
       "3                                 17.980463   \n",
       "4                                 17.990955   \n",
       "\n",
       "   secondary_cleaner.state.floatbank5_a_level  \\\n",
       "0                                 -499.939490   \n",
       "1                                 -499.272871   \n",
       "2                                 -500.024764   \n",
       "3                                 -500.504602   \n",
       "4                                 -500.334769   \n",
       "\n",
       "   secondary_cleaner.state.floatbank5_b_air  \\\n",
       "0                                 12.990306   \n",
       "1                                 12.992404   \n",
       "2                                 13.016445   \n",
       "3                                 12.949071   \n",
       "4                                 13.007523   \n",
       "\n",
       "   secondary_cleaner.state.floatbank5_b_level  \\\n",
       "0                                 -500.080993   \n",
       "1                                 -499.976268   \n",
       "2                                 -500.058432   \n",
       "3                                 -500.009937   \n",
       "4                                 -499.968459   \n",
       "\n",
       "   secondary_cleaner.state.floatbank6_a_air  \\\n",
       "0                                 19.990336   \n",
       "1                                 20.013986   \n",
       "2                                 19.973767   \n",
       "3                                 20.010332   \n",
       "4                                 19.995999   \n",
       "\n",
       "   secondary_cleaner.state.floatbank6_a_level  rougher.output.recovery  \\\n",
       "0                                 -499.191575                89.514960   \n",
       "1                                 -500.625471                89.858126   \n",
       "2                                 -501.394155                91.816623   \n",
       "3                                 -508.337973                88.478959   \n",
       "4                                 -499.788805                89.230316   \n",
       "\n",
       "   final.output.recovery  \n",
       "0              70.281454  \n",
       "1              65.523246  \n",
       "2              74.817644  \n",
       "3              63.082720  \n",
       "4              74.463380  \n",
       "\n",
       "[5 rows x 55 columns]"
      ]
     },
     "execution_count": 20,
     "metadata": {},
     "output_type": "execute_result"
    }
   ],
   "source": [
    "data_test.head()"
   ]
  },
  {
   "cell_type": "markdown",
   "metadata": {},
   "source": [
    "<b>Выводы:</b> \n",
    "<br>Эффективность обогащения расчитана правильно.\n",
    "<br>Дубликатов не найдено\n",
    "<br>Заполнены пропуски в данных\n",
    "<br>Добавлены целевые признаки в тестовую выборку\n",
    "<br>Изменён тип данных в столбце \"date\""
   ]
  },
  {
   "cell_type": "markdown",
   "metadata": {},
   "source": [
    "## Анализ данных"
   ]
  },
  {
   "cell_type": "markdown",
   "metadata": {},
   "source": [
    "<b>2.1 Изменение концентрации металлов (Au, Ag, Pb) на различных этапах очистки.</b> "
   ]
  },
  {
   "cell_type": "code",
   "execution_count": 21,
   "metadata": {},
   "outputs": [
    {
     "data": {
      "image/png": "[encoded data removed]",
      "text/plain": [
       "<Figure size 1500x2000 with 3 Axes>"
      ]
     },
     "metadata": {},
     "output_type": "display_data"
    }
   ],
   "source": [
    "plt.figure(figsize=(15,20))\n",
    "position = 1\n",
    "plt.suptitle('Концентрация металлов (Au, Ag, Pb) на различных этапах очистки', fontsize=15)\n",
    "for i in ['au', 'ag', 'pb']:\n",
    "    plt.subplot(3, 1, position)\n",
    "    plt.title(f'Концентрация {i.upper()}')\n",
    "    sns.histplot(data_train[f'rougher.input.feed_{i}'], color='y', label='Сырьё')\n",
    "    sns.histplot(data_train[f'rougher.output.concentrate_{i}'], color='b', label='Концентрация после флотации')\n",
    "    sns.histplot(data_train[f'primary_cleaner.output.concentrate_{i}'], color='r', label='Концентрация после первичной обработки')\n",
    "    sns.histplot(data_train[f'final.output.concentrate_{i}'], color='g', label='Финальная концентрация')\n",
    "    plt.xlabel('Концентрация')\n",
    "    plt.ylabel('Количество наблюдений')\n",
    "    plt.legend()\n",
    "    position += 1\n",
    "plt.show()    "
   ]
  },
  {
   "cell_type": "markdown",
   "metadata": {},
   "source": [
    "Присутствуют выбросы данных при концентрации близкой к 0. Необходимо от них избавиться, так как они могут повлиять на модель."
   ]
  },
  {
   "cell_type": "code",
   "execution_count": 22,
   "metadata": {},
   "outputs": [],
   "source": [
    "data_train = data_train.loc[data_train['rougher.input.feed_au'] > 0]\n",
    "data_train = data_train.loc[data_train['rougher.output.concentrate_au'] > 0]\n",
    "data_train = data_train.loc[data_train['primary_cleaner.output.concentrate_au'] > 0.01]\n",
    "data_train = data_train.loc[data_train['final.output.concentrate_au'] > 0]\n"
   ]
  },
  {
   "cell_type": "code",
   "execution_count": 23,
   "metadata": {},
   "outputs": [
    {
     "data": {
      "image/png": "[encoded data removed]",
      "text/plain": [
       "<Figure size 1500x2000 with 3 Axes>"
      ]
     },
     "metadata": {},
     "output_type": "display_data"
    }
   ],
   "source": [
    "plt.figure(figsize=(15,20))\n",
    "position = 1\n",
    "plt.subplots_adjust(top=0.95)\n",
    "plt.suptitle('Концентрация металлов (Au, Ag, Pb) на различных этапах очистки', fontsize=15)\n",
    "for i in ['au', 'ag', 'pb']:\n",
    "    plt.subplot(3, 1, position)\n",
    "    plt.title(f'Концентрация {i.upper()}')\n",
    "    sns.histplot(data_train[f'rougher.input.feed_{i}'], color='y', label='Сырьё')\n",
    "    sns.histplot(data_train[f'rougher.output.concentrate_{i}'], color='b', label='Концентрация после флотации')\n",
    "    sns.histplot(data_train[f'primary_cleaner.output.concentrate_{i}'], color='r', label='Концентрация после первичной обработки')\n",
    "    sns.histplot(data_train[f'final.output.concentrate_{i}'], color='g', label='Финальная концентрация')\n",
    "    plt.xlabel('Концентрация')\n",
    "    plt.ylabel('Количество наблюдений')\n",
    "    plt.legend()\n",
    "    position += 1\n",
    "plt.show()   "
   ]
  },
  {
   "cell_type": "markdown",
   "metadata": {},
   "source": [
    "<b>Вывод </b>\n",
    "<br> Коцентрация золота (AU) постепенно увеличивается, посл каждой обработки\n",
    "<br>\n",
    "<br> Концентрация серебра (AG) увеливается после флотации, однако на последующихэтапах концентрация снижается\n",
    "<br>\n",
    "<br> Концентрация свинцв (PB) увеличивается после флотации и после первичной обработки. Далее концентрация находится на одном уровне"
   ]
  },
  {
   "cell_type": "code",
   "execution_count": 24,
   "metadata": {},
   "outputs": [
    {
     "data": {
      "image/png": "[encoded data removed]",
      "text/plain": [
       "<Figure size 1500x1000 with 2 Axes>"
      ]
     },
     "metadata": {},
     "output_type": "display_data"
    }
   ],
   "source": [
    "position = 0\n",
    "plt.figure(figsize=(15,10))\n",
    "plt.suptitle('Распредление размера гранул')\n",
    "for i in ['rougher', 'primary_cleaner']:\n",
    "    position += 1\n",
    "    plt.subplot(2,1,position)\n",
    "    plt.title(i)\n",
    "    sns.histplot(data_train[f'{i}.input.feed_size'], color='g', label='обучающая',bins=30, stat='density')\n",
    "    sns.histplot(data_test[f'{i}.input.feed_size'], color ='r', label='тестовая',bins=30, stat='density')\n",
    "    plt.xlabel('Размер гранул')\n",
    "    plt.ylabel('Количество')\n",
    "    plt.legend()\n",
    "plt.show()    "
   ]
  },
  {
   "cell_type": "markdown",
   "metadata": {},
   "source": [
    "<b>Вывод</b> Для обучающей и тестовой выборки наблюдаются одинаковые распределения. Распределения имеют один вид  и диапозон занчений."
   ]
  },
  {
   "cell_type": "markdown",
   "metadata": {},
   "source": [
    "<b>2.2 Исследование суммарной концентрации всех веществ на разных стадиях: в сырье, в черновом и финальном концентратах.</b> "
   ]
  },
  {
   "cell_type": "code",
   "execution_count": 25,
   "metadata": {},
   "outputs": [],
   "source": [
    "sum_rougher_input = 0\n",
    "sum_rougher_output = 0\n",
    "sum_final_output = 0\n",
    "for i in ['au', 'ag', 'pb', 'sol']:\n",
    "    sum_rougher_input += data_train[f'rougher.input.feed_{i}']\n",
    "    sum_rougher_output += data_train[f'rougher.output.concentrate_{i}']\n",
    "    sum_final_output += data_train[f'final.output.concentrate_{i}']"
   ]
  },
  {
   "cell_type": "code",
   "execution_count": 26,
   "metadata": {},
   "outputs": [
    {
     "data": {
      "image/png": "[encoded data removed]",
      "text/plain": [
       "<Figure size 1500x1000 with 1 Axes>"
      ]
     },
     "metadata": {},
     "output_type": "display_data"
    }
   ],
   "source": [
    "\n",
    "plt.figure(figsize=(15,10))\n",
    "plt.suptitle('Суммарная концентрация')\n",
    "sns.histplot(sum_rougher_input,label='сырье', color='y')\n",
    "sns.histplot(sum_rougher_output, label='после флотации', color='b')\n",
    "sns.histplot(sum_final_output, label='финальная', color='r')\n",
    "plt.xlabel('Суммарная концентрация')\n",
    "plt.ylabel('Количесвто наблюдений')\n",
    "plt.legend()\n",
    "plt.show()\n",
    "\n",
    "\n"
   ]
  },
  {
   "cell_type": "markdown",
   "metadata": {},
   "source": [
    "<b>Вывод</b>\n",
    "Концентрации после флотации увеличивается по отношению к сырью. При дальнейшей обработке, диапозон уменьшается."
   ]
  },
  {
   "cell_type": "markdown",
   "metadata": {},
   "source": [
    "## Модель"
   ]
  },
  {
   "cell_type": "markdown",
   "metadata": {},
   "source": [
    "Необходимо удалить из обучающей выборки признаки, которые отсутствуют в тестовой выборке\n",
    "    "
   ]
  },
  {
   "cell_type": "code",
   "execution_count": 27,
   "metadata": {},
   "outputs": [],
   "source": [
    "none_columns = set(none_columns) - set(['rougher.output.recovery','final.output.recovery']) "
   ]
  },
  {
   "cell_type": "code",
   "execution_count": 28,
   "metadata": {},
   "outputs": [],
   "source": [
    "data_train = data_train.drop(columns=list(none_columns))\n",
    "data_train = data_train.drop(columns='date')"
   ]
  },
  {
   "cell_type": "code",
   "execution_count": 29,
   "metadata": {},
   "outputs": [],
   "source": [
    "def smape_one(target, predict):\n",
    "    smape = (1/len(target))*np.sum((np.abs(target - predict))/( (np.abs(target)+np.abs(predict))/2))*100\n",
    "    return smape"
   ]
  },
  {
   "cell_type": "code",
   "execution_count": 30,
   "metadata": {},
   "outputs": [],
   "source": [
    "smape_scorer = make_scorer(smape_one, greater_is_better = False)"
   ]
  },
  {
   "cell_type": "markdown",
   "metadata": {},
   "source": [
    "Функция для расчёта финального SMAPE"
   ]
  },
  {
   "cell_type": "code",
   "execution_count": 31,
   "metadata": {},
   "outputs": [],
   "source": [
    "def final_smape(rougher, final):\n",
    "    final = 0.25*rougher + 0.75*final\n",
    "    return final"
   ]
  },
  {
   "cell_type": "markdown",
   "metadata": {},
   "source": [
    "Подготовка данных"
   ]
  },
  {
   "cell_type": "code",
   "execution_count": 32,
   "metadata": {},
   "outputs": [],
   "source": [
    "features_train = data_train.drop(columns=['rougher.output.recovery','final.output.recovery'])\n",
    "target_train_rougher = data_train['rougher.output.recovery']\n",
    "target_train_final = data_train['final.output.recovery']"
   ]
  },
  {
   "cell_type": "markdown",
   "metadata": {},
   "source": [
    "<b>Обучение моделей</b>\n"
   ]
  },
  {
   "cell_type": "markdown",
   "metadata": {},
   "source": [
    "Линейная регрессия"
   ]
  },
  {
   "cell_type": "code",
   "execution_count": 33,
   "metadata": {},
   "outputs": [],
   "source": [
    "RANDOM_STATE = 12345\n",
    "final_smape_table = []"
   ]
  },
  {
   "cell_type": "code",
   "execution_count": 34,
   "metadata": {},
   "outputs": [
    {
     "data": {
      "text/plain": [
       "[8.870431218613154]"
      ]
     },
     "execution_count": 34,
     "metadata": {},
     "output_type": "execute_result"
    }
   ],
   "source": [
    "model_lr = LinearRegression()\n",
    "smape_lr_rougher = pd.Series(cross_val_score(model_lr, features_train, target_train_rougher, cv=5, scoring=smape_scorer))\n",
    "smape_lr_final = pd.Series(cross_val_score(model_lr, features_train, target_train_final, cv=5, scoring=smape_scorer))\n",
    "final_smape_table.append(final_smape(smape_lr_rougher.mean(), smape_lr_final.mean())*(-1))\n",
    "final_smape_table"
   ]
  },
  {
   "cell_type": "markdown",
   "metadata": {},
   "source": [
    "Решающее дерево"
   ]
  },
  {
   "cell_type": "code",
   "execution_count": 35,
   "metadata": {},
   "outputs": [
    {
     "data": {
      "text/plain": [
       "'Лучший результат smape rougher'"
      ]
     },
     "metadata": {},
     "output_type": "display_data"
    },
    {
     "data": {
      "text/plain": [
       "6.670381426373919"
      ]
     },
     "metadata": {},
     "output_type": "display_data"
    },
    {
     "data": {
      "text/plain": [
       "'max_depth_rougher='"
      ]
     },
     "metadata": {},
     "output_type": "display_data"
    },
    {
     "data": {
      "text/plain": [
       "5"
      ]
     },
     "metadata": {},
     "output_type": "display_data"
    },
    {
     "data": {
      "text/plain": [
       "'Лучший результат smape final'"
      ]
     },
     "metadata": {},
     "output_type": "display_data"
    },
    {
     "data": {
      "text/plain": [
       "9.21803626854853"
      ]
     },
     "metadata": {},
     "output_type": "display_data"
    },
    {
     "data": {
      "text/plain": [
       "'max_depth_final='"
      ]
     },
     "metadata": {},
     "output_type": "display_data"
    },
    {
     "data": {
      "text/plain": [
       "2"
      ]
     },
     "metadata": {},
     "output_type": "display_data"
    }
   ],
   "source": [
    "best_result_rougher = 100\n",
    "best_max_depth_rougher = 0\n",
    "best_result_final = 100\n",
    "best_max_depth_rougher = 0\n",
    "for i in range(2,10):\n",
    "    model_dt = DecisionTreeRegressor(max_depth=i, random_state=RANDOM_STATE)\n",
    "    smape_dt_rougher = pd.Series(cross_val_score(model_dt, features_train, target_train_rougher, cv=5, scoring=smape_scorer))\n",
    "    model_dt = DecisionTreeRegressor(max_depth=i, random_state=RANDOM_STATE)\n",
    "    smape_dt_final = pd.Series(cross_val_score(model_dt, features_train, target_train_final, cv=5, scoring=smape_scorer))\n",
    "    result_rougher = smape_dt_rougher.mean()*(-1)\n",
    "    result_final = smape_dt_final.mean()*(-1)\n",
    "    if result_rougher < best_result_rougher:\n",
    "        best_result_rougher = result_rougher\n",
    "        best_max_depth_rougher = i\n",
    "    if result_final < best_result_final:\n",
    "        best_result_final = result_final\n",
    "        best_max_depth_final = i    \n",
    "final_smape_table.append(final_smape(best_result_rougher, best_result_final))        \n",
    "display('Лучший результат smape rougher', best_result_rougher, 'max_depth_rougher=', best_max_depth_rougher)\n",
    "display('Лучший результат smape final', best_result_final, 'max_depth_final=', best_max_depth_final)      "
   ]
  },
  {
   "cell_type": "markdown",
   "metadata": {},
   "source": [
    "Случайный лес"
   ]
  },
  {
   "cell_type": "code",
   "execution_count": 36,
   "metadata": {},
   "outputs": [
    {
     "data": {
      "text/plain": [
       "'Лучший результат smape rougher'"
      ]
     },
     "metadata": {},
     "output_type": "display_data"
    },
    {
     "data": {
      "text/plain": [
       "6.545165859421244"
      ]
     },
     "metadata": {},
     "output_type": "display_data"
    },
    {
     "data": {
      "text/plain": [
       "'max_depth_rougher='"
      ]
     },
     "metadata": {},
     "output_type": "display_data"
    },
    {
     "data": {
      "text/plain": [
       "6"
      ]
     },
     "metadata": {},
     "output_type": "display_data"
    },
    {
     "data": {
      "text/plain": [
       "'n_estimators_rougher'"
      ]
     },
     "metadata": {},
     "output_type": "display_data"
    },
    {
     "data": {
      "text/plain": [
       "42"
      ]
     },
     "metadata": {},
     "output_type": "display_data"
    },
    {
     "data": {
      "text/plain": [
       "'Лучший результат smape final'"
      ]
     },
     "metadata": {},
     "output_type": "display_data"
    },
    {
     "data": {
      "text/plain": [
       "8.786925268180795"
      ]
     },
     "metadata": {},
     "output_type": "display_data"
    },
    {
     "data": {
      "text/plain": [
       "'max_depth_final='"
      ]
     },
     "metadata": {},
     "output_type": "display_data"
    },
    {
     "data": {
      "text/plain": [
       "2"
      ]
     },
     "metadata": {},
     "output_type": "display_data"
    },
    {
     "data": {
      "text/plain": [
       "'n_estimators_final'"
      ]
     },
     "metadata": {},
     "output_type": "display_data"
    },
    {
     "data": {
      "text/plain": [
       "42"
      ]
     },
     "metadata": {},
     "output_type": "display_data"
    }
   ],
   "source": [
    "best_result_rougher = 100\n",
    "best_max_depth_rougher = 0\n",
    "best_result_final = 100\n",
    "best_max_depth_rougher = 0\n",
    "best_estimators_rougher = 0\n",
    "best_estimators_final = 0\n",
    "for i in range(2,50,20):\n",
    "    for j in range(2,8,2):\n",
    "        model_rf = RandomForestRegressor(max_depth=j, n_estimators = i, random_state=RANDOM_STATE)\n",
    "        smape_rf_rougher = pd.Series(cross_val_score(model_rf, features_train, target_train_rougher, cv=5, scoring=smape_scorer))\n",
    "        model_rf = RandomForestRegressor(max_depth=j, n_estimators = i, random_state=RANDOM_STATE)\n",
    "        smape_rf_final = pd.Series(cross_val_score(model_rf, features_train, target_train_final, cv=5, scoring=smape_scorer))\n",
    "        result_rougher = smape_rf_rougher.mean()*(-1)\n",
    "        result_final = smape_rf_final.mean()*(-1)\n",
    "        if result_rougher < best_result_rougher:\n",
    "            best_result_rougher = result_rougher\n",
    "            best_max_depth_rougher = j\n",
    "            best_estimators_rougher = i\n",
    "        if result_final < best_result_final:\n",
    "            best_result_final = result_final\n",
    "            best_max_depth_final = j\n",
    "            best_estimators_final = i    \n",
    "final_smape_table.append(final_smape(best_result_rougher, best_result_final))        \n",
    "display('Лучший результат smape rougher', best_result_rougher, 'max_depth_rougher=', best_max_depth_rougher, 'n_estimators_rougher', best_estimators_rougher)\n",
    "display('Лучший результат smape final', best_result_final, 'max_depth_final=', best_max_depth_final, 'n_estimators_final', best_estimators_final) "
   ]
  },
  {
   "cell_type": "code",
   "execution_count": 37,
   "metadata": {
    "scrolled": true
   },
   "outputs": [
    {
     "data": {
      "text/html": [
       "<div>\n",
       "<style scoped>\n",
       "    .dataframe tbody tr th:only-of-type {\n",
       "        vertical-align: middle;\n",
       "    }\n",
       "\n",
       "    .dataframe tbody tr th {\n",
       "        vertical-align: top;\n",
       "    }\n",
       "\n",
       "    .dataframe thead th {\n",
       "        text-align: right;\n",
       "    }\n",
       "</style>\n",
       "<table border=\"1\" class=\"dataframe\">\n",
       "  <thead>\n",
       "    <tr style=\"text-align: right;\">\n",
       "      <th></th>\n",
       "      <th>0</th>\n",
       "    </tr>\n",
       "  </thead>\n",
       "  <tbody>\n",
       "    <tr>\n",
       "      <th>LR</th>\n",
       "      <td>8.870431</td>\n",
       "    </tr>\n",
       "    <tr>\n",
       "      <th>DT</th>\n",
       "      <td>8.581123</td>\n",
       "    </tr>\n",
       "    <tr>\n",
       "      <th>RF</th>\n",
       "      <td>8.226485</td>\n",
       "    </tr>\n",
       "  </tbody>\n",
       "</table>\n",
       "</div>"
      ],
      "text/plain": [
       "           0\n",
       "LR  8.870431\n",
       "DT  8.581123\n",
       "RF  8.226485"
      ]
     },
     "execution_count": 37,
     "metadata": {},
     "output_type": "execute_result"
    }
   ],
   "source": [
    "pd.DataFrame(final_smape_table, index=['LR', 'DT', 'RF'])"
   ]
  },
  {
   "cell_type": "code",
   "execution_count": 38,
   "metadata": {},
   "outputs": [
    {
     "data": {
      "text/plain": [
       "6.654958830568457"
      ]
     },
     "execution_count": 38,
     "metadata": {},
     "output_type": "execute_result"
    }
   ],
   "source": [
    "data_test = data_test.drop(columns='date')\n",
    "model_rf_final_rougher = RandomForestRegressor(max_depth=6, n_estimators = 42, random_state=RANDOM_STATE)\n",
    "model_rf_final_rougher.fit(features_train, target_train_rougher)\n",
    "model_rf_final_final = RandomForestRegressor(max_depth=4, n_estimators = 42, random_state=RANDOM_STATE)\n",
    "model_rf_final_final.fit(features_train, target_train_final)\n",
    "features_test = data_test.drop(columns=['rougher.output.recovery','final.output.recovery'])\n",
    "target_test_rougher = data_test['rougher.output.recovery']\n",
    "target_test_final = data_test['final.output.recovery']                                   \n",
    "test_smape = final_smape(smape_one(target_test_rougher, model_rf_final_rougher.predict(features_test)),\n",
    "                smape_one(target_test_final, model_rf_final_final.predict(features_test)))\n",
    "test_smape              "
   ]
  },
  {
   "cell_type": "code",
   "execution_count": 39,
   "metadata": {},
   "outputs": [
    {
     "data": {
      "text/plain": [
       "8.467355033628762"
      ]
     },
     "execution_count": 39,
     "metadata": {},
     "output_type": "execute_result"
    }
   ],
   "source": [
    "dummy_rougher = DummyRegressor(strategy=\"mean\")\n",
    "dummy_final = DummyRegressor(strategy=\"mean\")\n",
    "\n",
    "dummy_rougher.fit(features_train, target_train_rougher)\n",
    "dummy_final.fit(features_train, target_train_final)\n",
    "\n",
    "dummy_predicted_rougher = dummy_rougher.predict(features_test)\n",
    "dummy_predicted_final = dummy_final.predict(features_test)\n",
    "\n",
    "smape_const_rougher = smape_one(target_test_rougher, dummy_predicted_rougher)\n",
    "smape_const_final = smape_one(target_test_final, dummy_predicted_final)\n",
    "\n",
    "final_smape_const = final_smape(smape_const_rougher, smape_const_final)\n",
    "final_smape_const"
   ]
  },
  {
   "cell_type": "markdown",
   "metadata": {},
   "source": [
    "<b>Выводы</b>\n",
    "<br>   На первом этапе исследования были выявлены пропуски в данных. Пропуски данных были заменены соседними по времени значениями. Так же был изменён тип данных в столбце 'date'\n",
    "<br>   На втором этапе проанализировано изменение концентрации по этапам очистки. Концентрация золота и свинца увеличивается по этапам обработки. Концентрация серебра уменьшается. Суммарная концентрация на начальном этапе увеличивается, на послоедующих этапах заметно снижение концентрации \n",
    "<br>   На этапе обучения модели, из обучающей выборки были удалены признаки, которые отсутствуют в тестовой выборки, для избежания утечки целевого признака.\n",
    "<br> - Модель с лучшими результатами прогноза является  - RandomForestRegressor(SMAPE=8.27)\n",
    "<br> - Результат тестовой выборки ниже обучающей - RandomForestRegressor(SMAPE=9.82)\n",
    "<br> - Показатель модели меньше показателя константной, что означает хорошее качество полученной модели.\n",
    "\n"
   ]
  },
  {
   "cell_type": "code",
   "execution_count": null,
   "metadata": {},
   "outputs": [],
   "source": []
  }
 ],
 "metadata": {
  "ExecuteTimeLog": [
   {
    "duration": 1532,
    "start_time": "2023-02-06T17:49:13.892Z"
   },
   {
    "duration": 5,
    "start_time": "2023-02-06T17:50:55.716Z"
   },
   {
    "duration": 168,
    "start_time": "2023-02-06T17:50:56.630Z"
   },
   {
    "duration": 2165,
    "start_time": "2023-02-06T17:51:47.792Z"
   },
   {
    "duration": 25,
    "start_time": "2023-02-06T17:52:03.816Z"
   },
   {
    "duration": 25,
    "start_time": "2023-02-06T17:52:14.663Z"
   },
   {
    "duration": 21,
    "start_time": "2023-02-06T18:02:43.926Z"
   },
   {
    "duration": 13,
    "start_time": "2023-02-06T18:02:56.766Z"
   },
   {
    "duration": 15,
    "start_time": "2023-02-06T18:03:01.686Z"
   },
   {
    "duration": 15,
    "start_time": "2023-02-06T18:03:08.062Z"
   },
   {
    "duration": 26,
    "start_time": "2023-02-06T18:05:22.938Z"
   },
   {
    "duration": 9,
    "start_time": "2023-02-06T18:07:17.493Z"
   },
   {
    "duration": 1748,
    "start_time": "2023-02-06T18:39:31.227Z"
   },
   {
    "duration": 3568,
    "start_time": "2023-02-06T18:39:32.977Z"
   },
   {
    "duration": 17,
    "start_time": "2023-02-06T18:39:36.547Z"
   },
   {
    "duration": 29,
    "start_time": "2023-02-06T18:39:36.566Z"
   },
   {
    "duration": 124,
    "start_time": "2023-02-06T18:39:36.598Z"
   },
   {
    "duration": 293,
    "start_time": "2023-02-06T18:39:49.274Z"
   },
   {
    "duration": 296,
    "start_time": "2023-02-06T18:45:47.159Z"
   },
   {
    "duration": 250,
    "start_time": "2023-02-06T18:46:11.288Z"
   },
   {
    "duration": 20,
    "start_time": "2023-02-06T18:49:54.626Z"
   },
   {
    "duration": 11,
    "start_time": "2023-02-06T18:50:01.351Z"
   },
   {
    "duration": 21,
    "start_time": "2023-02-06T18:50:05.616Z"
   },
   {
    "duration": 5,
    "start_time": "2023-02-06T18:50:18.943Z"
   },
   {
    "duration": 6,
    "start_time": "2023-02-06T18:50:22.910Z"
   },
   {
    "duration": 4,
    "start_time": "2023-02-06T18:50:30.480Z"
   },
   {
    "duration": 79,
    "start_time": "2023-02-06T18:51:38.370Z"
   },
   {
    "duration": 4,
    "start_time": "2023-02-06T18:51:43.082Z"
   },
   {
    "duration": 3,
    "start_time": "2023-02-06T18:52:01.963Z"
   },
   {
    "duration": 5,
    "start_time": "2023-02-06T18:52:11.527Z"
   },
   {
    "duration": 5,
    "start_time": "2023-02-06T18:52:22.556Z"
   },
   {
    "duration": 694,
    "start_time": "2023-02-06T18:52:22.859Z"
   },
   {
    "duration": 9,
    "start_time": "2023-02-06T18:52:23.554Z"
   },
   {
    "duration": 4,
    "start_time": "2023-02-06T18:52:29.755Z"
   },
   {
    "duration": 723,
    "start_time": "2023-02-06T18:52:30.044Z"
   },
   {
    "duration": 33,
    "start_time": "2023-02-06T18:52:30.769Z"
   },
   {
    "duration": 254,
    "start_time": "2023-02-06T18:52:31.644Z"
   },
   {
    "duration": 80,
    "start_time": "2023-02-06T18:53:40.079Z"
   },
   {
    "duration": 8,
    "start_time": "2023-02-06T18:53:43.982Z"
   },
   {
    "duration": 11,
    "start_time": "2023-02-06T18:53:54.134Z"
   },
   {
    "duration": 10,
    "start_time": "2023-02-06T18:54:16.279Z"
   },
   {
    "duration": 3,
    "start_time": "2023-02-06T18:54:34.456Z"
   },
   {
    "duration": 677,
    "start_time": "2023-02-06T18:54:34.743Z"
   },
   {
    "duration": 26,
    "start_time": "2023-02-06T18:54:35.422Z"
   },
   {
    "duration": 267,
    "start_time": "2023-02-06T18:54:35.608Z"
   },
   {
    "duration": 9,
    "start_time": "2023-02-06T18:54:36.632Z"
   },
   {
    "duration": 11,
    "start_time": "2023-02-06T18:54:42.928Z"
   },
   {
    "duration": 7,
    "start_time": "2023-02-06T18:54:58.864Z"
   },
   {
    "duration": 669,
    "start_time": "2023-02-06T18:58:45.930Z"
   },
   {
    "duration": 17,
    "start_time": "2023-02-06T18:59:14.665Z"
   },
   {
    "duration": 9,
    "start_time": "2023-02-06T18:59:19.129Z"
   },
   {
    "duration": 25,
    "start_time": "2023-02-06T18:59:29.406Z"
   },
   {
    "duration": 18,
    "start_time": "2023-02-06T19:02:34.128Z"
   },
   {
    "duration": 14,
    "start_time": "2023-02-06T19:02:42.447Z"
   },
   {
    "duration": 39,
    "start_time": "2023-02-06T19:05:56.399Z"
   },
   {
    "duration": 7,
    "start_time": "2023-02-06T19:06:08.525Z"
   },
   {
    "duration": 864,
    "start_time": "2023-02-06T19:06:08.725Z"
   },
   {
    "duration": 42,
    "start_time": "2023-02-06T19:06:09.590Z"
   },
   {
    "duration": 293,
    "start_time": "2023-02-06T19:06:09.642Z"
   },
   {
    "duration": 16,
    "start_time": "2023-02-06T19:06:09.937Z"
   },
   {
    "duration": 18,
    "start_time": "2023-02-06T19:06:10.136Z"
   },
   {
    "duration": 22,
    "start_time": "2023-02-06T19:06:10.369Z"
   },
   {
    "duration": 27,
    "start_time": "2023-02-06T19:06:10.887Z"
   },
   {
    "duration": 27,
    "start_time": "2023-02-06T19:07:02.838Z"
   },
   {
    "duration": 114,
    "start_time": "2023-02-06T19:26:35.081Z"
   },
   {
    "duration": 91,
    "start_time": "2023-02-06T19:26:50.321Z"
   },
   {
    "duration": 24,
    "start_time": "2023-02-06T19:27:02.613Z"
   },
   {
    "duration": 17,
    "start_time": "2023-02-06T19:27:23.985Z"
   },
   {
    "duration": 11,
    "start_time": "2023-02-06T19:27:48.618Z"
   },
   {
    "duration": 765,
    "start_time": "2023-02-06T19:27:48.762Z"
   },
   {
    "duration": 22,
    "start_time": "2023-02-06T19:27:49.530Z"
   },
   {
    "duration": 272,
    "start_time": "2023-02-06T19:27:49.553Z"
   },
   {
    "duration": 8,
    "start_time": "2023-02-06T19:27:49.827Z"
   },
   {
    "duration": 16,
    "start_time": "2023-02-06T19:27:50.033Z"
   },
   {
    "duration": 19,
    "start_time": "2023-02-06T19:27:50.225Z"
   },
   {
    "duration": 20,
    "start_time": "2023-02-06T19:27:50.715Z"
   },
   {
    "duration": 1452,
    "start_time": "2023-02-06T19:27:51.234Z"
   },
   {
    "duration": 8,
    "start_time": "2023-02-06T19:28:03.562Z"
   },
   {
    "duration": 10,
    "start_time": "2023-02-06T19:29:53.921Z"
   },
   {
    "duration": 8,
    "start_time": "2023-02-06T19:30:54.658Z"
   },
   {
    "duration": 4,
    "start_time": "2023-02-06T19:37:19.486Z"
   },
   {
    "duration": 11,
    "start_time": "2023-02-06T20:00:30.572Z"
   },
   {
    "duration": 4,
    "start_time": "2023-02-06T20:00:46.349Z"
   },
   {
    "duration": 778,
    "start_time": "2023-02-06T20:00:46.524Z"
   },
   {
    "duration": 29,
    "start_time": "2023-02-06T20:00:47.307Z"
   },
   {
    "duration": 335,
    "start_time": "2023-02-06T20:00:47.338Z"
   },
   {
    "duration": 19,
    "start_time": "2023-02-06T20:00:47.676Z"
   },
   {
    "duration": 15,
    "start_time": "2023-02-06T20:00:47.730Z"
   },
   {
    "duration": 25,
    "start_time": "2023-02-06T20:00:47.917Z"
   },
   {
    "duration": 20,
    "start_time": "2023-02-06T20:00:48.429Z"
   },
   {
    "duration": 16,
    "start_time": "2023-02-06T20:00:49.014Z"
   },
   {
    "duration": 3,
    "start_time": "2023-02-06T20:00:50.069Z"
   },
   {
    "duration": 9,
    "start_time": "2023-02-06T20:00:50.637Z"
   },
   {
    "duration": 10,
    "start_time": "2023-02-06T20:01:21.847Z"
   },
   {
    "duration": 114,
    "start_time": "2023-02-06T20:07:01.075Z"
   },
   {
    "duration": 10,
    "start_time": "2023-02-06T20:07:58.726Z"
   },
   {
    "duration": 15,
    "start_time": "2023-02-06T20:08:07.743Z"
   },
   {
    "duration": 14,
    "start_time": "2023-02-06T20:08:19.316Z"
   },
   {
    "duration": 32,
    "start_time": "2023-02-06T20:08:28.678Z"
   },
   {
    "duration": 24,
    "start_time": "2023-02-06T20:08:58.848Z"
   },
   {
    "duration": 10,
    "start_time": "2023-02-06T20:09:21.630Z"
   },
   {
    "duration": 91,
    "start_time": "2023-02-06T20:09:25.640Z"
   },
   {
    "duration": 3,
    "start_time": "2023-02-06T20:09:44.621Z"
   },
   {
    "duration": 761,
    "start_time": "2023-02-06T20:09:45.058Z"
   },
   {
    "duration": 26,
    "start_time": "2023-02-06T20:09:46.449Z"
   },
   {
    "duration": 21,
    "start_time": "2023-02-06T20:09:50.954Z"
   },
   {
    "duration": 30,
    "start_time": "2023-02-06T20:09:53.986Z"
   },
   {
    "duration": 20,
    "start_time": "2023-02-06T20:10:08.527Z"
   },
   {
    "duration": 275,
    "start_time": "2023-02-06T20:10:08.852Z"
   },
   {
    "duration": 11,
    "start_time": "2023-02-06T20:10:09.243Z"
   },
   {
    "duration": 26,
    "start_time": "2023-02-06T20:10:09.779Z"
   },
   {
    "duration": 44,
    "start_time": "2023-02-06T20:10:10.291Z"
   },
   {
    "duration": 23,
    "start_time": "2023-02-06T20:10:11.364Z"
   },
   {
    "duration": 11,
    "start_time": "2023-02-06T20:10:12.130Z"
   },
   {
    "duration": 4,
    "start_time": "2023-02-06T20:10:14.723Z"
   },
   {
    "duration": 11,
    "start_time": "2023-02-06T20:10:15.578Z"
   },
   {
    "duration": 15,
    "start_time": "2023-02-06T20:10:16.531Z"
   },
   {
    "duration": 24,
    "start_time": "2023-02-06T20:10:17.259Z"
   },
   {
    "duration": 80,
    "start_time": "2023-02-06T20:11:26.501Z"
   },
   {
    "duration": 20,
    "start_time": "2023-02-06T20:11:30.302Z"
   },
   {
    "duration": 23,
    "start_time": "2023-02-06T20:11:31.013Z"
   },
   {
    "duration": 3,
    "start_time": "2023-02-06T20:17:59.347Z"
   },
   {
    "duration": 734,
    "start_time": "2023-02-06T20:17:59.511Z"
   },
   {
    "duration": 23,
    "start_time": "2023-02-06T20:18:00.247Z"
   },
   {
    "duration": 270,
    "start_time": "2023-02-06T20:18:00.272Z"
   },
   {
    "duration": 6,
    "start_time": "2023-02-06T20:18:00.543Z"
   },
   {
    "duration": 14,
    "start_time": "2023-02-06T20:18:00.626Z"
   },
   {
    "duration": 17,
    "start_time": "2023-02-06T20:18:00.815Z"
   },
   {
    "duration": 25,
    "start_time": "2023-02-06T20:18:01.170Z"
   },
   {
    "duration": 11,
    "start_time": "2023-02-06T20:18:01.555Z"
   },
   {
    "duration": 4,
    "start_time": "2023-02-06T20:18:02.216Z"
   },
   {
    "duration": 7,
    "start_time": "2023-02-06T20:18:02.435Z"
   },
   {
    "duration": 8,
    "start_time": "2023-02-06T20:18:03.342Z"
   },
   {
    "duration": 27,
    "start_time": "2023-02-06T20:18:03.579Z"
   },
   {
    "duration": 97,
    "start_time": "2023-02-06T20:31:49.256Z"
   },
   {
    "duration": 582,
    "start_time": "2023-02-06T20:32:05.840Z"
   },
   {
    "duration": 12,
    "start_time": "2023-02-06T20:33:29.947Z"
   },
   {
    "duration": 539,
    "start_time": "2023-02-06T20:38:37.485Z"
   },
   {
    "duration": 506,
    "start_time": "2023-02-06T20:38:45.372Z"
   },
   {
    "duration": 575,
    "start_time": "2023-02-06T20:38:52.957Z"
   },
   {
    "duration": 490,
    "start_time": "2023-02-06T20:39:00.320Z"
   },
   {
    "duration": 335,
    "start_time": "2023-02-06T20:41:43.450Z"
   },
   {
    "duration": 310,
    "start_time": "2023-02-06T20:41:53.827Z"
   },
   {
    "duration": 310,
    "start_time": "2023-02-06T20:42:20.427Z"
   },
   {
    "duration": 395,
    "start_time": "2023-02-06T20:42:28.259Z"
   },
   {
    "duration": 318,
    "start_time": "2023-02-06T20:43:30.262Z"
   },
   {
    "duration": 627,
    "start_time": "2023-02-06T20:44:02.175Z"
   },
   {
    "duration": 1016,
    "start_time": "2023-02-06T20:44:28.512Z"
   },
   {
    "duration": 638,
    "start_time": "2023-02-06T20:44:39.577Z"
   },
   {
    "duration": 454,
    "start_time": "2023-02-06T20:44:47.108Z"
   },
   {
    "duration": 94,
    "start_time": "2023-02-06T20:45:05.050Z"
   },
   {
    "duration": 481,
    "start_time": "2023-02-06T20:45:10.186Z"
   },
   {
    "duration": 783,
    "start_time": "2023-02-06T20:45:20.145Z"
   },
   {
    "duration": 703,
    "start_time": "2023-02-06T20:46:07.475Z"
   },
   {
    "duration": 792,
    "start_time": "2023-02-06T20:47:04.965Z"
   },
   {
    "duration": 494,
    "start_time": "2023-02-06T20:47:21.566Z"
   },
   {
    "duration": 756,
    "start_time": "2023-02-06T20:47:26.390Z"
   },
   {
    "duration": 330,
    "start_time": "2023-02-06T20:47:51.013Z"
   },
   {
    "duration": 804,
    "start_time": "2023-02-06T20:47:59.160Z"
   },
   {
    "duration": 700,
    "start_time": "2023-02-06T20:48:29.621Z"
   },
   {
    "duration": 616,
    "start_time": "2023-02-06T20:48:36.865Z"
   },
   {
    "duration": 768,
    "start_time": "2023-02-06T20:48:42.584Z"
   },
   {
    "duration": 713,
    "start_time": "2023-02-06T20:48:51.011Z"
   },
   {
    "duration": 702,
    "start_time": "2023-02-06T20:48:59.265Z"
   },
   {
    "duration": 2764,
    "start_time": "2023-02-06T20:54:58.925Z"
   },
   {
    "duration": 2581,
    "start_time": "2023-02-06T20:55:58.880Z"
   },
   {
    "duration": 84,
    "start_time": "2023-02-06T20:56:46.185Z"
   },
   {
    "duration": 80,
    "start_time": "2023-02-06T20:56:53.745Z"
   },
   {
    "duration": 2412,
    "start_time": "2023-02-06T20:57:02.362Z"
   },
   {
    "duration": 88,
    "start_time": "2023-02-06T20:57:47.851Z"
   },
   {
    "duration": 2484,
    "start_time": "2023-02-06T20:58:15.932Z"
   },
   {
    "duration": 2505,
    "start_time": "2023-02-06T20:58:35.612Z"
   },
   {
    "duration": 3157,
    "start_time": "2023-02-06T20:59:09.181Z"
   },
   {
    "duration": 10,
    "start_time": "2023-02-06T21:02:13.579Z"
   },
   {
    "duration": 3085,
    "start_time": "2023-02-06T21:02:21.381Z"
   },
   {
    "duration": 9,
    "start_time": "2023-02-06T21:02:38.604Z"
   },
   {
    "duration": 2953,
    "start_time": "2023-02-06T21:02:39.306Z"
   },
   {
    "duration": 14,
    "start_time": "2023-02-06T21:06:01.039Z"
   },
   {
    "duration": 3503,
    "start_time": "2023-02-06T21:06:01.055Z"
   },
   {
    "duration": 12,
    "start_time": "2023-02-06T21:07:34.062Z"
   },
   {
    "duration": 3127,
    "start_time": "2023-02-06T21:07:34.886Z"
   },
   {
    "duration": 15,
    "start_time": "2023-02-06T21:10:10.987Z"
   },
   {
    "duration": 2909,
    "start_time": "2023-02-06T21:10:14.339Z"
   },
   {
    "duration": 4,
    "start_time": "2023-02-06T21:10:40.507Z"
   },
   {
    "duration": 693,
    "start_time": "2023-02-06T21:10:40.876Z"
   },
   {
    "duration": 389,
    "start_time": "2023-02-06T21:10:43.564Z"
   },
   {
    "duration": 15,
    "start_time": "2023-02-06T21:10:44.084Z"
   },
   {
    "duration": 15,
    "start_time": "2023-02-06T21:10:44.605Z"
   },
   {
    "duration": 22,
    "start_time": "2023-02-06T21:10:44.883Z"
   },
   {
    "duration": 18,
    "start_time": "2023-02-06T21:10:45.420Z"
   },
   {
    "duration": 13,
    "start_time": "2023-02-06T21:10:45.940Z"
   },
   {
    "duration": 3,
    "start_time": "2023-02-06T21:10:46.708Z"
   },
   {
    "duration": 8,
    "start_time": "2023-02-06T21:10:47.000Z"
   },
   {
    "duration": 9,
    "start_time": "2023-02-06T21:10:47.780Z"
   },
   {
    "duration": 23,
    "start_time": "2023-02-06T21:10:48.044Z"
   },
   {
    "duration": 3036,
    "start_time": "2023-02-06T21:10:49.485Z"
   },
   {
    "duration": 21,
    "start_time": "2023-02-06T21:10:52.523Z"
   },
   {
    "duration": 3171,
    "start_time": "2023-02-06T21:10:52.545Z"
   },
   {
    "duration": 3120,
    "start_time": "2023-02-06T21:11:18.637Z"
   },
   {
    "duration": 3263,
    "start_time": "2023-02-06T21:11:30.517Z"
   },
   {
    "duration": 2990,
    "start_time": "2023-02-06T21:12:56.795Z"
   },
   {
    "duration": 3183,
    "start_time": "2023-02-06T21:13:47.786Z"
   },
   {
    "duration": 3262,
    "start_time": "2023-02-06T21:13:55.579Z"
   },
   {
    "duration": 22,
    "start_time": "2023-02-06T21:14:06.827Z"
   },
   {
    "duration": 3379,
    "start_time": "2023-02-06T21:14:14.732Z"
   },
   {
    "duration": 3348,
    "start_time": "2023-02-06T21:14:25.123Z"
   },
   {
    "duration": 3152,
    "start_time": "2023-02-06T21:14:36.809Z"
   },
   {
    "duration": 16,
    "start_time": "2023-02-06T21:16:35.256Z"
   },
   {
    "duration": 3327,
    "start_time": "2023-02-06T21:16:35.839Z"
   },
   {
    "duration": 4,
    "start_time": "2023-02-06T21:28:21.071Z"
   },
   {
    "duration": 729,
    "start_time": "2023-02-06T21:28:21.358Z"
   },
   {
    "duration": 26,
    "start_time": "2023-02-06T21:28:22.093Z"
   },
   {
    "duration": 246,
    "start_time": "2023-02-06T21:28:22.374Z"
   },
   {
    "duration": 7,
    "start_time": "2023-02-06T21:28:22.854Z"
   },
   {
    "duration": 14,
    "start_time": "2023-02-06T21:28:23.366Z"
   },
   {
    "duration": 16,
    "start_time": "2023-02-06T21:28:23.639Z"
   },
   {
    "duration": 18,
    "start_time": "2023-02-06T21:28:24.222Z"
   },
   {
    "duration": 9,
    "start_time": "2023-02-06T21:28:24.765Z"
   },
   {
    "duration": 3,
    "start_time": "2023-02-06T21:28:25.567Z"
   },
   {
    "duration": 8,
    "start_time": "2023-02-06T21:28:25.839Z"
   },
   {
    "duration": 14,
    "start_time": "2023-02-06T21:28:26.706Z"
   },
   {
    "duration": 25,
    "start_time": "2023-02-06T21:28:26.959Z"
   },
   {
    "duration": 3169,
    "start_time": "2023-02-06T21:28:28.367Z"
   },
   {
    "duration": 15,
    "start_time": "2023-02-06T21:28:31.538Z"
   },
   {
    "duration": 3374,
    "start_time": "2023-02-06T21:28:31.555Z"
   },
   {
    "duration": 4,
    "start_time": "2023-02-06T21:28:46.567Z"
   },
   {
    "duration": 720,
    "start_time": "2023-02-06T21:28:46.767Z"
   },
   {
    "duration": 30,
    "start_time": "2023-02-06T21:28:47.493Z"
   },
   {
    "duration": 255,
    "start_time": "2023-02-06T21:28:47.568Z"
   },
   {
    "duration": 7,
    "start_time": "2023-02-06T21:28:47.942Z"
   },
   {
    "duration": 14,
    "start_time": "2023-02-06T21:28:48.312Z"
   },
   {
    "duration": 18,
    "start_time": "2023-02-06T21:28:48.519Z"
   },
   {
    "duration": 19,
    "start_time": "2023-02-06T21:28:48.911Z"
   },
   {
    "duration": 9,
    "start_time": "2023-02-06T21:28:49.310Z"
   },
   {
    "duration": 3,
    "start_time": "2023-02-06T21:28:49.912Z"
   },
   {
    "duration": 8,
    "start_time": "2023-02-06T21:28:50.109Z"
   },
   {
    "duration": 11,
    "start_time": "2023-02-06T21:28:50.700Z"
   },
   {
    "duration": 29,
    "start_time": "2023-02-06T21:28:50.887Z"
   },
   {
    "duration": 3102,
    "start_time": "2023-02-06T21:28:51.880Z"
   },
   {
    "duration": 29,
    "start_time": "2023-02-06T21:28:54.985Z"
   },
   {
    "duration": 3324,
    "start_time": "2023-02-06T21:28:55.019Z"
   },
   {
    "duration": 21,
    "start_time": "2023-02-06T21:29:46.110Z"
   },
   {
    "duration": 3269,
    "start_time": "2023-02-06T21:29:46.905Z"
   },
   {
    "duration": 14,
    "start_time": "2023-02-06T21:35:49.133Z"
   },
   {
    "duration": 1951,
    "start_time": "2023-02-06T21:36:13.255Z"
   },
   {
    "duration": 181,
    "start_time": "2023-02-06T21:37:05.473Z"
   },
   {
    "duration": 1952,
    "start_time": "2023-02-06T21:37:24.961Z"
   },
   {
    "duration": 435,
    "start_time": "2023-02-06T21:40:00.647Z"
   },
   {
    "duration": 451,
    "start_time": "2023-02-06T21:40:10.862Z"
   },
   {
    "duration": 687,
    "start_time": "2023-02-06T21:43:10.021Z"
   },
   {
    "duration": 550,
    "start_time": "2023-02-06T21:45:19.204Z"
   },
   {
    "duration": 570,
    "start_time": "2023-02-06T21:53:17.919Z"
   },
   {
    "duration": 91,
    "start_time": "2023-02-06T21:57:01.822Z"
   },
   {
    "duration": 1270,
    "start_time": "2023-02-06T21:57:10.270Z"
   },
   {
    "duration": 1389,
    "start_time": "2023-02-06T21:57:39.360Z"
   },
   {
    "duration": 12,
    "start_time": "2023-02-06T22:04:37.854Z"
   },
   {
    "duration": 11,
    "start_time": "2023-02-06T22:04:42.621Z"
   },
   {
    "duration": 12,
    "start_time": "2023-02-06T22:04:43.017Z"
   },
   {
    "duration": 6,
    "start_time": "2023-02-06T22:05:02.549Z"
   },
   {
    "duration": 1175,
    "start_time": "2023-02-06T22:05:03.663Z"
   },
   {
    "duration": 23,
    "start_time": "2023-02-06T22:46:49.187Z"
   },
   {
    "duration": 11,
    "start_time": "2023-02-06T22:47:05.069Z"
   },
   {
    "duration": 3,
    "start_time": "2023-02-06T22:47:21.069Z"
   },
   {
    "duration": 5,
    "start_time": "2023-02-06T22:47:25.918Z"
   },
   {
    "duration": 4,
    "start_time": "2023-02-06T22:47:32.581Z"
   },
   {
    "duration": 10,
    "start_time": "2023-02-06T22:48:16.004Z"
   },
   {
    "duration": 3,
    "start_time": "2023-02-06T22:51:48.214Z"
   },
   {
    "duration": 14,
    "start_time": "2023-02-06T22:53:53.657Z"
   },
   {
    "duration": 713,
    "start_time": "2023-02-06T22:54:27.763Z"
   },
   {
    "duration": 6,
    "start_time": "2023-02-06T22:55:03.579Z"
   },
   {
    "duration": 98,
    "start_time": "2023-02-06T22:56:07.860Z"
   },
   {
    "duration": 3,
    "start_time": "2023-02-06T22:57:00.506Z"
   },
   {
    "duration": 28,
    "start_time": "2023-02-06T22:59:18.771Z"
   },
   {
    "duration": 6,
    "start_time": "2023-02-06T22:59:45.559Z"
   },
   {
    "duration": 2,
    "start_time": "2023-02-06T22:59:47.142Z"
   },
   {
    "duration": 26,
    "start_time": "2023-02-06T22:59:47.662Z"
   },
   {
    "duration": 4,
    "start_time": "2023-02-06T23:00:02.363Z"
   },
   {
    "duration": 16,
    "start_time": "2023-02-06T23:00:02.628Z"
   },
   {
    "duration": 3,
    "start_time": "2023-02-06T23:00:04.284Z"
   },
   {
    "duration": 6,
    "start_time": "2023-02-06T23:00:05.216Z"
   },
   {
    "duration": 3,
    "start_time": "2023-02-06T23:00:06.636Z"
   },
   {
    "duration": 27,
    "start_time": "2023-02-06T23:00:07.020Z"
   },
   {
    "duration": 4,
    "start_time": "2023-02-06T23:00:42.943Z"
   },
   {
    "duration": 692,
    "start_time": "2023-02-06T23:00:43.248Z"
   },
   {
    "duration": 20,
    "start_time": "2023-02-06T23:00:43.941Z"
   },
   {
    "duration": 236,
    "start_time": "2023-02-06T23:00:44.469Z"
   },
   {
    "duration": 18,
    "start_time": "2023-02-06T23:00:45.085Z"
   },
   {
    "duration": 21,
    "start_time": "2023-02-06T23:00:45.678Z"
   },
   {
    "duration": 22,
    "start_time": "2023-02-06T23:00:46.008Z"
   },
   {
    "duration": 18,
    "start_time": "2023-02-06T23:00:46.622Z"
   },
   {
    "duration": 10,
    "start_time": "2023-02-06T23:00:47.230Z"
   },
   {
    "duration": 8,
    "start_time": "2023-02-06T23:00:47.997Z"
   },
   {
    "duration": 9,
    "start_time": "2023-02-06T23:00:48.229Z"
   },
   {
    "duration": 12,
    "start_time": "2023-02-06T23:00:49.062Z"
   },
   {
    "duration": 25,
    "start_time": "2023-02-06T23:00:49.358Z"
   },
   {
    "duration": 3064,
    "start_time": "2023-02-06T23:00:50.814Z"
   },
   {
    "duration": 31,
    "start_time": "2023-02-06T23:00:53.880Z"
   },
   {
    "duration": 3008,
    "start_time": "2023-02-06T23:00:53.913Z"
   },
   {
    "duration": 731,
    "start_time": "2023-02-06T23:00:56.923Z"
   },
   {
    "duration": 8,
    "start_time": "2023-02-06T23:00:57.656Z"
   },
   {
    "duration": 1048,
    "start_time": "2023-02-06T23:00:57.666Z"
   },
   {
    "duration": 3,
    "start_time": "2023-02-06T23:00:58.715Z"
   },
   {
    "duration": 10,
    "start_time": "2023-02-06T23:00:58.719Z"
   },
   {
    "duration": 8,
    "start_time": "2023-02-06T23:00:58.731Z"
   },
   {
    "duration": 13,
    "start_time": "2023-02-06T23:00:58.741Z"
   },
   {
    "duration": 2,
    "start_time": "2023-02-06T23:01:03.878Z"
   },
   {
    "duration": 25,
    "start_time": "2023-02-06T23:01:04.350Z"
   },
   {
    "duration": 26,
    "start_time": "2023-02-06T23:01:35.127Z"
   },
   {
    "duration": 26,
    "start_time": "2023-02-06T23:01:44.506Z"
   },
   {
    "duration": 24,
    "start_time": "2023-02-06T23:03:36.859Z"
   },
   {
    "duration": 9,
    "start_time": "2023-02-06T23:04:04.059Z"
   },
   {
    "duration": 32,
    "start_time": "2023-02-06T23:04:35.668Z"
   },
   {
    "duration": 32,
    "start_time": "2023-02-06T23:04:56.359Z"
   },
   {
    "duration": 5,
    "start_time": "2023-02-06T23:05:05.581Z"
   },
   {
    "duration": 3,
    "start_time": "2023-02-06T23:05:07.165Z"
   },
   {
    "duration": 25,
    "start_time": "2023-02-06T23:05:07.677Z"
   },
   {
    "duration": 145,
    "start_time": "2023-02-06T23:05:59.664Z"
   },
   {
    "duration": 10,
    "start_time": "2023-02-06T23:06:44.729Z"
   },
   {
    "duration": 3,
    "start_time": "2023-02-06T23:06:48.377Z"
   },
   {
    "duration": 2,
    "start_time": "2023-02-06T23:06:48.762Z"
   },
   {
    "duration": 25,
    "start_time": "2023-02-06T23:07:02.817Z"
   },
   {
    "duration": 25,
    "start_time": "2023-02-06T23:07:27.609Z"
   },
   {
    "duration": 24,
    "start_time": "2023-02-06T23:08:12.466Z"
   },
   {
    "duration": 41,
    "start_time": "2023-02-06T23:08:25.885Z"
   },
   {
    "duration": 26,
    "start_time": "2023-02-06T23:08:30.581Z"
   },
   {
    "duration": 15,
    "start_time": "2023-02-06T23:08:38.405Z"
   },
   {
    "duration": 112,
    "start_time": "2023-02-06T23:09:45.687Z"
   },
   {
    "duration": 112,
    "start_time": "2023-02-06T23:10:16.329Z"
   },
   {
    "duration": 93,
    "start_time": "2023-02-06T23:10:29.510Z"
   },
   {
    "duration": 101,
    "start_time": "2023-02-06T23:12:49.806Z"
   },
   {
    "duration": 4,
    "start_time": "2023-02-06T23:13:10.861Z"
   },
   {
    "duration": 703,
    "start_time": "2023-02-06T23:13:11.006Z"
   },
   {
    "duration": 21,
    "start_time": "2023-02-06T23:13:11.711Z"
   },
   {
    "duration": 248,
    "start_time": "2023-02-06T23:13:11.734Z"
   },
   {
    "duration": 15,
    "start_time": "2023-02-06T23:13:11.994Z"
   },
   {
    "duration": 13,
    "start_time": "2023-02-06T23:13:12.309Z"
   },
   {
    "duration": 17,
    "start_time": "2023-02-06T23:13:12.469Z"
   },
   {
    "duration": 22,
    "start_time": "2023-02-06T23:13:12.781Z"
   },
   {
    "duration": 8,
    "start_time": "2023-02-06T23:13:13.134Z"
   },
   {
    "duration": 3,
    "start_time": "2023-02-06T23:13:13.706Z"
   },
   {
    "duration": 8,
    "start_time": "2023-02-06T23:13:13.877Z"
   },
   {
    "duration": 12,
    "start_time": "2023-02-06T23:13:14.509Z"
   },
   {
    "duration": 24,
    "start_time": "2023-02-06T23:13:14.718Z"
   },
   {
    "duration": 2824,
    "start_time": "2023-02-06T23:13:15.805Z"
   },
   {
    "duration": 15,
    "start_time": "2023-02-06T23:13:18.631Z"
   },
   {
    "duration": 3111,
    "start_time": "2023-02-06T23:13:18.647Z"
   },
   {
    "duration": 572,
    "start_time": "2023-02-06T23:13:21.760Z"
   },
   {
    "duration": 7,
    "start_time": "2023-02-06T23:13:22.334Z"
   },
   {
    "duration": 1281,
    "start_time": "2023-02-06T23:13:22.342Z"
   },
   {
    "duration": 3,
    "start_time": "2023-02-06T23:13:23.625Z"
   },
   {
    "duration": 8,
    "start_time": "2023-02-06T23:13:23.629Z"
   },
   {
    "duration": 5,
    "start_time": "2023-02-06T23:13:23.639Z"
   },
   {
    "duration": 7,
    "start_time": "2023-02-06T23:13:23.646Z"
   },
   {
    "duration": 5,
    "start_time": "2023-02-06T23:13:23.654Z"
   },
   {
    "duration": 154,
    "start_time": "2023-02-06T23:13:23.661Z"
   },
   {
    "duration": 3,
    "start_time": "2023-02-06T23:14:08.461Z"
   },
   {
    "duration": 16,
    "start_time": "2023-02-06T23:14:09.111Z"
   },
   {
    "duration": 5,
    "start_time": "2023-02-06T23:14:21.538Z"
   },
   {
    "duration": 691,
    "start_time": "2023-02-06T23:14:21.728Z"
   },
   {
    "duration": 20,
    "start_time": "2023-02-06T23:14:22.421Z"
   },
   {
    "duration": 227,
    "start_time": "2023-02-06T23:14:22.559Z"
   },
   {
    "duration": 8,
    "start_time": "2023-02-06T23:14:22.905Z"
   },
   {
    "duration": 20,
    "start_time": "2023-02-06T23:14:23.287Z"
   },
   {
    "duration": 19,
    "start_time": "2023-02-06T23:14:23.720Z"
   },
   {
    "duration": 18,
    "start_time": "2023-02-06T23:14:24.215Z"
   },
   {
    "duration": 9,
    "start_time": "2023-02-06T23:14:24.727Z"
   },
   {
    "duration": 3,
    "start_time": "2023-02-06T23:14:25.520Z"
   },
   {
    "duration": 7,
    "start_time": "2023-02-06T23:14:25.776Z"
   },
   {
    "duration": 10,
    "start_time": "2023-02-06T23:14:26.559Z"
   },
   {
    "duration": 28,
    "start_time": "2023-02-06T23:14:26.792Z"
   },
   {
    "duration": 2897,
    "start_time": "2023-02-06T23:14:27.976Z"
   },
   {
    "duration": 29,
    "start_time": "2023-02-06T23:14:30.876Z"
   },
   {
    "duration": 3127,
    "start_time": "2023-02-06T23:14:30.907Z"
   },
   {
    "duration": 556,
    "start_time": "2023-02-06T23:14:34.037Z"
   },
   {
    "duration": 10,
    "start_time": "2023-02-06T23:14:34.602Z"
   },
   {
    "duration": 1238,
    "start_time": "2023-02-06T23:14:34.613Z"
   },
   {
    "duration": 3,
    "start_time": "2023-02-06T23:14:35.852Z"
   },
   {
    "duration": 17,
    "start_time": "2023-02-06T23:14:35.856Z"
   },
   {
    "duration": 3,
    "start_time": "2023-02-06T23:14:39.258Z"
   },
   {
    "duration": 5,
    "start_time": "2023-02-06T23:14:40.159Z"
   },
   {
    "duration": 2,
    "start_time": "2023-02-06T23:14:41.575Z"
   },
   {
    "duration": 411,
    "start_time": "2023-02-06T23:14:42.280Z"
   },
   {
    "duration": 4,
    "start_time": "2023-02-06T23:16:22.662Z"
   },
   {
    "duration": 693,
    "start_time": "2023-02-06T23:16:22.806Z"
   },
   {
    "duration": 19,
    "start_time": "2023-02-06T23:16:23.501Z"
   },
   {
    "duration": 232,
    "start_time": "2023-02-06T23:16:23.522Z"
   },
   {
    "duration": 7,
    "start_time": "2023-02-06T23:16:23.867Z"
   },
   {
    "duration": 13,
    "start_time": "2023-02-06T23:16:24.261Z"
   },
   {
    "duration": 16,
    "start_time": "2023-02-06T23:16:24.459Z"
   },
   {
    "duration": 15,
    "start_time": "2023-02-06T23:16:24.827Z"
   },
   {
    "duration": 8,
    "start_time": "2023-02-06T23:16:25.220Z"
   },
   {
    "duration": 3,
    "start_time": "2023-02-06T23:16:25.858Z"
   },
   {
    "duration": 7,
    "start_time": "2023-02-06T23:16:26.076Z"
   },
   {
    "duration": 9,
    "start_time": "2023-02-06T23:16:27.123Z"
   },
   {
    "duration": 21,
    "start_time": "2023-02-06T23:16:27.365Z"
   },
   {
    "duration": 3095,
    "start_time": "2023-02-06T23:16:28.973Z"
   },
   {
    "duration": 33,
    "start_time": "2023-02-06T23:16:32.070Z"
   },
   {
    "duration": 2961,
    "start_time": "2023-02-06T23:16:32.106Z"
   },
   {
    "duration": 761,
    "start_time": "2023-02-06T23:16:35.069Z"
   },
   {
    "duration": 7,
    "start_time": "2023-02-06T23:16:35.832Z"
   },
   {
    "duration": 1106,
    "start_time": "2023-02-06T23:16:35.840Z"
   },
   {
    "duration": 3,
    "start_time": "2023-02-06T23:16:36.947Z"
   },
   {
    "duration": 9,
    "start_time": "2023-02-06T23:16:36.951Z"
   },
   {
    "duration": 4,
    "start_time": "2023-02-06T23:16:36.962Z"
   },
   {
    "duration": 6,
    "start_time": "2023-02-06T23:16:38.262Z"
   },
   {
    "duration": 2,
    "start_time": "2023-02-06T23:16:43.908Z"
   },
   {
    "duration": 1951,
    "start_time": "2023-02-06T23:16:58.956Z"
   },
   {
    "duration": 11,
    "start_time": "2023-02-06T23:17:46.459Z"
   },
   {
    "duration": 2025,
    "start_time": "2023-02-06T23:17:57.982Z"
   },
   {
    "duration": 3,
    "start_time": "2023-02-06T23:18:45.444Z"
   },
   {
    "duration": 732,
    "start_time": "2023-02-06T23:18:45.592Z"
   },
   {
    "duration": 20,
    "start_time": "2023-02-06T23:18:46.326Z"
   },
   {
    "duration": 254,
    "start_time": "2023-02-06T23:18:46.348Z"
   },
   {
    "duration": 8,
    "start_time": "2023-02-06T23:18:46.623Z"
   },
   {
    "duration": 13,
    "start_time": "2023-02-06T23:18:46.967Z"
   },
   {
    "duration": 17,
    "start_time": "2023-02-06T23:18:47.158Z"
   },
   {
    "duration": 17,
    "start_time": "2023-02-06T23:18:47.512Z"
   },
   {
    "duration": 9,
    "start_time": "2023-02-06T23:18:47.888Z"
   },
   {
    "duration": 3,
    "start_time": "2023-02-06T23:18:48.564Z"
   },
   {
    "duration": 9,
    "start_time": "2023-02-06T23:18:48.767Z"
   },
   {
    "duration": 11,
    "start_time": "2023-02-06T23:18:49.472Z"
   },
   {
    "duration": 24,
    "start_time": "2023-02-06T23:18:49.705Z"
   },
   {
    "duration": 3068,
    "start_time": "2023-02-06T23:18:50.912Z"
   },
   {
    "duration": 27,
    "start_time": "2023-02-06T23:18:53.982Z"
   },
   {
    "duration": 3073,
    "start_time": "2023-02-06T23:18:54.011Z"
   },
   {
    "duration": 735,
    "start_time": "2023-02-06T23:18:57.086Z"
   },
   {
    "duration": 7,
    "start_time": "2023-02-06T23:18:57.823Z"
   },
   {
    "duration": 1043,
    "start_time": "2023-02-06T23:18:57.831Z"
   },
   {
    "duration": 4,
    "start_time": "2023-02-06T23:18:58.876Z"
   },
   {
    "duration": 22,
    "start_time": "2023-02-06T23:18:58.881Z"
   },
   {
    "duration": 7,
    "start_time": "2023-02-06T23:18:58.905Z"
   },
   {
    "duration": 7,
    "start_time": "2023-02-06T23:18:58.914Z"
   },
   {
    "duration": 6,
    "start_time": "2023-02-06T23:18:58.922Z"
   },
   {
    "duration": 1986,
    "start_time": "2023-02-06T23:18:58.930Z"
   },
   {
    "duration": 18,
    "start_time": "2023-02-06T23:19:00.997Z"
   },
   {
    "duration": 9,
    "start_time": "2023-02-06T23:19:18.929Z"
   },
   {
    "duration": 5,
    "start_time": "2023-02-06T23:19:22.662Z"
   },
   {
    "duration": 2,
    "start_time": "2023-02-06T23:19:23.817Z"
   },
   {
    "duration": 1481,
    "start_time": "2023-02-06T23:19:24.129Z"
   },
   {
    "duration": 12,
    "start_time": "2023-02-06T23:19:25.612Z"
   },
   {
    "duration": 6,
    "start_time": "2023-02-06T23:19:37.566Z"
   },
   {
    "duration": 6,
    "start_time": "2023-02-06T23:19:46.178Z"
   },
   {
    "duration": 26,
    "start_time": "2023-02-06T23:19:58.141Z"
   },
   {
    "duration": 7,
    "start_time": "2023-02-06T23:20:03.563Z"
   },
   {
    "duration": 4,
    "start_time": "2023-02-06T23:22:44.664Z"
   },
   {
    "duration": 734,
    "start_time": "2023-02-06T23:22:44.984Z"
   },
   {
    "duration": 22,
    "start_time": "2023-02-06T23:22:45.720Z"
   },
   {
    "duration": 363,
    "start_time": "2023-02-06T23:22:46.192Z"
   },
   {
    "duration": 8,
    "start_time": "2023-02-06T23:22:46.808Z"
   },
   {
    "duration": 14,
    "start_time": "2023-02-06T23:22:47.472Z"
   },
   {
    "duration": 19,
    "start_time": "2023-02-06T23:22:47.802Z"
   },
   {
    "duration": 15,
    "start_time": "2023-02-06T23:22:48.473Z"
   },
   {
    "duration": 9,
    "start_time": "2023-02-06T23:22:49.105Z"
   },
   {
    "duration": 3,
    "start_time": "2023-02-06T23:22:50.062Z"
   },
   {
    "duration": 9,
    "start_time": "2023-02-06T23:22:50.368Z"
   },
   {
    "duration": 14,
    "start_time": "2023-02-06T23:22:51.367Z"
   },
   {
    "duration": 28,
    "start_time": "2023-02-06T23:22:52.062Z"
   },
   {
    "duration": 2908,
    "start_time": "2023-02-06T23:22:54.298Z"
   },
   {
    "duration": 20,
    "start_time": "2023-02-06T23:22:57.211Z"
   },
   {
    "duration": 3078,
    "start_time": "2023-02-06T23:22:57.232Z"
   },
   {
    "duration": 606,
    "start_time": "2023-02-06T23:23:00.312Z"
   },
   {
    "duration": 8,
    "start_time": "2023-02-06T23:23:02.706Z"
   },
   {
    "duration": 1271,
    "start_time": "2023-02-06T23:23:03.192Z"
   },
   {
    "duration": 3,
    "start_time": "2023-02-06T23:23:07.458Z"
   },
   {
    "duration": 8,
    "start_time": "2023-02-06T23:23:08.061Z"
   },
   {
    "duration": 3,
    "start_time": "2023-02-06T23:23:09.205Z"
   },
   {
    "duration": 6,
    "start_time": "2023-02-06T23:23:10.264Z"
   },
   {
    "duration": 2,
    "start_time": "2023-02-06T23:23:12.057Z"
   },
   {
    "duration": 10,
    "start_time": "2023-02-06T23:23:12.707Z"
   },
   {
    "duration": 3896,
    "start_time": "2023-02-06T23:23:34.209Z"
   },
   {
    "duration": 2,
    "start_time": "2023-02-06T23:23:54.515Z"
   },
   {
    "duration": 3451,
    "start_time": "2023-02-06T23:23:54.962Z"
   },
   {
    "duration": 3499,
    "start_time": "2023-02-06T23:24:09.608Z"
   },
   {
    "duration": 3602,
    "start_time": "2023-02-06T23:24:46.308Z"
   },
   {
    "duration": 3730,
    "start_time": "2023-02-06T23:24:53.363Z"
   },
   {
    "duration": 3825,
    "start_time": "2023-02-06T23:25:13.285Z"
   },
   {
    "duration": 3801,
    "start_time": "2023-02-06T23:26:03.415Z"
   },
   {
    "duration": 3291,
    "start_time": "2023-02-06T23:26:28.210Z"
   },
   {
    "duration": 3446,
    "start_time": "2023-02-06T23:26:45.260Z"
   },
   {
    "duration": 3806,
    "start_time": "2023-02-06T23:27:34.502Z"
   },
   {
    "duration": 3848,
    "start_time": "2023-02-06T23:27:41.559Z"
   },
   {
    "duration": 4927,
    "start_time": "2023-02-06T23:27:58.876Z"
   },
   {
    "duration": 3,
    "start_time": "2023-02-06T23:28:18.717Z"
   },
   {
    "duration": 5,
    "start_time": "2023-02-06T23:28:20.725Z"
   },
   {
    "duration": 3,
    "start_time": "2023-02-06T23:28:21.693Z"
   },
   {
    "duration": 3538,
    "start_time": "2023-02-06T23:28:22.069Z"
   },
   {
    "duration": 4150,
    "start_time": "2023-02-06T23:34:18.960Z"
   },
   {
    "duration": 3,
    "start_time": "2023-02-06T23:34:26.362Z"
   },
   {
    "duration": 3157,
    "start_time": "2023-02-06T23:34:26.834Z"
   },
   {
    "duration": 3655,
    "start_time": "2023-02-06T23:34:38.764Z"
   },
   {
    "duration": 95,
    "start_time": "2023-02-06T23:34:58.835Z"
   },
   {
    "duration": 3130,
    "start_time": "2023-02-06T23:36:11.668Z"
   },
   {
    "duration": 3527,
    "start_time": "2023-02-06T23:36:18.177Z"
   },
   {
    "duration": 4100,
    "start_time": "2023-02-06T23:36:56.416Z"
   },
   {
    "duration": 3,
    "start_time": "2023-02-06T23:37:28.060Z"
   },
   {
    "duration": 3804,
    "start_time": "2023-02-06T23:37:28.506Z"
   },
   {
    "duration": 3441,
    "start_time": "2023-02-06T23:37:37.754Z"
   },
   {
    "duration": 94,
    "start_time": "2023-02-06T23:42:22.883Z"
   },
   {
    "duration": 13,
    "start_time": "2023-02-06T23:42:28.523Z"
   },
   {
    "duration": 633,
    "start_time": "2023-02-06T23:42:38.211Z"
   },
   {
    "duration": 22737,
    "start_time": "2023-02-06T23:43:08.412Z"
   },
   {
    "duration": 22897,
    "start_time": "2023-02-06T23:43:43.181Z"
   },
   {
    "duration": 4,
    "start_time": "2023-02-06T23:49:50.666Z"
   },
   {
    "duration": 731,
    "start_time": "2023-02-06T23:49:51.162Z"
   },
   {
    "duration": 23,
    "start_time": "2023-02-06T23:49:54.006Z"
   },
   {
    "duration": 253,
    "start_time": "2023-02-06T23:49:55.205Z"
   },
   {
    "duration": 7,
    "start_time": "2023-02-06T23:49:56.018Z"
   },
   {
    "duration": 21,
    "start_time": "2023-02-06T23:49:56.890Z"
   },
   {
    "duration": 17,
    "start_time": "2023-02-06T23:49:57.324Z"
   },
   {
    "duration": 17,
    "start_time": "2023-02-06T23:49:58.186Z"
   },
   {
    "duration": 9,
    "start_time": "2023-02-06T23:49:59.006Z"
   },
   {
    "duration": 3,
    "start_time": "2023-02-06T23:50:00.219Z"
   },
   {
    "duration": 7,
    "start_time": "2023-02-06T23:50:00.636Z"
   },
   {
    "duration": 11,
    "start_time": "2023-02-06T23:50:01.923Z"
   },
   {
    "duration": 23,
    "start_time": "2023-02-06T23:50:02.314Z"
   },
   {
    "duration": 3065,
    "start_time": "2023-02-06T23:50:04.348Z"
   },
   {
    "duration": 15,
    "start_time": "2023-02-06T23:50:07.415Z"
   },
   {
    "duration": 3194,
    "start_time": "2023-02-06T23:50:07.432Z"
   },
   {
    "duration": 583,
    "start_time": "2023-02-06T23:50:10.628Z"
   },
   {
    "duration": 6,
    "start_time": "2023-02-06T23:50:11.213Z"
   },
   {
    "duration": 1301,
    "start_time": "2023-02-06T23:50:11.221Z"
   },
   {
    "duration": 5,
    "start_time": "2023-02-06T23:50:12.523Z"
   },
   {
    "duration": 11,
    "start_time": "2023-02-06T23:50:12.531Z"
   },
   {
    "duration": 9,
    "start_time": "2023-02-06T23:50:12.543Z"
   },
   {
    "duration": 9,
    "start_time": "2023-02-06T23:50:12.554Z"
   },
   {
    "duration": 3,
    "start_time": "2023-02-06T23:50:13.714Z"
   },
   {
    "duration": 3243,
    "start_time": "2023-02-06T23:50:14.158Z"
   },
   {
    "duration": 23445,
    "start_time": "2023-02-06T23:50:17.406Z"
   },
   {
    "duration": 76,
    "start_time": "2023-02-06T23:50:40.852Z"
   },
   {
    "duration": 17,
    "start_time": "2023-02-06T23:52:18.647Z"
   },
   {
    "duration": 498704,
    "start_time": "2023-02-06T23:52:40.572Z"
   },
   {
    "duration": 240097,
    "start_time": "2023-02-07T00:01:37.554Z"
   },
   {
    "duration": 8,
    "start_time": "2023-02-07T00:07:18.549Z"
   },
   {
    "duration": 7,
    "start_time": "2023-02-07T00:07:29.725Z"
   },
   {
    "duration": 14,
    "start_time": "2023-02-07T00:07:53.222Z"
   },
   {
    "duration": 6,
    "start_time": "2023-02-07T00:07:57.470Z"
   },
   {
    "duration": 9,
    "start_time": "2023-02-07T00:08:19.248Z"
   },
   {
    "duration": 6,
    "start_time": "2023-02-07T00:08:44.328Z"
   },
   {
    "duration": 13,
    "start_time": "2023-02-07T00:09:38.137Z"
   },
   {
    "duration": 6,
    "start_time": "2023-02-07T00:09:44.570Z"
   },
   {
    "duration": 4,
    "start_time": "2023-02-07T00:12:18.847Z"
   },
   {
    "duration": 16,
    "start_time": "2023-02-07T00:12:47.888Z"
   },
   {
    "duration": 711,
    "start_time": "2023-02-07T00:14:13.371Z"
   },
   {
    "duration": 583,
    "start_time": "2023-02-07T00:14:32.572Z"
   },
   {
    "duration": 521,
    "start_time": "2023-02-07T00:15:08.341Z"
   },
   {
    "duration": 546,
    "start_time": "2023-02-07T00:15:33.981Z"
   },
   {
    "duration": 529,
    "start_time": "2023-02-07T00:16:21.976Z"
   },
   {
    "duration": 603,
    "start_time": "2023-02-07T00:16:30.808Z"
   },
   {
    "duration": 1637,
    "start_time": "2023-02-07T05:13:45.747Z"
   },
   {
    "duration": 3101,
    "start_time": "2023-02-07T05:13:47.386Z"
   },
   {
    "duration": 26,
    "start_time": "2023-02-07T05:13:50.489Z"
   },
   {
    "duration": 243,
    "start_time": "2023-02-07T05:13:50.517Z"
   },
   {
    "duration": 10,
    "start_time": "2023-02-07T05:13:50.761Z"
   },
   {
    "duration": 16,
    "start_time": "2023-02-07T05:13:50.772Z"
   },
   {
    "duration": 20,
    "start_time": "2023-02-07T05:13:50.789Z"
   },
   {
    "duration": 21,
    "start_time": "2023-02-07T05:13:50.811Z"
   },
   {
    "duration": 37,
    "start_time": "2023-02-07T05:13:50.834Z"
   },
   {
    "duration": 3,
    "start_time": "2023-02-07T05:13:50.873Z"
   },
   {
    "duration": 11,
    "start_time": "2023-02-07T05:13:50.877Z"
   },
   {
    "duration": 9,
    "start_time": "2023-02-07T05:13:50.890Z"
   },
   {
    "duration": 21,
    "start_time": "2023-02-07T05:13:50.900Z"
   },
   {
    "duration": 2834,
    "start_time": "2023-02-07T05:13:50.922Z"
   },
   {
    "duration": 18,
    "start_time": "2023-02-07T05:13:53.758Z"
   },
   {
    "duration": 2741,
    "start_time": "2023-02-07T05:13:53.777Z"
   },
   {
    "duration": 704,
    "start_time": "2023-02-07T05:13:56.520Z"
   },
   {
    "duration": 7,
    "start_time": "2023-02-07T05:13:57.226Z"
   },
   {
    "duration": 1071,
    "start_time": "2023-02-07T05:13:57.235Z"
   },
   {
    "duration": 3,
    "start_time": "2023-02-07T05:13:58.307Z"
   },
   {
    "duration": 11,
    "start_time": "2023-02-07T05:13:58.311Z"
   },
   {
    "duration": 4,
    "start_time": "2023-02-07T05:13:58.323Z"
   },
   {
    "duration": 5,
    "start_time": "2023-02-07T05:13:58.329Z"
   },
   {
    "duration": 4,
    "start_time": "2023-02-07T05:13:58.336Z"
   },
   {
    "duration": 3134,
    "start_time": "2023-02-07T05:13:58.342Z"
   },
   {
    "duration": 22424,
    "start_time": "2023-02-07T05:14:01.478Z"
   },
   {
    "duration": 1590,
    "start_time": "2023-02-07T13:42:13.467Z"
   },
   {
    "duration": 1957,
    "start_time": "2023-02-07T13:42:15.060Z"
   },
   {
    "duration": 28,
    "start_time": "2023-02-07T13:42:17.018Z"
   },
   {
    "duration": 278,
    "start_time": "2023-02-07T13:42:18.187Z"
   },
   {
    "duration": 7,
    "start_time": "2023-02-07T13:42:19.306Z"
   },
   {
    "duration": 14,
    "start_time": "2023-02-07T13:42:20.666Z"
   },
   {
    "duration": 19,
    "start_time": "2023-02-07T13:42:21.172Z"
   },
   {
    "duration": 24,
    "start_time": "2023-02-07T13:42:22.218Z"
   },
   {
    "duration": 10,
    "start_time": "2023-02-07T13:42:23.203Z"
   },
   {
    "duration": 3,
    "start_time": "2023-02-07T13:42:24.659Z"
   },
   {
    "duration": 11,
    "start_time": "2023-02-07T13:42:25.133Z"
   },
   {
    "duration": 11,
    "start_time": "2023-02-07T13:42:26.651Z"
   },
   {
    "duration": 25,
    "start_time": "2023-02-07T13:42:27.132Z"
   },
   {
    "duration": 2994,
    "start_time": "2023-02-07T13:42:29.507Z"
   },
   {
    "duration": 19,
    "start_time": "2023-02-07T13:42:32.503Z"
   },
   {
    "duration": 2895,
    "start_time": "2023-02-07T13:42:32.524Z"
   },
   {
    "duration": 769,
    "start_time": "2023-02-07T13:42:35.421Z"
   },
   {
    "duration": 8,
    "start_time": "2023-02-07T13:42:36.192Z"
   },
   {
    "duration": 1093,
    "start_time": "2023-02-07T13:42:36.202Z"
   },
   {
    "duration": 4,
    "start_time": "2023-02-07T13:42:37.297Z"
   },
   {
    "duration": 22,
    "start_time": "2023-02-07T13:42:37.302Z"
   },
   {
    "duration": 10,
    "start_time": "2023-02-07T13:42:37.326Z"
   },
   {
    "duration": 118,
    "start_time": "2023-02-07T13:42:37.587Z"
   },
   {
    "duration": 3,
    "start_time": "2023-02-07T13:42:54.843Z"
   },
   {
    "duration": 3,
    "start_time": "2023-02-07T13:42:59.028Z"
   },
   {
    "duration": 6,
    "start_time": "2023-02-07T13:42:59.836Z"
   },
   {
    "duration": 3,
    "start_time": "2023-02-07T13:43:01.101Z"
   },
   {
    "duration": 3560,
    "start_time": "2023-02-07T13:43:01.580Z"
   },
   {
    "duration": 25473,
    "start_time": "2023-02-07T13:43:05.143Z"
   },
   {
    "duration": 325733,
    "start_time": "2023-02-07T13:43:30.618Z"
   },
   {
    "duration": 7,
    "start_time": "2023-02-07T13:48:56.353Z"
   },
   {
    "duration": 14,
    "start_time": "2023-02-07T13:48:56.361Z"
   },
   {
    "duration": 2746,
    "start_time": "2023-02-07T13:50:48.196Z"
   },
   {
    "duration": 3,
    "start_time": "2023-02-07T13:53:41.681Z"
   },
   {
    "duration": 18,
    "start_time": "2023-02-07T13:53:42.097Z"
   },
   {
    "duration": 4,
    "start_time": "2023-02-07T13:53:46.305Z"
   },
   {
    "duration": 720,
    "start_time": "2023-02-07T13:53:46.585Z"
   },
   {
    "duration": 23,
    "start_time": "2023-02-07T13:53:47.307Z"
   },
   {
    "duration": 255,
    "start_time": "2023-02-07T13:53:47.666Z"
   },
   {
    "duration": 8,
    "start_time": "2023-02-07T13:53:48.219Z"
   },
   {
    "duration": 15,
    "start_time": "2023-02-07T13:53:48.803Z"
   },
   {
    "duration": 18,
    "start_time": "2023-02-07T13:53:49.081Z"
   },
   {
    "duration": 19,
    "start_time": "2023-02-07T13:53:49.626Z"
   },
   {
    "duration": 13,
    "start_time": "2023-02-07T13:53:50.161Z"
   },
   {
    "duration": 2,
    "start_time": "2023-02-07T13:53:51.002Z"
   },
   {
    "duration": 7,
    "start_time": "2023-02-07T13:53:51.250Z"
   },
   {
    "duration": 12,
    "start_time": "2023-02-07T13:53:52.186Z"
   },
   {
    "duration": 30,
    "start_time": "2023-02-07T13:53:52.465Z"
   },
   {
    "duration": 2976,
    "start_time": "2023-02-07T13:53:53.938Z"
   },
   {
    "duration": 30,
    "start_time": "2023-02-07T13:53:56.916Z"
   },
   {
    "duration": 3260,
    "start_time": "2023-02-07T13:53:56.948Z"
   },
   {
    "duration": 601,
    "start_time": "2023-02-07T13:54:00.210Z"
   },
   {
    "duration": 8,
    "start_time": "2023-02-07T13:54:00.813Z"
   },
   {
    "duration": 1478,
    "start_time": "2023-02-07T13:54:00.823Z"
   },
   {
    "duration": 4,
    "start_time": "2023-02-07T13:54:02.303Z"
   },
   {
    "duration": 20,
    "start_time": "2023-02-07T13:54:02.309Z"
   },
   {
    "duration": 13,
    "start_time": "2023-02-07T13:54:02.330Z"
   },
   {
    "duration": 13,
    "start_time": "2023-02-07T13:54:02.346Z"
   },
   {
    "duration": 22,
    "start_time": "2023-02-07T13:54:02.361Z"
   },
   {
    "duration": 21,
    "start_time": "2023-02-07T13:54:02.385Z"
   },
   {
    "duration": 15,
    "start_time": "2023-02-07T13:54:02.408Z"
   },
   {
    "duration": 2715,
    "start_time": "2023-02-07T13:54:02.425Z"
   },
   {
    "duration": 24647,
    "start_time": "2023-02-07T13:54:05.147Z"
   },
   {
    "duration": 268798,
    "start_time": "2023-02-07T13:54:29.796Z"
   },
   {
    "duration": 8,
    "start_time": "2023-02-07T13:58:58.596Z"
   },
   {
    "duration": 24417,
    "start_time": "2023-02-07T13:59:28.705Z"
   },
   {
    "duration": 24521,
    "start_time": "2023-02-07T14:00:08.238Z"
   },
   {
    "duration": 16,
    "start_time": "2023-02-07T14:01:15.775Z"
   },
   {
    "duration": 2,
    "start_time": "2023-02-07T14:01:27.025Z"
   },
   {
    "duration": 13,
    "start_time": "2023-02-07T14:01:27.449Z"
   },
   {
    "duration": 3,
    "start_time": "2023-02-07T14:01:27.833Z"
   },
   {
    "duration": 4,
    "start_time": "2023-02-07T14:01:32.273Z"
   },
   {
    "duration": 687,
    "start_time": "2023-02-07T14:01:32.560Z"
   },
   {
    "duration": 24,
    "start_time": "2023-02-07T14:01:33.249Z"
   },
   {
    "duration": 246,
    "start_time": "2023-02-07T14:01:33.473Z"
   },
   {
    "duration": 7,
    "start_time": "2023-02-07T14:01:33.913Z"
   },
   {
    "duration": 14,
    "start_time": "2023-02-07T14:01:34.345Z"
   },
   {
    "duration": 18,
    "start_time": "2023-02-07T14:01:34.568Z"
   },
   {
    "duration": 17,
    "start_time": "2023-02-07T14:01:35.026Z"
   },
   {
    "duration": 9,
    "start_time": "2023-02-07T14:01:35.464Z"
   },
   {
    "duration": 3,
    "start_time": "2023-02-07T14:01:36.097Z"
   },
   {
    "duration": 7,
    "start_time": "2023-02-07T14:01:36.305Z"
   },
   {
    "duration": 11,
    "start_time": "2023-02-07T14:01:36.921Z"
   },
   {
    "duration": 23,
    "start_time": "2023-02-07T14:01:37.122Z"
   },
   {
    "duration": 3112,
    "start_time": "2023-02-07T14:01:38.169Z"
   },
   {
    "duration": 15,
    "start_time": "2023-02-07T14:01:41.283Z"
   },
   {
    "duration": 2951,
    "start_time": "2023-02-07T14:01:41.300Z"
   },
   {
    "duration": 577,
    "start_time": "2023-02-07T14:01:44.254Z"
   },
   {
    "duration": 11,
    "start_time": "2023-02-07T14:01:44.833Z"
   },
   {
    "duration": 1256,
    "start_time": "2023-02-07T14:01:44.846Z"
   },
   {
    "duration": 3,
    "start_time": "2023-02-07T14:01:46.105Z"
   },
   {
    "duration": 10,
    "start_time": "2023-02-07T14:01:46.110Z"
   },
   {
    "duration": 21,
    "start_time": "2023-02-07T14:01:46.121Z"
   },
   {
    "duration": 6,
    "start_time": "2023-02-07T14:01:46.145Z"
   },
   {
    "duration": 25,
    "start_time": "2023-02-07T14:01:46.153Z"
   },
   {
    "duration": 8,
    "start_time": "2023-02-07T14:01:46.180Z"
   },
   {
    "duration": 5,
    "start_time": "2023-02-07T14:01:46.190Z"
   },
   {
    "duration": 2543,
    "start_time": "2023-02-07T14:01:46.196Z"
   },
   {
    "duration": 24552,
    "start_time": "2023-02-07T14:01:48.742Z"
   },
   {
    "duration": 269170,
    "start_time": "2023-02-07T14:02:13.297Z"
   },
   {
    "duration": 7,
    "start_time": "2023-02-07T14:06:42.469Z"
   },
   {
    "duration": 10318,
    "start_time": "2023-02-07T14:17:29.872Z"
   },
   {
    "duration": 21008,
    "start_time": "2023-02-07T14:18:08.507Z"
   },
   {
    "duration": 21072,
    "start_time": "2023-02-07T14:23:00.796Z"
   },
   {
    "duration": 17556,
    "start_time": "2023-02-07T14:24:07.766Z"
   },
   {
    "duration": 20809,
    "start_time": "2023-02-07T14:24:31.239Z"
   },
   {
    "duration": 56,
    "start_time": "2023-02-07T14:32:00.718Z"
   },
   {
    "duration": 21281,
    "start_time": "2023-02-07T14:32:12.843Z"
   },
   {
    "duration": 21,
    "start_time": "2023-02-07T14:32:49.247Z"
   },
   {
    "duration": 20971,
    "start_time": "2023-02-07T14:32:59.870Z"
   },
   {
    "duration": 21277,
    "start_time": "2023-02-07T14:33:53.681Z"
   },
   {
    "duration": 46,
    "start_time": "2023-02-07T14:34:44.387Z"
   },
   {
    "duration": 21064,
    "start_time": "2023-02-07T14:34:55.611Z"
   },
   {
    "duration": 71,
    "start_time": "2023-02-07T14:35:28.556Z"
   },
   {
    "duration": 21817,
    "start_time": "2023-02-07T14:35:42.438Z"
   },
   {
    "duration": 20828,
    "start_time": "2023-02-07T14:37:37.449Z"
   },
   {
    "duration": 21000,
    "start_time": "2023-02-07T14:38:09.081Z"
   },
   {
    "duration": 16,
    "start_time": "2023-02-07T14:41:08.441Z"
   },
   {
    "duration": 3,
    "start_time": "2023-02-07T14:41:12.601Z"
   },
   {
    "duration": 689,
    "start_time": "2023-02-07T14:41:12.790Z"
   },
   {
    "duration": 25,
    "start_time": "2023-02-07T14:41:13.481Z"
   },
   {
    "duration": 270,
    "start_time": "2023-02-07T14:41:13.508Z"
   },
   {
    "duration": 7,
    "start_time": "2023-02-07T14:41:13.807Z"
   },
   {
    "duration": 17,
    "start_time": "2023-02-07T14:41:14.159Z"
   },
   {
    "duration": 18,
    "start_time": "2023-02-07T14:41:14.338Z"
   },
   {
    "duration": 16,
    "start_time": "2023-02-07T14:41:14.695Z"
   },
   {
    "duration": 9,
    "start_time": "2023-02-07T14:41:15.048Z"
   },
   {
    "duration": 3,
    "start_time": "2023-02-07T14:41:15.592Z"
   },
   {
    "duration": 8,
    "start_time": "2023-02-07T14:41:15.775Z"
   },
   {
    "duration": 10,
    "start_time": "2023-02-07T14:41:16.311Z"
   },
   {
    "duration": 22,
    "start_time": "2023-02-07T14:41:16.496Z"
   },
   {
    "duration": 3125,
    "start_time": "2023-02-07T14:41:17.408Z"
   },
   {
    "duration": 18,
    "start_time": "2023-02-07T14:41:20.535Z"
   },
   {
    "duration": 3226,
    "start_time": "2023-02-07T14:41:20.555Z"
   },
   {
    "duration": 598,
    "start_time": "2023-02-07T14:41:23.784Z"
   },
   {
    "duration": 7,
    "start_time": "2023-02-07T14:41:24.384Z"
   },
   {
    "duration": 1293,
    "start_time": "2023-02-07T14:41:24.393Z"
   },
   {
    "duration": 3,
    "start_time": "2023-02-07T14:41:25.688Z"
   },
   {
    "duration": 11,
    "start_time": "2023-02-07T14:41:25.692Z"
   },
   {
    "duration": 7,
    "start_time": "2023-02-07T14:41:25.704Z"
   },
   {
    "duration": 7,
    "start_time": "2023-02-07T14:41:25.713Z"
   },
   {
    "duration": 18,
    "start_time": "2023-02-07T14:41:25.722Z"
   },
   {
    "duration": 9,
    "start_time": "2023-02-07T14:41:25.742Z"
   },
   {
    "duration": 5,
    "start_time": "2023-02-07T14:41:25.753Z"
   },
   {
    "duration": 2781,
    "start_time": "2023-02-07T14:41:25.759Z"
   },
   {
    "duration": 24593,
    "start_time": "2023-02-07T14:41:28.639Z"
   },
   {
    "duration": 273648,
    "start_time": "2023-02-07T14:41:53.240Z"
   },
   {
    "duration": 8,
    "start_time": "2023-02-07T14:46:26.890Z"
   },
   {
    "duration": 21011,
    "start_time": "2023-02-07T14:46:26.899Z"
   },
   {
    "duration": 1810,
    "start_time": "2023-02-08T12:31:35.097Z"
   },
   {
    "duration": 1961,
    "start_time": "2023-02-08T12:31:36.909Z"
   },
   {
    "duration": 26,
    "start_time": "2023-02-08T12:31:38.872Z"
   },
   {
    "duration": 249,
    "start_time": "2023-02-08T12:31:38.900Z"
   },
   {
    "duration": 8,
    "start_time": "2023-02-08T12:31:39.151Z"
   },
   {
    "duration": 15,
    "start_time": "2023-02-08T12:31:39.161Z"
   },
   {
    "duration": 35,
    "start_time": "2023-02-08T12:31:39.178Z"
   },
   {
    "duration": 23,
    "start_time": "2023-02-08T12:31:39.215Z"
   },
   {
    "duration": 10,
    "start_time": "2023-02-08T12:31:39.239Z"
   },
   {
    "duration": 3,
    "start_time": "2023-02-08T12:31:39.252Z"
   },
   {
    "duration": 42,
    "start_time": "2023-02-08T12:31:39.257Z"
   },
   {
    "duration": 12,
    "start_time": "2023-02-08T12:31:39.301Z"
   },
   {
    "duration": 28,
    "start_time": "2023-02-08T12:31:39.315Z"
   },
   {
    "duration": 3064,
    "start_time": "2023-02-08T12:31:39.345Z"
   },
   {
    "duration": 23,
    "start_time": "2023-02-08T12:31:42.411Z"
   },
   {
    "duration": 3144,
    "start_time": "2023-02-08T12:31:42.436Z"
   },
   {
    "duration": 774,
    "start_time": "2023-02-08T12:31:45.582Z"
   },
   {
    "duration": 9,
    "start_time": "2023-02-08T12:31:46.358Z"
   },
   {
    "duration": 1065,
    "start_time": "2023-02-08T12:31:46.369Z"
   },
   {
    "duration": 3,
    "start_time": "2023-02-08T12:31:47.435Z"
   },
   {
    "duration": 15,
    "start_time": "2023-02-08T12:31:47.440Z"
   },
   {
    "duration": 12,
    "start_time": "2023-02-08T12:31:47.457Z"
   },
   {
    "duration": 8,
    "start_time": "2023-02-08T12:31:47.471Z"
   },
   {
    "duration": 10,
    "start_time": "2023-02-08T12:31:47.481Z"
   },
   {
    "duration": 10,
    "start_time": "2023-02-08T12:31:47.493Z"
   },
   {
    "duration": 9,
    "start_time": "2023-02-08T12:31:47.504Z"
   },
   {
    "duration": 3293,
    "start_time": "2023-02-08T12:31:47.515Z"
   },
   {
    "duration": 23350,
    "start_time": "2023-02-08T12:31:50.812Z"
   },
   {
    "duration": 244873,
    "start_time": "2023-02-08T12:32:14.165Z"
   },
   {
    "duration": 7,
    "start_time": "2023-02-08T12:36:19.040Z"
   },
   {
    "duration": 19077,
    "start_time": "2023-02-08T12:36:19.048Z"
   },
   {
    "duration": 1519,
    "start_time": "2023-02-08T18:23:36.868Z"
   },
   {
    "duration": 2065,
    "start_time": "2023-02-08T18:23:40.969Z"
   },
   {
    "duration": 36,
    "start_time": "2023-02-08T18:23:44.951Z"
   },
   {
    "duration": 270,
    "start_time": "2023-02-08T18:23:53.514Z"
   },
   {
    "duration": 18,
    "start_time": "2023-02-08T18:24:23.159Z"
   },
   {
    "duration": 19,
    "start_time": "2023-02-08T18:24:38.571Z"
   },
   {
    "duration": 20,
    "start_time": "2023-02-08T18:24:39.410Z"
   },
   {
    "duration": 26,
    "start_time": "2023-02-08T18:24:40.124Z"
   },
   {
    "duration": 217,
    "start_time": "2023-02-08T18:24:45.630Z"
   },
   {
    "duration": 17,
    "start_time": "2023-02-08T18:25:47.388Z"
   },
   {
    "duration": 14,
    "start_time": "2023-02-08T18:25:47.773Z"
   },
   {
    "duration": 11,
    "start_time": "2023-02-08T18:25:48.269Z"
   },
   {
    "duration": 12,
    "start_time": "2023-02-08T18:28:16.072Z"
   },
   {
    "duration": 43,
    "start_time": "2023-02-08T18:31:59.460Z"
   },
   {
    "duration": 47,
    "start_time": "2023-02-08T18:32:48.691Z"
   },
   {
    "duration": 22,
    "start_time": "2023-02-08T18:39:54.613Z"
   },
   {
    "duration": 94,
    "start_time": "2023-02-08T18:40:04.928Z"
   },
   {
    "duration": 9,
    "start_time": "2023-02-08T18:40:16.663Z"
   },
   {
    "duration": 11,
    "start_time": "2023-02-08T18:41:12.684Z"
   },
   {
    "duration": 108,
    "start_time": "2023-02-08T18:41:27.150Z"
   },
   {
    "duration": 13,
    "start_time": "2023-02-08T18:41:33.573Z"
   },
   {
    "duration": 13,
    "start_time": "2023-02-08T18:41:40.918Z"
   },
   {
    "duration": 7,
    "start_time": "2023-02-08T18:41:58.598Z"
   },
   {
    "duration": 9,
    "start_time": "2023-02-08T18:42:18.887Z"
   },
   {
    "duration": 16,
    "start_time": "2023-02-08T18:42:37.952Z"
   },
   {
    "duration": 11,
    "start_time": "2023-02-08T18:43:05.680Z"
   },
   {
    "duration": 10,
    "start_time": "2023-02-08T18:43:24.615Z"
   },
   {
    "duration": 12,
    "start_time": "2023-02-08T18:43:31.157Z"
   },
   {
    "duration": 14,
    "start_time": "2023-02-08T18:44:15.148Z"
   },
   {
    "duration": 17,
    "start_time": "2023-02-08T18:44:19.659Z"
   },
   {
    "duration": 14,
    "start_time": "2023-02-08T18:44:28.714Z"
   },
   {
    "duration": 13,
    "start_time": "2023-02-08T18:44:53.268Z"
   },
   {
    "duration": 9,
    "start_time": "2023-02-08T18:45:06.944Z"
   },
   {
    "duration": 8,
    "start_time": "2023-02-08T18:45:41.954Z"
   },
   {
    "duration": 11,
    "start_time": "2023-02-08T18:46:21.749Z"
   },
   {
    "duration": 13,
    "start_time": "2023-02-08T18:46:37.350Z"
   },
   {
    "duration": 12,
    "start_time": "2023-02-08T18:46:58.748Z"
   },
   {
    "duration": 12,
    "start_time": "2023-02-08T18:47:04.088Z"
   },
   {
    "duration": 340,
    "start_time": "2023-02-08T18:52:01.891Z"
   },
   {
    "duration": 711,
    "start_time": "2023-02-08T18:52:11.128Z"
   },
   {
    "duration": 5,
    "start_time": "2023-02-08T18:52:20.056Z"
   },
   {
    "duration": 6,
    "start_time": "2023-02-08T18:52:27.352Z"
   },
   {
    "duration": 5,
    "start_time": "2023-02-08T18:53:13.128Z"
   },
   {
    "duration": 4,
    "start_time": "2023-02-08T18:53:21.729Z"
   },
   {
    "duration": 25,
    "start_time": "2023-02-08T18:55:30.553Z"
   },
   {
    "duration": 30,
    "start_time": "2023-02-08T18:56:03.171Z"
   },
   {
    "duration": 9,
    "start_time": "2023-02-08T18:59:34.603Z"
   },
   {
    "duration": 4,
    "start_time": "2023-02-08T18:59:39.834Z"
   },
   {
    "duration": 10,
    "start_time": "2023-02-08T19:01:08.449Z"
   },
   {
    "duration": 9,
    "start_time": "2023-02-08T19:01:27.565Z"
   },
   {
    "duration": 4,
    "start_time": "2023-02-08T19:02:26.523Z"
   },
   {
    "duration": 3,
    "start_time": "2023-02-08T19:02:39.351Z"
   },
   {
    "duration": 6,
    "start_time": "2023-02-08T19:02:50.025Z"
   },
   {
    "duration": 6,
    "start_time": "2023-02-08T19:03:00.106Z"
   },
   {
    "duration": 39,
    "start_time": "2023-02-08T19:08:11.259Z"
   },
   {
    "duration": 21,
    "start_time": "2023-02-08T19:08:20.394Z"
   },
   {
    "duration": 9,
    "start_time": "2023-02-08T19:09:29.818Z"
   },
   {
    "duration": 3,
    "start_time": "2023-02-08T19:09:30.949Z"
   },
   {
    "duration": 8,
    "start_time": "2023-02-08T19:09:31.342Z"
   },
   {
    "duration": 10,
    "start_time": "2023-02-08T19:09:32.913Z"
   },
   {
    "duration": 21,
    "start_time": "2023-02-08T19:09:33.337Z"
   },
   {
    "duration": 2745,
    "start_time": "2023-02-08T19:09:35.462Z"
   },
   {
    "duration": 25,
    "start_time": "2023-02-08T19:09:38.209Z"
   },
   {
    "duration": 550,
    "start_time": "2023-02-08T19:18:51.392Z"
   },
   {
    "duration": 552,
    "start_time": "2023-02-08T19:20:06.954Z"
   },
   {
    "duration": 37,
    "start_time": "2023-02-08T19:38:57.334Z"
   },
   {
    "duration": 3,
    "start_time": "2023-02-08T19:41:27.767Z"
   },
   {
    "duration": 626,
    "start_time": "2023-02-08T19:41:28.093Z"
   },
   {
    "duration": 21,
    "start_time": "2023-02-08T19:41:28.721Z"
   },
   {
    "duration": 21,
    "start_time": "2023-02-08T19:41:28.743Z"
   },
   {
    "duration": 21,
    "start_time": "2023-02-08T19:41:28.765Z"
   },
   {
    "duration": 17,
    "start_time": "2023-02-08T19:41:28.799Z"
   },
   {
    "duration": 16,
    "start_time": "2023-02-08T19:41:29.253Z"
   },
   {
    "duration": 12,
    "start_time": "2023-02-08T19:41:29.433Z"
   },
   {
    "duration": 200,
    "start_time": "2023-02-08T19:41:29.819Z"
   },
   {
    "duration": 7,
    "start_time": "2023-02-08T19:41:30.411Z"
   },
   {
    "duration": 12,
    "start_time": "2023-02-08T19:41:30.611Z"
   },
   {
    "duration": 14,
    "start_time": "2023-02-08T19:41:31.373Z"
   },
   {
    "duration": 12,
    "start_time": "2023-02-08T19:41:31.582Z"
   },
   {
    "duration": 12,
    "start_time": "2023-02-08T19:41:31.789Z"
   },
   {
    "duration": 20,
    "start_time": "2023-02-08T19:41:31.989Z"
   },
   {
    "duration": 8,
    "start_time": "2023-02-08T19:41:32.998Z"
   },
   {
    "duration": 3,
    "start_time": "2023-02-08T19:41:33.834Z"
   },
   {
    "duration": 7,
    "start_time": "2023-02-08T19:41:34.037Z"
   },
   {
    "duration": 10,
    "start_time": "2023-02-08T19:41:34.958Z"
   },
   {
    "duration": 20,
    "start_time": "2023-02-08T19:41:35.166Z"
   },
   {
    "duration": 2833,
    "start_time": "2023-02-08T19:41:36.774Z"
   },
   {
    "duration": 28,
    "start_time": "2023-02-08T19:41:39.609Z"
   },
   {
    "duration": 2647,
    "start_time": "2023-02-08T19:41:39.639Z"
   },
   {
    "duration": 724,
    "start_time": "2023-02-08T19:41:42.288Z"
   },
   {
    "duration": 7,
    "start_time": "2023-02-08T19:41:43.013Z"
   },
   {
    "duration": 993,
    "start_time": "2023-02-08T19:41:43.021Z"
   },
   {
    "duration": 3,
    "start_time": "2023-02-08T19:48:29.364Z"
   },
   {
    "duration": 595,
    "start_time": "2023-02-08T19:48:29.734Z"
   },
   {
    "duration": 24,
    "start_time": "2023-02-08T19:48:30.331Z"
   },
   {
    "duration": 29,
    "start_time": "2023-02-08T19:48:30.357Z"
   },
   {
    "duration": 22,
    "start_time": "2023-02-08T19:48:30.389Z"
   },
   {
    "duration": 118,
    "start_time": "2023-02-08T19:48:30.480Z"
   },
   {
    "duration": 17,
    "start_time": "2023-02-08T19:48:30.670Z"
   },
   {
    "duration": 14,
    "start_time": "2023-02-08T19:48:30.852Z"
   },
   {
    "duration": 229,
    "start_time": "2023-02-08T19:48:31.231Z"
   },
   {
    "duration": 6,
    "start_time": "2023-02-08T19:48:31.820Z"
   },
   {
    "duration": 13,
    "start_time": "2023-02-08T19:48:32.035Z"
   },
   {
    "duration": 17,
    "start_time": "2023-02-08T19:48:32.798Z"
   },
   {
    "duration": 12,
    "start_time": "2023-02-08T19:48:32.988Z"
   },
   {
    "duration": 13,
    "start_time": "2023-02-08T19:48:33.187Z"
   },
   {
    "duration": 17,
    "start_time": "2023-02-08T19:48:33.396Z"
   },
   {
    "duration": 9,
    "start_time": "2023-02-08T19:48:34.444Z"
   },
   {
    "duration": 2,
    "start_time": "2023-02-08T19:48:35.252Z"
   },
   {
    "duration": 8,
    "start_time": "2023-02-08T19:48:35.451Z"
   },
   {
    "duration": 10,
    "start_time": "2023-02-08T19:48:36.228Z"
   },
   {
    "duration": 21,
    "start_time": "2023-02-08T19:48:36.404Z"
   },
   {
    "duration": 2611,
    "start_time": "2023-02-08T19:48:37.403Z"
   },
   {
    "duration": 22,
    "start_time": "2023-02-08T19:48:40.016Z"
   },
   {
    "duration": 2935,
    "start_time": "2023-02-08T19:48:40.039Z"
   },
   {
    "duration": 582,
    "start_time": "2023-02-08T19:48:42.976Z"
   },
   {
    "duration": 9,
    "start_time": "2023-02-08T19:48:43.560Z"
   },
   {
    "duration": 1192,
    "start_time": "2023-02-08T19:48:43.571Z"
   },
   {
    "duration": 3,
    "start_time": "2023-02-08T19:48:44.764Z"
   },
   {
    "duration": 16,
    "start_time": "2023-02-08T19:48:44.769Z"
   },
   {
    "duration": 6,
    "start_time": "2023-02-08T19:48:44.786Z"
   },
   {
    "duration": 4,
    "start_time": "2023-02-08T19:48:44.794Z"
   },
   {
    "duration": 3,
    "start_time": "2023-02-08T19:48:45.438Z"
   },
   {
    "duration": 6,
    "start_time": "2023-02-08T19:48:48.164Z"
   },
   {
    "duration": 3,
    "start_time": "2023-02-08T19:48:49.460Z"
   },
   {
    "duration": 2409,
    "start_time": "2023-02-08T19:48:49.740Z"
   },
   {
    "duration": 21409,
    "start_time": "2023-02-08T19:48:52.238Z"
   },
   {
    "duration": 232168,
    "start_time": "2023-02-08T19:49:13.649Z"
   },
   {
    "duration": 8,
    "start_time": "2023-02-08T19:53:05.819Z"
   },
   {
    "duration": 49,
    "start_time": "2023-02-08T19:53:05.829Z"
   },
   {
    "duration": 3600,
    "start_time": "2023-02-08T20:06:25.940Z"
   },
   {
    "duration": 2669,
    "start_time": "2023-02-08T20:06:39.473Z"
   },
   {
    "duration": 2676,
    "start_time": "2023-02-08T20:08:04.867Z"
   },
   {
    "duration": 4,
    "start_time": "2023-02-08T20:08:15.067Z"
   },
   {
    "duration": 655,
    "start_time": "2023-02-08T20:08:15.403Z"
   },
   {
    "duration": 20,
    "start_time": "2023-02-08T20:08:16.060Z"
   },
   {
    "duration": 20,
    "start_time": "2023-02-08T20:08:16.082Z"
   },
   {
    "duration": 34,
    "start_time": "2023-02-08T20:08:16.104Z"
   },
   {
    "duration": 17,
    "start_time": "2023-02-08T20:08:16.139Z"
   },
   {
    "duration": 18,
    "start_time": "2023-02-08T20:08:16.259Z"
   },
   {
    "duration": 12,
    "start_time": "2023-02-08T20:08:16.454Z"
   },
   {
    "duration": 201,
    "start_time": "2023-02-08T20:08:16.779Z"
   },
   {
    "duration": 6,
    "start_time": "2023-02-08T20:08:17.342Z"
   },
   {
    "duration": 13,
    "start_time": "2023-02-08T20:08:17.498Z"
   },
   {
    "duration": 17,
    "start_time": "2023-02-08T20:08:18.248Z"
   },
   {
    "duration": 12,
    "start_time": "2023-02-08T20:08:18.432Z"
   },
   {
    "duration": 12,
    "start_time": "2023-02-08T20:08:18.587Z"
   },
   {
    "duration": 15,
    "start_time": "2023-02-08T20:08:18.779Z"
   },
   {
    "duration": 8,
    "start_time": "2023-02-08T20:08:19.728Z"
   },
   {
    "duration": 3,
    "start_time": "2023-02-08T20:08:20.483Z"
   },
   {
    "duration": 8,
    "start_time": "2023-02-08T20:08:20.684Z"
   },
   {
    "duration": 9,
    "start_time": "2023-02-08T20:08:21.952Z"
   },
   {
    "duration": 20,
    "start_time": "2023-02-08T20:08:22.196Z"
   },
   {
    "duration": 2635,
    "start_time": "2023-02-08T20:08:24.563Z"
   },
   {
    "duration": 25,
    "start_time": "2023-02-08T20:08:27.200Z"
   },
   {
    "duration": 2805,
    "start_time": "2023-02-08T20:08:27.226Z"
   },
   {
    "duration": 569,
    "start_time": "2023-02-08T20:08:30.034Z"
   },
   {
    "duration": 8,
    "start_time": "2023-02-08T20:08:30.605Z"
   },
   {
    "duration": 1247,
    "start_time": "2023-02-08T20:08:30.614Z"
   },
   {
    "duration": 2,
    "start_time": "2023-02-08T20:08:33.060Z"
   },
   {
    "duration": 7,
    "start_time": "2023-02-08T20:08:33.404Z"
   },
   {
    "duration": 3,
    "start_time": "2023-02-08T20:08:34.780Z"
   },
   {
    "duration": 3,
    "start_time": "2023-02-08T20:08:35.159Z"
   },
   {
    "duration": 3,
    "start_time": "2023-02-08T20:08:36.550Z"
   },
   {
    "duration": 6,
    "start_time": "2023-02-08T20:08:37.268Z"
   },
   {
    "duration": 3,
    "start_time": "2023-02-08T20:08:38.300Z"
   },
   {
    "duration": 2984,
    "start_time": "2023-02-08T20:08:39.554Z"
   },
   {
    "duration": 21174,
    "start_time": "2023-02-08T20:11:46.491Z"
   },
   {
    "duration": 20837,
    "start_time": "2023-02-08T20:12:22.644Z"
   },
   {
    "duration": 20664,
    "start_time": "2023-02-08T20:13:01.581Z"
   },
   {
    "duration": 4,
    "start_time": "2023-02-08T20:14:08.000Z"
   },
   {
    "duration": 623,
    "start_time": "2023-02-08T20:14:08.376Z"
   },
   {
    "duration": 21,
    "start_time": "2023-02-08T20:14:09.001Z"
   },
   {
    "duration": 32,
    "start_time": "2023-02-08T20:14:09.024Z"
   },
   {
    "duration": 20,
    "start_time": "2023-02-08T20:14:09.058Z"
   },
   {
    "duration": 18,
    "start_time": "2023-02-08T20:14:09.152Z"
   },
   {
    "duration": 17,
    "start_time": "2023-02-08T20:14:09.357Z"
   },
   {
    "duration": 12,
    "start_time": "2023-02-08T20:14:09.544Z"
   },
   {
    "duration": 206,
    "start_time": "2023-02-08T20:14:09.887Z"
   },
   {
    "duration": 9,
    "start_time": "2023-02-08T20:14:10.447Z"
   },
   {
    "duration": 18,
    "start_time": "2023-02-08T20:14:10.648Z"
   },
   {
    "duration": 17,
    "start_time": "2023-02-08T20:14:11.348Z"
   },
   {
    "duration": 16,
    "start_time": "2023-02-08T20:14:11.548Z"
   },
   {
    "duration": 17,
    "start_time": "2023-02-08T20:14:11.703Z"
   },
   {
    "duration": 21,
    "start_time": "2023-02-08T20:14:11.888Z"
   },
   {
    "duration": 7,
    "start_time": "2023-02-08T20:14:12.847Z"
   },
   {
    "duration": 2,
    "start_time": "2023-02-08T20:14:13.567Z"
   },
   {
    "duration": 6,
    "start_time": "2023-02-08T20:14:13.752Z"
   },
   {
    "duration": 9,
    "start_time": "2023-02-08T20:14:14.567Z"
   },
   {
    "duration": 21,
    "start_time": "2023-02-08T20:14:14.762Z"
   },
   {
    "duration": 2740,
    "start_time": "2023-02-08T20:14:15.695Z"
   },
   {
    "duration": 19,
    "start_time": "2023-02-08T20:14:18.437Z"
   },
   {
    "duration": 2714,
    "start_time": "2023-02-08T20:14:18.458Z"
   },
   {
    "duration": 743,
    "start_time": "2023-02-08T20:14:21.174Z"
   },
   {
    "duration": 8,
    "start_time": "2023-02-08T20:14:21.918Z"
   },
   {
    "duration": 1080,
    "start_time": "2023-02-08T20:14:21.936Z"
   },
   {
    "duration": 4,
    "start_time": "2023-02-08T20:14:23.018Z"
   },
   {
    "duration": 17,
    "start_time": "2023-02-08T20:14:23.024Z"
   },
   {
    "duration": 5,
    "start_time": "2023-02-08T20:14:23.042Z"
   },
   {
    "duration": 3,
    "start_time": "2023-02-08T20:14:23.050Z"
   },
   {
    "duration": 4,
    "start_time": "2023-02-08T20:14:23.055Z"
   },
   {
    "duration": 7,
    "start_time": "2023-02-08T20:14:23.061Z"
   },
   {
    "duration": 3,
    "start_time": "2023-02-08T20:14:23.070Z"
   },
   {
    "duration": 3101,
    "start_time": "2023-02-08T20:14:23.138Z"
   },
   {
    "duration": 21161,
    "start_time": "2023-02-08T20:14:26.241Z"
   },
   {
    "duration": 233259,
    "start_time": "2023-02-08T20:14:47.403Z"
   },
   {
    "duration": 8,
    "start_time": "2023-02-08T20:18:40.663Z"
   },
   {
    "duration": 15067,
    "start_time": "2023-02-08T20:24:02.740Z"
   },
   {
    "duration": 11,
    "start_time": "2023-02-08T20:31:58.449Z"
   },
   {
    "duration": 3,
    "start_time": "2023-02-08T20:34:00.271Z"
   },
   {
    "duration": 657,
    "start_time": "2023-02-08T20:34:00.886Z"
   },
   {
    "duration": 18,
    "start_time": "2023-02-08T20:34:01.545Z"
   },
   {
    "duration": 54,
    "start_time": "2023-02-08T20:34:01.565Z"
   },
   {
    "duration": 18,
    "start_time": "2023-02-08T20:34:01.847Z"
   },
   {
    "duration": 18,
    "start_time": "2023-02-08T20:34:02.174Z"
   },
   {
    "duration": 20,
    "start_time": "2023-02-08T20:34:02.470Z"
   },
   {
    "duration": 13,
    "start_time": "2023-02-08T20:34:02.742Z"
   },
   {
    "duration": 203,
    "start_time": "2023-02-08T20:34:03.338Z"
   },
   {
    "duration": 7,
    "start_time": "2023-02-08T20:34:04.235Z"
   },
   {
    "duration": 13,
    "start_time": "2023-02-08T20:34:04.536Z"
   },
   {
    "duration": 12,
    "start_time": "2023-02-08T20:34:05.740Z"
   },
   {
    "duration": 11,
    "start_time": "2023-02-08T20:34:06.047Z"
   },
   {
    "duration": 13,
    "start_time": "2023-02-08T20:34:06.343Z"
   },
   {
    "duration": 17,
    "start_time": "2023-02-08T20:34:06.641Z"
   },
   {
    "duration": 8,
    "start_time": "2023-02-08T20:34:08.063Z"
   },
   {
    "duration": 2,
    "start_time": "2023-02-08T20:34:09.240Z"
   },
   {
    "duration": 7,
    "start_time": "2023-02-08T20:34:09.542Z"
   },
   {
    "duration": 8,
    "start_time": "2023-02-08T20:34:10.767Z"
   },
   {
    "duration": 19,
    "start_time": "2023-02-08T20:34:11.055Z"
   },
   {
    "duration": 2499,
    "start_time": "2023-02-08T20:34:12.567Z"
   },
   {
    "duration": 19,
    "start_time": "2023-02-08T20:34:15.068Z"
   },
   {
    "duration": 2708,
    "start_time": "2023-02-08T20:34:15.089Z"
   },
   {
    "duration": 525,
    "start_time": "2023-02-08T20:34:17.799Z"
   },
   {
    "duration": 11,
    "start_time": "2023-02-08T20:34:18.326Z"
   },
   {
    "duration": 1140,
    "start_time": "2023-02-08T20:34:18.338Z"
   },
   {
    "duration": 3,
    "start_time": "2023-02-08T20:34:19.480Z"
   },
   {
    "duration": 10,
    "start_time": "2023-02-08T20:34:19.484Z"
   },
   {
    "duration": 6,
    "start_time": "2023-02-08T20:34:19.496Z"
   },
   {
    "duration": 3,
    "start_time": "2023-02-08T20:34:19.736Z"
   },
   {
    "duration": 2,
    "start_time": "2023-02-08T20:34:20.634Z"
   },
   {
    "duration": 6,
    "start_time": "2023-02-08T20:34:21.234Z"
   },
   {
    "duration": 3,
    "start_time": "2023-02-08T20:34:22.063Z"
   },
   {
    "duration": 2078,
    "start_time": "2023-02-08T20:34:22.359Z"
   },
   {
    "duration": 20300,
    "start_time": "2023-02-08T20:34:24.440Z"
   },
   {
    "duration": 228504,
    "start_time": "2023-02-08T20:34:44.741Z"
   },
   {
    "duration": 7,
    "start_time": "2023-02-08T20:38:33.248Z"
   },
   {
    "duration": 14898,
    "start_time": "2023-02-08T20:38:33.257Z"
   },
   {
    "duration": 8,
    "start_time": "2023-02-08T20:38:48.156Z"
   },
   {
    "duration": 9,
    "start_time": "2023-02-08T20:39:14.737Z"
   },
   {
    "duration": 1660,
    "start_time": "2023-02-09T18:04:10.541Z"
   },
   {
    "duration": 2676,
    "start_time": "2023-02-09T18:04:12.203Z"
   },
   {
    "duration": 25,
    "start_time": "2023-02-09T18:04:14.881Z"
   },
   {
    "duration": 32,
    "start_time": "2023-02-09T18:04:14.908Z"
   },
   {
    "duration": 21,
    "start_time": "2023-02-09T18:04:14.942Z"
   },
   {
    "duration": 20,
    "start_time": "2023-02-09T18:04:14.965Z"
   },
   {
    "duration": 17,
    "start_time": "2023-02-09T18:04:14.987Z"
   },
   {
    "duration": 12,
    "start_time": "2023-02-09T18:04:15.005Z"
   },
   {
    "duration": 260,
    "start_time": "2023-02-09T18:04:15.019Z"
   },
   {
    "duration": 7,
    "start_time": "2023-02-09T18:04:15.281Z"
   },
   {
    "duration": 14,
    "start_time": "2023-02-09T18:04:15.290Z"
   },
   {
    "duration": 19,
    "start_time": "2023-02-09T18:04:15.306Z"
   },
   {
    "duration": 32,
    "start_time": "2023-02-09T18:04:15.326Z"
   },
   {
    "duration": 11,
    "start_time": "2023-02-09T18:04:15.360Z"
   },
   {
    "duration": 20,
    "start_time": "2023-02-09T18:04:15.373Z"
   },
   {
    "duration": 9,
    "start_time": "2023-02-09T18:04:15.394Z"
   },
   {
    "duration": 17,
    "start_time": "2023-02-09T18:04:15.404Z"
   },
   {
    "duration": 29,
    "start_time": "2023-02-09T18:04:15.422Z"
   },
   {
    "duration": 13,
    "start_time": "2023-02-09T18:04:15.453Z"
   },
   {
    "duration": 24,
    "start_time": "2023-02-09T18:04:15.468Z"
   },
   {
    "duration": 2791,
    "start_time": "2023-02-09T18:04:15.494Z"
   },
   {
    "duration": 26,
    "start_time": "2023-02-09T18:04:18.287Z"
   },
   {
    "duration": 2730,
    "start_time": "2023-02-09T18:04:18.314Z"
   },
   {
    "duration": 688,
    "start_time": "2023-02-09T18:04:21.046Z"
   },
   {
    "duration": 16,
    "start_time": "2023-02-09T18:04:21.736Z"
   },
   {
    "duration": 952,
    "start_time": "2023-02-09T18:04:21.753Z"
   },
   {
    "duration": 3,
    "start_time": "2023-02-09T18:04:22.707Z"
   },
   {
    "duration": 8,
    "start_time": "2023-02-09T18:04:22.713Z"
   },
   {
    "duration": 6,
    "start_time": "2023-02-09T18:04:22.723Z"
   },
   {
    "duration": 19,
    "start_time": "2023-02-09T18:04:22.730Z"
   },
   {
    "duration": 4,
    "start_time": "2023-02-09T18:04:22.751Z"
   },
   {
    "duration": 7,
    "start_time": "2023-02-09T18:04:22.757Z"
   },
   {
    "duration": 5,
    "start_time": "2023-02-09T18:04:22.765Z"
   },
   {
    "duration": 3279,
    "start_time": "2023-02-09T18:04:22.771Z"
   },
   {
    "duration": 1406,
    "start_time": "2023-02-09T18:04:26.052Z"
   },
   {
    "duration": 0,
    "start_time": "2023-02-09T18:04:27.460Z"
   },
   {
    "duration": 0,
    "start_time": "2023-02-09T18:04:27.461Z"
   },
   {
    "duration": 0,
    "start_time": "2023-02-09T18:04:27.463Z"
   },
   {
    "duration": 0,
    "start_time": "2023-02-09T18:04:27.464Z"
   },
   {
    "duration": 81,
    "start_time": "2023-02-09T20:29:32.670Z"
   },
   {
    "duration": 66,
    "start_time": "2023-02-09T20:33:52.462Z"
   },
   {
    "duration": 1621,
    "start_time": "2023-02-09T20:34:11.060Z"
   },
   {
    "duration": 3179,
    "start_time": "2023-02-09T20:34:12.683Z"
   },
   {
    "duration": 31,
    "start_time": "2023-02-09T20:34:15.864Z"
   },
   {
    "duration": 28,
    "start_time": "2023-02-09T20:34:15.896Z"
   },
   {
    "duration": 33,
    "start_time": "2023-02-09T20:34:15.927Z"
   },
   {
    "duration": 19,
    "start_time": "2023-02-09T20:34:15.962Z"
   },
   {
    "duration": 14,
    "start_time": "2023-02-09T20:34:15.983Z"
   },
   {
    "duration": 13,
    "start_time": "2023-02-09T20:34:15.998Z"
   },
   {
    "duration": 277,
    "start_time": "2023-02-09T20:34:16.013Z"
   },
   {
    "duration": 6,
    "start_time": "2023-02-09T20:34:16.291Z"
   },
   {
    "duration": 15,
    "start_time": "2023-02-09T20:34:16.298Z"
   },
   {
    "duration": 21,
    "start_time": "2023-02-09T20:34:16.317Z"
   },
   {
    "duration": 17,
    "start_time": "2023-02-09T20:34:16.340Z"
   },
   {
    "duration": 14,
    "start_time": "2023-02-09T20:34:16.361Z"
   },
   {
    "duration": 23,
    "start_time": "2023-02-09T20:34:16.377Z"
   },
   {
    "duration": 10,
    "start_time": "2023-02-09T20:34:16.402Z"
   },
   {
    "duration": 2,
    "start_time": "2023-02-09T20:34:16.414Z"
   },
   {
    "duration": 35,
    "start_time": "2023-02-09T20:34:16.418Z"
   },
   {
    "duration": 13,
    "start_time": "2023-02-09T20:34:16.455Z"
   },
   {
    "duration": 35,
    "start_time": "2023-02-09T20:34:16.470Z"
   },
   {
    "duration": 2954,
    "start_time": "2023-02-09T20:34:16.507Z"
   },
   {
    "duration": 24,
    "start_time": "2023-02-09T20:34:19.462Z"
   },
   {
    "duration": 2829,
    "start_time": "2023-02-09T20:34:19.488Z"
   },
   {
    "duration": 689,
    "start_time": "2023-02-09T20:34:22.319Z"
   },
   {
    "duration": 7,
    "start_time": "2023-02-09T20:34:23.009Z"
   },
   {
    "duration": 1003,
    "start_time": "2023-02-09T20:34:23.017Z"
   },
   {
    "duration": 3,
    "start_time": "2023-02-09T20:34:24.021Z"
   },
   {
    "duration": 17,
    "start_time": "2023-02-09T20:34:24.025Z"
   },
   {
    "duration": 10,
    "start_time": "2023-02-09T20:34:24.048Z"
   },
   {
    "duration": 11,
    "start_time": "2023-02-09T20:34:24.060Z"
   },
   {
    "duration": 14,
    "start_time": "2023-02-09T20:34:24.072Z"
   },
   {
    "duration": 9,
    "start_time": "2023-02-09T20:34:24.088Z"
   },
   {
    "duration": 6,
    "start_time": "2023-02-09T20:34:24.098Z"
   },
   {
    "duration": 2652,
    "start_time": "2023-02-09T20:34:24.105Z"
   },
   {
    "duration": 22205,
    "start_time": "2023-02-09T20:34:26.849Z"
   },
   {
    "duration": 248644,
    "start_time": "2023-02-09T20:34:49.056Z"
   },
   {
    "duration": 6,
    "start_time": "2023-02-09T20:38:57.702Z"
   },
   {
    "duration": 16615,
    "start_time": "2023-02-09T20:38:57.710Z"
   },
   {
    "duration": 10,
    "start_time": "2023-02-09T20:39:14.327Z"
   },
   {
    "duration": 1566,
    "start_time": "2023-02-09T20:42:21.131Z"
   },
   {
    "duration": 670,
    "start_time": "2023-02-09T20:42:22.698Z"
   },
   {
    "duration": 23,
    "start_time": "2023-02-09T20:42:23.369Z"
   },
   {
    "duration": 24,
    "start_time": "2023-02-09T20:42:23.394Z"
   },
   {
    "duration": 33,
    "start_time": "2023-02-09T20:42:23.420Z"
   },
   {
    "duration": 22,
    "start_time": "2023-02-09T20:42:23.455Z"
   },
   {
    "duration": 16,
    "start_time": "2023-02-09T20:42:23.479Z"
   },
   {
    "duration": 11,
    "start_time": "2023-02-09T20:42:23.497Z"
   },
   {
    "duration": 249,
    "start_time": "2023-02-09T20:42:23.509Z"
   },
   {
    "duration": 7,
    "start_time": "2023-02-09T20:42:23.761Z"
   },
   {
    "duration": 18,
    "start_time": "2023-02-09T20:42:23.770Z"
   },
   {
    "duration": 22,
    "start_time": "2023-02-09T20:42:23.789Z"
   },
   {
    "duration": 14,
    "start_time": "2023-02-09T20:42:23.813Z"
   },
   {
    "duration": 14,
    "start_time": "2023-02-09T20:42:23.849Z"
   },
   {
    "duration": 22,
    "start_time": "2023-02-09T20:42:23.865Z"
   },
   {
    "duration": 7,
    "start_time": "2023-02-09T20:42:23.888Z"
   },
   {
    "duration": 4,
    "start_time": "2023-02-09T20:42:23.897Z"
   },
   {
    "duration": 12,
    "start_time": "2023-02-09T20:42:23.902Z"
   },
   {
    "duration": 39,
    "start_time": "2023-02-09T20:42:23.916Z"
   },
   {
    "duration": 25,
    "start_time": "2023-02-09T20:42:23.957Z"
   },
   {
    "duration": 2694,
    "start_time": "2023-02-09T20:42:23.983Z"
   },
   {
    "duration": 23,
    "start_time": "2023-02-09T20:42:26.678Z"
   },
   {
    "duration": 2618,
    "start_time": "2023-02-09T20:42:26.703Z"
   },
   {
    "duration": 636,
    "start_time": "2023-02-09T20:42:29.322Z"
   },
   {
    "duration": 7,
    "start_time": "2023-02-09T20:42:29.960Z"
   },
   {
    "duration": 1007,
    "start_time": "2023-02-09T20:42:29.968Z"
   },
   {
    "duration": 3,
    "start_time": "2023-02-09T20:42:30.977Z"
   },
   {
    "duration": 12,
    "start_time": "2023-02-09T20:42:30.984Z"
   },
   {
    "duration": 32,
    "start_time": "2023-02-09T20:42:30.997Z"
   },
   {
    "duration": 14,
    "start_time": "2023-02-09T20:42:31.030Z"
   },
   {
    "duration": 22,
    "start_time": "2023-02-09T20:42:31.046Z"
   },
   {
    "duration": 16,
    "start_time": "2023-02-09T20:42:31.070Z"
   },
   {
    "duration": 11,
    "start_time": "2023-02-09T20:42:31.088Z"
   },
   {
    "duration": 2556,
    "start_time": "2023-02-09T20:42:31.100Z"
   },
   {
    "duration": 22040,
    "start_time": "2023-02-09T20:42:33.657Z"
   },
   {
    "duration": 251206,
    "start_time": "2023-02-09T20:42:55.698Z"
   },
   {
    "duration": 7,
    "start_time": "2023-02-09T20:47:06.906Z"
   },
   {
    "duration": 16052,
    "start_time": "2023-02-09T20:47:06.915Z"
   },
   {
    "duration": 8,
    "start_time": "2023-02-09T20:47:22.968Z"
   }
  ],
  "kernelspec": {
   "display_name": "Python 3 (ipykernel)",
   "language": "python",
   "name": "python3"
  },
  "language_info": {
   "codemirror_mode": {
    "name": "ipython",
    "version": 3
   },
   "file_extension": ".py",
   "mimetype": "text/x-python",
   "name": "python",
   "nbconvert_exporter": "python",
   "pygments_lexer": "ipython3",
   "version": "3.10.9"
  },
  "toc": {
   "base_numbering": 1,
   "nav_menu": {},
   "number_sections": true,
   "sideBar": true,
   "skip_h1_title": true,
   "title_cell": "Содержание",
   "title_sidebar": "Contents",
   "toc_cell": true,
   "toc_position": {},
   "toc_section_display": true,
   "toc_window_display": true
  }
 },
 "nbformat": 4,
 "nbformat_minor": 2
}
