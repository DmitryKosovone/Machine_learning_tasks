{
 "cells": [
  {
   "cell_type": "markdown",
   "metadata": {
    "toc": true
   },
   "source": [
    "<h1>Содержание<span class=\"tocSkip\"></span></h1>\n",
    "</li><li><span><a href=\"#Подготовка\" data-toc-modified-id=\"Подготовка-1\"><span class=\"toc-item-num\">1&nbsp;&nbsp;</span>Подготовка</a></span><ul class=\"toc-item\"><li><span><a href=\"#Ресемплирование-по-одному-часу.\" data-toc-modified-id=\"Ресемплирование-по-одному-часу.-1.1\"><span class=\"toc-item-num\">1.1&nbsp;&nbsp;</span>Ресемплирование по одному часу.</a></span></li></ul></li><li><span><a href=\"#Анализ\" data-toc-modified-id=\"Анализ-2\"><span class=\"toc-item-num\">2&nbsp;&nbsp;</span>Анализ</a></span></li><li><span><a href=\"#Обучение\" data-toc-modified-id=\"Обучение-3\"><span class=\"toc-item-num\">3&nbsp;&nbsp;</span>Обучение</a></span><ul class=\"toc-item\"><li><span><a href=\"#Линейная-регрессия\" data-toc-modified-id=\"Линейная-регрессия-3.1\"><span class=\"toc-item-num\">3.1&nbsp;&nbsp;</span>Линейная регрессия</a></span></li><li><span><a href=\"#Случайный-лес\" data-toc-modified-id=\"Случайный-лес-3.2\"><span class=\"toc-item-num\">3.2&nbsp;&nbsp;</span>Случайный лес</a></span></li><li><span><a href=\"#LightGBM\" data-toc-modified-id=\"LightGBM-3.3\"><span class=\"toc-item-num\">3.3&nbsp;&nbsp;</span>LightGBM</a></span></li></ul></li><li><span><a href=\"#Тестирование\" data-toc-modified-id=\"Тестирование-4\"><span class=\"toc-item-num\">4&nbsp;&nbsp;</span>Тестирование</a></span><ul class=\"toc-item\"><li><span><a href=\"#LightGBM\" data-toc-modified-id=\"LightGBM-4.1\"><span class=\"toc-item-num\">4.1&nbsp;&nbsp;</span>LightGBM</a></span></li></ul></li>"
   ]
  },
  {
   "cell_type": "markdown",
   "metadata": {},
   "source": [
    "#  Прогнозирование заказов такси"
   ]
  },
  {
   "cell_type": "markdown",
   "metadata": {},
   "source": [
    "Компания «Чётенькое такси» собрала исторические данные о заказах такси в аэропортах. Чтобы привлекать больше водителей в период пиковой нагрузки, нужно спрогнозировать количество заказов такси на следующий час. Постройте модель для такого предсказания.\n",
    "\n",
    "Значение метрики *RMSE* на тестовой выборке должно быть не больше 48.\n",
    "\n",
    "Вам нужно:\n",
    "\n",
    "1. Загрузить данные и выполнить их ресемплирование по одному часу.\n",
    "2. Проанализировать данные.\n",
    "3. Обучить разные модели с различными гиперпараметрами. Сделать тестовую выборку размером 10% от исходных данных.\n",
    "4. Проверить данные на тестовой выборке и сделать выводы.\n",
    "\n",
    "\n",
    "Данные лежат в файле `taxi.csv`. Количество заказов находится в столбце `num_orders` (от англ. *number of orders*, «число заказов»)."
   ]
  },
  {
   "cell_type": "markdown",
   "metadata": {},
   "source": [
    "## Подготовка"
   ]
  },
  {
   "cell_type": "code",
   "execution_count": 1,
   "metadata": {},
   "outputs": [],
   "source": [
    "import pandas as pd\n",
    "import numpy as np\n",
    "import matplotlib.pyplot as plt\n",
    "\n",
    "from sklearn.linear_model import LinearRegression \n",
    "from sklearn.ensemble import RandomForestRegressor \n",
    "import lightgbm as lgb\n",
    "\n",
    "from sklearn.experimental import enable_halving_search_cv \n",
    "from sklearn.model_selection import cross_validate , train_test_split, TimeSeriesSplit, GridSearchCV \n",
    "\n",
    "from sklearn.metrics import mean_squared_error \n",
    "\n",
    "from statsmodels.tsa.seasonal import seasonal_decompose"
   ]
  },
  {
   "cell_type": "code",
   "execution_count": 2,
   "metadata": {},
   "outputs": [
    {
     "data": {
      "text/html": [
       "<div>\n",
       "<style scoped>\n",
       "    .dataframe tbody tr th:only-of-type {\n",
       "        vertical-align: middle;\n",
       "    }\n",
       "\n",
       "    .dataframe tbody tr th {\n",
       "        vertical-align: top;\n",
       "    }\n",
       "\n",
       "    .dataframe thead th {\n",
       "        text-align: right;\n",
       "    }\n",
       "</style>\n",
       "<table border=\"1\" class=\"dataframe\">\n",
       "  <thead>\n",
       "    <tr style=\"text-align: right;\">\n",
       "      <th></th>\n",
       "      <th>num_orders</th>\n",
       "    </tr>\n",
       "    <tr>\n",
       "      <th>datetime</th>\n",
       "      <th></th>\n",
       "    </tr>\n",
       "  </thead>\n",
       "  <tbody>\n",
       "    <tr>\n",
       "      <th>2018-03-01 00:00:00</th>\n",
       "      <td>9</td>\n",
       "    </tr>\n",
       "    <tr>\n",
       "      <th>2018-03-01 00:10:00</th>\n",
       "      <td>14</td>\n",
       "    </tr>\n",
       "    <tr>\n",
       "      <th>2018-03-01 00:20:00</th>\n",
       "      <td>28</td>\n",
       "    </tr>\n",
       "    <tr>\n",
       "      <th>2018-03-01 00:30:00</th>\n",
       "      <td>20</td>\n",
       "    </tr>\n",
       "    <tr>\n",
       "      <th>2018-03-01 00:40:00</th>\n",
       "      <td>32</td>\n",
       "    </tr>\n",
       "  </tbody>\n",
       "</table>\n",
       "</div>"
      ],
      "text/plain": [
       "                     num_orders\n",
       "datetime                       \n",
       "2018-03-01 00:00:00           9\n",
       "2018-03-01 00:10:00          14\n",
       "2018-03-01 00:20:00          28\n",
       "2018-03-01 00:30:00          20\n",
       "2018-03-01 00:40:00          32"
      ]
     },
     "execution_count": 2,
     "metadata": {},
     "output_type": "execute_result"
    }
   ],
   "source": [
    "data = pd.read_csv('/datasets/taxi.csv', index_col=[0], parse_dates=[0])\n",
    "data.head()"
   ]
  },
  {
   "cell_type": "code",
   "execution_count": 3,
   "metadata": {},
   "outputs": [
    {
     "data": {
      "text/plain": [
       "(26496, 1)"
      ]
     },
     "execution_count": 3,
     "metadata": {},
     "output_type": "execute_result"
    }
   ],
   "source": [
    "data.shape"
   ]
  },
  {
   "cell_type": "code",
   "execution_count": 4,
   "metadata": {},
   "outputs": [
    {
     "data": {
      "text/plain": [
       "num_orders    0\n",
       "dtype: int64"
      ]
     },
     "execution_count": 4,
     "metadata": {},
     "output_type": "execute_result"
    }
   ],
   "source": [
    "data.isna().sum()"
   ]
  },
  {
   "cell_type": "markdown",
   "metadata": {},
   "source": [
    "### Ресемплирование по одному часу."
   ]
  },
  {
   "cell_type": "code",
   "execution_count": 5,
   "metadata": {},
   "outputs": [
    {
     "data": {
      "text/html": [
       "<div>\n",
       "<style scoped>\n",
       "    .dataframe tbody tr th:only-of-type {\n",
       "        vertical-align: middle;\n",
       "    }\n",
       "\n",
       "    .dataframe tbody tr th {\n",
       "        vertical-align: top;\n",
       "    }\n",
       "\n",
       "    .dataframe thead th {\n",
       "        text-align: right;\n",
       "    }\n",
       "</style>\n",
       "<table border=\"1\" class=\"dataframe\">\n",
       "  <thead>\n",
       "    <tr style=\"text-align: right;\">\n",
       "      <th></th>\n",
       "      <th>num_orders</th>\n",
       "    </tr>\n",
       "    <tr>\n",
       "      <th>datetime</th>\n",
       "      <th></th>\n",
       "    </tr>\n",
       "  </thead>\n",
       "  <tbody>\n",
       "    <tr>\n",
       "      <th>2018-03-01 00:00:00</th>\n",
       "      <td>124</td>\n",
       "    </tr>\n",
       "    <tr>\n",
       "      <th>2018-03-01 01:00:00</th>\n",
       "      <td>85</td>\n",
       "    </tr>\n",
       "    <tr>\n",
       "      <th>2018-03-01 02:00:00</th>\n",
       "      <td>71</td>\n",
       "    </tr>\n",
       "    <tr>\n",
       "      <th>2018-03-01 03:00:00</th>\n",
       "      <td>66</td>\n",
       "    </tr>\n",
       "    <tr>\n",
       "      <th>2018-03-01 04:00:00</th>\n",
       "      <td>43</td>\n",
       "    </tr>\n",
       "  </tbody>\n",
       "</table>\n",
       "</div>"
      ],
      "text/plain": [
       "                     num_orders\n",
       "datetime                       \n",
       "2018-03-01 00:00:00         124\n",
       "2018-03-01 01:00:00          85\n",
       "2018-03-01 02:00:00          71\n",
       "2018-03-01 03:00:00          66\n",
       "2018-03-01 04:00:00          43"
      ]
     },
     "execution_count": 5,
     "metadata": {},
     "output_type": "execute_result"
    }
   ],
   "source": [
    "data.sort_index(inplace=True)\n",
    "data = data.resample('1H').sum()\n",
    "data.head()"
   ]
  },
  {
   "cell_type": "code",
   "execution_count": 6,
   "metadata": {},
   "outputs": [
    {
     "data": {
      "text/plain": [
       "<AxesSubplot:xlabel='datetime'>"
      ]
     },
     "execution_count": 6,
     "metadata": {},
     "output_type": "execute_result"
    },
    {
     "data": {
      "image/png": "[encoded data removed]",
      "text/plain": [
       "<Figure size 576x576 with 1 Axes>"
      ]
     },
     "metadata": {
      "needs_background": "light"
     },
     "output_type": "display_data"
    }
   ],
   "source": [
    "data.plot(figsize=(8,8))"
   ]
  },
  {
   "cell_type": "markdown",
   "metadata": {},
   "source": [
    "<b>Вывод:</b> В данных отсутствуют пропуски. После ресемплирования временной интервал составляет 1 час. Данные имеют высокую частоту "
   ]
  },
  {
   "cell_type": "markdown",
   "metadata": {},
   "source": [
    "## Анализ"
   ]
  },
  {
   "cell_type": "code",
   "execution_count": 7,
   "metadata": {},
   "outputs": [
    {
     "data": {
      "text/plain": [
       "'временной интервал: 183 days 23:00:00'"
      ]
     },
     "metadata": {},
     "output_type": "display_data"
    },
    {
     "data": {
      "text/html": [
       "<div>\n",
       "<style scoped>\n",
       "    .dataframe tbody tr th:only-of-type {\n",
       "        vertical-align: middle;\n",
       "    }\n",
       "\n",
       "    .dataframe tbody tr th {\n",
       "        vertical-align: top;\n",
       "    }\n",
       "\n",
       "    .dataframe thead th {\n",
       "        text-align: right;\n",
       "    }\n",
       "</style>\n",
       "<table border=\"1\" class=\"dataframe\">\n",
       "  <thead>\n",
       "    <tr style=\"text-align: right;\">\n",
       "      <th></th>\n",
       "      <th>num_orders</th>\n",
       "    </tr>\n",
       "  </thead>\n",
       "  <tbody>\n",
       "    <tr>\n",
       "      <th>count</th>\n",
       "      <td>4416.000000</td>\n",
       "    </tr>\n",
       "    <tr>\n",
       "      <th>mean</th>\n",
       "      <td>84.422781</td>\n",
       "    </tr>\n",
       "    <tr>\n",
       "      <th>std</th>\n",
       "      <td>45.023853</td>\n",
       "    </tr>\n",
       "    <tr>\n",
       "      <th>min</th>\n",
       "      <td>0.000000</td>\n",
       "    </tr>\n",
       "    <tr>\n",
       "      <th>25%</th>\n",
       "      <td>54.000000</td>\n",
       "    </tr>\n",
       "    <tr>\n",
       "      <th>50%</th>\n",
       "      <td>78.000000</td>\n",
       "    </tr>\n",
       "    <tr>\n",
       "      <th>75%</th>\n",
       "      <td>107.000000</td>\n",
       "    </tr>\n",
       "    <tr>\n",
       "      <th>max</th>\n",
       "      <td>462.000000</td>\n",
       "    </tr>\n",
       "  </tbody>\n",
       "</table>\n",
       "</div>"
      ],
      "text/plain": [
       "        num_orders\n",
       "count  4416.000000\n",
       "mean     84.422781\n",
       "std      45.023853\n",
       "min       0.000000\n",
       "25%      54.000000\n",
       "50%      78.000000\n",
       "75%     107.000000\n",
       "max     462.000000"
      ]
     },
     "execution_count": 7,
     "metadata": {},
     "output_type": "execute_result"
    }
   ],
   "source": [
    "display(f'временной интервал: {data.index.max() - data.index.min()}')\n",
    "data.describe()"
   ]
  },
  {
   "cell_type": "markdown",
   "metadata": {},
   "source": [
    "Данные собраны за 183 дня. Максимлаьное количество заказов за час - 462, минимальное - 0"
   ]
  },
  {
   "cell_type": "code",
   "execution_count": 8,
   "metadata": {},
   "outputs": [
    {
     "data": {
      "image/png": "[encoded data removed]",
      "text/plain": [
       "<Figure size 1080x360 with 1 Axes>"
      ]
     },
     "metadata": {
      "needs_background": "light"
     },
     "output_type": "display_data"
    }
   ],
   "source": [
    "plt.figure(figsize=(15,5))\n",
    "\n",
    "plt.plot(data.resample('1D').sum())\n",
    "plt.plot(data.resample('1D').sum().rolling(7).mean(), color='orange')\n",
    "\n",
    "plt.show()"
   ]
  },
  {
   "cell_type": "markdown",
   "metadata": {},
   "source": [
    "Наблюдается восходящий тренд "
   ]
  },
  {
   "cell_type": "code",
   "execution_count": 9,
   "metadata": {},
   "outputs": [
    {
     "data": {
      "image/png": "[encoded data removed]",
      "text/plain": [
       "<Figure size 1080x720 with 3 Axes>"
      ]
     },
     "metadata": {
      "needs_background": "light"
     },
     "output_type": "display_data"
    }
   ],
   "source": [
    "decomposed = seasonal_decompose(data)\n",
    "\n",
    "plt.figure(figsize=(15,10))\n",
    "\n",
    "plt.subplot(311)\n",
    "decomposed.trend.plot(ax=plt.gca())\n",
    "plt.title('trend')\n",
    "\n",
    "plt.subplot(312)\n",
    "decomposed.seasonal.plot(ax=plt.gca())\n",
    "plt.title('season')\n",
    "\n",
    "plt.subplot(313)\n",
    "decomposed.resid.plot(ax=plt.gca())\n",
    "plt.title('resid')\n",
    "\n",
    "plt.tight_layout()\n",
    "\n",
    "\n"
   ]
  },
  {
   "cell_type": "markdown",
   "metadata": {},
   "source": [
    "Графики показывают суточную сезонность и возрастающий тренд"
   ]
  },
  {
   "cell_type": "code",
   "execution_count": 10,
   "metadata": {},
   "outputs": [
    {
     "data": {
      "text/plain": [
       "Timestamp('2018-08-31 23:00:00', freq='H')"
      ]
     },
     "execution_count": 10,
     "metadata": {},
     "output_type": "execute_result"
    }
   ],
   "source": [
    "data.index.max()"
   ]
  },
  {
   "cell_type": "markdown",
   "metadata": {},
   "source": [
    "Данные за неделю"
   ]
  },
  {
   "cell_type": "code",
   "execution_count": 11,
   "metadata": {},
   "outputs": [
    {
     "data": {
      "image/png": "[encoded data removed]",
      "text/plain": [
       "<Figure size 1080x720 with 3 Axes>"
      ]
     },
     "metadata": {
      "needs_background": "light"
     },
     "output_type": "display_data"
    }
   ],
   "source": [
    "decomposed = seasonal_decompose(data['2018-08-01':'2018-08-07'])\n",
    "plt.figure(figsize=(15,10))\n",
    "\n",
    "plt.subplot(311)\n",
    "decomposed.trend.plot(ax=plt.gca())\n",
    "plt.title('trend')\n",
    "\n",
    "plt.subplot(312)\n",
    "decomposed.seasonal.plot(ax=plt.gca())\n",
    "plt.title('season')\n",
    "\n",
    "plt.subplot(313)\n",
    "decomposed.resid.plot(ax=plt.gca())\n",
    "plt.title('resid')\n",
    "\n",
    "plt.tight_layout()"
   ]
  },
  {
   "cell_type": "markdown",
   "metadata": {},
   "source": [
    "Ночью заказы стремятся к 0, в вечернее время заказы возрастают"
   ]
  },
  {
   "cell_type": "code",
   "execution_count": 14,
   "metadata": {},
   "outputs": [],
   "source": [
    "def features_comp(data, rolling_size, max_lag):\n",
    "    data['dayofweel'] = data.index.dayofweek\n",
    "    data['hour'] = data.index.hour\n",
    "    \n",
    "    for i in range(1, max_lag+1):\n",
    "        data[f'lag_{i}'] = data['num_orders'].shift(i)\n",
    "    data['rolling_mean'] = data['num_orders'].shift().rolling(rolling_size).mean()\n",
    "    data = data.dropna()\n",
    "    return data\n",
    "\n"
   ]
  },
  {
   "cell_type": "code",
   "execution_count": 15,
   "metadata": {},
   "outputs": [
    {
     "data": {
      "text/html": [
       "<div>\n",
       "<style scoped>\n",
       "    .dataframe tbody tr th:only-of-type {\n",
       "        vertical-align: middle;\n",
       "    }\n",
       "\n",
       "    .dataframe tbody tr th {\n",
       "        vertical-align: top;\n",
       "    }\n",
       "\n",
       "    .dataframe thead th {\n",
       "        text-align: right;\n",
       "    }\n",
       "</style>\n",
       "<table border=\"1\" class=\"dataframe\">\n",
       "  <thead>\n",
       "    <tr style=\"text-align: right;\">\n",
       "      <th></th>\n",
       "      <th>num_orders</th>\n",
       "      <th>dayofweel</th>\n",
       "      <th>hour</th>\n",
       "      <th>lag_1</th>\n",
       "      <th>lag_2</th>\n",
       "      <th>lag_3</th>\n",
       "      <th>lag_4</th>\n",
       "      <th>lag_5</th>\n",
       "      <th>lag_6</th>\n",
       "      <th>lag_7</th>\n",
       "      <th>...</th>\n",
       "      <th>lag_12</th>\n",
       "      <th>lag_13</th>\n",
       "      <th>lag_14</th>\n",
       "      <th>lag_15</th>\n",
       "      <th>lag_16</th>\n",
       "      <th>lag_17</th>\n",
       "      <th>lag_18</th>\n",
       "      <th>lag_19</th>\n",
       "      <th>lag_20</th>\n",
       "      <th>rolling_mean</th>\n",
       "    </tr>\n",
       "    <tr>\n",
       "      <th>datetime</th>\n",
       "      <th></th>\n",
       "      <th></th>\n",
       "      <th></th>\n",
       "      <th></th>\n",
       "      <th></th>\n",
       "      <th></th>\n",
       "      <th></th>\n",
       "      <th></th>\n",
       "      <th></th>\n",
       "      <th></th>\n",
       "      <th></th>\n",
       "      <th></th>\n",
       "      <th></th>\n",
       "      <th></th>\n",
       "      <th></th>\n",
       "      <th></th>\n",
       "      <th></th>\n",
       "      <th></th>\n",
       "      <th></th>\n",
       "      <th></th>\n",
       "      <th></th>\n",
       "    </tr>\n",
       "  </thead>\n",
       "  <tbody>\n",
       "    <tr>\n",
       "      <th>2018-03-02 06:00:00</th>\n",
       "      <td>11</td>\n",
       "      <td>4</td>\n",
       "      <td>6</td>\n",
       "      <td>11.0</td>\n",
       "      <td>20.0</td>\n",
       "      <td>64.0</td>\n",
       "      <td>75.0</td>\n",
       "      <td>120.0</td>\n",
       "      <td>90.0</td>\n",
       "      <td>58.0</td>\n",
       "      <td>...</td>\n",
       "      <td>73.0</td>\n",
       "      <td>44.0</td>\n",
       "      <td>43.0</td>\n",
       "      <td>66.0</td>\n",
       "      <td>48.0</td>\n",
       "      <td>32.0</td>\n",
       "      <td>30.0</td>\n",
       "      <td>96.0</td>\n",
       "      <td>64.0</td>\n",
       "      <td>58.133333</td>\n",
       "    </tr>\n",
       "    <tr>\n",
       "      <th>2018-03-02 07:00:00</th>\n",
       "      <td>7</td>\n",
       "      <td>4</td>\n",
       "      <td>7</td>\n",
       "      <td>11.0</td>\n",
       "      <td>11.0</td>\n",
       "      <td>20.0</td>\n",
       "      <td>64.0</td>\n",
       "      <td>75.0</td>\n",
       "      <td>120.0</td>\n",
       "      <td>90.0</td>\n",
       "      <td>...</td>\n",
       "      <td>45.0</td>\n",
       "      <td>73.0</td>\n",
       "      <td>44.0</td>\n",
       "      <td>43.0</td>\n",
       "      <td>66.0</td>\n",
       "      <td>48.0</td>\n",
       "      <td>32.0</td>\n",
       "      <td>30.0</td>\n",
       "      <td>96.0</td>\n",
       "      <td>54.366667</td>\n",
       "    </tr>\n",
       "    <tr>\n",
       "      <th>2018-03-02 08:00:00</th>\n",
       "      <td>46</td>\n",
       "      <td>4</td>\n",
       "      <td>8</td>\n",
       "      <td>7.0</td>\n",
       "      <td>11.0</td>\n",
       "      <td>11.0</td>\n",
       "      <td>20.0</td>\n",
       "      <td>64.0</td>\n",
       "      <td>75.0</td>\n",
       "      <td>120.0</td>\n",
       "      <td>...</td>\n",
       "      <td>61.0</td>\n",
       "      <td>45.0</td>\n",
       "      <td>73.0</td>\n",
       "      <td>44.0</td>\n",
       "      <td>43.0</td>\n",
       "      <td>66.0</td>\n",
       "      <td>48.0</td>\n",
       "      <td>32.0</td>\n",
       "      <td>30.0</td>\n",
       "      <td>51.766667</td>\n",
       "    </tr>\n",
       "    <tr>\n",
       "      <th>2018-03-02 09:00:00</th>\n",
       "      <td>45</td>\n",
       "      <td>4</td>\n",
       "      <td>9</td>\n",
       "      <td>46.0</td>\n",
       "      <td>7.0</td>\n",
       "      <td>11.0</td>\n",
       "      <td>11.0</td>\n",
       "      <td>20.0</td>\n",
       "      <td>64.0</td>\n",
       "      <td>75.0</td>\n",
       "      <td>...</td>\n",
       "      <td>66.0</td>\n",
       "      <td>61.0</td>\n",
       "      <td>45.0</td>\n",
       "      <td>73.0</td>\n",
       "      <td>44.0</td>\n",
       "      <td>43.0</td>\n",
       "      <td>66.0</td>\n",
       "      <td>48.0</td>\n",
       "      <td>32.0</td>\n",
       "      <td>50.933333</td>\n",
       "    </tr>\n",
       "    <tr>\n",
       "      <th>2018-03-02 10:00:00</th>\n",
       "      <td>54</td>\n",
       "      <td>4</td>\n",
       "      <td>10</td>\n",
       "      <td>45.0</td>\n",
       "      <td>46.0</td>\n",
       "      <td>7.0</td>\n",
       "      <td>11.0</td>\n",
       "      <td>11.0</td>\n",
       "      <td>20.0</td>\n",
       "      <td>64.0</td>\n",
       "      <td>...</td>\n",
       "      <td>113.0</td>\n",
       "      <td>66.0</td>\n",
       "      <td>61.0</td>\n",
       "      <td>45.0</td>\n",
       "      <td>73.0</td>\n",
       "      <td>44.0</td>\n",
       "      <td>43.0</td>\n",
       "      <td>66.0</td>\n",
       "      <td>48.0</td>\n",
       "      <td>50.233333</td>\n",
       "    </tr>\n",
       "  </tbody>\n",
       "</table>\n",
       "<p>5 rows × 24 columns</p>\n",
       "</div>"
      ],
      "text/plain": [
       "                     num_orders  dayofweel  hour  lag_1  lag_2  lag_3  lag_4  \\\n",
       "datetime                                                                       \n",
       "2018-03-02 06:00:00          11          4     6   11.0   20.0   64.0   75.0   \n",
       "2018-03-02 07:00:00           7          4     7   11.0   11.0   20.0   64.0   \n",
       "2018-03-02 08:00:00          46          4     8    7.0   11.0   11.0   20.0   \n",
       "2018-03-02 09:00:00          45          4     9   46.0    7.0   11.0   11.0   \n",
       "2018-03-02 10:00:00          54          4    10   45.0   46.0    7.0   11.0   \n",
       "\n",
       "                     lag_5  lag_6  lag_7  ...  lag_12  lag_13  lag_14  lag_15  \\\n",
       "datetime                                  ...                                   \n",
       "2018-03-02 06:00:00  120.0   90.0   58.0  ...    73.0    44.0    43.0    66.0   \n",
       "2018-03-02 07:00:00   75.0  120.0   90.0  ...    45.0    73.0    44.0    43.0   \n",
       "2018-03-02 08:00:00   64.0   75.0  120.0  ...    61.0    45.0    73.0    44.0   \n",
       "2018-03-02 09:00:00   20.0   64.0   75.0  ...    66.0    61.0    45.0    73.0   \n",
       "2018-03-02 10:00:00   11.0   20.0   64.0  ...   113.0    66.0    61.0    45.0   \n",
       "\n",
       "                     lag_16  lag_17  lag_18  lag_19  lag_20  rolling_mean  \n",
       "datetime                                                                   \n",
       "2018-03-02 06:00:00    48.0    32.0    30.0    96.0    64.0     58.133333  \n",
       "2018-03-02 07:00:00    66.0    48.0    32.0    30.0    96.0     54.366667  \n",
       "2018-03-02 08:00:00    43.0    66.0    48.0    32.0    30.0     51.766667  \n",
       "2018-03-02 09:00:00    44.0    43.0    66.0    48.0    32.0     50.933333  \n",
       "2018-03-02 10:00:00    73.0    44.0    43.0    66.0    48.0     50.233333  \n",
       "\n",
       "[5 rows x 24 columns]"
      ]
     },
     "execution_count": 15,
     "metadata": {},
     "output_type": "execute_result"
    }
   ],
   "source": [
    "data = features_comp(data, 30, 20)\n",
    "data.head()"
   ]
  },
  {
   "cell_type": "markdown",
   "metadata": {},
   "source": [
    "<b>Выводы:</b> \n",
    "       <br> Определены тренды и сезонность. \n",
    "        <br>Наблюдается рост заказов по времени. При анализе суточной сезонности выявлено, что пик заказов приходится на вечернее время, а спад происходит ночью.\n",
    "          <br>  Добавлены признаки для обучения 'rolling_mean', 'lag', 'dayofweek', 'h'"
   ]
  },
  {
   "cell_type": "code",
   "execution_count": null,
   "metadata": {},
   "outputs": [],
   "source": []
  },
  {
   "cell_type": "markdown",
   "metadata": {},
   "source": [
    "## Обучение"
   ]
  },
  {
   "cell_type": "code",
   "execution_count": 16,
   "metadata": {},
   "outputs": [],
   "source": [
    "RANDOM_STATE = 12345"
   ]
  },
  {
   "cell_type": "code",
   "execution_count": 17,
   "metadata": {},
   "outputs": [],
   "source": [
    "train, test = train_test_split(data, test_size=0.1, shuffle=False)"
   ]
  },
  {
   "cell_type": "code",
   "execution_count": 18,
   "metadata": {},
   "outputs": [],
   "source": [
    "features_train = train.drop('num_orders', axis=1)\n",
    "target_train = train['num_orders']\n",
    "features_test = test.drop('num_orders', axis=1)\n",
    "target_test = test['num_orders']"
   ]
  },
  {
   "cell_type": "markdown",
   "metadata": {},
   "source": [
    "### Линейная регрессия"
   ]
  },
  {
   "cell_type": "code",
   "execution_count": 19,
   "metadata": {},
   "outputs": [],
   "source": [
    "time_cv = TimeSeriesSplit(n_splits=3).split(features_train)\n",
    "model_lr = LinearRegression()\n",
    "cv_lr = cross_validate(model_lr, features_train, target_train, scoring='neg_root_mean_squared_error', cv=time_cv)"
   ]
  },
  {
   "cell_type": "markdown",
   "metadata": {},
   "source": [
    "### Случайный лес"
   ]
  },
  {
   "cell_type": "code",
   "execution_count": 20,
   "metadata": {},
   "outputs": [
    {
     "name": "stdout",
     "output_type": "stream",
     "text": [
      "Fitting 3 folds for each of 336 candidates, totalling 1008 fits\n",
      "[CV 1/3] END max_depth=1, min_samples_leaf=1, min_samples_split=2, n_estimators=10; total time=   0.0s\n",
      "[CV 2/3] END max_depth=1, min_samples_leaf=1, min_samples_split=2, n_estimators=10; total time=   0.0s\n",
      "[CV 3/3] END max_depth=1, min_samples_leaf=1, min_samples_split=2, n_estimators=10; total time=   0.1s\n",
      "[CV 1/3] END max_depth=1, min_samples_leaf=1, min_samples_split=2, n_estimators=20; total time=   0.0s\n",
      "[CV 2/3] END max_depth=1, min_samples_leaf=1, min_samples_split=2, n_estimators=20; total time=   0.1s\n",
      "[CV 3/3] END max_depth=1, min_samples_leaf=1, min_samples_split=2, n_estimators=20; total time=   0.1s\n",
      "[CV 1/3] END max_depth=1, min_samples_leaf=1, min_samples_split=2, n_estimators=30; total time=   0.1s\n",
      "[CV 2/3] END max_depth=1, min_samples_leaf=1, min_samples_split=2, n_estimators=30; total time=   0.1s\n",
      "[CV 3/3] END max_depth=1, min_samples_leaf=1, min_samples_split=2, n_estimators=30; total time=   0.1s\n",
      "[CV 1/3] END max_depth=1, min_samples_leaf=1, min_samples_split=2, n_estimators=40; total time=   0.1s\n",
      "[CV 2/3] END max_depth=1, min_samples_leaf=1, min_samples_split=2, n_estimators=40; total time=   0.1s\n",
      "[CV 3/3] END max_depth=1, min_samples_leaf=1, min_samples_split=2, n_estimators=40; total time=   0.2s\n",
      "[CV 1/3] END max_depth=1, min_samples_leaf=1, min_samples_split=4, n_estimators=10; total time=   0.0s\n",
      "[CV 2/3] END max_depth=1, min_samples_leaf=1, min_samples_split=4, n_estimators=10; total time=   0.0s\n",
      "[CV 3/3] END max_depth=1, min_samples_leaf=1, min_samples_split=4, n_estimators=10; total time=   0.1s\n",
      "[CV 1/3] END max_depth=1, min_samples_leaf=1, min_samples_split=4, n_estimators=20; total time=   0.1s\n",
      "[CV 2/3] END max_depth=1, min_samples_leaf=1, min_samples_split=4, n_estimators=20; total time=   0.1s\n",
      "[CV 3/3] END max_depth=1, min_samples_leaf=1, min_samples_split=4, n_estimators=20; total time=   0.1s\n",
      "[CV 1/3] END max_depth=1, min_samples_leaf=1, min_samples_split=4, n_estimators=30; total time=   0.1s\n",
      "[CV 2/3] END max_depth=1, min_samples_leaf=1, min_samples_split=4, n_estimators=30; total time=   0.1s\n",
      "[CV 3/3] END max_depth=1, min_samples_leaf=1, min_samples_split=4, n_estimators=30; total time=   0.1s\n",
      "[CV 1/3] END max_depth=1, min_samples_leaf=1, min_samples_split=4, n_estimators=40; total time=   0.1s\n",
      "[CV 2/3] END max_depth=1, min_samples_leaf=1, min_samples_split=4, n_estimators=40; total time=   0.1s\n",
      "[CV 3/3] END max_depth=1, min_samples_leaf=1, min_samples_split=4, n_estimators=40; total time=   0.2s\n",
      "[CV 1/3] END max_depth=1, min_samples_leaf=1, min_samples_split=6, n_estimators=10; total time=   0.0s\n",
      "[CV 2/3] END max_depth=1, min_samples_leaf=1, min_samples_split=6, n_estimators=10; total time=   0.0s\n",
      "[CV 3/3] END max_depth=1, min_samples_leaf=1, min_samples_split=6, n_estimators=10; total time=   0.0s\n",
      "[CV 1/3] END max_depth=1, min_samples_leaf=1, min_samples_split=6, n_estimators=20; total time=   0.0s\n",
      "[CV 2/3] END max_depth=1, min_samples_leaf=1, min_samples_split=6, n_estimators=20; total time=   0.1s\n",
      "[CV 3/3] END max_depth=1, min_samples_leaf=1, min_samples_split=6, n_estimators=20; total time=   0.1s\n",
      "[CV 1/3] END max_depth=1, min_samples_leaf=1, min_samples_split=6, n_estimators=30; total time=   0.1s\n",
      "[CV 2/3] END max_depth=1, min_samples_leaf=1, min_samples_split=6, n_estimators=30; total time=   0.1s\n",
      "[CV 3/3] END max_depth=1, min_samples_leaf=1, min_samples_split=6, n_estimators=30; total time=   0.1s\n",
      "[CV 1/3] END max_depth=1, min_samples_leaf=1, min_samples_split=6, n_estimators=40; total time=   0.1s\n",
      "[CV 2/3] END max_depth=1, min_samples_leaf=1, min_samples_split=6, n_estimators=40; total time=   0.1s\n",
      "[CV 3/3] END max_depth=1, min_samples_leaf=1, min_samples_split=6, n_estimators=40; total time=   0.2s\n",
      "[CV 1/3] END max_depth=1, min_samples_leaf=2, min_samples_split=2, n_estimators=10; total time=   0.0s\n",
      "[CV 2/3] END max_depth=1, min_samples_leaf=2, min_samples_split=2, n_estimators=10; total time=   0.0s\n",
      "[CV 3/3] END max_depth=1, min_samples_leaf=2, min_samples_split=2, n_estimators=10; total time=   0.0s\n",
      "[CV 1/3] END max_depth=1, min_samples_leaf=2, min_samples_split=2, n_estimators=20; total time=   0.0s\n",
      "[CV 2/3] END max_depth=1, min_samples_leaf=2, min_samples_split=2, n_estimators=20; total time=   0.1s\n",
      "[CV 3/3] END max_depth=1, min_samples_leaf=2, min_samples_split=2, n_estimators=20; total time=   0.1s\n",
      "[CV 1/3] END max_depth=1, min_samples_leaf=2, min_samples_split=2, n_estimators=30; total time=   0.1s\n",
      "[CV 2/3] END max_depth=1, min_samples_leaf=2, min_samples_split=2, n_estimators=30; total time=   0.1s\n",
      "[CV 3/3] END max_depth=1, min_samples_leaf=2, min_samples_split=2, n_estimators=30; total time=   0.1s\n",
      "[CV 1/3] END max_depth=1, min_samples_leaf=2, min_samples_split=2, n_estimators=40; total time=   0.1s\n",
      "[CV 2/3] END max_depth=1, min_samples_leaf=2, min_samples_split=2, n_estimators=40; total time=   0.1s\n",
      "[CV 3/3] END max_depth=1, min_samples_leaf=2, min_samples_split=2, n_estimators=40; total time=   0.2s\n",
      "[CV 1/3] END max_depth=1, min_samples_leaf=2, min_samples_split=4, n_estimators=10; total time=   0.0s\n",
      "[CV 2/3] END max_depth=1, min_samples_leaf=2, min_samples_split=4, n_estimators=10; total time=   0.0s\n",
      "[CV 3/3] END max_depth=1, min_samples_leaf=2, min_samples_split=4, n_estimators=10; total time=   0.0s\n",
      "[CV 1/3] END max_depth=1, min_samples_leaf=2, min_samples_split=4, n_estimators=20; total time=   0.0s\n",
      "[CV 2/3] END max_depth=1, min_samples_leaf=2, min_samples_split=4, n_estimators=20; total time=   0.1s\n",
      "[CV 3/3] END max_depth=1, min_samples_leaf=2, min_samples_split=4, n_estimators=20; total time=   0.1s\n",
      "[CV 1/3] END max_depth=1, min_samples_leaf=2, min_samples_split=4, n_estimators=30; total time=   0.1s\n",
      "[CV 2/3] END max_depth=1, min_samples_leaf=2, min_samples_split=4, n_estimators=30; total time=   0.1s\n",
      "[CV 3/3] END max_depth=1, min_samples_leaf=2, min_samples_split=4, n_estimators=30; total time=   0.2s\n",
      "[CV 1/3] END max_depth=1, min_samples_leaf=2, min_samples_split=4, n_estimators=40; total time=   0.1s\n",
      "[CV 2/3] END max_depth=1, min_samples_leaf=2, min_samples_split=4, n_estimators=40; total time=   0.1s\n",
      "[CV 3/3] END max_depth=1, min_samples_leaf=2, min_samples_split=4, n_estimators=40; total time=   0.2s\n",
      "[CV 1/3] END max_depth=1, min_samples_leaf=2, min_samples_split=6, n_estimators=10; total time=   0.0s\n",
      "[CV 2/3] END max_depth=1, min_samples_leaf=2, min_samples_split=6, n_estimators=10; total time=   0.0s\n",
      "[CV 3/3] END max_depth=1, min_samples_leaf=2, min_samples_split=6, n_estimators=10; total time=   0.0s\n",
      "[CV 1/3] END max_depth=1, min_samples_leaf=2, min_samples_split=6, n_estimators=20; total time=   0.1s\n",
      "[CV 2/3] END max_depth=1, min_samples_leaf=2, min_samples_split=6, n_estimators=20; total time=   0.1s\n",
      "[CV 3/3] END max_depth=1, min_samples_leaf=2, min_samples_split=6, n_estimators=20; total time=   0.1s\n",
      "[CV 1/3] END max_depth=1, min_samples_leaf=2, min_samples_split=6, n_estimators=30; total time=   0.1s\n",
      "[CV 2/3] END max_depth=1, min_samples_leaf=2, min_samples_split=6, n_estimators=30; total time=   0.1s\n",
      "[CV 3/3] END max_depth=1, min_samples_leaf=2, min_samples_split=6, n_estimators=30; total time=   0.1s\n",
      "[CV 1/3] END max_depth=1, min_samples_leaf=2, min_samples_split=6, n_estimators=40; total time=   0.1s\n",
      "[CV 2/3] END max_depth=1, min_samples_leaf=2, min_samples_split=6, n_estimators=40; total time=   0.1s\n",
      "[CV 3/3] END max_depth=1, min_samples_leaf=2, min_samples_split=6, n_estimators=40; total time=   0.2s\n",
      "[CV 1/3] END max_depth=1, min_samples_leaf=3, min_samples_split=2, n_estimators=10; total time=   0.0s\n",
      "[CV 2/3] END max_depth=1, min_samples_leaf=3, min_samples_split=2, n_estimators=10; total time=   0.0s\n",
      "[CV 3/3] END max_depth=1, min_samples_leaf=3, min_samples_split=2, n_estimators=10; total time=   0.0s\n",
      "[CV 1/3] END max_depth=1, min_samples_leaf=3, min_samples_split=2, n_estimators=20; total time=   0.1s\n",
      "[CV 2/3] END max_depth=1, min_samples_leaf=3, min_samples_split=2, n_estimators=20; total time=   0.1s\n",
      "[CV 3/3] END max_depth=1, min_samples_leaf=3, min_samples_split=2, n_estimators=20; total time=   0.1s\n",
      "[CV 1/3] END max_depth=1, min_samples_leaf=3, min_samples_split=2, n_estimators=30; total time=   0.1s\n",
      "[CV 2/3] END max_depth=1, min_samples_leaf=3, min_samples_split=2, n_estimators=30; total time=   0.1s\n",
      "[CV 3/3] END max_depth=1, min_samples_leaf=3, min_samples_split=2, n_estimators=30; total time=   0.1s\n",
      "[CV 1/3] END max_depth=1, min_samples_leaf=3, min_samples_split=2, n_estimators=40; total time=   0.1s\n",
      "[CV 2/3] END max_depth=1, min_samples_leaf=3, min_samples_split=2, n_estimators=40; total time=   0.1s\n",
      "[CV 3/3] END max_depth=1, min_samples_leaf=3, min_samples_split=2, n_estimators=40; total time=   0.2s\n",
      "[CV 1/3] END max_depth=1, min_samples_leaf=3, min_samples_split=4, n_estimators=10; total time=   0.0s\n",
      "[CV 2/3] END max_depth=1, min_samples_leaf=3, min_samples_split=4, n_estimators=10; total time=   0.0s\n",
      "[CV 3/3] END max_depth=1, min_samples_leaf=3, min_samples_split=4, n_estimators=10; total time=   0.0s\n",
      "[CV 1/3] END max_depth=1, min_samples_leaf=3, min_samples_split=4, n_estimators=20; total time=   0.1s\n",
      "[CV 2/3] END max_depth=1, min_samples_leaf=3, min_samples_split=4, n_estimators=20; total time=   0.1s\n",
      "[CV 3/3] END max_depth=1, min_samples_leaf=3, min_samples_split=4, n_estimators=20; total time=   0.1s\n",
      "[CV 1/3] END max_depth=1, min_samples_leaf=3, min_samples_split=4, n_estimators=30; total time=   0.1s\n",
      "[CV 2/3] END max_depth=1, min_samples_leaf=3, min_samples_split=4, n_estimators=30; total time=   0.1s\n",
      "[CV 3/3] END max_depth=1, min_samples_leaf=3, min_samples_split=4, n_estimators=30; total time=   0.1s\n",
      "[CV 1/3] END max_depth=1, min_samples_leaf=3, min_samples_split=4, n_estimators=40; total time=   0.1s\n",
      "[CV 2/3] END max_depth=1, min_samples_leaf=3, min_samples_split=4, n_estimators=40; total time=   0.1s\n",
      "[CV 3/3] END max_depth=1, min_samples_leaf=3, min_samples_split=4, n_estimators=40; total time=   0.2s\n",
      "[CV 1/3] END max_depth=1, min_samples_leaf=3, min_samples_split=6, n_estimators=10; total time=   0.0s\n",
      "[CV 2/3] END max_depth=1, min_samples_leaf=3, min_samples_split=6, n_estimators=10; total time=   0.0s\n",
      "[CV 3/3] END max_depth=1, min_samples_leaf=3, min_samples_split=6, n_estimators=10; total time=   0.1s\n",
      "[CV 1/3] END max_depth=1, min_samples_leaf=3, min_samples_split=6, n_estimators=20; total time=   0.0s\n",
      "[CV 2/3] END max_depth=1, min_samples_leaf=3, min_samples_split=6, n_estimators=20; total time=   0.1s\n",
      "[CV 3/3] END max_depth=1, min_samples_leaf=3, min_samples_split=6, n_estimators=20; total time=   0.1s\n",
      "[CV 1/3] END max_depth=1, min_samples_leaf=3, min_samples_split=6, n_estimators=30; total time=   0.1s\n",
      "[CV 2/3] END max_depth=1, min_samples_leaf=3, min_samples_split=6, n_estimators=30; total time=   0.1s\n",
      "[CV 3/3] END max_depth=1, min_samples_leaf=3, min_samples_split=6, n_estimators=30; total time=   0.1s\n",
      "[CV 1/3] END max_depth=1, min_samples_leaf=3, min_samples_split=6, n_estimators=40; total time=   0.1s\n",
      "[CV 2/3] END max_depth=1, min_samples_leaf=3, min_samples_split=6, n_estimators=40; total time=   0.1s\n",
      "[CV 3/3] END max_depth=1, min_samples_leaf=3, min_samples_split=6, n_estimators=40; total time=   0.2s\n",
      "[CV 1/3] END max_depth=1, min_samples_leaf=4, min_samples_split=2, n_estimators=10; total time=   0.0s\n",
      "[CV 2/3] END max_depth=1, min_samples_leaf=4, min_samples_split=2, n_estimators=10; total time=   0.0s\n",
      "[CV 3/3] END max_depth=1, min_samples_leaf=4, min_samples_split=2, n_estimators=10; total time=   0.1s\n",
      "[CV 1/3] END max_depth=1, min_samples_leaf=4, min_samples_split=2, n_estimators=20; total time=   0.0s\n",
      "[CV 2/3] END max_depth=1, min_samples_leaf=4, min_samples_split=2, n_estimators=20; total time=   0.1s\n",
      "[CV 3/3] END max_depth=1, min_samples_leaf=4, min_samples_split=2, n_estimators=20; total time=   0.1s\n",
      "[CV 1/3] END max_depth=1, min_samples_leaf=4, min_samples_split=2, n_estimators=30; total time=   0.1s\n",
      "[CV 2/3] END max_depth=1, min_samples_leaf=4, min_samples_split=2, n_estimators=30; total time=   0.1s\n",
      "[CV 3/3] END max_depth=1, min_samples_leaf=4, min_samples_split=2, n_estimators=30; total time=   0.1s\n",
      "[CV 1/3] END max_depth=1, min_samples_leaf=4, min_samples_split=2, n_estimators=40; total time=   0.1s\n",
      "[CV 2/3] END max_depth=1, min_samples_leaf=4, min_samples_split=2, n_estimators=40; total time=   0.1s\n",
      "[CV 3/3] END max_depth=1, min_samples_leaf=4, min_samples_split=2, n_estimators=40; total time=   0.2s\n",
      "[CV 1/3] END max_depth=1, min_samples_leaf=4, min_samples_split=4, n_estimators=10; total time=   0.0s\n",
      "[CV 2/3] END max_depth=1, min_samples_leaf=4, min_samples_split=4, n_estimators=10; total time=   0.0s\n",
      "[CV 3/3] END max_depth=1, min_samples_leaf=4, min_samples_split=4, n_estimators=10; total time=   0.1s\n",
      "[CV 1/3] END max_depth=1, min_samples_leaf=4, min_samples_split=4, n_estimators=20; total time=   0.1s\n",
      "[CV 2/3] END max_depth=1, min_samples_leaf=4, min_samples_split=4, n_estimators=20; total time=   0.1s\n",
      "[CV 3/3] END max_depth=1, min_samples_leaf=4, min_samples_split=4, n_estimators=20; total time=   0.1s\n",
      "[CV 1/3] END max_depth=1, min_samples_leaf=4, min_samples_split=4, n_estimators=30; total time=   0.1s\n",
      "[CV 2/3] END max_depth=1, min_samples_leaf=4, min_samples_split=4, n_estimators=30; total time=   0.1s\n",
      "[CV 3/3] END max_depth=1, min_samples_leaf=4, min_samples_split=4, n_estimators=30; total time=   0.1s\n",
      "[CV 1/3] END max_depth=1, min_samples_leaf=4, min_samples_split=4, n_estimators=40; total time=   0.1s\n",
      "[CV 2/3] END max_depth=1, min_samples_leaf=4, min_samples_split=4, n_estimators=40; total time=   0.1s\n",
      "[CV 3/3] END max_depth=1, min_samples_leaf=4, min_samples_split=4, n_estimators=40; total time=   0.2s\n",
      "[CV 1/3] END max_depth=1, min_samples_leaf=4, min_samples_split=6, n_estimators=10; total time=   0.0s\n",
      "[CV 2/3] END max_depth=1, min_samples_leaf=4, min_samples_split=6, n_estimators=10; total time=   0.0s\n",
      "[CV 3/3] END max_depth=1, min_samples_leaf=4, min_samples_split=6, n_estimators=10; total time=   0.0s\n",
      "[CV 1/3] END max_depth=1, min_samples_leaf=4, min_samples_split=6, n_estimators=20; total time=   0.0s\n",
      "[CV 2/3] END max_depth=1, min_samples_leaf=4, min_samples_split=6, n_estimators=20; total time=   0.1s\n",
      "[CV 3/3] END max_depth=1, min_samples_leaf=4, min_samples_split=6, n_estimators=20; total time=   0.1s\n",
      "[CV 1/3] END max_depth=1, min_samples_leaf=4, min_samples_split=6, n_estimators=30; total time=   0.1s\n",
      "[CV 2/3] END max_depth=1, min_samples_leaf=4, min_samples_split=6, n_estimators=30; total time=   0.1s\n",
      "[CV 3/3] END max_depth=1, min_samples_leaf=4, min_samples_split=6, n_estimators=30; total time=   0.1s\n",
      "[CV 1/3] END max_depth=1, min_samples_leaf=4, min_samples_split=6, n_estimators=40; total time=   0.1s\n",
      "[CV 2/3] END max_depth=1, min_samples_leaf=4, min_samples_split=6, n_estimators=40; total time=   0.1s\n",
      "[CV 3/3] END max_depth=1, min_samples_leaf=4, min_samples_split=6, n_estimators=40; total time=   0.1s\n",
      "[CV 1/3] END max_depth=1, min_samples_leaf=5, min_samples_split=2, n_estimators=10; total time=   0.0s\n",
      "[CV 2/3] END max_depth=1, min_samples_leaf=5, min_samples_split=2, n_estimators=10; total time=   0.0s\n",
      "[CV 3/3] END max_depth=1, min_samples_leaf=5, min_samples_split=2, n_estimators=10; total time=   0.0s\n",
      "[CV 1/3] END max_depth=1, min_samples_leaf=5, min_samples_split=2, n_estimators=20; total time=   0.0s\n",
      "[CV 2/3] END max_depth=1, min_samples_leaf=5, min_samples_split=2, n_estimators=20; total time=   0.1s\n",
      "[CV 3/3] END max_depth=1, min_samples_leaf=5, min_samples_split=2, n_estimators=20; total time=   0.1s\n",
      "[CV 1/3] END max_depth=1, min_samples_leaf=5, min_samples_split=2, n_estimators=30; total time=   0.1s\n",
      "[CV 2/3] END max_depth=1, min_samples_leaf=5, min_samples_split=2, n_estimators=30; total time=   0.1s\n",
      "[CV 3/3] END max_depth=1, min_samples_leaf=5, min_samples_split=2, n_estimators=30; total time=   0.1s\n",
      "[CV 1/3] END max_depth=1, min_samples_leaf=5, min_samples_split=2, n_estimators=40; total time=   0.1s\n",
      "[CV 2/3] END max_depth=1, min_samples_leaf=5, min_samples_split=2, n_estimators=40; total time=   0.1s\n",
      "[CV 3/3] END max_depth=1, min_samples_leaf=5, min_samples_split=2, n_estimators=40; total time=   0.1s\n",
      "[CV 1/3] END max_depth=1, min_samples_leaf=5, min_samples_split=4, n_estimators=10; total time=   0.0s\n",
      "[CV 2/3] END max_depth=1, min_samples_leaf=5, min_samples_split=4, n_estimators=10; total time=   0.0s\n",
      "[CV 3/3] END max_depth=1, min_samples_leaf=5, min_samples_split=4, n_estimators=10; total time=   0.0s\n",
      "[CV 1/3] END max_depth=1, min_samples_leaf=5, min_samples_split=4, n_estimators=20; total time=   0.0s\n",
      "[CV 2/3] END max_depth=1, min_samples_leaf=5, min_samples_split=4, n_estimators=20; total time=   0.1s\n",
      "[CV 3/3] END max_depth=1, min_samples_leaf=5, min_samples_split=4, n_estimators=20; total time=   0.1s\n",
      "[CV 1/3] END max_depth=1, min_samples_leaf=5, min_samples_split=4, n_estimators=30; total time=   0.1s\n",
      "[CV 2/3] END max_depth=1, min_samples_leaf=5, min_samples_split=4, n_estimators=30; total time=   0.1s\n",
      "[CV 3/3] END max_depth=1, min_samples_leaf=5, min_samples_split=4, n_estimators=30; total time=   0.1s\n",
      "[CV 1/3] END max_depth=1, min_samples_leaf=5, min_samples_split=4, n_estimators=40; total time=   0.1s\n",
      "[CV 2/3] END max_depth=1, min_samples_leaf=5, min_samples_split=4, n_estimators=40; total time=   0.1s\n",
      "[CV 3/3] END max_depth=1, min_samples_leaf=5, min_samples_split=4, n_estimators=40; total time=   0.1s\n",
      "[CV 1/3] END max_depth=1, min_samples_leaf=5, min_samples_split=6, n_estimators=10; total time=   0.0s\n",
      "[CV 2/3] END max_depth=1, min_samples_leaf=5, min_samples_split=6, n_estimators=10; total time=   0.0s\n",
      "[CV 3/3] END max_depth=1, min_samples_leaf=5, min_samples_split=6, n_estimators=10; total time=   0.0s\n",
      "[CV 1/3] END max_depth=1, min_samples_leaf=5, min_samples_split=6, n_estimators=20; total time=   0.0s\n",
      "[CV 2/3] END max_depth=1, min_samples_leaf=5, min_samples_split=6, n_estimators=20; total time=   0.1s\n",
      "[CV 3/3] END max_depth=1, min_samples_leaf=5, min_samples_split=6, n_estimators=20; total time=   0.1s\n",
      "[CV 1/3] END max_depth=1, min_samples_leaf=5, min_samples_split=6, n_estimators=30; total time=   0.1s\n",
      "[CV 2/3] END max_depth=1, min_samples_leaf=5, min_samples_split=6, n_estimators=30; total time=   0.1s\n",
      "[CV 3/3] END max_depth=1, min_samples_leaf=5, min_samples_split=6, n_estimators=30; total time=   0.1s\n",
      "[CV 1/3] END max_depth=1, min_samples_leaf=5, min_samples_split=6, n_estimators=40; total time=   0.1s\n",
      "[CV 2/3] END max_depth=1, min_samples_leaf=5, min_samples_split=6, n_estimators=40; total time=   0.1s\n",
      "[CV 3/3] END max_depth=1, min_samples_leaf=5, min_samples_split=6, n_estimators=40; total time=   0.1s\n",
      "[CV 1/3] END max_depth=1, min_samples_leaf=6, min_samples_split=2, n_estimators=10; total time=   0.0s\n",
      "[CV 2/3] END max_depth=1, min_samples_leaf=6, min_samples_split=2, n_estimators=10; total time=   0.0s\n",
      "[CV 3/3] END max_depth=1, min_samples_leaf=6, min_samples_split=2, n_estimators=10; total time=   0.0s\n",
      "[CV 1/3] END max_depth=1, min_samples_leaf=6, min_samples_split=2, n_estimators=20; total time=   0.0s\n",
      "[CV 2/3] END max_depth=1, min_samples_leaf=6, min_samples_split=2, n_estimators=20; total time=   0.1s\n",
      "[CV 3/3] END max_depth=1, min_samples_leaf=6, min_samples_split=2, n_estimators=20; total time=   0.1s\n",
      "[CV 1/3] END max_depth=1, min_samples_leaf=6, min_samples_split=2, n_estimators=30; total time=   0.1s\n",
      "[CV 2/3] END max_depth=1, min_samples_leaf=6, min_samples_split=2, n_estimators=30; total time=   0.1s\n",
      "[CV 3/3] END max_depth=1, min_samples_leaf=6, min_samples_split=2, n_estimators=30; total time=   0.1s\n",
      "[CV 1/3] END max_depth=1, min_samples_leaf=6, min_samples_split=2, n_estimators=40; total time=   0.1s\n",
      "[CV 2/3] END max_depth=1, min_samples_leaf=6, min_samples_split=2, n_estimators=40; total time=   0.1s\n",
      "[CV 3/3] END max_depth=1, min_samples_leaf=6, min_samples_split=2, n_estimators=40; total time=   0.1s\n",
      "[CV 1/3] END max_depth=1, min_samples_leaf=6, min_samples_split=4, n_estimators=10; total time=   0.0s\n",
      "[CV 2/3] END max_depth=1, min_samples_leaf=6, min_samples_split=4, n_estimators=10; total time=   0.0s\n",
      "[CV 3/3] END max_depth=1, min_samples_leaf=6, min_samples_split=4, n_estimators=10; total time=   0.0s\n",
      "[CV 1/3] END max_depth=1, min_samples_leaf=6, min_samples_split=4, n_estimators=20; total time=   0.0s\n",
      "[CV 2/3] END max_depth=1, min_samples_leaf=6, min_samples_split=4, n_estimators=20; total time=   0.1s\n",
      "[CV 3/3] END max_depth=1, min_samples_leaf=6, min_samples_split=4, n_estimators=20; total time=   0.1s\n",
      "[CV 1/3] END max_depth=1, min_samples_leaf=6, min_samples_split=4, n_estimators=30; total time=   0.1s\n",
      "[CV 2/3] END max_depth=1, min_samples_leaf=6, min_samples_split=4, n_estimators=30; total time=   0.1s\n",
      "[CV 3/3] END max_depth=1, min_samples_leaf=6, min_samples_split=4, n_estimators=30; total time=   0.1s\n",
      "[CV 1/3] END max_depth=1, min_samples_leaf=6, min_samples_split=4, n_estimators=40; total time=   0.1s\n",
      "[CV 2/3] END max_depth=1, min_samples_leaf=6, min_samples_split=4, n_estimators=40; total time=   0.1s\n",
      "[CV 3/3] END max_depth=1, min_samples_leaf=6, min_samples_split=4, n_estimators=40; total time=   0.1s\n",
      "[CV 1/3] END max_depth=1, min_samples_leaf=6, min_samples_split=6, n_estimators=10; total time=   0.0s\n",
      "[CV 2/3] END max_depth=1, min_samples_leaf=6, min_samples_split=6, n_estimators=10; total time=   0.0s\n",
      "[CV 3/3] END max_depth=1, min_samples_leaf=6, min_samples_split=6, n_estimators=10; total time=   0.1s\n",
      "[CV 1/3] END max_depth=1, min_samples_leaf=6, min_samples_split=6, n_estimators=20; total time=   0.1s\n",
      "[CV 2/3] END max_depth=1, min_samples_leaf=6, min_samples_split=6, n_estimators=20; total time=   0.1s\n",
      "[CV 3/3] END max_depth=1, min_samples_leaf=6, min_samples_split=6, n_estimators=20; total time=   0.1s\n",
      "[CV 1/3] END max_depth=1, min_samples_leaf=6, min_samples_split=6, n_estimators=30; total time=   0.1s\n",
      "[CV 2/3] END max_depth=1, min_samples_leaf=6, min_samples_split=6, n_estimators=30; total time=   0.1s\n",
      "[CV 3/3] END max_depth=1, min_samples_leaf=6, min_samples_split=6, n_estimators=30; total time=   0.1s\n",
      "[CV 1/3] END max_depth=1, min_samples_leaf=6, min_samples_split=6, n_estimators=40; total time=   0.1s\n",
      "[CV 2/3] END max_depth=1, min_samples_leaf=6, min_samples_split=6, n_estimators=40; total time=   0.1s\n",
      "[CV 3/3] END max_depth=1, min_samples_leaf=6, min_samples_split=6, n_estimators=40; total time=   0.2s\n",
      "[CV 1/3] END max_depth=1, min_samples_leaf=7, min_samples_split=2, n_estimators=10; total time=   0.0s\n",
      "[CV 2/3] END max_depth=1, min_samples_leaf=7, min_samples_split=2, n_estimators=10; total time=   0.0s\n",
      "[CV 3/3] END max_depth=1, min_samples_leaf=7, min_samples_split=2, n_estimators=10; total time=   0.0s\n",
      "[CV 1/3] END max_depth=1, min_samples_leaf=7, min_samples_split=2, n_estimators=20; total time=   0.0s\n",
      "[CV 2/3] END max_depth=1, min_samples_leaf=7, min_samples_split=2, n_estimators=20; total time=   0.1s\n",
      "[CV 3/3] END max_depth=1, min_samples_leaf=7, min_samples_split=2, n_estimators=20; total time=   0.1s\n",
      "[CV 1/3] END max_depth=1, min_samples_leaf=7, min_samples_split=2, n_estimators=30; total time=   0.1s\n",
      "[CV 2/3] END max_depth=1, min_samples_leaf=7, min_samples_split=2, n_estimators=30; total time=   0.1s\n",
      "[CV 3/3] END max_depth=1, min_samples_leaf=7, min_samples_split=2, n_estimators=30; total time=   0.1s\n",
      "[CV 1/3] END max_depth=1, min_samples_leaf=7, min_samples_split=2, n_estimators=40; total time=   0.1s\n",
      "[CV 2/3] END max_depth=1, min_samples_leaf=7, min_samples_split=2, n_estimators=40; total time=   0.1s\n",
      "[CV 3/3] END max_depth=1, min_samples_leaf=7, min_samples_split=2, n_estimators=40; total time=   0.1s\n",
      "[CV 1/3] END max_depth=1, min_samples_leaf=7, min_samples_split=4, n_estimators=10; total time=   0.0s\n",
      "[CV 2/3] END max_depth=1, min_samples_leaf=7, min_samples_split=4, n_estimators=10; total time=   0.0s\n",
      "[CV 3/3] END max_depth=1, min_samples_leaf=7, min_samples_split=4, n_estimators=10; total time=   0.0s\n",
      "[CV 1/3] END max_depth=1, min_samples_leaf=7, min_samples_split=4, n_estimators=20; total time=   0.0s\n",
      "[CV 2/3] END max_depth=1, min_samples_leaf=7, min_samples_split=4, n_estimators=20; total time=   0.1s\n",
      "[CV 3/3] END max_depth=1, min_samples_leaf=7, min_samples_split=4, n_estimators=20; total time=   0.1s\n",
      "[CV 1/3] END max_depth=1, min_samples_leaf=7, min_samples_split=4, n_estimators=30; total time=   0.1s\n",
      "[CV 2/3] END max_depth=1, min_samples_leaf=7, min_samples_split=4, n_estimators=30; total time=   0.1s\n",
      "[CV 3/3] END max_depth=1, min_samples_leaf=7, min_samples_split=4, n_estimators=30; total time=   0.1s\n",
      "[CV 1/3] END max_depth=1, min_samples_leaf=7, min_samples_split=4, n_estimators=40; total time=   0.1s\n",
      "[CV 2/3] END max_depth=1, min_samples_leaf=7, min_samples_split=4, n_estimators=40; total time=   0.1s\n",
      "[CV 3/3] END max_depth=1, min_samples_leaf=7, min_samples_split=4, n_estimators=40; total time=   0.2s\n",
      "[CV 1/3] END max_depth=1, min_samples_leaf=7, min_samples_split=6, n_estimators=10; total time=   0.0s\n",
      "[CV 2/3] END max_depth=1, min_samples_leaf=7, min_samples_split=6, n_estimators=10; total time=   0.0s\n",
      "[CV 3/3] END max_depth=1, min_samples_leaf=7, min_samples_split=6, n_estimators=10; total time=   0.0s\n",
      "[CV 1/3] END max_depth=1, min_samples_leaf=7, min_samples_split=6, n_estimators=20; total time=   0.0s\n",
      "[CV 2/3] END max_depth=1, min_samples_leaf=7, min_samples_split=6, n_estimators=20; total time=   0.1s\n",
      "[CV 3/3] END max_depth=1, min_samples_leaf=7, min_samples_split=6, n_estimators=20; total time=   0.1s\n",
      "[CV 1/3] END max_depth=1, min_samples_leaf=7, min_samples_split=6, n_estimators=30; total time=   0.1s\n",
      "[CV 2/3] END max_depth=1, min_samples_leaf=7, min_samples_split=6, n_estimators=30; total time=   0.1s\n",
      "[CV 3/3] END max_depth=1, min_samples_leaf=7, min_samples_split=6, n_estimators=30; total time=   0.1s\n",
      "[CV 1/3] END max_depth=1, min_samples_leaf=7, min_samples_split=6, n_estimators=40; total time=   0.1s\n",
      "[CV 2/3] END max_depth=1, min_samples_leaf=7, min_samples_split=6, n_estimators=40; total time=   0.1s\n",
      "[CV 3/3] END max_depth=1, min_samples_leaf=7, min_samples_split=6, n_estimators=40; total time=   0.2s\n",
      "[CV 1/3] END max_depth=3, min_samples_leaf=1, min_samples_split=2, n_estimators=10; total time=   0.0s\n",
      "[CV 2/3] END max_depth=3, min_samples_leaf=1, min_samples_split=2, n_estimators=10; total time=   0.1s\n",
      "[CV 3/3] END max_depth=3, min_samples_leaf=1, min_samples_split=2, n_estimators=10; total time=   0.1s\n",
      "[CV 1/3] END max_depth=3, min_samples_leaf=1, min_samples_split=2, n_estimators=20; total time=   0.1s\n",
      "[CV 2/3] END max_depth=3, min_samples_leaf=1, min_samples_split=2, n_estimators=20; total time=   0.1s\n",
      "[CV 3/3] END max_depth=3, min_samples_leaf=1, min_samples_split=2, n_estimators=20; total time=   0.2s\n",
      "[CV 1/3] END max_depth=3, min_samples_leaf=1, min_samples_split=2, n_estimators=30; total time=   0.1s\n",
      "[CV 2/3] END max_depth=3, min_samples_leaf=1, min_samples_split=2, n_estimators=30; total time=   0.2s\n",
      "[CV 3/3] END max_depth=3, min_samples_leaf=1, min_samples_split=2, n_estimators=30; total time=   0.3s\n",
      "[CV 1/3] END max_depth=3, min_samples_leaf=1, min_samples_split=2, n_estimators=40; total time=   0.2s\n",
      "[CV 2/3] END max_depth=3, min_samples_leaf=1, min_samples_split=2, n_estimators=40; total time=   0.3s\n",
      "[CV 3/3] END max_depth=3, min_samples_leaf=1, min_samples_split=2, n_estimators=40; total time=   0.4s\n",
      "[CV 1/3] END max_depth=3, min_samples_leaf=1, min_samples_split=4, n_estimators=10; total time=   0.1s\n",
      "[CV 2/3] END max_depth=3, min_samples_leaf=1, min_samples_split=4, n_estimators=10; total time=   0.1s\n",
      "[CV 3/3] END max_depth=3, min_samples_leaf=1, min_samples_split=4, n_estimators=10; total time=   0.1s\n",
      "[CV 1/3] END max_depth=3, min_samples_leaf=1, min_samples_split=4, n_estimators=20; total time=   0.1s\n",
      "[CV 2/3] END max_depth=3, min_samples_leaf=1, min_samples_split=4, n_estimators=20; total time=   0.2s\n",
      "[CV 3/3] END max_depth=3, min_samples_leaf=1, min_samples_split=4, n_estimators=20; total time=   0.2s\n",
      "[CV 1/3] END max_depth=3, min_samples_leaf=1, min_samples_split=4, n_estimators=30; total time=   0.1s\n",
      "[CV 2/3] END max_depth=3, min_samples_leaf=1, min_samples_split=4, n_estimators=30; total time=   0.2s\n",
      "[CV 3/3] END max_depth=3, min_samples_leaf=1, min_samples_split=4, n_estimators=30; total time=   0.3s\n",
      "[CV 1/3] END max_depth=3, min_samples_leaf=1, min_samples_split=4, n_estimators=40; total time=   0.2s\n",
      "[CV 2/3] END max_depth=3, min_samples_leaf=1, min_samples_split=4, n_estimators=40; total time=   0.3s\n",
      "[CV 3/3] END max_depth=3, min_samples_leaf=1, min_samples_split=4, n_estimators=40; total time=   0.4s\n",
      "[CV 1/3] END max_depth=3, min_samples_leaf=1, min_samples_split=6, n_estimators=10; total time=   0.1s\n",
      "[CV 2/3] END max_depth=3, min_samples_leaf=1, min_samples_split=6, n_estimators=10; total time=   0.1s\n",
      "[CV 3/3] END max_depth=3, min_samples_leaf=1, min_samples_split=6, n_estimators=10; total time=   0.1s\n",
      "[CV 1/3] END max_depth=3, min_samples_leaf=1, min_samples_split=6, n_estimators=20; total time=   0.1s\n",
      "[CV 2/3] END max_depth=3, min_samples_leaf=1, min_samples_split=6, n_estimators=20; total time=   0.1s\n",
      "[CV 3/3] END max_depth=3, min_samples_leaf=1, min_samples_split=6, n_estimators=20; total time=   0.2s\n",
      "[CV 1/3] END max_depth=3, min_samples_leaf=1, min_samples_split=6, n_estimators=30; total time=   0.1s\n",
      "[CV 2/3] END max_depth=3, min_samples_leaf=1, min_samples_split=6, n_estimators=30; total time=   0.2s\n",
      "[CV 3/3] END max_depth=3, min_samples_leaf=1, min_samples_split=6, n_estimators=30; total time=   0.3s\n",
      "[CV 1/3] END max_depth=3, min_samples_leaf=1, min_samples_split=6, n_estimators=40; total time=   0.2s\n",
      "[CV 2/3] END max_depth=3, min_samples_leaf=1, min_samples_split=6, n_estimators=40; total time=   0.2s\n",
      "[CV 3/3] END max_depth=3, min_samples_leaf=1, min_samples_split=6, n_estimators=40; total time=   0.4s\n",
      "[CV 1/3] END max_depth=3, min_samples_leaf=2, min_samples_split=2, n_estimators=10; total time=   0.0s\n",
      "[CV 2/3] END max_depth=3, min_samples_leaf=2, min_samples_split=2, n_estimators=10; total time=   0.1s\n",
      "[CV 3/3] END max_depth=3, min_samples_leaf=2, min_samples_split=2, n_estimators=10; total time=   0.1s\n",
      "[CV 1/3] END max_depth=3, min_samples_leaf=2, min_samples_split=2, n_estimators=20; total time=   0.1s\n",
      "[CV 2/3] END max_depth=3, min_samples_leaf=2, min_samples_split=2, n_estimators=20; total time=   0.1s\n",
      "[CV 3/3] END max_depth=3, min_samples_leaf=2, min_samples_split=2, n_estimators=20; total time=   0.2s\n",
      "[CV 1/3] END max_depth=3, min_samples_leaf=2, min_samples_split=2, n_estimators=30; total time=   0.1s\n",
      "[CV 2/3] END max_depth=3, min_samples_leaf=2, min_samples_split=2, n_estimators=30; total time=   0.2s\n",
      "[CV 3/3] END max_depth=3, min_samples_leaf=2, min_samples_split=2, n_estimators=30; total time=   0.3s\n",
      "[CV 1/3] END max_depth=3, min_samples_leaf=2, min_samples_split=2, n_estimators=40; total time=   0.2s\n",
      "[CV 2/3] END max_depth=3, min_samples_leaf=2, min_samples_split=2, n_estimators=40; total time=   0.2s\n",
      "[CV 3/3] END max_depth=3, min_samples_leaf=2, min_samples_split=2, n_estimators=40; total time=   0.3s\n",
      "[CV 1/3] END max_depth=3, min_samples_leaf=2, min_samples_split=4, n_estimators=10; total time=   0.0s\n",
      "[CV 2/3] END max_depth=3, min_samples_leaf=2, min_samples_split=4, n_estimators=10; total time=   0.1s\n",
      "[CV 3/3] END max_depth=3, min_samples_leaf=2, min_samples_split=4, n_estimators=10; total time=   0.1s\n",
      "[CV 1/3] END max_depth=3, min_samples_leaf=2, min_samples_split=4, n_estimators=20; total time=   0.1s\n",
      "[CV 2/3] END max_depth=3, min_samples_leaf=2, min_samples_split=4, n_estimators=20; total time=   0.1s\n",
      "[CV 3/3] END max_depth=3, min_samples_leaf=2, min_samples_split=4, n_estimators=20; total time=   0.2s\n",
      "[CV 1/3] END max_depth=3, min_samples_leaf=2, min_samples_split=4, n_estimators=30; total time=   0.1s\n",
      "[CV 2/3] END max_depth=3, min_samples_leaf=2, min_samples_split=4, n_estimators=30; total time=   0.2s\n",
      "[CV 3/3] END max_depth=3, min_samples_leaf=2, min_samples_split=4, n_estimators=30; total time=   0.3s\n",
      "[CV 1/3] END max_depth=3, min_samples_leaf=2, min_samples_split=4, n_estimators=40; total time=   0.2s\n",
      "[CV 2/3] END max_depth=3, min_samples_leaf=2, min_samples_split=4, n_estimators=40; total time=   0.3s\n",
      "[CV 3/3] END max_depth=3, min_samples_leaf=2, min_samples_split=4, n_estimators=40; total time=   0.4s\n",
      "[CV 1/3] END max_depth=3, min_samples_leaf=2, min_samples_split=6, n_estimators=10; total time=   0.1s\n",
      "[CV 2/3] END max_depth=3, min_samples_leaf=2, min_samples_split=6, n_estimators=10; total time=   0.1s\n",
      "[CV 3/3] END max_depth=3, min_samples_leaf=2, min_samples_split=6, n_estimators=10; total time=   0.1s\n",
      "[CV 1/3] END max_depth=3, min_samples_leaf=2, min_samples_split=6, n_estimators=20; total time=   0.1s\n",
      "[CV 2/3] END max_depth=3, min_samples_leaf=2, min_samples_split=6, n_estimators=20; total time=   0.2s\n",
      "[CV 3/3] END max_depth=3, min_samples_leaf=2, min_samples_split=6, n_estimators=20; total time=   0.2s\n",
      "[CV 1/3] END max_depth=3, min_samples_leaf=2, min_samples_split=6, n_estimators=30; total time=   0.1s\n",
      "[CV 2/3] END max_depth=3, min_samples_leaf=2, min_samples_split=6, n_estimators=30; total time=   0.2s\n",
      "[CV 3/3] END max_depth=3, min_samples_leaf=2, min_samples_split=6, n_estimators=30; total time=   0.3s\n",
      "[CV 1/3] END max_depth=3, min_samples_leaf=2, min_samples_split=6, n_estimators=40; total time=   0.2s\n",
      "[CV 2/3] END max_depth=3, min_samples_leaf=2, min_samples_split=6, n_estimators=40; total time=   0.3s\n",
      "[CV 3/3] END max_depth=3, min_samples_leaf=2, min_samples_split=6, n_estimators=40; total time=   0.4s\n",
      "[CV 1/3] END max_depth=3, min_samples_leaf=3, min_samples_split=2, n_estimators=10; total time=   0.0s\n",
      "[CV 2/3] END max_depth=3, min_samples_leaf=3, min_samples_split=2, n_estimators=10; total time=   0.1s\n",
      "[CV 3/3] END max_depth=3, min_samples_leaf=3, min_samples_split=2, n_estimators=10; total time=   0.1s\n",
      "[CV 1/3] END max_depth=3, min_samples_leaf=3, min_samples_split=2, n_estimators=20; total time=   0.1s\n",
      "[CV 2/3] END max_depth=3, min_samples_leaf=3, min_samples_split=2, n_estimators=20; total time=   0.1s\n",
      "[CV 3/3] END max_depth=3, min_samples_leaf=3, min_samples_split=2, n_estimators=20; total time=   0.2s\n",
      "[CV 1/3] END max_depth=3, min_samples_leaf=3, min_samples_split=2, n_estimators=30; total time=   0.1s\n",
      "[CV 2/3] END max_depth=3, min_samples_leaf=3, min_samples_split=2, n_estimators=30; total time=   0.2s\n",
      "[CV 3/3] END max_depth=3, min_samples_leaf=3, min_samples_split=2, n_estimators=30; total time=   0.4s\n",
      "[CV 1/3] END max_depth=3, min_samples_leaf=3, min_samples_split=2, n_estimators=40; total time=   0.2s\n",
      "[CV 2/3] END max_depth=3, min_samples_leaf=3, min_samples_split=2, n_estimators=40; total time=   0.3s\n",
      "[CV 3/3] END max_depth=3, min_samples_leaf=3, min_samples_split=2, n_estimators=40; total time=   0.4s\n",
      "[CV 1/3] END max_depth=3, min_samples_leaf=3, min_samples_split=4, n_estimators=10; total time=   0.0s\n",
      "[CV 2/3] END max_depth=3, min_samples_leaf=3, min_samples_split=4, n_estimators=10; total time=   0.1s\n",
      "[CV 3/3] END max_depth=3, min_samples_leaf=3, min_samples_split=4, n_estimators=10; total time=   0.1s\n",
      "[CV 1/3] END max_depth=3, min_samples_leaf=3, min_samples_split=4, n_estimators=20; total time=   0.1s\n",
      "[CV 2/3] END max_depth=3, min_samples_leaf=3, min_samples_split=4, n_estimators=20; total time=   0.1s\n",
      "[CV 3/3] END max_depth=3, min_samples_leaf=3, min_samples_split=4, n_estimators=20; total time=   0.2s\n",
      "[CV 1/3] END max_depth=3, min_samples_leaf=3, min_samples_split=4, n_estimators=30; total time=   0.1s\n",
      "[CV 2/3] END max_depth=3, min_samples_leaf=3, min_samples_split=4, n_estimators=30; total time=   0.2s\n",
      "[CV 3/3] END max_depth=3, min_samples_leaf=3, min_samples_split=4, n_estimators=30; total time=   0.3s\n",
      "[CV 1/3] END max_depth=3, min_samples_leaf=3, min_samples_split=4, n_estimators=40; total time=   0.2s\n",
      "[CV 2/3] END max_depth=3, min_samples_leaf=3, min_samples_split=4, n_estimators=40; total time=   0.3s\n",
      "[CV 3/3] END max_depth=3, min_samples_leaf=3, min_samples_split=4, n_estimators=40; total time=   0.3s\n",
      "[CV 1/3] END max_depth=3, min_samples_leaf=3, min_samples_split=6, n_estimators=10; total time=   0.1s\n",
      "[CV 2/3] END max_depth=3, min_samples_leaf=3, min_samples_split=6, n_estimators=10; total time=   0.1s\n",
      "[CV 3/3] END max_depth=3, min_samples_leaf=3, min_samples_split=6, n_estimators=10; total time=   0.1s\n",
      "[CV 1/3] END max_depth=3, min_samples_leaf=3, min_samples_split=6, n_estimators=20; total time=   0.1s\n",
      "[CV 2/3] END max_depth=3, min_samples_leaf=3, min_samples_split=6, n_estimators=20; total time=   0.1s\n",
      "[CV 3/3] END max_depth=3, min_samples_leaf=3, min_samples_split=6, n_estimators=20; total time=   0.2s\n",
      "[CV 1/3] END max_depth=3, min_samples_leaf=3, min_samples_split=6, n_estimators=30; total time=   0.1s\n",
      "[CV 2/3] END max_depth=3, min_samples_leaf=3, min_samples_split=6, n_estimators=30; total time=   0.2s\n",
      "[CV 3/3] END max_depth=3, min_samples_leaf=3, min_samples_split=6, n_estimators=30; total time=   0.3s\n",
      "[CV 1/3] END max_depth=3, min_samples_leaf=3, min_samples_split=6, n_estimators=40; total time=   0.2s\n",
      "[CV 2/3] END max_depth=3, min_samples_leaf=3, min_samples_split=6, n_estimators=40; total time=   0.3s\n",
      "[CV 3/3] END max_depth=3, min_samples_leaf=3, min_samples_split=6, n_estimators=40; total time=   0.3s\n",
      "[CV 1/3] END max_depth=3, min_samples_leaf=4, min_samples_split=2, n_estimators=10; total time=   0.0s\n",
      "[CV 2/3] END max_depth=3, min_samples_leaf=4, min_samples_split=2, n_estimators=10; total time=   0.1s\n",
      "[CV 3/3] END max_depth=3, min_samples_leaf=4, min_samples_split=2, n_estimators=10; total time=   0.1s\n",
      "[CV 1/3] END max_depth=3, min_samples_leaf=4, min_samples_split=2, n_estimators=20; total time=   0.1s\n",
      "[CV 2/3] END max_depth=3, min_samples_leaf=4, min_samples_split=2, n_estimators=20; total time=   0.1s\n",
      "[CV 3/3] END max_depth=3, min_samples_leaf=4, min_samples_split=2, n_estimators=20; total time=   0.2s\n",
      "[CV 1/3] END max_depth=3, min_samples_leaf=4, min_samples_split=2, n_estimators=30; total time=   0.1s\n",
      "[CV 2/3] END max_depth=3, min_samples_leaf=4, min_samples_split=2, n_estimators=30; total time=   0.2s\n",
      "[CV 3/3] END max_depth=3, min_samples_leaf=4, min_samples_split=2, n_estimators=30; total time=   0.3s\n",
      "[CV 1/3] END max_depth=3, min_samples_leaf=4, min_samples_split=2, n_estimators=40; total time=   0.1s\n",
      "[CV 2/3] END max_depth=3, min_samples_leaf=4, min_samples_split=2, n_estimators=40; total time=   0.3s\n",
      "[CV 3/3] END max_depth=3, min_samples_leaf=4, min_samples_split=2, n_estimators=40; total time=   0.4s\n",
      "[CV 1/3] END max_depth=3, min_samples_leaf=4, min_samples_split=4, n_estimators=10; total time=   0.0s\n",
      "[CV 2/3] END max_depth=3, min_samples_leaf=4, min_samples_split=4, n_estimators=10; total time=   0.1s\n",
      "[CV 3/3] END max_depth=3, min_samples_leaf=4, min_samples_split=4, n_estimators=10; total time=   0.1s\n",
      "[CV 1/3] END max_depth=3, min_samples_leaf=4, min_samples_split=4, n_estimators=20; total time=   0.1s\n",
      "[CV 2/3] END max_depth=3, min_samples_leaf=4, min_samples_split=4, n_estimators=20; total time=   0.1s\n",
      "[CV 3/3] END max_depth=3, min_samples_leaf=4, min_samples_split=4, n_estimators=20; total time=   0.2s\n",
      "[CV 1/3] END max_depth=3, min_samples_leaf=4, min_samples_split=4, n_estimators=30; total time=   0.1s\n",
      "[CV 2/3] END max_depth=3, min_samples_leaf=4, min_samples_split=4, n_estimators=30; total time=   0.2s\n",
      "[CV 3/3] END max_depth=3, min_samples_leaf=4, min_samples_split=4, n_estimators=30; total time=   0.3s\n",
      "[CV 1/3] END max_depth=3, min_samples_leaf=4, min_samples_split=4, n_estimators=40; total time=   0.1s\n",
      "[CV 2/3] END max_depth=3, min_samples_leaf=4, min_samples_split=4, n_estimators=40; total time=   0.2s\n",
      "[CV 3/3] END max_depth=3, min_samples_leaf=4, min_samples_split=4, n_estimators=40; total time=   0.3s\n",
      "[CV 1/3] END max_depth=3, min_samples_leaf=4, min_samples_split=6, n_estimators=10; total time=   0.0s\n",
      "[CV 2/3] END max_depth=3, min_samples_leaf=4, min_samples_split=6, n_estimators=10; total time=   0.1s\n",
      "[CV 3/3] END max_depth=3, min_samples_leaf=4, min_samples_split=6, n_estimators=10; total time=   0.1s\n",
      "[CV 1/3] END max_depth=3, min_samples_leaf=4, min_samples_split=6, n_estimators=20; total time=   0.1s\n",
      "[CV 2/3] END max_depth=3, min_samples_leaf=4, min_samples_split=6, n_estimators=20; total time=   0.1s\n",
      "[CV 3/3] END max_depth=3, min_samples_leaf=4, min_samples_split=6, n_estimators=20; total time=   0.2s\n",
      "[CV 1/3] END max_depth=3, min_samples_leaf=4, min_samples_split=6, n_estimators=30; total time=   0.1s\n",
      "[CV 2/3] END max_depth=3, min_samples_leaf=4, min_samples_split=6, n_estimators=30; total time=   0.2s\n",
      "[CV 3/3] END max_depth=3, min_samples_leaf=4, min_samples_split=6, n_estimators=30; total time=   0.3s\n",
      "[CV 1/3] END max_depth=3, min_samples_leaf=4, min_samples_split=6, n_estimators=40; total time=   0.1s\n",
      "[CV 2/3] END max_depth=3, min_samples_leaf=4, min_samples_split=6, n_estimators=40; total time=   0.2s\n",
      "[CV 3/3] END max_depth=3, min_samples_leaf=4, min_samples_split=6, n_estimators=40; total time=   0.3s\n",
      "[CV 1/3] END max_depth=3, min_samples_leaf=5, min_samples_split=2, n_estimators=10; total time=   0.0s\n",
      "[CV 2/3] END max_depth=3, min_samples_leaf=5, min_samples_split=2, n_estimators=10; total time=   0.1s\n",
      "[CV 3/3] END max_depth=3, min_samples_leaf=5, min_samples_split=2, n_estimators=10; total time=   0.1s\n",
      "[CV 1/3] END max_depth=3, min_samples_leaf=5, min_samples_split=2, n_estimators=20; total time=   0.1s\n",
      "[CV 2/3] END max_depth=3, min_samples_leaf=5, min_samples_split=2, n_estimators=20; total time=   0.1s\n",
      "[CV 3/3] END max_depth=3, min_samples_leaf=5, min_samples_split=2, n_estimators=20; total time=   0.2s\n",
      "[CV 1/3] END max_depth=3, min_samples_leaf=5, min_samples_split=2, n_estimators=30; total time=   0.1s\n",
      "[CV 2/3] END max_depth=3, min_samples_leaf=5, min_samples_split=2, n_estimators=30; total time=   0.2s\n",
      "[CV 3/3] END max_depth=3, min_samples_leaf=5, min_samples_split=2, n_estimators=30; total time=   0.3s\n",
      "[CV 1/3] END max_depth=3, min_samples_leaf=5, min_samples_split=2, n_estimators=40; total time=   0.2s\n",
      "[CV 2/3] END max_depth=3, min_samples_leaf=5, min_samples_split=2, n_estimators=40; total time=   0.2s\n",
      "[CV 3/3] END max_depth=3, min_samples_leaf=5, min_samples_split=2, n_estimators=40; total time=   0.3s\n",
      "[CV 1/3] END max_depth=3, min_samples_leaf=5, min_samples_split=4, n_estimators=10; total time=   0.0s\n",
      "[CV 2/3] END max_depth=3, min_samples_leaf=5, min_samples_split=4, n_estimators=10; total time=   0.1s\n",
      "[CV 3/3] END max_depth=3, min_samples_leaf=5, min_samples_split=4, n_estimators=10; total time=   0.1s\n",
      "[CV 1/3] END max_depth=3, min_samples_leaf=5, min_samples_split=4, n_estimators=20; total time=   0.1s\n",
      "[CV 2/3] END max_depth=3, min_samples_leaf=5, min_samples_split=4, n_estimators=20; total time=   0.1s\n",
      "[CV 3/3] END max_depth=3, min_samples_leaf=5, min_samples_split=4, n_estimators=20; total time=   0.2s\n",
      "[CV 1/3] END max_depth=3, min_samples_leaf=5, min_samples_split=4, n_estimators=30; total time=   0.1s\n",
      "[CV 2/3] END max_depth=3, min_samples_leaf=5, min_samples_split=4, n_estimators=30; total time=   0.2s\n",
      "[CV 3/3] END max_depth=3, min_samples_leaf=5, min_samples_split=4, n_estimators=30; total time=   0.2s\n",
      "[CV 1/3] END max_depth=3, min_samples_leaf=5, min_samples_split=4, n_estimators=40; total time=   0.1s\n",
      "[CV 2/3] END max_depth=3, min_samples_leaf=5, min_samples_split=4, n_estimators=40; total time=   0.2s\n",
      "[CV 3/3] END max_depth=3, min_samples_leaf=5, min_samples_split=4, n_estimators=40; total time=   0.3s\n",
      "[CV 1/3] END max_depth=3, min_samples_leaf=5, min_samples_split=6, n_estimators=10; total time=   0.0s\n",
      "[CV 2/3] END max_depth=3, min_samples_leaf=5, min_samples_split=6, n_estimators=10; total time=   0.1s\n",
      "[CV 3/3] END max_depth=3, min_samples_leaf=5, min_samples_split=6, n_estimators=10; total time=   0.1s\n",
      "[CV 1/3] END max_depth=3, min_samples_leaf=5, min_samples_split=6, n_estimators=20; total time=   0.1s\n",
      "[CV 2/3] END max_depth=3, min_samples_leaf=5, min_samples_split=6, n_estimators=20; total time=   0.1s\n",
      "[CV 3/3] END max_depth=3, min_samples_leaf=5, min_samples_split=6, n_estimators=20; total time=   0.2s\n",
      "[CV 1/3] END max_depth=3, min_samples_leaf=5, min_samples_split=6, n_estimators=30; total time=   0.1s\n",
      "[CV 2/3] END max_depth=3, min_samples_leaf=5, min_samples_split=6, n_estimators=30; total time=   0.2s\n",
      "[CV 3/3] END max_depth=3, min_samples_leaf=5, min_samples_split=6, n_estimators=30; total time=   0.3s\n",
      "[CV 1/3] END max_depth=3, min_samples_leaf=5, min_samples_split=6, n_estimators=40; total time=   0.1s\n",
      "[CV 2/3] END max_depth=3, min_samples_leaf=5, min_samples_split=6, n_estimators=40; total time=   0.3s\n",
      "[CV 3/3] END max_depth=3, min_samples_leaf=5, min_samples_split=6, n_estimators=40; total time=   0.4s\n",
      "[CV 1/3] END max_depth=3, min_samples_leaf=6, min_samples_split=2, n_estimators=10; total time=   0.0s\n",
      "[CV 2/3] END max_depth=3, min_samples_leaf=6, min_samples_split=2, n_estimators=10; total time=   0.1s\n",
      "[CV 3/3] END max_depth=3, min_samples_leaf=6, min_samples_split=2, n_estimators=10; total time=   0.1s\n",
      "[CV 1/3] END max_depth=3, min_samples_leaf=6, min_samples_split=2, n_estimators=20; total time=   0.1s\n",
      "[CV 2/3] END max_depth=3, min_samples_leaf=6, min_samples_split=2, n_estimators=20; total time=   0.1s\n",
      "[CV 3/3] END max_depth=3, min_samples_leaf=6, min_samples_split=2, n_estimators=20; total time=   0.2s\n",
      "[CV 1/3] END max_depth=3, min_samples_leaf=6, min_samples_split=2, n_estimators=30; total time=   0.1s\n",
      "[CV 2/3] END max_depth=3, min_samples_leaf=6, min_samples_split=2, n_estimators=30; total time=   0.2s\n",
      "[CV 3/3] END max_depth=3, min_samples_leaf=6, min_samples_split=2, n_estimators=30; total time=   0.3s\n",
      "[CV 1/3] END max_depth=3, min_samples_leaf=6, min_samples_split=2, n_estimators=40; total time=   0.1s\n",
      "[CV 2/3] END max_depth=3, min_samples_leaf=6, min_samples_split=2, n_estimators=40; total time=   0.2s\n",
      "[CV 3/3] END max_depth=3, min_samples_leaf=6, min_samples_split=2, n_estimators=40; total time=   0.3s\n",
      "[CV 1/3] END max_depth=3, min_samples_leaf=6, min_samples_split=4, n_estimators=10; total time=   0.1s\n",
      "[CV 2/3] END max_depth=3, min_samples_leaf=6, min_samples_split=4, n_estimators=10; total time=   0.1s\n",
      "[CV 3/3] END max_depth=3, min_samples_leaf=6, min_samples_split=4, n_estimators=10; total time=   0.1s\n",
      "[CV 1/3] END max_depth=3, min_samples_leaf=6, min_samples_split=4, n_estimators=20; total time=   0.1s\n",
      "[CV 2/3] END max_depth=3, min_samples_leaf=6, min_samples_split=4, n_estimators=20; total time=   0.1s\n",
      "[CV 3/3] END max_depth=3, min_samples_leaf=6, min_samples_split=4, n_estimators=20; total time=   0.2s\n",
      "[CV 1/3] END max_depth=3, min_samples_leaf=6, min_samples_split=4, n_estimators=30; total time=   0.1s\n",
      "[CV 2/3] END max_depth=3, min_samples_leaf=6, min_samples_split=4, n_estimators=30; total time=   0.2s\n",
      "[CV 3/3] END max_depth=3, min_samples_leaf=6, min_samples_split=4, n_estimators=30; total time=   0.2s\n",
      "[CV 1/3] END max_depth=3, min_samples_leaf=6, min_samples_split=4, n_estimators=40; total time=   0.1s\n",
      "[CV 2/3] END max_depth=3, min_samples_leaf=6, min_samples_split=4, n_estimators=40; total time=   0.2s\n",
      "[CV 3/3] END max_depth=3, min_samples_leaf=6, min_samples_split=4, n_estimators=40; total time=   0.3s\n",
      "[CV 1/3] END max_depth=3, min_samples_leaf=6, min_samples_split=6, n_estimators=10; total time=   0.0s\n",
      "[CV 2/3] END max_depth=3, min_samples_leaf=6, min_samples_split=6, n_estimators=10; total time=   0.1s\n",
      "[CV 3/3] END max_depth=3, min_samples_leaf=6, min_samples_split=6, n_estimators=10; total time=   0.1s\n",
      "[CV 1/3] END max_depth=3, min_samples_leaf=6, min_samples_split=6, n_estimators=20; total time=   0.1s\n",
      "[CV 2/3] END max_depth=3, min_samples_leaf=6, min_samples_split=6, n_estimators=20; total time=   0.1s\n",
      "[CV 3/3] END max_depth=3, min_samples_leaf=6, min_samples_split=6, n_estimators=20; total time=   0.2s\n",
      "[CV 1/3] END max_depth=3, min_samples_leaf=6, min_samples_split=6, n_estimators=30; total time=   0.1s\n",
      "[CV 2/3] END max_depth=3, min_samples_leaf=6, min_samples_split=6, n_estimators=30; total time=   0.2s\n",
      "[CV 3/3] END max_depth=3, min_samples_leaf=6, min_samples_split=6, n_estimators=30; total time=   0.3s\n",
      "[CV 1/3] END max_depth=3, min_samples_leaf=6, min_samples_split=6, n_estimators=40; total time=   0.1s\n",
      "[CV 2/3] END max_depth=3, min_samples_leaf=6, min_samples_split=6, n_estimators=40; total time=   0.2s\n",
      "[CV 3/3] END max_depth=3, min_samples_leaf=6, min_samples_split=6, n_estimators=40; total time=   0.3s\n",
      "[CV 1/3] END max_depth=3, min_samples_leaf=7, min_samples_split=2, n_estimators=10; total time=   0.0s\n",
      "[CV 2/3] END max_depth=3, min_samples_leaf=7, min_samples_split=2, n_estimators=10; total time=   0.1s\n",
      "[CV 3/3] END max_depth=3, min_samples_leaf=7, min_samples_split=2, n_estimators=10; total time=   0.1s\n",
      "[CV 1/3] END max_depth=3, min_samples_leaf=7, min_samples_split=2, n_estimators=20; total time=   0.1s\n",
      "[CV 2/3] END max_depth=3, min_samples_leaf=7, min_samples_split=2, n_estimators=20; total time=   0.1s\n",
      "[CV 3/3] END max_depth=3, min_samples_leaf=7, min_samples_split=2, n_estimators=20; total time=   0.2s\n",
      "[CV 1/3] END max_depth=3, min_samples_leaf=7, min_samples_split=2, n_estimators=30; total time=   0.1s\n",
      "[CV 2/3] END max_depth=3, min_samples_leaf=7, min_samples_split=2, n_estimators=30; total time=   0.2s\n",
      "[CV 3/3] END max_depth=3, min_samples_leaf=7, min_samples_split=2, n_estimators=30; total time=   0.3s\n",
      "[CV 1/3] END max_depth=3, min_samples_leaf=7, min_samples_split=2, n_estimators=40; total time=   0.2s\n",
      "[CV 2/3] END max_depth=3, min_samples_leaf=7, min_samples_split=2, n_estimators=40; total time=   0.3s\n",
      "[CV 3/3] END max_depth=3, min_samples_leaf=7, min_samples_split=2, n_estimators=40; total time=   0.4s\n",
      "[CV 1/3] END max_depth=3, min_samples_leaf=7, min_samples_split=4, n_estimators=10; total time=   0.0s\n",
      "[CV 2/3] END max_depth=3, min_samples_leaf=7, min_samples_split=4, n_estimators=10; total time=   0.1s\n",
      "[CV 3/3] END max_depth=3, min_samples_leaf=7, min_samples_split=4, n_estimators=10; total time=   0.1s\n",
      "[CV 1/3] END max_depth=3, min_samples_leaf=7, min_samples_split=4, n_estimators=20; total time=   0.1s\n",
      "[CV 2/3] END max_depth=3, min_samples_leaf=7, min_samples_split=4, n_estimators=20; total time=   0.1s\n",
      "[CV 3/3] END max_depth=3, min_samples_leaf=7, min_samples_split=4, n_estimators=20; total time=   0.2s\n",
      "[CV 1/3] END max_depth=3, min_samples_leaf=7, min_samples_split=4, n_estimators=30; total time=   0.1s\n",
      "[CV 2/3] END max_depth=3, min_samples_leaf=7, min_samples_split=4, n_estimators=30; total time=   0.2s\n",
      "[CV 3/3] END max_depth=3, min_samples_leaf=7, min_samples_split=4, n_estimators=30; total time=   0.3s\n",
      "[CV 1/3] END max_depth=3, min_samples_leaf=7, min_samples_split=4, n_estimators=40; total time=   0.2s\n",
      "[CV 2/3] END max_depth=3, min_samples_leaf=7, min_samples_split=4, n_estimators=40; total time=   0.2s\n",
      "[CV 3/3] END max_depth=3, min_samples_leaf=7, min_samples_split=4, n_estimators=40; total time=   0.3s\n",
      "[CV 1/3] END max_depth=3, min_samples_leaf=7, min_samples_split=6, n_estimators=10; total time=   0.0s\n",
      "[CV 2/3] END max_depth=3, min_samples_leaf=7, min_samples_split=6, n_estimators=10; total time=   0.1s\n",
      "[CV 3/3] END max_depth=3, min_samples_leaf=7, min_samples_split=6, n_estimators=10; total time=   0.1s\n",
      "[CV 1/3] END max_depth=3, min_samples_leaf=7, min_samples_split=6, n_estimators=20; total time=   0.1s\n",
      "[CV 2/3] END max_depth=3, min_samples_leaf=7, min_samples_split=6, n_estimators=20; total time=   0.1s\n",
      "[CV 3/3] END max_depth=3, min_samples_leaf=7, min_samples_split=6, n_estimators=20; total time=   0.2s\n",
      "[CV 1/3] END max_depth=3, min_samples_leaf=7, min_samples_split=6, n_estimators=30; total time=   0.1s\n",
      "[CV 2/3] END max_depth=3, min_samples_leaf=7, min_samples_split=6, n_estimators=30; total time=   0.2s\n",
      "[CV 3/3] END max_depth=3, min_samples_leaf=7, min_samples_split=6, n_estimators=30; total time=   0.3s\n",
      "[CV 1/3] END max_depth=3, min_samples_leaf=7, min_samples_split=6, n_estimators=40; total time=   0.1s\n",
      "[CV 2/3] END max_depth=3, min_samples_leaf=7, min_samples_split=6, n_estimators=40; total time=   0.3s\n",
      "[CV 3/3] END max_depth=3, min_samples_leaf=7, min_samples_split=6, n_estimators=40; total time=   0.3s\n",
      "[CV 1/3] END max_depth=5, min_samples_leaf=1, min_samples_split=2, n_estimators=10; total time=   0.1s\n",
      "[CV 2/3] END max_depth=5, min_samples_leaf=1, min_samples_split=2, n_estimators=10; total time=   0.1s\n",
      "[CV 3/3] END max_depth=5, min_samples_leaf=1, min_samples_split=2, n_estimators=10; total time=   0.1s\n",
      "[CV 1/3] END max_depth=5, min_samples_leaf=1, min_samples_split=2, n_estimators=20; total time=   0.1s\n",
      "[CV 2/3] END max_depth=5, min_samples_leaf=1, min_samples_split=2, n_estimators=20; total time=   0.2s\n",
      "[CV 3/3] END max_depth=5, min_samples_leaf=1, min_samples_split=2, n_estimators=20; total time=   0.3s\n",
      "[CV 1/3] END max_depth=5, min_samples_leaf=1, min_samples_split=2, n_estimators=30; total time=   0.2s\n",
      "[CV 2/3] END max_depth=5, min_samples_leaf=1, min_samples_split=2, n_estimators=30; total time=   0.3s\n",
      "[CV 3/3] END max_depth=5, min_samples_leaf=1, min_samples_split=2, n_estimators=30; total time=   0.4s\n",
      "[CV 1/3] END max_depth=5, min_samples_leaf=1, min_samples_split=2, n_estimators=40; total time=   0.2s\n",
      "[CV 2/3] END max_depth=5, min_samples_leaf=1, min_samples_split=2, n_estimators=40; total time=   0.4s\n",
      "[CV 3/3] END max_depth=5, min_samples_leaf=1, min_samples_split=2, n_estimators=40; total time=   0.5s\n",
      "[CV 1/3] END max_depth=5, min_samples_leaf=1, min_samples_split=4, n_estimators=10; total time=   0.1s\n",
      "[CV 2/3] END max_depth=5, min_samples_leaf=1, min_samples_split=4, n_estimators=10; total time=   0.1s\n",
      "[CV 3/3] END max_depth=5, min_samples_leaf=1, min_samples_split=4, n_estimators=10; total time=   0.2s\n",
      "[CV 1/3] END max_depth=5, min_samples_leaf=1, min_samples_split=4, n_estimators=20; total time=   0.1s\n",
      "[CV 2/3] END max_depth=5, min_samples_leaf=1, min_samples_split=4, n_estimators=20; total time=   0.2s\n",
      "[CV 3/3] END max_depth=5, min_samples_leaf=1, min_samples_split=4, n_estimators=20; total time=   0.3s\n",
      "[CV 1/3] END max_depth=5, min_samples_leaf=1, min_samples_split=4, n_estimators=30; total time=   0.2s\n",
      "[CV 2/3] END max_depth=5, min_samples_leaf=1, min_samples_split=4, n_estimators=30; total time=   0.3s\n",
      "[CV 3/3] END max_depth=5, min_samples_leaf=1, min_samples_split=4, n_estimators=30; total time=   0.4s\n",
      "[CV 1/3] END max_depth=5, min_samples_leaf=1, min_samples_split=4, n_estimators=40; total time=   0.2s\n",
      "[CV 2/3] END max_depth=5, min_samples_leaf=1, min_samples_split=4, n_estimators=40; total time=   0.5s\n",
      "[CV 3/3] END max_depth=5, min_samples_leaf=1, min_samples_split=4, n_estimators=40; total time=   0.6s\n",
      "[CV 1/3] END max_depth=5, min_samples_leaf=1, min_samples_split=6, n_estimators=10; total time=   0.1s\n",
      "[CV 2/3] END max_depth=5, min_samples_leaf=1, min_samples_split=6, n_estimators=10; total time=   0.1s\n",
      "[CV 3/3] END max_depth=5, min_samples_leaf=1, min_samples_split=6, n_estimators=10; total time=   0.1s\n",
      "[CV 1/3] END max_depth=5, min_samples_leaf=1, min_samples_split=6, n_estimators=20; total time=   0.1s\n",
      "[CV 2/3] END max_depth=5, min_samples_leaf=1, min_samples_split=6, n_estimators=20; total time=   0.2s\n",
      "[CV 3/3] END max_depth=5, min_samples_leaf=1, min_samples_split=6, n_estimators=20; total time=   0.3s\n",
      "[CV 1/3] END max_depth=5, min_samples_leaf=1, min_samples_split=6, n_estimators=30; total time=   0.2s\n",
      "[CV 2/3] END max_depth=5, min_samples_leaf=1, min_samples_split=6, n_estimators=30; total time=   0.3s\n",
      "[CV 3/3] END max_depth=5, min_samples_leaf=1, min_samples_split=6, n_estimators=30; total time=   0.4s\n",
      "[CV 1/3] END max_depth=5, min_samples_leaf=1, min_samples_split=6, n_estimators=40; total time=   0.2s\n",
      "[CV 2/3] END max_depth=5, min_samples_leaf=1, min_samples_split=6, n_estimators=40; total time=   0.4s\n",
      "[CV 3/3] END max_depth=5, min_samples_leaf=1, min_samples_split=6, n_estimators=40; total time=   0.6s\n",
      "[CV 1/3] END max_depth=5, min_samples_leaf=2, min_samples_split=2, n_estimators=10; total time=   0.1s\n",
      "[CV 2/3] END max_depth=5, min_samples_leaf=2, min_samples_split=2, n_estimators=10; total time=   0.1s\n",
      "[CV 3/3] END max_depth=5, min_samples_leaf=2, min_samples_split=2, n_estimators=10; total time=   0.2s\n",
      "[CV 1/3] END max_depth=5, min_samples_leaf=2, min_samples_split=2, n_estimators=20; total time=   0.1s\n",
      "[CV 2/3] END max_depth=5, min_samples_leaf=2, min_samples_split=2, n_estimators=20; total time=   0.2s\n",
      "[CV 3/3] END max_depth=5, min_samples_leaf=2, min_samples_split=2, n_estimators=20; total time=   0.3s\n",
      "[CV 1/3] END max_depth=5, min_samples_leaf=2, min_samples_split=2, n_estimators=30; total time=   0.2s\n",
      "[CV 2/3] END max_depth=5, min_samples_leaf=2, min_samples_split=2, n_estimators=30; total time=   0.3s\n",
      "[CV 3/3] END max_depth=5, min_samples_leaf=2, min_samples_split=2, n_estimators=30; total time=   0.4s\n",
      "[CV 1/3] END max_depth=5, min_samples_leaf=2, min_samples_split=2, n_estimators=40; total time=   0.2s\n",
      "[CV 2/3] END max_depth=5, min_samples_leaf=2, min_samples_split=2, n_estimators=40; total time=   0.4s\n",
      "[CV 3/3] END max_depth=5, min_samples_leaf=2, min_samples_split=2, n_estimators=40; total time=   0.5s\n",
      "[CV 1/3] END max_depth=5, min_samples_leaf=2, min_samples_split=4, n_estimators=10; total time=   0.1s\n",
      "[CV 2/3] END max_depth=5, min_samples_leaf=2, min_samples_split=4, n_estimators=10; total time=   0.1s\n",
      "[CV 3/3] END max_depth=5, min_samples_leaf=2, min_samples_split=4, n_estimators=10; total time=   0.1s\n",
      "[CV 1/3] END max_depth=5, min_samples_leaf=2, min_samples_split=4, n_estimators=20; total time=   0.1s\n",
      "[CV 2/3] END max_depth=5, min_samples_leaf=2, min_samples_split=4, n_estimators=20; total time=   0.2s\n",
      "[CV 3/3] END max_depth=5, min_samples_leaf=2, min_samples_split=4, n_estimators=20; total time=   0.3s\n",
      "[CV 1/3] END max_depth=5, min_samples_leaf=2, min_samples_split=4, n_estimators=30; total time=   0.2s\n",
      "[CV 2/3] END max_depth=5, min_samples_leaf=2, min_samples_split=4, n_estimators=30; total time=   0.3s\n",
      "[CV 3/3] END max_depth=5, min_samples_leaf=2, min_samples_split=4, n_estimators=30; total time=   0.4s\n",
      "[CV 1/3] END max_depth=5, min_samples_leaf=2, min_samples_split=4, n_estimators=40; total time=   0.3s\n",
      "[CV 2/3] END max_depth=5, min_samples_leaf=2, min_samples_split=4, n_estimators=40; total time=   0.4s\n",
      "[CV 3/3] END max_depth=5, min_samples_leaf=2, min_samples_split=4, n_estimators=40; total time=   0.5s\n",
      "[CV 1/3] END max_depth=5, min_samples_leaf=2, min_samples_split=6, n_estimators=10; total time=   0.1s\n",
      "[CV 2/3] END max_depth=5, min_samples_leaf=2, min_samples_split=6, n_estimators=10; total time=   0.1s\n",
      "[CV 3/3] END max_depth=5, min_samples_leaf=2, min_samples_split=6, n_estimators=10; total time=   0.2s\n",
      "[CV 1/3] END max_depth=5, min_samples_leaf=2, min_samples_split=6, n_estimators=20; total time=   0.1s\n",
      "[CV 2/3] END max_depth=5, min_samples_leaf=2, min_samples_split=6, n_estimators=20; total time=   0.2s\n",
      "[CV 3/3] END max_depth=5, min_samples_leaf=2, min_samples_split=6, n_estimators=20; total time=   0.3s\n",
      "[CV 1/3] END max_depth=5, min_samples_leaf=2, min_samples_split=6, n_estimators=30; total time=   0.1s\n",
      "[CV 2/3] END max_depth=5, min_samples_leaf=2, min_samples_split=6, n_estimators=30; total time=   0.3s\n",
      "[CV 3/3] END max_depth=5, min_samples_leaf=2, min_samples_split=6, n_estimators=30; total time=   0.4s\n",
      "[CV 1/3] END max_depth=5, min_samples_leaf=2, min_samples_split=6, n_estimators=40; total time=   0.2s\n",
      "[CV 2/3] END max_depth=5, min_samples_leaf=2, min_samples_split=6, n_estimators=40; total time=   0.4s\n",
      "[CV 3/3] END max_depth=5, min_samples_leaf=2, min_samples_split=6, n_estimators=40; total time=   0.5s\n",
      "[CV 1/3] END max_depth=5, min_samples_leaf=3, min_samples_split=2, n_estimators=10; total time=   0.1s\n",
      "[CV 2/3] END max_depth=5, min_samples_leaf=3, min_samples_split=2, n_estimators=10; total time=   0.1s\n",
      "[CV 3/3] END max_depth=5, min_samples_leaf=3, min_samples_split=2, n_estimators=10; total time=   0.2s\n",
      "[CV 1/3] END max_depth=5, min_samples_leaf=3, min_samples_split=2, n_estimators=20; total time=   0.1s\n",
      "[CV 2/3] END max_depth=5, min_samples_leaf=3, min_samples_split=2, n_estimators=20; total time=   0.2s\n",
      "[CV 3/3] END max_depth=5, min_samples_leaf=3, min_samples_split=2, n_estimators=20; total time=   0.3s\n",
      "[CV 1/3] END max_depth=5, min_samples_leaf=3, min_samples_split=2, n_estimators=30; total time=   0.2s\n",
      "[CV 2/3] END max_depth=5, min_samples_leaf=3, min_samples_split=2, n_estimators=30; total time=   0.3s\n",
      "[CV 3/3] END max_depth=5, min_samples_leaf=3, min_samples_split=2, n_estimators=30; total time=   0.4s\n",
      "[CV 1/3] END max_depth=5, min_samples_leaf=3, min_samples_split=2, n_estimators=40; total time=   0.2s\n",
      "[CV 2/3] END max_depth=5, min_samples_leaf=3, min_samples_split=2, n_estimators=40; total time=   0.4s\n",
      "[CV 3/3] END max_depth=5, min_samples_leaf=3, min_samples_split=2, n_estimators=40; total time=   0.7s\n",
      "[CV 1/3] END max_depth=5, min_samples_leaf=3, min_samples_split=4, n_estimators=10; total time=   0.1s\n",
      "[CV 2/3] END max_depth=5, min_samples_leaf=3, min_samples_split=4, n_estimators=10; total time=   0.1s\n",
      "[CV 3/3] END max_depth=5, min_samples_leaf=3, min_samples_split=4, n_estimators=10; total time=   0.2s\n",
      "[CV 1/3] END max_depth=5, min_samples_leaf=3, min_samples_split=4, n_estimators=20; total time=   0.1s\n",
      "[CV 2/3] END max_depth=5, min_samples_leaf=3, min_samples_split=4, n_estimators=20; total time=   0.2s\n",
      "[CV 3/3] END max_depth=5, min_samples_leaf=3, min_samples_split=4, n_estimators=20; total time=   0.3s\n",
      "[CV 1/3] END max_depth=5, min_samples_leaf=3, min_samples_split=4, n_estimators=30; total time=   0.2s\n",
      "[CV 2/3] END max_depth=5, min_samples_leaf=3, min_samples_split=4, n_estimators=30; total time=   0.3s\n",
      "[CV 3/3] END max_depth=5, min_samples_leaf=3, min_samples_split=4, n_estimators=30; total time=   0.4s\n",
      "[CV 1/3] END max_depth=5, min_samples_leaf=3, min_samples_split=4, n_estimators=40; total time=   0.2s\n",
      "[CV 2/3] END max_depth=5, min_samples_leaf=3, min_samples_split=4, n_estimators=40; total time=   0.4s\n",
      "[CV 3/3] END max_depth=5, min_samples_leaf=3, min_samples_split=4, n_estimators=40; total time=   0.6s\n",
      "[CV 1/3] END max_depth=5, min_samples_leaf=3, min_samples_split=6, n_estimators=10; total time=   0.1s\n",
      "[CV 2/3] END max_depth=5, min_samples_leaf=3, min_samples_split=6, n_estimators=10; total time=   0.1s\n",
      "[CV 3/3] END max_depth=5, min_samples_leaf=3, min_samples_split=6, n_estimators=10; total time=   0.2s\n",
      "[CV 1/3] END max_depth=5, min_samples_leaf=3, min_samples_split=6, n_estimators=20; total time=   0.1s\n",
      "[CV 2/3] END max_depth=5, min_samples_leaf=3, min_samples_split=6, n_estimators=20; total time=   0.2s\n",
      "[CV 3/3] END max_depth=5, min_samples_leaf=3, min_samples_split=6, n_estimators=20; total time=   0.3s\n",
      "[CV 1/3] END max_depth=5, min_samples_leaf=3, min_samples_split=6, n_estimators=30; total time=   0.2s\n",
      "[CV 2/3] END max_depth=5, min_samples_leaf=3, min_samples_split=6, n_estimators=30; total time=   0.3s\n",
      "[CV 3/3] END max_depth=5, min_samples_leaf=3, min_samples_split=6, n_estimators=30; total time=   0.4s\n",
      "[CV 1/3] END max_depth=5, min_samples_leaf=3, min_samples_split=6, n_estimators=40; total time=   0.2s\n",
      "[CV 2/3] END max_depth=5, min_samples_leaf=3, min_samples_split=6, n_estimators=40; total time=   0.4s\n",
      "[CV 3/3] END max_depth=5, min_samples_leaf=3, min_samples_split=6, n_estimators=40; total time=   0.5s\n",
      "[CV 1/3] END max_depth=5, min_samples_leaf=4, min_samples_split=2, n_estimators=10; total time=   0.1s\n",
      "[CV 2/3] END max_depth=5, min_samples_leaf=4, min_samples_split=2, n_estimators=10; total time=   0.1s\n",
      "[CV 3/3] END max_depth=5, min_samples_leaf=4, min_samples_split=2, n_estimators=10; total time=   0.1s\n",
      "[CV 1/3] END max_depth=5, min_samples_leaf=4, min_samples_split=2, n_estimators=20; total time=   0.1s\n",
      "[CV 2/3] END max_depth=5, min_samples_leaf=4, min_samples_split=2, n_estimators=20; total time=   0.2s\n",
      "[CV 3/3] END max_depth=5, min_samples_leaf=4, min_samples_split=2, n_estimators=20; total time=   0.3s\n",
      "[CV 1/3] END max_depth=5, min_samples_leaf=4, min_samples_split=2, n_estimators=30; total time=   0.2s\n",
      "[CV 2/3] END max_depth=5, min_samples_leaf=4, min_samples_split=2, n_estimators=30; total time=   0.3s\n",
      "[CV 3/3] END max_depth=5, min_samples_leaf=4, min_samples_split=2, n_estimators=30; total time=   0.5s\n",
      "[CV 1/3] END max_depth=5, min_samples_leaf=4, min_samples_split=2, n_estimators=40; total time=   0.3s\n",
      "[CV 2/3] END max_depth=5, min_samples_leaf=4, min_samples_split=2, n_estimators=40; total time=   0.5s\n",
      "[CV 3/3] END max_depth=5, min_samples_leaf=4, min_samples_split=2, n_estimators=40; total time=   0.7s\n",
      "[CV 1/3] END max_depth=5, min_samples_leaf=4, min_samples_split=4, n_estimators=10; total time=   0.1s\n",
      "[CV 2/3] END max_depth=5, min_samples_leaf=4, min_samples_split=4, n_estimators=10; total time=   0.1s\n",
      "[CV 3/3] END max_depth=5, min_samples_leaf=4, min_samples_split=4, n_estimators=10; total time=   0.1s\n",
      "[CV 1/3] END max_depth=5, min_samples_leaf=4, min_samples_split=4, n_estimators=20; total time=   0.1s\n",
      "[CV 2/3] END max_depth=5, min_samples_leaf=4, min_samples_split=4, n_estimators=20; total time=   0.2s\n",
      "[CV 3/3] END max_depth=5, min_samples_leaf=4, min_samples_split=4, n_estimators=20; total time=   0.3s\n",
      "[CV 1/3] END max_depth=5, min_samples_leaf=4, min_samples_split=4, n_estimators=30; total time=   0.2s\n",
      "[CV 2/3] END max_depth=5, min_samples_leaf=4, min_samples_split=4, n_estimators=30; total time=   0.3s\n",
      "[CV 3/3] END max_depth=5, min_samples_leaf=4, min_samples_split=4, n_estimators=30; total time=   0.5s\n",
      "[CV 1/3] END max_depth=5, min_samples_leaf=4, min_samples_split=4, n_estimators=40; total time=   0.3s\n",
      "[CV 2/3] END max_depth=5, min_samples_leaf=4, min_samples_split=4, n_estimators=40; total time=   0.4s\n",
      "[CV 3/3] END max_depth=5, min_samples_leaf=4, min_samples_split=4, n_estimators=40; total time=   0.6s\n",
      "[CV 1/3] END max_depth=5, min_samples_leaf=4, min_samples_split=6, n_estimators=10; total time=   0.1s\n",
      "[CV 2/3] END max_depth=5, min_samples_leaf=4, min_samples_split=6, n_estimators=10; total time=   0.1s\n",
      "[CV 3/3] END max_depth=5, min_samples_leaf=4, min_samples_split=6, n_estimators=10; total time=   0.2s\n",
      "[CV 1/3] END max_depth=5, min_samples_leaf=4, min_samples_split=6, n_estimators=20; total time=   0.1s\n",
      "[CV 2/3] END max_depth=5, min_samples_leaf=4, min_samples_split=6, n_estimators=20; total time=   0.2s\n",
      "[CV 3/3] END max_depth=5, min_samples_leaf=4, min_samples_split=6, n_estimators=20; total time=   0.3s\n",
      "[CV 1/3] END max_depth=5, min_samples_leaf=4, min_samples_split=6, n_estimators=30; total time=   0.2s\n",
      "[CV 2/3] END max_depth=5, min_samples_leaf=4, min_samples_split=6, n_estimators=30; total time=   0.3s\n",
      "[CV 3/3] END max_depth=5, min_samples_leaf=4, min_samples_split=6, n_estimators=30; total time=   0.5s\n",
      "[CV 1/3] END max_depth=5, min_samples_leaf=4, min_samples_split=6, n_estimators=40; total time=   0.2s\n",
      "[CV 2/3] END max_depth=5, min_samples_leaf=4, min_samples_split=6, n_estimators=40; total time=   0.4s\n",
      "[CV 3/3] END max_depth=5, min_samples_leaf=4, min_samples_split=6, n_estimators=40; total time=   0.7s\n",
      "[CV 1/3] END max_depth=5, min_samples_leaf=5, min_samples_split=2, n_estimators=10; total time=   0.1s\n",
      "[CV 2/3] END max_depth=5, min_samples_leaf=5, min_samples_split=2, n_estimators=10; total time=   0.1s\n",
      "[CV 3/3] END max_depth=5, min_samples_leaf=5, min_samples_split=2, n_estimators=10; total time=   0.2s\n",
      "[CV 1/3] END max_depth=5, min_samples_leaf=5, min_samples_split=2, n_estimators=20; total time=   0.1s\n",
      "[CV 2/3] END max_depth=5, min_samples_leaf=5, min_samples_split=2, n_estimators=20; total time=   0.2s\n",
      "[CV 3/3] END max_depth=5, min_samples_leaf=5, min_samples_split=2, n_estimators=20; total time=   0.3s\n",
      "[CV 1/3] END max_depth=5, min_samples_leaf=5, min_samples_split=2, n_estimators=30; total time=   0.2s\n",
      "[CV 2/3] END max_depth=5, min_samples_leaf=5, min_samples_split=2, n_estimators=30; total time=   0.4s\n",
      "[CV 3/3] END max_depth=5, min_samples_leaf=5, min_samples_split=2, n_estimators=30; total time=   0.5s\n",
      "[CV 1/3] END max_depth=5, min_samples_leaf=5, min_samples_split=2, n_estimators=40; total time=   0.3s\n",
      "[CV 2/3] END max_depth=5, min_samples_leaf=5, min_samples_split=2, n_estimators=40; total time=   0.4s\n",
      "[CV 3/3] END max_depth=5, min_samples_leaf=5, min_samples_split=2, n_estimators=40; total time=   0.5s\n",
      "[CV 1/3] END max_depth=5, min_samples_leaf=5, min_samples_split=4, n_estimators=10; total time=   0.1s\n",
      "[CV 2/3] END max_depth=5, min_samples_leaf=5, min_samples_split=4, n_estimators=10; total time=   0.1s\n",
      "[CV 3/3] END max_depth=5, min_samples_leaf=5, min_samples_split=4, n_estimators=10; total time=   0.1s\n",
      "[CV 1/3] END max_depth=5, min_samples_leaf=5, min_samples_split=4, n_estimators=20; total time=   0.1s\n",
      "[CV 2/3] END max_depth=5, min_samples_leaf=5, min_samples_split=4, n_estimators=20; total time=   0.2s\n",
      "[CV 3/3] END max_depth=5, min_samples_leaf=5, min_samples_split=4, n_estimators=20; total time=   0.3s\n",
      "[CV 1/3] END max_depth=5, min_samples_leaf=5, min_samples_split=4, n_estimators=30; total time=   0.2s\n",
      "[CV 2/3] END max_depth=5, min_samples_leaf=5, min_samples_split=4, n_estimators=30; total time=   0.3s\n",
      "[CV 3/3] END max_depth=5, min_samples_leaf=5, min_samples_split=4, n_estimators=30; total time=   0.4s\n",
      "[CV 1/3] END max_depth=5, min_samples_leaf=5, min_samples_split=4, n_estimators=40; total time=   0.2s\n",
      "[CV 2/3] END max_depth=5, min_samples_leaf=5, min_samples_split=4, n_estimators=40; total time=   0.3s\n",
      "[CV 3/3] END max_depth=5, min_samples_leaf=5, min_samples_split=4, n_estimators=40; total time=   0.5s\n",
      "[CV 1/3] END max_depth=5, min_samples_leaf=5, min_samples_split=6, n_estimators=10; total time=   0.1s\n",
      "[CV 2/3] END max_depth=5, min_samples_leaf=5, min_samples_split=6, n_estimators=10; total time=   0.1s\n",
      "[CV 3/3] END max_depth=5, min_samples_leaf=5, min_samples_split=6, n_estimators=10; total time=   0.1s\n",
      "[CV 1/3] END max_depth=5, min_samples_leaf=5, min_samples_split=6, n_estimators=20; total time=   0.1s\n",
      "[CV 2/3] END max_depth=5, min_samples_leaf=5, min_samples_split=6, n_estimators=20; total time=   0.2s\n",
      "[CV 3/3] END max_depth=5, min_samples_leaf=5, min_samples_split=6, n_estimators=20; total time=   0.3s\n",
      "[CV 1/3] END max_depth=5, min_samples_leaf=5, min_samples_split=6, n_estimators=30; total time=   0.2s\n",
      "[CV 2/3] END max_depth=5, min_samples_leaf=5, min_samples_split=6, n_estimators=30; total time=   0.3s\n",
      "[CV 3/3] END max_depth=5, min_samples_leaf=5, min_samples_split=6, n_estimators=30; total time=   0.4s\n",
      "[CV 1/3] END max_depth=5, min_samples_leaf=5, min_samples_split=6, n_estimators=40; total time=   0.2s\n",
      "[CV 2/3] END max_depth=5, min_samples_leaf=5, min_samples_split=6, n_estimators=40; total time=   0.4s\n",
      "[CV 3/3] END max_depth=5, min_samples_leaf=5, min_samples_split=6, n_estimators=40; total time=   0.5s\n",
      "[CV 1/3] END max_depth=5, min_samples_leaf=6, min_samples_split=2, n_estimators=10; total time=   0.1s\n",
      "[CV 2/3] END max_depth=5, min_samples_leaf=6, min_samples_split=2, n_estimators=10; total time=   0.1s\n",
      "[CV 3/3] END max_depth=5, min_samples_leaf=6, min_samples_split=2, n_estimators=10; total time=   0.1s\n",
      "[CV 1/3] END max_depth=5, min_samples_leaf=6, min_samples_split=2, n_estimators=20; total time=   0.1s\n",
      "[CV 2/3] END max_depth=5, min_samples_leaf=6, min_samples_split=2, n_estimators=20; total time=   0.2s\n",
      "[CV 3/3] END max_depth=5, min_samples_leaf=6, min_samples_split=2, n_estimators=20; total time=   0.3s\n",
      "[CV 1/3] END max_depth=5, min_samples_leaf=6, min_samples_split=2, n_estimators=30; total time=   0.2s\n",
      "[CV 2/3] END max_depth=5, min_samples_leaf=6, min_samples_split=2, n_estimators=30; total time=   0.3s\n",
      "[CV 3/3] END max_depth=5, min_samples_leaf=6, min_samples_split=2, n_estimators=30; total time=   0.4s\n",
      "[CV 1/3] END max_depth=5, min_samples_leaf=6, min_samples_split=2, n_estimators=40; total time=   0.2s\n",
      "[CV 2/3] END max_depth=5, min_samples_leaf=6, min_samples_split=2, n_estimators=40; total time=   0.3s\n",
      "[CV 3/3] END max_depth=5, min_samples_leaf=6, min_samples_split=2, n_estimators=40; total time=   0.5s\n",
      "[CV 1/3] END max_depth=5, min_samples_leaf=6, min_samples_split=4, n_estimators=10; total time=   0.0s\n",
      "[CV 2/3] END max_depth=5, min_samples_leaf=6, min_samples_split=4, n_estimators=10; total time=   0.1s\n",
      "[CV 3/3] END max_depth=5, min_samples_leaf=6, min_samples_split=4, n_estimators=10; total time=   0.1s\n",
      "[CV 1/3] END max_depth=5, min_samples_leaf=6, min_samples_split=4, n_estimators=20; total time=   0.1s\n",
      "[CV 2/3] END max_depth=5, min_samples_leaf=6, min_samples_split=4, n_estimators=20; total time=   0.2s\n",
      "[CV 3/3] END max_depth=5, min_samples_leaf=6, min_samples_split=4, n_estimators=20; total time=   0.3s\n",
      "[CV 1/3] END max_depth=5, min_samples_leaf=6, min_samples_split=4, n_estimators=30; total time=   0.2s\n",
      "[CV 2/3] END max_depth=5, min_samples_leaf=6, min_samples_split=4, n_estimators=30; total time=   0.3s\n",
      "[CV 3/3] END max_depth=5, min_samples_leaf=6, min_samples_split=4, n_estimators=30; total time=   0.4s\n",
      "[CV 1/3] END max_depth=5, min_samples_leaf=6, min_samples_split=4, n_estimators=40; total time=   0.2s\n",
      "[CV 2/3] END max_depth=5, min_samples_leaf=6, min_samples_split=4, n_estimators=40; total time=   0.4s\n",
      "[CV 3/3] END max_depth=5, min_samples_leaf=6, min_samples_split=4, n_estimators=40; total time=   0.5s\n",
      "[CV 1/3] END max_depth=5, min_samples_leaf=6, min_samples_split=6, n_estimators=10; total time=   0.1s\n",
      "[CV 2/3] END max_depth=5, min_samples_leaf=6, min_samples_split=6, n_estimators=10; total time=   0.1s\n",
      "[CV 3/3] END max_depth=5, min_samples_leaf=6, min_samples_split=6, n_estimators=10; total time=   0.1s\n",
      "[CV 1/3] END max_depth=5, min_samples_leaf=6, min_samples_split=6, n_estimators=20; total time=   0.1s\n",
      "[CV 2/3] END max_depth=5, min_samples_leaf=6, min_samples_split=6, n_estimators=20; total time=   0.2s\n",
      "[CV 3/3] END max_depth=5, min_samples_leaf=6, min_samples_split=6, n_estimators=20; total time=   0.3s\n",
      "[CV 1/3] END max_depth=5, min_samples_leaf=6, min_samples_split=6, n_estimators=30; total time=   0.2s\n",
      "[CV 2/3] END max_depth=5, min_samples_leaf=6, min_samples_split=6, n_estimators=30; total time=   0.3s\n",
      "[CV 3/3] END max_depth=5, min_samples_leaf=6, min_samples_split=6, n_estimators=30; total time=   0.4s\n",
      "[CV 1/3] END max_depth=5, min_samples_leaf=6, min_samples_split=6, n_estimators=40; total time=   0.2s\n",
      "[CV 2/3] END max_depth=5, min_samples_leaf=6, min_samples_split=6, n_estimators=40; total time=   0.4s\n",
      "[CV 3/3] END max_depth=5, min_samples_leaf=6, min_samples_split=6, n_estimators=40; total time=   0.5s\n",
      "[CV 1/3] END max_depth=5, min_samples_leaf=7, min_samples_split=2, n_estimators=10; total time=   0.1s\n",
      "[CV 2/3] END max_depth=5, min_samples_leaf=7, min_samples_split=2, n_estimators=10; total time=   0.1s\n",
      "[CV 3/3] END max_depth=5, min_samples_leaf=7, min_samples_split=2, n_estimators=10; total time=   0.2s\n",
      "[CV 1/3] END max_depth=5, min_samples_leaf=7, min_samples_split=2, n_estimators=20; total time=   0.1s\n",
      "[CV 2/3] END max_depth=5, min_samples_leaf=7, min_samples_split=2, n_estimators=20; total time=   0.2s\n",
      "[CV 3/3] END max_depth=5, min_samples_leaf=7, min_samples_split=2, n_estimators=20; total time=   0.3s\n",
      "[CV 1/3] END max_depth=5, min_samples_leaf=7, min_samples_split=2, n_estimators=30; total time=   0.2s\n",
      "[CV 2/3] END max_depth=5, min_samples_leaf=7, min_samples_split=2, n_estimators=30; total time=   0.3s\n",
      "[CV 3/3] END max_depth=5, min_samples_leaf=7, min_samples_split=2, n_estimators=30; total time=   0.4s\n",
      "[CV 1/3] END max_depth=5, min_samples_leaf=7, min_samples_split=2, n_estimators=40; total time=   0.2s\n",
      "[CV 2/3] END max_depth=5, min_samples_leaf=7, min_samples_split=2, n_estimators=40; total time=   0.4s\n",
      "[CV 3/3] END max_depth=5, min_samples_leaf=7, min_samples_split=2, n_estimators=40; total time=   0.6s\n",
      "[CV 1/3] END max_depth=5, min_samples_leaf=7, min_samples_split=4, n_estimators=10; total time=   0.1s\n",
      "[CV 2/3] END max_depth=5, min_samples_leaf=7, min_samples_split=4, n_estimators=10; total time=   0.1s\n",
      "[CV 3/3] END max_depth=5, min_samples_leaf=7, min_samples_split=4, n_estimators=10; total time=   0.2s\n",
      "[CV 1/3] END max_depth=5, min_samples_leaf=7, min_samples_split=4, n_estimators=20; total time=   0.1s\n",
      "[CV 2/3] END max_depth=5, min_samples_leaf=7, min_samples_split=4, n_estimators=20; total time=   0.2s\n",
      "[CV 3/3] END max_depth=5, min_samples_leaf=7, min_samples_split=4, n_estimators=20; total time=   0.3s\n",
      "[CV 1/3] END max_depth=5, min_samples_leaf=7, min_samples_split=4, n_estimators=30; total time=   0.2s\n",
      "[CV 2/3] END max_depth=5, min_samples_leaf=7, min_samples_split=4, n_estimators=30; total time=   0.3s\n",
      "[CV 3/3] END max_depth=5, min_samples_leaf=7, min_samples_split=4, n_estimators=30; total time=   0.5s\n",
      "[CV 1/3] END max_depth=5, min_samples_leaf=7, min_samples_split=4, n_estimators=40; total time=   0.3s\n",
      "[CV 2/3] END max_depth=5, min_samples_leaf=7, min_samples_split=4, n_estimators=40; total time=   0.4s\n",
      "[CV 3/3] END max_depth=5, min_samples_leaf=7, min_samples_split=4, n_estimators=40; total time=   0.6s\n",
      "[CV 1/3] END max_depth=5, min_samples_leaf=7, min_samples_split=6, n_estimators=10; total time=   0.1s\n",
      "[CV 2/3] END max_depth=5, min_samples_leaf=7, min_samples_split=6, n_estimators=10; total time=   0.1s\n",
      "[CV 3/3] END max_depth=5, min_samples_leaf=7, min_samples_split=6, n_estimators=10; total time=   0.2s\n",
      "[CV 1/3] END max_depth=5, min_samples_leaf=7, min_samples_split=6, n_estimators=20; total time=   0.1s\n",
      "[CV 2/3] END max_depth=5, min_samples_leaf=7, min_samples_split=6, n_estimators=20; total time=   0.2s\n",
      "[CV 3/3] END max_depth=5, min_samples_leaf=7, min_samples_split=6, n_estimators=20; total time=   0.3s\n",
      "[CV 1/3] END max_depth=5, min_samples_leaf=7, min_samples_split=6, n_estimators=30; total time=   0.2s\n",
      "[CV 2/3] END max_depth=5, min_samples_leaf=7, min_samples_split=6, n_estimators=30; total time=   0.3s\n",
      "[CV 3/3] END max_depth=5, min_samples_leaf=7, min_samples_split=6, n_estimators=30; total time=   0.4s\n",
      "[CV 1/3] END max_depth=5, min_samples_leaf=7, min_samples_split=6, n_estimators=40; total time=   0.2s\n",
      "[CV 2/3] END max_depth=5, min_samples_leaf=7, min_samples_split=6, n_estimators=40; total time=   0.4s\n",
      "[CV 3/3] END max_depth=5, min_samples_leaf=7, min_samples_split=6, n_estimators=40; total time=   0.7s\n",
      "[CV 1/3] END max_depth=7, min_samples_leaf=1, min_samples_split=2, n_estimators=10; total time=   0.1s\n",
      "[CV 2/3] END max_depth=7, min_samples_leaf=1, min_samples_split=2, n_estimators=10; total time=   0.2s\n",
      "[CV 3/3] END max_depth=7, min_samples_leaf=1, min_samples_split=2, n_estimators=10; total time=   0.2s\n",
      "[CV 1/3] END max_depth=7, min_samples_leaf=1, min_samples_split=2, n_estimators=20; total time=   0.2s\n",
      "[CV 2/3] END max_depth=7, min_samples_leaf=1, min_samples_split=2, n_estimators=20; total time=   0.3s\n",
      "[CV 3/3] END max_depth=7, min_samples_leaf=1, min_samples_split=2, n_estimators=20; total time=   0.4s\n",
      "[CV 1/3] END max_depth=7, min_samples_leaf=1, min_samples_split=2, n_estimators=30; total time=   0.2s\n",
      "[CV 2/3] END max_depth=7, min_samples_leaf=1, min_samples_split=2, n_estimators=30; total time=   0.4s\n",
      "[CV 3/3] END max_depth=7, min_samples_leaf=1, min_samples_split=2, n_estimators=30; total time=   0.6s\n",
      "[CV 1/3] END max_depth=7, min_samples_leaf=1, min_samples_split=2, n_estimators=40; total time=   0.3s\n",
      "[CV 2/3] END max_depth=7, min_samples_leaf=1, min_samples_split=2, n_estimators=40; total time=   0.6s\n",
      "[CV 3/3] END max_depth=7, min_samples_leaf=1, min_samples_split=2, n_estimators=40; total time=   0.8s\n",
      "[CV 1/3] END max_depth=7, min_samples_leaf=1, min_samples_split=4, n_estimators=10; total time=   0.1s\n",
      "[CV 2/3] END max_depth=7, min_samples_leaf=1, min_samples_split=4, n_estimators=10; total time=   0.1s\n",
      "[CV 3/3] END max_depth=7, min_samples_leaf=1, min_samples_split=4, n_estimators=10; total time=   0.2s\n",
      "[CV 1/3] END max_depth=7, min_samples_leaf=1, min_samples_split=4, n_estimators=20; total time=   0.1s\n",
      "[CV 2/3] END max_depth=7, min_samples_leaf=1, min_samples_split=4, n_estimators=20; total time=   0.2s\n",
      "[CV 3/3] END max_depth=7, min_samples_leaf=1, min_samples_split=4, n_estimators=20; total time=   0.4s\n",
      "[CV 1/3] END max_depth=7, min_samples_leaf=1, min_samples_split=4, n_estimators=30; total time=   0.2s\n",
      "[CV 2/3] END max_depth=7, min_samples_leaf=1, min_samples_split=4, n_estimators=30; total time=   0.4s\n",
      "[CV 3/3] END max_depth=7, min_samples_leaf=1, min_samples_split=4, n_estimators=30; total time=   0.5s\n",
      "[CV 1/3] END max_depth=7, min_samples_leaf=1, min_samples_split=4, n_estimators=40; total time=   0.3s\n",
      "[CV 2/3] END max_depth=7, min_samples_leaf=1, min_samples_split=4, n_estimators=40; total time=   0.5s\n",
      "[CV 3/3] END max_depth=7, min_samples_leaf=1, min_samples_split=4, n_estimators=40; total time=   0.7s\n",
      "[CV 1/3] END max_depth=7, min_samples_leaf=1, min_samples_split=6, n_estimators=10; total time=   0.1s\n",
      "[CV 2/3] END max_depth=7, min_samples_leaf=1, min_samples_split=6, n_estimators=10; total time=   0.1s\n",
      "[CV 3/3] END max_depth=7, min_samples_leaf=1, min_samples_split=6, n_estimators=10; total time=   0.2s\n",
      "[CV 1/3] END max_depth=7, min_samples_leaf=1, min_samples_split=6, n_estimators=20; total time=   0.1s\n",
      "[CV 2/3] END max_depth=7, min_samples_leaf=1, min_samples_split=6, n_estimators=20; total time=   0.2s\n",
      "[CV 3/3] END max_depth=7, min_samples_leaf=1, min_samples_split=6, n_estimators=20; total time=   0.3s\n",
      "[CV 1/3] END max_depth=7, min_samples_leaf=1, min_samples_split=6, n_estimators=30; total time=   0.2s\n",
      "[CV 2/3] END max_depth=7, min_samples_leaf=1, min_samples_split=6, n_estimators=30; total time=   0.4s\n",
      "[CV 3/3] END max_depth=7, min_samples_leaf=1, min_samples_split=6, n_estimators=30; total time=   0.5s\n",
      "[CV 1/3] END max_depth=7, min_samples_leaf=1, min_samples_split=6, n_estimators=40; total time=   0.3s\n",
      "[CV 2/3] END max_depth=7, min_samples_leaf=1, min_samples_split=6, n_estimators=40; total time=   0.5s\n",
      "[CV 3/3] END max_depth=7, min_samples_leaf=1, min_samples_split=6, n_estimators=40; total time=   0.8s\n",
      "[CV 1/3] END max_depth=7, min_samples_leaf=2, min_samples_split=2, n_estimators=10; total time=   0.1s\n",
      "[CV 2/3] END max_depth=7, min_samples_leaf=2, min_samples_split=2, n_estimators=10; total time=   0.1s\n",
      "[CV 3/3] END max_depth=7, min_samples_leaf=2, min_samples_split=2, n_estimators=10; total time=   0.2s\n",
      "[CV 1/3] END max_depth=7, min_samples_leaf=2, min_samples_split=2, n_estimators=20; total time=   0.1s\n",
      "[CV 2/3] END max_depth=7, min_samples_leaf=2, min_samples_split=2, n_estimators=20; total time=   0.2s\n",
      "[CV 3/3] END max_depth=7, min_samples_leaf=2, min_samples_split=2, n_estimators=20; total time=   0.4s\n",
      "[CV 1/3] END max_depth=7, min_samples_leaf=2, min_samples_split=2, n_estimators=30; total time=   0.2s\n",
      "[CV 2/3] END max_depth=7, min_samples_leaf=2, min_samples_split=2, n_estimators=30; total time=   0.3s\n",
      "[CV 3/3] END max_depth=7, min_samples_leaf=2, min_samples_split=2, n_estimators=30; total time=   0.5s\n",
      "[CV 1/3] END max_depth=7, min_samples_leaf=2, min_samples_split=2, n_estimators=40; total time=   0.3s\n",
      "[CV 2/3] END max_depth=7, min_samples_leaf=2, min_samples_split=2, n_estimators=40; total time=   0.5s\n",
      "[CV 3/3] END max_depth=7, min_samples_leaf=2, min_samples_split=2, n_estimators=40; total time=   0.7s\n",
      "[CV 1/3] END max_depth=7, min_samples_leaf=2, min_samples_split=4, n_estimators=10; total time=   0.1s\n",
      "[CV 2/3] END max_depth=7, min_samples_leaf=2, min_samples_split=4, n_estimators=10; total time=   0.1s\n",
      "[CV 3/3] END max_depth=7, min_samples_leaf=2, min_samples_split=4, n_estimators=10; total time=   0.2s\n",
      "[CV 1/3] END max_depth=7, min_samples_leaf=2, min_samples_split=4, n_estimators=20; total time=   0.1s\n",
      "[CV 2/3] END max_depth=7, min_samples_leaf=2, min_samples_split=4, n_estimators=20; total time=   0.3s\n",
      "[CV 3/3] END max_depth=7, min_samples_leaf=2, min_samples_split=4, n_estimators=20; total time=   0.4s\n",
      "[CV 1/3] END max_depth=7, min_samples_leaf=2, min_samples_split=4, n_estimators=30; total time=   0.2s\n",
      "[CV 2/3] END max_depth=7, min_samples_leaf=2, min_samples_split=4, n_estimators=30; total time=   0.4s\n",
      "[CV 3/3] END max_depth=7, min_samples_leaf=2, min_samples_split=4, n_estimators=30; total time=   0.6s\n",
      "[CV 1/3] END max_depth=7, min_samples_leaf=2, min_samples_split=4, n_estimators=40; total time=   0.3s\n",
      "[CV 2/3] END max_depth=7, min_samples_leaf=2, min_samples_split=4, n_estimators=40; total time=   0.5s\n",
      "[CV 3/3] END max_depth=7, min_samples_leaf=2, min_samples_split=4, n_estimators=40; total time=   0.7s\n",
      "[CV 1/3] END max_depth=7, min_samples_leaf=2, min_samples_split=6, n_estimators=10; total time=   0.1s\n",
      "[CV 2/3] END max_depth=7, min_samples_leaf=2, min_samples_split=6, n_estimators=10; total time=   0.2s\n",
      "[CV 3/3] END max_depth=7, min_samples_leaf=2, min_samples_split=6, n_estimators=10; total time=   0.2s\n",
      "[CV 1/3] END max_depth=7, min_samples_leaf=2, min_samples_split=6, n_estimators=20; total time=   0.1s\n",
      "[CV 2/3] END max_depth=7, min_samples_leaf=2, min_samples_split=6, n_estimators=20; total time=   0.3s\n",
      "[CV 3/3] END max_depth=7, min_samples_leaf=2, min_samples_split=6, n_estimators=20; total time=   0.3s\n",
      "[CV 1/3] END max_depth=7, min_samples_leaf=2, min_samples_split=6, n_estimators=30; total time=   0.2s\n",
      "[CV 2/3] END max_depth=7, min_samples_leaf=2, min_samples_split=6, n_estimators=30; total time=   0.4s\n",
      "[CV 3/3] END max_depth=7, min_samples_leaf=2, min_samples_split=6, n_estimators=30; total time=   0.5s\n",
      "[CV 1/3] END max_depth=7, min_samples_leaf=2, min_samples_split=6, n_estimators=40; total time=   0.3s\n",
      "[CV 2/3] END max_depth=7, min_samples_leaf=2, min_samples_split=6, n_estimators=40; total time=   0.5s\n",
      "[CV 3/3] END max_depth=7, min_samples_leaf=2, min_samples_split=6, n_estimators=40; total time=   0.7s\n",
      "[CV 1/3] END max_depth=7, min_samples_leaf=3, min_samples_split=2, n_estimators=10; total time=   0.1s\n",
      "[CV 2/3] END max_depth=7, min_samples_leaf=3, min_samples_split=2, n_estimators=10; total time=   0.1s\n",
      "[CV 3/3] END max_depth=7, min_samples_leaf=3, min_samples_split=2, n_estimators=10; total time=   0.2s\n",
      "[CV 1/3] END max_depth=7, min_samples_leaf=3, min_samples_split=2, n_estimators=20; total time=   0.1s\n",
      "[CV 2/3] END max_depth=7, min_samples_leaf=3, min_samples_split=2, n_estimators=20; total time=   0.2s\n",
      "[CV 3/3] END max_depth=7, min_samples_leaf=3, min_samples_split=2, n_estimators=20; total time=   0.4s\n",
      "[CV 1/3] END max_depth=7, min_samples_leaf=3, min_samples_split=2, n_estimators=30; total time=   0.2s\n",
      "[CV 2/3] END max_depth=7, min_samples_leaf=3, min_samples_split=2, n_estimators=30; total time=   0.4s\n",
      "[CV 3/3] END max_depth=7, min_samples_leaf=3, min_samples_split=2, n_estimators=30; total time=   0.6s\n",
      "[CV 1/3] END max_depth=7, min_samples_leaf=3, min_samples_split=2, n_estimators=40; total time=   0.3s\n",
      "[CV 2/3] END max_depth=7, min_samples_leaf=3, min_samples_split=2, n_estimators=40; total time=   0.5s\n",
      "[CV 3/3] END max_depth=7, min_samples_leaf=3, min_samples_split=2, n_estimators=40; total time=   0.7s\n",
      "[CV 1/3] END max_depth=7, min_samples_leaf=3, min_samples_split=4, n_estimators=10; total time=   0.1s\n",
      "[CV 2/3] END max_depth=7, min_samples_leaf=3, min_samples_split=4, n_estimators=10; total time=   0.1s\n",
      "[CV 3/3] END max_depth=7, min_samples_leaf=3, min_samples_split=4, n_estimators=10; total time=   0.2s\n",
      "[CV 1/3] END max_depth=7, min_samples_leaf=3, min_samples_split=4, n_estimators=20; total time=   0.1s\n",
      "[CV 2/3] END max_depth=7, min_samples_leaf=3, min_samples_split=4, n_estimators=20; total time=   0.2s\n",
      "[CV 3/3] END max_depth=7, min_samples_leaf=3, min_samples_split=4, n_estimators=20; total time=   0.3s\n",
      "[CV 1/3] END max_depth=7, min_samples_leaf=3, min_samples_split=4, n_estimators=30; total time=   0.2s\n",
      "[CV 2/3] END max_depth=7, min_samples_leaf=3, min_samples_split=4, n_estimators=30; total time=   0.4s\n",
      "[CV 3/3] END max_depth=7, min_samples_leaf=3, min_samples_split=4, n_estimators=30; total time=   0.5s\n",
      "[CV 1/3] END max_depth=7, min_samples_leaf=3, min_samples_split=4, n_estimators=40; total time=   0.3s\n",
      "[CV 2/3] END max_depth=7, min_samples_leaf=3, min_samples_split=4, n_estimators=40; total time=   0.5s\n",
      "[CV 3/3] END max_depth=7, min_samples_leaf=3, min_samples_split=4, n_estimators=40; total time=   0.7s\n",
      "[CV 1/3] END max_depth=7, min_samples_leaf=3, min_samples_split=6, n_estimators=10; total time=   0.1s\n",
      "[CV 2/3] END max_depth=7, min_samples_leaf=3, min_samples_split=6, n_estimators=10; total time=   0.1s\n",
      "[CV 3/3] END max_depth=7, min_samples_leaf=3, min_samples_split=6, n_estimators=10; total time=   0.2s\n",
      "[CV 1/3] END max_depth=7, min_samples_leaf=3, min_samples_split=6, n_estimators=20; total time=   0.1s\n",
      "[CV 2/3] END max_depth=7, min_samples_leaf=3, min_samples_split=6, n_estimators=20; total time=   0.3s\n",
      "[CV 3/3] END max_depth=7, min_samples_leaf=3, min_samples_split=6, n_estimators=20; total time=   0.4s\n",
      "[CV 1/3] END max_depth=7, min_samples_leaf=3, min_samples_split=6, n_estimators=30; total time=   0.2s\n",
      "[CV 2/3] END max_depth=7, min_samples_leaf=3, min_samples_split=6, n_estimators=30; total time=   0.4s\n",
      "[CV 3/3] END max_depth=7, min_samples_leaf=3, min_samples_split=6, n_estimators=30; total time=   0.5s\n",
      "[CV 1/3] END max_depth=7, min_samples_leaf=3, min_samples_split=6, n_estimators=40; total time=   0.3s\n",
      "[CV 2/3] END max_depth=7, min_samples_leaf=3, min_samples_split=6, n_estimators=40; total time=   0.5s\n",
      "[CV 3/3] END max_depth=7, min_samples_leaf=3, min_samples_split=6, n_estimators=40; total time=   0.8s\n",
      "[CV 1/3] END max_depth=7, min_samples_leaf=4, min_samples_split=2, n_estimators=10; total time=   0.1s\n",
      "[CV 2/3] END max_depth=7, min_samples_leaf=4, min_samples_split=2, n_estimators=10; total time=   0.1s\n",
      "[CV 3/3] END max_depth=7, min_samples_leaf=4, min_samples_split=2, n_estimators=10; total time=   0.2s\n",
      "[CV 1/3] END max_depth=7, min_samples_leaf=4, min_samples_split=2, n_estimators=20; total time=   0.1s\n",
      "[CV 2/3] END max_depth=7, min_samples_leaf=4, min_samples_split=2, n_estimators=20; total time=   0.3s\n",
      "[CV 3/3] END max_depth=7, min_samples_leaf=4, min_samples_split=2, n_estimators=20; total time=   0.4s\n",
      "[CV 1/3] END max_depth=7, min_samples_leaf=4, min_samples_split=2, n_estimators=30; total time=   0.2s\n",
      "[CV 2/3] END max_depth=7, min_samples_leaf=4, min_samples_split=2, n_estimators=30; total time=   0.4s\n",
      "[CV 3/3] END max_depth=7, min_samples_leaf=4, min_samples_split=2, n_estimators=30; total time=   0.5s\n",
      "[CV 1/3] END max_depth=7, min_samples_leaf=4, min_samples_split=2, n_estimators=40; total time=   0.3s\n",
      "[CV 2/3] END max_depth=7, min_samples_leaf=4, min_samples_split=2, n_estimators=40; total time=   0.5s\n",
      "[CV 3/3] END max_depth=7, min_samples_leaf=4, min_samples_split=2, n_estimators=40; total time=   0.7s\n",
      "[CV 1/3] END max_depth=7, min_samples_leaf=4, min_samples_split=4, n_estimators=10; total time=   0.1s\n",
      "[CV 2/3] END max_depth=7, min_samples_leaf=4, min_samples_split=4, n_estimators=10; total time=   0.1s\n",
      "[CV 3/3] END max_depth=7, min_samples_leaf=4, min_samples_split=4, n_estimators=10; total time=   0.2s\n",
      "[CV 1/3] END max_depth=7, min_samples_leaf=4, min_samples_split=4, n_estimators=20; total time=   0.1s\n",
      "[CV 2/3] END max_depth=7, min_samples_leaf=4, min_samples_split=4, n_estimators=20; total time=   0.3s\n",
      "[CV 3/3] END max_depth=7, min_samples_leaf=4, min_samples_split=4, n_estimators=20; total time=   0.4s\n",
      "[CV 1/3] END max_depth=7, min_samples_leaf=4, min_samples_split=4, n_estimators=30; total time=   0.2s\n",
      "[CV 2/3] END max_depth=7, min_samples_leaf=4, min_samples_split=4, n_estimators=30; total time=   0.4s\n",
      "[CV 3/3] END max_depth=7, min_samples_leaf=4, min_samples_split=4, n_estimators=30; total time=   0.6s\n",
      "[CV 1/3] END max_depth=7, min_samples_leaf=4, min_samples_split=4, n_estimators=40; total time=   0.3s\n",
      "[CV 2/3] END max_depth=7, min_samples_leaf=4, min_samples_split=4, n_estimators=40; total time=   0.5s\n",
      "[CV 3/3] END max_depth=7, min_samples_leaf=4, min_samples_split=4, n_estimators=40; total time=   0.7s\n",
      "[CV 1/3] END max_depth=7, min_samples_leaf=4, min_samples_split=6, n_estimators=10; total time=   0.1s\n",
      "[CV 2/3] END max_depth=7, min_samples_leaf=4, min_samples_split=6, n_estimators=10; total time=   0.1s\n",
      "[CV 3/3] END max_depth=7, min_samples_leaf=4, min_samples_split=6, n_estimators=10; total time=   0.2s\n",
      "[CV 1/3] END max_depth=7, min_samples_leaf=4, min_samples_split=6, n_estimators=20; total time=   0.2s\n",
      "[CV 2/3] END max_depth=7, min_samples_leaf=4, min_samples_split=6, n_estimators=20; total time=   0.3s\n",
      "[CV 3/3] END max_depth=7, min_samples_leaf=4, min_samples_split=6, n_estimators=20; total time=   0.4s\n",
      "[CV 1/3] END max_depth=7, min_samples_leaf=4, min_samples_split=6, n_estimators=30; total time=   0.2s\n",
      "[CV 2/3] END max_depth=7, min_samples_leaf=4, min_samples_split=6, n_estimators=30; total time=   0.4s\n",
      "[CV 3/3] END max_depth=7, min_samples_leaf=4, min_samples_split=6, n_estimators=30; total time=   0.6s\n",
      "[CV 1/3] END max_depth=7, min_samples_leaf=4, min_samples_split=6, n_estimators=40; total time=   0.3s\n",
      "[CV 2/3] END max_depth=7, min_samples_leaf=4, min_samples_split=6, n_estimators=40; total time=   0.5s\n",
      "[CV 3/3] END max_depth=7, min_samples_leaf=4, min_samples_split=6, n_estimators=40; total time=   0.8s\n",
      "[CV 1/3] END max_depth=7, min_samples_leaf=5, min_samples_split=2, n_estimators=10; total time=   0.1s\n",
      "[CV 2/3] END max_depth=7, min_samples_leaf=5, min_samples_split=2, n_estimators=10; total time=   0.1s\n",
      "[CV 3/3] END max_depth=7, min_samples_leaf=5, min_samples_split=2, n_estimators=10; total time=   0.2s\n",
      "[CV 1/3] END max_depth=7, min_samples_leaf=5, min_samples_split=2, n_estimators=20; total time=   0.2s\n",
      "[CV 2/3] END max_depth=7, min_samples_leaf=5, min_samples_split=2, n_estimators=20; total time=   0.3s\n",
      "[CV 3/3] END max_depth=7, min_samples_leaf=5, min_samples_split=2, n_estimators=20; total time=   0.4s\n",
      "[CV 1/3] END max_depth=7, min_samples_leaf=5, min_samples_split=2, n_estimators=30; total time=   0.2s\n",
      "[CV 2/3] END max_depth=7, min_samples_leaf=5, min_samples_split=2, n_estimators=30; total time=   0.4s\n",
      "[CV 3/3] END max_depth=7, min_samples_leaf=5, min_samples_split=2, n_estimators=30; total time=   0.5s\n",
      "[CV 1/3] END max_depth=7, min_samples_leaf=5, min_samples_split=2, n_estimators=40; total time=   0.3s\n",
      "[CV 2/3] END max_depth=7, min_samples_leaf=5, min_samples_split=2, n_estimators=40; total time=   0.5s\n",
      "[CV 3/3] END max_depth=7, min_samples_leaf=5, min_samples_split=2, n_estimators=40; total time=   0.8s\n",
      "[CV 1/3] END max_depth=7, min_samples_leaf=5, min_samples_split=4, n_estimators=10; total time=   0.1s\n",
      "[CV 2/3] END max_depth=7, min_samples_leaf=5, min_samples_split=4, n_estimators=10; total time=   0.1s\n",
      "[CV 3/3] END max_depth=7, min_samples_leaf=5, min_samples_split=4, n_estimators=10; total time=   0.2s\n",
      "[CV 1/3] END max_depth=7, min_samples_leaf=5, min_samples_split=4, n_estimators=20; total time=   0.1s\n",
      "[CV 2/3] END max_depth=7, min_samples_leaf=5, min_samples_split=4, n_estimators=20; total time=   0.2s\n",
      "[CV 3/3] END max_depth=7, min_samples_leaf=5, min_samples_split=4, n_estimators=20; total time=   0.4s\n",
      "[CV 1/3] END max_depth=7, min_samples_leaf=5, min_samples_split=4, n_estimators=30; total time=   0.2s\n",
      "[CV 2/3] END max_depth=7, min_samples_leaf=5, min_samples_split=4, n_estimators=30; total time=   0.4s\n",
      "[CV 3/3] END max_depth=7, min_samples_leaf=5, min_samples_split=4, n_estimators=30; total time=   0.5s\n",
      "[CV 1/3] END max_depth=7, min_samples_leaf=5, min_samples_split=4, n_estimators=40; total time=   0.3s\n",
      "[CV 2/3] END max_depth=7, min_samples_leaf=5, min_samples_split=4, n_estimators=40; total time=   0.5s\n",
      "[CV 3/3] END max_depth=7, min_samples_leaf=5, min_samples_split=4, n_estimators=40; total time=   0.7s\n",
      "[CV 1/3] END max_depth=7, min_samples_leaf=5, min_samples_split=6, n_estimators=10; total time=   0.1s\n",
      "[CV 2/3] END max_depth=7, min_samples_leaf=5, min_samples_split=6, n_estimators=10; total time=   0.2s\n",
      "[CV 3/3] END max_depth=7, min_samples_leaf=5, min_samples_split=6, n_estimators=10; total time=   0.2s\n",
      "[CV 1/3] END max_depth=7, min_samples_leaf=5, min_samples_split=6, n_estimators=20; total time=   0.1s\n",
      "[CV 2/3] END max_depth=7, min_samples_leaf=5, min_samples_split=6, n_estimators=20; total time=   0.2s\n",
      "[CV 3/3] END max_depth=7, min_samples_leaf=5, min_samples_split=6, n_estimators=20; total time=   0.4s\n",
      "[CV 1/3] END max_depth=7, min_samples_leaf=5, min_samples_split=6, n_estimators=30; total time=   0.2s\n",
      "[CV 2/3] END max_depth=7, min_samples_leaf=5, min_samples_split=6, n_estimators=30; total time=   0.4s\n",
      "[CV 3/3] END max_depth=7, min_samples_leaf=5, min_samples_split=6, n_estimators=30; total time=   0.6s\n",
      "[CV 1/3] END max_depth=7, min_samples_leaf=5, min_samples_split=6, n_estimators=40; total time=   0.3s\n",
      "[CV 2/3] END max_depth=7, min_samples_leaf=5, min_samples_split=6, n_estimators=40; total time=   0.5s\n",
      "[CV 3/3] END max_depth=7, min_samples_leaf=5, min_samples_split=6, n_estimators=40; total time=   0.8s\n",
      "[CV 1/3] END max_depth=7, min_samples_leaf=6, min_samples_split=2, n_estimators=10; total time=   0.1s\n",
      "[CV 2/3] END max_depth=7, min_samples_leaf=6, min_samples_split=2, n_estimators=10; total time=   0.1s\n",
      "[CV 3/3] END max_depth=7, min_samples_leaf=6, min_samples_split=2, n_estimators=10; total time=   0.2s\n",
      "[CV 1/3] END max_depth=7, min_samples_leaf=6, min_samples_split=2, n_estimators=20; total time=   0.1s\n",
      "[CV 2/3] END max_depth=7, min_samples_leaf=6, min_samples_split=2, n_estimators=20; total time=   0.2s\n",
      "[CV 3/3] END max_depth=7, min_samples_leaf=6, min_samples_split=2, n_estimators=20; total time=   0.4s\n",
      "[CV 1/3] END max_depth=7, min_samples_leaf=6, min_samples_split=2, n_estimators=30; total time=   0.2s\n",
      "[CV 2/3] END max_depth=7, min_samples_leaf=6, min_samples_split=2, n_estimators=30; total time=   0.4s\n",
      "[CV 3/3] END max_depth=7, min_samples_leaf=6, min_samples_split=2, n_estimators=30; total time=   0.6s\n",
      "[CV 1/3] END max_depth=7, min_samples_leaf=6, min_samples_split=2, n_estimators=40; total time=   0.3s\n",
      "[CV 2/3] END max_depth=7, min_samples_leaf=6, min_samples_split=2, n_estimators=40; total time=   0.5s\n",
      "[CV 3/3] END max_depth=7, min_samples_leaf=6, min_samples_split=2, n_estimators=40; total time=   0.7s\n",
      "[CV 1/3] END max_depth=7, min_samples_leaf=6, min_samples_split=4, n_estimators=10; total time=   0.1s\n",
      "[CV 2/3] END max_depth=7, min_samples_leaf=6, min_samples_split=4, n_estimators=10; total time=   0.1s\n",
      "[CV 3/3] END max_depth=7, min_samples_leaf=6, min_samples_split=4, n_estimators=10; total time=   0.2s\n",
      "[CV 1/3] END max_depth=7, min_samples_leaf=6, min_samples_split=4, n_estimators=20; total time=   0.1s\n",
      "[CV 2/3] END max_depth=7, min_samples_leaf=6, min_samples_split=4, n_estimators=20; total time=   0.3s\n",
      "[CV 3/3] END max_depth=7, min_samples_leaf=6, min_samples_split=4, n_estimators=20; total time=   0.4s\n",
      "[CV 1/3] END max_depth=7, min_samples_leaf=6, min_samples_split=4, n_estimators=30; total time=   0.2s\n",
      "[CV 2/3] END max_depth=7, min_samples_leaf=6, min_samples_split=4, n_estimators=30; total time=   0.4s\n",
      "[CV 3/3] END max_depth=7, min_samples_leaf=6, min_samples_split=4, n_estimators=30; total time=   0.5s\n",
      "[CV 1/3] END max_depth=7, min_samples_leaf=6, min_samples_split=4, n_estimators=40; total time=   0.3s\n",
      "[CV 2/3] END max_depth=7, min_samples_leaf=6, min_samples_split=4, n_estimators=40; total time=   0.5s\n",
      "[CV 3/3] END max_depth=7, min_samples_leaf=6, min_samples_split=4, n_estimators=40; total time=   0.8s\n",
      "[CV 1/3] END max_depth=7, min_samples_leaf=6, min_samples_split=6, n_estimators=10; total time=   0.1s\n",
      "[CV 2/3] END max_depth=7, min_samples_leaf=6, min_samples_split=6, n_estimators=10; total time=   0.2s\n",
      "[CV 3/3] END max_depth=7, min_samples_leaf=6, min_samples_split=6, n_estimators=10; total time=   0.2s\n",
      "[CV 1/3] END max_depth=7, min_samples_leaf=6, min_samples_split=6, n_estimators=20; total time=   0.1s\n",
      "[CV 2/3] END max_depth=7, min_samples_leaf=6, min_samples_split=6, n_estimators=20; total time=   0.2s\n",
      "[CV 3/3] END max_depth=7, min_samples_leaf=6, min_samples_split=6, n_estimators=20; total time=   0.4s\n",
      "[CV 1/3] END max_depth=7, min_samples_leaf=6, min_samples_split=6, n_estimators=30; total time=   0.2s\n",
      "[CV 2/3] END max_depth=7, min_samples_leaf=6, min_samples_split=6, n_estimators=30; total time=   0.4s\n",
      "[CV 3/3] END max_depth=7, min_samples_leaf=6, min_samples_split=6, n_estimators=30; total time=   0.6s\n",
      "[CV 1/3] END max_depth=7, min_samples_leaf=6, min_samples_split=6, n_estimators=40; total time=   0.3s\n",
      "[CV 2/3] END max_depth=7, min_samples_leaf=6, min_samples_split=6, n_estimators=40; total time=   0.5s\n",
      "[CV 3/3] END max_depth=7, min_samples_leaf=6, min_samples_split=6, n_estimators=40; total time=   0.8s\n",
      "[CV 1/3] END max_depth=7, min_samples_leaf=7, min_samples_split=2, n_estimators=10; total time=   0.1s\n",
      "[CV 2/3] END max_depth=7, min_samples_leaf=7, min_samples_split=2, n_estimators=10; total time=   0.2s\n",
      "[CV 3/3] END max_depth=7, min_samples_leaf=7, min_samples_split=2, n_estimators=10; total time=   0.2s\n",
      "[CV 1/3] END max_depth=7, min_samples_leaf=7, min_samples_split=2, n_estimators=20; total time=   0.2s\n",
      "[CV 2/3] END max_depth=7, min_samples_leaf=7, min_samples_split=2, n_estimators=20; total time=   0.3s\n",
      "[CV 3/3] END max_depth=7, min_samples_leaf=7, min_samples_split=2, n_estimators=20; total time=   0.4s\n",
      "[CV 1/3] END max_depth=7, min_samples_leaf=7, min_samples_split=2, n_estimators=30; total time=   0.2s\n",
      "[CV 2/3] END max_depth=7, min_samples_leaf=7, min_samples_split=2, n_estimators=30; total time=   0.4s\n",
      "[CV 3/3] END max_depth=7, min_samples_leaf=7, min_samples_split=2, n_estimators=30; total time=   0.5s\n",
      "[CV 1/3] END max_depth=7, min_samples_leaf=7, min_samples_split=2, n_estimators=40; total time=   0.3s\n",
      "[CV 2/3] END max_depth=7, min_samples_leaf=7, min_samples_split=2, n_estimators=40; total time=   0.5s\n",
      "[CV 3/3] END max_depth=7, min_samples_leaf=7, min_samples_split=2, n_estimators=40; total time=   0.7s\n",
      "[CV 1/3] END max_depth=7, min_samples_leaf=7, min_samples_split=4, n_estimators=10; total time=   0.1s\n",
      "[CV 2/3] END max_depth=7, min_samples_leaf=7, min_samples_split=4, n_estimators=10; total time=   0.1s\n",
      "[CV 3/3] END max_depth=7, min_samples_leaf=7, min_samples_split=4, n_estimators=10; total time=   0.2s\n",
      "[CV 1/3] END max_depth=7, min_samples_leaf=7, min_samples_split=4, n_estimators=20; total time=   0.1s\n",
      "[CV 2/3] END max_depth=7, min_samples_leaf=7, min_samples_split=4, n_estimators=20; total time=   0.3s\n",
      "[CV 3/3] END max_depth=7, min_samples_leaf=7, min_samples_split=4, n_estimators=20; total time=   0.4s\n",
      "[CV 1/3] END max_depth=7, min_samples_leaf=7, min_samples_split=4, n_estimators=30; total time=   0.2s\n",
      "[CV 2/3] END max_depth=7, min_samples_leaf=7, min_samples_split=4, n_estimators=30; total time=   0.4s\n",
      "[CV 3/3] END max_depth=7, min_samples_leaf=7, min_samples_split=4, n_estimators=30; total time=   0.7s\n",
      "[CV 1/3] END max_depth=7, min_samples_leaf=7, min_samples_split=4, n_estimators=40; total time=   0.3s\n",
      "[CV 2/3] END max_depth=7, min_samples_leaf=7, min_samples_split=4, n_estimators=40; total time=   0.7s\n",
      "[CV 3/3] END max_depth=7, min_samples_leaf=7, min_samples_split=4, n_estimators=40; total time=   1.0s\n",
      "[CV 1/3] END max_depth=7, min_samples_leaf=7, min_samples_split=6, n_estimators=10; total time=   0.1s\n",
      "[CV 2/3] END max_depth=7, min_samples_leaf=7, min_samples_split=6, n_estimators=10; total time=   0.1s\n",
      "[CV 3/3] END max_depth=7, min_samples_leaf=7, min_samples_split=6, n_estimators=10; total time=   0.2s\n",
      "[CV 1/3] END max_depth=7, min_samples_leaf=7, min_samples_split=6, n_estimators=20; total time=   0.2s\n",
      "[CV 2/3] END max_depth=7, min_samples_leaf=7, min_samples_split=6, n_estimators=20; total time=   0.3s\n",
      "[CV 3/3] END max_depth=7, min_samples_leaf=7, min_samples_split=6, n_estimators=20; total time=   0.5s\n",
      "[CV 1/3] END max_depth=7, min_samples_leaf=7, min_samples_split=6, n_estimators=30; total time=   0.2s\n",
      "[CV 2/3] END max_depth=7, min_samples_leaf=7, min_samples_split=6, n_estimators=30; total time=   0.4s\n",
      "[CV 3/3] END max_depth=7, min_samples_leaf=7, min_samples_split=6, n_estimators=30; total time=   0.6s\n",
      "[CV 1/3] END max_depth=7, min_samples_leaf=7, min_samples_split=6, n_estimators=40; total time=   0.3s\n",
      "[CV 2/3] END max_depth=7, min_samples_leaf=7, min_samples_split=6, n_estimators=40; total time=   0.5s\n",
      "[CV 3/3] END max_depth=7, min_samples_leaf=7, min_samples_split=6, n_estimators=40; total time=   0.8s\n"
     ]
    },
    {
     "data": {
      "text/plain": [
       "{'max_depth': 7,\n",
       " 'min_samples_leaf': 4,\n",
       " 'min_samples_split': 2,\n",
       " 'n_estimators': 40}"
      ]
     },
     "execution_count": 20,
     "metadata": {},
     "output_type": "execute_result"
    }
   ],
   "source": [
    "time_cv = TimeSeriesSplit(n_splits=3).split(features_train)\n",
    "model_rf = RandomForestRegressor(random_state=RANDOM_STATE)\n",
    "parametr = {'n_estimators' : range(10, 41, 10),\n",
    "            'max_depth' : range(1, 8, 2),\n",
    "            'min_samples_leaf' : range(1,8),\n",
    "            'min_samples_split' : range(2,8,2)}\n",
    "\n",
    "grid_rs = GridSearchCV(model_rf,\n",
    "                     parametr,\n",
    "                     scoring='neg_root_mean_squared_error',\n",
    "                     cv=time_cv,\n",
    "                     verbose=3,\n",
    "                     n_jobs=-1)\n",
    "grid_rs.fit(features_train, target_train)\n",
    "\n",
    "rmse_rf = grid_rs.best_score_*-1\n",
    "grid_rs.best_params_"
   ]
  },
  {
   "cell_type": "markdown",
   "metadata": {},
   "source": [
    "{'max_depth': 7,\n",
    " 'min_samples_leaf': 3,\n",
    " 'min_samples_split': 2,\n",
    " 'n_estimators': 40}"
   ]
  },
  {
   "cell_type": "markdown",
   "metadata": {},
   "source": [
    "### LightGBM"
   ]
  },
  {
   "cell_type": "code",
   "execution_count": 21,
   "metadata": {},
   "outputs": [
    {
     "name": "stdout",
     "output_type": "stream",
     "text": [
      "Fitting 3 folds for each of 48 candidates, totalling 144 fits\n",
      "[CV 1/3] END ....max_depth=1, n_estimators=10, num_leaves=20; total time=   6.4s\n",
      "[CV 2/3] END ....max_depth=1, n_estimators=10, num_leaves=20; total time=   6.8s\n",
      "[CV 3/3] END ....max_depth=1, n_estimators=10, num_leaves=20; total time=   6.7s\n",
      "[CV 1/3] END ....max_depth=1, n_estimators=10, num_leaves=40; total time=   6.0s\n",
      "[CV 2/3] END ....max_depth=1, n_estimators=10, num_leaves=40; total time=   7.2s\n",
      "[CV 3/3] END ....max_depth=1, n_estimators=10, num_leaves=40; total time=   6.7s\n",
      "[CV 1/3] END ....max_depth=1, n_estimators=10, num_leaves=60; total time=   5.4s\n",
      "[CV 2/3] END ....max_depth=1, n_estimators=10, num_leaves=60; total time=   6.3s\n",
      "[CV 3/3] END ....max_depth=1, n_estimators=10, num_leaves=60; total time=   7.2s\n",
      "[CV 1/3] END ....max_depth=1, n_estimators=20, num_leaves=20; total time=   9.0s\n",
      "[CV 2/3] END ....max_depth=1, n_estimators=20, num_leaves=20; total time=  12.1s\n",
      "[CV 3/3] END ....max_depth=1, n_estimators=20, num_leaves=20; total time=  12.8s\n",
      "[CV 1/3] END ....max_depth=1, n_estimators=20, num_leaves=40; total time=  10.1s\n",
      "[CV 2/3] END ....max_depth=1, n_estimators=20, num_leaves=40; total time=  12.7s\n",
      "[CV 3/3] END ....max_depth=1, n_estimators=20, num_leaves=40; total time=  12.8s\n",
      "[CV 1/3] END ....max_depth=1, n_estimators=20, num_leaves=60; total time=  10.0s\n",
      "[CV 2/3] END ....max_depth=1, n_estimators=20, num_leaves=60; total time=  12.9s\n",
      "[CV 3/3] END ....max_depth=1, n_estimators=20, num_leaves=60; total time=  12.9s\n",
      "[CV 1/3] END ....max_depth=1, n_estimators=30, num_leaves=20; total time=  14.7s\n",
      "[CV 2/3] END ....max_depth=1, n_estimators=30, num_leaves=20; total time=  18.8s\n",
      "[CV 3/3] END ....max_depth=1, n_estimators=30, num_leaves=20; total time=  18.4s\n",
      "[CV 1/3] END ....max_depth=1, n_estimators=30, num_leaves=40; total time=  14.7s\n",
      "[CV 2/3] END ....max_depth=1, n_estimators=30, num_leaves=40; total time=  19.3s\n",
      "[CV 3/3] END ....max_depth=1, n_estimators=30, num_leaves=40; total time=  18.9s\n",
      "[CV 1/3] END ....max_depth=1, n_estimators=30, num_leaves=60; total time=  15.1s\n",
      "[CV 2/3] END ....max_depth=1, n_estimators=30, num_leaves=60; total time=  18.7s\n",
      "[CV 3/3] END ....max_depth=1, n_estimators=30, num_leaves=60; total time=  18.5s\n",
      "[CV 1/3] END ....max_depth=1, n_estimators=40, num_leaves=20; total time=  19.0s\n",
      "[CV 2/3] END ....max_depth=1, n_estimators=40, num_leaves=20; total time=  24.0s\n",
      "[CV 3/3] END ....max_depth=1, n_estimators=40, num_leaves=20; total time=  24.3s\n",
      "[CV 1/3] END ....max_depth=1, n_estimators=40, num_leaves=40; total time=  19.4s\n",
      "[CV 2/3] END ....max_depth=1, n_estimators=40, num_leaves=40; total time=  24.5s\n",
      "[CV 3/3] END ....max_depth=1, n_estimators=40, num_leaves=40; total time=  24.2s\n",
      "[CV 1/3] END ....max_depth=1, n_estimators=40, num_leaves=60; total time=  19.2s\n",
      "[CV 2/3] END ....max_depth=1, n_estimators=40, num_leaves=60; total time=  24.8s\n",
      "[CV 3/3] END ....max_depth=1, n_estimators=40, num_leaves=60; total time=  25.2s\n",
      "[CV 1/3] END ....max_depth=3, n_estimators=10, num_leaves=20; total time=  16.9s\n",
      "[CV 2/3] END ....max_depth=3, n_estimators=10, num_leaves=20; total time=  18.9s\n",
      "[CV 3/3] END ....max_depth=3, n_estimators=10, num_leaves=20; total time=  18.9s\n",
      "[CV 1/3] END ....max_depth=3, n_estimators=10, num_leaves=40; total time=  19.0s\n",
      "[CV 2/3] END ....max_depth=3, n_estimators=10, num_leaves=40; total time=  18.7s\n",
      "[CV 3/3] END ....max_depth=3, n_estimators=10, num_leaves=40; total time=  19.5s\n",
      "[CV 1/3] END ....max_depth=3, n_estimators=10, num_leaves=60; total time=  16.7s\n",
      "[CV 2/3] END ....max_depth=3, n_estimators=10, num_leaves=60; total time=  18.1s\n",
      "[CV 3/3] END ....max_depth=3, n_estimators=10, num_leaves=60; total time=  17.5s\n",
      "[CV 1/3] END ....max_depth=3, n_estimators=20, num_leaves=20; total time=  30.1s\n",
      "[CV 2/3] END ....max_depth=3, n_estimators=20, num_leaves=20; total time=  33.8s\n",
      "[CV 3/3] END ....max_depth=3, n_estimators=20, num_leaves=20; total time=  34.3s\n",
      "[CV 1/3] END ....max_depth=3, n_estimators=20, num_leaves=40; total time=  32.0s\n",
      "[CV 2/3] END ....max_depth=3, n_estimators=20, num_leaves=40; total time=  37.3s\n",
      "[CV 3/3] END ....max_depth=3, n_estimators=20, num_leaves=40; total time=  38.4s\n",
      "[CV 1/3] END ....max_depth=3, n_estimators=20, num_leaves=60; total time=  32.2s\n",
      "[CV 2/3] END ....max_depth=3, n_estimators=20, num_leaves=60; total time=  33.6s\n",
      "[CV 3/3] END ....max_depth=3, n_estimators=20, num_leaves=60; total time=  35.1s\n",
      "[CV 1/3] END ....max_depth=3, n_estimators=30, num_leaves=20; total time=  54.8s\n",
      "[CV 2/3] END ....max_depth=3, n_estimators=30, num_leaves=20; total time=  53.3s\n",
      "[CV 3/3] END ....max_depth=3, n_estimators=30, num_leaves=20; total time=  54.7s\n",
      "[CV 1/3] END ....max_depth=3, n_estimators=30, num_leaves=40; total time=  47.2s\n",
      "[CV 2/3] END ....max_depth=3, n_estimators=30, num_leaves=40; total time=  54.3s\n",
      "[CV 3/3] END ....max_depth=3, n_estimators=30, num_leaves=40; total time=  53.9s\n",
      "[CV 1/3] END ....max_depth=3, n_estimators=30, num_leaves=60; total time=  47.7s\n",
      "[CV 2/3] END ....max_depth=3, n_estimators=30, num_leaves=60; total time=  59.6s\n",
      "[CV 3/3] END ....max_depth=3, n_estimators=30, num_leaves=60; total time=  52.9s\n",
      "[CV 1/3] END ....max_depth=3, n_estimators=40, num_leaves=20; total time=  59.5s\n",
      "[CV 2/3] END ....max_depth=3, n_estimators=40, num_leaves=20; total time= 1.1min\n",
      "[CV 3/3] END ....max_depth=3, n_estimators=40, num_leaves=20; total time= 1.2min\n",
      "[CV 1/3] END ....max_depth=3, n_estimators=40, num_leaves=40; total time= 1.0min\n",
      "[CV 2/3] END ....max_depth=3, n_estimators=40, num_leaves=40; total time= 1.1min\n",
      "[CV 3/3] END ....max_depth=3, n_estimators=40, num_leaves=40; total time= 1.2min\n",
      "[CV 1/3] END ....max_depth=3, n_estimators=40, num_leaves=60; total time=  59.1s\n",
      "[CV 2/3] END ....max_depth=3, n_estimators=40, num_leaves=60; total time= 1.2min\n",
      "[CV 3/3] END ....max_depth=3, n_estimators=40, num_leaves=60; total time= 1.2min\n",
      "[CV 1/3] END ....max_depth=5, n_estimators=10, num_leaves=20; total time=  40.7s\n",
      "[CV 2/3] END ....max_depth=5, n_estimators=10, num_leaves=20; total time=  50.6s\n",
      "[CV 3/3] END ....max_depth=5, n_estimators=10, num_leaves=20; total time=  47.2s\n",
      "[CV 1/3] END ....max_depth=5, n_estimators=10, num_leaves=40; total time=  41.0s\n",
      "[CV 2/3] END ....max_depth=5, n_estimators=10, num_leaves=40; total time=  50.4s\n",
      "[CV 3/3] END ....max_depth=5, n_estimators=10, num_leaves=40; total time=  55.4s\n",
      "[CV 1/3] END ....max_depth=5, n_estimators=10, num_leaves=60; total time=  38.6s\n",
      "[CV 2/3] END ....max_depth=5, n_estimators=10, num_leaves=60; total time=  50.8s\n",
      "[CV 3/3] END ....max_depth=5, n_estimators=10, num_leaves=60; total time=  56.4s\n",
      "[CV 1/3] END ....max_depth=5, n_estimators=20, num_leaves=20; total time= 1.3min\n",
      "[CV 2/3] END ....max_depth=5, n_estimators=20, num_leaves=20; total time= 1.5min\n",
      "[CV 3/3] END ....max_depth=5, n_estimators=20, num_leaves=20; total time= 1.5min\n",
      "[CV 1/3] END ....max_depth=5, n_estimators=20, num_leaves=40; total time= 1.3min\n",
      "[CV 2/3] END ....max_depth=5, n_estimators=20, num_leaves=40; total time= 1.7min\n",
      "[CV 3/3] END ....max_depth=5, n_estimators=20, num_leaves=40; total time= 1.8min\n",
      "[CV 1/3] END ....max_depth=5, n_estimators=20, num_leaves=60; total time= 1.6min\n",
      "[CV 2/3] END ....max_depth=5, n_estimators=20, num_leaves=60; total time= 1.7min\n",
      "[CV 3/3] END ....max_depth=5, n_estimators=20, num_leaves=60; total time= 1.8min\n",
      "[CV 1/3] END ....max_depth=5, n_estimators=30, num_leaves=20; total time= 1.7min\n",
      "[CV 2/3] END ....max_depth=5, n_estimators=30, num_leaves=20; total time= 2.1min\n",
      "[CV 3/3] END ....max_depth=5, n_estimators=30, num_leaves=20; total time= 2.2min\n",
      "[CV 1/3] END ....max_depth=5, n_estimators=30, num_leaves=40; total time= 1.3min\n",
      "[CV 2/3] END ....max_depth=5, n_estimators=30, num_leaves=40; total time= 1.6min\n",
      "[CV 3/3] END ....max_depth=5, n_estimators=30, num_leaves=40; total time= 2.6min\n",
      "[CV 1/3] END ....max_depth=5, n_estimators=30, num_leaves=60; total time= 1.8min\n",
      "[CV 2/3] END ....max_depth=5, n_estimators=30, num_leaves=60; total time= 2.3min\n",
      "[CV 3/3] END ....max_depth=5, n_estimators=30, num_leaves=60; total time= 2.6min\n",
      "[CV 1/3] END ....max_depth=5, n_estimators=40, num_leaves=20; total time= 2.3min\n",
      "[CV 2/3] END ....max_depth=5, n_estimators=40, num_leaves=20; total time= 2.8min\n",
      "[CV 3/3] END ....max_depth=5, n_estimators=40, num_leaves=20; total time= 2.9min\n",
      "[CV 1/3] END ....max_depth=5, n_estimators=40, num_leaves=40; total time= 2.4min\n",
      "[CV 2/3] END ....max_depth=5, n_estimators=40, num_leaves=40; total time= 3.0min\n",
      "[CV 3/3] END ....max_depth=5, n_estimators=40, num_leaves=40; total time= 3.2min\n",
      "[CV 1/3] END ....max_depth=5, n_estimators=40, num_leaves=60; total time= 2.4min\n",
      "[CV 2/3] END ....max_depth=5, n_estimators=40, num_leaves=60; total time= 3.1min\n",
      "[CV 3/3] END ....max_depth=5, n_estimators=40, num_leaves=60; total time= 3.3min\n",
      "[CV 1/3] END ....max_depth=7, n_estimators=10, num_leaves=20; total time=  46.9s\n",
      "[CV 2/3] END ....max_depth=7, n_estimators=10, num_leaves=20; total time=  50.7s\n",
      "[CV 3/3] END ....max_depth=7, n_estimators=10, num_leaves=20; total time=  50.0s\n",
      "[CV 1/3] END ....max_depth=7, n_estimators=10, num_leaves=40; total time= 1.0min\n",
      "[CV 2/3] END ....max_depth=7, n_estimators=10, num_leaves=40; total time= 1.5min\n",
      "[CV 3/3] END ....max_depth=7, n_estimators=10, num_leaves=40; total time= 1.5min\n",
      "[CV 1/3] END ....max_depth=7, n_estimators=10, num_leaves=60; total time= 1.1min\n",
      "[CV 2/3] END ....max_depth=7, n_estimators=10, num_leaves=60; total time= 1.8min\n",
      "[CV 3/3] END ....max_depth=7, n_estimators=10, num_leaves=60; total time= 2.0min\n",
      "[CV 1/3] END ....max_depth=7, n_estimators=20, num_leaves=20; total time= 1.5min\n",
      "[CV 2/3] END ....max_depth=7, n_estimators=20, num_leaves=20; total time= 1.6min\n",
      "[CV 3/3] END ....max_depth=7, n_estimators=20, num_leaves=20; total time= 1.5min\n",
      "[CV 1/3] END ....max_depth=7, n_estimators=20, num_leaves=40; total time= 2.0min\n",
      "[CV 2/3] END ....max_depth=7, n_estimators=20, num_leaves=40; total time= 2.9min\n",
      "[CV 3/3] END ....max_depth=7, n_estimators=20, num_leaves=40; total time= 3.0min\n",
      "[CV 1/3] END ....max_depth=7, n_estimators=20, num_leaves=60; total time= 2.0min\n",
      "[CV 2/3] END ....max_depth=7, n_estimators=20, num_leaves=60; total time= 3.4min\n",
      "[CV 3/3] END ....max_depth=7, n_estimators=20, num_leaves=60; total time= 3.8min\n",
      "[CV 1/3] END ....max_depth=7, n_estimators=30, num_leaves=20; total time= 2.1min\n",
      "[CV 2/3] END ....max_depth=7, n_estimators=30, num_leaves=20; total time= 1.7min\n",
      "[CV 3/3] END ....max_depth=7, n_estimators=30, num_leaves=20; total time= 2.5min\n",
      "[CV 1/3] END ....max_depth=7, n_estimators=30, num_leaves=40; total time= 2.8min\n",
      "[CV 2/3] END ....max_depth=7, n_estimators=30, num_leaves=40; total time= 4.1min\n",
      "[CV 3/3] END ....max_depth=7, n_estimators=30, num_leaves=40; total time= 4.2min\n",
      "[CV 1/3] END ....max_depth=7, n_estimators=30, num_leaves=60; total time= 2.8min\n",
      "[CV 2/3] END ....max_depth=7, n_estimators=30, num_leaves=60; total time= 4.7min\n",
      "[CV 3/3] END ....max_depth=7, n_estimators=30, num_leaves=60; total time= 5.7min\n",
      "[CV 1/3] END ....max_depth=7, n_estimators=40, num_leaves=20; total time= 3.0min\n",
      "[CV 2/3] END ....max_depth=7, n_estimators=40, num_leaves=20; total time= 3.2min\n",
      "[CV 3/3] END ....max_depth=7, n_estimators=40, num_leaves=20; total time= 3.3min\n",
      "[CV 1/3] END ....max_depth=7, n_estimators=40, num_leaves=40; total time= 3.5min\n",
      "[CV 2/3] END ....max_depth=7, n_estimators=40, num_leaves=40; total time= 5.0min\n",
      "[CV 3/3] END ....max_depth=7, n_estimators=40, num_leaves=40; total time= 4.8min\n",
      "[CV 1/3] END ....max_depth=7, n_estimators=40, num_leaves=60; total time= 3.7min\n",
      "[CV 2/3] END ....max_depth=7, n_estimators=40, num_leaves=60; total time= 5.6min\n",
      "[CV 3/3] END ....max_depth=7, n_estimators=40, num_leaves=60; total time= 4.0min\n"
     ]
    },
    {
     "data": {
      "text/plain": [
       "{'max_depth': 7, 'n_estimators': 40, 'num_leaves': 40}"
      ]
     },
     "execution_count": 21,
     "metadata": {},
     "output_type": "execute_result"
    }
   ],
   "source": [
    "time_cv = TimeSeriesSplit(n_splits=3).split(features_train)\n",
    "model_lgbm = lgb.LGBMRegressor(random_state = RANDOM_STATE)\n",
    "parametr = {'n_estimators' : range(10, 41, 10),\n",
    "            'max_depth' : range(1, 8, 2),\n",
    "            'num_leaves' : range(20,80,20)}\n",
    "\n",
    "grid_lgbm = GridSearchCV(model_lgbm,\n",
    "                     parametr,\n",
    "                     scoring='neg_root_mean_squared_error',\n",
    "                     cv=time_cv,\n",
    "                     verbose=3,\n",
    "                     n_jobs=-1)\n",
    "grid_lgbm.fit(features_train, target_train)\n",
    "rmse_lgbd = grid_lgbm.best_score_*-1\n",
    "grid_lgbm.best_params_"
   ]
  },
  {
   "cell_type": "code",
   "execution_count": 22,
   "metadata": {},
   "outputs": [
    {
     "data": {
      "text/html": [
       "<div>\n",
       "<style scoped>\n",
       "    .dataframe tbody tr th:only-of-type {\n",
       "        vertical-align: middle;\n",
       "    }\n",
       "\n",
       "    .dataframe tbody tr th {\n",
       "        vertical-align: top;\n",
       "    }\n",
       "\n",
       "    .dataframe thead th {\n",
       "        text-align: right;\n",
       "    }\n",
       "</style>\n",
       "<table border=\"1\" class=\"dataframe\">\n",
       "  <thead>\n",
       "    <tr style=\"text-align: right;\">\n",
       "      <th></th>\n",
       "      <th>RMSE</th>\n",
       "    </tr>\n",
       "  </thead>\n",
       "  <tbody>\n",
       "    <tr>\n",
       "      <th>Линейная регрессия</th>\n",
       "      <td>31.456775</td>\n",
       "    </tr>\n",
       "    <tr>\n",
       "      <th>Случайный лес</th>\n",
       "      <td>29.126381</td>\n",
       "    </tr>\n",
       "    <tr>\n",
       "      <th>LightGBM</th>\n",
       "      <td>27.334237</td>\n",
       "    </tr>\n",
       "  </tbody>\n",
       "</table>\n",
       "</div>"
      ],
      "text/plain": [
       "                         RMSE\n",
       "Линейная регрессия  31.456775\n",
       "Случайный лес       29.126381\n",
       "LightGBM            27.334237"
      ]
     },
     "execution_count": 22,
     "metadata": {},
     "output_type": "execute_result"
    }
   ],
   "source": [
    "pd.DataFrame({'RMSE':[cv_lr['test_score'].mean()*-1, rmse_rf, rmse_lgbd]}, index=['Линейная регрессия', 'Случайный лес', 'LightGBM'])"
   ]
  },
  {
   "cell_type": "markdown",
   "metadata": {},
   "source": [
    "<b>Вывод</b>Определены гиперпараметры, выбрана лучшая модель LightGBM, приведена таблица сравнений. LightGBM на кросс-валидации выдаёт rmse=25.54"
   ]
  },
  {
   "cell_type": "markdown",
   "metadata": {},
   "source": [
    "## Тестирование"
   ]
  },
  {
   "cell_type": "markdown",
   "metadata": {},
   "source": [
    "Функция для сравнения графиков"
   ]
  },
  {
   "cell_type": "code",
   "execution_count": 23,
   "metadata": {},
   "outputs": [],
   "source": [
    "def graphics(model,target_test, features_test):\n",
    "    pd.DataFrame({'target':target_test, 'predict':model.predict(features_test)}).plot(figsize=(15,8))"
   ]
  },
  {
   "cell_type": "markdown",
   "metadata": {},
   "source": [
    "### LightGBM"
   ]
  },
  {
   "cell_type": "code",
   "execution_count": 24,
   "metadata": {},
   "outputs": [
    {
     "data": {
      "text/plain": [
       "'RMSE на тестовой выборке=45.29954970078116'"
      ]
     },
     "metadata": {},
     "output_type": "display_data"
    },
    {
     "data": {
      "image/png": "[encoded data removed]",
      "text/plain": [
       "<Figure size 1080x576 with 1 Axes>"
      ]
     },
     "metadata": {
      "needs_background": "light"
     },
     "output_type": "display_data"
    }
   ],
   "source": [
    "model_lgbm = lgb.LGBMRegressor(random_state = RANDOM_STATE, max_depth=7, n_estimators=40, num_leaves=40)\n",
    "model_lgbm.fit(features_train, target_train)\n",
    "display(f'RMSE на тестовой выборке={mean_squared_error(target_test, model_lgbm.predict(features_test))**0.5}')\n",
    "graphics(model_lgbm, target_test, features_test)"
   ]
  },
  {
   "cell_type": "markdown",
   "metadata": {},
   "source": [
    "<b>Вывод:</b>\n",
    "   - на первом этапе произведена выгрузка и анализ данных\n",
    "   - на втором этапе произведён анализ данных по времени, опеределены тренды и сезонность. Наблюбдается спад заказов в ночное время и пик макисмума в вечернее время\n",
    "   - подобраны гиперпараметры и обучены модели LinearRegrtession, RandomForest, LightGBM, выбрана лучшая модель по значению rmse\n",
    "   -  лучшая модель  протестированна на тренировочной выбрке LightGbm rmse=45.29"
   ]
  },
  {
   "cell_type": "code",
   "execution_count": null,
   "metadata": {},
   "outputs": [],
   "source": []
  }
 ],
 "metadata": {
  "ExecuteTimeLog": [
   {
    "duration": 413,
    "start_time": "2023-03-20T19:21:15.100Z"
   },
   {
    "duration": 101,
    "start_time": "2023-03-20T19:21:46.677Z"
   },
   {
    "duration": 53,
    "start_time": "2023-03-20T19:22:30.222Z"
   },
   {
    "duration": 5,
    "start_time": "2023-03-20T19:22:59.358Z"
   },
   {
    "duration": 70,
    "start_time": "2023-03-20T19:23:09.607Z"
   },
   {
    "duration": 7,
    "start_time": "2023-03-20T19:23:14.815Z"
   },
   {
    "duration": 14,
    "start_time": "2023-03-20T19:24:28.659Z"
   },
   {
    "duration": 8,
    "start_time": "2023-03-20T19:24:30.898Z"
   },
   {
    "duration": 8,
    "start_time": "2023-03-20T19:24:55.708Z"
   },
   {
    "duration": 9,
    "start_time": "2023-03-20T19:25:57.735Z"
   },
   {
    "duration": 9,
    "start_time": "2023-03-20T19:26:46.799Z"
   },
   {
    "duration": 10,
    "start_time": "2023-03-20T19:27:11.487Z"
   },
   {
    "duration": 3,
    "start_time": "2023-03-20T19:27:19.135Z"
   },
   {
    "duration": 74,
    "start_time": "2023-03-20T19:27:19.518Z"
   },
   {
    "duration": 4,
    "start_time": "2023-03-20T19:27:20.057Z"
   },
   {
    "duration": 6,
    "start_time": "2023-03-20T19:27:20.728Z"
   },
   {
    "duration": 11,
    "start_time": "2023-03-20T19:27:21.751Z"
   },
   {
    "duration": 420,
    "start_time": "2023-03-20T19:27:29.593Z"
   },
   {
    "duration": 60,
    "start_time": "2023-03-20T19:27:30.016Z"
   },
   {
    "duration": 4,
    "start_time": "2023-03-20T19:27:30.078Z"
   },
   {
    "duration": 19,
    "start_time": "2023-03-20T19:27:30.084Z"
   },
   {
    "duration": 84,
    "start_time": "2023-03-20T19:27:30.105Z"
   },
   {
    "duration": 9,
    "start_time": "2023-03-20T19:27:38.045Z"
   },
   {
    "duration": 451,
    "start_time": "2023-03-20T19:27:43.001Z"
   },
   {
    "duration": 76,
    "start_time": "2023-03-20T19:27:43.454Z"
   },
   {
    "duration": 5,
    "start_time": "2023-03-20T19:27:43.531Z"
   },
   {
    "duration": 11,
    "start_time": "2023-03-20T19:27:43.539Z"
   },
   {
    "duration": 23,
    "start_time": "2023-03-20T19:27:43.552Z"
   },
   {
    "duration": 75,
    "start_time": "2023-03-20T19:30:14.257Z"
   },
   {
    "duration": 395,
    "start_time": "2023-03-20T19:30:18.229Z"
   },
   {
    "duration": 64,
    "start_time": "2023-03-20T19:30:18.626Z"
   },
   {
    "duration": 5,
    "start_time": "2023-03-20T19:30:18.691Z"
   },
   {
    "duration": 17,
    "start_time": "2023-03-20T19:30:18.698Z"
   },
   {
    "duration": 23,
    "start_time": "2023-03-20T19:30:18.718Z"
   },
   {
    "duration": 421,
    "start_time": "2023-03-20T19:30:27.705Z"
   },
   {
    "duration": 63,
    "start_time": "2023-03-20T19:30:28.128Z"
   },
   {
    "duration": 4,
    "start_time": "2023-03-20T19:30:28.193Z"
   },
   {
    "duration": 20,
    "start_time": "2023-03-20T19:30:28.199Z"
   },
   {
    "duration": 19,
    "start_time": "2023-03-20T19:30:28.221Z"
   },
   {
    "duration": 745,
    "start_time": "2023-03-20T19:34:02.093Z"
   },
   {
    "duration": 218,
    "start_time": "2023-03-20T19:34:27.517Z"
   },
   {
    "duration": 476,
    "start_time": "2023-03-21T15:56:14.992Z"
   },
   {
    "duration": 111,
    "start_time": "2023-03-21T15:56:16.309Z"
   },
   {
    "duration": 3,
    "start_time": "2023-03-21T15:56:17.186Z"
   },
   {
    "duration": 6,
    "start_time": "2023-03-21T15:56:17.717Z"
   },
   {
    "duration": 14,
    "start_time": "2023-03-21T15:56:18.894Z"
   },
   {
    "duration": 700,
    "start_time": "2023-03-21T15:56:22.621Z"
   },
   {
    "duration": 257,
    "start_time": "2023-03-21T15:58:41.916Z"
   },
   {
    "duration": 92,
    "start_time": "2023-03-21T16:00:44.525Z"
   },
   {
    "duration": 101,
    "start_time": "2023-03-21T16:04:15.620Z"
   },
   {
    "duration": 7,
    "start_time": "2023-03-21T16:04:22.525Z"
   },
   {
    "duration": 4,
    "start_time": "2023-03-21T16:04:33.777Z"
   },
   {
    "duration": 82,
    "start_time": "2023-03-21T16:06:21.307Z"
   },
   {
    "duration": 6,
    "start_time": "2023-03-21T16:06:31.481Z"
   },
   {
    "duration": 14,
    "start_time": "2023-03-21T16:07:00.912Z"
   },
   {
    "duration": 24,
    "start_time": "2023-03-21T16:07:04.723Z"
   },
   {
    "duration": 263,
    "start_time": "2023-03-21T16:09:42.949Z"
   },
   {
    "duration": 81,
    "start_time": "2023-03-21T16:19:14.594Z"
   },
   {
    "duration": 212,
    "start_time": "2023-03-21T16:19:39.612Z"
   },
   {
    "duration": 78,
    "start_time": "2023-03-21T16:19:49.851Z"
   },
   {
    "duration": 770,
    "start_time": "2023-03-21T16:20:34.687Z"
   },
   {
    "duration": 69,
    "start_time": "2023-03-21T16:20:35.458Z"
   },
   {
    "duration": 5,
    "start_time": "2023-03-21T16:20:35.529Z"
   },
   {
    "duration": 26,
    "start_time": "2023-03-21T16:20:35.536Z"
   },
   {
    "duration": 32,
    "start_time": "2023-03-21T16:20:35.564Z"
   },
   {
    "duration": 375,
    "start_time": "2023-03-21T16:20:35.598Z"
   },
   {
    "duration": 24,
    "start_time": "2023-03-21T16:20:35.975Z"
   },
   {
    "duration": 77,
    "start_time": "2023-03-21T16:20:36.001Z"
   },
   {
    "duration": 79,
    "start_time": "2023-03-21T16:21:27.405Z"
   },
   {
    "duration": 273,
    "start_time": "2023-03-21T16:21:34.402Z"
   },
   {
    "duration": 668,
    "start_time": "2023-03-21T16:21:53.793Z"
   },
   {
    "duration": 205,
    "start_time": "2023-03-21T16:22:08.919Z"
   },
   {
    "duration": 214,
    "start_time": "2023-03-21T16:22:14.302Z"
   },
   {
    "duration": 205,
    "start_time": "2023-03-21T16:22:23.725Z"
   },
   {
    "duration": 217,
    "start_time": "2023-03-21T16:22:30.627Z"
   },
   {
    "duration": 1268,
    "start_time": "2023-03-21T16:23:02.845Z"
   },
   {
    "duration": 64,
    "start_time": "2023-03-21T16:23:04.116Z"
   },
   {
    "duration": 5,
    "start_time": "2023-03-21T16:23:04.182Z"
   },
   {
    "duration": 8,
    "start_time": "2023-03-21T16:23:04.189Z"
   },
   {
    "duration": 24,
    "start_time": "2023-03-21T16:23:04.199Z"
   },
   {
    "duration": 339,
    "start_time": "2023-03-21T16:23:04.226Z"
   },
   {
    "duration": 15,
    "start_time": "2023-03-21T16:23:04.567Z"
   },
   {
    "duration": 304,
    "start_time": "2023-03-21T16:23:04.598Z"
   },
   {
    "duration": 20900,
    "start_time": "2023-03-21T16:29:27.214Z"
   },
   {
    "duration": 21776,
    "start_time": "2023-03-21T16:30:12.293Z"
   },
   {
    "duration": 0,
    "start_time": "2023-03-21T16:30:55.092Z"
   },
   {
    "duration": 12471,
    "start_time": "2023-03-21T16:31:09.815Z"
   },
   {
    "duration": 12097,
    "start_time": "2023-03-21T16:31:32.040Z"
   },
   {
    "duration": 12226,
    "start_time": "2023-03-21T16:32:20.441Z"
   },
   {
    "duration": 1179,
    "start_time": "2023-03-21T16:32:41.246Z"
   },
   {
    "duration": 58,
    "start_time": "2023-03-21T16:32:42.427Z"
   },
   {
    "duration": 4,
    "start_time": "2023-03-21T16:32:42.487Z"
   },
   {
    "duration": 7,
    "start_time": "2023-03-21T16:32:42.493Z"
   },
   {
    "duration": 16,
    "start_time": "2023-03-21T16:32:42.503Z"
   },
   {
    "duration": 279,
    "start_time": "2023-03-21T16:32:42.521Z"
   },
   {
    "duration": 15,
    "start_time": "2023-03-21T16:32:42.802Z"
   },
   {
    "duration": 276,
    "start_time": "2023-03-21T16:32:42.819Z"
   },
   {
    "duration": 11768,
    "start_time": "2023-03-21T16:32:43.097Z"
   },
   {
    "duration": 976,
    "start_time": "2023-03-21T16:37:02.917Z"
   },
   {
    "duration": 1045,
    "start_time": "2023-03-21T16:37:13.902Z"
   },
   {
    "duration": 1352,
    "start_time": "2023-03-21T16:37:23.622Z"
   },
   {
    "duration": 5,
    "start_time": "2023-03-21T16:49:55.023Z"
   },
   {
    "duration": 86,
    "start_time": "2023-03-21T16:50:21.424Z"
   },
   {
    "duration": 13,
    "start_time": "2023-03-21T16:51:20.145Z"
   },
   {
    "duration": 12,
    "start_time": "2023-03-21T16:51:41.746Z"
   },
   {
    "duration": 540,
    "start_time": "2023-03-21T16:52:25.333Z"
   },
   {
    "duration": 561,
    "start_time": "2023-03-21T17:00:52.417Z"
   },
   {
    "duration": 98,
    "start_time": "2023-03-21T17:01:40.007Z"
   },
   {
    "duration": 501,
    "start_time": "2023-03-21T17:16:09.149Z"
   },
   {
    "duration": 397,
    "start_time": "2023-03-21T17:16:15.862Z"
   },
   {
    "duration": 630,
    "start_time": "2023-03-21T17:17:50.199Z"
   },
   {
    "duration": 392,
    "start_time": "2023-03-21T17:17:56.417Z"
   },
   {
    "duration": 566,
    "start_time": "2023-03-21T17:18:07.233Z"
   },
   {
    "duration": 11,
    "start_time": "2023-03-21T17:19:01.785Z"
   },
   {
    "duration": 1231,
    "start_time": "2023-03-21T17:19:06.607Z"
   },
   {
    "duration": 58,
    "start_time": "2023-03-21T17:19:07.840Z"
   },
   {
    "duration": 4,
    "start_time": "2023-03-21T17:19:07.900Z"
   },
   {
    "duration": 8,
    "start_time": "2023-03-21T17:19:07.906Z"
   },
   {
    "duration": 15,
    "start_time": "2023-03-21T17:19:07.917Z"
   },
   {
    "duration": 333,
    "start_time": "2023-03-21T17:19:07.933Z"
   },
   {
    "duration": 30,
    "start_time": "2023-03-21T17:19:08.267Z"
   },
   {
    "duration": 298,
    "start_time": "2023-03-21T17:19:08.300Z"
   },
   {
    "duration": 890,
    "start_time": "2023-03-21T17:19:08.599Z"
   },
   {
    "duration": 5,
    "start_time": "2023-03-21T17:19:09.490Z"
   },
   {
    "duration": 664,
    "start_time": "2023-03-21T17:19:09.497Z"
   },
   {
    "duration": 4,
    "start_time": "2023-03-21T17:19:10.163Z"
   },
   {
    "duration": 146,
    "start_time": "2023-03-21T17:19:10.169Z"
   },
   {
    "duration": 21,
    "start_time": "2023-03-21T17:19:15.825Z"
   },
   {
    "duration": 3,
    "start_time": "2023-03-21T17:19:24.307Z"
   },
   {
    "duration": 37,
    "start_time": "2023-03-21T17:19:24.694Z"
   },
   {
    "duration": 1393,
    "start_time": "2023-03-21T17:30:03.982Z"
   },
   {
    "duration": 1628,
    "start_time": "2023-03-21T17:30:08.123Z"
   },
   {
    "duration": 59,
    "start_time": "2023-03-21T17:30:09.753Z"
   },
   {
    "duration": 4,
    "start_time": "2023-03-21T17:30:09.814Z"
   },
   {
    "duration": 21,
    "start_time": "2023-03-21T17:30:09.820Z"
   },
   {
    "duration": 31,
    "start_time": "2023-03-21T17:30:09.842Z"
   },
   {
    "duration": 300,
    "start_time": "2023-03-21T17:30:09.875Z"
   },
   {
    "duration": 26,
    "start_time": "2023-03-21T17:30:10.177Z"
   },
   {
    "duration": 389,
    "start_time": "2023-03-21T17:30:10.205Z"
   },
   {
    "duration": 920,
    "start_time": "2023-03-21T17:30:10.596Z"
   },
   {
    "duration": 5,
    "start_time": "2023-03-21T17:30:11.519Z"
   },
   {
    "duration": 627,
    "start_time": "2023-03-21T17:30:11.525Z"
   },
   {
    "duration": 5,
    "start_time": "2023-03-21T17:30:12.154Z"
   },
   {
    "duration": 62,
    "start_time": "2023-03-21T17:30:12.160Z"
   },
   {
    "duration": 2,
    "start_time": "2023-03-21T17:30:12.224Z"
   },
   {
    "duration": 3,
    "start_time": "2023-03-21T17:30:49.419Z"
   },
   {
    "duration": 5,
    "start_time": "2023-03-21T17:32:24.591Z"
   },
   {
    "duration": 1753,
    "start_time": "2023-03-21T17:36:47.796Z"
   },
   {
    "duration": 70,
    "start_time": "2023-03-21T17:36:49.552Z"
   },
   {
    "duration": 8,
    "start_time": "2023-03-21T17:36:49.624Z"
   },
   {
    "duration": 18,
    "start_time": "2023-03-21T17:36:49.635Z"
   },
   {
    "duration": 23,
    "start_time": "2023-03-21T17:36:49.657Z"
   },
   {
    "duration": 335,
    "start_time": "2023-03-21T17:36:49.682Z"
   },
   {
    "duration": 22,
    "start_time": "2023-03-21T17:36:50.018Z"
   },
   {
    "duration": 564,
    "start_time": "2023-03-21T17:36:50.043Z"
   },
   {
    "duration": 1055,
    "start_time": "2023-03-21T17:36:50.610Z"
   },
   {
    "duration": 6,
    "start_time": "2023-03-21T17:36:51.667Z"
   },
   {
    "duration": 658,
    "start_time": "2023-03-21T17:36:51.675Z"
   },
   {
    "duration": 5,
    "start_time": "2023-03-21T17:36:52.335Z"
   },
   {
    "duration": 77,
    "start_time": "2023-03-21T17:36:52.343Z"
   },
   {
    "duration": 3,
    "start_time": "2023-03-21T17:36:52.424Z"
   },
   {
    "duration": 9,
    "start_time": "2023-03-21T17:36:52.429Z"
   },
   {
    "duration": 9,
    "start_time": "2023-03-21T17:36:52.441Z"
   },
   {
    "duration": 73,
    "start_time": "2023-03-21T17:36:52.452Z"
   },
   {
    "duration": 366,
    "start_time": "2023-03-21T17:36:58.631Z"
   },
   {
    "duration": 254,
    "start_time": "2023-03-21T17:37:07.648Z"
   },
   {
    "duration": 122,
    "start_time": "2023-03-21T17:38:19.114Z"
   },
   {
    "duration": 1573,
    "start_time": "2023-03-21T17:38:24.502Z"
   },
   {
    "duration": 60,
    "start_time": "2023-03-21T17:38:26.077Z"
   },
   {
    "duration": 4,
    "start_time": "2023-03-21T17:38:26.139Z"
   },
   {
    "duration": 22,
    "start_time": "2023-03-21T17:38:26.145Z"
   },
   {
    "duration": 17,
    "start_time": "2023-03-21T17:38:26.170Z"
   },
   {
    "duration": 314,
    "start_time": "2023-03-21T17:38:26.189Z"
   },
   {
    "duration": 20,
    "start_time": "2023-03-21T17:38:26.505Z"
   },
   {
    "duration": 372,
    "start_time": "2023-03-21T17:38:26.527Z"
   },
   {
    "duration": 912,
    "start_time": "2023-03-21T17:38:26.901Z"
   },
   {
    "duration": 5,
    "start_time": "2023-03-21T17:38:27.814Z"
   },
   {
    "duration": 585,
    "start_time": "2023-03-21T17:38:27.821Z"
   },
   {
    "duration": 5,
    "start_time": "2023-03-21T17:38:28.408Z"
   },
   {
    "duration": 58,
    "start_time": "2023-03-21T17:38:28.414Z"
   },
   {
    "duration": 3,
    "start_time": "2023-03-21T17:38:28.475Z"
   },
   {
    "duration": 21,
    "start_time": "2023-03-21T17:38:28.479Z"
   },
   {
    "duration": 9,
    "start_time": "2023-03-21T17:38:28.503Z"
   },
   {
    "duration": 685,
    "start_time": "2023-03-21T17:38:28.515Z"
   },
   {
    "duration": 1763,
    "start_time": "2023-03-21T17:44:39.019Z"
   },
   {
    "duration": 74,
    "start_time": "2023-03-21T17:44:40.784Z"
   },
   {
    "duration": 4,
    "start_time": "2023-03-21T17:44:40.863Z"
   },
   {
    "duration": 14,
    "start_time": "2023-03-21T17:44:40.869Z"
   },
   {
    "duration": 44,
    "start_time": "2023-03-21T17:44:40.885Z"
   },
   {
    "duration": 324,
    "start_time": "2023-03-21T17:44:40.930Z"
   },
   {
    "duration": 15,
    "start_time": "2023-03-21T17:44:41.255Z"
   },
   {
    "duration": 305,
    "start_time": "2023-03-21T17:44:41.272Z"
   },
   {
    "duration": 1041,
    "start_time": "2023-03-21T17:44:41.580Z"
   },
   {
    "duration": 5,
    "start_time": "2023-03-21T17:44:42.623Z"
   },
   {
    "duration": 668,
    "start_time": "2023-03-21T17:44:42.629Z"
   },
   {
    "duration": 7,
    "start_time": "2023-03-21T17:44:43.299Z"
   },
   {
    "duration": 66,
    "start_time": "2023-03-21T17:44:43.308Z"
   },
   {
    "duration": 3,
    "start_time": "2023-03-21T17:44:43.376Z"
   },
   {
    "duration": 7,
    "start_time": "2023-03-21T17:44:43.380Z"
   },
   {
    "duration": 13,
    "start_time": "2023-03-21T17:44:43.389Z"
   },
   {
    "duration": 620,
    "start_time": "2023-03-21T17:44:43.404Z"
   },
   {
    "duration": 150,
    "start_time": "2023-03-21T17:44:44.034Z"
   },
   {
    "duration": 0,
    "start_time": "2023-03-21T17:44:44.186Z"
   },
   {
    "duration": 0,
    "start_time": "2023-03-21T17:44:44.187Z"
   },
   {
    "duration": 162,
    "start_time": "2023-03-21T17:44:54.395Z"
   },
   {
    "duration": 1946,
    "start_time": "2023-03-21T17:45:48.298Z"
   },
   {
    "duration": 58,
    "start_time": "2023-03-21T17:45:50.246Z"
   },
   {
    "duration": 5,
    "start_time": "2023-03-21T17:45:50.306Z"
   },
   {
    "duration": 18,
    "start_time": "2023-03-21T17:45:50.313Z"
   },
   {
    "duration": 14,
    "start_time": "2023-03-21T17:45:50.333Z"
   },
   {
    "duration": 372,
    "start_time": "2023-03-21T17:45:50.349Z"
   },
   {
    "duration": 16,
    "start_time": "2023-03-21T17:45:50.723Z"
   },
   {
    "duration": 319,
    "start_time": "2023-03-21T17:45:50.741Z"
   },
   {
    "duration": 1114,
    "start_time": "2023-03-21T17:45:51.063Z"
   },
   {
    "duration": 4,
    "start_time": "2023-03-21T17:45:52.179Z"
   },
   {
    "duration": 621,
    "start_time": "2023-03-21T17:45:52.185Z"
   },
   {
    "duration": 5,
    "start_time": "2023-03-21T17:45:52.811Z"
   },
   {
    "duration": 55,
    "start_time": "2023-03-21T17:45:52.818Z"
   },
   {
    "duration": 3,
    "start_time": "2023-03-21T17:45:52.875Z"
   },
   {
    "duration": 22,
    "start_time": "2023-03-21T17:45:52.879Z"
   },
   {
    "duration": 21,
    "start_time": "2023-03-21T17:45:52.903Z"
   },
   {
    "duration": 484,
    "start_time": "2023-03-21T17:45:52.926Z"
   },
   {
    "duration": 227,
    "start_time": "2023-03-21T17:45:53.412Z"
   },
   {
    "duration": 0,
    "start_time": "2023-03-21T17:45:53.641Z"
   },
   {
    "duration": 0,
    "start_time": "2023-03-21T17:45:53.642Z"
   },
   {
    "duration": 5,
    "start_time": "2023-03-21T17:46:38.196Z"
   },
   {
    "duration": 39042,
    "start_time": "2023-03-21T17:48:12.983Z"
   },
   {
    "duration": 64880,
    "start_time": "2023-03-21T17:49:37.319Z"
   },
   {
    "duration": 1521,
    "start_time": "2023-03-21T17:53:47.996Z"
   },
   {
    "duration": 58,
    "start_time": "2023-03-21T17:53:49.519Z"
   },
   {
    "duration": 6,
    "start_time": "2023-03-21T17:53:49.579Z"
   },
   {
    "duration": 26,
    "start_time": "2023-03-21T17:53:49.587Z"
   },
   {
    "duration": 17,
    "start_time": "2023-03-21T17:53:49.616Z"
   },
   {
    "duration": 291,
    "start_time": "2023-03-21T17:53:49.635Z"
   },
   {
    "duration": 20,
    "start_time": "2023-03-21T17:53:49.928Z"
   },
   {
    "duration": 288,
    "start_time": "2023-03-21T17:53:49.950Z"
   },
   {
    "duration": 1069,
    "start_time": "2023-03-21T17:53:50.240Z"
   },
   {
    "duration": 5,
    "start_time": "2023-03-21T17:53:51.312Z"
   },
   {
    "duration": 600,
    "start_time": "2023-03-21T17:53:51.320Z"
   },
   {
    "duration": 5,
    "start_time": "2023-03-21T17:53:51.923Z"
   },
   {
    "duration": 60,
    "start_time": "2023-03-21T17:53:51.931Z"
   },
   {
    "duration": 2,
    "start_time": "2023-03-21T17:53:52.000Z"
   },
   {
    "duration": 8,
    "start_time": "2023-03-21T17:53:52.005Z"
   },
   {
    "duration": 20,
    "start_time": "2023-03-21T17:53:52.015Z"
   },
   {
    "duration": 473,
    "start_time": "2023-03-21T17:53:52.037Z"
   },
   {
    "duration": 330790,
    "start_time": "2023-03-21T17:53:52.512Z"
   },
   {
    "duration": 2,
    "start_time": "2023-03-21T17:59:23.304Z"
   },
   {
    "duration": 79,
    "start_time": "2023-03-21T17:59:23.308Z"
   },
   {
    "duration": 0,
    "start_time": "2023-03-21T17:59:23.389Z"
   },
   {
    "duration": 125,
    "start_time": "2023-03-21T18:02:32.792Z"
   },
   {
    "duration": 380108,
    "start_time": "2023-03-21T18:02:41.404Z"
   },
   {
    "duration": 1548,
    "start_time": "2023-03-21T18:13:32.977Z"
   },
   {
    "duration": 58,
    "start_time": "2023-03-21T18:13:34.528Z"
   },
   {
    "duration": 4,
    "start_time": "2023-03-21T18:13:34.587Z"
   },
   {
    "duration": 11,
    "start_time": "2023-03-21T18:13:34.594Z"
   },
   {
    "duration": 20,
    "start_time": "2023-03-21T18:13:34.606Z"
   },
   {
    "duration": 327,
    "start_time": "2023-03-21T18:13:34.628Z"
   },
   {
    "duration": 17,
    "start_time": "2023-03-21T18:13:34.957Z"
   },
   {
    "duration": 330,
    "start_time": "2023-03-21T18:13:34.976Z"
   },
   {
    "duration": 1012,
    "start_time": "2023-03-21T18:13:35.309Z"
   },
   {
    "duration": 5,
    "start_time": "2023-03-21T18:13:36.325Z"
   },
   {
    "duration": 616,
    "start_time": "2023-03-21T18:13:36.332Z"
   },
   {
    "duration": 5,
    "start_time": "2023-03-21T18:13:36.951Z"
   },
   {
    "duration": 68,
    "start_time": "2023-03-21T18:13:36.958Z"
   },
   {
    "duration": 4,
    "start_time": "2023-03-21T18:13:37.029Z"
   },
   {
    "duration": 36,
    "start_time": "2023-03-21T18:13:37.035Z"
   },
   {
    "duration": 8,
    "start_time": "2023-03-21T18:13:37.073Z"
   },
   {
    "duration": 538,
    "start_time": "2023-03-21T18:13:37.083Z"
   },
   {
    "duration": 334582,
    "start_time": "2023-03-21T18:13:37.698Z"
   },
   {
    "duration": 70716,
    "start_time": "2023-03-21T18:19:12.282Z"
   },
   {
    "duration": 8,
    "start_time": "2023-03-21T18:20:23.000Z"
   },
   {
    "duration": 105,
    "start_time": "2023-03-21T18:20:23.010Z"
   },
   {
    "duration": 0,
    "start_time": "2023-03-21T18:20:23.117Z"
   },
   {
    "duration": 71,
    "start_time": "2023-03-21T18:21:26.139Z"
   },
   {
    "duration": 130,
    "start_time": "2023-03-21T18:21:59.161Z"
   },
   {
    "duration": 1194,
    "start_time": "2023-03-21T18:22:06.405Z"
   },
   {
    "duration": 1490,
    "start_time": "2023-03-21T18:22:23.021Z"
   },
   {
    "duration": 12,
    "start_time": "2023-03-21T18:23:55.076Z"
   },
   {
    "duration": 300,
    "start_time": "2023-03-21T18:23:59.872Z"
   },
   {
    "duration": 90,
    "start_time": "2023-03-21T18:24:57.537Z"
   },
   {
    "duration": 4,
    "start_time": "2023-03-21T18:25:09.283Z"
   },
   {
    "duration": 3,
    "start_time": "2023-03-21T18:30:27.781Z"
   },
   {
    "duration": 589,
    "start_time": "2023-03-21T18:30:29.116Z"
   },
   {
    "duration": 11107,
    "start_time": "2023-03-21T18:30:32.579Z"
   },
   {
    "duration": 2902,
    "start_time": "2023-03-21T18:31:09.782Z"
   },
   {
    "duration": 2754,
    "start_time": "2023-03-21T18:31:18.670Z"
   },
   {
    "duration": 1598,
    "start_time": "2023-03-21T18:32:59.004Z"
   },
   {
    "duration": 59,
    "start_time": "2023-03-21T18:33:00.604Z"
   },
   {
    "duration": 5,
    "start_time": "2023-03-21T18:33:00.665Z"
   },
   {
    "duration": 21,
    "start_time": "2023-03-21T18:33:00.671Z"
   },
   {
    "duration": 43,
    "start_time": "2023-03-21T18:33:00.694Z"
   },
   {
    "duration": 295,
    "start_time": "2023-03-21T18:33:00.738Z"
   },
   {
    "duration": 15,
    "start_time": "2023-03-21T18:33:01.035Z"
   },
   {
    "duration": 283,
    "start_time": "2023-03-21T18:33:01.051Z"
   },
   {
    "duration": 1010,
    "start_time": "2023-03-21T18:33:01.335Z"
   },
   {
    "duration": 4,
    "start_time": "2023-03-21T18:33:02.347Z"
   },
   {
    "duration": 624,
    "start_time": "2023-03-21T18:33:02.353Z"
   },
   {
    "duration": 4,
    "start_time": "2023-03-21T18:33:02.979Z"
   },
   {
    "duration": 78,
    "start_time": "2023-03-21T18:33:02.984Z"
   },
   {
    "duration": 3,
    "start_time": "2023-03-21T18:33:03.064Z"
   },
   {
    "duration": 9,
    "start_time": "2023-03-21T18:33:03.068Z"
   },
   {
    "duration": 12,
    "start_time": "2023-03-21T18:33:03.078Z"
   },
   {
    "duration": 309,
    "start_time": "2023-03-21T18:33:03.091Z"
   },
   {
    "duration": 339751,
    "start_time": "2023-03-21T18:33:03.402Z"
   },
   {
    "duration": 278053,
    "start_time": "2023-03-21T18:38:43.154Z"
   },
   {
    "duration": 0,
    "start_time": "2023-03-21T18:43:21.209Z"
   },
   {
    "duration": 0,
    "start_time": "2023-03-21T18:43:21.211Z"
   },
   {
    "duration": 0,
    "start_time": "2023-03-21T18:43:21.212Z"
   },
   {
    "duration": 0,
    "start_time": "2023-03-21T18:43:21.213Z"
   },
   {
    "duration": 0,
    "start_time": "2023-03-21T18:43:21.214Z"
   },
   {
    "duration": 83042,
    "start_time": "2023-03-21T18:44:31.566Z"
   },
   {
    "duration": 10,
    "start_time": "2023-03-21T18:45:59.928Z"
   },
   {
    "duration": 3,
    "start_time": "2023-03-21T18:46:01.928Z"
   },
   {
    "duration": 492,
    "start_time": "2023-03-21T18:46:02.878Z"
   },
   {
    "duration": 2636,
    "start_time": "2023-03-21T18:46:03.881Z"
   },
   {
    "duration": 1642,
    "start_time": "2023-03-21T18:46:06.519Z"
   },
   {
    "duration": 1796,
    "start_time": "2023-03-22T08:49:33.675Z"
   },
   {
    "duration": 109,
    "start_time": "2023-03-22T08:49:35.473Z"
   },
   {
    "duration": 4,
    "start_time": "2023-03-22T08:49:35.584Z"
   },
   {
    "duration": 12,
    "start_time": "2023-03-22T08:49:35.590Z"
   },
   {
    "duration": 21,
    "start_time": "2023-03-22T08:49:35.604Z"
   },
   {
    "duration": 271,
    "start_time": "2023-03-22T08:49:35.627Z"
   },
   {
    "duration": 14,
    "start_time": "2023-03-22T08:49:35.900Z"
   },
   {
    "duration": 223,
    "start_time": "2023-03-22T08:49:35.916Z"
   },
   {
    "duration": 834,
    "start_time": "2023-03-22T08:49:36.141Z"
   },
   {
    "duration": 4,
    "start_time": "2023-03-22T08:49:36.977Z"
   },
   {
    "duration": 496,
    "start_time": "2023-03-22T08:49:36.982Z"
   },
   {
    "duration": 3,
    "start_time": "2023-03-22T08:49:37.480Z"
   },
   {
    "duration": 45,
    "start_time": "2023-03-22T08:49:37.485Z"
   },
   {
    "duration": 3,
    "start_time": "2023-03-22T08:49:37.532Z"
   },
   {
    "duration": 9,
    "start_time": "2023-03-22T08:49:37.536Z"
   },
   {
    "duration": 6,
    "start_time": "2023-03-22T08:49:37.547Z"
   },
   {
    "duration": 618,
    "start_time": "2023-03-22T08:49:37.567Z"
   },
   {
    "duration": 248,
    "start_time": "2023-03-22T08:49:38.187Z"
   },
   {
    "duration": 0,
    "start_time": "2023-03-22T08:49:38.437Z"
   },
   {
    "duration": 0,
    "start_time": "2023-03-22T08:49:38.437Z"
   },
   {
    "duration": 0,
    "start_time": "2023-03-22T08:49:38.438Z"
   },
   {
    "duration": 0,
    "start_time": "2023-03-22T08:49:38.439Z"
   },
   {
    "duration": 4,
    "start_time": "2023-03-22T08:50:18.751Z"
   },
   {
    "duration": 21,
    "start_time": "2023-03-22T08:50:51.559Z"
   },
   {
    "duration": 1930,
    "start_time": "2023-03-22T08:51:10.159Z"
   },
   {
    "duration": 9,
    "start_time": "2023-03-22T08:52:31.312Z"
   },
   {
    "duration": 10,
    "start_time": "2023-03-22T08:52:35.382Z"
   },
   {
    "duration": 560,
    "start_time": "2023-03-22T08:53:49.206Z"
   },
   {
    "duration": 13,
    "start_time": "2023-03-22T08:53:52.478Z"
   },
   {
    "duration": 9,
    "start_time": "2023-03-22T08:54:13.246Z"
   },
   {
    "duration": 12,
    "start_time": "2023-03-22T08:54:26.910Z"
   },
   {
    "duration": 479,
    "start_time": "2023-03-22T08:55:18.693Z"
   },
   {
    "duration": 579,
    "start_time": "2023-03-22T08:59:03.694Z"
   },
   {
    "duration": 499,
    "start_time": "2023-03-22T08:59:08.471Z"
   },
   {
    "duration": 17,
    "start_time": "2023-03-22T09:02:55.263Z"
   },
   {
    "duration": 15,
    "start_time": "2023-03-22T09:03:00.735Z"
   },
   {
    "duration": 405,
    "start_time": "2023-03-22T09:03:08.968Z"
   },
   {
    "duration": 2,
    "start_time": "2023-03-22T09:03:27.927Z"
   },
   {
    "duration": 4,
    "start_time": "2023-03-22T09:03:32.206Z"
   },
   {
    "duration": 450,
    "start_time": "2023-03-22T09:03:35.245Z"
   },
   {
    "duration": 3,
    "start_time": "2023-03-22T09:03:35.798Z"
   },
   {
    "duration": 4,
    "start_time": "2023-03-22T09:03:36.358Z"
   },
   {
    "duration": 469,
    "start_time": "2023-03-22T09:04:11.094Z"
   },
   {
    "duration": 11,
    "start_time": "2023-03-22T09:04:15.358Z"
   },
   {
    "duration": 2,
    "start_time": "2023-03-22T09:04:32.398Z"
   },
   {
    "duration": 3,
    "start_time": "2023-03-22T09:04:33.166Z"
   },
   {
    "duration": 21,
    "start_time": "2023-03-22T09:05:08.919Z"
   },
   {
    "duration": 16,
    "start_time": "2023-03-22T09:05:38.654Z"
   },
   {
    "duration": 15,
    "start_time": "2023-03-22T09:05:45.983Z"
   },
   {
    "duration": 13,
    "start_time": "2023-03-22T09:05:52.894Z"
   },
   {
    "duration": 428,
    "start_time": "2023-03-22T09:05:56.847Z"
   },
   {
    "duration": 15,
    "start_time": "2023-03-22T09:06:15.110Z"
   },
   {
    "duration": 10,
    "start_time": "2023-03-22T09:06:20.481Z"
   },
   {
    "duration": 401,
    "start_time": "2023-03-22T09:06:42.369Z"
   },
   {
    "duration": 5,
    "start_time": "2023-03-22T09:06:55.591Z"
   },
   {
    "duration": 2,
    "start_time": "2023-03-22T09:07:56.898Z"
   },
   {
    "duration": 4,
    "start_time": "2023-03-22T09:08:03.607Z"
   },
   {
    "duration": 261,
    "start_time": "2023-03-22T09:08:06.526Z"
   },
   {
    "duration": 2,
    "start_time": "2023-03-22T09:08:18.142Z"
   },
   {
    "duration": 4,
    "start_time": "2023-03-22T09:08:18.622Z"
   },
   {
    "duration": 12,
    "start_time": "2023-03-22T09:09:02.211Z"
   },
   {
    "duration": 11,
    "start_time": "2023-03-22T09:09:07.429Z"
   },
   {
    "duration": 375,
    "start_time": "2023-03-22T09:09:31.830Z"
   },
   {
    "duration": 290,
    "start_time": "2023-03-22T09:09:47.329Z"
   },
   {
    "duration": 205109,
    "start_time": "2023-03-22T09:09:48.223Z"
   },
   {
    "duration": 215,
    "start_time": "2023-03-22T09:18:45.630Z"
   },
   {
    "duration": 20,
    "start_time": "2023-03-22T09:19:05.838Z"
   },
   {
    "duration": 20964,
    "start_time": "2023-03-22T09:19:11.910Z"
   },
   {
    "duration": 1568075,
    "start_time": "2023-03-22T09:19:34.839Z"
   },
   {
    "duration": 1537,
    "start_time": "2023-03-22T09:46:03.487Z"
   },
   {
    "duration": 81,
    "start_time": "2023-03-22T09:46:05.026Z"
   },
   {
    "duration": 4,
    "start_time": "2023-03-22T09:46:05.109Z"
   },
   {
    "duration": 29,
    "start_time": "2023-03-22T09:46:05.114Z"
   },
   {
    "duration": 70,
    "start_time": "2023-03-22T09:46:05.145Z"
   },
   {
    "duration": 292,
    "start_time": "2023-03-22T09:46:05.217Z"
   },
   {
    "duration": 13,
    "start_time": "2023-03-22T09:46:05.510Z"
   },
   {
    "duration": 376,
    "start_time": "2023-03-22T09:46:05.525Z"
   },
   {
    "duration": 969,
    "start_time": "2023-03-22T09:46:05.903Z"
   },
   {
    "duration": 5,
    "start_time": "2023-03-22T09:46:06.873Z"
   },
   {
    "duration": 598,
    "start_time": "2023-03-22T09:46:06.880Z"
   },
   {
    "duration": 6,
    "start_time": "2023-03-22T09:46:07.480Z"
   },
   {
    "duration": 165,
    "start_time": "2023-03-22T09:46:07.488Z"
   },
   {
    "duration": 0,
    "start_time": "2023-03-22T09:46:07.656Z"
   },
   {
    "duration": 0,
    "start_time": "2023-03-22T09:46:07.657Z"
   },
   {
    "duration": 0,
    "start_time": "2023-03-22T09:46:07.658Z"
   },
   {
    "duration": 0,
    "start_time": "2023-03-22T09:46:07.674Z"
   },
   {
    "duration": 0,
    "start_time": "2023-03-22T09:46:07.682Z"
   },
   {
    "duration": 0,
    "start_time": "2023-03-22T09:46:07.690Z"
   },
   {
    "duration": 0,
    "start_time": "2023-03-22T09:46:07.698Z"
   },
   {
    "duration": 0,
    "start_time": "2023-03-22T09:46:07.703Z"
   },
   {
    "duration": 0,
    "start_time": "2023-03-22T09:46:07.704Z"
   },
   {
    "duration": 3,
    "start_time": "2023-03-22T09:46:35.837Z"
   },
   {
    "duration": 54,
    "start_time": "2023-03-22T09:46:36.682Z"
   },
   {
    "duration": 3,
    "start_time": "2023-03-22T09:46:40.086Z"
   },
   {
    "duration": 5,
    "start_time": "2023-03-22T09:46:40.325Z"
   },
   {
    "duration": 6,
    "start_time": "2023-03-22T09:46:40.637Z"
   },
   {
    "duration": 473,
    "start_time": "2023-03-22T09:46:42.221Z"
   },
   {
    "duration": 208241,
    "start_time": "2023-03-22T09:46:44.084Z"
   },
   {
    "duration": 12123647,
    "start_time": "2023-03-22T09:50:12.327Z"
   },
   {
    "duration": 10,
    "start_time": "2023-03-22T13:12:15.976Z"
   },
   {
    "duration": 9,
    "start_time": "2023-03-22T13:12:15.989Z"
   },
   {
    "duration": 125389,
    "start_time": "2023-03-22T13:12:16.000Z"
   }
  ],
  "kernelspec": {
   "display_name": "Python 3 (ipykernel)",
   "language": "python",
   "name": "python3"
  },
  "language_info": {
   "codemirror_mode": {
    "name": "ipython",
    "version": 3
   },
   "file_extension": ".py",
   "mimetype": "text/x-python",
   "name": "python",
   "nbconvert_exporter": "python",
   "pygments_lexer": "ipython3",
   "version": "3.10.9"
  },
  "toc": {
   "base_numbering": 1,
   "nav_menu": {},
   "number_sections": true,
   "sideBar": true,
   "skip_h1_title": true,
   "title_cell": "Содержание",
   "title_sidebar": "Contents",
   "toc_cell": true,
   "toc_position": {},
   "toc_section_display": true,
   "toc_window_display": false
  }
 },
 "nbformat": 4,
 "nbformat_minor": 2
}
